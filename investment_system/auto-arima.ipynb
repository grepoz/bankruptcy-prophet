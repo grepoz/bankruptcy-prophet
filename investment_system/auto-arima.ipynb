{
 "cells": [
  {
   "cell_type": "code",
   "id": "initial_id",
   "metadata": {
    "collapsed": true,
    "ExecuteTime": {
     "end_time": "2024-09-22T08:39:17.255858Z",
     "start_time": "2024-09-22T08:39:16.130355Z"
    }
   },
   "source": [
    "from pmdarima import auto_arima\n",
    "import pandas as pd"
   ],
   "outputs": [],
   "execution_count": 1
  },
  {
   "metadata": {
    "ExecuteTime": {
     "end_time": "2024-09-22T08:41:55.050671Z",
     "start_time": "2024-09-22T08:41:55.036805Z"
    }
   },
   "cell_type": "code",
   "source": [
    "def get_stock_data(ticker, report_date):\n",
    "    report_date = pd.to_datetime(report_date)\n",
    "    end_date = report_date + pd.DateOffset(days=10)\n",
    "    start_date = report_date - pd.DateOffset(years=1)\n",
    "\n",
    "    end_date = end_date.strftime('%Y-%m-%d')\n",
    "    start_date = start_date.strftime('%Y-%m-%d')\n",
    "\n",
    "    filename = f\"../dataset/close-prices-for-bankrupt-companies/{ticker}_closeprice_gurufocus.csv\"\n",
    "    \n",
    "    stock_close_prices = pd.read_csv(filename)\n",
    "    \n",
    "    stock_data = stock_close_prices[(stock_close_prices['date'] >= start_date) & (stock_close_prices['date'] <= end_date)]\n",
    "\n",
    "    return stock_data"
   ],
   "id": "2d893911b0a601a0",
   "outputs": [],
   "execution_count": 12
  },
  {
   "metadata": {
    "ExecuteTime": {
     "end_time": "2024-09-22T08:41:25.962605Z",
     "start_time": "2024-09-22T08:41:25.871640Z"
    }
   },
   "cell_type": "code",
   "source": [
    "from data_utils import get_positive_samples_ticker_and_report_dates\n",
    "positive_samples = get_positive_samples_ticker_and_report_dates()\n",
    "positive_samples"
   ],
   "id": "7c468fc90b5c6351",
   "outputs": [
    {
     "data": {
      "text/plain": [
       "   ticker subset report_datetime\n",
       "0   GOTTQ   test      2008-04-10\n",
       "1   SGICQ  train      2008-09-22\n",
       "2   BRLCQ  train      2007-09-13\n",
       "3   TMYEQ  train      2008-03-31\n",
       "4   SHRPQ  train      2007-05-31\n",
       "..    ...    ...             ...\n",
       "69  DNDNQ  train      2014-03-03\n",
       "70  FNLYQ  train      2009-05-01\n",
       "71  MRIIQ   test      2000-03-30\n",
       "72  FFNTQ   test      2013-04-01\n",
       "73  GYLDQ  train      2003-12-23\n",
       "\n",
       "[74 rows x 3 columns]"
      ],
      "text/html": [
       "<div>\n",
       "<style scoped>\n",
       "    .dataframe tbody tr th:only-of-type {\n",
       "        vertical-align: middle;\n",
       "    }\n",
       "\n",
       "    .dataframe tbody tr th {\n",
       "        vertical-align: top;\n",
       "    }\n",
       "\n",
       "    .dataframe thead th {\n",
       "        text-align: right;\n",
       "    }\n",
       "</style>\n",
       "<table border=\"1\" class=\"dataframe\">\n",
       "  <thead>\n",
       "    <tr style=\"text-align: right;\">\n",
       "      <th></th>\n",
       "      <th>ticker</th>\n",
       "      <th>subset</th>\n",
       "      <th>report_datetime</th>\n",
       "    </tr>\n",
       "  </thead>\n",
       "  <tbody>\n",
       "    <tr>\n",
       "      <th>0</th>\n",
       "      <td>GOTTQ</td>\n",
       "      <td>test</td>\n",
       "      <td>2008-04-10</td>\n",
       "    </tr>\n",
       "    <tr>\n",
       "      <th>1</th>\n",
       "      <td>SGICQ</td>\n",
       "      <td>train</td>\n",
       "      <td>2008-09-22</td>\n",
       "    </tr>\n",
       "    <tr>\n",
       "      <th>2</th>\n",
       "      <td>BRLCQ</td>\n",
       "      <td>train</td>\n",
       "      <td>2007-09-13</td>\n",
       "    </tr>\n",
       "    <tr>\n",
       "      <th>3</th>\n",
       "      <td>TMYEQ</td>\n",
       "      <td>train</td>\n",
       "      <td>2008-03-31</td>\n",
       "    </tr>\n",
       "    <tr>\n",
       "      <th>4</th>\n",
       "      <td>SHRPQ</td>\n",
       "      <td>train</td>\n",
       "      <td>2007-05-31</td>\n",
       "    </tr>\n",
       "    <tr>\n",
       "      <th>...</th>\n",
       "      <td>...</td>\n",
       "      <td>...</td>\n",
       "      <td>...</td>\n",
       "    </tr>\n",
       "    <tr>\n",
       "      <th>69</th>\n",
       "      <td>DNDNQ</td>\n",
       "      <td>train</td>\n",
       "      <td>2014-03-03</td>\n",
       "    </tr>\n",
       "    <tr>\n",
       "      <th>70</th>\n",
       "      <td>FNLYQ</td>\n",
       "      <td>train</td>\n",
       "      <td>2009-05-01</td>\n",
       "    </tr>\n",
       "    <tr>\n",
       "      <th>71</th>\n",
       "      <td>MRIIQ</td>\n",
       "      <td>test</td>\n",
       "      <td>2000-03-30</td>\n",
       "    </tr>\n",
       "    <tr>\n",
       "      <th>72</th>\n",
       "      <td>FFNTQ</td>\n",
       "      <td>test</td>\n",
       "      <td>2013-04-01</td>\n",
       "    </tr>\n",
       "    <tr>\n",
       "      <th>73</th>\n",
       "      <td>GYLDQ</td>\n",
       "      <td>train</td>\n",
       "      <td>2003-12-23</td>\n",
       "    </tr>\n",
       "  </tbody>\n",
       "</table>\n",
       "<p>74 rows × 3 columns</p>\n",
       "</div>"
      ]
     },
     "execution_count": 10,
     "metadata": {},
     "output_type": "execute_result"
    }
   ],
   "execution_count": 10
  },
  {
   "metadata": {
    "ExecuteTime": {
     "end_time": "2024-09-22T08:41:57.973933Z",
     "start_time": "2024-09-22T08:41:57.953232Z"
    }
   },
   "cell_type": "code",
   "source": [
    "historical_stock_prices = get_stock_data(positive_samples['ticker'][0], positive_samples['report_datetime'][0])\n",
    "historical_stock_prices"
   ],
   "id": "e75c4377565e5886",
   "outputs": [
    {
     "name": "stdout",
     "output_type": "stream",
     "text": [
      "Reading ../dataset/close-prices-for-bankrupt-companies/GOTTQ_closeprice_gurufocus.csv from 2007-04-10 to 2008-04-20, ticker: GOTTQ\n",
      "5000\n"
     ]
    },
    {
     "data": {
      "text/plain": [
       "            date  close_price\n",
       "4315  2007-04-10        14.80\n",
       "4316  2007-04-11        14.56\n",
       "4317  2007-04-12        13.92\n",
       "4318  2007-04-13        13.97\n",
       "4319  2007-04-16        14.25\n",
       "...          ...          ...\n",
       "4570  2008-04-14         2.57\n",
       "4571  2008-04-15         2.38\n",
       "4572  2008-04-16         2.11\n",
       "4573  2008-04-17         2.18\n",
       "4574  2008-04-18         2.31\n",
       "\n",
       "[260 rows x 2 columns]"
      ],
      "text/html": [
       "<div>\n",
       "<style scoped>\n",
       "    .dataframe tbody tr th:only-of-type {\n",
       "        vertical-align: middle;\n",
       "    }\n",
       "\n",
       "    .dataframe tbody tr th {\n",
       "        vertical-align: top;\n",
       "    }\n",
       "\n",
       "    .dataframe thead th {\n",
       "        text-align: right;\n",
       "    }\n",
       "</style>\n",
       "<table border=\"1\" class=\"dataframe\">\n",
       "  <thead>\n",
       "    <tr style=\"text-align: right;\">\n",
       "      <th></th>\n",
       "      <th>date</th>\n",
       "      <th>close_price</th>\n",
       "    </tr>\n",
       "  </thead>\n",
       "  <tbody>\n",
       "    <tr>\n",
       "      <th>4315</th>\n",
       "      <td>2007-04-10</td>\n",
       "      <td>14.80</td>\n",
       "    </tr>\n",
       "    <tr>\n",
       "      <th>4316</th>\n",
       "      <td>2007-04-11</td>\n",
       "      <td>14.56</td>\n",
       "    </tr>\n",
       "    <tr>\n",
       "      <th>4317</th>\n",
       "      <td>2007-04-12</td>\n",
       "      <td>13.92</td>\n",
       "    </tr>\n",
       "    <tr>\n",
       "      <th>4318</th>\n",
       "      <td>2007-04-13</td>\n",
       "      <td>13.97</td>\n",
       "    </tr>\n",
       "    <tr>\n",
       "      <th>4319</th>\n",
       "      <td>2007-04-16</td>\n",
       "      <td>14.25</td>\n",
       "    </tr>\n",
       "    <tr>\n",
       "      <th>...</th>\n",
       "      <td>...</td>\n",
       "      <td>...</td>\n",
       "    </tr>\n",
       "    <tr>\n",
       "      <th>4570</th>\n",
       "      <td>2008-04-14</td>\n",
       "      <td>2.57</td>\n",
       "    </tr>\n",
       "    <tr>\n",
       "      <th>4571</th>\n",
       "      <td>2008-04-15</td>\n",
       "      <td>2.38</td>\n",
       "    </tr>\n",
       "    <tr>\n",
       "      <th>4572</th>\n",
       "      <td>2008-04-16</td>\n",
       "      <td>2.11</td>\n",
       "    </tr>\n",
       "    <tr>\n",
       "      <th>4573</th>\n",
       "      <td>2008-04-17</td>\n",
       "      <td>2.18</td>\n",
       "    </tr>\n",
       "    <tr>\n",
       "      <th>4574</th>\n",
       "      <td>2008-04-18</td>\n",
       "      <td>2.31</td>\n",
       "    </tr>\n",
       "  </tbody>\n",
       "</table>\n",
       "<p>260 rows × 2 columns</p>\n",
       "</div>"
      ]
     },
     "execution_count": 13,
     "metadata": {},
     "output_type": "execute_result"
    }
   ],
   "execution_count": 13
  },
  {
   "metadata": {
    "ExecuteTime": {
     "end_time": "2024-09-22T08:54:58.849005Z",
     "start_time": "2024-09-22T08:54:58.837589Z"
    }
   },
   "cell_type": "code",
   "source": [
    "from statsmodels.tsa.arima_model import ARIMA\n",
    "from statsmodels.graphics.tsaplots import plot_acf, plot_pacf\n",
    "import statsmodels.api as sm\n",
    "\n",
    "historical_stock_prices.plot()\n",
    "result = sm.tsa.stattools.adfuller(historical_stock_prices['close_price'])\n",
    "plot_acf(historical_stock_prices['close_price'])\n",
    "plot_pacf(historical_stock_prices['close_price'])"
   ],
   "id": "93d575ebb7d3d615",
   "outputs": [],
   "execution_count": 22
  },
  {
   "metadata": {
    "ExecuteTime": {
     "end_time": "2024-09-22T09:03:42.784567Z",
     "start_time": "2024-09-22T09:03:42.487845Z"
    }
   },
   "cell_type": "code",
   "source": [
    "model = auto_arima(historical_stock_prices['close_price'], \n",
    "                    start_p=1, start_q=1, \n",
    "                    max_p=5, max_q=5, \n",
    "                    d=1,\n",
    "                    seasonal=False, \n",
    "                    stepwise=True,\n",
    "                    trace=True,   \n",
    "                    suppress_warnings=True,\n",
    "                    maxiter=20,\n",
    "                    information_criterion='aic')\n",
    "print(model.summary())"
   ],
   "id": "8bb5635709261ae",
   "outputs": [
    {
     "name": "stdout",
     "output_type": "stream",
     "text": [
      "Performing stepwise search to minimize aic\n",
      " ARIMA(1,1,1)(0,0,0)[0] intercept   : AIC=23.054, Time=0.08 sec\n",
      " ARIMA(0,1,0)(0,0,0)[0] intercept   : AIC=24.735, Time=0.02 sec\n",
      " ARIMA(1,1,0)(0,0,0)[0] intercept   : AIC=21.083, Time=0.02 sec\n",
      " ARIMA(0,1,1)(0,0,0)[0] intercept   : AIC=21.532, Time=0.05 sec\n",
      " ARIMA(0,1,0)(0,0,0)[0]             : AIC=32.061, Time=0.00 sec\n",
      " ARIMA(2,1,0)(0,0,0)[0] intercept   : AIC=23.005, Time=0.03 sec\n",
      " ARIMA(2,1,1)(0,0,0)[0] intercept   : AIC=23.953, Time=0.07 sec\n",
      " ARIMA(1,1,0)(0,0,0)[0]             : AIC=25.823, Time=0.02 sec\n",
      "\n",
      "Best model:  ARIMA(1,1,0)(0,0,0)[0] intercept\n",
      "Total fit time: 0.283 seconds\n",
      "                               SARIMAX Results                                \n",
      "==============================================================================\n",
      "Dep. Variable:                      y   No. Observations:                  260\n",
      "Model:               SARIMAX(1, 1, 0)   Log Likelihood                  -7.542\n",
      "Date:                Sun, 22 Sep 2024   AIC                             21.083\n",
      "Time:                        11:03:42   BIC                             31.754\n",
      "Sample:                             0   HQIC                            25.374\n",
      "                                - 260                                         \n",
      "Covariance Type:                  opg                                         \n",
      "==============================================================================\n",
      "                 coef    std err          z      P>|z|      [0.025      0.975]\n",
      "------------------------------------------------------------------------------\n",
      "intercept     -0.0412      0.016     -2.511      0.012      -0.073      -0.009\n",
      "ar.L1          0.1469      0.043      3.419      0.001       0.063       0.231\n",
      "sigma2         0.0621      0.003     20.730      0.000       0.056       0.068\n",
      "===================================================================================\n",
      "Ljung-Box (L1) (Q):                   0.00   Jarque-Bera (JB):               403.07\n",
      "Prob(Q):                              0.97   Prob(JB):                         0.00\n",
      "Heteroskedasticity (H):               0.20   Skew:                            -0.46\n",
      "Prob(H) (two-sided):                  0.00   Kurtosis:                         9.04\n",
      "===================================================================================\n",
      "\n",
      "Warnings:\n",
      "[1] Covariance matrix calculated using the outer product of gradients (complex-step).\n"
     ]
    }
   ],
   "execution_count": 26
  },
  {
   "metadata": {
    "ExecuteTime": {
     "end_time": "2024-09-22T08:58:36.393848Z",
     "start_time": "2024-09-22T08:58:36.357390Z"
    }
   },
   "cell_type": "code",
   "source": [
    "model.fit(historical_stock_prices['close_price'])\n",
    "\n",
    "future_forecast = model.predict(n_periods=10)\n",
    "print(future_forecast)\n",
    "\n",
    "forecast, conf_int = model.predict(n_periods=10, return_conf_int=True)\n",
    "forecast"
   ],
   "id": "b17c47dba80249e5",
   "outputs": [
    {
     "name": "stdout",
     "output_type": "stream",
     "text": [
      "260    2.287952\n",
      "261    2.243563\n",
      "262    2.195890\n",
      "263    2.147735\n",
      "264    2.099509\n",
      "265    2.051272\n",
      "266    2.003034\n",
      "267    1.954796\n",
      "268    1.906558\n",
      "269    1.858320\n",
      "dtype: float64\n"
     ]
    },
    {
     "name": "stderr",
     "output_type": "stream",
     "text": [
      "C:\\Users\\grzeg\\PycharmProjects\\bankruptcy-prophet-new\\bankruptcy-prophet\\.venv\\Lib\\site-packages\\statsmodels\\tsa\\base\\tsa_model.py:837: ValueWarning: No supported index is available. Prediction results will be given with an integer index beginning at `start`.\n",
      "  return get_prediction_index(\n",
      "C:\\Users\\grzeg\\PycharmProjects\\bankruptcy-prophet-new\\bankruptcy-prophet\\.venv\\Lib\\site-packages\\statsmodels\\tsa\\base\\tsa_model.py:837: FutureWarning: No supported index is available. In the next version, calling this method in a model without a supported index will result in an exception.\n",
      "  return get_prediction_index(\n",
      "C:\\Users\\grzeg\\PycharmProjects\\bankruptcy-prophet-new\\bankruptcy-prophet\\.venv\\Lib\\site-packages\\statsmodels\\tsa\\base\\tsa_model.py:837: ValueWarning: No supported index is available. Prediction results will be given with an integer index beginning at `start`.\n",
      "  return get_prediction_index(\n",
      "C:\\Users\\grzeg\\PycharmProjects\\bankruptcy-prophet-new\\bankruptcy-prophet\\.venv\\Lib\\site-packages\\statsmodels\\tsa\\base\\tsa_model.py:837: FutureWarning: No supported index is available. In the next version, calling this method in a model without a supported index will result in an exception.\n",
      "  return get_prediction_index(\n"
     ]
    },
    {
     "data": {
      "text/plain": [
       "260    2.287952\n",
       "261    2.243563\n",
       "262    2.195890\n",
       "263    2.147735\n",
       "264    2.099509\n",
       "265    2.051272\n",
       "266    2.003034\n",
       "267    1.954796\n",
       "268    1.906558\n",
       "269    1.858320\n",
       "dtype: float64"
      ]
     },
     "execution_count": 25,
     "metadata": {},
     "output_type": "execute_result"
    }
   ],
   "execution_count": 25
  },
  {
   "metadata": {},
   "cell_type": "code",
   "outputs": [],
   "execution_count": null,
   "source": "",
   "id": "186fad206d27c247"
  }
 ],
 "metadata": {
  "kernelspec": {
   "display_name": "Python 3",
   "language": "python",
   "name": "python3"
  },
  "language_info": {
   "codemirror_mode": {
    "name": "ipython",
    "version": 2
   },
   "file_extension": ".py",
   "mimetype": "text/x-python",
   "name": "python",
   "nbconvert_exporter": "python",
   "pygments_lexer": "ipython2",
   "version": "2.7.6"
  }
 },
 "nbformat": 4,
 "nbformat_minor": 5
}

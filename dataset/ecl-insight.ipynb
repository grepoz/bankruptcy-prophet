{
 "cells": [
  {
   "cell_type": "markdown",
   "source": [
    "# ECL"
   ],
   "metadata": {
    "collapsed": false
   },
   "id": "2d073189c92ac37a"
  },
  {
   "cell_type": "markdown",
   "source": [
    "## Part 1 - read dataset"
   ],
   "metadata": {
    "collapsed": false
   },
   "id": "a13973241d1c89f8"
  },
  {
   "cell_type": "code",
   "id": "initial_id",
   "metadata": {
    "collapsed": true,
    "ExecuteTime": {
     "end_time": "2024-04-19T18:48:14.843962Z",
     "start_time": "2024-04-19T18:48:14.278595Z"
    }
   },
   "source": [
    "import json\n",
    "import pandas as pd\n",
    "import warnings\n",
    "import datetime\n",
    "warnings.filterwarnings(\"ignore\")"
   ],
   "outputs": [],
   "execution_count": 1
  },
  {
   "cell_type": "code",
   "source": [
    "# Read in the dataset.\n",
    "dataset = pd.read_csv('ECL.csv', index_col=0)"
   ],
   "metadata": {
    "collapsed": false,
    "ExecuteTime": {
     "end_time": "2024-04-19T18:48:15.148280Z",
     "start_time": "2024-04-19T18:48:14.843962Z"
    }
   },
   "id": "8b8600924b3964d3",
   "outputs": [],
   "execution_count": 2
  },
  {
   "cell_type": "code",
   "source": [
    "print(len(dataset))"
   ],
   "metadata": {
    "collapsed": false,
    "ExecuteTime": {
     "end_time": "2024-04-19T18:48:15.154214Z",
     "start_time": "2024-04-19T18:48:15.148887Z"
    }
   },
   "id": "9a549ae8aa6c3d34",
   "outputs": [
    {
     "name": "stdout",
     "output_type": "stream",
     "text": [
      "170139\n"
     ]
    }
   ],
   "execution_count": 3
  },
  {
   "cell_type": "code",
   "source": [
    "# Get the subset of labelled 10Ks\n",
    "prediction_subset = dataset.loc[(dataset['can_label'] == True) & (dataset['qualified'] == 'Yes')].reset_index(drop=True)\n",
    "prediction_subset['cik'] = prediction_subset['cik'].astype(int)"
   ],
   "metadata": {
    "collapsed": false,
    "ExecuteTime": {
     "end_time": "2024-04-19T18:48:15.956544Z",
     "start_time": "2024-04-19T18:48:15.918127Z"
    }
   },
   "id": "3f5146bda4c49451",
   "outputs": [],
   "execution_count": 4
  },
  {
   "cell_type": "code",
   "source": [
    "qualified_possible_values = dataset.loc[(dataset['can_label'] == False)]\n",
    "print(len(qualified_possible_values))"
   ],
   "metadata": {
    "collapsed": false,
    "ExecuteTime": {
     "end_time": "2024-04-19T18:48:17.653423Z",
     "start_time": "2024-04-19T18:48:17.644093Z"
    }
   },
   "id": "395abb1ce06e8386",
   "outputs": [
    {
     "name": "stdout",
     "output_type": "stream",
     "text": [
      "0\n"
     ]
    }
   ],
   "execution_count": 5
  },
  {
   "cell_type": "code",
   "source": [
    "prediction_subset.drop(columns=['can_label'], inplace=True)"
   ],
   "metadata": {
    "collapsed": false,
    "ExecuteTime": {
     "end_time": "2024-04-19T18:48:19.023246Z",
     "start_time": "2024-04-19T18:48:18.995023Z"
    }
   },
   "id": "ef848e8dc6779739",
   "outputs": [],
   "execution_count": 6
  },
  {
   "cell_type": "code",
   "source": [
    "print('Number of labelled 10Ks:', len(prediction_subset))"
   ],
   "metadata": {
    "collapsed": false,
    "ExecuteTime": {
     "end_time": "2024-04-19T18:48:21.887274Z",
     "start_time": "2024-04-19T18:48:21.878129Z"
    }
   },
   "id": "5d33958649dafa31",
   "outputs": [
    {
     "name": "stdout",
     "output_type": "stream",
     "text": [
      "Number of labelled 10Ks: 84652\n"
     ]
    }
   ],
   "execution_count": 7
  },
  {
   "metadata": {
    "ExecuteTime": {
     "end_time": "2024-04-19T18:49:01.663704Z",
     "start_time": "2024-04-19T18:49:01.658595Z"
    }
   },
   "cell_type": "code",
   "source": "prediction_subset['label'].value_counts(normalize=True)",
   "id": "34daf7d51e1e651b",
   "outputs": [
    {
     "data": {
      "text/plain": [
       "label\n",
       "False    0.99218\n",
       "True     0.00782\n",
       "Name: proportion, dtype: float64"
      ]
     },
     "execution_count": 9,
     "metadata": {},
     "output_type": "execute_result"
    }
   ],
   "execution_count": 9
  },
  {
   "metadata": {
    "ExecuteTime": {
     "end_time": "2024-04-19T18:49:32.265738Z",
     "start_time": "2024-04-19T18:49:32.241626Z"
    }
   },
   "cell_type": "code",
   "source": [
    "prediction_subset_gruped = prediction_subset.groupby('cik').agg(\n",
    "    company=('company', 'last'),\n",
    "    label=('label', 'last'),\n",
    "    filing_date=('filing_date', 'last')\n",
    ").reset_index()\n",
    "\n",
    "prediction_subset_gruped['label'].value_counts(normalize=True)"
   ],
   "id": "956bc01ad2796ec6",
   "outputs": [
    {
     "data": {
      "text/plain": [
       "label\n",
       "False    0.960079\n",
       "True     0.039921\n",
       "Name: proportion, dtype: float64"
      ]
     },
     "execution_count": 10,
     "metadata": {},
     "output_type": "execute_result"
    }
   ],
   "execution_count": 10
  },
  {
   "cell_type": "markdown",
   "source": [
    "**-> Dataset is ready for further processing**"
   ],
   "metadata": {
    "collapsed": false
   },
   "id": "96a5006ba59a1510"
  },
  {
   "cell_type": "code",
   "outputs": [
    {
     "name": "stdout",
     "output_type": "stream",
     "text": [
      "Number of unique companies: 9143\n",
      "    cik                           company\n",
      "0  1750                          AAR CORP\n",
      "1  1800               ABBOTT LABORATORIES\n",
      "2  2024                 ACE HARDWARE CORP\n",
      "3  2034                        ACETO CORP\n",
      "4  2135  AFFILIATED COMPUTER SERVICES INC\n",
      "5  2178    ADAMS RESOURCES & ENERGY, INC.\n",
      "6  2488        ADVANCED MICRO DEVICES INC\n",
      "7  2491          BALLY TECHNOLOGIES, INC.\n",
      "8  2601                      AEROFLEX INC\n",
      "9  2852                         AGWAY INC\n"
     ]
    }
   ],
   "source": [
    "# getting unique companies by cik\n",
    "unique_companies = prediction_subset.groupby('cik').agg(company=('company', 'last')).reset_index()\n",
    "print(f\"Number of unique companies: {len(unique_companies)}\")\n",
    "print(unique_companies.head(10))"
   ],
   "metadata": {
    "collapsed": false,
    "ExecuteTime": {
     "end_time": "2024-04-14T20:18:12.150529Z",
     "start_time": "2024-04-14T20:18:12.137967Z"
    }
   },
   "id": "fd7da14ea51f5fd9",
   "execution_count": 237
  },
  {
   "cell_type": "markdown",
   "source": [
    "## Part 2 - looking into data"
   ],
   "metadata": {
    "collapsed": false
   },
   "id": "50cfd544ad5aea95"
  },
  {
   "cell_type": "code",
   "outputs": [
    {
     "name": "stdout",
     "output_type": "stream",
     "text": [
      "Number of companies with filing date: 9143\n",
      "    cik                           company filing_date\n",
      "0  1750                          AAR CORP  2021-07-21\n",
      "1  1800               ABBOTT LABORATORIES  2021-02-19\n",
      "2  2024                 ACE HARDWARE CORP  2003-03-24\n",
      "3  2034                        ACETO CORP  2018-09-28\n",
      "4  2135  AFFILIATED COMPUTER SERVICES INC  2009-08-27\n",
      "5  2178    ADAMS RESOURCES & ENERGY, INC.  2020-03-06\n",
      "6  2488        ADVANCED MICRO DEVICES INC  2021-01-29\n",
      "7  2491          BALLY TECHNOLOGIES, INC.  2014-08-29\n",
      "8  2601                      AEROFLEX INC  2006-09-13\n",
      "9  2852                         AGWAY INC  2002-09-30\n"
     ]
    }
   ],
   "source": [
    "companies_with_last_filing_date = prediction_subset.groupby('cik').agg(\n",
    "    company=('company', 'last'),\n",
    "    filing_date=('filing_date', 'last')\n",
    ").reset_index()\n",
    "\n",
    "print(f\"Number of companies with filing date: {len(companies_with_last_filing_date)}\")\n",
    "print(companies_with_last_filing_date.head(10))"
   ],
   "metadata": {
    "collapsed": false,
    "ExecuteTime": {
     "end_time": "2024-04-14T19:30:43.014629Z",
     "start_time": "2024-04-14T19:30:43.000613Z"
    }
   },
   "id": "88601d116d0b3eaf",
   "execution_count": 211
  },
  {
   "cell_type": "code",
   "outputs": [
    {
     "name": "stdout",
     "output_type": "stream",
     "text": [
      "3086\n"
     ]
    }
   ],
   "source": [
    "companies_with_last_filing_date_after_2021 = companies_with_last_filing_date[companies_with_last_filing_date['filing_date'] > '2021-01-01']\n",
    "print(len(companies_with_last_filing_date_after_2021))"
   ],
   "metadata": {
    "collapsed": false,
    "ExecuteTime": {
     "end_time": "2024-04-14T19:31:05.441699Z",
     "start_time": "2024-04-14T19:31:05.436858Z"
    }
   },
   "id": "e8d56e457bcddca3",
   "execution_count": 213
  },
  {
   "cell_type": "code",
   "outputs": [
    {
     "name": "stdout",
     "output_type": "stream",
     "text": [
      "3920\n"
     ]
    }
   ],
   "source": [
    "companies_with_last_filing_date_before_2010 = companies_with_last_filing_date[companies_with_last_filing_date['filing_date'] < '2010-01-01']\n",
    "print(len(companies_with_last_filing_date_before_2010))"
   ],
   "metadata": {
    "collapsed": false,
    "ExecuteTime": {
     "end_time": "2024-04-14T19:31:09.473810Z",
     "start_time": "2024-04-14T19:31:09.468532Z"
    }
   },
   "id": "854d3b490579451d",
   "execution_count": 214
  },
  {
   "cell_type": "markdown",
   "source": [
    "Around third of companies have last filing date greater than 2021 - the last year included within the dataset that could be labelled (due to unsupported Florida-UCLA-LoPucki database)\n",
    "\n",
    "Almost half has last filing before 2010"
   ],
   "metadata": {
    "collapsed": false
   },
   "id": "3ff914307d399015"
  },
  {
   "metadata": {},
   "cell_type": "code",
   "outputs": [],
   "execution_count": null,
   "source": [
    "datetime_now = datetime.datetime.now().strftime(\"%Y-%m-%d_%H-%M-%S\")\n",
    "\n",
    "prediction_subset.to_csv(f'ECL_{datetime_now}.csv')\n",
    "unique_companies.to_csv(f'ECL_unique_companies_{datetime_now}.csv')"
   ],
   "id": "327b8a0a679dc40"
  },
  {
   "cell_type": "markdown",
   "source": [
    "## Part 3 - looking for tickers using gurufocus.com\n",
    "\n",
    "I need to get tickers and stockid for companies - to further download financial data from gurufocus.com (or look for different data provider). Also I focus on NYSE and NASDAQ exchanges."
   ],
   "metadata": {
    "collapsed": false
   },
   "id": "9d6880130f44f942"
  },
  {
   "cell_type": "code",
   "source": [
    "import requests\n",
    "import time\n",
    "import re\n",
    "from tqdm import tqdm\n",
    "import datetime\n",
    "\n",
    "headers = {\n",
    "    'User-Agent': 'Mozilla/5.0 (Windows NT 10.0; Win64; x64) AppleWebKit/537.36 (KHTML, like Gecko) Chrome/109.0.0.0 Safari/537.36',\n",
    "    'authority': 'www.google.com',\n",
    "    'accept': 'text/html,application/xhtml+xml,application/xml;q=0.9,image/avif,image/webp,image/apng,*/*;q=0.8,application/signed-exchange;v=b3;q=0.7',\n",
    "    'accept-language': 'en-US,en;q=0.9',\n",
    "    'cache-control': 'max-age=0',\n",
    "    'user-agent': 'Mozilla/5.0 (Windows NT 10.0; Win64; x64) AppleWebKit/537.36 (KHTML, like Gecko) Chrome/115.0.0.0 Safari/537.36',\n",
    "}"
   ],
   "metadata": {
    "collapsed": false,
    "ExecuteTime": {
     "end_time": "2024-04-18T20:06:36.060787Z",
     "start_time": "2024-04-18T20:06:35.917174Z"
    }
   },
   "id": "92deb4cf39e021a7",
   "outputs": [],
   "execution_count": 2
  },
  {
   "cell_type": "code",
   "source": [
    "pattern = re.compile(r\"[\\\\/.,\\\"]\") \n",
    "\n",
    "def clear_company_name(company_name):\n",
    "    company_name = company_name.lower()\n",
    "    company_name = re.sub(r\"[\\\\/(].*\", '', company_name)\n",
    "    company_name = pattern.sub('', company_name)\n",
    "    company_name = company_name.strip()\n",
    "    company_name = company_name.replace(' ', '+')\n",
    "    return company_name"
   ],
   "metadata": {
    "collapsed": false,
    "ExecuteTime": {
     "end_time": "2024-04-18T20:06:38.735519Z",
     "start_time": "2024-04-18T20:06:38.723899Z"
    }
   },
   "id": "9d200a561a4ff3a3",
   "outputs": [],
   "execution_count": 3
  },
  {
   "cell_type": "code",
   "source": [
    "print(clear_company_name(\"ALEXANDER & ALEXANDER SERVICES INC\"))"
   ],
   "metadata": {
    "collapsed": false,
    "ExecuteTime": {
     "end_time": "2024-04-16T17:41:46.546366Z",
     "start_time": "2024-04-16T17:41:46.540578Z"
    }
   },
   "id": "e092072e8c01a299",
   "outputs": [
    {
     "name": "stdout",
     "output_type": "stream",
     "text": [
      "alexander+&+alexander+services+inc\n"
     ]
    }
   ],
   "execution_count": 7
  },
  {
   "cell_type": "code",
   "outputs": [
    {
     "name": "stderr",
     "output_type": "stream",
     "text": [
      "Found companies count: 5774: 100%|██████████| 9143/9143 [3:14:41<00:00,  1.28s/it]  \n"
     ]
    }
   ],
   "source": [
    "tqdm.pandas()\n",
    "\n",
    "found_companies_count = 0\n",
    "\n",
    "companies_with_not_found_tickers_list = []\n",
    "companies_with_not_found_tickers_with_exception = []\n",
    "\n",
    "pbar = tqdm(unique_companies.values.tolist())\n",
    "\n",
    "exceptions_list = []\n",
    "\n",
    "for cik, company in pbar:\n",
    "\n",
    "    cleared_company_name = clear_company_name(company)\n",
    "    url = f'https://www.gurufocus.com/reader/_api/_search?v=1.4.13&text={cleared_company_name}'\n",
    "    \n",
    "    try:\n",
    "        \n",
    "        try:\n",
    "            response = requests.get(url, headers=headers)\n",
    "            response_json = response.json()\n",
    "        except Exception as ex:\n",
    "            companies_with_not_found_tickers_with_exception.append({'cik': cik, 'company': company})\n",
    "            exceptions_list.append(ex)\n",
    "            time.sleep(0.7)\n",
    "            continue\n",
    "\n",
    "        time.sleep(0.2)\n",
    "    \n",
    "        if len(response_json) == 0:\n",
    "            has_company_name_changed = False\n",
    "            if '+inc' in cleared_company_name:\n",
    "                cleared_company_name = cleared_company_name.replace('+inc', '')\n",
    "                has_company_name_changed = True\n",
    "            if '+co' in cleared_company_name:\n",
    "                # may match 'co' in any word\n",
    "                cleared_company_name = cleared_company_name.replace('+co', '+company')\n",
    "                has_company_name_changed = True\n",
    "            if '+llc' in cleared_company_name:\n",
    "                cleared_company_name = cleared_company_name.replace('+llc', '')\n",
    "                has_company_name_changed = True\n",
    "            cleared_company_name = cleared_company_name.strip()\n",
    "            \n",
    "            if has_company_name_changed:\n",
    "                url = f'https://www.gurufocus.com/reader/_api/_search?v=1.4.13&text={cleared_company_name}'\n",
    "                try:\n",
    "                    response = requests.get(url, headers=headers)\n",
    "                    response_json = response.json()\n",
    "                except Exception as ex:\n",
    "                    companies_with_not_found_tickers_with_exception.append({'cik': cik, 'company': company})\n",
    "                    exceptions_list.append(ex)\n",
    "                    time.sleep(0.7)\n",
    "                    continue\n",
    "                \n",
    "            if len(response_json) == 0:\n",
    "                companies_with_not_found_tickers_list.append({'cik': cik, 'company': company})\n",
    "                continue\n",
    "        \n",
    "        is_company_found = False\n",
    "        matched_type_counter = 0\n",
    "        for entry in response_json:\n",
    "            if entry['type'] not in ('stock', 'delisted'):\n",
    "                if matched_type_counter > 0:\n",
    "                    break\n",
    "                continue\n",
    "                \n",
    "            exchange = entry['data']['exchange']\n",
    "            if exchange in ('NYSE', 'NAS', 'DELISTED'):\n",
    "                ticker = entry['data']['symbol']\n",
    "                stockid = entry['data']['stockid']\n",
    "                # gurufocus_company_name = entry['data']['company']\n",
    "                \n",
    "                if matched_type_counter == 0:\n",
    "                    prediction_subset.loc[prediction_subset['cik'] == cik, 'ticker'] = ticker\n",
    "                    prediction_subset.loc[prediction_subset['cik'] == cik, 'exchange'] = exchange\n",
    "                    prediction_subset.loc[prediction_subset['cik'] == cik, 'gurufocus-stockid'] = stockid\n",
    "                    # prediction_subset.loc[prediction_subset['cik'] == cik, 'gurufocus-company-name'] = gurufocus_company_name\n",
    "                    \n",
    "                    \n",
    "                    is_company_found = True\n",
    "                    found_companies_count += 1\n",
    "                    pbar.set_description(f\"Found companies count: {found_companies_count}\")\n",
    "                    matched_type_counter += 1\n",
    "                    \n",
    "                elif matched_type_counter == 1:\n",
    "                    prediction_subset.loc[prediction_subset['cik'] == cik, 'second-match-ticker'] = ticker\n",
    "                    prediction_subset.loc[prediction_subset['cik'] == cik, 'second-match-exchange'] = exchange\n",
    "                    prediction_subset.loc[prediction_subset['cik'] == cik, 'second-match-gurufocus-stockid'] = stockid\n",
    "                    # prediction_subset.loc[prediction_subset['cik'] == cik, 'second-match-gurufocus-company-name'] = gurufocus_company_name\n",
    "                else:\n",
    "                    break\n",
    "                \n",
    "        if not is_company_found:\n",
    "            companies_with_not_found_tickers_list.append({'cik': cik, 'company': company})\n",
    "            \n",
    "    except Exception as ex:\n",
    "        companies_with_not_found_tickers_with_exception.append({'cik': cik, 'company': company})\n",
    "        exceptions_list.append(ex)\n",
    "        time.sleep(0.7)\n",
    "        \n",
    "companies_with_not_found_tickers_df = pd.DataFrame(companies_with_not_found_tickers_list)\n",
    "companies_with_not_found_tickers_with_exception_df = pd.DataFrame(companies_with_not_found_tickers_with_exception)"
   ],
   "metadata": {
    "collapsed": false,
    "ExecuteTime": {
     "end_time": "2024-04-14T13:19:56.584393Z",
     "start_time": "2024-04-14T10:05:15.327901Z"
    }
   },
   "id": "f4488259adfeb373",
   "execution_count": 45
  },
  {
   "cell_type": "code",
   "outputs": [
    {
     "name": "stdout",
     "output_type": "stream",
     "text": [
      "Number of companies with found tickers: 5774\n",
      "Number of companies with not found tickers: 3369\n",
      "Number of companies with exceptions: 0\n"
     ]
    }
   ],
   "source": [
    "print(f\"Number of companies with found tickers: {found_companies_count}\")\n",
    "print(f\"Number of companies with not found tickers: {len(companies_with_not_found_tickers_list)}\")\n",
    "print(f\"Number of companies with exceptions: {len(companies_with_not_found_tickers_with_exception_df)}\")"
   ],
   "metadata": {
    "collapsed": false,
    "ExecuteTime": {
     "end_time": "2024-04-14T13:20:22.424548Z",
     "start_time": "2024-04-14T13:20:22.419028Z"
    }
   },
   "id": "4764fa4e33c2914a",
   "execution_count": 46
  },
  {
   "cell_type": "code",
   "outputs": [],
   "source": [
    "datetime_now = datetime.datetime.now().strftime(\"%Y-%m-%d_%H-%M-%S\")\n",
    "\n",
    "prediction_subset.to_csv(f'ECL_with_ticker_{datetime_now}.csv')\n",
    "companies_with_not_found_tickers_df.to_csv(f'ECL_companies_with_not_found_tickers_{datetime_now}.csv')\n",
    "companies_with_not_found_tickers_with_exception_df.to_csv(f'ECL_companies_with_not_found_tickers_with_exception_{datetime_now}.csv')"
   ],
   "metadata": {
    "collapsed": false,
    "ExecuteTime": {
     "end_time": "2024-04-14T13:20:34.245321Z",
     "start_time": "2024-04-14T13:20:33.237871Z"
    }
   },
   "id": "3a95ff8f9d63448",
   "execution_count": 47
  },
  {
   "cell_type": "markdown",
   "source": [
    "## Download data from gurufocus.com\n",
    "\n",
    "#### Download data for companies with one ticker (then for companies with two tickers)"
   ],
   "metadata": {
    "collapsed": false
   },
   "id": "76d76f91e5305662"
  },
  {
   "cell_type": "code",
   "source": [
    "prediction_subset = pd.read_csv('ECL_with_ticker_2024-04-14_15-20-33.csv', index_col=0)"
   ],
   "metadata": {
    "collapsed": false,
    "ExecuteTime": {
     "end_time": "2024-04-16T17:42:22.069638Z",
     "start_time": "2024-04-16T17:42:21.844427Z"
    }
   },
   "id": "9b6870e7215bd9dd",
   "outputs": [],
   "execution_count": 8
  },
  {
   "cell_type": "code",
   "source": [
    "prediction_subset_with_gurufocus_data = prediction_subset.groupby('cik').agg(\n",
    "    company=('company', 'last'),\n",
    "    ticker=('ticker', 'last'),\n",
    "    second_match_ticker=('second-match-ticker', 'last'),\n",
    "    gurufocus_stockid=('gurufocus-stockid', 'last'),\n",
    "    second_match_gurufocus_stockid=('second-match-gurufocus-stockid', 'last')\n",
    ").reset_index()"
   ],
   "metadata": {
    "collapsed": false,
    "ExecuteTime": {
     "end_time": "2024-04-16T17:42:47.272385Z",
     "start_time": "2024-04-16T17:42:47.238480Z"
    }
   },
   "id": "8d9701da8b984250",
   "outputs": [],
   "execution_count": 9
  },
  {
   "cell_type": "code",
   "source": [
    "# get companies with one ticker\n",
    "companies_with_one_ticker = prediction_subset_with_gurufocus_data[prediction_subset_with_gurufocus_data['ticker'].notnull() & prediction_subset_with_gurufocus_data['second_match_ticker'].isnull()]\n",
    "print(len(companies_with_one_ticker))\n",
    "print(companies_with_one_ticker.head(10))"
   ],
   "metadata": {
    "collapsed": false,
    "ExecuteTime": {
     "end_time": "2024-04-16T17:27:15.082069Z",
     "start_time": "2024-04-16T17:27:15.072669Z"
    }
   },
   "id": "2f3caaa0ad91e2cb",
   "outputs": [
    {
     "name": "stdout",
     "output_type": "stream",
     "text": [
      "5115\n",
      "     cik                            company ticker second_match_ticker  \\\n",
      "0   1750                           AAR CORP    AIR                None   \n",
      "1   1800                ABBOTT LABORATORIES    ABT                None   \n",
      "6   2488         ADVANCED MICRO DEVICES INC    AMD                None   \n",
      "7   2491           BALLY TECHNOLOGIES, INC.    BYI                None   \n",
      "8   2601                       AEROFLEX INC   ARXX                None   \n",
      "10  2969  AIR PRODUCTS & CHEMICALS INC /DE/    APD                None   \n",
      "16  3197            CECO ENVIRONMENTAL CORP   CECO                None   \n",
      "19  3370          IKON OFFICE SOLUTIONS INC    IKN                None   \n",
      "21  3453                       MATSON, INC.   MATX                None   \n",
      "23  3545                        ALICO, INC.   ALCO                None   \n",
      "\n",
      "   gurufocus_stockid second_match_gurufocus_stockid  \n",
      "0             US06AR                           None  \n",
      "1             US066X                           None  \n",
      "6             US022E                           None  \n",
      "7             US06R5                           None  \n",
      "8             US026H                           None  \n",
      "10            US06DU                           None  \n",
      "16            US02K6                           None  \n",
      "19            US07ZK                           None  \n",
      "21            US08CS                           None  \n",
      "23            US0212                           None  \n"
     ]
    }
   ],
   "execution_count": 19
  },
  {
   "cell_type": "code",
   "outputs": [
    {
     "name": "stdout",
     "output_type": "stream",
     "text": [
      "5115\n",
      "    cik ticker gurufocus_stockid\n",
      "0  1750    AIR            US06AR\n",
      "1  1800    ABT            US066X\n",
      "2  2488    AMD            US022E\n",
      "3  2491    BYI            US06R5\n",
      "4  2601   ARXX            US026H\n",
      "5  2969    APD            US06DU\n",
      "6  3197   CECO            US02K6\n",
      "7  3370    IKN            US07ZK\n",
      "8  3453   MATX            US08CS\n",
      "9  3545   ALCO            US0212\n"
     ]
    }
   ],
   "source": [
    "companies_with_one_ticker_grouped_by_cik = companies_with_one_ticker.groupby('cik').agg(\n",
    "    ticker=('ticker', 'last'),\n",
    "    gurufocus_stockid=('gurufocus_stockid', 'last')\n",
    ").reset_index()\n",
    "print(len(companies_with_one_ticker_grouped_by_cik))\n",
    "print(companies_with_one_ticker_grouped_by_cik.head(10))"
   ],
   "metadata": {
    "collapsed": false,
    "ExecuteTime": {
     "end_time": "2024-04-14T21:01:45.246745Z",
     "start_time": "2024-04-14T21:01:45.238358Z"
    }
   },
   "id": "19201c56ae58d0ad",
   "execution_count": 267
  },
  {
   "metadata": {
    "ExecuteTime": {
     "end_time": "2024-04-18T20:06:47.853333Z",
     "start_time": "2024-04-18T20:06:47.653171Z"
    }
   },
   "cell_type": "code",
   "source": [
    "from selenium import webdriver\n",
    "from selenium.webdriver.common.by import By\n",
    "from selenium.webdriver.support.ui import WebDriverWait\n",
    "from selenium.webdriver.support import expected_conditions as EC\n",
    "from selenium.webdriver.common.keys import Keys\n",
    "from tqdm import tqdm\n",
    "from bs4 import BeautifulSoup\n",
    "\n",
    "table_ids = [\n",
    "    'financial_table_per_share_data',\n",
    "    'financial_table_ratios',\n",
    "    'financial_table_income_statement',\n",
    "    'financial_table_balance_sheet',\n",
    "    'financial_table_cashflow_statement',\n",
    "    'financial_table_valuation_ratios',\n",
    "    'financial_table_valuation_and_quality'\n",
    "]\n",
    "\n",
    "options = webdriver.EdgeOptions()\n",
    "\n",
    "login_url = 'https://www.gurufocus.com/login'\n",
    "payload = {\n",
    "    \"username\": \"darekkruszel15@gmail.com\",\n",
    "    \"password\": \"=OcUZ*5&|{+l7-lGy:QMe4vHyF4X'~\"\n",
    "}\n",
    "\n",
    "def process_df(df):\n",
    "    df.drop(df.columns[1], axis=1, inplace=True) \n",
    "    return df.loc[:, ~df.columns.str.contains('^Unnamed')]"
   ],
   "id": "5850ed136bedf3c4",
   "outputs": [],
   "execution_count": 4
  },
  {
   "cell_type": "code",
   "outputs": [
    {
     "name": "stderr",
     "output_type": "stream",
     "text": [
      "Success: 5071: 100%|██████████| 5115/5115 [5:47:17<00:00,  4.07s/it]   \n"
     ]
    }
   ],
   "source": [
    "# login\n",
    "driver = webdriver.Edge(options=options)\n",
    "driver.get(login_url)\n",
    "\n",
    "username = WebDriverWait(driver, 10).until(EC.presence_of_element_located((By.NAME, 'username')))\n",
    "password = WebDriverWait(driver, 10).until(EC.presence_of_element_located((By.NAME, 'password')))\n",
    "username.clear()\n",
    "password.clear()\n",
    "username.send_keys(payload['username'])\n",
    "password.send_keys(payload['password'])\n",
    "password.send_keys(Keys.RETURN)\n",
    "\n",
    "WebDriverWait(driver, 10).until(EC.presence_of_all_elements_located((By.LINK_TEXT, 'Articles')))\n",
    "time.sleep(1)\n",
    "\n",
    "\n",
    "not_found_financial_data_with_exception = []\n",
    "not_found_financial_data_with_webdriver_timeout_exception = []\n",
    "success_count = 0\n",
    "\n",
    "pbar = tqdm(companies_with_one_ticker_grouped_by_cik.values.tolist())\n",
    "try:\n",
    "    for cik, ticker, stockid in pbar:\n",
    "        \n",
    "        url = f'https://www.gurufocus.com/stock/{stockid}/financials'\n",
    "        \n",
    "        try:\n",
    "            driver.get(url)\n",
    "            time.sleep(0.7)\n",
    "    \n",
    "            try:\n",
    "                WebDriverWait(driver, 10).until(EC.presence_of_all_elements_located((By.ID, 'financial_table_per_share_data')))\n",
    "                WebDriverWait(driver, 10).until(EC.presence_of_all_elements_located((By.ID, 'financial_table_ratios')))\n",
    "                WebDriverWait(driver, 10).until(EC.presence_of_all_elements_located((By.ID, 'financial_table_income_statement')))\n",
    "                WebDriverWait(driver, 10).until(EC.presence_of_all_elements_located((By.ID, 'financial_table_balance_sheet')))\n",
    "                WebDriverWait(driver, 10).until(EC.presence_of_all_elements_located((By.ID, 'financial_table_cashflow_statement')))\n",
    "                WebDriverWait(driver, 10).until(EC.presence_of_all_elements_located((By.ID, 'financial_table_valuation_ratios')))\n",
    "                WebDriverWait(driver, 10).until(EC.presence_of_all_elements_located((By.ID, 'financial_table_valuation_and_quality')))\n",
    "            except Exception as ex:\n",
    "                not_found_financial_data_with_webdriver_timeout_exception.append([cik, stockid, ticker, str(ex)])\n",
    "                continue\n",
    "    \n",
    "            page_source = driver.page_source\n",
    "            with open(f'gurufocus-immediate-response-for-stockid/page_source-{cik}-{stockid}_{ticker}.txt', 'w', encoding='utf-8') as f:\n",
    "                f.write(page_source)\n",
    "            \n",
    "            soup = BeautifulSoup(page_source, 'html.parser')\n",
    "        \n",
    "            gurufocus_company_name = soup.find('div', {'id': 'stock-header'}).find('div').text\n",
    "    \n",
    "            prediction_subset.loc[prediction_subset['cik'] == cik, 'gurufocus-company-name'] = gurufocus_company_name\n",
    "        \n",
    "            tables = soup.find_all('table')\n",
    "            \n",
    "            page_tables_ids = []\n",
    "            for table in tables:\n",
    "                try:\n",
    "                    table_id = table.get('id')\n",
    "                    if table_id:\n",
    "                        page_tables_ids.append(table_id)\n",
    "                except:\n",
    "                    pass\n",
    "            \n",
    "            if all(table_id not in page_tables_ids for table_id in table_ids):\n",
    "                pass\n",
    "            else:\n",
    "                merged_df = pd.DataFrame()\n",
    "                for table_id in table_ids:\n",
    "                    table = soup.find(id=table_id)\n",
    "                    df = pd.read_html(str(table), skiprows=1, header=0)[0]\n",
    "                    df = process_df(df)\n",
    "                    merged_df = pd.concat([merged_df, df])\n",
    "                    \n",
    "                merged_df.reset_index(drop=True, inplace=True)\n",
    "                merged_df.to_csv(f'financial_data/{cik}-{stockid}_{ticker}.csv')\n",
    "                \n",
    "                success_count += 1\n",
    "                pbar.set_description(f\"Success: {success_count}\")\n",
    "    \n",
    "        except Exception as ex:\n",
    "            not_found_financial_data_with_exception.append([cik, stockid, ticker, str(ex)])\n",
    "\n",
    "finally:\n",
    "    driver.close()\n",
    "    prediction_subset.to_csv(f'ECL_with_ticker_{datetime_now}.csv')\n",
    "\n",
    "    with open('not_found_financial_data_with_exception.json', 'w') as file:\n",
    "        json.dump(list(not_found_financial_data_with_exception), file)\n",
    "        \n",
    "    with open('not_found_financial_data_with_webdriver_timeout_exception.json', 'w') as file:\n",
    "        json.dump(list(not_found_financial_data_with_webdriver_timeout_exception), file)"
   ],
   "metadata": {
    "collapsed": false,
    "ExecuteTime": {
     "end_time": "2024-04-15T03:22:23.616165Z",
     "start_time": "2024-04-14T21:34:57.571580Z"
    }
   },
   "id": "86dec1a4998aece7",
   "execution_count": 278
  },
  {
   "cell_type": "code",
   "outputs": [],
   "source": [
    "print(f\"Number of companies with not found financial data with exception: {len(not_found_financial_data_with_exception)}\")\n",
    "print(f\"Number of companies with not found financial data with webdriver timeout exception: {len(not_found_financial_data_with_webdriver_timeout_exception)}\")"
   ],
   "metadata": {
    "collapsed": false
   },
   "id": "5f9e28be126fbdac",
   "execution_count": null
  },
  {
   "metadata": {},
   "cell_type": "markdown",
   "source": "#### Get companies with two tickers",
   "id": "159f745b9bbdfbc"
  },
  {
   "cell_type": "code",
   "source": [
    "# get companies with two tickers\n",
    "companies_with_two_tickers = prediction_subset_with_gurufocus_data[prediction_subset_with_gurufocus_data['second_match_ticker'].notnull()]\n",
    "print(f\"Number of companies with two tickers: {len(companies_with_two_tickers)}\")\n",
    "print(companies_with_two_tickers.head(10))"
   ],
   "metadata": {
    "collapsed": false,
    "ExecuteTime": {
     "end_time": "2024-04-16T17:45:33.161338Z",
     "start_time": "2024-04-16T17:45:33.149693Z"
    }
   },
   "id": "c5f8e28f7acbf5d",
   "outputs": [
    {
     "name": "stdout",
     "output_type": "stream",
     "text": [
      "Number of companies with two tickers: 659\n",
      "     cik                             company     ticker second_match_ticker  \\\n",
      "15  3153                    ALABAMA POWER CO  ALPpQ.PFD         ALPROCL.PFD   \n",
      "18  3333                 ALBERTSONS INC /DE/        ACI                 ABS   \n",
      "20  3449  ALEXANDER & ALEXANDER SERVICES INC       ALEX                 AAL   \n",
      "35  4281               HOWMET AEROSPACE INC.        HWM         ARNCPRB.PFD   \n",
      "39  4447                           HESS CORP        HES           HESpA.PFD   \n",
      "56  5272  AMERICAN INTERNATIONAL GROUP, INC.        AIG               AIGWS   \n",
      "61  5611                            FINA INC        TFC                WYPT   \n",
      "64  5907                           AT&T CORP          T                  AT   \n",
      "91  7332              SOUTHWESTERN ENERGY CO        SWN            SWNC.PFD   \n",
      "97  7789                ASSOCIATED BANC-CORP        ASB           ASBpC.PFD   \n",
      "\n",
      "   gurufocus_stockid second_match_gurufocus_stockid  \n",
      "15            US0TUZ                         US06C0  \n",
      "18            US280P                         US066V  \n",
      "20            US06BL                         US066A  \n",
      "35            US0SWN                         US0SWO  \n",
      "39            US07TL                         US07TM  \n",
      "56            US06AN                         US06AO  \n",
      "61            US06JN                         US0628  \n",
      "64            US09O4                         US06FY  \n",
      "91            US09NC                         US09ND  \n",
      "97            US06FE                         US06FG  \n"
     ]
    }
   ],
   "execution_count": 11
  },
  {
   "metadata": {},
   "cell_type": "markdown",
   "source": "# TODO - add second_match column and filter by matched cik's - then delete incorrectly match companies",
   "id": "88db0cd96d7d23f7"
  },
  {
   "metadata": {
    "ExecuteTime": {
     "end_time": "2024-04-16T17:54:28.219055Z",
     "start_time": "2024-04-16T17:54:28.197944Z"
    }
   },
   "cell_type": "code",
   "source": [
    "companies_first_tickers = companies_with_two_tickers[['cik', 'company', 'ticker', 'gurufocus_stockid']]\n",
    "companies_first_tickers['second_match'] = False\n",
    "\n",
    "companies_second_tickers = companies_with_two_tickers[['cik', 'company', 'second_match_ticker', 'second_match_gurufocus_stockid']]\n",
    "companies_second_tickers.columns = ['cik', 'company', 'ticker', 'gurufocus_stockid']\n",
    "companies_second_tickers['second_match'] = True\n",
    "\n",
    "companies_with_two_tickers_flatten = pd.concat([companies_first_tickers, companies_second_tickers])\n",
    "\n",
    "print(len(companies_with_two_tickers_flatten))\n",
    "print(companies_with_two_tickers_flatten.head(10))"
   ],
   "id": "64920465bf2bb2d",
   "outputs": [
    {
     "name": "stdout",
     "output_type": "stream",
     "text": [
      "1318\n",
      "     cik                             company     ticker gurufocus_stockid  \\\n",
      "15  3153                    ALABAMA POWER CO  ALPpQ.PFD            US0TUZ   \n",
      "18  3333                 ALBERTSONS INC /DE/        ACI            US280P   \n",
      "20  3449  ALEXANDER & ALEXANDER SERVICES INC       ALEX            US06BL   \n",
      "35  4281               HOWMET AEROSPACE INC.        HWM            US0SWN   \n",
      "39  4447                           HESS CORP        HES            US07TL   \n",
      "56  5272  AMERICAN INTERNATIONAL GROUP, INC.        AIG            US06AN   \n",
      "61  5611                            FINA INC        TFC            US06JN   \n",
      "64  5907                           AT&T CORP          T            US09O4   \n",
      "91  7332              SOUTHWESTERN ENERGY CO        SWN            US09NC   \n",
      "97  7789                ASSOCIATED BANC-CORP        ASB            US06FE   \n",
      "\n",
      "    second_match  \n",
      "15         False  \n",
      "18         False  \n",
      "20         False  \n",
      "35         False  \n",
      "39         False  \n",
      "56         False  \n",
      "61         False  \n",
      "64         False  \n",
      "91         False  \n",
      "97         False  \n"
     ]
    }
   ],
   "execution_count": 19
  },
  {
   "metadata": {
    "ExecuteTime": {
     "end_time": "2024-04-16T17:53:23.316261Z",
     "start_time": "2024-04-16T17:53:23.295271Z"
    }
   },
   "cell_type": "code",
   "source": [
    "# sort companies_with_two_tickers_flatten by company name\n",
    "companies_with_two_tickers_flatten = companies_with_two_tickers_flatten.sort_values(by='ticker')\n",
    "print(companies_with_two_tickers_flatten.tail(10))"
   ],
   "id": "552044d67bd46ae5",
   "outputs": [
    {
     "name": "stdout",
     "output_type": "stream",
     "text": [
      "          cik                         company ticker gurufocus_stockid  \\\n",
      "6072  1094738            M&F BANCORP INC /NC/   ZOLL            US064K   \n",
      "435     36270                   M&T BANK CORP   ZOLL            US064K   \n",
      "1989   736473                     F&M BANCORP  ZZDEC            US0SNV   \n",
      "2815   830143              D&N FINANCIAL CORP  ZZDEC            US0SNV   \n",
      "4776  1011737          D&E COMMUNICATIONS INC  ZZDEC            US0SNV   \n",
      "3547   888914  D & K HEALTHCARE RESOURCES INC  ZZDEC            US0SNV   \n",
      "8351  1581091           RE/MAX HOLDINGS, INC.  ZZDEC            US0SNV   \n",
      "2011   740806                   F&M BANK CORP  ZZDEC            US0SNV   \n",
      "412     34125               F&M NATIONAL CORP  ZZDEC            US0SNV   \n",
      "2387   793049          F&M BANCORPORATION INC  ZZDEC            US0SNV   \n",
      "\n",
      "      second_match  \n",
      "6072          True  \n",
      "435           True  \n",
      "1989          True  \n",
      "2815          True  \n",
      "4776          True  \n",
      "3547          True  \n",
      "8351          True  \n",
      "2011          True  \n",
      "412           True  \n",
      "2387          True  \n"
     ]
    }
   ],
   "execution_count": 18
  },
  {
   "metadata": {
    "ExecuteTime": {
     "end_time": "2024-04-18T10:21:04.655321Z",
     "start_time": "2024-04-18T10:21:04.645792Z"
    }
   },
   "cell_type": "code",
   "source": [
    "not_found_financial_data_with_webdriver_timeout_exception_df = pd.read_json('not_found_financial_data_with_webdriver_timeout_exception_two_ticker_case_2024-04-16_22-22-08.json')\n",
    "not_found_financial_data_with_webdriver_timeout_exception_df.columns = ['cik', 'gurufocus_stockid', 'ticker', 'exception']\n",
    "not_found_financial_data_with_webdriver_timeout_exception_df.drop(columns=['exception'], inplace=True)\n",
    "print(not_found_financial_data_with_webdriver_timeout_exception_df.head())"
   ],
   "id": "d646343d5a2e7707",
   "outputs": [
    {
     "name": "stdout",
     "output_type": "stream",
     "text": [
      "     cik gurufocus_stockid     ticker\n",
      "0   3153            US0TUZ  ALPpQ.PFD\n",
      "1  65100            US03QZ       HYND\n",
      "2  66901            US07AP        EFM\n",
      "3  68622            US071Y        CTQ\n",
      "4  68813            US0KYL      MDMUF\n"
     ]
    }
   ],
   "execution_count": 3
  },
  {
   "metadata": {
    "ExecuteTime": {
     "end_time": "2024-04-18T10:23:12.872276Z",
     "start_time": "2024-04-18T10:23:12.852005Z"
    }
   },
   "cell_type": "code",
   "source": [
    "companies_with_two_tickers_flatten = pd.read_csv('companies_with_two_tickers_flatten_2024-04-16_22-22-08.csv', index_col=0)\n",
    "print(companies_with_two_tickers_flatten.head(10))"
   ],
   "id": "70d16d4347f93d79",
   "outputs": [
    {
     "name": "stdout",
     "output_type": "stream",
     "text": [
      "     cik                             company     ticker gurufocus_stockid  \\\n",
      "15  3153                    ALABAMA POWER CO  ALPpQ.PFD            US0TUZ   \n",
      "18  3333                 ALBERTSONS INC /DE/        ACI            US280P   \n",
      "20  3449  ALEXANDER & ALEXANDER SERVICES INC       ALEX            US06BL   \n",
      "35  4281               HOWMET AEROSPACE INC.        HWM            US0SWN   \n",
      "39  4447                           HESS CORP        HES            US07TL   \n",
      "56  5272  AMERICAN INTERNATIONAL GROUP, INC.        AIG            US06AN   \n",
      "61  5611                            FINA INC        TFC            US06JN   \n",
      "64  5907                           AT&T CORP          T            US09O4   \n",
      "91  7332              SOUTHWESTERN ENERGY CO        SWN            US09NC   \n",
      "97  7789                ASSOCIATED BANC-CORP        ASB            US06FE   \n",
      "\n",
      "    second_match                             gurufocus-company-name  \n",
      "15         False  \\n    Alabama Power Co  (Delisted)\\n    (NYSE:...  \n",
      "18         False  \\n    Albertsons Companies Inc \\n    (NYSE:ACI...  \n",
      "20         False  \\n    Alexander & Baldwin Inc \\n    (NYSE:ALEX...  \n",
      "35         False    \\n    Howmet Aerospace Inc \\n    (NYSE:HWM)\\n    \n",
      "39         False               \\n    Hess Corp \\n    (NYSE:HES)\\n    \n",
      "56         False  \\n    American International Group Inc \\n    (...  \n",
      "61         False   \\n    Truist Financial Corp \\n    (NYSE:TFC)\\n    \n",
      "64         False                  \\n    AT&T Inc \\n    (NYSE:T)\\n    \n",
      "91         False  \\n    Southwestern Energy Co \\n    (NYSE:SWN)\\n    \n",
      "97         False    \\n    Associated Banc-Corp \\n    (NYSE:ASB)\\n    \n"
     ]
    }
   ],
   "execution_count": 5
  },
  {
   "metadata": {
    "ExecuteTime": {
     "end_time": "2024-04-18T10:50:55.001765Z",
     "start_time": "2024-04-18T10:34:46.506063Z"
    }
   },
   "cell_type": "code",
   "source": [
    "# login\n",
    "driver = webdriver.Edge(options=options)\n",
    "driver.get(login_url)\n",
    "\n",
    "username = WebDriverWait(driver, 10).until(EC.presence_of_element_located((By.NAME, 'username')))\n",
    "password = WebDriverWait(driver, 10).until(EC.presence_of_element_located((By.NAME, 'password')))\n",
    "username.clear()\n",
    "password.clear()\n",
    "username.send_keys(payload['username'])\n",
    "password.send_keys(payload['password'])\n",
    "password.send_keys(Keys.RETURN)\n",
    "\n",
    "WebDriverWait(driver, 10).until(EC.presence_of_all_elements_located((By.LINK_TEXT, 'Articles')))\n",
    "time.sleep(1)\n",
    "\n",
    "\n",
    "not_found_financial_data_with_exception = []\n",
    "not_found_financial_data_with_webdriver_timeout_exception = []\n",
    "success_count = 0\n",
    "\n",
    "pbar = tqdm(not_found_financial_data_with_webdriver_timeout_exception_df.values.tolist())\n",
    "try:\n",
    "    for cik, stockid, ticker in pbar:\n",
    "        \n",
    "        url = f'https://www.gurufocus.com/stock/{stockid}/financials'\n",
    "        \n",
    "        try:\n",
    "            driver.get(url)\n",
    "            time.sleep(0.7)\n",
    "    \n",
    "            try:\n",
    "                WebDriverWait(driver, 10).until(EC.presence_of_all_elements_located((By.ID, 'financial_table_per_share_data')))\n",
    "                WebDriverWait(driver, 10).until(EC.presence_of_all_elements_located((By.ID, 'financial_table_ratios')))\n",
    "                WebDriverWait(driver, 10).until(EC.presence_of_all_elements_located((By.ID, 'financial_table_income_statement')))\n",
    "                WebDriverWait(driver, 10).until(EC.presence_of_all_elements_located((By.ID, 'financial_table_balance_sheet')))\n",
    "                WebDriverWait(driver, 10).until(EC.presence_of_all_elements_located((By.ID, 'financial_table_cashflow_statement')))\n",
    "                WebDriverWait(driver, 10).until(EC.presence_of_all_elements_located((By.ID, 'financial_table_valuation_ratios')))\n",
    "                WebDriverWait(driver, 10).until(EC.presence_of_all_elements_located((By.ID, 'financial_table_valuation_and_quality')))\n",
    "            except Exception as ex:\n",
    "                not_found_financial_data_with_webdriver_timeout_exception.append([cik, stockid, ticker, str(ex)])\n",
    "                continue\n",
    "    \n",
    "            page_source = driver.page_source\n",
    "            with open(f'gurufocus-immediate-response-for-stockid-two-tickers-case/page_source-{cik}-{stockid}_{ticker}.txt', 'w', encoding='utf-8') as f:\n",
    "                f.write(page_source)\n",
    "            \n",
    "            soup = BeautifulSoup(page_source, 'html.parser')\n",
    "        \n",
    "            gurufocus_company_name = soup.find('div', {'id': 'stock-header'}).find('div').text\n",
    "    \n",
    "            mask = (companies_with_two_tickers_flatten['cik'] == cik) & (companies_with_two_tickers_flatten['gurufocus_stockid'] == stockid)\n",
    "            companies_with_two_tickers_flatten.loc[mask, 'gurufocus-company-name'] = gurufocus_company_name\n",
    "\n",
    "            tables = soup.find_all('table')\n",
    "            \n",
    "            page_tables_ids = []\n",
    "            for table in tables:\n",
    "                try:\n",
    "                    table_id = table.get('id')\n",
    "                    if table_id:\n",
    "                        page_tables_ids.append(table_id)\n",
    "                except:\n",
    "                    pass\n",
    "            \n",
    "            if all(table_id not in page_tables_ids for table_id in table_ids):\n",
    "                pass\n",
    "            else:\n",
    "                merged_df = pd.DataFrame()\n",
    "                for table_id in table_ids:\n",
    "                    table = soup.find(id=table_id)\n",
    "                    df = pd.read_html(str(table), skiprows=1, header=0)[0]\n",
    "                    df = process_df(df)\n",
    "                    merged_df = pd.concat([merged_df, df])\n",
    "                    \n",
    "                merged_df.reset_index(drop=True, inplace=True)\n",
    "                merged_df.to_csv(f'financial_data_two_tickers_case/{cik}-{stockid}_{ticker}.csv')\n",
    "                \n",
    "                success_count += 1\n",
    "                pbar.set_description(f\"Success: {success_count}\")\n",
    "    \n",
    "        except Exception as ex:\n",
    "            not_found_financial_data_with_exception.append([cik, stockid, ticker, str(ex)])\n",
    "\n",
    "finally:\n",
    "    driver.close()\n",
    "    \n",
    "    datetime_now = datetime.datetime.now().strftime(\"%Y-%m-%d_%H-%M-%S\")\n",
    "    \n",
    "    companies_with_two_tickers_flatten.to_csv(f'companies_with_two_tickers_flatten_{datetime_now}.csv')\n",
    "\n",
    "    with open(f'not_found_financial_data_with_exception_two_ticker_case_{datetime_now}.json', 'w') as file:\n",
    "        json.dump(list(not_found_financial_data_with_exception), file)\n",
    "        \n",
    "    with open(f'not_found_financial_data_with_webdriver_timeout_exception_two_ticker_case_{datetime_now}.json', 'w') as file:\n",
    "        json.dump(list(not_found_financial_data_with_webdriver_timeout_exception), file)"
   ],
   "id": "4eae074d3d987b99",
   "outputs": [
    {
     "name": "stderr",
     "output_type": "stream",
     "text": [
      "Success: 2: 100%|██████████| 76/76 [15:58<00:00, 12.61s/it]\n"
     ]
    }
   ],
   "execution_count": 8
  },
  {
   "metadata": {},
   "cell_type": "markdown",
   "source": "76 companies with two tickers have not been processed due to webdriver timeout exception. It was so, because most of the tickers are just etf's and gurufocus.com does not provide financial data for them. Rest of that 76 companies have not been processed because gurufocus.com noted them as (old) and (delisted) and cannot display its data.",
   "id": "a6bbb27040a5a32c"
  },
  {
   "metadata": {
    "ExecuteTime": {
     "end_time": "2024-04-16T20:22:49.504128Z",
     "start_time": "2024-04-16T20:22:49.496526Z"
    }
   },
   "cell_type": "code",
   "source": [
    "print(f\"Number of companies with not found financial data with exception: {len(not_found_financial_data_with_exception)}\")\n",
    "print(f\"Number of companies with not found financial data with webdriver timeout exception: {len(not_found_financial_data_with_webdriver_timeout_exception)}\")"
   ],
   "id": "b11031c4b377b6b8",
   "outputs": [
    {
     "name": "stdout",
     "output_type": "stream",
     "text": [
      "Number of companies with not found financial data with exception: 0\n",
      "Number of companies with not found financial data with webdriver timeout exception: 76\n"
     ]
    }
   ],
   "execution_count": 31
  },
  {
   "metadata": {},
   "cell_type": "markdown",
   "source": "## TODO later",
   "id": "5dde5a34e5b5f7c3"
  },
  {
   "cell_type": "code",
   "outputs": [],
   "source": [
    "import os\n",
    "\n",
    "directory = 'financial_data'\n",
    "\n",
    "found_data_tickers = []\n",
    "\n",
    "for filename in os.listdir(directory):\n",
    "    if filename.endswith('.csv'):  # Ensure it's a CSV file\n",
    "        found_data_tickers.append(filename.replace('.csv', ''))\n",
    "    else:\n",
    "        print(f\"File {filename} is not a CSV file\")"
   ],
   "metadata": {
    "collapsed": false,
    "ExecuteTime": {
     "end_time": "2024-04-14T07:37:10.117012Z",
     "start_time": "2024-04-14T07:37:10.109815Z"
    }
   },
   "id": "b5c4e64f840e6675",
   "execution_count": 7
  },
  {
   "cell_type": "code",
   "outputs": [
    {
     "name": "stdout",
     "output_type": "stream",
     "text": [
      "Number of companies with not found tickers: 9099\n"
     ]
    }
   ],
   "source": [
    "unique_companies_tickers = prediction_subset.groupby('cik').agg(ticker=('ticker', 'last')).reset_index()\n",
    "number_of_companies_with_not_found_tickers = unique_companies_tickers['ticker'].isnull().sum()\n",
    "print(f\"Number of companies with not found tickers: {number_of_companies_with_not_found_tickers}\")"
   ],
   "metadata": {
    "collapsed": false,
    "ExecuteTime": {
     "end_time": "2024-04-12T20:16:09.024873Z",
     "start_time": "2024-04-12T20:16:09.011433Z"
    }
   },
   "id": "e08cb42e823999d2",
   "execution_count": 10
  },
  {
   "metadata": {},
   "cell_type": "markdown",
   "source": "### Process downloaded data",
   "id": "482f0b4f125320f3"
  },
  {
   "metadata": {
    "ExecuteTime": {
     "end_time": "2024-04-18T18:48:48.327151Z",
     "start_time": "2024-04-18T18:48:48.305336Z"
    }
   },
   "cell_type": "code",
   "source": "companies_with_two_tickers_flatten = pd.read_csv('companies_with_two_tickers_flatten_2024-04-18_12-50-54.csv', index_col=0)",
   "id": "819ab892eab84e05",
   "outputs": [],
   "execution_count": 65
  },
  {
   "metadata": {
    "ExecuteTime": {
     "end_time": "2024-04-18T18:48:57.034346Z",
     "start_time": "2024-04-18T18:48:57.021939Z"
    }
   },
   "cell_type": "code",
   "source": [
    "print(companies_with_two_tickers_flatten.head(10))\n",
    "print(len(companies_with_two_tickers_flatten))"
   ],
   "id": "3b9e8ddaa4ecb6fb",
   "outputs": [
    {
     "name": "stdout",
     "output_type": "stream",
     "text": [
      "     cik                             company     ticker gurufocus_stockid  \\\n",
      "15  3153                    ALABAMA POWER CO  ALPpQ.PFD            US0TUZ   \n",
      "18  3333                 ALBERTSONS INC /DE/        ACI            US280P   \n",
      "20  3449  ALEXANDER & ALEXANDER SERVICES INC       ALEX            US06BL   \n",
      "35  4281               HOWMET AEROSPACE INC.        HWM            US0SWN   \n",
      "39  4447                           HESS CORP        HES            US07TL   \n",
      "56  5272  AMERICAN INTERNATIONAL GROUP, INC.        AIG            US06AN   \n",
      "61  5611                            FINA INC        TFC            US06JN   \n",
      "64  5907                           AT&T CORP          T            US09O4   \n",
      "91  7332              SOUTHWESTERN ENERGY CO        SWN            US09NC   \n",
      "97  7789                ASSOCIATED BANC-CORP        ASB            US06FE   \n",
      "\n",
      "    second_match                             gurufocus-company-name  \n",
      "15         False  \\n    Alabama Power Co  (Delisted)\\n    (NYSE:...  \n",
      "18         False  \\n    Albertsons Companies Inc \\n    (NYSE:ACI...  \n",
      "20         False  \\n    Alexander & Baldwin Inc \\n    (NYSE:ALEX...  \n",
      "35         False    \\n    Howmet Aerospace Inc \\n    (NYSE:HWM)\\n    \n",
      "39         False               \\n    Hess Corp \\n    (NYSE:HES)\\n    \n",
      "56         False  \\n    American International Group Inc \\n    (...  \n",
      "61         False   \\n    Truist Financial Corp \\n    (NYSE:TFC)\\n    \n",
      "64         False                  \\n    AT&T Inc \\n    (NYSE:T)\\n    \n",
      "91         False  \\n    Southwestern Energy Co \\n    (NYSE:SWN)\\n    \n",
      "97         False    \\n    Associated Banc-Corp \\n    (NYSE:ASB)\\n    \n",
      "1318\n"
     ]
    }
   ],
   "execution_count": 66
  },
  {
   "metadata": {
    "ExecuteTime": {
     "end_time": "2024-04-18T18:49:07.473109Z",
     "start_time": "2024-04-18T18:49:07.470128Z"
    }
   },
   "cell_type": "code",
   "source": [
    "def process_gurufocus_company_name_column(col):\n",
    "    col = col.str.strip()\n",
    "    col = col.astype(str)\n",
    "    col = col.apply(lambda x: x.split('\\n')[0])\n",
    "    return col"
   ],
   "id": "1a2ea92f46c55885",
   "outputs": [],
   "execution_count": 67
  },
  {
   "metadata": {
    "ExecuteTime": {
     "end_time": "2024-04-18T18:49:12.958366Z",
     "start_time": "2024-04-18T18:49:12.952706Z"
    }
   },
   "cell_type": "code",
   "source": [
    "companies_with_two_tickers_flatten['gurufocus-company-name'] = process_gurufocus_company_name_column(companies_with_two_tickers_flatten['gurufocus-company-name'])\n",
    "\n",
    "print(companies_with_two_tickers_flatten.head(10))"
   ],
   "id": "b8dd45003a533c16",
   "outputs": [
    {
     "name": "stdout",
     "output_type": "stream",
     "text": [
      "     cik                             company     ticker gurufocus_stockid  \\\n",
      "15  3153                    ALABAMA POWER CO  ALPpQ.PFD            US0TUZ   \n",
      "18  3333                 ALBERTSONS INC /DE/        ACI            US280P   \n",
      "20  3449  ALEXANDER & ALEXANDER SERVICES INC       ALEX            US06BL   \n",
      "35  4281               HOWMET AEROSPACE INC.        HWM            US0SWN   \n",
      "39  4447                           HESS CORP        HES            US07TL   \n",
      "56  5272  AMERICAN INTERNATIONAL GROUP, INC.        AIG            US06AN   \n",
      "61  5611                            FINA INC        TFC            US06JN   \n",
      "64  5907                           AT&T CORP          T            US09O4   \n",
      "91  7332              SOUTHWESTERN ENERGY CO        SWN            US09NC   \n",
      "97  7789                ASSOCIATED BANC-CORP        ASB            US06FE   \n",
      "\n",
      "    second_match             gurufocus-company-name  \n",
      "15         False       Alabama Power Co  (Delisted)  \n",
      "18         False          Albertsons Companies Inc   \n",
      "20         False           Alexander & Baldwin Inc   \n",
      "35         False              Howmet Aerospace Inc   \n",
      "39         False                         Hess Corp   \n",
      "56         False  American International Group Inc   \n",
      "61         False             Truist Financial Corp   \n",
      "64         False                          AT&T Inc   \n",
      "91         False            Southwestern Energy Co   \n",
      "97         False              Associated Banc-Corp   \n"
     ]
    }
   ],
   "execution_count": 68
  },
  {
   "metadata": {
    "ExecuteTime": {
     "end_time": "2024-04-18T20:11:23.785280Z",
     "start_time": "2024-04-18T20:11:23.765120Z"
    }
   },
   "cell_type": "code",
   "source": "companies_with_two_tickers_flatten = pd.read_csv('companies_with_two_tickers_flatten_2024-04-18_12-50-54_cleaned.csv')",
   "id": "632d3d1e5dbc2a56",
   "outputs": [],
   "execution_count": 6
  },
  {
   "metadata": {
    "ExecuteTime": {
     "end_time": "2024-04-18T20:11:57.609087Z",
     "start_time": "2024-04-18T20:11:57.599629Z"
    }
   },
   "cell_type": "code",
   "source": "companies_with_two_tickers_flatten.head()",
   "id": "70f026c71a02e1de",
   "outputs": [
    {
     "data": {
      "text/plain": [
       "   Unnamed: 0   cik                             company     ticker  \\\n",
       "0          15  3153                    ALABAMA POWER CO  ALPpQ.PFD   \n",
       "1          18  3333                 ALBERTSONS INC /DE/        ACI   \n",
       "2          20  3449  ALEXANDER & ALEXANDER SERVICES INC       ALEX   \n",
       "3          35  4281               HOWMET AEROSPACE INC.        HWM   \n",
       "4          39  4447                           HESS CORP        HES   \n",
       "\n",
       "  gurufocus_stockid  second_match        gurufocus-company-name  \n",
       "0            US0TUZ         False  Alabama Power Co  (Delisted)  \n",
       "1            US280P         False     Albertsons Companies Inc   \n",
       "2            US06BL         False      Alexander & Baldwin Inc   \n",
       "3            US0SWN         False         Howmet Aerospace Inc   \n",
       "4            US07TL         False                    Hess Corp   "
      ],
      "text/html": [
       "<div>\n",
       "<style scoped>\n",
       "    .dataframe tbody tr th:only-of-type {\n",
       "        vertical-align: middle;\n",
       "    }\n",
       "\n",
       "    .dataframe tbody tr th {\n",
       "        vertical-align: top;\n",
       "    }\n",
       "\n",
       "    .dataframe thead th {\n",
       "        text-align: right;\n",
       "    }\n",
       "</style>\n",
       "<table border=\"1\" class=\"dataframe\">\n",
       "  <thead>\n",
       "    <tr style=\"text-align: right;\">\n",
       "      <th></th>\n",
       "      <th>Unnamed: 0</th>\n",
       "      <th>cik</th>\n",
       "      <th>company</th>\n",
       "      <th>ticker</th>\n",
       "      <th>gurufocus_stockid</th>\n",
       "      <th>second_match</th>\n",
       "      <th>gurufocus-company-name</th>\n",
       "    </tr>\n",
       "  </thead>\n",
       "  <tbody>\n",
       "    <tr>\n",
       "      <th>0</th>\n",
       "      <td>15</td>\n",
       "      <td>3153</td>\n",
       "      <td>ALABAMA POWER CO</td>\n",
       "      <td>ALPpQ.PFD</td>\n",
       "      <td>US0TUZ</td>\n",
       "      <td>False</td>\n",
       "      <td>Alabama Power Co  (Delisted)</td>\n",
       "    </tr>\n",
       "    <tr>\n",
       "      <th>1</th>\n",
       "      <td>18</td>\n",
       "      <td>3333</td>\n",
       "      <td>ALBERTSONS INC /DE/</td>\n",
       "      <td>ACI</td>\n",
       "      <td>US280P</td>\n",
       "      <td>False</td>\n",
       "      <td>Albertsons Companies Inc</td>\n",
       "    </tr>\n",
       "    <tr>\n",
       "      <th>2</th>\n",
       "      <td>20</td>\n",
       "      <td>3449</td>\n",
       "      <td>ALEXANDER &amp; ALEXANDER SERVICES INC</td>\n",
       "      <td>ALEX</td>\n",
       "      <td>US06BL</td>\n",
       "      <td>False</td>\n",
       "      <td>Alexander &amp; Baldwin Inc</td>\n",
       "    </tr>\n",
       "    <tr>\n",
       "      <th>3</th>\n",
       "      <td>35</td>\n",
       "      <td>4281</td>\n",
       "      <td>HOWMET AEROSPACE INC.</td>\n",
       "      <td>HWM</td>\n",
       "      <td>US0SWN</td>\n",
       "      <td>False</td>\n",
       "      <td>Howmet Aerospace Inc</td>\n",
       "    </tr>\n",
       "    <tr>\n",
       "      <th>4</th>\n",
       "      <td>39</td>\n",
       "      <td>4447</td>\n",
       "      <td>HESS CORP</td>\n",
       "      <td>HES</td>\n",
       "      <td>US07TL</td>\n",
       "      <td>False</td>\n",
       "      <td>Hess Corp</td>\n",
       "    </tr>\n",
       "  </tbody>\n",
       "</table>\n",
       "</div>"
      ]
     },
     "execution_count": 7,
     "metadata": {},
     "output_type": "execute_result"
    }
   ],
   "execution_count": 7
  },
  {
   "metadata": {
    "ExecuteTime": {
     "end_time": "2024-04-18T20:13:36.014391Z",
     "start_time": "2024-04-18T20:13:31.641262Z"
    }
   },
   "cell_type": "code",
   "source": [
    "import os\n",
    "\n",
    "directory = 'gurufocus-immediate-response-for-stockid-two-tickers-case'\n",
    "\n",
    "for filename in os.listdir(directory):\n",
    "    if filename.endswith('.txt'):\n",
    "        \n",
    "        with open(f'{directory}/{filename}', 'r', encoding='utf-8') as f:\n",
    "            content = f.read()\n",
    "            cik_index = content.find('cik')  \n",
    "            \n",
    "            if cik_index != -1:\n",
    "                \n",
    "                filename = filename.replace('.txt', '')\n",
    "                filename = filename.replace('page_source-', '')\n",
    "                cik, gurufocus_stockid = filename.split('_')[0].split('-') \n",
    "                \n",
    "                gurufocus_cik = content[cik_index + 5: cik_index + 15]\n",
    "                try:\n",
    "                    gurufocus_cik = int(gurufocus_cik.split('\"')[0])\n",
    "                    mask = (companies_with_two_tickers_flatten['cik'] == int(cik)) & (companies_with_two_tickers_flatten['gurufocus_stockid'] == gurufocus_stockid)\n",
    "                    companies_with_two_tickers_flatten.loc[mask, 'gurufocus-cik'] = gurufocus_cik\n",
    "                except:\n",
    "                    print(f\"Error for file: {filename}. Gurufocus cik: {gurufocus_cik}\")\n",
    "                \n",
    "            else:\n",
    "                print(f\"cik not found. File: {filename}\")\n",
    "            \n",
    "    else:\n",
    "        print(f\"File {filename} is not a TXT file\")"
   ],
   "id": "5ab5a89ff3ff1f32",
   "outputs": [
    {
     "name": "stdout",
     "output_type": "stream",
     "text": [
      "Error for file: 1004980-CA03R4_PGN.H. Gurufocus cik: ,class_des\n",
      "Error for file: 1016933-CA01JL_R. Gurufocus cik: ,class_des\n",
      "Error for file: 1061068-CA02XP_GBO.H. Gurufocus cik: ,class_des\n",
      "Error for file: 1129989-CA03R4_PGN.H. Gurufocus cik: ,class_des\n",
      "Error for file: 1143155-US0ST1_XBKS. Gurufocus cik: ,class_des\n",
      "Error for file: 1387467-CA00WV_HAP.UN. Gurufocus cik: ,class_des\n",
      "Error for file: 1393311-CA01I2_PUB. Gurufocus cik: ,class_des\n",
      "Error for file: 1442741-US0ST1_XBKS. Gurufocus cik: ,class_des\n",
      "Error for file: 1600125-US04DV_MRDN. Gurufocus cik: ,class_des\n",
      "Error for file: 1656239-US0STA_PNK. Gurufocus cik: ,class_des\n",
      "Error for file: 1800227-CA00Z5_IAC. Gurufocus cik: ,class_des\n",
      "Error for file: 276104-US0AYG_UMDA. Gurufocus cik: ,class_des\n",
      "Error for file: 320387-US0AI6_FMJE. Gurufocus cik: ,class_des\n",
      "Error for file: 704054-US0AF2_CZPY. Gurufocus cik: ,class_des\n",
      "Error for file: 707606-CA04JN_XDS_H. Gurufocus cik: ,class_des\n",
      "Error for file: 723916-US04DV_MRDN. Gurufocus cik: ,class_des\n",
      "Error for file: 768608-US0AXF_TBWN. Gurufocus cik: ,class_des\n",
      "Error for file: 810958-US0AF2_CZPY. Gurufocus cik: ,class_des\n",
      "Error for file: 84548-CA03YN_ROH. Gurufocus cik: ,class_des\n",
      "Error for file: 883237-US0T30_VRTSP.PFD. Gurufocus cik: ,class_des\n",
      "Error for file: 899596-CA009M_BNQ.UN. Gurufocus cik: ,class_des\n",
      "Error for file: 906110-US0AXF_TBWN. Gurufocus cik: ,class_des\n",
      "Error for file: 908837-CA019S_NB. Gurufocus cik: ,class_des\n"
     ]
    }
   ],
   "execution_count": 8
  },
  {
   "metadata": {
    "ExecuteTime": {
     "end_time": "2024-04-18T20:24:08.692080Z",
     "start_time": "2024-04-18T20:24:08.678810Z"
    }
   },
   "cell_type": "code",
   "source": [
    "test = companies_with_two_tickers_flatten['cik'].astype(str) + companies_with_two_tickers_flatten['gurufocus_stockid']\n",
    "print(len(test.unique()))"
   ],
   "id": "865bc612fdaa483a",
   "outputs": [
    {
     "name": "stdout",
     "output_type": "stream",
     "text": [
      "1318\n"
     ]
    }
   ],
   "execution_count": 23
  },
  {
   "metadata": {
    "ExecuteTime": {
     "end_time": "2024-04-18T20:14:18.461390Z",
     "start_time": "2024-04-18T20:14:18.443908Z"
    }
   },
   "cell_type": "code",
   "source": [
    "companies_with_two_tickers_flatten_with_gurufocus_cik = companies_with_two_tickers_flatten[companies_with_two_tickers_flatten['gurufocus-cik'].notnull()]\n",
    "print(len(companies_with_two_tickers_flatten_with_gurufocus_cik))\n",
    "print(len(companies_with_two_tickers_flatten))"
   ],
   "id": "f188a4f327c9a80d",
   "outputs": [
    {
     "name": "stdout",
     "output_type": "stream",
     "text": [
      "1222\n",
      "1318\n"
     ]
    }
   ],
   "execution_count": 11
  },
  {
   "metadata": {
    "ExecuteTime": {
     "end_time": "2024-04-18T20:30:57.211669Z",
     "start_time": "2024-04-18T20:30:57.197306Z"
    }
   },
   "cell_type": "code",
   "source": [
    "companies_with_two_tickers_flatten_with_gurufocus_cik['cik-equal-gurufocus-cik'] = companies_with_two_tickers_flatten_with_gurufocus_cik['cik'] == companies_with_two_tickers_flatten_with_gurufocus_cik['gurufocus-cik']\n",
    "\n",
    "print(companies_with_two_tickers_flatten_with_gurufocus_cik['cik-equal-gurufocus-cik'].value_counts())"
   ],
   "id": "e78aa58a7b987c75",
   "outputs": [
    {
     "name": "stdout",
     "output_type": "stream",
     "text": [
      "cik-equal-gurufocus-cik\n",
      "True     864\n",
      "False    358\n",
      "Name: count, dtype: int64\n"
     ]
    }
   ],
   "execution_count": 25
  },
  {
   "metadata": {
    "ExecuteTime": {
     "end_time": "2024-04-18T20:33:06.603158Z",
     "start_time": "2024-04-18T20:33:06.589159Z"
    }
   },
   "cell_type": "code",
   "source": "companies_with_two_tickers_flatten_with_gurufocus_cik['first_match'] = ~companies_with_two_tickers_flatten_with_gurufocus_cik['second_match']",
   "id": "5eb8082e18db99a8",
   "outputs": [],
   "execution_count": 26
  },
  {
   "metadata": {
    "ExecuteTime": {
     "end_time": "2024-04-18T20:33:08.460623Z",
     "start_time": "2024-04-18T20:33:08.437803Z"
    }
   },
   "cell_type": "code",
   "source": [
    "companies_with_two_tickers_flatten_with_gurufocus_cik.sort_values(by=['cik-equal-gurufocus-cik', 'first_match'], inplace=True)\n",
    "# change column order\n",
    "companies_with_two_tickers_flatten_with_gurufocus_cik = companies_with_two_tickers_flatten_with_gurufocus_cik[['company', 'gurufocus-company-name', 'first_match', 'cik', 'ticker', 'gurufocus_stockid', 'gurufocus-cik', 'cik-equal-gurufocus-cik']]\n",
    "# companies_with_two_tickers_flatten_with_gurufocus_cik.to_csv('companies_with_two_tickers_flatten_with_gurufocus_cik_2024-04-18_12-50-54.csv')"
   ],
   "id": "a7f70b79931a913",
   "outputs": [],
   "execution_count": 27
  },
  {
   "metadata": {
    "ExecuteTime": {
     "end_time": "2024-04-18T20:33:19.685369Z",
     "start_time": "2024-04-18T20:33:19.674585Z"
    }
   },
   "cell_type": "code",
   "source": "companies_with_two_tickers_flatten_with_gurufocus_cik.head(10)",
   "id": "6efcfa54767a9802",
   "outputs": [
    {
     "data": {
      "text/plain": [
       "                                  company  \\\n",
       "660                   ALBERTSONS INC /DE/   \n",
       "665                              FINA INC   \n",
       "666                             AT&T CORP   \n",
       "670                   BLACK & DECKER CORP   \n",
       "671                         H&R BLOCK INC   \n",
       "672  BROWN & SHARPE MANUFACTURING CO /DE/   \n",
       "674             CENTRAL & SOUTH WEST CORP   \n",
       "681                  DOUGLAS & LOMASON CO   \n",
       "683                     F&M NATIONAL CORP   \n",
       "687                         M&T BANK CORP   \n",
       "\n",
       "                     gurufocus-company-name  first_match    cik ticker  \\\n",
       "660    Albertsons Companies Inc  (Delisted)        False   3333    ABS   \n",
       "665     Waypoint Financial Corp  (Delisted)        False   5611   WYPT   \n",
       "666                 Alltel Corp  (Delisted)        False   5907     AT   \n",
       "670                          BlackRock Inc         False  12355    BLK   \n",
       "671                Realogy Corp  (Delisted)        False  12659      H   \n",
       "672  Browning-Ferris Industries  (Delisted)        False  14637    BFI   \n",
       "674          Central Plains Bancshares Inc         False  18540   CPBI   \n",
       "681     Mc Donnell Douglas Corp  (Delisted)        False  29854     MD   \n",
       "683  DSI Realty Income Fund VII  (Delisted)        False  34125  ZZDEC   \n",
       "687           Zoll Medical Corp  (Delisted)        False  36270   ZOLL   \n",
       "\n",
       "    gurufocus_stockid  gurufocus-cik  cik-equal-gurufocus-cik  \n",
       "660            US066V      1646972.0                    False  \n",
       "665            US0628      1034650.0                    False  \n",
       "666            US06FY        65873.0                    False  \n",
       "670            US06NA      1364742.0                    False  \n",
       "671            US07SK      1355001.0                    False  \n",
       "672            US06LA        14827.0                    False  \n",
       "674            US2GH6      1979332.0                    False  \n",
       "681            US08DH        63917.0                    False  \n",
       "683            US0SNV       719581.0                    False  \n",
       "687            US064K       887568.0                    False  "
      ],
      "text/html": [
       "<div>\n",
       "<style scoped>\n",
       "    .dataframe tbody tr th:only-of-type {\n",
       "        vertical-align: middle;\n",
       "    }\n",
       "\n",
       "    .dataframe tbody tr th {\n",
       "        vertical-align: top;\n",
       "    }\n",
       "\n",
       "    .dataframe thead th {\n",
       "        text-align: right;\n",
       "    }\n",
       "</style>\n",
       "<table border=\"1\" class=\"dataframe\">\n",
       "  <thead>\n",
       "    <tr style=\"text-align: right;\">\n",
       "      <th></th>\n",
       "      <th>company</th>\n",
       "      <th>gurufocus-company-name</th>\n",
       "      <th>first_match</th>\n",
       "      <th>cik</th>\n",
       "      <th>ticker</th>\n",
       "      <th>gurufocus_stockid</th>\n",
       "      <th>gurufocus-cik</th>\n",
       "      <th>cik-equal-gurufocus-cik</th>\n",
       "    </tr>\n",
       "  </thead>\n",
       "  <tbody>\n",
       "    <tr>\n",
       "      <th>660</th>\n",
       "      <td>ALBERTSONS INC /DE/</td>\n",
       "      <td>Albertsons Companies Inc  (Delisted)</td>\n",
       "      <td>False</td>\n",
       "      <td>3333</td>\n",
       "      <td>ABS</td>\n",
       "      <td>US066V</td>\n",
       "      <td>1646972.0</td>\n",
       "      <td>False</td>\n",
       "    </tr>\n",
       "    <tr>\n",
       "      <th>665</th>\n",
       "      <td>FINA INC</td>\n",
       "      <td>Waypoint Financial Corp  (Delisted)</td>\n",
       "      <td>False</td>\n",
       "      <td>5611</td>\n",
       "      <td>WYPT</td>\n",
       "      <td>US0628</td>\n",
       "      <td>1034650.0</td>\n",
       "      <td>False</td>\n",
       "    </tr>\n",
       "    <tr>\n",
       "      <th>666</th>\n",
       "      <td>AT&amp;T CORP</td>\n",
       "      <td>Alltel Corp  (Delisted)</td>\n",
       "      <td>False</td>\n",
       "      <td>5907</td>\n",
       "      <td>AT</td>\n",
       "      <td>US06FY</td>\n",
       "      <td>65873.0</td>\n",
       "      <td>False</td>\n",
       "    </tr>\n",
       "    <tr>\n",
       "      <th>670</th>\n",
       "      <td>BLACK &amp; DECKER CORP</td>\n",
       "      <td>BlackRock Inc</td>\n",
       "      <td>False</td>\n",
       "      <td>12355</td>\n",
       "      <td>BLK</td>\n",
       "      <td>US06NA</td>\n",
       "      <td>1364742.0</td>\n",
       "      <td>False</td>\n",
       "    </tr>\n",
       "    <tr>\n",
       "      <th>671</th>\n",
       "      <td>H&amp;R BLOCK INC</td>\n",
       "      <td>Realogy Corp  (Delisted)</td>\n",
       "      <td>False</td>\n",
       "      <td>12659</td>\n",
       "      <td>H</td>\n",
       "      <td>US07SK</td>\n",
       "      <td>1355001.0</td>\n",
       "      <td>False</td>\n",
       "    </tr>\n",
       "    <tr>\n",
       "      <th>672</th>\n",
       "      <td>BROWN &amp; SHARPE MANUFACTURING CO /DE/</td>\n",
       "      <td>Browning-Ferris Industries  (Delisted)</td>\n",
       "      <td>False</td>\n",
       "      <td>14637</td>\n",
       "      <td>BFI</td>\n",
       "      <td>US06LA</td>\n",
       "      <td>14827.0</td>\n",
       "      <td>False</td>\n",
       "    </tr>\n",
       "    <tr>\n",
       "      <th>674</th>\n",
       "      <td>CENTRAL &amp; SOUTH WEST CORP</td>\n",
       "      <td>Central Plains Bancshares Inc</td>\n",
       "      <td>False</td>\n",
       "      <td>18540</td>\n",
       "      <td>CPBI</td>\n",
       "      <td>US2GH6</td>\n",
       "      <td>1979332.0</td>\n",
       "      <td>False</td>\n",
       "    </tr>\n",
       "    <tr>\n",
       "      <th>681</th>\n",
       "      <td>DOUGLAS &amp; LOMASON CO</td>\n",
       "      <td>Mc Donnell Douglas Corp  (Delisted)</td>\n",
       "      <td>False</td>\n",
       "      <td>29854</td>\n",
       "      <td>MD</td>\n",
       "      <td>US08DH</td>\n",
       "      <td>63917.0</td>\n",
       "      <td>False</td>\n",
       "    </tr>\n",
       "    <tr>\n",
       "      <th>683</th>\n",
       "      <td>F&amp;M NATIONAL CORP</td>\n",
       "      <td>DSI Realty Income Fund VII  (Delisted)</td>\n",
       "      <td>False</td>\n",
       "      <td>34125</td>\n",
       "      <td>ZZDEC</td>\n",
       "      <td>US0SNV</td>\n",
       "      <td>719581.0</td>\n",
       "      <td>False</td>\n",
       "    </tr>\n",
       "    <tr>\n",
       "      <th>687</th>\n",
       "      <td>M&amp;T BANK CORP</td>\n",
       "      <td>Zoll Medical Corp  (Delisted)</td>\n",
       "      <td>False</td>\n",
       "      <td>36270</td>\n",
       "      <td>ZOLL</td>\n",
       "      <td>US064K</td>\n",
       "      <td>887568.0</td>\n",
       "      <td>False</td>\n",
       "    </tr>\n",
       "  </tbody>\n",
       "</table>\n",
       "</div>"
      ]
     },
     "execution_count": 28,
     "metadata": {},
     "output_type": "execute_result"
    }
   ],
   "execution_count": 28
  },
  {
   "metadata": {
    "ExecuteTime": {
     "end_time": "2024-04-18T20:54:50.298065Z",
     "start_time": "2024-04-18T20:54:50.287334Z"
    }
   },
   "cell_type": "code",
   "source": [
    "matched_two_ticker_companies_processed = companies_with_two_tickers_flatten_with_gurufocus_cik[companies_with_two_tickers_flatten_with_gurufocus_cik['cik-equal-gurufocus-cik'] == True]\n",
    "\n",
    "# group by cik\n",
    "is_duplicated = matched_two_ticker_companies_processed['cik'].duplicated(keep=False)\n",
    "\n",
    "duplicated_rows = matched_two_ticker_companies_processed[is_duplicated]\n",
    "duplicated_rows = duplicated_rows.sort_values('cik')\n",
    "\n",
    "duplicated_rows = duplicated_rows[['cik', 'company', 'gurufocus-company-name', 'first_match', 'ticker', 'gurufocus_stockid', 'gurufocus-cik', 'cik-equal-gurufocus-cik']].reset_index(drop=True)\n",
    "\n",
    "# get from matched_two_ticker_companies_processed companies that were \n",
    "duplicated_rows.to_csv('duplicated_rows.csv')"
   ],
   "id": "997df2ce9264638b",
   "outputs": [],
   "execution_count": 35
  },
  {
   "cell_type": "markdown",
   "source": [
    "# Part 4\n",
    "\n",
    "Checking tickers for all companies with edgar search"
   ],
   "metadata": {
    "collapsed": false
   },
   "id": "4a238f1fb438bdf8"
  },
  {
   "cell_type": "code",
   "outputs": [],
   "source": [
    "import pandas as pd\n",
    "import warnings\n",
    "warnings.filterwarnings(\"ignore\")"
   ],
   "metadata": {
    "collapsed": false,
    "ExecuteTime": {
     "end_time": "2024-04-13T06:43:26.983189Z",
     "start_time": "2024-04-13T06:43:26.406388Z"
    }
   },
   "id": "66486ee35e664dd1",
   "execution_count": 1
  },
  {
   "cell_type": "code",
   "outputs": [],
   "source": [
    "partially_filled_dataset = pd.read_csv('ECL_with_ticker_2024-04-12_19-10-45.csv', index_col=0)"
   ],
   "metadata": {
    "collapsed": false,
    "ExecuteTime": {
     "end_time": "2024-04-13T06:45:48.949745Z",
     "start_time": "2024-04-13T06:45:48.788259Z"
    }
   },
   "id": "f50130c2a04deec9",
   "execution_count": 5
  },
  {
   "cell_type": "code",
   "outputs": [
    {
     "name": "stdout",
     "output_type": "stream",
     "text": [
      "61973\n"
     ]
    }
   ],
   "source": [
    "print(partially_filled_dataset.count())"
   ],
   "metadata": {
    "collapsed": false,
    "ExecuteTime": {
     "end_time": "2024-04-13T06:46:11.111413Z",
     "start_time": "2024-04-13T06:46:11.104582Z"
    }
   },
   "id": "6814e7d52ffbd1dc",
   "execution_count": 7
  },
  {
   "cell_type": "code",
   "outputs": [
    {
     "name": "stdout",
     "output_type": "stream",
     "text": [
      "    cik   company period_of_report   gvkey    datadate  \\\n",
      "0  1750  AAR CORP       1994-05-31  1004.0  31/05/1994   \n",
      "1  1750  AAR CORP       1995-05-31  1004.0  31/05/1995   \n",
      "2  1750  AAR CORP       1996-05-31  1004.0  31/05/1996   \n",
      "3  1750  AAR CORP       1997-05-31  1004.0  31/05/1997   \n",
      "4  1750  AAR CORP       1998-05-31  1004.0  31/05/1998   \n",
      "\n",
      "                                        filename  can_label qualified  label  \\\n",
      "0  /1994/1750_10K_1994_0000912057-94-002818.json       True       Yes  False   \n",
      "1  /1995/1750_10K_1995_0000912057-95-006316.json       True       Yes  False   \n",
      "2  /1996/1750_10K_1996_0000912057-96-018355.json       True       Yes  False   \n",
      "3  /1997/1750_10K_1997_0000912057-97-028915.json       True       Yes  False   \n",
      "4  /1998/1750_10K_1998_0001047469-98-032283.json       True       Yes  False   \n",
      "\n",
      "  bankruptcy_prediction_split bankruptcy_date_1 bankruptcy_date_2  \\\n",
      "0                       train               NaN               NaN   \n",
      "1                       train               NaN               NaN   \n",
      "2                       train               NaN               NaN   \n",
      "3                       train               NaN               NaN   \n",
      "4                       train               NaN               NaN   \n",
      "\n",
      "  bankruptcy_date_3 filing_date ticker exchange  \n",
      "0               NaN  1994-08-24    AIR     NYSE  \n",
      "1               NaN  1995-08-11    AIR     NYSE  \n",
      "2               NaN  1996-08-20    AIR     NYSE  \n",
      "3               NaN  1997-08-22    AIR     NYSE  \n",
      "4               NaN  1998-08-20    AIR     NYSE  \n"
     ]
    }
   ],
   "source": [
    "print(partially_filled_dataset.head())"
   ],
   "metadata": {
    "collapsed": false,
    "ExecuteTime": {
     "end_time": "2024-04-13T06:44:10.789778Z",
     "start_time": "2024-04-13T06:44:10.782231Z"
    }
   },
   "id": "2fba34a684b15121",
   "execution_count": 3
  },
  {
   "cell_type": "code",
   "outputs": [],
   "source": [
    "companies_with_not_found_tickers = pd.read_csv('ECL_companies_with_not_found_tickers_2024-04-12_19-10-45.csv', index_col=0)"
   ],
   "metadata": {
    "collapsed": false,
    "ExecuteTime": {
     "end_time": "2024-04-13T06:46:40.585656Z",
     "start_time": "2024-04-13T06:46:40.575516Z"
    }
   },
   "id": "ba25b2ae1b53b63c",
   "execution_count": 8
  },
  {
   "cell_type": "code",
   "outputs": [],
   "source": [
    "def pad_cik(cik):\n",
    "    cik = str(cik)\n",
    "    while len(cik) < 10:\n",
    "        cik = '0' + cik\n",
    "    return cik"
   ],
   "metadata": {
    "collapsed": false,
    "ExecuteTime": {
     "end_time": "2024-04-13T06:47:54.957888Z",
     "start_time": "2024-04-13T06:47:54.953785Z"
    }
   },
   "id": "3045c505c7cbf89f",
   "execution_count": 9
  },
  {
   "cell_type": "code",
   "outputs": [],
   "source": [
    "from tqdm import tqdm\n",
    "import requests\n",
    "\n",
    "tqdm.pandas()\n",
    "\n",
    "not_found_tickers_count = 0\n",
    "exceptions_count = 0\n",
    "\n",
    "def process_row(row):\n",
    "    global not_found_tickers_count\n",
    "    global exceptions_count\n",
    "    \n",
    "    cik = row['cik']\n",
    "    company = row['company']\n",
    "    url = f'https://www.sec.gov/edgar/browse/?CIK={cik}&owner=exclude'\n",
    "    \n",
    "    try:\n",
    "        response = requests.get(url)\n",
    "        response_json = response.json()\n",
    "\n",
    "        indexes = []\n",
    "        cnt = 0\n",
    "        for exchange in response_json['exchanges']:\n",
    "            if exchange in ('NYSE', 'Nasdaq'):\n",
    "                indexes.append(cnt)\n",
    "                cnt += 1\n",
    "                \n",
    "        tickers = response_json['tickers']\n",
    "        \n",
    "        for index in indexes:\n",
    "            ticker = tickers[index]\n",
    "            exchange = response_json['exchanges'][index]\n",
    "            \n",
    "            partially_filled_dataset.loc[partially_filled_dataset['cik'] == cik, 'ticker'] = ticker\n",
    "        \n",
    "            if exchange == 'Nasdaq':\n",
    "                exchange = 'NAS'\n",
    "            partially_filled_dataset.loc[partially_filled_dataset['cik'] == cik, 'exchange'] = exchange\n",
    "\n",
    "\n",
    "    except Exception as e:\n",
    "        # print(f\"Error for company: {company}, cik: {cik} Error: {e}\")\n",
    "        exceptions_count += 1\n",
    "        return {'cik': cik, 'company': company}\n",
    "\n",
    "result_df  = unique_companies[:400].progress_apply(process_row, axis=1)\n",
    "result_df = result_df.dropna().reset_index(drop=True)\n",
    "companies_with_not_found_tickers_new = pd.DataFrame(result_df.tolist())\n",
    "\n",
    "driver.close()"
   ],
   "metadata": {
    "collapsed": false
   },
   "id": "1def124f41252cde",
   "execution_count": null
  }
 ],
 "metadata": {
  "kernelspec": {
   "display_name": "Python 3",
   "language": "python",
   "name": "python3"
  },
  "language_info": {
   "codemirror_mode": {
    "name": "ipython",
    "version": 2
   },
   "file_extension": ".py",
   "mimetype": "text/x-python",
   "name": "python",
   "nbconvert_exporter": "python",
   "pygments_lexer": "ipython2",
   "version": "2.7.6"
  }
 },
 "nbformat": 4,
 "nbformat_minor": 5
}

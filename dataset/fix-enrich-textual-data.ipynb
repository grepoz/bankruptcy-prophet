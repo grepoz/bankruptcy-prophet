{
 "cells": [
  {
   "cell_type": "code",
   "id": "initial_id",
   "metadata": {
    "collapsed": true,
    "ExecuteTime": {
     "end_time": "2024-09-19T10:42:35.444251Z",
     "start_time": "2024-09-19T10:42:35.193104Z"
    }
   },
   "source": [
    "import pandas as pd\n",
    "import numpy as np"
   ],
   "outputs": [],
   "execution_count": 1
  },
  {
   "metadata": {
    "ExecuteTime": {
     "end_time": "2024-09-19T10:43:06.706149Z",
     "start_time": "2024-09-19T10:43:06.674970Z"
    }
   },
   "cell_type": "code",
   "source": [
    "financial_data = pd.read_csv('ecl_dataset_grouped_eligible_with_reports_2024-05-22_19-47-15.csv')\n",
    "print(len(financial_data))\n",
    "financial_data.head()"
   ],
   "id": "98c2df6b4aadde62",
   "outputs": [
    {
     "name": "stdout",
     "output_type": "stream",
     "text": [
      "5043\n"
     ]
    },
    {
     "data": {
      "text/plain": [
       "    cik bankruptcy_date_1 bankruptcy_date_2 bankruptcy_date_3     ticker  \\\n",
       "0  1800               NaN               NaN               NaN        ABT   \n",
       "1  2488               NaN               NaN               NaN        AMD   \n",
       "2  2491               NaN               NaN               NaN        BYI   \n",
       "3  2969               NaN               NaN               NaN        APD   \n",
       "4  3153               NaN               NaN               NaN  ALPpQ.PFD   \n",
       "\n",
       "   label  cik-equal-gurufocus-cik filing_date  is_bankruptcy_date_filled  \\\n",
       "0  False                     True  2021-02-19                      False   \n",
       "1  False                     True  2021-01-29                      False   \n",
       "2  False                     True  2014-08-29                      False   \n",
       "3  False                     True  2021-11-18                      False   \n",
       "4  False                     True  2021-02-18                      False   \n",
       "\n",
       "  report_datetime_before_decision  \\\n",
       "0                      2020-02-21   \n",
       "1                      2020-02-04   \n",
       "2                      2013-08-28   \n",
       "3                      2020-11-19   \n",
       "4                      2020-02-20   \n",
       "\n",
       "                 report_filename_before_decision  \n",
       "0  /2019/1800_10K_2019_0001104659-20-023904.json  \n",
       "1  /2019/2488_10K_2019_0000002488-20-000008.json  \n",
       "2  /2013/2491_10K_2013_0001047469-13-008711.json  \n",
       "3  /2020/2969_10K_2020_0000002969-20-000049.json  \n",
       "4  /2019/3153_10K_2019_0000092122-20-000017.json  "
      ],
      "text/html": [
       "<div>\n",
       "<style scoped>\n",
       "    .dataframe tbody tr th:only-of-type {\n",
       "        vertical-align: middle;\n",
       "    }\n",
       "\n",
       "    .dataframe tbody tr th {\n",
       "        vertical-align: top;\n",
       "    }\n",
       "\n",
       "    .dataframe thead th {\n",
       "        text-align: right;\n",
       "    }\n",
       "</style>\n",
       "<table border=\"1\" class=\"dataframe\">\n",
       "  <thead>\n",
       "    <tr style=\"text-align: right;\">\n",
       "      <th></th>\n",
       "      <th>cik</th>\n",
       "      <th>bankruptcy_date_1</th>\n",
       "      <th>bankruptcy_date_2</th>\n",
       "      <th>bankruptcy_date_3</th>\n",
       "      <th>ticker</th>\n",
       "      <th>label</th>\n",
       "      <th>cik-equal-gurufocus-cik</th>\n",
       "      <th>filing_date</th>\n",
       "      <th>is_bankruptcy_date_filled</th>\n",
       "      <th>report_datetime_before_decision</th>\n",
       "      <th>report_filename_before_decision</th>\n",
       "    </tr>\n",
       "  </thead>\n",
       "  <tbody>\n",
       "    <tr>\n",
       "      <th>0</th>\n",
       "      <td>1800</td>\n",
       "      <td>NaN</td>\n",
       "      <td>NaN</td>\n",
       "      <td>NaN</td>\n",
       "      <td>ABT</td>\n",
       "      <td>False</td>\n",
       "      <td>True</td>\n",
       "      <td>2021-02-19</td>\n",
       "      <td>False</td>\n",
       "      <td>2020-02-21</td>\n",
       "      <td>/2019/1800_10K_2019_0001104659-20-023904.json</td>\n",
       "    </tr>\n",
       "    <tr>\n",
       "      <th>1</th>\n",
       "      <td>2488</td>\n",
       "      <td>NaN</td>\n",
       "      <td>NaN</td>\n",
       "      <td>NaN</td>\n",
       "      <td>AMD</td>\n",
       "      <td>False</td>\n",
       "      <td>True</td>\n",
       "      <td>2021-01-29</td>\n",
       "      <td>False</td>\n",
       "      <td>2020-02-04</td>\n",
       "      <td>/2019/2488_10K_2019_0000002488-20-000008.json</td>\n",
       "    </tr>\n",
       "    <tr>\n",
       "      <th>2</th>\n",
       "      <td>2491</td>\n",
       "      <td>NaN</td>\n",
       "      <td>NaN</td>\n",
       "      <td>NaN</td>\n",
       "      <td>BYI</td>\n",
       "      <td>False</td>\n",
       "      <td>True</td>\n",
       "      <td>2014-08-29</td>\n",
       "      <td>False</td>\n",
       "      <td>2013-08-28</td>\n",
       "      <td>/2013/2491_10K_2013_0001047469-13-008711.json</td>\n",
       "    </tr>\n",
       "    <tr>\n",
       "      <th>3</th>\n",
       "      <td>2969</td>\n",
       "      <td>NaN</td>\n",
       "      <td>NaN</td>\n",
       "      <td>NaN</td>\n",
       "      <td>APD</td>\n",
       "      <td>False</td>\n",
       "      <td>True</td>\n",
       "      <td>2021-11-18</td>\n",
       "      <td>False</td>\n",
       "      <td>2020-11-19</td>\n",
       "      <td>/2020/2969_10K_2020_0000002969-20-000049.json</td>\n",
       "    </tr>\n",
       "    <tr>\n",
       "      <th>4</th>\n",
       "      <td>3153</td>\n",
       "      <td>NaN</td>\n",
       "      <td>NaN</td>\n",
       "      <td>NaN</td>\n",
       "      <td>ALPpQ.PFD</td>\n",
       "      <td>False</td>\n",
       "      <td>True</td>\n",
       "      <td>2021-02-18</td>\n",
       "      <td>False</td>\n",
       "      <td>2020-02-20</td>\n",
       "      <td>/2019/3153_10K_2019_0000092122-20-000017.json</td>\n",
       "    </tr>\n",
       "  </tbody>\n",
       "</table>\n",
       "</div>"
      ]
     },
     "execution_count": 3,
     "metadata": {},
     "output_type": "execute_result"
    }
   ],
   "execution_count": 3
  },
  {
   "metadata": {
    "ExecuteTime": {
     "end_time": "2024-09-19T11:04:20.586919Z",
     "start_time": "2024-09-19T11:04:20.578215Z"
    }
   },
   "cell_type": "code",
   "source": [
    "reports_dates = financial_data[['cik', 'ticker', 'report_datetime_before_decision']]\n",
    "print(reports_dates['ticker'].value_counts())\n",
    "print(len(reports_dates['ticker'].unique()))\n",
    "reports_dates.head()"
   ],
   "id": "36ae376345ba5978",
   "outputs": [
    {
     "name": "stdout",
     "output_type": "stream",
     "text": [
      "ticker\n",
      "OPEN    3\n",
      "CF      3\n",
      "TW      3\n",
      "EYE     3\n",
      "CZR     3\n",
      "       ..\n",
      "IPX     1\n",
      "NSDB    1\n",
      "ANIK    1\n",
      "JBL     1\n",
      "FLNC    1\n",
      "Name: count, Length: 4915, dtype: int64\n",
      "4915\n"
     ]
    },
    {
     "data": {
      "text/plain": [
       "    cik     ticker report_datetime_before_decision\n",
       "0  1800        ABT                      2020-02-21\n",
       "1  2488        AMD                      2020-02-04\n",
       "2  2491        BYI                      2013-08-28\n",
       "3  2969        APD                      2020-11-19\n",
       "4  3153  ALPpQ.PFD                      2020-02-20"
      ],
      "text/html": [
       "<div>\n",
       "<style scoped>\n",
       "    .dataframe tbody tr th:only-of-type {\n",
       "        vertical-align: middle;\n",
       "    }\n",
       "\n",
       "    .dataframe tbody tr th {\n",
       "        vertical-align: top;\n",
       "    }\n",
       "\n",
       "    .dataframe thead th {\n",
       "        text-align: right;\n",
       "    }\n",
       "</style>\n",
       "<table border=\"1\" class=\"dataframe\">\n",
       "  <thead>\n",
       "    <tr style=\"text-align: right;\">\n",
       "      <th></th>\n",
       "      <th>cik</th>\n",
       "      <th>ticker</th>\n",
       "      <th>report_datetime_before_decision</th>\n",
       "    </tr>\n",
       "  </thead>\n",
       "  <tbody>\n",
       "    <tr>\n",
       "      <th>0</th>\n",
       "      <td>1800</td>\n",
       "      <td>ABT</td>\n",
       "      <td>2020-02-21</td>\n",
       "    </tr>\n",
       "    <tr>\n",
       "      <th>1</th>\n",
       "      <td>2488</td>\n",
       "      <td>AMD</td>\n",
       "      <td>2020-02-04</td>\n",
       "    </tr>\n",
       "    <tr>\n",
       "      <th>2</th>\n",
       "      <td>2491</td>\n",
       "      <td>BYI</td>\n",
       "      <td>2013-08-28</td>\n",
       "    </tr>\n",
       "    <tr>\n",
       "      <th>3</th>\n",
       "      <td>2969</td>\n",
       "      <td>APD</td>\n",
       "      <td>2020-11-19</td>\n",
       "    </tr>\n",
       "    <tr>\n",
       "      <th>4</th>\n",
       "      <td>3153</td>\n",
       "      <td>ALPpQ.PFD</td>\n",
       "      <td>2020-02-20</td>\n",
       "    </tr>\n",
       "  </tbody>\n",
       "</table>\n",
       "</div>"
      ]
     },
     "execution_count": 21,
     "metadata": {},
     "output_type": "execute_result"
    }
   ],
   "execution_count": 21
  },
  {
   "metadata": {
    "ExecuteTime": {
     "end_time": "2024-09-19T11:06:20.683006Z",
     "start_time": "2024-09-19T11:06:20.570608Z"
    }
   },
   "cell_type": "code",
   "source": [
    "textual_dataset = pd.read_csv('textual_data_matched_split_version5.csv')\n",
    "print(len(textual_dataset))\n",
    "print(f\"Number of unique CIKs: {len(textual_dataset['cik'].unique())}\")\n",
    "print(f\"Number of original samples: {len(textual_dataset[''].unique())}\")\n",
    "textual_dataset.head()"
   ],
   "id": "71e23a63a5bff771",
   "outputs": [
    {
     "name": "stdout",
     "output_type": "stream",
     "text": [
      "7214\n",
      "Number of unique CIKs: 7214\n"
     ]
    },
    {
     "data": {
      "text/plain": [
       "         cik  label subset                                               text\n",
       "0     737874  False  train  Laidlaw International Inc. is a leading provid...\n",
       "1    1464343  False  train  The company utilizes proprietary analytics and...\n",
       "2  102336208   True  train  The company manufactures and sells wireless co...\n",
       "3    1022368  False  train  The company experienced net income (loss) fluc...\n",
       "4     815094  False  train  The company is a leading provider of temporary..."
      ],
      "text/html": [
       "<div>\n",
       "<style scoped>\n",
       "    .dataframe tbody tr th:only-of-type {\n",
       "        vertical-align: middle;\n",
       "    }\n",
       "\n",
       "    .dataframe tbody tr th {\n",
       "        vertical-align: top;\n",
       "    }\n",
       "\n",
       "    .dataframe thead th {\n",
       "        text-align: right;\n",
       "    }\n",
       "</style>\n",
       "<table border=\"1\" class=\"dataframe\">\n",
       "  <thead>\n",
       "    <tr style=\"text-align: right;\">\n",
       "      <th></th>\n",
       "      <th>cik</th>\n",
       "      <th>label</th>\n",
       "      <th>subset</th>\n",
       "      <th>text</th>\n",
       "    </tr>\n",
       "  </thead>\n",
       "  <tbody>\n",
       "    <tr>\n",
       "      <th>0</th>\n",
       "      <td>737874</td>\n",
       "      <td>False</td>\n",
       "      <td>train</td>\n",
       "      <td>Laidlaw International Inc. is a leading provid...</td>\n",
       "    </tr>\n",
       "    <tr>\n",
       "      <th>1</th>\n",
       "      <td>1464343</td>\n",
       "      <td>False</td>\n",
       "      <td>train</td>\n",
       "      <td>The company utilizes proprietary analytics and...</td>\n",
       "    </tr>\n",
       "    <tr>\n",
       "      <th>2</th>\n",
       "      <td>102336208</td>\n",
       "      <td>True</td>\n",
       "      <td>train</td>\n",
       "      <td>The company manufactures and sells wireless co...</td>\n",
       "    </tr>\n",
       "    <tr>\n",
       "      <th>3</th>\n",
       "      <td>1022368</td>\n",
       "      <td>False</td>\n",
       "      <td>train</td>\n",
       "      <td>The company experienced net income (loss) fluc...</td>\n",
       "    </tr>\n",
       "    <tr>\n",
       "      <th>4</th>\n",
       "      <td>815094</td>\n",
       "      <td>False</td>\n",
       "      <td>train</td>\n",
       "      <td>The company is a leading provider of temporary...</td>\n",
       "    </tr>\n",
       "  </tbody>\n",
       "</table>\n",
       "</div>"
      ]
     },
     "execution_count": 24,
     "metadata": {},
     "output_type": "execute_result"
    }
   ],
   "execution_count": 24
  },
  {
   "metadata": {
    "ExecuteTime": {
     "end_time": "2024-09-19T11:05:42.651565Z",
     "start_time": "2024-09-19T11:05:42.640707Z"
    }
   },
   "cell_type": "code",
   "source": [
    "merged_data = pd.merge(reports_dates, textual_dataset, on='cik', how='right')\n",
    "print(len(merged_data))\n",
    "merged_data.head()"
   ],
   "id": "b2c3bf224ae1a3d4",
   "outputs": [
    {
     "name": "stdout",
     "output_type": "stream",
     "text": [
      "7214\n"
     ]
    },
    {
     "data": {
      "text/plain": [
       "         cik ticker report_datetime_before_decision  label subset  \\\n",
       "0     737874     LI                      2005-11-14  False  train   \n",
       "1    1464343   ATLC                      2020-03-30  False  train   \n",
       "2  102336208    NaN                             NaN   True  train   \n",
       "3    1022368    SHF                      2001-08-29  False  train   \n",
       "4     815094   ABMD                      2020-05-21  False  train   \n",
       "\n",
       "                                                text  \n",
       "0  Laidlaw International Inc. is a leading provid...  \n",
       "1  The company utilizes proprietary analytics and...  \n",
       "2  The company manufactures and sells wireless co...  \n",
       "3  The company experienced net income (loss) fluc...  \n",
       "4  The company is a leading provider of temporary...  "
      ],
      "text/html": [
       "<div>\n",
       "<style scoped>\n",
       "    .dataframe tbody tr th:only-of-type {\n",
       "        vertical-align: middle;\n",
       "    }\n",
       "\n",
       "    .dataframe tbody tr th {\n",
       "        vertical-align: top;\n",
       "    }\n",
       "\n",
       "    .dataframe thead th {\n",
       "        text-align: right;\n",
       "    }\n",
       "</style>\n",
       "<table border=\"1\" class=\"dataframe\">\n",
       "  <thead>\n",
       "    <tr style=\"text-align: right;\">\n",
       "      <th></th>\n",
       "      <th>cik</th>\n",
       "      <th>ticker</th>\n",
       "      <th>report_datetime_before_decision</th>\n",
       "      <th>label</th>\n",
       "      <th>subset</th>\n",
       "      <th>text</th>\n",
       "    </tr>\n",
       "  </thead>\n",
       "  <tbody>\n",
       "    <tr>\n",
       "      <th>0</th>\n",
       "      <td>737874</td>\n",
       "      <td>LI</td>\n",
       "      <td>2005-11-14</td>\n",
       "      <td>False</td>\n",
       "      <td>train</td>\n",
       "      <td>Laidlaw International Inc. is a leading provid...</td>\n",
       "    </tr>\n",
       "    <tr>\n",
       "      <th>1</th>\n",
       "      <td>1464343</td>\n",
       "      <td>ATLC</td>\n",
       "      <td>2020-03-30</td>\n",
       "      <td>False</td>\n",
       "      <td>train</td>\n",
       "      <td>The company utilizes proprietary analytics and...</td>\n",
       "    </tr>\n",
       "    <tr>\n",
       "      <th>2</th>\n",
       "      <td>102336208</td>\n",
       "      <td>NaN</td>\n",
       "      <td>NaN</td>\n",
       "      <td>True</td>\n",
       "      <td>train</td>\n",
       "      <td>The company manufactures and sells wireless co...</td>\n",
       "    </tr>\n",
       "    <tr>\n",
       "      <th>3</th>\n",
       "      <td>1022368</td>\n",
       "      <td>SHF</td>\n",
       "      <td>2001-08-29</td>\n",
       "      <td>False</td>\n",
       "      <td>train</td>\n",
       "      <td>The company experienced net income (loss) fluc...</td>\n",
       "    </tr>\n",
       "    <tr>\n",
       "      <th>4</th>\n",
       "      <td>815094</td>\n",
       "      <td>ABMD</td>\n",
       "      <td>2020-05-21</td>\n",
       "      <td>False</td>\n",
       "      <td>train</td>\n",
       "      <td>The company is a leading provider of temporary...</td>\n",
       "    </tr>\n",
       "  </tbody>\n",
       "</table>\n",
       "</div>"
      ]
     },
     "execution_count": 23,
     "metadata": {},
     "output_type": "execute_result"
    }
   ],
   "execution_count": 23
  },
  {
   "metadata": {
    "ExecuteTime": {
     "end_time": "2024-09-19T11:02:41.947788Z",
     "start_time": "2024-09-19T11:02:41.934459Z"
    }
   },
   "cell_type": "code",
   "source": "len(merged_data['ticker'].unique())",
   "id": "d10da96181a86068",
   "outputs": [
    {
     "data": {
      "text/plain": [
       "4414"
      ]
     },
     "execution_count": 19,
     "metadata": {},
     "output_type": "execute_result"
    }
   ],
   "execution_count": 19
  },
  {
   "metadata": {
    "ExecuteTime": {
     "end_time": "2024-09-19T11:10:10.836857Z",
     "start_time": "2024-09-19T11:10:10.823075Z"
    }
   },
   "cell_type": "code",
   "source": "print(merged_data['ticker'].value_counts())",
   "id": "1e9be1c0a90e7e8a",
   "outputs": [
    {
     "name": "stdout",
     "output_type": "stream",
     "text": [
      "ticker\n",
      "AM               3\n",
      "EYE              3\n",
      "TW               3\n",
      "CZR              3\n",
      "AGR              2\n",
      "                ..\n",
      "STEI             1\n",
      "CLAY             1\n",
      "SABR             1\n",
      "XXXX             1\n",
      "CHSPPRACL.PFD    1\n",
      "Name: count, Length: 4413, dtype: int64\n"
     ]
    }
   ],
   "execution_count": 25
  },
  {
   "metadata": {
    "ExecuteTime": {
     "end_time": "2024-09-19T11:15:21.455301Z",
     "start_time": "2024-09-19T11:15:21.436774Z"
    }
   },
   "cell_type": "code",
   "source": [
    "# get rows count that have Nan in column 'report_datetime_before_decision' and 'text'\n",
    "print(merged_data['report_datetime_before_decision'].isnull().sum())"
   ],
   "id": "91805dedb5f715fa",
   "outputs": [
    {
     "name": "stdout",
     "output_type": "stream",
     "text": [
      "2712\n"
     ]
    }
   ],
   "execution_count": 26
  },
  {
   "metadata": {
    "ExecuteTime": {
     "end_time": "2024-09-19T11:23:35.731991Z",
     "start_time": "2024-09-19T11:23:35.655747Z"
    }
   },
   "cell_type": "code",
   "source": [
    "final_financial_data = pd.read_csv('bankrupt_companies_with_17variables_5years_split_version5_complete.csv')\n",
    "print(len(final_financial_data)/5)\n",
    "final_financial_data.head()"
   ],
   "id": "9064bdf70bc74644",
   "outputs": [
    {
     "name": "stdout",
     "output_type": "stream",
     "text": [
      "7214.0\n"
     ]
    },
    {
     "data": {
      "text/plain": [
       "      cik ticker  label subset Fiscal Period  Cost of Goods Sold  \\\n",
       "0  737874     LI  False  train      Aug 2002               479.0   \n",
       "1  737874     LI  False  train      Aug 2003               479.0   \n",
       "2  737874     LI  False  train      Aug 2004               483.0   \n",
       "3  737874     LI  False  train      Aug 2005               579.0   \n",
       "4  737874     LI  False  train      Aug 2006               582.0   \n",
       "\n",
       "   Depreciation, Depletion and Amortization    EBIT  EBITDA  Gross Profit  \\\n",
       "0                                     281.0  1028.0  1310.0        4004.0   \n",
       "1                                     281.0  1028.0  1310.0        4004.0   \n",
       "2                                     284.0   224.0   507.0        4149.0   \n",
       "3                                     249.0    63.0   312.0        2447.0   \n",
       "4                                     216.0   261.0   477.0        2550.0   \n",
       "\n",
       "   ...  Net Income  Retained Earnings  Revenue  Total Assets  \\\n",
       "0  ...     -1223.0              -10.0   4483.0        3853.0   \n",
       "1  ...     -1223.0              -10.0   4483.0        3853.0   \n",
       "2  ...        62.0               52.0   4631.0        3905.0   \n",
       "3  ...       212.0              249.0   3027.0        2909.0   \n",
       "4  ...       125.0              315.0   3132.0        3039.0   \n",
       "\n",
       "   Total Current Assets  Total Current Liabilities  Total Inventories  \\\n",
       "0                 948.0                      695.0               50.0   \n",
       "1                 948.0                      695.0               50.0   \n",
       "2                1032.0                      687.0               51.0   \n",
       "3                 606.0                      448.0               33.0   \n",
       "4                 741.0                      531.0               41.0   \n",
       "\n",
       "   Total Liabilities  Total Operating Expense  Total Receivables  \n",
       "0             2562.0                   3829.0              570.0  \n",
       "1             2562.0                   3829.0              570.0  \n",
       "2             2529.0                   3928.0              588.0  \n",
       "3             1309.0                   2282.0              203.0  \n",
       "4             1831.0                   2299.0              211.0  \n",
       "\n",
       "[5 rows x 22 columns]"
      ],
      "text/html": [
       "<div>\n",
       "<style scoped>\n",
       "    .dataframe tbody tr th:only-of-type {\n",
       "        vertical-align: middle;\n",
       "    }\n",
       "\n",
       "    .dataframe tbody tr th {\n",
       "        vertical-align: top;\n",
       "    }\n",
       "\n",
       "    .dataframe thead th {\n",
       "        text-align: right;\n",
       "    }\n",
       "</style>\n",
       "<table border=\"1\" class=\"dataframe\">\n",
       "  <thead>\n",
       "    <tr style=\"text-align: right;\">\n",
       "      <th></th>\n",
       "      <th>cik</th>\n",
       "      <th>ticker</th>\n",
       "      <th>label</th>\n",
       "      <th>subset</th>\n",
       "      <th>Fiscal Period</th>\n",
       "      <th>Cost of Goods Sold</th>\n",
       "      <th>Depreciation, Depletion and Amortization</th>\n",
       "      <th>EBIT</th>\n",
       "      <th>EBITDA</th>\n",
       "      <th>Gross Profit</th>\n",
       "      <th>...</th>\n",
       "      <th>Net Income</th>\n",
       "      <th>Retained Earnings</th>\n",
       "      <th>Revenue</th>\n",
       "      <th>Total Assets</th>\n",
       "      <th>Total Current Assets</th>\n",
       "      <th>Total Current Liabilities</th>\n",
       "      <th>Total Inventories</th>\n",
       "      <th>Total Liabilities</th>\n",
       "      <th>Total Operating Expense</th>\n",
       "      <th>Total Receivables</th>\n",
       "    </tr>\n",
       "  </thead>\n",
       "  <tbody>\n",
       "    <tr>\n",
       "      <th>0</th>\n",
       "      <td>737874</td>\n",
       "      <td>LI</td>\n",
       "      <td>False</td>\n",
       "      <td>train</td>\n",
       "      <td>Aug 2002</td>\n",
       "      <td>479.0</td>\n",
       "      <td>281.0</td>\n",
       "      <td>1028.0</td>\n",
       "      <td>1310.0</td>\n",
       "      <td>4004.0</td>\n",
       "      <td>...</td>\n",
       "      <td>-1223.0</td>\n",
       "      <td>-10.0</td>\n",
       "      <td>4483.0</td>\n",
       "      <td>3853.0</td>\n",
       "      <td>948.0</td>\n",
       "      <td>695.0</td>\n",
       "      <td>50.0</td>\n",
       "      <td>2562.0</td>\n",
       "      <td>3829.0</td>\n",
       "      <td>570.0</td>\n",
       "    </tr>\n",
       "    <tr>\n",
       "      <th>1</th>\n",
       "      <td>737874</td>\n",
       "      <td>LI</td>\n",
       "      <td>False</td>\n",
       "      <td>train</td>\n",
       "      <td>Aug 2003</td>\n",
       "      <td>479.0</td>\n",
       "      <td>281.0</td>\n",
       "      <td>1028.0</td>\n",
       "      <td>1310.0</td>\n",
       "      <td>4004.0</td>\n",
       "      <td>...</td>\n",
       "      <td>-1223.0</td>\n",
       "      <td>-10.0</td>\n",
       "      <td>4483.0</td>\n",
       "      <td>3853.0</td>\n",
       "      <td>948.0</td>\n",
       "      <td>695.0</td>\n",
       "      <td>50.0</td>\n",
       "      <td>2562.0</td>\n",
       "      <td>3829.0</td>\n",
       "      <td>570.0</td>\n",
       "    </tr>\n",
       "    <tr>\n",
       "      <th>2</th>\n",
       "      <td>737874</td>\n",
       "      <td>LI</td>\n",
       "      <td>False</td>\n",
       "      <td>train</td>\n",
       "      <td>Aug 2004</td>\n",
       "      <td>483.0</td>\n",
       "      <td>284.0</td>\n",
       "      <td>224.0</td>\n",
       "      <td>507.0</td>\n",
       "      <td>4149.0</td>\n",
       "      <td>...</td>\n",
       "      <td>62.0</td>\n",
       "      <td>52.0</td>\n",
       "      <td>4631.0</td>\n",
       "      <td>3905.0</td>\n",
       "      <td>1032.0</td>\n",
       "      <td>687.0</td>\n",
       "      <td>51.0</td>\n",
       "      <td>2529.0</td>\n",
       "      <td>3928.0</td>\n",
       "      <td>588.0</td>\n",
       "    </tr>\n",
       "    <tr>\n",
       "      <th>3</th>\n",
       "      <td>737874</td>\n",
       "      <td>LI</td>\n",
       "      <td>False</td>\n",
       "      <td>train</td>\n",
       "      <td>Aug 2005</td>\n",
       "      <td>579.0</td>\n",
       "      <td>249.0</td>\n",
       "      <td>63.0</td>\n",
       "      <td>312.0</td>\n",
       "      <td>2447.0</td>\n",
       "      <td>...</td>\n",
       "      <td>212.0</td>\n",
       "      <td>249.0</td>\n",
       "      <td>3027.0</td>\n",
       "      <td>2909.0</td>\n",
       "      <td>606.0</td>\n",
       "      <td>448.0</td>\n",
       "      <td>33.0</td>\n",
       "      <td>1309.0</td>\n",
       "      <td>2282.0</td>\n",
       "      <td>203.0</td>\n",
       "    </tr>\n",
       "    <tr>\n",
       "      <th>4</th>\n",
       "      <td>737874</td>\n",
       "      <td>LI</td>\n",
       "      <td>False</td>\n",
       "      <td>train</td>\n",
       "      <td>Aug 2006</td>\n",
       "      <td>582.0</td>\n",
       "      <td>216.0</td>\n",
       "      <td>261.0</td>\n",
       "      <td>477.0</td>\n",
       "      <td>2550.0</td>\n",
       "      <td>...</td>\n",
       "      <td>125.0</td>\n",
       "      <td>315.0</td>\n",
       "      <td>3132.0</td>\n",
       "      <td>3039.0</td>\n",
       "      <td>741.0</td>\n",
       "      <td>531.0</td>\n",
       "      <td>41.0</td>\n",
       "      <td>1831.0</td>\n",
       "      <td>2299.0</td>\n",
       "      <td>211.0</td>\n",
       "    </tr>\n",
       "  </tbody>\n",
       "</table>\n",
       "<p>5 rows × 22 columns</p>\n",
       "</div>"
      ]
     },
     "execution_count": 30,
     "metadata": {},
     "output_type": "execute_result"
    }
   ],
   "execution_count": 30
  },
  {
   "metadata": {
    "ExecuteTime": {
     "end_time": "2024-09-19T11:24:33.775426Z",
     "start_time": "2024-09-19T11:24:33.768841Z"
    }
   },
   "cell_type": "code",
   "source": [
    "original_financial_data = final_financial_data[~final_financial_data['ticker'].isna()]\n",
    "print(len(original_financial_data)/5)"
   ],
   "id": "1a146189573f92e0",
   "outputs": [
    {
     "name": "stdout",
     "output_type": "stream",
     "text": [
      "4466.0\n"
     ]
    }
   ],
   "execution_count": 32
  },
  {
   "metadata": {
    "ExecuteTime": {
     "end_time": "2024-09-19T11:24:52.459315Z",
     "start_time": "2024-09-19T11:24:52.450896Z"
    }
   },
   "cell_type": "code",
   "source": [
    "original_financial_data_uniqe_ciks = original_financial_data['cik'].unique()\n",
    "print(len(original_financial_data_uniqe_ciks))"
   ],
   "id": "6cf532e7759e241f",
   "outputs": [
    {
     "name": "stdout",
     "output_type": "stream",
     "text": [
      "4466\n"
     ]
    }
   ],
   "execution_count": 33
  },
  {
   "metadata": {
    "ExecuteTime": {
     "end_time": "2024-09-19T11:32:41.903446Z",
     "start_time": "2024-09-19T11:32:41.888156Z"
    }
   },
   "cell_type": "code",
   "source": [
    "original_textual_data = textual_dataset[textual_dataset['cik'].isin(original_financial_data_uniqe_ciks)]\n",
    "synthetic_textual_data = textual_dataset[~textual_dataset['cik'].isin(original_financial_data_uniqe_ciks)]\n",
    "len(original_textual_data), len(synthetic_textual_data)"
   ],
   "id": "aff4d612f90f442f",
   "outputs": [
    {
     "data": {
      "text/plain": [
       "(4466, 2748)"
      ]
     },
     "execution_count": 53,
     "metadata": {},
     "output_type": "execute_result"
    }
   ],
   "execution_count": 53
  },
  {
   "metadata": {
    "ExecuteTime": {
     "end_time": "2024-09-19T11:32:53.274143Z",
     "start_time": "2024-09-19T11:32:53.254020Z"
    }
   },
   "cell_type": "code",
   "source": [
    "merged_data = pd.merge(reports_dates, original_textual_data, on='cik', how='right')\n",
    "print(len(merged_data))\n",
    "merged_data.head()"
   ],
   "id": "7ddac5faae5e1cce",
   "outputs": [
    {
     "name": "stdout",
     "output_type": "stream",
     "text": [
      "4466\n"
     ]
    },
    {
     "data": {
      "text/plain": [
       "       cik ticker report_datetime_before_decision  label subset  \\\n",
       "0   737874     LI                      2005-11-14  False  train   \n",
       "1  1464343   ATLC                      2020-03-30  False  train   \n",
       "2  1022368    SHF                      2001-08-29  False  train   \n",
       "3   815094   ABMD                      2020-05-21  False  train   \n",
       "4  1159297    MWV                      2014-02-24  False  train   \n",
       "\n",
       "                                                text  \n",
       "0  Laidlaw International Inc. is a leading provid...  \n",
       "1  The company utilizes proprietary analytics and...  \n",
       "2  The company experienced net income (loss) fluc...  \n",
       "3  The company is a leading provider of temporary...  \n",
       "4  MeadWestvaco reported a 2% increase in sales a...  "
      ],
      "text/html": [
       "<div>\n",
       "<style scoped>\n",
       "    .dataframe tbody tr th:only-of-type {\n",
       "        vertical-align: middle;\n",
       "    }\n",
       "\n",
       "    .dataframe tbody tr th {\n",
       "        vertical-align: top;\n",
       "    }\n",
       "\n",
       "    .dataframe thead th {\n",
       "        text-align: right;\n",
       "    }\n",
       "</style>\n",
       "<table border=\"1\" class=\"dataframe\">\n",
       "  <thead>\n",
       "    <tr style=\"text-align: right;\">\n",
       "      <th></th>\n",
       "      <th>cik</th>\n",
       "      <th>ticker</th>\n",
       "      <th>report_datetime_before_decision</th>\n",
       "      <th>label</th>\n",
       "      <th>subset</th>\n",
       "      <th>text</th>\n",
       "    </tr>\n",
       "  </thead>\n",
       "  <tbody>\n",
       "    <tr>\n",
       "      <th>0</th>\n",
       "      <td>737874</td>\n",
       "      <td>LI</td>\n",
       "      <td>2005-11-14</td>\n",
       "      <td>False</td>\n",
       "      <td>train</td>\n",
       "      <td>Laidlaw International Inc. is a leading provid...</td>\n",
       "    </tr>\n",
       "    <tr>\n",
       "      <th>1</th>\n",
       "      <td>1464343</td>\n",
       "      <td>ATLC</td>\n",
       "      <td>2020-03-30</td>\n",
       "      <td>False</td>\n",
       "      <td>train</td>\n",
       "      <td>The company utilizes proprietary analytics and...</td>\n",
       "    </tr>\n",
       "    <tr>\n",
       "      <th>2</th>\n",
       "      <td>1022368</td>\n",
       "      <td>SHF</td>\n",
       "      <td>2001-08-29</td>\n",
       "      <td>False</td>\n",
       "      <td>train</td>\n",
       "      <td>The company experienced net income (loss) fluc...</td>\n",
       "    </tr>\n",
       "    <tr>\n",
       "      <th>3</th>\n",
       "      <td>815094</td>\n",
       "      <td>ABMD</td>\n",
       "      <td>2020-05-21</td>\n",
       "      <td>False</td>\n",
       "      <td>train</td>\n",
       "      <td>The company is a leading provider of temporary...</td>\n",
       "    </tr>\n",
       "    <tr>\n",
       "      <th>4</th>\n",
       "      <td>1159297</td>\n",
       "      <td>MWV</td>\n",
       "      <td>2014-02-24</td>\n",
       "      <td>False</td>\n",
       "      <td>train</td>\n",
       "      <td>MeadWestvaco reported a 2% increase in sales a...</td>\n",
       "    </tr>\n",
       "  </tbody>\n",
       "</table>\n",
       "</div>"
      ]
     },
     "execution_count": 54,
     "metadata": {},
     "output_type": "execute_result"
    }
   ],
   "execution_count": 54
  },
  {
   "metadata": {
    "ExecuteTime": {
     "end_time": "2024-09-19T11:33:06.129001Z",
     "start_time": "2024-09-19T11:33:06.119915Z"
    }
   },
   "cell_type": "code",
   "source": "merged_data['ticker'].isnull().sum(), merged_data['report_datetime_before_decision'].isnull().sum()",
   "id": "ec6668bc128f8ff3",
   "outputs": [
    {
     "data": {
      "text/plain": [
       "(0, 0)"
      ]
     },
     "execution_count": 55,
     "metadata": {},
     "output_type": "execute_result"
    }
   ],
   "execution_count": 55
  },
  {
   "metadata": {
    "ExecuteTime": {
     "end_time": "2024-09-19T11:33:08.871994Z",
     "start_time": "2024-09-19T11:33:08.862565Z"
    }
   },
   "cell_type": "code",
   "source": "len(merged_data['ticker'].unique())",
   "id": "627c5e661f8c3af5",
   "outputs": [
    {
     "data": {
      "text/plain": [
       "4377"
      ]
     },
     "execution_count": 56,
     "metadata": {},
     "output_type": "execute_result"
    }
   ],
   "execution_count": 56
  },
  {
   "metadata": {
    "ExecuteTime": {
     "end_time": "2024-09-19T11:33:28.879790Z",
     "start_time": "2024-09-19T11:33:28.868652Z"
    }
   },
   "cell_type": "code",
   "source": [
    "# rename column report_datetime_before_decision to report_datetime\n",
    "merged_data.rename(columns={'report_datetime_before_decision': 'report_datetime'}, inplace=True)\n",
    "merged_data.head()"
   ],
   "id": "6a0d4e6b8861ddd5",
   "outputs": [
    {
     "data": {
      "text/plain": [
       "       cik ticker report_datetime  label subset  \\\n",
       "0   737874     LI      2005-11-14  False  train   \n",
       "1  1464343   ATLC      2020-03-30  False  train   \n",
       "2  1022368    SHF      2001-08-29  False  train   \n",
       "3   815094   ABMD      2020-05-21  False  train   \n",
       "4  1159297    MWV      2014-02-24  False  train   \n",
       "\n",
       "                                                text  \n",
       "0  Laidlaw International Inc. is a leading provid...  \n",
       "1  The company utilizes proprietary analytics and...  \n",
       "2  The company experienced net income (loss) fluc...  \n",
       "3  The company is a leading provider of temporary...  \n",
       "4  MeadWestvaco reported a 2% increase in sales a...  "
      ],
      "text/html": [
       "<div>\n",
       "<style scoped>\n",
       "    .dataframe tbody tr th:only-of-type {\n",
       "        vertical-align: middle;\n",
       "    }\n",
       "\n",
       "    .dataframe tbody tr th {\n",
       "        vertical-align: top;\n",
       "    }\n",
       "\n",
       "    .dataframe thead th {\n",
       "        text-align: right;\n",
       "    }\n",
       "</style>\n",
       "<table border=\"1\" class=\"dataframe\">\n",
       "  <thead>\n",
       "    <tr style=\"text-align: right;\">\n",
       "      <th></th>\n",
       "      <th>cik</th>\n",
       "      <th>ticker</th>\n",
       "      <th>report_datetime</th>\n",
       "      <th>label</th>\n",
       "      <th>subset</th>\n",
       "      <th>text</th>\n",
       "    </tr>\n",
       "  </thead>\n",
       "  <tbody>\n",
       "    <tr>\n",
       "      <th>0</th>\n",
       "      <td>737874</td>\n",
       "      <td>LI</td>\n",
       "      <td>2005-11-14</td>\n",
       "      <td>False</td>\n",
       "      <td>train</td>\n",
       "      <td>Laidlaw International Inc. is a leading provid...</td>\n",
       "    </tr>\n",
       "    <tr>\n",
       "      <th>1</th>\n",
       "      <td>1464343</td>\n",
       "      <td>ATLC</td>\n",
       "      <td>2020-03-30</td>\n",
       "      <td>False</td>\n",
       "      <td>train</td>\n",
       "      <td>The company utilizes proprietary analytics and...</td>\n",
       "    </tr>\n",
       "    <tr>\n",
       "      <th>2</th>\n",
       "      <td>1022368</td>\n",
       "      <td>SHF</td>\n",
       "      <td>2001-08-29</td>\n",
       "      <td>False</td>\n",
       "      <td>train</td>\n",
       "      <td>The company experienced net income (loss) fluc...</td>\n",
       "    </tr>\n",
       "    <tr>\n",
       "      <th>3</th>\n",
       "      <td>815094</td>\n",
       "      <td>ABMD</td>\n",
       "      <td>2020-05-21</td>\n",
       "      <td>False</td>\n",
       "      <td>train</td>\n",
       "      <td>The company is a leading provider of temporary...</td>\n",
       "    </tr>\n",
       "    <tr>\n",
       "      <th>4</th>\n",
       "      <td>1159297</td>\n",
       "      <td>MWV</td>\n",
       "      <td>2014-02-24</td>\n",
       "      <td>False</td>\n",
       "      <td>train</td>\n",
       "      <td>MeadWestvaco reported a 2% increase in sales a...</td>\n",
       "    </tr>\n",
       "  </tbody>\n",
       "</table>\n",
       "</div>"
      ]
     },
     "execution_count": 57,
     "metadata": {},
     "output_type": "execute_result"
    }
   ],
   "execution_count": 57
  },
  {
   "metadata": {
    "ExecuteTime": {
     "end_time": "2024-09-19T11:33:34.742060Z",
     "start_time": "2024-09-19T11:33:34.735068Z"
    }
   },
   "cell_type": "code",
   "source": [
    "# add to synthetic_textual_data the column report_datetime with Nan values and ticker with Nan values\n",
    "synthetic_textual_data['report_datetime'] = np.nan\n",
    "synthetic_textual_data['ticker'] = np.nan\n",
    "synthetic_textual_data.head()"
   ],
   "id": "35164a541d9da107",
   "outputs": [
    {
     "name": "stderr",
     "output_type": "stream",
     "text": [
      "C:\\Users\\grzeg\\AppData\\Local\\Temp\\ipykernel_18276\\3276549069.py:2: SettingWithCopyWarning: \n",
      "A value is trying to be set on a copy of a slice from a DataFrame.\n",
      "Try using .loc[row_indexer,col_indexer] = value instead\n",
      "\n",
      "See the caveats in the documentation: https://pandas.pydata.org/pandas-docs/stable/user_guide/indexing.html#returning-a-view-versus-a-copy\n",
      "  synthetic_textual_data['report_datetime'] = np.nan\n",
      "C:\\Users\\grzeg\\AppData\\Local\\Temp\\ipykernel_18276\\3276549069.py:3: SettingWithCopyWarning: \n",
      "A value is trying to be set on a copy of a slice from a DataFrame.\n",
      "Try using .loc[row_indexer,col_indexer] = value instead\n",
      "\n",
      "See the caveats in the documentation: https://pandas.pydata.org/pandas-docs/stable/user_guide/indexing.html#returning-a-view-versus-a-copy\n",
      "  synthetic_textual_data['ticker'] = np.nan\n"
     ]
    },
    {
     "data": {
      "text/plain": [
       "          cik  label subset  \\\n",
       "2   102336208   True  train   \n",
       "8   141063709   True  train   \n",
       "9    94577107   True  train   \n",
       "11   77346804   True  train   \n",
       "12  116612602   True  train   \n",
       "\n",
       "                                                 text  report_datetime  ticker  \n",
       "2   The company manufactures and sells wireless co...              NaN     NaN  \n",
       "8   Compared to 2008, total revenue decreased by 6...              NaN     NaN  \n",
       "9   Losses, negative cash flows, and a working cap...              NaN     NaN  \n",
       "11  During the year ended December 31, 2007, Indym...              NaN     NaN  \n",
       "12  As a national omnichannel retailer, JCPenney o...              NaN     NaN  "
      ],
      "text/html": [
       "<div>\n",
       "<style scoped>\n",
       "    .dataframe tbody tr th:only-of-type {\n",
       "        vertical-align: middle;\n",
       "    }\n",
       "\n",
       "    .dataframe tbody tr th {\n",
       "        vertical-align: top;\n",
       "    }\n",
       "\n",
       "    .dataframe thead th {\n",
       "        text-align: right;\n",
       "    }\n",
       "</style>\n",
       "<table border=\"1\" class=\"dataframe\">\n",
       "  <thead>\n",
       "    <tr style=\"text-align: right;\">\n",
       "      <th></th>\n",
       "      <th>cik</th>\n",
       "      <th>label</th>\n",
       "      <th>subset</th>\n",
       "      <th>text</th>\n",
       "      <th>report_datetime</th>\n",
       "      <th>ticker</th>\n",
       "    </tr>\n",
       "  </thead>\n",
       "  <tbody>\n",
       "    <tr>\n",
       "      <th>2</th>\n",
       "      <td>102336208</td>\n",
       "      <td>True</td>\n",
       "      <td>train</td>\n",
       "      <td>The company manufactures and sells wireless co...</td>\n",
       "      <td>NaN</td>\n",
       "      <td>NaN</td>\n",
       "    </tr>\n",
       "    <tr>\n",
       "      <th>8</th>\n",
       "      <td>141063709</td>\n",
       "      <td>True</td>\n",
       "      <td>train</td>\n",
       "      <td>Compared to 2008, total revenue decreased by 6...</td>\n",
       "      <td>NaN</td>\n",
       "      <td>NaN</td>\n",
       "    </tr>\n",
       "    <tr>\n",
       "      <th>9</th>\n",
       "      <td>94577107</td>\n",
       "      <td>True</td>\n",
       "      <td>train</td>\n",
       "      <td>Losses, negative cash flows, and a working cap...</td>\n",
       "      <td>NaN</td>\n",
       "      <td>NaN</td>\n",
       "    </tr>\n",
       "    <tr>\n",
       "      <th>11</th>\n",
       "      <td>77346804</td>\n",
       "      <td>True</td>\n",
       "      <td>train</td>\n",
       "      <td>During the year ended December 31, 2007, Indym...</td>\n",
       "      <td>NaN</td>\n",
       "      <td>NaN</td>\n",
       "    </tr>\n",
       "    <tr>\n",
       "      <th>12</th>\n",
       "      <td>116612602</td>\n",
       "      <td>True</td>\n",
       "      <td>train</td>\n",
       "      <td>As a national omnichannel retailer, JCPenney o...</td>\n",
       "      <td>NaN</td>\n",
       "      <td>NaN</td>\n",
       "    </tr>\n",
       "  </tbody>\n",
       "</table>\n",
       "</div>"
      ]
     },
     "execution_count": 58,
     "metadata": {},
     "output_type": "execute_result"
    }
   ],
   "execution_count": 58
  },
  {
   "metadata": {
    "ExecuteTime": {
     "end_time": "2024-09-19T11:59:40.200702Z",
     "start_time": "2024-09-19T11:59:40.187441Z"
    }
   },
   "cell_type": "code",
   "source": [
    "# concatenate the original and synthetic textual data\n",
    "final_textual_data = pd.concat([merged_data, synthetic_textual_data])\n",
    "print(len(final_textual_data))\n",
    "final_textual_data.head()"
   ],
   "id": "5f2879f496b48957",
   "outputs": [
    {
     "name": "stdout",
     "output_type": "stream",
     "text": [
      "7214\n"
     ]
    },
    {
     "data": {
      "text/plain": [
       "       cik ticker report_datetime  label subset  \\\n",
       "0   737874     LI      2005-11-14  False  train   \n",
       "1  1464343   ATLC      2020-03-30  False  train   \n",
       "2  1022368    SHF      2001-08-29  False  train   \n",
       "3   815094   ABMD      2020-05-21  False  train   \n",
       "4  1159297    MWV      2014-02-24  False  train   \n",
       "\n",
       "                                                text  \n",
       "0  Laidlaw International Inc. is a leading provid...  \n",
       "1  The company utilizes proprietary analytics and...  \n",
       "2  The company experienced net income (loss) fluc...  \n",
       "3  The company is a leading provider of temporary...  \n",
       "4  MeadWestvaco reported a 2% increase in sales a...  "
      ],
      "text/html": [
       "<div>\n",
       "<style scoped>\n",
       "    .dataframe tbody tr th:only-of-type {\n",
       "        vertical-align: middle;\n",
       "    }\n",
       "\n",
       "    .dataframe tbody tr th {\n",
       "        vertical-align: top;\n",
       "    }\n",
       "\n",
       "    .dataframe thead th {\n",
       "        text-align: right;\n",
       "    }\n",
       "</style>\n",
       "<table border=\"1\" class=\"dataframe\">\n",
       "  <thead>\n",
       "    <tr style=\"text-align: right;\">\n",
       "      <th></th>\n",
       "      <th>cik</th>\n",
       "      <th>ticker</th>\n",
       "      <th>report_datetime</th>\n",
       "      <th>label</th>\n",
       "      <th>subset</th>\n",
       "      <th>text</th>\n",
       "    </tr>\n",
       "  </thead>\n",
       "  <tbody>\n",
       "    <tr>\n",
       "      <th>0</th>\n",
       "      <td>737874</td>\n",
       "      <td>LI</td>\n",
       "      <td>2005-11-14</td>\n",
       "      <td>False</td>\n",
       "      <td>train</td>\n",
       "      <td>Laidlaw International Inc. is a leading provid...</td>\n",
       "    </tr>\n",
       "    <tr>\n",
       "      <th>1</th>\n",
       "      <td>1464343</td>\n",
       "      <td>ATLC</td>\n",
       "      <td>2020-03-30</td>\n",
       "      <td>False</td>\n",
       "      <td>train</td>\n",
       "      <td>The company utilizes proprietary analytics and...</td>\n",
       "    </tr>\n",
       "    <tr>\n",
       "      <th>2</th>\n",
       "      <td>1022368</td>\n",
       "      <td>SHF</td>\n",
       "      <td>2001-08-29</td>\n",
       "      <td>False</td>\n",
       "      <td>train</td>\n",
       "      <td>The company experienced net income (loss) fluc...</td>\n",
       "    </tr>\n",
       "    <tr>\n",
       "      <th>3</th>\n",
       "      <td>815094</td>\n",
       "      <td>ABMD</td>\n",
       "      <td>2020-05-21</td>\n",
       "      <td>False</td>\n",
       "      <td>train</td>\n",
       "      <td>The company is a leading provider of temporary...</td>\n",
       "    </tr>\n",
       "    <tr>\n",
       "      <th>4</th>\n",
       "      <td>1159297</td>\n",
       "      <td>MWV</td>\n",
       "      <td>2014-02-24</td>\n",
       "      <td>False</td>\n",
       "      <td>train</td>\n",
       "      <td>MeadWestvaco reported a 2% increase in sales a...</td>\n",
       "    </tr>\n",
       "  </tbody>\n",
       "</table>\n",
       "</div>"
      ]
     },
     "execution_count": 112,
     "metadata": {},
     "output_type": "execute_result"
    }
   ],
   "execution_count": 112
  },
  {
   "metadata": {
    "ExecuteTime": {
     "end_time": "2024-09-19T11:59:43.780403Z",
     "start_time": "2024-09-19T11:59:43.769872Z"
    }
   },
   "cell_type": "code",
   "source": [
    "# reorder columns\n",
    "final_textual_data = final_textual_data[['cik', 'ticker', 'label', 'subset', 'report_datetime', 'text']]\n",
    "final_textual_data.head()"
   ],
   "id": "896ffc558703b766",
   "outputs": [
    {
     "data": {
      "text/plain": [
       "       cik ticker  label subset report_datetime  \\\n",
       "0   737874     LI  False  train      2005-11-14   \n",
       "1  1464343   ATLC  False  train      2020-03-30   \n",
       "2  1022368    SHF  False  train      2001-08-29   \n",
       "3   815094   ABMD  False  train      2020-05-21   \n",
       "4  1159297    MWV  False  train      2014-02-24   \n",
       "\n",
       "                                                text  \n",
       "0  Laidlaw International Inc. is a leading provid...  \n",
       "1  The company utilizes proprietary analytics and...  \n",
       "2  The company experienced net income (loss) fluc...  \n",
       "3  The company is a leading provider of temporary...  \n",
       "4  MeadWestvaco reported a 2% increase in sales a...  "
      ],
      "text/html": [
       "<div>\n",
       "<style scoped>\n",
       "    .dataframe tbody tr th:only-of-type {\n",
       "        vertical-align: middle;\n",
       "    }\n",
       "\n",
       "    .dataframe tbody tr th {\n",
       "        vertical-align: top;\n",
       "    }\n",
       "\n",
       "    .dataframe thead th {\n",
       "        text-align: right;\n",
       "    }\n",
       "</style>\n",
       "<table border=\"1\" class=\"dataframe\">\n",
       "  <thead>\n",
       "    <tr style=\"text-align: right;\">\n",
       "      <th></th>\n",
       "      <th>cik</th>\n",
       "      <th>ticker</th>\n",
       "      <th>label</th>\n",
       "      <th>subset</th>\n",
       "      <th>report_datetime</th>\n",
       "      <th>text</th>\n",
       "    </tr>\n",
       "  </thead>\n",
       "  <tbody>\n",
       "    <tr>\n",
       "      <th>0</th>\n",
       "      <td>737874</td>\n",
       "      <td>LI</td>\n",
       "      <td>False</td>\n",
       "      <td>train</td>\n",
       "      <td>2005-11-14</td>\n",
       "      <td>Laidlaw International Inc. is a leading provid...</td>\n",
       "    </tr>\n",
       "    <tr>\n",
       "      <th>1</th>\n",
       "      <td>1464343</td>\n",
       "      <td>ATLC</td>\n",
       "      <td>False</td>\n",
       "      <td>train</td>\n",
       "      <td>2020-03-30</td>\n",
       "      <td>The company utilizes proprietary analytics and...</td>\n",
       "    </tr>\n",
       "    <tr>\n",
       "      <th>2</th>\n",
       "      <td>1022368</td>\n",
       "      <td>SHF</td>\n",
       "      <td>False</td>\n",
       "      <td>train</td>\n",
       "      <td>2001-08-29</td>\n",
       "      <td>The company experienced net income (loss) fluc...</td>\n",
       "    </tr>\n",
       "    <tr>\n",
       "      <th>3</th>\n",
       "      <td>815094</td>\n",
       "      <td>ABMD</td>\n",
       "      <td>False</td>\n",
       "      <td>train</td>\n",
       "      <td>2020-05-21</td>\n",
       "      <td>The company is a leading provider of temporary...</td>\n",
       "    </tr>\n",
       "    <tr>\n",
       "      <th>4</th>\n",
       "      <td>1159297</td>\n",
       "      <td>MWV</td>\n",
       "      <td>False</td>\n",
       "      <td>train</td>\n",
       "      <td>2014-02-24</td>\n",
       "      <td>MeadWestvaco reported a 2% increase in sales a...</td>\n",
       "    </tr>\n",
       "  </tbody>\n",
       "</table>\n",
       "</div>"
      ]
     },
     "execution_count": 113,
     "metadata": {},
     "output_type": "execute_result"
    }
   ],
   "execution_count": 113
  },
  {
   "metadata": {
    "ExecuteTime": {
     "end_time": "2024-09-19T11:59:50.466286Z",
     "start_time": "2024-09-19T11:59:50.452937Z"
    }
   },
   "cell_type": "code",
   "source": "final_textual_data['ticker'].isnull().sum(), final_textual_data['report_datetime'].isnull().sum()",
   "id": "1b869c85756d9fb",
   "outputs": [
    {
     "data": {
      "text/plain": [
       "(2748, 2748)"
      ]
     },
     "execution_count": 114,
     "metadata": {},
     "output_type": "execute_result"
    }
   ],
   "execution_count": 114
  },
  {
   "metadata": {
    "ExecuteTime": {
     "end_time": "2024-09-19T11:59:51.607342Z",
     "start_time": "2024-09-19T11:59:51.602826Z"
    }
   },
   "cell_type": "code",
   "source": [
    "def match_textual_data_with_financial_data(textual_dataset, financial_dataset):\n",
    "    financial_dataset_ciks = financial_dataset['cik'].unique()\n",
    "    \n",
    "    textual_dataset_copy = textual_dataset.copy()\n",
    "    textual_dataset_copy['cik'] = pd.Categorical(textual_dataset_copy['cik'], categories=financial_dataset_ciks, ordered=True)\n",
    "    textual_dataset_copy = textual_dataset_copy.sort_values('cik').reset_index(drop=True)\n",
    "    \n",
    "    assert financial_dataset_ciks.tolist() == textual_dataset_copy['cik'].tolist()\n",
    "    \n",
    "    return textual_dataset_copy"
   ],
   "id": "1a2af82732e902bd",
   "outputs": [],
   "execution_count": 115
  },
  {
   "metadata": {
    "ExecuteTime": {
     "end_time": "2024-09-19T11:59:53.390070Z",
     "start_time": "2024-09-19T11:59:53.369400Z"
    }
   },
   "cell_type": "code",
   "source": [
    "final_textual_data = match_textual_data_with_financial_data(final_textual_data, final_financial_data)\n",
    "final_textual_data.head()"
   ],
   "id": "5aac511bfed1a75d",
   "outputs": [
    {
     "data": {
      "text/plain": [
       "         cik ticker  label subset report_datetime  \\\n",
       "0     737874     LI  False  train      2005-11-14   \n",
       "1    1464343   ATLC  False  train      2020-03-30   \n",
       "2  102336208    NaN   True  train             NaN   \n",
       "3    1022368    SHF  False  train      2001-08-29   \n",
       "4     815094   ABMD  False  train      2020-05-21   \n",
       "\n",
       "                                                text  \n",
       "0  Laidlaw International Inc. is a leading provid...  \n",
       "1  The company utilizes proprietary analytics and...  \n",
       "2  The company manufactures and sells wireless co...  \n",
       "3  The company experienced net income (loss) fluc...  \n",
       "4  The company is a leading provider of temporary...  "
      ],
      "text/html": [
       "<div>\n",
       "<style scoped>\n",
       "    .dataframe tbody tr th:only-of-type {\n",
       "        vertical-align: middle;\n",
       "    }\n",
       "\n",
       "    .dataframe tbody tr th {\n",
       "        vertical-align: top;\n",
       "    }\n",
       "\n",
       "    .dataframe thead th {\n",
       "        text-align: right;\n",
       "    }\n",
       "</style>\n",
       "<table border=\"1\" class=\"dataframe\">\n",
       "  <thead>\n",
       "    <tr style=\"text-align: right;\">\n",
       "      <th></th>\n",
       "      <th>cik</th>\n",
       "      <th>ticker</th>\n",
       "      <th>label</th>\n",
       "      <th>subset</th>\n",
       "      <th>report_datetime</th>\n",
       "      <th>text</th>\n",
       "    </tr>\n",
       "  </thead>\n",
       "  <tbody>\n",
       "    <tr>\n",
       "      <th>0</th>\n",
       "      <td>737874</td>\n",
       "      <td>LI</td>\n",
       "      <td>False</td>\n",
       "      <td>train</td>\n",
       "      <td>2005-11-14</td>\n",
       "      <td>Laidlaw International Inc. is a leading provid...</td>\n",
       "    </tr>\n",
       "    <tr>\n",
       "      <th>1</th>\n",
       "      <td>1464343</td>\n",
       "      <td>ATLC</td>\n",
       "      <td>False</td>\n",
       "      <td>train</td>\n",
       "      <td>2020-03-30</td>\n",
       "      <td>The company utilizes proprietary analytics and...</td>\n",
       "    </tr>\n",
       "    <tr>\n",
       "      <th>2</th>\n",
       "      <td>102336208</td>\n",
       "      <td>NaN</td>\n",
       "      <td>True</td>\n",
       "      <td>train</td>\n",
       "      <td>NaN</td>\n",
       "      <td>The company manufactures and sells wireless co...</td>\n",
       "    </tr>\n",
       "    <tr>\n",
       "      <th>3</th>\n",
       "      <td>1022368</td>\n",
       "      <td>SHF</td>\n",
       "      <td>False</td>\n",
       "      <td>train</td>\n",
       "      <td>2001-08-29</td>\n",
       "      <td>The company experienced net income (loss) fluc...</td>\n",
       "    </tr>\n",
       "    <tr>\n",
       "      <th>4</th>\n",
       "      <td>815094</td>\n",
       "      <td>ABMD</td>\n",
       "      <td>False</td>\n",
       "      <td>train</td>\n",
       "      <td>2020-05-21</td>\n",
       "      <td>The company is a leading provider of temporary...</td>\n",
       "    </tr>\n",
       "  </tbody>\n",
       "</table>\n",
       "</div>"
      ]
     },
     "execution_count": 116,
     "metadata": {},
     "output_type": "execute_result"
    }
   ],
   "execution_count": 116
  },
  {
   "metadata": {
    "ExecuteTime": {
     "end_time": "2024-09-19T12:46:40.168900Z",
     "start_time": "2024-09-19T12:46:40.160352Z"
    }
   },
   "cell_type": "code",
   "source": "len(final_financial_data)/5",
   "id": "f6413d0273a13e92",
   "outputs": [
    {
     "data": {
      "text/plain": [
       "7214.0"
      ]
     },
     "execution_count": 118,
     "metadata": {},
     "output_type": "execute_result"
    }
   ],
   "execution_count": 118
  },
  {
   "metadata": {
    "ExecuteTime": {
     "end_time": "2024-09-19T11:57:29.551090Z",
     "start_time": "2024-09-19T11:57:29.545187Z"
    }
   },
   "cell_type": "code",
   "source": "final_financial_data['ticker'] = final_financial_data['ticker'].astype(str)",
   "id": "46ded7c4b8e49b0e",
   "outputs": [],
   "execution_count": 104
  },
  {
   "metadata": {
    "ExecuteTime": {
     "end_time": "2024-09-19T11:57:32.907320Z",
     "start_time": "2024-09-19T11:57:32.878012Z"
    }
   },
   "cell_type": "code",
   "source": [
    "final_financial_data_uniqe= final_financial_data.drop_duplicates(subset=['cik'])\n",
    "# reset index of final_financial_data_uniqe\n",
    "final_financial_data_uniqe.reset_index(drop=True, inplace=True)\n",
    "print(len(final_financial_data_uniqe))\n",
    "final_financial_data_uniqe.head()"
   ],
   "id": "20693dae01e827fa",
   "outputs": [
    {
     "name": "stdout",
     "output_type": "stream",
     "text": [
      "7214\n"
     ]
    },
    {
     "data": {
      "text/plain": [
       "         cik ticker  label subset Fiscal Period  Cost of Goods Sold  \\\n",
       "0     737874     LI  False  train      Aug 2002               479.0   \n",
       "1    1464343   ATLC  False  train      Dec 2016                56.0   \n",
       "2  102336208    nan   True  train           NaN                30.0   \n",
       "3    1022368    SHF  False  train      May 2008               124.0   \n",
       "4     815094   ABMD  False  train      Mar 2017                71.0   \n",
       "\n",
       "   Depreciation, Depletion and Amortization    EBIT  EBITDA  Gross Profit  \\\n",
       "0                                     281.0  1028.0  1310.0        4004.0   \n",
       "1                                       7.5    49.0    53.0         135.0   \n",
       "2                                       9.0     8.0    18.0          35.0   \n",
       "3                                       3.0    15.0    18.0          67.0   \n",
       "4                                       6.0    90.0    96.0         375.0   \n",
       "\n",
       "   ...  Net Income  Retained Earnings  Revenue  Total Assets  \\\n",
       "0  ...     -1223.0              -10.0   4483.0        3853.0   \n",
       "1  ...        -6.3             -205.9     59.5         362.5   \n",
       "2  ...        -1.0               -1.0     41.0         124.0   \n",
       "3  ...        10.0               20.0    191.0         130.0   \n",
       "4  ...        52.0              -47.0    445.0         550.0   \n",
       "\n",
       "   Total Current Assets  Total Current Liabilities  Total Inventories  \\\n",
       "0                 948.0                      695.0               50.0   \n",
       "1                 144.0                       80.0              412.0   \n",
       "2                  68.0                       12.0               12.0   \n",
       "3                 111.0                       19.0               30.0   \n",
       "4                 327.0                       70.0               35.0   \n",
       "\n",
       "   Total Liabilities  Total Operating Expense  Total Receivables  \n",
       "0             2562.0                   3829.0              570.0  \n",
       "1              356.8                     82.0              295.8  \n",
       "2               23.0                     30.0               17.0  \n",
       "3               21.0                     52.0               21.0  \n",
       "4               98.0                    285.0               54.0  \n",
       "\n",
       "[5 rows x 22 columns]"
      ],
      "text/html": [
       "<div>\n",
       "<style scoped>\n",
       "    .dataframe tbody tr th:only-of-type {\n",
       "        vertical-align: middle;\n",
       "    }\n",
       "\n",
       "    .dataframe tbody tr th {\n",
       "        vertical-align: top;\n",
       "    }\n",
       "\n",
       "    .dataframe thead th {\n",
       "        text-align: right;\n",
       "    }\n",
       "</style>\n",
       "<table border=\"1\" class=\"dataframe\">\n",
       "  <thead>\n",
       "    <tr style=\"text-align: right;\">\n",
       "      <th></th>\n",
       "      <th>cik</th>\n",
       "      <th>ticker</th>\n",
       "      <th>label</th>\n",
       "      <th>subset</th>\n",
       "      <th>Fiscal Period</th>\n",
       "      <th>Cost of Goods Sold</th>\n",
       "      <th>Depreciation, Depletion and Amortization</th>\n",
       "      <th>EBIT</th>\n",
       "      <th>EBITDA</th>\n",
       "      <th>Gross Profit</th>\n",
       "      <th>...</th>\n",
       "      <th>Net Income</th>\n",
       "      <th>Retained Earnings</th>\n",
       "      <th>Revenue</th>\n",
       "      <th>Total Assets</th>\n",
       "      <th>Total Current Assets</th>\n",
       "      <th>Total Current Liabilities</th>\n",
       "      <th>Total Inventories</th>\n",
       "      <th>Total Liabilities</th>\n",
       "      <th>Total Operating Expense</th>\n",
       "      <th>Total Receivables</th>\n",
       "    </tr>\n",
       "  </thead>\n",
       "  <tbody>\n",
       "    <tr>\n",
       "      <th>0</th>\n",
       "      <td>737874</td>\n",
       "      <td>LI</td>\n",
       "      <td>False</td>\n",
       "      <td>train</td>\n",
       "      <td>Aug 2002</td>\n",
       "      <td>479.0</td>\n",
       "      <td>281.0</td>\n",
       "      <td>1028.0</td>\n",
       "      <td>1310.0</td>\n",
       "      <td>4004.0</td>\n",
       "      <td>...</td>\n",
       "      <td>-1223.0</td>\n",
       "      <td>-10.0</td>\n",
       "      <td>4483.0</td>\n",
       "      <td>3853.0</td>\n",
       "      <td>948.0</td>\n",
       "      <td>695.0</td>\n",
       "      <td>50.0</td>\n",
       "      <td>2562.0</td>\n",
       "      <td>3829.0</td>\n",
       "      <td>570.0</td>\n",
       "    </tr>\n",
       "    <tr>\n",
       "      <th>1</th>\n",
       "      <td>1464343</td>\n",
       "      <td>ATLC</td>\n",
       "      <td>False</td>\n",
       "      <td>train</td>\n",
       "      <td>Dec 2016</td>\n",
       "      <td>56.0</td>\n",
       "      <td>7.5</td>\n",
       "      <td>49.0</td>\n",
       "      <td>53.0</td>\n",
       "      <td>135.0</td>\n",
       "      <td>...</td>\n",
       "      <td>-6.3</td>\n",
       "      <td>-205.9</td>\n",
       "      <td>59.5</td>\n",
       "      <td>362.5</td>\n",
       "      <td>144.0</td>\n",
       "      <td>80.0</td>\n",
       "      <td>412.0</td>\n",
       "      <td>356.8</td>\n",
       "      <td>82.0</td>\n",
       "      <td>295.8</td>\n",
       "    </tr>\n",
       "    <tr>\n",
       "      <th>2</th>\n",
       "      <td>102336208</td>\n",
       "      <td>nan</td>\n",
       "      <td>True</td>\n",
       "      <td>train</td>\n",
       "      <td>NaN</td>\n",
       "      <td>30.0</td>\n",
       "      <td>9.0</td>\n",
       "      <td>8.0</td>\n",
       "      <td>18.0</td>\n",
       "      <td>35.0</td>\n",
       "      <td>...</td>\n",
       "      <td>-1.0</td>\n",
       "      <td>-1.0</td>\n",
       "      <td>41.0</td>\n",
       "      <td>124.0</td>\n",
       "      <td>68.0</td>\n",
       "      <td>12.0</td>\n",
       "      <td>12.0</td>\n",
       "      <td>23.0</td>\n",
       "      <td>30.0</td>\n",
       "      <td>17.0</td>\n",
       "    </tr>\n",
       "    <tr>\n",
       "      <th>3</th>\n",
       "      <td>1022368</td>\n",
       "      <td>SHF</td>\n",
       "      <td>False</td>\n",
       "      <td>train</td>\n",
       "      <td>May 2008</td>\n",
       "      <td>124.0</td>\n",
       "      <td>3.0</td>\n",
       "      <td>15.0</td>\n",
       "      <td>18.0</td>\n",
       "      <td>67.0</td>\n",
       "      <td>...</td>\n",
       "      <td>10.0</td>\n",
       "      <td>20.0</td>\n",
       "      <td>191.0</td>\n",
       "      <td>130.0</td>\n",
       "      <td>111.0</td>\n",
       "      <td>19.0</td>\n",
       "      <td>30.0</td>\n",
       "      <td>21.0</td>\n",
       "      <td>52.0</td>\n",
       "      <td>21.0</td>\n",
       "    </tr>\n",
       "    <tr>\n",
       "      <th>4</th>\n",
       "      <td>815094</td>\n",
       "      <td>ABMD</td>\n",
       "      <td>False</td>\n",
       "      <td>train</td>\n",
       "      <td>Mar 2017</td>\n",
       "      <td>71.0</td>\n",
       "      <td>6.0</td>\n",
       "      <td>90.0</td>\n",
       "      <td>96.0</td>\n",
       "      <td>375.0</td>\n",
       "      <td>...</td>\n",
       "      <td>52.0</td>\n",
       "      <td>-47.0</td>\n",
       "      <td>445.0</td>\n",
       "      <td>550.0</td>\n",
       "      <td>327.0</td>\n",
       "      <td>70.0</td>\n",
       "      <td>35.0</td>\n",
       "      <td>98.0</td>\n",
       "      <td>285.0</td>\n",
       "      <td>54.0</td>\n",
       "    </tr>\n",
       "  </tbody>\n",
       "</table>\n",
       "<p>5 rows × 22 columns</p>\n",
       "</div>"
      ]
     },
     "execution_count": 105,
     "metadata": {},
     "output_type": "execute_result"
    }
   ],
   "execution_count": 105
  },
  {
   "metadata": {
    "ExecuteTime": {
     "end_time": "2024-09-19T11:57:44.707523Z",
     "start_time": "2024-09-19T11:57:44.627554Z"
    }
   },
   "cell_type": "code",
   "source": [
    "for i in range(len(final_financial_data_uniqe)):\n",
    "    if (final_financial_data_uniqe.loc[i, 'ticker'] != final_textual_data.loc[i, 'ticker'] and\n",
    "            (final_financial_data_uniqe.loc[i, 'ticker'] and final_textual_data.loc[i, 'ticker'] != None)):\n",
    "        print(f\"Index: {i}, Ticker financial data: {final_financial_data_uniqe.loc[i, 'ticker']}, Ticker textual data: {final_textual_data.loc[i, 'ticker']}\")"
   ],
   "id": "2e9b2ffdfc4c8bda",
   "outputs": [
    {
     "name": "stdout",
     "output_type": "stream",
     "text": [
      "Index: 6322, Ticker financial data: FPOpA, Ticker textual data: FPOpA_CL.PFD\n"
     ]
    }
   ],
   "execution_count": 108
  },
  {
   "metadata": {},
   "cell_type": "markdown",
   "source": "manually corrected the ticker value in the textual data",
   "id": "3db16861fd980f94"
  },
  {
   "metadata": {
    "ExecuteTime": {
     "end_time": "2024-09-19T12:00:13.674583Z",
     "start_time": "2024-09-19T12:00:13.517995Z"
    }
   },
   "cell_type": "code",
   "source": "final_textual_data.to_csv('textual_data_version6_complete.csv', index=False)",
   "id": "abaffa55d86f887a",
   "outputs": [],
   "execution_count": 117
  },
  {
   "metadata": {},
   "cell_type": "code",
   "outputs": [],
   "execution_count": null,
   "source": "",
   "id": "6a8f317ee377a7e2"
  }
 ],
 "metadata": {
  "kernelspec": {
   "display_name": "Python 3",
   "language": "python",
   "name": "python3"
  },
  "language_info": {
   "codemirror_mode": {
    "name": "ipython",
    "version": 2
   },
   "file_extension": ".py",
   "mimetype": "text/x-python",
   "name": "python",
   "nbconvert_exporter": "python",
   "pygments_lexer": "ipython2",
   "version": "2.7.6"
  }
 },
 "nbformat": 4,
 "nbformat_minor": 5
}

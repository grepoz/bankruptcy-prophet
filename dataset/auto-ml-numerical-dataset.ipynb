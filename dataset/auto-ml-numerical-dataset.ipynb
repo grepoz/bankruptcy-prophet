{
 "cells": [
  {
   "metadata": {},
   "cell_type": "markdown",
   "source": "# Auto ml for financial and textual data",
   "id": "a05ab67b543b9c48"
  },
  {
   "metadata": {},
   "cell_type": "markdown",
   "source": "## Auto ml for financial data",
   "id": "f9a87a67bd2ba249"
  },
  {
   "cell_type": "code",
   "id": "initial_id",
   "metadata": {
    "collapsed": true,
    "ExecuteTime": {
     "end_time": "2024-09-22T20:44:57.997754Z",
     "start_time": "2024-09-22T20:44:57.880789Z"
    }
   },
   "source": [
    "import pandas as pd\n",
    "import numpy as np\n",
    "import matplotlib.pyplot as plt\n",
    "from sklearn import preprocessing\n",
    "\n",
    "random_state = 42"
   ],
   "outputs": [],
   "execution_count": 1
  },
  {
   "metadata": {
    "ExecuteTime": {
     "end_time": "2024-09-22T20:44:58.020371Z",
     "start_time": "2024-09-22T20:44:58.009388Z"
    }
   },
   "cell_type": "code",
   "source": [
    "def flatten_financial_dataset(financial_dataset):\n",
    "    object_length_in_rows = 5\n",
    "    metadata_columns_length = 5\n",
    "    \n",
    "    per_object_columns = list(financial_dataset.columns[:metadata_columns_length].values)\n",
    "    \n",
    "    value_columns = financial_dataset.columns[metadata_columns_length:]\n",
    "    new_columns = per_object_columns + [f'{col}_{i+1}' for i in range(object_length_in_rows) for col in value_columns]\n",
    "    \n",
    "    dfs = []\n",
    "    \n",
    "    for i in range(0, len(financial_dataset), object_length_in_rows):\n",
    "        group = financial_dataset.iloc[i:i + object_length_in_rows]\n",
    "        if len(group) < object_length_in_rows:\n",
    "            break\n",
    "\n",
    "        cik = group['cik'].iloc[0]\n",
    "        ticker = group['ticker'].iloc[0]\n",
    "        label = group['label'].iloc[0]\n",
    "        subset = group['subset'].iloc[0]\n",
    "        fiscal_periods = ';'.join(group['Fiscal Period'].astype(str).values)\n",
    "\n",
    "        values = group.drop(columns=per_object_columns).values.flatten()\n",
    "        \n",
    "        dfs.append([cik, ticker, label, subset, fiscal_periods] + values.tolist())\n",
    "    \n",
    "    final_flatten_df = pd.DataFrame(dfs, columns=new_columns)\n",
    "    final_flatten_df = final_flatten_df.reset_index(drop=True)\n",
    "    return final_flatten_df"
   ],
   "id": "56b465885ce7147f",
   "outputs": [],
   "execution_count": 2
  },
  {
   "metadata": {
    "ExecuteTime": {
     "end_time": "2024-09-22T20:44:58.031396Z",
     "start_time": "2024-09-22T20:44:58.026208Z"
    }
   },
   "cell_type": "code",
   "source": [
    "def preprocess_and_get_X_y(dataset):\n",
    "    dataset_flatten = flatten_financial_dataset(dataset)\n",
    "    dataset_flatten_preprocessed = dataset_flatten.drop(['cik', 'ticker', 'Fiscal Period'], axis=1)\n",
    "    _X = dataset_flatten_preprocessed.drop('label', axis=1)\n",
    "    _y = dataset_flatten_preprocessed['label']\n",
    "    \n",
    "    return _X, _y\n"
   ],
   "id": "7bf25fbb78c7bad8",
   "outputs": [],
   "execution_count": 3
  },
  {
   "metadata": {
    "ExecuteTime": {
     "end_time": "2024-09-22T20:44:58.497661Z",
     "start_time": "2024-09-22T20:44:58.492739Z"
    }
   },
   "cell_type": "code",
   "source": [
    "def get_train_val_test_split(X, y):\n",
    "    X_train = X[X['subset'] == 'train']\n",
    "    y_train = y[X['subset'] == 'train']\n",
    "    \n",
    "    X_val = X[X['subset'] == 'val']\n",
    "    y_val = y[X['subset'] == 'val']\n",
    "    \n",
    "    X_test = X[X['subset'] == 'test']\n",
    "    y_test = y[X['subset'] == 'test']\n",
    "    \n",
    "    X_train = X_train.drop('subset', axis=1)\n",
    "    X_val = X_val.drop('subset', axis=1)\n",
    "    X_test = X_test.drop('subset', axis=1)\n",
    "    \n",
    "    return X_train, y_train, X_val, y_val, X_test, y_test"
   ],
   "id": "6bdb50d3207ec626",
   "outputs": [],
   "execution_count": 4
  },
  {
   "metadata": {
    "ExecuteTime": {
     "end_time": "2024-09-22T20:44:58.538167Z",
     "start_time": "2024-09-22T20:44:58.533301Z"
    }
   },
   "cell_type": "code",
   "source": [
    "def scale_and_get_subsets(_X, _y, concat_train_and_val=False, scale=True):\n",
    "    \n",
    "    X_train, y_train, X_val, y_val, X_test, y_test = get_train_val_test_split(_X, _y)\n",
    "\n",
    "    if concat_train_and_val:\n",
    "        X_train_val = pd.concat([X_train, X_val])\n",
    "        y_train_val = pd.concat([y_train, y_val])\n",
    "        \n",
    "        if scale:\n",
    "            scaler = preprocessing.StandardScaler().fit(X_train_val)\n",
    "            \n",
    "            X_train_val = scaler.transform(X_train_val)\n",
    "            X_test = scaler.transform(X_test)\n",
    "        \n",
    "        return X_train_val, y_train_val, X_test, y_test\n",
    "        \n",
    "    else:\n",
    "        if scale:\n",
    "            scaler = preprocessing.StandardScaler().fit(X_train)\n",
    "            \n",
    "            X_train = scaler.transform(X_train)\n",
    "            X_val = scaler.transform(X_val)\n",
    "            X_test = scaler.transform(X_test)\n",
    "        \n",
    "        return X_train, y_train, X_val, y_val, X_test, y_test"
   ],
   "id": "e73c07356fb96074",
   "outputs": [],
   "execution_count": 5
  },
  {
   "metadata": {
    "ExecuteTime": {
     "end_time": "2024-09-22T20:45:03.867471Z",
     "start_time": "2024-09-22T20:45:03.708865Z"
    }
   },
   "cell_type": "code",
   "source": [
    "numerical_dataset_original = pd.read_csv('numerical_dataset_version5_original.csv')\n",
    "numerical_dataset_oversampled = pd.read_csv('numerical_dataset_version5_oversampled.csv')\n",
    "\n",
    "numerical_dataset_original.shape, numerical_dataset_oversampled.shape"
   ],
   "id": "1aa44568ee1591fb",
   "outputs": [
    {
     "data": {
      "text/plain": [
       "((22330, 22), (36070, 22))"
      ]
     },
     "execution_count": 6,
     "metadata": {},
     "output_type": "execute_result"
    }
   ],
   "execution_count": 6
  },
  {
   "metadata": {
    "ExecuteTime": {
     "end_time": "2024-09-22T20:45:10.541495Z",
     "start_time": "2024-09-22T20:45:06.475608Z"
    }
   },
   "cell_type": "code",
   "source": [
    "X_original, y_original = preprocess_and_get_X_y(numerical_dataset_original)\n",
    "X_oversampled, y_oversampled = preprocess_and_get_X_y(numerical_dataset_oversampled)\n",
    "\n",
    "concat_train_and_val = False\n",
    "scale = True\n",
    "\n",
    "# X_train, y_train, X_val, y_val, X_test, y_test = scale_and_get_subsets(X_original, y_original, concat_train_and_val, scale)\n",
    "X_train, y_train, X_val, y_val, X_test, y_test = scale_and_get_subsets(X_oversampled, y_oversampled, concat_train_and_val, scale)"
   ],
   "id": "bca219856b5da58a",
   "outputs": [],
   "execution_count": 7
  },
  {
   "metadata": {
    "ExecuteTime": {
     "end_time": "2024-09-20T09:51:25.665335Z",
     "start_time": "2024-09-20T09:51:25.653362Z"
    }
   },
   "cell_type": "code",
   "source": [
    "from sklearn.model_selection import PredefinedSplit\n",
    "\n",
    "split_index = [-1] * len(X_train) + [0] * len(X_val)\n",
    "X_train_val = np.concatenate([X_train, X_val])\n",
    "y_train_val = np.concatenate([y_train, y_val])\n",
    "ps = PredefinedSplit(test_fold=split_index)"
   ],
   "id": "5b123fe22fa15ef2",
   "outputs": [],
   "execution_count": 10
  },
  {
   "metadata": {},
   "cell_type": "markdown",
   "source": "### TPOT",
   "id": "43e33d09e44f7fcc"
  },
  {
   "metadata": {
    "ExecuteTime": {
     "end_time": "2024-09-20T16:09:40.920804Z",
     "start_time": "2024-09-20T16:09:38.384633Z"
    }
   },
   "cell_type": "code",
   "source": [
    "from tpot import TPOTClassifier\n",
    "from sklearn.metrics import f1_score, precision_score, accuracy_score"
   ],
   "id": "ebaa3112a8a135ff",
   "outputs": [],
   "execution_count": 17
  },
  {
   "metadata": {
    "ExecuteTime": {
     "end_time": "2024-09-20T10:00:30.338040Z",
     "start_time": "2024-09-20T09:51:51.035064Z"
    }
   },
   "cell_type": "code",
   "source": [
    "tpot = TPOTClassifier(verbosity=2, generations=10, population_size=10, scoring='precision', random_state=random_state, cv=ps) \n",
    "tpot.fit(X_train_val, y_train_val)"
   ],
   "id": "eab73550367724f8",
   "outputs": [
    {
     "data": {
      "text/plain": [
       "Optimization Progress:   0%|          | 0/110 [00:00<?, ?pipeline/s]"
      ],
      "application/vnd.jupyter.widget-view+json": {
       "version_major": 2,
       "version_minor": 0,
       "model_id": "012102e02fbe474c968e3952c9ddfc78"
      }
     },
     "metadata": {},
     "output_type": "display_data"
    },
    {
     "name": "stderr",
     "output_type": "stream",
     "text": [
      "  File \"C:\\Users\\grzeg\\PycharmProjects\\bankruptcy-prophet-new\\bankruptcy-prophet\\.venv\\Lib\\site-packages\\joblib\\externals\\loky\\backend\\context.py\", line 282, in _count_physical_cores\n",
      "    raise ValueError(f\"found {cpu_count_physical} physical cores < 1\")\n"
     ]
    },
    {
     "name": "stdout",
     "output_type": "stream",
     "text": [
      "\n",
      "Generation 1 - Current best internal CV score: 0.25\n",
      "\n",
      "Generation 2 - Current best internal CV score: 0.25\n",
      "\n",
      "Generation 3 - Current best internal CV score: 0.25\n",
      "\n",
      "Generation 4 - Current best internal CV score: 0.25\n",
      "\n",
      "Generation 5 - Current best internal CV score: 0.25\n",
      "\n",
      "Generation 6 - Current best internal CV score: 0.25\n",
      "\n",
      "Generation 7 - Current best internal CV score: 0.25\n",
      "\n",
      "Generation 8 - Current best internal CV score: 0.4\n",
      "\n",
      "Generation 9 - Current best internal CV score: 0.4\n",
      "\n",
      "Generation 10 - Current best internal CV score: 0.4\n",
      "\n",
      "Best pipeline: GradientBoostingClassifier(input_matrix, learning_rate=0.5, max_depth=6, max_features=0.15000000000000002, min_samples_leaf=13, min_samples_split=10, n_estimators=100, subsample=0.45)\n",
      "0.09523809523809523\n"
     ]
    }
   ],
   "execution_count": 12
  },
  {
   "metadata": {},
   "cell_type": "code",
   "outputs": [],
   "execution_count": null,
   "source": [
    "print(tpot.score(X_test, y_test))\n",
    "y_pred = tpot.predict(X_test)\n",
    "\n",
    "accuracy = accuracy_score(y_test, y_pred)\n",
    "f1 = f1_score(y_test, y_pred, average='binary')\n",
    "precision = precision_score(y_test, y_pred)\n",
    "\n",
    "print(\"Accuracy:\", accuracy)\n",
    "print(\"F1 Score:\", f1)\n",
    "print(\"Precision:\", precision)\n",
    "\n",
    "tpot.export('tpot_pipeline.py')"
   ],
   "id": "95a6cdb78c0afdf0"
  },
  {
   "metadata": {},
   "cell_type": "markdown",
   "source": "Original dataset: LinearSVC z konfiguracją: {C=15.0, dual=False, loss=squared_hinge, penalty=l1, tol=0.0001}precyzja na poziomie 100% na zbiorze walidacyjnym, ale na zbiorze testowym 0.0%.",
   "id": "a892600b7d9aca55"
  },
  {
   "metadata": {},
   "cell_type": "markdown",
   "source": "### Auto-sklearn is only for linux",
   "id": "b2dd92d655950694"
  },
  {
   "metadata": {},
   "cell_type": "markdown",
   "source": "### FLAML",
   "id": "318ecefd1a59b676"
  },
  {
   "metadata": {
    "ExecuteTime": {
     "end_time": "2024-09-20T10:17:27.739583Z",
     "start_time": "2024-09-20T10:17:27.239223Z"
    }
   },
   "cell_type": "code",
   "source": "from flaml import AutoML",
   "id": "991bb3e0f9402406",
   "outputs": [],
   "execution_count": 13
  },
  {
   "metadata": {
    "ExecuteTime": {
     "end_time": "2024-09-20T10:27:39.365689Z",
     "start_time": "2024-09-20T10:17:39.355313Z"
    }
   },
   "cell_type": "code",
   "source": [
    "automl_settings = {\n",
    "    \"time_budget\": 600,\n",
    "    \"metric\": \"f1\",\n",
    "    \"task\": \"classification\",\n",
    "    \"log_file_name\": \"flaml-logs-bankruptcy-financial-data.log\",\n",
    "    \"log_training_metric\": False,\n",
    "}\n",
    "\n",
    "automl = AutoML()\n",
    "automl.fit(X_train, y_train, X_val=X_val, y_val=y_val, **automl_settings, verbose=0)"
   ],
   "id": "f5d228fd89327d15",
   "outputs": [
    {
     "name": "stderr",
     "output_type": "stream",
     "text": [
      "C:\\Users\\grzeg\\PycharmProjects\\bankruptcy-prophet-new\\bankruptcy-prophet\\.venv\\Lib\\site-packages\\sklearn\\linear_model\\_sag.py:349: ConvergenceWarning: The max_iter was reached which means the coef_ did not converge\n",
      "  warnings.warn(\n",
      "C:\\Users\\grzeg\\PycharmProjects\\bankruptcy-prophet-new\\bankruptcy-prophet\\.venv\\Lib\\site-packages\\sklearn\\linear_model\\_sag.py:349: ConvergenceWarning: The max_iter was reached which means the coef_ did not converge\n",
      "  warnings.warn(\n",
      "C:\\Users\\grzeg\\PycharmProjects\\bankruptcy-prophet-new\\bankruptcy-prophet\\.venv\\Lib\\site-packages\\sklearn\\linear_model\\_sag.py:349: ConvergenceWarning: The max_iter was reached which means the coef_ did not converge\n",
      "  warnings.warn(\n",
      "C:\\Users\\grzeg\\PycharmProjects\\bankruptcy-prophet-new\\bankruptcy-prophet\\.venv\\Lib\\site-packages\\sklearn\\linear_model\\_sag.py:349: ConvergenceWarning: The max_iter was reached which means the coef_ did not converge\n",
      "  warnings.warn(\n",
      "C:\\Users\\grzeg\\PycharmProjects\\bankruptcy-prophet-new\\bankruptcy-prophet\\.venv\\Lib\\site-packages\\sklearn\\linear_model\\_sag.py:349: ConvergenceWarning: The max_iter was reached which means the coef_ did not converge\n",
      "  warnings.warn(\n",
      "C:\\Users\\grzeg\\PycharmProjects\\bankruptcy-prophet-new\\bankruptcy-prophet\\.venv\\Lib\\site-packages\\sklearn\\linear_model\\_sag.py:349: ConvergenceWarning: The max_iter was reached which means the coef_ did not converge\n",
      "  warnings.warn(\n",
      "C:\\Users\\grzeg\\PycharmProjects\\bankruptcy-prophet-new\\bankruptcy-prophet\\.venv\\Lib\\site-packages\\sklearn\\linear_model\\_sag.py:349: ConvergenceWarning: The max_iter was reached which means the coef_ did not converge\n",
      "  warnings.warn(\n",
      "C:\\Users\\grzeg\\PycharmProjects\\bankruptcy-prophet-new\\bankruptcy-prophet\\.venv\\Lib\\site-packages\\sklearn\\linear_model\\_sag.py:349: ConvergenceWarning: The max_iter was reached which means the coef_ did not converge\n",
      "  warnings.warn(\n",
      "C:\\Users\\grzeg\\PycharmProjects\\bankruptcy-prophet-new\\bankruptcy-prophet\\.venv\\Lib\\site-packages\\sklearn\\linear_model\\_sag.py:349: ConvergenceWarning: The max_iter was reached which means the coef_ did not converge\n",
      "  warnings.warn(\n",
      "C:\\Users\\grzeg\\PycharmProjects\\bankruptcy-prophet-new\\bankruptcy-prophet\\.venv\\Lib\\site-packages\\sklearn\\linear_model\\_sag.py:349: ConvergenceWarning: The max_iter was reached which means the coef_ did not converge\n",
      "  warnings.warn(\n",
      "C:\\Users\\grzeg\\PycharmProjects\\bankruptcy-prophet-new\\bankruptcy-prophet\\.venv\\Lib\\site-packages\\sklearn\\linear_model\\_sag.py:349: ConvergenceWarning: The max_iter was reached which means the coef_ did not converge\n",
      "  warnings.warn(\n",
      "C:\\Users\\grzeg\\PycharmProjects\\bankruptcy-prophet-new\\bankruptcy-prophet\\.venv\\Lib\\site-packages\\sklearn\\linear_model\\_sag.py:349: ConvergenceWarning: The max_iter was reached which means the coef_ did not converge\n",
      "  warnings.warn(\n",
      "C:\\Users\\grzeg\\PycharmProjects\\bankruptcy-prophet-new\\bankruptcy-prophet\\.venv\\Lib\\site-packages\\sklearn\\linear_model\\_sag.py:349: ConvergenceWarning: The max_iter was reached which means the coef_ did not converge\n",
      "  warnings.warn(\n",
      "C:\\Users\\grzeg\\PycharmProjects\\bankruptcy-prophet-new\\bankruptcy-prophet\\.venv\\Lib\\site-packages\\sklearn\\linear_model\\_sag.py:349: ConvergenceWarning: The max_iter was reached which means the coef_ did not converge\n",
      "  warnings.warn(\n",
      "C:\\Users\\grzeg\\PycharmProjects\\bankruptcy-prophet-new\\bankruptcy-prophet\\.venv\\Lib\\site-packages\\sklearn\\linear_model\\_sag.py:349: ConvergenceWarning: The max_iter was reached which means the coef_ did not converge\n",
      "  warnings.warn(\n",
      "C:\\Users\\grzeg\\PycharmProjects\\bankruptcy-prophet-new\\bankruptcy-prophet\\.venv\\Lib\\site-packages\\sklearn\\linear_model\\_sag.py:349: ConvergenceWarning: The max_iter was reached which means the coef_ did not converge\n",
      "  warnings.warn(\n",
      "C:\\Users\\grzeg\\PycharmProjects\\bankruptcy-prophet-new\\bankruptcy-prophet\\.venv\\Lib\\site-packages\\sklearn\\linear_model\\_sag.py:349: ConvergenceWarning: The max_iter was reached which means the coef_ did not converge\n",
      "  warnings.warn(\n",
      "C:\\Users\\grzeg\\PycharmProjects\\bankruptcy-prophet-new\\bankruptcy-prophet\\.venv\\Lib\\site-packages\\sklearn\\linear_model\\_sag.py:349: ConvergenceWarning: The max_iter was reached which means the coef_ did not converge\n",
      "  warnings.warn(\n",
      "C:\\Users\\grzeg\\PycharmProjects\\bankruptcy-prophet-new\\bankruptcy-prophet\\.venv\\Lib\\site-packages\\sklearn\\linear_model\\_sag.py:349: ConvergenceWarning: The max_iter was reached which means the coef_ did not converge\n",
      "  warnings.warn(\n",
      "C:\\Users\\grzeg\\PycharmProjects\\bankruptcy-prophet-new\\bankruptcy-prophet\\.venv\\Lib\\site-packages\\sklearn\\linear_model\\_sag.py:349: ConvergenceWarning: The max_iter was reached which means the coef_ did not converge\n",
      "  warnings.warn(\n",
      "C:\\Users\\grzeg\\PycharmProjects\\bankruptcy-prophet-new\\bankruptcy-prophet\\.venv\\Lib\\site-packages\\sklearn\\linear_model\\_sag.py:349: ConvergenceWarning: The max_iter was reached which means the coef_ did not converge\n",
      "  warnings.warn(\n",
      "C:\\Users\\grzeg\\PycharmProjects\\bankruptcy-prophet-new\\bankruptcy-prophet\\.venv\\Lib\\site-packages\\sklearn\\linear_model\\_sag.py:349: ConvergenceWarning: The max_iter was reached which means the coef_ did not converge\n",
      "  warnings.warn(\n",
      "C:\\Users\\grzeg\\PycharmProjects\\bankruptcy-prophet-new\\bankruptcy-prophet\\.venv\\Lib\\site-packages\\sklearn\\linear_model\\_sag.py:349: ConvergenceWarning: The max_iter was reached which means the coef_ did not converge\n",
      "  warnings.warn(\n",
      "C:\\Users\\grzeg\\PycharmProjects\\bankruptcy-prophet-new\\bankruptcy-prophet\\.venv\\Lib\\site-packages\\sklearn\\linear_model\\_sag.py:349: ConvergenceWarning: The max_iter was reached which means the coef_ did not converge\n",
      "  warnings.warn(\n",
      "C:\\Users\\grzeg\\PycharmProjects\\bankruptcy-prophet-new\\bankruptcy-prophet\\.venv\\Lib\\site-packages\\sklearn\\linear_model\\_sag.py:349: ConvergenceWarning: The max_iter was reached which means the coef_ did not converge\n",
      "  warnings.warn(\n",
      "C:\\Users\\grzeg\\PycharmProjects\\bankruptcy-prophet-new\\bankruptcy-prophet\\.venv\\Lib\\site-packages\\sklearn\\linear_model\\_sag.py:349: ConvergenceWarning: The max_iter was reached which means the coef_ did not converge\n",
      "  warnings.warn(\n",
      "C:\\Users\\grzeg\\PycharmProjects\\bankruptcy-prophet-new\\bankruptcy-prophet\\.venv\\Lib\\site-packages\\sklearn\\linear_model\\_sag.py:349: ConvergenceWarning: The max_iter was reached which means the coef_ did not converge\n",
      "  warnings.warn(\n",
      "C:\\Users\\grzeg\\PycharmProjects\\bankruptcy-prophet-new\\bankruptcy-prophet\\.venv\\Lib\\site-packages\\sklearn\\linear_model\\_sag.py:349: ConvergenceWarning: The max_iter was reached which means the coef_ did not converge\n",
      "  warnings.warn(\n",
      "C:\\Users\\grzeg\\PycharmProjects\\bankruptcy-prophet-new\\bankruptcy-prophet\\.venv\\Lib\\site-packages\\sklearn\\linear_model\\_sag.py:349: ConvergenceWarning: The max_iter was reached which means the coef_ did not converge\n",
      "  warnings.warn(\n",
      "C:\\Users\\grzeg\\PycharmProjects\\bankruptcy-prophet-new\\bankruptcy-prophet\\.venv\\Lib\\site-packages\\sklearn\\linear_model\\_sag.py:349: ConvergenceWarning: The max_iter was reached which means the coef_ did not converge\n",
      "  warnings.warn(\n",
      "C:\\Users\\grzeg\\PycharmProjects\\bankruptcy-prophet-new\\bankruptcy-prophet\\.venv\\Lib\\site-packages\\sklearn\\linear_model\\_sag.py:349: ConvergenceWarning: The max_iter was reached which means the coef_ did not converge\n",
      "  warnings.warn(\n",
      "C:\\Users\\grzeg\\PycharmProjects\\bankruptcy-prophet-new\\bankruptcy-prophet\\.venv\\Lib\\site-packages\\sklearn\\linear_model\\_sag.py:349: ConvergenceWarning: The max_iter was reached which means the coef_ did not converge\n",
      "  warnings.warn(\n",
      "C:\\Users\\grzeg\\PycharmProjects\\bankruptcy-prophet-new\\bankruptcy-prophet\\.venv\\Lib\\site-packages\\sklearn\\linear_model\\_sag.py:349: ConvergenceWarning: The max_iter was reached which means the coef_ did not converge\n",
      "  warnings.warn(\n",
      "C:\\Users\\grzeg\\PycharmProjects\\bankruptcy-prophet-new\\bankruptcy-prophet\\.venv\\Lib\\site-packages\\sklearn\\linear_model\\_sag.py:349: ConvergenceWarning: The max_iter was reached which means the coef_ did not converge\n",
      "  warnings.warn(\n",
      "C:\\Users\\grzeg\\PycharmProjects\\bankruptcy-prophet-new\\bankruptcy-prophet\\.venv\\Lib\\site-packages\\sklearn\\linear_model\\_sag.py:349: ConvergenceWarning: The max_iter was reached which means the coef_ did not converge\n",
      "  warnings.warn(\n",
      "C:\\Users\\grzeg\\PycharmProjects\\bankruptcy-prophet-new\\bankruptcy-prophet\\.venv\\Lib\\site-packages\\sklearn\\linear_model\\_sag.py:349: ConvergenceWarning: The max_iter was reached which means the coef_ did not converge\n",
      "  warnings.warn(\n",
      "C:\\Users\\grzeg\\PycharmProjects\\bankruptcy-prophet-new\\bankruptcy-prophet\\.venv\\Lib\\site-packages\\sklearn\\linear_model\\_sag.py:349: ConvergenceWarning: The max_iter was reached which means the coef_ did not converge\n",
      "  warnings.warn(\n",
      "C:\\Users\\grzeg\\PycharmProjects\\bankruptcy-prophet-new\\bankruptcy-prophet\\.venv\\Lib\\site-packages\\sklearn\\linear_model\\_sag.py:349: ConvergenceWarning: The max_iter was reached which means the coef_ did not converge\n",
      "  warnings.warn(\n",
      "C:\\Users\\grzeg\\PycharmProjects\\bankruptcy-prophet-new\\bankruptcy-prophet\\.venv\\Lib\\site-packages\\sklearn\\linear_model\\_sag.py:349: ConvergenceWarning: The max_iter was reached which means the coef_ did not converge\n",
      "  warnings.warn(\n",
      "C:\\Users\\grzeg\\PycharmProjects\\bankruptcy-prophet-new\\bankruptcy-prophet\\.venv\\Lib\\site-packages\\sklearn\\linear_model\\_sag.py:349: ConvergenceWarning: The max_iter was reached which means the coef_ did not converge\n",
      "  warnings.warn(\n",
      "C:\\Users\\grzeg\\PycharmProjects\\bankruptcy-prophet-new\\bankruptcy-prophet\\.venv\\Lib\\site-packages\\sklearn\\linear_model\\_sag.py:349: ConvergenceWarning: The max_iter was reached which means the coef_ did not converge\n",
      "  warnings.warn(\n",
      "C:\\Users\\grzeg\\PycharmProjects\\bankruptcy-prophet-new\\bankruptcy-prophet\\.venv\\Lib\\site-packages\\sklearn\\linear_model\\_sag.py:349: ConvergenceWarning: The max_iter was reached which means the coef_ did not converge\n",
      "  warnings.warn(\n",
      "C:\\Users\\grzeg\\PycharmProjects\\bankruptcy-prophet-new\\bankruptcy-prophet\\.venv\\Lib\\site-packages\\sklearn\\linear_model\\_sag.py:349: ConvergenceWarning: The max_iter was reached which means the coef_ did not converge\n",
      "  warnings.warn(\n",
      "C:\\Users\\grzeg\\PycharmProjects\\bankruptcy-prophet-new\\bankruptcy-prophet\\.venv\\Lib\\site-packages\\sklearn\\linear_model\\_sag.py:349: ConvergenceWarning: The max_iter was reached which means the coef_ did not converge\n",
      "  warnings.warn(\n",
      "C:\\Users\\grzeg\\PycharmProjects\\bankruptcy-prophet-new\\bankruptcy-prophet\\.venv\\Lib\\site-packages\\sklearn\\linear_model\\_sag.py:349: ConvergenceWarning: The max_iter was reached which means the coef_ did not converge\n",
      "  warnings.warn(\n",
      "C:\\Users\\grzeg\\PycharmProjects\\bankruptcy-prophet-new\\bankruptcy-prophet\\.venv\\Lib\\site-packages\\sklearn\\linear_model\\_sag.py:349: ConvergenceWarning: The max_iter was reached which means the coef_ did not converge\n",
      "  warnings.warn(\n",
      "C:\\Users\\grzeg\\PycharmProjects\\bankruptcy-prophet-new\\bankruptcy-prophet\\.venv\\Lib\\site-packages\\sklearn\\linear_model\\_sag.py:349: ConvergenceWarning: The max_iter was reached which means the coef_ did not converge\n",
      "  warnings.warn(\n",
      "C:\\Users\\grzeg\\PycharmProjects\\bankruptcy-prophet-new\\bankruptcy-prophet\\.venv\\Lib\\site-packages\\sklearn\\linear_model\\_sag.py:349: ConvergenceWarning: The max_iter was reached which means the coef_ did not converge\n",
      "  warnings.warn(\n",
      "C:\\Users\\grzeg\\PycharmProjects\\bankruptcy-prophet-new\\bankruptcy-prophet\\.venv\\Lib\\site-packages\\sklearn\\linear_model\\_sag.py:349: ConvergenceWarning: The max_iter was reached which means the coef_ did not converge\n",
      "  warnings.warn(\n",
      "C:\\Users\\grzeg\\PycharmProjects\\bankruptcy-prophet-new\\bankruptcy-prophet\\.venv\\Lib\\site-packages\\sklearn\\linear_model\\_sag.py:349: ConvergenceWarning: The max_iter was reached which means the coef_ did not converge\n",
      "  warnings.warn(\n",
      "C:\\Users\\grzeg\\PycharmProjects\\bankruptcy-prophet-new\\bankruptcy-prophet\\.venv\\Lib\\site-packages\\sklearn\\linear_model\\_sag.py:349: ConvergenceWarning: The max_iter was reached which means the coef_ did not converge\n",
      "  warnings.warn(\n",
      "C:\\Users\\grzeg\\PycharmProjects\\bankruptcy-prophet-new\\bankruptcy-prophet\\.venv\\Lib\\site-packages\\sklearn\\linear_model\\_sag.py:349: ConvergenceWarning: The max_iter was reached which means the coef_ did not converge\n",
      "  warnings.warn(\n",
      "C:\\Users\\grzeg\\PycharmProjects\\bankruptcy-prophet-new\\bankruptcy-prophet\\.venv\\Lib\\site-packages\\sklearn\\linear_model\\_sag.py:349: ConvergenceWarning: The max_iter was reached which means the coef_ did not converge\n",
      "  warnings.warn(\n",
      "C:\\Users\\grzeg\\PycharmProjects\\bankruptcy-prophet-new\\bankruptcy-prophet\\.venv\\Lib\\site-packages\\sklearn\\linear_model\\_sag.py:349: ConvergenceWarning: The max_iter was reached which means the coef_ did not converge\n",
      "  warnings.warn(\n",
      "C:\\Users\\grzeg\\PycharmProjects\\bankruptcy-prophet-new\\bankruptcy-prophet\\.venv\\Lib\\site-packages\\sklearn\\linear_model\\_sag.py:349: ConvergenceWarning: The max_iter was reached which means the coef_ did not converge\n",
      "  warnings.warn(\n",
      "C:\\Users\\grzeg\\PycharmProjects\\bankruptcy-prophet-new\\bankruptcy-prophet\\.venv\\Lib\\site-packages\\sklearn\\linear_model\\_sag.py:349: ConvergenceWarning: The max_iter was reached which means the coef_ did not converge\n",
      "  warnings.warn(\n",
      "C:\\Users\\grzeg\\PycharmProjects\\bankruptcy-prophet-new\\bankruptcy-prophet\\.venv\\Lib\\site-packages\\sklearn\\linear_model\\_sag.py:349: ConvergenceWarning: The max_iter was reached which means the coef_ did not converge\n",
      "  warnings.warn(\n",
      "C:\\Users\\grzeg\\PycharmProjects\\bankruptcy-prophet-new\\bankruptcy-prophet\\.venv\\Lib\\site-packages\\sklearn\\linear_model\\_sag.py:349: ConvergenceWarning: The max_iter was reached which means the coef_ did not converge\n",
      "  warnings.warn(\n",
      "C:\\Users\\grzeg\\PycharmProjects\\bankruptcy-prophet-new\\bankruptcy-prophet\\.venv\\Lib\\site-packages\\sklearn\\linear_model\\_sag.py:349: ConvergenceWarning: The max_iter was reached which means the coef_ did not converge\n",
      "  warnings.warn(\n",
      "C:\\Users\\grzeg\\PycharmProjects\\bankruptcy-prophet-new\\bankruptcy-prophet\\.venv\\Lib\\site-packages\\sklearn\\linear_model\\_sag.py:349: ConvergenceWarning: The max_iter was reached which means the coef_ did not converge\n",
      "  warnings.warn(\n",
      "C:\\Users\\grzeg\\PycharmProjects\\bankruptcy-prophet-new\\bankruptcy-prophet\\.venv\\Lib\\site-packages\\sklearn\\linear_model\\_sag.py:349: ConvergenceWarning: The max_iter was reached which means the coef_ did not converge\n",
      "  warnings.warn(\n",
      "C:\\Users\\grzeg\\PycharmProjects\\bankruptcy-prophet-new\\bankruptcy-prophet\\.venv\\Lib\\site-packages\\sklearn\\linear_model\\_sag.py:349: ConvergenceWarning: The max_iter was reached which means the coef_ did not converge\n",
      "  warnings.warn(\n",
      "C:\\Users\\grzeg\\PycharmProjects\\bankruptcy-prophet-new\\bankruptcy-prophet\\.venv\\Lib\\site-packages\\sklearn\\linear_model\\_sag.py:349: ConvergenceWarning: The max_iter was reached which means the coef_ did not converge\n",
      "  warnings.warn(\n",
      "C:\\Users\\grzeg\\PycharmProjects\\bankruptcy-prophet-new\\bankruptcy-prophet\\.venv\\Lib\\site-packages\\sklearn\\linear_model\\_sag.py:349: ConvergenceWarning: The max_iter was reached which means the coef_ did not converge\n",
      "  warnings.warn(\n",
      "C:\\Users\\grzeg\\PycharmProjects\\bankruptcy-prophet-new\\bankruptcy-prophet\\.venv\\Lib\\site-packages\\sklearn\\linear_model\\_sag.py:349: ConvergenceWarning: The max_iter was reached which means the coef_ did not converge\n",
      "  warnings.warn(\n",
      "C:\\Users\\grzeg\\PycharmProjects\\bankruptcy-prophet-new\\bankruptcy-prophet\\.venv\\Lib\\site-packages\\sklearn\\linear_model\\_sag.py:349: ConvergenceWarning: The max_iter was reached which means the coef_ did not converge\n",
      "  warnings.warn(\n",
      "C:\\Users\\grzeg\\PycharmProjects\\bankruptcy-prophet-new\\bankruptcy-prophet\\.venv\\Lib\\site-packages\\sklearn\\linear_model\\_sag.py:349: ConvergenceWarning: The max_iter was reached which means the coef_ did not converge\n",
      "  warnings.warn(\n",
      "C:\\Users\\grzeg\\PycharmProjects\\bankruptcy-prophet-new\\bankruptcy-prophet\\.venv\\Lib\\site-packages\\sklearn\\linear_model\\_sag.py:349: ConvergenceWarning: The max_iter was reached which means the coef_ did not converge\n",
      "  warnings.warn(\n",
      "C:\\Users\\grzeg\\PycharmProjects\\bankruptcy-prophet-new\\bankruptcy-prophet\\.venv\\Lib\\site-packages\\sklearn\\linear_model\\_sag.py:349: ConvergenceWarning: The max_iter was reached which means the coef_ did not converge\n",
      "  warnings.warn(\n",
      "C:\\Users\\grzeg\\PycharmProjects\\bankruptcy-prophet-new\\bankruptcy-prophet\\.venv\\Lib\\site-packages\\sklearn\\linear_model\\_sag.py:349: ConvergenceWarning: The max_iter was reached which means the coef_ did not converge\n",
      "  warnings.warn(\n",
      "C:\\Users\\grzeg\\PycharmProjects\\bankruptcy-prophet-new\\bankruptcy-prophet\\.venv\\Lib\\site-packages\\sklearn\\linear_model\\_sag.py:349: ConvergenceWarning: The max_iter was reached which means the coef_ did not converge\n",
      "  warnings.warn(\n",
      "C:\\Users\\grzeg\\PycharmProjects\\bankruptcy-prophet-new\\bankruptcy-prophet\\.venv\\Lib\\site-packages\\sklearn\\linear_model\\_sag.py:349: ConvergenceWarning: The max_iter was reached which means the coef_ did not converge\n",
      "  warnings.warn(\n",
      "C:\\Users\\grzeg\\PycharmProjects\\bankruptcy-prophet-new\\bankruptcy-prophet\\.venv\\Lib\\site-packages\\sklearn\\linear_model\\_sag.py:349: ConvergenceWarning: The max_iter was reached which means the coef_ did not converge\n",
      "  warnings.warn(\n",
      "C:\\Users\\grzeg\\PycharmProjects\\bankruptcy-prophet-new\\bankruptcy-prophet\\.venv\\Lib\\site-packages\\sklearn\\linear_model\\_sag.py:349: ConvergenceWarning: The max_iter was reached which means the coef_ did not converge\n",
      "  warnings.warn(\n",
      "C:\\Users\\grzeg\\PycharmProjects\\bankruptcy-prophet-new\\bankruptcy-prophet\\.venv\\Lib\\site-packages\\sklearn\\linear_model\\_sag.py:349: ConvergenceWarning: The max_iter was reached which means the coef_ did not converge\n",
      "  warnings.warn(\n",
      "C:\\Users\\grzeg\\PycharmProjects\\bankruptcy-prophet-new\\bankruptcy-prophet\\.venv\\Lib\\site-packages\\sklearn\\linear_model\\_sag.py:349: ConvergenceWarning: The max_iter was reached which means the coef_ did not converge\n",
      "  warnings.warn(\n",
      "C:\\Users\\grzeg\\PycharmProjects\\bankruptcy-prophet-new\\bankruptcy-prophet\\.venv\\Lib\\site-packages\\sklearn\\linear_model\\_sag.py:349: ConvergenceWarning: The max_iter was reached which means the coef_ did not converge\n",
      "  warnings.warn(\n",
      "C:\\Users\\grzeg\\PycharmProjects\\bankruptcy-prophet-new\\bankruptcy-prophet\\.venv\\Lib\\site-packages\\sklearn\\linear_model\\_sag.py:349: ConvergenceWarning: The max_iter was reached which means the coef_ did not converge\n",
      "  warnings.warn(\n",
      "C:\\Users\\grzeg\\PycharmProjects\\bankruptcy-prophet-new\\bankruptcy-prophet\\.venv\\Lib\\site-packages\\sklearn\\linear_model\\_sag.py:349: ConvergenceWarning: The max_iter was reached which means the coef_ did not converge\n",
      "  warnings.warn(\n",
      "C:\\Users\\grzeg\\PycharmProjects\\bankruptcy-prophet-new\\bankruptcy-prophet\\.venv\\Lib\\site-packages\\sklearn\\linear_model\\_sag.py:349: ConvergenceWarning: The max_iter was reached which means the coef_ did not converge\n",
      "  warnings.warn(\n",
      "C:\\Users\\grzeg\\PycharmProjects\\bankruptcy-prophet-new\\bankruptcy-prophet\\.venv\\Lib\\site-packages\\sklearn\\linear_model\\_sag.py:349: ConvergenceWarning: The max_iter was reached which means the coef_ did not converge\n",
      "  warnings.warn(\n",
      "C:\\Users\\grzeg\\PycharmProjects\\bankruptcy-prophet-new\\bankruptcy-prophet\\.venv\\Lib\\site-packages\\sklearn\\linear_model\\_sag.py:349: ConvergenceWarning: The max_iter was reached which means the coef_ did not converge\n",
      "  warnings.warn(\n",
      "C:\\Users\\grzeg\\PycharmProjects\\bankruptcy-prophet-new\\bankruptcy-prophet\\.venv\\Lib\\site-packages\\sklearn\\linear_model\\_sag.py:349: ConvergenceWarning: The max_iter was reached which means the coef_ did not converge\n",
      "  warnings.warn(\n",
      "C:\\Users\\grzeg\\PycharmProjects\\bankruptcy-prophet-new\\bankruptcy-prophet\\.venv\\Lib\\site-packages\\sklearn\\linear_model\\_sag.py:349: ConvergenceWarning: The max_iter was reached which means the coef_ did not converge\n",
      "  warnings.warn(\n",
      "C:\\Users\\grzeg\\PycharmProjects\\bankruptcy-prophet-new\\bankruptcy-prophet\\.venv\\Lib\\site-packages\\sklearn\\linear_model\\_sag.py:349: ConvergenceWarning: The max_iter was reached which means the coef_ did not converge\n",
      "  warnings.warn(\n",
      "C:\\Users\\grzeg\\PycharmProjects\\bankruptcy-prophet-new\\bankruptcy-prophet\\.venv\\Lib\\site-packages\\sklearn\\linear_model\\_sag.py:349: ConvergenceWarning: The max_iter was reached which means the coef_ did not converge\n",
      "  warnings.warn(\n",
      "C:\\Users\\grzeg\\PycharmProjects\\bankruptcy-prophet-new\\bankruptcy-prophet\\.venv\\Lib\\site-packages\\sklearn\\linear_model\\_sag.py:349: ConvergenceWarning: The max_iter was reached which means the coef_ did not converge\n",
      "  warnings.warn(\n",
      "C:\\Users\\grzeg\\PycharmProjects\\bankruptcy-prophet-new\\bankruptcy-prophet\\.venv\\Lib\\site-packages\\sklearn\\linear_model\\_sag.py:349: ConvergenceWarning: The max_iter was reached which means the coef_ did not converge\n",
      "  warnings.warn(\n",
      "C:\\Users\\grzeg\\PycharmProjects\\bankruptcy-prophet-new\\bankruptcy-prophet\\.venv\\Lib\\site-packages\\sklearn\\linear_model\\_sag.py:349: ConvergenceWarning: The max_iter was reached which means the coef_ did not converge\n",
      "  warnings.warn(\n",
      "C:\\Users\\grzeg\\PycharmProjects\\bankruptcy-prophet-new\\bankruptcy-prophet\\.venv\\Lib\\site-packages\\sklearn\\linear_model\\_sag.py:349: ConvergenceWarning: The max_iter was reached which means the coef_ did not converge\n",
      "  warnings.warn(\n",
      "C:\\Users\\grzeg\\PycharmProjects\\bankruptcy-prophet-new\\bankruptcy-prophet\\.venv\\Lib\\site-packages\\sklearn\\linear_model\\_sag.py:349: ConvergenceWarning: The max_iter was reached which means the coef_ did not converge\n",
      "  warnings.warn(\n",
      "C:\\Users\\grzeg\\PycharmProjects\\bankruptcy-prophet-new\\bankruptcy-prophet\\.venv\\Lib\\site-packages\\sklearn\\linear_model\\_sag.py:349: ConvergenceWarning: The max_iter was reached which means the coef_ did not converge\n",
      "  warnings.warn(\n",
      "C:\\Users\\grzeg\\PycharmProjects\\bankruptcy-prophet-new\\bankruptcy-prophet\\.venv\\Lib\\site-packages\\sklearn\\linear_model\\_sag.py:349: ConvergenceWarning: The max_iter was reached which means the coef_ did not converge\n",
      "  warnings.warn(\n",
      "C:\\Users\\grzeg\\PycharmProjects\\bankruptcy-prophet-new\\bankruptcy-prophet\\.venv\\Lib\\site-packages\\sklearn\\linear_model\\_sag.py:349: ConvergenceWarning: The max_iter was reached which means the coef_ did not converge\n",
      "  warnings.warn(\n",
      "C:\\Users\\grzeg\\PycharmProjects\\bankruptcy-prophet-new\\bankruptcy-prophet\\.venv\\Lib\\site-packages\\sklearn\\linear_model\\_sag.py:349: ConvergenceWarning: The max_iter was reached which means the coef_ did not converge\n",
      "  warnings.warn(\n",
      "C:\\Users\\grzeg\\PycharmProjects\\bankruptcy-prophet-new\\bankruptcy-prophet\\.venv\\Lib\\site-packages\\sklearn\\linear_model\\_sag.py:349: ConvergenceWarning: The max_iter was reached which means the coef_ did not converge\n",
      "  warnings.warn(\n",
      "C:\\Users\\grzeg\\PycharmProjects\\bankruptcy-prophet-new\\bankruptcy-prophet\\.venv\\Lib\\site-packages\\sklearn\\linear_model\\_sag.py:349: ConvergenceWarning: The max_iter was reached which means the coef_ did not converge\n",
      "  warnings.warn(\n",
      "C:\\Users\\grzeg\\PycharmProjects\\bankruptcy-prophet-new\\bankruptcy-prophet\\.venv\\Lib\\site-packages\\sklearn\\linear_model\\_sag.py:349: ConvergenceWarning: The max_iter was reached which means the coef_ did not converge\n",
      "  warnings.warn(\n",
      "C:\\Users\\grzeg\\PycharmProjects\\bankruptcy-prophet-new\\bankruptcy-prophet\\.venv\\Lib\\site-packages\\sklearn\\linear_model\\_sag.py:349: ConvergenceWarning: The max_iter was reached which means the coef_ did not converge\n",
      "  warnings.warn(\n",
      "C:\\Users\\grzeg\\PycharmProjects\\bankruptcy-prophet-new\\bankruptcy-prophet\\.venv\\Lib\\site-packages\\sklearn\\linear_model\\_sag.py:349: ConvergenceWarning: The max_iter was reached which means the coef_ did not converge\n",
      "  warnings.warn(\n",
      "C:\\Users\\grzeg\\PycharmProjects\\bankruptcy-prophet-new\\bankruptcy-prophet\\.venv\\Lib\\site-packages\\sklearn\\linear_model\\_sag.py:349: ConvergenceWarning: The max_iter was reached which means the coef_ did not converge\n",
      "  warnings.warn(\n",
      "C:\\Users\\grzeg\\PycharmProjects\\bankruptcy-prophet-new\\bankruptcy-prophet\\.venv\\Lib\\site-packages\\sklearn\\linear_model\\_sag.py:349: ConvergenceWarning: The max_iter was reached which means the coef_ did not converge\n",
      "  warnings.warn(\n",
      "C:\\Users\\grzeg\\PycharmProjects\\bankruptcy-prophet-new\\bankruptcy-prophet\\.venv\\Lib\\site-packages\\sklearn\\linear_model\\_sag.py:349: ConvergenceWarning: The max_iter was reached which means the coef_ did not converge\n",
      "  warnings.warn(\n",
      "C:\\Users\\grzeg\\PycharmProjects\\bankruptcy-prophet-new\\bankruptcy-prophet\\.venv\\Lib\\site-packages\\sklearn\\linear_model\\_sag.py:349: ConvergenceWarning: The max_iter was reached which means the coef_ did not converge\n",
      "  warnings.warn(\n",
      "C:\\Users\\grzeg\\PycharmProjects\\bankruptcy-prophet-new\\bankruptcy-prophet\\.venv\\Lib\\site-packages\\sklearn\\linear_model\\_sag.py:349: ConvergenceWarning: The max_iter was reached which means the coef_ did not converge\n",
      "  warnings.warn(\n",
      "C:\\Users\\grzeg\\PycharmProjects\\bankruptcy-prophet-new\\bankruptcy-prophet\\.venv\\Lib\\site-packages\\sklearn\\linear_model\\_sag.py:349: ConvergenceWarning: The max_iter was reached which means the coef_ did not converge\n",
      "  warnings.warn(\n",
      "C:\\Users\\grzeg\\PycharmProjects\\bankruptcy-prophet-new\\bankruptcy-prophet\\.venv\\Lib\\site-packages\\sklearn\\linear_model\\_sag.py:349: ConvergenceWarning: The max_iter was reached which means the coef_ did not converge\n",
      "  warnings.warn(\n",
      "C:\\Users\\grzeg\\PycharmProjects\\bankruptcy-prophet-new\\bankruptcy-prophet\\.venv\\Lib\\site-packages\\sklearn\\linear_model\\_sag.py:349: ConvergenceWarning: The max_iter was reached which means the coef_ did not converge\n",
      "  warnings.warn(\n",
      "C:\\Users\\grzeg\\PycharmProjects\\bankruptcy-prophet-new\\bankruptcy-prophet\\.venv\\Lib\\site-packages\\sklearn\\linear_model\\_sag.py:349: ConvergenceWarning: The max_iter was reached which means the coef_ did not converge\n",
      "  warnings.warn(\n",
      "C:\\Users\\grzeg\\PycharmProjects\\bankruptcy-prophet-new\\bankruptcy-prophet\\.venv\\Lib\\site-packages\\sklearn\\linear_model\\_sag.py:349: ConvergenceWarning: The max_iter was reached which means the coef_ did not converge\n",
      "  warnings.warn(\n",
      "C:\\Users\\grzeg\\PycharmProjects\\bankruptcy-prophet-new\\bankruptcy-prophet\\.venv\\Lib\\site-packages\\sklearn\\linear_model\\_sag.py:349: ConvergenceWarning: The max_iter was reached which means the coef_ did not converge\n",
      "  warnings.warn(\n",
      "C:\\Users\\grzeg\\PycharmProjects\\bankruptcy-prophet-new\\bankruptcy-prophet\\.venv\\Lib\\site-packages\\sklearn\\linear_model\\_sag.py:349: ConvergenceWarning: The max_iter was reached which means the coef_ did not converge\n",
      "  warnings.warn(\n",
      "C:\\Users\\grzeg\\PycharmProjects\\bankruptcy-prophet-new\\bankruptcy-prophet\\.venv\\Lib\\site-packages\\sklearn\\linear_model\\_sag.py:349: ConvergenceWarning: The max_iter was reached which means the coef_ did not converge\n",
      "  warnings.warn(\n",
      "C:\\Users\\grzeg\\PycharmProjects\\bankruptcy-prophet-new\\bankruptcy-prophet\\.venv\\Lib\\site-packages\\sklearn\\linear_model\\_sag.py:349: ConvergenceWarning: The max_iter was reached which means the coef_ did not converge\n",
      "  warnings.warn(\n",
      "C:\\Users\\grzeg\\PycharmProjects\\bankruptcy-prophet-new\\bankruptcy-prophet\\.venv\\Lib\\site-packages\\sklearn\\linear_model\\_sag.py:349: ConvergenceWarning: The max_iter was reached which means the coef_ did not converge\n",
      "  warnings.warn(\n",
      "C:\\Users\\grzeg\\PycharmProjects\\bankruptcy-prophet-new\\bankruptcy-prophet\\.venv\\Lib\\site-packages\\sklearn\\linear_model\\_sag.py:349: ConvergenceWarning: The max_iter was reached which means the coef_ did not converge\n",
      "  warnings.warn(\n",
      "C:\\Users\\grzeg\\PycharmProjects\\bankruptcy-prophet-new\\bankruptcy-prophet\\.venv\\Lib\\site-packages\\sklearn\\linear_model\\_sag.py:349: ConvergenceWarning: The max_iter was reached which means the coef_ did not converge\n",
      "  warnings.warn(\n",
      "C:\\Users\\grzeg\\PycharmProjects\\bankruptcy-prophet-new\\bankruptcy-prophet\\.venv\\Lib\\site-packages\\sklearn\\linear_model\\_sag.py:349: ConvergenceWarning: The max_iter was reached which means the coef_ did not converge\n",
      "  warnings.warn(\n",
      "C:\\Users\\grzeg\\PycharmProjects\\bankruptcy-prophet-new\\bankruptcy-prophet\\.venv\\Lib\\site-packages\\sklearn\\linear_model\\_sag.py:349: ConvergenceWarning: The max_iter was reached which means the coef_ did not converge\n",
      "  warnings.warn(\n",
      "C:\\Users\\grzeg\\PycharmProjects\\bankruptcy-prophet-new\\bankruptcy-prophet\\.venv\\Lib\\site-packages\\sklearn\\linear_model\\_sag.py:349: ConvergenceWarning: The max_iter was reached which means the coef_ did not converge\n",
      "  warnings.warn(\n",
      "C:\\Users\\grzeg\\PycharmProjects\\bankruptcy-prophet-new\\bankruptcy-prophet\\.venv\\Lib\\site-packages\\sklearn\\linear_model\\_sag.py:349: ConvergenceWarning: The max_iter was reached which means the coef_ did not converge\n",
      "  warnings.warn(\n",
      "C:\\Users\\grzeg\\PycharmProjects\\bankruptcy-prophet-new\\bankruptcy-prophet\\.venv\\Lib\\site-packages\\sklearn\\linear_model\\_sag.py:349: ConvergenceWarning: The max_iter was reached which means the coef_ did not converge\n",
      "  warnings.warn(\n",
      "C:\\Users\\grzeg\\PycharmProjects\\bankruptcy-prophet-new\\bankruptcy-prophet\\.venv\\Lib\\site-packages\\sklearn\\linear_model\\_sag.py:349: ConvergenceWarning: The max_iter was reached which means the coef_ did not converge\n",
      "  warnings.warn(\n",
      "C:\\Users\\grzeg\\PycharmProjects\\bankruptcy-prophet-new\\bankruptcy-prophet\\.venv\\Lib\\site-packages\\sklearn\\linear_model\\_sag.py:349: ConvergenceWarning: The max_iter was reached which means the coef_ did not converge\n",
      "  warnings.warn(\n",
      "C:\\Users\\grzeg\\PycharmProjects\\bankruptcy-prophet-new\\bankruptcy-prophet\\.venv\\Lib\\site-packages\\sklearn\\linear_model\\_sag.py:349: ConvergenceWarning: The max_iter was reached which means the coef_ did not converge\n",
      "  warnings.warn(\n",
      "C:\\Users\\grzeg\\PycharmProjects\\bankruptcy-prophet-new\\bankruptcy-prophet\\.venv\\Lib\\site-packages\\sklearn\\linear_model\\_sag.py:349: ConvergenceWarning: The max_iter was reached which means the coef_ did not converge\n",
      "  warnings.warn(\n",
      "C:\\Users\\grzeg\\PycharmProjects\\bankruptcy-prophet-new\\bankruptcy-prophet\\.venv\\Lib\\site-packages\\sklearn\\linear_model\\_sag.py:349: ConvergenceWarning: The max_iter was reached which means the coef_ did not converge\n",
      "  warnings.warn(\n",
      "C:\\Users\\grzeg\\PycharmProjects\\bankruptcy-prophet-new\\bankruptcy-prophet\\.venv\\Lib\\site-packages\\sklearn\\linear_model\\_sag.py:349: ConvergenceWarning: The max_iter was reached which means the coef_ did not converge\n",
      "  warnings.warn(\n",
      "C:\\Users\\grzeg\\PycharmProjects\\bankruptcy-prophet-new\\bankruptcy-prophet\\.venv\\Lib\\site-packages\\sklearn\\linear_model\\_sag.py:349: ConvergenceWarning: The max_iter was reached which means the coef_ did not converge\n",
      "  warnings.warn(\n",
      "C:\\Users\\grzeg\\PycharmProjects\\bankruptcy-prophet-new\\bankruptcy-prophet\\.venv\\Lib\\site-packages\\sklearn\\linear_model\\_sag.py:349: ConvergenceWarning: The max_iter was reached which means the coef_ did not converge\n",
      "  warnings.warn(\n",
      "C:\\Users\\grzeg\\PycharmProjects\\bankruptcy-prophet-new\\bankruptcy-prophet\\.venv\\Lib\\site-packages\\sklearn\\linear_model\\_sag.py:349: ConvergenceWarning: The max_iter was reached which means the coef_ did not converge\n",
      "  warnings.warn(\n",
      "C:\\Users\\grzeg\\PycharmProjects\\bankruptcy-prophet-new\\bankruptcy-prophet\\.venv\\Lib\\site-packages\\sklearn\\linear_model\\_sag.py:349: ConvergenceWarning: The max_iter was reached which means the coef_ did not converge\n",
      "  warnings.warn(\n",
      "C:\\Users\\grzeg\\PycharmProjects\\bankruptcy-prophet-new\\bankruptcy-prophet\\.venv\\Lib\\site-packages\\sklearn\\linear_model\\_sag.py:349: ConvergenceWarning: The max_iter was reached which means the coef_ did not converge\n",
      "  warnings.warn(\n",
      "C:\\Users\\grzeg\\PycharmProjects\\bankruptcy-prophet-new\\bankruptcy-prophet\\.venv\\Lib\\site-packages\\sklearn\\linear_model\\_sag.py:349: ConvergenceWarning: The max_iter was reached which means the coef_ did not converge\n",
      "  warnings.warn(\n",
      "C:\\Users\\grzeg\\PycharmProjects\\bankruptcy-prophet-new\\bankruptcy-prophet\\.venv\\Lib\\site-packages\\sklearn\\linear_model\\_sag.py:349: ConvergenceWarning: The max_iter was reached which means the coef_ did not converge\n",
      "  warnings.warn(\n",
      "C:\\Users\\grzeg\\PycharmProjects\\bankruptcy-prophet-new\\bankruptcy-prophet\\.venv\\Lib\\site-packages\\sklearn\\linear_model\\_sag.py:349: ConvergenceWarning: The max_iter was reached which means the coef_ did not converge\n",
      "  warnings.warn(\n",
      "C:\\Users\\grzeg\\PycharmProjects\\bankruptcy-prophet-new\\bankruptcy-prophet\\.venv\\Lib\\site-packages\\sklearn\\linear_model\\_sag.py:349: ConvergenceWarning: The max_iter was reached which means the coef_ did not converge\n",
      "  warnings.warn(\n",
      "C:\\Users\\grzeg\\PycharmProjects\\bankruptcy-prophet-new\\bankruptcy-prophet\\.venv\\Lib\\site-packages\\sklearn\\linear_model\\_sag.py:349: ConvergenceWarning: The max_iter was reached which means the coef_ did not converge\n",
      "  warnings.warn(\n",
      "C:\\Users\\grzeg\\PycharmProjects\\bankruptcy-prophet-new\\bankruptcy-prophet\\.venv\\Lib\\site-packages\\sklearn\\linear_model\\_sag.py:349: ConvergenceWarning: The max_iter was reached which means the coef_ did not converge\n",
      "  warnings.warn(\n",
      "C:\\Users\\grzeg\\PycharmProjects\\bankruptcy-prophet-new\\bankruptcy-prophet\\.venv\\Lib\\site-packages\\sklearn\\linear_model\\_sag.py:349: ConvergenceWarning: The max_iter was reached which means the coef_ did not converge\n",
      "  warnings.warn(\n",
      "C:\\Users\\grzeg\\PycharmProjects\\bankruptcy-prophet-new\\bankruptcy-prophet\\.venv\\Lib\\site-packages\\sklearn\\linear_model\\_sag.py:349: ConvergenceWarning: The max_iter was reached which means the coef_ did not converge\n",
      "  warnings.warn(\n",
      "C:\\Users\\grzeg\\PycharmProjects\\bankruptcy-prophet-new\\bankruptcy-prophet\\.venv\\Lib\\site-packages\\sklearn\\linear_model\\_sag.py:349: ConvergenceWarning: The max_iter was reached which means the coef_ did not converge\n",
      "  warnings.warn(\n",
      "C:\\Users\\grzeg\\PycharmProjects\\bankruptcy-prophet-new\\bankruptcy-prophet\\.venv\\Lib\\site-packages\\sklearn\\linear_model\\_sag.py:349: ConvergenceWarning: The max_iter was reached which means the coef_ did not converge\n",
      "  warnings.warn(\n",
      "C:\\Users\\grzeg\\PycharmProjects\\bankruptcy-prophet-new\\bankruptcy-prophet\\.venv\\Lib\\site-packages\\sklearn\\linear_model\\_sag.py:349: ConvergenceWarning: The max_iter was reached which means the coef_ did not converge\n",
      "  warnings.warn(\n",
      "C:\\Users\\grzeg\\PycharmProjects\\bankruptcy-prophet-new\\bankruptcy-prophet\\.venv\\Lib\\site-packages\\sklearn\\linear_model\\_sag.py:349: ConvergenceWarning: The max_iter was reached which means the coef_ did not converge\n",
      "  warnings.warn(\n",
      "C:\\Users\\grzeg\\PycharmProjects\\bankruptcy-prophet-new\\bankruptcy-prophet\\.venv\\Lib\\site-packages\\sklearn\\linear_model\\_sag.py:349: ConvergenceWarning: The max_iter was reached which means the coef_ did not converge\n",
      "  warnings.warn(\n",
      "C:\\Users\\grzeg\\PycharmProjects\\bankruptcy-prophet-new\\bankruptcy-prophet\\.venv\\Lib\\site-packages\\sklearn\\linear_model\\_sag.py:349: ConvergenceWarning: The max_iter was reached which means the coef_ did not converge\n",
      "  warnings.warn(\n",
      "C:\\Users\\grzeg\\PycharmProjects\\bankruptcy-prophet-new\\bankruptcy-prophet\\.venv\\Lib\\site-packages\\sklearn\\linear_model\\_sag.py:349: ConvergenceWarning: The max_iter was reached which means the coef_ did not converge\n",
      "  warnings.warn(\n",
      "C:\\Users\\grzeg\\PycharmProjects\\bankruptcy-prophet-new\\bankruptcy-prophet\\.venv\\Lib\\site-packages\\sklearn\\linear_model\\_sag.py:349: ConvergenceWarning: The max_iter was reached which means the coef_ did not converge\n",
      "  warnings.warn(\n",
      "C:\\Users\\grzeg\\PycharmProjects\\bankruptcy-prophet-new\\bankruptcy-prophet\\.venv\\Lib\\site-packages\\sklearn\\linear_model\\_sag.py:349: ConvergenceWarning: The max_iter was reached which means the coef_ did not converge\n",
      "  warnings.warn(\n",
      "C:\\Users\\grzeg\\PycharmProjects\\bankruptcy-prophet-new\\bankruptcy-prophet\\.venv\\Lib\\site-packages\\sklearn\\linear_model\\_sag.py:349: ConvergenceWarning: The max_iter was reached which means the coef_ did not converge\n",
      "  warnings.warn(\n",
      "C:\\Users\\grzeg\\PycharmProjects\\bankruptcy-prophet-new\\bankruptcy-prophet\\.venv\\Lib\\site-packages\\sklearn\\linear_model\\_sag.py:349: ConvergenceWarning: The max_iter was reached which means the coef_ did not converge\n",
      "  warnings.warn(\n",
      "C:\\Users\\grzeg\\PycharmProjects\\bankruptcy-prophet-new\\bankruptcy-prophet\\.venv\\Lib\\site-packages\\sklearn\\linear_model\\_sag.py:349: ConvergenceWarning: The max_iter was reached which means the coef_ did not converge\n",
      "  warnings.warn(\n",
      "C:\\Users\\grzeg\\PycharmProjects\\bankruptcy-prophet-new\\bankruptcy-prophet\\.venv\\Lib\\site-packages\\sklearn\\linear_model\\_sag.py:349: ConvergenceWarning: The max_iter was reached which means the coef_ did not converge\n",
      "  warnings.warn(\n",
      "C:\\Users\\grzeg\\PycharmProjects\\bankruptcy-prophet-new\\bankruptcy-prophet\\.venv\\Lib\\site-packages\\sklearn\\linear_model\\_sag.py:349: ConvergenceWarning: The max_iter was reached which means the coef_ did not converge\n",
      "  warnings.warn(\n",
      "C:\\Users\\grzeg\\PycharmProjects\\bankruptcy-prophet-new\\bankruptcy-prophet\\.venv\\Lib\\site-packages\\sklearn\\linear_model\\_sag.py:349: ConvergenceWarning: The max_iter was reached which means the coef_ did not converge\n",
      "  warnings.warn(\n",
      "C:\\Users\\grzeg\\PycharmProjects\\bankruptcy-prophet-new\\bankruptcy-prophet\\.venv\\Lib\\site-packages\\sklearn\\linear_model\\_sag.py:349: ConvergenceWarning: The max_iter was reached which means the coef_ did not converge\n",
      "  warnings.warn(\n",
      "C:\\Users\\grzeg\\PycharmProjects\\bankruptcy-prophet-new\\bankruptcy-prophet\\.venv\\Lib\\site-packages\\sklearn\\linear_model\\_sag.py:349: ConvergenceWarning: The max_iter was reached which means the coef_ did not converge\n",
      "  warnings.warn(\n",
      "C:\\Users\\grzeg\\PycharmProjects\\bankruptcy-prophet-new\\bankruptcy-prophet\\.venv\\Lib\\site-packages\\sklearn\\linear_model\\_sag.py:349: ConvergenceWarning: The max_iter was reached which means the coef_ did not converge\n",
      "  warnings.warn(\n",
      "C:\\Users\\grzeg\\PycharmProjects\\bankruptcy-prophet-new\\bankruptcy-prophet\\.venv\\Lib\\site-packages\\sklearn\\linear_model\\_sag.py:349: ConvergenceWarning: The max_iter was reached which means the coef_ did not converge\n",
      "  warnings.warn(\n",
      "C:\\Users\\grzeg\\PycharmProjects\\bankruptcy-prophet-new\\bankruptcy-prophet\\.venv\\Lib\\site-packages\\sklearn\\linear_model\\_sag.py:349: ConvergenceWarning: The max_iter was reached which means the coef_ did not converge\n",
      "  warnings.warn(\n",
      "C:\\Users\\grzeg\\PycharmProjects\\bankruptcy-prophet-new\\bankruptcy-prophet\\.venv\\Lib\\site-packages\\sklearn\\linear_model\\_sag.py:349: ConvergenceWarning: The max_iter was reached which means the coef_ did not converge\n",
      "  warnings.warn(\n",
      "C:\\Users\\grzeg\\PycharmProjects\\bankruptcy-prophet-new\\bankruptcy-prophet\\.venv\\Lib\\site-packages\\sklearn\\linear_model\\_sag.py:349: ConvergenceWarning: The max_iter was reached which means the coef_ did not converge\n",
      "  warnings.warn(\n",
      "C:\\Users\\grzeg\\PycharmProjects\\bankruptcy-prophet-new\\bankruptcy-prophet\\.venv\\Lib\\site-packages\\sklearn\\linear_model\\_sag.py:349: ConvergenceWarning: The max_iter was reached which means the coef_ did not converge\n",
      "  warnings.warn(\n",
      "C:\\Users\\grzeg\\PycharmProjects\\bankruptcy-prophet-new\\bankruptcy-prophet\\.venv\\Lib\\site-packages\\sklearn\\linear_model\\_sag.py:349: ConvergenceWarning: The max_iter was reached which means the coef_ did not converge\n",
      "  warnings.warn(\n",
      "C:\\Users\\grzeg\\PycharmProjects\\bankruptcy-prophet-new\\bankruptcy-prophet\\.venv\\Lib\\site-packages\\sklearn\\linear_model\\_sag.py:349: ConvergenceWarning: The max_iter was reached which means the coef_ did not converge\n",
      "  warnings.warn(\n",
      "C:\\Users\\grzeg\\PycharmProjects\\bankruptcy-prophet-new\\bankruptcy-prophet\\.venv\\Lib\\site-packages\\sklearn\\linear_model\\_sag.py:349: ConvergenceWarning: The max_iter was reached which means the coef_ did not converge\n",
      "  warnings.warn(\n",
      "C:\\Users\\grzeg\\PycharmProjects\\bankruptcy-prophet-new\\bankruptcy-prophet\\.venv\\Lib\\site-packages\\sklearn\\linear_model\\_sag.py:349: ConvergenceWarning: The max_iter was reached which means the coef_ did not converge\n",
      "  warnings.warn(\n",
      "C:\\Users\\grzeg\\PycharmProjects\\bankruptcy-prophet-new\\bankruptcy-prophet\\.venv\\Lib\\site-packages\\sklearn\\linear_model\\_sag.py:349: ConvergenceWarning: The max_iter was reached which means the coef_ did not converge\n",
      "  warnings.warn(\n",
      "C:\\Users\\grzeg\\PycharmProjects\\bankruptcy-prophet-new\\bankruptcy-prophet\\.venv\\Lib\\site-packages\\sklearn\\linear_model\\_sag.py:349: ConvergenceWarning: The max_iter was reached which means the coef_ did not converge\n",
      "  warnings.warn(\n",
      "C:\\Users\\grzeg\\PycharmProjects\\bankruptcy-prophet-new\\bankruptcy-prophet\\.venv\\Lib\\site-packages\\sklearn\\linear_model\\_sag.py:349: ConvergenceWarning: The max_iter was reached which means the coef_ did not converge\n",
      "  warnings.warn(\n",
      "C:\\Users\\grzeg\\PycharmProjects\\bankruptcy-prophet-new\\bankruptcy-prophet\\.venv\\Lib\\site-packages\\sklearn\\linear_model\\_sag.py:349: ConvergenceWarning: The max_iter was reached which means the coef_ did not converge\n",
      "  warnings.warn(\n",
      "C:\\Users\\grzeg\\PycharmProjects\\bankruptcy-prophet-new\\bankruptcy-prophet\\.venv\\Lib\\site-packages\\sklearn\\linear_model\\_sag.py:349: ConvergenceWarning: The max_iter was reached which means the coef_ did not converge\n",
      "  warnings.warn(\n",
      "C:\\Users\\grzeg\\PycharmProjects\\bankruptcy-prophet-new\\bankruptcy-prophet\\.venv\\Lib\\site-packages\\sklearn\\linear_model\\_sag.py:349: ConvergenceWarning: The max_iter was reached which means the coef_ did not converge\n",
      "  warnings.warn(\n",
      "C:\\Users\\grzeg\\PycharmProjects\\bankruptcy-prophet-new\\bankruptcy-prophet\\.venv\\Lib\\site-packages\\sklearn\\linear_model\\_sag.py:349: ConvergenceWarning: The max_iter was reached which means the coef_ did not converge\n",
      "  warnings.warn(\n",
      "C:\\Users\\grzeg\\PycharmProjects\\bankruptcy-prophet-new\\bankruptcy-prophet\\.venv\\Lib\\site-packages\\sklearn\\linear_model\\_sag.py:349: ConvergenceWarning: The max_iter was reached which means the coef_ did not converge\n",
      "  warnings.warn(\n",
      "C:\\Users\\grzeg\\PycharmProjects\\bankruptcy-prophet-new\\bankruptcy-prophet\\.venv\\Lib\\site-packages\\sklearn\\linear_model\\_sag.py:349: ConvergenceWarning: The max_iter was reached which means the coef_ did not converge\n",
      "  warnings.warn(\n",
      "C:\\Users\\grzeg\\PycharmProjects\\bankruptcy-prophet-new\\bankruptcy-prophet\\.venv\\Lib\\site-packages\\sklearn\\linear_model\\_sag.py:349: ConvergenceWarning: The max_iter was reached which means the coef_ did not converge\n",
      "  warnings.warn(\n",
      "C:\\Users\\grzeg\\PycharmProjects\\bankruptcy-prophet-new\\bankruptcy-prophet\\.venv\\Lib\\site-packages\\sklearn\\linear_model\\_sag.py:349: ConvergenceWarning: The max_iter was reached which means the coef_ did not converge\n",
      "  warnings.warn(\n",
      "C:\\Users\\grzeg\\PycharmProjects\\bankruptcy-prophet-new\\bankruptcy-prophet\\.venv\\Lib\\site-packages\\sklearn\\linear_model\\_sag.py:349: ConvergenceWarning: The max_iter was reached which means the coef_ did not converge\n",
      "  warnings.warn(\n",
      "C:\\Users\\grzeg\\PycharmProjects\\bankruptcy-prophet-new\\bankruptcy-prophet\\.venv\\Lib\\site-packages\\sklearn\\linear_model\\_sag.py:349: ConvergenceWarning: The max_iter was reached which means the coef_ did not converge\n",
      "  warnings.warn(\n",
      "C:\\Users\\grzeg\\PycharmProjects\\bankruptcy-prophet-new\\bankruptcy-prophet\\.venv\\Lib\\site-packages\\sklearn\\linear_model\\_sag.py:349: ConvergenceWarning: The max_iter was reached which means the coef_ did not converge\n",
      "  warnings.warn(\n",
      "C:\\Users\\grzeg\\PycharmProjects\\bankruptcy-prophet-new\\bankruptcy-prophet\\.venv\\Lib\\site-packages\\sklearn\\linear_model\\_sag.py:349: ConvergenceWarning: The max_iter was reached which means the coef_ did not converge\n",
      "  warnings.warn(\n",
      "C:\\Users\\grzeg\\PycharmProjects\\bankruptcy-prophet-new\\bankruptcy-prophet\\.venv\\Lib\\site-packages\\sklearn\\linear_model\\_sag.py:349: ConvergenceWarning: The max_iter was reached which means the coef_ did not converge\n",
      "  warnings.warn(\n",
      "C:\\Users\\grzeg\\PycharmProjects\\bankruptcy-prophet-new\\bankruptcy-prophet\\.venv\\Lib\\site-packages\\sklearn\\linear_model\\_sag.py:349: ConvergenceWarning: The max_iter was reached which means the coef_ did not converge\n",
      "  warnings.warn(\n",
      "C:\\Users\\grzeg\\PycharmProjects\\bankruptcy-prophet-new\\bankruptcy-prophet\\.venv\\Lib\\site-packages\\sklearn\\linear_model\\_sag.py:349: ConvergenceWarning: The max_iter was reached which means the coef_ did not converge\n",
      "  warnings.warn(\n",
      "C:\\Users\\grzeg\\PycharmProjects\\bankruptcy-prophet-new\\bankruptcy-prophet\\.venv\\Lib\\site-packages\\sklearn\\linear_model\\_sag.py:349: ConvergenceWarning: The max_iter was reached which means the coef_ did not converge\n",
      "  warnings.warn(\n",
      "C:\\Users\\grzeg\\PycharmProjects\\bankruptcy-prophet-new\\bankruptcy-prophet\\.venv\\Lib\\site-packages\\sklearn\\linear_model\\_sag.py:349: ConvergenceWarning: The max_iter was reached which means the coef_ did not converge\n",
      "  warnings.warn(\n",
      "C:\\Users\\grzeg\\PycharmProjects\\bankruptcy-prophet-new\\bankruptcy-prophet\\.venv\\Lib\\site-packages\\sklearn\\linear_model\\_sag.py:349: ConvergenceWarning: The max_iter was reached which means the coef_ did not converge\n",
      "  warnings.warn(\n",
      "C:\\Users\\grzeg\\PycharmProjects\\bankruptcy-prophet-new\\bankruptcy-prophet\\.venv\\Lib\\site-packages\\sklearn\\linear_model\\_sag.py:349: ConvergenceWarning: The max_iter was reached which means the coef_ did not converge\n",
      "  warnings.warn(\n",
      "C:\\Users\\grzeg\\PycharmProjects\\bankruptcy-prophet-new\\bankruptcy-prophet\\.venv\\Lib\\site-packages\\sklearn\\linear_model\\_sag.py:349: ConvergenceWarning: The max_iter was reached which means the coef_ did not converge\n",
      "  warnings.warn(\n",
      "C:\\Users\\grzeg\\PycharmProjects\\bankruptcy-prophet-new\\bankruptcy-prophet\\.venv\\Lib\\site-packages\\sklearn\\linear_model\\_sag.py:349: ConvergenceWarning: The max_iter was reached which means the coef_ did not converge\n",
      "  warnings.warn(\n",
      "C:\\Users\\grzeg\\PycharmProjects\\bankruptcy-prophet-new\\bankruptcy-prophet\\.venv\\Lib\\site-packages\\sklearn\\linear_model\\_sag.py:349: ConvergenceWarning: The max_iter was reached which means the coef_ did not converge\n",
      "  warnings.warn(\n",
      "C:\\Users\\grzeg\\PycharmProjects\\bankruptcy-prophet-new\\bankruptcy-prophet\\.venv\\Lib\\site-packages\\sklearn\\linear_model\\_sag.py:349: ConvergenceWarning: The max_iter was reached which means the coef_ did not converge\n",
      "  warnings.warn(\n",
      "C:\\Users\\grzeg\\PycharmProjects\\bankruptcy-prophet-new\\bankruptcy-prophet\\.venv\\Lib\\site-packages\\sklearn\\linear_model\\_sag.py:349: ConvergenceWarning: The max_iter was reached which means the coef_ did not converge\n",
      "  warnings.warn(\n",
      "C:\\Users\\grzeg\\PycharmProjects\\bankruptcy-prophet-new\\bankruptcy-prophet\\.venv\\Lib\\site-packages\\sklearn\\linear_model\\_sag.py:349: ConvergenceWarning: The max_iter was reached which means the coef_ did not converge\n",
      "  warnings.warn(\n",
      "C:\\Users\\grzeg\\PycharmProjects\\bankruptcy-prophet-new\\bankruptcy-prophet\\.venv\\Lib\\site-packages\\sklearn\\linear_model\\_sag.py:349: ConvergenceWarning: The max_iter was reached which means the coef_ did not converge\n",
      "  warnings.warn(\n",
      "C:\\Users\\grzeg\\PycharmProjects\\bankruptcy-prophet-new\\bankruptcy-prophet\\.venv\\Lib\\site-packages\\sklearn\\linear_model\\_sag.py:349: ConvergenceWarning: The max_iter was reached which means the coef_ did not converge\n",
      "  warnings.warn(\n",
      "C:\\Users\\grzeg\\PycharmProjects\\bankruptcy-prophet-new\\bankruptcy-prophet\\.venv\\Lib\\site-packages\\sklearn\\linear_model\\_sag.py:349: ConvergenceWarning: The max_iter was reached which means the coef_ did not converge\n",
      "  warnings.warn(\n",
      "C:\\Users\\grzeg\\PycharmProjects\\bankruptcy-prophet-new\\bankruptcy-prophet\\.venv\\Lib\\site-packages\\sklearn\\linear_model\\_sag.py:349: ConvergenceWarning: The max_iter was reached which means the coef_ did not converge\n",
      "  warnings.warn(\n",
      "C:\\Users\\grzeg\\PycharmProjects\\bankruptcy-prophet-new\\bankruptcy-prophet\\.venv\\Lib\\site-packages\\sklearn\\linear_model\\_sag.py:349: ConvergenceWarning: The max_iter was reached which means the coef_ did not converge\n",
      "  warnings.warn(\n",
      "C:\\Users\\grzeg\\PycharmProjects\\bankruptcy-prophet-new\\bankruptcy-prophet\\.venv\\Lib\\site-packages\\sklearn\\linear_model\\_sag.py:349: ConvergenceWarning: The max_iter was reached which means the coef_ did not converge\n",
      "  warnings.warn(\n",
      "C:\\Users\\grzeg\\PycharmProjects\\bankruptcy-prophet-new\\bankruptcy-prophet\\.venv\\Lib\\site-packages\\sklearn\\linear_model\\_sag.py:349: ConvergenceWarning: The max_iter was reached which means the coef_ did not converge\n",
      "  warnings.warn(\n",
      "C:\\Users\\grzeg\\PycharmProjects\\bankruptcy-prophet-new\\bankruptcy-prophet\\.venv\\Lib\\site-packages\\sklearn\\linear_model\\_sag.py:349: ConvergenceWarning: The max_iter was reached which means the coef_ did not converge\n",
      "  warnings.warn(\n",
      "C:\\Users\\grzeg\\PycharmProjects\\bankruptcy-prophet-new\\bankruptcy-prophet\\.venv\\Lib\\site-packages\\sklearn\\linear_model\\_sag.py:349: ConvergenceWarning: The max_iter was reached which means the coef_ did not converge\n",
      "  warnings.warn(\n",
      "C:\\Users\\grzeg\\PycharmProjects\\bankruptcy-prophet-new\\bankruptcy-prophet\\.venv\\Lib\\site-packages\\sklearn\\linear_model\\_sag.py:349: ConvergenceWarning: The max_iter was reached which means the coef_ did not converge\n",
      "  warnings.warn(\n",
      "C:\\Users\\grzeg\\PycharmProjects\\bankruptcy-prophet-new\\bankruptcy-prophet\\.venv\\Lib\\site-packages\\sklearn\\linear_model\\_sag.py:349: ConvergenceWarning: The max_iter was reached which means the coef_ did not converge\n",
      "  warnings.warn(\n",
      "C:\\Users\\grzeg\\PycharmProjects\\bankruptcy-prophet-new\\bankruptcy-prophet\\.venv\\Lib\\site-packages\\sklearn\\linear_model\\_sag.py:349: ConvergenceWarning: The max_iter was reached which means the coef_ did not converge\n",
      "  warnings.warn(\n",
      "C:\\Users\\grzeg\\PycharmProjects\\bankruptcy-prophet-new\\bankruptcy-prophet\\.venv\\Lib\\site-packages\\sklearn\\linear_model\\_sag.py:349: ConvergenceWarning: The max_iter was reached which means the coef_ did not converge\n",
      "  warnings.warn(\n",
      "C:\\Users\\grzeg\\PycharmProjects\\bankruptcy-prophet-new\\bankruptcy-prophet\\.venv\\Lib\\site-packages\\sklearn\\linear_model\\_sag.py:349: ConvergenceWarning: The max_iter was reached which means the coef_ did not converge\n",
      "  warnings.warn(\n",
      "C:\\Users\\grzeg\\PycharmProjects\\bankruptcy-prophet-new\\bankruptcy-prophet\\.venv\\Lib\\site-packages\\sklearn\\linear_model\\_sag.py:349: ConvergenceWarning: The max_iter was reached which means the coef_ did not converge\n",
      "  warnings.warn(\n",
      "C:\\Users\\grzeg\\PycharmProjects\\bankruptcy-prophet-new\\bankruptcy-prophet\\.venv\\Lib\\site-packages\\sklearn\\linear_model\\_sag.py:349: ConvergenceWarning: The max_iter was reached which means the coef_ did not converge\n",
      "  warnings.warn(\n",
      "C:\\Users\\grzeg\\PycharmProjects\\bankruptcy-prophet-new\\bankruptcy-prophet\\.venv\\Lib\\site-packages\\sklearn\\linear_model\\_sag.py:349: ConvergenceWarning: The max_iter was reached which means the coef_ did not converge\n",
      "  warnings.warn(\n",
      "C:\\Users\\grzeg\\PycharmProjects\\bankruptcy-prophet-new\\bankruptcy-prophet\\.venv\\Lib\\site-packages\\sklearn\\linear_model\\_sag.py:349: ConvergenceWarning: The max_iter was reached which means the coef_ did not converge\n",
      "  warnings.warn(\n",
      "C:\\Users\\grzeg\\PycharmProjects\\bankruptcy-prophet-new\\bankruptcy-prophet\\.venv\\Lib\\site-packages\\sklearn\\linear_model\\_sag.py:349: ConvergenceWarning: The max_iter was reached which means the coef_ did not converge\n",
      "  warnings.warn(\n",
      "C:\\Users\\grzeg\\PycharmProjects\\bankruptcy-prophet-new\\bankruptcy-prophet\\.venv\\Lib\\site-packages\\sklearn\\linear_model\\_sag.py:349: ConvergenceWarning: The max_iter was reached which means the coef_ did not converge\n",
      "  warnings.warn(\n",
      "C:\\Users\\grzeg\\PycharmProjects\\bankruptcy-prophet-new\\bankruptcy-prophet\\.venv\\Lib\\site-packages\\sklearn\\linear_model\\_sag.py:349: ConvergenceWarning: The max_iter was reached which means the coef_ did not converge\n",
      "  warnings.warn(\n",
      "C:\\Users\\grzeg\\PycharmProjects\\bankruptcy-prophet-new\\bankruptcy-prophet\\.venv\\Lib\\site-packages\\sklearn\\linear_model\\_sag.py:349: ConvergenceWarning: The max_iter was reached which means the coef_ did not converge\n",
      "  warnings.warn(\n",
      "C:\\Users\\grzeg\\PycharmProjects\\bankruptcy-prophet-new\\bankruptcy-prophet\\.venv\\Lib\\site-packages\\sklearn\\linear_model\\_sag.py:349: ConvergenceWarning: The max_iter was reached which means the coef_ did not converge\n",
      "  warnings.warn(\n",
      "C:\\Users\\grzeg\\PycharmProjects\\bankruptcy-prophet-new\\bankruptcy-prophet\\.venv\\Lib\\site-packages\\sklearn\\linear_model\\_sag.py:349: ConvergenceWarning: The max_iter was reached which means the coef_ did not converge\n",
      "  warnings.warn(\n",
      "C:\\Users\\grzeg\\PycharmProjects\\bankruptcy-prophet-new\\bankruptcy-prophet\\.venv\\Lib\\site-packages\\sklearn\\linear_model\\_sag.py:349: ConvergenceWarning: The max_iter was reached which means the coef_ did not converge\n",
      "  warnings.warn(\n",
      "C:\\Users\\grzeg\\PycharmProjects\\bankruptcy-prophet-new\\bankruptcy-prophet\\.venv\\Lib\\site-packages\\sklearn\\linear_model\\_sag.py:349: ConvergenceWarning: The max_iter was reached which means the coef_ did not converge\n",
      "  warnings.warn(\n",
      "C:\\Users\\grzeg\\PycharmProjects\\bankruptcy-prophet-new\\bankruptcy-prophet\\.venv\\Lib\\site-packages\\sklearn\\linear_model\\_sag.py:349: ConvergenceWarning: The max_iter was reached which means the coef_ did not converge\n",
      "  warnings.warn(\n",
      "C:\\Users\\grzeg\\PycharmProjects\\bankruptcy-prophet-new\\bankruptcy-prophet\\.venv\\Lib\\site-packages\\sklearn\\linear_model\\_sag.py:349: ConvergenceWarning: The max_iter was reached which means the coef_ did not converge\n",
      "  warnings.warn(\n",
      "C:\\Users\\grzeg\\PycharmProjects\\bankruptcy-prophet-new\\bankruptcy-prophet\\.venv\\Lib\\site-packages\\sklearn\\linear_model\\_sag.py:349: ConvergenceWarning: The max_iter was reached which means the coef_ did not converge\n",
      "  warnings.warn(\n",
      "C:\\Users\\grzeg\\PycharmProjects\\bankruptcy-prophet-new\\bankruptcy-prophet\\.venv\\Lib\\site-packages\\sklearn\\linear_model\\_sag.py:349: ConvergenceWarning: The max_iter was reached which means the coef_ did not converge\n",
      "  warnings.warn(\n",
      "C:\\Users\\grzeg\\PycharmProjects\\bankruptcy-prophet-new\\bankruptcy-prophet\\.venv\\Lib\\site-packages\\sklearn\\linear_model\\_sag.py:349: ConvergenceWarning: The max_iter was reached which means the coef_ did not converge\n",
      "  warnings.warn(\n",
      "C:\\Users\\grzeg\\PycharmProjects\\bankruptcy-prophet-new\\bankruptcy-prophet\\.venv\\Lib\\site-packages\\sklearn\\linear_model\\_sag.py:349: ConvergenceWarning: The max_iter was reached which means the coef_ did not converge\n",
      "  warnings.warn(\n",
      "C:\\Users\\grzeg\\PycharmProjects\\bankruptcy-prophet-new\\bankruptcy-prophet\\.venv\\Lib\\site-packages\\sklearn\\linear_model\\_sag.py:349: ConvergenceWarning: The max_iter was reached which means the coef_ did not converge\n",
      "  warnings.warn(\n",
      "C:\\Users\\grzeg\\PycharmProjects\\bankruptcy-prophet-new\\bankruptcy-prophet\\.venv\\Lib\\site-packages\\sklearn\\linear_model\\_sag.py:349: ConvergenceWarning: The max_iter was reached which means the coef_ did not converge\n",
      "  warnings.warn(\n",
      "C:\\Users\\grzeg\\PycharmProjects\\bankruptcy-prophet-new\\bankruptcy-prophet\\.venv\\Lib\\site-packages\\sklearn\\linear_model\\_sag.py:349: ConvergenceWarning: The max_iter was reached which means the coef_ did not converge\n",
      "  warnings.warn(\n",
      "C:\\Users\\grzeg\\PycharmProjects\\bankruptcy-prophet-new\\bankruptcy-prophet\\.venv\\Lib\\site-packages\\sklearn\\linear_model\\_sag.py:349: ConvergenceWarning: The max_iter was reached which means the coef_ did not converge\n",
      "  warnings.warn(\n",
      "C:\\Users\\grzeg\\PycharmProjects\\bankruptcy-prophet-new\\bankruptcy-prophet\\.venv\\Lib\\site-packages\\sklearn\\linear_model\\_sag.py:349: ConvergenceWarning: The max_iter was reached which means the coef_ did not converge\n",
      "  warnings.warn(\n",
      "C:\\Users\\grzeg\\PycharmProjects\\bankruptcy-prophet-new\\bankruptcy-prophet\\.venv\\Lib\\site-packages\\sklearn\\linear_model\\_sag.py:349: ConvergenceWarning: The max_iter was reached which means the coef_ did not converge\n",
      "  warnings.warn(\n",
      "C:\\Users\\grzeg\\PycharmProjects\\bankruptcy-prophet-new\\bankruptcy-prophet\\.venv\\Lib\\site-packages\\sklearn\\linear_model\\_sag.py:349: ConvergenceWarning: The max_iter was reached which means the coef_ did not converge\n",
      "  warnings.warn(\n",
      "C:\\Users\\grzeg\\PycharmProjects\\bankruptcy-prophet-new\\bankruptcy-prophet\\.venv\\Lib\\site-packages\\sklearn\\linear_model\\_sag.py:349: ConvergenceWarning: The max_iter was reached which means the coef_ did not converge\n",
      "  warnings.warn(\n",
      "C:\\Users\\grzeg\\PycharmProjects\\bankruptcy-prophet-new\\bankruptcy-prophet\\.venv\\Lib\\site-packages\\sklearn\\linear_model\\_sag.py:349: ConvergenceWarning: The max_iter was reached which means the coef_ did not converge\n",
      "  warnings.warn(\n",
      "C:\\Users\\grzeg\\PycharmProjects\\bankruptcy-prophet-new\\bankruptcy-prophet\\.venv\\Lib\\site-packages\\sklearn\\linear_model\\_sag.py:349: ConvergenceWarning: The max_iter was reached which means the coef_ did not converge\n",
      "  warnings.warn(\n",
      "C:\\Users\\grzeg\\PycharmProjects\\bankruptcy-prophet-new\\bankruptcy-prophet\\.venv\\Lib\\site-packages\\sklearn\\linear_model\\_sag.py:349: ConvergenceWarning: The max_iter was reached which means the coef_ did not converge\n",
      "  warnings.warn(\n",
      "C:\\Users\\grzeg\\PycharmProjects\\bankruptcy-prophet-new\\bankruptcy-prophet\\.venv\\Lib\\site-packages\\sklearn\\linear_model\\_sag.py:349: ConvergenceWarning: The max_iter was reached which means the coef_ did not converge\n",
      "  warnings.warn(\n",
      "C:\\Users\\grzeg\\PycharmProjects\\bankruptcy-prophet-new\\bankruptcy-prophet\\.venv\\Lib\\site-packages\\sklearn\\linear_model\\_sag.py:349: ConvergenceWarning: The max_iter was reached which means the coef_ did not converge\n",
      "  warnings.warn(\n",
      "C:\\Users\\grzeg\\PycharmProjects\\bankruptcy-prophet-new\\bankruptcy-prophet\\.venv\\Lib\\site-packages\\sklearn\\linear_model\\_sag.py:349: ConvergenceWarning: The max_iter was reached which means the coef_ did not converge\n",
      "  warnings.warn(\n",
      "C:\\Users\\grzeg\\PycharmProjects\\bankruptcy-prophet-new\\bankruptcy-prophet\\.venv\\Lib\\site-packages\\sklearn\\linear_model\\_sag.py:349: ConvergenceWarning: The max_iter was reached which means the coef_ did not converge\n",
      "  warnings.warn(\n",
      "C:\\Users\\grzeg\\PycharmProjects\\bankruptcy-prophet-new\\bankruptcy-prophet\\.venv\\Lib\\site-packages\\sklearn\\linear_model\\_sag.py:349: ConvergenceWarning: The max_iter was reached which means the coef_ did not converge\n",
      "  warnings.warn(\n",
      "C:\\Users\\grzeg\\PycharmProjects\\bankruptcy-prophet-new\\bankruptcy-prophet\\.venv\\Lib\\site-packages\\sklearn\\linear_model\\_sag.py:349: ConvergenceWarning: The max_iter was reached which means the coef_ did not converge\n",
      "  warnings.warn(\n",
      "C:\\Users\\grzeg\\PycharmProjects\\bankruptcy-prophet-new\\bankruptcy-prophet\\.venv\\Lib\\site-packages\\sklearn\\linear_model\\_sag.py:349: ConvergenceWarning: The max_iter was reached which means the coef_ did not converge\n",
      "  warnings.warn(\n",
      "C:\\Users\\grzeg\\PycharmProjects\\bankruptcy-prophet-new\\bankruptcy-prophet\\.venv\\Lib\\site-packages\\sklearn\\linear_model\\_sag.py:349: ConvergenceWarning: The max_iter was reached which means the coef_ did not converge\n",
      "  warnings.warn(\n",
      "C:\\Users\\grzeg\\PycharmProjects\\bankruptcy-prophet-new\\bankruptcy-prophet\\.venv\\Lib\\site-packages\\sklearn\\linear_model\\_sag.py:349: ConvergenceWarning: The max_iter was reached which means the coef_ did not converge\n",
      "  warnings.warn(\n",
      "C:\\Users\\grzeg\\PycharmProjects\\bankruptcy-prophet-new\\bankruptcy-prophet\\.venv\\Lib\\site-packages\\sklearn\\linear_model\\_sag.py:349: ConvergenceWarning: The max_iter was reached which means the coef_ did not converge\n",
      "  warnings.warn(\n",
      "C:\\Users\\grzeg\\PycharmProjects\\bankruptcy-prophet-new\\bankruptcy-prophet\\.venv\\Lib\\site-packages\\sklearn\\linear_model\\_sag.py:349: ConvergenceWarning: The max_iter was reached which means the coef_ did not converge\n",
      "  warnings.warn(\n",
      "C:\\Users\\grzeg\\PycharmProjects\\bankruptcy-prophet-new\\bankruptcy-prophet\\.venv\\Lib\\site-packages\\sklearn\\linear_model\\_sag.py:349: ConvergenceWarning: The max_iter was reached which means the coef_ did not converge\n",
      "  warnings.warn(\n",
      "C:\\Users\\grzeg\\PycharmProjects\\bankruptcy-prophet-new\\bankruptcy-prophet\\.venv\\Lib\\site-packages\\sklearn\\linear_model\\_sag.py:349: ConvergenceWarning: The max_iter was reached which means the coef_ did not converge\n",
      "  warnings.warn(\n",
      "C:\\Users\\grzeg\\PycharmProjects\\bankruptcy-prophet-new\\bankruptcy-prophet\\.venv\\Lib\\site-packages\\sklearn\\linear_model\\_sag.py:349: ConvergenceWarning: The max_iter was reached which means the coef_ did not converge\n",
      "  warnings.warn(\n",
      "C:\\Users\\grzeg\\PycharmProjects\\bankruptcy-prophet-new\\bankruptcy-prophet\\.venv\\Lib\\site-packages\\sklearn\\linear_model\\_sag.py:349: ConvergenceWarning: The max_iter was reached which means the coef_ did not converge\n",
      "  warnings.warn(\n",
      "C:\\Users\\grzeg\\PycharmProjects\\bankruptcy-prophet-new\\bankruptcy-prophet\\.venv\\Lib\\site-packages\\sklearn\\linear_model\\_sag.py:349: ConvergenceWarning: The max_iter was reached which means the coef_ did not converge\n",
      "  warnings.warn(\n",
      "C:\\Users\\grzeg\\PycharmProjects\\bankruptcy-prophet-new\\bankruptcy-prophet\\.venv\\Lib\\site-packages\\sklearn\\linear_model\\_sag.py:349: ConvergenceWarning: The max_iter was reached which means the coef_ did not converge\n",
      "  warnings.warn(\n",
      "C:\\Users\\grzeg\\PycharmProjects\\bankruptcy-prophet-new\\bankruptcy-prophet\\.venv\\Lib\\site-packages\\sklearn\\linear_model\\_sag.py:349: ConvergenceWarning: The max_iter was reached which means the coef_ did not converge\n",
      "  warnings.warn(\n",
      "C:\\Users\\grzeg\\PycharmProjects\\bankruptcy-prophet-new\\bankruptcy-prophet\\.venv\\Lib\\site-packages\\sklearn\\linear_model\\_sag.py:349: ConvergenceWarning: The max_iter was reached which means the coef_ did not converge\n",
      "  warnings.warn(\n",
      "C:\\Users\\grzeg\\PycharmProjects\\bankruptcy-prophet-new\\bankruptcy-prophet\\.venv\\Lib\\site-packages\\sklearn\\linear_model\\_sag.py:349: ConvergenceWarning: The max_iter was reached which means the coef_ did not converge\n",
      "  warnings.warn(\n",
      "C:\\Users\\grzeg\\PycharmProjects\\bankruptcy-prophet-new\\bankruptcy-prophet\\.venv\\Lib\\site-packages\\sklearn\\linear_model\\_sag.py:349: ConvergenceWarning: The max_iter was reached which means the coef_ did not converge\n",
      "  warnings.warn(\n",
      "C:\\Users\\grzeg\\PycharmProjects\\bankruptcy-prophet-new\\bankruptcy-prophet\\.venv\\Lib\\site-packages\\sklearn\\linear_model\\_sag.py:349: ConvergenceWarning: The max_iter was reached which means the coef_ did not converge\n",
      "  warnings.warn(\n",
      "C:\\Users\\grzeg\\PycharmProjects\\bankruptcy-prophet-new\\bankruptcy-prophet\\.venv\\Lib\\site-packages\\sklearn\\linear_model\\_sag.py:349: ConvergenceWarning: The max_iter was reached which means the coef_ did not converge\n",
      "  warnings.warn(\n",
      "C:\\Users\\grzeg\\PycharmProjects\\bankruptcy-prophet-new\\bankruptcy-prophet\\.venv\\Lib\\site-packages\\sklearn\\linear_model\\_sag.py:349: ConvergenceWarning: The max_iter was reached which means the coef_ did not converge\n",
      "  warnings.warn(\n",
      "C:\\Users\\grzeg\\PycharmProjects\\bankruptcy-prophet-new\\bankruptcy-prophet\\.venv\\Lib\\site-packages\\sklearn\\linear_model\\_sag.py:349: ConvergenceWarning: The max_iter was reached which means the coef_ did not converge\n",
      "  warnings.warn(\n",
      "C:\\Users\\grzeg\\PycharmProjects\\bankruptcy-prophet-new\\bankruptcy-prophet\\.venv\\Lib\\site-packages\\sklearn\\linear_model\\_sag.py:349: ConvergenceWarning: The max_iter was reached which means the coef_ did not converge\n",
      "  warnings.warn(\n",
      "C:\\Users\\grzeg\\PycharmProjects\\bankruptcy-prophet-new\\bankruptcy-prophet\\.venv\\Lib\\site-packages\\sklearn\\linear_model\\_sag.py:349: ConvergenceWarning: The max_iter was reached which means the coef_ did not converge\n",
      "  warnings.warn(\n",
      "C:\\Users\\grzeg\\PycharmProjects\\bankruptcy-prophet-new\\bankruptcy-prophet\\.venv\\Lib\\site-packages\\sklearn\\linear_model\\_sag.py:349: ConvergenceWarning: The max_iter was reached which means the coef_ did not converge\n",
      "  warnings.warn(\n",
      "C:\\Users\\grzeg\\PycharmProjects\\bankruptcy-prophet-new\\bankruptcy-prophet\\.venv\\Lib\\site-packages\\sklearn\\linear_model\\_sag.py:349: ConvergenceWarning: The max_iter was reached which means the coef_ did not converge\n",
      "  warnings.warn(\n",
      "C:\\Users\\grzeg\\PycharmProjects\\bankruptcy-prophet-new\\bankruptcy-prophet\\.venv\\Lib\\site-packages\\sklearn\\linear_model\\_sag.py:349: ConvergenceWarning: The max_iter was reached which means the coef_ did not converge\n",
      "  warnings.warn(\n",
      "C:\\Users\\grzeg\\PycharmProjects\\bankruptcy-prophet-new\\bankruptcy-prophet\\.venv\\Lib\\site-packages\\sklearn\\linear_model\\_sag.py:349: ConvergenceWarning: The max_iter was reached which means the coef_ did not converge\n",
      "  warnings.warn(\n",
      "C:\\Users\\grzeg\\PycharmProjects\\bankruptcy-prophet-new\\bankruptcy-prophet\\.venv\\Lib\\site-packages\\sklearn\\linear_model\\_sag.py:349: ConvergenceWarning: The max_iter was reached which means the coef_ did not converge\n",
      "  warnings.warn(\n",
      "C:\\Users\\grzeg\\PycharmProjects\\bankruptcy-prophet-new\\bankruptcy-prophet\\.venv\\Lib\\site-packages\\sklearn\\linear_model\\_sag.py:349: ConvergenceWarning: The max_iter was reached which means the coef_ did not converge\n",
      "  warnings.warn(\n",
      "C:\\Users\\grzeg\\PycharmProjects\\bankruptcy-prophet-new\\bankruptcy-prophet\\.venv\\Lib\\site-packages\\sklearn\\linear_model\\_sag.py:349: ConvergenceWarning: The max_iter was reached which means the coef_ did not converge\n",
      "  warnings.warn(\n",
      "C:\\Users\\grzeg\\PycharmProjects\\bankruptcy-prophet-new\\bankruptcy-prophet\\.venv\\Lib\\site-packages\\sklearn\\linear_model\\_sag.py:349: ConvergenceWarning: The max_iter was reached which means the coef_ did not converge\n",
      "  warnings.warn(\n",
      "C:\\Users\\grzeg\\PycharmProjects\\bankruptcy-prophet-new\\bankruptcy-prophet\\.venv\\Lib\\site-packages\\sklearn\\linear_model\\_sag.py:349: ConvergenceWarning: The max_iter was reached which means the coef_ did not converge\n",
      "  warnings.warn(\n",
      "C:\\Users\\grzeg\\PycharmProjects\\bankruptcy-prophet-new\\bankruptcy-prophet\\.venv\\Lib\\site-packages\\sklearn\\linear_model\\_sag.py:349: ConvergenceWarning: The max_iter was reached which means the coef_ did not converge\n",
      "  warnings.warn(\n",
      "C:\\Users\\grzeg\\PycharmProjects\\bankruptcy-prophet-new\\bankruptcy-prophet\\.venv\\Lib\\site-packages\\sklearn\\linear_model\\_sag.py:349: ConvergenceWarning: The max_iter was reached which means the coef_ did not converge\n",
      "  warnings.warn(\n",
      "C:\\Users\\grzeg\\PycharmProjects\\bankruptcy-prophet-new\\bankruptcy-prophet\\.venv\\Lib\\site-packages\\sklearn\\linear_model\\_sag.py:349: ConvergenceWarning: The max_iter was reached which means the coef_ did not converge\n",
      "  warnings.warn(\n",
      "C:\\Users\\grzeg\\PycharmProjects\\bankruptcy-prophet-new\\bankruptcy-prophet\\.venv\\Lib\\site-packages\\sklearn\\linear_model\\_sag.py:349: ConvergenceWarning: The max_iter was reached which means the coef_ did not converge\n",
      "  warnings.warn(\n",
      "C:\\Users\\grzeg\\PycharmProjects\\bankruptcy-prophet-new\\bankruptcy-prophet\\.venv\\Lib\\site-packages\\sklearn\\linear_model\\_sag.py:349: ConvergenceWarning: The max_iter was reached which means the coef_ did not converge\n",
      "  warnings.warn(\n",
      "C:\\Users\\grzeg\\PycharmProjects\\bankruptcy-prophet-new\\bankruptcy-prophet\\.venv\\Lib\\site-packages\\sklearn\\linear_model\\_sag.py:349: ConvergenceWarning: The max_iter was reached which means the coef_ did not converge\n",
      "  warnings.warn(\n",
      "C:\\Users\\grzeg\\PycharmProjects\\bankruptcy-prophet-new\\bankruptcy-prophet\\.venv\\Lib\\site-packages\\sklearn\\linear_model\\_sag.py:349: ConvergenceWarning: The max_iter was reached which means the coef_ did not converge\n",
      "  warnings.warn(\n",
      "C:\\Users\\grzeg\\PycharmProjects\\bankruptcy-prophet-new\\bankruptcy-prophet\\.venv\\Lib\\site-packages\\sklearn\\linear_model\\_sag.py:349: ConvergenceWarning: The max_iter was reached which means the coef_ did not converge\n",
      "  warnings.warn(\n",
      "C:\\Users\\grzeg\\PycharmProjects\\bankruptcy-prophet-new\\bankruptcy-prophet\\.venv\\Lib\\site-packages\\sklearn\\linear_model\\_sag.py:349: ConvergenceWarning: The max_iter was reached which means the coef_ did not converge\n",
      "  warnings.warn(\n",
      "C:\\Users\\grzeg\\PycharmProjects\\bankruptcy-prophet-new\\bankruptcy-prophet\\.venv\\Lib\\site-packages\\sklearn\\linear_model\\_sag.py:349: ConvergenceWarning: The max_iter was reached which means the coef_ did not converge\n",
      "  warnings.warn(\n",
      "C:\\Users\\grzeg\\PycharmProjects\\bankruptcy-prophet-new\\bankruptcy-prophet\\.venv\\Lib\\site-packages\\sklearn\\linear_model\\_sag.py:349: ConvergenceWarning: The max_iter was reached which means the coef_ did not converge\n",
      "  warnings.warn(\n",
      "C:\\Users\\grzeg\\PycharmProjects\\bankruptcy-prophet-new\\bankruptcy-prophet\\.venv\\Lib\\site-packages\\sklearn\\linear_model\\_sag.py:349: ConvergenceWarning: The max_iter was reached which means the coef_ did not converge\n",
      "  warnings.warn(\n",
      "C:\\Users\\grzeg\\PycharmProjects\\bankruptcy-prophet-new\\bankruptcy-prophet\\.venv\\Lib\\site-packages\\sklearn\\linear_model\\_sag.py:349: ConvergenceWarning: The max_iter was reached which means the coef_ did not converge\n",
      "  warnings.warn(\n",
      "C:\\Users\\grzeg\\PycharmProjects\\bankruptcy-prophet-new\\bankruptcy-prophet\\.venv\\Lib\\site-packages\\sklearn\\linear_model\\_sag.py:349: ConvergenceWarning: The max_iter was reached which means the coef_ did not converge\n",
      "  warnings.warn(\n",
      "C:\\Users\\grzeg\\PycharmProjects\\bankruptcy-prophet-new\\bankruptcy-prophet\\.venv\\Lib\\site-packages\\sklearn\\linear_model\\_sag.py:349: ConvergenceWarning: The max_iter was reached which means the coef_ did not converge\n",
      "  warnings.warn(\n",
      "C:\\Users\\grzeg\\PycharmProjects\\bankruptcy-prophet-new\\bankruptcy-prophet\\.venv\\Lib\\site-packages\\sklearn\\linear_model\\_sag.py:349: ConvergenceWarning: The max_iter was reached which means the coef_ did not converge\n",
      "  warnings.warn(\n",
      "C:\\Users\\grzeg\\PycharmProjects\\bankruptcy-prophet-new\\bankruptcy-prophet\\.venv\\Lib\\site-packages\\sklearn\\linear_model\\_sag.py:349: ConvergenceWarning: The max_iter was reached which means the coef_ did not converge\n",
      "  warnings.warn(\n",
      "C:\\Users\\grzeg\\PycharmProjects\\bankruptcy-prophet-new\\bankruptcy-prophet\\.venv\\Lib\\site-packages\\sklearn\\linear_model\\_sag.py:349: ConvergenceWarning: The max_iter was reached which means the coef_ did not converge\n",
      "  warnings.warn(\n",
      "C:\\Users\\grzeg\\PycharmProjects\\bankruptcy-prophet-new\\bankruptcy-prophet\\.venv\\Lib\\site-packages\\sklearn\\linear_model\\_sag.py:349: ConvergenceWarning: The max_iter was reached which means the coef_ did not converge\n",
      "  warnings.warn(\n",
      "C:\\Users\\grzeg\\PycharmProjects\\bankruptcy-prophet-new\\bankruptcy-prophet\\.venv\\Lib\\site-packages\\sklearn\\linear_model\\_sag.py:349: ConvergenceWarning: The max_iter was reached which means the coef_ did not converge\n",
      "  warnings.warn(\n",
      "C:\\Users\\grzeg\\PycharmProjects\\bankruptcy-prophet-new\\bankruptcy-prophet\\.venv\\Lib\\site-packages\\sklearn\\linear_model\\_sag.py:349: ConvergenceWarning: The max_iter was reached which means the coef_ did not converge\n",
      "  warnings.warn(\n",
      "C:\\Users\\grzeg\\PycharmProjects\\bankruptcy-prophet-new\\bankruptcy-prophet\\.venv\\Lib\\site-packages\\sklearn\\linear_model\\_sag.py:349: ConvergenceWarning: The max_iter was reached which means the coef_ did not converge\n",
      "  warnings.warn(\n",
      "C:\\Users\\grzeg\\PycharmProjects\\bankruptcy-prophet-new\\bankruptcy-prophet\\.venv\\Lib\\site-packages\\sklearn\\linear_model\\_sag.py:349: ConvergenceWarning: The max_iter was reached which means the coef_ did not converge\n",
      "  warnings.warn(\n",
      "C:\\Users\\grzeg\\PycharmProjects\\bankruptcy-prophet-new\\bankruptcy-prophet\\.venv\\Lib\\site-packages\\sklearn\\linear_model\\_sag.py:349: ConvergenceWarning: The max_iter was reached which means the coef_ did not converge\n",
      "  warnings.warn(\n",
      "C:\\Users\\grzeg\\PycharmProjects\\bankruptcy-prophet-new\\bankruptcy-prophet\\.venv\\Lib\\site-packages\\sklearn\\linear_model\\_sag.py:349: ConvergenceWarning: The max_iter was reached which means the coef_ did not converge\n",
      "  warnings.warn(\n",
      "C:\\Users\\grzeg\\PycharmProjects\\bankruptcy-prophet-new\\bankruptcy-prophet\\.venv\\Lib\\site-packages\\sklearn\\linear_model\\_sag.py:349: ConvergenceWarning: The max_iter was reached which means the coef_ did not converge\n",
      "  warnings.warn(\n",
      "C:\\Users\\grzeg\\PycharmProjects\\bankruptcy-prophet-new\\bankruptcy-prophet\\.venv\\Lib\\site-packages\\sklearn\\linear_model\\_sag.py:349: ConvergenceWarning: The max_iter was reached which means the coef_ did not converge\n",
      "  warnings.warn(\n",
      "C:\\Users\\grzeg\\PycharmProjects\\bankruptcy-prophet-new\\bankruptcy-prophet\\.venv\\Lib\\site-packages\\sklearn\\linear_model\\_sag.py:349: ConvergenceWarning: The max_iter was reached which means the coef_ did not converge\n",
      "  warnings.warn(\n",
      "C:\\Users\\grzeg\\PycharmProjects\\bankruptcy-prophet-new\\bankruptcy-prophet\\.venv\\Lib\\site-packages\\sklearn\\linear_model\\_sag.py:349: ConvergenceWarning: The max_iter was reached which means the coef_ did not converge\n",
      "  warnings.warn(\n",
      "C:\\Users\\grzeg\\PycharmProjects\\bankruptcy-prophet-new\\bankruptcy-prophet\\.venv\\Lib\\site-packages\\sklearn\\linear_model\\_sag.py:349: ConvergenceWarning: The max_iter was reached which means the coef_ did not converge\n",
      "  warnings.warn(\n",
      "C:\\Users\\grzeg\\PycharmProjects\\bankruptcy-prophet-new\\bankruptcy-prophet\\.venv\\Lib\\site-packages\\sklearn\\linear_model\\_sag.py:349: ConvergenceWarning: The max_iter was reached which means the coef_ did not converge\n",
      "  warnings.warn(\n",
      "C:\\Users\\grzeg\\PycharmProjects\\bankruptcy-prophet-new\\bankruptcy-prophet\\.venv\\Lib\\site-packages\\sklearn\\linear_model\\_sag.py:349: ConvergenceWarning: The max_iter was reached which means the coef_ did not converge\n",
      "  warnings.warn(\n",
      "C:\\Users\\grzeg\\PycharmProjects\\bankruptcy-prophet-new\\bankruptcy-prophet\\.venv\\Lib\\site-packages\\sklearn\\linear_model\\_sag.py:349: ConvergenceWarning: The max_iter was reached which means the coef_ did not converge\n",
      "  warnings.warn(\n",
      "C:\\Users\\grzeg\\PycharmProjects\\bankruptcy-prophet-new\\bankruptcy-prophet\\.venv\\Lib\\site-packages\\sklearn\\linear_model\\_sag.py:349: ConvergenceWarning: The max_iter was reached which means the coef_ did not converge\n",
      "  warnings.warn(\n",
      "C:\\Users\\grzeg\\PycharmProjects\\bankruptcy-prophet-new\\bankruptcy-prophet\\.venv\\Lib\\site-packages\\sklearn\\linear_model\\_sag.py:349: ConvergenceWarning: The max_iter was reached which means the coef_ did not converge\n",
      "  warnings.warn(\n",
      "C:\\Users\\grzeg\\PycharmProjects\\bankruptcy-prophet-new\\bankruptcy-prophet\\.venv\\Lib\\site-packages\\sklearn\\linear_model\\_sag.py:349: ConvergenceWarning: The max_iter was reached which means the coef_ did not converge\n",
      "  warnings.warn(\n",
      "C:\\Users\\grzeg\\PycharmProjects\\bankruptcy-prophet-new\\bankruptcy-prophet\\.venv\\Lib\\site-packages\\sklearn\\linear_model\\_sag.py:349: ConvergenceWarning: The max_iter was reached which means the coef_ did not converge\n",
      "  warnings.warn(\n",
      "C:\\Users\\grzeg\\PycharmProjects\\bankruptcy-prophet-new\\bankruptcy-prophet\\.venv\\Lib\\site-packages\\sklearn\\linear_model\\_sag.py:349: ConvergenceWarning: The max_iter was reached which means the coef_ did not converge\n",
      "  warnings.warn(\n",
      "C:\\Users\\grzeg\\PycharmProjects\\bankruptcy-prophet-new\\bankruptcy-prophet\\.venv\\Lib\\site-packages\\sklearn\\linear_model\\_sag.py:349: ConvergenceWarning: The max_iter was reached which means the coef_ did not converge\n",
      "  warnings.warn(\n",
      "C:\\Users\\grzeg\\PycharmProjects\\bankruptcy-prophet-new\\bankruptcy-prophet\\.venv\\Lib\\site-packages\\sklearn\\linear_model\\_sag.py:349: ConvergenceWarning: The max_iter was reached which means the coef_ did not converge\n",
      "  warnings.warn(\n",
      "C:\\Users\\grzeg\\PycharmProjects\\bankruptcy-prophet-new\\bankruptcy-prophet\\.venv\\Lib\\site-packages\\sklearn\\linear_model\\_sag.py:349: ConvergenceWarning: The max_iter was reached which means the coef_ did not converge\n",
      "  warnings.warn(\n",
      "C:\\Users\\grzeg\\PycharmProjects\\bankruptcy-prophet-new\\bankruptcy-prophet\\.venv\\Lib\\site-packages\\sklearn\\linear_model\\_sag.py:349: ConvergenceWarning: The max_iter was reached which means the coef_ did not converge\n",
      "  warnings.warn(\n",
      "C:\\Users\\grzeg\\PycharmProjects\\bankruptcy-prophet-new\\bankruptcy-prophet\\.venv\\Lib\\site-packages\\sklearn\\linear_model\\_sag.py:349: ConvergenceWarning: The max_iter was reached which means the coef_ did not converge\n",
      "  warnings.warn(\n",
      "C:\\Users\\grzeg\\PycharmProjects\\bankruptcy-prophet-new\\bankruptcy-prophet\\.venv\\Lib\\site-packages\\sklearn\\linear_model\\_sag.py:349: ConvergenceWarning: The max_iter was reached which means the coef_ did not converge\n",
      "  warnings.warn(\n",
      "C:\\Users\\grzeg\\PycharmProjects\\bankruptcy-prophet-new\\bankruptcy-prophet\\.venv\\Lib\\site-packages\\sklearn\\linear_model\\_sag.py:349: ConvergenceWarning: The max_iter was reached which means the coef_ did not converge\n",
      "  warnings.warn(\n",
      "C:\\Users\\grzeg\\PycharmProjects\\bankruptcy-prophet-new\\bankruptcy-prophet\\.venv\\Lib\\site-packages\\sklearn\\linear_model\\_sag.py:349: ConvergenceWarning: The max_iter was reached which means the coef_ did not converge\n",
      "  warnings.warn(\n",
      "C:\\Users\\grzeg\\PycharmProjects\\bankruptcy-prophet-new\\bankruptcy-prophet\\.venv\\Lib\\site-packages\\sklearn\\linear_model\\_sag.py:349: ConvergenceWarning: The max_iter was reached which means the coef_ did not converge\n",
      "  warnings.warn(\n",
      "C:\\Users\\grzeg\\PycharmProjects\\bankruptcy-prophet-new\\bankruptcy-prophet\\.venv\\Lib\\site-packages\\sklearn\\linear_model\\_sag.py:349: ConvergenceWarning: The max_iter was reached which means the coef_ did not converge\n",
      "  warnings.warn(\n",
      "C:\\Users\\grzeg\\PycharmProjects\\bankruptcy-prophet-new\\bankruptcy-prophet\\.venv\\Lib\\site-packages\\sklearn\\linear_model\\_sag.py:349: ConvergenceWarning: The max_iter was reached which means the coef_ did not converge\n",
      "  warnings.warn(\n",
      "C:\\Users\\grzeg\\PycharmProjects\\bankruptcy-prophet-new\\bankruptcy-prophet\\.venv\\Lib\\site-packages\\sklearn\\linear_model\\_sag.py:349: ConvergenceWarning: The max_iter was reached which means the coef_ did not converge\n",
      "  warnings.warn(\n",
      "C:\\Users\\grzeg\\PycharmProjects\\bankruptcy-prophet-new\\bankruptcy-prophet\\.venv\\Lib\\site-packages\\sklearn\\linear_model\\_sag.py:349: ConvergenceWarning: The max_iter was reached which means the coef_ did not converge\n",
      "  warnings.warn(\n",
      "C:\\Users\\grzeg\\PycharmProjects\\bankruptcy-prophet-new\\bankruptcy-prophet\\.venv\\Lib\\site-packages\\sklearn\\linear_model\\_sag.py:349: ConvergenceWarning: The max_iter was reached which means the coef_ did not converge\n",
      "  warnings.warn(\n",
      "C:\\Users\\grzeg\\PycharmProjects\\bankruptcy-prophet-new\\bankruptcy-prophet\\.venv\\Lib\\site-packages\\sklearn\\linear_model\\_sag.py:349: ConvergenceWarning: The max_iter was reached which means the coef_ did not converge\n",
      "  warnings.warn(\n",
      "C:\\Users\\grzeg\\PycharmProjects\\bankruptcy-prophet-new\\bankruptcy-prophet\\.venv\\Lib\\site-packages\\sklearn\\linear_model\\_sag.py:349: ConvergenceWarning: The max_iter was reached which means the coef_ did not converge\n",
      "  warnings.warn(\n",
      "C:\\Users\\grzeg\\PycharmProjects\\bankruptcy-prophet-new\\bankruptcy-prophet\\.venv\\Lib\\site-packages\\sklearn\\linear_model\\_sag.py:349: ConvergenceWarning: The max_iter was reached which means the coef_ did not converge\n",
      "  warnings.warn(\n",
      "C:\\Users\\grzeg\\PycharmProjects\\bankruptcy-prophet-new\\bankruptcy-prophet\\.venv\\Lib\\site-packages\\sklearn\\linear_model\\_sag.py:349: ConvergenceWarning: The max_iter was reached which means the coef_ did not converge\n",
      "  warnings.warn(\n",
      "C:\\Users\\grzeg\\PycharmProjects\\bankruptcy-prophet-new\\bankruptcy-prophet\\.venv\\Lib\\site-packages\\sklearn\\linear_model\\_sag.py:349: ConvergenceWarning: The max_iter was reached which means the coef_ did not converge\n",
      "  warnings.warn(\n",
      "C:\\Users\\grzeg\\PycharmProjects\\bankruptcy-prophet-new\\bankruptcy-prophet\\.venv\\Lib\\site-packages\\sklearn\\linear_model\\_sag.py:349: ConvergenceWarning: The max_iter was reached which means the coef_ did not converge\n",
      "  warnings.warn(\n",
      "C:\\Users\\grzeg\\PycharmProjects\\bankruptcy-prophet-new\\bankruptcy-prophet\\.venv\\Lib\\site-packages\\sklearn\\linear_model\\_sag.py:349: ConvergenceWarning: The max_iter was reached which means the coef_ did not converge\n",
      "  warnings.warn(\n",
      "C:\\Users\\grzeg\\PycharmProjects\\bankruptcy-prophet-new\\bankruptcy-prophet\\.venv\\Lib\\site-packages\\sklearn\\linear_model\\_sag.py:349: ConvergenceWarning: The max_iter was reached which means the coef_ did not converge\n",
      "  warnings.warn(\n",
      "C:\\Users\\grzeg\\PycharmProjects\\bankruptcy-prophet-new\\bankruptcy-prophet\\.venv\\Lib\\site-packages\\sklearn\\linear_model\\_sag.py:349: ConvergenceWarning: The max_iter was reached which means the coef_ did not converge\n",
      "  warnings.warn(\n",
      "C:\\Users\\grzeg\\PycharmProjects\\bankruptcy-prophet-new\\bankruptcy-prophet\\.venv\\Lib\\site-packages\\sklearn\\linear_model\\_sag.py:349: ConvergenceWarning: The max_iter was reached which means the coef_ did not converge\n",
      "  warnings.warn(\n",
      "C:\\Users\\grzeg\\PycharmProjects\\bankruptcy-prophet-new\\bankruptcy-prophet\\.venv\\Lib\\site-packages\\sklearn\\linear_model\\_sag.py:349: ConvergenceWarning: The max_iter was reached which means the coef_ did not converge\n",
      "  warnings.warn(\n",
      "C:\\Users\\grzeg\\PycharmProjects\\bankruptcy-prophet-new\\bankruptcy-prophet\\.venv\\Lib\\site-packages\\sklearn\\linear_model\\_sag.py:349: ConvergenceWarning: The max_iter was reached which means the coef_ did not converge\n",
      "  warnings.warn(\n",
      "C:\\Users\\grzeg\\PycharmProjects\\bankruptcy-prophet-new\\bankruptcy-prophet\\.venv\\Lib\\site-packages\\sklearn\\linear_model\\_sag.py:349: ConvergenceWarning: The max_iter was reached which means the coef_ did not converge\n",
      "  warnings.warn(\n",
      "C:\\Users\\grzeg\\PycharmProjects\\bankruptcy-prophet-new\\bankruptcy-prophet\\.venv\\Lib\\site-packages\\sklearn\\linear_model\\_sag.py:349: ConvergenceWarning: The max_iter was reached which means the coef_ did not converge\n",
      "  warnings.warn(\n",
      "C:\\Users\\grzeg\\PycharmProjects\\bankruptcy-prophet-new\\bankruptcy-prophet\\.venv\\Lib\\site-packages\\sklearn\\linear_model\\_sag.py:349: ConvergenceWarning: The max_iter was reached which means the coef_ did not converge\n",
      "  warnings.warn(\n",
      "C:\\Users\\grzeg\\PycharmProjects\\bankruptcy-prophet-new\\bankruptcy-prophet\\.venv\\Lib\\site-packages\\sklearn\\linear_model\\_sag.py:349: ConvergenceWarning: The max_iter was reached which means the coef_ did not converge\n",
      "  warnings.warn(\n",
      "C:\\Users\\grzeg\\PycharmProjects\\bankruptcy-prophet-new\\bankruptcy-prophet\\.venv\\Lib\\site-packages\\sklearn\\linear_model\\_sag.py:349: ConvergenceWarning: The max_iter was reached which means the coef_ did not converge\n",
      "  warnings.warn(\n",
      "C:\\Users\\grzeg\\PycharmProjects\\bankruptcy-prophet-new\\bankruptcy-prophet\\.venv\\Lib\\site-packages\\sklearn\\linear_model\\_sag.py:349: ConvergenceWarning: The max_iter was reached which means the coef_ did not converge\n",
      "  warnings.warn(\n",
      "C:\\Users\\grzeg\\PycharmProjects\\bankruptcy-prophet-new\\bankruptcy-prophet\\.venv\\Lib\\site-packages\\sklearn\\linear_model\\_sag.py:349: ConvergenceWarning: The max_iter was reached which means the coef_ did not converge\n",
      "  warnings.warn(\n",
      "C:\\Users\\grzeg\\PycharmProjects\\bankruptcy-prophet-new\\bankruptcy-prophet\\.venv\\Lib\\site-packages\\sklearn\\linear_model\\_sag.py:349: ConvergenceWarning: The max_iter was reached which means the coef_ did not converge\n",
      "  warnings.warn(\n",
      "C:\\Users\\grzeg\\PycharmProjects\\bankruptcy-prophet-new\\bankruptcy-prophet\\.venv\\Lib\\site-packages\\sklearn\\linear_model\\_sag.py:349: ConvergenceWarning: The max_iter was reached which means the coef_ did not converge\n",
      "  warnings.warn(\n",
      "C:\\Users\\grzeg\\PycharmProjects\\bankruptcy-prophet-new\\bankruptcy-prophet\\.venv\\Lib\\site-packages\\sklearn\\linear_model\\_sag.py:349: ConvergenceWarning: The max_iter was reached which means the coef_ did not converge\n",
      "  warnings.warn(\n",
      "C:\\Users\\grzeg\\PycharmProjects\\bankruptcy-prophet-new\\bankruptcy-prophet\\.venv\\Lib\\site-packages\\sklearn\\linear_model\\_sag.py:349: ConvergenceWarning: The max_iter was reached which means the coef_ did not converge\n",
      "  warnings.warn(\n",
      "C:\\Users\\grzeg\\PycharmProjects\\bankruptcy-prophet-new\\bankruptcy-prophet\\.venv\\Lib\\site-packages\\sklearn\\linear_model\\_sag.py:349: ConvergenceWarning: The max_iter was reached which means the coef_ did not converge\n",
      "  warnings.warn(\n",
      "C:\\Users\\grzeg\\PycharmProjects\\bankruptcy-prophet-new\\bankruptcy-prophet\\.venv\\Lib\\site-packages\\sklearn\\linear_model\\_sag.py:349: ConvergenceWarning: The max_iter was reached which means the coef_ did not converge\n",
      "  warnings.warn(\n",
      "C:\\Users\\grzeg\\PycharmProjects\\bankruptcy-prophet-new\\bankruptcy-prophet\\.venv\\Lib\\site-packages\\sklearn\\linear_model\\_sag.py:349: ConvergenceWarning: The max_iter was reached which means the coef_ did not converge\n",
      "  warnings.warn(\n",
      "C:\\Users\\grzeg\\PycharmProjects\\bankruptcy-prophet-new\\bankruptcy-prophet\\.venv\\Lib\\site-packages\\sklearn\\linear_model\\_sag.py:349: ConvergenceWarning: The max_iter was reached which means the coef_ did not converge\n",
      "  warnings.warn(\n",
      "C:\\Users\\grzeg\\PycharmProjects\\bankruptcy-prophet-new\\bankruptcy-prophet\\.venv\\Lib\\site-packages\\sklearn\\linear_model\\_sag.py:349: ConvergenceWarning: The max_iter was reached which means the coef_ did not converge\n",
      "  warnings.warn(\n",
      "C:\\Users\\grzeg\\PycharmProjects\\bankruptcy-prophet-new\\bankruptcy-prophet\\.venv\\Lib\\site-packages\\sklearn\\linear_model\\_sag.py:349: ConvergenceWarning: The max_iter was reached which means the coef_ did not converge\n",
      "  warnings.warn(\n",
      "C:\\Users\\grzeg\\PycharmProjects\\bankruptcy-prophet-new\\bankruptcy-prophet\\.venv\\Lib\\site-packages\\sklearn\\linear_model\\_sag.py:349: ConvergenceWarning: The max_iter was reached which means the coef_ did not converge\n",
      "  warnings.warn(\n",
      "C:\\Users\\grzeg\\PycharmProjects\\bankruptcy-prophet-new\\bankruptcy-prophet\\.venv\\Lib\\site-packages\\sklearn\\linear_model\\_sag.py:349: ConvergenceWarning: The max_iter was reached which means the coef_ did not converge\n",
      "  warnings.warn(\n",
      "C:\\Users\\grzeg\\PycharmProjects\\bankruptcy-prophet-new\\bankruptcy-prophet\\.venv\\Lib\\site-packages\\sklearn\\linear_model\\_sag.py:349: ConvergenceWarning: The max_iter was reached which means the coef_ did not converge\n",
      "  warnings.warn(\n",
      "C:\\Users\\grzeg\\PycharmProjects\\bankruptcy-prophet-new\\bankruptcy-prophet\\.venv\\Lib\\site-packages\\sklearn\\linear_model\\_sag.py:349: ConvergenceWarning: The max_iter was reached which means the coef_ did not converge\n",
      "  warnings.warn(\n",
      "C:\\Users\\grzeg\\PycharmProjects\\bankruptcy-prophet-new\\bankruptcy-prophet\\.venv\\Lib\\site-packages\\sklearn\\linear_model\\_sag.py:349: ConvergenceWarning: The max_iter was reached which means the coef_ did not converge\n",
      "  warnings.warn(\n",
      "C:\\Users\\grzeg\\PycharmProjects\\bankruptcy-prophet-new\\bankruptcy-prophet\\.venv\\Lib\\site-packages\\sklearn\\linear_model\\_sag.py:349: ConvergenceWarning: The max_iter was reached which means the coef_ did not converge\n",
      "  warnings.warn(\n",
      "C:\\Users\\grzeg\\PycharmProjects\\bankruptcy-prophet-new\\bankruptcy-prophet\\.venv\\Lib\\site-packages\\sklearn\\linear_model\\_sag.py:349: ConvergenceWarning: The max_iter was reached which means the coef_ did not converge\n",
      "  warnings.warn(\n",
      "C:\\Users\\grzeg\\PycharmProjects\\bankruptcy-prophet-new\\bankruptcy-prophet\\.venv\\Lib\\site-packages\\sklearn\\linear_model\\_sag.py:349: ConvergenceWarning: The max_iter was reached which means the coef_ did not converge\n",
      "  warnings.warn(\n",
      "C:\\Users\\grzeg\\PycharmProjects\\bankruptcy-prophet-new\\bankruptcy-prophet\\.venv\\Lib\\site-packages\\sklearn\\linear_model\\_sag.py:349: ConvergenceWarning: The max_iter was reached which means the coef_ did not converge\n",
      "  warnings.warn(\n",
      "C:\\Users\\grzeg\\PycharmProjects\\bankruptcy-prophet-new\\bankruptcy-prophet\\.venv\\Lib\\site-packages\\sklearn\\linear_model\\_sag.py:349: ConvergenceWarning: The max_iter was reached which means the coef_ did not converge\n",
      "  warnings.warn(\n",
      "C:\\Users\\grzeg\\PycharmProjects\\bankruptcy-prophet-new\\bankruptcy-prophet\\.venv\\Lib\\site-packages\\sklearn\\linear_model\\_sag.py:349: ConvergenceWarning: The max_iter was reached which means the coef_ did not converge\n",
      "  warnings.warn(\n",
      "C:\\Users\\grzeg\\PycharmProjects\\bankruptcy-prophet-new\\bankruptcy-prophet\\.venv\\Lib\\site-packages\\sklearn\\linear_model\\_sag.py:349: ConvergenceWarning: The max_iter was reached which means the coef_ did not converge\n",
      "  warnings.warn(\n",
      "C:\\Users\\grzeg\\PycharmProjects\\bankruptcy-prophet-new\\bankruptcy-prophet\\.venv\\Lib\\site-packages\\sklearn\\linear_model\\_sag.py:349: ConvergenceWarning: The max_iter was reached which means the coef_ did not converge\n",
      "  warnings.warn(\n",
      "C:\\Users\\grzeg\\PycharmProjects\\bankruptcy-prophet-new\\bankruptcy-prophet\\.venv\\Lib\\site-packages\\sklearn\\linear_model\\_sag.py:349: ConvergenceWarning: The max_iter was reached which means the coef_ did not converge\n",
      "  warnings.warn(\n",
      "C:\\Users\\grzeg\\PycharmProjects\\bankruptcy-prophet-new\\bankruptcy-prophet\\.venv\\Lib\\site-packages\\sklearn\\linear_model\\_sag.py:349: ConvergenceWarning: The max_iter was reached which means the coef_ did not converge\n",
      "  warnings.warn(\n",
      "C:\\Users\\grzeg\\PycharmProjects\\bankruptcy-prophet-new\\bankruptcy-prophet\\.venv\\Lib\\site-packages\\sklearn\\linear_model\\_sag.py:349: ConvergenceWarning: The max_iter was reached which means the coef_ did not converge\n",
      "  warnings.warn(\n",
      "C:\\Users\\grzeg\\PycharmProjects\\bankruptcy-prophet-new\\bankruptcy-prophet\\.venv\\Lib\\site-packages\\sklearn\\linear_model\\_sag.py:349: ConvergenceWarning: The max_iter was reached which means the coef_ did not converge\n",
      "  warnings.warn(\n",
      "C:\\Users\\grzeg\\PycharmProjects\\bankruptcy-prophet-new\\bankruptcy-prophet\\.venv\\Lib\\site-packages\\sklearn\\linear_model\\_sag.py:349: ConvergenceWarning: The max_iter was reached which means the coef_ did not converge\n",
      "  warnings.warn(\n",
      "C:\\Users\\grzeg\\PycharmProjects\\bankruptcy-prophet-new\\bankruptcy-prophet\\.venv\\Lib\\site-packages\\sklearn\\linear_model\\_sag.py:349: ConvergenceWarning: The max_iter was reached which means the coef_ did not converge\n",
      "  warnings.warn(\n",
      "C:\\Users\\grzeg\\PycharmProjects\\bankruptcy-prophet-new\\bankruptcy-prophet\\.venv\\Lib\\site-packages\\sklearn\\linear_model\\_sag.py:349: ConvergenceWarning: The max_iter was reached which means the coef_ did not converge\n",
      "  warnings.warn(\n",
      "C:\\Users\\grzeg\\PycharmProjects\\bankruptcy-prophet-new\\bankruptcy-prophet\\.venv\\Lib\\site-packages\\sklearn\\linear_model\\_sag.py:349: ConvergenceWarning: The max_iter was reached which means the coef_ did not converge\n",
      "  warnings.warn(\n",
      "C:\\Users\\grzeg\\PycharmProjects\\bankruptcy-prophet-new\\bankruptcy-prophet\\.venv\\Lib\\site-packages\\sklearn\\linear_model\\_sag.py:349: ConvergenceWarning: The max_iter was reached which means the coef_ did not converge\n",
      "  warnings.warn(\n",
      "C:\\Users\\grzeg\\PycharmProjects\\bankruptcy-prophet-new\\bankruptcy-prophet\\.venv\\Lib\\site-packages\\sklearn\\linear_model\\_sag.py:349: ConvergenceWarning: The max_iter was reached which means the coef_ did not converge\n",
      "  warnings.warn(\n",
      "C:\\Users\\grzeg\\PycharmProjects\\bankruptcy-prophet-new\\bankruptcy-prophet\\.venv\\Lib\\site-packages\\sklearn\\linear_model\\_sag.py:349: ConvergenceWarning: The max_iter was reached which means the coef_ did not converge\n",
      "  warnings.warn(\n",
      "C:\\Users\\grzeg\\PycharmProjects\\bankruptcy-prophet-new\\bankruptcy-prophet\\.venv\\Lib\\site-packages\\sklearn\\linear_model\\_sag.py:349: ConvergenceWarning: The max_iter was reached which means the coef_ did not converge\n",
      "  warnings.warn(\n",
      "C:\\Users\\grzeg\\PycharmProjects\\bankruptcy-prophet-new\\bankruptcy-prophet\\.venv\\Lib\\site-packages\\sklearn\\linear_model\\_sag.py:349: ConvergenceWarning: The max_iter was reached which means the coef_ did not converge\n",
      "  warnings.warn(\n",
      "C:\\Users\\grzeg\\PycharmProjects\\bankruptcy-prophet-new\\bankruptcy-prophet\\.venv\\Lib\\site-packages\\sklearn\\linear_model\\_sag.py:349: ConvergenceWarning: The max_iter was reached which means the coef_ did not converge\n",
      "  warnings.warn(\n",
      "C:\\Users\\grzeg\\PycharmProjects\\bankruptcy-prophet-new\\bankruptcy-prophet\\.venv\\Lib\\site-packages\\sklearn\\linear_model\\_sag.py:349: ConvergenceWarning: The max_iter was reached which means the coef_ did not converge\n",
      "  warnings.warn(\n",
      "C:\\Users\\grzeg\\PycharmProjects\\bankruptcy-prophet-new\\bankruptcy-prophet\\.venv\\Lib\\site-packages\\sklearn\\linear_model\\_sag.py:349: ConvergenceWarning: The max_iter was reached which means the coef_ did not converge\n",
      "  warnings.warn(\n",
      "C:\\Users\\grzeg\\PycharmProjects\\bankruptcy-prophet-new\\bankruptcy-prophet\\.venv\\Lib\\site-packages\\sklearn\\linear_model\\_sag.py:349: ConvergenceWarning: The max_iter was reached which means the coef_ did not converge\n",
      "  warnings.warn(\n",
      "C:\\Users\\grzeg\\PycharmProjects\\bankruptcy-prophet-new\\bankruptcy-prophet\\.venv\\Lib\\site-packages\\sklearn\\linear_model\\_sag.py:349: ConvergenceWarning: The max_iter was reached which means the coef_ did not converge\n",
      "  warnings.warn(\n",
      "C:\\Users\\grzeg\\PycharmProjects\\bankruptcy-prophet-new\\bankruptcy-prophet\\.venv\\Lib\\site-packages\\sklearn\\linear_model\\_sag.py:349: ConvergenceWarning: The max_iter was reached which means the coef_ did not converge\n",
      "  warnings.warn(\n",
      "C:\\Users\\grzeg\\PycharmProjects\\bankruptcy-prophet-new\\bankruptcy-prophet\\.venv\\Lib\\site-packages\\sklearn\\linear_model\\_sag.py:349: ConvergenceWarning: The max_iter was reached which means the coef_ did not converge\n",
      "  warnings.warn(\n",
      "C:\\Users\\grzeg\\PycharmProjects\\bankruptcy-prophet-new\\bankruptcy-prophet\\.venv\\Lib\\site-packages\\sklearn\\linear_model\\_sag.py:349: ConvergenceWarning: The max_iter was reached which means the coef_ did not converge\n",
      "  warnings.warn(\n",
      "C:\\Users\\grzeg\\PycharmProjects\\bankruptcy-prophet-new\\bankruptcy-prophet\\.venv\\Lib\\site-packages\\sklearn\\linear_model\\_sag.py:349: ConvergenceWarning: The max_iter was reached which means the coef_ did not converge\n",
      "  warnings.warn(\n",
      "C:\\Users\\grzeg\\PycharmProjects\\bankruptcy-prophet-new\\bankruptcy-prophet\\.venv\\Lib\\site-packages\\sklearn\\linear_model\\_sag.py:349: ConvergenceWarning: The max_iter was reached which means the coef_ did not converge\n",
      "  warnings.warn(\n",
      "C:\\Users\\grzeg\\PycharmProjects\\bankruptcy-prophet-new\\bankruptcy-prophet\\.venv\\Lib\\site-packages\\sklearn\\linear_model\\_sag.py:349: ConvergenceWarning: The max_iter was reached which means the coef_ did not converge\n",
      "  warnings.warn(\n",
      "C:\\Users\\grzeg\\PycharmProjects\\bankruptcy-prophet-new\\bankruptcy-prophet\\.venv\\Lib\\site-packages\\sklearn\\linear_model\\_sag.py:349: ConvergenceWarning: The max_iter was reached which means the coef_ did not converge\n",
      "  warnings.warn(\n",
      "C:\\Users\\grzeg\\PycharmProjects\\bankruptcy-prophet-new\\bankruptcy-prophet\\.venv\\Lib\\site-packages\\sklearn\\linear_model\\_sag.py:349: ConvergenceWarning: The max_iter was reached which means the coef_ did not converge\n",
      "  warnings.warn(\n",
      "C:\\Users\\grzeg\\PycharmProjects\\bankruptcy-prophet-new\\bankruptcy-prophet\\.venv\\Lib\\site-packages\\sklearn\\linear_model\\_sag.py:349: ConvergenceWarning: The max_iter was reached which means the coef_ did not converge\n",
      "  warnings.warn(\n",
      "C:\\Users\\grzeg\\PycharmProjects\\bankruptcy-prophet-new\\bankruptcy-prophet\\.venv\\Lib\\site-packages\\sklearn\\linear_model\\_sag.py:349: ConvergenceWarning: The max_iter was reached which means the coef_ did not converge\n",
      "  warnings.warn(\n",
      "C:\\Users\\grzeg\\PycharmProjects\\bankruptcy-prophet-new\\bankruptcy-prophet\\.venv\\Lib\\site-packages\\sklearn\\linear_model\\_sag.py:349: ConvergenceWarning: The max_iter was reached which means the coef_ did not converge\n",
      "  warnings.warn(\n",
      "C:\\Users\\grzeg\\PycharmProjects\\bankruptcy-prophet-new\\bankruptcy-prophet\\.venv\\Lib\\site-packages\\sklearn\\linear_model\\_sag.py:349: ConvergenceWarning: The max_iter was reached which means the coef_ did not converge\n",
      "  warnings.warn(\n",
      "C:\\Users\\grzeg\\PycharmProjects\\bankruptcy-prophet-new\\bankruptcy-prophet\\.venv\\Lib\\site-packages\\sklearn\\linear_model\\_sag.py:349: ConvergenceWarning: The max_iter was reached which means the coef_ did not converge\n",
      "  warnings.warn(\n",
      "C:\\Users\\grzeg\\PycharmProjects\\bankruptcy-prophet-new\\bankruptcy-prophet\\.venv\\Lib\\site-packages\\sklearn\\linear_model\\_sag.py:349: ConvergenceWarning: The max_iter was reached which means the coef_ did not converge\n",
      "  warnings.warn(\n",
      "C:\\Users\\grzeg\\PycharmProjects\\bankruptcy-prophet-new\\bankruptcy-prophet\\.venv\\Lib\\site-packages\\sklearn\\linear_model\\_sag.py:349: ConvergenceWarning: The max_iter was reached which means the coef_ did not converge\n",
      "  warnings.warn(\n",
      "C:\\Users\\grzeg\\PycharmProjects\\bankruptcy-prophet-new\\bankruptcy-prophet\\.venv\\Lib\\site-packages\\sklearn\\linear_model\\_sag.py:349: ConvergenceWarning: The max_iter was reached which means the coef_ did not converge\n",
      "  warnings.warn(\n",
      "C:\\Users\\grzeg\\PycharmProjects\\bankruptcy-prophet-new\\bankruptcy-prophet\\.venv\\Lib\\site-packages\\sklearn\\linear_model\\_sag.py:349: ConvergenceWarning: The max_iter was reached which means the coef_ did not converge\n",
      "  warnings.warn(\n",
      "C:\\Users\\grzeg\\PycharmProjects\\bankruptcy-prophet-new\\bankruptcy-prophet\\.venv\\Lib\\site-packages\\sklearn\\linear_model\\_sag.py:349: ConvergenceWarning: The max_iter was reached which means the coef_ did not converge\n",
      "  warnings.warn(\n",
      "C:\\Users\\grzeg\\PycharmProjects\\bankruptcy-prophet-new\\bankruptcy-prophet\\.venv\\Lib\\site-packages\\sklearn\\linear_model\\_sag.py:349: ConvergenceWarning: The max_iter was reached which means the coef_ did not converge\n",
      "  warnings.warn(\n",
      "C:\\Users\\grzeg\\PycharmProjects\\bankruptcy-prophet-new\\bankruptcy-prophet\\.venv\\Lib\\site-packages\\sklearn\\linear_model\\_sag.py:349: ConvergenceWarning: The max_iter was reached which means the coef_ did not converge\n",
      "  warnings.warn(\n",
      "C:\\Users\\grzeg\\PycharmProjects\\bankruptcy-prophet-new\\bankruptcy-prophet\\.venv\\Lib\\site-packages\\sklearn\\linear_model\\_sag.py:349: ConvergenceWarning: The max_iter was reached which means the coef_ did not converge\n",
      "  warnings.warn(\n",
      "C:\\Users\\grzeg\\PycharmProjects\\bankruptcy-prophet-new\\bankruptcy-prophet\\.venv\\Lib\\site-packages\\sklearn\\linear_model\\_sag.py:349: ConvergenceWarning: The max_iter was reached which means the coef_ did not converge\n",
      "  warnings.warn(\n",
      "C:\\Users\\grzeg\\PycharmProjects\\bankruptcy-prophet-new\\bankruptcy-prophet\\.venv\\Lib\\site-packages\\sklearn\\linear_model\\_sag.py:349: ConvergenceWarning: The max_iter was reached which means the coef_ did not converge\n",
      "  warnings.warn(\n",
      "C:\\Users\\grzeg\\PycharmProjects\\bankruptcy-prophet-new\\bankruptcy-prophet\\.venv\\Lib\\site-packages\\sklearn\\linear_model\\_sag.py:349: ConvergenceWarning: The max_iter was reached which means the coef_ did not converge\n",
      "  warnings.warn(\n",
      "C:\\Users\\grzeg\\PycharmProjects\\bankruptcy-prophet-new\\bankruptcy-prophet\\.venv\\Lib\\site-packages\\sklearn\\linear_model\\_sag.py:349: ConvergenceWarning: The max_iter was reached which means the coef_ did not converge\n",
      "  warnings.warn(\n",
      "C:\\Users\\grzeg\\PycharmProjects\\bankruptcy-prophet-new\\bankruptcy-prophet\\.venv\\Lib\\site-packages\\sklearn\\linear_model\\_sag.py:349: ConvergenceWarning: The max_iter was reached which means the coef_ did not converge\n",
      "  warnings.warn(\n",
      "C:\\Users\\grzeg\\PycharmProjects\\bankruptcy-prophet-new\\bankruptcy-prophet\\.venv\\Lib\\site-packages\\sklearn\\linear_model\\_sag.py:349: ConvergenceWarning: The max_iter was reached which means the coef_ did not converge\n",
      "  warnings.warn(\n",
      "C:\\Users\\grzeg\\PycharmProjects\\bankruptcy-prophet-new\\bankruptcy-prophet\\.venv\\Lib\\site-packages\\sklearn\\linear_model\\_sag.py:349: ConvergenceWarning: The max_iter was reached which means the coef_ did not converge\n",
      "  warnings.warn(\n",
      "C:\\Users\\grzeg\\PycharmProjects\\bankruptcy-prophet-new\\bankruptcy-prophet\\.venv\\Lib\\site-packages\\sklearn\\linear_model\\_sag.py:349: ConvergenceWarning: The max_iter was reached which means the coef_ did not converge\n",
      "  warnings.warn(\n",
      "C:\\Users\\grzeg\\PycharmProjects\\bankruptcy-prophet-new\\bankruptcy-prophet\\.venv\\Lib\\site-packages\\sklearn\\linear_model\\_sag.py:349: ConvergenceWarning: The max_iter was reached which means the coef_ did not converge\n",
      "  warnings.warn(\n",
      "C:\\Users\\grzeg\\PycharmProjects\\bankruptcy-prophet-new\\bankruptcy-prophet\\.venv\\Lib\\site-packages\\sklearn\\linear_model\\_sag.py:349: ConvergenceWarning: The max_iter was reached which means the coef_ did not converge\n",
      "  warnings.warn(\n",
      "C:\\Users\\grzeg\\PycharmProjects\\bankruptcy-prophet-new\\bankruptcy-prophet\\.venv\\Lib\\site-packages\\sklearn\\linear_model\\_sag.py:349: ConvergenceWarning: The max_iter was reached which means the coef_ did not converge\n",
      "  warnings.warn(\n",
      "C:\\Users\\grzeg\\PycharmProjects\\bankruptcy-prophet-new\\bankruptcy-prophet\\.venv\\Lib\\site-packages\\sklearn\\linear_model\\_sag.py:349: ConvergenceWarning: The max_iter was reached which means the coef_ did not converge\n",
      "  warnings.warn(\n",
      "C:\\Users\\grzeg\\PycharmProjects\\bankruptcy-prophet-new\\bankruptcy-prophet\\.venv\\Lib\\site-packages\\sklearn\\linear_model\\_sag.py:349: ConvergenceWarning: The max_iter was reached which means the coef_ did not converge\n",
      "  warnings.warn(\n",
      "C:\\Users\\grzeg\\PycharmProjects\\bankruptcy-prophet-new\\bankruptcy-prophet\\.venv\\Lib\\site-packages\\sklearn\\linear_model\\_sag.py:349: ConvergenceWarning: The max_iter was reached which means the coef_ did not converge\n",
      "  warnings.warn(\n",
      "C:\\Users\\grzeg\\PycharmProjects\\bankruptcy-prophet-new\\bankruptcy-prophet\\.venv\\Lib\\site-packages\\sklearn\\linear_model\\_sag.py:349: ConvergenceWarning: The max_iter was reached which means the coef_ did not converge\n",
      "  warnings.warn(\n",
      "C:\\Users\\grzeg\\PycharmProjects\\bankruptcy-prophet-new\\bankruptcy-prophet\\.venv\\Lib\\site-packages\\sklearn\\linear_model\\_sag.py:349: ConvergenceWarning: The max_iter was reached which means the coef_ did not converge\n",
      "  warnings.warn(\n",
      "C:\\Users\\grzeg\\PycharmProjects\\bankruptcy-prophet-new\\bankruptcy-prophet\\.venv\\Lib\\site-packages\\sklearn\\linear_model\\_sag.py:349: ConvergenceWarning: The max_iter was reached which means the coef_ did not converge\n",
      "  warnings.warn(\n",
      "C:\\Users\\grzeg\\PycharmProjects\\bankruptcy-prophet-new\\bankruptcy-prophet\\.venv\\Lib\\site-packages\\sklearn\\linear_model\\_sag.py:349: ConvergenceWarning: The max_iter was reached which means the coef_ did not converge\n",
      "  warnings.warn(\n",
      "C:\\Users\\grzeg\\PycharmProjects\\bankruptcy-prophet-new\\bankruptcy-prophet\\.venv\\Lib\\site-packages\\sklearn\\linear_model\\_sag.py:349: ConvergenceWarning: The max_iter was reached which means the coef_ did not converge\n",
      "  warnings.warn(\n",
      "C:\\Users\\grzeg\\PycharmProjects\\bankruptcy-prophet-new\\bankruptcy-prophet\\.venv\\Lib\\site-packages\\sklearn\\linear_model\\_sag.py:349: ConvergenceWarning: The max_iter was reached which means the coef_ did not converge\n",
      "  warnings.warn(\n",
      "C:\\Users\\grzeg\\PycharmProjects\\bankruptcy-prophet-new\\bankruptcy-prophet\\.venv\\Lib\\site-packages\\sklearn\\linear_model\\_sag.py:349: ConvergenceWarning: The max_iter was reached which means the coef_ did not converge\n",
      "  warnings.warn(\n",
      "C:\\Users\\grzeg\\PycharmProjects\\bankruptcy-prophet-new\\bankruptcy-prophet\\.venv\\Lib\\site-packages\\sklearn\\linear_model\\_sag.py:349: ConvergenceWarning: The max_iter was reached which means the coef_ did not converge\n",
      "  warnings.warn(\n",
      "C:\\Users\\grzeg\\PycharmProjects\\bankruptcy-prophet-new\\bankruptcy-prophet\\.venv\\Lib\\site-packages\\sklearn\\linear_model\\_sag.py:349: ConvergenceWarning: The max_iter was reached which means the coef_ did not converge\n",
      "  warnings.warn(\n",
      "C:\\Users\\grzeg\\PycharmProjects\\bankruptcy-prophet-new\\bankruptcy-prophet\\.venv\\Lib\\site-packages\\sklearn\\linear_model\\_sag.py:349: ConvergenceWarning: The max_iter was reached which means the coef_ did not converge\n",
      "  warnings.warn(\n",
      "C:\\Users\\grzeg\\PycharmProjects\\bankruptcy-prophet-new\\bankruptcy-prophet\\.venv\\Lib\\site-packages\\sklearn\\linear_model\\_sag.py:349: ConvergenceWarning: The max_iter was reached which means the coef_ did not converge\n",
      "  warnings.warn(\n",
      "C:\\Users\\grzeg\\PycharmProjects\\bankruptcy-prophet-new\\bankruptcy-prophet\\.venv\\Lib\\site-packages\\sklearn\\linear_model\\_sag.py:349: ConvergenceWarning: The max_iter was reached which means the coef_ did not converge\n",
      "  warnings.warn(\n",
      "C:\\Users\\grzeg\\PycharmProjects\\bankruptcy-prophet-new\\bankruptcy-prophet\\.venv\\Lib\\site-packages\\sklearn\\linear_model\\_sag.py:349: ConvergenceWarning: The max_iter was reached which means the coef_ did not converge\n",
      "  warnings.warn(\n",
      "C:\\Users\\grzeg\\PycharmProjects\\bankruptcy-prophet-new\\bankruptcy-prophet\\.venv\\Lib\\site-packages\\sklearn\\linear_model\\_sag.py:349: ConvergenceWarning: The max_iter was reached which means the coef_ did not converge\n",
      "  warnings.warn(\n",
      "C:\\Users\\grzeg\\PycharmProjects\\bankruptcy-prophet-new\\bankruptcy-prophet\\.venv\\Lib\\site-packages\\sklearn\\linear_model\\_sag.py:349: ConvergenceWarning: The max_iter was reached which means the coef_ did not converge\n",
      "  warnings.warn(\n",
      "C:\\Users\\grzeg\\PycharmProjects\\bankruptcy-prophet-new\\bankruptcy-prophet\\.venv\\Lib\\site-packages\\sklearn\\linear_model\\_sag.py:349: ConvergenceWarning: The max_iter was reached which means the coef_ did not converge\n",
      "  warnings.warn(\n",
      "C:\\Users\\grzeg\\PycharmProjects\\bankruptcy-prophet-new\\bankruptcy-prophet\\.venv\\Lib\\site-packages\\sklearn\\linear_model\\_sag.py:349: ConvergenceWarning: The max_iter was reached which means the coef_ did not converge\n",
      "  warnings.warn(\n",
      "C:\\Users\\grzeg\\PycharmProjects\\bankruptcy-prophet-new\\bankruptcy-prophet\\.venv\\Lib\\site-packages\\sklearn\\linear_model\\_sag.py:349: ConvergenceWarning: The max_iter was reached which means the coef_ did not converge\n",
      "  warnings.warn(\n",
      "C:\\Users\\grzeg\\PycharmProjects\\bankruptcy-prophet-new\\bankruptcy-prophet\\.venv\\Lib\\site-packages\\sklearn\\linear_model\\_sag.py:349: ConvergenceWarning: The max_iter was reached which means the coef_ did not converge\n",
      "  warnings.warn(\n",
      "C:\\Users\\grzeg\\PycharmProjects\\bankruptcy-prophet-new\\bankruptcy-prophet\\.venv\\Lib\\site-packages\\sklearn\\linear_model\\_sag.py:349: ConvergenceWarning: The max_iter was reached which means the coef_ did not converge\n",
      "  warnings.warn(\n",
      "C:\\Users\\grzeg\\PycharmProjects\\bankruptcy-prophet-new\\bankruptcy-prophet\\.venv\\Lib\\site-packages\\sklearn\\linear_model\\_sag.py:349: ConvergenceWarning: The max_iter was reached which means the coef_ did not converge\n",
      "  warnings.warn(\n",
      "C:\\Users\\grzeg\\PycharmProjects\\bankruptcy-prophet-new\\bankruptcy-prophet\\.venv\\Lib\\site-packages\\sklearn\\linear_model\\_sag.py:349: ConvergenceWarning: The max_iter was reached which means the coef_ did not converge\n",
      "  warnings.warn(\n",
      "C:\\Users\\grzeg\\PycharmProjects\\bankruptcy-prophet-new\\bankruptcy-prophet\\.venv\\Lib\\site-packages\\sklearn\\linear_model\\_sag.py:349: ConvergenceWarning: The max_iter was reached which means the coef_ did not converge\n",
      "  warnings.warn(\n",
      "C:\\Users\\grzeg\\PycharmProjects\\bankruptcy-prophet-new\\bankruptcy-prophet\\.venv\\Lib\\site-packages\\sklearn\\linear_model\\_sag.py:349: ConvergenceWarning: The max_iter was reached which means the coef_ did not converge\n",
      "  warnings.warn(\n",
      "C:\\Users\\grzeg\\PycharmProjects\\bankruptcy-prophet-new\\bankruptcy-prophet\\.venv\\Lib\\site-packages\\sklearn\\linear_model\\_sag.py:349: ConvergenceWarning: The max_iter was reached which means the coef_ did not converge\n",
      "  warnings.warn(\n",
      "C:\\Users\\grzeg\\PycharmProjects\\bankruptcy-prophet-new\\bankruptcy-prophet\\.venv\\Lib\\site-packages\\sklearn\\linear_model\\_sag.py:349: ConvergenceWarning: The max_iter was reached which means the coef_ did not converge\n",
      "  warnings.warn(\n",
      "C:\\Users\\grzeg\\PycharmProjects\\bankruptcy-prophet-new\\bankruptcy-prophet\\.venv\\Lib\\site-packages\\sklearn\\linear_model\\_sag.py:349: ConvergenceWarning: The max_iter was reached which means the coef_ did not converge\n",
      "  warnings.warn(\n",
      "C:\\Users\\grzeg\\PycharmProjects\\bankruptcy-prophet-new\\bankruptcy-prophet\\.venv\\Lib\\site-packages\\sklearn\\linear_model\\_sag.py:349: ConvergenceWarning: The max_iter was reached which means the coef_ did not converge\n",
      "  warnings.warn(\n",
      "C:\\Users\\grzeg\\PycharmProjects\\bankruptcy-prophet-new\\bankruptcy-prophet\\.venv\\Lib\\site-packages\\sklearn\\linear_model\\_sag.py:349: ConvergenceWarning: The max_iter was reached which means the coef_ did not converge\n",
      "  warnings.warn(\n",
      "C:\\Users\\grzeg\\PycharmProjects\\bankruptcy-prophet-new\\bankruptcy-prophet\\.venv\\Lib\\site-packages\\sklearn\\linear_model\\_sag.py:349: ConvergenceWarning: The max_iter was reached which means the coef_ did not converge\n",
      "  warnings.warn(\n",
      "C:\\Users\\grzeg\\PycharmProjects\\bankruptcy-prophet-new\\bankruptcy-prophet\\.venv\\Lib\\site-packages\\sklearn\\linear_model\\_sag.py:349: ConvergenceWarning: The max_iter was reached which means the coef_ did not converge\n",
      "  warnings.warn(\n",
      "C:\\Users\\grzeg\\PycharmProjects\\bankruptcy-prophet-new\\bankruptcy-prophet\\.venv\\Lib\\site-packages\\sklearn\\linear_model\\_sag.py:349: ConvergenceWarning: The max_iter was reached which means the coef_ did not converge\n",
      "  warnings.warn(\n",
      "C:\\Users\\grzeg\\PycharmProjects\\bankruptcy-prophet-new\\bankruptcy-prophet\\.venv\\Lib\\site-packages\\sklearn\\linear_model\\_sag.py:349: ConvergenceWarning: The max_iter was reached which means the coef_ did not converge\n",
      "  warnings.warn(\n",
      "C:\\Users\\grzeg\\PycharmProjects\\bankruptcy-prophet-new\\bankruptcy-prophet\\.venv\\Lib\\site-packages\\sklearn\\linear_model\\_sag.py:349: ConvergenceWarning: The max_iter was reached which means the coef_ did not converge\n",
      "  warnings.warn(\n",
      "C:\\Users\\grzeg\\PycharmProjects\\bankruptcy-prophet-new\\bankruptcy-prophet\\.venv\\Lib\\site-packages\\sklearn\\linear_model\\_sag.py:349: ConvergenceWarning: The max_iter was reached which means the coef_ did not converge\n",
      "  warnings.warn(\n",
      "C:\\Users\\grzeg\\PycharmProjects\\bankruptcy-prophet-new\\bankruptcy-prophet\\.venv\\Lib\\site-packages\\sklearn\\linear_model\\_sag.py:349: ConvergenceWarning: The max_iter was reached which means the coef_ did not converge\n",
      "  warnings.warn(\n",
      "C:\\Users\\grzeg\\PycharmProjects\\bankruptcy-prophet-new\\bankruptcy-prophet\\.venv\\Lib\\site-packages\\sklearn\\linear_model\\_sag.py:349: ConvergenceWarning: The max_iter was reached which means the coef_ did not converge\n",
      "  warnings.warn(\n",
      "C:\\Users\\grzeg\\PycharmProjects\\bankruptcy-prophet-new\\bankruptcy-prophet\\.venv\\Lib\\site-packages\\sklearn\\linear_model\\_sag.py:349: ConvergenceWarning: The max_iter was reached which means the coef_ did not converge\n",
      "  warnings.warn(\n",
      "C:\\Users\\grzeg\\PycharmProjects\\bankruptcy-prophet-new\\bankruptcy-prophet\\.venv\\Lib\\site-packages\\sklearn\\linear_model\\_sag.py:349: ConvergenceWarning: The max_iter was reached which means the coef_ did not converge\n",
      "  warnings.warn(\n",
      "C:\\Users\\grzeg\\PycharmProjects\\bankruptcy-prophet-new\\bankruptcy-prophet\\.venv\\Lib\\site-packages\\sklearn\\linear_model\\_sag.py:349: ConvergenceWarning: The max_iter was reached which means the coef_ did not converge\n",
      "  warnings.warn(\n",
      "C:\\Users\\grzeg\\PycharmProjects\\bankruptcy-prophet-new\\bankruptcy-prophet\\.venv\\Lib\\site-packages\\sklearn\\linear_model\\_sag.py:349: ConvergenceWarning: The max_iter was reached which means the coef_ did not converge\n",
      "  warnings.warn(\n",
      "C:\\Users\\grzeg\\PycharmProjects\\bankruptcy-prophet-new\\bankruptcy-prophet\\.venv\\Lib\\site-packages\\sklearn\\linear_model\\_sag.py:349: ConvergenceWarning: The max_iter was reached which means the coef_ did not converge\n",
      "  warnings.warn(\n",
      "C:\\Users\\grzeg\\PycharmProjects\\bankruptcy-prophet-new\\bankruptcy-prophet\\.venv\\Lib\\site-packages\\sklearn\\linear_model\\_sag.py:349: ConvergenceWarning: The max_iter was reached which means the coef_ did not converge\n",
      "  warnings.warn(\n",
      "C:\\Users\\grzeg\\PycharmProjects\\bankruptcy-prophet-new\\bankruptcy-prophet\\.venv\\Lib\\site-packages\\sklearn\\linear_model\\_sag.py:349: ConvergenceWarning: The max_iter was reached which means the coef_ did not converge\n",
      "  warnings.warn(\n",
      "C:\\Users\\grzeg\\PycharmProjects\\bankruptcy-prophet-new\\bankruptcy-prophet\\.venv\\Lib\\site-packages\\sklearn\\linear_model\\_sag.py:349: ConvergenceWarning: The max_iter was reached which means the coef_ did not converge\n",
      "  warnings.warn(\n",
      "C:\\Users\\grzeg\\PycharmProjects\\bankruptcy-prophet-new\\bankruptcy-prophet\\.venv\\Lib\\site-packages\\sklearn\\linear_model\\_sag.py:349: ConvergenceWarning: The max_iter was reached which means the coef_ did not converge\n",
      "  warnings.warn(\n",
      "C:\\Users\\grzeg\\PycharmProjects\\bankruptcy-prophet-new\\bankruptcy-prophet\\.venv\\Lib\\site-packages\\sklearn\\linear_model\\_sag.py:349: ConvergenceWarning: The max_iter was reached which means the coef_ did not converge\n",
      "  warnings.warn(\n",
      "C:\\Users\\grzeg\\PycharmProjects\\bankruptcy-prophet-new\\bankruptcy-prophet\\.venv\\Lib\\site-packages\\sklearn\\linear_model\\_sag.py:349: ConvergenceWarning: The max_iter was reached which means the coef_ did not converge\n",
      "  warnings.warn(\n",
      "C:\\Users\\grzeg\\PycharmProjects\\bankruptcy-prophet-new\\bankruptcy-prophet\\.venv\\Lib\\site-packages\\sklearn\\linear_model\\_sag.py:349: ConvergenceWarning: The max_iter was reached which means the coef_ did not converge\n",
      "  warnings.warn(\n",
      "C:\\Users\\grzeg\\PycharmProjects\\bankruptcy-prophet-new\\bankruptcy-prophet\\.venv\\Lib\\site-packages\\sklearn\\linear_model\\_sag.py:349: ConvergenceWarning: The max_iter was reached which means the coef_ did not converge\n",
      "  warnings.warn(\n",
      "C:\\Users\\grzeg\\PycharmProjects\\bankruptcy-prophet-new\\bankruptcy-prophet\\.venv\\Lib\\site-packages\\sklearn\\linear_model\\_sag.py:349: ConvergenceWarning: The max_iter was reached which means the coef_ did not converge\n",
      "  warnings.warn(\n",
      "C:\\Users\\grzeg\\PycharmProjects\\bankruptcy-prophet-new\\bankruptcy-prophet\\.venv\\Lib\\site-packages\\sklearn\\linear_model\\_sag.py:349: ConvergenceWarning: The max_iter was reached which means the coef_ did not converge\n",
      "  warnings.warn(\n",
      "C:\\Users\\grzeg\\PycharmProjects\\bankruptcy-prophet-new\\bankruptcy-prophet\\.venv\\Lib\\site-packages\\sklearn\\linear_model\\_sag.py:349: ConvergenceWarning: The max_iter was reached which means the coef_ did not converge\n",
      "  warnings.warn(\n",
      "C:\\Users\\grzeg\\PycharmProjects\\bankruptcy-prophet-new\\bankruptcy-prophet\\.venv\\Lib\\site-packages\\sklearn\\linear_model\\_sag.py:349: ConvergenceWarning: The max_iter was reached which means the coef_ did not converge\n",
      "  warnings.warn(\n",
      "C:\\Users\\grzeg\\PycharmProjects\\bankruptcy-prophet-new\\bankruptcy-prophet\\.venv\\Lib\\site-packages\\sklearn\\linear_model\\_sag.py:349: ConvergenceWarning: The max_iter was reached which means the coef_ did not converge\n",
      "  warnings.warn(\n",
      "C:\\Users\\grzeg\\PycharmProjects\\bankruptcy-prophet-new\\bankruptcy-prophet\\.venv\\Lib\\site-packages\\sklearn\\linear_model\\_sag.py:349: ConvergenceWarning: The max_iter was reached which means the coef_ did not converge\n",
      "  warnings.warn(\n",
      "C:\\Users\\grzeg\\PycharmProjects\\bankruptcy-prophet-new\\bankruptcy-prophet\\.venv\\Lib\\site-packages\\sklearn\\linear_model\\_sag.py:349: ConvergenceWarning: The max_iter was reached which means the coef_ did not converge\n",
      "  warnings.warn(\n",
      "C:\\Users\\grzeg\\PycharmProjects\\bankruptcy-prophet-new\\bankruptcy-prophet\\.venv\\Lib\\site-packages\\sklearn\\linear_model\\_sag.py:349: ConvergenceWarning: The max_iter was reached which means the coef_ did not converge\n",
      "  warnings.warn(\n",
      "C:\\Users\\grzeg\\PycharmProjects\\bankruptcy-prophet-new\\bankruptcy-prophet\\.venv\\Lib\\site-packages\\sklearn\\linear_model\\_sag.py:349: ConvergenceWarning: The max_iter was reached which means the coef_ did not converge\n",
      "  warnings.warn(\n",
      "C:\\Users\\grzeg\\PycharmProjects\\bankruptcy-prophet-new\\bankruptcy-prophet\\.venv\\Lib\\site-packages\\sklearn\\linear_model\\_sag.py:349: ConvergenceWarning: The max_iter was reached which means the coef_ did not converge\n",
      "  warnings.warn(\n",
      "C:\\Users\\grzeg\\PycharmProjects\\bankruptcy-prophet-new\\bankruptcy-prophet\\.venv\\Lib\\site-packages\\sklearn\\linear_model\\_sag.py:349: ConvergenceWarning: The max_iter was reached which means the coef_ did not converge\n",
      "  warnings.warn(\n",
      "C:\\Users\\grzeg\\PycharmProjects\\bankruptcy-prophet-new\\bankruptcy-prophet\\.venv\\Lib\\site-packages\\sklearn\\linear_model\\_sag.py:349: ConvergenceWarning: The max_iter was reached which means the coef_ did not converge\n",
      "  warnings.warn(\n",
      "C:\\Users\\grzeg\\PycharmProjects\\bankruptcy-prophet-new\\bankruptcy-prophet\\.venv\\Lib\\site-packages\\sklearn\\linear_model\\_sag.py:349: ConvergenceWarning: The max_iter was reached which means the coef_ did not converge\n",
      "  warnings.warn(\n",
      "C:\\Users\\grzeg\\PycharmProjects\\bankruptcy-prophet-new\\bankruptcy-prophet\\.venv\\Lib\\site-packages\\sklearn\\linear_model\\_sag.py:349: ConvergenceWarning: The max_iter was reached which means the coef_ did not converge\n",
      "  warnings.warn(\n",
      "C:\\Users\\grzeg\\PycharmProjects\\bankruptcy-prophet-new\\bankruptcy-prophet\\.venv\\Lib\\site-packages\\sklearn\\linear_model\\_sag.py:349: ConvergenceWarning: The max_iter was reached which means the coef_ did not converge\n",
      "  warnings.warn(\n",
      "C:\\Users\\grzeg\\PycharmProjects\\bankruptcy-prophet-new\\bankruptcy-prophet\\.venv\\Lib\\site-packages\\sklearn\\linear_model\\_sag.py:349: ConvergenceWarning: The max_iter was reached which means the coef_ did not converge\n",
      "  warnings.warn(\n",
      "C:\\Users\\grzeg\\PycharmProjects\\bankruptcy-prophet-new\\bankruptcy-prophet\\.venv\\Lib\\site-packages\\sklearn\\linear_model\\_sag.py:349: ConvergenceWarning: The max_iter was reached which means the coef_ did not converge\n",
      "  warnings.warn(\n",
      "C:\\Users\\grzeg\\PycharmProjects\\bankruptcy-prophet-new\\bankruptcy-prophet\\.venv\\Lib\\site-packages\\sklearn\\linear_model\\_sag.py:349: ConvergenceWarning: The max_iter was reached which means the coef_ did not converge\n",
      "  warnings.warn(\n",
      "C:\\Users\\grzeg\\PycharmProjects\\bankruptcy-prophet-new\\bankruptcy-prophet\\.venv\\Lib\\site-packages\\sklearn\\linear_model\\_sag.py:349: ConvergenceWarning: The max_iter was reached which means the coef_ did not converge\n",
      "  warnings.warn(\n",
      "C:\\Users\\grzeg\\PycharmProjects\\bankruptcy-prophet-new\\bankruptcy-prophet\\.venv\\Lib\\site-packages\\sklearn\\linear_model\\_sag.py:349: ConvergenceWarning: The max_iter was reached which means the coef_ did not converge\n",
      "  warnings.warn(\n",
      "C:\\Users\\grzeg\\PycharmProjects\\bankruptcy-prophet-new\\bankruptcy-prophet\\.venv\\Lib\\site-packages\\sklearn\\linear_model\\_sag.py:349: ConvergenceWarning: The max_iter was reached which means the coef_ did not converge\n",
      "  warnings.warn(\n",
      "C:\\Users\\grzeg\\PycharmProjects\\bankruptcy-prophet-new\\bankruptcy-prophet\\.venv\\Lib\\site-packages\\sklearn\\linear_model\\_sag.py:349: ConvergenceWarning: The max_iter was reached which means the coef_ did not converge\n",
      "  warnings.warn(\n",
      "C:\\Users\\grzeg\\PycharmProjects\\bankruptcy-prophet-new\\bankruptcy-prophet\\.venv\\Lib\\site-packages\\sklearn\\linear_model\\_sag.py:349: ConvergenceWarning: The max_iter was reached which means the coef_ did not converge\n",
      "  warnings.warn(\n",
      "C:\\Users\\grzeg\\PycharmProjects\\bankruptcy-prophet-new\\bankruptcy-prophet\\.venv\\Lib\\site-packages\\sklearn\\linear_model\\_sag.py:349: ConvergenceWarning: The max_iter was reached which means the coef_ did not converge\n",
      "  warnings.warn(\n",
      "C:\\Users\\grzeg\\PycharmProjects\\bankruptcy-prophet-new\\bankruptcy-prophet\\.venv\\Lib\\site-packages\\sklearn\\linear_model\\_sag.py:349: ConvergenceWarning: The max_iter was reached which means the coef_ did not converge\n",
      "  warnings.warn(\n",
      "C:\\Users\\grzeg\\PycharmProjects\\bankruptcy-prophet-new\\bankruptcy-prophet\\.venv\\Lib\\site-packages\\sklearn\\linear_model\\_sag.py:349: ConvergenceWarning: The max_iter was reached which means the coef_ did not converge\n",
      "  warnings.warn(\n",
      "C:\\Users\\grzeg\\PycharmProjects\\bankruptcy-prophet-new\\bankruptcy-prophet\\.venv\\Lib\\site-packages\\sklearn\\linear_model\\_sag.py:349: ConvergenceWarning: The max_iter was reached which means the coef_ did not converge\n",
      "  warnings.warn(\n",
      "C:\\Users\\grzeg\\PycharmProjects\\bankruptcy-prophet-new\\bankruptcy-prophet\\.venv\\Lib\\site-packages\\sklearn\\linear_model\\_sag.py:349: ConvergenceWarning: The max_iter was reached which means the coef_ did not converge\n",
      "  warnings.warn(\n",
      "C:\\Users\\grzeg\\PycharmProjects\\bankruptcy-prophet-new\\bankruptcy-prophet\\.venv\\Lib\\site-packages\\sklearn\\linear_model\\_sag.py:349: ConvergenceWarning: The max_iter was reached which means the coef_ did not converge\n",
      "  warnings.warn(\n",
      "C:\\Users\\grzeg\\PycharmProjects\\bankruptcy-prophet-new\\bankruptcy-prophet\\.venv\\Lib\\site-packages\\sklearn\\linear_model\\_sag.py:349: ConvergenceWarning: The max_iter was reached which means the coef_ did not converge\n",
      "  warnings.warn(\n",
      "C:\\Users\\grzeg\\PycharmProjects\\bankruptcy-prophet-new\\bankruptcy-prophet\\.venv\\Lib\\site-packages\\sklearn\\linear_model\\_sag.py:349: ConvergenceWarning: The max_iter was reached which means the coef_ did not converge\n",
      "  warnings.warn(\n",
      "C:\\Users\\grzeg\\PycharmProjects\\bankruptcy-prophet-new\\bankruptcy-prophet\\.venv\\Lib\\site-packages\\sklearn\\linear_model\\_sag.py:349: ConvergenceWarning: The max_iter was reached which means the coef_ did not converge\n",
      "  warnings.warn(\n",
      "C:\\Users\\grzeg\\PycharmProjects\\bankruptcy-prophet-new\\bankruptcy-prophet\\.venv\\Lib\\site-packages\\sklearn\\linear_model\\_sag.py:349: ConvergenceWarning: The max_iter was reached which means the coef_ did not converge\n",
      "  warnings.warn(\n",
      "C:\\Users\\grzeg\\PycharmProjects\\bankruptcy-prophet-new\\bankruptcy-prophet\\.venv\\Lib\\site-packages\\sklearn\\linear_model\\_sag.py:349: ConvergenceWarning: The max_iter was reached which means the coef_ did not converge\n",
      "  warnings.warn(\n",
      "C:\\Users\\grzeg\\PycharmProjects\\bankruptcy-prophet-new\\bankruptcy-prophet\\.venv\\Lib\\site-packages\\sklearn\\linear_model\\_sag.py:349: ConvergenceWarning: The max_iter was reached which means the coef_ did not converge\n",
      "  warnings.warn(\n",
      "C:\\Users\\grzeg\\PycharmProjects\\bankruptcy-prophet-new\\bankruptcy-prophet\\.venv\\Lib\\site-packages\\sklearn\\linear_model\\_sag.py:349: ConvergenceWarning: The max_iter was reached which means the coef_ did not converge\n",
      "  warnings.warn(\n",
      "C:\\Users\\grzeg\\PycharmProjects\\bankruptcy-prophet-new\\bankruptcy-prophet\\.venv\\Lib\\site-packages\\sklearn\\linear_model\\_sag.py:349: ConvergenceWarning: The max_iter was reached which means the coef_ did not converge\n",
      "  warnings.warn(\n",
      "C:\\Users\\grzeg\\PycharmProjects\\bankruptcy-prophet-new\\bankruptcy-prophet\\.venv\\Lib\\site-packages\\sklearn\\linear_model\\_sag.py:349: ConvergenceWarning: The max_iter was reached which means the coef_ did not converge\n",
      "  warnings.warn(\n",
      "C:\\Users\\grzeg\\PycharmProjects\\bankruptcy-prophet-new\\bankruptcy-prophet\\.venv\\Lib\\site-packages\\sklearn\\linear_model\\_sag.py:349: ConvergenceWarning: The max_iter was reached which means the coef_ did not converge\n",
      "  warnings.warn(\n",
      "C:\\Users\\grzeg\\PycharmProjects\\bankruptcy-prophet-new\\bankruptcy-prophet\\.venv\\Lib\\site-packages\\sklearn\\linear_model\\_sag.py:349: ConvergenceWarning: The max_iter was reached which means the coef_ did not converge\n",
      "  warnings.warn(\n",
      "C:\\Users\\grzeg\\PycharmProjects\\bankruptcy-prophet-new\\bankruptcy-prophet\\.venv\\Lib\\site-packages\\sklearn\\linear_model\\_sag.py:349: ConvergenceWarning: The max_iter was reached which means the coef_ did not converge\n",
      "  warnings.warn(\n",
      "C:\\Users\\grzeg\\PycharmProjects\\bankruptcy-prophet-new\\bankruptcy-prophet\\.venv\\Lib\\site-packages\\sklearn\\linear_model\\_sag.py:349: ConvergenceWarning: The max_iter was reached which means the coef_ did not converge\n",
      "  warnings.warn(\n",
      "C:\\Users\\grzeg\\PycharmProjects\\bankruptcy-prophet-new\\bankruptcy-prophet\\.venv\\Lib\\site-packages\\sklearn\\linear_model\\_sag.py:349: ConvergenceWarning: The max_iter was reached which means the coef_ did not converge\n",
      "  warnings.warn(\n"
     ]
    }
   ],
   "execution_count": 14
  },
  {
   "metadata": {
    "ExecuteTime": {
     "end_time": "2024-09-20T10:28:55.087599Z",
     "start_time": "2024-09-20T10:28:55.046189Z"
    }
   },
   "cell_type": "code",
   "source": [
    "y_pred = automl.predict(X_test)\n",
    "f1 = f1_score(y_test, y_pred, average='binary')\n",
    "precision = precision_score(y_test, y_pred)\n",
    "\n",
    "print(f\"Accuracy: {automl.score(X_test, y_test)}\")\n",
    "print(\"F1 Score:\", f1)\n",
    "print(\"Precision:\", precision)\n",
    "\n",
    "\n",
    "print(automl.model.estimator)"
   ],
   "id": "259eca45059de94b",
   "outputs": [
    {
     "name": "stdout",
     "output_type": "stream",
     "text": [
      "Accuracy: 0.9734188817598534\n",
      "F1 Score: 0.12121212121212122\n",
      "Precision: 0.09090909090909091\n",
      "ExtraTreesClassifier(max_features=0.1554012169742841, max_leaf_nodes=1334,\n",
      "                     n_estimators=5, n_jobs=-1, random_state=12032022)\n"
     ]
    }
   ],
   "execution_count": 19
  },
  {
   "metadata": {},
   "cell_type": "markdown",
   "source": [
    "F1 Score: 0.12121212121212122\n",
    "Precision: 0.09090909090909091\n",
    "0.9734188817598534\n",
    "ExtraTreesClassifier(max_features=0.1554012169742841, max_leaf_nodes=1334,\n",
    "                     n_estimators=5, n_jobs=-1, random_state=12032022)\n",
    "                     \n",
    "F1 Score: 0.0\n",
    "Precision: 0.0\n",
    "0.9793510324483776\n",
    "LGBMClassifier(colsample_bytree=0.877691111430211,\n",
    "               learning_rate=0.229496990403627, max_bin=255,\n",
    "               min_child_samples=14, n_estimators=1, n_jobs=-1, num_leaves=4,\n",
    "               reg_alpha=0.002090706060471173, reg_lambda=0.12231295758806901,\n",
    "               verbose=-1)"
   ],
   "id": "d4b7737e3ca45cf7"
  },
  {
   "metadata": {},
   "cell_type": "markdown",
   "source": "### H20 AutoML - problem with java - didn't work",
   "id": "16a69af90a0b98af"
  },
  {
   "metadata": {},
   "cell_type": "code",
   "outputs": [],
   "execution_count": null,
   "source": [
    "# import h2o\n",
    "# from h2o.automl import H2OAutoML\n",
    "# h2o.init()\n",
    "# \n",
    "# h2o.demo(\"glm\")\n",
    "# \n",
    "# X_train_val['target'] = y_train_val\n",
    "# X_train_val_h20Frame = h2o.H2OFrame(X_train_val)\n",
    "# \n",
    "# X_test['target'] = y_test\n",
    "# X_test_h20Frame = h2o.H2OFrame(X_test)\n",
    "# \n",
    "# aml = H2OAutoML(max_runtime_secs=60)\n",
    "# aml.train(y='target', training_frame=X_train_val_h20Frame)\n",
    "# \n",
    "# perf = aml.leader.model_performance(X_test_h20Frame)\n",
    "# print(perf.auc())\n",
    "# h2o.cluster().shutdown()"
   ],
   "id": "4dbf8f1a05a16fea"
  },
  {
   "metadata": {},
   "cell_type": "markdown",
   "source": "### Other approaches\n",
   "id": "8c91a56f1611ab8e"
  },
  {
   "metadata": {
    "ExecuteTime": {
     "end_time": "2024-09-20T11:11:47.450750Z",
     "start_time": "2024-09-20T11:11:47.435621Z"
    }
   },
   "cell_type": "code",
   "source": [
    "import pandas as pd\n",
    "import numpy as np\n",
    "from tqdm import tqdm"
   ],
   "id": "674852f2c6c81299",
   "outputs": [],
   "execution_count": 68
  },
  {
   "metadata": {
    "ExecuteTime": {
     "end_time": "2024-09-20T13:20:45.268090Z",
     "start_time": "2024-09-20T13:20:42.268740Z"
    }
   },
   "cell_type": "code",
   "source": [
    "financial_dataset = pd.read_csv('numerical_dataset_version5_oversampled.csv')\n",
    "# financial_dataset_original = pd.read_csv('numerical_dataset_version5_original.csv')\n",
    "\n",
    "flatten_df = flatten_financial_dataset(financial_dataset)\n",
    "# flatten_df_original = flatten_financial_dataset(financial_dataset_original)\n",
    "\n",
    "financial_dataset_flatten_preprocessed = flatten_df.drop(['cik', 'ticker', 'Fiscal Period'], axis=1)\n",
    "X = financial_dataset_flatten_preprocessed.drop('label', axis=1)\n",
    "y = financial_dataset_flatten_preprocessed['label']"
   ],
   "id": "2fbaab8d8d0e3446",
   "outputs": [],
   "execution_count": 142
  },
  {
   "metadata": {
    "ExecuteTime": {
     "end_time": "2024-09-20T13:21:16.611463Z",
     "start_time": "2024-09-20T13:21:16.600044Z"
    }
   },
   "cell_type": "code",
   "source": [
    "X_train, y_train, X_val, y_val, X_test, y_test = get_train_val_test_split(X, y)\n",
    "\n",
    "len(X_train), len(X_val), len(X_test)"
   ],
   "id": "1a6d71b0c9dadc3a",
   "outputs": [
    {
     "data": {
      "text/plain": [
       "(5760, 363, 1091)"
      ]
     },
     "execution_count": 144,
     "metadata": {},
     "output_type": "execute_result"
    }
   ],
   "execution_count": 144
  },
  {
   "metadata": {
    "ExecuteTime": {
     "end_time": "2024-09-20T13:21:19.890065Z",
     "start_time": "2024-09-20T13:21:19.832965Z"
    }
   },
   "cell_type": "code",
   "source": [
    "from sklearn import preprocessing\n",
    "\n",
    "scaler = preprocessing.StandardScaler().fit(X_train)\n",
    "\n",
    "X_train = scaler.transform(X_train)\n",
    "X_val = scaler.transform(X_val)\n",
    "X_test = scaler.transform(X_test)"
   ],
   "id": "2b48322a599ae341",
   "outputs": [],
   "execution_count": 145
  },
  {
   "metadata": {
    "ExecuteTime": {
     "end_time": "2024-09-20T16:56:57.006926Z",
     "start_time": "2024-09-20T16:56:56.425746Z"
    }
   },
   "cell_type": "code",
   "source": [
    "from sklearn.ensemble import GradientBoostingClassifier, AdaBoostClassifier, ExtraTreesClassifier, BaggingClassifier, RandomForestClassifier\n",
    "from sklearn.linear_model import LogisticRegression\n",
    "from sklearn.svm import SVC\n",
    "from sklearn.tree import DecisionTreeClassifier\n",
    "from sklearn.neighbors import KNeighborsClassifier\n",
    "from sklearn.naive_bayes import GaussianNB\n",
    "from sklearn.neural_network import MLPClassifier\n",
    "from xgboost import XGBClassifier\n",
    "\n",
    "from sklearn.metrics import confusion_matrix, recall_score, precision_score, accuracy_score, f1_score\n",
    "\n",
    "fix_seed = 2024"
   ],
   "id": "47da3bbb8751d1c0",
   "outputs": [],
   "execution_count": 69
  },
  {
   "metadata": {
    "ExecuteTime": {
     "end_time": "2024-09-20T16:56:57.157230Z",
     "start_time": "2024-09-20T16:56:57.151520Z"
    }
   },
   "cell_type": "code",
   "source": [
    "def get_classifiers_for_automl(random_state=43):\n",
    "    randomForestClassifier = RandomForestClassifier(random_state=random_state)\n",
    "    gradientBoostingClassifier = GradientBoostingClassifier(random_state=random_state)\n",
    "    adaBoostClassifier = AdaBoostClassifier(random_state=random_state)\n",
    "    extraTreesClassifier = ExtraTreesClassifier(random_state=random_state)\n",
    "    baggingClassifier = BaggingClassifier(random_state=random_state)\n",
    "    logisticRegression = LogisticRegression(random_state=random_state, max_iter=300)\n",
    "    svc = SVC(random_state=random_state)\n",
    "    decisionTreeClassifier = DecisionTreeClassifier(random_state=random_state)\n",
    "    kNeighborsClassifier = KNeighborsClassifier()\n",
    "    gaussianNB = GaussianNB()\n",
    "    mlpClassifier = MLPClassifier(hidden_layer_sizes=(16, 16),\n",
    "                               batch_size=128,\n",
    "                               max_iter=300,\n",
    "                               shuffle=False,\n",
    "                               random_state=random_state,\n",
    "                               early_stopping=True,\n",
    "                               beta_2=0.99,\n",
    "                               n_iter_no_change=20)\n",
    "    xgbClassifier = XGBClassifier(random_state=random_state)\n",
    "    \n",
    "    return [xgbClassifier, randomForestClassifier, gradientBoostingClassifier, adaBoostClassifier, extraTreesClassifier, baggingClassifier, logisticRegression, svc, decisionTreeClassifier, kNeighborsClassifier, gaussianNB, mlpClassifier]"
   ],
   "id": "d864c75364dd251d",
   "outputs": [],
   "execution_count": 70
  },
  {
   "metadata": {
    "ExecuteTime": {
     "end_time": "2024-09-20T10:35:07.148299Z",
     "start_time": "2024-09-20T10:34:43.891244Z"
    }
   },
   "cell_type": "code",
   "source": [
    "results = {}\n",
    "\n",
    "for i in tqdm(range(1)):\n",
    "    random_state = fix_seed + i\n",
    "    classifiers = get_classifiers_for_automl(random_state=random_state)\n",
    "    \n",
    "    for classifier in classifiers:\n",
    "        classifier.fit(X_train, y_train)\n",
    "        y_pred = classifier.predict(X_test)\n",
    "        \n",
    "        accuracy = accuracy_score(y_test, y_pred)\n",
    "        precision = precision_score(y_test, y_pred)\n",
    "        \n",
    "        classifier_name = classifier.__class__.__name__\n",
    "        if classifier_name not in results:\n",
    "            results[classifier_name] = [[accuracy, precision]]\n",
    "        else:\n",
    "            results[classifier_name].append([accuracy, precision])\n",
    "            \n",
    "results_mean = {k: np.mean(v, axis=0) for k, v in results.items()}\n",
    "results_mean = [[k] + v.tolist() for k, v in results_mean.items()]\n",
    "results_df = pd.DataFrame(results_mean, columns=['classifier', 'accuracy', 'precision'])"
   ],
   "id": "f79801701cc45eb1",
   "outputs": [
    {
     "name": "stderr",
     "output_type": "stream",
     "text": [
      "  0%|          | 0/1 [00:00<?, ?it/s]C:\\Users\\grzeg\\PycharmProjects\\bankruptcy-prophet-new\\bankruptcy-prophet\\.venv\\Lib\\site-packages\\sklearn\\ensemble\\_weight_boosting.py:527: FutureWarning: The SAMME.R algorithm (the default) is deprecated and will be removed in 1.6. Use the SAMME algorithm to circumvent this warning.\n",
      "  warnings.warn(\n",
      "C:\\Users\\grzeg\\PycharmProjects\\bankruptcy-prophet-new\\bankruptcy-prophet\\.venv\\Lib\\site-packages\\sklearn\\linear_model\\_logistic.py:469: ConvergenceWarning: lbfgs failed to converge (status=1):\n",
      "STOP: TOTAL NO. of ITERATIONS REACHED LIMIT.\n",
      "\n",
      "Increase the number of iterations (max_iter) or scale the data as shown in:\n",
      "    https://scikit-learn.org/stable/modules/preprocessing.html\n",
      "Please also refer to the documentation for alternative solver options:\n",
      "    https://scikit-learn.org/stable/modules/linear_model.html#logistic-regression\n",
      "  n_iter_i = _check_optimize_result(\n",
      "100%|██████████| 1/1 [00:23<00:00, 23.25s/it]\n"
     ]
    }
   ],
   "execution_count": 35
  },
  {
   "metadata": {
    "ExecuteTime": {
     "end_time": "2024-09-20T10:35:47.826754Z",
     "start_time": "2024-09-20T10:35:47.820494Z"
    }
   },
   "cell_type": "code",
   "source": "results_df",
   "id": "448a19e1b0d855a9",
   "outputs": [
    {
     "data": {
      "text/plain": [
       "                    classifier  accuracy  precision\n",
       "0                XGBClassifier  0.964253   0.062500\n",
       "1       RandomForestClassifier  0.972502   0.086957\n",
       "2   GradientBoostingClassifier  0.937672   0.047619\n",
       "3           AdaBoostClassifier  0.918423   0.085106\n",
       "4         ExtraTreesClassifier  0.985335   0.142857\n",
       "5            BaggingClassifier  0.971586   0.083333\n",
       "6           LogisticRegression  0.915674   0.082474\n",
       "7                          SVC  0.519707   0.020561\n",
       "8       DecisionTreeClassifier  0.924840   0.038961\n",
       "9         KNeighborsClassifier  0.884510   0.061069\n",
       "10                  GaussianNB  0.244730   0.012005\n",
       "11               MLPClassifier  0.926673   0.094118"
      ],
      "text/html": [
       "<div>\n",
       "<style scoped>\n",
       "    .dataframe tbody tr th:only-of-type {\n",
       "        vertical-align: middle;\n",
       "    }\n",
       "\n",
       "    .dataframe tbody tr th {\n",
       "        vertical-align: top;\n",
       "    }\n",
       "\n",
       "    .dataframe thead th {\n",
       "        text-align: right;\n",
       "    }\n",
       "</style>\n",
       "<table border=\"1\" class=\"dataframe\">\n",
       "  <thead>\n",
       "    <tr style=\"text-align: right;\">\n",
       "      <th></th>\n",
       "      <th>classifier</th>\n",
       "      <th>accuracy</th>\n",
       "      <th>precision</th>\n",
       "    </tr>\n",
       "  </thead>\n",
       "  <tbody>\n",
       "    <tr>\n",
       "      <th>0</th>\n",
       "      <td>XGBClassifier</td>\n",
       "      <td>0.964253</td>\n",
       "      <td>0.062500</td>\n",
       "    </tr>\n",
       "    <tr>\n",
       "      <th>1</th>\n",
       "      <td>RandomForestClassifier</td>\n",
       "      <td>0.972502</td>\n",
       "      <td>0.086957</td>\n",
       "    </tr>\n",
       "    <tr>\n",
       "      <th>2</th>\n",
       "      <td>GradientBoostingClassifier</td>\n",
       "      <td>0.937672</td>\n",
       "      <td>0.047619</td>\n",
       "    </tr>\n",
       "    <tr>\n",
       "      <th>3</th>\n",
       "      <td>AdaBoostClassifier</td>\n",
       "      <td>0.918423</td>\n",
       "      <td>0.085106</td>\n",
       "    </tr>\n",
       "    <tr>\n",
       "      <th>4</th>\n",
       "      <td>ExtraTreesClassifier</td>\n",
       "      <td>0.985335</td>\n",
       "      <td>0.142857</td>\n",
       "    </tr>\n",
       "    <tr>\n",
       "      <th>5</th>\n",
       "      <td>BaggingClassifier</td>\n",
       "      <td>0.971586</td>\n",
       "      <td>0.083333</td>\n",
       "    </tr>\n",
       "    <tr>\n",
       "      <th>6</th>\n",
       "      <td>LogisticRegression</td>\n",
       "      <td>0.915674</td>\n",
       "      <td>0.082474</td>\n",
       "    </tr>\n",
       "    <tr>\n",
       "      <th>7</th>\n",
       "      <td>SVC</td>\n",
       "      <td>0.519707</td>\n",
       "      <td>0.020561</td>\n",
       "    </tr>\n",
       "    <tr>\n",
       "      <th>8</th>\n",
       "      <td>DecisionTreeClassifier</td>\n",
       "      <td>0.924840</td>\n",
       "      <td>0.038961</td>\n",
       "    </tr>\n",
       "    <tr>\n",
       "      <th>9</th>\n",
       "      <td>KNeighborsClassifier</td>\n",
       "      <td>0.884510</td>\n",
       "      <td>0.061069</td>\n",
       "    </tr>\n",
       "    <tr>\n",
       "      <th>10</th>\n",
       "      <td>GaussianNB</td>\n",
       "      <td>0.244730</td>\n",
       "      <td>0.012005</td>\n",
       "    </tr>\n",
       "    <tr>\n",
       "      <th>11</th>\n",
       "      <td>MLPClassifier</td>\n",
       "      <td>0.926673</td>\n",
       "      <td>0.094118</td>\n",
       "    </tr>\n",
       "  </tbody>\n",
       "</table>\n",
       "</div>"
      ]
     },
     "execution_count": 36,
     "metadata": {},
     "output_type": "execute_result"
    }
   ],
   "execution_count": 36
  },
  {
   "metadata": {
    "ExecuteTime": {
     "end_time": "2024-09-20T10:33:57.411967Z",
     "start_time": "2024-09-20T10:33:56.944131Z"
    }
   },
   "cell_type": "code",
   "source": [
    "results_df.plot(\n",
    "    x='classifier',\n",
    "    y=['accuracy', 'precision'],\n",
    "    kind='bar',\n",
    "    figsize=(15, 6),\n",
    "    title='Wyniki najpopuarniejszych klasyfikatorów (część numeryczna)',\n",
    "    xlabel='Klasyfikator',\n",
    "    ylabel='Wartość')\n",
    "\n",
    "plt.xticks(rotation=45)\n",
    "\n",
    "plt.show()"
   ],
   "id": "ad5a2b9e74b5d1b8",
   "outputs": [
    {
     "data": {
      "text/plain": [
       "<Figure size 1500x600 with 1 Axes>"
      ],
      "image/png": "[encoded data removed]"
     },
     "metadata": {},
     "output_type": "display_data"
    }
   ],
   "execution_count": 28
  },
  {
   "metadata": {},
   "cell_type": "markdown",
   "source": "### Looking for best hyperparameters for XGBClassifier",
   "id": "6958caad05da92e9"
  },
  {
   "metadata": {
    "ExecuteTime": {
     "end_time": "2024-09-20T13:21:30.273430Z",
     "start_time": "2024-09-20T13:21:30.265933Z"
    }
   },
   "cell_type": "code",
   "source": [
    "from sklearn.model_selection import PredefinedSplit\n",
    "from sklearn.model_selection import RandomizedSearchCV\n",
    "from xgboost import XGBClassifier\n",
    "from sklearn.metrics import accuracy_score, precision_score"
   ],
   "id": "79a026cbf3aa1e3",
   "outputs": [],
   "execution_count": 147
  },
  {
   "metadata": {
    "ExecuteTime": {
     "end_time": "2024-09-20T11:12:08.688284Z",
     "start_time": "2024-09-20T11:12:08.683226Z"
    }
   },
   "cell_type": "code",
   "source": [
    "split_index = [-1] * len(X_train) + [0] * len(X_val)\n",
    "X_train_val = np.concatenate([X_train, X_val])\n",
    "y_train_val = np.concatenate([y_train, y_val])\n",
    "ps = PredefinedSplit(test_fold=split_index)"
   ],
   "id": "7876d449e432a4d6",
   "outputs": [],
   "execution_count": 75
  },
  {
   "metadata": {
    "ExecuteTime": {
     "end_time": "2024-09-22T20:47:11.884916Z",
     "start_time": "2024-09-22T20:47:11.551Z"
    }
   },
   "cell_type": "code",
   "source": [
    "from collections import Counter\n",
    "counter = Counter(y_train)\n",
    "scale_pos_weight = counter[0] / counter[1] \n",
    "\n",
    "xgb = XGBClassifier(scale_pos_weight=scale_pos_weight, random_state=random_state)\n",
    "extraTreesClassifier = ExtraTreesClassifier(random_state=random_state)\n",
    "adaBoostClassifier = AdaBoostClassifier(random_state=random_state)\n",
    "decisionTreeClassifier = DecisionTreeClassifier(random_state=random_state)\n",
    "kNeighborsClassifier = KNeighborsClassifier(weights='uniform', p=2, n_neighbors=7, leaf_size=10, algorithm='brute')\n",
    "\n",
    "param_dist_XGBClassifier = {\n",
    "    'n_estimators': [50, 100, 200, 300, 500],\n",
    "    'learning_rate': [0.01, 0.02, 0.06, 0.1, 1],\n",
    "    'max_depth': [1, 3, 5, 7, 10],\n",
    "    'subsample': [0.6, 0.7, 0.8, 0.9, 1.0],\n",
    "    'gamma': [0, 0.1, 0.2, 0.3],\n",
    "    'reg_alpha': [0, 0.01, 0.1, 1]\n",
    "    # 'scale_pos_weight': np.linspace(30, 60, 7)\n",
    "}\n",
    "\n",
    "param_dist_ExtraTreesClassifier = {\n",
    "    'max_depth': [3, 5, 7, 10],\n",
    "    'min_samples_split': [2, 5, 10],\n",
    "    'min_samples_leaf': [1, 2, 4],\n",
    "    'class_weight': [{True: 59, False: 1}, {True: 49, False: 1}, {True: 39, False: 1}, {True: 30, False: 1}, {True: 20, False: 1}, {True: 1, False: 1}, {True: 2, False: 1}]\n",
    "}\n",
    "\n",
    "param_dist_adaboostClassifier = {\n",
    "    'n_estimators': [50, 100, 200],\n",
    "    'learning_rate': [0.01, 0.1, 1]\n",
    "}\n",
    "\n",
    "param_dist_DecisionTreeClassifier = {\n",
    "    'criterion': ['gini', 'entropy'],\n",
    "    'splitter': ['best', 'random'],\n",
    "    'max_depth': [1, 3, 5, 7, 10],\n",
    "    'min_samples_split': [2, 4],\n",
    "    'min_samples_leaf': [1, 2, 4],\n",
    "    'class_weight': [{True: 50, False: 1},{True: 30, False: 1}, {True: 10, False: 1}, {True: 2, False: 1}]\n",
    "}"
   ],
   "id": "118d61f425862735",
   "outputs": [
    {
     "ename": "NameError",
     "evalue": "name 'XGBClassifier' is not defined",
     "output_type": "error",
     "traceback": [
      "\u001B[1;31m---------------------------------------------------------------------------\u001B[0m",
      "\u001B[1;31mNameError\u001B[0m                                 Traceback (most recent call last)",
      "Cell \u001B[1;32mIn[23], line 5\u001B[0m\n\u001B[0;32m      2\u001B[0m counter \u001B[38;5;241m=\u001B[39m Counter(y_train)\n\u001B[0;32m      3\u001B[0m scale_pos_weight \u001B[38;5;241m=\u001B[39m counter[\u001B[38;5;241m0\u001B[39m] \u001B[38;5;241m/\u001B[39m counter[\u001B[38;5;241m1\u001B[39m] \n\u001B[1;32m----> 5\u001B[0m xgb \u001B[38;5;241m=\u001B[39m \u001B[43mXGBClassifier\u001B[49m(scale_pos_weight\u001B[38;5;241m=\u001B[39mscale_pos_weight, random_state\u001B[38;5;241m=\u001B[39mrandom_state)\n\u001B[0;32m      6\u001B[0m extraTreesClassifier \u001B[38;5;241m=\u001B[39m ExtraTreesClassifier(random_state\u001B[38;5;241m=\u001B[39mrandom_state)\n\u001B[0;32m      7\u001B[0m adaBoostClassifier \u001B[38;5;241m=\u001B[39m AdaBoostClassifier(random_state\u001B[38;5;241m=\u001B[39mrandom_state)\n",
      "\u001B[1;31mNameError\u001B[0m: name 'XGBClassifier' is not defined"
     ]
    }
   ],
   "execution_count": 23
  },
  {
   "metadata": {
    "ExecuteTime": {
     "end_time": "2024-09-20T19:50:14.657568900Z",
     "start_time": "2024-09-20T19:49:20.620987Z"
    }
   },
   "cell_type": "code",
   "source": [
    "random_state = 42\n",
    "for i in tqdm(range(5)):\n",
    "    random_search = RandomizedSearchCV(\n",
    "        estimator=adaBoostClassifier, \n",
    "        param_distributions=param_dist_adaboostClassifier,\n",
    "        n_iter=20,\n",
    "        scoring='precision',\n",
    "        n_jobs=-1,\n",
    "        random_state=random_state+i\n",
    "    )\n",
    "    \n",
    "    random_search.fit(X_train, y_train)\n",
    "    \n",
    "    print(f\"Best parameters found: {random_search.best_params_}\")\n",
    "    \n",
    "    best_xgb = random_search.best_estimator_\n",
    "    \n",
    "    y_pred = best_xgb.predict(X_test)\n",
    "    accuracy = accuracy_score(y_test, y_pred)\n",
    "    precision = precision_score(y_test, y_pred)\n",
    "    \n",
    "    print(f\"Test Accuracy: {accuracy}\")\n",
    "    print(f\"Test Precision: {precision}\")"
   ],
   "id": "c1a4381e45802a3d",
   "outputs": [
    {
     "name": "stderr",
     "output_type": "stream",
     "text": [
      " 20%|██        | 1/5 [00:38<02:33, 38.46s/it]"
     ]
    },
    {
     "name": "stdout",
     "output_type": "stream",
     "text": [
      "Best parameters found: {'n_estimators': 100, 'learning_rate': 1}\n",
      "Test Accuracy: 0.9793510324483776\n",
      "Test Precision: 0.2\n"
     ]
    },
    {
     "name": "stderr",
     "output_type": "stream",
     "text": [
      " 20%|██        | 1/5 [00:54<03:37, 54.36s/it]\n"
     ]
    },
    {
     "ename": "KeyboardInterrupt",
     "evalue": "",
     "output_type": "error",
     "traceback": [
      "\u001B[1;31m---------------------------------------------------------------------------\u001B[0m",
      "\u001B[1;31mKeyboardInterrupt\u001B[0m                         Traceback (most recent call last)",
      "Cell \u001B[1;32mIn[139], line 12\u001B[0m\n\u001B[0;32m      2\u001B[0m \u001B[38;5;28;01mfor\u001B[39;00m i \u001B[38;5;129;01min\u001B[39;00m tqdm(\u001B[38;5;28mrange\u001B[39m(\u001B[38;5;241m5\u001B[39m)):\n\u001B[0;32m      3\u001B[0m     random_search \u001B[38;5;241m=\u001B[39m RandomizedSearchCV(\n\u001B[0;32m      4\u001B[0m         estimator\u001B[38;5;241m=\u001B[39madaBoostClassifier, \n\u001B[0;32m      5\u001B[0m         param_distributions\u001B[38;5;241m=\u001B[39mparam_dist_adaboostClassifier,\n\u001B[1;32m   (...)\u001B[0m\n\u001B[0;32m      9\u001B[0m         random_state\u001B[38;5;241m=\u001B[39mrandom_state\u001B[38;5;241m+\u001B[39mi\n\u001B[0;32m     10\u001B[0m     )\n\u001B[1;32m---> 12\u001B[0m     \u001B[43mrandom_search\u001B[49m\u001B[38;5;241;43m.\u001B[39;49m\u001B[43mfit\u001B[49m\u001B[43m(\u001B[49m\u001B[43mX_train\u001B[49m\u001B[43m,\u001B[49m\u001B[43m \u001B[49m\u001B[43my_train\u001B[49m\u001B[43m)\u001B[49m\n\u001B[0;32m     14\u001B[0m     \u001B[38;5;28mprint\u001B[39m(\u001B[38;5;124mf\u001B[39m\u001B[38;5;124m\"\u001B[39m\u001B[38;5;124mBest parameters found: \u001B[39m\u001B[38;5;132;01m{\u001B[39;00mrandom_search\u001B[38;5;241m.\u001B[39mbest_params_\u001B[38;5;132;01m}\u001B[39;00m\u001B[38;5;124m\"\u001B[39m)\n\u001B[0;32m     16\u001B[0m     best_xgb \u001B[38;5;241m=\u001B[39m random_search\u001B[38;5;241m.\u001B[39mbest_estimator_\n",
      "File \u001B[1;32m~\\PycharmProjects\\bankruptcy-prophet-new\\bankruptcy-prophet\\.venv\\Lib\\site-packages\\sklearn\\base.py:1473\u001B[0m, in \u001B[0;36m_fit_context.<locals>.decorator.<locals>.wrapper\u001B[1;34m(estimator, *args, **kwargs)\u001B[0m\n\u001B[0;32m   1466\u001B[0m     estimator\u001B[38;5;241m.\u001B[39m_validate_params()\n\u001B[0;32m   1468\u001B[0m \u001B[38;5;28;01mwith\u001B[39;00m config_context(\n\u001B[0;32m   1469\u001B[0m     skip_parameter_validation\u001B[38;5;241m=\u001B[39m(\n\u001B[0;32m   1470\u001B[0m         prefer_skip_nested_validation \u001B[38;5;129;01mor\u001B[39;00m global_skip_validation\n\u001B[0;32m   1471\u001B[0m     )\n\u001B[0;32m   1472\u001B[0m ):\n\u001B[1;32m-> 1473\u001B[0m     \u001B[38;5;28;01mreturn\u001B[39;00m \u001B[43mfit_method\u001B[49m\u001B[43m(\u001B[49m\u001B[43mestimator\u001B[49m\u001B[43m,\u001B[49m\u001B[43m \u001B[49m\u001B[38;5;241;43m*\u001B[39;49m\u001B[43margs\u001B[49m\u001B[43m,\u001B[49m\u001B[43m \u001B[49m\u001B[38;5;241;43m*\u001B[39;49m\u001B[38;5;241;43m*\u001B[39;49m\u001B[43mkwargs\u001B[49m\u001B[43m)\u001B[49m\n",
      "File \u001B[1;32m~\\PycharmProjects\\bankruptcy-prophet-new\\bankruptcy-prophet\\.venv\\Lib\\site-packages\\sklearn\\model_selection\\_search.py:968\u001B[0m, in \u001B[0;36mBaseSearchCV.fit\u001B[1;34m(self, X, y, **params)\u001B[0m\n\u001B[0;32m    962\u001B[0m     results \u001B[38;5;241m=\u001B[39m \u001B[38;5;28mself\u001B[39m\u001B[38;5;241m.\u001B[39m_format_results(\n\u001B[0;32m    963\u001B[0m         all_candidate_params, n_splits, all_out, all_more_results\n\u001B[0;32m    964\u001B[0m     )\n\u001B[0;32m    966\u001B[0m     \u001B[38;5;28;01mreturn\u001B[39;00m results\n\u001B[1;32m--> 968\u001B[0m \u001B[38;5;28;43mself\u001B[39;49m\u001B[38;5;241;43m.\u001B[39;49m\u001B[43m_run_search\u001B[49m\u001B[43m(\u001B[49m\u001B[43mevaluate_candidates\u001B[49m\u001B[43m)\u001B[49m\n\u001B[0;32m    970\u001B[0m \u001B[38;5;66;03m# multimetric is determined here because in the case of a callable\u001B[39;00m\n\u001B[0;32m    971\u001B[0m \u001B[38;5;66;03m# self.scoring the return type is only known after calling\u001B[39;00m\n\u001B[0;32m    972\u001B[0m first_test_score \u001B[38;5;241m=\u001B[39m all_out[\u001B[38;5;241m0\u001B[39m][\u001B[38;5;124m\"\u001B[39m\u001B[38;5;124mtest_scores\u001B[39m\u001B[38;5;124m\"\u001B[39m]\n",
      "File \u001B[1;32m~\\PycharmProjects\\bankruptcy-prophet-new\\bankruptcy-prophet\\.venv\\Lib\\site-packages\\sklearn\\model_selection\\_search.py:1930\u001B[0m, in \u001B[0;36mRandomizedSearchCV._run_search\u001B[1;34m(self, evaluate_candidates)\u001B[0m\n\u001B[0;32m   1928\u001B[0m \u001B[38;5;28;01mdef\u001B[39;00m \u001B[38;5;21m_run_search\u001B[39m(\u001B[38;5;28mself\u001B[39m, evaluate_candidates):\n\u001B[0;32m   1929\u001B[0m \u001B[38;5;250m    \u001B[39m\u001B[38;5;124;03m\"\"\"Search n_iter candidates from param_distributions\"\"\"\u001B[39;00m\n\u001B[1;32m-> 1930\u001B[0m     \u001B[43mevaluate_candidates\u001B[49m\u001B[43m(\u001B[49m\n\u001B[0;32m   1931\u001B[0m \u001B[43m        \u001B[49m\u001B[43mParameterSampler\u001B[49m\u001B[43m(\u001B[49m\n\u001B[0;32m   1932\u001B[0m \u001B[43m            \u001B[49m\u001B[38;5;28;43mself\u001B[39;49m\u001B[38;5;241;43m.\u001B[39;49m\u001B[43mparam_distributions\u001B[49m\u001B[43m,\u001B[49m\u001B[43m \u001B[49m\u001B[38;5;28;43mself\u001B[39;49m\u001B[38;5;241;43m.\u001B[39;49m\u001B[43mn_iter\u001B[49m\u001B[43m,\u001B[49m\u001B[43m \u001B[49m\u001B[43mrandom_state\u001B[49m\u001B[38;5;241;43m=\u001B[39;49m\u001B[38;5;28;43mself\u001B[39;49m\u001B[38;5;241;43m.\u001B[39;49m\u001B[43mrandom_state\u001B[49m\n\u001B[0;32m   1933\u001B[0m \u001B[43m        \u001B[49m\u001B[43m)\u001B[49m\n\u001B[0;32m   1934\u001B[0m \u001B[43m    \u001B[49m\u001B[43m)\u001B[49m\n",
      "File \u001B[1;32m~\\PycharmProjects\\bankruptcy-prophet-new\\bankruptcy-prophet\\.venv\\Lib\\site-packages\\sklearn\\model_selection\\_search.py:914\u001B[0m, in \u001B[0;36mBaseSearchCV.fit.<locals>.evaluate_candidates\u001B[1;34m(candidate_params, cv, more_results)\u001B[0m\n\u001B[0;32m    906\u001B[0m \u001B[38;5;28;01mif\u001B[39;00m \u001B[38;5;28mself\u001B[39m\u001B[38;5;241m.\u001B[39mverbose \u001B[38;5;241m>\u001B[39m \u001B[38;5;241m0\u001B[39m:\n\u001B[0;32m    907\u001B[0m     \u001B[38;5;28mprint\u001B[39m(\n\u001B[0;32m    908\u001B[0m         \u001B[38;5;124m\"\u001B[39m\u001B[38;5;124mFitting \u001B[39m\u001B[38;5;132;01m{0}\u001B[39;00m\u001B[38;5;124m folds for each of \u001B[39m\u001B[38;5;132;01m{1}\u001B[39;00m\u001B[38;5;124m candidates,\u001B[39m\u001B[38;5;124m\"\u001B[39m\n\u001B[0;32m    909\u001B[0m         \u001B[38;5;124m\"\u001B[39m\u001B[38;5;124m totalling \u001B[39m\u001B[38;5;132;01m{2}\u001B[39;00m\u001B[38;5;124m fits\u001B[39m\u001B[38;5;124m\"\u001B[39m\u001B[38;5;241m.\u001B[39mformat(\n\u001B[0;32m    910\u001B[0m             n_splits, n_candidates, n_candidates \u001B[38;5;241m*\u001B[39m n_splits\n\u001B[0;32m    911\u001B[0m         )\n\u001B[0;32m    912\u001B[0m     )\n\u001B[1;32m--> 914\u001B[0m out \u001B[38;5;241m=\u001B[39m \u001B[43mparallel\u001B[49m\u001B[43m(\u001B[49m\n\u001B[0;32m    915\u001B[0m \u001B[43m    \u001B[49m\u001B[43mdelayed\u001B[49m\u001B[43m(\u001B[49m\u001B[43m_fit_and_score\u001B[49m\u001B[43m)\u001B[49m\u001B[43m(\u001B[49m\n\u001B[0;32m    916\u001B[0m \u001B[43m        \u001B[49m\u001B[43mclone\u001B[49m\u001B[43m(\u001B[49m\u001B[43mbase_estimator\u001B[49m\u001B[43m)\u001B[49m\u001B[43m,\u001B[49m\n\u001B[0;32m    917\u001B[0m \u001B[43m        \u001B[49m\u001B[43mX\u001B[49m\u001B[43m,\u001B[49m\n\u001B[0;32m    918\u001B[0m \u001B[43m        \u001B[49m\u001B[43my\u001B[49m\u001B[43m,\u001B[49m\n\u001B[0;32m    919\u001B[0m \u001B[43m        \u001B[49m\u001B[43mtrain\u001B[49m\u001B[38;5;241;43m=\u001B[39;49m\u001B[43mtrain\u001B[49m\u001B[43m,\u001B[49m\n\u001B[0;32m    920\u001B[0m \u001B[43m        \u001B[49m\u001B[43mtest\u001B[49m\u001B[38;5;241;43m=\u001B[39;49m\u001B[43mtest\u001B[49m\u001B[43m,\u001B[49m\n\u001B[0;32m    921\u001B[0m \u001B[43m        \u001B[49m\u001B[43mparameters\u001B[49m\u001B[38;5;241;43m=\u001B[39;49m\u001B[43mparameters\u001B[49m\u001B[43m,\u001B[49m\n\u001B[0;32m    922\u001B[0m \u001B[43m        \u001B[49m\u001B[43msplit_progress\u001B[49m\u001B[38;5;241;43m=\u001B[39;49m\u001B[43m(\u001B[49m\u001B[43msplit_idx\u001B[49m\u001B[43m,\u001B[49m\u001B[43m \u001B[49m\u001B[43mn_splits\u001B[49m\u001B[43m)\u001B[49m\u001B[43m,\u001B[49m\n\u001B[0;32m    923\u001B[0m \u001B[43m        \u001B[49m\u001B[43mcandidate_progress\u001B[49m\u001B[38;5;241;43m=\u001B[39;49m\u001B[43m(\u001B[49m\u001B[43mcand_idx\u001B[49m\u001B[43m,\u001B[49m\u001B[43m \u001B[49m\u001B[43mn_candidates\u001B[49m\u001B[43m)\u001B[49m\u001B[43m,\u001B[49m\n\u001B[0;32m    924\u001B[0m \u001B[43m        \u001B[49m\u001B[38;5;241;43m*\u001B[39;49m\u001B[38;5;241;43m*\u001B[39;49m\u001B[43mfit_and_score_kwargs\u001B[49m\u001B[43m,\u001B[49m\n\u001B[0;32m    925\u001B[0m \u001B[43m    \u001B[49m\u001B[43m)\u001B[49m\n\u001B[0;32m    926\u001B[0m \u001B[43m    \u001B[49m\u001B[38;5;28;43;01mfor\u001B[39;49;00m\u001B[43m \u001B[49m\u001B[43m(\u001B[49m\u001B[43mcand_idx\u001B[49m\u001B[43m,\u001B[49m\u001B[43m \u001B[49m\u001B[43mparameters\u001B[49m\u001B[43m)\u001B[49m\u001B[43m,\u001B[49m\u001B[43m \u001B[49m\u001B[43m(\u001B[49m\u001B[43msplit_idx\u001B[49m\u001B[43m,\u001B[49m\u001B[43m \u001B[49m\u001B[43m(\u001B[49m\u001B[43mtrain\u001B[49m\u001B[43m,\u001B[49m\u001B[43m \u001B[49m\u001B[43mtest\u001B[49m\u001B[43m)\u001B[49m\u001B[43m)\u001B[49m\u001B[43m \u001B[49m\u001B[38;5;129;43;01min\u001B[39;49;00m\u001B[43m \u001B[49m\u001B[43mproduct\u001B[49m\u001B[43m(\u001B[49m\n\u001B[0;32m    927\u001B[0m \u001B[43m        \u001B[49m\u001B[38;5;28;43menumerate\u001B[39;49m\u001B[43m(\u001B[49m\u001B[43mcandidate_params\u001B[49m\u001B[43m)\u001B[49m\u001B[43m,\u001B[49m\n\u001B[0;32m    928\u001B[0m \u001B[43m        \u001B[49m\u001B[38;5;28;43menumerate\u001B[39;49m\u001B[43m(\u001B[49m\u001B[43mcv\u001B[49m\u001B[38;5;241;43m.\u001B[39;49m\u001B[43msplit\u001B[49m\u001B[43m(\u001B[49m\u001B[43mX\u001B[49m\u001B[43m,\u001B[49m\u001B[43m \u001B[49m\u001B[43my\u001B[49m\u001B[43m,\u001B[49m\u001B[43m \u001B[49m\u001B[38;5;241;43m*\u001B[39;49m\u001B[38;5;241;43m*\u001B[39;49m\u001B[43mrouted_params\u001B[49m\u001B[38;5;241;43m.\u001B[39;49m\u001B[43msplitter\u001B[49m\u001B[38;5;241;43m.\u001B[39;49m\u001B[43msplit\u001B[49m\u001B[43m)\u001B[49m\u001B[43m)\u001B[49m\u001B[43m,\u001B[49m\n\u001B[0;32m    929\u001B[0m \u001B[43m    \u001B[49m\u001B[43m)\u001B[49m\n\u001B[0;32m    930\u001B[0m \u001B[43m\u001B[49m\u001B[43m)\u001B[49m\n\u001B[0;32m    932\u001B[0m \u001B[38;5;28;01mif\u001B[39;00m \u001B[38;5;28mlen\u001B[39m(out) \u001B[38;5;241m<\u001B[39m \u001B[38;5;241m1\u001B[39m:\n\u001B[0;32m    933\u001B[0m     \u001B[38;5;28;01mraise\u001B[39;00m \u001B[38;5;167;01mValueError\u001B[39;00m(\n\u001B[0;32m    934\u001B[0m         \u001B[38;5;124m\"\u001B[39m\u001B[38;5;124mNo fits were performed. \u001B[39m\u001B[38;5;124m\"\u001B[39m\n\u001B[0;32m    935\u001B[0m         \u001B[38;5;124m\"\u001B[39m\u001B[38;5;124mWas the CV iterator empty? \u001B[39m\u001B[38;5;124m\"\u001B[39m\n\u001B[0;32m    936\u001B[0m         \u001B[38;5;124m\"\u001B[39m\u001B[38;5;124mWere there no candidates?\u001B[39m\u001B[38;5;124m\"\u001B[39m\n\u001B[0;32m    937\u001B[0m     )\n",
      "File \u001B[1;32m~\\PycharmProjects\\bankruptcy-prophet-new\\bankruptcy-prophet\\.venv\\Lib\\site-packages\\sklearn\\utils\\parallel.py:67\u001B[0m, in \u001B[0;36mParallel.__call__\u001B[1;34m(self, iterable)\u001B[0m\n\u001B[0;32m     62\u001B[0m config \u001B[38;5;241m=\u001B[39m get_config()\n\u001B[0;32m     63\u001B[0m iterable_with_config \u001B[38;5;241m=\u001B[39m (\n\u001B[0;32m     64\u001B[0m     (_with_config(delayed_func, config), args, kwargs)\n\u001B[0;32m     65\u001B[0m     \u001B[38;5;28;01mfor\u001B[39;00m delayed_func, args, kwargs \u001B[38;5;129;01min\u001B[39;00m iterable\n\u001B[0;32m     66\u001B[0m )\n\u001B[1;32m---> 67\u001B[0m \u001B[38;5;28;01mreturn\u001B[39;00m \u001B[38;5;28;43msuper\u001B[39;49m\u001B[43m(\u001B[49m\u001B[43m)\u001B[49m\u001B[38;5;241;43m.\u001B[39;49m\u001B[38;5;21;43m__call__\u001B[39;49m\u001B[43m(\u001B[49m\u001B[43miterable_with_config\u001B[49m\u001B[43m)\u001B[49m\n",
      "File \u001B[1;32m~\\PycharmProjects\\bankruptcy-prophet-new\\bankruptcy-prophet\\.venv\\Lib\\site-packages\\joblib\\parallel.py:2007\u001B[0m, in \u001B[0;36mParallel.__call__\u001B[1;34m(self, iterable)\u001B[0m\n\u001B[0;32m   2001\u001B[0m \u001B[38;5;66;03m# The first item from the output is blank, but it makes the interpreter\u001B[39;00m\n\u001B[0;32m   2002\u001B[0m \u001B[38;5;66;03m# progress until it enters the Try/Except block of the generator and\u001B[39;00m\n\u001B[0;32m   2003\u001B[0m \u001B[38;5;66;03m# reaches the first `yield` statement. This starts the asynchronous\u001B[39;00m\n\u001B[0;32m   2004\u001B[0m \u001B[38;5;66;03m# dispatch of the tasks to the workers.\u001B[39;00m\n\u001B[0;32m   2005\u001B[0m \u001B[38;5;28mnext\u001B[39m(output)\n\u001B[1;32m-> 2007\u001B[0m \u001B[38;5;28;01mreturn\u001B[39;00m output \u001B[38;5;28;01mif\u001B[39;00m \u001B[38;5;28mself\u001B[39m\u001B[38;5;241m.\u001B[39mreturn_generator \u001B[38;5;28;01melse\u001B[39;00m \u001B[38;5;28;43mlist\u001B[39;49m\u001B[43m(\u001B[49m\u001B[43moutput\u001B[49m\u001B[43m)\u001B[49m\n",
      "File \u001B[1;32m~\\PycharmProjects\\bankruptcy-prophet-new\\bankruptcy-prophet\\.venv\\Lib\\site-packages\\joblib\\parallel.py:1650\u001B[0m, in \u001B[0;36mParallel._get_outputs\u001B[1;34m(self, iterator, pre_dispatch)\u001B[0m\n\u001B[0;32m   1647\u001B[0m     \u001B[38;5;28;01myield\u001B[39;00m\n\u001B[0;32m   1649\u001B[0m     \u001B[38;5;28;01mwith\u001B[39;00m \u001B[38;5;28mself\u001B[39m\u001B[38;5;241m.\u001B[39m_backend\u001B[38;5;241m.\u001B[39mretrieval_context():\n\u001B[1;32m-> 1650\u001B[0m         \u001B[38;5;28;01myield from\u001B[39;00m \u001B[38;5;28mself\u001B[39m\u001B[38;5;241m.\u001B[39m_retrieve()\n\u001B[0;32m   1652\u001B[0m \u001B[38;5;28;01mexcept\u001B[39;00m \u001B[38;5;167;01mGeneratorExit\u001B[39;00m:\n\u001B[0;32m   1653\u001B[0m     \u001B[38;5;66;03m# The generator has been garbage collected before being fully\u001B[39;00m\n\u001B[0;32m   1654\u001B[0m     \u001B[38;5;66;03m# consumed. This aborts the remaining tasks if possible and warn\u001B[39;00m\n\u001B[0;32m   1655\u001B[0m     \u001B[38;5;66;03m# the user if necessary.\u001B[39;00m\n\u001B[0;32m   1656\u001B[0m     \u001B[38;5;28mself\u001B[39m\u001B[38;5;241m.\u001B[39m_exception \u001B[38;5;241m=\u001B[39m \u001B[38;5;28;01mTrue\u001B[39;00m\n",
      "File \u001B[1;32m~\\PycharmProjects\\bankruptcy-prophet-new\\bankruptcy-prophet\\.venv\\Lib\\site-packages\\joblib\\parallel.py:1762\u001B[0m, in \u001B[0;36mParallel._retrieve\u001B[1;34m(self)\u001B[0m\n\u001B[0;32m   1757\u001B[0m \u001B[38;5;66;03m# If the next job is not ready for retrieval yet, we just wait for\u001B[39;00m\n\u001B[0;32m   1758\u001B[0m \u001B[38;5;66;03m# async callbacks to progress.\u001B[39;00m\n\u001B[0;32m   1759\u001B[0m \u001B[38;5;28;01mif\u001B[39;00m ((\u001B[38;5;28mlen\u001B[39m(\u001B[38;5;28mself\u001B[39m\u001B[38;5;241m.\u001B[39m_jobs) \u001B[38;5;241m==\u001B[39m \u001B[38;5;241m0\u001B[39m) \u001B[38;5;129;01mor\u001B[39;00m\n\u001B[0;32m   1760\u001B[0m     (\u001B[38;5;28mself\u001B[39m\u001B[38;5;241m.\u001B[39m_jobs[\u001B[38;5;241m0\u001B[39m]\u001B[38;5;241m.\u001B[39mget_status(\n\u001B[0;32m   1761\u001B[0m         timeout\u001B[38;5;241m=\u001B[39m\u001B[38;5;28mself\u001B[39m\u001B[38;5;241m.\u001B[39mtimeout) \u001B[38;5;241m==\u001B[39m TASK_PENDING)):\n\u001B[1;32m-> 1762\u001B[0m     \u001B[43mtime\u001B[49m\u001B[38;5;241;43m.\u001B[39;49m\u001B[43msleep\u001B[49m\u001B[43m(\u001B[49m\u001B[38;5;241;43m0.01\u001B[39;49m\u001B[43m)\u001B[49m\n\u001B[0;32m   1763\u001B[0m     \u001B[38;5;28;01mcontinue\u001B[39;00m\n\u001B[0;32m   1765\u001B[0m \u001B[38;5;66;03m# We need to be careful: the job list can be filling up as\u001B[39;00m\n\u001B[0;32m   1766\u001B[0m \u001B[38;5;66;03m# we empty it and Python list are not thread-safe by\u001B[39;00m\n\u001B[0;32m   1767\u001B[0m \u001B[38;5;66;03m# default hence the use of the lock\u001B[39;00m\n",
      "\u001B[1;31mKeyboardInterrupt\u001B[0m: "
     ]
    }
   ],
   "execution_count": 139
  },
  {
   "metadata": {},
   "cell_type": "markdown",
   "source": [
    "##### XGBClassifier results:\n",
    "\n",
    "Best parameters found: {'subsample': 0.8, 'reg_alpha': 0.1, 'n_estimators': 300, 'max_depth': 5, 'learning_rate': 0.02, 'gamma': 0.2}\n",
    "Test Accuracy: 0.9505041246562786\n",
    "Test Precision: 0.09433962264150944\n",
    "\n",
    "Best parameters found: {'subsample': 0.8, 'reg_alpha': 1, 'n_estimators': 100, 'max_depth': 10, 'learning_rate': 0.1, 'gamma': 0.2}\n",
    "Test Accuracy: 0.9908340971585701\n",
    "Test Precision: 1.0\n",
    "\n",
    "Best parameters found: {'splitter': 'best', 'min_samples_split': 2, 'min_samples_leaf': 1, 'max_depth': 10, 'criterion': 'entropy', 'class_weight': {True: 30, False: 1}}\n",
    "Test Accuracy: 0.9808259587020649\n",
    "Test Precision: 0.4166666666666667\n",
    "\n",
    "#### ExtraTreesClassifier results:\n",
    "\n",
    "Best parameters found: {'n_estimators': 50, 'min_samples_split': 5, 'min_samples_leaf': 1, 'max_depth': 10, 'criterion': 'entropy', 'class_weight': {True: 10, False: 1}}\n",
    "Test Accuracy: 0.29880843263061413\n",
    "Test Precision: 0.012919896640826873\n"
   ],
   "id": "326aeb336d806ad2"
  },
  {
   "metadata": {
    "ExecuteTime": {
     "end_time": "2024-09-20T14:06:44.642246Z",
     "start_time": "2024-09-20T14:06:38.807869Z"
    }
   },
   "cell_type": "code",
   "source": [
    "for i in tqdm(range(10)):\n",
    "    adaBoostClassifier = DecisionTreeClassifier(random_state=55+i)\n",
    "    \n",
    "    adaBoostClassifier.fit(X_train, y_train)\n",
    "    \n",
    "    y_pred = adaBoostClassifier.predict(X_test)\n",
    "    \n",
    "    precision = precision_score(y_test, y_pred)\n",
    "    if precision > 0.06:\n",
    "        print(f\"Test Precision: {precision}\")\n",
    "        print(f\"Test Accuracy: {accuracy_score(y_test, y_pred)}\")"
   ],
   "id": "f66aa07f18315459",
   "outputs": [
    {
     "name": "stderr",
     "output_type": "stream",
     "text": [
      "100%|██████████| 10/10 [00:05<00:00,  1.72it/s]\n"
     ]
    }
   ],
   "execution_count": 166
  },
  {
   "metadata": {
    "ExecuteTime": {
     "end_time": "2024-09-20T16:09:09.098700Z",
     "start_time": "2024-09-20T16:09:09.087497Z"
    }
   },
   "cell_type": "code",
   "source": [
    "from xgboost import XGBClassifier\n",
    "from sklearn.metrics import accuracy_score\n",
    "import numpy as np"
   ],
   "id": "1f45d5ef7111fcfc",
   "outputs": [],
   "execution_count": 15
  },
  {
   "metadata": {
    "ExecuteTime": {
     "end_time": "2024-09-20T12:29:24.716637Z",
     "start_time": "2024-09-20T12:28:56.230107Z"
    }
   },
   "cell_type": "code",
   "source": [
    "xgb_clf = XGBClassifier(objective='binary:logistic')\n",
    "\n",
    "# Define a hyperparameter grid\n",
    "param_grid = {\n",
    "    'n_estimators': [50, 100, 200],\n",
    "    'max_depth': [3, 6, 9],\n",
    "    'learning_rate': [0.01, 0.1, 0.3, 1],\n",
    "    'subsample': [0.7, 0.8, 1.0],\n",
    "    'colsample_bytree': [0.7, 1.0]\n",
    "}\n",
    "\n",
    "early_stopping_rounds = 10\n",
    "\n",
    "grid_search = RandomizedSearchCV(\n",
    "    estimator=xgb_clf, \n",
    "    param_distributions=param_grid,\n",
    "    n_iter=40,\n",
    "    scoring='accuracy',\n",
    "    cv=3,\n",
    "    n_jobs=1,\n",
    "    verbose=1,\n",
    "    random_state=42\n",
    ")\n",
    "\n",
    "grid_search.fit(X_train, y_train, \n",
    "                eval_set=[(X_val, y_val)],\n",
    "                verbose=False)\n",
    "\n",
    "print(\"Best hyperparameters:\", grid_search.best_params_)\n",
    "\n",
    "best_model = grid_search.best_estimator_\n",
    "y_pred = best_model.predict(X_test)\n",
    "test_accuracy = accuracy_score(y_test, y_pred)\n",
    "\n",
    "print(f\"Test Accuracy: {test_accuracy:.4f}\")\n",
    "print(f\"Test Precision: {precision_score(y_test, y_pred):.4f}\")\n"
   ],
   "id": "abe068882dc58ce0",
   "outputs": [
    {
     "name": "stdout",
     "output_type": "stream",
     "text": [
      "Fitting 3 folds for each of 40 candidates, totalling 120 fits\n",
      "Best hyperparameters: {'subsample': 0.8, 'n_estimators': 200, 'max_depth': 6, 'learning_rate': 1, 'colsample_bytree': 1.0}\n",
      "Test Accuracy: 0.9808\n",
      "Test Precision: 0.0000\n"
     ]
    }
   ],
   "execution_count": 122
  },
  {
   "metadata": {
    "ExecuteTime": {
     "end_time": "2024-09-20T12:26:00.486033Z",
     "start_time": "2024-09-20T12:26:00.474426Z"
    }
   },
   "cell_type": "code",
   "source": [
    "test_accuracy = accuracy_score(y_test, y_pred)\n",
    "test_precision = precision_score(y_test, y_pred)"
   ],
   "id": "9d7f5aef84cf79fd",
   "outputs": [
    {
     "name": "stderr",
     "output_type": "stream",
     "text": [
      "C:\\Users\\grzeg\\PycharmProjects\\bankruptcy-prophet-new\\bankruptcy-prophet\\.venv\\Lib\\site-packages\\sklearn\\metrics\\_classification.py:1517: UndefinedMetricWarning: Precision is ill-defined and being set to 0.0 due to no predicted samples. Use `zero_division` parameter to control this behavior.\n",
      "  _warn_prf(average, modifier, f\"{metric.capitalize()} is\", len(result))\n"
     ]
    }
   ],
   "execution_count": 121
  },
  {
   "metadata": {},
   "cell_type": "markdown",
   "source": "",
   "id": "8521837984fac776"
  },
  {
   "metadata": {},
   "cell_type": "markdown",
   "source": "#### Running XGBoost on original dataset",
   "id": "334c15559518c690"
  },
  {
   "metadata": {
    "ExecuteTime": {
     "end_time": "2024-09-20T19:41:47.490546Z",
     "start_time": "2024-09-20T19:41:45.711652Z"
    }
   },
   "cell_type": "code",
   "source": [
    "financial_dataset = pd.read_csv('numerical_dataset_version5_original.csv')\n",
    "\n",
    "flatten_df = flatten_financial_dataset(financial_dataset)\n",
    "\n",
    "financial_dataset_flatten_preprocessed = flatten_df.drop(['cik', 'ticker', 'Fiscal Period'], axis=1)\n",
    "X = financial_dataset_flatten_preprocessed.drop('label', axis=1)\n",
    "y = financial_dataset_flatten_preprocessed['label']"
   ],
   "id": "34a69d42a4c62571",
   "outputs": [],
   "execution_count": 132
  },
  {
   "metadata": {
    "ExecuteTime": {
     "end_time": "2024-09-20T19:41:48.217612Z",
     "start_time": "2024-09-20T19:41:48.192390Z"
    }
   },
   "cell_type": "code",
   "source": [
    "X_train, y_train, X_val, y_val, X_test, y_test = get_train_val_test_split(X, y)\n",
    "\n",
    "len(X_train), len(X_val), len(X_test)"
   ],
   "id": "d8a04aa39815408",
   "outputs": [
    {
     "data": {
      "text/plain": [
       "(3563, 225, 678)"
      ]
     },
     "execution_count": 133,
     "metadata": {},
     "output_type": "execute_result"
    }
   ],
   "execution_count": 133
  },
  {
   "metadata": {
    "ExecuteTime": {
     "end_time": "2024-09-20T12:30:11.336229Z",
     "start_time": "2024-09-20T12:30:11.325747Z"
    }
   },
   "cell_type": "code",
   "source": [
    "# from sklearn import preprocessing\n",
    "# \n",
    "# scaler = preprocessing.StandardScaler().fit(X_train)\n",
    "# \n",
    "# X_train = scaler.transform(X_train)\n",
    "# X_val = scaler.transform(X_val)\n",
    "# X_test = scaler.transform(X_test)"
   ],
   "id": "674ff5e42966dfa4",
   "outputs": [],
   "execution_count": 125
  },
  {
   "metadata": {
    "ExecuteTime": {
     "end_time": "2024-09-20T06:01:50.637466Z",
     "start_time": "2024-09-20T06:01:50.617745Z"
    }
   },
   "cell_type": "code",
   "source": [
    "from sklearn.model_selection import PredefinedSplit\n",
    "\n",
    "split_index = [-1] * len(X_train) + [0] * len(X_val)\n",
    "X_train_val = np.concatenate([X_train, X_val])\n",
    "y_train_val = np.concatenate([y_train, y_val])\n",
    "ps = PredefinedSplit(test_fold=split_index)"
   ],
   "id": "6ed17e32e1804ceb",
   "outputs": [],
   "execution_count": 84
  },
  {
   "metadata": {
    "ExecuteTime": {
     "end_time": "2024-09-20T05:44:42.145508Z",
     "start_time": "2024-09-20T05:44:41.948895Z"
    }
   },
   "cell_type": "code",
   "source": [
    "random_state = 42\n",
    "for i in tqdm(range(5)):\n",
    "    random_search = RandomizedSearchCV(\n",
    "        estimator=xgb, \n",
    "        param_distributions=param_dist_XGBClassifier,\n",
    "        n_iter=100,\n",
    "        scoring='precision',\n",
    "        n_jobs=-1,\n",
    "        cv=ps,\n",
    "        random_state=random_state+i\n",
    "    )\n",
    "    \n",
    "    random_search.fit(X_train_val, y_train_val)\n",
    "    \n",
    "    print(f\"Best parameters found: {random_search.best_params_}\")\n",
    "    \n",
    "    best_xgb = random_search.best_estimator_\n",
    "    \n",
    "    y_pred = best_xgb.predict(X_test)\n",
    "    accuracy = accuracy_score(y_test, y_pred)\n",
    "    precision = precision_score(y_test, y_pred)\n",
    "    \n",
    "    print(f\"Test Accuracy: {accuracy}\")\n",
    "    print(f\"Test Precision: {precision}\")"
   ],
   "id": "8e84904c87694f1d",
   "outputs": [
    {
     "name": "stderr",
     "output_type": "stream",
     "text": [
      "  0%|          | 0/5 [00:00<?, ?it/s]\n"
     ]
    },
    {
     "ename": "NameError",
     "evalue": "name 'RandomizedSearchCV' is not defined",
     "output_type": "error",
     "traceback": [
      "\u001B[1;31m---------------------------------------------------------------------------\u001B[0m",
      "\u001B[1;31mNameError\u001B[0m                                 Traceback (most recent call last)",
      "Cell \u001B[1;32mIn[43], line 3\u001B[0m\n\u001B[0;32m      1\u001B[0m random_state \u001B[38;5;241m=\u001B[39m \u001B[38;5;241m42\u001B[39m\n\u001B[0;32m      2\u001B[0m \u001B[38;5;28;01mfor\u001B[39;00m i \u001B[38;5;129;01min\u001B[39;00m tqdm(\u001B[38;5;28mrange\u001B[39m(\u001B[38;5;241m5\u001B[39m)):\n\u001B[1;32m----> 3\u001B[0m     random_search \u001B[38;5;241m=\u001B[39m \u001B[43mRandomizedSearchCV\u001B[49m(\n\u001B[0;32m      4\u001B[0m         estimator\u001B[38;5;241m=\u001B[39mxgb, \n\u001B[0;32m      5\u001B[0m         param_distributions\u001B[38;5;241m=\u001B[39mparam_dist_XGBClassifier,\n\u001B[0;32m      6\u001B[0m         n_iter\u001B[38;5;241m=\u001B[39m\u001B[38;5;241m100\u001B[39m,\n\u001B[0;32m      7\u001B[0m         scoring\u001B[38;5;241m=\u001B[39m\u001B[38;5;124m'\u001B[39m\u001B[38;5;124mprecision\u001B[39m\u001B[38;5;124m'\u001B[39m,\n\u001B[0;32m      8\u001B[0m         n_jobs\u001B[38;5;241m=\u001B[39m\u001B[38;5;241m-\u001B[39m\u001B[38;5;241m1\u001B[39m,\n\u001B[0;32m      9\u001B[0m         cv\u001B[38;5;241m=\u001B[39mps,\n\u001B[0;32m     10\u001B[0m         random_state\u001B[38;5;241m=\u001B[39mrandom_state\u001B[38;5;241m+\u001B[39mi\n\u001B[0;32m     11\u001B[0m     )\n\u001B[0;32m     13\u001B[0m     random_search\u001B[38;5;241m.\u001B[39mfit(X_train_val, y_train_val)\n\u001B[0;32m     15\u001B[0m     \u001B[38;5;28mprint\u001B[39m(\u001B[38;5;124mf\u001B[39m\u001B[38;5;124m\"\u001B[39m\u001B[38;5;124mBest parameters found: \u001B[39m\u001B[38;5;132;01m{\u001B[39;00mrandom_search\u001B[38;5;241m.\u001B[39mbest_params_\u001B[38;5;132;01m}\u001B[39;00m\u001B[38;5;124m\"\u001B[39m)\n",
      "\u001B[1;31mNameError\u001B[0m: name 'RandomizedSearchCV' is not defined"
     ]
    }
   ],
   "execution_count": 43
  },
  {
   "metadata": {},
   "cell_type": "markdown",
   "source": [
    "Best parameters found: {'subsample': 0.6, 'reg_alpha': 1, 'n_estimators': 300, 'max_depth': 10, 'learning_rate': 0.06, 'gamma': 0.3}\n",
    "Test Accuracy: 0.9908340971585701\n",
    "Test Precision: 1.0"
   ],
   "id": "327c3f0d7ee5ef4a"
  },
  {
   "metadata": {
    "ExecuteTime": {
     "end_time": "2024-09-20T19:58:23.749753Z",
     "start_time": "2024-09-20T19:58:22.834314Z"
    }
   },
   "cell_type": "code",
   "source": [
    "from xgboost import XGBClassifier\n",
    "from sklearn.metrics import accuracy_score, precision_score, recall_score\n",
    "\n",
    "accuracies = []\n",
    "precisions = []\n",
    "recalls = []\n",
    "\n",
    "for i in tqdm(range(5)):\n",
    "    \n",
    "    model_numerical = AdaBoostClassifier(random_state=random_state+i,\n",
    "                                        n_estimators=100,\n",
    "                                        learning_rate=1)\n",
    "    \n",
    "    decisionTreeClassifier = DecisionTreeClassifier(random_state=random_state+i,\n",
    "                                                    min_samples_split=2,\n",
    "                                                    min_samples_leaf=1,\n",
    "                                                    max_depth=10,\n",
    "                                                    criterion='entropy',\n",
    "                                                    class_weight={True: 30, False: 1})\n",
    "    # model_numerical = XGBClassifier(\n",
    "    #     random_state=random_state+i,\n",
    "    #     subsample=0.7,\n",
    "    #     n_estimators=100,\n",
    "    #     max_depth=10,\n",
    "    #     learning_rate=0.1,\n",
    "    #     gamma=0.1,\n",
    "    #     reg_alpha=0.01,\n",
    "    #     scale_pos_weight=30\n",
    "    # )\n",
    "    \n",
    "    decisionTreeClassifier.fit(X_train, y_train)\n",
    "    \n",
    "    y_pred = decisionTreeClassifier.predict(X_test)\n",
    "    \n",
    "    accuracy = accuracy_score(y_test, y_pred)\n",
    "    precision = precision_score(y_test, y_pred)\n",
    "    recall = recall_score(y_test, y_pred)\n",
    "    \n",
    "    accuracies.append(accuracy)\n",
    "    precisions.append(precision)\n",
    "    recalls.append(recall)\n",
    "    \n",
    "print(f\"Mean Accuracy: {np.mean(accuracies)}\")\n",
    "print(f\"Mean Precision: {np.mean(precisions)}\")\n",
    "print(f\"Mean Recall: {np.mean(recalls)}\")\n",
    "\n",
    "    # print(f\"Test Accuracy: {accuracy_score(y_test, y_pred)}\")\n",
    "    # print(f\"Test Precision: {precision_score(y_test, y_pred)}\")\n",
    "    # print(f\"Test Recall: {recall_score(y_test, y_pred)}\")"
   ],
   "id": "cf26a526887dc55d",
   "outputs": [
    {
     "name": "stderr",
     "output_type": "stream",
     "text": [
      "100%|██████████| 5/5 [00:00<00:00,  5.62it/s]"
     ]
    },
    {
     "name": "stdout",
     "output_type": "stream",
     "text": [
      "Mean Accuracy: 0.9778761061946903\n",
      "Mean Precision: 0.3468864468864469\n",
      "Mean Recall: 0.4\n"
     ]
    },
    {
     "name": "stderr",
     "output_type": "stream",
     "text": [
      "\n"
     ]
    }
   ],
   "execution_count": 141
  },
  {
   "metadata": {},
   "cell_type": "markdown",
   "source": [
    "Test Accuracy: 0.9852507374631269\n",
    "Test Precision: 1.0"
   ],
   "id": "2c632e6db84b181a"
  },
  {
   "metadata": {},
   "cell_type": "markdown",
   "source": "### KNeighborsClassifier",
   "id": "797a3ba2b091f941"
  },
  {
   "metadata": {
    "ExecuteTime": {
     "end_time": "2024-09-22T20:48:35.224935Z",
     "start_time": "2024-09-22T20:48:35.145618Z"
    }
   },
   "cell_type": "code",
   "source": [
    "from sklearn.neighbors import KNeighborsClassifier\n",
    "from sklearn.metrics import accuracy_score, precision_score\n",
    "\n",
    "kNeighborsClassifier = KNeighborsClassifier(weights='uniform', p=2, n_neighbors=7, leaf_size=10, algorithm='brute')\n",
    "\n",
    "kNeighborsClassifier.fit(X_train, y_train)\n",
    "\n",
    "y_pred = kNeighborsClassifier.predict(X_test)\n",
    "\n",
    "accuracy = accuracy_score(y_test, y_pred)\n",
    "precision = precision_score(y_test, y_pred)\n",
    "\n",
    "print(f\"Test Accuracy: {accuracy}\")\n",
    "print(f\"Test Precision: {precision}\")"
   ],
   "id": "9c7425222752dbf0",
   "outputs": [
    {
     "name": "stdout",
     "output_type": "stream",
     "text": [
      "Test Accuracy: 0.8835930339138405\n",
      "Test Precision: 0.03968253968253968\n"
     ]
    }
   ],
   "execution_count": 25
  },
  {
   "metadata": {},
   "cell_type": "markdown",
   "source": "#### Choosing best models among LogisticRegression and SVC",
   "id": "b1d42e45e1617470"
  },
  {
   "metadata": {},
   "cell_type": "markdown",
   "source": "#### LogisticRegression",
   "id": "2c4d1742b528175a"
  },
  {
   "metadata": {
    "ExecuteTime": {
     "end_time": "2024-09-20T16:10:25.097006Z",
     "start_time": "2024-09-20T16:10:25.082822Z"
    }
   },
   "cell_type": "code",
   "source": [
    "from sklearn.model_selection import RandomizedSearchCV, PredefinedSplit\n",
    "from sklearn.linear_model import LogisticRegression\n",
    "import numpy as np\n",
    "from tqdm import tqdm\n",
    "\n",
    "model = LogisticRegression(random_state=random_state, penalty='l2')\n",
    "\n",
    "param_distributions = {\n",
    "    'tol': [1e-5, 1e-4, 1e-3, 1e-2],\n",
    "    'C': np.logspace(-2, 3, 20),\n",
    "    'max_iter': [50, 100, 200, 400, 600, 800],\n",
    "    'solver': ['newton-cholesky', 'lbfgs', 'liblinear'],\n",
    "    'class_weight': [{True: 50, False: 1},{True: 30, False: 1}, {True: 10, False: 1}, {True: 2, False: 1}]\n",
    "}"
   ],
   "id": "804064234b835df5",
   "outputs": [],
   "execution_count": 19
  },
  {
   "metadata": {
    "ExecuteTime": {
     "end_time": "2024-09-20T16:15:20.956784300Z",
     "start_time": "2024-09-20T16:11:54.427249Z"
    }
   },
   "cell_type": "code",
   "source": [
    "for i in tqdm(range(10)):\n",
    "    grid = RandomizedSearchCV(estimator=model, param_distributions=param_distributions,  scoring='precision', n_iter=40, random_state=random_state+1, n_jobs=-1)\n",
    "    \n",
    "    grid_result = grid.fit(X_train, y_train)\n",
    "    \n",
    "    print(\"Best: %f using %s\" % (grid_result.best_score_, grid_result.best_params_))\n",
    "    \n",
    "    preds = grid_result.predict(X_test)\n",
    "    print(f\"Accuracy: {accuracy_score(y_test, preds)}\")\n",
    "    print(f\"Precision: {precision_score(y_test, preds)}\")"
   ],
   "id": "178d2073d4d7b8cd",
   "outputs": [
    {
     "name": "stderr",
     "output_type": "stream",
     "text": [
      " 10%|█         | 1/10 [00:44<06:44, 44.98s/it]"
     ]
    },
    {
     "name": "stdout",
     "output_type": "stream",
     "text": [
      "Best: 0.132712 using {'tol': 0.001, 'solver': 'liblinear', 'max_iter': 600, 'class_weight': {True: 10, False: 1}, 'C': 162.3776739188721}\n",
      "Accuracy: 0.9660766961651918\n",
      "Precision: 0.2\n"
     ]
    },
    {
     "name": "stderr",
     "output_type": "stream",
     "text": [
      " 20%|██        | 2/10 [01:23<05:29, 41.23s/it]"
     ]
    },
    {
     "name": "stdout",
     "output_type": "stream",
     "text": [
      "Best: 0.132712 using {'tol': 0.001, 'solver': 'liblinear', 'max_iter': 600, 'class_weight': {True: 10, False: 1}, 'C': 162.3776739188721}\n",
      "Accuracy: 0.9660766961651918\n",
      "Precision: 0.2\n"
     ]
    },
    {
     "name": "stderr",
     "output_type": "stream",
     "text": [
      " 30%|███       | 3/10 [02:04<04:46, 40.98s/it]"
     ]
    },
    {
     "name": "stdout",
     "output_type": "stream",
     "text": [
      "Best: 0.132712 using {'tol': 0.001, 'solver': 'liblinear', 'max_iter': 600, 'class_weight': {True: 10, False: 1}, 'C': 162.3776739188721}\n",
      "Accuracy: 0.9660766961651918\n",
      "Precision: 0.2\n"
     ]
    },
    {
     "name": "stderr",
     "output_type": "stream",
     "text": [
      " 40%|████      | 4/10 [02:41<03:57, 39.63s/it]"
     ]
    },
    {
     "name": "stdout",
     "output_type": "stream",
     "text": [
      "Best: 0.132712 using {'tol': 0.001, 'solver': 'liblinear', 'max_iter': 600, 'class_weight': {True: 10, False: 1}, 'C': 162.3776739188721}\n",
      "Accuracy: 0.9660766961651918\n",
      "Precision: 0.2\n"
     ]
    },
    {
     "name": "stderr",
     "output_type": "stream",
     "text": [
      " 50%|█████     | 5/10 [03:22<03:20, 40.05s/it]"
     ]
    },
    {
     "name": "stdout",
     "output_type": "stream",
     "text": [
      "Best: 0.132712 using {'tol': 0.001, 'solver': 'liblinear', 'max_iter': 600, 'class_weight': {True: 10, False: 1}, 'C': 162.3776739188721}\n",
      "Accuracy: 0.9660766961651918\n",
      "Precision: 0.2\n"
     ]
    },
    {
     "name": "stderr",
     "output_type": "stream",
     "text": [
      " 50%|█████     | 5/10 [03:26<03:26, 41.38s/it]\n"
     ]
    },
    {
     "ename": "KeyboardInterrupt",
     "evalue": "",
     "output_type": "error",
     "traceback": [
      "\u001B[1;31m---------------------------------------------------------------------------\u001B[0m",
      "\u001B[1;31mKeyboardInterrupt\u001B[0m                         Traceback (most recent call last)",
      "Cell \u001B[1;32mIn[21], line 4\u001B[0m\n\u001B[0;32m      1\u001B[0m \u001B[38;5;28;01mfor\u001B[39;00m i \u001B[38;5;129;01min\u001B[39;00m tqdm(\u001B[38;5;28mrange\u001B[39m(\u001B[38;5;241m10\u001B[39m)):\n\u001B[0;32m      2\u001B[0m     grid \u001B[38;5;241m=\u001B[39m RandomizedSearchCV(estimator\u001B[38;5;241m=\u001B[39mmodel, param_distributions\u001B[38;5;241m=\u001B[39mparam_distributions,  scoring\u001B[38;5;241m=\u001B[39m\u001B[38;5;124m'\u001B[39m\u001B[38;5;124mprecision\u001B[39m\u001B[38;5;124m'\u001B[39m, n_iter\u001B[38;5;241m=\u001B[39m\u001B[38;5;241m40\u001B[39m, random_state\u001B[38;5;241m=\u001B[39mrandom_state\u001B[38;5;241m+\u001B[39m\u001B[38;5;241m1\u001B[39m, n_jobs\u001B[38;5;241m=\u001B[39m\u001B[38;5;241m-\u001B[39m\u001B[38;5;241m1\u001B[39m)\n\u001B[1;32m----> 4\u001B[0m     grid_result \u001B[38;5;241m=\u001B[39m \u001B[43mgrid\u001B[49m\u001B[38;5;241;43m.\u001B[39;49m\u001B[43mfit\u001B[49m\u001B[43m(\u001B[49m\u001B[43mX_train\u001B[49m\u001B[43m,\u001B[49m\u001B[43m \u001B[49m\u001B[43my_train\u001B[49m\u001B[43m)\u001B[49m\n\u001B[0;32m      6\u001B[0m     \u001B[38;5;28mprint\u001B[39m(\u001B[38;5;124m\"\u001B[39m\u001B[38;5;124mBest: \u001B[39m\u001B[38;5;132;01m%f\u001B[39;00m\u001B[38;5;124m using \u001B[39m\u001B[38;5;132;01m%s\u001B[39;00m\u001B[38;5;124m\"\u001B[39m \u001B[38;5;241m%\u001B[39m (grid_result\u001B[38;5;241m.\u001B[39mbest_score_, grid_result\u001B[38;5;241m.\u001B[39mbest_params_))\n\u001B[0;32m      8\u001B[0m     preds \u001B[38;5;241m=\u001B[39m grid_result\u001B[38;5;241m.\u001B[39mpredict(X_test)\n",
      "File \u001B[1;32m~\\PycharmProjects\\bankruptcy-prophet-new\\bankruptcy-prophet\\.venv\\Lib\\site-packages\\sklearn\\base.py:1473\u001B[0m, in \u001B[0;36m_fit_context.<locals>.decorator.<locals>.wrapper\u001B[1;34m(estimator, *args, **kwargs)\u001B[0m\n\u001B[0;32m   1466\u001B[0m     estimator\u001B[38;5;241m.\u001B[39m_validate_params()\n\u001B[0;32m   1468\u001B[0m \u001B[38;5;28;01mwith\u001B[39;00m config_context(\n\u001B[0;32m   1469\u001B[0m     skip_parameter_validation\u001B[38;5;241m=\u001B[39m(\n\u001B[0;32m   1470\u001B[0m         prefer_skip_nested_validation \u001B[38;5;129;01mor\u001B[39;00m global_skip_validation\n\u001B[0;32m   1471\u001B[0m     )\n\u001B[0;32m   1472\u001B[0m ):\n\u001B[1;32m-> 1473\u001B[0m     \u001B[38;5;28;01mreturn\u001B[39;00m \u001B[43mfit_method\u001B[49m\u001B[43m(\u001B[49m\u001B[43mestimator\u001B[49m\u001B[43m,\u001B[49m\u001B[43m \u001B[49m\u001B[38;5;241;43m*\u001B[39;49m\u001B[43margs\u001B[49m\u001B[43m,\u001B[49m\u001B[43m \u001B[49m\u001B[38;5;241;43m*\u001B[39;49m\u001B[38;5;241;43m*\u001B[39;49m\u001B[43mkwargs\u001B[49m\u001B[43m)\u001B[49m\n",
      "File \u001B[1;32m~\\PycharmProjects\\bankruptcy-prophet-new\\bankruptcy-prophet\\.venv\\Lib\\site-packages\\sklearn\\model_selection\\_search.py:968\u001B[0m, in \u001B[0;36mBaseSearchCV.fit\u001B[1;34m(self, X, y, **params)\u001B[0m\n\u001B[0;32m    962\u001B[0m     results \u001B[38;5;241m=\u001B[39m \u001B[38;5;28mself\u001B[39m\u001B[38;5;241m.\u001B[39m_format_results(\n\u001B[0;32m    963\u001B[0m         all_candidate_params, n_splits, all_out, all_more_results\n\u001B[0;32m    964\u001B[0m     )\n\u001B[0;32m    966\u001B[0m     \u001B[38;5;28;01mreturn\u001B[39;00m results\n\u001B[1;32m--> 968\u001B[0m \u001B[38;5;28;43mself\u001B[39;49m\u001B[38;5;241;43m.\u001B[39;49m\u001B[43m_run_search\u001B[49m\u001B[43m(\u001B[49m\u001B[43mevaluate_candidates\u001B[49m\u001B[43m)\u001B[49m\n\u001B[0;32m    970\u001B[0m \u001B[38;5;66;03m# multimetric is determined here because in the case of a callable\u001B[39;00m\n\u001B[0;32m    971\u001B[0m \u001B[38;5;66;03m# self.scoring the return type is only known after calling\u001B[39;00m\n\u001B[0;32m    972\u001B[0m first_test_score \u001B[38;5;241m=\u001B[39m all_out[\u001B[38;5;241m0\u001B[39m][\u001B[38;5;124m\"\u001B[39m\u001B[38;5;124mtest_scores\u001B[39m\u001B[38;5;124m\"\u001B[39m]\n",
      "File \u001B[1;32m~\\PycharmProjects\\bankruptcy-prophet-new\\bankruptcy-prophet\\.venv\\Lib\\site-packages\\sklearn\\model_selection\\_search.py:1930\u001B[0m, in \u001B[0;36mRandomizedSearchCV._run_search\u001B[1;34m(self, evaluate_candidates)\u001B[0m\n\u001B[0;32m   1928\u001B[0m \u001B[38;5;28;01mdef\u001B[39;00m \u001B[38;5;21m_run_search\u001B[39m(\u001B[38;5;28mself\u001B[39m, evaluate_candidates):\n\u001B[0;32m   1929\u001B[0m \u001B[38;5;250m    \u001B[39m\u001B[38;5;124;03m\"\"\"Search n_iter candidates from param_distributions\"\"\"\u001B[39;00m\n\u001B[1;32m-> 1930\u001B[0m     \u001B[43mevaluate_candidates\u001B[49m\u001B[43m(\u001B[49m\n\u001B[0;32m   1931\u001B[0m \u001B[43m        \u001B[49m\u001B[43mParameterSampler\u001B[49m\u001B[43m(\u001B[49m\n\u001B[0;32m   1932\u001B[0m \u001B[43m            \u001B[49m\u001B[38;5;28;43mself\u001B[39;49m\u001B[38;5;241;43m.\u001B[39;49m\u001B[43mparam_distributions\u001B[49m\u001B[43m,\u001B[49m\u001B[43m \u001B[49m\u001B[38;5;28;43mself\u001B[39;49m\u001B[38;5;241;43m.\u001B[39;49m\u001B[43mn_iter\u001B[49m\u001B[43m,\u001B[49m\u001B[43m \u001B[49m\u001B[43mrandom_state\u001B[49m\u001B[38;5;241;43m=\u001B[39;49m\u001B[38;5;28;43mself\u001B[39;49m\u001B[38;5;241;43m.\u001B[39;49m\u001B[43mrandom_state\u001B[49m\n\u001B[0;32m   1933\u001B[0m \u001B[43m        \u001B[49m\u001B[43m)\u001B[49m\n\u001B[0;32m   1934\u001B[0m \u001B[43m    \u001B[49m\u001B[43m)\u001B[49m\n",
      "File \u001B[1;32m~\\PycharmProjects\\bankruptcy-prophet-new\\bankruptcy-prophet\\.venv\\Lib\\site-packages\\sklearn\\model_selection\\_search.py:914\u001B[0m, in \u001B[0;36mBaseSearchCV.fit.<locals>.evaluate_candidates\u001B[1;34m(candidate_params, cv, more_results)\u001B[0m\n\u001B[0;32m    906\u001B[0m \u001B[38;5;28;01mif\u001B[39;00m \u001B[38;5;28mself\u001B[39m\u001B[38;5;241m.\u001B[39mverbose \u001B[38;5;241m>\u001B[39m \u001B[38;5;241m0\u001B[39m:\n\u001B[0;32m    907\u001B[0m     \u001B[38;5;28mprint\u001B[39m(\n\u001B[0;32m    908\u001B[0m         \u001B[38;5;124m\"\u001B[39m\u001B[38;5;124mFitting \u001B[39m\u001B[38;5;132;01m{0}\u001B[39;00m\u001B[38;5;124m folds for each of \u001B[39m\u001B[38;5;132;01m{1}\u001B[39;00m\u001B[38;5;124m candidates,\u001B[39m\u001B[38;5;124m\"\u001B[39m\n\u001B[0;32m    909\u001B[0m         \u001B[38;5;124m\"\u001B[39m\u001B[38;5;124m totalling \u001B[39m\u001B[38;5;132;01m{2}\u001B[39;00m\u001B[38;5;124m fits\u001B[39m\u001B[38;5;124m\"\u001B[39m\u001B[38;5;241m.\u001B[39mformat(\n\u001B[0;32m    910\u001B[0m             n_splits, n_candidates, n_candidates \u001B[38;5;241m*\u001B[39m n_splits\n\u001B[0;32m    911\u001B[0m         )\n\u001B[0;32m    912\u001B[0m     )\n\u001B[1;32m--> 914\u001B[0m out \u001B[38;5;241m=\u001B[39m \u001B[43mparallel\u001B[49m\u001B[43m(\u001B[49m\n\u001B[0;32m    915\u001B[0m \u001B[43m    \u001B[49m\u001B[43mdelayed\u001B[49m\u001B[43m(\u001B[49m\u001B[43m_fit_and_score\u001B[49m\u001B[43m)\u001B[49m\u001B[43m(\u001B[49m\n\u001B[0;32m    916\u001B[0m \u001B[43m        \u001B[49m\u001B[43mclone\u001B[49m\u001B[43m(\u001B[49m\u001B[43mbase_estimator\u001B[49m\u001B[43m)\u001B[49m\u001B[43m,\u001B[49m\n\u001B[0;32m    917\u001B[0m \u001B[43m        \u001B[49m\u001B[43mX\u001B[49m\u001B[43m,\u001B[49m\n\u001B[0;32m    918\u001B[0m \u001B[43m        \u001B[49m\u001B[43my\u001B[49m\u001B[43m,\u001B[49m\n\u001B[0;32m    919\u001B[0m \u001B[43m        \u001B[49m\u001B[43mtrain\u001B[49m\u001B[38;5;241;43m=\u001B[39;49m\u001B[43mtrain\u001B[49m\u001B[43m,\u001B[49m\n\u001B[0;32m    920\u001B[0m \u001B[43m        \u001B[49m\u001B[43mtest\u001B[49m\u001B[38;5;241;43m=\u001B[39;49m\u001B[43mtest\u001B[49m\u001B[43m,\u001B[49m\n\u001B[0;32m    921\u001B[0m \u001B[43m        \u001B[49m\u001B[43mparameters\u001B[49m\u001B[38;5;241;43m=\u001B[39;49m\u001B[43mparameters\u001B[49m\u001B[43m,\u001B[49m\n\u001B[0;32m    922\u001B[0m \u001B[43m        \u001B[49m\u001B[43msplit_progress\u001B[49m\u001B[38;5;241;43m=\u001B[39;49m\u001B[43m(\u001B[49m\u001B[43msplit_idx\u001B[49m\u001B[43m,\u001B[49m\u001B[43m \u001B[49m\u001B[43mn_splits\u001B[49m\u001B[43m)\u001B[49m\u001B[43m,\u001B[49m\n\u001B[0;32m    923\u001B[0m \u001B[43m        \u001B[49m\u001B[43mcandidate_progress\u001B[49m\u001B[38;5;241;43m=\u001B[39;49m\u001B[43m(\u001B[49m\u001B[43mcand_idx\u001B[49m\u001B[43m,\u001B[49m\u001B[43m \u001B[49m\u001B[43mn_candidates\u001B[49m\u001B[43m)\u001B[49m\u001B[43m,\u001B[49m\n\u001B[0;32m    924\u001B[0m \u001B[43m        \u001B[49m\u001B[38;5;241;43m*\u001B[39;49m\u001B[38;5;241;43m*\u001B[39;49m\u001B[43mfit_and_score_kwargs\u001B[49m\u001B[43m,\u001B[49m\n\u001B[0;32m    925\u001B[0m \u001B[43m    \u001B[49m\u001B[43m)\u001B[49m\n\u001B[0;32m    926\u001B[0m \u001B[43m    \u001B[49m\u001B[38;5;28;43;01mfor\u001B[39;49;00m\u001B[43m \u001B[49m\u001B[43m(\u001B[49m\u001B[43mcand_idx\u001B[49m\u001B[43m,\u001B[49m\u001B[43m \u001B[49m\u001B[43mparameters\u001B[49m\u001B[43m)\u001B[49m\u001B[43m,\u001B[49m\u001B[43m \u001B[49m\u001B[43m(\u001B[49m\u001B[43msplit_idx\u001B[49m\u001B[43m,\u001B[49m\u001B[43m \u001B[49m\u001B[43m(\u001B[49m\u001B[43mtrain\u001B[49m\u001B[43m,\u001B[49m\u001B[43m \u001B[49m\u001B[43mtest\u001B[49m\u001B[43m)\u001B[49m\u001B[43m)\u001B[49m\u001B[43m \u001B[49m\u001B[38;5;129;43;01min\u001B[39;49;00m\u001B[43m \u001B[49m\u001B[43mproduct\u001B[49m\u001B[43m(\u001B[49m\n\u001B[0;32m    927\u001B[0m \u001B[43m        \u001B[49m\u001B[38;5;28;43menumerate\u001B[39;49m\u001B[43m(\u001B[49m\u001B[43mcandidate_params\u001B[49m\u001B[43m)\u001B[49m\u001B[43m,\u001B[49m\n\u001B[0;32m    928\u001B[0m \u001B[43m        \u001B[49m\u001B[38;5;28;43menumerate\u001B[39;49m\u001B[43m(\u001B[49m\u001B[43mcv\u001B[49m\u001B[38;5;241;43m.\u001B[39;49m\u001B[43msplit\u001B[49m\u001B[43m(\u001B[49m\u001B[43mX\u001B[49m\u001B[43m,\u001B[49m\u001B[43m \u001B[49m\u001B[43my\u001B[49m\u001B[43m,\u001B[49m\u001B[43m \u001B[49m\u001B[38;5;241;43m*\u001B[39;49m\u001B[38;5;241;43m*\u001B[39;49m\u001B[43mrouted_params\u001B[49m\u001B[38;5;241;43m.\u001B[39;49m\u001B[43msplitter\u001B[49m\u001B[38;5;241;43m.\u001B[39;49m\u001B[43msplit\u001B[49m\u001B[43m)\u001B[49m\u001B[43m)\u001B[49m\u001B[43m,\u001B[49m\n\u001B[0;32m    929\u001B[0m \u001B[43m    \u001B[49m\u001B[43m)\u001B[49m\n\u001B[0;32m    930\u001B[0m \u001B[43m\u001B[49m\u001B[43m)\u001B[49m\n\u001B[0;32m    932\u001B[0m \u001B[38;5;28;01mif\u001B[39;00m \u001B[38;5;28mlen\u001B[39m(out) \u001B[38;5;241m<\u001B[39m \u001B[38;5;241m1\u001B[39m:\n\u001B[0;32m    933\u001B[0m     \u001B[38;5;28;01mraise\u001B[39;00m \u001B[38;5;167;01mValueError\u001B[39;00m(\n\u001B[0;32m    934\u001B[0m         \u001B[38;5;124m\"\u001B[39m\u001B[38;5;124mNo fits were performed. \u001B[39m\u001B[38;5;124m\"\u001B[39m\n\u001B[0;32m    935\u001B[0m         \u001B[38;5;124m\"\u001B[39m\u001B[38;5;124mWas the CV iterator empty? \u001B[39m\u001B[38;5;124m\"\u001B[39m\n\u001B[0;32m    936\u001B[0m         \u001B[38;5;124m\"\u001B[39m\u001B[38;5;124mWere there no candidates?\u001B[39m\u001B[38;5;124m\"\u001B[39m\n\u001B[0;32m    937\u001B[0m     )\n",
      "File \u001B[1;32m~\\PycharmProjects\\bankruptcy-prophet-new\\bankruptcy-prophet\\.venv\\Lib\\site-packages\\sklearn\\utils\\parallel.py:67\u001B[0m, in \u001B[0;36mParallel.__call__\u001B[1;34m(self, iterable)\u001B[0m\n\u001B[0;32m     62\u001B[0m config \u001B[38;5;241m=\u001B[39m get_config()\n\u001B[0;32m     63\u001B[0m iterable_with_config \u001B[38;5;241m=\u001B[39m (\n\u001B[0;32m     64\u001B[0m     (_with_config(delayed_func, config), args, kwargs)\n\u001B[0;32m     65\u001B[0m     \u001B[38;5;28;01mfor\u001B[39;00m delayed_func, args, kwargs \u001B[38;5;129;01min\u001B[39;00m iterable\n\u001B[0;32m     66\u001B[0m )\n\u001B[1;32m---> 67\u001B[0m \u001B[38;5;28;01mreturn\u001B[39;00m \u001B[38;5;28;43msuper\u001B[39;49m\u001B[43m(\u001B[49m\u001B[43m)\u001B[49m\u001B[38;5;241;43m.\u001B[39;49m\u001B[38;5;21;43m__call__\u001B[39;49m\u001B[43m(\u001B[49m\u001B[43miterable_with_config\u001B[49m\u001B[43m)\u001B[49m\n",
      "File \u001B[1;32m~\\PycharmProjects\\bankruptcy-prophet-new\\bankruptcy-prophet\\.venv\\Lib\\site-packages\\joblib\\parallel.py:2007\u001B[0m, in \u001B[0;36mParallel.__call__\u001B[1;34m(self, iterable)\u001B[0m\n\u001B[0;32m   2001\u001B[0m \u001B[38;5;66;03m# The first item from the output is blank, but it makes the interpreter\u001B[39;00m\n\u001B[0;32m   2002\u001B[0m \u001B[38;5;66;03m# progress until it enters the Try/Except block of the generator and\u001B[39;00m\n\u001B[0;32m   2003\u001B[0m \u001B[38;5;66;03m# reaches the first `yield` statement. This starts the asynchronous\u001B[39;00m\n\u001B[0;32m   2004\u001B[0m \u001B[38;5;66;03m# dispatch of the tasks to the workers.\u001B[39;00m\n\u001B[0;32m   2005\u001B[0m \u001B[38;5;28mnext\u001B[39m(output)\n\u001B[1;32m-> 2007\u001B[0m \u001B[38;5;28;01mreturn\u001B[39;00m output \u001B[38;5;28;01mif\u001B[39;00m \u001B[38;5;28mself\u001B[39m\u001B[38;5;241m.\u001B[39mreturn_generator \u001B[38;5;28;01melse\u001B[39;00m \u001B[38;5;28;43mlist\u001B[39;49m\u001B[43m(\u001B[49m\u001B[43moutput\u001B[49m\u001B[43m)\u001B[49m\n",
      "File \u001B[1;32m~\\PycharmProjects\\bankruptcy-prophet-new\\bankruptcy-prophet\\.venv\\Lib\\site-packages\\joblib\\parallel.py:1650\u001B[0m, in \u001B[0;36mParallel._get_outputs\u001B[1;34m(self, iterator, pre_dispatch)\u001B[0m\n\u001B[0;32m   1647\u001B[0m     \u001B[38;5;28;01myield\u001B[39;00m\n\u001B[0;32m   1649\u001B[0m     \u001B[38;5;28;01mwith\u001B[39;00m \u001B[38;5;28mself\u001B[39m\u001B[38;5;241m.\u001B[39m_backend\u001B[38;5;241m.\u001B[39mretrieval_context():\n\u001B[1;32m-> 1650\u001B[0m         \u001B[38;5;28;01myield from\u001B[39;00m \u001B[38;5;28mself\u001B[39m\u001B[38;5;241m.\u001B[39m_retrieve()\n\u001B[0;32m   1652\u001B[0m \u001B[38;5;28;01mexcept\u001B[39;00m \u001B[38;5;167;01mGeneratorExit\u001B[39;00m:\n\u001B[0;32m   1653\u001B[0m     \u001B[38;5;66;03m# The generator has been garbage collected before being fully\u001B[39;00m\n\u001B[0;32m   1654\u001B[0m     \u001B[38;5;66;03m# consumed. This aborts the remaining tasks if possible and warn\u001B[39;00m\n\u001B[0;32m   1655\u001B[0m     \u001B[38;5;66;03m# the user if necessary.\u001B[39;00m\n\u001B[0;32m   1656\u001B[0m     \u001B[38;5;28mself\u001B[39m\u001B[38;5;241m.\u001B[39m_exception \u001B[38;5;241m=\u001B[39m \u001B[38;5;28;01mTrue\u001B[39;00m\n",
      "File \u001B[1;32m~\\PycharmProjects\\bankruptcy-prophet-new\\bankruptcy-prophet\\.venv\\Lib\\site-packages\\joblib\\parallel.py:1762\u001B[0m, in \u001B[0;36mParallel._retrieve\u001B[1;34m(self)\u001B[0m\n\u001B[0;32m   1757\u001B[0m \u001B[38;5;66;03m# If the next job is not ready for retrieval yet, we just wait for\u001B[39;00m\n\u001B[0;32m   1758\u001B[0m \u001B[38;5;66;03m# async callbacks to progress.\u001B[39;00m\n\u001B[0;32m   1759\u001B[0m \u001B[38;5;28;01mif\u001B[39;00m ((\u001B[38;5;28mlen\u001B[39m(\u001B[38;5;28mself\u001B[39m\u001B[38;5;241m.\u001B[39m_jobs) \u001B[38;5;241m==\u001B[39m \u001B[38;5;241m0\u001B[39m) \u001B[38;5;129;01mor\u001B[39;00m\n\u001B[0;32m   1760\u001B[0m     (\u001B[38;5;28mself\u001B[39m\u001B[38;5;241m.\u001B[39m_jobs[\u001B[38;5;241m0\u001B[39m]\u001B[38;5;241m.\u001B[39mget_status(\n\u001B[0;32m   1761\u001B[0m         timeout\u001B[38;5;241m=\u001B[39m\u001B[38;5;28mself\u001B[39m\u001B[38;5;241m.\u001B[39mtimeout) \u001B[38;5;241m==\u001B[39m TASK_PENDING)):\n\u001B[1;32m-> 1762\u001B[0m     \u001B[43mtime\u001B[49m\u001B[38;5;241;43m.\u001B[39;49m\u001B[43msleep\u001B[49m\u001B[43m(\u001B[49m\u001B[38;5;241;43m0.01\u001B[39;49m\u001B[43m)\u001B[49m\n\u001B[0;32m   1763\u001B[0m     \u001B[38;5;28;01mcontinue\u001B[39;00m\n\u001B[0;32m   1765\u001B[0m \u001B[38;5;66;03m# We need to be careful: the job list can be filling up as\u001B[39;00m\n\u001B[0;32m   1766\u001B[0m \u001B[38;5;66;03m# we empty it and Python list are not thread-safe by\u001B[39;00m\n\u001B[0;32m   1767\u001B[0m \u001B[38;5;66;03m# default hence the use of the lock\u001B[39;00m\n",
      "\u001B[1;31mKeyboardInterrupt\u001B[0m: "
     ]
    }
   ],
   "execution_count": 21
  },
  {
   "metadata": {},
   "cell_type": "markdown",
   "source": "#### SVC",
   "id": "8500e0a7e3349143"
  },
  {
   "metadata": {
    "ExecuteTime": {
     "end_time": "2024-09-20T16:15:24.610222Z",
     "start_time": "2024-09-20T16:15:24.597728Z"
    }
   },
   "cell_type": "code",
   "source": [
    "from sklearn.model_selection import RandomizedSearchCV\n",
    "from sklearn.svm import SVC\n",
    "import numpy as np\n",
    "from tqdm import tqdm\n",
    "\n",
    "svc = SVC(random_state=random_state)\n",
    "\n",
    "param_distributions = {\n",
    "    'tol': [1e-5, 1e-4, 1e-3, 1e-2],\n",
    "    'C': np.logspace(-2, 3, 10),\n",
    "    'max_iter': [100, 200, 400, 600, 800],\n",
    "    'kernel': ['linear', 'poly', 'rbf', 'sigmoid'],\n",
    "    'degree': [2, 3, 4, 5, 6],\n",
    "    'class_weight': [{True: 50, False: 1},{True: 30, False: 1}, {True: 10, False: 1}, {True: 2, False: 1}]\n",
    "}"
   ],
   "id": "a225694ef1c87ff0",
   "outputs": [],
   "execution_count": 22
  },
  {
   "metadata": {
    "ExecuteTime": {
     "end_time": "2024-09-20T16:16:11.734749Z",
     "start_time": "2024-09-20T16:15:57.712220Z"
    }
   },
   "cell_type": "code",
   "source": [
    "for i in tqdm(range(5)):\n",
    "    grid = RandomizedSearchCV(estimator=svc, param_distributions=param_distributions, scoring='precision', n_iter=40, random_state=random_state+i, n_jobs=-1)\n",
    "    \n",
    "    grid_result = grid.fit(X_train, y_train)\n",
    "\n",
    "    print(f\"iteration: {i+1}\")\n",
    "    print(\"Best: %f using %s\" % (grid_result.best_score_, grid_result.best_params_))\n",
    "    \n",
    "    preds = grid_result.predict(X_test)\n",
    "    print(f\"Accuracy: {accuracy_score(y_test, preds)}\")\n",
    "    print(f\"Precision: {precision_score(y_test, preds)}\")"
   ],
   "id": "95e813b9b6463422",
   "outputs": [
    {
     "name": "stderr",
     "output_type": "stream",
     "text": [
      "  0%|          | 0/5 [00:00<?, ?it/s]C:\\Users\\grzeg\\PycharmProjects\\bankruptcy-prophet-new\\bankruptcy-prophet\\.venv\\Lib\\site-packages\\sklearn\\svm\\_base.py:297: ConvergenceWarning: Solver terminated early (max_iter=600).  Consider pre-processing your data with StandardScaler or MinMaxScaler.\n",
      "  warnings.warn(\n",
      " 20%|██        | 1/5 [00:03<00:12,  3.20s/it]"
     ]
    },
    {
     "name": "stdout",
     "output_type": "stream",
     "text": [
      "iteration: 1\n",
      "Best: 0.982880 using {'tol': 0.001, 'max_iter': 600, 'kernel': 'rbf', 'degree': 3, 'class_weight': {True: 10, False: 1}, 'C': 0.464158883361278}\n",
      "Accuracy: 0.016224188790560472\n",
      "Precision: 0.016224188790560472\n"
     ]
    },
    {
     "name": "stderr",
     "output_type": "stream",
     "text": [
      "C:\\Users\\grzeg\\PycharmProjects\\bankruptcy-prophet-new\\bankruptcy-prophet\\.venv\\Lib\\site-packages\\sklearn\\svm\\_base.py:297: ConvergenceWarning: Solver terminated early (max_iter=400).  Consider pre-processing your data with StandardScaler or MinMaxScaler.\n",
      "  warnings.warn(\n",
      "C:\\Users\\grzeg\\PycharmProjects\\bankruptcy-prophet-new\\bankruptcy-prophet\\.venv\\Lib\\site-packages\\sklearn\\metrics\\_classification.py:1517: UndefinedMetricWarning: Precision is ill-defined and being set to 0.0 due to no predicted samples. Use `zero_division` parameter to control this behavior.\n",
      "  _warn_prf(average, modifier, f\"{metric.capitalize()} is\", len(result))\n",
      " 40%|████      | 2/5 [00:05<00:08,  2.94s/it]"
     ]
    },
    {
     "name": "stdout",
     "output_type": "stream",
     "text": [
      "iteration: 2\n",
      "Best: 0.983160 using {'tol': 1e-05, 'max_iter': 400, 'kernel': 'rbf', 'degree': 4, 'class_weight': {True: 2, False: 1}, 'C': 77.42636826811278}\n",
      "Accuracy: 0.9837758112094396\n",
      "Precision: 0.0\n"
     ]
    },
    {
     "name": "stderr",
     "output_type": "stream",
     "text": [
      "C:\\Users\\grzeg\\PycharmProjects\\bankruptcy-prophet-new\\bankruptcy-prophet\\.venv\\Lib\\site-packages\\sklearn\\metrics\\_classification.py:1517: UndefinedMetricWarning: Precision is ill-defined and being set to 0.0 due to no predicted samples. Use `zero_division` parameter to control this behavior.\n",
      "  _warn_prf(average, modifier, f\"{metric.capitalize()} is\", len(result))\n",
      " 60%|██████    | 3/5 [00:08<00:05,  2.96s/it]"
     ]
    },
    {
     "name": "stdout",
     "output_type": "stream",
     "text": [
      "iteration: 3\n",
      "Best: 0.983160 using {'tol': 0.01, 'max_iter': 200, 'kernel': 'sigmoid', 'degree': 3, 'class_weight': {True: 2, False: 1}, 'C': 0.03593813663804628}\n",
      "Accuracy: 0.9837758112094396\n",
      "Precision: 0.0\n"
     ]
    },
    {
     "name": "stderr",
     "output_type": "stream",
     "text": [
      "C:\\Users\\grzeg\\PycharmProjects\\bankruptcy-prophet-new\\bankruptcy-prophet\\.venv\\Lib\\site-packages\\sklearn\\svm\\_base.py:297: ConvergenceWarning: Solver terminated early (max_iter=400).  Consider pre-processing your data with StandardScaler or MinMaxScaler.\n",
      "  warnings.warn(\n",
      "C:\\Users\\grzeg\\PycharmProjects\\bankruptcy-prophet-new\\bankruptcy-prophet\\.venv\\Lib\\site-packages\\sklearn\\metrics\\_classification.py:1517: UndefinedMetricWarning: Precision is ill-defined and being set to 0.0 due to no predicted samples. Use `zero_division` parameter to control this behavior.\n",
      "  _warn_prf(average, modifier, f\"{metric.capitalize()} is\", len(result))\n",
      " 80%|████████  | 4/5 [00:11<00:02,  2.86s/it]"
     ]
    },
    {
     "name": "stdout",
     "output_type": "stream",
     "text": [
      "iteration: 4\n",
      "Best: 0.983160 using {'tol': 0.0001, 'max_iter': 400, 'kernel': 'rbf', 'degree': 5, 'class_weight': {True: 2, False: 1}, 'C': 0.03593813663804628}\n",
      "Accuracy: 0.9837758112094396\n",
      "Precision: 0.0\n"
     ]
    },
    {
     "name": "stderr",
     "output_type": "stream",
     "text": [
      "C:\\Users\\grzeg\\PycharmProjects\\bankruptcy-prophet-new\\bankruptcy-prophet\\.venv\\Lib\\site-packages\\sklearn\\metrics\\_classification.py:1517: UndefinedMetricWarning: Precision is ill-defined and being set to 0.0 due to no predicted samples. Use `zero_division` parameter to control this behavior.\n",
      "  _warn_prf(average, modifier, f\"{metric.capitalize()} is\", len(result))\n",
      "100%|██████████| 5/5 [00:14<00:00,  2.80s/it]"
     ]
    },
    {
     "name": "stdout",
     "output_type": "stream",
     "text": [
      "iteration: 5\n",
      "Best: 0.983160 using {'tol': 0.01, 'max_iter': 800, 'kernel': 'rbf', 'degree': 2, 'class_weight': {True: 10, False: 1}, 'C': 0.03593813663804628}\n",
      "Accuracy: 0.9837758112094396\n",
      "Precision: 0.0\n"
     ]
    },
    {
     "name": "stderr",
     "output_type": "stream",
     "text": [
      "\n"
     ]
    }
   ],
   "execution_count": 24
  },
  {
   "metadata": {},
   "cell_type": "markdown",
   "source": "### Checking TabPFN: A Transformer That Solves Small Tabular Classification Problems in a Second",
   "id": "3540dc168ff8192f"
  },
  {
   "metadata": {
    "ExecuteTime": {
     "end_time": "2024-09-20T14:09:51.346524Z",
     "start_time": "2024-09-20T14:09:49.778627Z"
    }
   },
   "cell_type": "code",
   "source": [
    "financial_dataset = pd.read_csv('numerical_dataset_version5_original.csv')\n",
    "financial_dataset = flatten_financial_dataset(financial_dataset)\n",
    "financial_dataset_preprocessed = financial_dataset.drop(['cik', 'ticker', 'Fiscal Period'], axis=1)\n",
    "X = financial_dataset_preprocessed.drop('label', axis=1)\n",
    "y = financial_dataset_preprocessed['label']"
   ],
   "id": "7875bce9dd0d5203",
   "outputs": [],
   "execution_count": 167
  },
  {
   "metadata": {
    "ExecuteTime": {
     "end_time": "2024-09-20T14:09:52.420878Z",
     "start_time": "2024-09-20T14:09:52.208916Z"
    }
   },
   "cell_type": "code",
   "source": "financial_dataset_preprocessed.isnull().sum().sum(), (financial_dataset_preprocessed == 0).sum().sum()",
   "id": "1970dd0d3dad5b5f",
   "outputs": [
    {
     "data": {
      "text/plain": [
       "(0, 5514)"
      ]
     },
     "execution_count": 168,
     "metadata": {},
     "output_type": "execute_result"
    }
   ],
   "execution_count": 168
  },
  {
   "metadata": {
    "ExecuteTime": {
     "end_time": "2024-09-20T14:10:06.481573Z",
     "start_time": "2024-09-20T14:10:06.461058Z"
    }
   },
   "cell_type": "code",
   "source": [
    "X_train, y_train, X_val, y_val, X_test, y_test = get_train_val_test_split(X, y)\n",
    "\n",
    "len(X_train), len(X_val), len(X_test)"
   ],
   "id": "bbb51230888e716f",
   "outputs": [
    {
     "data": {
      "text/plain": [
       "(3563, 225, 678)"
      ]
     },
     "execution_count": 169,
     "metadata": {},
     "output_type": "execute_result"
    }
   ],
   "execution_count": 169
  },
  {
   "metadata": {
    "ExecuteTime": {
     "end_time": "2024-09-20T14:10:21.637513Z",
     "start_time": "2024-09-20T14:10:21.626696Z"
    }
   },
   "cell_type": "code",
   "source": [
    "concat_train_and_val = False\n",
    "\n",
    "if concat_train_and_val:\n",
    "    X_train_val = pd.concat([X_train, X_val])\n",
    "    y_train_val = pd.concat([y_train, y_val])\n",
    "    \n",
    "    scaler = preprocessing.StandardScaler().fit(X_train_val)\n",
    "    \n",
    "    X_train_val = scaler.transform(X_train_val)\n",
    "    X_test = scaler.transform(X_test)\n",
    "    \n",
    "else:\n",
    "    scaler = preprocessing.StandardScaler().fit(X_train)\n",
    "    \n",
    "    X_train = scaler.transform(X_train)\n",
    "    X_val = scaler.transform(X_val)\n",
    "    X_test = scaler.transform(X_test)"
   ],
   "id": "6340a7929f764a52",
   "outputs": [],
   "execution_count": 170
  },
  {
   "metadata": {
    "ExecuteTime": {
     "end_time": "2024-09-20T14:14:37.597291Z",
     "start_time": "2024-09-20T14:13:28.648239Z"
    }
   },
   "cell_type": "code",
   "source": [
    "from tabpfn import TabPFNClassifier\n",
    "\n",
    "tabPFNClassifier = TabPFNClassifier(device='cpu', N_ensemble_configurations=16)\n",
    "\n",
    "tabPFNClassifier.fit(X_train, y_train)\n",
    "\n",
    "y_eval, p_eval = tabPFNClassifier.predict(X_test, return_winning_probability=True)\n",
    "\n",
    "accuracy = accuracy_score(y_test, y_eval)\n",
    "precision = precision_score(y_test, y_eval)\n",
    "\n",
    "print(f\"Accuracy:\", accuracy)\n",
    "print(f\"Precision:\", precision)\n"
   ],
   "id": "65b9585069401fa5",
   "outputs": [
    {
     "name": "stderr",
     "output_type": "stream",
     "text": [
      "C:\\Users\\grzeg\\PycharmProjects\\bankruptcy-prophet-new\\bankruptcy-prophet\\.venv\\Lib\\site-packages\\torch\\_dynamo\\eval_frame.py:600: UserWarning: torch.utils.checkpoint: the use_reentrant parameter should be passed explicitly. In version 2.4 we will raise an exception if use_reentrant is not passed. use_reentrant=False is recommended, but if you need to preserve the current default behavior, you can pass use_reentrant=True. Refer to docs for more details on the differences between the two variants.\n",
      "  return fn(*args, **kwargs)\n"
     ]
    },
    {
     "name": "stdout",
     "output_type": "stream",
     "text": [
      "Accuracy: 0.9837758112094396\n",
      "Precision: 0.0\n"
     ]
    },
    {
     "name": "stderr",
     "output_type": "stream",
     "text": [
      "C:\\Users\\grzeg\\PycharmProjects\\bankruptcy-prophet-new\\bankruptcy-prophet\\.venv\\Lib\\site-packages\\sklearn\\metrics\\_classification.py:1517: UndefinedMetricWarning: Precision is ill-defined and being set to 0.0 due to no predicted samples. Use `zero_division` parameter to control this behavior.\n",
      "  _warn_prf(average, modifier, f\"{metric.capitalize()} is\", len(result))\n"
     ]
    }
   ],
   "execution_count": 173
  },
  {
   "metadata": {},
   "cell_type": "markdown",
   "source": "### Running best model on the whole new dataset (https://github.com/sowide/bankruptcy_dataset)",
   "id": "b8e65e704397d16b"
  },
  {
   "metadata": {
    "ExecuteTime": {
     "end_time": "2024-09-22T20:45:59.019309Z",
     "start_time": "2024-09-22T20:45:58.855606Z"
    }
   },
   "cell_type": "code",
   "source": [
    "american_bankruptcy_dataset = pd.read_csv('american_bankruptcy_dataset.csv')\n",
    "print(american_bankruptcy_dataset.shape)"
   ],
   "id": "8810f4f94400ef0d",
   "outputs": [
    {
     "name": "stdout",
     "output_type": "stream",
     "text": [
      "(78682, 23)\n"
     ]
    }
   ],
   "execution_count": 8
  },
  {
   "metadata": {
    "ExecuteTime": {
     "end_time": "2024-09-22T20:45:59.930889Z",
     "start_time": "2024-09-22T20:45:59.805434Z"
    }
   },
   "cell_type": "code",
   "source": [
    "american_bankruptcy_dataset_grouped = american_bankruptcy_dataset.groupby('company_name')\n",
    "american_bankruptcy_dataset_filtered = american_bankruptcy_dataset_grouped.filter(lambda x: len(x) >= 5)\n",
    "print(american_bankruptcy_dataset_filtered.shape)"
   ],
   "id": "f6c7861aeab50214",
   "outputs": [
    {
     "name": "stdout",
     "output_type": "stream",
     "text": [
      "(71123, 23)\n"
     ]
    }
   ],
   "execution_count": 9
  },
  {
   "metadata": {
    "ExecuteTime": {
     "end_time": "2024-09-22T20:46:05.089147Z",
     "start_time": "2024-09-22T20:46:00.991070Z"
    }
   },
   "cell_type": "code",
   "source": [
    "american_bankruptcy_dataset_grouped = american_bankruptcy_dataset_filtered.groupby('company_name')\n",
    "american_bankruptcy_dataset_5years = pd.DataFrame()\n",
    "\n",
    "for group in american_bankruptcy_dataset_grouped:\n",
    "    if len(group[1]) >= 5:\n",
    "        last_5_years = group[1].tail(5)\n",
    "        american_bankruptcy_dataset_5years = pd.concat([american_bankruptcy_dataset_5years, last_5_years])\n",
    "        \n",
    "print(american_bankruptcy_dataset_5years.shape)"
   ],
   "id": "1523bf997368691d",
   "outputs": [
    {
     "name": "stdout",
     "output_type": "stream",
     "text": [
      "(29365, 23)\n"
     ]
    }
   ],
   "execution_count": 10
  },
  {
   "metadata": {
    "ExecuteTime": {
     "end_time": "2024-09-22T20:46:05.148836Z",
     "start_time": "2024-09-22T20:46:05.121869Z"
    }
   },
   "cell_type": "code",
   "source": "american_bankruptcy_dataset_5years.head()",
   "id": "500104c859e32640",
   "outputs": [
    {
     "data": {
      "text/plain": [
       "   company_name   fyear status_label      X1      X2      X3     X4     X5  \\\n",
       "14          C_1  2013.0        alive  1116.9  2199.5  1581.4  564.3  113.4   \n",
       "15          C_1  2014.0        alive   954.1  1515.0  1342.7   85.0   92.3   \n",
       "16          C_1  2015.0        alive   873.1  1442.1  1354.9  136.1   70.8   \n",
       "17          C_1  2016.0        alive   888.5  1504.1  1422.7  155.3   71.0   \n",
       "18          C_1  2017.0        alive   942.7  1524.7  1413.2  177.2   40.5   \n",
       "\n",
       "       X6     X7  ...   X11    X12    X13     X14           X15     X16  \\\n",
       "14  142.6  256.0  ...  72.9  616.7  297.9  2035.0  9.613080e+05  1198.8   \n",
       "15   -8.6   83.7  ...  10.2  603.9  231.1  1594.3  1.046395e+03   669.9   \n",
       "16   66.1  136.9  ...  47.7  637.2  242.7  1662.6  8.425112e+02   576.3   \n",
       "17   77.2  148.2  ...  56.5  688.0  251.4  1767.6  1.200329e+03   589.9   \n",
       "18   86.0  126.5  ...  15.6  701.2  203.0  1748.3  1.551458e+06   588.4   \n",
       "\n",
       "       X17     X18  Division  MajorGroup  \n",
       "14  2035.0  1779.0         D          37  \n",
       "15  1594.3  1510.6         D          37  \n",
       "16  1662.6  1525.7         D          37  \n",
       "17  1767.6  1619.4         D          37  \n",
       "18  1748.3  1621.8         D          37  \n",
       "\n",
       "[5 rows x 23 columns]"
      ],
      "text/html": [
       "<div>\n",
       "<style scoped>\n",
       "    .dataframe tbody tr th:only-of-type {\n",
       "        vertical-align: middle;\n",
       "    }\n",
       "\n",
       "    .dataframe tbody tr th {\n",
       "        vertical-align: top;\n",
       "    }\n",
       "\n",
       "    .dataframe thead th {\n",
       "        text-align: right;\n",
       "    }\n",
       "</style>\n",
       "<table border=\"1\" class=\"dataframe\">\n",
       "  <thead>\n",
       "    <tr style=\"text-align: right;\">\n",
       "      <th></th>\n",
       "      <th>company_name</th>\n",
       "      <th>fyear</th>\n",
       "      <th>status_label</th>\n",
       "      <th>X1</th>\n",
       "      <th>X2</th>\n",
       "      <th>X3</th>\n",
       "      <th>X4</th>\n",
       "      <th>X5</th>\n",
       "      <th>X6</th>\n",
       "      <th>X7</th>\n",
       "      <th>...</th>\n",
       "      <th>X11</th>\n",
       "      <th>X12</th>\n",
       "      <th>X13</th>\n",
       "      <th>X14</th>\n",
       "      <th>X15</th>\n",
       "      <th>X16</th>\n",
       "      <th>X17</th>\n",
       "      <th>X18</th>\n",
       "      <th>Division</th>\n",
       "      <th>MajorGroup</th>\n",
       "    </tr>\n",
       "  </thead>\n",
       "  <tbody>\n",
       "    <tr>\n",
       "      <th>14</th>\n",
       "      <td>C_1</td>\n",
       "      <td>2013.0</td>\n",
       "      <td>alive</td>\n",
       "      <td>1116.9</td>\n",
       "      <td>2199.5</td>\n",
       "      <td>1581.4</td>\n",
       "      <td>564.3</td>\n",
       "      <td>113.4</td>\n",
       "      <td>142.6</td>\n",
       "      <td>256.0</td>\n",
       "      <td>...</td>\n",
       "      <td>72.9</td>\n",
       "      <td>616.7</td>\n",
       "      <td>297.9</td>\n",
       "      <td>2035.0</td>\n",
       "      <td>9.613080e+05</td>\n",
       "      <td>1198.8</td>\n",
       "      <td>2035.0</td>\n",
       "      <td>1779.0</td>\n",
       "      <td>D</td>\n",
       "      <td>37</td>\n",
       "    </tr>\n",
       "    <tr>\n",
       "      <th>15</th>\n",
       "      <td>C_1</td>\n",
       "      <td>2014.0</td>\n",
       "      <td>alive</td>\n",
       "      <td>954.1</td>\n",
       "      <td>1515.0</td>\n",
       "      <td>1342.7</td>\n",
       "      <td>85.0</td>\n",
       "      <td>92.3</td>\n",
       "      <td>-8.6</td>\n",
       "      <td>83.7</td>\n",
       "      <td>...</td>\n",
       "      <td>10.2</td>\n",
       "      <td>603.9</td>\n",
       "      <td>231.1</td>\n",
       "      <td>1594.3</td>\n",
       "      <td>1.046395e+03</td>\n",
       "      <td>669.9</td>\n",
       "      <td>1594.3</td>\n",
       "      <td>1510.6</td>\n",
       "      <td>D</td>\n",
       "      <td>37</td>\n",
       "    </tr>\n",
       "    <tr>\n",
       "      <th>16</th>\n",
       "      <td>C_1</td>\n",
       "      <td>2015.0</td>\n",
       "      <td>alive</td>\n",
       "      <td>873.1</td>\n",
       "      <td>1442.1</td>\n",
       "      <td>1354.9</td>\n",
       "      <td>136.1</td>\n",
       "      <td>70.8</td>\n",
       "      <td>66.1</td>\n",
       "      <td>136.9</td>\n",
       "      <td>...</td>\n",
       "      <td>47.7</td>\n",
       "      <td>637.2</td>\n",
       "      <td>242.7</td>\n",
       "      <td>1662.6</td>\n",
       "      <td>8.425112e+02</td>\n",
       "      <td>576.3</td>\n",
       "      <td>1662.6</td>\n",
       "      <td>1525.7</td>\n",
       "      <td>D</td>\n",
       "      <td>37</td>\n",
       "    </tr>\n",
       "    <tr>\n",
       "      <th>17</th>\n",
       "      <td>C_1</td>\n",
       "      <td>2016.0</td>\n",
       "      <td>alive</td>\n",
       "      <td>888.5</td>\n",
       "      <td>1504.1</td>\n",
       "      <td>1422.7</td>\n",
       "      <td>155.3</td>\n",
       "      <td>71.0</td>\n",
       "      <td>77.2</td>\n",
       "      <td>148.2</td>\n",
       "      <td>...</td>\n",
       "      <td>56.5</td>\n",
       "      <td>688.0</td>\n",
       "      <td>251.4</td>\n",
       "      <td>1767.6</td>\n",
       "      <td>1.200329e+03</td>\n",
       "      <td>589.9</td>\n",
       "      <td>1767.6</td>\n",
       "      <td>1619.4</td>\n",
       "      <td>D</td>\n",
       "      <td>37</td>\n",
       "    </tr>\n",
       "    <tr>\n",
       "      <th>18</th>\n",
       "      <td>C_1</td>\n",
       "      <td>2017.0</td>\n",
       "      <td>alive</td>\n",
       "      <td>942.7</td>\n",
       "      <td>1524.7</td>\n",
       "      <td>1413.2</td>\n",
       "      <td>177.2</td>\n",
       "      <td>40.5</td>\n",
       "      <td>86.0</td>\n",
       "      <td>126.5</td>\n",
       "      <td>...</td>\n",
       "      <td>15.6</td>\n",
       "      <td>701.2</td>\n",
       "      <td>203.0</td>\n",
       "      <td>1748.3</td>\n",
       "      <td>1.551458e+06</td>\n",
       "      <td>588.4</td>\n",
       "      <td>1748.3</td>\n",
       "      <td>1621.8</td>\n",
       "      <td>D</td>\n",
       "      <td>37</td>\n",
       "    </tr>\n",
       "  </tbody>\n",
       "</table>\n",
       "<p>5 rows × 23 columns</p>\n",
       "</div>"
      ]
     },
     "execution_count": 11,
     "metadata": {},
     "output_type": "execute_result"
    }
   ],
   "execution_count": 11
  },
  {
   "metadata": {
    "ExecuteTime": {
     "end_time": "2024-09-22T20:46:05.580664Z",
     "start_time": "2024-09-22T20:46:05.271995Z"
    }
   },
   "cell_type": "code",
   "source": [
    "# dropping X9 (Net sales) column because there are no equivalent columns in the created financial dataset\n",
    "american_bankruptcy_dataset_5years.drop(['X9'], axis=1, inplace=True)\n",
    "\n",
    "american_bankruptcy_dataset_5years.columns = [\n",
    "    'company_name',\n",
    "    'fyear',\n",
    "    'label',\n",
    "    'Current assets',\n",
    "    'Cost of goods sold',\n",
    "    'Depreciation and amortization',\n",
    "    'EBITDA', \n",
    "    'Inventory',\n",
    "    'Net Income',\n",
    "    'Total Receivables',\n",
    "    'Market value',\n",
    "    'Total assets',\n",
    "    'Total Long term debt',\n",
    "    'EBIT',\n",
    "    'Gross Profit',\n",
    "    'Total Current Liabilities',\n",
    "    'Retained Earnings',\n",
    "    'Total Revenue',\n",
    "    'Total Liabilities',\n",
    "    'Total Operating Expenses',\n",
    "    'Division',\n",
    "    'MajorGroup'\n",
    "]\n",
    "\n",
    "# reordering columns so Division and MajorGroup are after label\n",
    "american_bankruptcy_dataset_5years = american_bankruptcy_dataset_5years[['company_name', 'fyear', 'label', 'Division', 'MajorGroup', \n",
    "                                                                         'Cost of goods sold', 'Depreciation and amortization', 'EBIT',  \n",
    "                                                                         'EBITDA', 'Gross Profit', 'Total Long term debt', 'Market value', 'Net Income', \n",
    "                                                                         'Retained Earnings', 'Total Revenue', 'Total assets', 'Current assets',\n",
    "                                                                         'Total Current Liabilities', 'Inventory', 'Total Liabilities', \n",
    "                                                                         'Total Operating Expenses', 'Total Receivables', \n",
    "                                                                         \n",
    "                                                                         \n",
    "                                                                         ]]\n",
    "\n",
    "# renaming columns names with features to much with the financial dataset\n",
    "american_bankruptcy_dataset_5years.columns = [\n",
    "    'company_name',\n",
    "    'fyear',\n",
    "    'label',\n",
    "    'Division',\n",
    "    'MajorGroup',\n",
    "    'Cost of Goods Sold',\n",
    "    'Depreciation, Depletion and Amortization',\n",
    "    'EBIT',\n",
    "    'EBITDA',\n",
    "    'Gross Profit',\n",
    "    'Long-Term Debt',\n",
    "    'Market Cap',\n",
    "    'Net Income',\n",
    "    'Retained Earnings',\n",
    "    'Revenue',\n",
    "    'Total Assets',\n",
    "    'Total Current Assets',\n",
    "    'Total Current Liabilities',\n",
    "    'Total Inventories',\n",
    "    'Total Liabilities',\n",
    "    'Total Operating Expense',\n",
    "    'Total Receivables'\n",
    "]\n",
    "\n",
    "american_bankruptcy_dataset_5years['label'] = american_bankruptcy_dataset_5years['label'].apply(lambda x: True if x == 'failed' else False)\n",
    "american_bankruptcy_dataset_5years.to_csv('sowide_american_bankruptcy_dataset_5years_named_features_withoutX9.csv', index=False)\n",
    "\n",
    "american_bankruptcy_dataset_5years.head(10)"
   ],
   "id": "84a1286a7486aa97",
   "outputs": [
    {
     "data": {
      "text/plain": [
       "    company_name   fyear  label Division  MajorGroup  Cost of Goods Sold  \\\n",
       "14           C_1  2013.0  False        D          37              2199.5   \n",
       "15           C_1  2014.0  False        D          37              1515.0   \n",
       "16           C_1  2015.0  False        D          37              1442.1   \n",
       "17           C_1  2016.0  False        D          37              1504.1   \n",
       "18           C_1  2017.0  False        D          37              1524.7   \n",
       "125         C_10  2014.0  False        E          49          14313532.0   \n",
       "126         C_10  2015.0  False        E          49          15028258.0   \n",
       "127         C_10  2016.0  False        E          49          16004253.0   \n",
       "128         C_10  2017.0  False        E          49          17019082.0   \n",
       "129         C_10  2018.0  False        E          49          17664202.0   \n",
       "\n",
       "     Depreciation, Depletion and Amortization       EBIT     EBITDA  \\\n",
       "14                                     1581.4      616.7      564.3   \n",
       "15                                     1342.7      603.9       85.0   \n",
       "16                                     1354.9      637.2      136.1   \n",
       "17                                     1422.7      688.0      155.3   \n",
       "18                                     1413.2      701.2      177.2   \n",
       "125                                 2263032.0  1857924.0  3031215.0   \n",
       "126                                 2146419.0  2048055.0  3462391.0   \n",
       "127                                 2156869.0  2211725.0  4021785.0   \n",
       "128                                 2096751.0  2397509.0  4789713.0   \n",
       "129                                 2335206.0  2593475.0  4638232.0   \n",
       "\n",
       "     Gross Profit  ...  Net Income  Retained Earnings      Revenue  \\\n",
       "14        297.900  ...     142.600       9.613080e+05      1198.80   \n",
       "15        231.100  ...      -8.600       1.046395e+03       669.90   \n",
       "16        242.700  ...      66.100       8.425112e+02       576.30   \n",
       "17        251.400  ...      77.200       1.200329e+03       589.90   \n",
       "18        203.000  ...      86.000       1.551458e+06       588.40   \n",
       "125    395179.000  ...  811242.000       7.553105e+06      9794.43   \n",
       "126    367806.000  ...  854602.000       7.155990e+03  10308801.00   \n",
       "127    355403.000  ...     855.984       8.687626e+03  11068341.00   \n",
       "128    415068.000  ...  934427.000       9.519035e+03  11883352.00   \n",
       "129       400.988  ...  773687.000       9.551090e+03  12315497.00   \n",
       "\n",
       "     Total Assets  Total Current Assets  Total Current Liabilities  \\\n",
       "14        402.100              1116.900                     2035.0   \n",
       "15        412.000               954.100                     1594.3   \n",
       "16        329.000               873.100                     1662.6   \n",
       "17        335.100               888.500                     1767.6   \n",
       "18        333.300               942.700                     1748.3   \n",
       "125      1559.143            973435.000                  3491632.0   \n",
       "126   1442317.000               890.516                  3495443.0   \n",
       "127   1292946.000               822.219                  3498682.0   \n",
       "128   1197852.000           1016288.000                  3565296.0   \n",
       "129   1648964.000            924991.000                  3691247.0   \n",
       "\n",
       "     Total Inventories  Total Liabilities  Total Operating Expense  \\\n",
       "14               113.4             2035.0                   1779.0   \n",
       "15                92.3             1594.3                   1510.6   \n",
       "16                70.8             1662.6                   1525.7   \n",
       "17                71.0             1767.6                   1619.4   \n",
       "18                40.5             1748.3                   1621.8   \n",
       "125           417358.0          3491632.0                2263032.0   \n",
       "126           494422.0          3495443.0                2146419.0   \n",
       "127           485829.0          3498682.0                2156869.0   \n",
       "128           534118.0          3565296.0                2096751.0   \n",
       "129           582354.0          3691247.0                2335206.0   \n",
       "\n",
       "     Total Receivables  \n",
       "14             256.000  \n",
       "15              83.700  \n",
       "16             136.900  \n",
       "17             148.200  \n",
       "18             126.500  \n",
       "125           1228.600  \n",
       "126        1349024.000  \n",
       "127        1341813.000  \n",
       "128        1468545.000  \n",
       "129           1356.041  \n",
       "\n",
       "[10 rows x 22 columns]"
      ],
      "text/html": [
       "<div>\n",
       "<style scoped>\n",
       "    .dataframe tbody tr th:only-of-type {\n",
       "        vertical-align: middle;\n",
       "    }\n",
       "\n",
       "    .dataframe tbody tr th {\n",
       "        vertical-align: top;\n",
       "    }\n",
       "\n",
       "    .dataframe thead th {\n",
       "        text-align: right;\n",
       "    }\n",
       "</style>\n",
       "<table border=\"1\" class=\"dataframe\">\n",
       "  <thead>\n",
       "    <tr style=\"text-align: right;\">\n",
       "      <th></th>\n",
       "      <th>company_name</th>\n",
       "      <th>fyear</th>\n",
       "      <th>label</th>\n",
       "      <th>Division</th>\n",
       "      <th>MajorGroup</th>\n",
       "      <th>Cost of Goods Sold</th>\n",
       "      <th>Depreciation, Depletion and Amortization</th>\n",
       "      <th>EBIT</th>\n",
       "      <th>EBITDA</th>\n",
       "      <th>Gross Profit</th>\n",
       "      <th>...</th>\n",
       "      <th>Net Income</th>\n",
       "      <th>Retained Earnings</th>\n",
       "      <th>Revenue</th>\n",
       "      <th>Total Assets</th>\n",
       "      <th>Total Current Assets</th>\n",
       "      <th>Total Current Liabilities</th>\n",
       "      <th>Total Inventories</th>\n",
       "      <th>Total Liabilities</th>\n",
       "      <th>Total Operating Expense</th>\n",
       "      <th>Total Receivables</th>\n",
       "    </tr>\n",
       "  </thead>\n",
       "  <tbody>\n",
       "    <tr>\n",
       "      <th>14</th>\n",
       "      <td>C_1</td>\n",
       "      <td>2013.0</td>\n",
       "      <td>False</td>\n",
       "      <td>D</td>\n",
       "      <td>37</td>\n",
       "      <td>2199.5</td>\n",
       "      <td>1581.4</td>\n",
       "      <td>616.7</td>\n",
       "      <td>564.3</td>\n",
       "      <td>297.900</td>\n",
       "      <td>...</td>\n",
       "      <td>142.600</td>\n",
       "      <td>9.613080e+05</td>\n",
       "      <td>1198.80</td>\n",
       "      <td>402.100</td>\n",
       "      <td>1116.900</td>\n",
       "      <td>2035.0</td>\n",
       "      <td>113.4</td>\n",
       "      <td>2035.0</td>\n",
       "      <td>1779.0</td>\n",
       "      <td>256.000</td>\n",
       "    </tr>\n",
       "    <tr>\n",
       "      <th>15</th>\n",
       "      <td>C_1</td>\n",
       "      <td>2014.0</td>\n",
       "      <td>False</td>\n",
       "      <td>D</td>\n",
       "      <td>37</td>\n",
       "      <td>1515.0</td>\n",
       "      <td>1342.7</td>\n",
       "      <td>603.9</td>\n",
       "      <td>85.0</td>\n",
       "      <td>231.100</td>\n",
       "      <td>...</td>\n",
       "      <td>-8.600</td>\n",
       "      <td>1.046395e+03</td>\n",
       "      <td>669.90</td>\n",
       "      <td>412.000</td>\n",
       "      <td>954.100</td>\n",
       "      <td>1594.3</td>\n",
       "      <td>92.3</td>\n",
       "      <td>1594.3</td>\n",
       "      <td>1510.6</td>\n",
       "      <td>83.700</td>\n",
       "    </tr>\n",
       "    <tr>\n",
       "      <th>16</th>\n",
       "      <td>C_1</td>\n",
       "      <td>2015.0</td>\n",
       "      <td>False</td>\n",
       "      <td>D</td>\n",
       "      <td>37</td>\n",
       "      <td>1442.1</td>\n",
       "      <td>1354.9</td>\n",
       "      <td>637.2</td>\n",
       "      <td>136.1</td>\n",
       "      <td>242.700</td>\n",
       "      <td>...</td>\n",
       "      <td>66.100</td>\n",
       "      <td>8.425112e+02</td>\n",
       "      <td>576.30</td>\n",
       "      <td>329.000</td>\n",
       "      <td>873.100</td>\n",
       "      <td>1662.6</td>\n",
       "      <td>70.8</td>\n",
       "      <td>1662.6</td>\n",
       "      <td>1525.7</td>\n",
       "      <td>136.900</td>\n",
       "    </tr>\n",
       "    <tr>\n",
       "      <th>17</th>\n",
       "      <td>C_1</td>\n",
       "      <td>2016.0</td>\n",
       "      <td>False</td>\n",
       "      <td>D</td>\n",
       "      <td>37</td>\n",
       "      <td>1504.1</td>\n",
       "      <td>1422.7</td>\n",
       "      <td>688.0</td>\n",
       "      <td>155.3</td>\n",
       "      <td>251.400</td>\n",
       "      <td>...</td>\n",
       "      <td>77.200</td>\n",
       "      <td>1.200329e+03</td>\n",
       "      <td>589.90</td>\n",
       "      <td>335.100</td>\n",
       "      <td>888.500</td>\n",
       "      <td>1767.6</td>\n",
       "      <td>71.0</td>\n",
       "      <td>1767.6</td>\n",
       "      <td>1619.4</td>\n",
       "      <td>148.200</td>\n",
       "    </tr>\n",
       "    <tr>\n",
       "      <th>18</th>\n",
       "      <td>C_1</td>\n",
       "      <td>2017.0</td>\n",
       "      <td>False</td>\n",
       "      <td>D</td>\n",
       "      <td>37</td>\n",
       "      <td>1524.7</td>\n",
       "      <td>1413.2</td>\n",
       "      <td>701.2</td>\n",
       "      <td>177.2</td>\n",
       "      <td>203.000</td>\n",
       "      <td>...</td>\n",
       "      <td>86.000</td>\n",
       "      <td>1.551458e+06</td>\n",
       "      <td>588.40</td>\n",
       "      <td>333.300</td>\n",
       "      <td>942.700</td>\n",
       "      <td>1748.3</td>\n",
       "      <td>40.5</td>\n",
       "      <td>1748.3</td>\n",
       "      <td>1621.8</td>\n",
       "      <td>126.500</td>\n",
       "    </tr>\n",
       "    <tr>\n",
       "      <th>125</th>\n",
       "      <td>C_10</td>\n",
       "      <td>2014.0</td>\n",
       "      <td>False</td>\n",
       "      <td>E</td>\n",
       "      <td>49</td>\n",
       "      <td>14313532.0</td>\n",
       "      <td>2263032.0</td>\n",
       "      <td>1857924.0</td>\n",
       "      <td>3031215.0</td>\n",
       "      <td>395179.000</td>\n",
       "      <td>...</td>\n",
       "      <td>811242.000</td>\n",
       "      <td>7.553105e+06</td>\n",
       "      <td>9794.43</td>\n",
       "      <td>1559.143</td>\n",
       "      <td>973435.000</td>\n",
       "      <td>3491632.0</td>\n",
       "      <td>417358.0</td>\n",
       "      <td>3491632.0</td>\n",
       "      <td>2263032.0</td>\n",
       "      <td>1228.600</td>\n",
       "    </tr>\n",
       "    <tr>\n",
       "      <th>126</th>\n",
       "      <td>C_10</td>\n",
       "      <td>2015.0</td>\n",
       "      <td>False</td>\n",
       "      <td>E</td>\n",
       "      <td>49</td>\n",
       "      <td>15028258.0</td>\n",
       "      <td>2146419.0</td>\n",
       "      <td>2048055.0</td>\n",
       "      <td>3462391.0</td>\n",
       "      <td>367806.000</td>\n",
       "      <td>...</td>\n",
       "      <td>854602.000</td>\n",
       "      <td>7.155990e+03</td>\n",
       "      <td>10308801.00</td>\n",
       "      <td>1442317.000</td>\n",
       "      <td>890.516</td>\n",
       "      <td>3495443.0</td>\n",
       "      <td>494422.0</td>\n",
       "      <td>3495443.0</td>\n",
       "      <td>2146419.0</td>\n",
       "      <td>1349024.000</td>\n",
       "    </tr>\n",
       "    <tr>\n",
       "      <th>127</th>\n",
       "      <td>C_10</td>\n",
       "      <td>2016.0</td>\n",
       "      <td>False</td>\n",
       "      <td>E</td>\n",
       "      <td>49</td>\n",
       "      <td>16004253.0</td>\n",
       "      <td>2156869.0</td>\n",
       "      <td>2211725.0</td>\n",
       "      <td>4021785.0</td>\n",
       "      <td>355403.000</td>\n",
       "      <td>...</td>\n",
       "      <td>855.984</td>\n",
       "      <td>8.687626e+03</td>\n",
       "      <td>11068341.00</td>\n",
       "      <td>1292946.000</td>\n",
       "      <td>822.219</td>\n",
       "      <td>3498682.0</td>\n",
       "      <td>485829.0</td>\n",
       "      <td>3498682.0</td>\n",
       "      <td>2156869.0</td>\n",
       "      <td>1341813.000</td>\n",
       "    </tr>\n",
       "    <tr>\n",
       "      <th>128</th>\n",
       "      <td>C_10</td>\n",
       "      <td>2017.0</td>\n",
       "      <td>False</td>\n",
       "      <td>E</td>\n",
       "      <td>49</td>\n",
       "      <td>17019082.0</td>\n",
       "      <td>2096751.0</td>\n",
       "      <td>2397509.0</td>\n",
       "      <td>4789713.0</td>\n",
       "      <td>415068.000</td>\n",
       "      <td>...</td>\n",
       "      <td>934427.000</td>\n",
       "      <td>9.519035e+03</td>\n",
       "      <td>11883352.00</td>\n",
       "      <td>1197852.000</td>\n",
       "      <td>1016288.000</td>\n",
       "      <td>3565296.0</td>\n",
       "      <td>534118.0</td>\n",
       "      <td>3565296.0</td>\n",
       "      <td>2096751.0</td>\n",
       "      <td>1468545.000</td>\n",
       "    </tr>\n",
       "    <tr>\n",
       "      <th>129</th>\n",
       "      <td>C_10</td>\n",
       "      <td>2018.0</td>\n",
       "      <td>False</td>\n",
       "      <td>E</td>\n",
       "      <td>49</td>\n",
       "      <td>17664202.0</td>\n",
       "      <td>2335206.0</td>\n",
       "      <td>2593475.0</td>\n",
       "      <td>4638232.0</td>\n",
       "      <td>400.988</td>\n",
       "      <td>...</td>\n",
       "      <td>773687.000</td>\n",
       "      <td>9.551090e+03</td>\n",
       "      <td>12315497.00</td>\n",
       "      <td>1648964.000</td>\n",
       "      <td>924991.000</td>\n",
       "      <td>3691247.0</td>\n",
       "      <td>582354.0</td>\n",
       "      <td>3691247.0</td>\n",
       "      <td>2335206.0</td>\n",
       "      <td>1356.041</td>\n",
       "    </tr>\n",
       "  </tbody>\n",
       "</table>\n",
       "<p>10 rows × 22 columns</p>\n",
       "</div>"
      ]
     },
     "execution_count": 12,
     "metadata": {},
     "output_type": "execute_result"
    }
   ],
   "execution_count": 12
  },
  {
   "metadata": {
    "ExecuteTime": {
     "end_time": "2024-09-13T21:32:28.915244Z",
     "start_time": "2024-09-13T21:32:28.908301Z"
    }
   },
   "cell_type": "code",
   "source": "american_bankruptcy_dataset_5years['label'].value_counts(normalize=True)",
   "id": "f8e6d0ad368f6fa6",
   "outputs": [
    {
     "data": {
      "text/plain": [
       "label\n",
       "False    0.914013\n",
       "True     0.085987\n",
       "Name: proportion, dtype: float64"
      ]
     },
     "execution_count": 259,
     "metadata": {},
     "output_type": "execute_result"
    }
   ],
   "execution_count": 259
  },
  {
   "metadata": {
    "ExecuteTime": {
     "end_time": "2024-09-22T20:46:08.702586Z",
     "start_time": "2024-09-22T20:46:08.621648Z"
    }
   },
   "cell_type": "code",
   "source": [
    "american_bankruptcy_dataset_5years = pd.read_csv('sowide_american_bankruptcy_dataset_5years_named_features_withoutX9.csv')\n",
    "american_bankruptcy_dataset_5years.head()"
   ],
   "id": "d5f3ce9add56e692",
   "outputs": [
    {
     "data": {
      "text/plain": [
       "  company_name   fyear  label Division  MajorGroup  Cost of Goods Sold  \\\n",
       "0          C_1  2013.0  False        D          37              2199.5   \n",
       "1          C_1  2014.0  False        D          37              1515.0   \n",
       "2          C_1  2015.0  False        D          37              1442.1   \n",
       "3          C_1  2016.0  False        D          37              1504.1   \n",
       "4          C_1  2017.0  False        D          37              1524.7   \n",
       "\n",
       "   Depreciation, Depletion and Amortization   EBIT  EBITDA  Gross Profit  ...  \\\n",
       "0                                    1581.4  616.7   564.3         297.9  ...   \n",
       "1                                    1342.7  603.9    85.0         231.1  ...   \n",
       "2                                    1354.9  637.2   136.1         242.7  ...   \n",
       "3                                    1422.7  688.0   155.3         251.4  ...   \n",
       "4                                    1413.2  701.2   177.2         203.0  ...   \n",
       "\n",
       "   Net Income  Retained Earnings  Revenue  Total Assets  Total Current Assets  \\\n",
       "0       142.6       9.613080e+05   1198.8         402.1                1116.9   \n",
       "1        -8.6       1.046395e+03    669.9         412.0                 954.1   \n",
       "2        66.1       8.425112e+02    576.3         329.0                 873.1   \n",
       "3        77.2       1.200329e+03    589.9         335.1                 888.5   \n",
       "4        86.0       1.551458e+06    588.4         333.3                 942.7   \n",
       "\n",
       "   Total Current Liabilities  Total Inventories  Total Liabilities  \\\n",
       "0                     2035.0              113.4             2035.0   \n",
       "1                     1594.3               92.3             1594.3   \n",
       "2                     1662.6               70.8             1662.6   \n",
       "3                     1767.6               71.0             1767.6   \n",
       "4                     1748.3               40.5             1748.3   \n",
       "\n",
       "   Total Operating Expense  Total Receivables  \n",
       "0                   1779.0              256.0  \n",
       "1                   1510.6               83.7  \n",
       "2                   1525.7              136.9  \n",
       "3                   1619.4              148.2  \n",
       "4                   1621.8              126.5  \n",
       "\n",
       "[5 rows x 22 columns]"
      ],
      "text/html": [
       "<div>\n",
       "<style scoped>\n",
       "    .dataframe tbody tr th:only-of-type {\n",
       "        vertical-align: middle;\n",
       "    }\n",
       "\n",
       "    .dataframe tbody tr th {\n",
       "        vertical-align: top;\n",
       "    }\n",
       "\n",
       "    .dataframe thead th {\n",
       "        text-align: right;\n",
       "    }\n",
       "</style>\n",
       "<table border=\"1\" class=\"dataframe\">\n",
       "  <thead>\n",
       "    <tr style=\"text-align: right;\">\n",
       "      <th></th>\n",
       "      <th>company_name</th>\n",
       "      <th>fyear</th>\n",
       "      <th>label</th>\n",
       "      <th>Division</th>\n",
       "      <th>MajorGroup</th>\n",
       "      <th>Cost of Goods Sold</th>\n",
       "      <th>Depreciation, Depletion and Amortization</th>\n",
       "      <th>EBIT</th>\n",
       "      <th>EBITDA</th>\n",
       "      <th>Gross Profit</th>\n",
       "      <th>...</th>\n",
       "      <th>Net Income</th>\n",
       "      <th>Retained Earnings</th>\n",
       "      <th>Revenue</th>\n",
       "      <th>Total Assets</th>\n",
       "      <th>Total Current Assets</th>\n",
       "      <th>Total Current Liabilities</th>\n",
       "      <th>Total Inventories</th>\n",
       "      <th>Total Liabilities</th>\n",
       "      <th>Total Operating Expense</th>\n",
       "      <th>Total Receivables</th>\n",
       "    </tr>\n",
       "  </thead>\n",
       "  <tbody>\n",
       "    <tr>\n",
       "      <th>0</th>\n",
       "      <td>C_1</td>\n",
       "      <td>2013.0</td>\n",
       "      <td>False</td>\n",
       "      <td>D</td>\n",
       "      <td>37</td>\n",
       "      <td>2199.5</td>\n",
       "      <td>1581.4</td>\n",
       "      <td>616.7</td>\n",
       "      <td>564.3</td>\n",
       "      <td>297.9</td>\n",
       "      <td>...</td>\n",
       "      <td>142.6</td>\n",
       "      <td>9.613080e+05</td>\n",
       "      <td>1198.8</td>\n",
       "      <td>402.1</td>\n",
       "      <td>1116.9</td>\n",
       "      <td>2035.0</td>\n",
       "      <td>113.4</td>\n",
       "      <td>2035.0</td>\n",
       "      <td>1779.0</td>\n",
       "      <td>256.0</td>\n",
       "    </tr>\n",
       "    <tr>\n",
       "      <th>1</th>\n",
       "      <td>C_1</td>\n",
       "      <td>2014.0</td>\n",
       "      <td>False</td>\n",
       "      <td>D</td>\n",
       "      <td>37</td>\n",
       "      <td>1515.0</td>\n",
       "      <td>1342.7</td>\n",
       "      <td>603.9</td>\n",
       "      <td>85.0</td>\n",
       "      <td>231.1</td>\n",
       "      <td>...</td>\n",
       "      <td>-8.6</td>\n",
       "      <td>1.046395e+03</td>\n",
       "      <td>669.9</td>\n",
       "      <td>412.0</td>\n",
       "      <td>954.1</td>\n",
       "      <td>1594.3</td>\n",
       "      <td>92.3</td>\n",
       "      <td>1594.3</td>\n",
       "      <td>1510.6</td>\n",
       "      <td>83.7</td>\n",
       "    </tr>\n",
       "    <tr>\n",
       "      <th>2</th>\n",
       "      <td>C_1</td>\n",
       "      <td>2015.0</td>\n",
       "      <td>False</td>\n",
       "      <td>D</td>\n",
       "      <td>37</td>\n",
       "      <td>1442.1</td>\n",
       "      <td>1354.9</td>\n",
       "      <td>637.2</td>\n",
       "      <td>136.1</td>\n",
       "      <td>242.7</td>\n",
       "      <td>...</td>\n",
       "      <td>66.1</td>\n",
       "      <td>8.425112e+02</td>\n",
       "      <td>576.3</td>\n",
       "      <td>329.0</td>\n",
       "      <td>873.1</td>\n",
       "      <td>1662.6</td>\n",
       "      <td>70.8</td>\n",
       "      <td>1662.6</td>\n",
       "      <td>1525.7</td>\n",
       "      <td>136.9</td>\n",
       "    </tr>\n",
       "    <tr>\n",
       "      <th>3</th>\n",
       "      <td>C_1</td>\n",
       "      <td>2016.0</td>\n",
       "      <td>False</td>\n",
       "      <td>D</td>\n",
       "      <td>37</td>\n",
       "      <td>1504.1</td>\n",
       "      <td>1422.7</td>\n",
       "      <td>688.0</td>\n",
       "      <td>155.3</td>\n",
       "      <td>251.4</td>\n",
       "      <td>...</td>\n",
       "      <td>77.2</td>\n",
       "      <td>1.200329e+03</td>\n",
       "      <td>589.9</td>\n",
       "      <td>335.1</td>\n",
       "      <td>888.5</td>\n",
       "      <td>1767.6</td>\n",
       "      <td>71.0</td>\n",
       "      <td>1767.6</td>\n",
       "      <td>1619.4</td>\n",
       "      <td>148.2</td>\n",
       "    </tr>\n",
       "    <tr>\n",
       "      <th>4</th>\n",
       "      <td>C_1</td>\n",
       "      <td>2017.0</td>\n",
       "      <td>False</td>\n",
       "      <td>D</td>\n",
       "      <td>37</td>\n",
       "      <td>1524.7</td>\n",
       "      <td>1413.2</td>\n",
       "      <td>701.2</td>\n",
       "      <td>177.2</td>\n",
       "      <td>203.0</td>\n",
       "      <td>...</td>\n",
       "      <td>86.0</td>\n",
       "      <td>1.551458e+06</td>\n",
       "      <td>588.4</td>\n",
       "      <td>333.3</td>\n",
       "      <td>942.7</td>\n",
       "      <td>1748.3</td>\n",
       "      <td>40.5</td>\n",
       "      <td>1748.3</td>\n",
       "      <td>1621.8</td>\n",
       "      <td>126.5</td>\n",
       "    </tr>\n",
       "  </tbody>\n",
       "</table>\n",
       "<p>5 rows × 22 columns</p>\n",
       "</div>"
      ]
     },
     "execution_count": 13,
     "metadata": {},
     "output_type": "execute_result"
    }
   ],
   "execution_count": 13
  },
  {
   "metadata": {
    "ExecuteTime": {
     "end_time": "2024-09-22T20:46:10.064382Z",
     "start_time": "2024-09-22T20:46:10.055146Z"
    }
   },
   "cell_type": "code",
   "source": [
    "def flatten_american_bankruptcy_dataset(financial_dataset):\n",
    "    object_length_in_rows = 5\n",
    "    metadata_columns_length = 5\n",
    "    \n",
    "    per_object_columns = list(financial_dataset.columns[:metadata_columns_length].values)\n",
    "    \n",
    "    value_columns = financial_dataset.columns[metadata_columns_length:]\n",
    "    new_columns = per_object_columns + [f'{col}_{i+1}' for i in range(object_length_in_rows) for col in value_columns]\n",
    "    \n",
    "    dfs = []\n",
    "    \n",
    "    for i in range(0, len(financial_dataset), object_length_in_rows):\n",
    "        group = financial_dataset.iloc[i:i + object_length_in_rows]\n",
    "        if len(group) < object_length_in_rows:\n",
    "            break\n",
    "\n",
    "        company_name = group['company_name'].iloc[0]\n",
    "        fiscal_periods = ';'.join(group['fyear'].astype(str).values)\n",
    "        label = group['label'].iloc[0]\n",
    "        division = group['Division'].iloc[0]\n",
    "        major_group = group['MajorGroup'].iloc[0]\n",
    "\n",
    "        values = group.drop(columns=per_object_columns).values.flatten()\n",
    "        \n",
    "        dfs.append([company_name, fiscal_periods, label, division, major_group] + values.tolist())\n",
    "    \n",
    "    final_flatten_df = pd.DataFrame(dfs, columns=new_columns)\n",
    "    final_flatten_df = final_flatten_df.reset_index(drop=True)\n",
    "    return final_flatten_df"
   ],
   "id": "3782c8d0202ba976",
   "outputs": [],
   "execution_count": 14
  },
  {
   "metadata": {
    "ExecuteTime": {
     "end_time": "2024-09-22T20:46:11.555537Z",
     "start_time": "2024-09-22T20:46:11.537950Z"
    }
   },
   "cell_type": "code",
   "source": [
    "# check how many zeros and Nan are in the dataset\n",
    "american_bankruptcy_dataset_5years.isnull().sum().sum(), (american_bankruptcy_dataset_5years == 0).sum().sum()"
   ],
   "id": "677086c8cdf8a081",
   "outputs": [
    {
     "data": {
      "text/plain": [
       "(0, 36054)"
      ]
     },
     "execution_count": 15,
     "metadata": {},
     "output_type": "execute_result"
    }
   ],
   "execution_count": 15
  },
  {
   "metadata": {
    "ExecuteTime": {
     "end_time": "2024-09-22T20:46:34.039208Z",
     "start_time": "2024-09-22T20:46:12.404567Z"
    }
   },
   "cell_type": "code",
   "source": [
    "from tqdm import tqdm\n",
    "import warnings\n",
    "warnings.filterwarnings('ignore')\n",
    "\n",
    "american_bankruptcy_dataset_5years_zeros_filled = pd.DataFrame()\n",
    "# 31385\n",
    "for group in tqdm(american_bankruptcy_dataset_5years.groupby('company_name')):\n",
    "    tmp_df = group[1].replace(to_replace=0, method='bfill').replace(to_replace=0, method='ffill')\n",
    "    american_bankruptcy_dataset_5years_zeros_filled = pd.concat([american_bankruptcy_dataset_5years_zeros_filled, tmp_df])"
   ],
   "id": "7082cf4377e3d48",
   "outputs": [
    {
     "name": "stderr",
     "output_type": "stream",
     "text": [
      "100%|██████████| 5873/5873 [00:21<00:00, 272.75it/s]\n"
     ]
    }
   ],
   "execution_count": 16
  },
  {
   "metadata": {
    "ExecuteTime": {
     "end_time": "2024-09-22T20:46:34.059499Z",
     "start_time": "2024-09-22T20:46:34.039208Z"
    }
   },
   "cell_type": "code",
   "source": "american_bankruptcy_dataset_5years_zeros_filled.isnull().sum().sum(), (american_bankruptcy_dataset_5years_zeros_filled == 0).sum().sum()",
   "id": "c7f3c371cdf4ffa6",
   "outputs": [
    {
     "data": {
      "text/plain": [
       "(0, 31385)"
      ]
     },
     "execution_count": 17,
     "metadata": {},
     "output_type": "execute_result"
    }
   ],
   "execution_count": 17
  },
  {
   "metadata": {
    "ExecuteTime": {
     "end_time": "2024-09-22T20:46:34.158308Z",
     "start_time": "2024-09-22T20:46:34.150405Z"
    }
   },
   "cell_type": "code",
   "source": "american_bankruptcy_dataset_5years_zeros_filled['label'].value_counts()",
   "id": "bcfefe79e3585a4b",
   "outputs": [
    {
     "data": {
      "text/plain": [
       "label\n",
       "False    26840\n",
       "True      2525\n",
       "Name: count, dtype: int64"
      ]
     },
     "execution_count": 18,
     "metadata": {},
     "output_type": "execute_result"
    }
   ],
   "execution_count": 18
  },
  {
   "metadata": {
    "ExecuteTime": {
     "end_time": "2024-09-22T20:46:34.278773Z",
     "start_time": "2024-09-22T20:46:34.272144Z"
    }
   },
   "cell_type": "code",
   "source": "american_bankruptcy_dataset_5years_zeros_filled['label'].value_counts(normalize=True)",
   "id": "28295035907b1484",
   "outputs": [
    {
     "data": {
      "text/plain": [
       "label\n",
       "False    0.914013\n",
       "True     0.085987\n",
       "Name: proportion, dtype: float64"
      ]
     },
     "execution_count": 19,
     "metadata": {},
     "output_type": "execute_result"
    }
   ],
   "execution_count": 19
  },
  {
   "metadata": {
    "ExecuteTime": {
     "end_time": "2024-09-22T20:46:34.311695Z",
     "start_time": "2024-09-22T20:46:34.306872Z"
    }
   },
   "cell_type": "code",
   "source": "len(american_bankruptcy_dataset_5years_zeros_filled)/5",
   "id": "4f56e112c37caeae",
   "outputs": [
    {
     "data": {
      "text/plain": [
       "5873.0"
      ]
     },
     "execution_count": 20,
     "metadata": {},
     "output_type": "execute_result"
    }
   ],
   "execution_count": 20
  },
  {
   "metadata": {
    "ExecuteTime": {
     "end_time": "2024-09-22T20:46:36.602373Z",
     "start_time": "2024-09-22T20:46:34.424503Z"
    }
   },
   "cell_type": "code",
   "source": [
    "american_bankruptcy_dataset_5years_flatten = flatten_american_bankruptcy_dataset(american_bankruptcy_dataset_5years_zeros_filled)\n",
    "american_bankruptcy_dataset_5years_preprocessed = american_bankruptcy_dataset_5years_flatten.drop(['company_name', 'fyear', 'Division', 'MajorGroup'], axis=1)"
   ],
   "id": "43507857212948aa",
   "outputs": [],
   "execution_count": 21
  },
  {
   "metadata": {
    "ExecuteTime": {
     "end_time": "2024-09-22T20:46:36.639347Z",
     "start_time": "2024-09-22T20:46:36.625030Z"
    }
   },
   "cell_type": "code",
   "source": [
    "X_american_bankruptcy_dataset = american_bankruptcy_dataset_5years_preprocessed.drop('label', axis=1)\n",
    "y_american_bankruptcy_dataset  = american_bankruptcy_dataset_5years_preprocessed['label']\n",
    "\n",
    "scaler = preprocessing.StandardScaler().fit(X_american_bankruptcy_dataset)\n",
    "X_scaled = scaler.transform(X_american_bankruptcy_dataset)\n",
    "\n",
    "len(X_american_bankruptcy_dataset), len(y_american_bankruptcy_dataset)"
   ],
   "id": "88882dac24ca27ed",
   "outputs": [
    {
     "data": {
      "text/plain": [
       "(5873, 5873)"
      ]
     },
     "execution_count": 22,
     "metadata": {},
     "output_type": "execute_result"
    }
   ],
   "execution_count": 22
  },
  {
   "metadata": {
    "ExecuteTime": {
     "end_time": "2024-09-20T20:00:14.334266Z",
     "start_time": "2024-09-20T20:00:14.312392Z"
    }
   },
   "cell_type": "code",
   "source": [
    "preds = decisionTreeClassifier.predict(X_american_bankruptcy_dataset)\n",
    "print(f\"Accuracy: {accuracy_score(y_american_bankruptcy_dataset, preds)}\")\n",
    "print(f\"Precision: {precision_score(y_american_bankruptcy_dataset, preds)}\")"
   ],
   "id": "4affdda91446b9d5",
   "outputs": [
    {
     "name": "stdout",
     "output_type": "stream",
     "text": [
      "Accuracy: 0.839775242635791\n",
      "Precision: 0.07587548638132295\n"
     ]
    }
   ],
   "execution_count": 154
  },
  {
   "metadata": {},
   "cell_type": "markdown",
   "source": "### Check only on the balanced dataset",
   "id": "e339fcac06653180"
  },
  {
   "metadata": {
    "ExecuteTime": {
     "end_time": "2024-09-20T20:04:05.761368Z",
     "start_time": "2024-09-20T20:04:05.742122Z"
    }
   },
   "cell_type": "code",
   "source": [
    "X_negative = X_american_bankruptcy_dataset[y_american_bankruptcy_dataset == False]\n",
    "y_negative = y_american_bankruptcy_dataset[y_american_bankruptcy_dataset == False]\n",
    "\n",
    "X_positive = X_american_bankruptcy_dataset[y_american_bankruptcy_dataset == True]\n",
    "y_positive = y_american_bankruptcy_dataset[y_american_bankruptcy_dataset == True]\n",
    "\n",
    "X_negative = X_negative.sample(n=len(X_positive), random_state=random_state+7)\n",
    "y_negative = y_negative.sample(n=len(X_positive), random_state=random_state+7)\n",
    "\n",
    "X_combined = pd.concat([X_positive, X_negative])\n",
    "y_combined = pd.concat([y_positive, y_negative])\n",
    "\n",
    "len(X_positive), len(y_positive), len(X_negative), len(y_negative)"
   ],
   "id": "3603c8a48f0dcc35",
   "outputs": [
    {
     "data": {
      "text/plain": [
       "(505, 505, 505, 505)"
      ]
     },
     "execution_count": 166,
     "metadata": {},
     "output_type": "execute_result"
    }
   ],
   "execution_count": 166
  },
  {
   "metadata": {
    "ExecuteTime": {
     "end_time": "2024-09-20T20:02:44.287256Z",
     "start_time": "2024-09-20T20:02:44.268936Z"
    }
   },
   "cell_type": "code",
   "source": [
    "X_negative = X_negative.sample(n=len(X_positive)//60, random_state=random_state+i)\n",
    "y_negative = y_negative.sample(n=len(X_positive)//60, random_state=random_state+i)\n",
    "\n",
    "X_combined = pd.concat([X_positive, X_negative])\n",
    "y_combined = pd.concat([y_positive, y_negative])\n",
    "preds = decisionTreeClassifier.predict(X_combined)\n",
    "\n",
    "accuracy = accuracy_score(y_combined, preds)\n",
    "precision = precision_score(y_combined, preds)\n",
    "\n",
    "print(f\"Accuracy: {accuracy}\")\n",
    "print(f\"Precision: {precision}\")"
   ],
   "id": "232fa6e7623561c3",
   "outputs": [
    {
     "name": "stdout",
     "output_type": "stream",
     "text": [
      "Accuracy: 0.08966861598440545\n",
      "Precision: 0.975\n"
     ]
    }
   ],
   "execution_count": 163
  },
  {
   "metadata": {
    "ExecuteTime": {
     "end_time": "2024-09-20T20:04:09.515291Z",
     "start_time": "2024-09-20T20:04:09.202151Z"
    }
   },
   "cell_type": "code",
   "source": [
    "accuracies = []\n",
    "precisions = []\n",
    "\n",
    "for i in tqdm(range(100)):\n",
    "    X_negative = X_negative.sample(n=len(X_positive), random_state=random_state+i)\n",
    "    y_negative = y_negative.sample(n=len(X_positive), random_state=random_state+i)\n",
    "    \n",
    "    X_combined = pd.concat([X_positive, X_negative])\n",
    "    y_combined = pd.concat([y_positive, y_negative])\n",
    "    preds = decisionTreeClassifier.predict(X_combined)\n",
    "    \n",
    "    accuracy = accuracy_score(y_combined, preds)\n",
    "    precision = precision_score(y_combined, preds)\n",
    "    \n",
    "    # print(f\"Accuracy: {accuracy}\")\n",
    "    # print(f\"Precision: {precision}\")\n",
    "    \n",
    "    accuracies.append(accuracy)\n",
    "    precisions.append(precision)\n",
    "    \n",
    "print(f\"Mean accuracy: {np.mean(accuracies)}\")\n",
    "print(f\"Mean precision: {np.mean(precisions)}\")\n"
   ],
   "id": "9d85bddf1689024e",
   "outputs": [
    {
     "name": "stderr",
     "output_type": "stream",
     "text": [
      "100%|██████████| 100/100 [00:00<00:00, 351.57it/s]"
     ]
    },
    {
     "name": "stdout",
     "output_type": "stream",
     "text": [
      "Mean accuracy: 0.4821782178217822\n",
      "Mean precision: 0.40625\n"
     ]
    },
    {
     "name": "stderr",
     "output_type": "stream",
     "text": [
      "\n"
     ]
    }
   ],
   "execution_count": 167
  },
  {
   "metadata": {},
   "cell_type": "markdown",
   "source": [
    "#### Results for american dataset:\n",
    "\n",
    "Accuracy: 0.42475247524752474\n",
    "Precision: 0.4291044776119403"
   ],
   "id": "c81e43c91b18aeb5"
  },
  {
   "metadata": {
    "ExecuteTime": {
     "end_time": "2024-09-15T13:40:06.441410Z",
     "start_time": "2024-09-15T13:40:06.434639Z"
    }
   },
   "cell_type": "code",
   "source": "",
   "id": "4e0f233df3f9235",
   "outputs": [],
   "execution_count": 150
  },
  {
   "metadata": {},
   "cell_type": "markdown",
   "source": "## Dataset comparison",
   "id": "e2d9f95c999a918e"
  },
  {
   "metadata": {
    "ExecuteTime": {
     "end_time": "2024-09-20T17:10:06.704691Z",
     "start_time": "2024-09-20T17:10:06.610525Z"
    }
   },
   "cell_type": "code",
   "source": [
    "df1 = pd.read_csv('numerical_dataset_version5_original.csv')\n",
    "df2 = pd.read_csv('sowide_american_bankruptcy_dataset_5years_named_features_withoutX9.csv')\n",
    "\n",
    "df1.drop(['cik', 'ticker', 'Fiscal Period', 'label', 'subset'], axis=1, inplace=True)\n",
    "df2.drop(['company_name', 'fyear', 'Division', 'MajorGroup', 'label'], axis=1, inplace=True)"
   ],
   "id": "215cd00e7ee3395f",
   "outputs": [],
   "execution_count": 86
  },
  {
   "metadata": {
    "ExecuteTime": {
     "end_time": "2024-09-20T17:10:08.240514Z",
     "start_time": "2024-09-20T17:10:08.210171Z"
    }
   },
   "cell_type": "code",
   "source": "df1.describe()",
   "id": "d7f8b0ef46ef145e",
   "outputs": [
    {
     "data": {
      "text/plain": [
       "       Cost of Goods Sold  Depreciation, Depletion and Amortization  \\\n",
       "count        22330.000000                              22330.000000   \n",
       "mean          2804.200786                                222.866117   \n",
       "std          12369.437296                                992.374917   \n",
       "min          -1647.000000                                -59.000000   \n",
       "25%            151.000000                                  8.000000   \n",
       "50%            484.000000                                 34.000000   \n",
       "75%           1625.750000                                125.000000   \n",
       "max         420315.000000                              46009.000000   \n",
       "\n",
       "                EBIT         EBITDA   Gross Profit  Long-Term Debt  \\\n",
       "count   22330.000000   22330.000000   22330.000000    22330.000000   \n",
       "mean      398.594389     647.420785    1349.241089     2355.462146   \n",
       "std      2476.740748    3104.565968    5036.434723    11671.391981   \n",
       "min    -27725.000000  -27317.000000   -5685.000000        0.000000   \n",
       "25%         3.000000      25.425000     128.800000      126.025000   \n",
       "50%        64.000000     118.000000     324.000000      452.800000   \n",
       "75%       284.000000     437.000000     904.000000     1605.000000   \n",
       "max    111852.000000  123136.000000  152836.000000   429944.000000   \n",
       "\n",
       "          Market Cap    Net Income  Retained Earnings        Revenue  \\\n",
       "count   22330.000000  22330.000000       22330.000000   22330.000000   \n",
       "mean     7757.127167    259.033829        1321.414790    3585.979678   \n",
       "std     29582.063574   1961.031488       11497.421934   15472.447328   \n",
       "min         0.000000 -27590.000000      -85041.000000   -1992.140000   \n",
       "25%       458.000000     -3.000000        -103.500000     179.800000   \n",
       "50%      1495.500000     24.410000          55.000000     602.800000   \n",
       "75%      4709.750000    135.000000         463.875000    2045.750000   \n",
       "max    995107.000000  94680.000000      444626.000000  559151.000000   \n",
       "\n",
       "        Total Assets  Total Current Assets  Total Current Liabilities  \\\n",
       "count   22330.000000          22330.000000               22330.000000   \n",
       "mean     8904.679528           1805.225018                1277.980019   \n",
       "std     37632.370805           6835.098524                5095.109401   \n",
       "min         0.000000              0.000000                   0.000000   \n",
       "25%       555.000000            173.000000                  79.700000   \n",
       "50%      1476.795000            398.000000                 211.000000   \n",
       "75%      4689.000000           1142.750000                 677.000000   \n",
       "max    992968.000000         184406.000000              125481.000000   \n",
       "\n",
       "       Total Inventories  Total Liabilities  Total Operating Expense  \\\n",
       "count       22330.000000       22330.000000             22330.000000   \n",
       "mean          433.914126        6651.132837               947.781048   \n",
       "std          1648.969248       31288.700681              3444.501464   \n",
       "min             0.000000       -4733.000000             -3518.000000   \n",
       "25%            23.000000         303.000000               107.600000   \n",
       "50%            90.000000         930.000000               244.000000   \n",
       "75%           332.000000        3144.000000               631.000000   \n",
       "max         81715.000000      902703.000000            116288.000000   \n",
       "\n",
       "       Total Receivables  \n",
       "count       22330.000000  \n",
       "mean          674.301173  \n",
       "std          3383.087339  \n",
       "min             0.000000  \n",
       "25%            26.000000  \n",
       "50%            92.000000  \n",
       "75%           333.000000  \n",
       "max        128387.000000  "
      ],
      "text/html": [
       "<div>\n",
       "<style scoped>\n",
       "    .dataframe tbody tr th:only-of-type {\n",
       "        vertical-align: middle;\n",
       "    }\n",
       "\n",
       "    .dataframe tbody tr th {\n",
       "        vertical-align: top;\n",
       "    }\n",
       "\n",
       "    .dataframe thead th {\n",
       "        text-align: right;\n",
       "    }\n",
       "</style>\n",
       "<table border=\"1\" class=\"dataframe\">\n",
       "  <thead>\n",
       "    <tr style=\"text-align: right;\">\n",
       "      <th></th>\n",
       "      <th>Cost of Goods Sold</th>\n",
       "      <th>Depreciation, Depletion and Amortization</th>\n",
       "      <th>EBIT</th>\n",
       "      <th>EBITDA</th>\n",
       "      <th>Gross Profit</th>\n",
       "      <th>Long-Term Debt</th>\n",
       "      <th>Market Cap</th>\n",
       "      <th>Net Income</th>\n",
       "      <th>Retained Earnings</th>\n",
       "      <th>Revenue</th>\n",
       "      <th>Total Assets</th>\n",
       "      <th>Total Current Assets</th>\n",
       "      <th>Total Current Liabilities</th>\n",
       "      <th>Total Inventories</th>\n",
       "      <th>Total Liabilities</th>\n",
       "      <th>Total Operating Expense</th>\n",
       "      <th>Total Receivables</th>\n",
       "    </tr>\n",
       "  </thead>\n",
       "  <tbody>\n",
       "    <tr>\n",
       "      <th>count</th>\n",
       "      <td>22330.000000</td>\n",
       "      <td>22330.000000</td>\n",
       "      <td>22330.000000</td>\n",
       "      <td>22330.000000</td>\n",
       "      <td>22330.000000</td>\n",
       "      <td>22330.000000</td>\n",
       "      <td>22330.000000</td>\n",
       "      <td>22330.000000</td>\n",
       "      <td>22330.000000</td>\n",
       "      <td>22330.000000</td>\n",
       "      <td>22330.000000</td>\n",
       "      <td>22330.000000</td>\n",
       "      <td>22330.000000</td>\n",
       "      <td>22330.000000</td>\n",
       "      <td>22330.000000</td>\n",
       "      <td>22330.000000</td>\n",
       "      <td>22330.000000</td>\n",
       "    </tr>\n",
       "    <tr>\n",
       "      <th>mean</th>\n",
       "      <td>2804.200786</td>\n",
       "      <td>222.866117</td>\n",
       "      <td>398.594389</td>\n",
       "      <td>647.420785</td>\n",
       "      <td>1349.241089</td>\n",
       "      <td>2355.462146</td>\n",
       "      <td>7757.127167</td>\n",
       "      <td>259.033829</td>\n",
       "      <td>1321.414790</td>\n",
       "      <td>3585.979678</td>\n",
       "      <td>8904.679528</td>\n",
       "      <td>1805.225018</td>\n",
       "      <td>1277.980019</td>\n",
       "      <td>433.914126</td>\n",
       "      <td>6651.132837</td>\n",
       "      <td>947.781048</td>\n",
       "      <td>674.301173</td>\n",
       "    </tr>\n",
       "    <tr>\n",
       "      <th>std</th>\n",
       "      <td>12369.437296</td>\n",
       "      <td>992.374917</td>\n",
       "      <td>2476.740748</td>\n",
       "      <td>3104.565968</td>\n",
       "      <td>5036.434723</td>\n",
       "      <td>11671.391981</td>\n",
       "      <td>29582.063574</td>\n",
       "      <td>1961.031488</td>\n",
       "      <td>11497.421934</td>\n",
       "      <td>15472.447328</td>\n",
       "      <td>37632.370805</td>\n",
       "      <td>6835.098524</td>\n",
       "      <td>5095.109401</td>\n",
       "      <td>1648.969248</td>\n",
       "      <td>31288.700681</td>\n",
       "      <td>3444.501464</td>\n",
       "      <td>3383.087339</td>\n",
       "    </tr>\n",
       "    <tr>\n",
       "      <th>min</th>\n",
       "      <td>-1647.000000</td>\n",
       "      <td>-59.000000</td>\n",
       "      <td>-27725.000000</td>\n",
       "      <td>-27317.000000</td>\n",
       "      <td>-5685.000000</td>\n",
       "      <td>0.000000</td>\n",
       "      <td>0.000000</td>\n",
       "      <td>-27590.000000</td>\n",
       "      <td>-85041.000000</td>\n",
       "      <td>-1992.140000</td>\n",
       "      <td>0.000000</td>\n",
       "      <td>0.000000</td>\n",
       "      <td>0.000000</td>\n",
       "      <td>0.000000</td>\n",
       "      <td>-4733.000000</td>\n",
       "      <td>-3518.000000</td>\n",
       "      <td>0.000000</td>\n",
       "    </tr>\n",
       "    <tr>\n",
       "      <th>25%</th>\n",
       "      <td>151.000000</td>\n",
       "      <td>8.000000</td>\n",
       "      <td>3.000000</td>\n",
       "      <td>25.425000</td>\n",
       "      <td>128.800000</td>\n",
       "      <td>126.025000</td>\n",
       "      <td>458.000000</td>\n",
       "      <td>-3.000000</td>\n",
       "      <td>-103.500000</td>\n",
       "      <td>179.800000</td>\n",
       "      <td>555.000000</td>\n",
       "      <td>173.000000</td>\n",
       "      <td>79.700000</td>\n",
       "      <td>23.000000</td>\n",
       "      <td>303.000000</td>\n",
       "      <td>107.600000</td>\n",
       "      <td>26.000000</td>\n",
       "    </tr>\n",
       "    <tr>\n",
       "      <th>50%</th>\n",
       "      <td>484.000000</td>\n",
       "      <td>34.000000</td>\n",
       "      <td>64.000000</td>\n",
       "      <td>118.000000</td>\n",
       "      <td>324.000000</td>\n",
       "      <td>452.800000</td>\n",
       "      <td>1495.500000</td>\n",
       "      <td>24.410000</td>\n",
       "      <td>55.000000</td>\n",
       "      <td>602.800000</td>\n",
       "      <td>1476.795000</td>\n",
       "      <td>398.000000</td>\n",
       "      <td>211.000000</td>\n",
       "      <td>90.000000</td>\n",
       "      <td>930.000000</td>\n",
       "      <td>244.000000</td>\n",
       "      <td>92.000000</td>\n",
       "    </tr>\n",
       "    <tr>\n",
       "      <th>75%</th>\n",
       "      <td>1625.750000</td>\n",
       "      <td>125.000000</td>\n",
       "      <td>284.000000</td>\n",
       "      <td>437.000000</td>\n",
       "      <td>904.000000</td>\n",
       "      <td>1605.000000</td>\n",
       "      <td>4709.750000</td>\n",
       "      <td>135.000000</td>\n",
       "      <td>463.875000</td>\n",
       "      <td>2045.750000</td>\n",
       "      <td>4689.000000</td>\n",
       "      <td>1142.750000</td>\n",
       "      <td>677.000000</td>\n",
       "      <td>332.000000</td>\n",
       "      <td>3144.000000</td>\n",
       "      <td>631.000000</td>\n",
       "      <td>333.000000</td>\n",
       "    </tr>\n",
       "    <tr>\n",
       "      <th>max</th>\n",
       "      <td>420315.000000</td>\n",
       "      <td>46009.000000</td>\n",
       "      <td>111852.000000</td>\n",
       "      <td>123136.000000</td>\n",
       "      <td>152836.000000</td>\n",
       "      <td>429944.000000</td>\n",
       "      <td>995107.000000</td>\n",
       "      <td>94680.000000</td>\n",
       "      <td>444626.000000</td>\n",
       "      <td>559151.000000</td>\n",
       "      <td>992968.000000</td>\n",
       "      <td>184406.000000</td>\n",
       "      <td>125481.000000</td>\n",
       "      <td>81715.000000</td>\n",
       "      <td>902703.000000</td>\n",
       "      <td>116288.000000</td>\n",
       "      <td>128387.000000</td>\n",
       "    </tr>\n",
       "  </tbody>\n",
       "</table>\n",
       "</div>"
      ]
     },
     "execution_count": 87,
     "metadata": {},
     "output_type": "execute_result"
    }
   ],
   "execution_count": 87
  },
  {
   "metadata": {
    "ExecuteTime": {
     "end_time": "2024-09-20T17:10:09.153523Z",
     "start_time": "2024-09-20T17:10:09.110056Z"
    }
   },
   "cell_type": "code",
   "source": "df2.describe()",
   "id": "7a18a18ed5b592c0",
   "outputs": [
    {
     "data": {
      "text/plain": [
       "       Cost of Goods Sold  Depreciation, Depletion and Amortization  \\\n",
       "count        2.936500e+04                              2.936500e+04   \n",
       "mean         6.243817e+05                              3.833786e+05   \n",
       "std          2.057566e+06                              2.415372e+06   \n",
       "min          7.000000e-03                             -3.143700e+04   \n",
       "25%          3.480900e+03                              1.355600e+03   \n",
       "50%          4.448300e+04                              2.078200e+04   \n",
       "75%          3.458750e+05                              1.730550e+05   \n",
       "max          4.827507e+07                              1.632456e+08   \n",
       "\n",
       "               EBIT        EBITDA  Gross Profit  Long-Term Debt    Market Cap  \\\n",
       "count  2.936500e+04  2.936500e+04  2.936500e+04    2.936500e+04  2.936500e+04   \n",
       "mean   2.361547e+04  1.764228e+05  6.900689e+04    1.254670e+04  1.745298e+05   \n",
       "std    8.377113e+05  8.014096e+05  2.845943e+05    1.895519e+05  5.936148e+05   \n",
       "min   -1.900383e+07 -2.300000e+01  0.000000e+00   -7.058978e+06 -4.367571e+06   \n",
       "25%   -5.355800e+04  0.000000e+00  2.125000e+02   -3.991000e+03  4.117600e+02   \n",
       "50%   -8.027000e+01  5.752870e+02  4.119000e+03    5.547000e+00  1.165600e+04   \n",
       "75%    1.414400e+04  1.986100e+04  3.916900e+04    5.894000e+03  1.132980e+05   \n",
       "max    3.095666e+07  2.068708e+07  1.154206e+07    7.521731e+06  1.724914e+07   \n",
       "\n",
       "         Net Income  Retained Earnings       Revenue  Total Assets  \\\n",
       "count  2.936500e+04       2.936500e+04  2.936500e+04  2.936500e+04   \n",
       "mean   4.144138e+04       4.968603e+05  3.856770e+05  1.289232e+05   \n",
       "std    2.225606e+05       5.364679e+06  1.454710e+06  5.471249e+05   \n",
       "min   -5.043795e+06       1.000000e-04  7.000000e-03  7.000000e-03   \n",
       "25%   -1.392000e+03       4.155930e+01  2.224707e+03  1.062400e+03   \n",
       "50%    1.624000e+02       3.446880e+02  1.963200e+04  1.169300e+04   \n",
       "75%    1.541500e+04       3.157765e+03  1.662730e+05  7.300300e+04   \n",
       "max    6.946234e+06       3.748024e+08  3.921136e+07  2.786969e+07   \n",
       "\n",
       "       Total Current Assets  Total Current Liabilities  Total Inventories  \\\n",
       "count          2.936500e+04               2.936500e+04       2.936500e+04   \n",
       "mean           2.150358e+05               5.592116e+05       2.594476e+04   \n",
       "std            7.071624e+05               2.742011e+06       1.005920e+05   \n",
       "min           -2.498000e+03              -1.977000e+03       0.000000e+00   \n",
       "25%            1.292000e+03               1.941200e+03       7.300000e+01   \n",
       "50%            2.196500e+04               3.424400e+04       1.162400e+03   \n",
       "75%            1.549930e+05               3.132310e+05       1.280800e+04   \n",
       "max            2.430330e+07               1.679396e+08       4.165616e+06   \n",
       "\n",
       "       Total Liabilities  Total Operating Expense  Total Receivables  \n",
       "count       2.936500e+04             2.936500e+04       2.936500e+04  \n",
       "mean        5.592116e+05             4.750706e+05       6.586093e+04  \n",
       "std         2.742011e+06             2.256353e+06       2.662746e+05  \n",
       "min        -1.977000e+03            -3.143700e+04      -4.512135e+06  \n",
       "25%         1.941200e+03             3.113000e+03      -3.267000e+01  \n",
       "50%         3.424400e+04             3.929200e+04       8.870000e+02  \n",
       "75%         3.132310e+05             2.746480e+05       2.973200e+04  \n",
       "max         1.679396e+08             1.657008e+08       8.845605e+06  "
      ],
      "text/html": [
       "<div>\n",
       "<style scoped>\n",
       "    .dataframe tbody tr th:only-of-type {\n",
       "        vertical-align: middle;\n",
       "    }\n",
       "\n",
       "    .dataframe tbody tr th {\n",
       "        vertical-align: top;\n",
       "    }\n",
       "\n",
       "    .dataframe thead th {\n",
       "        text-align: right;\n",
       "    }\n",
       "</style>\n",
       "<table border=\"1\" class=\"dataframe\">\n",
       "  <thead>\n",
       "    <tr style=\"text-align: right;\">\n",
       "      <th></th>\n",
       "      <th>Cost of Goods Sold</th>\n",
       "      <th>Depreciation, Depletion and Amortization</th>\n",
       "      <th>EBIT</th>\n",
       "      <th>EBITDA</th>\n",
       "      <th>Gross Profit</th>\n",
       "      <th>Long-Term Debt</th>\n",
       "      <th>Market Cap</th>\n",
       "      <th>Net Income</th>\n",
       "      <th>Retained Earnings</th>\n",
       "      <th>Revenue</th>\n",
       "      <th>Total Assets</th>\n",
       "      <th>Total Current Assets</th>\n",
       "      <th>Total Current Liabilities</th>\n",
       "      <th>Total Inventories</th>\n",
       "      <th>Total Liabilities</th>\n",
       "      <th>Total Operating Expense</th>\n",
       "      <th>Total Receivables</th>\n",
       "    </tr>\n",
       "  </thead>\n",
       "  <tbody>\n",
       "    <tr>\n",
       "      <th>count</th>\n",
       "      <td>2.936500e+04</td>\n",
       "      <td>2.936500e+04</td>\n",
       "      <td>2.936500e+04</td>\n",
       "      <td>2.936500e+04</td>\n",
       "      <td>2.936500e+04</td>\n",
       "      <td>2.936500e+04</td>\n",
       "      <td>2.936500e+04</td>\n",
       "      <td>2.936500e+04</td>\n",
       "      <td>2.936500e+04</td>\n",
       "      <td>2.936500e+04</td>\n",
       "      <td>2.936500e+04</td>\n",
       "      <td>2.936500e+04</td>\n",
       "      <td>2.936500e+04</td>\n",
       "      <td>2.936500e+04</td>\n",
       "      <td>2.936500e+04</td>\n",
       "      <td>2.936500e+04</td>\n",
       "      <td>2.936500e+04</td>\n",
       "    </tr>\n",
       "    <tr>\n",
       "      <th>mean</th>\n",
       "      <td>6.243817e+05</td>\n",
       "      <td>3.833786e+05</td>\n",
       "      <td>2.361547e+04</td>\n",
       "      <td>1.764228e+05</td>\n",
       "      <td>6.900689e+04</td>\n",
       "      <td>1.254670e+04</td>\n",
       "      <td>1.745298e+05</td>\n",
       "      <td>4.144138e+04</td>\n",
       "      <td>4.968603e+05</td>\n",
       "      <td>3.856770e+05</td>\n",
       "      <td>1.289232e+05</td>\n",
       "      <td>2.150358e+05</td>\n",
       "      <td>5.592116e+05</td>\n",
       "      <td>2.594476e+04</td>\n",
       "      <td>5.592116e+05</td>\n",
       "      <td>4.750706e+05</td>\n",
       "      <td>6.586093e+04</td>\n",
       "    </tr>\n",
       "    <tr>\n",
       "      <th>std</th>\n",
       "      <td>2.057566e+06</td>\n",
       "      <td>2.415372e+06</td>\n",
       "      <td>8.377113e+05</td>\n",
       "      <td>8.014096e+05</td>\n",
       "      <td>2.845943e+05</td>\n",
       "      <td>1.895519e+05</td>\n",
       "      <td>5.936148e+05</td>\n",
       "      <td>2.225606e+05</td>\n",
       "      <td>5.364679e+06</td>\n",
       "      <td>1.454710e+06</td>\n",
       "      <td>5.471249e+05</td>\n",
       "      <td>7.071624e+05</td>\n",
       "      <td>2.742011e+06</td>\n",
       "      <td>1.005920e+05</td>\n",
       "      <td>2.742011e+06</td>\n",
       "      <td>2.256353e+06</td>\n",
       "      <td>2.662746e+05</td>\n",
       "    </tr>\n",
       "    <tr>\n",
       "      <th>min</th>\n",
       "      <td>7.000000e-03</td>\n",
       "      <td>-3.143700e+04</td>\n",
       "      <td>-1.900383e+07</td>\n",
       "      <td>-2.300000e+01</td>\n",
       "      <td>0.000000e+00</td>\n",
       "      <td>-7.058978e+06</td>\n",
       "      <td>-4.367571e+06</td>\n",
       "      <td>-5.043795e+06</td>\n",
       "      <td>1.000000e-04</td>\n",
       "      <td>7.000000e-03</td>\n",
       "      <td>7.000000e-03</td>\n",
       "      <td>-2.498000e+03</td>\n",
       "      <td>-1.977000e+03</td>\n",
       "      <td>0.000000e+00</td>\n",
       "      <td>-1.977000e+03</td>\n",
       "      <td>-3.143700e+04</td>\n",
       "      <td>-4.512135e+06</td>\n",
       "    </tr>\n",
       "    <tr>\n",
       "      <th>25%</th>\n",
       "      <td>3.480900e+03</td>\n",
       "      <td>1.355600e+03</td>\n",
       "      <td>-5.355800e+04</td>\n",
       "      <td>0.000000e+00</td>\n",
       "      <td>2.125000e+02</td>\n",
       "      <td>-3.991000e+03</td>\n",
       "      <td>4.117600e+02</td>\n",
       "      <td>-1.392000e+03</td>\n",
       "      <td>4.155930e+01</td>\n",
       "      <td>2.224707e+03</td>\n",
       "      <td>1.062400e+03</td>\n",
       "      <td>1.292000e+03</td>\n",
       "      <td>1.941200e+03</td>\n",
       "      <td>7.300000e+01</td>\n",
       "      <td>1.941200e+03</td>\n",
       "      <td>3.113000e+03</td>\n",
       "      <td>-3.267000e+01</td>\n",
       "    </tr>\n",
       "    <tr>\n",
       "      <th>50%</th>\n",
       "      <td>4.448300e+04</td>\n",
       "      <td>2.078200e+04</td>\n",
       "      <td>-8.027000e+01</td>\n",
       "      <td>5.752870e+02</td>\n",
       "      <td>4.119000e+03</td>\n",
       "      <td>5.547000e+00</td>\n",
       "      <td>1.165600e+04</td>\n",
       "      <td>1.624000e+02</td>\n",
       "      <td>3.446880e+02</td>\n",
       "      <td>1.963200e+04</td>\n",
       "      <td>1.169300e+04</td>\n",
       "      <td>2.196500e+04</td>\n",
       "      <td>3.424400e+04</td>\n",
       "      <td>1.162400e+03</td>\n",
       "      <td>3.424400e+04</td>\n",
       "      <td>3.929200e+04</td>\n",
       "      <td>8.870000e+02</td>\n",
       "    </tr>\n",
       "    <tr>\n",
       "      <th>75%</th>\n",
       "      <td>3.458750e+05</td>\n",
       "      <td>1.730550e+05</td>\n",
       "      <td>1.414400e+04</td>\n",
       "      <td>1.986100e+04</td>\n",
       "      <td>3.916900e+04</td>\n",
       "      <td>5.894000e+03</td>\n",
       "      <td>1.132980e+05</td>\n",
       "      <td>1.541500e+04</td>\n",
       "      <td>3.157765e+03</td>\n",
       "      <td>1.662730e+05</td>\n",
       "      <td>7.300300e+04</td>\n",
       "      <td>1.549930e+05</td>\n",
       "      <td>3.132310e+05</td>\n",
       "      <td>1.280800e+04</td>\n",
       "      <td>3.132310e+05</td>\n",
       "      <td>2.746480e+05</td>\n",
       "      <td>2.973200e+04</td>\n",
       "    </tr>\n",
       "    <tr>\n",
       "      <th>max</th>\n",
       "      <td>4.827507e+07</td>\n",
       "      <td>1.632456e+08</td>\n",
       "      <td>3.095666e+07</td>\n",
       "      <td>2.068708e+07</td>\n",
       "      <td>1.154206e+07</td>\n",
       "      <td>7.521731e+06</td>\n",
       "      <td>1.724914e+07</td>\n",
       "      <td>6.946234e+06</td>\n",
       "      <td>3.748024e+08</td>\n",
       "      <td>3.921136e+07</td>\n",
       "      <td>2.786969e+07</td>\n",
       "      <td>2.430330e+07</td>\n",
       "      <td>1.679396e+08</td>\n",
       "      <td>4.165616e+06</td>\n",
       "      <td>1.679396e+08</td>\n",
       "      <td>1.657008e+08</td>\n",
       "      <td>8.845605e+06</td>\n",
       "    </tr>\n",
       "  </tbody>\n",
       "</table>\n",
       "</div>"
      ]
     },
     "execution_count": 88,
     "metadata": {},
     "output_type": "execute_result"
    }
   ],
   "execution_count": 88
  },
  {
   "metadata": {
    "ExecuteTime": {
     "end_time": "2024-09-20T17:14:54.306607Z",
     "start_time": "2024-09-20T17:14:54.292439Z"
    }
   },
   "cell_type": "code",
   "source": [
    "import seaborn as sns\n",
    "import math\n",
    "from matplotlib.patches import Rectangle"
   ],
   "id": "a8537d6b5be5976b",
   "outputs": [],
   "execution_count": 95
  },
  {
   "metadata": {
    "ExecuteTime": {
     "end_time": "2024-09-20T17:49:21.458100Z",
     "start_time": "2024-09-20T17:49:12.497568Z"
    }
   },
   "cell_type": "code",
   "source": [
    "numeric_columns = df1.select_dtypes(include=['float64', 'int64']).columns\n",
    "\n",
    "n_cols = 3\n",
    "n_rows = math.ceil(len(numeric_columns) / n_cols)\n",
    "\n",
    "# sns.set(font_scale=1.5)\n",
    "\n",
    "fig, axes = plt.subplots(n_rows, n_cols, figsize=(15, n_rows * 4))\n",
    "fig.suptitle('Porównanie rozkładów cech numerycznych (wartości cech w skali log.)', fontsize=22)\n",
    "\n",
    "axes = axes.flatten()\n",
    "\n",
    "for idx, column in enumerate(numeric_columns):\n",
    "    # Log transform both datasets, avoiding log(0) by adding a small constant\n",
    "    df1_log = np.log1p(df1[column].clip(lower=1e-5))  # log1p(x) = log(1 + x), handles small values\n",
    "    df2_log = np.log1p(df2[column].clip(lower=1e-5))\n",
    "    \n",
    "    sns.kdeplot(df1_log, shade=True, ax=axes[idx], color='blue')\n",
    "    sns.kdeplot(df2_log, shade=True, ax=axes[idx], color='orange')\n",
    "    axes[idx].set_title(f'{column}', fontsize=19)\n",
    "    axes[idx].set_xlabel('Wartość', fontsize=16)\n",
    "    axes[idx].set_ylabel('Gęstość', fontsize=16)\n",
    "    \n",
    "    axes[idx].add_patch(Rectangle(\n",
    "        (0, 0), 1, 1, transform=axes[idx].transAxes, \n",
    "        fill=False, color='black', lw=2, clip_on=False))\n",
    "    \n",
    "    # if idx < 2:\n",
    "    #     ax_pos = axes[idx].get_position()\n",
    "    #     rect = plt.Rectangle(xy=(ax_pos.x0-0.04, ax_pos.y0),\n",
    "    #                          width=0.33, height=0.16,\n",
    "    #                          transform=fig.transFigure, figure=fig,\n",
    "    #                          fill=False, color=\"k\", lw=2, zorder=1000)\n",
    "    #     fig.patches.extend([rect])\n",
    "\n",
    "for i in range(len(numeric_columns), len(axes)):\n",
    "    fig.delaxes(axes[i])\n",
    "# for i in range(n_rows):\n",
    "#     for j in range(n_cols):\n",
    "#         \n",
    "# \n",
    "#         rect = plt.Rectangle(\n",
    "#             # (lower-left corner), width, height\n",
    "#             (0.333*j, i*0.155), 0.32, 0.16, fill=False, color=\"k\", lw=2, \n",
    "#             zorder=1000, transform=fig.transFigure, figure=fig\n",
    "#         )\n",
    "#         fig.patches.extend([rect])\n",
    "\n",
    "handles = [\n",
    "    plt.Line2D([0], [0], color='blue', lw=2, label='Utworzony zbiór'),\n",
    "    plt.Line2D([0], [0], color='orange', lw=2, label='Referencyjny zbiór')\n",
    "]\n",
    "\n",
    "fig.legend(handles=handles, loc='upper right', ncol=1, fontsize=14)\n",
    "\n",
    "plt.tight_layout(rect=(0, 0, 1, 0.95))\n",
    "plt.show()"
   ],
   "id": "39bc04b3d0953db6",
   "outputs": [
    {
     "data": {
      "text/plain": [
       "<Figure size 1500x2400 with 17 Axes>"
      ],
      "image/png": "[encoded data removed]"
     },
     "metadata": {},
     "output_type": "display_data"
    }
   ],
   "execution_count": 127
  },
  {
   "metadata": {},
   "cell_type": "code",
   "outputs": [],
   "execution_count": null,
   "source": "",
   "id": "b66e7da87ba5358f"
  }
 ],
 "metadata": {
  "kernelspec": {
   "display_name": "Python 3",
   "language": "python",
   "name": "python3"
  },
  "language_info": {
   "codemirror_mode": {
    "name": "ipython",
    "version": 2
   },
   "file_extension": ".py",
   "mimetype": "text/x-python",
   "name": "python",
   "nbconvert_exporter": "python",
   "pygments_lexer": "ipython2",
   "version": "2.7.6"
  }
 },
 "nbformat": 4,
 "nbformat_minor": 5
}

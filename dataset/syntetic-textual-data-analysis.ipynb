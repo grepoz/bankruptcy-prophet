{
 "cells": [
  {
   "metadata": {},
   "cell_type": "markdown",
   "source": [
    "### Performing generated paraphrased texts similarity analysis with the original texts\n",
    "using: https://radimrehurek.com/gensim/auto_examples/core/run_similarity_queries.html#sphx-glr-auto-examples-core-run-similarity-queries-py"
   ],
   "id": "7ff33dbf08348845"
  },
  {
   "metadata": {
    "ExecuteTime": {
     "end_time": "2024-06-06T09:53:03.305519Z",
     "start_time": "2024-06-06T09:53:03.290866Z"
    }
   },
   "cell_type": "code",
   "source": [
    "import os\n",
    "from collections import defaultdict\n",
    "from gensim import corpora\n",
    "from gensim import models\n",
    "from gensim import similarities\n",
    "import nltk\n",
    "nltk.download('stopwords')\n",
    "from nltk.corpus import stopwords"
   ],
   "id": "bc510c6c299cc009",
   "outputs": [
    {
     "name": "stderr",
     "output_type": "stream",
     "text": [
      "[nltk_data] Downloading package stopwords to\n",
      "[nltk_data]     C:\\Users\\grzeg\\AppData\\Roaming\\nltk_data...\n",
      "[nltk_data]   Package stopwords is already up-to-date!\n"
     ]
    }
   ],
   "execution_count": 42
  },
  {
   "metadata": {
    "ExecuteTime": {
     "end_time": "2024-06-06T09:53:05.289022Z",
     "start_time": "2024-06-06T09:53:05.273885Z"
    }
   },
   "cell_type": "code",
   "source": [
    "def remove_stopwords(document):\n",
    "    return [word for word in document.lower().split() if word not in stop_words]\n",
    "\n",
    "def calculate_similarities(raw_texts, original_text):\n",
    "    \n",
    "    texts = [remove_stopwords(document) for document in raw_texts]\n",
    "    \n",
    "    frequency = defaultdict(int)\n",
    "    for text in texts:\n",
    "        for token in text:\n",
    "            frequency[token] += 1\n",
    "    \n",
    "    texts = [\n",
    "        [token for token in text if frequency[token] > 1]\n",
    "        for text in texts\n",
    "    ]\n",
    "    \n",
    "    dictionary = corpora.Dictionary(texts)\n",
    "    corpus = [dictionary.doc2bow(text) for text in texts]\n",
    "    \n",
    "    lsi = models.LsiModel(corpus, id2word=dictionary, num_topics=2)\n",
    "    \n",
    "    index = similarities.MatrixSimilarity(lsi[corpus])\n",
    "    \n",
    "    vec_bow = dictionary.doc2bow(remove_stopwords(original_text))\n",
    "    vec_lsi = lsi[vec_bow]\n",
    "    \n",
    "    # Performing queries\n",
    "    sims = index[vec_lsi]\n",
    "    \n",
    "    return sims"
   ],
   "id": "810d1fa47630b823",
   "outputs": [],
   "execution_count": 43
  },
  {
   "metadata": {
    "ExecuteTime": {
     "end_time": "2024-06-06T11:49:01.867575Z",
     "start_time": "2024-06-06T11:49:01.860135Z"
    }
   },
   "cell_type": "code",
   "source": [
    "summarized_mda_sections_for_not_eligible_companies_for_oversampling_paraphrased_raw_directory = 'summarized_mda_sections_for_not_eligible_companies_for_oversampling_paraphrased_raw'\n",
    "summarized_mda_sections_for_not_eligible_companies_for_oversampling_directory = 'summarized_mda_sections_for_not_eligible_companies_for_oversampling'\n",
    "summarized_mda_sections_for_not_eligible_companies_for_oversampling_second_summarization_directory = 'summarized_mda_sections_for_not_eligible_companies_for_oversampling_second_summarization'"
   ],
   "id": "ad6c91c2316b947e",
   "outputs": [],
   "execution_count": 63
  },
  {
   "metadata": {
    "ExecuteTime": {
     "end_time": "2024-06-06T09:50:52.113622Z",
     "start_time": "2024-06-06T09:50:52.102521Z"
    }
   },
   "cell_type": "code",
   "source": [
    "original_summarized_filenames_dict = {}\n",
    "for filename in os.listdir(summarized_mda_sections_for_not_eligible_companies_for_oversampling_directory):\n",
    "    original_summarized_filenames_dict[filename.split('-')[0]] = filename\n",
    "len(original_summarized_filenames_dict)"
   ],
   "id": "43a1f993ddcbbf7b",
   "outputs": [
    {
     "data": {
      "text/plain": [
       "232"
      ]
     },
     "execution_count": 35,
     "metadata": {},
     "output_type": "execute_result"
    }
   ],
   "execution_count": 35
  },
  {
   "cell_type": "code",
   "id": "initial_id",
   "metadata": {
    "collapsed": true,
    "ExecuteTime": {
     "end_time": "2024-06-06T09:53:19.134870Z",
     "start_time": "2024-06-06T09:53:07.736440Z"
    }
   },
   "source": [
    "paraphrased_texts = []\n",
    "all_similarities = []\n",
    "\n",
    "stop_words = stopwords.words('english')\n",
    "\n",
    "previous_cik = -1\n",
    "\n",
    "sorted_filenames = sorted(os.listdir(summarized_mda_sections_for_not_eligible_companies_for_oversampling_paraphrased_raw_directory))\n",
    "original_summarized_filenames_dict_keys = original_summarized_filenames_dict.keys()\n",
    "\n",
    "for filename in sorted_filenames:\n",
    "    cik = filename.split('-')[0]\n",
    "    \n",
    "    if previous_cik != cik and previous_cik != -1:\n",
    "        \n",
    "        if cik in original_summarized_filenames_dict_keys:\n",
    "            \n",
    "            original_filename = original_summarized_filenames_dict[cik]\n",
    "            with open(os.path.join(summarized_mda_sections_for_not_eligible_companies_for_oversampling_directory, original_filename), 'r') as file:\n",
    "                original_text = file.read()\n",
    "        \n",
    "            sims = calculate_similarities(paraphrased_texts, original_text)\n",
    "            all_similarities.append(sims)\n",
    "            \n",
    "        paraphrased_texts = []\n",
    "        \n",
    "    with open(os.path.join(summarized_mda_sections_for_not_eligible_companies_for_oversampling_paraphrased_raw_directory, filename), 'r') as file:\n",
    "        text = file.read()\n",
    "        \n",
    "    paraphrased_texts.append(text)\n",
    "        \n",
    "    previous_cik = cik"
   ],
   "outputs": [],
   "execution_count": 44
  },
  {
   "metadata": {
    "ExecuteTime": {
     "end_time": "2024-06-06T09:53:54.635618Z",
     "start_time": "2024-06-06T09:53:54.617131Z"
    }
   },
   "cell_type": "code",
   "source": [
    "all_similarities_flattened = [sim for sims in all_similarities for sim in sims]\n",
    "len(all_similarities_flattened)"
   ],
   "id": "6c8f81dd9aa09979",
   "outputs": [
    {
     "data": {
      "text/plain": [
       "2130"
      ]
     },
     "execution_count": 46,
     "metadata": {},
     "output_type": "execute_result"
    }
   ],
   "execution_count": 46
  },
  {
   "metadata": {
    "ExecuteTime": {
     "end_time": "2024-06-06T09:55:37.357737Z",
     "start_time": "2024-06-06T09:55:37.105030Z"
    }
   },
   "cell_type": "code",
   "source": [
    "import matplotlib.pyplot as plt\n",
    "plt.hist(all_similarities_flattened, bins=200)"
   ],
   "id": "f1a9f8128e791abd",
   "outputs": [
    {
     "data": {
      "text/plain": [
       "(array([  1.,   0.,   0.,   0.,   0.,   0.,   0.,   0.,   0.,   0.,   0.,\n",
       "          0.,   0.,   0.,   0.,   0.,   0.,   0.,   0.,   0.,   0.,   0.,\n",
       "          0.,   1.,   0.,   0.,   0.,   0.,   0.,   0.,   0.,   0.,   0.,\n",
       "          0.,   0.,   0.,   0.,   0.,   0.,   0.,   1.,   0.,   0.,   0.,\n",
       "          0.,   0.,   0.,   0.,   1.,   0.,   0.,   0.,   0.,   0.,   0.,\n",
       "          0.,   0.,   0.,   0.,   0.,   1.,   0.,   1.,   0.,   0.,   0.,\n",
       "          0.,   2.,   0.,   1.,   0.,   0.,   0.,   0.,   1.,   1.,   1.,\n",
       "          1.,   1.,   0.,   0.,   1.,   2.,   0.,   4.,   1.,   0.,   1.,\n",
       "          0.,   4.,   0.,   2.,   0.,   1.,   0.,   1.,   1.,   0.,   0.,\n",
       "          2.,   0.,   0.,   0.,   0.,   0.,   0.,   0.,   3.,   4.,   1.,\n",
       "          7.,   1.,   1.,   1.,   0.,   2.,   4.,   2.,   0.,   0.,   2.,\n",
       "          2.,   1.,   2.,   1.,   1.,   2.,   1.,   1.,   1.,   3.,   1.,\n",
       "          0.,   1.,   4.,   4.,  10.,   5.,   6.,   4.,   7.,   4.,   1.,\n",
       "          5.,   5.,   2.,   8.,  10.,   3.,   9.,  17.,   8.,   7.,  12.,\n",
       "         12.,   9.,   6.,  10.,   5.,   8.,  13.,  17.,  10.,  14.,  15.,\n",
       "         13.,  14.,  17.,  15.,  14.,  13.,  15.,  24.,  22.,  17.,  23.,\n",
       "         21.,  22.,  29.,  28.,  23.,  35.,  26.,  34.,  35.,  35.,  32.,\n",
       "         33.,  48.,  43.,  55.,  42.,  58.,  82.,  64.,  83.,  90., 125.,\n",
       "        168., 403.]),\n",
       " array([0.236258  , 0.24007671, 0.24389543, 0.24771413, 0.25153285,\n",
       "        0.25535154, 0.25917026, 0.26298898, 0.26680768, 0.2706264 ,\n",
       "        0.27444509, 0.27826381, 0.28208253, 0.28590122, 0.28971994,\n",
       "        0.29353866, 0.29735735, 0.30117607, 0.30499479, 0.30881348,\n",
       "        0.3126322 , 0.31645092, 0.32026961, 0.32408834, 0.32790703,\n",
       "        0.33172575, 0.33554447, 0.33936316, 0.34318188, 0.3470006 ,\n",
       "        0.35081929, 0.35463801, 0.35845673, 0.36227542, 0.36609414,\n",
       "        0.36991286, 0.37373155, 0.37755027, 0.38136899, 0.38518769,\n",
       "        0.38900641, 0.3928251 , 0.39664382, 0.40046254, 0.40428123,\n",
       "        0.40809995, 0.41191867, 0.41573736, 0.41955608, 0.4233748 ,\n",
       "        0.42719349, 0.43101221, 0.43483093, 0.43864962, 0.44246835,\n",
       "        0.44628704, 0.45010576, 0.45392448, 0.45774317, 0.46156189,\n",
       "        0.46538061, 0.4691993 , 0.47301802, 0.47683674, 0.48065543,\n",
       "        0.48447415, 0.48829287, 0.49211156, 0.49593028, 0.499749  ,\n",
       "        0.5035677 , 0.50738639, 0.51120514, 0.51502383, 0.51884252,\n",
       "        0.52266127, 0.52647996, 0.53029865, 0.5341174 , 0.53793609,\n",
       "        0.54175478, 0.54557353, 0.54939222, 0.55321091, 0.55702966,\n",
       "        0.56084836, 0.56466705, 0.5684858 , 0.57230449, 0.57612318,\n",
       "        0.57994193, 0.58376062, 0.58757931, 0.591398  , 0.59521675,\n",
       "        0.59903544, 0.60285413, 0.60667288, 0.61049157, 0.61431026,\n",
       "        0.61812901, 0.62194771, 0.6257664 , 0.62958515, 0.63340384,\n",
       "        0.63722253, 0.64104128, 0.64485997, 0.64867866, 0.65249741,\n",
       "        0.6563161 , 0.66013479, 0.66395354, 0.66777223, 0.67159092,\n",
       "        0.67540967, 0.67922837, 0.68304706, 0.68686581, 0.6906845 ,\n",
       "        0.69450319, 0.69832194, 0.70214063, 0.70595932, 0.70977801,\n",
       "        0.71359676, 0.71741545, 0.72123414, 0.72505289, 0.72887158,\n",
       "        0.73269027, 0.73650903, 0.74032772, 0.74414641, 0.74796516,\n",
       "        0.75178385, 0.75560254, 0.75942129, 0.76323998, 0.76705867,\n",
       "        0.77087742, 0.77469611, 0.7785148 , 0.78233355, 0.78615224,\n",
       "        0.78997093, 0.79378968, 0.79760838, 0.80142707, 0.80524582,\n",
       "        0.80906451, 0.8128832 , 0.81670195, 0.82052064, 0.82433933,\n",
       "        0.82815802, 0.83197677, 0.83579546, 0.83961415, 0.8434329 ,\n",
       "        0.84725159, 0.85107028, 0.85488904, 0.85870773, 0.86252642,\n",
       "        0.86634517, 0.87016386, 0.87398255, 0.8778013 , 0.88161999,\n",
       "        0.88543868, 0.88925743, 0.89307612, 0.89689481, 0.90071356,\n",
       "        0.90453225, 0.90835094, 0.91216969, 0.91598839, 0.91980708,\n",
       "        0.92362583, 0.92744452, 0.93126321, 0.93508196, 0.93890065,\n",
       "        0.94271934, 0.94653803, 0.95035678, 0.95417547, 0.95799416,\n",
       "        0.96181291, 0.9656316 , 0.96945029, 0.97326905, 0.97708774,\n",
       "        0.98090643, 0.98472518, 0.98854387, 0.99236256, 0.99618131,\n",
       "        1.        ]),\n",
       " <BarContainer object of 200 artists>)"
      ]
     },
     "execution_count": 48,
     "metadata": {},
     "output_type": "execute_result"
    },
    {
     "data": {
      "text/plain": [
       "<Figure size 640x480 with 1 Axes>"
      ],
      "image/png": "[encoded data removed]"
     },
     "metadata": {},
     "output_type": "display_data"
    }
   ],
   "execution_count": 48
  },
  {
   "metadata": {
    "ExecuteTime": {
     "end_time": "2024-06-06T09:56:01.695206Z",
     "start_time": "2024-06-06T09:56:01.571820Z"
    }
   },
   "cell_type": "code",
   "source": "plt.hist(all_similarities_flattened, bins=50)",
   "id": "5351fcd15d746400",
   "outputs": [
    {
     "data": {
      "text/plain": [
       "(array([  1.,   0.,   0.,   0.,   0.,   1.,   0.,   0.,   0.,   0.,   1.,\n",
       "          0.,   1.,   0.,   0.,   2.,   2.,   1.,   2.,   3.,   3.,   6.,\n",
       "          6.,   2.,   3.,   0.,   3.,  13.,   4.,   6.,   7.,   5.,   6.,\n",
       "          9.,  25.,  17.,  25.,  37.,  40.,  29.,  54.,  59.,  57.,  86.,\n",
       "        100., 118., 135., 188., 287., 786.]),\n",
       " array([0.236258  , 0.25153285, 0.26680768, 0.28208253, 0.29735735,\n",
       "        0.3126322 , 0.32790703, 0.34318188, 0.35845673, 0.37373155,\n",
       "        0.38900641, 0.40428123, 0.41955608, 0.43483093, 0.45010576,\n",
       "        0.46538061, 0.48065543, 0.49593028, 0.51120514, 0.52647996,\n",
       "        0.54175478, 0.55702966, 0.57230449, 0.58757931, 0.60285413,\n",
       "        0.61812901, 0.63340384, 0.64867866, 0.66395354, 0.67922837,\n",
       "        0.69450319, 0.70977801, 0.72505289, 0.74032772, 0.75560254,\n",
       "        0.77087742, 0.78615224, 0.80142707, 0.81670195, 0.83197677,\n",
       "        0.84725159, 0.86252642, 0.8778013 , 0.89307612, 0.90835094,\n",
       "        0.92362583, 0.93890065, 0.95417547, 0.96945029, 0.98472518,\n",
       "        1.        ]),\n",
       " <BarContainer object of 50 artists>)"
      ]
     },
     "execution_count": 49,
     "metadata": {},
     "output_type": "execute_result"
    },
    {
     "data": {
      "text/plain": [
       "<Figure size 640x480 with 1 Axes>"
      ],
      "image/png": "[encoded data removed]"
     },
     "metadata": {},
     "output_type": "display_data"
    }
   ],
   "execution_count": 49
  },
  {
   "metadata": {
    "ExecuteTime": {
     "end_time": "2024-06-06T09:56:28.264890Z",
     "start_time": "2024-06-06T09:56:28.176076Z"
    }
   },
   "cell_type": "code",
   "source": "plt.hist(all_similarities_flattened, bins=10)",
   "id": "76dd5145804d7024",
   "outputs": [
    {
     "data": {
      "text/plain": [
       "(array([1.000e+00, 1.000e+00, 2.000e+00, 1.000e+01, 2.000e+01, 2.600e+01,\n",
       "        5.200e+01, 1.480e+02, 3.560e+02, 1.514e+03]),\n",
       " array([0.236258  , 0.3126322 , 0.38900641, 0.46538061, 0.54175478,\n",
       "        0.61812901, 0.69450319, 0.77087742, 0.84725159, 0.92362583,\n",
       "        1.        ]),\n",
       " <BarContainer object of 10 artists>)"
      ]
     },
     "execution_count": 51,
     "metadata": {},
     "output_type": "execute_result"
    },
    {
     "data": {
      "text/plain": [
       "<Figure size 640x480 with 1 Axes>"
      ],
      "image/png": "[encoded data removed]"
     },
     "metadata": {},
     "output_type": "display_data"
    }
   ],
   "execution_count": 51
  },
  {
   "metadata": {
    "ExecuteTime": {
     "end_time": "2024-06-06T09:59:38.677164Z",
     "start_time": "2024-06-06T09:59:38.669301Z"
    }
   },
   "cell_type": "code",
   "source": "len([sim for sim in all_similarities_flattened if sim >= 0.9])",
   "id": "e29019f2059f7bad",
   "outputs": [
    {
     "data": {
      "text/plain": [
       "1659"
      ]
     },
     "execution_count": 57,
     "metadata": {},
     "output_type": "execute_result"
    }
   ],
   "execution_count": 57
  },
  {
   "metadata": {
    "ExecuteTime": {
     "end_time": "2024-06-06T10:05:50.179127Z",
     "start_time": "2024-06-06T10:05:50.162987Z"
    }
   },
   "cell_type": "code",
   "source": "len([sim for sim in all_similarities_flattened if sim < 0.9])",
   "id": "a8d0b695000b5a8d",
   "outputs": [
    {
     "data": {
      "text/plain": [
       "471"
      ]
     },
     "execution_count": 58,
     "metadata": {},
     "output_type": "execute_result"
    }
   ],
   "execution_count": 58
  },
  {
   "metadata": {},
   "cell_type": "code",
   "outputs": [
    {
     "name": "stdout",
     "output_type": "stream",
     "text": [
      "232\n"
     ]
    }
   ],
   "execution_count": 17,
   "source": [
    "orig_ciks = []\n",
    "for filename in os.listdir(summarized_mda_sections_for_not_eligible_companies_for_oversampling_directory):\n",
    "    cik = filename.split('-')[0]\n",
    "    orig_ciks.append(cik)\n",
    "    \n",
    "print(len(orig_ciks))"
   ],
   "id": "49bc578cdac267a7"
  },
  {
   "metadata": {
    "ExecuteTime": {
     "end_time": "2024-06-06T10:16:39.921054Z",
     "start_time": "2024-06-06T10:16:39.554486Z"
    }
   },
   "cell_type": "code",
   "source": [
    "import pandas as pd\n",
    "ecl_dataset = pd.read_csv('ECL.csv')\n",
    "ecl_dataset.head()"
   ],
   "id": "34425868a221089c",
   "outputs": [
    {
     "name": "stderr",
     "output_type": "stream",
     "text": [
      "C:\\Users\\grzeg\\AppData\\Local\\Temp\\ipykernel_15236\\1277137587.py:2: DtypeWarning: Columns (13) have mixed types. Specify dtype option on import or set low_memory=False.\n",
      "  ecl_dataset = pd.read_csv('ECL.csv')\n"
     ]
    },
    {
     "data": {
      "text/plain": [
       "   Unnamed: 0     cik   company period_of_report   gvkey    datadate  \\\n",
       "0           1  1750.0  AAR CORP       1994-05-31  1004.0  31/05/1994   \n",
       "1           2  1750.0  AAR CORP       1995-05-31  1004.0  31/05/1995   \n",
       "2           3  1750.0  AAR CORP       1996-05-31  1004.0  31/05/1996   \n",
       "3           4  1750.0  AAR CORP       1997-05-31  1004.0  31/05/1997   \n",
       "4           5  1750.0  AAR CORP       1998-05-31  1004.0  31/05/1998   \n",
       "\n",
       "                                        filename  can_label qualified  label  \\\n",
       "0  /1994/1750_10K_1994_0000912057-94-002818.json       True       Yes  False   \n",
       "1  /1995/1750_10K_1995_0000912057-95-006316.json       True       Yes  False   \n",
       "2  /1996/1750_10K_1996_0000912057-96-018355.json       True       Yes  False   \n",
       "3  /1997/1750_10K_1997_0000912057-97-028915.json       True       Yes  False   \n",
       "4  /1998/1750_10K_1998_0001047469-98-032283.json       True       Yes  False   \n",
       "\n",
       "  bankruptcy_prediction_split bankruptcy_date_1 bankruptcy_date_2  \\\n",
       "0                       train               NaN               NaN   \n",
       "1                       train               NaN               NaN   \n",
       "2                       train               NaN               NaN   \n",
       "3                       train               NaN               NaN   \n",
       "4                       train               NaN               NaN   \n",
       "\n",
       "  bankruptcy_date_3 filing_date  \n",
       "0               NaN  1994-08-24  \n",
       "1               NaN  1995-08-11  \n",
       "2               NaN  1996-08-20  \n",
       "3               NaN  1997-08-22  \n",
       "4               NaN  1998-08-20  "
      ],
      "text/html": [
       "<div>\n",
       "<style scoped>\n",
       "    .dataframe tbody tr th:only-of-type {\n",
       "        vertical-align: middle;\n",
       "    }\n",
       "\n",
       "    .dataframe tbody tr th {\n",
       "        vertical-align: top;\n",
       "    }\n",
       "\n",
       "    .dataframe thead th {\n",
       "        text-align: right;\n",
       "    }\n",
       "</style>\n",
       "<table border=\"1\" class=\"dataframe\">\n",
       "  <thead>\n",
       "    <tr style=\"text-align: right;\">\n",
       "      <th></th>\n",
       "      <th>Unnamed: 0</th>\n",
       "      <th>cik</th>\n",
       "      <th>company</th>\n",
       "      <th>period_of_report</th>\n",
       "      <th>gvkey</th>\n",
       "      <th>datadate</th>\n",
       "      <th>filename</th>\n",
       "      <th>can_label</th>\n",
       "      <th>qualified</th>\n",
       "      <th>label</th>\n",
       "      <th>bankruptcy_prediction_split</th>\n",
       "      <th>bankruptcy_date_1</th>\n",
       "      <th>bankruptcy_date_2</th>\n",
       "      <th>bankruptcy_date_3</th>\n",
       "      <th>filing_date</th>\n",
       "    </tr>\n",
       "  </thead>\n",
       "  <tbody>\n",
       "    <tr>\n",
       "      <th>0</th>\n",
       "      <td>1</td>\n",
       "      <td>1750.0</td>\n",
       "      <td>AAR CORP</td>\n",
       "      <td>1994-05-31</td>\n",
       "      <td>1004.0</td>\n",
       "      <td>31/05/1994</td>\n",
       "      <td>/1994/1750_10K_1994_0000912057-94-002818.json</td>\n",
       "      <td>True</td>\n",
       "      <td>Yes</td>\n",
       "      <td>False</td>\n",
       "      <td>train</td>\n",
       "      <td>NaN</td>\n",
       "      <td>NaN</td>\n",
       "      <td>NaN</td>\n",
       "      <td>1994-08-24</td>\n",
       "    </tr>\n",
       "    <tr>\n",
       "      <th>1</th>\n",
       "      <td>2</td>\n",
       "      <td>1750.0</td>\n",
       "      <td>AAR CORP</td>\n",
       "      <td>1995-05-31</td>\n",
       "      <td>1004.0</td>\n",
       "      <td>31/05/1995</td>\n",
       "      <td>/1995/1750_10K_1995_0000912057-95-006316.json</td>\n",
       "      <td>True</td>\n",
       "      <td>Yes</td>\n",
       "      <td>False</td>\n",
       "      <td>train</td>\n",
       "      <td>NaN</td>\n",
       "      <td>NaN</td>\n",
       "      <td>NaN</td>\n",
       "      <td>1995-08-11</td>\n",
       "    </tr>\n",
       "    <tr>\n",
       "      <th>2</th>\n",
       "      <td>3</td>\n",
       "      <td>1750.0</td>\n",
       "      <td>AAR CORP</td>\n",
       "      <td>1996-05-31</td>\n",
       "      <td>1004.0</td>\n",
       "      <td>31/05/1996</td>\n",
       "      <td>/1996/1750_10K_1996_0000912057-96-018355.json</td>\n",
       "      <td>True</td>\n",
       "      <td>Yes</td>\n",
       "      <td>False</td>\n",
       "      <td>train</td>\n",
       "      <td>NaN</td>\n",
       "      <td>NaN</td>\n",
       "      <td>NaN</td>\n",
       "      <td>1996-08-20</td>\n",
       "    </tr>\n",
       "    <tr>\n",
       "      <th>3</th>\n",
       "      <td>4</td>\n",
       "      <td>1750.0</td>\n",
       "      <td>AAR CORP</td>\n",
       "      <td>1997-05-31</td>\n",
       "      <td>1004.0</td>\n",
       "      <td>31/05/1997</td>\n",
       "      <td>/1997/1750_10K_1997_0000912057-97-028915.json</td>\n",
       "      <td>True</td>\n",
       "      <td>Yes</td>\n",
       "      <td>False</td>\n",
       "      <td>train</td>\n",
       "      <td>NaN</td>\n",
       "      <td>NaN</td>\n",
       "      <td>NaN</td>\n",
       "      <td>1997-08-22</td>\n",
       "    </tr>\n",
       "    <tr>\n",
       "      <th>4</th>\n",
       "      <td>5</td>\n",
       "      <td>1750.0</td>\n",
       "      <td>AAR CORP</td>\n",
       "      <td>1998-05-31</td>\n",
       "      <td>1004.0</td>\n",
       "      <td>31/05/1998</td>\n",
       "      <td>/1998/1750_10K_1998_0001047469-98-032283.json</td>\n",
       "      <td>True</td>\n",
       "      <td>Yes</td>\n",
       "      <td>False</td>\n",
       "      <td>train</td>\n",
       "      <td>NaN</td>\n",
       "      <td>NaN</td>\n",
       "      <td>NaN</td>\n",
       "      <td>1998-08-20</td>\n",
       "    </tr>\n",
       "  </tbody>\n",
       "</table>\n",
       "</div>"
      ]
     },
     "execution_count": 59,
     "metadata": {},
     "output_type": "execute_result"
    }
   ],
   "execution_count": 59
  },
  {
   "metadata": {
    "ExecuteTime": {
     "end_time": "2024-06-06T10:17:11.388288Z",
     "start_time": "2024-06-06T10:17:11.373218Z"
    }
   },
   "cell_type": "code",
   "source": [
    "ecl_dataset['cik'] = ecl_dataset['cik'].astype(int)\n",
    "\n",
    "ecl_dataset.head()"
   ],
   "id": "896ddce171c019a",
   "outputs": [
    {
     "data": {
      "text/plain": [
       "   Unnamed: 0   cik   company period_of_report   gvkey    datadate  \\\n",
       "0           1  1750  AAR CORP       1994-05-31  1004.0  31/05/1994   \n",
       "1           2  1750  AAR CORP       1995-05-31  1004.0  31/05/1995   \n",
       "2           3  1750  AAR CORP       1996-05-31  1004.0  31/05/1996   \n",
       "3           4  1750  AAR CORP       1997-05-31  1004.0  31/05/1997   \n",
       "4           5  1750  AAR CORP       1998-05-31  1004.0  31/05/1998   \n",
       "\n",
       "                                        filename  can_label qualified  label  \\\n",
       "0  /1994/1750_10K_1994_0000912057-94-002818.json       True       Yes  False   \n",
       "1  /1995/1750_10K_1995_0000912057-95-006316.json       True       Yes  False   \n",
       "2  /1996/1750_10K_1996_0000912057-96-018355.json       True       Yes  False   \n",
       "3  /1997/1750_10K_1997_0000912057-97-028915.json       True       Yes  False   \n",
       "4  /1998/1750_10K_1998_0001047469-98-032283.json       True       Yes  False   \n",
       "\n",
       "  bankruptcy_prediction_split bankruptcy_date_1 bankruptcy_date_2  \\\n",
       "0                       train               NaN               NaN   \n",
       "1                       train               NaN               NaN   \n",
       "2                       train               NaN               NaN   \n",
       "3                       train               NaN               NaN   \n",
       "4                       train               NaN               NaN   \n",
       "\n",
       "  bankruptcy_date_3 filing_date  \n",
       "0               NaN  1994-08-24  \n",
       "1               NaN  1995-08-11  \n",
       "2               NaN  1996-08-20  \n",
       "3               NaN  1997-08-22  \n",
       "4               NaN  1998-08-20  "
      ],
      "text/html": [
       "<div>\n",
       "<style scoped>\n",
       "    .dataframe tbody tr th:only-of-type {\n",
       "        vertical-align: middle;\n",
       "    }\n",
       "\n",
       "    .dataframe tbody tr th {\n",
       "        vertical-align: top;\n",
       "    }\n",
       "\n",
       "    .dataframe thead th {\n",
       "        text-align: right;\n",
       "    }\n",
       "</style>\n",
       "<table border=\"1\" class=\"dataframe\">\n",
       "  <thead>\n",
       "    <tr style=\"text-align: right;\">\n",
       "      <th></th>\n",
       "      <th>Unnamed: 0</th>\n",
       "      <th>cik</th>\n",
       "      <th>company</th>\n",
       "      <th>period_of_report</th>\n",
       "      <th>gvkey</th>\n",
       "      <th>datadate</th>\n",
       "      <th>filename</th>\n",
       "      <th>can_label</th>\n",
       "      <th>qualified</th>\n",
       "      <th>label</th>\n",
       "      <th>bankruptcy_prediction_split</th>\n",
       "      <th>bankruptcy_date_1</th>\n",
       "      <th>bankruptcy_date_2</th>\n",
       "      <th>bankruptcy_date_3</th>\n",
       "      <th>filing_date</th>\n",
       "    </tr>\n",
       "  </thead>\n",
       "  <tbody>\n",
       "    <tr>\n",
       "      <th>0</th>\n",
       "      <td>1</td>\n",
       "      <td>1750</td>\n",
       "      <td>AAR CORP</td>\n",
       "      <td>1994-05-31</td>\n",
       "      <td>1004.0</td>\n",
       "      <td>31/05/1994</td>\n",
       "      <td>/1994/1750_10K_1994_0000912057-94-002818.json</td>\n",
       "      <td>True</td>\n",
       "      <td>Yes</td>\n",
       "      <td>False</td>\n",
       "      <td>train</td>\n",
       "      <td>NaN</td>\n",
       "      <td>NaN</td>\n",
       "      <td>NaN</td>\n",
       "      <td>1994-08-24</td>\n",
       "    </tr>\n",
       "    <tr>\n",
       "      <th>1</th>\n",
       "      <td>2</td>\n",
       "      <td>1750</td>\n",
       "      <td>AAR CORP</td>\n",
       "      <td>1995-05-31</td>\n",
       "      <td>1004.0</td>\n",
       "      <td>31/05/1995</td>\n",
       "      <td>/1995/1750_10K_1995_0000912057-95-006316.json</td>\n",
       "      <td>True</td>\n",
       "      <td>Yes</td>\n",
       "      <td>False</td>\n",
       "      <td>train</td>\n",
       "      <td>NaN</td>\n",
       "      <td>NaN</td>\n",
       "      <td>NaN</td>\n",
       "      <td>1995-08-11</td>\n",
       "    </tr>\n",
       "    <tr>\n",
       "      <th>2</th>\n",
       "      <td>3</td>\n",
       "      <td>1750</td>\n",
       "      <td>AAR CORP</td>\n",
       "      <td>1996-05-31</td>\n",
       "      <td>1004.0</td>\n",
       "      <td>31/05/1996</td>\n",
       "      <td>/1996/1750_10K_1996_0000912057-96-018355.json</td>\n",
       "      <td>True</td>\n",
       "      <td>Yes</td>\n",
       "      <td>False</td>\n",
       "      <td>train</td>\n",
       "      <td>NaN</td>\n",
       "      <td>NaN</td>\n",
       "      <td>NaN</td>\n",
       "      <td>1996-08-20</td>\n",
       "    </tr>\n",
       "    <tr>\n",
       "      <th>3</th>\n",
       "      <td>4</td>\n",
       "      <td>1750</td>\n",
       "      <td>AAR CORP</td>\n",
       "      <td>1997-05-31</td>\n",
       "      <td>1004.0</td>\n",
       "      <td>31/05/1997</td>\n",
       "      <td>/1997/1750_10K_1997_0000912057-97-028915.json</td>\n",
       "      <td>True</td>\n",
       "      <td>Yes</td>\n",
       "      <td>False</td>\n",
       "      <td>train</td>\n",
       "      <td>NaN</td>\n",
       "      <td>NaN</td>\n",
       "      <td>NaN</td>\n",
       "      <td>1997-08-22</td>\n",
       "    </tr>\n",
       "    <tr>\n",
       "      <th>4</th>\n",
       "      <td>5</td>\n",
       "      <td>1750</td>\n",
       "      <td>AAR CORP</td>\n",
       "      <td>1998-05-31</td>\n",
       "      <td>1004.0</td>\n",
       "      <td>31/05/1998</td>\n",
       "      <td>/1998/1750_10K_1998_0001047469-98-032283.json</td>\n",
       "      <td>True</td>\n",
       "      <td>Yes</td>\n",
       "      <td>False</td>\n",
       "      <td>train</td>\n",
       "      <td>NaN</td>\n",
       "      <td>NaN</td>\n",
       "      <td>NaN</td>\n",
       "      <td>1998-08-20</td>\n",
       "    </tr>\n",
       "  </tbody>\n",
       "</table>\n",
       "</div>"
      ]
     },
     "execution_count": 60,
     "metadata": {},
     "output_type": "execute_result"
    }
   ],
   "execution_count": 60
  },
  {
   "metadata": {
    "ExecuteTime": {
     "end_time": "2024-06-06T10:17:22.187016Z",
     "start_time": "2024-06-06T10:17:22.140405Z"
    }
   },
   "cell_type": "code",
   "source": [
    "ecl_dataset['cik'] = ecl_dataset['cik'].astype(str)\n",
    "ecl_dataset.head()"
   ],
   "id": "172de2213f5e3c26",
   "outputs": [
    {
     "data": {
      "text/plain": [
       "   Unnamed: 0   cik   company period_of_report   gvkey    datadate  \\\n",
       "0           1  1750  AAR CORP       1994-05-31  1004.0  31/05/1994   \n",
       "1           2  1750  AAR CORP       1995-05-31  1004.0  31/05/1995   \n",
       "2           3  1750  AAR CORP       1996-05-31  1004.0  31/05/1996   \n",
       "3           4  1750  AAR CORP       1997-05-31  1004.0  31/05/1997   \n",
       "4           5  1750  AAR CORP       1998-05-31  1004.0  31/05/1998   \n",
       "\n",
       "                                        filename  can_label qualified  label  \\\n",
       "0  /1994/1750_10K_1994_0000912057-94-002818.json       True       Yes  False   \n",
       "1  /1995/1750_10K_1995_0000912057-95-006316.json       True       Yes  False   \n",
       "2  /1996/1750_10K_1996_0000912057-96-018355.json       True       Yes  False   \n",
       "3  /1997/1750_10K_1997_0000912057-97-028915.json       True       Yes  False   \n",
       "4  /1998/1750_10K_1998_0001047469-98-032283.json       True       Yes  False   \n",
       "\n",
       "  bankruptcy_prediction_split bankruptcy_date_1 bankruptcy_date_2  \\\n",
       "0                       train               NaN               NaN   \n",
       "1                       train               NaN               NaN   \n",
       "2                       train               NaN               NaN   \n",
       "3                       train               NaN               NaN   \n",
       "4                       train               NaN               NaN   \n",
       "\n",
       "  bankruptcy_date_3 filing_date  \n",
       "0               NaN  1994-08-24  \n",
       "1               NaN  1995-08-11  \n",
       "2               NaN  1996-08-20  \n",
       "3               NaN  1997-08-22  \n",
       "4               NaN  1998-08-20  "
      ],
      "text/html": [
       "<div>\n",
       "<style scoped>\n",
       "    .dataframe tbody tr th:only-of-type {\n",
       "        vertical-align: middle;\n",
       "    }\n",
       "\n",
       "    .dataframe tbody tr th {\n",
       "        vertical-align: top;\n",
       "    }\n",
       "\n",
       "    .dataframe thead th {\n",
       "        text-align: right;\n",
       "    }\n",
       "</style>\n",
       "<table border=\"1\" class=\"dataframe\">\n",
       "  <thead>\n",
       "    <tr style=\"text-align: right;\">\n",
       "      <th></th>\n",
       "      <th>Unnamed: 0</th>\n",
       "      <th>cik</th>\n",
       "      <th>company</th>\n",
       "      <th>period_of_report</th>\n",
       "      <th>gvkey</th>\n",
       "      <th>datadate</th>\n",
       "      <th>filename</th>\n",
       "      <th>can_label</th>\n",
       "      <th>qualified</th>\n",
       "      <th>label</th>\n",
       "      <th>bankruptcy_prediction_split</th>\n",
       "      <th>bankruptcy_date_1</th>\n",
       "      <th>bankruptcy_date_2</th>\n",
       "      <th>bankruptcy_date_3</th>\n",
       "      <th>filing_date</th>\n",
       "    </tr>\n",
       "  </thead>\n",
       "  <tbody>\n",
       "    <tr>\n",
       "      <th>0</th>\n",
       "      <td>1</td>\n",
       "      <td>1750</td>\n",
       "      <td>AAR CORP</td>\n",
       "      <td>1994-05-31</td>\n",
       "      <td>1004.0</td>\n",
       "      <td>31/05/1994</td>\n",
       "      <td>/1994/1750_10K_1994_0000912057-94-002818.json</td>\n",
       "      <td>True</td>\n",
       "      <td>Yes</td>\n",
       "      <td>False</td>\n",
       "      <td>train</td>\n",
       "      <td>NaN</td>\n",
       "      <td>NaN</td>\n",
       "      <td>NaN</td>\n",
       "      <td>1994-08-24</td>\n",
       "    </tr>\n",
       "    <tr>\n",
       "      <th>1</th>\n",
       "      <td>2</td>\n",
       "      <td>1750</td>\n",
       "      <td>AAR CORP</td>\n",
       "      <td>1995-05-31</td>\n",
       "      <td>1004.0</td>\n",
       "      <td>31/05/1995</td>\n",
       "      <td>/1995/1750_10K_1995_0000912057-95-006316.json</td>\n",
       "      <td>True</td>\n",
       "      <td>Yes</td>\n",
       "      <td>False</td>\n",
       "      <td>train</td>\n",
       "      <td>NaN</td>\n",
       "      <td>NaN</td>\n",
       "      <td>NaN</td>\n",
       "      <td>1995-08-11</td>\n",
       "    </tr>\n",
       "    <tr>\n",
       "      <th>2</th>\n",
       "      <td>3</td>\n",
       "      <td>1750</td>\n",
       "      <td>AAR CORP</td>\n",
       "      <td>1996-05-31</td>\n",
       "      <td>1004.0</td>\n",
       "      <td>31/05/1996</td>\n",
       "      <td>/1996/1750_10K_1996_0000912057-96-018355.json</td>\n",
       "      <td>True</td>\n",
       "      <td>Yes</td>\n",
       "      <td>False</td>\n",
       "      <td>train</td>\n",
       "      <td>NaN</td>\n",
       "      <td>NaN</td>\n",
       "      <td>NaN</td>\n",
       "      <td>1996-08-20</td>\n",
       "    </tr>\n",
       "    <tr>\n",
       "      <th>3</th>\n",
       "      <td>4</td>\n",
       "      <td>1750</td>\n",
       "      <td>AAR CORP</td>\n",
       "      <td>1997-05-31</td>\n",
       "      <td>1004.0</td>\n",
       "      <td>31/05/1997</td>\n",
       "      <td>/1997/1750_10K_1997_0000912057-97-028915.json</td>\n",
       "      <td>True</td>\n",
       "      <td>Yes</td>\n",
       "      <td>False</td>\n",
       "      <td>train</td>\n",
       "      <td>NaN</td>\n",
       "      <td>NaN</td>\n",
       "      <td>NaN</td>\n",
       "      <td>1997-08-22</td>\n",
       "    </tr>\n",
       "    <tr>\n",
       "      <th>4</th>\n",
       "      <td>5</td>\n",
       "      <td>1750</td>\n",
       "      <td>AAR CORP</td>\n",
       "      <td>1998-05-31</td>\n",
       "      <td>1004.0</td>\n",
       "      <td>31/05/1998</td>\n",
       "      <td>/1998/1750_10K_1998_0001047469-98-032283.json</td>\n",
       "      <td>True</td>\n",
       "      <td>Yes</td>\n",
       "      <td>False</td>\n",
       "      <td>train</td>\n",
       "      <td>NaN</td>\n",
       "      <td>NaN</td>\n",
       "      <td>NaN</td>\n",
       "      <td>1998-08-20</td>\n",
       "    </tr>\n",
       "  </tbody>\n",
       "</table>\n",
       "</div>"
      ]
     },
     "execution_count": 61,
     "metadata": {},
     "output_type": "execute_result"
    }
   ],
   "execution_count": 61
  },
  {
   "metadata": {
    "ExecuteTime": {
     "end_time": "2024-06-06T10:17:56.250148Z",
     "start_time": "2024-06-06T10:17:56.225803Z"
    }
   },
   "cell_type": "code",
   "source": [
    "ciks = ecl_dataset['cik'].values\n",
    "max([len(cik) for cik in ciks])"
   ],
   "id": "c007f1b4c858b8bb",
   "outputs": [
    {
     "data": {
      "text/plain": [
       "7"
      ]
     },
     "execution_count": 62,
     "metadata": {},
     "output_type": "execute_result"
    }
   ],
   "execution_count": 62
  },
  {
   "metadata": {
    "ExecuteTime": {
     "end_time": "2024-06-06T12:20:49.719504Z",
     "start_time": "2024-06-06T12:20:49.712621Z"
    }
   },
   "cell_type": "code",
   "source": [
    "from collections import Counter\n",
    "ciks_sec = [filename.split('-')[0] for filename in os.listdir(summarized_mda_sections_for_not_eligible_companies_for_oversampling_second_summarization_directory)]\n",
    "\n",
    "ciks_sec_counter = Counter(ciks_sec)\n",
    "\n",
    "for cik, count in ciks_sec_counter.items():\n",
    "    if count > 1:\n",
    "        print(cik, count)"
   ],
   "id": "94bbae598898d380",
   "outputs": [],
   "execution_count": 67
  },
  {
   "metadata": {
    "ExecuteTime": {
     "end_time": "2024-06-06T13:18:05.954088Z",
     "start_time": "2024-06-06T13:18:05.947165Z"
    }
   },
   "cell_type": "code",
   "source": [
    "import re\n",
    "\n",
    "def clean_markdown(text):\n",
    "    markdown_chars = [\"*\", \"_\", \"#\", \"~\", \"`\", \">\", \"=\", \"[\", \"]\"]\n",
    "    text = re.sub(f\"[{re.escape(''.join(markdown_chars))}]\", \"\", text)\n",
    "    text = re.sub(r\"\\n\", \" \", text)\n",
    "    \n",
    "    return text"
   ],
   "id": "de94f7825abf04c2",
   "outputs": [],
   "execution_count": 70
  },
  {
   "metadata": {
    "ExecuteTime": {
     "end_time": "2024-06-06T13:21:58.773074Z",
     "start_time": "2024-06-06T13:21:57.654602Z"
    }
   },
   "cell_type": "code",
   "source": [
    "textual_data = pd.DataFrame(columns=['cik', 'text'])\n",
    "\n",
    "for filename in os.listdir(summarized_mda_sections_for_not_eligible_companies_for_oversampling_paraphrased_raw_directory):\n",
    "    \n",
    "    cik = filename.split('-')[0]\n",
    "    \n",
    "    if 'paraphrased-raw' in filename:\n",
    "        filename_id = int(filename.split('-')[3].split('.')[0])\n",
    "        if filename_id == 10:\n",
    "            zero_padded_id = f'10'\n",
    "        elif 0 <= filename_id <= 9:\n",
    "            zero_padded_id = f'0{filename_id}'\n",
    "        else:\n",
    "            print('error: id not in range')\n",
    "            zero_padded_id = f'99'\n",
    "            \n",
    "        cik = f'{cik}{zero_padded_id}'\n",
    "        \n",
    "    cik = int(cik)\n",
    "    \n",
    "    with open(os.path.join(summarized_mda_sections_for_not_eligible_companies_for_oversampling_paraphrased_raw_directory, filename), 'r') as file:\n",
    "        text = file.read()\n",
    "\n",
    "        text = clean_markdown(text)\n",
    "        \n",
    "        textual_data = pd.concat([textual_data, pd.DataFrame([{'cik': cik, 'text': text}])], ignore_index=True)\n",
    "   \n",
    "textual_data.to_csv(f'synthetic_textual_data.csv', index=False)\n",
    "print(len(textual_data))\n",
    "textual_data.head() "
   ],
   "id": "7c204312e9782220",
   "outputs": [
    {
     "name": "stdout",
     "output_type": "stream",
     "text": [
      "2748\n"
     ]
    },
    {
     "data": {
      "text/plain": [
       "         cik  \\\n",
       "0  100023400   \n",
       "1  100023401   \n",
       "2  100023410   \n",
       "3  100023402   \n",
       "4  100023403   \n",
       "\n",
       "                                                                                                                                                                                                                                                                                                                                                                                                                                                                                                                                                                                                                                                                                                                                                                                                                                                                                                                                                                                                                                                                                                                                                                                                                                                                                                                                                                                                                                                                                                                                                                                                                                                                                                                                                                                                                                                                                                                                                                                                                                                                                                                 text  \n",
       "0                                                                                                                                                                                                                                                                                                                                                                                                                                                                                                                                            Because of the economic downturn and declining housing prices, the company lost $32.6 million in 2008, a significant decline from $15.6 million in 2007 and $26.9 million in 2006.  As a result, their audit report qualified them as going concern, and their real estate loan portfolio deteriorated significantly.  The company acknowledges substantial financial risks despite having over $400 million in cash and cash equivalents.  In an effort to stabilize losses and return to profitability, the company is reducing lending exposures, seeking loan participation and sales, cutting costs, and eliminating dividends.  Private equity investments are also being explored as strategic options.  It is uncertain whether these efforts will succeed due to limited access to capital markets.  While the company is reducing its reliance on wholesale funding sources, the suspension of their FHLB borrowing facility poses challenges.  There has been a significant increase in non-performing loans, particularly in construction and land development, which has resulted in a higher provision for loan losses.  The management believes the allowance for loan losses is adequate, but future provisions are uncertain.  Credit ratings were also downgraded for the company's $1.1 billion investment securities portfolio.  It is acknowledged by management that their allowance for loan losses accounting policy is critical to their financial condition and results of operations, despite the inherent uncertainties in its estimation.    \n",
       "1                                                                                                                                                                                                                                                                                                                                                                                                                                                                                                                 Due to the economic downturn and declining housing prices, the company suffered a net loss of $32.6 million in 2008, down significantly from net income of $15.6 million in 2007 and $26.9 million in 2006.  This led to a going concern qualification in their audit report and significant deterioration of their real estate loan portfolio, particularly construction and land development loans.  However, the company acknowledges substantial risks to its future financial performance despite having over $400 million in cash and cash equivalents.  In order to stabilize losses and return to profitability, the company will reduce lending exposures, increase lending participation, cut costs, and eliminate dividends.  Investments in private equity are also being considered as strategic options.  There is, however, limited access to capital markets, and there is no guarantee that these efforts will succeed.  Despite the suspension of their FHLB borrowing facility, the company's reliance on wholesale funding sources is decreasing.  Loan losses increased due to an increase in non-performing loans, especially in construction and land development.  Although management believes the loan loss allowance is adequate, future provisions remain uncertain.  Investment securities totaling $1.1 billion in the company's portfolio were also downgraded.  In its financial condition and results of operations, management acknowledges the importance of its allowance for loan losses accounting policy and the inherent uncertainties in its estimation.    \n",
       "2  The company incurred a net loss of $32.6 million for the year ended December 31, 2008, and received a going concern qualification in its audit report due to the national economic slowdown and its impact on the real estate market. Despite the net loss, the company believes it has the ability to meet its current obligations and is focused on strengthening its liquidity position, with over $400 million in cash and cash equivalents as of December 31, 2008. The company is taking tactical actions to preserve capital, reduce lending exposures, and increase liquidity, including slowing loan originations, growing retail deposits, reducing brokered deposits, seeking loan participation and sales arrangements, reducing expenses, and eliminating dividends. The company aims to return to profitability by reducing its size, stabilizing losses, managing problematic assets, and reducing expenses. Key objectives include improving asset quality, reducing asset base and improving regulatory capital ratios, continued expense control, and reducing reliance on wholesale funding sources. The company acknowledges considerable risks to its future financial performance but believes it can effectively respond to these risks while implementing its business plan. The company experienced a decline in net interest income, primarily due to the impact of the economic downturn on its loan portfolio, particularly construction and land development loans.  The company recognized a provision for loan losses of $78.0 million in 2008 compared to $11.1 million in 2007 due to the increase in non-performing loans. The company's capital ratios have declined, and it is required to increase them under a regulatory order. Management believes that the allowance for loan losses is adequate but acknowledges that actual losses could differ from estimates. The company faces significant challenges due to the economic conditions and their impact on the real estate market, but is taking steps to address these challenges and improve its financial health.    \n",
       "3                                                                                                                                                                                                                                                                                                                                                                                                                                                                                                                                              This decline was primarily attributed to the economic downturn and declining housing prices, which resulted in a net loss of $32.6 million in 2008.  The result was a going concern qualification in their audit report, as well as significant declines in the construction and land development loan portfolio.  Despite the company's over $400 million in cash and cash equivalents, it acknowledges substantial financial risks going forward.  The company is taking steps to control losses and return to profitability by reducing lending exposures, increasing loan participation, and cutting costs.  Additionally, they are exploring private equity investments as a strategic option.  Access to capital markets, however, is limited, and the success of these efforts cannot be guaranteed.  As wholesale funding sources are reduced, the company is faced with challenges due to the suspension of its FHLB borrowing facility.  In the construction and land development sector, non-performing loans increased substantially, resulting in higher loan loss provisions.  It is uncertain what the actual amount of future provisions will be, while management believes the allowance for loan losses is adequate.  A downgrade in credit ratings was also experienced by the company's investment securities portfolio, totaling $1.1 billion.  A loan loss allowance accounting policy may have a material impact on a company's financial condition and results of operations due to the inherent uncertainty associated with its estimation.    \n",
       "4                                                                                                                                                                                                                                                                                                                                                                                                                                                                                                                                  During 2008, the company lost $32.6 million, a significant decrease from earnings of $15.6 million in 2007 and $26.9 million in 2006, primarily as a result of the economic downturn and declining housing values.  Their audit report qualified them as a going concern and their real estate loan portfolio, especially construction loans, deteriorated significantly.  A significant risk to the company's future financial performance exists despite its $400 million in cash and cash equivalents.  In order to stabilize losses and return to profitability, the company is reducing its exposure to lending, seeking participation in loans and sales, cutting costs, and eliminating dividends.  As well as private equity investments, they are exploring other strategic options.  These efforts, however, are restricted by limited access to capital markets.  As a result of the suspension of the FHLB borrowing facility, the company is no longer dependent on wholesale funding sources.  The number of non-performing loans significantly increased, especially in construction and land development. This led to a greater provision for loan losses.  Even though management believes the allowance for loan losses is adequate, it remains uncertain how much provision will be needed in the future.  Investment securities portfolio worth $1.1 billion was also downgraded.  Despite the inherent uncertainties in estimating allowance for loan losses, management acknowledges the criticality of their allowance for loan losses accounting policy.    "
      ],
      "text/html": [
       "<div>\n",
       "<style scoped>\n",
       "    .dataframe tbody tr th:only-of-type {\n",
       "        vertical-align: middle;\n",
       "    }\n",
       "\n",
       "    .dataframe tbody tr th {\n",
       "        vertical-align: top;\n",
       "    }\n",
       "\n",
       "    .dataframe thead th {\n",
       "        text-align: right;\n",
       "    }\n",
       "</style>\n",
       "<table border=\"1\" class=\"dataframe\">\n",
       "  <thead>\n",
       "    <tr style=\"text-align: right;\">\n",
       "      <th></th>\n",
       "      <th>cik</th>\n",
       "      <th>text</th>\n",
       "    </tr>\n",
       "  </thead>\n",
       "  <tbody>\n",
       "    <tr>\n",
       "      <th>0</th>\n",
       "      <td>100023400</td>\n",
       "      <td>Because of the economic downturn and declining housing prices, the company lost $32.6 million in 2008, a significant decline from $15.6 million in 2007 and $26.9 million in 2006.  As a result, their audit report qualified them as going concern, and their real estate loan portfolio deteriorated significantly.  The company acknowledges substantial financial risks despite having over $400 million in cash and cash equivalents.  In an effort to stabilize losses and return to profitability, the company is reducing lending exposures, seeking loan participation and sales, cutting costs, and eliminating dividends.  Private equity investments are also being explored as strategic options.  It is uncertain whether these efforts will succeed due to limited access to capital markets.  While the company is reducing its reliance on wholesale funding sources, the suspension of their FHLB borrowing facility poses challenges.  There has been a significant increase in non-performing loans, particularly in construction and land development, which has resulted in a higher provision for loan losses.  The management believes the allowance for loan losses is adequate, but future provisions are uncertain.  Credit ratings were also downgraded for the company's $1.1 billion investment securities portfolio.  It is acknowledged by management that their allowance for loan losses accounting policy is critical to their financial condition and results of operations, despite the inherent uncertainties in its estimation.</td>\n",
       "    </tr>\n",
       "    <tr>\n",
       "      <th>1</th>\n",
       "      <td>100023401</td>\n",
       "      <td>Due to the economic downturn and declining housing prices, the company suffered a net loss of $32.6 million in 2008, down significantly from net income of $15.6 million in 2007 and $26.9 million in 2006.  This led to a going concern qualification in their audit report and significant deterioration of their real estate loan portfolio, particularly construction and land development loans.  However, the company acknowledges substantial risks to its future financial performance despite having over $400 million in cash and cash equivalents.  In order to stabilize losses and return to profitability, the company will reduce lending exposures, increase lending participation, cut costs, and eliminate dividends.  Investments in private equity are also being considered as strategic options.  There is, however, limited access to capital markets, and there is no guarantee that these efforts will succeed.  Despite the suspension of their FHLB borrowing facility, the company's reliance on wholesale funding sources is decreasing.  Loan losses increased due to an increase in non-performing loans, especially in construction and land development.  Although management believes the loan loss allowance is adequate, future provisions remain uncertain.  Investment securities totaling $1.1 billion in the company's portfolio were also downgraded.  In its financial condition and results of operations, management acknowledges the importance of its allowance for loan losses accounting policy and the inherent uncertainties in its estimation.</td>\n",
       "    </tr>\n",
       "    <tr>\n",
       "      <th>2</th>\n",
       "      <td>100023410</td>\n",
       "      <td>The company incurred a net loss of $32.6 million for the year ended December 31, 2008, and received a going concern qualification in its audit report due to the national economic slowdown and its impact on the real estate market. Despite the net loss, the company believes it has the ability to meet its current obligations and is focused on strengthening its liquidity position, with over $400 million in cash and cash equivalents as of December 31, 2008. The company is taking tactical actions to preserve capital, reduce lending exposures, and increase liquidity, including slowing loan originations, growing retail deposits, reducing brokered deposits, seeking loan participation and sales arrangements, reducing expenses, and eliminating dividends. The company aims to return to profitability by reducing its size, stabilizing losses, managing problematic assets, and reducing expenses. Key objectives include improving asset quality, reducing asset base and improving regulatory capital ratios, continued expense control, and reducing reliance on wholesale funding sources. The company acknowledges considerable risks to its future financial performance but believes it can effectively respond to these risks while implementing its business plan. The company experienced a decline in net interest income, primarily due to the impact of the economic downturn on its loan portfolio, particularly construction and land development loans.  The company recognized a provision for loan losses of $78.0 million in 2008 compared to $11.1 million in 2007 due to the increase in non-performing loans. The company's capital ratios have declined, and it is required to increase them under a regulatory order. Management believes that the allowance for loan losses is adequate but acknowledges that actual losses could differ from estimates. The company faces significant challenges due to the economic conditions and their impact on the real estate market, but is taking steps to address these challenges and improve its financial health.</td>\n",
       "    </tr>\n",
       "    <tr>\n",
       "      <th>3</th>\n",
       "      <td>100023402</td>\n",
       "      <td>This decline was primarily attributed to the economic downturn and declining housing prices, which resulted in a net loss of $32.6 million in 2008.  The result was a going concern qualification in their audit report, as well as significant declines in the construction and land development loan portfolio.  Despite the company's over $400 million in cash and cash equivalents, it acknowledges substantial financial risks going forward.  The company is taking steps to control losses and return to profitability by reducing lending exposures, increasing loan participation, and cutting costs.  Additionally, they are exploring private equity investments as a strategic option.  Access to capital markets, however, is limited, and the success of these efforts cannot be guaranteed.  As wholesale funding sources are reduced, the company is faced with challenges due to the suspension of its FHLB borrowing facility.  In the construction and land development sector, non-performing loans increased substantially, resulting in higher loan loss provisions.  It is uncertain what the actual amount of future provisions will be, while management believes the allowance for loan losses is adequate.  A downgrade in credit ratings was also experienced by the company's investment securities portfolio, totaling $1.1 billion.  A loan loss allowance accounting policy may have a material impact on a company's financial condition and results of operations due to the inherent uncertainty associated with its estimation.</td>\n",
       "    </tr>\n",
       "    <tr>\n",
       "      <th>4</th>\n",
       "      <td>100023403</td>\n",
       "      <td>During 2008, the company lost $32.6 million, a significant decrease from earnings of $15.6 million in 2007 and $26.9 million in 2006, primarily as a result of the economic downturn and declining housing values.  Their audit report qualified them as a going concern and their real estate loan portfolio, especially construction loans, deteriorated significantly.  A significant risk to the company's future financial performance exists despite its $400 million in cash and cash equivalents.  In order to stabilize losses and return to profitability, the company is reducing its exposure to lending, seeking participation in loans and sales, cutting costs, and eliminating dividends.  As well as private equity investments, they are exploring other strategic options.  These efforts, however, are restricted by limited access to capital markets.  As a result of the suspension of the FHLB borrowing facility, the company is no longer dependent on wholesale funding sources.  The number of non-performing loans significantly increased, especially in construction and land development. This led to a greater provision for loan losses.  Even though management believes the allowance for loan losses is adequate, it remains uncertain how much provision will be needed in the future.  Investment securities portfolio worth $1.1 billion was also downgraded.  Despite the inherent uncertainties in estimating allowance for loan losses, management acknowledges the criticality of their allowance for loan losses accounting policy.</td>\n",
       "    </tr>\n",
       "  </tbody>\n",
       "</table>\n",
       "</div>"
      ]
     },
     "execution_count": 75,
     "metadata": {},
     "output_type": "execute_result"
    }
   ],
   "execution_count": 75
  },
  {
   "metadata": {},
   "cell_type": "code",
   "outputs": [],
   "execution_count": null,
   "source": [
    "# financial data\n",
    "\n",
    "\n",
    "# add cik,label,subset,text"
   ],
   "id": "ef4ddf2cb8d5a0d2"
  }
 ],
 "metadata": {
  "kernelspec": {
   "display_name": "Python 3",
   "language": "python",
   "name": "python3"
  },
  "language_info": {
   "codemirror_mode": {
    "name": "ipython",
    "version": 2
   },
   "file_extension": ".py",
   "mimetype": "text/x-python",
   "name": "python",
   "nbconvert_exporter": "python",
   "pygments_lexer": "ipython2",
   "version": "2.7.6"
  }
 },
 "nbformat": 4,
 "nbformat_minor": 5
}

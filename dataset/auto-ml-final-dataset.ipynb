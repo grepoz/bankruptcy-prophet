{
 "cells": [
  {
   "metadata": {},
   "cell_type": "markdown",
   "source": "# Auto ml for financial and textual data",
   "id": "a05ab67b543b9c48"
  },
  {
   "metadata": {},
   "cell_type": "markdown",
   "source": "## Auto ml for financial data",
   "id": "f9a87a67bd2ba249"
  },
  {
   "cell_type": "code",
   "id": "initial_id",
   "metadata": {
    "collapsed": true,
    "ExecuteTime": {
     "end_time": "2024-09-18T19:56:37.834515Z",
     "start_time": "2024-09-18T19:56:37.621550Z"
    }
   },
   "source": [
    "import pandas as pd\n",
    "import numpy as np\n",
    "import matplotlib.pyplot as plt\n",
    "from sklearn.linear_model import LogisticRegression\n",
    "from sklearn.metrics import confusion_matrix, accuracy_score, f1_score, precision_score, recall_score\n",
    "from sklearn import preprocessing\n",
    "\n",
    "random_state = 42"
   ],
   "outputs": [],
   "execution_count": 1
  },
  {
   "metadata": {
    "ExecuteTime": {
     "end_time": "2024-09-18T19:56:37.960105Z",
     "start_time": "2024-09-18T19:56:37.856110Z"
    }
   },
   "cell_type": "code",
   "source": [
    "financial_dataset = pd.read_csv('numerical_dataset_version5_oversampled.csv')\n",
    "print(financial_dataset.shape)\n",
    "financial_dataset.head(10)"
   ],
   "id": "c527b12ccc0a1f87",
   "outputs": [
    {
     "name": "stdout",
     "output_type": "stream",
     "text": [
      "(36070, 22)\n"
     ]
    },
    {
     "data": {
      "text/plain": [
       "       cik ticker  label subset Fiscal Period  Cost of Goods Sold  \\\n",
       "0   737874     LI  False  train      Aug 2002               479.0   \n",
       "1   737874     LI  False  train      Aug 2003               479.0   \n",
       "2   737874     LI  False  train      Aug 2004               483.0   \n",
       "3   737874     LI  False  train      Aug 2005               579.0   \n",
       "4   737874     LI  False  train      Aug 2006               582.0   \n",
       "5  1464343   ATLC  False  train      Dec 2016                56.0   \n",
       "6  1464343   ATLC  False  train      Dec 2017                56.0   \n",
       "7  1464343   ATLC  False  train      Dec 2018                56.0   \n",
       "8  1464343   ATLC  False  train      Dec 2019                56.0   \n",
       "9  1464343   ATLC  False  train      Dec 2020                56.0   \n",
       "\n",
       "   Depreciation, Depletion and Amortization    EBIT  EBITDA  Gross Profit  \\\n",
       "0                                     281.0  1028.0  1310.0        4004.0   \n",
       "1                                     281.0  1028.0  1310.0        4004.0   \n",
       "2                                     284.0   224.0   507.0        4149.0   \n",
       "3                                     249.0    63.0   312.0        2447.0   \n",
       "4                                     216.0   261.0   477.0        2550.0   \n",
       "5                                       7.5    49.0    53.0         135.0   \n",
       "6                                       1.0    49.0    53.0         135.0   \n",
       "7                                       1.0    49.0    53.0         135.0   \n",
       "8                                       7.7    49.0    53.0         135.0   \n",
       "9                                       8.0    49.0    53.0         135.0   \n",
       "\n",
       "   ...  Net Income  Retained Earnings  Revenue  Total Assets  \\\n",
       "0  ...     -1223.0              -10.0   4483.0        3853.0   \n",
       "1  ...     -1223.0              -10.0   4483.0        3853.0   \n",
       "2  ...        62.0               52.0   4631.0        3905.0   \n",
       "3  ...       212.0              249.0   3027.0        2909.0   \n",
       "4  ...       125.0              315.0   3132.0        3039.0   \n",
       "5  ...        -6.3             -205.9     59.5         362.5   \n",
       "6  ...       -40.8             -246.6     75.0         425.6   \n",
       "7  ...         7.9             -238.8    155.3         582.6   \n",
       "8  ...        26.4             -211.8    357.1         936.3   \n",
       "9  ...        94.1             -117.7    340.3        1207.2   \n",
       "\n",
       "   Total Current Assets  Total Current Liabilities  Total Inventories  \\\n",
       "0                 948.0                      695.0               50.0   \n",
       "1                 948.0                      695.0               50.0   \n",
       "2                1032.0                      687.0               51.0   \n",
       "3                 606.0                      448.0               33.0   \n",
       "4                 741.0                      531.0               41.0   \n",
       "5                 144.0                       80.0              412.0   \n",
       "6                 144.0                       80.0              412.0   \n",
       "7                 144.0                       80.0              412.0   \n",
       "8                 144.0                       80.0              412.0   \n",
       "9                 144.0                       80.0              412.0   \n",
       "\n",
       "   Total Liabilities  Total Operating Expense  Total Receivables  \n",
       "0             2562.0                   3829.0              570.0  \n",
       "1             2562.0                   3829.0              570.0  \n",
       "2             2529.0                   3928.0              588.0  \n",
       "3             1309.0                   2282.0              203.0  \n",
       "4             1831.0                   2299.0              211.0  \n",
       "5              356.8                     82.0              295.8  \n",
       "6              461.7                     82.0              295.8  \n",
       "7              604.7                     82.0              295.8  \n",
       "8              935.9                     82.0              295.8  \n",
       "9             1130.7                     82.0              295.8  \n",
       "\n",
       "[10 rows x 22 columns]"
      ],
      "text/html": [
       "<div>\n",
       "<style scoped>\n",
       "    .dataframe tbody tr th:only-of-type {\n",
       "        vertical-align: middle;\n",
       "    }\n",
       "\n",
       "    .dataframe tbody tr th {\n",
       "        vertical-align: top;\n",
       "    }\n",
       "\n",
       "    .dataframe thead th {\n",
       "        text-align: right;\n",
       "    }\n",
       "</style>\n",
       "<table border=\"1\" class=\"dataframe\">\n",
       "  <thead>\n",
       "    <tr style=\"text-align: right;\">\n",
       "      <th></th>\n",
       "      <th>cik</th>\n",
       "      <th>ticker</th>\n",
       "      <th>label</th>\n",
       "      <th>subset</th>\n",
       "      <th>Fiscal Period</th>\n",
       "      <th>Cost of Goods Sold</th>\n",
       "      <th>Depreciation, Depletion and Amortization</th>\n",
       "      <th>EBIT</th>\n",
       "      <th>EBITDA</th>\n",
       "      <th>Gross Profit</th>\n",
       "      <th>...</th>\n",
       "      <th>Net Income</th>\n",
       "      <th>Retained Earnings</th>\n",
       "      <th>Revenue</th>\n",
       "      <th>Total Assets</th>\n",
       "      <th>Total Current Assets</th>\n",
       "      <th>Total Current Liabilities</th>\n",
       "      <th>Total Inventories</th>\n",
       "      <th>Total Liabilities</th>\n",
       "      <th>Total Operating Expense</th>\n",
       "      <th>Total Receivables</th>\n",
       "    </tr>\n",
       "  </thead>\n",
       "  <tbody>\n",
       "    <tr>\n",
       "      <th>0</th>\n",
       "      <td>737874</td>\n",
       "      <td>LI</td>\n",
       "      <td>False</td>\n",
       "      <td>train</td>\n",
       "      <td>Aug 2002</td>\n",
       "      <td>479.0</td>\n",
       "      <td>281.0</td>\n",
       "      <td>1028.0</td>\n",
       "      <td>1310.0</td>\n",
       "      <td>4004.0</td>\n",
       "      <td>...</td>\n",
       "      <td>-1223.0</td>\n",
       "      <td>-10.0</td>\n",
       "      <td>4483.0</td>\n",
       "      <td>3853.0</td>\n",
       "      <td>948.0</td>\n",
       "      <td>695.0</td>\n",
       "      <td>50.0</td>\n",
       "      <td>2562.0</td>\n",
       "      <td>3829.0</td>\n",
       "      <td>570.0</td>\n",
       "    </tr>\n",
       "    <tr>\n",
       "      <th>1</th>\n",
       "      <td>737874</td>\n",
       "      <td>LI</td>\n",
       "      <td>False</td>\n",
       "      <td>train</td>\n",
       "      <td>Aug 2003</td>\n",
       "      <td>479.0</td>\n",
       "      <td>281.0</td>\n",
       "      <td>1028.0</td>\n",
       "      <td>1310.0</td>\n",
       "      <td>4004.0</td>\n",
       "      <td>...</td>\n",
       "      <td>-1223.0</td>\n",
       "      <td>-10.0</td>\n",
       "      <td>4483.0</td>\n",
       "      <td>3853.0</td>\n",
       "      <td>948.0</td>\n",
       "      <td>695.0</td>\n",
       "      <td>50.0</td>\n",
       "      <td>2562.0</td>\n",
       "      <td>3829.0</td>\n",
       "      <td>570.0</td>\n",
       "    </tr>\n",
       "    <tr>\n",
       "      <th>2</th>\n",
       "      <td>737874</td>\n",
       "      <td>LI</td>\n",
       "      <td>False</td>\n",
       "      <td>train</td>\n",
       "      <td>Aug 2004</td>\n",
       "      <td>483.0</td>\n",
       "      <td>284.0</td>\n",
       "      <td>224.0</td>\n",
       "      <td>507.0</td>\n",
       "      <td>4149.0</td>\n",
       "      <td>...</td>\n",
       "      <td>62.0</td>\n",
       "      <td>52.0</td>\n",
       "      <td>4631.0</td>\n",
       "      <td>3905.0</td>\n",
       "      <td>1032.0</td>\n",
       "      <td>687.0</td>\n",
       "      <td>51.0</td>\n",
       "      <td>2529.0</td>\n",
       "      <td>3928.0</td>\n",
       "      <td>588.0</td>\n",
       "    </tr>\n",
       "    <tr>\n",
       "      <th>3</th>\n",
       "      <td>737874</td>\n",
       "      <td>LI</td>\n",
       "      <td>False</td>\n",
       "      <td>train</td>\n",
       "      <td>Aug 2005</td>\n",
       "      <td>579.0</td>\n",
       "      <td>249.0</td>\n",
       "      <td>63.0</td>\n",
       "      <td>312.0</td>\n",
       "      <td>2447.0</td>\n",
       "      <td>...</td>\n",
       "      <td>212.0</td>\n",
       "      <td>249.0</td>\n",
       "      <td>3027.0</td>\n",
       "      <td>2909.0</td>\n",
       "      <td>606.0</td>\n",
       "      <td>448.0</td>\n",
       "      <td>33.0</td>\n",
       "      <td>1309.0</td>\n",
       "      <td>2282.0</td>\n",
       "      <td>203.0</td>\n",
       "    </tr>\n",
       "    <tr>\n",
       "      <th>4</th>\n",
       "      <td>737874</td>\n",
       "      <td>LI</td>\n",
       "      <td>False</td>\n",
       "      <td>train</td>\n",
       "      <td>Aug 2006</td>\n",
       "      <td>582.0</td>\n",
       "      <td>216.0</td>\n",
       "      <td>261.0</td>\n",
       "      <td>477.0</td>\n",
       "      <td>2550.0</td>\n",
       "      <td>...</td>\n",
       "      <td>125.0</td>\n",
       "      <td>315.0</td>\n",
       "      <td>3132.0</td>\n",
       "      <td>3039.0</td>\n",
       "      <td>741.0</td>\n",
       "      <td>531.0</td>\n",
       "      <td>41.0</td>\n",
       "      <td>1831.0</td>\n",
       "      <td>2299.0</td>\n",
       "      <td>211.0</td>\n",
       "    </tr>\n",
       "    <tr>\n",
       "      <th>5</th>\n",
       "      <td>1464343</td>\n",
       "      <td>ATLC</td>\n",
       "      <td>False</td>\n",
       "      <td>train</td>\n",
       "      <td>Dec 2016</td>\n",
       "      <td>56.0</td>\n",
       "      <td>7.5</td>\n",
       "      <td>49.0</td>\n",
       "      <td>53.0</td>\n",
       "      <td>135.0</td>\n",
       "      <td>...</td>\n",
       "      <td>-6.3</td>\n",
       "      <td>-205.9</td>\n",
       "      <td>59.5</td>\n",
       "      <td>362.5</td>\n",
       "      <td>144.0</td>\n",
       "      <td>80.0</td>\n",
       "      <td>412.0</td>\n",
       "      <td>356.8</td>\n",
       "      <td>82.0</td>\n",
       "      <td>295.8</td>\n",
       "    </tr>\n",
       "    <tr>\n",
       "      <th>6</th>\n",
       "      <td>1464343</td>\n",
       "      <td>ATLC</td>\n",
       "      <td>False</td>\n",
       "      <td>train</td>\n",
       "      <td>Dec 2017</td>\n",
       "      <td>56.0</td>\n",
       "      <td>1.0</td>\n",
       "      <td>49.0</td>\n",
       "      <td>53.0</td>\n",
       "      <td>135.0</td>\n",
       "      <td>...</td>\n",
       "      <td>-40.8</td>\n",
       "      <td>-246.6</td>\n",
       "      <td>75.0</td>\n",
       "      <td>425.6</td>\n",
       "      <td>144.0</td>\n",
       "      <td>80.0</td>\n",
       "      <td>412.0</td>\n",
       "      <td>461.7</td>\n",
       "      <td>82.0</td>\n",
       "      <td>295.8</td>\n",
       "    </tr>\n",
       "    <tr>\n",
       "      <th>7</th>\n",
       "      <td>1464343</td>\n",
       "      <td>ATLC</td>\n",
       "      <td>False</td>\n",
       "      <td>train</td>\n",
       "      <td>Dec 2018</td>\n",
       "      <td>56.0</td>\n",
       "      <td>1.0</td>\n",
       "      <td>49.0</td>\n",
       "      <td>53.0</td>\n",
       "      <td>135.0</td>\n",
       "      <td>...</td>\n",
       "      <td>7.9</td>\n",
       "      <td>-238.8</td>\n",
       "      <td>155.3</td>\n",
       "      <td>582.6</td>\n",
       "      <td>144.0</td>\n",
       "      <td>80.0</td>\n",
       "      <td>412.0</td>\n",
       "      <td>604.7</td>\n",
       "      <td>82.0</td>\n",
       "      <td>295.8</td>\n",
       "    </tr>\n",
       "    <tr>\n",
       "      <th>8</th>\n",
       "      <td>1464343</td>\n",
       "      <td>ATLC</td>\n",
       "      <td>False</td>\n",
       "      <td>train</td>\n",
       "      <td>Dec 2019</td>\n",
       "      <td>56.0</td>\n",
       "      <td>7.7</td>\n",
       "      <td>49.0</td>\n",
       "      <td>53.0</td>\n",
       "      <td>135.0</td>\n",
       "      <td>...</td>\n",
       "      <td>26.4</td>\n",
       "      <td>-211.8</td>\n",
       "      <td>357.1</td>\n",
       "      <td>936.3</td>\n",
       "      <td>144.0</td>\n",
       "      <td>80.0</td>\n",
       "      <td>412.0</td>\n",
       "      <td>935.9</td>\n",
       "      <td>82.0</td>\n",
       "      <td>295.8</td>\n",
       "    </tr>\n",
       "    <tr>\n",
       "      <th>9</th>\n",
       "      <td>1464343</td>\n",
       "      <td>ATLC</td>\n",
       "      <td>False</td>\n",
       "      <td>train</td>\n",
       "      <td>Dec 2020</td>\n",
       "      <td>56.0</td>\n",
       "      <td>8.0</td>\n",
       "      <td>49.0</td>\n",
       "      <td>53.0</td>\n",
       "      <td>135.0</td>\n",
       "      <td>...</td>\n",
       "      <td>94.1</td>\n",
       "      <td>-117.7</td>\n",
       "      <td>340.3</td>\n",
       "      <td>1207.2</td>\n",
       "      <td>144.0</td>\n",
       "      <td>80.0</td>\n",
       "      <td>412.0</td>\n",
       "      <td>1130.7</td>\n",
       "      <td>82.0</td>\n",
       "      <td>295.8</td>\n",
       "    </tr>\n",
       "  </tbody>\n",
       "</table>\n",
       "<p>10 rows × 22 columns</p>\n",
       "</div>"
      ]
     },
     "execution_count": 2,
     "metadata": {},
     "output_type": "execute_result"
    }
   ],
   "execution_count": 2
  },
  {
   "metadata": {
    "ExecuteTime": {
     "end_time": "2024-09-18T19:56:38.493171Z",
     "start_time": "2024-09-18T19:56:38.488299Z"
    }
   },
   "cell_type": "code",
   "source": [
    "def flatten_financial_dataset(financial_dataset):\n",
    "    object_length_in_rows = 5\n",
    "    metadata_columns_length = 5\n",
    "    \n",
    "    per_object_columns = list(financial_dataset.columns[:metadata_columns_length].values)\n",
    "    \n",
    "    value_columns = financial_dataset.columns[metadata_columns_length:]\n",
    "    new_columns = per_object_columns + [f'{col}_{i+1}' for i in range(object_length_in_rows) for col in value_columns]\n",
    "    \n",
    "    dfs = []\n",
    "    \n",
    "    for i in range(0, len(financial_dataset), object_length_in_rows):\n",
    "        group = financial_dataset.iloc[i:i + object_length_in_rows]\n",
    "        if len(group) < object_length_in_rows:\n",
    "            break\n",
    "\n",
    "        cik = group['cik'].iloc[0]\n",
    "        ticker = group['ticker'].iloc[0]\n",
    "        label = group['label'].iloc[0]\n",
    "        subset = group['subset'].iloc[0]\n",
    "        fiscal_periods = ';'.join(group['Fiscal Period'].astype(str).values)\n",
    "\n",
    "        values = group.drop(columns=per_object_columns).values.flatten()\n",
    "        \n",
    "        dfs.append([cik, ticker, label, subset, fiscal_periods] + values.tolist())\n",
    "    \n",
    "    final_flatten_df = pd.DataFrame(dfs, columns=new_columns)\n",
    "    final_flatten_df = final_flatten_df.reset_index(drop=True)\n",
    "    return final_flatten_df"
   ],
   "id": "56b465885ce7147f",
   "outputs": [],
   "execution_count": 3
  },
  {
   "metadata": {
    "ExecuteTime": {
     "end_time": "2024-09-18T14:40:37.331423Z",
     "start_time": "2024-09-18T14:40:34.921386Z"
    }
   },
   "cell_type": "code",
   "source": [
    "financial_dataset = flatten_financial_dataset(financial_dataset)\n",
    "financial_dataset_preprocessed = financial_dataset.drop(['cik', 'ticker', 'Fiscal Period'], axis=1)\n",
    "X = financial_dataset_preprocessed.drop('label', axis=1)\n",
    "y = financial_dataset_preprocessed['label']"
   ],
   "id": "7bf25fbb78c7bad8",
   "outputs": [],
   "execution_count": 4
  },
  {
   "metadata": {
    "ExecuteTime": {
     "end_time": "2024-09-18T19:56:41.860093Z",
     "start_time": "2024-09-18T19:56:41.855786Z"
    }
   },
   "cell_type": "code",
   "source": [
    "def get_train_val_test_split(X, y):\n",
    "    X_train = X[X['subset'] == 'train']\n",
    "    y_train = y[X['subset'] == 'train']\n",
    "    \n",
    "    X_val = X[X['subset'] == 'val']\n",
    "    y_val = y[X['subset'] == 'val']\n",
    "    \n",
    "    X_test = X[X['subset'] == 'test']\n",
    "    y_test = y[X['subset'] == 'test']\n",
    "    \n",
    "    X_train = X_train.drop('subset', axis=1)\n",
    "    X_val = X_val.drop('subset', axis=1)\n",
    "    X_test = X_test.drop('subset', axis=1)\n",
    "    \n",
    "    return X_train, y_train, X_val, y_val, X_test, y_test"
   ],
   "id": "6bdb50d3207ec626",
   "outputs": [],
   "execution_count": 4
  },
  {
   "metadata": {
    "ExecuteTime": {
     "end_time": "2024-09-18T15:03:10.689481Z",
     "start_time": "2024-09-18T15:03:10.670356Z"
    }
   },
   "cell_type": "code",
   "source": [
    "X_train, y_train, X_val, y_val, X_test, y_test = get_train_val_test_split(X, y)\n",
    "\n",
    "len(X_train), len(X_val), len(X_test)"
   ],
   "id": "7ca2725e0f3c1e7d",
   "outputs": [
    {
     "data": {
      "text/plain": [
       "(5760, 363, 1091)"
      ]
     },
     "execution_count": 21,
     "metadata": {},
     "output_type": "execute_result"
    }
   ],
   "execution_count": 21
  },
  {
   "metadata": {
    "ExecuteTime": {
     "end_time": "2024-09-18T15:03:12.843959Z",
     "start_time": "2024-09-18T15:03:12.820056Z"
    }
   },
   "cell_type": "code",
   "source": [
    "concat_train_and_val = False\n",
    "\n",
    "if concat_train_and_val:\n",
    "    X_train_val = pd.concat([X_train, X_val])\n",
    "    y_train_val = pd.concat([y_train, y_val])\n",
    "    \n",
    "    scaler = preprocessing.StandardScaler().fit(X_train_val)\n",
    "    \n",
    "    X_train_val = scaler.transform(X_train_val)\n",
    "    X_test = scaler.transform(X_test)\n",
    "    \n",
    "else:\n",
    "    scaler = preprocessing.StandardScaler().fit(X_train)\n",
    "    \n",
    "    X_train = scaler.transform(X_train)\n",
    "    X_val = scaler.transform(X_val)\n",
    "    X_test = scaler.transform(X_test)"
   ],
   "id": "e73c07356fb96074",
   "outputs": [],
   "execution_count": 22
  },
  {
   "metadata": {
    "ExecuteTime": {
     "end_time": "2024-09-18T14:52:16.239123Z",
     "start_time": "2024-09-18T14:52:16.227659Z"
    }
   },
   "cell_type": "code",
   "source": [
    "from sklearn.model_selection import PredefinedSplit\n",
    "\n",
    "split_index = [-1] * len(X_train) + [0] * len(X_val)\n",
    "X_train_val = np.concatenate([X_train, X_val])\n",
    "y_train_val = np.concatenate([y_train, y_val])\n",
    "ps = PredefinedSplit(test_fold=split_index)"
   ],
   "id": "5b123fe22fa15ef2",
   "outputs": [],
   "execution_count": 15
  },
  {
   "metadata": {},
   "cell_type": "markdown",
   "source": "### TPOT",
   "id": "43e33d09e44f7fcc"
  },
  {
   "metadata": {
    "ExecuteTime": {
     "end_time": "2024-09-18T14:52:18.921505Z",
     "start_time": "2024-09-18T14:52:18.910856Z"
    }
   },
   "cell_type": "code",
   "source": "from tpot import TPOTClassifier",
   "id": "ebaa3112a8a135ff",
   "outputs": [],
   "execution_count": 16
  },
  {
   "metadata": {
    "ExecuteTime": {
     "end_time": "2024-09-18T15:01:52.749480Z",
     "start_time": "2024-09-18T14:56:20.479683Z"
    }
   },
   "cell_type": "code",
   "source": [
    "tpot = TPOTClassifier(verbosity=2, generations=10, population_size=10, scoring='precision', random_state=random_state, cv=ps) \n",
    "tpot.fit(X_train_val, y_train_val)\n",
    "\n",
    "print(tpot.score(X_test, y_test))\n",
    "\n",
    "tpot.export('tpot_pipeline.py')"
   ],
   "id": "eab73550367724f8",
   "outputs": [
    {
     "data": {
      "text/plain": [
       "Optimization Progress:   0%|          | 0/110 [00:00<?, ?pipeline/s]"
      ],
      "application/vnd.jupyter.widget-view+json": {
       "version_major": 2,
       "version_minor": 0,
       "model_id": "04197a997b8842bd89e4174503c85143"
      }
     },
     "metadata": {},
     "output_type": "display_data"
    },
    {
     "name": "stdout",
     "output_type": "stream",
     "text": [
      "\n",
      "Generation 1 - Current best internal CV score: 0.14285714285714285\n",
      "\n",
      "Generation 2 - Current best internal CV score: 0.14285714285714285\n",
      "\n",
      "Generation 3 - Current best internal CV score: 0.14285714285714285\n",
      "\n",
      "Generation 4 - Current best internal CV score: 0.14285714285714285\n",
      "\n",
      "Generation 5 - Current best internal CV score: 0.14285714285714285\n",
      "\n",
      "Generation 6 - Current best internal CV score: 0.14285714285714285\n",
      "\n",
      "Generation 7 - Current best internal CV score: 0.14285714285714285\n",
      "\n",
      "Generation 8 - Current best internal CV score: 0.14285714285714285\n",
      "\n",
      "Generation 9 - Current best internal CV score: 0.16666666666666666\n",
      "\n",
      "Generation 10 - Current best internal CV score: 0.16666666666666666\n",
      "\n",
      "Best pipeline: GradientBoostingClassifier(input_matrix, learning_rate=0.1, max_depth=9, max_features=0.45, min_samples_leaf=13, min_samples_split=7, n_estimators=100, subsample=0.1)\n",
      "0.0\n"
     ]
    },
    {
     "name": "stderr",
     "output_type": "stream",
     "text": [
      "C:\\Users\\grzeg\\PycharmProjects\\bankruptcy-prophet-new\\bankruptcy-prophet\\.venv\\Lib\\site-packages\\sklearn\\metrics\\_classification.py:1517: UndefinedMetricWarning: Precision is ill-defined and being set to 0.0 due to no predicted samples. Use `zero_division` parameter to control this behavior.\n",
      "  _warn_prf(average, modifier, f\"{metric.capitalize()} is\", len(result))\n"
     ]
    }
   ],
   "execution_count": 19
  },
  {
   "metadata": {},
   "cell_type": "markdown",
   "source": "",
   "id": "a892600b7d9aca55"
  },
  {
   "metadata": {},
   "cell_type": "markdown",
   "source": "### Auto-sklearn is only for linux",
   "id": "b2dd92d655950694"
  },
  {
   "metadata": {},
   "cell_type": "markdown",
   "source": "### FLAML",
   "id": "318ecefd1a59b676"
  },
  {
   "metadata": {
    "ExecuteTime": {
     "end_time": "2024-09-18T15:03:17.860715Z",
     "start_time": "2024-09-18T15:03:17.853175Z"
    }
   },
   "cell_type": "code",
   "source": [
    "from flaml import AutoML\n",
    "from sklearn.metrics import f1_score, precision_score"
   ],
   "id": "991bb3e0f9402406",
   "outputs": [],
   "execution_count": 23
  },
  {
   "metadata": {},
   "cell_type": "code",
   "source": [
    "automl_settings = {\n",
    "    \"time_budget\": 120,\n",
    "    \"metric\": \"f1\",\n",
    "    \"task\": \"classification\",\n",
    "    \"log_file_name\": \"flaml-logs-bankruptcy-financial-data.log\",\n",
    "    \"log_training_metric\": False,\n",
    "}\n",
    "\n",
    "automl = AutoML()\n",
    "automl.fit(X_train, y_train, X_val=X_val, y_val=y_val, **automl_settings)"
   ],
   "id": "f5d228fd89327d15",
   "outputs": [],
   "execution_count": null
  },
  {
   "metadata": {
    "ExecuteTime": {
     "end_time": "2024-09-18T15:15:22.862746Z",
     "start_time": "2024-09-18T15:15:22.824402Z"
    }
   },
   "cell_type": "code",
   "source": [
    "y_pred = automl.predict(X_test)\n",
    "f1 = f1_score(y_test, y_pred, average='binary')\n",
    "precision = precision_score(y_test, y_pred)\n",
    "print(\"F1 Score:\", f1)\n",
    "print(\"Precision:\", precision)\n",
    "\n",
    "print(automl.score(X_test, y_test)) # accuracy\n",
    "\n",
    "print(automl.model.estimator)"
   ],
   "id": "259eca45059de94b",
   "outputs": [
    {
     "name": "stdout",
     "output_type": "stream",
     "text": [
      "F1 Score: 0.12121212121212122\n",
      "Precision: 0.09090909090909091\n",
      "0.9734188817598534\n",
      "ExtraTreesClassifier(max_features=0.1554012169742841, max_leaf_nodes=1334,\n",
      "                     n_estimators=5, n_jobs=-1, random_state=12032022)\n"
     ]
    }
   ],
   "execution_count": 27
  },
  {
   "metadata": {},
   "cell_type": "markdown",
   "source": [
    "F1 Score: 0.12121212121212122\n",
    "Precision: 0.09090909090909091\n",
    "0.9734188817598534\n",
    "ExtraTreesClassifier(max_features=0.1554012169742841, max_leaf_nodes=1334,\n",
    "                     n_estimators=5, n_jobs=-1, random_state=12032022)"
   ],
   "id": "d4b7737e3ca45cf7"
  },
  {
   "metadata": {},
   "cell_type": "markdown",
   "source": "### H20 AutoML - problem with java - didn't work",
   "id": "16a69af90a0b98af"
  },
  {
   "metadata": {
    "ExecuteTime": {
     "end_time": "2024-09-13T12:50:21.213079Z",
     "start_time": "2024-09-13T12:50:16.865277Z"
    }
   },
   "cell_type": "code",
   "source": [
    "import h2o\n",
    "from h2o.automl import H2OAutoML"
   ],
   "id": "d54c4c380eb0543d",
   "outputs": [],
   "execution_count": 15
  },
  {
   "metadata": {},
   "cell_type": "code",
   "source": [
    "h2o.init()\n",
    "\n",
    "h2o.demo(\"glm\")\n",
    "\n",
    "X_train_val['target'] = y_train_val\n",
    "X_train_val_h20Frame = h2o.H2OFrame(X_train_val)\n",
    "\n",
    "X_test['target'] = y_test\n",
    "X_test_h20Frame = h2o.H2OFrame(X_test)\n",
    "\n",
    "aml = H2OAutoML(max_runtime_secs=60)\n",
    "aml.train(y='target', training_frame=X_train_val_h20Frame)\n",
    "\n",
    "perf = aml.leader.model_performance(X_test_h20Frame)\n",
    "print(perf.auc())"
   ],
   "id": "3b82ec36606b40ac",
   "outputs": [],
   "execution_count": null
  },
  {
   "metadata": {},
   "cell_type": "code",
   "outputs": [],
   "execution_count": null,
   "source": "h2o.cluster().shutdown()",
   "id": "4dbf8f1a05a16fea"
  },
  {
   "metadata": {},
   "cell_type": "markdown",
   "source": "### Other approaches\n",
   "id": "8c91a56f1611ab8e"
  },
  {
   "metadata": {
    "ExecuteTime": {
     "end_time": "2024-09-18T15:16:48.984418Z",
     "start_time": "2024-09-18T15:16:48.969384Z"
    }
   },
   "cell_type": "code",
   "source": [
    "import pandas as pd\n",
    "import numpy as np\n",
    "from tqdm import tqdm"
   ],
   "id": "674852f2c6c81299",
   "outputs": [],
   "execution_count": 28
  },
  {
   "metadata": {
    "ExecuteTime": {
     "end_time": "2024-09-18T15:16:59.112192Z",
     "start_time": "2024-09-18T15:16:57.052030Z"
    }
   },
   "cell_type": "code",
   "source": [
    "financial_dataset = pd.read_csv('numerical_dataset_version5_oversampled.csv')\n",
    "flatten_df = flatten_financial_dataset(financial_dataset)\n",
    "\n",
    "financial_dataset_flatten_preprocessed = flatten_df.drop(['cik', 'ticker', 'Fiscal Period'], axis=1)\n",
    "X = financial_dataset_flatten_preprocessed.drop('label', axis=1)\n",
    "y = financial_dataset_flatten_preprocessed['label']"
   ],
   "id": "2fbaab8d8d0e3446",
   "outputs": [],
   "execution_count": 31
  },
  {
   "metadata": {
    "ExecuteTime": {
     "end_time": "2024-09-18T15:16:59.739493Z",
     "start_time": "2024-09-18T15:16:59.718536Z"
    }
   },
   "cell_type": "code",
   "source": [
    "X_train, y_train, X_val, y_val, X_test, y_test = get_train_val_test_split(X, y)\n",
    "\n",
    "len(X_train), len(X_val), len(X_test)"
   ],
   "id": "1a6d71b0c9dadc3a",
   "outputs": [
    {
     "data": {
      "text/plain": [
       "(5760, 363, 1091)"
      ]
     },
     "execution_count": 32,
     "metadata": {},
     "output_type": "execute_result"
    }
   ],
   "execution_count": 32
  },
  {
   "metadata": {
    "ExecuteTime": {
     "end_time": "2024-09-18T15:17:03.715045Z",
     "start_time": "2024-09-18T15:17:03.701960Z"
    }
   },
   "cell_type": "code",
   "source": [
    "from sklearn import preprocessing\n",
    "\n",
    "scaler = preprocessing.StandardScaler().fit(X_train)\n",
    "\n",
    "X_train = scaler.transform(X_train)\n",
    "X_val = scaler.transform(X_val)\n",
    "X_test = scaler.transform(X_test)"
   ],
   "id": "2b48322a599ae341",
   "outputs": [],
   "execution_count": 33
  },
  {
   "metadata": {
    "ExecuteTime": {
     "end_time": "2024-09-18T15:17:05.409463Z",
     "start_time": "2024-09-18T15:17:05.401430Z"
    }
   },
   "cell_type": "code",
   "source": [
    "from sklearn.ensemble import GradientBoostingClassifier, AdaBoostClassifier, ExtraTreesClassifier, BaggingClassifier, RandomForestClassifier\n",
    "from sklearn.linear_model import LogisticRegression\n",
    "from sklearn.svm import SVC\n",
    "from sklearn.tree import DecisionTreeClassifier\n",
    "from sklearn.neighbors import KNeighborsClassifier\n",
    "from sklearn.naive_bayes import GaussianNB\n",
    "from sklearn.neural_network import MLPClassifier\n",
    "from xgboost import XGBClassifier\n",
    "\n",
    "from sklearn.metrics import confusion_matrix, recall_score, precision_score, accuracy_score, f1_score\n",
    "\n",
    "fix_seed = 2024"
   ],
   "id": "47da3bbb8751d1c0",
   "outputs": [],
   "execution_count": 34
  },
  {
   "metadata": {
    "ExecuteTime": {
     "end_time": "2024-09-18T15:18:11.498228Z",
     "start_time": "2024-09-18T15:18:11.480587Z"
    }
   },
   "cell_type": "code",
   "source": [
    "def get_classifiers_for_automl(random_state=43):\n",
    "    randomForestClassifier = RandomForestClassifier(random_state=random_state)\n",
    "    gradientBoostingClassifier = GradientBoostingClassifier(random_state=random_state)\n",
    "    adaBoostClassifier = AdaBoostClassifier(random_state=random_state)\n",
    "    extraTreesClassifier = ExtraTreesClassifier(random_state=random_state)\n",
    "    baggingClassifier = BaggingClassifier(random_state=random_state)\n",
    "    logisticRegression = LogisticRegression(random_state=random_state, max_iter=300)\n",
    "    svc = SVC(random_state=random_state)\n",
    "    decisionTreeClassifier = DecisionTreeClassifier(random_state=random_state)\n",
    "    kNeighborsClassifier = KNeighborsClassifier()\n",
    "    gaussianNB = GaussianNB()\n",
    "    mlpClassifier = MLPClassifier(hidden_layer_sizes=(16, 16),\n",
    "                               batch_size=128,\n",
    "                               max_iter=300,\n",
    "                               shuffle=False,\n",
    "                               random_state=random_state,\n",
    "                               early_stopping=True,\n",
    "                               beta_2=0.99,\n",
    "                               n_iter_no_change=20)\n",
    "    xgbClassifier = XGBClassifier(random_state=random_state)\n",
    "    \n",
    "    return [xgbClassifier, randomForestClassifier, gradientBoostingClassifier, adaBoostClassifier, extraTreesClassifier, baggingClassifier, logisticRegression, svc, decisionTreeClassifier, kNeighborsClassifier, gaussianNB, mlpClassifier]"
   ],
   "id": "d864c75364dd251d",
   "outputs": [],
   "execution_count": 38
  },
  {
   "metadata": {
    "ExecuteTime": {
     "end_time": "2024-09-18T15:18:34.289075Z",
     "start_time": "2024-09-18T15:18:12.347102Z"
    }
   },
   "cell_type": "code",
   "source": [
    "results = {}\n",
    "\n",
    "for i in tqdm(range(1)):\n",
    "    random_state = fix_seed + i\n",
    "    classifiers = get_classifiers_for_automl(random_state=random_state)\n",
    "    \n",
    "    for classifier in classifiers:\n",
    "        classifier.fit(X_train, y_train)\n",
    "        y_pred = classifier.predict(X_test)\n",
    "        \n",
    "        accuracy = accuracy_score(y_test, y_pred)\n",
    "        precision = precision_score(y_test, y_pred)\n",
    "        \n",
    "        classifier_name = classifier.__class__.__name__\n",
    "        if classifier_name not in results:\n",
    "            results[classifier_name] = [[accuracy, precision]]\n",
    "        else:\n",
    "            results[classifier_name].append([accuracy, precision])\n",
    "            \n",
    "results_mean = {k: np.mean(v, axis=0) for k, v in results.items()}\n",
    "results_mean = [[k] + v.tolist() for k, v in results_mean.items()]\n",
    "results_df = pd.DataFrame(results_mean, columns=['classifier', 'accuracy', 'precision'])"
   ],
   "id": "f79801701cc45eb1",
   "outputs": [
    {
     "name": "stderr",
     "output_type": "stream",
     "text": [
      "  0%|          | 0/1 [00:00<?, ?it/s]C:\\Users\\grzeg\\PycharmProjects\\bankruptcy-prophet-new\\bankruptcy-prophet\\.venv\\Lib\\site-packages\\sklearn\\ensemble\\_weight_boosting.py:527: FutureWarning: The SAMME.R algorithm (the default) is deprecated and will be removed in 1.6. Use the SAMME algorithm to circumvent this warning.\n",
      "  warnings.warn(\n",
      "100%|██████████| 1/1 [00:21<00:00, 21.93s/it]\n"
     ]
    }
   ],
   "execution_count": 39
  },
  {
   "metadata": {
    "ExecuteTime": {
     "end_time": "2024-09-18T15:18:34.355308Z",
     "start_time": "2024-09-18T15:18:34.330495Z"
    }
   },
   "cell_type": "code",
   "source": "results_df",
   "id": "f3c9716441ecc039",
   "outputs": [
    {
     "data": {
      "text/plain": [
       "                    classifier  accuracy  precision\n",
       "0                XGBClassifier  0.964253   0.062500\n",
       "1       RandomForestClassifier  0.972502   0.086957\n",
       "2   GradientBoostingClassifier  0.937672   0.047619\n",
       "3           AdaBoostClassifier  0.918423   0.085106\n",
       "4         ExtraTreesClassifier  0.985335   0.142857\n",
       "5            BaggingClassifier  0.971586   0.083333\n",
       "6           LogisticRegression  0.769019   0.038314\n",
       "7                          SVC  0.579285   0.021368\n",
       "8       DecisionTreeClassifier  0.924840   0.038961\n",
       "9         KNeighborsClassifier  0.895509   0.044248\n",
       "10                  GaussianNB  0.244730   0.012005\n",
       "11               MLPClassifier  0.944088   0.037037"
      ],
      "text/html": [
       "<div>\n",
       "<style scoped>\n",
       "    .dataframe tbody tr th:only-of-type {\n",
       "        vertical-align: middle;\n",
       "    }\n",
       "\n",
       "    .dataframe tbody tr th {\n",
       "        vertical-align: top;\n",
       "    }\n",
       "\n",
       "    .dataframe thead th {\n",
       "        text-align: right;\n",
       "    }\n",
       "</style>\n",
       "<table border=\"1\" class=\"dataframe\">\n",
       "  <thead>\n",
       "    <tr style=\"text-align: right;\">\n",
       "      <th></th>\n",
       "      <th>classifier</th>\n",
       "      <th>accuracy</th>\n",
       "      <th>precision</th>\n",
       "    </tr>\n",
       "  </thead>\n",
       "  <tbody>\n",
       "    <tr>\n",
       "      <th>0</th>\n",
       "      <td>XGBClassifier</td>\n",
       "      <td>0.964253</td>\n",
       "      <td>0.062500</td>\n",
       "    </tr>\n",
       "    <tr>\n",
       "      <th>1</th>\n",
       "      <td>RandomForestClassifier</td>\n",
       "      <td>0.972502</td>\n",
       "      <td>0.086957</td>\n",
       "    </tr>\n",
       "    <tr>\n",
       "      <th>2</th>\n",
       "      <td>GradientBoostingClassifier</td>\n",
       "      <td>0.937672</td>\n",
       "      <td>0.047619</td>\n",
       "    </tr>\n",
       "    <tr>\n",
       "      <th>3</th>\n",
       "      <td>AdaBoostClassifier</td>\n",
       "      <td>0.918423</td>\n",
       "      <td>0.085106</td>\n",
       "    </tr>\n",
       "    <tr>\n",
       "      <th>4</th>\n",
       "      <td>ExtraTreesClassifier</td>\n",
       "      <td>0.985335</td>\n",
       "      <td>0.142857</td>\n",
       "    </tr>\n",
       "    <tr>\n",
       "      <th>5</th>\n",
       "      <td>BaggingClassifier</td>\n",
       "      <td>0.971586</td>\n",
       "      <td>0.083333</td>\n",
       "    </tr>\n",
       "    <tr>\n",
       "      <th>6</th>\n",
       "      <td>LogisticRegression</td>\n",
       "      <td>0.769019</td>\n",
       "      <td>0.038314</td>\n",
       "    </tr>\n",
       "    <tr>\n",
       "      <th>7</th>\n",
       "      <td>SVC</td>\n",
       "      <td>0.579285</td>\n",
       "      <td>0.021368</td>\n",
       "    </tr>\n",
       "    <tr>\n",
       "      <th>8</th>\n",
       "      <td>DecisionTreeClassifier</td>\n",
       "      <td>0.924840</td>\n",
       "      <td>0.038961</td>\n",
       "    </tr>\n",
       "    <tr>\n",
       "      <th>9</th>\n",
       "      <td>KNeighborsClassifier</td>\n",
       "      <td>0.895509</td>\n",
       "      <td>0.044248</td>\n",
       "    </tr>\n",
       "    <tr>\n",
       "      <th>10</th>\n",
       "      <td>GaussianNB</td>\n",
       "      <td>0.244730</td>\n",
       "      <td>0.012005</td>\n",
       "    </tr>\n",
       "    <tr>\n",
       "      <th>11</th>\n",
       "      <td>MLPClassifier</td>\n",
       "      <td>0.944088</td>\n",
       "      <td>0.037037</td>\n",
       "    </tr>\n",
       "  </tbody>\n",
       "</table>\n",
       "</div>"
      ]
     },
     "execution_count": 40,
     "metadata": {},
     "output_type": "execute_result"
    }
   ],
   "execution_count": 40
  },
  {
   "metadata": {
    "ExecuteTime": {
     "end_time": "2024-09-18T15:18:50.640316Z",
     "start_time": "2024-09-18T15:18:50.465085Z"
    }
   },
   "cell_type": "code",
   "source": [
    "import matplotlib.pyplot as plt\n",
    "results_df.plot(\n",
    "    x='classifier',\n",
    "    y=['accuracy', 'precision'],\n",
    "    kind='bar',\n",
    "    figsize=(15, 6),\n",
    "    title='Wyniki najpopuarniejszych klasyfikatorów (część numeryczna)',\n",
    "    xlabel='Klasyfikator',\n",
    "    ylabel='Wartość')\n",
    "\n",
    "plt.xticks(rotation=45)\n",
    "\n",
    "plt.show()"
   ],
   "id": "ad5a2b9e74b5d1b8",
   "outputs": [
    {
     "data": {
      "text/plain": [
       "<Figure size 1500x600 with 1 Axes>"
      ],
      "image/png": "[encoded data removed]"
     },
     "metadata": {},
     "output_type": "display_data"
    }
   ],
   "execution_count": 41
  },
  {
   "metadata": {},
   "cell_type": "markdown",
   "source": "### Looking for best hyperparameters for XGBClassifier",
   "id": "6958caad05da92e9"
  },
  {
   "metadata": {
    "ExecuteTime": {
     "end_time": "2024-09-18T15:23:49.645560Z",
     "start_time": "2024-09-18T15:23:49.626377Z"
    }
   },
   "cell_type": "code",
   "source": [
    "from sklearn.model_selection import PredefinedSplit\n",
    "\n",
    "split_index = [-1] * len(X_train) + [0] * len(X_val)\n",
    "X_train_val = np.concatenate([X_train, X_val])\n",
    "y_train_val = np.concatenate([y_train, y_val])\n",
    "ps = PredefinedSplit(test_fold=split_index)"
   ],
   "id": "79a026cbf3aa1e3",
   "outputs": [],
   "execution_count": 42
  },
  {
   "metadata": {
    "ExecuteTime": {
     "end_time": "2024-09-18T19:41:31.232701Z",
     "start_time": "2024-09-18T19:41:31.228105Z"
    }
   },
   "cell_type": "code",
   "source": [
    "from sklearn.model_selection import RandomizedSearchCV\n",
    "from xgboost import XGBClassifier\n",
    "from sklearn.metrics import accuracy_score, precision_score\n",
    "\n",
    "xgb = XGBClassifier()\n",
    "\n",
    "param_dist_XGBClassifier = {\n",
    "    'n_estimators': [50, 100, 200],\n",
    "    'learning_rate': [0.0001, 0.001, 0.01, 0.02, 0.06, 0.1],\n",
    "    'max_depth': [3, 5, 7, 10],\n",
    "    'subsample': [0.6, 0.7, 0.8, 0.9, 1.0],\n",
    "    'gamma': [0, 0.1, 0.2, 0.3],\n",
    "    'reg_alpha': [0, 0.01, 0.1, 1]\n",
    "}\n",
    "\n",
    "extraTreesClassifier = ExtraTreesClassifier(random_state=random_state)\n",
    "\n",
    "param_dist_ExtraTreesClassifier = {\n",
    "    'n_estimators': [50, 100, 200, 300, 500]\n",
    "}\n",
    "\n",
    "randomForestClassifier = RandomForestClassifier(random_state=random_state)\n",
    "# params will be the same as for ExtraTreesClassifier"
   ],
   "id": "118d61f425862735",
   "outputs": [],
   "execution_count": 75
  },
  {
   "metadata": {
    "ExecuteTime": {
     "end_time": "2024-09-18T19:43:30.106784Z",
     "start_time": "2024-09-18T19:41:32.198942Z"
    }
   },
   "cell_type": "code",
   "source": [
    "random_state = 42\n",
    "for i in tqdm(range(5)):\n",
    "    random_search = RandomizedSearchCV(\n",
    "        estimator=xgb, \n",
    "        param_distributions=param_dist_XGBClassifier,\n",
    "        n_iter=100,\n",
    "        scoring='precision',\n",
    "        n_jobs=-1,\n",
    "        cv=ps,\n",
    "        random_state=random_state+i\n",
    "    )\n",
    "    \n",
    "    random_search.fit(X_train_val, y_train_val)\n",
    "    \n",
    "    print(f\"Best parameters found: {random_search.best_params_}\")\n",
    "    \n",
    "    best_xgb = random_search.best_estimator_\n",
    "    \n",
    "    y_pred = best_xgb.predict(X_test)\n",
    "    accuracy = accuracy_score(y_test, y_pred)\n",
    "    precision = precision_score(y_test, y_pred)\n",
    "    \n",
    "    print(f\"Test Accuracy: {accuracy}\")\n",
    "    print(f\"Test Precision: {precision}\")"
   ],
   "id": "c1a4381e45802a3d",
   "outputs": [
    {
     "name": "stderr",
     "output_type": "stream",
     "text": [
      "  0%|          | 0/5 [00:00<?, ?it/s]C:\\Users\\grzeg\\PycharmProjects\\bankruptcy-prophet-new\\bankruptcy-prophet\\.venv\\Lib\\site-packages\\sklearn\\model_selection\\_validation.py:540: FitFailedWarning: \n",
      "1 fits failed out of a total of 100.\n",
      "The score on these train-test partitions for these parameters will be set to nan.\n",
      "If these failures are not expected, you can try to debug them by setting error_score='raise'.\n",
      "\n",
      "Below are more details about the failures:\n",
      "--------------------------------------------------------------------------------\n",
      "1 fits failed with the following error:\n",
      "Traceback (most recent call last):\n",
      "  File \"C:\\Users\\grzeg\\PycharmProjects\\bankruptcy-prophet-new\\bankruptcy-prophet\\.venv\\Lib\\site-packages\\sklearn\\model_selection\\_validation.py\", line 888, in _fit_and_score\n",
      "    estimator.fit(X_train, y_train, **fit_params)\n",
      "  File \"C:\\Users\\grzeg\\PycharmProjects\\bankruptcy-prophet-new\\bankruptcy-prophet\\.venv\\Lib\\site-packages\\xgboost\\core.py\", line 726, in inner_f\n",
      "    return func(**kwargs)\n",
      "           ^^^^^^^^^^^^^^\n",
      "  File \"C:\\Users\\grzeg\\PycharmProjects\\bankruptcy-prophet-new\\bankruptcy-prophet\\.venv\\Lib\\site-packages\\xgboost\\sklearn.py\", line 1512, in fit\n",
      "    train_dmatrix, evals = _wrap_evaluation_matrices(\n",
      "                           ^^^^^^^^^^^^^^^^^^^^^^^^^^\n",
      "  File \"C:\\Users\\grzeg\\PycharmProjects\\bankruptcy-prophet-new\\bankruptcy-prophet\\.venv\\Lib\\site-packages\\xgboost\\sklearn.py\", line 596, in _wrap_evaluation_matrices\n",
      "    train_dmatrix = create_dmatrix(\n",
      "                    ^^^^^^^^^^^^^^^\n",
      "  File \"C:\\Users\\grzeg\\PycharmProjects\\bankruptcy-prophet-new\\bankruptcy-prophet\\.venv\\Lib\\site-packages\\xgboost\\sklearn.py\", line 1003, in _create_dmatrix\n",
      "    return QuantileDMatrix(\n",
      "           ^^^^^^^^^^^^^^^^\n",
      "  File \"C:\\Users\\grzeg\\PycharmProjects\\bankruptcy-prophet-new\\bankruptcy-prophet\\.venv\\Lib\\site-packages\\xgboost\\core.py\", line 726, in inner_f\n",
      "    return func(**kwargs)\n",
      "           ^^^^^^^^^^^^^^\n",
      "  File \"C:\\Users\\grzeg\\PycharmProjects\\bankruptcy-prophet-new\\bankruptcy-prophet\\.venv\\Lib\\site-packages\\xgboost\\core.py\", line 1573, in __init__\n",
      "    self._init(\n",
      "  File \"C:\\Users\\grzeg\\PycharmProjects\\bankruptcy-prophet-new\\bankruptcy-prophet\\.venv\\Lib\\site-packages\\xgboost\\core.py\", line 1632, in _init\n",
      "    it.reraise()\n",
      "  File \"C:\\Users\\grzeg\\PycharmProjects\\bankruptcy-prophet-new\\bankruptcy-prophet\\.venv\\Lib\\site-packages\\xgboost\\core.py\", line 569, in reraise\n",
      "    raise exc  # pylint: disable=raising-bad-type\n",
      "    ^^^^^^^^^\n",
      "  File \"C:\\Users\\grzeg\\PycharmProjects\\bankruptcy-prophet-new\\bankruptcy-prophet\\.venv\\Lib\\site-packages\\xgboost\\core.py\", line 550, in _handle_exception\n",
      "    return fn()\n",
      "           ^^^^\n",
      "  File \"C:\\Users\\grzeg\\PycharmProjects\\bankruptcy-prophet-new\\bankruptcy-prophet\\.venv\\Lib\\site-packages\\xgboost\\core.py\", line 637, in <lambda>\n",
      "    return self._handle_exception(lambda: self.next(input_data), 0)\n",
      "                                          ^^^^^^^^^^^^^^^^^^^^^\n",
      "  File \"C:\\Users\\grzeg\\PycharmProjects\\bankruptcy-prophet-new\\bankruptcy-prophet\\.venv\\Lib\\site-packages\\xgboost\\data.py\", line 1416, in next\n",
      "    input_data(**self.kwargs)\n",
      "  File \"C:\\Users\\grzeg\\PycharmProjects\\bankruptcy-prophet-new\\bankruptcy-prophet\\.venv\\Lib\\site-packages\\xgboost\\core.py\", line 726, in inner_f\n",
      "    return func(**kwargs)\n",
      "           ^^^^^^^^^^^^^^\n",
      "  File \"C:\\Users\\grzeg\\PycharmProjects\\bankruptcy-prophet-new\\bankruptcy-prophet\\.venv\\Lib\\site-packages\\xgboost\\core.py\", line 626, in input_data\n",
      "    self.proxy.set_info(\n",
      "  File \"C:\\Users\\grzeg\\PycharmProjects\\bankruptcy-prophet-new\\bankruptcy-prophet\\.venv\\Lib\\site-packages\\xgboost\\core.py\", line 726, in inner_f\n",
      "    return func(**kwargs)\n",
      "           ^^^^^^^^^^^^^^\n",
      "  File \"C:\\Users\\grzeg\\PycharmProjects\\bankruptcy-prophet-new\\bankruptcy-prophet\\.venv\\Lib\\site-packages\\xgboost\\core.py\", line 954, in set_info\n",
      "    self.set_label(label)\n",
      "  File \"C:\\Users\\grzeg\\PycharmProjects\\bankruptcy-prophet-new\\bankruptcy-prophet\\.venv\\Lib\\site-packages\\xgboost\\core.py\", line 1092, in set_label\n",
      "    dispatch_meta_backend(self, label, \"label\", \"float\")\n",
      "  File \"C:\\Users\\grzeg\\PycharmProjects\\bankruptcy-prophet-new\\bankruptcy-prophet\\.venv\\Lib\\site-packages\\xgboost\\data.py\", line 1354, in dispatch_meta_backend\n",
      "    _meta_from_numpy(data, name, dtype, handle)\n",
      "  File \"C:\\Users\\grzeg\\PycharmProjects\\bankruptcy-prophet-new\\bankruptcy-prophet\\.venv\\Lib\\site-packages\\xgboost\\data.py\", line 1295, in _meta_from_numpy\n",
      "    _check_call(_LIB.XGDMatrixSetInfoFromInterface(handle, c_str(field), interface_str))\n",
      "  File \"C:\\Users\\grzeg\\PycharmProjects\\bankruptcy-prophet-new\\bankruptcy-prophet\\.venv\\Lib\\site-packages\\xgboost\\core.py\", line 284, in _check_call\n",
      "    raise XGBoostError(py_str(_LIB.XGBGetLastError()))\n",
      "xgboost.core.XGBoostError: [21:41:48] C:\\buildkite-agent\\builds\\buildkite-windows-cpu-autoscaling-group-i-06abd128ca6c1688d-1\\xgboost\\xgboost-ci-windows\\src\\data\\array_interface.cu:44: Check failed: err == cudaGetLastError() (0 vs. 46) : \n",
      "\n",
      "  warnings.warn(some_fits_failed_message, FitFailedWarning)\n",
      "C:\\Users\\grzeg\\PycharmProjects\\bankruptcy-prophet-new\\bankruptcy-prophet\\.venv\\Lib\\site-packages\\sklearn\\model_selection\\_search.py:1052: UserWarning: One or more of the test scores are non-finite: [ 0.  0.  0.  0.  0.  0.  0.  0.  0.  0. nan  0.  0.  0.  0.  0.  0.  0.\n",
      "  0.  0.  0.  0.  0.  0.  0.  0.  0.  0.  0.  0.  0.  0.  0.  0.  0.  0.\n",
      "  0.  0.  0.  0.  0.  0.  0.  0.  0.  0.  0.  0.  0.  0.  0.  0.  0.  0.\n",
      "  0.  0.  0.  0.  0.  0.  0.  0.  0.  0.  0.  0.  0.  0.  0.  0.  0.  0.\n",
      "  0.  0.  0.  0.  0.  0.  0.  0.  0.  0.  0.  0.  0.  0.  0.  0.  0.  0.\n",
      "  0.  0.  0.  0.  0.  0.  0.  0.  0.  0.]\n",
      "  warnings.warn(\n",
      "C:\\Users\\grzeg\\PycharmProjects\\bankruptcy-prophet-new\\bankruptcy-prophet\\.venv\\Lib\\site-packages\\sklearn\\metrics\\_classification.py:1517: UndefinedMetricWarning: Precision is ill-defined and being set to 0.0 due to no predicted samples. Use `zero_division` parameter to control this behavior.\n",
      "  _warn_prf(average, modifier, f\"{metric.capitalize()} is\", len(result))\n",
      " 20%|██        | 1/5 [00:36<02:25, 36.26s/it]"
     ]
    },
    {
     "name": "stdout",
     "output_type": "stream",
     "text": [
      "Best parameters found: {'subsample': 0.8, 'reg_alpha': 0, 'n_estimators': 50, 'max_depth': 5, 'learning_rate': 0.0001, 'gamma': 0.3}\n",
      "Test Accuracy: 0.9899175068744271\n",
      "Test Precision: 0.0\n"
     ]
    },
    {
     "name": "stderr",
     "output_type": "stream",
     "text": [
      "C:\\Users\\grzeg\\PycharmProjects\\bankruptcy-prophet-new\\bankruptcy-prophet\\.venv\\Lib\\site-packages\\sklearn\\metrics\\_classification.py:1517: UndefinedMetricWarning: Precision is ill-defined and being set to 0.0 due to no predicted samples. Use `zero_division` parameter to control this behavior.\n",
      "  _warn_prf(average, modifier, f\"{metric.capitalize()} is\", len(result))\n",
      " 40%|████      | 2/5 [00:58<01:24, 28.03s/it]"
     ]
    },
    {
     "name": "stdout",
     "output_type": "stream",
     "text": [
      "Best parameters found: {'subsample': 0.8, 'reg_alpha': 1, 'n_estimators': 200, 'max_depth': 3, 'learning_rate': 0.001, 'gamma': 0.1}\n",
      "Test Accuracy: 0.9899175068744271\n",
      "Test Precision: 0.0\n"
     ]
    },
    {
     "name": "stderr",
     "output_type": "stream",
     "text": [
      " 60%|██████    | 3/5 [01:18<00:48, 24.32s/it]"
     ]
    },
    {
     "name": "stdout",
     "output_type": "stream",
     "text": [
      "Best parameters found: {'subsample': 0.8, 'reg_alpha': 1, 'n_estimators': 100, 'max_depth': 10, 'learning_rate': 0.1, 'gamma': 0.2}\n",
      "Test Accuracy: 0.9908340971585701\n",
      "Test Precision: 1.0\n"
     ]
    },
    {
     "name": "stderr",
     "output_type": "stream",
     "text": [
      "C:\\Users\\grzeg\\PycharmProjects\\bankruptcy-prophet-new\\bankruptcy-prophet\\.venv\\Lib\\site-packages\\sklearn\\metrics\\_classification.py:1517: UndefinedMetricWarning: Precision is ill-defined and being set to 0.0 due to no predicted samples. Use `zero_division` parameter to control this behavior.\n",
      "  _warn_prf(average, modifier, f\"{metric.capitalize()} is\", len(result))\n",
      " 80%|████████  | 4/5 [01:37<00:22, 22.38s/it]"
     ]
    },
    {
     "name": "stdout",
     "output_type": "stream",
     "text": [
      "Best parameters found: {'subsample': 0.8, 'reg_alpha': 0.1, 'n_estimators': 200, 'max_depth': 7, 'learning_rate': 0.02, 'gamma': 0.1}\n",
      "Test Accuracy: 0.9899175068744271\n",
      "Test Precision: 0.0\n"
     ]
    },
    {
     "name": "stderr",
     "output_type": "stream",
     "text": [
      "C:\\Users\\grzeg\\PycharmProjects\\bankruptcy-prophet-new\\bankruptcy-prophet\\.venv\\Lib\\site-packages\\sklearn\\metrics\\_classification.py:1517: UndefinedMetricWarning: Precision is ill-defined and being set to 0.0 due to no predicted samples. Use `zero_division` parameter to control this behavior.\n",
      "  _warn_prf(average, modifier, f\"{metric.capitalize()} is\", len(result))\n",
      "100%|██████████| 5/5 [01:57<00:00, 23.58s/it]"
     ]
    },
    {
     "name": "stdout",
     "output_type": "stream",
     "text": [
      "Best parameters found: {'subsample': 0.6, 'reg_alpha': 0.01, 'n_estimators': 100, 'max_depth': 3, 'learning_rate': 0.001, 'gamma': 0.1}\n",
      "Test Accuracy: 0.9899175068744271\n",
      "Test Precision: 0.0\n"
     ]
    },
    {
     "name": "stderr",
     "output_type": "stream",
     "text": [
      "\n"
     ]
    }
   ],
   "execution_count": 76
  },
  {
   "metadata": {},
   "cell_type": "markdown",
   "source": [
    "##### XGBClassifier results:\n",
    "\n",
    "Best parameters found: {'subsample': 0.8, 'reg_alpha': 0.1, 'n_estimators': 300, 'max_depth': 5, 'learning_rate': 0.02, 'gamma': 0.2}\n",
    "Test Accuracy: 0.9505041246562786\n",
    "Test Precision: 0.09433962264150944\n",
    "\n",
    "#### ExtraTreesClassifier results:\n"
   ],
   "id": "326aeb336d806ad2"
  },
  {
   "metadata": {},
   "cell_type": "markdown",
   "source": "",
   "id": "8521837984fac776"
  },
  {
   "metadata": {},
   "cell_type": "markdown",
   "source": "#### Running XGBoost on original dataset",
   "id": "334c15559518c690"
  },
  {
   "metadata": {
    "ExecuteTime": {
     "end_time": "2024-09-18T15:35:56.877645Z",
     "start_time": "2024-09-18T15:35:55.298125Z"
    }
   },
   "cell_type": "code",
   "source": [
    "financial_dataset = pd.read_csv('numerical_dataset_version5_oversampled.csv')\n",
    "\n",
    "financial_dataset = financial_dataset[~financial_dataset['ticker'].isna()]\n",
    "\n",
    "flatten_df = flatten_financial_dataset(financial_dataset)\n",
    "\n",
    "financial_dataset_flatten_preprocessed = flatten_df.drop(['cik', 'ticker', 'Fiscal Period'], axis=1)\n",
    "X = financial_dataset_flatten_preprocessed.drop('label', axis=1)\n",
    "y = financial_dataset_flatten_preprocessed['label']"
   ],
   "id": "34a69d42a4c62571",
   "outputs": [],
   "execution_count": 45
  },
  {
   "metadata": {
    "ExecuteTime": {
     "end_time": "2024-09-18T15:35:57.741885Z",
     "start_time": "2024-09-18T15:35:57.714224Z"
    }
   },
   "cell_type": "code",
   "source": [
    "X_train, y_train, X_val, y_val, X_test, y_test = get_train_val_test_split(X, y)\n",
    "\n",
    "len(X_train), len(X_val), len(X_test)"
   ],
   "id": "d8a04aa39815408",
   "outputs": [
    {
     "data": {
      "text/plain": [
       "(3012, 363, 1091)"
      ]
     },
     "execution_count": 46,
     "metadata": {},
     "output_type": "execute_result"
    }
   ],
   "execution_count": 46
  },
  {
   "metadata": {
    "ExecuteTime": {
     "end_time": "2024-09-18T15:36:10.339007Z",
     "start_time": "2024-09-18T15:36:10.313684Z"
    }
   },
   "cell_type": "code",
   "source": [
    "from sklearn import preprocessing\n",
    "\n",
    "scaler = preprocessing.StandardScaler().fit(X_train)\n",
    "\n",
    "X_train = scaler.transform(X_train)\n",
    "X_val = scaler.transform(X_val)\n",
    "X_test = scaler.transform(X_test)"
   ],
   "id": "674ff5e42966dfa4",
   "outputs": [],
   "execution_count": 47
  },
  {
   "metadata": {
    "ExecuteTime": {
     "end_time": "2024-09-18T15:36:11.507453Z",
     "start_time": "2024-09-18T15:36:11.496698Z"
    }
   },
   "cell_type": "code",
   "source": [
    "from sklearn.model_selection import PredefinedSplit\n",
    "\n",
    "split_index = [-1] * len(X_train) + [0] * len(X_val)\n",
    "X_train_val = np.concatenate([X_train, X_val])\n",
    "y_train_val = np.concatenate([y_train, y_val])\n",
    "ps = PredefinedSplit(test_fold=split_index)"
   ],
   "id": "6ed17e32e1804ceb",
   "outputs": [],
   "execution_count": 48
  },
  {
   "metadata": {
    "ExecuteTime": {
     "end_time": "2024-09-18T15:40:26.089901Z",
     "start_time": "2024-09-18T15:36:18.446150Z"
    }
   },
   "cell_type": "code",
   "source": [
    "random_state = 42\n",
    "for i in tqdm(range(5)):\n",
    "    random_search = RandomizedSearchCV(\n",
    "        estimator=xgb, \n",
    "        param_distributions=param_dist_XGBClassifier,\n",
    "        n_iter=100,\n",
    "        scoring='precision',\n",
    "        n_jobs=-1,\n",
    "        cv=ps,\n",
    "        random_state=random_state+i\n",
    "    )\n",
    "    \n",
    "    random_search.fit(X_train_val, y_train_val)\n",
    "    \n",
    "    print(f\"Best parameters found: {random_search.best_params_}\")\n",
    "    \n",
    "    best_xgb = random_search.best_estimator_\n",
    "    \n",
    "    y_pred = best_xgb.predict(X_test)\n",
    "    accuracy = accuracy_score(y_test, y_pred)\n",
    "    precision = precision_score(y_test, y_pred)\n",
    "    \n",
    "    print(f\"Test Accuracy: {accuracy}\")\n",
    "    print(f\"Test Precision: {precision}\")"
   ],
   "id": "8e84904c87694f1d",
   "outputs": [
    {
     "name": "stderr",
     "output_type": "stream",
     "text": [
      "  0%|          | 0/5 [00:00<?, ?it/s]C:\\Users\\grzeg\\PycharmProjects\\bankruptcy-prophet-new\\bankruptcy-prophet\\.venv\\Lib\\site-packages\\sklearn\\metrics\\_classification.py:1517: UndefinedMetricWarning: Precision is ill-defined and being set to 0.0 due to no predicted samples. Use `zero_division` parameter to control this behavior.\n",
      "  _warn_prf(average, modifier, f\"{metric.capitalize()} is\", len(result))\n",
      " 20%|██        | 1/5 [00:49<03:18, 49.70s/it]"
     ]
    },
    {
     "name": "stdout",
     "output_type": "stream",
     "text": [
      "Best parameters found: {'subsample': 0.6, 'reg_alpha': 0.1, 'n_estimators': 200, 'max_depth': 7, 'learning_rate': 0.01, 'gamma': 0}\n",
      "Test Accuracy: 0.9899175068744271\n",
      "Test Precision: 0.0\n"
     ]
    },
    {
     "name": "stderr",
     "output_type": "stream",
     "text": [
      "C:\\Users\\grzeg\\PycharmProjects\\bankruptcy-prophet-new\\bankruptcy-prophet\\.venv\\Lib\\site-packages\\sklearn\\metrics\\_classification.py:1517: UndefinedMetricWarning: Precision is ill-defined and being set to 0.0 due to no predicted samples. Use `zero_division` parameter to control this behavior.\n",
      "  _warn_prf(average, modifier, f\"{metric.capitalize()} is\", len(result))\n",
      " 40%|████      | 2/5 [01:42<02:34, 51.34s/it]"
     ]
    },
    {
     "name": "stdout",
     "output_type": "stream",
     "text": [
      "Best parameters found: {'subsample': 0.8, 'reg_alpha': 0.1, 'n_estimators': 200, 'max_depth': 7, 'learning_rate': 0.02, 'gamma': 0}\n",
      "Test Accuracy: 0.9899175068744271\n",
      "Test Precision: 0.0\n"
     ]
    },
    {
     "name": "stderr",
     "output_type": "stream",
     "text": [
      " 60%|██████    | 3/5 [02:32<01:41, 50.78s/it]"
     ]
    },
    {
     "name": "stdout",
     "output_type": "stream",
     "text": [
      "Best parameters found: {'subsample': 0.6, 'reg_alpha': 1, 'n_estimators': 300, 'max_depth': 10, 'learning_rate': 0.06, 'gamma': 0.3}\n",
      "Test Accuracy: 0.9908340971585701\n",
      "Test Precision: 1.0\n"
     ]
    },
    {
     "name": "stderr",
     "output_type": "stream",
     "text": [
      " 80%|████████  | 4/5 [03:20<00:49, 49.81s/it]"
     ]
    },
    {
     "name": "stdout",
     "output_type": "stream",
     "text": [
      "Best parameters found: {'subsample': 0.6, 'reg_alpha': 0.1, 'n_estimators': 300, 'max_depth': 5, 'learning_rate': 0.06, 'gamma': 0.3}\n",
      "Test Accuracy: 0.9899175068744271\n",
      "Test Precision: 0.5\n"
     ]
    },
    {
     "name": "stderr",
     "output_type": "stream",
     "text": [
      "C:\\Users\\grzeg\\PycharmProjects\\bankruptcy-prophet-new\\bankruptcy-prophet\\.venv\\Lib\\site-packages\\sklearn\\metrics\\_classification.py:1517: UndefinedMetricWarning: Precision is ill-defined and being set to 0.0 due to no predicted samples. Use `zero_division` parameter to control this behavior.\n",
      "  _warn_prf(average, modifier, f\"{metric.capitalize()} is\", len(result))\n",
      "100%|██████████| 5/5 [04:07<00:00, 49.52s/it]"
     ]
    },
    {
     "name": "stdout",
     "output_type": "stream",
     "text": [
      "Best parameters found: {'subsample': 0.9, 'reg_alpha': 0, 'n_estimators': 50, 'max_depth': 7, 'learning_rate': 0.01, 'gamma': 0.1}\n",
      "Test Accuracy: 0.9899175068744271\n",
      "Test Precision: 0.0\n"
     ]
    },
    {
     "name": "stderr",
     "output_type": "stream",
     "text": [
      "\n"
     ]
    }
   ],
   "execution_count": 49
  },
  {
   "metadata": {},
   "cell_type": "markdown",
   "source": [
    "Best parameters found: {'subsample': 0.6, 'reg_alpha': 1, 'n_estimators': 300, 'max_depth': 10, 'learning_rate': 0.06, 'gamma': 0.3}\n",
    "Test Accuracy: 0.9908340971585701\n",
    "Test Precision: 1.0"
   ],
   "id": "327c3f0d7ee5ef4a"
  },
  {
   "metadata": {
    "ExecuteTime": {
     "end_time": "2024-09-18T19:47:58.283942Z",
     "start_time": "2024-09-18T19:47:58.055418Z"
    }
   },
   "cell_type": "code",
   "source": [
    "xgb = XGBClassifier(\n",
    "    random_state=random_state,\n",
    "    subsample=0.6,\n",
    "    n_estimators=50,\n",
    "    max_depth=5,\n",
    "    learning_rate=0.06,\n",
    "    gamma=0.3\n",
    ")\n",
    "\n",
    "xgb.fit(X_train, y_train)\n",
    "\n",
    "y_pred = xgb.predict(X_test)\n",
    "\n",
    "print(f\"Test Accuracy: {accuracy_score(y_test, y_pred)}\")\n",
    "print(f\"Test Precision: {precision_score(y_test, y_pred)}\")"
   ],
   "id": "cf26a526887dc55d",
   "outputs": [
    {
     "name": "stdout",
     "output_type": "stream",
     "text": [
      "Test Accuracy: 0.9899175068744271\n",
      "Test Precision: 0.0\n"
     ]
    },
    {
     "name": "stderr",
     "output_type": "stream",
     "text": [
      "C:\\Users\\grzeg\\PycharmProjects\\bankruptcy-prophet-new\\bankruptcy-prophet\\.venv\\Lib\\site-packages\\sklearn\\metrics\\_classification.py:1517: UndefinedMetricWarning: Precision is ill-defined and being set to 0.0 due to no predicted samples. Use `zero_division` parameter to control this behavior.\n",
      "  _warn_prf(average, modifier, f\"{metric.capitalize()} is\", len(result))\n"
     ]
    }
   ],
   "execution_count": 92
  },
  {
   "metadata": {},
   "cell_type": "markdown",
   "source": "#### Choosing best models among LogisticRegression and SVC",
   "id": "b1d42e45e1617470"
  },
  {
   "metadata": {},
   "cell_type": "markdown",
   "source": "#### LogisticRegression",
   "id": "2c4d1742b528175a"
  },
  {
   "metadata": {
    "ExecuteTime": {
     "end_time": "2024-09-18T19:50:32.700134Z",
     "start_time": "2024-09-18T19:50:32.695971Z"
    }
   },
   "cell_type": "code",
   "source": [
    "from sklearn.model_selection import RandomizedSearchCV, PredefinedSplit\n",
    "from sklearn.linear_model import LogisticRegression\n",
    "import numpy as np\n",
    "from tqdm import tqdm\n",
    "\n",
    "model = LogisticRegression(random_state=random_state, penalty='l2')\n",
    "\n",
    "param_distributions = {\n",
    "    'tol': [1e-5, 1e-4, 1e-3, 1e-2],\n",
    "    'C': np.logspace(-2, 3, 20),\n",
    "    'max_iter': [50, 100, 200, 400, 600, 800],\n",
    "    'solver': ['newton-cholesky', 'lbfgs', 'liblinear']\n",
    "}"
   ],
   "id": "804064234b835df5",
   "outputs": [],
   "execution_count": 99
  },
  {
   "metadata": {},
   "cell_type": "code",
   "source": [
    "for i in tqdm(range(10)):\n",
    "    grid = RandomizedSearchCV(estimator=model, param_distributions=param_distributions, cv=ps, scoring='precision', n_iter=180, random_state=random_state+1, n_jobs=-1)\n",
    "    \n",
    "    grid_result = grid.fit(X_train_val, y_train_val)\n",
    "    \n",
    "    print(\"Best: %f using %s\" % (grid_result.best_score_, grid_result.best_params_))\n",
    "    \n",
    "    preds = grid_result.predict(X_test)\n",
    "    print(f\"Accuracy: {accuracy_score(y_test, preds)}\")\n",
    "    print(f\"Precision: {precision_score(y_test, preds)}\")"
   ],
   "id": "178d2073d4d7b8cd",
   "outputs": [],
   "execution_count": null
  },
  {
   "metadata": {},
   "cell_type": "markdown",
   "source": "#### SVC",
   "id": "8500e0a7e3349143"
  },
  {
   "metadata": {
    "ExecuteTime": {
     "end_time": "2024-09-18T19:49:58.495443Z",
     "start_time": "2024-09-18T19:49:58.491418Z"
    }
   },
   "cell_type": "code",
   "source": [
    "from sklearn.model_selection import RandomizedSearchCV, PredefinedSplit\n",
    "from sklearn.svm import SVC\n",
    "import numpy as np\n",
    "from tqdm import tqdm\n",
    "\n",
    "svc = SVC(random_state=random_state)\n",
    "\n",
    "param_distributions = {\n",
    "    'tol': [1e-5, 1e-4, 1e-3, 1e-2],\n",
    "    'C': np.logspace(-2, 3, 10),\n",
    "    'max_iter': [100, 200, 400, 600, 800],\n",
    "    'kernel': ['linear', 'poly', 'rbf', 'sigmoid'],\n",
    "    'degree': [2, 3, 4, 5, 6]\n",
    "}"
   ],
   "id": "a225694ef1c87ff0",
   "outputs": [],
   "execution_count": 96
  },
  {
   "metadata": {},
   "cell_type": "code",
   "source": [
    "for i in tqdm(range(5)):\n",
    "    grid = RandomizedSearchCV(estimator=svc, param_distributions=param_distributions, cv=ps, scoring='precision', n_iter=160, random_state=random_state+i, n_jobs=-1)\n",
    "    \n",
    "    grid_result = grid.fit(X_train_val, y_train_val)\n",
    "\n",
    "    print(f\"iteration: {i+1}\")\n",
    "    print(\"Best: %f using %s\" % (grid_result.best_score_, grid_result.best_params_))\n",
    "    \n",
    "    preds = grid_result.predict(X_test)\n",
    "    print(f\"Accuracy: {accuracy_score(y_test, preds)}\")\n",
    "    print(f\"Precision: {precision_score(y_test, preds)}\")"
   ],
   "id": "95e813b9b6463422",
   "outputs": [],
   "execution_count": null
  },
  {
   "metadata": {},
   "cell_type": "markdown",
   "source": "### Checking TabPFN: A Transformer That Solves Small Tabular Classification Problems in a Second",
   "id": "3540dc168ff8192f"
  },
  {
   "metadata": {
    "ExecuteTime": {
     "end_time": "2024-09-18T19:56:54.236940Z",
     "start_time": "2024-09-18T19:56:51.755258Z"
    }
   },
   "cell_type": "code",
   "source": [
    "financial_dataset = pd.read_csv('numerical_dataset_version5_oversampled.csv')\n",
    "financial_dataset = flatten_financial_dataset(financial_dataset)\n",
    "financial_dataset_preprocessed = financial_dataset.drop(['cik', 'ticker', 'Fiscal Period'], axis=1)\n",
    "X = financial_dataset_preprocessed.drop('label', axis=1)\n",
    "y = financial_dataset_preprocessed['label']"
   ],
   "id": "7875bce9dd0d5203",
   "outputs": [],
   "execution_count": 5
  },
  {
   "metadata": {
    "ExecuteTime": {
     "end_time": "2024-09-18T19:56:55.032792Z",
     "start_time": "2024-09-18T19:56:55.021570Z"
    }
   },
   "cell_type": "code",
   "source": "financial_dataset_preprocessed.isnull().sum().sum(), (financial_dataset_preprocessed == 0).sum().sum()",
   "id": "1970dd0d3dad5b5f",
   "outputs": [
    {
     "data": {
      "text/plain": [
       "(0, 6895)"
      ]
     },
     "execution_count": 6,
     "metadata": {},
     "output_type": "execute_result"
    }
   ],
   "execution_count": 6
  },
  {
   "metadata": {
    "ExecuteTime": {
     "end_time": "2024-09-18T19:56:56.347706Z",
     "start_time": "2024-09-18T19:56:56.321732Z"
    }
   },
   "cell_type": "code",
   "source": [
    "X_train, y_train, X_val, y_val, X_test, y_test = get_train_val_test_split(X, y)\n",
    "\n",
    "len(X_train), len(X_val), len(X_test)"
   ],
   "id": "bbb51230888e716f",
   "outputs": [
    {
     "data": {
      "text/plain": [
       "(5760, 363, 1091)"
      ]
     },
     "execution_count": 7,
     "metadata": {},
     "output_type": "execute_result"
    }
   ],
   "execution_count": 7
  },
  {
   "metadata": {
    "ExecuteTime": {
     "end_time": "2024-09-18T19:56:57.353289Z",
     "start_time": "2024-09-18T19:56:57.321394Z"
    }
   },
   "cell_type": "code",
   "source": [
    "concat_train_and_val = False\n",
    "\n",
    "if concat_train_and_val:\n",
    "    X_train_val = pd.concat([X_train, X_val])\n",
    "    y_train_val = pd.concat([y_train, y_val])\n",
    "    \n",
    "    scaler = preprocessing.StandardScaler().fit(X_train_val)\n",
    "    \n",
    "    X_train_val = scaler.transform(X_train_val)\n",
    "    X_test = scaler.transform(X_test)\n",
    "    \n",
    "else:\n",
    "    scaler = preprocessing.StandardScaler().fit(X_train)\n",
    "    \n",
    "    X_train = scaler.transform(X_train)\n",
    "    X_val = scaler.transform(X_val)\n",
    "    X_test = scaler.transform(X_test)"
   ],
   "id": "6340a7929f764a52",
   "outputs": [],
   "execution_count": 8
  },
  {
   "metadata": {},
   "cell_type": "code",
   "source": [
    "from tabpfn import TabPFNClassifier\n",
    "\n",
    "multiple_of_1000_of_dataset = len(X_train) // 1000\n",
    "\n",
    "accuracy_scores = []\n",
    "precision_scores = []\n",
    "\n",
    "for i in range(0, multiple_of_1000_of_dataset):\n",
    "    X_train_small = X_train[i*1000:(i+1)*1000]\n",
    "    y_train_small = y_train[i*1000:(i+1)*1000]\n",
    "    \n",
    "    tabPFNClassifier = TabPFNClassifier(device='cpu', N_ensemble_configurations=16)\n",
    "    \n",
    "    tabPFNClassifier.fit(X_train_small, y_train_small)\n",
    "    \n",
    "    y_eval, p_eval = tabPFNClassifier.predict(X_test, return_winning_probability=True)\n",
    "\n",
    "    print(f\"Metrics for {i*1000}:{(i+1)*1000}\")\n",
    "    print(f\"Accuracy:\", accuracy_score(y_test, y_eval))\n",
    "    print(f\"Precision:\", precision_score(y_test, y_eval))\n",
    "    \n",
    "    accuracy_scores.append(accuracy_score(y_test, y_eval))\n",
    "    precision_scores.append(precision_score(y_test, y_eval))\n",
    "\n",
    "print(f\"Mean accuracy: {np.mean(accuracy_scores)}\")\n",
    "print(f\"Mean precision: {np.mean(precision_scores)}\")"
   ],
   "id": "65b9585069401fa5",
   "outputs": [],
   "execution_count": null
  },
  {
   "metadata": {},
   "cell_type": "markdown",
   "source": "### Running best model on the whole new dataset (https://github.com/sowide/bankruptcy_dataset)",
   "id": "b8e65e704397d16b"
  },
  {
   "metadata": {
    "ExecuteTime": {
     "end_time": "2024-09-14T11:20:05.977220Z",
     "start_time": "2024-09-14T11:20:05.795052Z"
    }
   },
   "cell_type": "code",
   "source": [
    "american_bankruptcy_dataset = pd.read_csv('american_bankruptcy_dataset.csv')\n",
    "print(american_bankruptcy_dataset.shape)"
   ],
   "id": "8810f4f94400ef0d",
   "outputs": [
    {
     "name": "stdout",
     "output_type": "stream",
     "text": [
      "(78682, 23)\n"
     ]
    }
   ],
   "execution_count": 362
  },
  {
   "metadata": {
    "ExecuteTime": {
     "end_time": "2024-09-14T11:20:07.640171Z",
     "start_time": "2024-09-14T11:20:07.386604Z"
    }
   },
   "cell_type": "code",
   "source": [
    "american_bankruptcy_dataset_grouped = american_bankruptcy_dataset.groupby('company_name')\n",
    "american_bankruptcy_dataset_filtered = american_bankruptcy_dataset_grouped.filter(lambda x: len(x) >= 5)\n",
    "print(american_bankruptcy_dataset_filtered.shape)"
   ],
   "id": "f6c7861aeab50214",
   "outputs": [
    {
     "name": "stdout",
     "output_type": "stream",
     "text": [
      "(71123, 23)\n"
     ]
    }
   ],
   "execution_count": 363
  },
  {
   "metadata": {
    "ExecuteTime": {
     "end_time": "2024-09-14T11:20:16.423275Z",
     "start_time": "2024-09-14T11:20:11.010247Z"
    }
   },
   "cell_type": "code",
   "source": [
    "american_bankruptcy_dataset_grouped = american_bankruptcy_dataset_filtered.groupby('company_name')\n",
    "american_bankruptcy_dataset_5years = pd.DataFrame()\n",
    "\n",
    "for group in american_bankruptcy_dataset_grouped:\n",
    "    if len(group[1]) >= 5:\n",
    "        last_5_years = group[1].tail(5)\n",
    "        american_bankruptcy_dataset_5years = pd.concat([american_bankruptcy_dataset_5years, last_5_years])\n",
    "        \n",
    "print(american_bankruptcy_dataset_5years.shape)"
   ],
   "id": "1523bf997368691d",
   "outputs": [
    {
     "name": "stdout",
     "output_type": "stream",
     "text": [
      "(29365, 23)\n"
     ]
    }
   ],
   "execution_count": 364
  },
  {
   "metadata": {
    "ExecuteTime": {
     "end_time": "2024-09-14T11:20:16.452042Z",
     "start_time": "2024-09-14T11:20:16.423275Z"
    }
   },
   "cell_type": "code",
   "source": "american_bankruptcy_dataset_5years.head()",
   "id": "500104c859e32640",
   "outputs": [
    {
     "data": {
      "text/plain": [
       "   company_name   fyear status_label      X1      X2      X3     X4     X5  \\\n",
       "14          C_1  2013.0        alive  1116.9  2199.5  1581.4  564.3  113.4   \n",
       "15          C_1  2014.0        alive   954.1  1515.0  1342.7   85.0   92.3   \n",
       "16          C_1  2015.0        alive   873.1  1442.1  1354.9  136.1   70.8   \n",
       "17          C_1  2016.0        alive   888.5  1504.1  1422.7  155.3   71.0   \n",
       "18          C_1  2017.0        alive   942.7  1524.7  1413.2  177.2   40.5   \n",
       "\n",
       "       X6     X7  ...   X11    X12    X13     X14           X15     X16  \\\n",
       "14  142.6  256.0  ...  72.9  616.7  297.9  2035.0  9.613080e+05  1198.8   \n",
       "15   -8.6   83.7  ...  10.2  603.9  231.1  1594.3  1.046395e+03   669.9   \n",
       "16   66.1  136.9  ...  47.7  637.2  242.7  1662.6  8.425112e+02   576.3   \n",
       "17   77.2  148.2  ...  56.5  688.0  251.4  1767.6  1.200329e+03   589.9   \n",
       "18   86.0  126.5  ...  15.6  701.2  203.0  1748.3  1.551458e+06   588.4   \n",
       "\n",
       "       X17     X18  Division  MajorGroup  \n",
       "14  2035.0  1779.0         D          37  \n",
       "15  1594.3  1510.6         D          37  \n",
       "16  1662.6  1525.7         D          37  \n",
       "17  1767.6  1619.4         D          37  \n",
       "18  1748.3  1621.8         D          37  \n",
       "\n",
       "[5 rows x 23 columns]"
      ],
      "text/html": [
       "<div>\n",
       "<style scoped>\n",
       "    .dataframe tbody tr th:only-of-type {\n",
       "        vertical-align: middle;\n",
       "    }\n",
       "\n",
       "    .dataframe tbody tr th {\n",
       "        vertical-align: top;\n",
       "    }\n",
       "\n",
       "    .dataframe thead th {\n",
       "        text-align: right;\n",
       "    }\n",
       "</style>\n",
       "<table border=\"1\" class=\"dataframe\">\n",
       "  <thead>\n",
       "    <tr style=\"text-align: right;\">\n",
       "      <th></th>\n",
       "      <th>company_name</th>\n",
       "      <th>fyear</th>\n",
       "      <th>status_label</th>\n",
       "      <th>X1</th>\n",
       "      <th>X2</th>\n",
       "      <th>X3</th>\n",
       "      <th>X4</th>\n",
       "      <th>X5</th>\n",
       "      <th>X6</th>\n",
       "      <th>X7</th>\n",
       "      <th>...</th>\n",
       "      <th>X11</th>\n",
       "      <th>X12</th>\n",
       "      <th>X13</th>\n",
       "      <th>X14</th>\n",
       "      <th>X15</th>\n",
       "      <th>X16</th>\n",
       "      <th>X17</th>\n",
       "      <th>X18</th>\n",
       "      <th>Division</th>\n",
       "      <th>MajorGroup</th>\n",
       "    </tr>\n",
       "  </thead>\n",
       "  <tbody>\n",
       "    <tr>\n",
       "      <th>14</th>\n",
       "      <td>C_1</td>\n",
       "      <td>2013.0</td>\n",
       "      <td>alive</td>\n",
       "      <td>1116.9</td>\n",
       "      <td>2199.5</td>\n",
       "      <td>1581.4</td>\n",
       "      <td>564.3</td>\n",
       "      <td>113.4</td>\n",
       "      <td>142.6</td>\n",
       "      <td>256.0</td>\n",
       "      <td>...</td>\n",
       "      <td>72.9</td>\n",
       "      <td>616.7</td>\n",
       "      <td>297.9</td>\n",
       "      <td>2035.0</td>\n",
       "      <td>9.613080e+05</td>\n",
       "      <td>1198.8</td>\n",
       "      <td>2035.0</td>\n",
       "      <td>1779.0</td>\n",
       "      <td>D</td>\n",
       "      <td>37</td>\n",
       "    </tr>\n",
       "    <tr>\n",
       "      <th>15</th>\n",
       "      <td>C_1</td>\n",
       "      <td>2014.0</td>\n",
       "      <td>alive</td>\n",
       "      <td>954.1</td>\n",
       "      <td>1515.0</td>\n",
       "      <td>1342.7</td>\n",
       "      <td>85.0</td>\n",
       "      <td>92.3</td>\n",
       "      <td>-8.6</td>\n",
       "      <td>83.7</td>\n",
       "      <td>...</td>\n",
       "      <td>10.2</td>\n",
       "      <td>603.9</td>\n",
       "      <td>231.1</td>\n",
       "      <td>1594.3</td>\n",
       "      <td>1.046395e+03</td>\n",
       "      <td>669.9</td>\n",
       "      <td>1594.3</td>\n",
       "      <td>1510.6</td>\n",
       "      <td>D</td>\n",
       "      <td>37</td>\n",
       "    </tr>\n",
       "    <tr>\n",
       "      <th>16</th>\n",
       "      <td>C_1</td>\n",
       "      <td>2015.0</td>\n",
       "      <td>alive</td>\n",
       "      <td>873.1</td>\n",
       "      <td>1442.1</td>\n",
       "      <td>1354.9</td>\n",
       "      <td>136.1</td>\n",
       "      <td>70.8</td>\n",
       "      <td>66.1</td>\n",
       "      <td>136.9</td>\n",
       "      <td>...</td>\n",
       "      <td>47.7</td>\n",
       "      <td>637.2</td>\n",
       "      <td>242.7</td>\n",
       "      <td>1662.6</td>\n",
       "      <td>8.425112e+02</td>\n",
       "      <td>576.3</td>\n",
       "      <td>1662.6</td>\n",
       "      <td>1525.7</td>\n",
       "      <td>D</td>\n",
       "      <td>37</td>\n",
       "    </tr>\n",
       "    <tr>\n",
       "      <th>17</th>\n",
       "      <td>C_1</td>\n",
       "      <td>2016.0</td>\n",
       "      <td>alive</td>\n",
       "      <td>888.5</td>\n",
       "      <td>1504.1</td>\n",
       "      <td>1422.7</td>\n",
       "      <td>155.3</td>\n",
       "      <td>71.0</td>\n",
       "      <td>77.2</td>\n",
       "      <td>148.2</td>\n",
       "      <td>...</td>\n",
       "      <td>56.5</td>\n",
       "      <td>688.0</td>\n",
       "      <td>251.4</td>\n",
       "      <td>1767.6</td>\n",
       "      <td>1.200329e+03</td>\n",
       "      <td>589.9</td>\n",
       "      <td>1767.6</td>\n",
       "      <td>1619.4</td>\n",
       "      <td>D</td>\n",
       "      <td>37</td>\n",
       "    </tr>\n",
       "    <tr>\n",
       "      <th>18</th>\n",
       "      <td>C_1</td>\n",
       "      <td>2017.0</td>\n",
       "      <td>alive</td>\n",
       "      <td>942.7</td>\n",
       "      <td>1524.7</td>\n",
       "      <td>1413.2</td>\n",
       "      <td>177.2</td>\n",
       "      <td>40.5</td>\n",
       "      <td>86.0</td>\n",
       "      <td>126.5</td>\n",
       "      <td>...</td>\n",
       "      <td>15.6</td>\n",
       "      <td>701.2</td>\n",
       "      <td>203.0</td>\n",
       "      <td>1748.3</td>\n",
       "      <td>1.551458e+06</td>\n",
       "      <td>588.4</td>\n",
       "      <td>1748.3</td>\n",
       "      <td>1621.8</td>\n",
       "      <td>D</td>\n",
       "      <td>37</td>\n",
       "    </tr>\n",
       "  </tbody>\n",
       "</table>\n",
       "<p>5 rows × 23 columns</p>\n",
       "</div>"
      ]
     },
     "execution_count": 365,
     "metadata": {},
     "output_type": "execute_result"
    }
   ],
   "execution_count": 365
  },
  {
   "metadata": {
    "ExecuteTime": {
     "end_time": "2024-09-13T21:32:28.908301Z",
     "start_time": "2024-09-13T21:32:28.574125Z"
    }
   },
   "cell_type": "code",
   "source": [
    "# dropping X9 (Net sales) column because there are no equivalent columns in the created financial dataset\n",
    "american_bankruptcy_dataset_5years.drop(['X9'], axis=1, inplace=True)\n",
    "\n",
    "american_bankruptcy_dataset_5years.columns = [\n",
    "    'company_name',\n",
    "    'fyear',\n",
    "    'label',\n",
    "    'Current assets',\n",
    "    'Cost of goods sold',\n",
    "    'Depreciation and amortization',\n",
    "    'EBITDA', \n",
    "    'Inventory',\n",
    "    'Net Income',\n",
    "    'Total Receivables',\n",
    "    'Market value',\n",
    "    'Total assets',\n",
    "    'Total Long term debt',\n",
    "    'EBIT',\n",
    "    'Gross Profit',\n",
    "    'Total Current Liabilities',\n",
    "    'Retained Earnings',\n",
    "    'Total Revenue',\n",
    "    'Total Liabilities',\n",
    "    'Total Operating Expenses',\n",
    "    'Division',\n",
    "    'MajorGroup'\n",
    "]\n",
    "\n",
    "# reordering columns so Division and MajorGroup are after label\n",
    "american_bankruptcy_dataset_5years = american_bankruptcy_dataset_5years[['company_name', 'fyear', 'label', 'Division', 'MajorGroup', \n",
    "                                                                         'Cost of goods sold', 'Depreciation and amortization', 'EBIT',  \n",
    "                                                                         'EBITDA', 'Gross Profit', 'Total Long term debt', 'Market value', 'Net Income', \n",
    "                                                                         'Retained Earnings', 'Total Revenue', 'Total assets', 'Current assets',\n",
    "                                                                         'Total Current Liabilities', 'Inventory', 'Total Liabilities', \n",
    "                                                                         'Total Operating Expenses', 'Total Receivables', \n",
    "                                                                         \n",
    "                                                                         \n",
    "                                                                         ]]\n",
    "\n",
    "# renaming columns names with features to much with the financial dataset\n",
    "american_bankruptcy_dataset_5years.columns = [\n",
    "    'company_name',\n",
    "    'fyear',\n",
    "    'label',\n",
    "    'Division',\n",
    "    'MajorGroup',\n",
    "    'Cost of Goods Sold',\n",
    "    'Depreciation, Depletion and Amortization',\n",
    "    'EBIT',\n",
    "    'EBITDA',\n",
    "    'Gross Profit',\n",
    "    'Long-Term Debt',\n",
    "    'Market Cap',\n",
    "    'Net Income',\n",
    "    'Retained Earnings',\n",
    "    'Revenue',\n",
    "    'Total Assets',\n",
    "    'Total Current Assets',\n",
    "    'Total Current Liabilities',\n",
    "    'Total Inventories',\n",
    "    'Total Liabilities',\n",
    "    'Total Operating Expense',\n",
    "    'Total Receivables'\n",
    "]\n",
    "\n",
    "american_bankruptcy_dataset_5years['label'] = american_bankruptcy_dataset_5years['label'].apply(lambda x: True if x == 'failed' else False)\n",
    "american_bankruptcy_dataset_5years.to_csv('sowide_american_bankruptcy_dataset_5years_named_features_withoutX9.csv', index=False)\n",
    "\n",
    "american_bankruptcy_dataset_5years.head(10)"
   ],
   "id": "84a1286a7486aa97",
   "outputs": [
    {
     "data": {
      "text/plain": [
       "    company_name   fyear  label Division  MajorGroup  Cost of Goods Sold  \\\n",
       "14           C_1  2013.0  False        D          37              2199.5   \n",
       "15           C_1  2014.0  False        D          37              1515.0   \n",
       "16           C_1  2015.0  False        D          37              1442.1   \n",
       "17           C_1  2016.0  False        D          37              1504.1   \n",
       "18           C_1  2017.0  False        D          37              1524.7   \n",
       "125         C_10  2014.0  False        E          49          14313532.0   \n",
       "126         C_10  2015.0  False        E          49          15028258.0   \n",
       "127         C_10  2016.0  False        E          49          16004253.0   \n",
       "128         C_10  2017.0  False        E          49          17019082.0   \n",
       "129         C_10  2018.0  False        E          49          17664202.0   \n",
       "\n",
       "     Depreciation, Depletion and Amortization       EBIT     EBITDA  \\\n",
       "14                                     1581.4      616.7      564.3   \n",
       "15                                     1342.7      603.9       85.0   \n",
       "16                                     1354.9      637.2      136.1   \n",
       "17                                     1422.7      688.0      155.3   \n",
       "18                                     1413.2      701.2      177.2   \n",
       "125                                 2263032.0  1857924.0  3031215.0   \n",
       "126                                 2146419.0  2048055.0  3462391.0   \n",
       "127                                 2156869.0  2211725.0  4021785.0   \n",
       "128                                 2096751.0  2397509.0  4789713.0   \n",
       "129                                 2335206.0  2593475.0  4638232.0   \n",
       "\n",
       "     Gross Profit  ...  Net Income  Retained Earnings      Revenue  \\\n",
       "14        297.900  ...     142.600       9.613080e+05      1198.80   \n",
       "15        231.100  ...      -8.600       1.046395e+03       669.90   \n",
       "16        242.700  ...      66.100       8.425112e+02       576.30   \n",
       "17        251.400  ...      77.200       1.200329e+03       589.90   \n",
       "18        203.000  ...      86.000       1.551458e+06       588.40   \n",
       "125    395179.000  ...  811242.000       7.553105e+06      9794.43   \n",
       "126    367806.000  ...  854602.000       7.155990e+03  10308801.00   \n",
       "127    355403.000  ...     855.984       8.687626e+03  11068341.00   \n",
       "128    415068.000  ...  934427.000       9.519035e+03  11883352.00   \n",
       "129       400.988  ...  773687.000       9.551090e+03  12315497.00   \n",
       "\n",
       "     Total Assets  Total Current Assets  Total Current Liabilities  \\\n",
       "14        402.100              1116.900                     2035.0   \n",
       "15        412.000               954.100                     1594.3   \n",
       "16        329.000               873.100                     1662.6   \n",
       "17        335.100               888.500                     1767.6   \n",
       "18        333.300               942.700                     1748.3   \n",
       "125      1559.143            973435.000                  3491632.0   \n",
       "126   1442317.000               890.516                  3495443.0   \n",
       "127   1292946.000               822.219                  3498682.0   \n",
       "128   1197852.000           1016288.000                  3565296.0   \n",
       "129   1648964.000            924991.000                  3691247.0   \n",
       "\n",
       "     Total Inventories  Total Liabilities  Total Operating Expense  \\\n",
       "14               113.4             2035.0                   1779.0   \n",
       "15                92.3             1594.3                   1510.6   \n",
       "16                70.8             1662.6                   1525.7   \n",
       "17                71.0             1767.6                   1619.4   \n",
       "18                40.5             1748.3                   1621.8   \n",
       "125           417358.0          3491632.0                2263032.0   \n",
       "126           494422.0          3495443.0                2146419.0   \n",
       "127           485829.0          3498682.0                2156869.0   \n",
       "128           534118.0          3565296.0                2096751.0   \n",
       "129           582354.0          3691247.0                2335206.0   \n",
       "\n",
       "     Total Receivables  \n",
       "14             256.000  \n",
       "15              83.700  \n",
       "16             136.900  \n",
       "17             148.200  \n",
       "18             126.500  \n",
       "125           1228.600  \n",
       "126        1349024.000  \n",
       "127        1341813.000  \n",
       "128        1468545.000  \n",
       "129           1356.041  \n",
       "\n",
       "[10 rows x 22 columns]"
      ],
      "text/html": [
       "<div>\n",
       "<style scoped>\n",
       "    .dataframe tbody tr th:only-of-type {\n",
       "        vertical-align: middle;\n",
       "    }\n",
       "\n",
       "    .dataframe tbody tr th {\n",
       "        vertical-align: top;\n",
       "    }\n",
       "\n",
       "    .dataframe thead th {\n",
       "        text-align: right;\n",
       "    }\n",
       "</style>\n",
       "<table border=\"1\" class=\"dataframe\">\n",
       "  <thead>\n",
       "    <tr style=\"text-align: right;\">\n",
       "      <th></th>\n",
       "      <th>company_name</th>\n",
       "      <th>fyear</th>\n",
       "      <th>label</th>\n",
       "      <th>Division</th>\n",
       "      <th>MajorGroup</th>\n",
       "      <th>Cost of Goods Sold</th>\n",
       "      <th>Depreciation, Depletion and Amortization</th>\n",
       "      <th>EBIT</th>\n",
       "      <th>EBITDA</th>\n",
       "      <th>Gross Profit</th>\n",
       "      <th>...</th>\n",
       "      <th>Net Income</th>\n",
       "      <th>Retained Earnings</th>\n",
       "      <th>Revenue</th>\n",
       "      <th>Total Assets</th>\n",
       "      <th>Total Current Assets</th>\n",
       "      <th>Total Current Liabilities</th>\n",
       "      <th>Total Inventories</th>\n",
       "      <th>Total Liabilities</th>\n",
       "      <th>Total Operating Expense</th>\n",
       "      <th>Total Receivables</th>\n",
       "    </tr>\n",
       "  </thead>\n",
       "  <tbody>\n",
       "    <tr>\n",
       "      <th>14</th>\n",
       "      <td>C_1</td>\n",
       "      <td>2013.0</td>\n",
       "      <td>False</td>\n",
       "      <td>D</td>\n",
       "      <td>37</td>\n",
       "      <td>2199.5</td>\n",
       "      <td>1581.4</td>\n",
       "      <td>616.7</td>\n",
       "      <td>564.3</td>\n",
       "      <td>297.900</td>\n",
       "      <td>...</td>\n",
       "      <td>142.600</td>\n",
       "      <td>9.613080e+05</td>\n",
       "      <td>1198.80</td>\n",
       "      <td>402.100</td>\n",
       "      <td>1116.900</td>\n",
       "      <td>2035.0</td>\n",
       "      <td>113.4</td>\n",
       "      <td>2035.0</td>\n",
       "      <td>1779.0</td>\n",
       "      <td>256.000</td>\n",
       "    </tr>\n",
       "    <tr>\n",
       "      <th>15</th>\n",
       "      <td>C_1</td>\n",
       "      <td>2014.0</td>\n",
       "      <td>False</td>\n",
       "      <td>D</td>\n",
       "      <td>37</td>\n",
       "      <td>1515.0</td>\n",
       "      <td>1342.7</td>\n",
       "      <td>603.9</td>\n",
       "      <td>85.0</td>\n",
       "      <td>231.100</td>\n",
       "      <td>...</td>\n",
       "      <td>-8.600</td>\n",
       "      <td>1.046395e+03</td>\n",
       "      <td>669.90</td>\n",
       "      <td>412.000</td>\n",
       "      <td>954.100</td>\n",
       "      <td>1594.3</td>\n",
       "      <td>92.3</td>\n",
       "      <td>1594.3</td>\n",
       "      <td>1510.6</td>\n",
       "      <td>83.700</td>\n",
       "    </tr>\n",
       "    <tr>\n",
       "      <th>16</th>\n",
       "      <td>C_1</td>\n",
       "      <td>2015.0</td>\n",
       "      <td>False</td>\n",
       "      <td>D</td>\n",
       "      <td>37</td>\n",
       "      <td>1442.1</td>\n",
       "      <td>1354.9</td>\n",
       "      <td>637.2</td>\n",
       "      <td>136.1</td>\n",
       "      <td>242.700</td>\n",
       "      <td>...</td>\n",
       "      <td>66.100</td>\n",
       "      <td>8.425112e+02</td>\n",
       "      <td>576.30</td>\n",
       "      <td>329.000</td>\n",
       "      <td>873.100</td>\n",
       "      <td>1662.6</td>\n",
       "      <td>70.8</td>\n",
       "      <td>1662.6</td>\n",
       "      <td>1525.7</td>\n",
       "      <td>136.900</td>\n",
       "    </tr>\n",
       "    <tr>\n",
       "      <th>17</th>\n",
       "      <td>C_1</td>\n",
       "      <td>2016.0</td>\n",
       "      <td>False</td>\n",
       "      <td>D</td>\n",
       "      <td>37</td>\n",
       "      <td>1504.1</td>\n",
       "      <td>1422.7</td>\n",
       "      <td>688.0</td>\n",
       "      <td>155.3</td>\n",
       "      <td>251.400</td>\n",
       "      <td>...</td>\n",
       "      <td>77.200</td>\n",
       "      <td>1.200329e+03</td>\n",
       "      <td>589.90</td>\n",
       "      <td>335.100</td>\n",
       "      <td>888.500</td>\n",
       "      <td>1767.6</td>\n",
       "      <td>71.0</td>\n",
       "      <td>1767.6</td>\n",
       "      <td>1619.4</td>\n",
       "      <td>148.200</td>\n",
       "    </tr>\n",
       "    <tr>\n",
       "      <th>18</th>\n",
       "      <td>C_1</td>\n",
       "      <td>2017.0</td>\n",
       "      <td>False</td>\n",
       "      <td>D</td>\n",
       "      <td>37</td>\n",
       "      <td>1524.7</td>\n",
       "      <td>1413.2</td>\n",
       "      <td>701.2</td>\n",
       "      <td>177.2</td>\n",
       "      <td>203.000</td>\n",
       "      <td>...</td>\n",
       "      <td>86.000</td>\n",
       "      <td>1.551458e+06</td>\n",
       "      <td>588.40</td>\n",
       "      <td>333.300</td>\n",
       "      <td>942.700</td>\n",
       "      <td>1748.3</td>\n",
       "      <td>40.5</td>\n",
       "      <td>1748.3</td>\n",
       "      <td>1621.8</td>\n",
       "      <td>126.500</td>\n",
       "    </tr>\n",
       "    <tr>\n",
       "      <th>125</th>\n",
       "      <td>C_10</td>\n",
       "      <td>2014.0</td>\n",
       "      <td>False</td>\n",
       "      <td>E</td>\n",
       "      <td>49</td>\n",
       "      <td>14313532.0</td>\n",
       "      <td>2263032.0</td>\n",
       "      <td>1857924.0</td>\n",
       "      <td>3031215.0</td>\n",
       "      <td>395179.000</td>\n",
       "      <td>...</td>\n",
       "      <td>811242.000</td>\n",
       "      <td>7.553105e+06</td>\n",
       "      <td>9794.43</td>\n",
       "      <td>1559.143</td>\n",
       "      <td>973435.000</td>\n",
       "      <td>3491632.0</td>\n",
       "      <td>417358.0</td>\n",
       "      <td>3491632.0</td>\n",
       "      <td>2263032.0</td>\n",
       "      <td>1228.600</td>\n",
       "    </tr>\n",
       "    <tr>\n",
       "      <th>126</th>\n",
       "      <td>C_10</td>\n",
       "      <td>2015.0</td>\n",
       "      <td>False</td>\n",
       "      <td>E</td>\n",
       "      <td>49</td>\n",
       "      <td>15028258.0</td>\n",
       "      <td>2146419.0</td>\n",
       "      <td>2048055.0</td>\n",
       "      <td>3462391.0</td>\n",
       "      <td>367806.000</td>\n",
       "      <td>...</td>\n",
       "      <td>854602.000</td>\n",
       "      <td>7.155990e+03</td>\n",
       "      <td>10308801.00</td>\n",
       "      <td>1442317.000</td>\n",
       "      <td>890.516</td>\n",
       "      <td>3495443.0</td>\n",
       "      <td>494422.0</td>\n",
       "      <td>3495443.0</td>\n",
       "      <td>2146419.0</td>\n",
       "      <td>1349024.000</td>\n",
       "    </tr>\n",
       "    <tr>\n",
       "      <th>127</th>\n",
       "      <td>C_10</td>\n",
       "      <td>2016.0</td>\n",
       "      <td>False</td>\n",
       "      <td>E</td>\n",
       "      <td>49</td>\n",
       "      <td>16004253.0</td>\n",
       "      <td>2156869.0</td>\n",
       "      <td>2211725.0</td>\n",
       "      <td>4021785.0</td>\n",
       "      <td>355403.000</td>\n",
       "      <td>...</td>\n",
       "      <td>855.984</td>\n",
       "      <td>8.687626e+03</td>\n",
       "      <td>11068341.00</td>\n",
       "      <td>1292946.000</td>\n",
       "      <td>822.219</td>\n",
       "      <td>3498682.0</td>\n",
       "      <td>485829.0</td>\n",
       "      <td>3498682.0</td>\n",
       "      <td>2156869.0</td>\n",
       "      <td>1341813.000</td>\n",
       "    </tr>\n",
       "    <tr>\n",
       "      <th>128</th>\n",
       "      <td>C_10</td>\n",
       "      <td>2017.0</td>\n",
       "      <td>False</td>\n",
       "      <td>E</td>\n",
       "      <td>49</td>\n",
       "      <td>17019082.0</td>\n",
       "      <td>2096751.0</td>\n",
       "      <td>2397509.0</td>\n",
       "      <td>4789713.0</td>\n",
       "      <td>415068.000</td>\n",
       "      <td>...</td>\n",
       "      <td>934427.000</td>\n",
       "      <td>9.519035e+03</td>\n",
       "      <td>11883352.00</td>\n",
       "      <td>1197852.000</td>\n",
       "      <td>1016288.000</td>\n",
       "      <td>3565296.0</td>\n",
       "      <td>534118.0</td>\n",
       "      <td>3565296.0</td>\n",
       "      <td>2096751.0</td>\n",
       "      <td>1468545.000</td>\n",
       "    </tr>\n",
       "    <tr>\n",
       "      <th>129</th>\n",
       "      <td>C_10</td>\n",
       "      <td>2018.0</td>\n",
       "      <td>False</td>\n",
       "      <td>E</td>\n",
       "      <td>49</td>\n",
       "      <td>17664202.0</td>\n",
       "      <td>2335206.0</td>\n",
       "      <td>2593475.0</td>\n",
       "      <td>4638232.0</td>\n",
       "      <td>400.988</td>\n",
       "      <td>...</td>\n",
       "      <td>773687.000</td>\n",
       "      <td>9.551090e+03</td>\n",
       "      <td>12315497.00</td>\n",
       "      <td>1648964.000</td>\n",
       "      <td>924991.000</td>\n",
       "      <td>3691247.0</td>\n",
       "      <td>582354.0</td>\n",
       "      <td>3691247.0</td>\n",
       "      <td>2335206.0</td>\n",
       "      <td>1356.041</td>\n",
       "    </tr>\n",
       "  </tbody>\n",
       "</table>\n",
       "<p>10 rows × 22 columns</p>\n",
       "</div>"
      ]
     },
     "execution_count": 258,
     "metadata": {},
     "output_type": "execute_result"
    }
   ],
   "execution_count": 258
  },
  {
   "metadata": {
    "ExecuteTime": {
     "end_time": "2024-09-13T21:32:28.915244Z",
     "start_time": "2024-09-13T21:32:28.908301Z"
    }
   },
   "cell_type": "code",
   "source": "american_bankruptcy_dataset_5years['label'].value_counts(normalize=True)",
   "id": "f8e6d0ad368f6fa6",
   "outputs": [
    {
     "data": {
      "text/plain": [
       "label\n",
       "False    0.914013\n",
       "True     0.085987\n",
       "Name: proportion, dtype: float64"
      ]
     },
     "execution_count": 259,
     "metadata": {},
     "output_type": "execute_result"
    }
   ],
   "execution_count": 259
  },
  {
   "metadata": {
    "ExecuteTime": {
     "end_time": "2024-09-15T09:49:52.990136Z",
     "start_time": "2024-09-15T09:49:52.867593Z"
    }
   },
   "cell_type": "code",
   "source": [
    "american_bankruptcy_dataset_5years = pd.read_csv('sowide_american_bankruptcy_dataset_5years_named_features_withoutX9.csv')\n",
    "american_bankruptcy_dataset_5years.head()"
   ],
   "id": "d5f3ce9add56e692",
   "outputs": [
    {
     "data": {
      "text/plain": [
       "  company_name   fyear  label Division  MajorGroup  Cost of Goods Sold  \\\n",
       "0          C_1  2013.0  False        D          37              2199.5   \n",
       "1          C_1  2014.0  False        D          37              1515.0   \n",
       "2          C_1  2015.0  False        D          37              1442.1   \n",
       "3          C_1  2016.0  False        D          37              1504.1   \n",
       "4          C_1  2017.0  False        D          37              1524.7   \n",
       "\n",
       "   Depreciation, Depletion and Amortization   EBIT  EBITDA  Gross Profit  ...  \\\n",
       "0                                    1581.4  616.7   564.3         297.9  ...   \n",
       "1                                    1342.7  603.9    85.0         231.1  ...   \n",
       "2                                    1354.9  637.2   136.1         242.7  ...   \n",
       "3                                    1422.7  688.0   155.3         251.4  ...   \n",
       "4                                    1413.2  701.2   177.2         203.0  ...   \n",
       "\n",
       "   Net Income  Retained Earnings  Revenue  Total Assets  Total Current Assets  \\\n",
       "0       142.6       9.613080e+05   1198.8         402.1                1116.9   \n",
       "1        -8.6       1.046395e+03    669.9         412.0                 954.1   \n",
       "2        66.1       8.425112e+02    576.3         329.0                 873.1   \n",
       "3        77.2       1.200329e+03    589.9         335.1                 888.5   \n",
       "4        86.0       1.551458e+06    588.4         333.3                 942.7   \n",
       "\n",
       "   Total Current Liabilities  Total Inventories  Total Liabilities  \\\n",
       "0                     2035.0              113.4             2035.0   \n",
       "1                     1594.3               92.3             1594.3   \n",
       "2                     1662.6               70.8             1662.6   \n",
       "3                     1767.6               71.0             1767.6   \n",
       "4                     1748.3               40.5             1748.3   \n",
       "\n",
       "   Total Operating Expense  Total Receivables  \n",
       "0                   1779.0              256.0  \n",
       "1                   1510.6               83.7  \n",
       "2                   1525.7              136.9  \n",
       "3                   1619.4              148.2  \n",
       "4                   1621.8              126.5  \n",
       "\n",
       "[5 rows x 22 columns]"
      ],
      "text/html": [
       "<div>\n",
       "<style scoped>\n",
       "    .dataframe tbody tr th:only-of-type {\n",
       "        vertical-align: middle;\n",
       "    }\n",
       "\n",
       "    .dataframe tbody tr th {\n",
       "        vertical-align: top;\n",
       "    }\n",
       "\n",
       "    .dataframe thead th {\n",
       "        text-align: right;\n",
       "    }\n",
       "</style>\n",
       "<table border=\"1\" class=\"dataframe\">\n",
       "  <thead>\n",
       "    <tr style=\"text-align: right;\">\n",
       "      <th></th>\n",
       "      <th>company_name</th>\n",
       "      <th>fyear</th>\n",
       "      <th>label</th>\n",
       "      <th>Division</th>\n",
       "      <th>MajorGroup</th>\n",
       "      <th>Cost of Goods Sold</th>\n",
       "      <th>Depreciation, Depletion and Amortization</th>\n",
       "      <th>EBIT</th>\n",
       "      <th>EBITDA</th>\n",
       "      <th>Gross Profit</th>\n",
       "      <th>...</th>\n",
       "      <th>Net Income</th>\n",
       "      <th>Retained Earnings</th>\n",
       "      <th>Revenue</th>\n",
       "      <th>Total Assets</th>\n",
       "      <th>Total Current Assets</th>\n",
       "      <th>Total Current Liabilities</th>\n",
       "      <th>Total Inventories</th>\n",
       "      <th>Total Liabilities</th>\n",
       "      <th>Total Operating Expense</th>\n",
       "      <th>Total Receivables</th>\n",
       "    </tr>\n",
       "  </thead>\n",
       "  <tbody>\n",
       "    <tr>\n",
       "      <th>0</th>\n",
       "      <td>C_1</td>\n",
       "      <td>2013.0</td>\n",
       "      <td>False</td>\n",
       "      <td>D</td>\n",
       "      <td>37</td>\n",
       "      <td>2199.5</td>\n",
       "      <td>1581.4</td>\n",
       "      <td>616.7</td>\n",
       "      <td>564.3</td>\n",
       "      <td>297.9</td>\n",
       "      <td>...</td>\n",
       "      <td>142.6</td>\n",
       "      <td>9.613080e+05</td>\n",
       "      <td>1198.8</td>\n",
       "      <td>402.1</td>\n",
       "      <td>1116.9</td>\n",
       "      <td>2035.0</td>\n",
       "      <td>113.4</td>\n",
       "      <td>2035.0</td>\n",
       "      <td>1779.0</td>\n",
       "      <td>256.0</td>\n",
       "    </tr>\n",
       "    <tr>\n",
       "      <th>1</th>\n",
       "      <td>C_1</td>\n",
       "      <td>2014.0</td>\n",
       "      <td>False</td>\n",
       "      <td>D</td>\n",
       "      <td>37</td>\n",
       "      <td>1515.0</td>\n",
       "      <td>1342.7</td>\n",
       "      <td>603.9</td>\n",
       "      <td>85.0</td>\n",
       "      <td>231.1</td>\n",
       "      <td>...</td>\n",
       "      <td>-8.6</td>\n",
       "      <td>1.046395e+03</td>\n",
       "      <td>669.9</td>\n",
       "      <td>412.0</td>\n",
       "      <td>954.1</td>\n",
       "      <td>1594.3</td>\n",
       "      <td>92.3</td>\n",
       "      <td>1594.3</td>\n",
       "      <td>1510.6</td>\n",
       "      <td>83.7</td>\n",
       "    </tr>\n",
       "    <tr>\n",
       "      <th>2</th>\n",
       "      <td>C_1</td>\n",
       "      <td>2015.0</td>\n",
       "      <td>False</td>\n",
       "      <td>D</td>\n",
       "      <td>37</td>\n",
       "      <td>1442.1</td>\n",
       "      <td>1354.9</td>\n",
       "      <td>637.2</td>\n",
       "      <td>136.1</td>\n",
       "      <td>242.7</td>\n",
       "      <td>...</td>\n",
       "      <td>66.1</td>\n",
       "      <td>8.425112e+02</td>\n",
       "      <td>576.3</td>\n",
       "      <td>329.0</td>\n",
       "      <td>873.1</td>\n",
       "      <td>1662.6</td>\n",
       "      <td>70.8</td>\n",
       "      <td>1662.6</td>\n",
       "      <td>1525.7</td>\n",
       "      <td>136.9</td>\n",
       "    </tr>\n",
       "    <tr>\n",
       "      <th>3</th>\n",
       "      <td>C_1</td>\n",
       "      <td>2016.0</td>\n",
       "      <td>False</td>\n",
       "      <td>D</td>\n",
       "      <td>37</td>\n",
       "      <td>1504.1</td>\n",
       "      <td>1422.7</td>\n",
       "      <td>688.0</td>\n",
       "      <td>155.3</td>\n",
       "      <td>251.4</td>\n",
       "      <td>...</td>\n",
       "      <td>77.2</td>\n",
       "      <td>1.200329e+03</td>\n",
       "      <td>589.9</td>\n",
       "      <td>335.1</td>\n",
       "      <td>888.5</td>\n",
       "      <td>1767.6</td>\n",
       "      <td>71.0</td>\n",
       "      <td>1767.6</td>\n",
       "      <td>1619.4</td>\n",
       "      <td>148.2</td>\n",
       "    </tr>\n",
       "    <tr>\n",
       "      <th>4</th>\n",
       "      <td>C_1</td>\n",
       "      <td>2017.0</td>\n",
       "      <td>False</td>\n",
       "      <td>D</td>\n",
       "      <td>37</td>\n",
       "      <td>1524.7</td>\n",
       "      <td>1413.2</td>\n",
       "      <td>701.2</td>\n",
       "      <td>177.2</td>\n",
       "      <td>203.0</td>\n",
       "      <td>...</td>\n",
       "      <td>86.0</td>\n",
       "      <td>1.551458e+06</td>\n",
       "      <td>588.4</td>\n",
       "      <td>333.3</td>\n",
       "      <td>942.7</td>\n",
       "      <td>1748.3</td>\n",
       "      <td>40.5</td>\n",
       "      <td>1748.3</td>\n",
       "      <td>1621.8</td>\n",
       "      <td>126.5</td>\n",
       "    </tr>\n",
       "  </tbody>\n",
       "</table>\n",
       "<p>5 rows × 22 columns</p>\n",
       "</div>"
      ]
     },
     "execution_count": 108,
     "metadata": {},
     "output_type": "execute_result"
    }
   ],
   "execution_count": 108
  },
  {
   "metadata": {},
   "cell_type": "code",
   "source": [
    "def flatten_american_bankruptcy_dataset(financial_dataset):\n",
    "    object_length_in_rows = 5\n",
    "    metadata_columns_length = 5\n",
    "    \n",
    "    per_object_columns = list(financial_dataset.columns[:metadata_columns_length].values)\n",
    "    \n",
    "    value_columns = financial_dataset.columns[metadata_columns_length:]\n",
    "    new_columns = per_object_columns + [f'{col}_{i+1}' for i in range(object_length_in_rows) for col in value_columns]\n",
    "    \n",
    "    dfs = []\n",
    "    \n",
    "    for i in range(0, len(financial_dataset), object_length_in_rows):\n",
    "        group = financial_dataset.iloc[i:i + object_length_in_rows]\n",
    "        if len(group) < object_length_in_rows:\n",
    "            break\n",
    "\n",
    "        company_name = group['company_name'].iloc[0]\n",
    "        fiscal_periods = ';'.join(group['fyear'].astype(str).values)\n",
    "        label = group['label'].iloc[0]\n",
    "        division = group['Division'].iloc[0]\n",
    "        major_group = group['MajorGroup'].iloc[0]\n",
    "\n",
    "        values = group.drop(columns=per_object_columns).values.flatten()\n",
    "        \n",
    "        dfs.append([company_name, fiscal_periods, label, division, major_group] + values.tolist())\n",
    "    \n",
    "    final_flatten_df = pd.DataFrame(dfs, columns=new_columns)\n",
    "    final_flatten_df = final_flatten_df.reset_index(drop=True)\n",
    "    return final_flatten_df"
   ],
   "id": "3782c8d0202ba976",
   "outputs": [],
   "execution_count": 109
  },
  {
   "metadata": {
    "ExecuteTime": {
     "end_time": "2024-09-15T09:49:57.629275Z",
     "start_time": "2024-09-15T09:49:57.617508Z"
    }
   },
   "cell_type": "code",
   "source": [
    "# check how many zeros and Nan are in the dataset\n",
    "american_bankruptcy_dataset_5years.isnull().sum().sum(), (american_bankruptcy_dataset_5years == 0).sum().sum()"
   ],
   "id": "677086c8cdf8a081",
   "outputs": [
    {
     "data": {
      "text/plain": [
       "(0, 36054)"
      ]
     },
     "execution_count": 110,
     "metadata": {},
     "output_type": "execute_result"
    }
   ],
   "execution_count": 110
  },
  {
   "metadata": {
    "ExecuteTime": {
     "end_time": "2024-09-15T09:49:58.606695Z",
     "start_time": "2024-09-15T09:49:58.600681Z"
    }
   },
   "cell_type": "code",
   "source": "36054-31385",
   "id": "e6abb8fa7140994c",
   "outputs": [
    {
     "data": {
      "text/plain": [
       "4669"
      ]
     },
     "execution_count": 111,
     "metadata": {},
     "output_type": "execute_result"
    }
   ],
   "execution_count": 111
  },
  {
   "metadata": {
    "ExecuteTime": {
     "end_time": "2024-09-15T09:50:25.628873Z",
     "start_time": "2024-09-15T09:50:01.935137Z"
    }
   },
   "cell_type": "code",
   "source": [
    "from tqdm import tqdm\n",
    "import warnings\n",
    "warnings.filterwarnings('ignore')\n",
    "\n",
    "american_bankruptcy_dataset_5years_zeros_filled = pd.DataFrame()\n",
    "# 31385\n",
    "for group in tqdm(american_bankruptcy_dataset_5years.groupby('company_name')):\n",
    "    tmp_df = group[1].replace(to_replace=0, method='bfill').replace(to_replace=0, method='ffill')\n",
    "    american_bankruptcy_dataset_5years_zeros_filled = pd.concat([american_bankruptcy_dataset_5years_zeros_filled, tmp_df])"
   ],
   "id": "7082cf4377e3d48",
   "outputs": [
    {
     "name": "stderr",
     "output_type": "stream",
     "text": [
      "100%|██████████| 5873/5873 [00:23<00:00, 248.30it/s]\n"
     ]
    }
   ],
   "execution_count": 112
  },
  {
   "metadata": {
    "ExecuteTime": {
     "end_time": "2024-09-15T09:50:25.639749Z",
     "start_time": "2024-09-15T09:50:25.629879Z"
    }
   },
   "cell_type": "code",
   "source": "american_bankruptcy_dataset_5years_zeros_filled.isnull().sum().sum(), (american_bankruptcy_dataset_5years_zeros_filled == 0).sum().sum()",
   "id": "c7f3c371cdf4ffa6",
   "outputs": [
    {
     "data": {
      "text/plain": [
       "(0, 31385)"
      ]
     },
     "execution_count": 113,
     "metadata": {},
     "output_type": "execute_result"
    }
   ],
   "execution_count": 113
  },
  {
   "metadata": {
    "ExecuteTime": {
     "end_time": "2024-09-15T09:50:25.645759Z",
     "start_time": "2024-09-15T09:50:25.639749Z"
    }
   },
   "cell_type": "code",
   "source": "american_bankruptcy_dataset_5years_zeros_filled['label'].value_counts()",
   "id": "bcfefe79e3585a4b",
   "outputs": [
    {
     "data": {
      "text/plain": [
       "label\n",
       "False    26840\n",
       "True      2525\n",
       "Name: count, dtype: int64"
      ]
     },
     "execution_count": 114,
     "metadata": {},
     "output_type": "execute_result"
    }
   ],
   "execution_count": 114
  },
  {
   "metadata": {
    "ExecuteTime": {
     "end_time": "2024-09-15T09:50:50.185747Z",
     "start_time": "2024-09-15T09:50:50.180538Z"
    }
   },
   "cell_type": "code",
   "source": "american_bankruptcy_dataset_5years_zeros_filled['label'].value_counts(normalize=True)",
   "id": "28295035907b1484",
   "outputs": [
    {
     "data": {
      "text/plain": [
       "label\n",
       "False    0.914013\n",
       "True     0.085987\n",
       "Name: proportion, dtype: float64"
      ]
     },
     "execution_count": 115,
     "metadata": {},
     "output_type": "execute_result"
    }
   ],
   "execution_count": 115
  },
  {
   "metadata": {
    "ExecuteTime": {
     "end_time": "2024-09-15T09:51:10.746529Z",
     "start_time": "2024-09-15T09:51:10.729194Z"
    }
   },
   "cell_type": "code",
   "source": "len(american_bankruptcy_dataset_5years_zeros_filled)/5",
   "id": "4f56e112c37caeae",
   "outputs": [
    {
     "data": {
      "text/plain": [
       "5873.0"
      ]
     },
     "execution_count": 117,
     "metadata": {},
     "output_type": "execute_result"
    }
   ],
   "execution_count": 117
  },
  {
   "metadata": {
    "ExecuteTime": {
     "end_time": "2024-09-15T09:53:16.496661Z",
     "start_time": "2024-09-15T09:53:14.604821Z"
    }
   },
   "cell_type": "code",
   "source": [
    "american_bankruptcy_dataset_5years_flatten = flatten_american_bankruptcy_dataset(american_bankruptcy_dataset_5years_zeros_filled)\n",
    "american_bankruptcy_dataset_5years_preprocessed = american_bankruptcy_dataset_5years_flatten.drop(['company_name', 'fyear', 'Division', 'MajorGroup'], axis=1)"
   ],
   "id": "43507857212948aa",
   "outputs": [],
   "execution_count": 118
  },
  {
   "metadata": {
    "ExecuteTime": {
     "end_time": "2024-09-15T09:53:33.727851Z",
     "start_time": "2024-09-15T09:53:33.703626Z"
    }
   },
   "cell_type": "code",
   "source": [
    "X_american_bankruptcy_dataset = american_bankruptcy_dataset_5years_preprocessed.drop('label', axis=1)\n",
    "y_american_bankruptcy_dataset  = american_bankruptcy_dataset_5years_preprocessed['label']\n",
    "\n",
    "scaler = preprocessing.StandardScaler().fit(X_american_bankruptcy_dataset)\n",
    "X_scaled = scaler.transform(X_american_bankruptcy_dataset)\n",
    "\n",
    "len(X_american_bankruptcy_dataset), len(y_american_bankruptcy_dataset)"
   ],
   "id": "88882dac24ca27ed",
   "outputs": [
    {
     "data": {
      "text/plain": [
       "(5873, 5873)"
      ]
     },
     "execution_count": 119,
     "metadata": {},
     "output_type": "execute_result"
    }
   ],
   "execution_count": 119
  },
  {
   "metadata": {
    "ExecuteTime": {
     "end_time": "2024-09-15T10:41:16.266431Z",
     "start_time": "2024-09-15T10:41:16.255836Z"
    }
   },
   "cell_type": "code",
   "source": [
    "preds = logistic_regression_model.predict(X_american_bankruptcy_dataset)\n",
    "print(f\"Accuracy: {accuracy_score(y_american_bankruptcy_dataset, preds)}\")\n",
    "print(f\"Precision: {precision_score(y_american_bankruptcy_dataset, preds)}\")"
   ],
   "id": "4affdda91446b9d5",
   "outputs": [
    {
     "name": "stdout",
     "output_type": "stream",
     "text": [
      "Accuracy: 0.6022475736420909\n",
      "Precision: 0.11614255765199162\n"
     ]
    }
   ],
   "execution_count": 147
  },
  {
   "metadata": {},
   "cell_type": "markdown",
   "source": "### Check only on the balanced dataset",
   "id": "e339fcac06653180"
  },
  {
   "metadata": {
    "ExecuteTime": {
     "end_time": "2024-09-15T10:00:58.349295Z",
     "start_time": "2024-09-15T10:00:58.325407Z"
    }
   },
   "cell_type": "code",
   "source": [
    "X_negative = X_american_bankruptcy_dataset[y_american_bankruptcy_dataset == False]\n",
    "y_negative = y_american_bankruptcy_dataset[y_american_bankruptcy_dataset == False]\n",
    "\n",
    "X_positive = X_american_bankruptcy_dataset[y_american_bankruptcy_dataset == True]\n",
    "y_positive = y_american_bankruptcy_dataset[y_american_bankruptcy_dataset == True]\n",
    "\n",
    "X_negative = X_negative.sample(n=len(X_positive), random_state=random_state)\n",
    "y_negative = y_negative.sample(n=len(X_positive), random_state=random_state)\n",
    "\n",
    "X_combined = pd.concat([X_positive, X_negative])\n",
    "y_combined = pd.concat([y_positive, y_negative])\n",
    "\n",
    "len(X_positive), len(y_positive), len(X_negative), len(y_negative)"
   ],
   "id": "3603c8a48f0dcc35",
   "outputs": [
    {
     "data": {
      "text/plain": [
       "(505, 505, 505, 505)"
      ]
     },
     "execution_count": 131,
     "metadata": {},
     "output_type": "execute_result"
    }
   ],
   "execution_count": 131
  },
  {
   "metadata": {
    "ExecuteTime": {
     "end_time": "2024-09-15T10:42:24.099320Z",
     "start_time": "2024-09-15T10:42:24.085899Z"
    }
   },
   "cell_type": "code",
   "source": [
    "preds = logistic_regression_model.predict(X_combined)\n",
    "print(f\"Accuracy: {accuracy_score(y_combined, preds)}\")\n",
    "print(f\"Precision: {precision_score(y_combined, preds)}\")"
   ],
   "id": "9d85bddf1689024e",
   "outputs": [
    {
     "name": "stdout",
     "output_type": "stream",
     "text": [
      "Accuracy: 0.5831683168316831\n",
      "Precision: 0.5893617021276596\n"
     ]
    }
   ],
   "execution_count": 148
  },
  {
   "metadata": {},
   "cell_type": "markdown",
   "source": [
    "#### Results for american dataset:\n",
    "\n",
    "Accuracy: 0.42475247524752474\n",
    "Precision: 0.4291044776119403"
   ],
   "id": "c81e43c91b18aeb5"
  },
  {
   "metadata": {
    "ExecuteTime": {
     "end_time": "2024-09-15T13:40:06.441410Z",
     "start_time": "2024-09-15T13:40:06.434639Z"
    }
   },
   "cell_type": "code",
   "source": "",
   "id": "4e0f233df3f9235",
   "outputs": [],
   "execution_count": 150
  },
  {
   "metadata": {},
   "cell_type": "markdown",
   "source": "## Dataset comparison",
   "id": "e2d9f95c999a918e"
  },
  {
   "metadata": {
    "ExecuteTime": {
     "end_time": "2024-09-15T10:08:41.495879Z",
     "start_time": "2024-09-15T10:08:41.363456Z"
    }
   },
   "cell_type": "code",
   "source": [
    "df1 = pd.read_csv('bankrupt_companies_with_17variables_5years_split_version4_complete.csv')\n",
    "df2 = pd.read_csv('sowide_american_bankruptcy_dataset_5years_named_features_withoutX9.csv')\n",
    "\n",
    "df1.drop(['cik', 'ticker', 'Fiscal Period', 'label', 'subset'], axis=1, inplace=True)\n",
    "df2.drop(['company_name', 'fyear', 'Division', 'MajorGroup', 'label'], axis=1, inplace=True)"
   ],
   "id": "215cd00e7ee3395f",
   "outputs": [],
   "execution_count": 134
  },
  {
   "metadata": {
    "ExecuteTime": {
     "end_time": "2024-09-15T10:08:42.558269Z",
     "start_time": "2024-09-15T10:08:42.518548Z"
    }
   },
   "cell_type": "code",
   "source": "df1.describe()",
   "id": "d7f8b0ef46ef145e",
   "outputs": [
    {
     "data": {
      "text/plain": [
       "       Cost of Goods Sold  Depreciation, Depletion and Amortization  \\\n",
       "count        36070.000000                              36070.000000   \n",
       "mean          1934.947645                                159.123548   \n",
       "std           9821.346437                                788.010657   \n",
       "min          -1647.000000                                -59.000000   \n",
       "25%            147.000000                                  9.400000   \n",
       "50%            372.000000                                 26.000000   \n",
       "75%            932.000000                                 96.000000   \n",
       "max         420315.000000                              46009.000000   \n",
       "\n",
       "                EBIT         EBITDA   Gross Profit  Long-Term Debt  \\\n",
       "count   36070.000000   36070.000000   36070.000000    36070.000000   \n",
       "mean      238.338251     413.881706     926.406197     1610.033816   \n",
       "std      1984.669021    2481.130740    4012.584621     9241.430375   \n",
       "min    -27725.000000  -27317.000000   -5685.000000        0.000000   \n",
       "25%       -16.000000       4.000000      92.100000       97.000000   \n",
       "50%        31.000000      58.000000     202.000000      309.000000   \n",
       "75%       139.300000     230.000000     542.775000      916.975000   \n",
       "max    111852.000000  123136.000000  152836.000000   429944.000000   \n",
       "\n",
       "          Market Cap    Net Income  Retained Earnings        Revenue  \\\n",
       "count   36070.000000  36070.000000       36070.000000   36070.000000   \n",
       "mean     5989.537362    112.663139         720.306467    2424.338431   \n",
       "std     23794.312435   1577.485425        9089.127282   12266.487814   \n",
       "min         0.000000 -27590.000000      -85041.000000   -1992.140000   \n",
       "25%       299.000000    -37.000000        -163.000000     212.000000   \n",
       "50%      1041.000000      6.640000          15.000000     505.000000   \n",
       "75%      3568.750000     58.000000         181.000000    1137.750000   \n",
       "max    995107.000000  94680.000000      444626.000000  559151.000000   \n",
       "\n",
       "        Total Assets  Total Current Assets  Total Current Liabilities  \\\n",
       "count   36070.000000          36070.000000               36070.000000   \n",
       "mean     6123.653281           1225.193032                 944.684192   \n",
       "std     29979.611252           5434.181010                4096.337123   \n",
       "min         0.000000              0.000000                   0.000000   \n",
       "25%       386.000000            131.000000                  73.000000   \n",
       "50%       789.000000            281.310000                 151.000000   \n",
       "75%      2699.900000            642.000000                 424.300000   \n",
       "max    992968.000000         184406.000000              125481.000000   \n",
       "\n",
       "       Total Inventories  Total Liabilities  Total Operating Expense  \\\n",
       "count       36070.000000       36070.000000             36070.000000   \n",
       "mean          307.752604        4670.662164               692.662734   \n",
       "std          1311.744289       24923.514324              2749.307308   \n",
       "min             0.000000       -4733.000000             -3518.000000   \n",
       "25%            24.000000         226.000000                89.000000   \n",
       "50%            70.000000         552.000000               199.000000   \n",
       "75%           206.000000        1885.000000               440.000000   \n",
       "max         81715.000000      902703.000000            116288.000000   \n",
       "\n",
       "       Total Receivables  \n",
       "count       36070.000000  \n",
       "mean          473.959917  \n",
       "std          2690.754193  \n",
       "min             0.000000  \n",
       "25%            28.000000  \n",
       "50%            71.000000  \n",
       "75%           204.100000  \n",
       "max        128387.000000  "
      ],
      "text/html": [
       "<div>\n",
       "<style scoped>\n",
       "    .dataframe tbody tr th:only-of-type {\n",
       "        vertical-align: middle;\n",
       "    }\n",
       "\n",
       "    .dataframe tbody tr th {\n",
       "        vertical-align: top;\n",
       "    }\n",
       "\n",
       "    .dataframe thead th {\n",
       "        text-align: right;\n",
       "    }\n",
       "</style>\n",
       "<table border=\"1\" class=\"dataframe\">\n",
       "  <thead>\n",
       "    <tr style=\"text-align: right;\">\n",
       "      <th></th>\n",
       "      <th>Cost of Goods Sold</th>\n",
       "      <th>Depreciation, Depletion and Amortization</th>\n",
       "      <th>EBIT</th>\n",
       "      <th>EBITDA</th>\n",
       "      <th>Gross Profit</th>\n",
       "      <th>Long-Term Debt</th>\n",
       "      <th>Market Cap</th>\n",
       "      <th>Net Income</th>\n",
       "      <th>Retained Earnings</th>\n",
       "      <th>Revenue</th>\n",
       "      <th>Total Assets</th>\n",
       "      <th>Total Current Assets</th>\n",
       "      <th>Total Current Liabilities</th>\n",
       "      <th>Total Inventories</th>\n",
       "      <th>Total Liabilities</th>\n",
       "      <th>Total Operating Expense</th>\n",
       "      <th>Total Receivables</th>\n",
       "    </tr>\n",
       "  </thead>\n",
       "  <tbody>\n",
       "    <tr>\n",
       "      <th>count</th>\n",
       "      <td>36070.000000</td>\n",
       "      <td>36070.000000</td>\n",
       "      <td>36070.000000</td>\n",
       "      <td>36070.000000</td>\n",
       "      <td>36070.000000</td>\n",
       "      <td>36070.000000</td>\n",
       "      <td>36070.000000</td>\n",
       "      <td>36070.000000</td>\n",
       "      <td>36070.000000</td>\n",
       "      <td>36070.000000</td>\n",
       "      <td>36070.000000</td>\n",
       "      <td>36070.000000</td>\n",
       "      <td>36070.000000</td>\n",
       "      <td>36070.000000</td>\n",
       "      <td>36070.000000</td>\n",
       "      <td>36070.000000</td>\n",
       "      <td>36070.000000</td>\n",
       "    </tr>\n",
       "    <tr>\n",
       "      <th>mean</th>\n",
       "      <td>1934.947645</td>\n",
       "      <td>159.123548</td>\n",
       "      <td>238.338251</td>\n",
       "      <td>413.881706</td>\n",
       "      <td>926.406197</td>\n",
       "      <td>1610.033816</td>\n",
       "      <td>5989.537362</td>\n",
       "      <td>112.663139</td>\n",
       "      <td>720.306467</td>\n",
       "      <td>2424.338431</td>\n",
       "      <td>6123.653281</td>\n",
       "      <td>1225.193032</td>\n",
       "      <td>944.684192</td>\n",
       "      <td>307.752604</td>\n",
       "      <td>4670.662164</td>\n",
       "      <td>692.662734</td>\n",
       "      <td>473.959917</td>\n",
       "    </tr>\n",
       "    <tr>\n",
       "      <th>std</th>\n",
       "      <td>9821.346437</td>\n",
       "      <td>788.010657</td>\n",
       "      <td>1984.669021</td>\n",
       "      <td>2481.130740</td>\n",
       "      <td>4012.584621</td>\n",
       "      <td>9241.430375</td>\n",
       "      <td>23794.312435</td>\n",
       "      <td>1577.485425</td>\n",
       "      <td>9089.127282</td>\n",
       "      <td>12266.487814</td>\n",
       "      <td>29979.611252</td>\n",
       "      <td>5434.181010</td>\n",
       "      <td>4096.337123</td>\n",
       "      <td>1311.744289</td>\n",
       "      <td>24923.514324</td>\n",
       "      <td>2749.307308</td>\n",
       "      <td>2690.754193</td>\n",
       "    </tr>\n",
       "    <tr>\n",
       "      <th>min</th>\n",
       "      <td>-1647.000000</td>\n",
       "      <td>-59.000000</td>\n",
       "      <td>-27725.000000</td>\n",
       "      <td>-27317.000000</td>\n",
       "      <td>-5685.000000</td>\n",
       "      <td>0.000000</td>\n",
       "      <td>0.000000</td>\n",
       "      <td>-27590.000000</td>\n",
       "      <td>-85041.000000</td>\n",
       "      <td>-1992.140000</td>\n",
       "      <td>0.000000</td>\n",
       "      <td>0.000000</td>\n",
       "      <td>0.000000</td>\n",
       "      <td>0.000000</td>\n",
       "      <td>-4733.000000</td>\n",
       "      <td>-3518.000000</td>\n",
       "      <td>0.000000</td>\n",
       "    </tr>\n",
       "    <tr>\n",
       "      <th>25%</th>\n",
       "      <td>147.000000</td>\n",
       "      <td>9.400000</td>\n",
       "      <td>-16.000000</td>\n",
       "      <td>4.000000</td>\n",
       "      <td>92.100000</td>\n",
       "      <td>97.000000</td>\n",
       "      <td>299.000000</td>\n",
       "      <td>-37.000000</td>\n",
       "      <td>-163.000000</td>\n",
       "      <td>212.000000</td>\n",
       "      <td>386.000000</td>\n",
       "      <td>131.000000</td>\n",
       "      <td>73.000000</td>\n",
       "      <td>24.000000</td>\n",
       "      <td>226.000000</td>\n",
       "      <td>89.000000</td>\n",
       "      <td>28.000000</td>\n",
       "    </tr>\n",
       "    <tr>\n",
       "      <th>50%</th>\n",
       "      <td>372.000000</td>\n",
       "      <td>26.000000</td>\n",
       "      <td>31.000000</td>\n",
       "      <td>58.000000</td>\n",
       "      <td>202.000000</td>\n",
       "      <td>309.000000</td>\n",
       "      <td>1041.000000</td>\n",
       "      <td>6.640000</td>\n",
       "      <td>15.000000</td>\n",
       "      <td>505.000000</td>\n",
       "      <td>789.000000</td>\n",
       "      <td>281.310000</td>\n",
       "      <td>151.000000</td>\n",
       "      <td>70.000000</td>\n",
       "      <td>552.000000</td>\n",
       "      <td>199.000000</td>\n",
       "      <td>71.000000</td>\n",
       "    </tr>\n",
       "    <tr>\n",
       "      <th>75%</th>\n",
       "      <td>932.000000</td>\n",
       "      <td>96.000000</td>\n",
       "      <td>139.300000</td>\n",
       "      <td>230.000000</td>\n",
       "      <td>542.775000</td>\n",
       "      <td>916.975000</td>\n",
       "      <td>3568.750000</td>\n",
       "      <td>58.000000</td>\n",
       "      <td>181.000000</td>\n",
       "      <td>1137.750000</td>\n",
       "      <td>2699.900000</td>\n",
       "      <td>642.000000</td>\n",
       "      <td>424.300000</td>\n",
       "      <td>206.000000</td>\n",
       "      <td>1885.000000</td>\n",
       "      <td>440.000000</td>\n",
       "      <td>204.100000</td>\n",
       "    </tr>\n",
       "    <tr>\n",
       "      <th>max</th>\n",
       "      <td>420315.000000</td>\n",
       "      <td>46009.000000</td>\n",
       "      <td>111852.000000</td>\n",
       "      <td>123136.000000</td>\n",
       "      <td>152836.000000</td>\n",
       "      <td>429944.000000</td>\n",
       "      <td>995107.000000</td>\n",
       "      <td>94680.000000</td>\n",
       "      <td>444626.000000</td>\n",
       "      <td>559151.000000</td>\n",
       "      <td>992968.000000</td>\n",
       "      <td>184406.000000</td>\n",
       "      <td>125481.000000</td>\n",
       "      <td>81715.000000</td>\n",
       "      <td>902703.000000</td>\n",
       "      <td>116288.000000</td>\n",
       "      <td>128387.000000</td>\n",
       "    </tr>\n",
       "  </tbody>\n",
       "</table>\n",
       "</div>"
      ]
     },
     "execution_count": 135,
     "metadata": {},
     "output_type": "execute_result"
    }
   ],
   "execution_count": 135
  },
  {
   "metadata": {
    "ExecuteTime": {
     "end_time": "2024-09-15T10:08:44.535531Z",
     "start_time": "2024-09-15T10:08:44.496200Z"
    }
   },
   "cell_type": "code",
   "source": "df2.describe()",
   "id": "7a18a18ed5b592c0",
   "outputs": [
    {
     "data": {
      "text/plain": [
       "       Cost of Goods Sold  Depreciation, Depletion and Amortization  \\\n",
       "count        2.936500e+04                              2.936500e+04   \n",
       "mean         6.243817e+05                              3.833786e+05   \n",
       "std          2.057566e+06                              2.415372e+06   \n",
       "min          7.000000e-03                             -3.143700e+04   \n",
       "25%          3.480900e+03                              1.355600e+03   \n",
       "50%          4.448300e+04                              2.078200e+04   \n",
       "75%          3.458750e+05                              1.730550e+05   \n",
       "max          4.827507e+07                              1.632456e+08   \n",
       "\n",
       "               EBIT        EBITDA  Gross Profit  Long-Term Debt    Market Cap  \\\n",
       "count  2.936500e+04  2.936500e+04  2.936500e+04    2.936500e+04  2.936500e+04   \n",
       "mean   2.361547e+04  1.764228e+05  6.900689e+04    1.254670e+04  1.745298e+05   \n",
       "std    8.377113e+05  8.014096e+05  2.845943e+05    1.895519e+05  5.936148e+05   \n",
       "min   -1.900383e+07 -2.300000e+01  0.000000e+00   -7.058978e+06 -4.367571e+06   \n",
       "25%   -5.355800e+04  0.000000e+00  2.125000e+02   -3.991000e+03  4.117600e+02   \n",
       "50%   -8.027000e+01  5.752870e+02  4.119000e+03    5.547000e+00  1.165600e+04   \n",
       "75%    1.414400e+04  1.986100e+04  3.916900e+04    5.894000e+03  1.132980e+05   \n",
       "max    3.095666e+07  2.068708e+07  1.154206e+07    7.521731e+06  1.724914e+07   \n",
       "\n",
       "         Net Income  Retained Earnings       Revenue  Total Assets  \\\n",
       "count  2.936500e+04       2.936500e+04  2.936500e+04  2.936500e+04   \n",
       "mean   4.144138e+04       4.968603e+05  3.856770e+05  1.289232e+05   \n",
       "std    2.225606e+05       5.364679e+06  1.454710e+06  5.471249e+05   \n",
       "min   -5.043795e+06       1.000000e-04  7.000000e-03  7.000000e-03   \n",
       "25%   -1.392000e+03       4.155930e+01  2.224707e+03  1.062400e+03   \n",
       "50%    1.624000e+02       3.446880e+02  1.963200e+04  1.169300e+04   \n",
       "75%    1.541500e+04       3.157765e+03  1.662730e+05  7.300300e+04   \n",
       "max    6.946234e+06       3.748024e+08  3.921136e+07  2.786969e+07   \n",
       "\n",
       "       Total Current Assets  Total Current Liabilities  Total Inventories  \\\n",
       "count          2.936500e+04               2.936500e+04       2.936500e+04   \n",
       "mean           2.150358e+05               5.592116e+05       2.594476e+04   \n",
       "std            7.071624e+05               2.742011e+06       1.005920e+05   \n",
       "min           -2.498000e+03              -1.977000e+03       0.000000e+00   \n",
       "25%            1.292000e+03               1.941200e+03       7.300000e+01   \n",
       "50%            2.196500e+04               3.424400e+04       1.162400e+03   \n",
       "75%            1.549930e+05               3.132310e+05       1.280800e+04   \n",
       "max            2.430330e+07               1.679396e+08       4.165616e+06   \n",
       "\n",
       "       Total Liabilities  Total Operating Expense  Total Receivables  \n",
       "count       2.936500e+04             2.936500e+04       2.936500e+04  \n",
       "mean        5.592116e+05             4.750706e+05       6.586093e+04  \n",
       "std         2.742011e+06             2.256353e+06       2.662746e+05  \n",
       "min        -1.977000e+03            -3.143700e+04      -4.512135e+06  \n",
       "25%         1.941200e+03             3.113000e+03      -3.267000e+01  \n",
       "50%         3.424400e+04             3.929200e+04       8.870000e+02  \n",
       "75%         3.132310e+05             2.746480e+05       2.973200e+04  \n",
       "max         1.679396e+08             1.657008e+08       8.845605e+06  "
      ],
      "text/html": [
       "<div>\n",
       "<style scoped>\n",
       "    .dataframe tbody tr th:only-of-type {\n",
       "        vertical-align: middle;\n",
       "    }\n",
       "\n",
       "    .dataframe tbody tr th {\n",
       "        vertical-align: top;\n",
       "    }\n",
       "\n",
       "    .dataframe thead th {\n",
       "        text-align: right;\n",
       "    }\n",
       "</style>\n",
       "<table border=\"1\" class=\"dataframe\">\n",
       "  <thead>\n",
       "    <tr style=\"text-align: right;\">\n",
       "      <th></th>\n",
       "      <th>Cost of Goods Sold</th>\n",
       "      <th>Depreciation, Depletion and Amortization</th>\n",
       "      <th>EBIT</th>\n",
       "      <th>EBITDA</th>\n",
       "      <th>Gross Profit</th>\n",
       "      <th>Long-Term Debt</th>\n",
       "      <th>Market Cap</th>\n",
       "      <th>Net Income</th>\n",
       "      <th>Retained Earnings</th>\n",
       "      <th>Revenue</th>\n",
       "      <th>Total Assets</th>\n",
       "      <th>Total Current Assets</th>\n",
       "      <th>Total Current Liabilities</th>\n",
       "      <th>Total Inventories</th>\n",
       "      <th>Total Liabilities</th>\n",
       "      <th>Total Operating Expense</th>\n",
       "      <th>Total Receivables</th>\n",
       "    </tr>\n",
       "  </thead>\n",
       "  <tbody>\n",
       "    <tr>\n",
       "      <th>count</th>\n",
       "      <td>2.936500e+04</td>\n",
       "      <td>2.936500e+04</td>\n",
       "      <td>2.936500e+04</td>\n",
       "      <td>2.936500e+04</td>\n",
       "      <td>2.936500e+04</td>\n",
       "      <td>2.936500e+04</td>\n",
       "      <td>2.936500e+04</td>\n",
       "      <td>2.936500e+04</td>\n",
       "      <td>2.936500e+04</td>\n",
       "      <td>2.936500e+04</td>\n",
       "      <td>2.936500e+04</td>\n",
       "      <td>2.936500e+04</td>\n",
       "      <td>2.936500e+04</td>\n",
       "      <td>2.936500e+04</td>\n",
       "      <td>2.936500e+04</td>\n",
       "      <td>2.936500e+04</td>\n",
       "      <td>2.936500e+04</td>\n",
       "    </tr>\n",
       "    <tr>\n",
       "      <th>mean</th>\n",
       "      <td>6.243817e+05</td>\n",
       "      <td>3.833786e+05</td>\n",
       "      <td>2.361547e+04</td>\n",
       "      <td>1.764228e+05</td>\n",
       "      <td>6.900689e+04</td>\n",
       "      <td>1.254670e+04</td>\n",
       "      <td>1.745298e+05</td>\n",
       "      <td>4.144138e+04</td>\n",
       "      <td>4.968603e+05</td>\n",
       "      <td>3.856770e+05</td>\n",
       "      <td>1.289232e+05</td>\n",
       "      <td>2.150358e+05</td>\n",
       "      <td>5.592116e+05</td>\n",
       "      <td>2.594476e+04</td>\n",
       "      <td>5.592116e+05</td>\n",
       "      <td>4.750706e+05</td>\n",
       "      <td>6.586093e+04</td>\n",
       "    </tr>\n",
       "    <tr>\n",
       "      <th>std</th>\n",
       "      <td>2.057566e+06</td>\n",
       "      <td>2.415372e+06</td>\n",
       "      <td>8.377113e+05</td>\n",
       "      <td>8.014096e+05</td>\n",
       "      <td>2.845943e+05</td>\n",
       "      <td>1.895519e+05</td>\n",
       "      <td>5.936148e+05</td>\n",
       "      <td>2.225606e+05</td>\n",
       "      <td>5.364679e+06</td>\n",
       "      <td>1.454710e+06</td>\n",
       "      <td>5.471249e+05</td>\n",
       "      <td>7.071624e+05</td>\n",
       "      <td>2.742011e+06</td>\n",
       "      <td>1.005920e+05</td>\n",
       "      <td>2.742011e+06</td>\n",
       "      <td>2.256353e+06</td>\n",
       "      <td>2.662746e+05</td>\n",
       "    </tr>\n",
       "    <tr>\n",
       "      <th>min</th>\n",
       "      <td>7.000000e-03</td>\n",
       "      <td>-3.143700e+04</td>\n",
       "      <td>-1.900383e+07</td>\n",
       "      <td>-2.300000e+01</td>\n",
       "      <td>0.000000e+00</td>\n",
       "      <td>-7.058978e+06</td>\n",
       "      <td>-4.367571e+06</td>\n",
       "      <td>-5.043795e+06</td>\n",
       "      <td>1.000000e-04</td>\n",
       "      <td>7.000000e-03</td>\n",
       "      <td>7.000000e-03</td>\n",
       "      <td>-2.498000e+03</td>\n",
       "      <td>-1.977000e+03</td>\n",
       "      <td>0.000000e+00</td>\n",
       "      <td>-1.977000e+03</td>\n",
       "      <td>-3.143700e+04</td>\n",
       "      <td>-4.512135e+06</td>\n",
       "    </tr>\n",
       "    <tr>\n",
       "      <th>25%</th>\n",
       "      <td>3.480900e+03</td>\n",
       "      <td>1.355600e+03</td>\n",
       "      <td>-5.355800e+04</td>\n",
       "      <td>0.000000e+00</td>\n",
       "      <td>2.125000e+02</td>\n",
       "      <td>-3.991000e+03</td>\n",
       "      <td>4.117600e+02</td>\n",
       "      <td>-1.392000e+03</td>\n",
       "      <td>4.155930e+01</td>\n",
       "      <td>2.224707e+03</td>\n",
       "      <td>1.062400e+03</td>\n",
       "      <td>1.292000e+03</td>\n",
       "      <td>1.941200e+03</td>\n",
       "      <td>7.300000e+01</td>\n",
       "      <td>1.941200e+03</td>\n",
       "      <td>3.113000e+03</td>\n",
       "      <td>-3.267000e+01</td>\n",
       "    </tr>\n",
       "    <tr>\n",
       "      <th>50%</th>\n",
       "      <td>4.448300e+04</td>\n",
       "      <td>2.078200e+04</td>\n",
       "      <td>-8.027000e+01</td>\n",
       "      <td>5.752870e+02</td>\n",
       "      <td>4.119000e+03</td>\n",
       "      <td>5.547000e+00</td>\n",
       "      <td>1.165600e+04</td>\n",
       "      <td>1.624000e+02</td>\n",
       "      <td>3.446880e+02</td>\n",
       "      <td>1.963200e+04</td>\n",
       "      <td>1.169300e+04</td>\n",
       "      <td>2.196500e+04</td>\n",
       "      <td>3.424400e+04</td>\n",
       "      <td>1.162400e+03</td>\n",
       "      <td>3.424400e+04</td>\n",
       "      <td>3.929200e+04</td>\n",
       "      <td>8.870000e+02</td>\n",
       "    </tr>\n",
       "    <tr>\n",
       "      <th>75%</th>\n",
       "      <td>3.458750e+05</td>\n",
       "      <td>1.730550e+05</td>\n",
       "      <td>1.414400e+04</td>\n",
       "      <td>1.986100e+04</td>\n",
       "      <td>3.916900e+04</td>\n",
       "      <td>5.894000e+03</td>\n",
       "      <td>1.132980e+05</td>\n",
       "      <td>1.541500e+04</td>\n",
       "      <td>3.157765e+03</td>\n",
       "      <td>1.662730e+05</td>\n",
       "      <td>7.300300e+04</td>\n",
       "      <td>1.549930e+05</td>\n",
       "      <td>3.132310e+05</td>\n",
       "      <td>1.280800e+04</td>\n",
       "      <td>3.132310e+05</td>\n",
       "      <td>2.746480e+05</td>\n",
       "      <td>2.973200e+04</td>\n",
       "    </tr>\n",
       "    <tr>\n",
       "      <th>max</th>\n",
       "      <td>4.827507e+07</td>\n",
       "      <td>1.632456e+08</td>\n",
       "      <td>3.095666e+07</td>\n",
       "      <td>2.068708e+07</td>\n",
       "      <td>1.154206e+07</td>\n",
       "      <td>7.521731e+06</td>\n",
       "      <td>1.724914e+07</td>\n",
       "      <td>6.946234e+06</td>\n",
       "      <td>3.748024e+08</td>\n",
       "      <td>3.921136e+07</td>\n",
       "      <td>2.786969e+07</td>\n",
       "      <td>2.430330e+07</td>\n",
       "      <td>1.679396e+08</td>\n",
       "      <td>4.165616e+06</td>\n",
       "      <td>1.679396e+08</td>\n",
       "      <td>1.657008e+08</td>\n",
       "      <td>8.845605e+06</td>\n",
       "    </tr>\n",
       "  </tbody>\n",
       "</table>\n",
       "</div>"
      ]
     },
     "execution_count": 136,
     "metadata": {},
     "output_type": "execute_result"
    }
   ],
   "execution_count": 136
  },
  {
   "metadata": {
    "ExecuteTime": {
     "end_time": "2024-09-15T10:08:45.915473Z",
     "start_time": "2024-09-15T10:08:45.912360Z"
    }
   },
   "cell_type": "code",
   "source": [
    "import matplotlib.pyplot as plt\n",
    "import seaborn as sns\n",
    "import math"
   ],
   "id": "a8537d6b5be5976b",
   "outputs": [],
   "execution_count": 137
  },
  {
   "metadata": {
    "ExecuteTime": {
     "end_time": "2024-09-15T10:20:55.908971Z",
     "start_time": "2024-09-15T10:20:45.116968Z"
    }
   },
   "cell_type": "code",
   "source": [
    "numeric_columns = df1.select_dtypes(include=['float64', 'int64']).columns\n",
    "\n",
    "# Determine the number of rows and columns for subplots\n",
    "n_cols = 3  # You can adjust the number of columns\n",
    "n_rows = math.ceil(len(numeric_columns) / n_cols)\n",
    "\n",
    "# Create the figure and axes\n",
    "fig, axes = plt.subplots(n_rows, n_cols, figsize=(15, n_rows * 4))\n",
    "fig.suptitle('Porównanie rozkładów cech numerycznych (wartości cech w skali log.)', fontsize=16)\n",
    "\n",
    "# Flatten the axes array for easy indexing\n",
    "axes = axes.flatten()\n",
    "\n",
    "# Loop through each column and plot on the respective subplot\n",
    "for idx, column in enumerate(numeric_columns):\n",
    "    # Log transform both datasets, avoiding log(0) by adding a small constant\n",
    "    df1_log = np.log1p(df1[column].clip(lower=1e-5))  # log1p(x) = log(1 + x), handles small values\n",
    "    df2_log = np.log1p(df2[column].clip(lower=1e-5))\n",
    "    \n",
    "    sns.kdeplot(df1_log, shade=True, ax=axes[idx], color='blue')\n",
    "    sns.kdeplot(df2_log, shade=True, ax=axes[idx], color='orange')\n",
    "    axes[idx].set_title(f'{column}')\n",
    "\n",
    "# Remove any unused axes if the number of features is less than n_cols * n_rows\n",
    "for i in range(len(numeric_columns), len(axes)):\n",
    "    fig.delaxes(axes[i])\n",
    "\n",
    "# Create a single legend for the entire figure\n",
    "handles = [\n",
    "    plt.Line2D([0], [0], color='blue', lw=2, label='Utworzony zbiór'),\n",
    "    plt.Line2D([0], [0], color='orange', lw=2, label='Referencyjny zbiór')\n",
    "]\n",
    "\n",
    "fig.legend(handles=handles, loc='upper right', ncol=1, fontsize=12)\n",
    "\n",
    "# Adjust layout to avoid overlap\n",
    "plt.tight_layout(rect=(0, 0, 1, 0.95))  # Adjust rect to fit the suptitle and legend\n",
    "plt.show()"
   ],
   "id": "39bc04b3d0953db6",
   "outputs": [
    {
     "data": {
      "text/plain": [
       "<Figure size 1500x2400 with 17 Axes>"
      ],
      "image/png": "[encoded data removed]"
     },
     "metadata": {},
     "output_type": "display_data"
    }
   ],
   "execution_count": 145
  }
 ],
 "metadata": {
  "kernelspec": {
   "display_name": "Python 3",
   "language": "python",
   "name": "python3"
  },
  "language_info": {
   "codemirror_mode": {
    "name": "ipython",
    "version": 2
   },
   "file_extension": ".py",
   "mimetype": "text/x-python",
   "name": "python",
   "nbconvert_exporter": "python",
   "pygments_lexer": "ipython2",
   "version": "2.7.6"
  }
 },
 "nbformat": 4,
 "nbformat_minor": 5
}

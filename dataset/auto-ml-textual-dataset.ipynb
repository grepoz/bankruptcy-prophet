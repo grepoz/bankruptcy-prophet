{
 "cells": [
  {
   "metadata": {},
   "cell_type": "markdown",
   "source": "### TFIDF + popular classifiers",
   "id": "208f02986058e28e"
  },
  {
   "metadata": {
    "ExecuteTime": {
     "end_time": "2024-09-22T18:37:36.264853Z",
     "start_time": "2024-09-22T18:37:36.160280Z"
    }
   },
   "cell_type": "code",
   "source": [
    "import pandas as pd\n",
    "import numpy as np\n",
    "import matplotlib.pyplot as plt\n",
    "from sklearn.feature_extraction.text import TfidfVectorizer\n",
    "\n",
    "import string"
   ],
   "id": "899412df739a1724",
   "outputs": [],
   "execution_count": 1
  },
  {
   "cell_type": "code",
   "id": "initial_id",
   "metadata": {
    "collapsed": true,
    "ExecuteTime": {
     "end_time": "2024-09-22T18:37:37.031355Z",
     "start_time": "2024-09-22T18:37:36.264853Z"
    }
   },
   "source": [
    "from sklearn.ensemble import GradientBoostingClassifier, AdaBoostClassifier, ExtraTreesClassifier, BaggingClassifier, RandomForestClassifier\n",
    "from sklearn.linear_model import LogisticRegression\n",
    "from sklearn.svm import SVC\n",
    "from sklearn.tree import DecisionTreeClassifier\n",
    "from sklearn.neighbors import KNeighborsClassifier\n",
    "from sklearn.naive_bayes import GaussianNB\n",
    "from sklearn.neural_network import MLPClassifier\n",
    "from xgboost import XGBClassifier\n",
    "from sklearn.metrics import precision_score, accuracy_score\n",
    "from tqdm import tqdm\n",
    "\n",
    "fix_seed = 42"
   ],
   "outputs": [],
   "execution_count": 2
  },
  {
   "metadata": {
    "ExecuteTime": {
     "end_time": "2024-09-22T18:37:37.151891Z",
     "start_time": "2024-09-22T18:37:37.146610Z"
    }
   },
   "cell_type": "code",
   "source": [
    "def preprocess_text(text):\n",
    "    text = text.lower()\n",
    "    text = text.translate(str.maketrans('', '', string.punctuation))\n",
    "    return text\n",
    "\n",
    "def get_train_val_test_split(X, y):\n",
    "    X_train = X[X['subset'] == 'train']\n",
    "    y_train = y[X['subset'] == 'train']\n",
    "    \n",
    "    X_val = X[X['subset'] == 'val']\n",
    "    y_val = y[X['subset'] == 'val']\n",
    "    \n",
    "    X_test = X[X['subset'] == 'test']\n",
    "    y_test = y[X['subset'] == 'test']\n",
    "    \n",
    "    X_train = X_train.drop('subset', axis=1)\n",
    "    X_val = X_val.drop('subset', axis=1)\n",
    "    X_test = X_test.drop('subset', axis=1)\n",
    "    \n",
    "    return X_train, y_train, X_val, y_val, X_test, y_test"
   ],
   "id": "c371f932578d2c1a",
   "outputs": [],
   "execution_count": 3
  },
  {
   "metadata": {
    "ExecuteTime": {
     "end_time": "2024-09-22T18:37:37.348487Z",
     "start_time": "2024-09-22T18:37:37.158269Z"
    }
   },
   "cell_type": "code",
   "source": [
    "textual_dataset_original = pd.read_csv('textual_data_version6_original.csv')\n",
    "textual_dataset_oversampled = pd.read_csv('textual_data_version6_oversampled.csv')\n",
    "    \n",
    "textual_dataset_original.shape, textual_dataset_oversampled.shape"
   ],
   "id": "a76d8e0472c53fd1",
   "outputs": [
    {
     "data": {
      "text/plain": [
       "((4466, 6), (7214, 6))"
      ]
     },
     "execution_count": 4,
     "metadata": {},
     "output_type": "execute_result"
    }
   ],
   "execution_count": 4
  },
  {
   "metadata": {
    "ExecuteTime": {
     "end_time": "2024-09-22T18:37:39.132061Z",
     "start_time": "2024-09-22T18:37:39.121512Z"
    }
   },
   "cell_type": "code",
   "source": [
    "def preprocess_and_get_X_y(dataset):\n",
    "    dataset['text'] = dataset['text'].apply(preprocess_text)\n",
    "    X = dataset.drop(['cik', 'ticker', 'label', 'report_datetime'], axis=1)\n",
    "    y = dataset['label']\n",
    "    \n",
    "    return X, y\n",
    "\n",
    "def get_subsets(_X, _y, concat_train_and_test=True):\n",
    "    X_train, y_train, X_val, y_val, X_test, y_test = get_train_val_test_split(_X, _y)\n",
    "    \n",
    "    X_train = X_train['text']\n",
    "    X_val = X_val['text']\n",
    "    X_test = X_test['text']\n",
    "    \n",
    "    if concat_train_and_test:\n",
    "        X_train_val = pd.concat([X_train, X_val])\n",
    "        y_train_val = pd.concat([y_train, y_val])\n",
    "        \n",
    "        print(f\"X_train_val shape: {X_train_val.shape}\")\n",
    "        print(f\"X_test shape: {X_test.shape}\")\n",
    "        \n",
    "        return X_train_val, y_train_val, X_test, y_test\n",
    "\n",
    "    print(f\"X_train shape: {X_train.shape}\")\n",
    "    print(f\"X_val shape: {X_val.shape}\")\n",
    "    print(f\"X_test shape: {X_test.shape}\")\n",
    "    \n",
    "    return X_train, y_train, X_val, y_val, X_test, y_test"
   ],
   "id": "457318e777f22026",
   "outputs": [],
   "execution_count": 5
  },
  {
   "metadata": {
    "ExecuteTime": {
     "end_time": "2024-09-22T18:47:15.311735Z",
     "start_time": "2024-09-22T18:47:15.301946Z"
    }
   },
   "cell_type": "code",
   "source": [
    "def get_classifiers(random_state=43):\n",
    "    randomForestClassifier = RandomForestClassifier(random_state=random_state)\n",
    "    gradientBoostingClassifier = GradientBoostingClassifier(random_state=random_state)\n",
    "    adaBoostClassifier = AdaBoostClassifier(random_state=random_state, algorithm='SAMME')\n",
    "    extraTreesClassifier = ExtraTreesClassifier(random_state=random_state)\n",
    "    baggingClassifier = BaggingClassifier(random_state=random_state)\n",
    "    logisticRegression = LogisticRegression(random_state=random_state, max_iter=300)\n",
    "    svc = SVC(random_state=random_state)\n",
    "    decisionTreeClassifier = DecisionTreeClassifier(random_state=random_state)\n",
    "    kNeighborsClassifier = KNeighborsClassifier(weights='uniform', p=2, n_neighbors=7, leaf_size=10, algorithm='brute')\n",
    "    gaussianNB = GaussianNB()\n",
    "    mlpClassifier = MLPClassifier(hidden_layer_sizes=(16, 16),\n",
    "                               batch_size=64,\n",
    "                               max_iter=300,\n",
    "                               shuffle=False,\n",
    "                               random_state=random_state,\n",
    "                               early_stopping=True,\n",
    "                               beta_2=0.99,\n",
    "                               n_iter_no_change=10)\n",
    "    xgbClassifier = XGBClassifier(random_state=random_state)\n",
    "    # \n",
    "    # return [xgbClassifier, randomForestClassifier, gradientBoostingClassifier, adaBoostClassifier, extraTreesClassifier, baggingClassifier, logisticRegression, svc, decisionTreeClassifier, kNeighborsClassifier, gaussianNB, mlpClassifier]\n",
    "    return [kNeighborsClassifier]"
   ],
   "id": "55d5aad0f942babf",
   "outputs": [],
   "execution_count": 18
  },
  {
   "metadata": {
    "ExecuteTime": {
     "end_time": "2024-09-22T18:47:17.628668Z",
     "start_time": "2024-09-22T18:47:17.385402Z"
    }
   },
   "cell_type": "code",
   "source": [
    "X_original, y_original = preprocess_and_get_X_y(textual_dataset_original)\n",
    "X_oversampled, y_oversampled = preprocess_and_get_X_y(textual_dataset_oversampled)\n",
    "\n",
    "X_original_train, y_original_train, X_original_val, y_original_val, X_original_test, y_original_test =(\n",
    "    get_subsets(X_original, y_original, concat_train_and_test=False))\n",
    "\n",
    "X_oversampled_train, y_oversampled_train, X_oversampled_val, y_oversampled_val, X_oversampled_test, y_oversampled_test =( \n",
    "    get_subsets(X_oversampled, y_oversampled, concat_train_and_test=False))\n",
    "\n",
    "datasets = [\n",
    "    [X_original_train, X_original_test, y_original_train, y_original_test],\n",
    "    [X_oversampled_train, X_oversampled_test, y_oversampled_train, y_oversampled_test]\n",
    "]"
   ],
   "id": "e6b9241b3868617e",
   "outputs": [
    {
     "name": "stdout",
     "output_type": "stream",
     "text": [
      "X_train shape: (3563,)\n",
      "X_val shape: (225,)\n",
      "X_test shape: (678,)\n",
      "X_train shape: (5760,)\n",
      "X_val shape: (363,)\n",
      "X_test shape: (1091,)\n"
     ]
    }
   ],
   "execution_count": 19
  },
  {
   "metadata": {
    "ExecuteTime": {
     "end_time": "2024-09-22T18:47:45.694697Z",
     "start_time": "2024-09-22T18:47:40.466852Z"
    }
   },
   "cell_type": "code",
   "source": [
    "results = []\n",
    "\n",
    "for X_train, X_test, y_train, y_test in datasets:\n",
    "    \n",
    "    results_tmp = {}\n",
    "    \n",
    "    vectorizer = TfidfVectorizer(max_features=1000)\n",
    "    X_train_features = vectorizer.fit_transform(X_train)\n",
    "    X_test_features = vectorizer.transform(X_test)\n",
    "\n",
    "    for j in tqdm(range(5)):\n",
    "        random_state = fix_seed + j\n",
    "        classifiers = get_classifiers(random_state=random_state)\n",
    "        \n",
    "        for classifier in classifiers:\n",
    "            classifier.fit(X_train_features, y_train)\n",
    "            y_pred = classifier.predict(X_test_features)\n",
    "            \n",
    "            accuracy = accuracy_score(y_test, y_pred)\n",
    "            precision = precision_score(y_test, y_pred)\n",
    "            \n",
    "            classifier_name = classifier.__class__.__name__\n",
    "            if classifier_name not in results_tmp:\n",
    "                results_tmp[classifier_name] = [[accuracy, precision]]\n",
    "            else:\n",
    "                results_tmp[classifier_name].append([accuracy, precision])\n",
    "                \n",
    "            del classifier\n",
    "                \n",
    "    results_mean = {k: np.mean(v, axis=0) for k, v in results_tmp.items()}\n",
    "    results_mean = [[k] + v.tolist() for k, v in results_mean.items()]\n",
    "    results_df = pd.DataFrame(results_mean, columns=['classifier', 'accuracy', 'precision'])\n",
    "    \n",
    "    results.append(results_df)"
   ],
   "id": "b8daa3369e59d8b4",
   "outputs": [
    {
     "name": "stderr",
     "output_type": "stream",
     "text": [
      "100%|██████████| 5/5 [00:00<00:00,  5.66it/s]\n",
      "100%|██████████| 5/5 [00:02<00:00,  2.28it/s]\n"
     ]
    }
   ],
   "execution_count": 20
  },
  {
   "metadata": {
    "ExecuteTime": {
     "end_time": "2024-09-22T18:47:47.197121Z",
     "start_time": "2024-09-22T18:47:47.183163Z"
    }
   },
   "cell_type": "code",
   "source": "results[0]",
   "id": "8fb3c86858c198f2",
   "outputs": [
    {
     "data": {
      "text/plain": [
       "             classifier  accuracy  precision\n",
       "0  KNeighborsClassifier  0.985251        1.0"
      ],
      "text/html": [
       "<div>\n",
       "<style scoped>\n",
       "    .dataframe tbody tr th:only-of-type {\n",
       "        vertical-align: middle;\n",
       "    }\n",
       "\n",
       "    .dataframe tbody tr th {\n",
       "        vertical-align: top;\n",
       "    }\n",
       "\n",
       "    .dataframe thead th {\n",
       "        text-align: right;\n",
       "    }\n",
       "</style>\n",
       "<table border=\"1\" class=\"dataframe\">\n",
       "  <thead>\n",
       "    <tr style=\"text-align: right;\">\n",
       "      <th></th>\n",
       "      <th>classifier</th>\n",
       "      <th>accuracy</th>\n",
       "      <th>precision</th>\n",
       "    </tr>\n",
       "  </thead>\n",
       "  <tbody>\n",
       "    <tr>\n",
       "      <th>0</th>\n",
       "      <td>KNeighborsClassifier</td>\n",
       "      <td>0.985251</td>\n",
       "      <td>1.0</td>\n",
       "    </tr>\n",
       "  </tbody>\n",
       "</table>\n",
       "</div>"
      ]
     },
     "execution_count": 21,
     "metadata": {},
     "output_type": "execute_result"
    }
   ],
   "execution_count": 21
  },
  {
   "metadata": {
    "ExecuteTime": {
     "end_time": "2024-09-22T18:39:06.873568Z",
     "start_time": "2024-09-22T18:39:06.565794Z"
    }
   },
   "cell_type": "code",
   "source": [
    "import matplotlib.pyplot as plt\n",
    "import numpy as np\n",
    "\n",
    "fig, axes = plt.subplots(len(results), 1, figsize=(15, 6 * len(results)))\n",
    "\n",
    "titles = ['Wyniki klasyfikatorów na zbiorze originalnym', 'Wyniki klasyfikatorów na zbiorze nadpróbkowanym']\n",
    "\n",
    "fig.suptitle('Wyniki klasyfikatorów na części tekstowej zbioru.\\nReprezentacja utworzona przez model TF-IDF', fontsize=16)\n",
    "\n",
    "for i, df in enumerate(results):\n",
    "    bar_width = 0.25\n",
    "    bar_positions = np.arange(len(df['classifier']))\n",
    "    \n",
    "    axes[i].bar(bar_positions, df['accuracy'], bar_width, label='Dokładność', alpha=0.7)\n",
    "    axes[i].bar(bar_positions + bar_width, df['precision'], bar_width, label='Precyzja', alpha=0.7)\n",
    "    \n",
    "    axes[i].set_title(f'{titles[i]}', fontsize=14)\n",
    "    axes[i].set_xlabel('Klasyfikator')\n",
    "    axes[i].set_ylabel('Wartość')\n",
    "    axes[i].set_xticks(bar_positions + bar_width / 2)\n",
    "    axes[i].set_xticklabels(df['classifier'], rotation=45)\n",
    "    axes[i].legend()\n",
    "    \n",
    "for i, _ in enumerate(results):\n",
    "    for spine in axes[i].spines.values():\n",
    "        spine.set_edgecolor('black')\n",
    "        spine.set_linewidth(1)\n",
    "\n",
    "plt.tight_layout(rect=(0, 0, 1, 0.95))\n",
    "plt.show()\n"
   ],
   "id": "e97f38ec12c2a54a",
   "outputs": [
    {
     "data": {
      "text/plain": [
       "<Figure size 1500x1200 with 2 Axes>"
      ],
      "image/png": "[encoded data removed]"
     },
     "metadata": {},
     "output_type": "display_data"
    }
   ],
   "execution_count": 12
  },
  {
   "metadata": {
    "ExecuteTime": {
     "end_time": "2024-09-22T13:03:10.641788Z",
     "start_time": "2024-09-22T13:03:08.784027Z"
    }
   },
   "cell_type": "code",
   "source": [
    "from investment_system.data_utils import get_multimodal_data\n",
    "import pandas as pd\n",
    "from sklearn.feature_extraction.text import TfidfVectorizer\n",
    "\n",
    "(X_numerical_train, y_numerical_train, X_numerical_val, y_numerical_val, X_numerical_test, y_numerical_test,\n",
    "            X_textual_train, y_textual_train, X_textual_val, y_textual_val, X_textual_test, y_textual_test) = get_multimodal_data(drop_all_columns=True)"
   ],
   "id": "a4264889cfe4656e",
   "outputs": [],
   "execution_count": 2
  },
  {
   "metadata": {
    "ExecuteTime": {
     "end_time": "2024-09-22T13:03:11.141983Z",
     "start_time": "2024-09-22T13:03:10.641788Z"
    }
   },
   "cell_type": "code",
   "source": [
    "tf_idf_vectorizer = TfidfVectorizer(max_features=1000)\n",
    "\n",
    "X_textual_train_features = tf_idf_vectorizer.fit_transform(X_textual_train['text'].values)\n",
    "X_textual_val_features = tf_idf_vectorizer.transform(X_textual_val['text'].values)\n",
    "X_textual_test_features = tf_idf_vectorizer.transform(X_textual_test['text'].values)"
   ],
   "id": "a86532c8cf40bf1b",
   "outputs": [],
   "execution_count": 3
  },
  {
   "metadata": {
    "ExecuteTime": {
     "end_time": "2024-09-22T13:02:36.097282Z",
     "start_time": "2024-09-22T13:02:35.597900Z"
    }
   },
   "cell_type": "code",
   "source": [
    "# tf_idf_vectorizer = TfidfVectorizer(max_features=1000)\n",
    "# \n",
    "# X_textual_train_val_features = tf_idf_vectorizer.fit_transform(pd.concat([X_textual_train['text'], X_textual_val['text']]))\n",
    "# y_textual_train_val = pd.concat([y_textual_train, y_textual_val])\n",
    "# \n",
    "# X_textual_test_features = tf_idf_vectorizer.transform(X_textual_test['text'].values)"
   ],
   "id": "e1bc4b5ef86849b8",
   "outputs": [],
   "execution_count": 2
  },
  {
   "metadata": {},
   "cell_type": "markdown",
   "source": "### RandomizedSearchCV for KNeighborsClassifier",
   "id": "b39b84279ba36b69"
  },
  {
   "metadata": {
    "ExecuteTime": {
     "end_time": "2024-09-22T13:03:31.163241Z",
     "start_time": "2024-09-22T13:03:31.065984Z"
    }
   },
   "cell_type": "code",
   "source": [
    "from sklearn.model_selection import RandomizedSearchCV\n",
    "from xgboost import XGBClassifier\n",
    "from sklearn.metrics import accuracy_score, precision_score\n",
    "from sklearn.neighbors import KNeighborsClassifier\n",
    "from tqdm import tqdm\n",
    "import numpy as np"
   ],
   "id": "d80a21c669db6e1c",
   "outputs": [],
   "execution_count": 4
  },
  {
   "metadata": {
    "ExecuteTime": {
     "end_time": "2024-09-22T12:33:51.444739500Z",
     "start_time": "2024-09-22T12:30:13.893307Z"
    }
   },
   "cell_type": "code",
   "source": [
    "kNeighborsClassifier = KNeighborsClassifier()\n",
    "\n",
    "# Define a hyperparameter grid\n",
    "param_grid_kNeighborsClassifier = {\n",
    "    'n_neighbors': [3, 5, 7, 9, 11],\n",
    "    'weights': ['uniform', 'distance'],\n",
    "    'algorithm': ['auto', 'ball_tree', 'kd_tree', 'brute'],\n",
    "    'leaf_size': [10, 20, 30, 40, 50],\n",
    "    'p': [1, 2]\n",
    "}\n",
    "\n",
    "early_stopping_rounds = 10\n",
    "\n",
    "grid_search = RandomizedSearchCV(\n",
    "    estimator=kNeighborsClassifier, \n",
    "    param_distributions=param_grid_kNeighborsClassifier,\n",
    "    n_iter=40,\n",
    "    scoring='accuracy',\n",
    "    n_jobs=1,\n",
    "    verbose=1,\n",
    "    random_state=42\n",
    ")\n",
    "\n",
    "grid_search.fit(X_textual_train_val_features, y_textual_train_val)\n",
    "\n",
    "print(\"Best hyperparameters:\", grid_search.best_params_)\n",
    "\n",
    "best_model = grid_search.best_estimator_\n",
    "y_pred = best_model.predict(X_textual_test_features)\n",
    "\n",
    "test_accuracy = accuracy_score(y_textual_test, y_pred)\n",
    "test_precision = precision_score(y_textual_test, y_pred)\n",
    "\n",
    "print(f\"Test Accuracy: {test_accuracy:.4f}\")\n",
    "print(f\"Test Precision: {test_precision:.4f}\")\n"
   ],
   "id": "ef6549bdba0758bf",
   "outputs": [
    {
     "name": "stdout",
     "output_type": "stream",
     "text": [
      "Fitting 5 folds for each of 40 candidates, totalling 200 fits\n"
     ]
    },
    {
     "name": "stderr",
     "output_type": "stream",
     "text": [
      "C:\\Users\\grzeg\\PycharmProjects\\bankruptcy-prophet-new\\bankruptcy-prophet\\.venv\\Lib\\site-packages\\sklearn\\neighbors\\_base.py:583: UserWarning: cannot use tree with sparse input: using brute force\n",
      "  warnings.warn(\"cannot use tree with sparse input: using brute force\")\n",
      "C:\\Users\\grzeg\\PycharmProjects\\bankruptcy-prophet-new\\bankruptcy-prophet\\.venv\\Lib\\site-packages\\joblib\\externals\\loky\\backend\\context.py:136: UserWarning: Could not find the number of physical cores for the following reason:\n",
      "found 0 physical cores < 1\n",
      "Returning the number of logical cores instead. You can silence this warning by setting LOKY_MAX_CPU_COUNT to the number of cores you want to use.\n",
      "  warnings.warn(\n",
      "  File \"C:\\Users\\grzeg\\PycharmProjects\\bankruptcy-prophet-new\\bankruptcy-prophet\\.venv\\Lib\\site-packages\\joblib\\externals\\loky\\backend\\context.py\", line 282, in _count_physical_cores\n",
      "    raise ValueError(f\"found {cpu_count_physical} physical cores < 1\")\n",
      "C:\\Users\\grzeg\\PycharmProjects\\bankruptcy-prophet-new\\bankruptcy-prophet\\.venv\\Lib\\site-packages\\sklearn\\neighbors\\_base.py:583: UserWarning: cannot use tree with sparse input: using brute force\n",
      "  warnings.warn(\"cannot use tree with sparse input: using brute force\")\n",
      "C:\\Users\\grzeg\\PycharmProjects\\bankruptcy-prophet-new\\bankruptcy-prophet\\.venv\\Lib\\site-packages\\sklearn\\neighbors\\_base.py:583: UserWarning: cannot use tree with sparse input: using brute force\n",
      "  warnings.warn(\"cannot use tree with sparse input: using brute force\")\n",
      "C:\\Users\\grzeg\\PycharmProjects\\bankruptcy-prophet-new\\bankruptcy-prophet\\.venv\\Lib\\site-packages\\sklearn\\neighbors\\_base.py:583: UserWarning: cannot use tree with sparse input: using brute force\n",
      "  warnings.warn(\"cannot use tree with sparse input: using brute force\")\n",
      "C:\\Users\\grzeg\\PycharmProjects\\bankruptcy-prophet-new\\bankruptcy-prophet\\.venv\\Lib\\site-packages\\sklearn\\neighbors\\_base.py:583: UserWarning: cannot use tree with sparse input: using brute force\n",
      "  warnings.warn(\"cannot use tree with sparse input: using brute force\")\n",
      "C:\\Users\\grzeg\\PycharmProjects\\bankruptcy-prophet-new\\bankruptcy-prophet\\.venv\\Lib\\site-packages\\sklearn\\neighbors\\_base.py:583: UserWarning: cannot use tree with sparse input: using brute force\n",
      "  warnings.warn(\"cannot use tree with sparse input: using brute force\")\n",
      "C:\\Users\\grzeg\\PycharmProjects\\bankruptcy-prophet-new\\bankruptcy-prophet\\.venv\\Lib\\site-packages\\sklearn\\neighbors\\_base.py:583: UserWarning: cannot use tree with sparse input: using brute force\n",
      "  warnings.warn(\"cannot use tree with sparse input: using brute force\")\n",
      "C:\\Users\\grzeg\\PycharmProjects\\bankruptcy-prophet-new\\bankruptcy-prophet\\.venv\\Lib\\site-packages\\sklearn\\neighbors\\_base.py:583: UserWarning: cannot use tree with sparse input: using brute force\n",
      "  warnings.warn(\"cannot use tree with sparse input: using brute force\")\n",
      "C:\\Users\\grzeg\\PycharmProjects\\bankruptcy-prophet-new\\bankruptcy-prophet\\.venv\\Lib\\site-packages\\sklearn\\neighbors\\_base.py:583: UserWarning: cannot use tree with sparse input: using brute force\n",
      "  warnings.warn(\"cannot use tree with sparse input: using brute force\")\n",
      "C:\\Users\\grzeg\\PycharmProjects\\bankruptcy-prophet-new\\bankruptcy-prophet\\.venv\\Lib\\site-packages\\sklearn\\neighbors\\_base.py:583: UserWarning: cannot use tree with sparse input: using brute force\n",
      "  warnings.warn(\"cannot use tree with sparse input: using brute force\")\n",
      "C:\\Users\\grzeg\\PycharmProjects\\bankruptcy-prophet-new\\bankruptcy-prophet\\.venv\\Lib\\site-packages\\sklearn\\neighbors\\_base.py:583: UserWarning: cannot use tree with sparse input: using brute force\n",
      "  warnings.warn(\"cannot use tree with sparse input: using brute force\")\n",
      "C:\\Users\\grzeg\\PycharmProjects\\bankruptcy-prophet-new\\bankruptcy-prophet\\.venv\\Lib\\site-packages\\sklearn\\neighbors\\_base.py:583: UserWarning: cannot use tree with sparse input: using brute force\n",
      "  warnings.warn(\"cannot use tree with sparse input: using brute force\")\n",
      "C:\\Users\\grzeg\\PycharmProjects\\bankruptcy-prophet-new\\bankruptcy-prophet\\.venv\\Lib\\site-packages\\sklearn\\neighbors\\_base.py:583: UserWarning: cannot use tree with sparse input: using brute force\n",
      "  warnings.warn(\"cannot use tree with sparse input: using brute force\")\n",
      "C:\\Users\\grzeg\\PycharmProjects\\bankruptcy-prophet-new\\bankruptcy-prophet\\.venv\\Lib\\site-packages\\sklearn\\neighbors\\_base.py:583: UserWarning: cannot use tree with sparse input: using brute force\n",
      "  warnings.warn(\"cannot use tree with sparse input: using brute force\")\n",
      "C:\\Users\\grzeg\\PycharmProjects\\bankruptcy-prophet-new\\bankruptcy-prophet\\.venv\\Lib\\site-packages\\sklearn\\neighbors\\_base.py:583: UserWarning: cannot use tree with sparse input: using brute force\n",
      "  warnings.warn(\"cannot use tree with sparse input: using brute force\")\n",
      "C:\\Users\\grzeg\\PycharmProjects\\bankruptcy-prophet-new\\bankruptcy-prophet\\.venv\\Lib\\site-packages\\sklearn\\neighbors\\_base.py:583: UserWarning: cannot use tree with sparse input: using brute force\n",
      "  warnings.warn(\"cannot use tree with sparse input: using brute force\")\n",
      "C:\\Users\\grzeg\\PycharmProjects\\bankruptcy-prophet-new\\bankruptcy-prophet\\.venv\\Lib\\site-packages\\sklearn\\neighbors\\_base.py:583: UserWarning: cannot use tree with sparse input: using brute force\n",
      "  warnings.warn(\"cannot use tree with sparse input: using brute force\")\n",
      "C:\\Users\\grzeg\\PycharmProjects\\bankruptcy-prophet-new\\bankruptcy-prophet\\.venv\\Lib\\site-packages\\sklearn\\neighbors\\_base.py:583: UserWarning: cannot use tree with sparse input: using brute force\n",
      "  warnings.warn(\"cannot use tree with sparse input: using brute force\")\n",
      "C:\\Users\\grzeg\\PycharmProjects\\bankruptcy-prophet-new\\bankruptcy-prophet\\.venv\\Lib\\site-packages\\sklearn\\neighbors\\_base.py:583: UserWarning: cannot use tree with sparse input: using brute force\n",
      "  warnings.warn(\"cannot use tree with sparse input: using brute force\")\n",
      "C:\\Users\\grzeg\\PycharmProjects\\bankruptcy-prophet-new\\bankruptcy-prophet\\.venv\\Lib\\site-packages\\sklearn\\neighbors\\_base.py:583: UserWarning: cannot use tree with sparse input: using brute force\n",
      "  warnings.warn(\"cannot use tree with sparse input: using brute force\")\n",
      "C:\\Users\\grzeg\\PycharmProjects\\bankruptcy-prophet-new\\bankruptcy-prophet\\.venv\\Lib\\site-packages\\sklearn\\neighbors\\_base.py:583: UserWarning: cannot use tree with sparse input: using brute force\n",
      "  warnings.warn(\"cannot use tree with sparse input: using brute force\")\n",
      "C:\\Users\\grzeg\\PycharmProjects\\bankruptcy-prophet-new\\bankruptcy-prophet\\.venv\\Lib\\site-packages\\sklearn\\neighbors\\_base.py:583: UserWarning: cannot use tree with sparse input: using brute force\n",
      "  warnings.warn(\"cannot use tree with sparse input: using brute force\")\n",
      "C:\\Users\\grzeg\\PycharmProjects\\bankruptcy-prophet-new\\bankruptcy-prophet\\.venv\\Lib\\site-packages\\sklearn\\neighbors\\_base.py:583: UserWarning: cannot use tree with sparse input: using brute force\n",
      "  warnings.warn(\"cannot use tree with sparse input: using brute force\")\n",
      "C:\\Users\\grzeg\\PycharmProjects\\bankruptcy-prophet-new\\bankruptcy-prophet\\.venv\\Lib\\site-packages\\sklearn\\neighbors\\_base.py:583: UserWarning: cannot use tree with sparse input: using brute force\n",
      "  warnings.warn(\"cannot use tree with sparse input: using brute force\")\n",
      "C:\\Users\\grzeg\\PycharmProjects\\bankruptcy-prophet-new\\bankruptcy-prophet\\.venv\\Lib\\site-packages\\sklearn\\neighbors\\_base.py:583: UserWarning: cannot use tree with sparse input: using brute force\n",
      "  warnings.warn(\"cannot use tree with sparse input: using brute force\")\n",
      "C:\\Users\\grzeg\\PycharmProjects\\bankruptcy-prophet-new\\bankruptcy-prophet\\.venv\\Lib\\site-packages\\sklearn\\neighbors\\_base.py:583: UserWarning: cannot use tree with sparse input: using brute force\n",
      "  warnings.warn(\"cannot use tree with sparse input: using brute force\")\n",
      "C:\\Users\\grzeg\\PycharmProjects\\bankruptcy-prophet-new\\bankruptcy-prophet\\.venv\\Lib\\site-packages\\sklearn\\neighbors\\_base.py:583: UserWarning: cannot use tree with sparse input: using brute force\n",
      "  warnings.warn(\"cannot use tree with sparse input: using brute force\")\n",
      "C:\\Users\\grzeg\\PycharmProjects\\bankruptcy-prophet-new\\bankruptcy-prophet\\.venv\\Lib\\site-packages\\sklearn\\neighbors\\_base.py:583: UserWarning: cannot use tree with sparse input: using brute force\n",
      "  warnings.warn(\"cannot use tree with sparse input: using brute force\")\n",
      "C:\\Users\\grzeg\\PycharmProjects\\bankruptcy-prophet-new\\bankruptcy-prophet\\.venv\\Lib\\site-packages\\sklearn\\neighbors\\_base.py:583: UserWarning: cannot use tree with sparse input: using brute force\n",
      "  warnings.warn(\"cannot use tree with sparse input: using brute force\")\n",
      "C:\\Users\\grzeg\\PycharmProjects\\bankruptcy-prophet-new\\bankruptcy-prophet\\.venv\\Lib\\site-packages\\sklearn\\neighbors\\_base.py:583: UserWarning: cannot use tree with sparse input: using brute force\n",
      "  warnings.warn(\"cannot use tree with sparse input: using brute force\")\n",
      "C:\\Users\\grzeg\\PycharmProjects\\bankruptcy-prophet-new\\bankruptcy-prophet\\.venv\\Lib\\site-packages\\sklearn\\neighbors\\_base.py:583: UserWarning: cannot use tree with sparse input: using brute force\n",
      "  warnings.warn(\"cannot use tree with sparse input: using brute force\")\n",
      "C:\\Users\\grzeg\\PycharmProjects\\bankruptcy-prophet-new\\bankruptcy-prophet\\.venv\\Lib\\site-packages\\sklearn\\neighbors\\_base.py:583: UserWarning: cannot use tree with sparse input: using brute force\n",
      "  warnings.warn(\"cannot use tree with sparse input: using brute force\")\n",
      "C:\\Users\\grzeg\\PycharmProjects\\bankruptcy-prophet-new\\bankruptcy-prophet\\.venv\\Lib\\site-packages\\sklearn\\neighbors\\_base.py:583: UserWarning: cannot use tree with sparse input: using brute force\n",
      "  warnings.warn(\"cannot use tree with sparse input: using brute force\")\n",
      "C:\\Users\\grzeg\\PycharmProjects\\bankruptcy-prophet-new\\bankruptcy-prophet\\.venv\\Lib\\site-packages\\sklearn\\neighbors\\_base.py:583: UserWarning: cannot use tree with sparse input: using brute force\n",
      "  warnings.warn(\"cannot use tree with sparse input: using brute force\")\n",
      "C:\\Users\\grzeg\\PycharmProjects\\bankruptcy-prophet-new\\bankruptcy-prophet\\.venv\\Lib\\site-packages\\sklearn\\neighbors\\_base.py:583: UserWarning: cannot use tree with sparse input: using brute force\n",
      "  warnings.warn(\"cannot use tree with sparse input: using brute force\")\n",
      "C:\\Users\\grzeg\\PycharmProjects\\bankruptcy-prophet-new\\bankruptcy-prophet\\.venv\\Lib\\site-packages\\sklearn\\neighbors\\_base.py:583: UserWarning: cannot use tree with sparse input: using brute force\n",
      "  warnings.warn(\"cannot use tree with sparse input: using brute force\")\n",
      "C:\\Users\\grzeg\\PycharmProjects\\bankruptcy-prophet-new\\bankruptcy-prophet\\.venv\\Lib\\site-packages\\sklearn\\neighbors\\_base.py:583: UserWarning: cannot use tree with sparse input: using brute force\n",
      "  warnings.warn(\"cannot use tree with sparse input: using brute force\")\n",
      "C:\\Users\\grzeg\\PycharmProjects\\bankruptcy-prophet-new\\bankruptcy-prophet\\.venv\\Lib\\site-packages\\sklearn\\neighbors\\_base.py:583: UserWarning: cannot use tree with sparse input: using brute force\n",
      "  warnings.warn(\"cannot use tree with sparse input: using brute force\")\n",
      "C:\\Users\\grzeg\\PycharmProjects\\bankruptcy-prophet-new\\bankruptcy-prophet\\.venv\\Lib\\site-packages\\sklearn\\neighbors\\_base.py:583: UserWarning: cannot use tree with sparse input: using brute force\n",
      "  warnings.warn(\"cannot use tree with sparse input: using brute force\")\n",
      "C:\\Users\\grzeg\\PycharmProjects\\bankruptcy-prophet-new\\bankruptcy-prophet\\.venv\\Lib\\site-packages\\sklearn\\neighbors\\_base.py:583: UserWarning: cannot use tree with sparse input: using brute force\n",
      "  warnings.warn(\"cannot use tree with sparse input: using brute force\")\n",
      "C:\\Users\\grzeg\\PycharmProjects\\bankruptcy-prophet-new\\bankruptcy-prophet\\.venv\\Lib\\site-packages\\sklearn\\neighbors\\_base.py:583: UserWarning: cannot use tree with sparse input: using brute force\n",
      "  warnings.warn(\"cannot use tree with sparse input: using brute force\")\n",
      "C:\\Users\\grzeg\\PycharmProjects\\bankruptcy-prophet-new\\bankruptcy-prophet\\.venv\\Lib\\site-packages\\sklearn\\neighbors\\_base.py:583: UserWarning: cannot use tree with sparse input: using brute force\n",
      "  warnings.warn(\"cannot use tree with sparse input: using brute force\")\n",
      "C:\\Users\\grzeg\\PycharmProjects\\bankruptcy-prophet-new\\bankruptcy-prophet\\.venv\\Lib\\site-packages\\sklearn\\neighbors\\_base.py:583: UserWarning: cannot use tree with sparse input: using brute force\n",
      "  warnings.warn(\"cannot use tree with sparse input: using brute force\")\n",
      "C:\\Users\\grzeg\\PycharmProjects\\bankruptcy-prophet-new\\bankruptcy-prophet\\.venv\\Lib\\site-packages\\sklearn\\neighbors\\_base.py:583: UserWarning: cannot use tree with sparse input: using brute force\n",
      "  warnings.warn(\"cannot use tree with sparse input: using brute force\")\n",
      "C:\\Users\\grzeg\\PycharmProjects\\bankruptcy-prophet-new\\bankruptcy-prophet\\.venv\\Lib\\site-packages\\sklearn\\neighbors\\_base.py:583: UserWarning: cannot use tree with sparse input: using brute force\n",
      "  warnings.warn(\"cannot use tree with sparse input: using brute force\")\n",
      "C:\\Users\\grzeg\\PycharmProjects\\bankruptcy-prophet-new\\bankruptcy-prophet\\.venv\\Lib\\site-packages\\sklearn\\neighbors\\_base.py:583: UserWarning: cannot use tree with sparse input: using brute force\n",
      "  warnings.warn(\"cannot use tree with sparse input: using brute force\")\n",
      "C:\\Users\\grzeg\\PycharmProjects\\bankruptcy-prophet-new\\bankruptcy-prophet\\.venv\\Lib\\site-packages\\sklearn\\neighbors\\_base.py:583: UserWarning: cannot use tree with sparse input: using brute force\n",
      "  warnings.warn(\"cannot use tree with sparse input: using brute force\")\n",
      "C:\\Users\\grzeg\\PycharmProjects\\bankruptcy-prophet-new\\bankruptcy-prophet\\.venv\\Lib\\site-packages\\sklearn\\neighbors\\_base.py:583: UserWarning: cannot use tree with sparse input: using brute force\n",
      "  warnings.warn(\"cannot use tree with sparse input: using brute force\")\n",
      "C:\\Users\\grzeg\\PycharmProjects\\bankruptcy-prophet-new\\bankruptcy-prophet\\.venv\\Lib\\site-packages\\sklearn\\neighbors\\_base.py:583: UserWarning: cannot use tree with sparse input: using brute force\n",
      "  warnings.warn(\"cannot use tree with sparse input: using brute force\")\n",
      "C:\\Users\\grzeg\\PycharmProjects\\bankruptcy-prophet-new\\bankruptcy-prophet\\.venv\\Lib\\site-packages\\sklearn\\neighbors\\_base.py:583: UserWarning: cannot use tree with sparse input: using brute force\n",
      "  warnings.warn(\"cannot use tree with sparse input: using brute force\")\n",
      "C:\\Users\\grzeg\\PycharmProjects\\bankruptcy-prophet-new\\bankruptcy-prophet\\.venv\\Lib\\site-packages\\sklearn\\neighbors\\_base.py:583: UserWarning: cannot use tree with sparse input: using brute force\n",
      "  warnings.warn(\"cannot use tree with sparse input: using brute force\")\n",
      "C:\\Users\\grzeg\\PycharmProjects\\bankruptcy-prophet-new\\bankruptcy-prophet\\.venv\\Lib\\site-packages\\sklearn\\neighbors\\_base.py:583: UserWarning: cannot use tree with sparse input: using brute force\n",
      "  warnings.warn(\"cannot use tree with sparse input: using brute force\")\n",
      "C:\\Users\\grzeg\\PycharmProjects\\bankruptcy-prophet-new\\bankruptcy-prophet\\.venv\\Lib\\site-packages\\sklearn\\neighbors\\_base.py:583: UserWarning: cannot use tree with sparse input: using brute force\n",
      "  warnings.warn(\"cannot use tree with sparse input: using brute force\")\n",
      "C:\\Users\\grzeg\\PycharmProjects\\bankruptcy-prophet-new\\bankruptcy-prophet\\.venv\\Lib\\site-packages\\sklearn\\neighbors\\_base.py:583: UserWarning: cannot use tree with sparse input: using brute force\n",
      "  warnings.warn(\"cannot use tree with sparse input: using brute force\")\n",
      "C:\\Users\\grzeg\\PycharmProjects\\bankruptcy-prophet-new\\bankruptcy-prophet\\.venv\\Lib\\site-packages\\sklearn\\neighbors\\_base.py:583: UserWarning: cannot use tree with sparse input: using brute force\n",
      "  warnings.warn(\"cannot use tree with sparse input: using brute force\")\n",
      "C:\\Users\\grzeg\\PycharmProjects\\bankruptcy-prophet-new\\bankruptcy-prophet\\.venv\\Lib\\site-packages\\sklearn\\neighbors\\_base.py:583: UserWarning: cannot use tree with sparse input: using brute force\n",
      "  warnings.warn(\"cannot use tree with sparse input: using brute force\")\n",
      "C:\\Users\\grzeg\\PycharmProjects\\bankruptcy-prophet-new\\bankruptcy-prophet\\.venv\\Lib\\site-packages\\sklearn\\neighbors\\_base.py:583: UserWarning: cannot use tree with sparse input: using brute force\n",
      "  warnings.warn(\"cannot use tree with sparse input: using brute force\")\n",
      "C:\\Users\\grzeg\\PycharmProjects\\bankruptcy-prophet-new\\bankruptcy-prophet\\.venv\\Lib\\site-packages\\sklearn\\neighbors\\_base.py:583: UserWarning: cannot use tree with sparse input: using brute force\n",
      "  warnings.warn(\"cannot use tree with sparse input: using brute force\")\n",
      "C:\\Users\\grzeg\\PycharmProjects\\bankruptcy-prophet-new\\bankruptcy-prophet\\.venv\\Lib\\site-packages\\sklearn\\neighbors\\_base.py:583: UserWarning: cannot use tree with sparse input: using brute force\n",
      "  warnings.warn(\"cannot use tree with sparse input: using brute force\")\n",
      "C:\\Users\\grzeg\\PycharmProjects\\bankruptcy-prophet-new\\bankruptcy-prophet\\.venv\\Lib\\site-packages\\sklearn\\neighbors\\_base.py:583: UserWarning: cannot use tree with sparse input: using brute force\n",
      "  warnings.warn(\"cannot use tree with sparse input: using brute force\")\n",
      "C:\\Users\\grzeg\\PycharmProjects\\bankruptcy-prophet-new\\bankruptcy-prophet\\.venv\\Lib\\site-packages\\sklearn\\neighbors\\_base.py:583: UserWarning: cannot use tree with sparse input: using brute force\n",
      "  warnings.warn(\"cannot use tree with sparse input: using brute force\")\n",
      "C:\\Users\\grzeg\\PycharmProjects\\bankruptcy-prophet-new\\bankruptcy-prophet\\.venv\\Lib\\site-packages\\sklearn\\neighbors\\_base.py:583: UserWarning: cannot use tree with sparse input: using brute force\n",
      "  warnings.warn(\"cannot use tree with sparse input: using brute force\")\n",
      "C:\\Users\\grzeg\\PycharmProjects\\bankruptcy-prophet-new\\bankruptcy-prophet\\.venv\\Lib\\site-packages\\sklearn\\neighbors\\_base.py:583: UserWarning: cannot use tree with sparse input: using brute force\n",
      "  warnings.warn(\"cannot use tree with sparse input: using brute force\")\n",
      "C:\\Users\\grzeg\\PycharmProjects\\bankruptcy-prophet-new\\bankruptcy-prophet\\.venv\\Lib\\site-packages\\sklearn\\neighbors\\_base.py:583: UserWarning: cannot use tree with sparse input: using brute force\n",
      "  warnings.warn(\"cannot use tree with sparse input: using brute force\")\n",
      "C:\\Users\\grzeg\\PycharmProjects\\bankruptcy-prophet-new\\bankruptcy-prophet\\.venv\\Lib\\site-packages\\sklearn\\neighbors\\_base.py:583: UserWarning: cannot use tree with sparse input: using brute force\n",
      "  warnings.warn(\"cannot use tree with sparse input: using brute force\")\n",
      "C:\\Users\\grzeg\\PycharmProjects\\bankruptcy-prophet-new\\bankruptcy-prophet\\.venv\\Lib\\site-packages\\sklearn\\neighbors\\_base.py:583: UserWarning: cannot use tree with sparse input: using brute force\n",
      "  warnings.warn(\"cannot use tree with sparse input: using brute force\")\n",
      "C:\\Users\\grzeg\\PycharmProjects\\bankruptcy-prophet-new\\bankruptcy-prophet\\.venv\\Lib\\site-packages\\sklearn\\neighbors\\_base.py:583: UserWarning: cannot use tree with sparse input: using brute force\n",
      "  warnings.warn(\"cannot use tree with sparse input: using brute force\")\n",
      "C:\\Users\\grzeg\\PycharmProjects\\bankruptcy-prophet-new\\bankruptcy-prophet\\.venv\\Lib\\site-packages\\sklearn\\neighbors\\_base.py:583: UserWarning: cannot use tree with sparse input: using brute force\n",
      "  warnings.warn(\"cannot use tree with sparse input: using brute force\")\n",
      "C:\\Users\\grzeg\\PycharmProjects\\bankruptcy-prophet-new\\bankruptcy-prophet\\.venv\\Lib\\site-packages\\sklearn\\neighbors\\_base.py:583: UserWarning: cannot use tree with sparse input: using brute force\n",
      "  warnings.warn(\"cannot use tree with sparse input: using brute force\")\n",
      "C:\\Users\\grzeg\\PycharmProjects\\bankruptcy-prophet-new\\bankruptcy-prophet\\.venv\\Lib\\site-packages\\sklearn\\neighbors\\_base.py:583: UserWarning: cannot use tree with sparse input: using brute force\n",
      "  warnings.warn(\"cannot use tree with sparse input: using brute force\")\n",
      "C:\\Users\\grzeg\\PycharmProjects\\bankruptcy-prophet-new\\bankruptcy-prophet\\.venv\\Lib\\site-packages\\sklearn\\neighbors\\_base.py:583: UserWarning: cannot use tree with sparse input: using brute force\n",
      "  warnings.warn(\"cannot use tree with sparse input: using brute force\")\n",
      "C:\\Users\\grzeg\\PycharmProjects\\bankruptcy-prophet-new\\bankruptcy-prophet\\.venv\\Lib\\site-packages\\sklearn\\neighbors\\_base.py:583: UserWarning: cannot use tree with sparse input: using brute force\n",
      "  warnings.warn(\"cannot use tree with sparse input: using brute force\")\n",
      "C:\\Users\\grzeg\\PycharmProjects\\bankruptcy-prophet-new\\bankruptcy-prophet\\.venv\\Lib\\site-packages\\sklearn\\neighbors\\_base.py:583: UserWarning: cannot use tree with sparse input: using brute force\n",
      "  warnings.warn(\"cannot use tree with sparse input: using brute force\")\n",
      "C:\\Users\\grzeg\\PycharmProjects\\bankruptcy-prophet-new\\bankruptcy-prophet\\.venv\\Lib\\site-packages\\sklearn\\neighbors\\_base.py:583: UserWarning: cannot use tree with sparse input: using brute force\n",
      "  warnings.warn(\"cannot use tree with sparse input: using brute force\")\n",
      "C:\\Users\\grzeg\\PycharmProjects\\bankruptcy-prophet-new\\bankruptcy-prophet\\.venv\\Lib\\site-packages\\sklearn\\neighbors\\_base.py:583: UserWarning: cannot use tree with sparse input: using brute force\n",
      "  warnings.warn(\"cannot use tree with sparse input: using brute force\")\n",
      "C:\\Users\\grzeg\\PycharmProjects\\bankruptcy-prophet-new\\bankruptcy-prophet\\.venv\\Lib\\site-packages\\sklearn\\neighbors\\_base.py:583: UserWarning: cannot use tree with sparse input: using brute force\n",
      "  warnings.warn(\"cannot use tree with sparse input: using brute force\")\n",
      "C:\\Users\\grzeg\\PycharmProjects\\bankruptcy-prophet-new\\bankruptcy-prophet\\.venv\\Lib\\site-packages\\sklearn\\neighbors\\_base.py:583: UserWarning: cannot use tree with sparse input: using brute force\n",
      "  warnings.warn(\"cannot use tree with sparse input: using brute force\")\n",
      "C:\\Users\\grzeg\\PycharmProjects\\bankruptcy-prophet-new\\bankruptcy-prophet\\.venv\\Lib\\site-packages\\sklearn\\neighbors\\_base.py:583: UserWarning: cannot use tree with sparse input: using brute force\n",
      "  warnings.warn(\"cannot use tree with sparse input: using brute force\")\n",
      "C:\\Users\\grzeg\\PycharmProjects\\bankruptcy-prophet-new\\bankruptcy-prophet\\.venv\\Lib\\site-packages\\sklearn\\neighbors\\_base.py:583: UserWarning: cannot use tree with sparse input: using brute force\n",
      "  warnings.warn(\"cannot use tree with sparse input: using brute force\")\n",
      "C:\\Users\\grzeg\\PycharmProjects\\bankruptcy-prophet-new\\bankruptcy-prophet\\.venv\\Lib\\site-packages\\sklearn\\neighbors\\_base.py:583: UserWarning: cannot use tree with sparse input: using brute force\n",
      "  warnings.warn(\"cannot use tree with sparse input: using brute force\")\n",
      "C:\\Users\\grzeg\\PycharmProjects\\bankruptcy-prophet-new\\bankruptcy-prophet\\.venv\\Lib\\site-packages\\sklearn\\neighbors\\_base.py:583: UserWarning: cannot use tree with sparse input: using brute force\n",
      "  warnings.warn(\"cannot use tree with sparse input: using brute force\")\n",
      "C:\\Users\\grzeg\\PycharmProjects\\bankruptcy-prophet-new\\bankruptcy-prophet\\.venv\\Lib\\site-packages\\sklearn\\neighbors\\_base.py:583: UserWarning: cannot use tree with sparse input: using brute force\n",
      "  warnings.warn(\"cannot use tree with sparse input: using brute force\")\n",
      "C:\\Users\\grzeg\\PycharmProjects\\bankruptcy-prophet-new\\bankruptcy-prophet\\.venv\\Lib\\site-packages\\sklearn\\neighbors\\_base.py:583: UserWarning: cannot use tree with sparse input: using brute force\n",
      "  warnings.warn(\"cannot use tree with sparse input: using brute force\")\n",
      "C:\\Users\\grzeg\\PycharmProjects\\bankruptcy-prophet-new\\bankruptcy-prophet\\.venv\\Lib\\site-packages\\sklearn\\neighbors\\_base.py:583: UserWarning: cannot use tree with sparse input: using brute force\n",
      "  warnings.warn(\"cannot use tree with sparse input: using brute force\")\n",
      "C:\\Users\\grzeg\\PycharmProjects\\bankruptcy-prophet-new\\bankruptcy-prophet\\.venv\\Lib\\site-packages\\sklearn\\neighbors\\_base.py:583: UserWarning: cannot use tree with sparse input: using brute force\n",
      "  warnings.warn(\"cannot use tree with sparse input: using brute force\")\n",
      "C:\\Users\\grzeg\\PycharmProjects\\bankruptcy-prophet-new\\bankruptcy-prophet\\.venv\\Lib\\site-packages\\sklearn\\neighbors\\_base.py:583: UserWarning: cannot use tree with sparse input: using brute force\n",
      "  warnings.warn(\"cannot use tree with sparse input: using brute force\")\n",
      "C:\\Users\\grzeg\\PycharmProjects\\bankruptcy-prophet-new\\bankruptcy-prophet\\.venv\\Lib\\site-packages\\sklearn\\neighbors\\_base.py:583: UserWarning: cannot use tree with sparse input: using brute force\n",
      "  warnings.warn(\"cannot use tree with sparse input: using brute force\")\n",
      "C:\\Users\\grzeg\\PycharmProjects\\bankruptcy-prophet-new\\bankruptcy-prophet\\.venv\\Lib\\site-packages\\sklearn\\neighbors\\_base.py:583: UserWarning: cannot use tree with sparse input: using brute force\n",
      "  warnings.warn(\"cannot use tree with sparse input: using brute force\")\n",
      "C:\\Users\\grzeg\\PycharmProjects\\bankruptcy-prophet-new\\bankruptcy-prophet\\.venv\\Lib\\site-packages\\sklearn\\neighbors\\_base.py:583: UserWarning: cannot use tree with sparse input: using brute force\n",
      "  warnings.warn(\"cannot use tree with sparse input: using brute force\")\n",
      "C:\\Users\\grzeg\\PycharmProjects\\bankruptcy-prophet-new\\bankruptcy-prophet\\.venv\\Lib\\site-packages\\sklearn\\neighbors\\_base.py:583: UserWarning: cannot use tree with sparse input: using brute force\n",
      "  warnings.warn(\"cannot use tree with sparse input: using brute force\")\n",
      "C:\\Users\\grzeg\\PycharmProjects\\bankruptcy-prophet-new\\bankruptcy-prophet\\.venv\\Lib\\site-packages\\sklearn\\neighbors\\_base.py:583: UserWarning: cannot use tree with sparse input: using brute force\n",
      "  warnings.warn(\"cannot use tree with sparse input: using brute force\")\n",
      "C:\\Users\\grzeg\\PycharmProjects\\bankruptcy-prophet-new\\bankruptcy-prophet\\.venv\\Lib\\site-packages\\sklearn\\neighbors\\_base.py:583: UserWarning: cannot use tree with sparse input: using brute force\n",
      "  warnings.warn(\"cannot use tree with sparse input: using brute force\")\n",
      "C:\\Users\\grzeg\\PycharmProjects\\bankruptcy-prophet-new\\bankruptcy-prophet\\.venv\\Lib\\site-packages\\sklearn\\neighbors\\_base.py:583: UserWarning: cannot use tree with sparse input: using brute force\n",
      "  warnings.warn(\"cannot use tree with sparse input: using brute force\")\n",
      "C:\\Users\\grzeg\\PycharmProjects\\bankruptcy-prophet-new\\bankruptcy-prophet\\.venv\\Lib\\site-packages\\sklearn\\neighbors\\_base.py:583: UserWarning: cannot use tree with sparse input: using brute force\n",
      "  warnings.warn(\"cannot use tree with sparse input: using brute force\")\n",
      "C:\\Users\\grzeg\\PycharmProjects\\bankruptcy-prophet-new\\bankruptcy-prophet\\.venv\\Lib\\site-packages\\sklearn\\neighbors\\_base.py:583: UserWarning: cannot use tree with sparse input: using brute force\n",
      "  warnings.warn(\"cannot use tree with sparse input: using brute force\")\n",
      "C:\\Users\\grzeg\\PycharmProjects\\bankruptcy-prophet-new\\bankruptcy-prophet\\.venv\\Lib\\site-packages\\sklearn\\neighbors\\_base.py:583: UserWarning: cannot use tree with sparse input: using brute force\n",
      "  warnings.warn(\"cannot use tree with sparse input: using brute force\")\n",
      "C:\\Users\\grzeg\\PycharmProjects\\bankruptcy-prophet-new\\bankruptcy-prophet\\.venv\\Lib\\site-packages\\sklearn\\neighbors\\_base.py:583: UserWarning: cannot use tree with sparse input: using brute force\n",
      "  warnings.warn(\"cannot use tree with sparse input: using brute force\")\n",
      "C:\\Users\\grzeg\\PycharmProjects\\bankruptcy-prophet-new\\bankruptcy-prophet\\.venv\\Lib\\site-packages\\sklearn\\neighbors\\_base.py:583: UserWarning: cannot use tree with sparse input: using brute force\n",
      "  warnings.warn(\"cannot use tree with sparse input: using brute force\")\n",
      "C:\\Users\\grzeg\\PycharmProjects\\bankruptcy-prophet-new\\bankruptcy-prophet\\.venv\\Lib\\site-packages\\sklearn\\neighbors\\_base.py:583: UserWarning: cannot use tree with sparse input: using brute force\n",
      "  warnings.warn(\"cannot use tree with sparse input: using brute force\")\n",
      "C:\\Users\\grzeg\\PycharmProjects\\bankruptcy-prophet-new\\bankruptcy-prophet\\.venv\\Lib\\site-packages\\sklearn\\neighbors\\_base.py:583: UserWarning: cannot use tree with sparse input: using brute force\n",
      "  warnings.warn(\"cannot use tree with sparse input: using brute force\")\n",
      "C:\\Users\\grzeg\\PycharmProjects\\bankruptcy-prophet-new\\bankruptcy-prophet\\.venv\\Lib\\site-packages\\sklearn\\neighbors\\_base.py:583: UserWarning: cannot use tree with sparse input: using brute force\n",
      "  warnings.warn(\"cannot use tree with sparse input: using brute force\")\n"
     ]
    },
    {
     "name": "stdout",
     "output_type": "stream",
     "text": [
      "Best hyperparameters: {'weights': 'uniform', 'p': 2, 'n_neighbors': 11, 'leaf_size': 40, 'algorithm': 'kd_tree'}\n",
      "Test Accuracy: 0.9838\n",
      "Test Precision: 0.0000\n"
     ]
    },
    {
     "name": "stderr",
     "output_type": "stream",
     "text": [
      "C:\\Users\\grzeg\\PycharmProjects\\bankruptcy-prophet-new\\bankruptcy-prophet\\.venv\\Lib\\site-packages\\sklearn\\metrics\\_classification.py:1517: UndefinedMetricWarning: Precision is ill-defined and being set to 0.0 due to no predicted samples. Use `zero_division` parameter to control this behavior.\n",
      "  _warn_prf(average, modifier, f\"{metric.capitalize()} is\", len(result))\n"
     ]
    }
   ],
   "execution_count": 5
  },
  {
   "metadata": {},
   "cell_type": "markdown",
   "source": [
    "Best hyperparameters: {'weights': 'uniform', 'p': 2, 'n_neighbors': 7, 'leaf_size': 10, 'algorithm': 'kd_tree'}Best hyperparameters: {'weights': 'uniform', 'p': 2, 'n_neighbors': 7, 'leaf_size': 10, 'algorithm': 'kd_tree'}\n",
    "Test Accuracy: 0.9853\n",
    "Test Precision: 1.0000"
   ],
   "id": "2dbd0e38c88e4988"
  },
  {
   "metadata": {
    "ExecuteTime": {
     "end_time": "2024-09-22T13:04:18.467547Z",
     "start_time": "2024-09-22T13:04:16.712930Z"
    }
   },
   "cell_type": "code",
   "source": [
    "from sklearn.metrics import accuracy_score, precision_score, recall_score\n",
    "\n",
    "accuracies = []\n",
    "precisions = []\n",
    "recalls = []\n",
    "\n",
    "random_state = 42\n",
    "\n",
    "# vectorizer = TfidfVectorizer(max_features=1000)\n",
    "# X_train_features = vectorizer.fit_transform(X_original_train_val)\n",
    "# X_test_features = vectorizer.transform(X_original_test)\n",
    "\n",
    "for i in tqdm(range(10)):\n",
    "    \n",
    "    kNeighborsClassifier = KNeighborsClassifier(weights='uniform', p=2, n_neighbors=7, leaf_size=10, algorithm='kd_tree')\n",
    "    \n",
    "    kNeighborsClassifier.fit(X_textual_train_features, y_textual_train)\n",
    "    \n",
    "    y_pred = kNeighborsClassifier.predict(X_textual_test_features)\n",
    "    \n",
    "    accuracy = accuracy_score(y_textual_test, y_pred)\n",
    "    precision = precision_score(y_textual_test, y_pred)\n",
    "    recall = recall_score(y_textual_test, y_pred)\n",
    "    \n",
    "    print(f\"Accuracy: {accuracy}\")\n",
    "    print(f\"Precision: {precision}\")\n",
    "    \n",
    "    accuracies.append(accuracy)\n",
    "    precisions.append(precision)\n",
    "    recalls.append(recall)\n",
    "    \n",
    "    # remove the classifier\n",
    "    del kNeighborsClassifier\n",
    "    \n",
    "print(f\"Mean Accuracy: {np.mean(accuracies)}\")\n",
    "print(f\"Mean Precision: {np.mean(precisions)}\")\n",
    "print(f\"Mean Recall: {np.mean(recalls)}\")\n",
    "\n",
    "    # print(f\"Test Accuracy: {accuracy_score(y_test, y_pred)}\")\n",
    "    # print(f\"Test Precision: {precision_score(y_test, y_pred)}\")\n",
    "    # print(f\"Test Recall: {recall_score(y_test, y_pred)}\")"
   ],
   "id": "8b184908dd969b1d",
   "outputs": [
    {
     "name": "stderr",
     "output_type": "stream",
     "text": [
      "  0%|          | 0/10 [00:00<?, ?it/s]C:\\Users\\grzeg\\PycharmProjects\\bankruptcy-prophet-new\\bankruptcy-prophet\\.venv\\Lib\\site-packages\\sklearn\\neighbors\\_base.py:583: UserWarning: cannot use tree with sparse input: using brute force\n",
      "  warnings.warn(\"cannot use tree with sparse input: using brute force\")\n",
      " 10%|█         | 1/10 [00:00<00:01,  5.95it/s]C:\\Users\\grzeg\\PycharmProjects\\bankruptcy-prophet-new\\bankruptcy-prophet\\.venv\\Lib\\site-packages\\sklearn\\neighbors\\_base.py:583: UserWarning: cannot use tree with sparse input: using brute force\n",
      "  warnings.warn(\"cannot use tree with sparse input: using brute force\")\n",
      " 20%|██        | 2/10 [00:00<00:01,  5.98it/s]C:\\Users\\grzeg\\PycharmProjects\\bankruptcy-prophet-new\\bankruptcy-prophet\\.venv\\Lib\\site-packages\\sklearn\\neighbors\\_base.py:583: UserWarning: cannot use tree with sparse input: using brute force\n",
      "  warnings.warn(\"cannot use tree with sparse input: using brute force\")\n"
     ]
    },
    {
     "name": "stdout",
     "output_type": "stream",
     "text": [
      "Accuracy: 0.9852507374631269\n",
      "Precision: 1.0\n",
      "Accuracy: 0.9852507374631269\n",
      "Precision: 1.0\n"
     ]
    },
    {
     "name": "stderr",
     "output_type": "stream",
     "text": [
      " 30%|███       | 3/10 [00:00<00:01,  5.49it/s]C:\\Users\\grzeg\\PycharmProjects\\bankruptcy-prophet-new\\bankruptcy-prophet\\.venv\\Lib\\site-packages\\sklearn\\neighbors\\_base.py:583: UserWarning: cannot use tree with sparse input: using brute force\n",
      "  warnings.warn(\"cannot use tree with sparse input: using brute force\")\n",
      " 40%|████      | 4/10 [00:00<00:01,  5.29it/s]"
     ]
    },
    {
     "name": "stdout",
     "output_type": "stream",
     "text": [
      "Accuracy: 0.9852507374631269\n",
      "Precision: 1.0\n",
      "Accuracy: 0.9852507374631269\n",
      "Precision: 1.0\n"
     ]
    },
    {
     "name": "stderr",
     "output_type": "stream",
     "text": [
      "C:\\Users\\grzeg\\PycharmProjects\\bankruptcy-prophet-new\\bankruptcy-prophet\\.venv\\Lib\\site-packages\\sklearn\\neighbors\\_base.py:583: UserWarning: cannot use tree with sparse input: using brute force\n",
      "  warnings.warn(\"cannot use tree with sparse input: using brute force\")\n",
      " 50%|█████     | 5/10 [00:00<00:00,  5.52it/s]C:\\Users\\grzeg\\PycharmProjects\\bankruptcy-prophet-new\\bankruptcy-prophet\\.venv\\Lib\\site-packages\\sklearn\\neighbors\\_base.py:583: UserWarning: cannot use tree with sparse input: using brute force\n",
      "  warnings.warn(\"cannot use tree with sparse input: using brute force\")\n",
      " 60%|██████    | 6/10 [00:01<00:00,  5.86it/s]"
     ]
    },
    {
     "name": "stdout",
     "output_type": "stream",
     "text": [
      "Accuracy: 0.9852507374631269\n",
      "Precision: 1.0\n",
      "Accuracy: 0.9852507374631269\n",
      "Precision: 1.0\n"
     ]
    },
    {
     "name": "stderr",
     "output_type": "stream",
     "text": [
      "C:\\Users\\grzeg\\PycharmProjects\\bankruptcy-prophet-new\\bankruptcy-prophet\\.venv\\Lib\\site-packages\\sklearn\\neighbors\\_base.py:583: UserWarning: cannot use tree with sparse input: using brute force\n",
      "  warnings.warn(\"cannot use tree with sparse input: using brute force\")\n",
      " 70%|███████   | 7/10 [00:01<00:00,  5.91it/s]C:\\Users\\grzeg\\PycharmProjects\\bankruptcy-prophet-new\\bankruptcy-prophet\\.venv\\Lib\\site-packages\\sklearn\\neighbors\\_base.py:583: UserWarning: cannot use tree with sparse input: using brute force\n",
      "  warnings.warn(\"cannot use tree with sparse input: using brute force\")\n",
      " 80%|████████  | 8/10 [00:01<00:00,  5.94it/s]C:\\Users\\grzeg\\PycharmProjects\\bankruptcy-prophet-new\\bankruptcy-prophet\\.venv\\Lib\\site-packages\\sklearn\\neighbors\\_base.py:583: UserWarning: cannot use tree with sparse input: using brute force\n",
      "  warnings.warn(\"cannot use tree with sparse input: using brute force\")\n"
     ]
    },
    {
     "name": "stdout",
     "output_type": "stream",
     "text": [
      "Accuracy: 0.9852507374631269\n",
      "Precision: 1.0\n",
      "Accuracy: 0.9852507374631269\n",
      "Precision: 1.0\n"
     ]
    },
    {
     "name": "stderr",
     "output_type": "stream",
     "text": [
      " 90%|█████████ | 9/10 [00:01<00:00,  5.78it/s]C:\\Users\\grzeg\\PycharmProjects\\bankruptcy-prophet-new\\bankruptcy-prophet\\.venv\\Lib\\site-packages\\sklearn\\neighbors\\_base.py:583: UserWarning: cannot use tree with sparse input: using brute force\n",
      "  warnings.warn(\"cannot use tree with sparse input: using brute force\")\n",
      "100%|██████████| 10/10 [00:01<00:00,  5.77it/s]"
     ]
    },
    {
     "name": "stdout",
     "output_type": "stream",
     "text": [
      "Accuracy: 0.9852507374631269\n",
      "Precision: 1.0\n",
      "Accuracy: 0.9852507374631269\n",
      "Precision: 1.0\n",
      "Mean Accuracy: 0.985250737463127\n",
      "Mean Precision: 1.0\n",
      "Mean Recall: 0.09090909090909091\n"
     ]
    },
    {
     "name": "stderr",
     "output_type": "stream",
     "text": [
      "\n"
     ]
    }
   ],
   "execution_count": 6
  },
  {
   "metadata": {},
   "cell_type": "code",
   "outputs": [],
   "execution_count": null,
   "source": "",
   "id": "bfc2b3c0efe57ff1"
  }
 ],
 "metadata": {
  "kernelspec": {
   "display_name": "Python 3",
   "language": "python",
   "name": "python3"
  },
  "language_info": {
   "codemirror_mode": {
    "name": "ipython",
    "version": 2
   },
   "file_extension": ".py",
   "mimetype": "text/x-python",
   "name": "python",
   "nbconvert_exporter": "python",
   "pygments_lexer": "ipython2",
   "version": "2.7.6"
  }
 },
 "nbformat": 4,
 "nbformat_minor": 5
}

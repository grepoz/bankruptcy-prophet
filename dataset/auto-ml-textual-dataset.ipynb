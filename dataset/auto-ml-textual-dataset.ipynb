{
 "cells": [
  {
   "metadata": {},
   "cell_type": "markdown",
   "source": "### TFIDF + popular classifiers",
   "id": "208f02986058e28e"
  },
  {
   "metadata": {
    "ExecuteTime": {
     "end_time": "2024-09-19T06:10:58.064936Z",
     "start_time": "2024-09-19T06:10:57.258621Z"
    }
   },
   "cell_type": "code",
   "source": [
    "import pandas as pd\n",
    "import numpy as np\n",
    "import matplotlib.pyplot as plt\n",
    "from sklearn.feature_extraction.text import TfidfVectorizer\n",
    "from sklearn.linear_model import LogisticRegression\n",
    "from sklearn.metrics import confusion_matrix, accuracy_score, f1_score, precision_score\n",
    "\n",
    "import string"
   ],
   "id": "899412df739a1724",
   "outputs": [],
   "execution_count": 1
  },
  {
   "cell_type": "code",
   "id": "initial_id",
   "metadata": {
    "collapsed": true,
    "ExecuteTime": {
     "end_time": "2024-09-19T06:10:58.231622Z",
     "start_time": "2024-09-19T06:10:58.069946Z"
    }
   },
   "source": [
    "from sklearn.ensemble import GradientBoostingClassifier, AdaBoostClassifier, ExtraTreesClassifier, BaggingClassifier, RandomForestClassifier\n",
    "from sklearn.linear_model import LogisticRegression\n",
    "from sklearn.svm import SVC\n",
    "from sklearn.tree import DecisionTreeClassifier\n",
    "from sklearn.neighbors import KNeighborsClassifier\n",
    "from sklearn.naive_bayes import GaussianNB\n",
    "from sklearn.neural_network import MLPClassifier\n",
    "from xgboost import XGBClassifier\n",
    "from sklearn.metrics import confusion_matrix, recall_score, precision_score, accuracy_score, f1_score\n",
    "from tqdm import tqdm\n",
    "\n",
    "fix_seed = 2024"
   ],
   "outputs": [],
   "execution_count": 2
  },
  {
   "metadata": {
    "ExecuteTime": {
     "end_time": "2024-09-19T06:10:58.350216Z",
     "start_time": "2024-09-19T06:10:58.345307Z"
    }
   },
   "cell_type": "code",
   "source": [
    "def preprocess_text(text):\n",
    "    text = text.lower()\n",
    "    text = text.translate(str.maketrans('', '', string.punctuation))\n",
    "    return text\n",
    "\n",
    "def get_train_val_test_split(X, y):\n",
    "    X_train = X[X['subset'] == 'train']\n",
    "    y_train = y[X['subset'] == 'train']\n",
    "    \n",
    "    X_val = X[X['subset'] == 'val']\n",
    "    y_val = y[X['subset'] == 'val']\n",
    "    \n",
    "    X_test = X[X['subset'] == 'test']\n",
    "    y_test = y[X['subset'] == 'test']\n",
    "    \n",
    "    X_train = X_train.drop('subset', axis=1)\n",
    "    X_val = X_val.drop('subset', axis=1)\n",
    "    X_test = X_test.drop('subset', axis=1)\n",
    "    \n",
    "    return X_train, y_train, X_val, y_val, X_test, y_test"
   ],
   "id": "c371f932578d2c1a",
   "outputs": [],
   "execution_count": 3
  },
  {
   "metadata": {
    "ExecuteTime": {
     "end_time": "2024-09-19T06:10:58.501727Z",
     "start_time": "2024-09-19T06:10:58.367265Z"
    }
   },
   "cell_type": "code",
   "source": [
    "textual_dataset = pd.read_csv('textual_data_matched_split_version5.csv')\n",
    "print(textual_dataset.shape)\n",
    "textual_dataset.head()"
   ],
   "id": "a76d8e0472c53fd1",
   "outputs": [
    {
     "name": "stdout",
     "output_type": "stream",
     "text": [
      "(7214, 4)\n"
     ]
    },
    {
     "data": {
      "text/plain": [
       "         cik  label subset                                               text\n",
       "0     737874  False  train  Laidlaw International Inc. is a leading provid...\n",
       "1    1464343  False  train  The company utilizes proprietary analytics and...\n",
       "2  102336208   True  train  The company manufactures and sells wireless co...\n",
       "3    1022368  False  train  The company experienced net income (loss) fluc...\n",
       "4     815094  False  train  The company is a leading provider of temporary..."
      ],
      "text/html": [
       "<div>\n",
       "<style scoped>\n",
       "    .dataframe tbody tr th:only-of-type {\n",
       "        vertical-align: middle;\n",
       "    }\n",
       "\n",
       "    .dataframe tbody tr th {\n",
       "        vertical-align: top;\n",
       "    }\n",
       "\n",
       "    .dataframe thead th {\n",
       "        text-align: right;\n",
       "    }\n",
       "</style>\n",
       "<table border=\"1\" class=\"dataframe\">\n",
       "  <thead>\n",
       "    <tr style=\"text-align: right;\">\n",
       "      <th></th>\n",
       "      <th>cik</th>\n",
       "      <th>label</th>\n",
       "      <th>subset</th>\n",
       "      <th>text</th>\n",
       "    </tr>\n",
       "  </thead>\n",
       "  <tbody>\n",
       "    <tr>\n",
       "      <th>0</th>\n",
       "      <td>737874</td>\n",
       "      <td>False</td>\n",
       "      <td>train</td>\n",
       "      <td>Laidlaw International Inc. is a leading provid...</td>\n",
       "    </tr>\n",
       "    <tr>\n",
       "      <th>1</th>\n",
       "      <td>1464343</td>\n",
       "      <td>False</td>\n",
       "      <td>train</td>\n",
       "      <td>The company utilizes proprietary analytics and...</td>\n",
       "    </tr>\n",
       "    <tr>\n",
       "      <th>2</th>\n",
       "      <td>102336208</td>\n",
       "      <td>True</td>\n",
       "      <td>train</td>\n",
       "      <td>The company manufactures and sells wireless co...</td>\n",
       "    </tr>\n",
       "    <tr>\n",
       "      <th>3</th>\n",
       "      <td>1022368</td>\n",
       "      <td>False</td>\n",
       "      <td>train</td>\n",
       "      <td>The company experienced net income (loss) fluc...</td>\n",
       "    </tr>\n",
       "    <tr>\n",
       "      <th>4</th>\n",
       "      <td>815094</td>\n",
       "      <td>False</td>\n",
       "      <td>train</td>\n",
       "      <td>The company is a leading provider of temporary...</td>\n",
       "    </tr>\n",
       "  </tbody>\n",
       "</table>\n",
       "</div>"
      ]
     },
     "execution_count": 4,
     "metadata": {},
     "output_type": "execute_result"
    }
   ],
   "execution_count": 4
  },
  {
   "metadata": {
    "ExecuteTime": {
     "end_time": "2024-09-19T06:10:59.670962Z",
     "start_time": "2024-09-19T06:10:59.528038Z"
    }
   },
   "cell_type": "code",
   "source": [
    "textual_dataset['text'] = textual_dataset['text'].apply(preprocess_text)\n",
    "X = textual_dataset.drop(['cik', 'label'], axis=1)\n",
    "y = textual_dataset['label']\n",
    "\n",
    "X_train, y_train, X_val, y_val, X_test, y_test = get_train_val_test_split(X, y)\n",
    "\n",
    "X_train = X_train['text']\n",
    "X_val = X_val['text']\n",
    "X_test = X_test['text']\n",
    "\n",
    "X_train_val = pd.concat([X_train, X_val])\n",
    "y_train_val = pd.concat([y_train, y_val])\n",
    "\n",
    "len(X_train), len(X_val), len(X_test)"
   ],
   "id": "457318e777f22026",
   "outputs": [
    {
     "data": {
      "text/plain": [
       "(5760, 363, 1091)"
      ]
     },
     "execution_count": 5,
     "metadata": {},
     "output_type": "execute_result"
    }
   ],
   "execution_count": 5
  },
  {
   "metadata": {
    "ExecuteTime": {
     "end_time": "2024-09-18T20:21:08.227079Z",
     "start_time": "2024-09-18T20:21:07.317985Z"
    }
   },
   "cell_type": "code",
   "source": [
    "vectorizer = TfidfVectorizer(max_features=1000)\n",
    "X_train_features = vectorizer.fit_transform(X_train_val)\n",
    "X_test_features = vectorizer.transform(X_test)\n",
    "\n",
    "X_train_features.shape, X_test_features.shape"
   ],
   "id": "328d87108d6386b3",
   "outputs": [
    {
     "data": {
      "text/plain": [
       "((6851, 1000), (363, 1000))"
      ]
     },
     "execution_count": 35,
     "metadata": {},
     "output_type": "execute_result"
    }
   ],
   "execution_count": 35
  },
  {
   "metadata": {
    "ExecuteTime": {
     "end_time": "2024-09-18T20:21:09.910252Z",
     "start_time": "2024-09-18T20:21:09.905414Z"
    }
   },
   "cell_type": "code",
   "source": [
    "def get_classifiers(random_state=43):\n",
    "    randomForestClassifier = RandomForestClassifier(random_state=random_state)\n",
    "    gradientBoostingClassifier = GradientBoostingClassifier(random_state=random_state)\n",
    "    adaBoostClassifier = AdaBoostClassifier(random_state=random_state)\n",
    "    extraTreesClassifier = ExtraTreesClassifier(random_state=random_state)\n",
    "    baggingClassifier = BaggingClassifier(random_state=random_state)\n",
    "    logisticRegression = LogisticRegression(random_state=random_state, max_iter=300)\n",
    "    svc = SVC(random_state=random_state)\n",
    "    decisionTreeClassifier = DecisionTreeClassifier(random_state=random_state)\n",
    "    kNeighborsClassifier = KNeighborsClassifier()\n",
    "    gaussianNB = GaussianNB()\n",
    "    mlpClassifier = MLPClassifier(hidden_layer_sizes=(16, 16),\n",
    "                               batch_size=128,\n",
    "                               max_iter=300,\n",
    "                               shuffle=False,\n",
    "                               random_state=random_state,\n",
    "                               early_stopping=True,\n",
    "                               beta_2=0.99,\n",
    "                               n_iter_no_change=20)\n",
    "    xgbClassifier = XGBClassifier(\n",
    "    random_state=random_state,\n",
    "    subsample=0.6,\n",
    "    n_estimators=50,\n",
    "    max_depth=5,\n",
    "    learning_rate=0.06,\n",
    "    gamma=0.3\n",
    ")\n",
    "    \n",
    "    return [xgbClassifier, randomForestClassifier, gradientBoostingClassifier, adaBoostClassifier, extraTreesClassifier, baggingClassifier, logisticRegression, svc, decisionTreeClassifier, kNeighborsClassifier, gaussianNB, mlpClassifier]"
   ],
   "id": "55d5aad0f942babf",
   "outputs": [],
   "execution_count": 36
  },
  {
   "metadata": {
    "ExecuteTime": {
     "end_time": "2024-09-18T20:22:40.907366Z",
     "start_time": "2024-09-18T20:21:17.278368Z"
    }
   },
   "cell_type": "code",
   "source": [
    "results = {}\n",
    "\n",
    "for i in tqdm(range(1)):\n",
    "    random_state = fix_seed + i\n",
    "    classifiers = get_classifiers(random_state=random_state)\n",
    "    \n",
    "    for classifier in classifiers:\n",
    "        classifier.fit(X_train_features.toarray(), y_train_val)\n",
    "        y_pred = classifier.predict(X_test_features.toarray())\n",
    "        \n",
    "        accuracy = accuracy_score(y_test, y_pred)\n",
    "        precision = precision_score(y_test, y_pred)\n",
    "        \n",
    "        classifier_name = classifier.__class__.__name__\n",
    "        if classifier_name not in results:\n",
    "            results[classifier_name] = [[accuracy, precision]]\n",
    "        else:\n",
    "            results[classifier_name].append([accuracy, precision])\n",
    "            \n",
    "results_mean = {k: np.mean(v, axis=0) for k, v in results.items()}\n",
    "results_mean = [[k] + v.tolist() for k, v in results_mean.items()]\n",
    "results_df = pd.DataFrame(results_mean, columns=['classifier', 'accuracy', 'precision'])"
   ],
   "id": "b8daa3369e59d8b4",
   "outputs": [
    {
     "name": "stderr",
     "output_type": "stream",
     "text": [
      "  0%|          | 0/1 [00:00<?, ?it/s]C:\\Users\\grzeg\\PycharmProjects\\bankruptcy-prophet-new\\bankruptcy-prophet\\.venv\\Lib\\site-packages\\sklearn\\ensemble\\_weight_boosting.py:527: FutureWarning: The SAMME.R algorithm (the default) is deprecated and will be removed in 1.6. Use the SAMME algorithm to circumvent this warning.\n",
      "  warnings.warn(\n",
      "100%|██████████| 1/1 [01:23<00:00, 83.62s/it]\n"
     ]
    }
   ],
   "execution_count": 37
  },
  {
   "metadata": {},
   "cell_type": "code",
   "source": "results_df",
   "id": "8fb3c86858c198f2",
   "outputs": [],
   "execution_count": null
  },
  {
   "metadata": {
    "ExecuteTime": {
     "end_time": "2024-09-18T20:23:24.325249Z",
     "start_time": "2024-09-18T20:23:24.096799Z"
    }
   },
   "cell_type": "code",
   "source": [
    "import matplotlib.pyplot as plt\n",
    "results_df.plot(\n",
    "    x='classifier',\n",
    "    y=['accuracy', 'precision'],\n",
    "    kind='bar',\n",
    "    figsize=(15, 6),\n",
    "    title='Wyniki najpopularniejszych klasyfikatorów (część tekstowa)',\n",
    "    xlabel='Klasyfikator',\n",
    "    ylabel='Wartość')\n",
    "\n",
    "plt.xticks(rotation=45)\n",
    "\n",
    "plt.show()"
   ],
   "id": "e97f38ec12c2a54a",
   "outputs": [
    {
     "data": {
      "text/plain": [
       "<Figure size 1500x600 with 1 Axes>"
      ],
      "image/png": "[encoded data removed]"
     },
     "metadata": {},
     "output_type": "display_data"
    }
   ],
   "execution_count": 38
  },
  {
   "metadata": {},
   "cell_type": "markdown",
   "source": "",
   "id": "198ca8589fa27898"
  },
  {
   "metadata": {},
   "cell_type": "markdown",
   "source": "## Huggingface models",
   "id": "28a3ee11bb562dd"
  },
  {
   "metadata": {
    "ExecuteTime": {
     "end_time": "2024-09-19T06:11:16.397516Z",
     "start_time": "2024-09-19T06:11:06.770432Z"
    }
   },
   "cell_type": "code",
   "source": [
    "import torch\n",
    "from transformers import RobertaTokenizer, RobertaForSequenceClassification, BertTokenizer, BertForSequenceClassification, Trainer, TrainingArguments\n",
    "from datasets import Dataset\n",
    "from sklearn.metrics import accuracy_score, precision_recall_fscore_support"
   ],
   "id": "8fe43ab9a07dab5b",
   "outputs": [],
   "execution_count": 6
  },
  {
   "metadata": {},
   "cell_type": "markdown",
   "source": "### ROBERTA",
   "id": "53a8993c42271cdc"
  },
  {
   "metadata": {
    "ExecuteTime": {
     "end_time": "2024-09-19T06:11:16.409954Z",
     "start_time": "2024-09-19T06:11:16.398372Z"
    }
   },
   "cell_type": "code",
   "source": [
    "def create_datasets(tokenizer, X_train, y_train, X_val, y_val, X_test, y_test, merge_train_and_val=False):\n",
    "    \n",
    "    def tokenize_function(texts):\n",
    "        return tokenizer(texts, padding=\"max_length\", truncation=True, max_length=256)\n",
    "    \n",
    "    if merge_train_and_val:\n",
    "        X_train = pd.concat([X_train, X_val])\n",
    "        y_train = pd.concat([y_train, y_val])\n",
    "    else:\n",
    "        val_encodings = tokenize_function(X_val.tolist())\n",
    "        y_val = y_val.apply(lambda x: 1 if x == True else 0)\n",
    "    \n",
    "    train_encodings = tokenize_function(X_train.tolist())\n",
    "    test_encodings = tokenize_function(X_test.tolist())\n",
    "    \n",
    "    y_train = y_train.apply(lambda x: 1 if x == True else 0)\n",
    "    y_test = y_test.apply(lambda x: 1 if x == True else 0)\n",
    "    \n",
    "    train_dataset = Dataset.from_dict({\n",
    "        'input_ids': train_encodings['input_ids'],\n",
    "        'attention_mask': train_encodings['attention_mask'],\n",
    "        'labels': y_train.tolist()\n",
    "    })\n",
    "    \n",
    "    if merge_train_and_val is False:\n",
    "        eval_dataset = Dataset.from_dict({\n",
    "            'input_ids': val_encodings['input_ids'],\n",
    "            'attention_mask': val_encodings['attention_mask'],\n",
    "            'labels': y_val.tolist()\n",
    "        })\n",
    "    else:\n",
    "        eval_dataset = None\n",
    "    \n",
    "    test_dataset = Dataset.from_dict({\n",
    "        'input_ids': test_encodings['input_ids'],\n",
    "        'attention_mask': test_encodings['attention_mask'],\n",
    "        'labels': y_test.tolist()\n",
    "    })\n",
    "    \n",
    "    return train_dataset, eval_dataset, test_dataset"
   ],
   "id": "e3c3a549d55102aa",
   "outputs": [],
   "execution_count": 7
  },
  {
   "metadata": {
    "ExecuteTime": {
     "end_time": "2024-09-19T06:11:16.424042Z",
     "start_time": "2024-09-19T06:11:16.419293Z"
    }
   },
   "cell_type": "code",
   "source": [
    "def compute_metrics(eval_pred):\n",
    "    logits, labels = eval_pred\n",
    "\n",
    "    logits = torch.tensor(logits)\n",
    "    labels = torch.tensor(labels)\n",
    "\n",
    "    predictions = torch.argmax(logits, dim=-1)\n",
    "\n",
    "    predictions = predictions.numpy()\n",
    "    labels = labels.numpy()\n",
    "\n",
    "    precision, recall, f1, _ = precision_recall_fscore_support(labels, predictions, average='binary', zero_division=1)\n",
    "    acc = accuracy_score(labels, predictions)\n",
    "\n",
    "    return {\n",
    "        'accuracy': acc,\n",
    "        'precision': precision,\n",
    "        'recall': recall,\n",
    "        'f1': f1\n",
    "    }"
   ],
   "id": "28c7f68ebfff2bcb",
   "outputs": [],
   "execution_count": 8
  },
  {
   "metadata": {
    "ExecuteTime": {
     "end_time": "2024-09-19T06:12:37.031639Z",
     "start_time": "2024-09-19T06:12:37.019230Z"
    }
   },
   "cell_type": "code",
   "source": [
    "def get_trainer(model, train_dataset, eval_dataset, model_name=\"roberta-base\"):\n",
    "    training_args = TrainingArguments(\n",
    "        output_dir=f\"./results/{model_name}\",\n",
    "        eval_strategy=\"steps\",\n",
    "        save_steps=1440,\n",
    "        eval_steps=360,\n",
    "        logging_steps=360,\n",
    "        learning_rate=2e-5,\n",
    "        per_device_train_batch_size=16,\n",
    "        per_device_eval_batch_size=4,\n",
    "        num_train_epochs=4,  # DAJ na 8 epok!!!\n",
    "        weight_decay=0.01,\n",
    "        load_best_model_at_end=True,\n",
    "        metric_for_best_model=\"precision\",\n",
    "        greater_is_better=True\n",
    "    )\n",
    "    \n",
    "    trainer = Trainer(\n",
    "        model=model,\n",
    "        args=training_args,\n",
    "        train_dataset=train_dataset,\n",
    "        eval_dataset=eval_dataset,\n",
    "        compute_metrics=compute_metrics\n",
    "    )\n",
    "    \n",
    "    return trainer"
   ],
   "id": "527735905a1aee7",
   "outputs": [],
   "execution_count": 12
  },
  {
   "metadata": {},
   "cell_type": "markdown",
   "source": [
    "3:40 min - 3 epoki batch size 8\n",
    "\n",
    "2:20 min - 2 epoki batch size 16, tokenizer 256\n",
    "\n",
    "X: - 3 epoki batch size 32, tokenizer 256"
   ],
   "id": "77457b33114cbc6d"
  },
  {
   "metadata": {
    "ExecuteTime": {
     "end_time": "2024-09-19T06:12:41.057912Z",
     "start_time": "2024-09-19T06:12:40.390768Z"
    }
   },
   "cell_type": "code",
   "source": [
    "robertaTokenizer = RobertaTokenizer.from_pretrained(\"roberta-base\")\n",
    "robertaForSequenceClassification = RobertaForSequenceClassification.from_pretrained(\"roberta-base\", num_labels=2)"
   ],
   "id": "fdf9ee3a8264b838",
   "outputs": [
    {
     "name": "stderr",
     "output_type": "stream",
     "text": [
      "C:\\Users\\grzeg\\PycharmProjects\\bankruptcy-prophet-new\\bankruptcy-prophet\\.venv\\Lib\\site-packages\\transformers\\tokenization_utils_base.py:1601: FutureWarning: `clean_up_tokenization_spaces` was not set. It will be set to `True` by default. This behavior will be depracted in transformers v4.45, and will be then set to `False` by default. For more details check this issue: https://github.com/huggingface/transformers/issues/31884\n",
      "  warnings.warn(\n",
      "Some weights of RobertaForSequenceClassification were not initialized from the model checkpoint at roberta-base and are newly initialized: ['classifier.dense.bias', 'classifier.dense.weight', 'classifier.out_proj.bias', 'classifier.out_proj.weight']\n",
      "You should probably TRAIN this model on a down-stream task to be able to use it for predictions and inference.\n"
     ]
    }
   ],
   "execution_count": 13
  },
  {
   "metadata": {
    "ExecuteTime": {
     "end_time": "2024-09-19T06:12:50.659170Z",
     "start_time": "2024-09-19T06:12:43.873299Z"
    }
   },
   "cell_type": "code",
   "source": [
    "train_dataset, eval_dataset, test_dataset = create_datasets(robertaTokenizer, X_train, y_train, X_val, y_val, X_test, y_test)\n",
    "trainer = get_trainer(robertaForSequenceClassification, train_dataset, eval_dataset)"
   ],
   "id": "3aeccce6436b14f1",
   "outputs": [],
   "execution_count": 14
  },
  {
   "metadata": {
    "ExecuteTime": {
     "end_time": "2024-09-19T09:56:40.984159Z",
     "start_time": "2024-09-19T06:12:52.510135Z"
    }
   },
   "cell_type": "code",
   "source": [
    "trainer.train()\n",
    "\n",
    "robertaForSequenceClassification.save_pretrained(\"./saved_model/roberta-base\")\n",
    "robertaTokenizer.save_pretrained(\"./saved_model/roberta-base\")"
   ],
   "id": "183178176aeef5b0",
   "outputs": [
    {
     "data": {
      "text/plain": [
       "<IPython.core.display.HTML object>"
      ],
      "text/html": [
       "\n",
       "    <div>\n",
       "      \n",
       "      <progress value='1440' max='1440' style='width:300px; height:20px; vertical-align: middle;'></progress>\n",
       "      [1440/1440 3:43:31, Epoch 4/4]\n",
       "    </div>\n",
       "    <table border=\"1\" class=\"dataframe\">\n",
       "  <thead>\n",
       " <tr style=\"text-align: left;\">\n",
       "      <th>Step</th>\n",
       "      <th>Training Loss</th>\n",
       "      <th>Validation Loss</th>\n",
       "      <th>Accuracy</th>\n",
       "      <th>Precision</th>\n",
       "      <th>Recall</th>\n",
       "      <th>F1</th>\n",
       "    </tr>\n",
       "  </thead>\n",
       "  <tbody>\n",
       "    <tr>\n",
       "      <td>360</td>\n",
       "      <td>0.258300</td>\n",
       "      <td>0.251431</td>\n",
       "      <td>0.928375</td>\n",
       "      <td>0.040000</td>\n",
       "      <td>0.333333</td>\n",
       "      <td>0.071429</td>\n",
       "    </tr>\n",
       "    <tr>\n",
       "      <td>720</td>\n",
       "      <td>0.128800</td>\n",
       "      <td>0.254530</td>\n",
       "      <td>0.942149</td>\n",
       "      <td>0.090909</td>\n",
       "      <td>0.666667</td>\n",
       "      <td>0.160000</td>\n",
       "    </tr>\n",
       "    <tr>\n",
       "      <td>1080</td>\n",
       "      <td>0.092700</td>\n",
       "      <td>0.208252</td>\n",
       "      <td>0.953168</td>\n",
       "      <td>0.062500</td>\n",
       "      <td>0.333333</td>\n",
       "      <td>0.105263</td>\n",
       "    </tr>\n",
       "    <tr>\n",
       "      <td>1440</td>\n",
       "      <td>0.052600</td>\n",
       "      <td>0.231907</td>\n",
       "      <td>0.950413</td>\n",
       "      <td>0.105263</td>\n",
       "      <td>0.666667</td>\n",
       "      <td>0.181818</td>\n",
       "    </tr>\n",
       "  </tbody>\n",
       "</table><p>"
      ]
     },
     "metadata": {},
     "output_type": "display_data"
    },
    {
     "data": {
      "text/plain": [
       "('./saved_model/roberta-base\\\\tokenizer_config.json',\n",
       " './saved_model/roberta-base\\\\special_tokens_map.json',\n",
       " './saved_model/roberta-base\\\\vocab.json',\n",
       " './saved_model/roberta-base\\\\merges.txt',\n",
       " './saved_model/roberta-base\\\\added_tokens.json')"
      ]
     },
     "execution_count": 15,
     "metadata": {},
     "output_type": "execute_result"
    }
   ],
   "execution_count": 15
  },
  {
   "metadata": {
    "ExecuteTime": {
     "end_time": "2024-09-19T09:58:40.334168Z",
     "start_time": "2024-09-19T09:57:39.245676Z"
    }
   },
   "cell_type": "code",
   "source": "trainer.evaluate()",
   "id": "b11535a013453e77",
   "outputs": [
    {
     "data": {
      "text/plain": [
       "<IPython.core.display.HTML object>"
      ],
      "text/html": [
       "\n",
       "    <div>\n",
       "      \n",
       "      <progress value='1454' max='363' style='width:300px; height:20px; vertical-align: middle;'></progress>\n",
       "      [363/363 05:28]\n",
       "    </div>\n",
       "    "
      ]
     },
     "metadata": {},
     "output_type": "display_data"
    },
    {
     "data": {
      "text/plain": [
       "{'eval_loss': 0.23190677165985107,\n",
       " 'eval_accuracy': 0.9504132231404959,\n",
       " 'eval_precision': 0.10526315789473684,\n",
       " 'eval_recall': 0.6666666666666666,\n",
       " 'eval_f1': 0.18181818181818182,\n",
       " 'eval_runtime': 60.9988,\n",
       " 'eval_samples_per_second': 5.951,\n",
       " 'eval_steps_per_second': 5.951,\n",
       " 'epoch': 4.0}"
      ]
     },
     "execution_count": 16,
     "metadata": {},
     "output_type": "execute_result"
    }
   ],
   "execution_count": 16
  },
  {
   "metadata": {
    "ExecuteTime": {
     "end_time": "2024-09-19T10:03:07.897750Z",
     "start_time": "2024-09-19T09:59:01.756790Z"
    }
   },
   "cell_type": "code",
   "source": "trainer.evaluate(test_dataset)",
   "id": "8ff037beca7c64b6",
   "outputs": [
    {
     "data": {
      "text/plain": [
       "{'eval_loss': 0.14227807521820068,\n",
       " 'eval_accuracy': 0.9642529789184234,\n",
       " 'eval_precision': 0.1956521739130435,\n",
       " 'eval_recall': 0.8181818181818182,\n",
       " 'eval_f1': 0.3157894736842105,\n",
       " 'eval_runtime': 246.0857,\n",
       " 'eval_samples_per_second': 4.433,\n",
       " 'eval_steps_per_second': 4.433,\n",
       " 'epoch': 4.0}"
      ]
     },
     "execution_count": 17,
     "metadata": {},
     "output_type": "execute_result"
    }
   ],
   "execution_count": 17
  },
  {
   "metadata": {
    "ExecuteTime": {
     "end_time": "2024-09-16T12:25:09.159935Z",
     "start_time": "2024-09-16T12:25:08.292547Z"
    }
   },
   "cell_type": "code",
   "source": [
    "model = RobertaForSequenceClassification.from_pretrained(\"./saved_model/roberta-base\")\n",
    "tokenizer = RobertaTokenizer.from_pretrained(\"./saved_model/roberta-base\")"
   ],
   "id": "6c5d1ce8ede6e8a2",
   "outputs": [],
   "execution_count": 14
  },
  {
   "metadata": {
    "ExecuteTime": {
     "end_time": "2024-09-16T12:25:10.896098Z",
     "start_time": "2024-09-16T12:25:09.992124Z"
    }
   },
   "cell_type": "code",
   "source": [
    "texts = [\"The company is bankrupt\", \"The company is doing well\"]\n",
    "\n",
    "inputs = tokenizer(texts, padding=True, truncation=True, return_tensors=\"pt\")\n",
    "\n",
    "outputs = model(**inputs)\n",
    "predictions = torch.argmax(outputs.logits, dim=-1)\n",
    "\n",
    "print(predictions)"
   ],
   "id": "ea3ae1b9f6f6a1db",
   "outputs": [
    {
     "name": "stdout",
     "output_type": "stream",
     "text": [
      "tensor([1, 0])\n"
     ]
    }
   ],
   "execution_count": 15
  },
  {
   "metadata": {},
   "cell_type": "markdown",
   "source": [
    "### FinBert\n",
    "\n",
    "we need to map label to models labels:\n",
    "False -> negative\n",
    "True -> positive"
   ],
   "id": "fc10c8bfc7a486d5"
  },
  {
   "metadata": {
    "ExecuteTime": {
     "end_time": "2024-09-16T13:07:49.803959Z",
     "start_time": "2024-09-16T13:07:49.663642Z"
    }
   },
   "cell_type": "code",
   "source": [
    "textual_dataset = pd.read_csv('textual_data_matched_split_version3.csv')\n",
    "print(textual_dataset.shape)\n",
    "textual_dataset.head()"
   ],
   "id": "68c199467096d0e9",
   "outputs": [
    {
     "name": "stdout",
     "output_type": "stream",
     "text": [
      "(7214, 4)\n"
     ]
    },
    {
     "data": {
      "text/plain": [
       "        cik  label subset                                               text\n",
       "0   1476045  False  train  Chatham Lodging Trust is a REIT that invests i...\n",
       "1  92352903   True  train  A cooperative bankshares corporation.  The com...\n",
       "2    833829  False  train  Wind River, a global leader in Device Software...\n",
       "3    914789  False  train  - Reported a 20% increase in revenue, driven b...\n",
       "4    853816  False  train  Landstar System, Inc. is an asset-light provid..."
      ],
      "text/html": [
       "<div>\n",
       "<style scoped>\n",
       "    .dataframe tbody tr th:only-of-type {\n",
       "        vertical-align: middle;\n",
       "    }\n",
       "\n",
       "    .dataframe tbody tr th {\n",
       "        vertical-align: top;\n",
       "    }\n",
       "\n",
       "    .dataframe thead th {\n",
       "        text-align: right;\n",
       "    }\n",
       "</style>\n",
       "<table border=\"1\" class=\"dataframe\">\n",
       "  <thead>\n",
       "    <tr style=\"text-align: right;\">\n",
       "      <th></th>\n",
       "      <th>cik</th>\n",
       "      <th>label</th>\n",
       "      <th>subset</th>\n",
       "      <th>text</th>\n",
       "    </tr>\n",
       "  </thead>\n",
       "  <tbody>\n",
       "    <tr>\n",
       "      <th>0</th>\n",
       "      <td>1476045</td>\n",
       "      <td>False</td>\n",
       "      <td>train</td>\n",
       "      <td>Chatham Lodging Trust is a REIT that invests i...</td>\n",
       "    </tr>\n",
       "    <tr>\n",
       "      <th>1</th>\n",
       "      <td>92352903</td>\n",
       "      <td>True</td>\n",
       "      <td>train</td>\n",
       "      <td>A cooperative bankshares corporation.  The com...</td>\n",
       "    </tr>\n",
       "    <tr>\n",
       "      <th>2</th>\n",
       "      <td>833829</td>\n",
       "      <td>False</td>\n",
       "      <td>train</td>\n",
       "      <td>Wind River, a global leader in Device Software...</td>\n",
       "    </tr>\n",
       "    <tr>\n",
       "      <th>3</th>\n",
       "      <td>914789</td>\n",
       "      <td>False</td>\n",
       "      <td>train</td>\n",
       "      <td>- Reported a 20% increase in revenue, driven b...</td>\n",
       "    </tr>\n",
       "    <tr>\n",
       "      <th>4</th>\n",
       "      <td>853816</td>\n",
       "      <td>False</td>\n",
       "      <td>train</td>\n",
       "      <td>Landstar System, Inc. is an asset-light provid...</td>\n",
       "    </tr>\n",
       "  </tbody>\n",
       "</table>\n",
       "</div>"
      ]
     },
     "execution_count": 54,
     "metadata": {},
     "output_type": "execute_result"
    }
   ],
   "execution_count": 54
  },
  {
   "metadata": {
    "ExecuteTime": {
     "end_time": "2024-09-16T13:07:51.035246Z",
     "start_time": "2024-09-16T13:07:51.016050Z"
    }
   },
   "cell_type": "code",
   "source": [
    "textual_dataset['label'] = textual_dataset['label'].apply(lambda x: 2 if x == True else 0)\n",
    "textual_dataset.head()"
   ],
   "id": "af64ae101450b4dc",
   "outputs": [
    {
     "data": {
      "text/plain": [
       "        cik  label subset                                               text\n",
       "0   1476045      0  train  Chatham Lodging Trust is a REIT that invests i...\n",
       "1  92352903      2  train  A cooperative bankshares corporation.  The com...\n",
       "2    833829      0  train  Wind River, a global leader in Device Software...\n",
       "3    914789      0  train  - Reported a 20% increase in revenue, driven b...\n",
       "4    853816      0  train  Landstar System, Inc. is an asset-light provid..."
      ],
      "text/html": [
       "<div>\n",
       "<style scoped>\n",
       "    .dataframe tbody tr th:only-of-type {\n",
       "        vertical-align: middle;\n",
       "    }\n",
       "\n",
       "    .dataframe tbody tr th {\n",
       "        vertical-align: top;\n",
       "    }\n",
       "\n",
       "    .dataframe thead th {\n",
       "        text-align: right;\n",
       "    }\n",
       "</style>\n",
       "<table border=\"1\" class=\"dataframe\">\n",
       "  <thead>\n",
       "    <tr style=\"text-align: right;\">\n",
       "      <th></th>\n",
       "      <th>cik</th>\n",
       "      <th>label</th>\n",
       "      <th>subset</th>\n",
       "      <th>text</th>\n",
       "    </tr>\n",
       "  </thead>\n",
       "  <tbody>\n",
       "    <tr>\n",
       "      <th>0</th>\n",
       "      <td>1476045</td>\n",
       "      <td>0</td>\n",
       "      <td>train</td>\n",
       "      <td>Chatham Lodging Trust is a REIT that invests i...</td>\n",
       "    </tr>\n",
       "    <tr>\n",
       "      <th>1</th>\n",
       "      <td>92352903</td>\n",
       "      <td>2</td>\n",
       "      <td>train</td>\n",
       "      <td>A cooperative bankshares corporation.  The com...</td>\n",
       "    </tr>\n",
       "    <tr>\n",
       "      <th>2</th>\n",
       "      <td>833829</td>\n",
       "      <td>0</td>\n",
       "      <td>train</td>\n",
       "      <td>Wind River, a global leader in Device Software...</td>\n",
       "    </tr>\n",
       "    <tr>\n",
       "      <th>3</th>\n",
       "      <td>914789</td>\n",
       "      <td>0</td>\n",
       "      <td>train</td>\n",
       "      <td>- Reported a 20% increase in revenue, driven b...</td>\n",
       "    </tr>\n",
       "    <tr>\n",
       "      <th>4</th>\n",
       "      <td>853816</td>\n",
       "      <td>0</td>\n",
       "      <td>train</td>\n",
       "      <td>Landstar System, Inc. is an asset-light provid...</td>\n",
       "    </tr>\n",
       "  </tbody>\n",
       "</table>\n",
       "</div>"
      ]
     },
     "execution_count": 55,
     "metadata": {},
     "output_type": "execute_result"
    }
   ],
   "execution_count": 55
  },
  {
   "metadata": {
    "ExecuteTime": {
     "end_time": "2024-09-16T13:07:52.439817Z",
     "start_time": "2024-09-16T13:07:52.248607Z"
    }
   },
   "cell_type": "code",
   "source": [
    "textual_dataset['text'] = textual_dataset['text'].apply(preprocess_text)\n",
    "X = textual_dataset.drop(['cik', 'label'], axis=1)\n",
    "y = textual_dataset['label']\n",
    "\n",
    "X_train, y_train, X_val, y_val, X_test, y_test = get_train_val_test_split(X, y)\n",
    "\n",
    "X_train = X_train['text']\n",
    "X_val = X_val['text']\n",
    "X_test = X_test['text']\n",
    "\n",
    "len(X_train), len(X_val), len(X_test)"
   ],
   "id": "6353771ddbe37ff6",
   "outputs": [
    {
     "data": {
      "text/plain": [
       "(7170, 14, 30)"
      ]
     },
     "execution_count": 56,
     "metadata": {},
     "output_type": "execute_result"
    }
   ],
   "execution_count": 56
  },
  {
   "metadata": {
    "ExecuteTime": {
     "end_time": "2024-09-16T13:08:09.001360Z",
     "start_time": "2024-09-16T13:07:57.996418Z"
    }
   },
   "cell_type": "code",
   "source": [
    "finbertTokenizer = BertTokenizer.from_pretrained('ProsusAI/finbert')\n",
    "prosusAIFinbert = BertForSequenceClassification.from_pretrained('ProsusAI/finbert', num_labels=3)"
   ],
   "id": "b331d203dcaf56c5",
   "outputs": [
    {
     "name": "stderr",
     "output_type": "stream",
     "text": [
      "C:\\Users\\grzeg\\PycharmProjects\\bankruptcy-prophet-new\\bankruptcy-prophet\\.venv\\Lib\\site-packages\\transformers\\tokenization_utils_base.py:1601: FutureWarning: `clean_up_tokenization_spaces` was not set. It will be set to `True` by default. This behavior will be depracted in transformers v4.45, and will be then set to `False` by default. For more details check this issue: https://github.com/huggingface/transformers/issues/31884\n",
      "  warnings.warn(\n"
     ]
    }
   ],
   "execution_count": 57
  },
  {
   "metadata": {
    "ExecuteTime": {
     "end_time": "2024-09-16T13:08:26.023097Z",
     "start_time": "2024-09-16T13:08:09.001360Z"
    }
   },
   "cell_type": "code",
   "source": "train_dataset, eval_dataset, test_dataset = create_datasets(finbertTokenizer, X_train, y_train, X_val, y_val, X_test, y_test)",
   "id": "af081b9db81d750e",
   "outputs": [],
   "execution_count": 58
  },
  {
   "metadata": {
    "ExecuteTime": {
     "end_time": "2024-09-16T13:08:26.048696Z",
     "start_time": "2024-09-16T13:08:26.023097Z"
    }
   },
   "cell_type": "code",
   "source": "trainer = get_trainer(prosusAIFinbert, train_dataset, eval_dataset)",
   "id": "311b32578cba1c13",
   "outputs": [],
   "execution_count": 59
  },
  {
   "metadata": {
    "ExecuteTime": {
     "end_time": "2024-09-16T16:30:00.484063Z",
     "start_time": "2024-09-16T13:08:37.811065Z"
    }
   },
   "cell_type": "code",
   "source": [
    "trainer.train()\n",
    "\n",
    "robertaForSequenceClassification.save_pretrained(\"./saved_model/finbert\")\n",
    "robertaTokenizer.save_pretrained(\"./saved_model/finbert\")"
   ],
   "id": "8d2ff581a2445abf",
   "outputs": [
    {
     "data": {
      "text/plain": [
       "<IPython.core.display.HTML object>"
      ],
      "text/html": [
       "\n",
       "    <div>\n",
       "      \n",
       "      <progress value='1347' max='1347' style='width:300px; height:20px; vertical-align: middle;'></progress>\n",
       "      [1347/1347 3:20:34, Epoch 3/3]\n",
       "    </div>\n",
       "    <table border=\"1\" class=\"dataframe\">\n",
       "  <thead>\n",
       " <tr style=\"text-align: left;\">\n",
       "      <th>Step</th>\n",
       "      <th>Training Loss</th>\n",
       "      <th>Validation Loss</th>\n",
       "      <th>Accuracy</th>\n",
       "      <th>Precision</th>\n",
       "      <th>Recall</th>\n",
       "      <th>F1</th>\n",
       "    </tr>\n",
       "  </thead>\n",
       "  <tbody>\n",
       "    <tr>\n",
       "      <td>449</td>\n",
       "      <td>0.226900</td>\n",
       "      <td>0.837802</td>\n",
       "      <td>0.714286</td>\n",
       "      <td>0.818182</td>\n",
       "      <td>0.714286</td>\n",
       "      <td>0.688889</td>\n",
       "    </tr>\n",
       "    <tr>\n",
       "      <td>898</td>\n",
       "      <td>0.119100</td>\n",
       "      <td>1.799599</td>\n",
       "      <td>0.642857</td>\n",
       "      <td>0.791667</td>\n",
       "      <td>0.642857</td>\n",
       "      <td>0.590643</td>\n",
       "    </tr>\n",
       "    <tr>\n",
       "      <td>1347</td>\n",
       "      <td>0.071700</td>\n",
       "      <td>1.824605</td>\n",
       "      <td>0.642857</td>\n",
       "      <td>0.791667</td>\n",
       "      <td>0.642857</td>\n",
       "      <td>0.590643</td>\n",
       "    </tr>\n",
       "  </tbody>\n",
       "</table><p>"
      ]
     },
     "metadata": {},
     "output_type": "display_data"
    },
    {
     "data": {
      "text/plain": [
       "('./saved_model/finbert\\\\tokenizer_config.json',\n",
       " './saved_model/finbert\\\\special_tokens_map.json',\n",
       " './saved_model/finbert\\\\vocab.json',\n",
       " './saved_model/finbert\\\\merges.txt',\n",
       " './saved_model/finbert\\\\added_tokens.json')"
      ]
     },
     "execution_count": 61,
     "metadata": {},
     "output_type": "execute_result"
    }
   ],
   "execution_count": 61
  },
  {
   "metadata": {
    "ExecuteTime": {
     "end_time": "2024-09-16T16:37:19.039911Z",
     "start_time": "2024-09-16T16:37:13.396855Z"
    }
   },
   "cell_type": "code",
   "source": "trainer.evaluate(test_dataset)",
   "id": "df2b62aea0e26a44",
   "outputs": [
    {
     "data": {
      "text/plain": [
       "<IPython.core.display.HTML object>"
      ],
      "text/html": [
       "\n",
       "    <div>\n",
       "      \n",
       "      <progress value='30' max='30' style='width:300px; height:20px; vertical-align: middle;'></progress>\n",
       "      [30/30 00:04]\n",
       "    </div>\n",
       "    "
      ]
     },
     "metadata": {},
     "output_type": "display_data"
    },
    {
     "data": {
      "text/plain": [
       "{'eval_loss': 0.8475218415260315,\n",
       " 'eval_accuracy': 0.7,\n",
       " 'eval_precision': 0.7556818181818182,\n",
       " 'eval_recall': 0.7,\n",
       " 'eval_f1': 0.6827262044653349,\n",
       " 'eval_runtime': 5.3163,\n",
       " 'eval_samples_per_second': 5.643,\n",
       " 'eval_steps_per_second': 5.643,\n",
       " 'epoch': 3.0}"
      ]
     },
     "execution_count": 62,
     "metadata": {},
     "output_type": "execute_result"
    }
   ],
   "execution_count": 62
  }
 ],
 "metadata": {
  "kernelspec": {
   "display_name": "Python 3",
   "language": "python",
   "name": "python3"
  },
  "language_info": {
   "codemirror_mode": {
    "name": "ipython",
    "version": 2
   },
   "file_extension": ".py",
   "mimetype": "text/x-python",
   "name": "python",
   "nbconvert_exporter": "python",
   "pygments_lexer": "ipython2",
   "version": "2.7.6"
  }
 },
 "nbformat": 4,
 "nbformat_minor": 5
}

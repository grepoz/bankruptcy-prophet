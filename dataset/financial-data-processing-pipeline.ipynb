{
 "cells": [
  {
   "cell_type": "code",
   "id": "initial_id",
   "metadata": {
    "collapsed": true,
    "ExecuteTime": {
     "end_time": "2024-04-21T20:33:52.395440Z",
     "start_time": "2024-04-21T20:33:52.381879Z"
    }
   },
   "source": [
    "import pandas as pd\n",
    "import datetime\n",
    "from collections import Counter\n",
    "import os\n",
    "import shutil"
   ],
   "outputs": [],
   "execution_count": 33
  },
  {
   "metadata": {
    "ExecuteTime": {
     "end_time": "2024-04-21T20:36:04.212804Z",
     "start_time": "2024-04-21T20:36:04.196682Z"
    }
   },
   "cell_type": "code",
   "source": [
    "final_financial_data_directory = 'final_financial_data'\n",
    "final_financial_data_in_date_range_directory = 'final_financial_data_in_date_range'"
   ],
   "id": "8a20f36ef5cc8ac1",
   "outputs": [],
   "execution_count": 35
  },
  {
   "metadata": {
    "ExecuteTime": {
     "end_time": "2024-04-21T20:17:43.692410Z",
     "start_time": "2024-04-21T20:17:43.674858Z"
    }
   },
   "cell_type": "code",
   "source": [
    "eligible_companies = pd.read_csv('companies_eligible_to_financial_dataset_2024-04-19_14-47-55.csv')\n",
    "eligible_companies.head()"
   ],
   "id": "aef7ea523fd137fa",
   "outputs": [
    {
     "data": {
      "text/plain": [
       "   Unnamed: 0   cik                            company  label ticker  \\\n",
       "0           0  1800                ABBOTT LABORATORIES  False    ABT   \n",
       "1           1  2488         ADVANCED MICRO DEVICES INC  False    AMD   \n",
       "2           2  2491           BALLY TECHNOLOGIES, INC.  False    BYI   \n",
       "3           3  2601                       AEROFLEX INC  False   ARXX   \n",
       "4           4  2969  AIR PRODUCTS & CHEMICALS INC /DE/  False    APD   \n",
       "\n",
       "               gurufocus-company-name gurufocus-stockid filing_date  \\\n",
       "0                 Abbott Laboratories            US066X  2021-02-19   \n",
       "1          Advanced Micro Devices Inc            US022E  2021-01-29   \n",
       "2  Bally Technologies Inc  (Delisted)            US06R5  2014-08-29   \n",
       "3            Aeroflex Inc  (Delisted)            US026H  2006-09-13   \n",
       "4        Air Products & Chemicals Inc            US06DU  2021-11-18   \n",
       "\n",
       "   cik-equal-gurufocus-cik first_match  \n",
       "0                     True         NaN  \n",
       "1                     True         NaN  \n",
       "2                     True         NaN  \n",
       "3                     True         NaN  \n",
       "4                     True         NaN  "
      ],
      "text/html": [
       "<div>\n",
       "<style scoped>\n",
       "    .dataframe tbody tr th:only-of-type {\n",
       "        vertical-align: middle;\n",
       "    }\n",
       "\n",
       "    .dataframe tbody tr th {\n",
       "        vertical-align: top;\n",
       "    }\n",
       "\n",
       "    .dataframe thead th {\n",
       "        text-align: right;\n",
       "    }\n",
       "</style>\n",
       "<table border=\"1\" class=\"dataframe\">\n",
       "  <thead>\n",
       "    <tr style=\"text-align: right;\">\n",
       "      <th></th>\n",
       "      <th>Unnamed: 0</th>\n",
       "      <th>cik</th>\n",
       "      <th>company</th>\n",
       "      <th>label</th>\n",
       "      <th>ticker</th>\n",
       "      <th>gurufocus-company-name</th>\n",
       "      <th>gurufocus-stockid</th>\n",
       "      <th>filing_date</th>\n",
       "      <th>cik-equal-gurufocus-cik</th>\n",
       "      <th>first_match</th>\n",
       "    </tr>\n",
       "  </thead>\n",
       "  <tbody>\n",
       "    <tr>\n",
       "      <th>0</th>\n",
       "      <td>0</td>\n",
       "      <td>1800</td>\n",
       "      <td>ABBOTT LABORATORIES</td>\n",
       "      <td>False</td>\n",
       "      <td>ABT</td>\n",
       "      <td>Abbott Laboratories</td>\n",
       "      <td>US066X</td>\n",
       "      <td>2021-02-19</td>\n",
       "      <td>True</td>\n",
       "      <td>NaN</td>\n",
       "    </tr>\n",
       "    <tr>\n",
       "      <th>1</th>\n",
       "      <td>1</td>\n",
       "      <td>2488</td>\n",
       "      <td>ADVANCED MICRO DEVICES INC</td>\n",
       "      <td>False</td>\n",
       "      <td>AMD</td>\n",
       "      <td>Advanced Micro Devices Inc</td>\n",
       "      <td>US022E</td>\n",
       "      <td>2021-01-29</td>\n",
       "      <td>True</td>\n",
       "      <td>NaN</td>\n",
       "    </tr>\n",
       "    <tr>\n",
       "      <th>2</th>\n",
       "      <td>2</td>\n",
       "      <td>2491</td>\n",
       "      <td>BALLY TECHNOLOGIES, INC.</td>\n",
       "      <td>False</td>\n",
       "      <td>BYI</td>\n",
       "      <td>Bally Technologies Inc  (Delisted)</td>\n",
       "      <td>US06R5</td>\n",
       "      <td>2014-08-29</td>\n",
       "      <td>True</td>\n",
       "      <td>NaN</td>\n",
       "    </tr>\n",
       "    <tr>\n",
       "      <th>3</th>\n",
       "      <td>3</td>\n",
       "      <td>2601</td>\n",
       "      <td>AEROFLEX INC</td>\n",
       "      <td>False</td>\n",
       "      <td>ARXX</td>\n",
       "      <td>Aeroflex Inc  (Delisted)</td>\n",
       "      <td>US026H</td>\n",
       "      <td>2006-09-13</td>\n",
       "      <td>True</td>\n",
       "      <td>NaN</td>\n",
       "    </tr>\n",
       "    <tr>\n",
       "      <th>4</th>\n",
       "      <td>4</td>\n",
       "      <td>2969</td>\n",
       "      <td>AIR PRODUCTS &amp; CHEMICALS INC /DE/</td>\n",
       "      <td>False</td>\n",
       "      <td>APD</td>\n",
       "      <td>Air Products &amp; Chemicals Inc</td>\n",
       "      <td>US06DU</td>\n",
       "      <td>2021-11-18</td>\n",
       "      <td>True</td>\n",
       "      <td>NaN</td>\n",
       "    </tr>\n",
       "  </tbody>\n",
       "</table>\n",
       "</div>"
      ]
     },
     "execution_count": 17,
     "metadata": {},
     "output_type": "execute_result"
    }
   ],
   "execution_count": 17
  },
  {
   "metadata": {
    "ExecuteTime": {
     "end_time": "2024-04-21T20:17:44.649695Z",
     "start_time": "2024-04-21T20:17:44.644223Z"
    }
   },
   "cell_type": "code",
   "source": "eligible_companies['label'].value_counts()",
   "id": "c1c9b4464efedfb8",
   "outputs": [
    {
     "data": {
      "text/plain": [
       "label\n",
       "False    5291\n",
       "True      126\n",
       "Name: count, dtype: int64"
      ]
     },
     "execution_count": 18,
     "metadata": {},
     "output_type": "execute_result"
    }
   ],
   "execution_count": 18
  },
  {
   "metadata": {
    "ExecuteTime": {
     "end_time": "2024-04-21T20:17:46.360159Z",
     "start_time": "2024-04-21T20:17:46.351342Z"
    }
   },
   "cell_type": "code",
   "source": "final_eligible_companies = eligible_companies.copy()",
   "id": "65787dea7ff2aea1",
   "outputs": [],
   "execution_count": 19
  },
  {
   "metadata": {
    "ExecuteTime": {
     "end_time": "2024-04-21T20:17:47.731724Z",
     "start_time": "2024-04-21T20:17:47.716833Z"
    }
   },
   "cell_type": "code",
   "source": [
    "def set_date_difference(final_eligible_companies):\n",
    "\n",
    "    for index, row in final_eligible_companies.iterrows():\n",
    "        cik = row['cik']\n",
    "        gurufocus_stockid = row['gurufocus-stockid']\n",
    "        ticker = row['ticker']\n",
    "        filing_date = row['filing_date']\n",
    "            \n",
    "        filepath = f'{final_financial_data_directory}/{cik}-{gurufocus_stockid}_{ticker}.csv'\n",
    "            \n",
    "        df = pd.read_csv(filepath)\n",
    "        last_column_name = df.columns[-1]\n",
    "        split_date = last_column_name.split(' ')\n",
    "        month, year = split_date[0], split_date[1]\n",
    "        year = int(year.split('.')[0])\n",
    "        \n",
    "        if 0 <= year <= 9:\n",
    "            year = f'200{year}'\n",
    "        elif 10 <= year <= 24:\n",
    "            year = f'20{year}'\n",
    "        elif year > 24:\n",
    "            year = f'19{year}'\n",
    "            \n",
    "        gurufocus_last_data_date = datetime.datetime.strptime(f'{month} {year}', '%b %Y')\n",
    "        \n",
    "        filing_date = filing_date[:7]\n",
    "        filing_date = datetime.datetime.strptime(f'{filing_date}', '%Y-%m')\n",
    "\n",
    "        difference_in_months = int((gurufocus_last_data_date - filing_date).days / 30)\n",
    "        \n",
    "        final_eligible_companies.loc[final_eligible_companies['cik'] == cik, 'difference_in_months'] = difference_in_months\n",
    "        \n",
    "    return final_eligible_companies"
   ],
   "id": "f152a480a2e4498d",
   "outputs": [],
   "execution_count": 20
  },
  {
   "metadata": {
    "ExecuteTime": {
     "end_time": "2024-04-21T20:17:59.581435Z",
     "start_time": "2024-04-21T20:17:49.072744Z"
    }
   },
   "cell_type": "code",
   "source": "final_eligible_companies = set_date_difference(final_eligible_companies)",
   "id": "dbb6d67099d3d978",
   "outputs": [],
   "execution_count": 21
  },
  {
   "metadata": {
    "ExecuteTime": {
     "end_time": "2024-04-21T20:19:02.742638Z",
     "start_time": "2024-04-21T20:19:02.728869Z"
    }
   },
   "cell_type": "code",
   "source": [
    "counts_df = final_eligible_companies['difference_in_months'].value_counts()\n",
    "# set column names\n",
    "counts_df = counts_df.reset_index()\n",
    "counts_df.columns = ['difference_in_months', 'count']\n",
    "counts_df.head()"
   ],
   "id": "3210dfa3aca668ba",
   "outputs": [
    {
     "data": {
      "text/plain": [
       "   difference_in_months  count\n",
       "0                  34.0   1172\n",
       "1                  33.0    650\n",
       "2                   6.0    519\n",
       "3                   0.0    514\n",
       "4                   3.0    337"
      ],
      "text/html": [
       "<div>\n",
       "<style scoped>\n",
       "    .dataframe tbody tr th:only-of-type {\n",
       "        vertical-align: middle;\n",
       "    }\n",
       "\n",
       "    .dataframe tbody tr th {\n",
       "        vertical-align: top;\n",
       "    }\n",
       "\n",
       "    .dataframe thead th {\n",
       "        text-align: right;\n",
       "    }\n",
       "</style>\n",
       "<table border=\"1\" class=\"dataframe\">\n",
       "  <thead>\n",
       "    <tr style=\"text-align: right;\">\n",
       "      <th></th>\n",
       "      <th>difference_in_months</th>\n",
       "      <th>count</th>\n",
       "    </tr>\n",
       "  </thead>\n",
       "  <tbody>\n",
       "    <tr>\n",
       "      <th>0</th>\n",
       "      <td>34.0</td>\n",
       "      <td>1172</td>\n",
       "    </tr>\n",
       "    <tr>\n",
       "      <th>1</th>\n",
       "      <td>33.0</td>\n",
       "      <td>650</td>\n",
       "    </tr>\n",
       "    <tr>\n",
       "      <th>2</th>\n",
       "      <td>6.0</td>\n",
       "      <td>519</td>\n",
       "    </tr>\n",
       "    <tr>\n",
       "      <th>3</th>\n",
       "      <td>0.0</td>\n",
       "      <td>514</td>\n",
       "    </tr>\n",
       "    <tr>\n",
       "      <th>4</th>\n",
       "      <td>3.0</td>\n",
       "      <td>337</td>\n",
       "    </tr>\n",
       "  </tbody>\n",
       "</table>\n",
       "</div>"
      ]
     },
     "execution_count": 22,
     "metadata": {},
     "output_type": "execute_result"
    }
   ],
   "execution_count": 22
  },
  {
   "metadata": {
    "ExecuteTime": {
     "end_time": "2024-04-21T20:37:00.093816Z",
     "start_time": "2024-04-21T20:37:00.080795Z"
    }
   },
   "cell_type": "code",
   "source": [
    "def get_companies_within_date_range(final_eligible_companies):\n",
    "    mask = (final_eligible_companies['difference_in_months'] > -12) & (final_eligible_companies['difference_in_months'] < 36)\n",
    "    eligible_companies_in_eligible_range = final_eligible_companies[mask]\n",
    "    eligible_companies_in_eligible_range['difference_in_months'] = eligible_companies_in_eligible_range['difference_in_months'].astype(int)\n",
    "    return eligible_companies_in_eligible_range\n",
    "\n",
    "def drop_unused_columns(final_eligible_companies):\n",
    "    final_eligible_companies.drop(columns=['cik-equal-gurufocus-cik', 'first_match'], inplace=True)\n",
    "    return final_eligible_companies"
   ],
   "id": "a928bea3c86d326e",
   "outputs": [],
   "execution_count": 36
  },
  {
   "metadata": {},
   "cell_type": "markdown",
   "source": "#### Processing I",
   "id": "1c3d22378017319e"
  },
  {
   "metadata": {
    "ExecuteTime": {
     "end_time": "2024-04-21T20:21:33.384855Z",
     "start_time": "2024-04-21T20:21:33.364693Z"
    }
   },
   "cell_type": "code",
   "source": [
    "final_eligible_companies = get_companies_within_date_range(final_eligible_companies)\n",
    "final_eligible_companies = drop_unused_columns(final_eligible_companies)\n",
    "\n",
    "print(len(final_eligible_companies))\n",
    "final_eligible_companies['label'].value_counts(normalize=True)"
   ],
   "id": "5406c2d0b275007a",
   "outputs": [
    {
     "name": "stdout",
     "output_type": "stream",
     "text": [
      "5055\n"
     ]
    },
    {
     "data": {
      "text/plain": [
       "label\n",
       "False    0.976657\n",
       "True     0.023343\n",
       "Name: proportion, dtype: float64"
      ]
     },
     "execution_count": 30,
     "metadata": {},
     "output_type": "execute_result"
    }
   ],
   "execution_count": 30
  },
  {
   "metadata": {},
   "cell_type": "code",
   "outputs": [],
   "execution_count": null,
   "source": "final_eligible_companies.to_csv('eligible_companies_in_eligible_range.csv', index=False)",
   "id": "8337e21aeeb994c"
  },
  {
   "metadata": {
    "ExecuteTime": {
     "end_time": "2024-04-21T20:35:35.194866Z",
     "start_time": "2024-04-21T20:35:29.692391Z"
    }
   },
   "cell_type": "code",
   "source": [
    "for index, row in final_eligible_companies.iterrows():\n",
    "    cik = row['cik']\n",
    "    gurufocus_stockid = row['gurufocus-stockid']\n",
    "    ticker = row['ticker']\n",
    "    filing_date = row['filing_date']\n",
    "    \n",
    "    filepath = f'{final_financial_data_directory}/{cik}-{gurufocus_stockid}_{ticker}.csv'\n",
    "        \n",
    "    shutil.copy(filepath, f'./{final_financial_data_in_date_range_directory}/{cik}-{gurufocus_stockid}_{ticker}.csv')"
   ],
   "id": "2501819964a6c9b2",
   "outputs": [],
   "execution_count": 34
  },
  {
   "metadata": {},
   "cell_type": "markdown",
   "source": "#### Processing II",
   "id": "41a88331b33c9aef"
  },
  {
   "metadata": {
    "ExecuteTime": {
     "end_time": "2024-04-21T20:43:52.744587Z",
     "start_time": "2024-04-21T20:43:52.733971Z"
    }
   },
   "cell_type": "code",
   "source": [
    "with open('chosen_variables.txt', 'r') as file:\n",
    "    chosen_variables = file.read().splitlines()\n",
    "    \n",
    "with open('most_common_variables.txt', 'r') as file:\n",
    "    most_common_variables = file.read().splitlines()"
   ],
   "id": "2221cf9e3667a1fe",
   "outputs": [],
   "execution_count": 38
  },
  {
   "metadata": {},
   "cell_type": "code",
   "outputs": [],
   "execution_count": null,
   "source": [
    "def delete_duplicated_rows(df):\n",
    "    df.drop(df.index[df.iloc[:, 1].duplicated(keep=False)], inplace=True)\n",
    "    return df\n",
    "\n",
    "def has_dataframe_enough_variables(df, variables, threshold):\n",
    "    csv_variable = df.iloc[:, 1].tolist()\n",
    "    cnt = 0\n",
    "    for chosen_variable in variables:\n",
    "        if chosen_variable not in csv_variable:\n",
    "            cnt += 1\n",
    "            \n",
    "    if cnt <= threshold:\n",
    "        return True\n",
    "    else:\n",
    "        return False"
   ],
   "id": "368182811c954da4"
  },
  {
   "metadata": {},
   "cell_type": "code",
   "outputs": [],
   "execution_count": null,
   "source": [
    "for filename in os.listdir(final_financial_data_in_date_range_directory):\n",
    "    df = pd.read_csv(f'{final_financial_data_in_date_range_directory}/{filename}')\n",
    "    \n",
    "    df = delete_duplicated_rows(df)\n",
    "    \n",
    "    # invert df\n",
    "    \n",
    "    \n",
    "    "
   ],
   "id": "47b30f2ccbdce1c3"
  },
  {
   "metadata": {},
   "cell_type": "code",
   "outputs": [],
   "execution_count": null,
   "source": "",
   "id": "8c2ac49268745db7"
  }
 ],
 "metadata": {
  "kernelspec": {
   "display_name": "Python 3",
   "language": "python",
   "name": "python3"
  },
  "language_info": {
   "codemirror_mode": {
    "name": "ipython",
    "version": 2
   },
   "file_extension": ".py",
   "mimetype": "text/x-python",
   "name": "python",
   "nbconvert_exporter": "python",
   "pygments_lexer": "ipython2",
   "version": "2.7.6"
  }
 },
 "nbformat": 4,
 "nbformat_minor": 5
}

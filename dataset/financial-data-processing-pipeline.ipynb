{
 "cells": [
  {
   "cell_type": "code",
   "id": "initial_id",
   "metadata": {
    "collapsed": true,
    "ExecuteTime": {
     "end_time": "2024-04-23T17:51:21.807855Z",
     "start_time": "2024-04-23T17:51:21.392552Z"
    }
   },
   "source": [
    "import pandas as pd\n",
    "import datetime\n",
    "from collections import Counter\n",
    "import os\n",
    "import shutil"
   ],
   "outputs": [],
   "execution_count": 1
  },
  {
   "metadata": {
    "ExecuteTime": {
     "end_time": "2024-04-23T17:51:23.247118Z",
     "start_time": "2024-04-23T17:51:23.243413Z"
    }
   },
   "cell_type": "code",
   "source": [
    "final_financial_data_directory = 'final_financial_data'\n",
    "final_financial_data_in_date_range_directory = 'final_financial_data_in_date_range'\n",
    "final_financial_data_processed_17_variables_directory = 'final_financial_data_processed_17_variables'\n",
    "final_financial_data_processed_100_variables_directory = 'final_financial_data_processed_100_variables'\n",
    "final_financial_data_processed_17_variables_5years_directory = 'final_financial_data_processed_17_variables_5years'"
   ],
   "id": "8a20f36ef5cc8ac1",
   "outputs": [],
   "execution_count": 2
  },
  {
   "metadata": {
    "ExecuteTime": {
     "end_time": "2024-04-22T11:05:04.974214Z",
     "start_time": "2024-04-22T11:05:04.940915Z"
    }
   },
   "cell_type": "code",
   "source": [
    "eligible_companies = pd.read_csv('companies_eligible_to_financial_dataset_2024-04-19_14-47-55.csv')\n",
    "eligible_companies.head()"
   ],
   "id": "aef7ea523fd137fa",
   "outputs": [
    {
     "data": {
      "text/plain": [
       "   Unnamed: 0   cik                            company  label ticker  \\\n",
       "0           0  1800                ABBOTT LABORATORIES  False    ABT   \n",
       "1           1  2488         ADVANCED MICRO DEVICES INC  False    AMD   \n",
       "2           2  2491           BALLY TECHNOLOGIES, INC.  False    BYI   \n",
       "3           3  2601                       AEROFLEX INC  False   ARXX   \n",
       "4           4  2969  AIR PRODUCTS & CHEMICALS INC /DE/  False    APD   \n",
       "\n",
       "               gurufocus-company-name gurufocus-stockid filing_date  \\\n",
       "0                 Abbott Laboratories            US066X  2021-02-19   \n",
       "1          Advanced Micro Devices Inc            US022E  2021-01-29   \n",
       "2  Bally Technologies Inc  (Delisted)            US06R5  2014-08-29   \n",
       "3            Aeroflex Inc  (Delisted)            US026H  2006-09-13   \n",
       "4        Air Products & Chemicals Inc            US06DU  2021-11-18   \n",
       "\n",
       "   cik-equal-gurufocus-cik first_match  \n",
       "0                     True         NaN  \n",
       "1                     True         NaN  \n",
       "2                     True         NaN  \n",
       "3                     True         NaN  \n",
       "4                     True         NaN  "
      ],
      "text/html": [
       "<div>\n",
       "<style scoped>\n",
       "    .dataframe tbody tr th:only-of-type {\n",
       "        vertical-align: middle;\n",
       "    }\n",
       "\n",
       "    .dataframe tbody tr th {\n",
       "        vertical-align: top;\n",
       "    }\n",
       "\n",
       "    .dataframe thead th {\n",
       "        text-align: right;\n",
       "    }\n",
       "</style>\n",
       "<table border=\"1\" class=\"dataframe\">\n",
       "  <thead>\n",
       "    <tr style=\"text-align: right;\">\n",
       "      <th></th>\n",
       "      <th>Unnamed: 0</th>\n",
       "      <th>cik</th>\n",
       "      <th>company</th>\n",
       "      <th>label</th>\n",
       "      <th>ticker</th>\n",
       "      <th>gurufocus-company-name</th>\n",
       "      <th>gurufocus-stockid</th>\n",
       "      <th>filing_date</th>\n",
       "      <th>cik-equal-gurufocus-cik</th>\n",
       "      <th>first_match</th>\n",
       "    </tr>\n",
       "  </thead>\n",
       "  <tbody>\n",
       "    <tr>\n",
       "      <th>0</th>\n",
       "      <td>0</td>\n",
       "      <td>1800</td>\n",
       "      <td>ABBOTT LABORATORIES</td>\n",
       "      <td>False</td>\n",
       "      <td>ABT</td>\n",
       "      <td>Abbott Laboratories</td>\n",
       "      <td>US066X</td>\n",
       "      <td>2021-02-19</td>\n",
       "      <td>True</td>\n",
       "      <td>NaN</td>\n",
       "    </tr>\n",
       "    <tr>\n",
       "      <th>1</th>\n",
       "      <td>1</td>\n",
       "      <td>2488</td>\n",
       "      <td>ADVANCED MICRO DEVICES INC</td>\n",
       "      <td>False</td>\n",
       "      <td>AMD</td>\n",
       "      <td>Advanced Micro Devices Inc</td>\n",
       "      <td>US022E</td>\n",
       "      <td>2021-01-29</td>\n",
       "      <td>True</td>\n",
       "      <td>NaN</td>\n",
       "    </tr>\n",
       "    <tr>\n",
       "      <th>2</th>\n",
       "      <td>2</td>\n",
       "      <td>2491</td>\n",
       "      <td>BALLY TECHNOLOGIES, INC.</td>\n",
       "      <td>False</td>\n",
       "      <td>BYI</td>\n",
       "      <td>Bally Technologies Inc  (Delisted)</td>\n",
       "      <td>US06R5</td>\n",
       "      <td>2014-08-29</td>\n",
       "      <td>True</td>\n",
       "      <td>NaN</td>\n",
       "    </tr>\n",
       "    <tr>\n",
       "      <th>3</th>\n",
       "      <td>3</td>\n",
       "      <td>2601</td>\n",
       "      <td>AEROFLEX INC</td>\n",
       "      <td>False</td>\n",
       "      <td>ARXX</td>\n",
       "      <td>Aeroflex Inc  (Delisted)</td>\n",
       "      <td>US026H</td>\n",
       "      <td>2006-09-13</td>\n",
       "      <td>True</td>\n",
       "      <td>NaN</td>\n",
       "    </tr>\n",
       "    <tr>\n",
       "      <th>4</th>\n",
       "      <td>4</td>\n",
       "      <td>2969</td>\n",
       "      <td>AIR PRODUCTS &amp; CHEMICALS INC /DE/</td>\n",
       "      <td>False</td>\n",
       "      <td>APD</td>\n",
       "      <td>Air Products &amp; Chemicals Inc</td>\n",
       "      <td>US06DU</td>\n",
       "      <td>2021-11-18</td>\n",
       "      <td>True</td>\n",
       "      <td>NaN</td>\n",
       "    </tr>\n",
       "  </tbody>\n",
       "</table>\n",
       "</div>"
      ]
     },
     "execution_count": 34,
     "metadata": {},
     "output_type": "execute_result"
    }
   ],
   "execution_count": 34
  },
  {
   "metadata": {
    "ExecuteTime": {
     "end_time": "2024-04-22T11:05:07.307597Z",
     "start_time": "2024-04-22T11:05:07.297369Z"
    }
   },
   "cell_type": "code",
   "source": "eligible_companies['label'].value_counts()",
   "id": "c1c9b4464efedfb8",
   "outputs": [
    {
     "data": {
      "text/plain": [
       "label\n",
       "False    5291\n",
       "True      126\n",
       "Name: count, dtype: int64"
      ]
     },
     "execution_count": 35,
     "metadata": {},
     "output_type": "execute_result"
    }
   ],
   "execution_count": 35
  },
  {
   "metadata": {
    "ExecuteTime": {
     "end_time": "2024-04-22T11:05:10.781578Z",
     "start_time": "2024-04-22T11:05:10.769489Z"
    }
   },
   "cell_type": "code",
   "source": "final_eligible_companies = eligible_companies.copy()",
   "id": "65787dea7ff2aea1",
   "outputs": [],
   "execution_count": 36
  },
  {
   "metadata": {
    "ExecuteTime": {
     "end_time": "2024-04-22T20:14:53.165406Z",
     "start_time": "2024-04-22T20:14:53.156836Z"
    }
   },
   "cell_type": "code",
   "source": [
    "def drop_columns_after_ttm_or_preliminary(df):\n",
    "    try:\n",
    "        try:\n",
    "            ttm_index = df.columns.get_loc('TTM')\n",
    "            df = df.iloc[:, :ttm_index]\n",
    "            return df\n",
    "        except:\n",
    "            pass\n",
    "            \n",
    "        try:\n",
    "            ttm_preliminary_string = 'TTM  Preliminary'\n",
    "            ttm_index = df.columns.get_loc(ttm_preliminary_string)\n",
    "            df = df.iloc[:, :ttm_index]\n",
    "            return df\n",
    "        except:\n",
    "            print(f'No \\'TTM  Preliminary\\' column in {filename}')\n",
    "            \n",
    "        try:\n",
    "            preliminary_string = 'Preliminary'\n",
    "            preliminary_index = None\n",
    "            for i, s in enumerate(df.columns):\n",
    "                if preliminary_string in s:\n",
    "                    preliminary_index = i\n",
    "                    break\n",
    "                    \n",
    "            df = df.iloc[:, :preliminary_index + 1]\n",
    "            last_column_name = df.columns[-1]\n",
    "            split_date = last_column_name.split(' ')\n",
    "            updated_col_name = f'{split_date[0]} {split_date[1]}'\n",
    "            \n",
    "            df.rename(columns={last_column_name: updated_col_name}, inplace=True)\n",
    "            \n",
    "            print(f'No TTM but found Preliminary in {filename}')\n",
    "        except:\n",
    "            print(f'No Preliminary column in {filename}')\n",
    "        \n",
    "    except Exception as ex:\n",
    "        print(f'Ex: {ex}, filename: {filename}')\n",
    "    \n",
    "    return df\n",
    "\n",
    "def clean_date_index(df):\n",
    "    for index in df.index:\n",
    "        split_date = index.split(' ')\n",
    "        month, year = split_date[0], int(split_date[1])\n",
    "        \n",
    "        if 0 <= year <= 9:\n",
    "            year = f'200{year}'\n",
    "        elif 10 <= year <= 24:\n",
    "            year = f'20{year}'\n",
    "        elif year > 24:\n",
    "            year = f'19{year}'\n",
    "            \n",
    "        df.rename(index={index: f'{month} {year}'}, inplace=True)\n",
    "    return df"
   ],
   "id": "7d90984b32d9cfa7",
   "outputs": [],
   "execution_count": 133
  },
  {
   "metadata": {
    "ExecuteTime": {
     "end_time": "2024-04-22T20:15:04.381776Z",
     "start_time": "2024-04-22T20:15:04.374024Z"
    }
   },
   "cell_type": "code",
   "source": [
    "def set_date_difference(final_eligible_companies):\n",
    "\n",
    "    for index, row in final_eligible_companies.iterrows():\n",
    "        try:\n",
    "            cik = row['cik']\n",
    "            gurufocus_stockid = row['gurufocus-stockid']\n",
    "            ticker = row['ticker']\n",
    "            filing_date = row['filing_date']\n",
    "                \n",
    "            filepath = f'{final_financial_data_directory}/{cik}-{gurufocus_stockid}_{ticker}.csv'\n",
    "                \n",
    "            df = pd.read_csv(filepath)\n",
    "            \n",
    "            df = drop_columns_after_ttm_or_preliminary(df)\n",
    "            \n",
    "            last_column_name = df.columns[-1]\n",
    "            split_date = last_column_name.split(' ')\n",
    "            month, year = split_date[0], int(split_date[1])\n",
    "            \n",
    "            if 0 <= year <= 9:\n",
    "                year = f'200{year}'\n",
    "            elif 10 <= year <= 24:\n",
    "                year = f'20{year}'\n",
    "            elif year > 24:\n",
    "                year = f'19{year}'\n",
    "                \n",
    "            gurufocus_last_data_date = datetime.datetime.strptime(f'{month} {year}', '%b %Y')\n",
    "            \n",
    "            filing_date = filing_date[:7]\n",
    "            filing_date = datetime.datetime.strptime(f'{filing_date}', '%Y-%m')\n",
    "    \n",
    "            difference_in_months = int((gurufocus_last_data_date - filing_date).days / 30)\n",
    "            \n",
    "            final_eligible_companies.loc[final_eligible_companies['cik'] == cik, 'difference_in_months'] = difference_in_months\n",
    "        \n",
    "        except Exception as ex:\n",
    "            print(f'Ex: {ex}, filename: {filename}')\n",
    "        \n",
    "    return final_eligible_companies"
   ],
   "id": "f152a480a2e4498d",
   "outputs": [],
   "execution_count": 134
  },
  {
   "metadata": {
    "ExecuteTime": {
     "end_time": "2024-04-22T11:06:35.178685Z",
     "start_time": "2024-04-22T11:06:24.407498Z"
    }
   },
   "cell_type": "code",
   "source": "final_eligible_companies = set_date_difference(final_eligible_companies)",
   "id": "dbb6d67099d3d978",
   "outputs": [
    {
     "name": "stdout",
     "output_type": "stream",
     "text": [
      "Ex: invalid literal for int() with base 10: 'Period', filename: 1000180-US05DT_SNDK.csv\n"
     ]
    }
   ],
   "execution_count": 41
  },
  {
   "metadata": {
    "ExecuteTime": {
     "end_time": "2024-04-22T11:06:41.954785Z",
     "start_time": "2024-04-22T11:06:41.946857Z"
    }
   },
   "cell_type": "code",
   "source": [
    "counts_df = final_eligible_companies['difference_in_months'].value_counts()\n",
    "# set column names\n",
    "counts_df = counts_df.reset_index()\n",
    "counts_df.columns = ['difference_in_months', 'count']\n",
    "counts_df.head()"
   ],
   "id": "3210dfa3aca668ba",
   "outputs": [
    {
     "data": {
      "text/plain": [
       "   difference_in_months  count\n",
       "0                  -3.0   1398\n",
       "1                  34.0   1190\n",
       "2                  -2.0    825\n",
       "3                  33.0    676\n",
       "4                  22.0    325"
      ],
      "text/html": [
       "<div>\n",
       "<style scoped>\n",
       "    .dataframe tbody tr th:only-of-type {\n",
       "        vertical-align: middle;\n",
       "    }\n",
       "\n",
       "    .dataframe tbody tr th {\n",
       "        vertical-align: top;\n",
       "    }\n",
       "\n",
       "    .dataframe thead th {\n",
       "        text-align: right;\n",
       "    }\n",
       "</style>\n",
       "<table border=\"1\" class=\"dataframe\">\n",
       "  <thead>\n",
       "    <tr style=\"text-align: right;\">\n",
       "      <th></th>\n",
       "      <th>difference_in_months</th>\n",
       "      <th>count</th>\n",
       "    </tr>\n",
       "  </thead>\n",
       "  <tbody>\n",
       "    <tr>\n",
       "      <th>0</th>\n",
       "      <td>-3.0</td>\n",
       "      <td>1398</td>\n",
       "    </tr>\n",
       "    <tr>\n",
       "      <th>1</th>\n",
       "      <td>34.0</td>\n",
       "      <td>1190</td>\n",
       "    </tr>\n",
       "    <tr>\n",
       "      <th>2</th>\n",
       "      <td>-2.0</td>\n",
       "      <td>825</td>\n",
       "    </tr>\n",
       "    <tr>\n",
       "      <th>3</th>\n",
       "      <td>33.0</td>\n",
       "      <td>676</td>\n",
       "    </tr>\n",
       "    <tr>\n",
       "      <th>4</th>\n",
       "      <td>22.0</td>\n",
       "      <td>325</td>\n",
       "    </tr>\n",
       "  </tbody>\n",
       "</table>\n",
       "</div>"
      ]
     },
     "execution_count": 42,
     "metadata": {},
     "output_type": "execute_result"
    }
   ],
   "execution_count": 42
  },
  {
   "metadata": {
    "ExecuteTime": {
     "end_time": "2024-04-22T11:06:48.101518Z",
     "start_time": "2024-04-22T11:06:48.091174Z"
    }
   },
   "cell_type": "code",
   "source": [
    "def get_companies_within_date_range(final_eligible_companies):\n",
    "    mask = (final_eligible_companies['difference_in_months'] > -12) & (final_eligible_companies['difference_in_months'] < 36)\n",
    "    eligible_companies_in_eligible_range = final_eligible_companies[mask]\n",
    "    eligible_companies_in_eligible_range['difference_in_months'] = eligible_companies_in_eligible_range['difference_in_months'].astype(int)\n",
    "    return eligible_companies_in_eligible_range\n",
    "\n",
    "def drop_unused_columns(final_eligible_companies):\n",
    "    final_eligible_companies.drop(columns=['cik-equal-gurufocus-cik', 'first_match'], inplace=True)\n",
    "    return final_eligible_companies"
   ],
   "id": "a928bea3c86d326e",
   "outputs": [],
   "execution_count": 43
  },
  {
   "metadata": {},
   "cell_type": "markdown",
   "source": "#### Processing I",
   "id": "1c3d22378017319e"
  },
  {
   "metadata": {
    "ExecuteTime": {
     "end_time": "2024-04-22T11:06:54.503493Z",
     "start_time": "2024-04-22T11:06:54.492344Z"
    }
   },
   "cell_type": "code",
   "source": [
    "final_eligible_companies = get_companies_within_date_range(final_eligible_companies)\n",
    "final_eligible_companies = drop_unused_columns(final_eligible_companies)\n",
    "\n",
    "print(len(final_eligible_companies))\n",
    "final_eligible_companies['label'].value_counts(normalize=True)"
   ],
   "id": "5406c2d0b275007a",
   "outputs": [
    {
     "name": "stdout",
     "output_type": "stream",
     "text": [
      "5078\n"
     ]
    },
    {
     "name": "stderr",
     "output_type": "stream",
     "text": [
      "C:\\Users\\grzeg\\AppData\\Local\\Temp\\ipykernel_30780\\3847550151.py:4: SettingWithCopyWarning: \n",
      "A value is trying to be set on a copy of a slice from a DataFrame.\n",
      "Try using .loc[row_indexer,col_indexer] = value instead\n",
      "\n",
      "See the caveats in the documentation: https://pandas.pydata.org/pandas-docs/stable/user_guide/indexing.html#returning-a-view-versus-a-copy\n",
      "  eligible_companies_in_eligible_range['difference_in_months'] = eligible_companies_in_eligible_range['difference_in_months'].astype(int)\n",
      "C:\\Users\\grzeg\\AppData\\Local\\Temp\\ipykernel_30780\\3847550151.py:8: SettingWithCopyWarning: \n",
      "A value is trying to be set on a copy of a slice from a DataFrame\n",
      "\n",
      "See the caveats in the documentation: https://pandas.pydata.org/pandas-docs/stable/user_guide/indexing.html#returning-a-view-versus-a-copy\n",
      "  final_eligible_companies.drop(columns=['cik-equal-gurufocus-cik', 'first_match'], inplace=True)\n"
     ]
    },
    {
     "data": {
      "text/plain": [
       "label\n",
       "False    0.976959\n",
       "True     0.023041\n",
       "Name: proportion, dtype: float64"
      ]
     },
     "execution_count": 44,
     "metadata": {},
     "output_type": "execute_result"
    }
   ],
   "execution_count": 44
  },
  {
   "metadata": {
    "ExecuteTime": {
     "end_time": "2024-04-22T11:07:02.389597Z",
     "start_time": "2024-04-22T11:07:02.362029Z"
    }
   },
   "cell_type": "code",
   "source": "final_eligible_companies.to_csv('eligible_companies_in_eligible_range.csv', index=False)",
   "id": "8337e21aeeb994c",
   "outputs": [],
   "execution_count": 45
  },
  {
   "metadata": {
    "ExecuteTime": {
     "end_time": "2024-04-22T11:07:50.257512Z",
     "start_time": "2024-04-22T11:07:45.188478Z"
    }
   },
   "cell_type": "code",
   "source": [
    "for index, row in final_eligible_companies.iterrows():\n",
    "    cik = row['cik']\n",
    "    gurufocus_stockid = row['gurufocus-stockid']\n",
    "    ticker = row['ticker']\n",
    "    filing_date = row['filing_date']\n",
    "    \n",
    "    filepath = f'{final_financial_data_directory}/{cik}-{gurufocus_stockid}_{ticker}.csv'\n",
    "        \n",
    "    shutil.copy(filepath, f'./{final_financial_data_in_date_range_directory}/{cik}-{gurufocus_stockid}_{ticker}.csv')"
   ],
   "id": "2501819964a6c9b2",
   "outputs": [],
   "execution_count": 46
  },
  {
   "metadata": {},
   "cell_type": "markdown",
   "source": "#### Processing II - creating set of files with 17 variables",
   "id": "41a88331b33c9aef"
  },
  {
   "metadata": {
    "ExecuteTime": {
     "end_time": "2024-04-22T20:37:27.752693Z",
     "start_time": "2024-04-22T20:37:27.720912Z"
    }
   },
   "cell_type": "code",
   "source": [
    "final_eligible_companies = pd.read_csv('eligible_companies_in_eligible_range.csv')\n",
    "len(final_eligible_companies)"
   ],
   "id": "42a9e35d7afc81d2",
   "outputs": [
    {
     "data": {
      "text/plain": [
       "5078"
      ]
     },
     "execution_count": 160,
     "metadata": {},
     "output_type": "execute_result"
    }
   ],
   "execution_count": 160
  },
  {
   "metadata": {
    "ExecuteTime": {
     "end_time": "2024-04-22T20:37:29.382480Z",
     "start_time": "2024-04-22T20:37:29.358477Z"
    }
   },
   "cell_type": "code",
   "source": [
    "with open('chosen_variables.txt', 'r') as file:\n",
    "    chosen_variables = file.read().splitlines()\n",
    "    \n",
    "with open('most_common_variables.txt', 'r') as file:\n",
    "    most_common_variables = file.read().splitlines()"
   ],
   "id": "2221cf9e3667a1fe",
   "outputs": [],
   "execution_count": 161
  },
  {
   "metadata": {
    "ExecuteTime": {
     "end_time": "2024-04-22T20:37:31.959092Z",
     "start_time": "2024-04-22T20:37:31.948337Z"
    }
   },
   "cell_type": "code",
   "source": [
    "def delete_duplicated_rows(df):\n",
    "    df.drop(df.index[df.iloc[:, 0].duplicated(keep=False)], inplace=True)\n",
    "    return df\n",
    "\n",
    "def has_dataframe_enough_variables(df, variables, threshold):\n",
    "    csv_variable = df.iloc[:, 0].tolist()\n",
    "    lacking_variables = []\n",
    "    for variable in variables:\n",
    "        if variable not in csv_variable:\n",
    "            lacking_variables.append(variable)\n",
    "            \n",
    "    if len(lacking_variables) <= threshold:\n",
    "        return True, lacking_variables\n",
    "    else:\n",
    "        return False, lacking_variables\n",
    "    \n",
    "def enrich_filename_with_label(filename, label):\n",
    "    filename = filename.replace('.csv', '')\n",
    "    filename = f'{filename}_{label}.csv'\n",
    "    return filename"
   ],
   "id": "368182811c954da4",
   "outputs": [],
   "execution_count": 162
  },
  {
   "metadata": {
    "ExecuteTime": {
     "end_time": "2024-04-22T20:38:21.271834Z",
     "start_time": "2024-04-22T20:37:44.222112Z"
    }
   },
   "cell_type": "code",
   "source": [
    "max_lacking_variables_threshold_chosen_variables = 3\n",
    "missing_values_array = []\n",
    "\n",
    "for filename in os.listdir(final_financial_data_in_date_range_directory):\n",
    "    try:\n",
    "        cik = int(filename.split('-')[0])\n",
    "        df = pd.read_csv(f'{final_financial_data_in_date_range_directory}/{filename}')\n",
    "        \n",
    "        df.drop(df.columns[0], axis=1, inplace=True)\n",
    "        \n",
    "        df = drop_columns_after_ttm_or_preliminary(df)\n",
    "        \n",
    "        df = delete_duplicated_rows(df)\n",
    "        \n",
    "        has_enough_variables, lacking_variables = has_dataframe_enough_variables(df, chosen_variables, max_lacking_variables_threshold_chosen_variables)\n",
    "        if has_enough_variables is False:\n",
    "            final_eligible_companies.loc[final_eligible_companies['cik'] == cik, 'has_enough_variables'] = False\n",
    "            continue\n",
    "        \n",
    "        df.set_index(df.columns[0], inplace=True)\n",
    "                \n",
    "        df = df[df.index.isin(chosen_variables)]\n",
    "        \n",
    "        df = df.T\n",
    "        df = df.replace('-', pd.NA)\n",
    "        df = df.replace('', pd.NA)\n",
    "        \n",
    "        df.fillna(method='bfill', inplace=True)\n",
    "        df.fillna(method='ffill', inplace=True)\n",
    "        df.fillna(0, inplace=True)\n",
    "        \n",
    "        # insert missing variables as whole columns with 0\n",
    "        if len(lacking_variables) > 0:\n",
    "            for variable in lacking_variables:\n",
    "                df[variable] = 0\n",
    "                \n",
    "        df = clean_date_index(df)\n",
    "        \n",
    "        df = df.reindex(sorted(df.columns), axis=1)\n",
    "        \n",
    "        label = final_eligible_companies.loc[final_eligible_companies['cik'] == cik]['label'].values[0]\n",
    "        \n",
    "        df.to_csv(f'{final_financial_data_processed_17_variables_directory}/{enrich_filename_with_label(filename, label)}', index=True, index_label='Fiscal Period')\n",
    "        \n",
    "        final_eligible_companies.loc[final_eligible_companies['cik'] == cik, 'has_enough_variables'] = True\n",
    "        \n",
    "        missing_value = df.isnull().sum().sum()\n",
    "        if missing_value > 0:\n",
    "            print(f'Missing value in {filename}')\n",
    "        missing_values_array.append(missing_value)\n",
    "        \n",
    "    except Exception as ex:\n",
    "        print(f'Ex: {ex}, filename: {filename}')   "
   ],
   "id": "47b30f2ccbdce1c3",
   "outputs": [],
   "execution_count": 163
  },
  {
   "metadata": {
    "ExecuteTime": {
     "end_time": "2024-04-22T20:38:57.248362Z",
     "start_time": "2024-04-22T20:38:57.242842Z"
    }
   },
   "cell_type": "code",
   "source": "final_eligible_companies['has_enough_variables'].value_counts()",
   "id": "9f6509aca42876ff",
   "outputs": [
    {
     "data": {
      "text/plain": [
       "has_enough_variables\n",
       "True     3777\n",
       "False    1301\n",
       "Name: count, dtype: int64"
      ]
     },
     "execution_count": 164,
     "metadata": {},
     "output_type": "execute_result"
    }
   ],
   "execution_count": 164
  },
  {
   "metadata": {
    "ExecuteTime": {
     "end_time": "2024-04-22T20:39:01.202379Z",
     "start_time": "2024-04-22T20:39:01.191092Z"
    }
   },
   "cell_type": "code",
   "source": "final_eligible_companies_with_enough_variables = final_eligible_companies[final_eligible_companies['has_enough_variables'] == True]",
   "id": "ffd8fcd28632af69",
   "outputs": [],
   "execution_count": 165
  },
  {
   "metadata": {
    "ExecuteTime": {
     "end_time": "2024-04-22T20:39:02.143224Z",
     "start_time": "2024-04-22T20:39:02.124313Z"
    }
   },
   "cell_type": "code",
   "source": "final_eligible_companies_with_enough_variables.drop(columns=['has_enough_variables'], inplace=True)",
   "id": "bec285e5df774f37",
   "outputs": [
    {
     "name": "stderr",
     "output_type": "stream",
     "text": [
      "C:\\Users\\grzeg\\AppData\\Local\\Temp\\ipykernel_30780\\3149027593.py:1: SettingWithCopyWarning: \n",
      "A value is trying to be set on a copy of a slice from a DataFrame\n",
      "\n",
      "See the caveats in the documentation: https://pandas.pydata.org/pandas-docs/stable/user_guide/indexing.html#returning-a-view-versus-a-copy\n",
      "  final_eligible_companies_with_enough_variables.drop(columns=['has_enough_variables'], inplace=True)\n"
     ]
    }
   ],
   "execution_count": 166
  },
  {
   "metadata": {
    "ExecuteTime": {
     "end_time": "2024-04-22T20:39:03.422581Z",
     "start_time": "2024-04-22T20:39:03.408545Z"
    }
   },
   "cell_type": "code",
   "source": "final_eligible_companies_with_enough_variables.to_csv('eligible_companies_in_eligible_range_with_enough_variables.csv', index=False)",
   "id": "64512e0a10177411",
   "outputs": [],
   "execution_count": 167
  },
  {
   "metadata": {
    "ExecuteTime": {
     "end_time": "2024-04-22T20:39:04.439334Z",
     "start_time": "2024-04-22T20:39:04.431809Z"
    }
   },
   "cell_type": "code",
   "source": "final_eligible_companies_with_enough_variables['label'].value_counts(normalize=True)",
   "id": "f40f9421ed69c7b7",
   "outputs": [
    {
     "data": {
      "text/plain": [
       "label\n",
       "False    0.97776\n",
       "True     0.02224\n",
       "Name: proportion, dtype: float64"
      ]
     },
     "execution_count": 168,
     "metadata": {},
     "output_type": "execute_result"
    }
   ],
   "execution_count": 168
  },
  {
   "metadata": {
    "ExecuteTime": {
     "end_time": "2024-04-22T20:39:07.820079Z",
     "start_time": "2024-04-22T20:39:07.814829Z"
    }
   },
   "cell_type": "code",
   "source": [
    "missing_values_counts = Counter(missing_values_array)\n",
    "missing_values_counts"
   ],
   "id": "33f4372484b7ea09",
   "outputs": [
    {
     "data": {
      "text/plain": [
       "Counter({0: 3777})"
      ]
     },
     "execution_count": 169,
     "metadata": {},
     "output_type": "execute_result"
    }
   ],
   "execution_count": 169
  },
  {
   "metadata": {
    "ExecuteTime": {
     "end_time": "2024-04-22T12:40:12.851193Z",
     "start_time": "2024-04-22T12:40:08.808508Z"
    }
   },
   "cell_type": "code",
   "source": [
    "csv_lengths = []\n",
    "for filename in os.listdir(final_financial_data_processed_17_variables_directory):\n",
    "    df = pd.read_csv(f'{final_financial_data_processed_17_variables_directory}/{filename}')\n",
    "    \n",
    "    csv_lengths.append(len(df))"
   ],
   "id": "6fb47b91c7dc852c",
   "outputs": [],
   "execution_count": 100
  },
  {
   "metadata": {
    "ExecuteTime": {
     "end_time": "2024-04-22T12:40:15.857651Z",
     "start_time": "2024-04-22T12:40:15.759151Z"
    }
   },
   "cell_type": "code",
   "source": [
    "import matplotlib.pyplot as plt\n",
    "\n",
    "plt.hist(csv_lengths, bins=30)"
   ],
   "id": "108bfdd00c023f18",
   "outputs": [
    {
     "data": {
      "text/plain": [
       "(array([3.000e+00, 1.400e+01, 3.800e+01, 7.600e+01, 1.200e+02, 1.820e+02,\n",
       "        1.750e+02, 0.000e+00, 1.940e+02, 1.960e+02, 1.790e+02, 2.090e+02,\n",
       "        2.090e+02, 1.750e+02, 0.000e+00, 1.460e+02, 4.770e+02, 1.211e+03,\n",
       "        3.200e+01, 1.800e+01, 3.500e+01, 7.300e+01, 0.000e+00, 5.000e+00,\n",
       "        1.000e+00, 1.000e+00, 0.000e+00, 1.000e+00, 6.000e+00, 1.000e+00]),\n",
       " array([ 1.        ,  1.86666667,  2.73333333,  3.6       ,  4.46666667,\n",
       "         5.33333333,  6.2       ,  7.06666667,  7.93333333,  8.8       ,\n",
       "         9.66666667, 10.53333333, 11.4       , 12.26666667, 13.13333333,\n",
       "        14.        , 14.86666667, 15.73333333, 16.6       , 17.46666667,\n",
       "        18.33333333, 19.2       , 20.06666667, 20.93333333, 21.8       ,\n",
       "        22.66666667, 23.53333333, 24.4       , 25.26666667, 26.13333333,\n",
       "        27.        ]),\n",
       " <BarContainer object of 30 artists>)"
      ]
     },
     "execution_count": 101,
     "metadata": {},
     "output_type": "execute_result"
    },
    {
     "data": {
      "text/plain": [
       "<Figure size 640x480 with 1 Axes>"
      ],
      "image/png": "[encoded data removed]"
     },
     "metadata": {},
     "output_type": "display_data"
    }
   ],
   "execution_count": 101
  },
  {
   "metadata": {
    "ExecuteTime": {
     "end_time": "2024-04-22T18:54:33.874364Z",
     "start_time": "2024-04-22T18:54:33.802081Z"
    }
   },
   "cell_type": "code",
   "source": [
    "csv_lengths_counter = Counter(csv_lengths)\n",
    "csv_lengths_counter"
   ],
   "id": "8061b984b05c225",
   "outputs": [
    {
     "data": {
      "text/plain": [
       "Counter({16: 1211,\n",
       "         15: 477,\n",
       "         12: 209,\n",
       "         11: 209,\n",
       "         9: 196,\n",
       "         8: 194,\n",
       "         6: 182,\n",
       "         10: 179,\n",
       "         13: 175,\n",
       "         7: 175,\n",
       "         14: 146,\n",
       "         5: 120,\n",
       "         4: 76,\n",
       "         20: 73,\n",
       "         3: 38,\n",
       "         19: 35,\n",
       "         17: 32,\n",
       "         18: 18,\n",
       "         2: 14,\n",
       "         26: 6,\n",
       "         21: 5,\n",
       "         1: 3,\n",
       "         22: 1,\n",
       "         27: 1,\n",
       "         25: 1,\n",
       "         23: 1})"
      ]
     },
     "execution_count": 122,
     "metadata": {},
     "output_type": "execute_result"
    }
   ],
   "execution_count": 122
  },
  {
   "metadata": {},
   "cell_type": "markdown",
   "source": "#### csv data extra validation",
   "id": "b3793c1c8ad804cb"
  },
  {
   "metadata": {
    "ExecuteTime": {
     "end_time": "2024-04-22T20:39:24.035640Z",
     "start_time": "2024-04-22T20:39:19.427337Z"
    }
   },
   "cell_type": "code",
   "source": [
    "for filename in os.listdir(final_financial_data_processed_17_variables_directory):\n",
    "    df = pd.read_csv(f'{final_financial_data_processed_17_variables_directory}/{filename}', index_col='Fiscal Period')\n",
    "    \n",
    "    column_headers = df.columns.tolist()\n",
    "    \n",
    "    if len(column_headers) != len(chosen_variables):\n",
    "        print(f'Error in {filename}')"
   ],
   "id": "31c0d99bb8fd7ee",
   "outputs": [],
   "execution_count": 170
  },
  {
   "metadata": {},
   "cell_type": "markdown",
   "source": "##### Getting variables within x years from bankruptcy",
   "id": "6347329aa0eb5480"
  },
  {
   "metadata": {
    "ExecuteTime": {
     "end_time": "2024-04-22T19:52:48.993478Z",
     "start_time": "2024-04-22T19:52:48.684780Z"
    }
   },
   "cell_type": "code",
   "source": "ecl_dataset = pd.read_csv('ECL_with_ticker_2024-04-19_14-35-21.csv')",
   "id": "b4b0316991f42a4f",
   "outputs": [
    {
     "name": "stderr",
     "output_type": "stream",
     "text": [
      "C:\\Users\\grzeg\\AppData\\Local\\Temp\\ipykernel_30780\\1756588558.py:1: DtypeWarning: Columns (12) have mixed types. Specify dtype option on import or set low_memory=False.\n",
      "  ecl_dataset = pd.read_csv('ECL_with_ticker_2024-04-19_14-35-21.csv')\n"
     ]
    }
   ],
   "execution_count": 123
  },
  {
   "metadata": {
    "ExecuteTime": {
     "end_time": "2024-04-22T19:52:49.939166Z",
     "start_time": "2024-04-22T19:52:49.903628Z"
    }
   },
   "cell_type": "code",
   "source": [
    "ecl_dataset_grouped = ecl_dataset.groupby('cik').agg({'bankruptcy_date_1': 'first', 'ticker': 'first', 'label': 'last', 'cik-equal-gurufocus-cik': 'last', 'filing_date': 'last'}).reset_index()\n",
    "ecl_dataset_grouped['is_bankruptcy_date_filled'] = ecl_dataset_grouped['bankruptcy_date_1'].notnull()\n",
    "ecl_dataset_grouped['is_bankruptcy_date_filled'].value_counts()"
   ],
   "id": "ade225381136957",
   "outputs": [
    {
     "data": {
      "text/plain": [
       "is_bankruptcy_date_filled\n",
       "False    8252\n",
       "True      891\n",
       "Name: count, dtype: int64"
      ]
     },
     "execution_count": 124,
     "metadata": {},
     "output_type": "execute_result"
    }
   ],
   "execution_count": 124
  },
  {
   "metadata": {
    "ExecuteTime": {
     "end_time": "2024-04-22T19:52:55.072610Z",
     "start_time": "2024-04-22T19:52:55.063285Z"
    }
   },
   "cell_type": "code",
   "source": [
    "ecl_dataset_grouped_eligible = ecl_dataset_grouped[ecl_dataset_grouped['cik-equal-gurufocus-cik'] == True]\n",
    "len(ecl_dataset_grouped_eligible)"
   ],
   "id": "512fe04f0563edd4",
   "outputs": [
    {
     "data": {
      "text/plain": [
       "5417"
      ]
     },
     "execution_count": 125,
     "metadata": {},
     "output_type": "execute_result"
    }
   ],
   "execution_count": 125
  },
  {
   "metadata": {
    "ExecuteTime": {
     "end_time": "2024-04-22T20:44:35.506237Z",
     "start_time": "2024-04-22T20:44:27.889235Z"
    }
   },
   "cell_type": "code",
   "source": [
    "index_to_have_minimal_years_threshold = 5\n",
    "eligible_companies_with_minimal_years_count = 0\n",
    "\n",
    "for filename in os.listdir(final_financial_data_processed_17_variables_directory):\n",
    "    try:\n",
    "        df = pd.read_csv(f'{final_financial_data_processed_17_variables_directory}/{filename}', index_col='Fiscal Period')\n",
    "        \n",
    "        cik = int(filename.split('-')[0])\n",
    "        label = bool(filename.split('_')[2].split('.')[0])\n",
    "        \n",
    "        last_datetime = ecl_dataset_grouped_eligible.loc[ecl_dataset_grouped_eligible['cik'] == cik]['bankruptcy_date_1'].values[0]\n",
    "        \n",
    "        if last_datetime is not None: # shorten\n",
    "            last_datetime = last_datetime\n",
    "        else:\n",
    "            last_datetime = ecl_dataset_grouped_eligible.loc[ecl_dataset_grouped_eligible['cik'] == cik]['filing_date'].values[0]\n",
    "            \n",
    "        last_datetime = last_datetime[:7]\n",
    "        last_datetime = datetime.datetime.strptime(last_datetime, '%Y-%m')\n",
    "        \n",
    "        indexes_as_datetime = []\n",
    "        for index in df.index:\n",
    "            indexes_as_datetime.append(datetime.datetime.strptime(f'{index}', '%b %Y'))\n",
    "            \n",
    "        for i, date in reversed(list(enumerate(indexes_as_datetime))):\n",
    "            if date <= last_datetime:\n",
    "                corresponding_last_date = date\n",
    "                \n",
    "                if i >= index_to_have_minimal_years_threshold - 1:\n",
    "                    # drop rows after i\n",
    "                    # df = df.iloc[i-index_to_have_minimal_years_threshold+1:i + 1]\n",
    "                    eligible_companies_with_minimal_years_count += 1\n",
    "                    # df.to_csv(f'{final_financial_data_processed_17_variables_5years_directory}/{filename}', index=True, index_label='Fiscal Period')\n",
    "                    ecl_dataset_grouped_eligible.loc[ecl_dataset_grouped_eligible['cik'] == cik, 'has_minimal_years'] = True\n",
    "                break\n",
    "                \n",
    "    except Exception as ex:\n",
    "        print(f'Ex: {ex}, filename: {filename}')"
   ],
   "id": "d3116a99a0a55dc5",
   "outputs": [
    {
     "name": "stderr",
     "output_type": "stream",
     "text": [
      "C:\\Users\\grzeg\\AppData\\Local\\Temp\\ipykernel_30780\\389885495.py:34: SettingWithCopyWarning: \n",
      "A value is trying to be set on a copy of a slice from a DataFrame.\n",
      "Try using .loc[row_indexer,col_indexer] = value instead\n",
      "\n",
      "See the caveats in the documentation: https://pandas.pydata.org/pandas-docs/stable/user_guide/indexing.html#returning-a-view-versus-a-copy\n",
      "  ecl_dataset_grouped_eligible.loc[ecl_dataset_grouped_eligible['cik'] == cik, 'has_minimal_years'] = True\n"
     ]
    }
   ],
   "execution_count": 175
  },
  {
   "metadata": {
    "ExecuteTime": {
     "end_time": "2024-04-22T20:40:04.516157Z",
     "start_time": "2024-04-22T20:40:04.510542Z"
    }
   },
   "cell_type": "code",
   "source": "eligible_companies_with_minimal_years_count",
   "id": "3827b55eb2f1aeb2",
   "outputs": [
    {
     "data": {
      "text/plain": [
       "3420"
      ]
     },
     "execution_count": 172,
     "metadata": {},
     "output_type": "execute_result"
    }
   ],
   "execution_count": 172
  },
  {
   "metadata": {
    "ExecuteTime": {
     "end_time": "2024-04-22T20:46:18.066480Z",
     "start_time": "2024-04-22T20:46:18.049811Z"
    }
   },
   "cell_type": "code",
   "source": [
    "ecl_dataset_grouped_eligible_with_minimal_years = ecl_dataset_grouped_eligible[ecl_dataset_grouped_eligible['has_minimal_years'] == True]\n",
    "\n",
    "len(ecl_dataset_grouped_eligible_with_minimal_years)"
   ],
   "id": "8e9f02e968cd4313",
   "outputs": [
    {
     "data": {
      "text/plain": [
       "3420"
      ]
     },
     "execution_count": 178,
     "metadata": {},
     "output_type": "execute_result"
    }
   ],
   "execution_count": 178
  },
  {
   "metadata": {},
   "cell_type": "markdown",
   "source": "# Dataset for 17 variables exists, with data from 5 years - could be used for training model",
   "id": "2809cb286a2fecdb"
  },
  {
   "metadata": {},
   "cell_type": "code",
   "outputs": [],
   "execution_count": null,
   "source": [
    "# TODO later: save with filename to report - match by bankruptcy or filing date !!!\n",
    "# TODO: plot labels distribution\n",
    "ecl_dataset_grouped_eligible_with_minimal_years.to_csv('ecl_dataset_grouped_eligible_with_minimal_years.csv', index=False)"
   ],
   "id": "198f8dfb74e1aa72"
  },
  {
   "metadata": {
    "ExecuteTime": {
     "end_time": "2024-04-23T18:34:04.318160Z",
     "start_time": "2024-04-23T18:33:54.321096Z"
    }
   },
   "cell_type": "code",
   "source": [
    "bankrupt_companies_with_17_variables_5_years = pd.DataFrame()\n",
    "\n",
    "for i, filename in enumerate(os.listdir(final_financial_data_processed_17_variables_5years_directory)):\n",
    "    try:\n",
    "        df = pd.read_csv(f'{final_financial_data_processed_17_variables_5years_directory}/{filename}', index_col='Fiscal Period')\n",
    "        \n",
    "        filename_without_extension = filename.replace('.csv', '')\n",
    "        \n",
    "        label = filename_without_extension.split('_')[-1]\n",
    "\n",
    "        mapping = {'True': True, 'False': False}\n",
    "        label = mapping[label]\n",
    "        \n",
    "        df.reset_index(inplace=True)\n",
    "        df.insert(loc=0, column='cik', value=int(filename.split('-')[0]))\n",
    "        df.insert(loc=1, column='ticker', value=filename.split('_')[1])\n",
    "        df.insert(loc=2, column='label', value=label)\n",
    "\n",
    "        bankrupt_companies_with_17_variables_5_years = pd.concat([bankrupt_companies_with_17_variables_5_years, df])\n",
    "        \n",
    "    except Exception as ex:\n",
    "        print(f'Ex: {ex}, filename: {filename}')\n",
    "\n",
    "bankrupt_companies_with_17_variables_5_years.sort_values(by=['cik', 'Fiscal Period'], inplace=True)\n",
    "bankrupt_companies_with_17_variables_5_years.to_csv('bankrupt_companies_with_17_variables_5_years.csv', index=False)"
   ],
   "id": "cbf1a7b8f50feb72",
   "outputs": [],
   "execution_count": 25
  },
  {
   "metadata": {
    "ExecuteTime": {
     "end_time": "2024-04-23T18:34:04.339872Z",
     "start_time": "2024-04-23T18:34:04.318160Z"
    }
   },
   "cell_type": "code",
   "source": "bankrupt_companies_with_17_variables_5_years.head(20)",
   "id": "66ab72e19a083937",
   "outputs": [
    {
     "data": {
      "text/plain": [
       "    cik ticker  label Fiscal Period  Cost of Goods Sold  \\\n",
       "0  1800    ABT  False      Dec 2016              9094.0   \n",
       "1  1800    ABT  False      Dec 2017             12409.0   \n",
       "2  1800    ABT  False      Dec 2018             12706.0   \n",
       "3  1800    ABT  False      Dec 2019             13231.0   \n",
       "4  1800    ABT  False      Dec 2020             15003.0   \n",
       "0  2488    AMD  False      Dec 2016              3316.0   \n",
       "1  2488    AMD  False      Dec 2017              3466.0   \n",
       "2  2488    AMD  False      Dec 2018              4028.0   \n",
       "3  2488    AMD  False      Dec 2019              3863.0   \n",
       "4  2488    AMD  False      Dec 2020              5416.0   \n",
       "0  2491    BYI  False      Jun 2010               274.0   \n",
       "1  2491    BYI  False      Jun 2011               274.0   \n",
       "2  2491    BYI  False      Jun 2012               326.0   \n",
       "3  2491    BYI  False      Jun 2013               351.0   \n",
       "4  2491    BYI  False      Jun 2014               451.0   \n",
       "0  2969    APD  False      Sep 2017              5752.0   \n",
       "1  2969    APD  False      Sep 2018              6190.0   \n",
       "2  2969    APD  False      Sep 2019              5976.0   \n",
       "3  2969    APD  False      Sep 2020              5858.0   \n",
       "4  2969    APD  False      Sep 2021              7186.0   \n",
       "\n",
       "   Depreciation, Depletion and Amortization    EBIT  EBITDA  Gross Profit  \\\n",
       "0                                    1353.0  1844.0  3197.0       11759.0   \n",
       "1                                    3021.0  3135.0  6156.0       14981.0   \n",
       "2                                    3278.0  3699.0  6977.0       17872.0   \n",
       "3                                    3014.0  4747.0  7761.0       18673.0   \n",
       "4                                    3327.0  5514.0  8841.0       19605.0   \n",
       "0                                     133.0  -293.0  -160.0        1003.0   \n",
       "1                                     144.0   118.0   262.0        1787.0   \n",
       "2                                     170.0   451.0   621.0        2447.0   \n",
       "3                                     258.0   466.0   724.0        2868.0   \n",
       "4                                     354.0  1322.0  1676.0        4347.0   \n",
       "0                                      75.0   155.0   230.0         484.0   \n",
       "1                                      75.0   155.0   230.0         484.0   \n",
       "2                                      81.0   182.0   263.0         553.0   \n",
       "3                                      88.0   234.0   323.0         646.0   \n",
       "4                                     134.0   223.0   356.0         764.0   \n",
       "0                                     866.0  1537.0  2403.0        2436.0   \n",
       "1                                     971.0  2146.0  3116.0        2741.0   \n",
       "2                                    1083.0  2427.0  3509.0        2943.0   \n",
       "3                                    1185.0  2533.0  3718.0        2998.0   \n",
       "4                                    1321.0  2649.0  3971.0        3137.0   \n",
       "\n",
       "   Long-Term Debt  ... Net Income  Retained Earnings  Revenue  Total Assets  \\\n",
       "0         20681.0  ...     1400.0            25565.0  20853.0       52666.0   \n",
       "1         27210.0  ...      477.0            23978.0  27390.0       76250.0   \n",
       "2         19359.0  ...     2368.0            24560.0  30578.0       67173.0   \n",
       "3         16661.0  ...     3687.0            25847.0  31904.0       67887.0   \n",
       "4         18527.0  ...     4495.0            27627.0  34608.0       72548.0   \n",
       "0          1435.0  ...     -498.0            -7803.0   4319.0        3321.0   \n",
       "1          1325.0  ...      -33.0            -7775.0   5253.0        3552.0   \n",
       "2          1114.0  ...      337.0            -7436.0   6475.0        4556.0   \n",
       "3           486.0  ...      341.0            -7095.0   6731.0        6028.0   \n",
       "4           330.0  ...     2490.0            -4605.0   9763.0        8962.0   \n",
       "0           500.0  ...       98.0              401.0    758.0         927.0   \n",
       "1           500.0  ...       98.0              401.0    758.0         927.0   \n",
       "2           494.0  ...      101.0              505.0    880.0         970.0   \n",
       "3           580.0  ...      141.0              646.0    997.0         979.0   \n",
       "4          1887.0  ...       99.0              745.0   1215.0        2519.0   \n",
       "0          3402.0  ...     3000.0            12847.0   8188.0       18467.0   \n",
       "1          3352.0  ...     1498.0            13410.0   8930.0       19178.0   \n",
       "2          3227.0  ...     1760.0            14138.0   8919.0       18943.0   \n",
       "3          7430.0  ...     1887.0            14876.0   8856.0       25169.0   \n",
       "4          7150.0  ...     2099.0            15678.0  10323.0       26859.0   \n",
       "\n",
       "   Total Current Assets  Total Current Liabilities  Total Inventories  \\\n",
       "0               26776.0                     6660.0             2434.0   \n",
       "1               20147.0                     8912.0             3601.0   \n",
       "2               14632.0                     9012.0             3796.0   \n",
       "3               15667.0                    10863.0             4316.0   \n",
       "4               20441.0                    11907.0             5012.0   \n",
       "0                2530.0                     1346.0              751.0   \n",
       "1                2634.0                     1513.0              694.0   \n",
       "2                3540.0                     1984.0              845.0   \n",
       "3                4597.0                     2359.0              982.0   \n",
       "4                6143.0                     2417.0             1399.0   \n",
       "0                 474.0                      161.0               69.0   \n",
       "1                 474.0                      161.0               69.0   \n",
       "2                 480.0                      214.0               75.0   \n",
       "3                 493.0                      227.0               68.0   \n",
       "4                 593.0                      252.0               82.0   \n",
       "0                5877.0                     2489.0              335.0   \n",
       "1                5082.0                     2338.0              396.0   \n",
       "2                4618.0                     1821.0              388.0   \n",
       "3                8685.0                     2417.0              405.0   \n",
       "4                8376.0                     2799.0              454.0   \n",
       "\n",
       "   Total Liabilities  Total Operating Expense  Total Receivables  \n",
       "0            31949.0                   8733.0             5054.0  \n",
       "1            45152.0                  13417.0             6916.0  \n",
       "2            36451.0                  14222.0             6750.0  \n",
       "3            36586.0                  14141.0             7211.0  \n",
       "4            39545.0                  14248.0             8281.0  \n",
       "0             2905.0                   1386.0              343.0  \n",
       "1             2956.0                   1660.0              487.0  \n",
       "2             3290.0                   1996.0             1269.0  \n",
       "3             3201.0                   2237.0             1879.0  \n",
       "4             3125.0                   2978.0             2076.0  \n",
       "0              711.0                    333.0              235.0  \n",
       "1              711.0                    333.0              235.0  \n",
       "2              772.0                    374.0              265.0  \n",
       "3              860.0                    411.0              248.0  \n",
       "4             2312.0                    537.0              314.0  \n",
       "0             8282.0                    650.0             1540.0  \n",
       "1             8002.0                    775.0             1377.0  \n",
       "2             7555.0                    774.0             1415.0  \n",
       "3            12725.0                    761.0             1417.0  \n",
       "4            12771.0                    869.0             1655.0  \n",
       "\n",
       "[20 rows x 21 columns]"
      ],
      "text/html": [
       "<div>\n",
       "<style scoped>\n",
       "    .dataframe tbody tr th:only-of-type {\n",
       "        vertical-align: middle;\n",
       "    }\n",
       "\n",
       "    .dataframe tbody tr th {\n",
       "        vertical-align: top;\n",
       "    }\n",
       "\n",
       "    .dataframe thead th {\n",
       "        text-align: right;\n",
       "    }\n",
       "</style>\n",
       "<table border=\"1\" class=\"dataframe\">\n",
       "  <thead>\n",
       "    <tr style=\"text-align: right;\">\n",
       "      <th></th>\n",
       "      <th>cik</th>\n",
       "      <th>ticker</th>\n",
       "      <th>label</th>\n",
       "      <th>Fiscal Period</th>\n",
       "      <th>Cost of Goods Sold</th>\n",
       "      <th>Depreciation, Depletion and Amortization</th>\n",
       "      <th>EBIT</th>\n",
       "      <th>EBITDA</th>\n",
       "      <th>Gross Profit</th>\n",
       "      <th>Long-Term Debt</th>\n",
       "      <th>...</th>\n",
       "      <th>Net Income</th>\n",
       "      <th>Retained Earnings</th>\n",
       "      <th>Revenue</th>\n",
       "      <th>Total Assets</th>\n",
       "      <th>Total Current Assets</th>\n",
       "      <th>Total Current Liabilities</th>\n",
       "      <th>Total Inventories</th>\n",
       "      <th>Total Liabilities</th>\n",
       "      <th>Total Operating Expense</th>\n",
       "      <th>Total Receivables</th>\n",
       "    </tr>\n",
       "  </thead>\n",
       "  <tbody>\n",
       "    <tr>\n",
       "      <th>0</th>\n",
       "      <td>1800</td>\n",
       "      <td>ABT</td>\n",
       "      <td>False</td>\n",
       "      <td>Dec 2016</td>\n",
       "      <td>9094.0</td>\n",
       "      <td>1353.0</td>\n",
       "      <td>1844.0</td>\n",
       "      <td>3197.0</td>\n",
       "      <td>11759.0</td>\n",
       "      <td>20681.0</td>\n",
       "      <td>...</td>\n",
       "      <td>1400.0</td>\n",
       "      <td>25565.0</td>\n",
       "      <td>20853.0</td>\n",
       "      <td>52666.0</td>\n",
       "      <td>26776.0</td>\n",
       "      <td>6660.0</td>\n",
       "      <td>2434.0</td>\n",
       "      <td>31949.0</td>\n",
       "      <td>8733.0</td>\n",
       "      <td>5054.0</td>\n",
       "    </tr>\n",
       "    <tr>\n",
       "      <th>1</th>\n",
       "      <td>1800</td>\n",
       "      <td>ABT</td>\n",
       "      <td>False</td>\n",
       "      <td>Dec 2017</td>\n",
       "      <td>12409.0</td>\n",
       "      <td>3021.0</td>\n",
       "      <td>3135.0</td>\n",
       "      <td>6156.0</td>\n",
       "      <td>14981.0</td>\n",
       "      <td>27210.0</td>\n",
       "      <td>...</td>\n",
       "      <td>477.0</td>\n",
       "      <td>23978.0</td>\n",
       "      <td>27390.0</td>\n",
       "      <td>76250.0</td>\n",
       "      <td>20147.0</td>\n",
       "      <td>8912.0</td>\n",
       "      <td>3601.0</td>\n",
       "      <td>45152.0</td>\n",
       "      <td>13417.0</td>\n",
       "      <td>6916.0</td>\n",
       "    </tr>\n",
       "    <tr>\n",
       "      <th>2</th>\n",
       "      <td>1800</td>\n",
       "      <td>ABT</td>\n",
       "      <td>False</td>\n",
       "      <td>Dec 2018</td>\n",
       "      <td>12706.0</td>\n",
       "      <td>3278.0</td>\n",
       "      <td>3699.0</td>\n",
       "      <td>6977.0</td>\n",
       "      <td>17872.0</td>\n",
       "      <td>19359.0</td>\n",
       "      <td>...</td>\n",
       "      <td>2368.0</td>\n",
       "      <td>24560.0</td>\n",
       "      <td>30578.0</td>\n",
       "      <td>67173.0</td>\n",
       "      <td>14632.0</td>\n",
       "      <td>9012.0</td>\n",
       "      <td>3796.0</td>\n",
       "      <td>36451.0</td>\n",
       "      <td>14222.0</td>\n",
       "      <td>6750.0</td>\n",
       "    </tr>\n",
       "    <tr>\n",
       "      <th>3</th>\n",
       "      <td>1800</td>\n",
       "      <td>ABT</td>\n",
       "      <td>False</td>\n",
       "      <td>Dec 2019</td>\n",
       "      <td>13231.0</td>\n",
       "      <td>3014.0</td>\n",
       "      <td>4747.0</td>\n",
       "      <td>7761.0</td>\n",
       "      <td>18673.0</td>\n",
       "      <td>16661.0</td>\n",
       "      <td>...</td>\n",
       "      <td>3687.0</td>\n",
       "      <td>25847.0</td>\n",
       "      <td>31904.0</td>\n",
       "      <td>67887.0</td>\n",
       "      <td>15667.0</td>\n",
       "      <td>10863.0</td>\n",
       "      <td>4316.0</td>\n",
       "      <td>36586.0</td>\n",
       "      <td>14141.0</td>\n",
       "      <td>7211.0</td>\n",
       "    </tr>\n",
       "    <tr>\n",
       "      <th>4</th>\n",
       "      <td>1800</td>\n",
       "      <td>ABT</td>\n",
       "      <td>False</td>\n",
       "      <td>Dec 2020</td>\n",
       "      <td>15003.0</td>\n",
       "      <td>3327.0</td>\n",
       "      <td>5514.0</td>\n",
       "      <td>8841.0</td>\n",
       "      <td>19605.0</td>\n",
       "      <td>18527.0</td>\n",
       "      <td>...</td>\n",
       "      <td>4495.0</td>\n",
       "      <td>27627.0</td>\n",
       "      <td>34608.0</td>\n",
       "      <td>72548.0</td>\n",
       "      <td>20441.0</td>\n",
       "      <td>11907.0</td>\n",
       "      <td>5012.0</td>\n",
       "      <td>39545.0</td>\n",
       "      <td>14248.0</td>\n",
       "      <td>8281.0</td>\n",
       "    </tr>\n",
       "    <tr>\n",
       "      <th>0</th>\n",
       "      <td>2488</td>\n",
       "      <td>AMD</td>\n",
       "      <td>False</td>\n",
       "      <td>Dec 2016</td>\n",
       "      <td>3316.0</td>\n",
       "      <td>133.0</td>\n",
       "      <td>-293.0</td>\n",
       "      <td>-160.0</td>\n",
       "      <td>1003.0</td>\n",
       "      <td>1435.0</td>\n",
       "      <td>...</td>\n",
       "      <td>-498.0</td>\n",
       "      <td>-7803.0</td>\n",
       "      <td>4319.0</td>\n",
       "      <td>3321.0</td>\n",
       "      <td>2530.0</td>\n",
       "      <td>1346.0</td>\n",
       "      <td>751.0</td>\n",
       "      <td>2905.0</td>\n",
       "      <td>1386.0</td>\n",
       "      <td>343.0</td>\n",
       "    </tr>\n",
       "    <tr>\n",
       "      <th>1</th>\n",
       "      <td>2488</td>\n",
       "      <td>AMD</td>\n",
       "      <td>False</td>\n",
       "      <td>Dec 2017</td>\n",
       "      <td>3466.0</td>\n",
       "      <td>144.0</td>\n",
       "      <td>118.0</td>\n",
       "      <td>262.0</td>\n",
       "      <td>1787.0</td>\n",
       "      <td>1325.0</td>\n",
       "      <td>...</td>\n",
       "      <td>-33.0</td>\n",
       "      <td>-7775.0</td>\n",
       "      <td>5253.0</td>\n",
       "      <td>3552.0</td>\n",
       "      <td>2634.0</td>\n",
       "      <td>1513.0</td>\n",
       "      <td>694.0</td>\n",
       "      <td>2956.0</td>\n",
       "      <td>1660.0</td>\n",
       "      <td>487.0</td>\n",
       "    </tr>\n",
       "    <tr>\n",
       "      <th>2</th>\n",
       "      <td>2488</td>\n",
       "      <td>AMD</td>\n",
       "      <td>False</td>\n",
       "      <td>Dec 2018</td>\n",
       "      <td>4028.0</td>\n",
       "      <td>170.0</td>\n",
       "      <td>451.0</td>\n",
       "      <td>621.0</td>\n",
       "      <td>2447.0</td>\n",
       "      <td>1114.0</td>\n",
       "      <td>...</td>\n",
       "      <td>337.0</td>\n",
       "      <td>-7436.0</td>\n",
       "      <td>6475.0</td>\n",
       "      <td>4556.0</td>\n",
       "      <td>3540.0</td>\n",
       "      <td>1984.0</td>\n",
       "      <td>845.0</td>\n",
       "      <td>3290.0</td>\n",
       "      <td>1996.0</td>\n",
       "      <td>1269.0</td>\n",
       "    </tr>\n",
       "    <tr>\n",
       "      <th>3</th>\n",
       "      <td>2488</td>\n",
       "      <td>AMD</td>\n",
       "      <td>False</td>\n",
       "      <td>Dec 2019</td>\n",
       "      <td>3863.0</td>\n",
       "      <td>258.0</td>\n",
       "      <td>466.0</td>\n",
       "      <td>724.0</td>\n",
       "      <td>2868.0</td>\n",
       "      <td>486.0</td>\n",
       "      <td>...</td>\n",
       "      <td>341.0</td>\n",
       "      <td>-7095.0</td>\n",
       "      <td>6731.0</td>\n",
       "      <td>6028.0</td>\n",
       "      <td>4597.0</td>\n",
       "      <td>2359.0</td>\n",
       "      <td>982.0</td>\n",
       "      <td>3201.0</td>\n",
       "      <td>2237.0</td>\n",
       "      <td>1879.0</td>\n",
       "    </tr>\n",
       "    <tr>\n",
       "      <th>4</th>\n",
       "      <td>2488</td>\n",
       "      <td>AMD</td>\n",
       "      <td>False</td>\n",
       "      <td>Dec 2020</td>\n",
       "      <td>5416.0</td>\n",
       "      <td>354.0</td>\n",
       "      <td>1322.0</td>\n",
       "      <td>1676.0</td>\n",
       "      <td>4347.0</td>\n",
       "      <td>330.0</td>\n",
       "      <td>...</td>\n",
       "      <td>2490.0</td>\n",
       "      <td>-4605.0</td>\n",
       "      <td>9763.0</td>\n",
       "      <td>8962.0</td>\n",
       "      <td>6143.0</td>\n",
       "      <td>2417.0</td>\n",
       "      <td>1399.0</td>\n",
       "      <td>3125.0</td>\n",
       "      <td>2978.0</td>\n",
       "      <td>2076.0</td>\n",
       "    </tr>\n",
       "    <tr>\n",
       "      <th>0</th>\n",
       "      <td>2491</td>\n",
       "      <td>BYI</td>\n",
       "      <td>False</td>\n",
       "      <td>Jun 2010</td>\n",
       "      <td>274.0</td>\n",
       "      <td>75.0</td>\n",
       "      <td>155.0</td>\n",
       "      <td>230.0</td>\n",
       "      <td>484.0</td>\n",
       "      <td>500.0</td>\n",
       "      <td>...</td>\n",
       "      <td>98.0</td>\n",
       "      <td>401.0</td>\n",
       "      <td>758.0</td>\n",
       "      <td>927.0</td>\n",
       "      <td>474.0</td>\n",
       "      <td>161.0</td>\n",
       "      <td>69.0</td>\n",
       "      <td>711.0</td>\n",
       "      <td>333.0</td>\n",
       "      <td>235.0</td>\n",
       "    </tr>\n",
       "    <tr>\n",
       "      <th>1</th>\n",
       "      <td>2491</td>\n",
       "      <td>BYI</td>\n",
       "      <td>False</td>\n",
       "      <td>Jun 2011</td>\n",
       "      <td>274.0</td>\n",
       "      <td>75.0</td>\n",
       "      <td>155.0</td>\n",
       "      <td>230.0</td>\n",
       "      <td>484.0</td>\n",
       "      <td>500.0</td>\n",
       "      <td>...</td>\n",
       "      <td>98.0</td>\n",
       "      <td>401.0</td>\n",
       "      <td>758.0</td>\n",
       "      <td>927.0</td>\n",
       "      <td>474.0</td>\n",
       "      <td>161.0</td>\n",
       "      <td>69.0</td>\n",
       "      <td>711.0</td>\n",
       "      <td>333.0</td>\n",
       "      <td>235.0</td>\n",
       "    </tr>\n",
       "    <tr>\n",
       "      <th>2</th>\n",
       "      <td>2491</td>\n",
       "      <td>BYI</td>\n",
       "      <td>False</td>\n",
       "      <td>Jun 2012</td>\n",
       "      <td>326.0</td>\n",
       "      <td>81.0</td>\n",
       "      <td>182.0</td>\n",
       "      <td>263.0</td>\n",
       "      <td>553.0</td>\n",
       "      <td>494.0</td>\n",
       "      <td>...</td>\n",
       "      <td>101.0</td>\n",
       "      <td>505.0</td>\n",
       "      <td>880.0</td>\n",
       "      <td>970.0</td>\n",
       "      <td>480.0</td>\n",
       "      <td>214.0</td>\n",
       "      <td>75.0</td>\n",
       "      <td>772.0</td>\n",
       "      <td>374.0</td>\n",
       "      <td>265.0</td>\n",
       "    </tr>\n",
       "    <tr>\n",
       "      <th>3</th>\n",
       "      <td>2491</td>\n",
       "      <td>BYI</td>\n",
       "      <td>False</td>\n",
       "      <td>Jun 2013</td>\n",
       "      <td>351.0</td>\n",
       "      <td>88.0</td>\n",
       "      <td>234.0</td>\n",
       "      <td>323.0</td>\n",
       "      <td>646.0</td>\n",
       "      <td>580.0</td>\n",
       "      <td>...</td>\n",
       "      <td>141.0</td>\n",
       "      <td>646.0</td>\n",
       "      <td>997.0</td>\n",
       "      <td>979.0</td>\n",
       "      <td>493.0</td>\n",
       "      <td>227.0</td>\n",
       "      <td>68.0</td>\n",
       "      <td>860.0</td>\n",
       "      <td>411.0</td>\n",
       "      <td>248.0</td>\n",
       "    </tr>\n",
       "    <tr>\n",
       "      <th>4</th>\n",
       "      <td>2491</td>\n",
       "      <td>BYI</td>\n",
       "      <td>False</td>\n",
       "      <td>Jun 2014</td>\n",
       "      <td>451.0</td>\n",
       "      <td>134.0</td>\n",
       "      <td>223.0</td>\n",
       "      <td>356.0</td>\n",
       "      <td>764.0</td>\n",
       "      <td>1887.0</td>\n",
       "      <td>...</td>\n",
       "      <td>99.0</td>\n",
       "      <td>745.0</td>\n",
       "      <td>1215.0</td>\n",
       "      <td>2519.0</td>\n",
       "      <td>593.0</td>\n",
       "      <td>252.0</td>\n",
       "      <td>82.0</td>\n",
       "      <td>2312.0</td>\n",
       "      <td>537.0</td>\n",
       "      <td>314.0</td>\n",
       "    </tr>\n",
       "    <tr>\n",
       "      <th>0</th>\n",
       "      <td>2969</td>\n",
       "      <td>APD</td>\n",
       "      <td>False</td>\n",
       "      <td>Sep 2017</td>\n",
       "      <td>5752.0</td>\n",
       "      <td>866.0</td>\n",
       "      <td>1537.0</td>\n",
       "      <td>2403.0</td>\n",
       "      <td>2436.0</td>\n",
       "      <td>3402.0</td>\n",
       "      <td>...</td>\n",
       "      <td>3000.0</td>\n",
       "      <td>12847.0</td>\n",
       "      <td>8188.0</td>\n",
       "      <td>18467.0</td>\n",
       "      <td>5877.0</td>\n",
       "      <td>2489.0</td>\n",
       "      <td>335.0</td>\n",
       "      <td>8282.0</td>\n",
       "      <td>650.0</td>\n",
       "      <td>1540.0</td>\n",
       "    </tr>\n",
       "    <tr>\n",
       "      <th>1</th>\n",
       "      <td>2969</td>\n",
       "      <td>APD</td>\n",
       "      <td>False</td>\n",
       "      <td>Sep 2018</td>\n",
       "      <td>6190.0</td>\n",
       "      <td>971.0</td>\n",
       "      <td>2146.0</td>\n",
       "      <td>3116.0</td>\n",
       "      <td>2741.0</td>\n",
       "      <td>3352.0</td>\n",
       "      <td>...</td>\n",
       "      <td>1498.0</td>\n",
       "      <td>13410.0</td>\n",
       "      <td>8930.0</td>\n",
       "      <td>19178.0</td>\n",
       "      <td>5082.0</td>\n",
       "      <td>2338.0</td>\n",
       "      <td>396.0</td>\n",
       "      <td>8002.0</td>\n",
       "      <td>775.0</td>\n",
       "      <td>1377.0</td>\n",
       "    </tr>\n",
       "    <tr>\n",
       "      <th>2</th>\n",
       "      <td>2969</td>\n",
       "      <td>APD</td>\n",
       "      <td>False</td>\n",
       "      <td>Sep 2019</td>\n",
       "      <td>5976.0</td>\n",
       "      <td>1083.0</td>\n",
       "      <td>2427.0</td>\n",
       "      <td>3509.0</td>\n",
       "      <td>2943.0</td>\n",
       "      <td>3227.0</td>\n",
       "      <td>...</td>\n",
       "      <td>1760.0</td>\n",
       "      <td>14138.0</td>\n",
       "      <td>8919.0</td>\n",
       "      <td>18943.0</td>\n",
       "      <td>4618.0</td>\n",
       "      <td>1821.0</td>\n",
       "      <td>388.0</td>\n",
       "      <td>7555.0</td>\n",
       "      <td>774.0</td>\n",
       "      <td>1415.0</td>\n",
       "    </tr>\n",
       "    <tr>\n",
       "      <th>3</th>\n",
       "      <td>2969</td>\n",
       "      <td>APD</td>\n",
       "      <td>False</td>\n",
       "      <td>Sep 2020</td>\n",
       "      <td>5858.0</td>\n",
       "      <td>1185.0</td>\n",
       "      <td>2533.0</td>\n",
       "      <td>3718.0</td>\n",
       "      <td>2998.0</td>\n",
       "      <td>7430.0</td>\n",
       "      <td>...</td>\n",
       "      <td>1887.0</td>\n",
       "      <td>14876.0</td>\n",
       "      <td>8856.0</td>\n",
       "      <td>25169.0</td>\n",
       "      <td>8685.0</td>\n",
       "      <td>2417.0</td>\n",
       "      <td>405.0</td>\n",
       "      <td>12725.0</td>\n",
       "      <td>761.0</td>\n",
       "      <td>1417.0</td>\n",
       "    </tr>\n",
       "    <tr>\n",
       "      <th>4</th>\n",
       "      <td>2969</td>\n",
       "      <td>APD</td>\n",
       "      <td>False</td>\n",
       "      <td>Sep 2021</td>\n",
       "      <td>7186.0</td>\n",
       "      <td>1321.0</td>\n",
       "      <td>2649.0</td>\n",
       "      <td>3971.0</td>\n",
       "      <td>3137.0</td>\n",
       "      <td>7150.0</td>\n",
       "      <td>...</td>\n",
       "      <td>2099.0</td>\n",
       "      <td>15678.0</td>\n",
       "      <td>10323.0</td>\n",
       "      <td>26859.0</td>\n",
       "      <td>8376.0</td>\n",
       "      <td>2799.0</td>\n",
       "      <td>454.0</td>\n",
       "      <td>12771.0</td>\n",
       "      <td>869.0</td>\n",
       "      <td>1655.0</td>\n",
       "    </tr>\n",
       "  </tbody>\n",
       "</table>\n",
       "<p>20 rows × 21 columns</p>\n",
       "</div>"
      ]
     },
     "execution_count": 26,
     "metadata": {},
     "output_type": "execute_result"
    }
   ],
   "execution_count": 26
  },
  {
   "metadata": {
    "ExecuteTime": {
     "end_time": "2024-04-23T20:09:34.117219Z",
     "start_time": "2024-04-23T20:09:34.078216Z"
    }
   },
   "cell_type": "code",
   "source": [
    "bankrupt_companies_with_17_variables_5_years = pd.read_csv('bankrupt_companies_with_17_variables_5_years.csv')\n",
    "\n",
    "bankrupt_companies_with_17_variables_5_years_grouped = bankrupt_companies_with_17_variables_5_years.groupby('cik').agg({'label': 'first'}).reset_index()\n",
    "\n",
    "bankrupt_companies_with_17_variables_5_years_grouped['label'].value_counts(normalize=True)"
   ],
   "id": "7436497281ff882d",
   "outputs": [
    {
     "data": {
      "text/plain": [
       "label\n",
       "False    0.97924\n",
       "True     0.02076\n",
       "Name: proportion, dtype: float64"
      ]
     },
     "execution_count": 88,
     "metadata": {},
     "output_type": "execute_result"
    }
   ],
   "execution_count": 88
  },
  {
   "metadata": {
    "ExecuteTime": {
     "end_time": "2024-04-23T20:09:34.523170Z",
     "start_time": "2024-04-23T20:09:34.517164Z"
    }
   },
   "cell_type": "code",
   "source": [
    "number_of_companies = len(bankrupt_companies_with_17_variables_5_years_grouped)\n",
    "number_of_companies"
   ],
   "id": "4c4895d95d5a81d8",
   "outputs": [
    {
     "data": {
      "text/plain": [
       "3420"
      ]
     },
     "execution_count": 89,
     "metadata": {},
     "output_type": "execute_result"
    }
   ],
   "execution_count": 89
  },
  {
   "metadata": {
    "ExecuteTime": {
     "end_time": "2024-04-23T20:09:34.771761Z",
     "start_time": "2024-04-23T20:09:34.758110Z"
    }
   },
   "cell_type": "code",
   "source": [
    "train_ratio = 0.8\n",
    "validation_ratio = 0.05\n",
    "test_ratio = 0.15"
   ],
   "id": "4c29ab5e25559b0a",
   "outputs": [],
   "execution_count": 90
  },
  {
   "metadata": {},
   "cell_type": "markdown",
   "source": "#### sandbox for reading csv by model & splitting data",
   "id": "2cb02d057bde058"
  },
  {
   "metadata": {
    "ExecuteTime": {
     "end_time": "2024-04-23T20:09:35.195977Z",
     "start_time": "2024-04-23T20:09:35.185473Z"
    }
   },
   "cell_type": "code",
   "source": [
    "bankrupt_companies_with_17_variables_5_years_grouped_false = bankrupt_companies_with_17_variables_5_years_grouped[bankrupt_companies_with_17_variables_5_years_grouped['label'] == False]\n",
    "\n",
    "false_len = len(bankrupt_companies_with_17_variables_5_years_grouped_false)\n",
    "\n",
    "bankrupt_companies_with_17_variables_5_years_grouped_true = bankrupt_companies_with_17_variables_5_years_grouped[bankrupt_companies_with_17_variables_5_years_grouped['label'] == True]\n",
    "\n",
    "true_len = len(bankrupt_companies_with_17_variables_5_years_grouped_true)\n",
    "\n",
    "train_set = pd.concat([bankrupt_companies_with_17_variables_5_years_grouped_false[:int(train_ratio * false_len)], bankrupt_companies_with_17_variables_5_years_grouped_true[:int(train_ratio * true_len)]])\n",
    "\n",
    "validation_set = pd.concat([bankrupt_companies_with_17_variables_5_years_grouped_false[int(train_ratio * false_len):int((train_ratio + validation_ratio) * false_len)], bankrupt_companies_with_17_variables_5_years_grouped_true[int(train_ratio * true_len):int((train_ratio + validation_ratio) * true_len)]])\n",
    "\n",
    "test_set = pd.concat([bankrupt_companies_with_17_variables_5_years_grouped_false[int((train_ratio + validation_ratio) * false_len):], bankrupt_companies_with_17_variables_5_years_grouped_true[int((train_ratio + validation_ratio) * true_len):]])\n",
    "\n",
    "len(train_set), len(validation_set), len(test_set)"
   ],
   "id": "a71d43fb07656a17",
   "outputs": [
    {
     "data": {
      "text/plain": [
       "(2735, 171, 514)"
      ]
     },
     "execution_count": 91,
     "metadata": {},
     "output_type": "execute_result"
    }
   ],
   "execution_count": 91
  },
  {
   "metadata": {
    "ExecuteTime": {
     "end_time": "2024-04-23T20:09:35.678864Z",
     "start_time": "2024-04-23T20:09:35.670730Z"
    }
   },
   "cell_type": "code",
   "source": "train_set.head()",
   "id": "df13e46146fc15ab",
   "outputs": [
    {
     "data": {
      "text/plain": [
       "    cik  label\n",
       "0  1800  False\n",
       "1  2488  False\n",
       "2  2491  False\n",
       "3  2969  False\n",
       "4  3153  False"
      ],
      "text/html": [
       "<div>\n",
       "<style scoped>\n",
       "    .dataframe tbody tr th:only-of-type {\n",
       "        vertical-align: middle;\n",
       "    }\n",
       "\n",
       "    .dataframe tbody tr th {\n",
       "        vertical-align: top;\n",
       "    }\n",
       "\n",
       "    .dataframe thead th {\n",
       "        text-align: right;\n",
       "    }\n",
       "</style>\n",
       "<table border=\"1\" class=\"dataframe\">\n",
       "  <thead>\n",
       "    <tr style=\"text-align: right;\">\n",
       "      <th></th>\n",
       "      <th>cik</th>\n",
       "      <th>label</th>\n",
       "    </tr>\n",
       "  </thead>\n",
       "  <tbody>\n",
       "    <tr>\n",
       "      <th>0</th>\n",
       "      <td>1800</td>\n",
       "      <td>False</td>\n",
       "    </tr>\n",
       "    <tr>\n",
       "      <th>1</th>\n",
       "      <td>2488</td>\n",
       "      <td>False</td>\n",
       "    </tr>\n",
       "    <tr>\n",
       "      <th>2</th>\n",
       "      <td>2491</td>\n",
       "      <td>False</td>\n",
       "    </tr>\n",
       "    <tr>\n",
       "      <th>3</th>\n",
       "      <td>2969</td>\n",
       "      <td>False</td>\n",
       "    </tr>\n",
       "    <tr>\n",
       "      <th>4</th>\n",
       "      <td>3153</td>\n",
       "      <td>False</td>\n",
       "    </tr>\n",
       "  </tbody>\n",
       "</table>\n",
       "</div>"
      ]
     },
     "execution_count": 92,
     "metadata": {},
     "output_type": "execute_result"
    }
   ],
   "execution_count": 92
  },
  {
   "metadata": {
    "ExecuteTime": {
     "end_time": "2024-04-23T20:09:36.198508Z",
     "start_time": "2024-04-23T20:09:36.192360Z"
    }
   },
   "cell_type": "code",
   "source": "train_set['label'].value_counts(normalize=True)",
   "id": "cbf2beb83192201b",
   "outputs": [
    {
     "data": {
      "text/plain": [
       "label\n",
       "False    0.979525\n",
       "True     0.020475\n",
       "Name: proportion, dtype: float64"
      ]
     },
     "execution_count": 93,
     "metadata": {},
     "output_type": "execute_result"
    }
   ],
   "execution_count": 93
  },
  {
   "metadata": {
    "ExecuteTime": {
     "end_time": "2024-04-23T20:09:36.840916Z",
     "start_time": "2024-04-23T20:09:36.691130Z"
    }
   },
   "cell_type": "code",
   "source": [
    "train_set['subset'] = 'train'\n",
    "validation_set['subset'] = 'validation'\n",
    "test_set['subset'] = 'test'\n",
    "\n",
    "train_set.drop(columns=['label'], inplace=True)\n",
    "validation_set.drop(columns=['label'], inplace=True)\n",
    "test_set.drop(columns=['label'], inplace=True)\n",
    "\n",
    "subsets = pd.concat([train_set, validation_set, test_set])\n",
    "\n",
    "subsets = subsets.sample(frac=1).reset_index(drop=True)\n",
    "\n",
    "final_dataset_with_17_variables_5_years_split = subsets.merge(bankrupt_companies_with_17_variables_5_years, on='cik', how='left')\n",
    "\n",
    "final_dataset_with_17_variables_5_years_split.to_csv('bankrupt_companies_with_17_variables_5_years.csv', index=False)\n",
    "\n",
    "final_dataset_with_17_variables_5_years_split.head()"
   ],
   "id": "6fb6bcc2aaec8e40",
   "outputs": [
    {
     "data": {
      "text/plain": [
       "       cik subset ticker  label Fiscal Period  Cost of Goods Sold  \\\n",
       "0  1045810  train   NVDA  False      Jan 2017              2847.0   \n",
       "1  1045810  train   NVDA  False      Jan 2018              3892.0   \n",
       "2  1045810  train   NVDA  False      Jan 2019              4545.0   \n",
       "3  1045810  train   NVDA  False      Jan 2020              4150.0   \n",
       "4  1045810  train   NVDA  False      Jan 2021              6279.0   \n",
       "\n",
       "   Depreciation, Depletion and Amortization    EBIT  EBITDA  Gross Profit  \\\n",
       "0                                     187.0  1963.0  2150.0        4063.0   \n",
       "1                                     199.0  3257.0  3456.0        5822.0   \n",
       "2                                     262.0  3954.0  4216.0        7171.0   \n",
       "3                                     381.0  3022.0  3403.0        6768.0   \n",
       "4                                    1098.0  4593.0  5691.0       10396.0   \n",
       "\n",
       "   ...  Net Income Retained Earnings  Revenue  Total Assets  \\\n",
       "0  ...      1666.0            6108.0   6910.0        9841.0   \n",
       "1  ...      3047.0            8787.0   9714.0       11241.0   \n",
       "2  ...      4141.0           12565.0  11716.0       13292.0   \n",
       "3  ...      2796.0           14971.0  10918.0       17315.0   \n",
       "4  ...      4332.0           18908.0  16675.0       28791.0   \n",
       "\n",
       "   Total Current Assets  Total Current Liabilities  Total Inventories  \\\n",
       "0                8536.0                     1819.0              794.0   \n",
       "1                9255.0                     1153.0              796.0   \n",
       "2               10557.0                     1329.0             1575.0   \n",
       "3               13690.0                     1784.0              979.0   \n",
       "4               16055.0                     3925.0             1826.0   \n",
       "\n",
       "   Total Liabilities  Total Operating Expense  Total Receivables  \n",
       "0             4079.0                   2126.0              826.0  \n",
       "1             3770.0                   2612.0             1265.0  \n",
       "2             3950.0                   3367.0             1424.0  \n",
       "3             5111.0                   3922.0             1657.0  \n",
       "4            11898.0                   5864.0             2429.0  \n",
       "\n",
       "[5 rows x 22 columns]"
      ],
      "text/html": [
       "<div>\n",
       "<style scoped>\n",
       "    .dataframe tbody tr th:only-of-type {\n",
       "        vertical-align: middle;\n",
       "    }\n",
       "\n",
       "    .dataframe tbody tr th {\n",
       "        vertical-align: top;\n",
       "    }\n",
       "\n",
       "    .dataframe thead th {\n",
       "        text-align: right;\n",
       "    }\n",
       "</style>\n",
       "<table border=\"1\" class=\"dataframe\">\n",
       "  <thead>\n",
       "    <tr style=\"text-align: right;\">\n",
       "      <th></th>\n",
       "      <th>cik</th>\n",
       "      <th>subset</th>\n",
       "      <th>ticker</th>\n",
       "      <th>label</th>\n",
       "      <th>Fiscal Period</th>\n",
       "      <th>Cost of Goods Sold</th>\n",
       "      <th>Depreciation, Depletion and Amortization</th>\n",
       "      <th>EBIT</th>\n",
       "      <th>EBITDA</th>\n",
       "      <th>Gross Profit</th>\n",
       "      <th>...</th>\n",
       "      <th>Net Income</th>\n",
       "      <th>Retained Earnings</th>\n",
       "      <th>Revenue</th>\n",
       "      <th>Total Assets</th>\n",
       "      <th>Total Current Assets</th>\n",
       "      <th>Total Current Liabilities</th>\n",
       "      <th>Total Inventories</th>\n",
       "      <th>Total Liabilities</th>\n",
       "      <th>Total Operating Expense</th>\n",
       "      <th>Total Receivables</th>\n",
       "    </tr>\n",
       "  </thead>\n",
       "  <tbody>\n",
       "    <tr>\n",
       "      <th>0</th>\n",
       "      <td>1045810</td>\n",
       "      <td>train</td>\n",
       "      <td>NVDA</td>\n",
       "      <td>False</td>\n",
       "      <td>Jan 2017</td>\n",
       "      <td>2847.0</td>\n",
       "      <td>187.0</td>\n",
       "      <td>1963.0</td>\n",
       "      <td>2150.0</td>\n",
       "      <td>4063.0</td>\n",
       "      <td>...</td>\n",
       "      <td>1666.0</td>\n",
       "      <td>6108.0</td>\n",
       "      <td>6910.0</td>\n",
       "      <td>9841.0</td>\n",
       "      <td>8536.0</td>\n",
       "      <td>1819.0</td>\n",
       "      <td>794.0</td>\n",
       "      <td>4079.0</td>\n",
       "      <td>2126.0</td>\n",
       "      <td>826.0</td>\n",
       "    </tr>\n",
       "    <tr>\n",
       "      <th>1</th>\n",
       "      <td>1045810</td>\n",
       "      <td>train</td>\n",
       "      <td>NVDA</td>\n",
       "      <td>False</td>\n",
       "      <td>Jan 2018</td>\n",
       "      <td>3892.0</td>\n",
       "      <td>199.0</td>\n",
       "      <td>3257.0</td>\n",
       "      <td>3456.0</td>\n",
       "      <td>5822.0</td>\n",
       "      <td>...</td>\n",
       "      <td>3047.0</td>\n",
       "      <td>8787.0</td>\n",
       "      <td>9714.0</td>\n",
       "      <td>11241.0</td>\n",
       "      <td>9255.0</td>\n",
       "      <td>1153.0</td>\n",
       "      <td>796.0</td>\n",
       "      <td>3770.0</td>\n",
       "      <td>2612.0</td>\n",
       "      <td>1265.0</td>\n",
       "    </tr>\n",
       "    <tr>\n",
       "      <th>2</th>\n",
       "      <td>1045810</td>\n",
       "      <td>train</td>\n",
       "      <td>NVDA</td>\n",
       "      <td>False</td>\n",
       "      <td>Jan 2019</td>\n",
       "      <td>4545.0</td>\n",
       "      <td>262.0</td>\n",
       "      <td>3954.0</td>\n",
       "      <td>4216.0</td>\n",
       "      <td>7171.0</td>\n",
       "      <td>...</td>\n",
       "      <td>4141.0</td>\n",
       "      <td>12565.0</td>\n",
       "      <td>11716.0</td>\n",
       "      <td>13292.0</td>\n",
       "      <td>10557.0</td>\n",
       "      <td>1329.0</td>\n",
       "      <td>1575.0</td>\n",
       "      <td>3950.0</td>\n",
       "      <td>3367.0</td>\n",
       "      <td>1424.0</td>\n",
       "    </tr>\n",
       "    <tr>\n",
       "      <th>3</th>\n",
       "      <td>1045810</td>\n",
       "      <td>train</td>\n",
       "      <td>NVDA</td>\n",
       "      <td>False</td>\n",
       "      <td>Jan 2020</td>\n",
       "      <td>4150.0</td>\n",
       "      <td>381.0</td>\n",
       "      <td>3022.0</td>\n",
       "      <td>3403.0</td>\n",
       "      <td>6768.0</td>\n",
       "      <td>...</td>\n",
       "      <td>2796.0</td>\n",
       "      <td>14971.0</td>\n",
       "      <td>10918.0</td>\n",
       "      <td>17315.0</td>\n",
       "      <td>13690.0</td>\n",
       "      <td>1784.0</td>\n",
       "      <td>979.0</td>\n",
       "      <td>5111.0</td>\n",
       "      <td>3922.0</td>\n",
       "      <td>1657.0</td>\n",
       "    </tr>\n",
       "    <tr>\n",
       "      <th>4</th>\n",
       "      <td>1045810</td>\n",
       "      <td>train</td>\n",
       "      <td>NVDA</td>\n",
       "      <td>False</td>\n",
       "      <td>Jan 2021</td>\n",
       "      <td>6279.0</td>\n",
       "      <td>1098.0</td>\n",
       "      <td>4593.0</td>\n",
       "      <td>5691.0</td>\n",
       "      <td>10396.0</td>\n",
       "      <td>...</td>\n",
       "      <td>4332.0</td>\n",
       "      <td>18908.0</td>\n",
       "      <td>16675.0</td>\n",
       "      <td>28791.0</td>\n",
       "      <td>16055.0</td>\n",
       "      <td>3925.0</td>\n",
       "      <td>1826.0</td>\n",
       "      <td>11898.0</td>\n",
       "      <td>5864.0</td>\n",
       "      <td>2429.0</td>\n",
       "    </tr>\n",
       "  </tbody>\n",
       "</table>\n",
       "<p>5 rows × 22 columns</p>\n",
       "</div>"
      ]
     },
     "execution_count": 94,
     "metadata": {},
     "output_type": "execute_result"
    }
   ],
   "execution_count": 94
  },
  {
   "metadata": {
    "ExecuteTime": {
     "end_time": "2024-04-23T20:09:38.689915Z",
     "start_time": "2024-04-23T20:09:38.683079Z"
    }
   },
   "cell_type": "code",
   "source": "final_dataset_with_17_variables_5_years_split['subset'].value_counts(normalize=True)",
   "id": "be753695788a6fd4",
   "outputs": [
    {
     "data": {
      "text/plain": [
       "subset\n",
       "train         0.799708\n",
       "test          0.150292\n",
       "validation    0.050000\n",
       "Name: proportion, dtype: float64"
      ]
     },
     "execution_count": 95,
     "metadata": {},
     "output_type": "execute_result"
    }
   ],
   "execution_count": 95
  },
  {
   "metadata": {
    "ExecuteTime": {
     "end_time": "2024-04-23T20:09:40.298531Z",
     "start_time": "2024-04-23T20:09:40.289150Z"
    }
   },
   "cell_type": "code",
   "source": [
    "train_set_grouped = final_dataset_with_17_variables_5_years_split[final_dataset_with_17_variables_5_years_split['subset'] == 'train']\n",
    "train_set_grouped['label'].value_counts(normalize=True)"
   ],
   "id": "bf650a956350be9",
   "outputs": [
    {
     "data": {
      "text/plain": [
       "label\n",
       "False    0.979525\n",
       "True     0.020475\n",
       "Name: proportion, dtype: float64"
      ]
     },
     "execution_count": 96,
     "metadata": {},
     "output_type": "execute_result"
    }
   ],
   "execution_count": 96
  },
  {
   "metadata": {},
   "cell_type": "markdown",
   "source": "#### Processing II - creating set of files with 100 variables",
   "id": "90e982410029627e"
  },
  {
   "metadata": {},
   "cell_type": "code",
   "outputs": [],
   "execution_count": null,
   "source": "max_lacking_variables_threshold_most_common_variables = 12",
   "id": "8c2ac49268745db7"
  }
 ],
 "metadata": {
  "kernelspec": {
   "display_name": "Python 3",
   "language": "python",
   "name": "python3"
  },
  "language_info": {
   "codemirror_mode": {
    "name": "ipython",
    "version": 2
   },
   "file_extension": ".py",
   "mimetype": "text/x-python",
   "name": "python",
   "nbconvert_exporter": "python",
   "pygments_lexer": "ipython2",
   "version": "2.7.6"
  }
 },
 "nbformat": 4,
 "nbformat_minor": 5
}

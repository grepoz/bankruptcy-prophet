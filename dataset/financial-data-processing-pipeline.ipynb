{
 "cells": [
  {
   "cell_type": "code",
   "id": "initial_id",
   "metadata": {
    "collapsed": true,
    "ExecuteTime": {
     "end_time": "2024-04-30T14:58:05.530524Z",
     "start_time": "2024-04-30T14:58:04.977704Z"
    }
   },
   "source": [
    "import pandas as pd\n",
    "import datetime\n",
    "from collections import Counter\n",
    "import os\n",
    "import shutil"
   ],
   "outputs": [],
   "execution_count": 1
  },
  {
   "metadata": {
    "ExecuteTime": {
     "end_time": "2024-04-30T14:58:05.535419Z",
     "start_time": "2024-04-30T14:58:05.530524Z"
    }
   },
   "cell_type": "code",
   "source": [
    "final_financial_data_directory = 'final_financial_data'\n",
    "final_financial_data_in_date_range_directory = 'final_financial_data_in_date_range'\n",
    "final_financial_data_processed_17_variables_directory = 'final_financial_data_processed_17_variables'\n",
    "final_financial_data_processed_100_variables_directory = 'final_financial_data_processed_100_variables'\n",
    "final_financial_data_processed_17_variables_5years_directory = 'final_financial_data_processed_17_variables_5years'\n",
    "final_financial_data_processed_17_variables_5years_version2_directory = 'final_financial_data_processed_17_variables_5years_version2'"
   ],
   "id": "8a20f36ef5cc8ac1",
   "outputs": [],
   "execution_count": 2
  },
  {
   "metadata": {
    "ExecuteTime": {
     "end_time": "2024-04-26T17:50:26.995884Z",
     "start_time": "2024-04-26T17:50:26.964162Z"
    }
   },
   "cell_type": "code",
   "source": [
    "eligible_companies = pd.read_csv('companies_eligible_to_financial_dataset_2024-04-19_14-47-55.csv')\n",
    "eligible_companies.head()"
   ],
   "id": "aef7ea523fd137fa",
   "outputs": [
    {
     "data": {
      "text/plain": [
       "   Unnamed: 0   cik                            company  label ticker  \\\n",
       "0           0  1800                ABBOTT LABORATORIES  False    ABT   \n",
       "1           1  2488         ADVANCED MICRO DEVICES INC  False    AMD   \n",
       "2           2  2491           BALLY TECHNOLOGIES, INC.  False    BYI   \n",
       "3           3  2601                       AEROFLEX INC  False   ARXX   \n",
       "4           4  2969  AIR PRODUCTS & CHEMICALS INC /DE/  False    APD   \n",
       "\n",
       "               gurufocus-company-name gurufocus-stockid filing_date  \\\n",
       "0                 Abbott Laboratories            US066X  2021-02-19   \n",
       "1          Advanced Micro Devices Inc            US022E  2021-01-29   \n",
       "2  Bally Technologies Inc  (Delisted)            US06R5  2014-08-29   \n",
       "3            Aeroflex Inc  (Delisted)            US026H  2006-09-13   \n",
       "4        Air Products & Chemicals Inc            US06DU  2021-11-18   \n",
       "\n",
       "   cik-equal-gurufocus-cik first_match  \n",
       "0                     True         NaN  \n",
       "1                     True         NaN  \n",
       "2                     True         NaN  \n",
       "3                     True         NaN  \n",
       "4                     True         NaN  "
      ],
      "text/html": [
       "<div>\n",
       "<style scoped>\n",
       "    .dataframe tbody tr th:only-of-type {\n",
       "        vertical-align: middle;\n",
       "    }\n",
       "\n",
       "    .dataframe tbody tr th {\n",
       "        vertical-align: top;\n",
       "    }\n",
       "\n",
       "    .dataframe thead th {\n",
       "        text-align: right;\n",
       "    }\n",
       "</style>\n",
       "<table border=\"1\" class=\"dataframe\">\n",
       "  <thead>\n",
       "    <tr style=\"text-align: right;\">\n",
       "      <th></th>\n",
       "      <th>Unnamed: 0</th>\n",
       "      <th>cik</th>\n",
       "      <th>company</th>\n",
       "      <th>label</th>\n",
       "      <th>ticker</th>\n",
       "      <th>gurufocus-company-name</th>\n",
       "      <th>gurufocus-stockid</th>\n",
       "      <th>filing_date</th>\n",
       "      <th>cik-equal-gurufocus-cik</th>\n",
       "      <th>first_match</th>\n",
       "    </tr>\n",
       "  </thead>\n",
       "  <tbody>\n",
       "    <tr>\n",
       "      <th>0</th>\n",
       "      <td>0</td>\n",
       "      <td>1800</td>\n",
       "      <td>ABBOTT LABORATORIES</td>\n",
       "      <td>False</td>\n",
       "      <td>ABT</td>\n",
       "      <td>Abbott Laboratories</td>\n",
       "      <td>US066X</td>\n",
       "      <td>2021-02-19</td>\n",
       "      <td>True</td>\n",
       "      <td>NaN</td>\n",
       "    </tr>\n",
       "    <tr>\n",
       "      <th>1</th>\n",
       "      <td>1</td>\n",
       "      <td>2488</td>\n",
       "      <td>ADVANCED MICRO DEVICES INC</td>\n",
       "      <td>False</td>\n",
       "      <td>AMD</td>\n",
       "      <td>Advanced Micro Devices Inc</td>\n",
       "      <td>US022E</td>\n",
       "      <td>2021-01-29</td>\n",
       "      <td>True</td>\n",
       "      <td>NaN</td>\n",
       "    </tr>\n",
       "    <tr>\n",
       "      <th>2</th>\n",
       "      <td>2</td>\n",
       "      <td>2491</td>\n",
       "      <td>BALLY TECHNOLOGIES, INC.</td>\n",
       "      <td>False</td>\n",
       "      <td>BYI</td>\n",
       "      <td>Bally Technologies Inc  (Delisted)</td>\n",
       "      <td>US06R5</td>\n",
       "      <td>2014-08-29</td>\n",
       "      <td>True</td>\n",
       "      <td>NaN</td>\n",
       "    </tr>\n",
       "    <tr>\n",
       "      <th>3</th>\n",
       "      <td>3</td>\n",
       "      <td>2601</td>\n",
       "      <td>AEROFLEX INC</td>\n",
       "      <td>False</td>\n",
       "      <td>ARXX</td>\n",
       "      <td>Aeroflex Inc  (Delisted)</td>\n",
       "      <td>US026H</td>\n",
       "      <td>2006-09-13</td>\n",
       "      <td>True</td>\n",
       "      <td>NaN</td>\n",
       "    </tr>\n",
       "    <tr>\n",
       "      <th>4</th>\n",
       "      <td>4</td>\n",
       "      <td>2969</td>\n",
       "      <td>AIR PRODUCTS &amp; CHEMICALS INC /DE/</td>\n",
       "      <td>False</td>\n",
       "      <td>APD</td>\n",
       "      <td>Air Products &amp; Chemicals Inc</td>\n",
       "      <td>US06DU</td>\n",
       "      <td>2021-11-18</td>\n",
       "      <td>True</td>\n",
       "      <td>NaN</td>\n",
       "    </tr>\n",
       "  </tbody>\n",
       "</table>\n",
       "</div>"
      ]
     },
     "execution_count": 3,
     "metadata": {},
     "output_type": "execute_result"
    }
   ],
   "execution_count": 3
  },
  {
   "metadata": {
    "ExecuteTime": {
     "end_time": "2024-04-26T17:50:30.923341Z",
     "start_time": "2024-04-26T17:50:30.917140Z"
    }
   },
   "cell_type": "code",
   "source": "eligible_companies['label'].value_counts()",
   "id": "c1c9b4464efedfb8",
   "outputs": [
    {
     "data": {
      "text/plain": [
       "label\n",
       "False    5291\n",
       "True      126\n",
       "Name: count, dtype: int64"
      ]
     },
     "execution_count": 4,
     "metadata": {},
     "output_type": "execute_result"
    }
   ],
   "execution_count": 4
  },
  {
   "metadata": {
    "ExecuteTime": {
     "end_time": "2024-04-26T17:50:34.183077Z",
     "start_time": "2024-04-26T17:50:34.178207Z"
    }
   },
   "cell_type": "code",
   "source": "final_eligible_companies = eligible_companies.copy()",
   "id": "65787dea7ff2aea1",
   "outputs": [],
   "execution_count": 5
  },
  {
   "metadata": {
    "ExecuteTime": {
     "end_time": "2024-04-26T17:50:36.324066Z",
     "start_time": "2024-04-26T17:50:36.308773Z"
    }
   },
   "cell_type": "code",
   "source": [
    "def drop_columns_after_ttm_or_preliminary(df):\n",
    "    try:\n",
    "        try:\n",
    "            ttm_index = df.columns.get_loc('TTM')\n",
    "            df = df.iloc[:, :ttm_index]\n",
    "            return df\n",
    "        except:\n",
    "            pass\n",
    "            \n",
    "        try:\n",
    "            ttm_preliminary_string = 'TTM  Preliminary'\n",
    "            ttm_index = df.columns.get_loc(ttm_preliminary_string)\n",
    "            df = df.iloc[:, :ttm_index]\n",
    "            return df\n",
    "        except:\n",
    "            print(f'No \\'TTM  Preliminary\\' column in {filename}')\n",
    "            \n",
    "        try:\n",
    "            preliminary_string = 'Preliminary'\n",
    "            preliminary_index = None\n",
    "            for i, s in enumerate(df.columns):\n",
    "                if preliminary_string in s:\n",
    "                    preliminary_index = i\n",
    "                    break\n",
    "                    \n",
    "            df = df.iloc[:, :preliminary_index + 1]\n",
    "            last_column_name = df.columns[-1]\n",
    "            split_date = last_column_name.split(' ')\n",
    "            updated_col_name = f'{split_date[0]} {split_date[1]}'\n",
    "            \n",
    "            df.rename(columns={last_column_name: updated_col_name}, inplace=True)\n",
    "            \n",
    "            print(f'No TTM but found Preliminary in {filename}')\n",
    "        except:\n",
    "            print(f'No Preliminary column in {filename}')\n",
    "        \n",
    "    except Exception as ex:\n",
    "        print(f'Ex: {ex}, filename: {filename}')\n",
    "    \n",
    "    return df\n",
    "\n",
    "def clean_date_index(df):\n",
    "    for index in df.index:\n",
    "        split_date = index.split(' ')\n",
    "        month, year = split_date[0], int(split_date[1])\n",
    "        \n",
    "        if 0 <= year <= 9:\n",
    "            year = f'200{year}'\n",
    "        elif 10 <= year <= 24:\n",
    "            year = f'20{year}'\n",
    "        elif year > 24:\n",
    "            year = f'19{year}'\n",
    "            \n",
    "        df.rename(index={index: f'{month} {year}'}, inplace=True)\n",
    "    return df"
   ],
   "id": "7d90984b32d9cfa7",
   "outputs": [],
   "execution_count": 6
  },
  {
   "metadata": {
    "ExecuteTime": {
     "end_time": "2024-04-26T17:51:44.496856Z",
     "start_time": "2024-04-26T17:51:44.486852Z"
    }
   },
   "cell_type": "code",
   "source": [
    "def set_date_difference(final_eligible_companies):\n",
    "\n",
    "    for index, row in final_eligible_companies.iterrows():\n",
    "        try:\n",
    "            cik = row['cik']\n",
    "            gurufocus_stockid = row['gurufocus-stockid']\n",
    "            ticker = row['ticker']\n",
    "            filing_date = row['filing_date']\n",
    "                \n",
    "            filepath = f'{final_financial_data_directory}/{cik}-{gurufocus_stockid}_{ticker}.csv'\n",
    "                \n",
    "            df = pd.read_csv(filepath)\n",
    "            \n",
    "            df = drop_columns_after_ttm_or_preliminary(df)\n",
    "            \n",
    "            last_column_name = df.columns[-1]\n",
    "            split_date = last_column_name.split(' ')\n",
    "            month, year = split_date[0], int(split_date[1])\n",
    "            \n",
    "            if 0 <= year <= 9:\n",
    "                year = f'200{year}'\n",
    "            elif 10 <= year <= 24:\n",
    "                year = f'20{year}'\n",
    "            elif year > 24:\n",
    "                year = f'19{year}'\n",
    "                \n",
    "            gurufocus_last_data_date = datetime.datetime.strptime(f'{month} {year}', '%b %Y')\n",
    "            \n",
    "            filing_date = filing_date[:7]\n",
    "            filing_date = datetime.datetime.strptime(f'{filing_date}', '%Y-%m')\n",
    "    \n",
    "            difference_in_months = int((gurufocus_last_data_date - filing_date).days / 30)\n",
    "            \n",
    "            final_eligible_companies.loc[final_eligible_companies['cik'] == cik, 'difference_in_months'] = difference_in_months\n",
    "        \n",
    "        except Exception as ex:\n",
    "            print(f'Ex: {ex}, filepath: {filepath}')\n",
    "        \n",
    "    return final_eligible_companies"
   ],
   "id": "f152a480a2e4498d",
   "outputs": [],
   "execution_count": 9
  },
  {
   "metadata": {
    "ExecuteTime": {
     "end_time": "2024-04-26T17:52:01.382249Z",
     "start_time": "2024-04-26T17:51:46.040897Z"
    }
   },
   "cell_type": "code",
   "source": "final_eligible_companies = set_date_difference(final_eligible_companies)",
   "id": "dbb6d67099d3d978",
   "outputs": [
    {
     "name": "stdout",
     "output_type": "stream",
     "text": [
      "Ex: invalid literal for int() with base 10: 'Period', filepath: final_financial_data/1766526-US26IG_TECTP.PFD.csv\n"
     ]
    }
   ],
   "execution_count": 10
  },
  {
   "metadata": {
    "ExecuteTime": {
     "end_time": "2024-04-26T17:52:01.389862Z",
     "start_time": "2024-04-26T17:52:01.383255Z"
    }
   },
   "cell_type": "code",
   "source": [
    "counts_df = final_eligible_companies['difference_in_months'].value_counts()\n",
    "# set column names\n",
    "counts_df = counts_df.reset_index()\n",
    "counts_df.columns = ['difference_in_months', 'count']\n",
    "counts_df.head()"
   ],
   "id": "3210dfa3aca668ba",
   "outputs": [
    {
     "data": {
      "text/plain": [
       "   difference_in_months  count\n",
       "0                  -3.0   1398\n",
       "1                  34.0   1190\n",
       "2                  -2.0    825\n",
       "3                  33.0    676\n",
       "4                  22.0    325"
      ],
      "text/html": [
       "<div>\n",
       "<style scoped>\n",
       "    .dataframe tbody tr th:only-of-type {\n",
       "        vertical-align: middle;\n",
       "    }\n",
       "\n",
       "    .dataframe tbody tr th {\n",
       "        vertical-align: top;\n",
       "    }\n",
       "\n",
       "    .dataframe thead th {\n",
       "        text-align: right;\n",
       "    }\n",
       "</style>\n",
       "<table border=\"1\" class=\"dataframe\">\n",
       "  <thead>\n",
       "    <tr style=\"text-align: right;\">\n",
       "      <th></th>\n",
       "      <th>difference_in_months</th>\n",
       "      <th>count</th>\n",
       "    </tr>\n",
       "  </thead>\n",
       "  <tbody>\n",
       "    <tr>\n",
       "      <th>0</th>\n",
       "      <td>-3.0</td>\n",
       "      <td>1398</td>\n",
       "    </tr>\n",
       "    <tr>\n",
       "      <th>1</th>\n",
       "      <td>34.0</td>\n",
       "      <td>1190</td>\n",
       "    </tr>\n",
       "    <tr>\n",
       "      <th>2</th>\n",
       "      <td>-2.0</td>\n",
       "      <td>825</td>\n",
       "    </tr>\n",
       "    <tr>\n",
       "      <th>3</th>\n",
       "      <td>33.0</td>\n",
       "      <td>676</td>\n",
       "    </tr>\n",
       "    <tr>\n",
       "      <th>4</th>\n",
       "      <td>22.0</td>\n",
       "      <td>325</td>\n",
       "    </tr>\n",
       "  </tbody>\n",
       "</table>\n",
       "</div>"
      ]
     },
     "execution_count": 11,
     "metadata": {},
     "output_type": "execute_result"
    }
   ],
   "execution_count": 11
  },
  {
   "metadata": {
    "ExecuteTime": {
     "end_time": "2024-04-26T17:52:01.394796Z",
     "start_time": "2024-04-26T17:52:01.389862Z"
    }
   },
   "cell_type": "code",
   "source": [
    "def get_companies_within_date_range(final_eligible_companies):\n",
    "    mask = (final_eligible_companies['difference_in_months'] > -12) & (final_eligible_companies['difference_in_months'] < 36)\n",
    "    eligible_companies_in_eligible_range = final_eligible_companies[mask]\n",
    "    eligible_companies_in_eligible_range['difference_in_months'] = eligible_companies_in_eligible_range['difference_in_months'].astype(int)\n",
    "    return eligible_companies_in_eligible_range\n",
    "\n",
    "def drop_unused_columns(final_eligible_companies):\n",
    "    final_eligible_companies.drop(columns=['cik-equal-gurufocus-cik', 'first_match'], inplace=True)\n",
    "    return final_eligible_companies"
   ],
   "id": "a928bea3c86d326e",
   "outputs": [],
   "execution_count": 12
  },
  {
   "metadata": {},
   "cell_type": "markdown",
   "source": "#### Processing I",
   "id": "1c3d22378017319e"
  },
  {
   "metadata": {
    "ExecuteTime": {
     "end_time": "2024-04-26T17:52:01.405823Z",
     "start_time": "2024-04-26T17:52:01.394796Z"
    }
   },
   "cell_type": "code",
   "source": [
    "final_eligible_companies = get_companies_within_date_range(final_eligible_companies)\n",
    "final_eligible_companies = drop_unused_columns(final_eligible_companies)\n",
    "\n",
    "print(len(final_eligible_companies))\n",
    "final_eligible_companies['label'].value_counts(normalize=True)"
   ],
   "id": "5406c2d0b275007a",
   "outputs": [
    {
     "name": "stdout",
     "output_type": "stream",
     "text": [
      "5078\n"
     ]
    },
    {
     "name": "stderr",
     "output_type": "stream",
     "text": [
      "C:\\Users\\grzeg\\AppData\\Local\\Temp\\ipykernel_38644\\3847550151.py:4: SettingWithCopyWarning: \n",
      "A value is trying to be set on a copy of a slice from a DataFrame.\n",
      "Try using .loc[row_indexer,col_indexer] = value instead\n",
      "\n",
      "See the caveats in the documentation: https://pandas.pydata.org/pandas-docs/stable/user_guide/indexing.html#returning-a-view-versus-a-copy\n",
      "  eligible_companies_in_eligible_range['difference_in_months'] = eligible_companies_in_eligible_range['difference_in_months'].astype(int)\n",
      "C:\\Users\\grzeg\\AppData\\Local\\Temp\\ipykernel_38644\\3847550151.py:8: SettingWithCopyWarning: \n",
      "A value is trying to be set on a copy of a slice from a DataFrame\n",
      "\n",
      "See the caveats in the documentation: https://pandas.pydata.org/pandas-docs/stable/user_guide/indexing.html#returning-a-view-versus-a-copy\n",
      "  final_eligible_companies.drop(columns=['cik-equal-gurufocus-cik', 'first_match'], inplace=True)\n"
     ]
    },
    {
     "data": {
      "text/plain": [
       "label\n",
       "False    0.976959\n",
       "True     0.023041\n",
       "Name: proportion, dtype: float64"
      ]
     },
     "execution_count": 13,
     "metadata": {},
     "output_type": "execute_result"
    }
   ],
   "execution_count": 13
  },
  {
   "metadata": {
    "ExecuteTime": {
     "end_time": "2024-04-22T11:07:02.389597Z",
     "start_time": "2024-04-22T11:07:02.362029Z"
    }
   },
   "cell_type": "code",
   "source": "# final_eligible_companies.to_csv('eligible_companies_in_eligible_range.csv', index=False)",
   "id": "8337e21aeeb994c",
   "outputs": [],
   "execution_count": 45
  },
  {
   "metadata": {
    "ExecuteTime": {
     "end_time": "2024-04-22T11:07:50.257512Z",
     "start_time": "2024-04-22T11:07:45.188478Z"
    }
   },
   "cell_type": "code",
   "source": [
    "for index, row in final_eligible_companies.iterrows():\n",
    "    cik = row['cik']\n",
    "    gurufocus_stockid = row['gurufocus-stockid']\n",
    "    ticker = row['ticker']\n",
    "    filing_date = row['filing_date']\n",
    "    \n",
    "    filepath = f'{final_financial_data_directory}/{cik}-{gurufocus_stockid}_{ticker}.csv'\n",
    "        \n",
    "    shutil.copy(filepath, f'./{final_financial_data_in_date_range_directory}/{cik}-{gurufocus_stockid}_{ticker}.csv')"
   ],
   "id": "2501819964a6c9b2",
   "outputs": [],
   "execution_count": 46
  },
  {
   "metadata": {},
   "cell_type": "markdown",
   "source": "#### Processing II - creating set of files with 17 variables",
   "id": "41a88331b33c9aef"
  },
  {
   "metadata": {
    "ExecuteTime": {
     "end_time": "2024-04-26T17:52:35.947863Z",
     "start_time": "2024-04-26T17:52:35.930815Z"
    }
   },
   "cell_type": "code",
   "source": [
    "final_eligible_companies = pd.read_csv('eligible_companies_in_eligible_range.csv')\n",
    "len(final_eligible_companies)"
   ],
   "id": "42a9e35d7afc81d2",
   "outputs": [
    {
     "data": {
      "text/plain": [
       "5078"
      ]
     },
     "execution_count": 14,
     "metadata": {},
     "output_type": "execute_result"
    }
   ],
   "execution_count": 14
  },
  {
   "metadata": {
    "ExecuteTime": {
     "end_time": "2024-04-26T17:52:38.344281Z",
     "start_time": "2024-04-26T17:52:38.332747Z"
    }
   },
   "cell_type": "code",
   "source": [
    "with open('chosen_variables.txt', 'r') as file:\n",
    "    chosen_variables = file.read().splitlines()\n",
    "    \n",
    "with open('most_common_variables.txt', 'r') as file:\n",
    "    most_common_variables = file.read().splitlines()"
   ],
   "id": "2221cf9e3667a1fe",
   "outputs": [],
   "execution_count": 15
  },
  {
   "metadata": {
    "ExecuteTime": {
     "end_time": "2024-04-26T17:52:41.383409Z",
     "start_time": "2024-04-26T17:52:41.369715Z"
    }
   },
   "cell_type": "code",
   "source": [
    "def delete_duplicated_rows(df):\n",
    "    df.drop(df.index[df.iloc[:, 0].duplicated(keep=False)], inplace=True)\n",
    "    return df\n",
    "\n",
    "def has_dataframe_enough_variables(df, variables, threshold):\n",
    "    csv_variable = df.iloc[:, 0].tolist()\n",
    "    lacking_variables = []\n",
    "    for variable in variables:\n",
    "        if variable not in csv_variable:\n",
    "            lacking_variables.append(variable)\n",
    "            \n",
    "    if len(lacking_variables) <= threshold:\n",
    "        return True, lacking_variables\n",
    "    else:\n",
    "        return False, lacking_variables\n",
    "    \n",
    "def enrich_filename_with_label(filename, label):\n",
    "    filename = filename.replace('.csv', '')\n",
    "    filename = f'{filename}_{label}.csv'\n",
    "    return filename"
   ],
   "id": "368182811c954da4",
   "outputs": [],
   "execution_count": 16
  },
  {
   "metadata": {
    "ExecuteTime": {
     "end_time": "2024-04-22T20:38:21.271834Z",
     "start_time": "2024-04-22T20:37:44.222112Z"
    }
   },
   "cell_type": "code",
   "source": [
    "max_lacking_variables_threshold_chosen_variables = 3\n",
    "missing_values_array = []\n",
    "\n",
    "for filename in os.listdir(final_financial_data_in_date_range_directory):\n",
    "    try:\n",
    "        cik = int(filename.split('-')[0])\n",
    "        df = pd.read_csv(f'{final_financial_data_in_date_range_directory}/{filename}')\n",
    "        \n",
    "        df.drop(df.columns[0], axis=1, inplace=True)\n",
    "        \n",
    "        df = drop_columns_after_ttm_or_preliminary(df)\n",
    "        \n",
    "        df = delete_duplicated_rows(df)\n",
    "        \n",
    "        has_enough_variables, lacking_variables = has_dataframe_enough_variables(df, chosen_variables, max_lacking_variables_threshold_chosen_variables)\n",
    "        if has_enough_variables is False:\n",
    "            final_eligible_companies.loc[final_eligible_companies['cik'] == cik, 'has_enough_variables'] = False\n",
    "            continue\n",
    "        \n",
    "        df.set_index(df.columns[0], inplace=True)\n",
    "                \n",
    "        df = df[df.index.isin(chosen_variables)]\n",
    "        \n",
    "        df = df.T\n",
    "        df = df.replace('-', pd.NA)\n",
    "        df = df.replace('', pd.NA)\n",
    "        \n",
    "        df.fillna(method='bfill', inplace=True)\n",
    "        df.fillna(method='ffill', inplace=True)\n",
    "        df.fillna(0, inplace=True)\n",
    "        \n",
    "        # insert missing variables as whole columns with 0\n",
    "        if len(lacking_variables) > 0:\n",
    "            for variable in lacking_variables:\n",
    "                df[variable] = 0\n",
    "                \n",
    "        df = clean_date_index(df)\n",
    "        \n",
    "        df = df.reindex(sorted(df.columns), axis=1)\n",
    "        \n",
    "        label = final_eligible_companies.loc[final_eligible_companies['cik'] == cik]['label'].values[0]\n",
    "        \n",
    "        df.to_csv(f'{final_financial_data_processed_17_variables_directory}/{enrich_filename_with_label(filename, label)}', index=True, index_label='Fiscal Period')\n",
    "        \n",
    "        final_eligible_companies.loc[final_eligible_companies['cik'] == cik, 'has_enough_variables'] = True\n",
    "        \n",
    "        missing_value = df.isnull().sum().sum()\n",
    "        if missing_value > 0:\n",
    "            print(f'Missing value in {filename}')\n",
    "        missing_values_array.append(missing_value)\n",
    "        \n",
    "    except Exception as ex:\n",
    "        print(f'Ex: {ex}, filename: {filename}')   "
   ],
   "id": "47b30f2ccbdce1c3",
   "outputs": [],
   "execution_count": 163
  },
  {
   "metadata": {
    "ExecuteTime": {
     "end_time": "2024-04-22T20:38:57.248362Z",
     "start_time": "2024-04-22T20:38:57.242842Z"
    }
   },
   "cell_type": "code",
   "source": "final_eligible_companies['has_enough_variables'].value_counts()",
   "id": "9f6509aca42876ff",
   "outputs": [
    {
     "data": {
      "text/plain": [
       "has_enough_variables\n",
       "True     3777\n",
       "False    1301\n",
       "Name: count, dtype: int64"
      ]
     },
     "execution_count": 164,
     "metadata": {},
     "output_type": "execute_result"
    }
   ],
   "execution_count": 164
  },
  {
   "metadata": {
    "ExecuteTime": {
     "end_time": "2024-04-22T20:39:01.202379Z",
     "start_time": "2024-04-22T20:39:01.191092Z"
    }
   },
   "cell_type": "code",
   "source": "final_eligible_companies_with_enough_variables = final_eligible_companies[final_eligible_companies['has_enough_variables'] == True]",
   "id": "ffd8fcd28632af69",
   "outputs": [],
   "execution_count": 165
  },
  {
   "metadata": {
    "ExecuteTime": {
     "end_time": "2024-04-22T20:39:02.143224Z",
     "start_time": "2024-04-22T20:39:02.124313Z"
    }
   },
   "cell_type": "code",
   "source": "final_eligible_companies_with_enough_variables.drop(columns=['has_enough_variables'], inplace=True)",
   "id": "bec285e5df774f37",
   "outputs": [
    {
     "name": "stderr",
     "output_type": "stream",
     "text": [
      "C:\\Users\\grzeg\\AppData\\Local\\Temp\\ipykernel_30780\\3149027593.py:1: SettingWithCopyWarning: \n",
      "A value is trying to be set on a copy of a slice from a DataFrame\n",
      "\n",
      "See the caveats in the documentation: https://pandas.pydata.org/pandas-docs/stable/user_guide/indexing.html#returning-a-view-versus-a-copy\n",
      "  final_eligible_companies_with_enough_variables.drop(columns=['has_enough_variables'], inplace=True)\n"
     ]
    }
   ],
   "execution_count": 166
  },
  {
   "metadata": {
    "ExecuteTime": {
     "end_time": "2024-04-22T20:39:03.422581Z",
     "start_time": "2024-04-22T20:39:03.408545Z"
    }
   },
   "cell_type": "code",
   "source": "final_eligible_companies_with_enough_variables.to_csv('eligible_companies_in_eligible_range_with_enough_variables.csv', index=False)",
   "id": "64512e0a10177411",
   "outputs": [],
   "execution_count": 167
  },
  {
   "metadata": {
    "ExecuteTime": {
     "end_time": "2024-04-22T20:39:04.439334Z",
     "start_time": "2024-04-22T20:39:04.431809Z"
    }
   },
   "cell_type": "code",
   "source": "final_eligible_companies_with_enough_variables['label'].value_counts(normalize=True)",
   "id": "f40f9421ed69c7b7",
   "outputs": [
    {
     "data": {
      "text/plain": [
       "label\n",
       "False    0.97776\n",
       "True     0.02224\n",
       "Name: proportion, dtype: float64"
      ]
     },
     "execution_count": 168,
     "metadata": {},
     "output_type": "execute_result"
    }
   ],
   "execution_count": 168
  },
  {
   "metadata": {
    "ExecuteTime": {
     "end_time": "2024-04-22T20:39:07.820079Z",
     "start_time": "2024-04-22T20:39:07.814829Z"
    }
   },
   "cell_type": "code",
   "source": [
    "missing_values_counts = Counter(missing_values_array)\n",
    "missing_values_counts"
   ],
   "id": "33f4372484b7ea09",
   "outputs": [
    {
     "data": {
      "text/plain": [
       "Counter({0: 3777})"
      ]
     },
     "execution_count": 169,
     "metadata": {},
     "output_type": "execute_result"
    }
   ],
   "execution_count": 169
  },
  {
   "metadata": {
    "ExecuteTime": {
     "end_time": "2024-04-22T12:40:12.851193Z",
     "start_time": "2024-04-22T12:40:08.808508Z"
    }
   },
   "cell_type": "code",
   "source": [
    "csv_lengths = []\n",
    "for filename in os.listdir(final_financial_data_processed_17_variables_directory):\n",
    "    df = pd.read_csv(f'{final_financial_data_processed_17_variables_directory}/{filename}')\n",
    "    \n",
    "    csv_lengths.append(len(df))"
   ],
   "id": "6fb47b91c7dc852c",
   "outputs": [],
   "execution_count": 100
  },
  {
   "metadata": {
    "ExecuteTime": {
     "end_time": "2024-04-22T12:40:15.857651Z",
     "start_time": "2024-04-22T12:40:15.759151Z"
    }
   },
   "cell_type": "code",
   "source": [
    "import matplotlib.pyplot as plt\n",
    "\n",
    "plt.hist(csv_lengths, bins=30)"
   ],
   "id": "108bfdd00c023f18",
   "outputs": [
    {
     "data": {
      "text/plain": [
       "(array([3.000e+00, 1.400e+01, 3.800e+01, 7.600e+01, 1.200e+02, 1.820e+02,\n",
       "        1.750e+02, 0.000e+00, 1.940e+02, 1.960e+02, 1.790e+02, 2.090e+02,\n",
       "        2.090e+02, 1.750e+02, 0.000e+00, 1.460e+02, 4.770e+02, 1.211e+03,\n",
       "        3.200e+01, 1.800e+01, 3.500e+01, 7.300e+01, 0.000e+00, 5.000e+00,\n",
       "        1.000e+00, 1.000e+00, 0.000e+00, 1.000e+00, 6.000e+00, 1.000e+00]),\n",
       " array([ 1.        ,  1.86666667,  2.73333333,  3.6       ,  4.46666667,\n",
       "         5.33333333,  6.2       ,  7.06666667,  7.93333333,  8.8       ,\n",
       "         9.66666667, 10.53333333, 11.4       , 12.26666667, 13.13333333,\n",
       "        14.        , 14.86666667, 15.73333333, 16.6       , 17.46666667,\n",
       "        18.33333333, 19.2       , 20.06666667, 20.93333333, 21.8       ,\n",
       "        22.66666667, 23.53333333, 24.4       , 25.26666667, 26.13333333,\n",
       "        27.        ]),\n",
       " <BarContainer object of 30 artists>)"
      ]
     },
     "execution_count": 101,
     "metadata": {},
     "output_type": "execute_result"
    },
    {
     "data": {
      "text/plain": [
       "<Figure size 640x480 with 1 Axes>"
      ],
      "image/png": "[encoded data removed]"
     },
     "metadata": {},
     "output_type": "display_data"
    }
   ],
   "execution_count": 101
  },
  {
   "metadata": {
    "ExecuteTime": {
     "end_time": "2024-04-22T18:54:33.874364Z",
     "start_time": "2024-04-22T18:54:33.802081Z"
    }
   },
   "cell_type": "code",
   "source": [
    "csv_lengths_counter = Counter(csv_lengths)\n",
    "csv_lengths_counter"
   ],
   "id": "8061b984b05c225",
   "outputs": [
    {
     "data": {
      "text/plain": [
       "Counter({16: 1211,\n",
       "         15: 477,\n",
       "         12: 209,\n",
       "         11: 209,\n",
       "         9: 196,\n",
       "         8: 194,\n",
       "         6: 182,\n",
       "         10: 179,\n",
       "         13: 175,\n",
       "         7: 175,\n",
       "         14: 146,\n",
       "         5: 120,\n",
       "         4: 76,\n",
       "         20: 73,\n",
       "         3: 38,\n",
       "         19: 35,\n",
       "         17: 32,\n",
       "         18: 18,\n",
       "         2: 14,\n",
       "         26: 6,\n",
       "         21: 5,\n",
       "         1: 3,\n",
       "         22: 1,\n",
       "         27: 1,\n",
       "         25: 1,\n",
       "         23: 1})"
      ]
     },
     "execution_count": 122,
     "metadata": {},
     "output_type": "execute_result"
    }
   ],
   "execution_count": 122
  },
  {
   "metadata": {},
   "cell_type": "markdown",
   "source": "#### csv data extra validation",
   "id": "b3793c1c8ad804cb"
  },
  {
   "metadata": {
    "ExecuteTime": {
     "end_time": "2024-04-22T20:39:24.035640Z",
     "start_time": "2024-04-22T20:39:19.427337Z"
    }
   },
   "cell_type": "code",
   "source": [
    "for filename in os.listdir(final_financial_data_processed_17_variables_directory):\n",
    "    df = pd.read_csv(f'{final_financial_data_processed_17_variables_directory}/{filename}', index_col='Fiscal Period')\n",
    "    \n",
    "    column_headers = df.columns.tolist()\n",
    "    \n",
    "    if len(column_headers) != len(chosen_variables):\n",
    "        print(f'Error in {filename}')"
   ],
   "id": "31c0d99bb8fd7ee",
   "outputs": [],
   "execution_count": 170
  },
  {
   "metadata": {},
   "cell_type": "markdown",
   "source": "##### Getting variables within x years from bankruptcy",
   "id": "6347329aa0eb5480"
  },
  {
   "metadata": {
    "ExecuteTime": {
     "end_time": "2024-04-27T11:34:56.561157Z",
     "start_time": "2024-04-27T11:34:56.373230Z"
    }
   },
   "cell_type": "code",
   "source": "ecl_dataset = pd.read_csv('ECL_with_ticker_2024-04-19_14-35-21.csv')",
   "id": "b4b0316991f42a4f",
   "outputs": [
    {
     "name": "stderr",
     "output_type": "stream",
     "text": [
      "C:\\Users\\grzeg\\AppData\\Local\\Temp\\ipykernel_52200\\1756588558.py:1: DtypeWarning: Columns (12) have mixed types. Specify dtype option on import or set low_memory=False.\n",
      "  ecl_dataset = pd.read_csv('ECL_with_ticker_2024-04-19_14-35-21.csv')\n"
     ]
    }
   ],
   "execution_count": 3
  },
  {
   "metadata": {
    "ExecuteTime": {
     "end_time": "2024-04-27T11:34:59.567347Z",
     "start_time": "2024-04-27T11:34:59.542033Z"
    }
   },
   "cell_type": "code",
   "source": [
    "ecl_dataset_grouped = ecl_dataset.groupby('cik').agg({'bankruptcy_date_1': 'first', 'bankruptcy_date_2': 'first', 'bankruptcy_date_3': 'first','ticker': 'first', 'label': 'last', 'cik-equal-gurufocus-cik': 'last', 'filing_date': 'last'}).reset_index()\n",
    "ecl_dataset_grouped['is_bankruptcy_date_filled'] = ecl_dataset_grouped['bankruptcy_date_1'].notnull()\n",
    "ecl_dataset_grouped['is_bankruptcy_date_filled'].value_counts()"
   ],
   "id": "ade225381136957",
   "outputs": [
    {
     "data": {
      "text/plain": [
       "is_bankruptcy_date_filled\n",
       "False    8252\n",
       "True      891\n",
       "Name: count, dtype: int64"
      ]
     },
     "execution_count": 4,
     "metadata": {},
     "output_type": "execute_result"
    }
   ],
   "execution_count": 4
  },
  {
   "metadata": {
    "ExecuteTime": {
     "end_time": "2024-04-27T11:35:00.683960Z",
     "start_time": "2024-04-27T11:35:00.675650Z"
    }
   },
   "cell_type": "code",
   "source": [
    "ecl_dataset_grouped_eligible = ecl_dataset_grouped[ecl_dataset_grouped['cik-equal-gurufocus-cik'] == True]\n",
    "len(ecl_dataset_grouped_eligible)"
   ],
   "id": "512fe04f0563edd4",
   "outputs": [
    {
     "data": {
      "text/plain": [
       "5417"
      ]
     },
     "execution_count": 5,
     "metadata": {},
     "output_type": "execute_result"
    }
   ],
   "execution_count": 5
  },
  {
   "metadata": {
    "ExecuteTime": {
     "end_time": "2024-04-27T11:35:02.446203Z",
     "start_time": "2024-04-27T11:35:02.442187Z"
    }
   },
   "cell_type": "code",
   "source": [
    "def is_date_valid(value):\n",
    "  try:\n",
    "    date = pd.to_datetime(value)\n",
    "    if pd.isnull(date):\n",
    "      return False\n",
    "    return True\n",
    "  except (pd.errors.OutOfBoundsDatetime, ValueError):\n",
    "    return False"
   ],
   "id": "cd0cbbc71bbf8a1",
   "outputs": [],
   "execution_count": 6
  },
  {
   "metadata": {
    "ExecuteTime": {
     "end_time": "2024-04-27T13:20:39.821236Z",
     "start_time": "2024-04-27T13:20:30.068360Z"
    }
   },
   "cell_type": "code",
   "source": [
    "index_to_have_minimal_years_threshold = 5\n",
    "\n",
    "eligible_companies_with_minimal_years_count = 0\n",
    "cnt_bankruptcies = 0\n",
    "cnt_no_bankruptcies = 0\n",
    "no_date_found = 0\n",
    "\n",
    "for filename in os.listdir(final_financial_data_processed_17_variables_directory):\n",
    "    try:\n",
    "        df = pd.read_csv(f'{final_financial_data_processed_17_variables_directory}/{filename}', index_col='Fiscal Period')\n",
    "        \n",
    "        cik = int(filename.split('-')[0])\n",
    "        label = bool(filename.split('_')[2].split('.')[0])\n",
    "        \n",
    "        bankruptcies = ecl_dataset.loc[ecl_dataset['cik'] == cik][['bankruptcy_date_1', 'bankruptcy_date_2', 'bankruptcy_date_3']]\n",
    "    \n",
    "        if is_date_valid(bankruptcies['bankruptcy_date_3'].values[0]):\n",
    "            last_datetime = bankruptcies['bankruptcy_date_3'].values[0]\n",
    "            cnt_bankruptcies += 1\n",
    "            print(f'bankruptcy_date_3: {filename}')\n",
    "        elif is_date_valid(bankruptcies['bankruptcy_date_2'].values[0]):\n",
    "            last_datetime = bankruptcies['bankruptcy_date_2'].values[0]\n",
    "            cnt_bankruptcies += 1\n",
    "        elif is_date_valid(bankruptcies['bankruptcy_date_1'].values[0]):\n",
    "            last_datetime = bankruptcies['bankruptcy_date_1'].values[0]\n",
    "            cnt_bankruptcies += 1\n",
    "        else:\n",
    "            last_datetime = ecl_dataset_grouped_eligible.loc[ecl_dataset_grouped_eligible['cik'] == cik]['filing_date'].values[0]\n",
    "            cnt_no_bankruptcies += 1\n",
    "            \n",
    "        last_datetime = last_datetime[:7]\n",
    "        last_datetime = datetime.datetime.strptime(last_datetime, '%Y-%m')\n",
    "        \n",
    "        indexes_as_datetime = []\n",
    "        for index in df.index:\n",
    "            indexes_as_datetime.append(datetime.datetime.strptime(f'{index}', '%b %Y'))\n",
    "            \n",
    "        \n",
    "        found = False\n",
    "        for i, date in reversed(list(enumerate(indexes_as_datetime))):\n",
    "            if date <= last_datetime:\n",
    "                corresponding_last_date = date\n",
    "                \n",
    "                if i >= index_to_have_minimal_years_threshold - 1:\n",
    "                    # df = df.iloc[i-index_to_have_minimal_years_threshold+1:i + 1]\n",
    "                    eligible_companies_with_minimal_years_count += 1\n",
    "                    # df.to_csv(f'{final_financial_data_processed_17_variables_5years_version2_directory}/{filename}', index=True, index_label='Fiscal Period')\n",
    "                    ecl_dataset_grouped_eligible.loc[ecl_dataset_grouped_eligible['cik'] == cik, 'has_minimal_years'] = True\n",
    "                    \n",
    "                    found = True\n",
    "                break\n",
    "\n",
    "        if found is False:\n",
    "            print(f'No date found for {filename}') \n",
    "            no_date_found += 1\n",
    "                \n",
    "    except Exception as ex:\n",
    "        print(f'Ex: {ex}, filename: {filename}')"
   ],
   "id": "d3116a99a0a55dc5",
   "outputs": [
    {
     "name": "stdout",
     "output_type": "stream",
     "text": [
      "Ex: index -2 is out of bounds for axis 0 with size 1, filename: 1001316-US05MF_TGTX_False.csv\n",
      "Ex: index -2 is out of bounds for axis 0 with size 1, filename: 1009379-US08DK_MDF_False.csv\n",
      "Ex: index -2 is out of bounds for axis 0 with size 1, filename: 1019272-US0361_ERS_False.csv\n",
      "Ex: index -2 is out of bounds for axis 0 with size 1, filename: 1029142-US030X_DVAX_False.csv\n",
      "Ex: index -2 is out of bounds for axis 0 with size 1, filename: 1031308-US28IQ_BSY_False.csv\n",
      "Ex: index -2 is out of bounds for axis 0 with size 1, filename: 1032462-US09UD_TSY_False.csv\n",
      "Ex: index -2 is out of bounds for axis 0 with size 1, filename: 1035972-US08FY_MII_False.csv\n",
      "Ex: index -2 is out of bounds for axis 0 with size 1, filename: 1038133-US03Q6_HSKA_False.csv\n",
      "Ex: index -2 is out of bounds for axis 0 with size 1, filename: 1039446-US0AMX_JMXIE_False.csv\n",
      "Ex: index -2 is out of bounds for axis 0 with size 1, filename: 1042282-US05H8_SSSW_False.csv\n",
      "Ex: index -2 is out of bounds for axis 0 with size 1, filename: 1043639-US05AQ_SGTL_False.csv\n",
      "Ex: index -2 is out of bounds for axis 0 with size 1, filename: 1048982-US0266_ARTI_False.csv\n",
      "Ex: index -2 is out of bounds for axis 0 with size 1, filename: 1055726-US03V3_INO_False.csv\n",
      "Ex: index -2 is out of bounds for axis 0 with size 1, filename: 1061399-US0HCP_FTRLQ_False.csv\n",
      "Ex: index -2 is out of bounds for axis 0 with size 1, filename: 1061983-US02WW_CYTK_False.csv\n",
      "Ex: index -2 is out of bounds for axis 0 with size 1, filename: 1065910-US0J7S_ILNTQ_False.csv\n",
      "bankruptcy_date_3: 106618-US03OX_HNH_False.csv\n",
      "Ex: index -2 is out of bounds for axis 0 with size 1, filename: 1070698-US055V_RPTP_False.csv\n",
      "Ex: index -2 is out of bounds for axis 0 with size 1, filename: 1075088-US0524_RAZF_False.csv\n",
      "Ex: index -2 is out of bounds for axis 0 with size 1, filename: 1076016-US0AAC_BBSW_False.csv\n",
      "Ex: index -2 is out of bounds for axis 0 with size 1, filename: 1081404-US0LUW_NCNTQ_False.csv\n",
      "Ex: index -2 is out of bounds for axis 0 with size 1, filename: 1084726-US04A0_MEDT_False.csv\n",
      "Ex: index -2 is out of bounds for axis 0 with size 1, filename: 1084866-US02BM_BFRE_False.csv\n",
      "Ex: index -2 is out of bounds for axis 0 with size 1, filename: 1087322-US0KOO_LUMTQ_False.csv\n",
      "Ex: index -2 is out of bounds for axis 0 with size 1, filename: 1094360-US053O_RETK_False.csv\n",
      "Ex: index -2 is out of bounds for axis 0 with size 1, filename: 1100412-US0261_ARRY_False.csv\n",
      "Ex: index -2 is out of bounds for axis 0 with size 1, filename: 1103013-US04SR_PECS_False.csv\n",
      "Ex: index -2 is out of bounds for axis 0 with size 1, filename: 1103415-US04ZV_PYPL_False.csv\n",
      "Ex: index -2 is out of bounds for axis 0 with size 1, filename: 1109537-US025F_ARDI_False.csv\n",
      "Ex: index -2 is out of bounds for axis 0 with size 1, filename: 1111247-US0553_RNOW_False.csv\n",
      "Ex: index -2 is out of bounds for axis 0 with size 1, filename: 1111553-US04XE_PRSE_False.csv\n",
      "Ex: index -2 is out of bounds for axis 0 with size 1, filename: 1115285-US037W_EYET_False.csv\n",
      "Ex: index -2 is out of bounds for axis 0 with size 1, filename: 1124524-US02WT_CYRX_False.csv\n",
      "Ex: index -2 is out of bounds for axis 0 with size 1, filename: 1125914-US04OI_OPEN_False.csv\n",
      "Ex: index -2 is out of bounds for axis 0 with size 1, filename: 1131324-US03IH_GHDX_False.csv\n",
      "Ex: index -2 is out of bounds for axis 0 with size 1, filename: 1132484-US08V2_NZ_False.csv\n",
      "Ex: index -2 is out of bounds for axis 0 with size 1, filename: 1133324-US0JCS_INPC_True.csv\n",
      "Ex: index -2 is out of bounds for axis 0 with size 1, filename: 1160241-US02ZM_DNET_False.csv\n",
      "Ex: index -2 is out of bounds for axis 0 with size 1, filename: 1205431-US05GT_SSAG_False.csv\n",
      "Ex: index -2 is out of bounds for axis 0 with size 1, filename: 1217234-US02JQ_CDNA_False.csv\n",
      "Ex: index -2 is out of bounds for axis 0 with size 1, filename: 1217688-US03DQ_FOXH_False.csv\n",
      "Ex: index -2 is out of bounds for axis 0 with size 1, filename: 1232229-US0DCF_BRLCQ_True.csv\n",
      "Ex: index -2 is out of bounds for axis 0 with size 1, filename: 1261686-US04JE_NPTT_False.csv\n",
      "Ex: index -2 is out of bounds for axis 0 with size 1, filename: 1264899-US02CA_BIOV_False.csv\n",
      "Ex: index -2 is out of bounds for axis 0 with size 1, filename: 1267565-US02QY_COLL_False.csv\n",
      "Ex: index -2 is out of bounds for axis 0 with size 1, filename: 1278739-US05NE_TLGB_False.csv\n",
      "Ex: index -2 is out of bounds for axis 0 with size 1, filename: 1280191-US0M1U_NLEQ_False.csv\n",
      "Ex: index -2 is out of bounds for axis 0 with size 1, filename: 1288741-US04EP_MSSR_False.csv\n",
      "Ex: index -2 is out of bounds for axis 0 with size 1, filename: 1289871-US0LFD_MPCCQ_True.csv\n",
      "Ex: index -2 is out of bounds for axis 0 with size 1, filename: 1292470-US04IB_NHWK_False.csv\n",
      "Ex: index -2 is out of bounds for axis 0 with size 1, filename: 1293282-US05Q9_TTGT_False.csv\n",
      "Ex: index -2 is out of bounds for axis 0 with size 1, filename: 1295976-US06WW_CLU_False.csv\n",
      "Ex: index -2 is out of bounds for axis 0 with size 1, filename: 1297633-US04UT_PLAY_False.csv\n",
      "Ex: index -2 is out of bounds for axis 0 with size 1, filename: 1310897-US08XZ_PA_False.csv\n",
      "Ex: index -2 is out of bounds for axis 0 with size 1, filename: 1312928-US041M_KYAK_False.csv\n",
      "Ex: index -2 is out of bounds for axis 0 with size 1, filename: 1314026-CA0045_ASV_False.csv\n",
      "Ex: index -2 is out of bounds for axis 0 with size 1, filename: 1314655-US07NB_GGL_False.csv\n",
      "Ex: index -2 is out of bounds for axis 0 with size 1, filename: 1316710-US06YO_COE_False.csv\n",
      "Ex: index -2 is out of bounds for axis 0 with size 1, filename: 1321655-US28GD_PLTR_False.csv\n",
      "Ex: index -2 is out of bounds for axis 0 with size 1, filename: 1325228-US02O2_CLAY_False.csv\n",
      "Ex: index -2 is out of bounds for axis 0 with size 1, filename: 1326428-US0V0Z_ROAN_False.csv\n",
      "Ex: index -2 is out of bounds for axis 0 with size 1, filename: 1326973-US05D5_SMOD_False.csv\n",
      "Ex: index -2 is out of bounds for axis 0 with size 1, filename: 1329919-US05WK_VOCS_False.csv\n",
      "Ex: index -2 is out of bounds for axis 0 with size 1, filename: 1333578-US08P2_NKT_False.csv\n",
      "Ex: index -2 is out of bounds for axis 0 with size 1, filename: 1334127-US0IBJ_HARR_False.csv\n",
      "Ex: index -2 is out of bounds for axis 0 with size 1, filename: 1340652-US02JJ_CCXI_False.csv\n",
      "Ex: index -2 is out of bounds for axis 0 with size 1, filename: 1355128-US0MJ3_OCZTQ_False.csv\n",
      "Ex: index -2 is out of bounds for axis 0 with size 1, filename: 1355754-US080B_INST_False.csv\n",
      "Ex: index -2 is out of bounds for axis 0 with size 1, filename: 1366527-US0V91_CBLK_False.csv\n",
      "Ex: index -2 is out of bounds for axis 0 with size 1, filename: 1371285-US05PM_TRUP_False.csv\n",
      "Ex: index -2 is out of bounds for axis 0 with size 1, filename: 1374684-US0T6S_MULE_False.csv\n",
      "Ex: index -2 is out of bounds for axis 0 with size 1, filename: 1377121-US04YT_PTGX_False.csv\n",
      "Ex: index -2 is out of bounds for axis 0 with size 1, filename: 1382101-US0XTP_STRO_False.csv\n",
      "Ex: index -2 is out of bounds for axis 0 with size 1, filename: 1384101-US05UQ_VCYT_False.csv\n",
      "Ex: index -2 is out of bounds for axis 0 with size 1, filename: 1385187-US06ZA_COV_False.csv\n",
      "Ex: index -2 is out of bounds for axis 0 with size 1, filename: 1388658-US03WO_IRTC_False.csv\n",
      "Ex: index -2 is out of bounds for axis 0 with size 1, filename: 1393584-US28GK_AMWL_False.csv\n",
      "Ex: index -2 is out of bounds for axis 0 with size 1, filename: 1404973-US0T1M_EGC_False.csv\n",
      "Ex: index -2 is out of bounds for axis 0 with size 1, filename: 1412408-US26N8_PHR_False.csv\n",
      "Ex: index -2 is out of bounds for axis 0 with size 1, filename: 1419600-US03C7_FLXN_False.csv\n",
      "Ex: index -2 is out of bounds for axis 0 with size 1, filename: 1420850-US07EN_ET_False.csv\n",
      "Ex: index -2 is out of bounds for axis 0 with size 1, filename: 1421419-US01ZS_AGAM_False.csv\n",
      "Ex: index -2 is out of bounds for axis 0 with size 1, filename: 1422930-US2918_PUBM_False.csv\n",
      "Ex: index -2 is out of bounds for axis 0 with size 1, filename: 1425287-US060H_WKHS_False.csv\n",
      "Ex: index -2 is out of bounds for axis 0 with size 1, filename: 1425450-US0UB7_KIDS_False.csv\n",
      "Ex: index -2 is out of bounds for axis 0 with size 1, filename: 1429260-US038I_FBIO_False.csv\n",
      "Ex: index -2 is out of bounds for axis 0 with size 1, filename: 1433195-US024P_APPF_False.csv\n",
      "Ex: index -2 is out of bounds for axis 0 with size 1, filename: 1434316-US038D_FATE_False.csv\n",
      "Ex: index -2 is out of bounds for axis 0 with size 1, filename: 1435049-US28N6_KDNY_False.csv\n",
      "Ex: index -2 is out of bounds for axis 0 with size 1, filename: 1436208-US25MC_LEGH_False.csv\n",
      "Ex: index -2 is out of bounds for axis 0 with size 1, filename: 1447362-US26OD_CSTL_False.csv\n",
      "Ex: index -2 is out of bounds for axis 0 with size 1, filename: 1452384-US0IBU_HAWKQ_True.csv\n",
      "Ex: index -2 is out of bounds for axis 0 with size 1, filename: 1458962-US047W_MB_False.csv\n",
      "Ex: index -2 is out of bounds for axis 0 with size 1, filename: 1463729-US052O_RCPT_False.csv\n",
      "Ex: index -2 is out of bounds for axis 0 with size 1, filename: 1474439-US05NU_TNAV_False.csv\n",
      "Ex: index -2 is out of bounds for axis 0 with size 1, filename: 1477720-US28GG_ASAN_False.csv\n",
      "Ex: index -2 is out of bounds for axis 0 with size 1, filename: 1478484-US064V_ZU_False.csv\n",
      "Ex: index -2 is out of bounds for axis 0 with size 1, filename: 1481646-US281J_ACCD_False.csv\n",
      "Ex: index -2 is out of bounds for axis 0 with size 1, filename: 1484504-US07NT_GIMO_False.csv\n",
      "Ex: index -2 is out of bounds for axis 0 with size 1, filename: 1484612-US28GH_OM_False.csv\n",
      "Ex: index -2 is out of bounds for axis 0 with size 1, filename: 1488613-US03CJ_FMI_False.csv\n",
      "Ex: index -2 is out of bounds for axis 0 with size 1, filename: 1490978-US27CB_SDGR_False.csv\n",
      "Ex: index -2 is out of bounds for axis 0 with size 1, filename: 1496323-US26U8_IGMS_False.csv\n",
      "Ex: index -2 is out of bounds for axis 0 with size 1, filename: 1501756-US01Z3_ADVM_False.csv\n",
      "Ex: index -2 is out of bounds for axis 0 with size 1, filename: 1510487-US0XSF_PRNB_False.csv\n",
      "Ex: index -2 is out of bounds for axis 0 with size 1, filename: 1517130-US04VK_PME_False.csv\n",
      "Ex: index -2 is out of bounds for axis 0 with size 1, filename: 1525221-US280H_VTOL_False.csv\n",
      "Ex: index -2 is out of bounds for axis 0 with size 1, filename: 1527508-US28GB_PTVE_False.csv\n",
      "Ex: index -2 is out of bounds for axis 0 with size 1, filename: 1532543-US055H_ROIQU_False.csv\n",
      "Ex: index -2 is out of bounds for axis 0 with size 1, filename: 1537951-US07A8_EDG_False.csv\n",
      "Ex: index -2 is out of bounds for axis 0 with size 1, filename: 1538927-US27ZY_FMTX_False.csv\n",
      "Ex: index -2 is out of bounds for axis 0 with size 1, filename: 1547063-US09OA_TAM_False.csv\n",
      "Ex: index -2 is out of bounds for axis 0 with size 1, filename: 1549595-US285O_NRIX_False.csv\n",
      "Ex: index -2 is out of bounds for axis 0 with size 1, filename: 1556739-US0T2Y_THRY_False.csv\n",
      "Ex: index -2 is out of bounds for axis 0 with size 1, filename: 1559720-US290S_ABNB_False.csv\n",
      "Ex: index -2 is out of bounds for axis 0 with size 1, filename: 1562214-US063T_ZAIS_False.csv\n",
      "Ex: index -2 is out of bounds for axis 0 with size 1, filename: 1564406-US287S_OSH_False.csv\n",
      "Ex: index -2 is out of bounds for axis 0 with size 1, filename: 1565687-US2AX4_INTA_False.csv\n",
      "Ex: index -2 is out of bounds for axis 0 with size 1, filename: 1574135-US0V7Q_PVTL_False.csv\n",
      "Ex: index -2 is out of bounds for axis 0 with size 1, filename: 1574648-US06G2_ATHL_False.csv\n",
      "Ex: index -2 is out of bounds for axis 0 with size 1, filename: 1577526-US290W_AI_False.csv\n",
      "Ex: index -2 is out of bounds for axis 0 with size 1, filename: 1580864-US27V6_VRM_False.csv\n",
      "Ex: index -2 is out of bounds for axis 0 with size 1, filename: 1581720-US045F_LOXO_False.csv\n",
      "Ex: index -2 is out of bounds for axis 0 with size 1, filename: 1582616-US08MT_NCFT_False.csv\n",
      "Ex: index -2 is out of bounds for axis 0 with size 1, filename: 1584549-US0RMJ_VFF_False.csv\n",
      "Ex: index -2 is out of bounds for axis 0 with size 1, filename: 1593899-US28SV_AVIR_False.csv\n",
      "Ex: index -2 is out of bounds for axis 0 with size 1, filename: 1597503-US08SG_NSAM_False.csv\n",
      "Ex: index -2 is out of bounds for axis 0 with size 1, filename: 1599901-US27YK_RNA_False.csv\n",
      "Ex: index -2 is out of bounds for axis 0 with size 1, filename: 1600620-US028L_AUPH_False.csv\n",
      "Ex: index -2 is out of bounds for axis 0 with size 1, filename: 1604868-US0I3X_GRWG_False.csv\n",
      "Ex: index -2 is out of bounds for axis 0 with size 1, filename: 1609809-US048W_MCRB_False.csv\n",
      "Ex: index -2 is out of bounds for axis 0 with size 1, filename: 1611647-US03EC_FRPT_False.csv\n",
      "Ex: index -2 is out of bounds for axis 0 with size 1, filename: 1613103-US08DR_MDT_False.csv\n",
      "Ex: index -2 is out of bounds for axis 0 with size 1, filename: 1620546-US06QV_BXLT_False.csv\n",
      "Ex: index -2 is out of bounds for axis 0 with size 1, filename: 1621227-US01YD_ADAP_False.csv\n",
      "Ex: index -2 is out of bounds for axis 0 with size 1, filename: 1622536-US09RH_TLN_False.csv\n",
      "Ex: index -2 is out of bounds for axis 0 with size 1, filename: 1622893-US0838_JMG_False.csv\n",
      "Ex: index -2 is out of bounds for axis 0 with size 1, filename: 1628171-US27DP_RVMD_False.csv\n",
      "Ex: index -2 is out of bounds for axis 0 with size 1, filename: 1629995-US06ZO_CPGX_False.csv\n",
      "Ex: index -2 is out of bounds for axis 0 with size 1, filename: 1633142-US090X_PGND_False.csv\n",
      "Ex: index -2 is out of bounds for axis 0 with size 1, filename: 1636422-US26NT_HCAT_False.csv\n",
      "Ex: index -2 is out of bounds for axis 0 with size 1, filename: 1639225-US26NX_LVGO_False.csv\n",
      "Ex: index -2 is out of bounds for axis 0 with size 1, filename: 1640147-US28GL_SNOW_False.csv\n",
      "Ex: index -2 is out of bounds for axis 0 with size 1, filename: 1643269-US28G8_SUMO_False.csv\n",
      "Ex: index -2 is out of bounds for axis 0 with size 1, filename: 1643615-US284W_MEG_False.csv\n",
      "Ex: index -2 is out of bounds for axis 0 with size 1, filename: 1643848-US0975_PTHN_False.csv\n",
      "Ex: index -2 is out of bounds for axis 0 with size 1, filename: 1643953-US03KH_PRPL_False.csv\n",
      "Ex: index -2 is out of bounds for axis 0 with size 1, filename: 1645926-US08I9_MPSX_False.csv\n",
      "Ex: index -2 is out of bounds for axis 0 with size 1, filename: 1646972-US280P_ACI_False.csv\n",
      "Ex: index -2 is out of bounds for axis 0 with size 1, filename: 1655759-US0XTQ_ARVN_False.csv\n",
      "Ex: index -2 is out of bounds for axis 0 with size 1, filename: 1661460-US2835_PSTX_False.csv\n",
      "Ex: index -2 is out of bounds for axis 0 with size 1, filename: 1662579-US28L2_CCCC_False.csv\n",
      "Ex: index -2 is out of bounds for axis 0 with size 1, filename: 1665988-US02C9_BVS_False.csv\n",
      "Ex: index -2 is out of bounds for axis 0 with size 1, filename: 1666071-US0UNK_CDLX_False.csv\n",
      "Ex: index -2 is out of bounds for axis 0 with size 1, filename: 1674101-US0XEL_VRT_False.csv\n",
      "Ex: index -2 is out of bounds for axis 0 with size 1, filename: 1674930-US03BV_FLGT_False.csv\n",
      "Ex: index -2 is out of bounds for axis 0 with size 1, filename: 1677761-US0926_PKYW_False.csv\n",
      "Ex: index -2 is out of bounds for axis 0 with size 1, filename: 1679082-US08LQ_MYOV_False.csv\n",
      "Ex: index -2 is out of bounds for axis 0 with size 1, filename: 1680062-US0UDS_ACMR_False.csv\n",
      "Ex: index -2 is out of bounds for axis 0 with size 1, filename: 1703057-US292X_ABCL_False.csv\n",
      "Ex: index -2 is out of bounds for axis 0 with size 1, filename: 1704235-US0UND_QES_False.csv\n",
      "Ex: index -2 is out of bounds for axis 0 with size 1, filename: 1704292-US0TUX_ZLAB_False.csv\n",
      "Ex: index -2 is out of bounds for axis 0 with size 1, filename: 1720821-US28CC_PAEWW_False.csv\n",
      "Ex: index -2 is out of bounds for axis 0 with size 1, filename: 1721947-US284P_JAMF_False.csv\n",
      "Ex: index -2 is out of bounds for axis 0 with size 1, filename: 1722992-US0VAK_SMTA_False.csv\n",
      "Ex: index -2 is out of bounds for axis 0 with size 1, filename: 1724521-US0UVZ_RCUS_False.csv\n",
      "Ex: index -2 is out of bounds for axis 0 with size 1, filename: 1724570-US28PV_MSP_False.csv\n",
      "Ex: index -2 is out of bounds for axis 0 with size 1, filename: 1725160-US27KS_ZNTL_False.csv\n",
      "Ex: index -2 is out of bounds for axis 0 with size 1, filename: 1726445-US290U_SEER_False.csv\n",
      "Ex: index -2 is out of bounds for axis 0 with size 1, filename: 1727196-US0VBG_SRRK_False.csv\n",
      "Ex: index -2 is out of bounds for axis 0 with size 1, filename: 1731289-US27WA_NKLA_False.csv\n",
      "Ex: index -2 is out of bounds for axis 0 with size 1, filename: 1735803-US29LG_APR_False.csv\n",
      "Ex: index -2 is out of bounds for axis 0 with size 1, filename: 1735828-US043B_LGCYO.PFD_True.csv\n",
      "Ex: index -2 is out of bounds for axis 0 with size 1, filename: 1741830-US28MP_KRON_False.csv\n",
      "Ex: index -2 is out of bounds for axis 0 with size 1, filename: 1743759-US28HN_CRSR_False.csv\n",
      "Ex: index -2 is out of bounds for axis 0 with size 1, filename: 1745317-US28MT_VLDR_False.csv\n",
      "Ex: index -2 is out of bounds for axis 0 with size 1, filename: 1745999-US27C8_BEAM_False.csv\n",
      "Ex: index -2 is out of bounds for axis 0 with size 1, filename: 1747748-US25J2_XM_False.csv\n",
      "Ex: index -2 is out of bounds for axis 0 with size 1, filename: 1748907-US25HH_ORTX_False.csv\n",
      "Ex: index -2 is out of bounds for axis 0 with size 1, filename: 1750153-US2976_GOEV_False.csv\n",
      "Ex: index -2 is out of bounds for axis 0 with size 1, filename: 1751143-US25PL_ATCX_False.csv\n",
      "Ex: index -2 is out of bounds for axis 0 with size 1, filename: 1753706-US26GV_FREE_False.csv\n",
      "Ex: index -2 is out of bounds for axis 0 with size 1, filename: 1754068-US286W_ALVR_False.csv\n",
      "Ex: index -2 is out of bounds for axis 0 with size 1, filename: 1754170-US296X_ASLE_False.csv\n",
      "Ex: index -2 is out of bounds for axis 0 with size 1, filename: 1754820-US2944_DM_False.csv\n",
      "Ex: index -2 is out of bounds for axis 0 with size 1, filename: 1758057-US291V_LAZR_False.csv\n",
      "Ex: index -2 is out of bounds for axis 0 with size 1, filename: 1759631-US28MU_HYLN_False.csv\n",
      "Ex: index -2 is out of bounds for axis 0 with size 1, filename: 1759824-US26DM_ALTG_False.csv\n",
      "Ex: index -2 is out of bounds for axis 0 with size 1, filename: 1768224-US01YK_ARCT_False.csv\n",
      "Ex: index -2 is out of bounds for axis 0 with size 1, filename: 1776661-US28TI_ADV_False.csv\n",
      "Ex: index -2 is out of bounds for axis 0 with size 1, filename: 1779020-US299U_DNMR_False.csv\n",
      "Ex: index -2 is out of bounds for axis 0 with size 1, filename: 1779128-US2AK9_BLDE_False.csv\n",
      "Ex: index -2 is out of bounds for axis 0 with size 1, filename: 1781335-US27II_OTIS_False.csv\n",
      "Ex: index -2 is out of bounds for axis 0 with size 1, filename: 1783180-US27IH_CARR_False.csv\n",
      "Ex: index -2 is out of bounds for axis 0 with size 1, filename: 1783317-US28Q9_MCFE_False.csv\n",
      "Ex: index -2 is out of bounds for axis 0 with size 1, filename: 1786842-US28JL_VNT_False.csv\n",
      "Ex: index -2 is out of bounds for axis 0 with size 1, filename: 1787400-US2838_NKTX_False.csv\n",
      "Ex: index -2 is out of bounds for axis 0 with size 1, filename: 1792044-US04FS_VTRS_False.csv\n",
      "Ex: index -2 is out of bounds for axis 0 with size 1, filename: 1792789-US290M_DASH_False.csv\n",
      "Ex: index -2 is out of bounds for axis 0 with size 1, filename: 1792849-US28DR_HPK_False.csv\n",
      "Ex: index -2 is out of bounds for axis 0 with size 1, filename: 1793229-US28NX_MPLN_False.csv\n",
      "Ex: index -2 is out of bounds for axis 0 with size 1, filename: 1794515-US27UJ_ZI_False.csv\n",
      "Ex: index -2 is out of bounds for axis 0 with size 1, filename: 1794669-US27UQ_FOUR_False.csv\n",
      "Ex: index -2 is out of bounds for axis 0 with size 1, filename: 1796022-US28GM_STEP_False.csv\n",
      "Ex: index -2 is out of bounds for axis 0 with size 1, filename: 1796209-US0UBH_APG_False.csv\n",
      "Ex: index -2 is out of bounds for axis 0 with size 1, filename: 1798100-US28AO_NTST_False.csv\n",
      "Ex: index -2 is out of bounds for axis 0 with size 1, filename: 1799208-US281K_DNB_False.csv\n",
      "Ex: index -2 is out of bounds for axis 0 with size 1, filename: 1800227-US282G_IAC_False.csv\n",
      "Ex: index -2 is out of bounds for axis 0 with size 1, filename: 1800347-US27ZU_ETWO_False.csv\n",
      "Ex: index -2 is out of bounds for axis 0 with size 1, filename: 1800667-US28G9_FROG_False.csv\n",
      "Ex: index -2 is out of bounds for axis 0 with size 1, filename: 1801169-US296H_OPEN_False.csv\n",
      "Ex: index -2 is out of bounds for axis 0 with size 1, filename: 1801368-US28Y2_MP_False.csv\n",
      "Ex: index -2 is out of bounds for axis 0 with size 1, filename: 1802665-US28AW_HRMY_False.csv\n",
      "Ex: index -2 is out of bounds for axis 0 with size 1, filename: 1802768-US27YW_RPRX_False.csv\n",
      "Ex: index -2 is out of bounds for axis 0 with size 1, filename: 1803599-US28W7_CNXC_False.csv\n",
      "Ex: index -2 is out of bounds for axis 0 with size 1, filename: 1804745-US29DE_DRVN_False.csv\n",
      "Ex: index -2 is out of bounds for axis 0 with size 1, filename: 1806837-US285P_VERX_False.csv\n",
      "Ex: index -2 is out of bounds for axis 0 with size 1, filename: 1808158-US27ZZ_RPTX_False.csv\n",
      "Ex: index -2 is out of bounds for axis 0 with size 1, filename: 1808220-US283M_GOCO_False.csv\n",
      "Ex: index -2 is out of bounds for axis 0 with size 1, filename: 1808834-US066B_PRG_False.csv\n",
      "Ex: index -2 is out of bounds for axis 0 with size 1, filename: 1808865-US285L_ITOS_False.csv\n",
      "Ex: index -2 is out of bounds for axis 0 with size 1, filename: 1808997-US288R_AOUT_False.csv\n",
      "Ex: index -2 is out of bounds for axis 0 with size 1, filename: 1809519-US28HQ_GDRX_False.csv\n",
      "Ex: index -2 is out of bounds for axis 0 with size 1, filename: 1810019-US2876_RXT_False.csv\n",
      "Ex: index -2 is out of bounds for axis 0 with size 1, filename: 1810182-US284C_ALXO_False.csv\n",
      "Ex: index -2 is out of bounds for axis 0 with size 1, filename: 1810739-US28N7_RADI_False.csv\n",
      "Ex: index -2 is out of bounds for axis 0 with size 1, filename: 1810806-US28GI_U_False.csv\n",
      "Ex: index -2 is out of bounds for axis 0 with size 1, filename: 1811074-US09SV_TPL_False.csv\n",
      "Ex: index -2 is out of bounds for axis 0 with size 1, filename: 1812364-US283X_RLAY_False.csv\n",
      "Ex: index -2 is out of bounds for axis 0 with size 1, filename: 1815442-US28C7_KYMR_False.csv\n",
      "Ex: index -2 is out of bounds for axis 0 with size 1, filename: 1817358-US28KK_ASO_False.csv\n",
      "Ex: index -2 is out of bounds for axis 0 with size 1, filename: 1819796-US28Y4_GCMG_False.csv\n",
      "Ex: index -2 is out of bounds for axis 0 with size 1, filename: 1819881-US28QN_PAYA_False.csv\n",
      "Ex: index -2 is out of bounds for axis 0 with size 1, filename: 1820721-US28NK_ARRY_False.csv\n",
      "Ex: index -2 is out of bounds for axis 0 with size 1, filename: 1820877-US06AU_AIRC_False.csv\n",
      "Ex: index -2 is out of bounds for axis 0 with size 1, filename: 1820953-US29BA_AFRM_False.csv\n",
      "Ex: index -2 is out of bounds for axis 0 with size 1, filename: 1822250-US292W_WISH_False.csv\n",
      "Ex: index -2 is out of bounds for axis 0 with size 1, filename: 1822479-US28W8_SHC_False.csv\n",
      "Ex: index -2 is out of bounds for axis 0 with size 1, filename: 1823239-US28XV_MRVI_False.csv\n",
      "Ex: index -2 is out of bounds for axis 0 with size 1, filename: 1823794-US2977_ARKO_False.csv\n",
      "Ex: index -2 is out of bounds for axis 0 with size 1, filename: 1825088-US29E5_DFH_False.csv\n",
      "Ex: index -2 is out of bounds for axis 0 with size 1, filename: 1826470-US29BO_WOOF_False.csv\n",
      "Ex: index -2 is out of bounds for axis 0 with size 1, filename: 1827090-US291Z_CERT_False.csv\n",
      "Ex: index -2 is out of bounds for axis 0 with size 1, filename: 1828016-US29DF_PLTK_False.csv\n",
      "Ex: index -2 is out of bounds for axis 0 with size 1, filename: 1828182-US29LI_SGFY_False.csv\n",
      "Ex: index -2 is out of bounds for axis 0 with size 1, filename: 1830043-US29K4_BMBL_False.csv\n",
      "Ex: index -2 is out of bounds for axis 0 with size 1, filename: 1834045-US2ASA_VWE_False.csv\n",
      "Ex: index -2 is out of bounds for axis 0 with size 1, filename: 1834376-US29TT_INNV_False.csv\n",
      "Ex: index -2 is out of bounds for axis 0 with size 1, filename: 1835256-US2A1A_NAPA_False.csv\n",
      "Ex: index -2 is out of bounds for axis 0 with size 1, filename: 1839439-US2CBY_PYCR_False.csv\n",
      "Ex: index -2 is out of bounds for axis 0 with size 1, filename: 1857951-US2CJW_WEBR_False.csv\n",
      "Ex: index -2 is out of bounds for axis 0 with size 1, filename: 1868941-US2D89_FLNC_False.csv\n",
      "Ex: index -2 is out of bounds for axis 0 with size 1, filename: 27751-US005D_DLI_False.csv\n",
      "Ex: index -2 is out of bounds for axis 0 with size 1, filename: 30822-US0300_DRCO_False.csv\n",
      "Ex: index -2 is out of bounds for axis 0 with size 1, filename: 351721-US023X_ANSI_False.csv\n",
      "Ex: index -2 is out of bounds for axis 0 with size 1, filename: 65596-US05BC_SIEB_False.csv\n",
      "Ex: index -2 is out of bounds for axis 0 with size 1, filename: 708821-US08YC_PAR_False.csv\n",
      "Ex: index -2 is out of bounds for axis 0 with size 1, filename: 715779-US02XU_DEBS_False.csv\n",
      "Ex: index -2 is out of bounds for axis 0 with size 1, filename: 719733-US041C_KTCC_False.csv\n",
      "Ex: index -2 is out of bounds for axis 0 with size 1, filename: 721675-US0FNA_DMCSQ_False.csv\n",
      "Ex: index -2 is out of bounds for axis 0 with size 1, filename: 727489-US04WT_PRDS_False.csv\n",
      "Ex: index -2 is out of bounds for axis 0 with size 1, filename: 758540-US03KR_GPSI_False.csv\n",
      "Ex: index -2 is out of bounds for axis 0 with size 1, filename: 783412-US02Z2_DJCO_False.csv\n",
      "Ex: index -2 is out of bounds for axis 0 with size 1, filename: 807863-US04BR_MITK_False.csv\n",
      "Ex: index -2 is out of bounds for axis 0 with size 1, filename: 847935-US021G_ALLI_False.csv\n",
      "Ex: index -2 is out of bounds for axis 0 with size 1, filename: 854222-US03S7_IDEV_False.csv\n",
      "Ex: index -2 is out of bounds for axis 0 with size 1, filename: 858803-US0291_AVNR_False.csv\n",
      "Ex: index -2 is out of bounds for axis 0 with size 1, filename: 866291-US28S4_ALGM_False.csv\n",
      "Ex: index -2 is out of bounds for axis 0 with size 1, filename: 873538-US04OJ_OPEN_False.csv\n",
      "Ex: index -2 is out of bounds for axis 0 with size 1, filename: 882154-US0945_POWR_False.csv\n",
      "Ex: index -2 is out of bounds for axis 0 with size 1, filename: 882796-US02AU_BCRX_False.csv\n",
      "Ex: index -2 is out of bounds for axis 0 with size 1, filename: 888711-US035Q_EPRE_False.csv\n",
      "Ex: index -2 is out of bounds for axis 0 with size 1, filename: 890096-US0RI3_UTCIQ_False.csv\n",
      "Ex: index -2 is out of bounds for axis 0 with size 1, filename: 890572-US05FG_SPMT_False.csv\n",
      "Ex: index -2 is out of bounds for axis 0 with size 1, filename: 893160-US05W9_VMSI_False.csv\n",
      "Ex: index -2 is out of bounds for axis 0 with size 1, filename: 906551-US0510_QRSI_False.csv\n",
      "Ex: index -2 is out of bounds for axis 0 with size 1, filename: 913165-US037I_EXAC_False.csv\n",
      "Ex: index -2 is out of bounds for axis 0 with size 1, filename: 918066-US03J8_GLFD_False.csv\n",
      "Ex: index -2 is out of bounds for axis 0 with size 1, filename: 919722-US027F_ASTX_False.csv\n",
      "Ex: index -2 is out of bounds for axis 0 with size 1, filename: 920354-US04E2_MROI_False.csv\n",
      "Ex: index -2 is out of bounds for axis 0 with size 1, filename: 923899-US0AOW_MDLIZ_False.csv\n",
      "Ex: index -2 is out of bounds for axis 0 with size 1, filename: 924632-US0J3G_IFCIQ_True.csv\n",
      "Ex: index -2 is out of bounds for axis 0 with size 1, filename: 92679-US09JS_SPA_False.csv\n",
      "Ex: index -2 is out of bounds for axis 0 with size 1, filename: 928908-US0H0U_FLSCQ_False.csv\n",
      "Ex: index -2 is out of bounds for axis 0 with size 1, filename: 930542-US03TR_ILXI_False.csv\n",
      "Ex: index -2 is out of bounds for axis 0 with size 1, filename: 933157-US001I_AOGSQ_False.csv\n",
      "Ex: index -2 is out of bounds for axis 0 with size 1, filename: 935007-US03PE_HORC_False.csv\n",
      "Ex: index -2 is out of bounds for axis 0 with size 1, filename: 942787-US0PZ0_STMDQ_False.csv\n",
      "Ex: index -2 is out of bounds for axis 0 with size 1, filename: 945379-US0EJ8_CMTOQ_False.csv\n",
      "Ex: index -2 is out of bounds for axis 0 with size 1, filename: 946665-US05XM_VSIO_False.csv\n",
      "Ex: index -2 is out of bounds for axis 0 with size 1, filename: 949173-US0290_AVIR_False.csv\n",
      "Ex: index -2 is out of bounds for axis 0 with size 1, filename: 949240-US0S4A_WLDA_False.csv\n"
     ]
    }
   ],
   "execution_count": 17
  },
  {
   "metadata": {
    "ExecuteTime": {
     "end_time": "2024-04-26T20:11:13.457031Z",
     "start_time": "2024-04-26T20:11:13.449286Z"
    }
   },
   "cell_type": "code",
   "source": [
    "print(f'cnt_bankruptcies: {cnt_bankruptcies}, cnt_no_bankruptcies: {cnt_no_bankruptcies}')\n",
    "print(f'no_date_found: {no_date_found}')"
   ],
   "id": "d15bc977a76a2a54",
   "outputs": [
    {
     "name": "stdout",
     "output_type": "stream",
     "text": [
      "cnt_bankruptcies: 264, cnt_no_bankruptcies: 3513\n",
      "no_date_found: 358\n"
     ]
    }
   ],
   "execution_count": 64
  },
  {
   "metadata": {
    "ExecuteTime": {
     "end_time": "2024-04-26T20:18:48.615739Z",
     "start_time": "2024-04-26T20:18:48.607390Z"
    }
   },
   "cell_type": "code",
   "source": "eligible_companies_with_minimal_years_count",
   "id": "3827b55eb2f1aeb2",
   "outputs": [
    {
     "data": {
      "text/plain": [
       "3419"
      ]
     },
     "execution_count": 65,
     "metadata": {},
     "output_type": "execute_result"
    }
   ],
   "execution_count": 65
  },
  {
   "metadata": {
    "ExecuteTime": {
     "end_time": "2024-04-26T18:55:13.097215Z",
     "start_time": "2024-04-26T18:55:13.086079Z"
    }
   },
   "cell_type": "code",
   "source": [
    "ecl_dataset_grouped_eligible_with_minimal_years = ecl_dataset_grouped_eligible[ecl_dataset_grouped_eligible['has_minimal_years'] == True]\n",
    "\n",
    "len(ecl_dataset_grouped_eligible_with_minimal_years)"
   ],
   "id": "8e9f02e968cd4313",
   "outputs": [
    {
     "data": {
      "text/plain": [
       "3490"
      ]
     },
     "execution_count": 61,
     "metadata": {},
     "output_type": "execute_result"
    }
   ],
   "execution_count": 61
  },
  {
   "metadata": {},
   "cell_type": "markdown",
   "source": "# Dataset for 17 variables exists, with data from 5 years - could be used for training model",
   "id": "2809cb286a2fecdb"
  },
  {
   "metadata": {
    "ExecuteTime": {
     "end_time": "2024-04-25T06:42:05.699538Z",
     "start_time": "2024-04-25T06:42:05.681529Z"
    }
   },
   "cell_type": "code",
   "source": [
    "# TODO later: save with filename to report - match by bankruptcy or filing date !!!\n",
    "# TODO: plot labels distribution\n",
    "ecl_dataset_grouped_eligible_with_minimal_years.to_csv('ecl_dataset_grouped_eligible_with_minimal_years.csv', index=False)"
   ],
   "id": "198f8dfb74e1aa72",
   "outputs": [
    {
     "ename": "NameError",
     "evalue": "name 'ecl_dataset_grouped_eligible_with_minimal_years' is not defined",
     "output_type": "error",
     "traceback": [
      "\u001B[1;31m---------------------------------------------------------------------------\u001B[0m",
      "\u001B[1;31mNameError\u001B[0m                                 Traceback (most recent call last)",
      "Cell \u001B[1;32mIn[12], line 3\u001B[0m\n\u001B[0;32m      1\u001B[0m \u001B[38;5;66;03m# TODO later: save with filename to report - match by bankruptcy or filing date !!!\u001B[39;00m\n\u001B[0;32m      2\u001B[0m \u001B[38;5;66;03m# TODO: plot labels distribution\u001B[39;00m\n\u001B[1;32m----> 3\u001B[0m \u001B[43mecl_dataset_grouped_eligible_with_minimal_years\u001B[49m\u001B[38;5;241m.\u001B[39mto_csv(\u001B[38;5;124m'\u001B[39m\u001B[38;5;124mecl_dataset_grouped_eligible_with_minimal_years.csv\u001B[39m\u001B[38;5;124m'\u001B[39m, index\u001B[38;5;241m=\u001B[39m\u001B[38;5;28;01mFalse\u001B[39;00m)\n",
      "\u001B[1;31mNameError\u001B[0m: name 'ecl_dataset_grouped_eligible_with_minimal_years' is not defined"
     ]
    }
   ],
   "execution_count": 12
  },
  {
   "metadata": {
    "ExecuteTime": {
     "end_time": "2024-04-28T12:11:02.687075Z",
     "start_time": "2024-04-28T12:10:12.956781Z"
    }
   },
   "cell_type": "code",
   "source": [
    "bankrupt_companies_with_17_variables_5_years = pd.DataFrame()\n",
    "\n",
    "for i, filename in enumerate(os.listdir(final_financial_data_processed_17_variables_5years_directory)):\n",
    "    try:\n",
    "        df = pd.read_csv(f'{final_financial_data_processed_17_variables_5years_directory}/{filename}', index_col='Fiscal Period')\n",
    "        \n",
    "        # find all values with M, like 1.2M with 1200000 and replace them with number\n",
    "        for column in df.columns:\n",
    "            df[column] = df[column].replace({'M': '*1e6', 'B': '*1e9'}, regex=True).map(pd.eval).astype(float)\n",
    "        \n",
    "        filename_without_extension = filename.replace('.csv', '')\n",
    "        \n",
    "        label = filename_without_extension.split('_')[-1]\n",
    "\n",
    "        mapping = {'True': True, 'False': False}\n",
    "        label = mapping[label]\n",
    "        \n",
    "        df.reset_index(inplace=True)\n",
    "        df.insert(loc=0, column='cik', value=int(filename.split('-')[0]))\n",
    "        df.insert(loc=1, column='ticker', value=filename.split('_')[1])\n",
    "        df.insert(loc=2, column='label', value=label)\n",
    "\n",
    "        bankrupt_companies_with_17_variables_5_years = pd.concat([bankrupt_companies_with_17_variables_5_years, df])\n",
    "        \n",
    "    except Exception as ex:\n",
    "        print(f'Ex: {ex}, filename: {filename}')\n",
    "\n",
    "bankrupt_companies_with_17_variables_5_years.sort_values(by=['cik', 'Fiscal Period'], inplace=True)\n",
    "bankrupt_companies_with_17_variables_5_years.to_csv('bankrupt_companies_with_17_variables_5_years_version2.csv', index=False)"
   ],
   "id": "cbf1a7b8f50feb72",
   "outputs": [],
   "execution_count": 3
  },
  {
   "metadata": {
    "ExecuteTime": {
     "end_time": "2024-04-25T06:43:14.373595Z",
     "start_time": "2024-04-25T06:43:14.357468Z"
    }
   },
   "cell_type": "code",
   "source": "bankrupt_companies_with_17_variables_5_years.head()",
   "id": "66ab72e19a083937",
   "outputs": [
    {
     "data": {
      "text/plain": [
       "    cik ticker  label Fiscal Period  Cost of Goods Sold  \\\n",
       "0  1800    ABT  False      Dec 2016              9094.0   \n",
       "1  1800    ABT  False      Dec 2017             12409.0   \n",
       "2  1800    ABT  False      Dec 2018             12706.0   \n",
       "3  1800    ABT  False      Dec 2019             13231.0   \n",
       "4  1800    ABT  False      Dec 2020             15003.0   \n",
       "\n",
       "   Depreciation, Depletion and Amortization    EBIT  EBITDA  Gross Profit  \\\n",
       "0                                    1353.0  1844.0  3197.0       11759.0   \n",
       "1                                    3021.0  3135.0  6156.0       14981.0   \n",
       "2                                    3278.0  3699.0  6977.0       17872.0   \n",
       "3                                    3014.0  4747.0  7761.0       18673.0   \n",
       "4                                    3327.0  5514.0  8841.0       19605.0   \n",
       "\n",
       "   Long-Term Debt  ... Net Income  Retained Earnings  Revenue  Total Assets  \\\n",
       "0         20681.0  ...     1400.0            25565.0  20853.0       52666.0   \n",
       "1         27210.0  ...      477.0            23978.0  27390.0       76250.0   \n",
       "2         19359.0  ...     2368.0            24560.0  30578.0       67173.0   \n",
       "3         16661.0  ...     3687.0            25847.0  31904.0       67887.0   \n",
       "4         18527.0  ...     4495.0            27627.0  34608.0       72548.0   \n",
       "\n",
       "   Total Current Assets  Total Current Liabilities  Total Inventories  \\\n",
       "0               26776.0                     6660.0             2434.0   \n",
       "1               20147.0                     8912.0             3601.0   \n",
       "2               14632.0                     9012.0             3796.0   \n",
       "3               15667.0                    10863.0             4316.0   \n",
       "4               20441.0                    11907.0             5012.0   \n",
       "\n",
       "   Total Liabilities  Total Operating Expense  Total Receivables  \n",
       "0            31949.0                   8733.0             5054.0  \n",
       "1            45152.0                  13417.0             6916.0  \n",
       "2            36451.0                  14222.0             6750.0  \n",
       "3            36586.0                  14141.0             7211.0  \n",
       "4            39545.0                  14248.0             8281.0  \n",
       "\n",
       "[5 rows x 21 columns]"
      ],
      "text/html": [
       "<div>\n",
       "<style scoped>\n",
       "    .dataframe tbody tr th:only-of-type {\n",
       "        vertical-align: middle;\n",
       "    }\n",
       "\n",
       "    .dataframe tbody tr th {\n",
       "        vertical-align: top;\n",
       "    }\n",
       "\n",
       "    .dataframe thead th {\n",
       "        text-align: right;\n",
       "    }\n",
       "</style>\n",
       "<table border=\"1\" class=\"dataframe\">\n",
       "  <thead>\n",
       "    <tr style=\"text-align: right;\">\n",
       "      <th></th>\n",
       "      <th>cik</th>\n",
       "      <th>ticker</th>\n",
       "      <th>label</th>\n",
       "      <th>Fiscal Period</th>\n",
       "      <th>Cost of Goods Sold</th>\n",
       "      <th>Depreciation, Depletion and Amortization</th>\n",
       "      <th>EBIT</th>\n",
       "      <th>EBITDA</th>\n",
       "      <th>Gross Profit</th>\n",
       "      <th>Long-Term Debt</th>\n",
       "      <th>...</th>\n",
       "      <th>Net Income</th>\n",
       "      <th>Retained Earnings</th>\n",
       "      <th>Revenue</th>\n",
       "      <th>Total Assets</th>\n",
       "      <th>Total Current Assets</th>\n",
       "      <th>Total Current Liabilities</th>\n",
       "      <th>Total Inventories</th>\n",
       "      <th>Total Liabilities</th>\n",
       "      <th>Total Operating Expense</th>\n",
       "      <th>Total Receivables</th>\n",
       "    </tr>\n",
       "  </thead>\n",
       "  <tbody>\n",
       "    <tr>\n",
       "      <th>0</th>\n",
       "      <td>1800</td>\n",
       "      <td>ABT</td>\n",
       "      <td>False</td>\n",
       "      <td>Dec 2016</td>\n",
       "      <td>9094.0</td>\n",
       "      <td>1353.0</td>\n",
       "      <td>1844.0</td>\n",
       "      <td>3197.0</td>\n",
       "      <td>11759.0</td>\n",
       "      <td>20681.0</td>\n",
       "      <td>...</td>\n",
       "      <td>1400.0</td>\n",
       "      <td>25565.0</td>\n",
       "      <td>20853.0</td>\n",
       "      <td>52666.0</td>\n",
       "      <td>26776.0</td>\n",
       "      <td>6660.0</td>\n",
       "      <td>2434.0</td>\n",
       "      <td>31949.0</td>\n",
       "      <td>8733.0</td>\n",
       "      <td>5054.0</td>\n",
       "    </tr>\n",
       "    <tr>\n",
       "      <th>1</th>\n",
       "      <td>1800</td>\n",
       "      <td>ABT</td>\n",
       "      <td>False</td>\n",
       "      <td>Dec 2017</td>\n",
       "      <td>12409.0</td>\n",
       "      <td>3021.0</td>\n",
       "      <td>3135.0</td>\n",
       "      <td>6156.0</td>\n",
       "      <td>14981.0</td>\n",
       "      <td>27210.0</td>\n",
       "      <td>...</td>\n",
       "      <td>477.0</td>\n",
       "      <td>23978.0</td>\n",
       "      <td>27390.0</td>\n",
       "      <td>76250.0</td>\n",
       "      <td>20147.0</td>\n",
       "      <td>8912.0</td>\n",
       "      <td>3601.0</td>\n",
       "      <td>45152.0</td>\n",
       "      <td>13417.0</td>\n",
       "      <td>6916.0</td>\n",
       "    </tr>\n",
       "    <tr>\n",
       "      <th>2</th>\n",
       "      <td>1800</td>\n",
       "      <td>ABT</td>\n",
       "      <td>False</td>\n",
       "      <td>Dec 2018</td>\n",
       "      <td>12706.0</td>\n",
       "      <td>3278.0</td>\n",
       "      <td>3699.0</td>\n",
       "      <td>6977.0</td>\n",
       "      <td>17872.0</td>\n",
       "      <td>19359.0</td>\n",
       "      <td>...</td>\n",
       "      <td>2368.0</td>\n",
       "      <td>24560.0</td>\n",
       "      <td>30578.0</td>\n",
       "      <td>67173.0</td>\n",
       "      <td>14632.0</td>\n",
       "      <td>9012.0</td>\n",
       "      <td>3796.0</td>\n",
       "      <td>36451.0</td>\n",
       "      <td>14222.0</td>\n",
       "      <td>6750.0</td>\n",
       "    </tr>\n",
       "    <tr>\n",
       "      <th>3</th>\n",
       "      <td>1800</td>\n",
       "      <td>ABT</td>\n",
       "      <td>False</td>\n",
       "      <td>Dec 2019</td>\n",
       "      <td>13231.0</td>\n",
       "      <td>3014.0</td>\n",
       "      <td>4747.0</td>\n",
       "      <td>7761.0</td>\n",
       "      <td>18673.0</td>\n",
       "      <td>16661.0</td>\n",
       "      <td>...</td>\n",
       "      <td>3687.0</td>\n",
       "      <td>25847.0</td>\n",
       "      <td>31904.0</td>\n",
       "      <td>67887.0</td>\n",
       "      <td>15667.0</td>\n",
       "      <td>10863.0</td>\n",
       "      <td>4316.0</td>\n",
       "      <td>36586.0</td>\n",
       "      <td>14141.0</td>\n",
       "      <td>7211.0</td>\n",
       "    </tr>\n",
       "    <tr>\n",
       "      <th>4</th>\n",
       "      <td>1800</td>\n",
       "      <td>ABT</td>\n",
       "      <td>False</td>\n",
       "      <td>Dec 2020</td>\n",
       "      <td>15003.0</td>\n",
       "      <td>3327.0</td>\n",
       "      <td>5514.0</td>\n",
       "      <td>8841.0</td>\n",
       "      <td>19605.0</td>\n",
       "      <td>18527.0</td>\n",
       "      <td>...</td>\n",
       "      <td>4495.0</td>\n",
       "      <td>27627.0</td>\n",
       "      <td>34608.0</td>\n",
       "      <td>72548.0</td>\n",
       "      <td>20441.0</td>\n",
       "      <td>11907.0</td>\n",
       "      <td>5012.0</td>\n",
       "      <td>39545.0</td>\n",
       "      <td>14248.0</td>\n",
       "      <td>8281.0</td>\n",
       "    </tr>\n",
       "  </tbody>\n",
       "</table>\n",
       "<p>5 rows × 21 columns</p>\n",
       "</div>"
      ]
     },
     "execution_count": 14,
     "metadata": {},
     "output_type": "execute_result"
    }
   ],
   "execution_count": 14
  },
  {
   "metadata": {
    "ExecuteTime": {
     "end_time": "2024-04-28T12:11:02.698674Z",
     "start_time": "2024-04-28T12:11:02.688587Z"
    }
   },
   "cell_type": "code",
   "source": [
    "# bankrupt_companies_with_17_variables_5_years = pd.read_csv('bankrupt_companies_with_17_variables_5_years.csv')\n",
    "\n",
    "bankrupt_companies_with_17_variables_5_years_grouped = bankrupt_companies_with_17_variables_5_years.groupby('cik').agg({'label': 'first'}).reset_index()\n",
    "\n",
    "bankrupt_companies_with_17_variables_5_years_grouped['label'].value_counts(normalize=True)"
   ],
   "id": "7436497281ff882d",
   "outputs": [
    {
     "data": {
      "text/plain": [
       "label\n",
       "False    0.97924\n",
       "True     0.02076\n",
       "Name: proportion, dtype: float64"
      ]
     },
     "execution_count": 4,
     "metadata": {},
     "output_type": "execute_result"
    }
   ],
   "execution_count": 4
  },
  {
   "metadata": {
    "ExecuteTime": {
     "end_time": "2024-04-28T12:11:02.703307Z",
     "start_time": "2024-04-28T12:11:02.699341Z"
    }
   },
   "cell_type": "code",
   "source": [
    "number_of_companies = len(bankrupt_companies_with_17_variables_5_years_grouped)\n",
    "number_of_companies"
   ],
   "id": "4c4895d95d5a81d8",
   "outputs": [
    {
     "data": {
      "text/plain": [
       "3420"
      ]
     },
     "execution_count": 5,
     "metadata": {},
     "output_type": "execute_result"
    }
   ],
   "execution_count": 5
  },
  {
   "metadata": {
    "ExecuteTime": {
     "end_time": "2024-04-30T15:20:19.363669Z",
     "start_time": "2024-04-30T15:20:19.350154Z"
    }
   },
   "cell_type": "code",
   "source": [
    "train_ratio = 0.8\n",
    "validation_ratio = 0.05\n",
    "test_ratio = 0.15"
   ],
   "id": "4c29ab5e25559b0a",
   "outputs": [],
   "execution_count": 30
  },
  {
   "metadata": {},
   "cell_type": "markdown",
   "source": "#### sandbox for reading csv by model & splitting data",
   "id": "2cb02d057bde058"
  },
  {
   "metadata": {
    "ExecuteTime": {
     "end_time": "2024-04-28T12:13:03.059187Z",
     "start_time": "2024-04-28T12:13:03.051516Z"
    }
   },
   "cell_type": "code",
   "source": [
    "bankrupt_companies_with_17_variables_5_years_grouped_false = bankrupt_companies_with_17_variables_5_years_grouped[bankrupt_companies_with_17_variables_5_years_grouped['label'] == False]\n",
    "\n",
    "false_len = len(bankrupt_companies_with_17_variables_5_years_grouped_false)\n",
    "\n",
    "bankrupt_companies_with_17_variables_5_years_grouped_true = bankrupt_companies_with_17_variables_5_years_grouped[bankrupt_companies_with_17_variables_5_years_grouped['label'] == True]\n",
    "\n",
    "true_len = len(bankrupt_companies_with_17_variables_5_years_grouped_true)\n",
    "\n",
    "train_set = pd.concat([bankrupt_companies_with_17_variables_5_years_grouped_false[:int(train_ratio * false_len)], bankrupt_companies_with_17_variables_5_years_grouped_true[:int(train_ratio * true_len)]])\n",
    "\n",
    "validation_set = pd.concat([bankrupt_companies_with_17_variables_5_years_grouped_false[int(train_ratio * false_len):int((train_ratio + validation_ratio) * false_len)], bankrupt_companies_with_17_variables_5_years_grouped_true[int(train_ratio * true_len):int((train_ratio + validation_ratio) * true_len)]])\n",
    "\n",
    "test_set = pd.concat([bankrupt_companies_with_17_variables_5_years_grouped_false[int((train_ratio + validation_ratio) * false_len):], bankrupt_companies_with_17_variables_5_years_grouped_true[int((train_ratio + validation_ratio) * true_len):]])\n",
    "\n",
    "len(train_set), len(validation_set), len(test_set)"
   ],
   "id": "a71d43fb07656a17",
   "outputs": [
    {
     "data": {
      "text/plain": [
       "(2735, 171, 514)"
      ]
     },
     "execution_count": 8,
     "metadata": {},
     "output_type": "execute_result"
    }
   ],
   "execution_count": 8
  },
  {
   "metadata": {
    "ExecuteTime": {
     "end_time": "2024-04-28T12:13:07.780554Z",
     "start_time": "2024-04-28T12:13:07.774274Z"
    }
   },
   "cell_type": "code",
   "source": "train_set.head()",
   "id": "df13e46146fc15ab",
   "outputs": [
    {
     "data": {
      "text/plain": [
       "    cik  label\n",
       "0  1800  False\n",
       "1  2488  False\n",
       "2  2491  False\n",
       "3  2969  False\n",
       "4  3153  False"
      ],
      "text/html": [
       "<div>\n",
       "<style scoped>\n",
       "    .dataframe tbody tr th:only-of-type {\n",
       "        vertical-align: middle;\n",
       "    }\n",
       "\n",
       "    .dataframe tbody tr th {\n",
       "        vertical-align: top;\n",
       "    }\n",
       "\n",
       "    .dataframe thead th {\n",
       "        text-align: right;\n",
       "    }\n",
       "</style>\n",
       "<table border=\"1\" class=\"dataframe\">\n",
       "  <thead>\n",
       "    <tr style=\"text-align: right;\">\n",
       "      <th></th>\n",
       "      <th>cik</th>\n",
       "      <th>label</th>\n",
       "    </tr>\n",
       "  </thead>\n",
       "  <tbody>\n",
       "    <tr>\n",
       "      <th>0</th>\n",
       "      <td>1800</td>\n",
       "      <td>False</td>\n",
       "    </tr>\n",
       "    <tr>\n",
       "      <th>1</th>\n",
       "      <td>2488</td>\n",
       "      <td>False</td>\n",
       "    </tr>\n",
       "    <tr>\n",
       "      <th>2</th>\n",
       "      <td>2491</td>\n",
       "      <td>False</td>\n",
       "    </tr>\n",
       "    <tr>\n",
       "      <th>3</th>\n",
       "      <td>2969</td>\n",
       "      <td>False</td>\n",
       "    </tr>\n",
       "    <tr>\n",
       "      <th>4</th>\n",
       "      <td>3153</td>\n",
       "      <td>False</td>\n",
       "    </tr>\n",
       "  </tbody>\n",
       "</table>\n",
       "</div>"
      ]
     },
     "execution_count": 9,
     "metadata": {},
     "output_type": "execute_result"
    }
   ],
   "execution_count": 9
  },
  {
   "metadata": {
    "ExecuteTime": {
     "end_time": "2024-04-28T12:13:09.949949Z",
     "start_time": "2024-04-28T12:13:09.945745Z"
    }
   },
   "cell_type": "code",
   "source": "train_set['label'].value_counts(normalize=True)",
   "id": "cbf2beb83192201b",
   "outputs": [
    {
     "data": {
      "text/plain": [
       "label\n",
       "False    0.979525\n",
       "True     0.020475\n",
       "Name: proportion, dtype: float64"
      ]
     },
     "execution_count": 10,
     "metadata": {},
     "output_type": "execute_result"
    }
   ],
   "execution_count": 10
  },
  {
   "metadata": {
    "ExecuteTime": {
     "end_time": "2024-04-28T12:15:22.160646Z",
     "start_time": "2024-04-28T12:15:22.016624Z"
    }
   },
   "cell_type": "code",
   "source": [
    "train_set['subset'] = 'train'\n",
    "validation_set['subset'] = 'val'\n",
    "test_set['subset'] = 'test'\n",
    "\n",
    "train_set.drop(columns=['label'], inplace=True)\n",
    "validation_set.drop(columns=['label'], inplace=True)\n",
    "test_set.drop(columns=['label'], inplace=True)\n",
    "\n",
    "subsets = pd.concat([train_set, validation_set, test_set])\n",
    "\n",
    "subsets = subsets.sample(frac=1).reset_index(drop=True)\n",
    "\n",
    "final_dataset_with_17_variables_5_years_split_false = subsets.merge(bankrupt_companies_with_17_variables_5_years, on='cik', how='left')\n",
    "\n",
    "final_dataset_with_17_variables_5_years_split_false.to_csv('bankrupt_companies_with_17_variables_5_years_version2_split.csv', index=False)\n",
    "\n",
    "final_dataset_with_17_variables_5_years_split_false.head()"
   ],
   "id": "6fb6bcc2aaec8e40",
   "outputs": [
    {
     "data": {
      "text/plain": [
       "       cik subset ticker  label Fiscal Period  Cost of Goods Sold  \\\n",
       "0  1113232  train   ACLS  False      Dec 2016               167.0   \n",
       "1  1113232  train   ACLS  False      Dec 2017               260.0   \n",
       "2  1113232  train   ACLS  False      Dec 2018               263.0   \n",
       "3  1113232  train   ACLS  False      Dec 2019               199.0   \n",
       "4  1113232  train   ACLS  False      Dec 2020               276.0   \n",
       "\n",
       "   Depreciation, Depletion and Amortization  EBIT  EBITDA  Gross Profit  ...  \\\n",
       "0                                       4.0  16.0    20.0         100.0  ...   \n",
       "1                                       5.0  49.0    54.0         150.0  ...   \n",
       "2                                       6.0  60.0    66.0         180.0  ...   \n",
       "3                                       8.0  26.0    34.0         144.0  ...   \n",
       "4                                      10.0  61.0    71.0         199.0  ...   \n",
       "\n",
       "   Net Income  Retained Earnings  Revenue  Total Assets  Total Current Assets  \\\n",
       "0        11.0             -332.0    267.0         302.0                 241.0   \n",
       "1       127.0             -205.0    411.0         488.0                 340.0   \n",
       "2        46.0             -157.0    443.0         548.0                 397.0   \n",
       "3        17.0             -140.0    343.0         548.0                 376.0   \n",
       "4        50.0              -92.0    475.0         625.0                 471.0   \n",
       "\n",
       "   Total Current Liabilities  Total Inventories  Total Liabilities  \\\n",
       "0                       48.0              114.0              101.0   \n",
       "1                       79.0              121.0              135.0   \n",
       "2                       85.0              129.0              140.0   \n",
       "3                       69.0              140.0              129.0   \n",
       "4                       84.0              161.0              143.0   \n",
       "\n",
       "   Total Operating Expense  Total Receivables  \n",
       "0                     83.0               51.0  \n",
       "1                    102.0               75.0  \n",
       "2                    120.0               79.0  \n",
       "3                    120.0               84.0  \n",
       "4                    141.0               87.0  \n",
       "\n",
       "[5 rows x 22 columns]"
      ],
      "text/html": [
       "<div>\n",
       "<style scoped>\n",
       "    .dataframe tbody tr th:only-of-type {\n",
       "        vertical-align: middle;\n",
       "    }\n",
       "\n",
       "    .dataframe tbody tr th {\n",
       "        vertical-align: top;\n",
       "    }\n",
       "\n",
       "    .dataframe thead th {\n",
       "        text-align: right;\n",
       "    }\n",
       "</style>\n",
       "<table border=\"1\" class=\"dataframe\">\n",
       "  <thead>\n",
       "    <tr style=\"text-align: right;\">\n",
       "      <th></th>\n",
       "      <th>cik</th>\n",
       "      <th>subset</th>\n",
       "      <th>ticker</th>\n",
       "      <th>label</th>\n",
       "      <th>Fiscal Period</th>\n",
       "      <th>Cost of Goods Sold</th>\n",
       "      <th>Depreciation, Depletion and Amortization</th>\n",
       "      <th>EBIT</th>\n",
       "      <th>EBITDA</th>\n",
       "      <th>Gross Profit</th>\n",
       "      <th>...</th>\n",
       "      <th>Net Income</th>\n",
       "      <th>Retained Earnings</th>\n",
       "      <th>Revenue</th>\n",
       "      <th>Total Assets</th>\n",
       "      <th>Total Current Assets</th>\n",
       "      <th>Total Current Liabilities</th>\n",
       "      <th>Total Inventories</th>\n",
       "      <th>Total Liabilities</th>\n",
       "      <th>Total Operating Expense</th>\n",
       "      <th>Total Receivables</th>\n",
       "    </tr>\n",
       "  </thead>\n",
       "  <tbody>\n",
       "    <tr>\n",
       "      <th>0</th>\n",
       "      <td>1113232</td>\n",
       "      <td>train</td>\n",
       "      <td>ACLS</td>\n",
       "      <td>False</td>\n",
       "      <td>Dec 2016</td>\n",
       "      <td>167.0</td>\n",
       "      <td>4.0</td>\n",
       "      <td>16.0</td>\n",
       "      <td>20.0</td>\n",
       "      <td>100.0</td>\n",
       "      <td>...</td>\n",
       "      <td>11.0</td>\n",
       "      <td>-332.0</td>\n",
       "      <td>267.0</td>\n",
       "      <td>302.0</td>\n",
       "      <td>241.0</td>\n",
       "      <td>48.0</td>\n",
       "      <td>114.0</td>\n",
       "      <td>101.0</td>\n",
       "      <td>83.0</td>\n",
       "      <td>51.0</td>\n",
       "    </tr>\n",
       "    <tr>\n",
       "      <th>1</th>\n",
       "      <td>1113232</td>\n",
       "      <td>train</td>\n",
       "      <td>ACLS</td>\n",
       "      <td>False</td>\n",
       "      <td>Dec 2017</td>\n",
       "      <td>260.0</td>\n",
       "      <td>5.0</td>\n",
       "      <td>49.0</td>\n",
       "      <td>54.0</td>\n",
       "      <td>150.0</td>\n",
       "      <td>...</td>\n",
       "      <td>127.0</td>\n",
       "      <td>-205.0</td>\n",
       "      <td>411.0</td>\n",
       "      <td>488.0</td>\n",
       "      <td>340.0</td>\n",
       "      <td>79.0</td>\n",
       "      <td>121.0</td>\n",
       "      <td>135.0</td>\n",
       "      <td>102.0</td>\n",
       "      <td>75.0</td>\n",
       "    </tr>\n",
       "    <tr>\n",
       "      <th>2</th>\n",
       "      <td>1113232</td>\n",
       "      <td>train</td>\n",
       "      <td>ACLS</td>\n",
       "      <td>False</td>\n",
       "      <td>Dec 2018</td>\n",
       "      <td>263.0</td>\n",
       "      <td>6.0</td>\n",
       "      <td>60.0</td>\n",
       "      <td>66.0</td>\n",
       "      <td>180.0</td>\n",
       "      <td>...</td>\n",
       "      <td>46.0</td>\n",
       "      <td>-157.0</td>\n",
       "      <td>443.0</td>\n",
       "      <td>548.0</td>\n",
       "      <td>397.0</td>\n",
       "      <td>85.0</td>\n",
       "      <td>129.0</td>\n",
       "      <td>140.0</td>\n",
       "      <td>120.0</td>\n",
       "      <td>79.0</td>\n",
       "    </tr>\n",
       "    <tr>\n",
       "      <th>3</th>\n",
       "      <td>1113232</td>\n",
       "      <td>train</td>\n",
       "      <td>ACLS</td>\n",
       "      <td>False</td>\n",
       "      <td>Dec 2019</td>\n",
       "      <td>199.0</td>\n",
       "      <td>8.0</td>\n",
       "      <td>26.0</td>\n",
       "      <td>34.0</td>\n",
       "      <td>144.0</td>\n",
       "      <td>...</td>\n",
       "      <td>17.0</td>\n",
       "      <td>-140.0</td>\n",
       "      <td>343.0</td>\n",
       "      <td>548.0</td>\n",
       "      <td>376.0</td>\n",
       "      <td>69.0</td>\n",
       "      <td>140.0</td>\n",
       "      <td>129.0</td>\n",
       "      <td>120.0</td>\n",
       "      <td>84.0</td>\n",
       "    </tr>\n",
       "    <tr>\n",
       "      <th>4</th>\n",
       "      <td>1113232</td>\n",
       "      <td>train</td>\n",
       "      <td>ACLS</td>\n",
       "      <td>False</td>\n",
       "      <td>Dec 2020</td>\n",
       "      <td>276.0</td>\n",
       "      <td>10.0</td>\n",
       "      <td>61.0</td>\n",
       "      <td>71.0</td>\n",
       "      <td>199.0</td>\n",
       "      <td>...</td>\n",
       "      <td>50.0</td>\n",
       "      <td>-92.0</td>\n",
       "      <td>475.0</td>\n",
       "      <td>625.0</td>\n",
       "      <td>471.0</td>\n",
       "      <td>84.0</td>\n",
       "      <td>161.0</td>\n",
       "      <td>143.0</td>\n",
       "      <td>141.0</td>\n",
       "      <td>87.0</td>\n",
       "    </tr>\n",
       "  </tbody>\n",
       "</table>\n",
       "<p>5 rows × 22 columns</p>\n",
       "</div>"
      ]
     },
     "execution_count": 11,
     "metadata": {},
     "output_type": "execute_result"
    }
   ],
   "execution_count": 11
  },
  {
   "metadata": {
    "ExecuteTime": {
     "end_time": "2024-04-28T12:15:27.201744Z",
     "start_time": "2024-04-28T12:15:27.194552Z"
    }
   },
   "cell_type": "code",
   "source": "final_dataset_with_17_variables_5_years_split_false['subset'].value_counts(normalize=True)",
   "id": "be753695788a6fd4",
   "outputs": [
    {
     "data": {
      "text/plain": [
       "subset\n",
       "train    0.799708\n",
       "test     0.150292\n",
       "val      0.050000\n",
       "Name: proportion, dtype: float64"
      ]
     },
     "execution_count": 12,
     "metadata": {},
     "output_type": "execute_result"
    }
   ],
   "execution_count": 12
  },
  {
   "metadata": {
    "ExecuteTime": {
     "end_time": "2024-04-25T08:39:08.009170Z",
     "start_time": "2024-04-25T08:39:07.999114Z"
    }
   },
   "cell_type": "code",
   "source": [
    "train_set_grouped = final_dataset_with_17_variables_5_years_split_false[final_dataset_with_17_variables_5_years_split_false['subset'] == 'train']\n",
    "train_set_grouped['label'].value_counts(normalize=True)"
   ],
   "id": "bf650a956350be9",
   "outputs": [
    {
     "data": {
      "text/plain": [
       "label\n",
       "False    0.979525\n",
       "True     0.020475\n",
       "Name: proportion, dtype: float64"
      ]
     },
     "execution_count": 97,
     "metadata": {},
     "output_type": "execute_result"
    }
   ],
   "execution_count": 97
  },
  {
   "metadata": {
    "ExecuteTime": {
     "end_time": "2024-04-25T09:18:37.157969Z",
     "start_time": "2024-04-25T09:18:37.106195Z"
    }
   },
   "cell_type": "code",
   "source": [
    "df_raw = pd.read_csv('bankrupt_companies_with_17_variables_5_years_split.csv')\n",
    "df_raw.head()"
   ],
   "id": "f23d42fb8a9d4e87",
   "outputs": [
    {
     "data": {
      "text/plain": [
       "       cik subset ticker  label Fiscal Period  Cost of Goods Sold  \\\n",
       "0  1636519   test   MSGS  False      Jun 2017               860.4   \n",
       "1  1636519   test   MSGS  False      Jun 2018               419.1   \n",
       "2  1636519   test   MSGS  False      Jun 2019               440.1   \n",
       "3  1636519   test   MSGS  False      Jun 2020               360.0   \n",
       "4  1636519   test   MSGS  False      Jun 2021               281.9   \n",
       "\n",
       "   Depreciation, Depletion and Amortization  EBIT  EBITDA  Gross Profit  ...  \\\n",
       "0                                     107.4 -77.0    30.4         458.0  ...   \n",
       "1                                     122.5 -17.8   104.7         293.3  ...   \n",
       "2                                     119.2 -55.7    63.5         289.3  ...   \n",
       "3                                      93.4 -93.6    -0.2         243.3  ...   \n",
       "4                                       5.6 -78.8   -73.2         133.8  ...   \n",
       "\n",
       "   Net Income Retained Earnings  Revenue  Total Assets  Total Current Assets  \\\n",
       "0       -72.7            -148.4   1318.5        3712.8                1449.7   \n",
       "1       141.6             -11.1    712.4        3736.2                1415.7   \n",
       "2        11.4              29.0    729.4        3763.8                1413.3   \n",
       "3      -182.4             -43.6    603.3        1233.8                 128.3   \n",
       "4       -14.0             -78.9    415.7        1309.9                 185.2   \n",
       "\n",
       "   Total Current Liabilities  Total Inventories  Total Liabilities  \\\n",
       "0                      762.0                0.0             1212.3   \n",
       "1                      765.5                0.0             1105.5   \n",
       "2                      760.0                0.0             1057.4   \n",
       "3                      290.3                0.0             1437.2   \n",
       "4                      368.3                0.0             1511.8   \n",
       "\n",
       "   Total Operating Expense  Total Receivables  \n",
       "0                    514.3              104.8  \n",
       "1                    311.5              101.3  \n",
       "2                    347.5               15.5  \n",
       "3                    337.2                7.5  \n",
       "4                    212.3               80.6  \n",
       "\n",
       "[5 rows x 22 columns]"
      ],
      "text/html": [
       "<div>\n",
       "<style scoped>\n",
       "    .dataframe tbody tr th:only-of-type {\n",
       "        vertical-align: middle;\n",
       "    }\n",
       "\n",
       "    .dataframe tbody tr th {\n",
       "        vertical-align: top;\n",
       "    }\n",
       "\n",
       "    .dataframe thead th {\n",
       "        text-align: right;\n",
       "    }\n",
       "</style>\n",
       "<table border=\"1\" class=\"dataframe\">\n",
       "  <thead>\n",
       "    <tr style=\"text-align: right;\">\n",
       "      <th></th>\n",
       "      <th>cik</th>\n",
       "      <th>subset</th>\n",
       "      <th>ticker</th>\n",
       "      <th>label</th>\n",
       "      <th>Fiscal Period</th>\n",
       "      <th>Cost of Goods Sold</th>\n",
       "      <th>Depreciation, Depletion and Amortization</th>\n",
       "      <th>EBIT</th>\n",
       "      <th>EBITDA</th>\n",
       "      <th>Gross Profit</th>\n",
       "      <th>...</th>\n",
       "      <th>Net Income</th>\n",
       "      <th>Retained Earnings</th>\n",
       "      <th>Revenue</th>\n",
       "      <th>Total Assets</th>\n",
       "      <th>Total Current Assets</th>\n",
       "      <th>Total Current Liabilities</th>\n",
       "      <th>Total Inventories</th>\n",
       "      <th>Total Liabilities</th>\n",
       "      <th>Total Operating Expense</th>\n",
       "      <th>Total Receivables</th>\n",
       "    </tr>\n",
       "  </thead>\n",
       "  <tbody>\n",
       "    <tr>\n",
       "      <th>0</th>\n",
       "      <td>1636519</td>\n",
       "      <td>test</td>\n",
       "      <td>MSGS</td>\n",
       "      <td>False</td>\n",
       "      <td>Jun 2017</td>\n",
       "      <td>860.4</td>\n",
       "      <td>107.4</td>\n",
       "      <td>-77.0</td>\n",
       "      <td>30.4</td>\n",
       "      <td>458.0</td>\n",
       "      <td>...</td>\n",
       "      <td>-72.7</td>\n",
       "      <td>-148.4</td>\n",
       "      <td>1318.5</td>\n",
       "      <td>3712.8</td>\n",
       "      <td>1449.7</td>\n",
       "      <td>762.0</td>\n",
       "      <td>0.0</td>\n",
       "      <td>1212.3</td>\n",
       "      <td>514.3</td>\n",
       "      <td>104.8</td>\n",
       "    </tr>\n",
       "    <tr>\n",
       "      <th>1</th>\n",
       "      <td>1636519</td>\n",
       "      <td>test</td>\n",
       "      <td>MSGS</td>\n",
       "      <td>False</td>\n",
       "      <td>Jun 2018</td>\n",
       "      <td>419.1</td>\n",
       "      <td>122.5</td>\n",
       "      <td>-17.8</td>\n",
       "      <td>104.7</td>\n",
       "      <td>293.3</td>\n",
       "      <td>...</td>\n",
       "      <td>141.6</td>\n",
       "      <td>-11.1</td>\n",
       "      <td>712.4</td>\n",
       "      <td>3736.2</td>\n",
       "      <td>1415.7</td>\n",
       "      <td>765.5</td>\n",
       "      <td>0.0</td>\n",
       "      <td>1105.5</td>\n",
       "      <td>311.5</td>\n",
       "      <td>101.3</td>\n",
       "    </tr>\n",
       "    <tr>\n",
       "      <th>2</th>\n",
       "      <td>1636519</td>\n",
       "      <td>test</td>\n",
       "      <td>MSGS</td>\n",
       "      <td>False</td>\n",
       "      <td>Jun 2019</td>\n",
       "      <td>440.1</td>\n",
       "      <td>119.2</td>\n",
       "      <td>-55.7</td>\n",
       "      <td>63.5</td>\n",
       "      <td>289.3</td>\n",
       "      <td>...</td>\n",
       "      <td>11.4</td>\n",
       "      <td>29.0</td>\n",
       "      <td>729.4</td>\n",
       "      <td>3763.8</td>\n",
       "      <td>1413.3</td>\n",
       "      <td>760.0</td>\n",
       "      <td>0.0</td>\n",
       "      <td>1057.4</td>\n",
       "      <td>347.5</td>\n",
       "      <td>15.5</td>\n",
       "    </tr>\n",
       "    <tr>\n",
       "      <th>3</th>\n",
       "      <td>1636519</td>\n",
       "      <td>test</td>\n",
       "      <td>MSGS</td>\n",
       "      <td>False</td>\n",
       "      <td>Jun 2020</td>\n",
       "      <td>360.0</td>\n",
       "      <td>93.4</td>\n",
       "      <td>-93.6</td>\n",
       "      <td>-0.2</td>\n",
       "      <td>243.3</td>\n",
       "      <td>...</td>\n",
       "      <td>-182.4</td>\n",
       "      <td>-43.6</td>\n",
       "      <td>603.3</td>\n",
       "      <td>1233.8</td>\n",
       "      <td>128.3</td>\n",
       "      <td>290.3</td>\n",
       "      <td>0.0</td>\n",
       "      <td>1437.2</td>\n",
       "      <td>337.2</td>\n",
       "      <td>7.5</td>\n",
       "    </tr>\n",
       "    <tr>\n",
       "      <th>4</th>\n",
       "      <td>1636519</td>\n",
       "      <td>test</td>\n",
       "      <td>MSGS</td>\n",
       "      <td>False</td>\n",
       "      <td>Jun 2021</td>\n",
       "      <td>281.9</td>\n",
       "      <td>5.6</td>\n",
       "      <td>-78.8</td>\n",
       "      <td>-73.2</td>\n",
       "      <td>133.8</td>\n",
       "      <td>...</td>\n",
       "      <td>-14.0</td>\n",
       "      <td>-78.9</td>\n",
       "      <td>415.7</td>\n",
       "      <td>1309.9</td>\n",
       "      <td>185.2</td>\n",
       "      <td>368.3</td>\n",
       "      <td>0.0</td>\n",
       "      <td>1511.8</td>\n",
       "      <td>212.3</td>\n",
       "      <td>80.6</td>\n",
       "    </tr>\n",
       "  </tbody>\n",
       "</table>\n",
       "<p>5 rows × 22 columns</p>\n",
       "</div>"
      ]
     },
     "execution_count": 125,
     "metadata": {},
     "output_type": "execute_result"
    }
   ],
   "execution_count": 125
  },
  {
   "metadata": {
    "ExecuteTime": {
     "end_time": "2024-04-25T09:18:47.589916Z",
     "start_time": "2024-04-25T09:18:47.559571Z"
    }
   },
   "cell_type": "code",
   "source": [
    "# df_raw = df_raw.drop(columns=['cik', 'ticker'])\n",
    "\n",
    "df_train = df_raw[df_raw['subset'] == 'train']\n",
    "df_validation = df_raw[df_raw['subset'] == 'val']\n",
    "df_test = df_raw[df_raw['subset'] == 'test']\n",
    "\n",
    "train_array = df_train.to_numpy()\n",
    "validation_array = df_validation.to_numpy()\n",
    "test_array = df_test.to_numpy()\n",
    "\n",
    "train_array.shape, validation_array.shape, test_array.shape"
   ],
   "id": "9499d31fe9f8e0cd",
   "outputs": [
    {
     "data": {
      "text/plain": [
       "((13675, 22), (855, 22), (2570, 22))"
      ]
     },
     "execution_count": 126,
     "metadata": {},
     "output_type": "execute_result"
    }
   ],
   "execution_count": 126
  },
  {
   "metadata": {
    "ExecuteTime": {
     "end_time": "2024-04-25T13:39:27.652761Z",
     "start_time": "2024-04-25T13:39:27.646268Z"
    }
   },
   "cell_type": "code",
   "source": [
    "df_train_y = df_train.groupby('cik').agg({'label': 'first'}).reset_index()\n",
    "df_train_y = df_train_y['label'].astype(int).to_numpy()\n",
    "df_train_y.shape"
   ],
   "id": "75d936987b272694",
   "outputs": [
    {
     "data": {
      "text/plain": [
       "(2735,)"
      ]
     },
     "execution_count": 148,
     "metadata": {},
     "output_type": "execute_result"
    }
   ],
   "execution_count": 148
  },
  {
   "metadata": {
    "ExecuteTime": {
     "end_time": "2024-04-25T13:40:40.420918Z",
     "start_time": "2024-04-25T13:40:40.407747Z"
    }
   },
   "cell_type": "code",
   "source": "df_train_y.reshape(-1, 5, 1, 1)",
   "id": "ceb39d869e64b1b7",
   "outputs": [
    {
     "data": {
      "text/plain": [
       "array([[[[0]],\n",
       "\n",
       "        [[0]],\n",
       "\n",
       "        [[0]],\n",
       "\n",
       "        [[0]],\n",
       "\n",
       "        [[0]]],\n",
       "\n",
       "\n",
       "       [[[0]],\n",
       "\n",
       "        [[0]],\n",
       "\n",
       "        [[0]],\n",
       "\n",
       "        [[0]],\n",
       "\n",
       "        [[0]]],\n",
       "\n",
       "\n",
       "       [[[0]],\n",
       "\n",
       "        [[0]],\n",
       "\n",
       "        [[1]],\n",
       "\n",
       "        [[0]],\n",
       "\n",
       "        [[0]]],\n",
       "\n",
       "\n",
       "       ...,\n",
       "\n",
       "\n",
       "       [[[0]],\n",
       "\n",
       "        [[0]],\n",
       "\n",
       "        [[0]],\n",
       "\n",
       "        [[0]],\n",
       "\n",
       "        [[0]]],\n",
       "\n",
       "\n",
       "       [[[0]],\n",
       "\n",
       "        [[0]],\n",
       "\n",
       "        [[0]],\n",
       "\n",
       "        [[0]],\n",
       "\n",
       "        [[0]]],\n",
       "\n",
       "\n",
       "       [[[0]],\n",
       "\n",
       "        [[0]],\n",
       "\n",
       "        [[0]],\n",
       "\n",
       "        [[0]],\n",
       "\n",
       "        [[0]]]])"
      ]
     },
     "execution_count": 151,
     "metadata": {},
     "output_type": "execute_result"
    }
   ],
   "execution_count": 151
  },
  {
   "metadata": {
    "ExecuteTime": {
     "end_time": "2024-04-25T13:38:27.350725Z",
     "start_time": "2024-04-25T13:38:27.342773Z"
    }
   },
   "cell_type": "code",
   "source": [
    "train_array = train_array.reshape(-1, 5, df_train.shape[1])\n",
    "validation_array = validation_array.reshape(-1, 5, df_validation.shape[1])\n",
    "test_array = test_array.reshape(-1, 5, df_test.shape[1])\n",
    "train_array.shape, validation_array.shape, test_array.shape"
   ],
   "id": "e25a6df9abab4eaf",
   "outputs": [
    {
     "data": {
      "text/plain": [
       "((2735, 5, 22), (171, 5, 22), (514, 5, 22))"
      ]
     },
     "execution_count": 147,
     "metadata": {},
     "output_type": "execute_result"
    }
   ],
   "execution_count": 147
  },
  {
   "metadata": {
    "ExecuteTime": {
     "end_time": "2024-04-25T08:20:10.337459Z",
     "start_time": "2024-04-25T08:20:10.329434Z"
    }
   },
   "cell_type": "code",
   "source": [
    "batch_size = 32\n",
    "n_complete_batches = train_array.shape[0] // batch_size\n",
    "train_samples_aligned_to_batch_size = train_array[:n_complete_batches * batch_size]\n",
    "batched_array = train_samples_aligned_to_batch_size.reshape(-1, batch_size, 5, 20)\n",
    "batched_array.shape"
   ],
   "id": "f47759baef2092b3",
   "outputs": [
    {
     "data": {
      "text/plain": [
       "(85, 32, 5, 20)"
      ]
     },
     "execution_count": 71,
     "metadata": {},
     "output_type": "execute_result"
    }
   ],
   "execution_count": 71
  },
  {
   "metadata": {
    "ExecuteTime": {
     "end_time": "2024-04-25T09:40:28.165372Z",
     "start_time": "2024-04-25T09:40:28.153748Z"
    }
   },
   "cell_type": "code",
   "source": [
    "company_observation_period = 5\n",
    "def get_batched_array(df, batch_size):\n",
    "    \n",
    "    df = df.drop(columns=['cik', 'ticker', 'label', 'subset', 'Fiscal Period'])\n",
    "    \n",
    "    numpy_array = df.to_numpy()\n",
    "    variables_count = df.shape[1]\n",
    "    grouped_by_years_array = numpy_array.reshape(-1, 5, variables_count)\n",
    "    \n",
    "    n_complete_batches = grouped_by_years_array.shape[0] // batch_size\n",
    "    \n",
    "    array_aligned_to_batch_size = grouped_by_years_array[:n_complete_batches * batch_size]\n",
    "    batched_array = array_aligned_to_batch_size.reshape(-1, batch_size, company_observation_period, variables_count)\n",
    "    \n",
    "    return batched_array"
   ],
   "id": "8eb36bb6669749e4",
   "outputs": [],
   "execution_count": 143
  },
  {
   "metadata": {
    "ExecuteTime": {
     "end_time": "2024-04-25T09:40:30.816845Z",
     "start_time": "2024-04-25T09:40:30.797445Z"
    }
   },
   "cell_type": "code",
   "source": [
    "batched_train_array = get_batched_array(df_validation, batch_size)\n",
    "batched_train_array.shape"
   ],
   "id": "afe23eb5c3c10402",
   "outputs": [
    {
     "data": {
      "text/plain": [
       "(5, 32, 5, 17)"
      ]
     },
     "execution_count": 144,
     "metadata": {},
     "output_type": "execute_result"
    }
   ],
   "execution_count": 144
  },
  {
   "metadata": {
    "ExecuteTime": {
     "end_time": "2024-04-25T09:40:32.373576Z",
     "start_time": "2024-04-25T09:40:32.367297Z"
    }
   },
   "cell_type": "code",
   "source": "batched_train_array[0][0]",
   "id": "4955502dd0b91c2c",
   "outputs": [
    {
     "data": {
      "text/plain": [
       "array([[50.2, 36.8, -43.4, -6.7, 107.4, 19.6, '779.8', -37.9, -70.6,\n",
       "        157.6, 296.9, 92.3, 59.7, 39.2, 202.8, 152.3, 32.8],\n",
       "       [62.8, 33.3, -57.5, -24.2, 123.9, 36.9, '779.8', -59.6, -130.2,\n",
       "        186.7, 299.2, 101.9, 35.6, 52.6, 40.7, 171.8, 33.9],\n",
       "       [71.8, 24.9, -38.1, -13.1, 144.2, 36.9, '816.0', -39.2, -169.4,\n",
       "        216.0, 374.5, 155.2, 47.8, 62.0, 87.8, 180.5, 38.8],\n",
       "       [82.2, 29.2, -37.2, -7.9, 154.5, 36.9, '847.2', -41.7, -211.1,\n",
       "        236.6, 383.5, 160.0, 44.1, 61.9, 122.0, 189.2, 46.4],\n",
       "       [88.6, 26.8, -31.7, -4.9, 169.4, 39.2, '780.7', -37.1, -249.2,\n",
       "        258.0, 373.1, 153.7, 54.1, 71.4, 130.7, 202.8, 50.5]],\n",
       "      dtype=object)"
      ]
     },
     "execution_count": 145,
     "metadata": {},
     "output_type": "execute_result"
    }
   ],
   "execution_count": 145
  },
  {
   "metadata": {
    "ExecuteTime": {
     "end_time": "2024-04-25T06:59:26.338716Z",
     "start_time": "2024-04-25T06:58:56.390666Z"
    }
   },
   "cell_type": "code",
   "source": [
    "df = df_raw.drop(columns=['cik', 'ticker'])\n",
    "df = df.to_numpy()\n",
    "\n",
    "result_df = df.reshape(-1, 5, df.shape[1]) \n",
    "\n",
    "result_df.shape"
   ],
   "id": "32de4ae7cc533b",
   "outputs": [
    {
     "data": {
      "text/plain": [
       "(3420, 5, 20)"
      ]
     },
     "execution_count": 32,
     "metadata": {},
     "output_type": "execute_result"
    }
   ],
   "execution_count": 32
  },
  {
   "metadata": {
    "ExecuteTime": {
     "end_time": "2024-04-24T19:52:49.662829Z",
     "start_time": "2024-04-24T19:52:49.656760Z"
    }
   },
   "cell_type": "code",
   "source": "result_df[0]",
   "id": "d9a9dd376979070e",
   "outputs": [
    {
     "data": {
      "text/plain": [
       "array([[1045810, 'train', 'NVDA', False, 'Jan 2017', 2847.0, 187.0,\n",
       "        1963.0, 2150.0, 4063.0, 1983.0, '63870.0', 1666.0, 6108.0,\n",
       "        6910.0, 9841.0, 8536.0, 1819.0, 794.0, 4079.0, 2126.0, 826.0],\n",
       "       [1045810, 'train', 'NVDA', False, 'Jan 2018', 3892.0, 199.0,\n",
       "        3257.0, 3456.0, 5822.0, 1985.0, '148955.0', 3047.0, 8787.0,\n",
       "        9714.0, 11241.0, 9255.0, 1153.0, 796.0, 3770.0, 2612.0, 1265.0],\n",
       "       [1045810, 'train', 'NVDA', False, 'Jan 2019', 4545.0, 262.0,\n",
       "        3954.0, 4216.0, 7171.0, 1988.0, '87113.0', 4141.0, 12565.0,\n",
       "        11716.0, 13292.0, 10557.0, 1329.0, 1575.0, 3950.0, 3367.0,\n",
       "        1424.0],\n",
       "       [1045810, 'train', 'NVDA', False, 'Jan 2020', 4150.0, 381.0,\n",
       "        3022.0, 3403.0, 6768.0, 1991.0, '144810.0', 2796.0, 14971.0,\n",
       "        10918.0, 17315.0, 13690.0, 1784.0, 979.0, 5111.0, 3922.0, 1657.0],\n",
       "       [1045810, 'train', 'NVDA', False, 'Jan 2021', 6279.0, 1098.0,\n",
       "        4593.0, 5691.0, 10396.0, 5964.0, '322146.0', 4332.0, 18908.0,\n",
       "        16675.0, 28791.0, 16055.0, 3925.0, 1826.0, 11898.0, 5864.0,\n",
       "        2429.0]], dtype=object)"
      ]
     },
     "execution_count": 10,
     "metadata": {},
     "output_type": "execute_result"
    }
   ],
   "execution_count": 10
  },
  {
   "metadata": {
    "ExecuteTime": {
     "end_time": "2024-04-25T08:02:37.603780Z",
     "start_time": "2024-04-25T08:02:37.597400Z"
    }
   },
   "cell_type": "code",
   "source": "106*32",
   "id": "eb60029086b4fa1e",
   "outputs": [
    {
     "data": {
      "text/plain": [
       "3392"
      ]
     },
     "execution_count": 34,
     "metadata": {},
     "output_type": "execute_result"
    }
   ],
   "execution_count": 34
  },
  {
   "metadata": {
    "ExecuteTime": {
     "end_time": "2024-04-30T14:59:00.930306Z",
     "start_time": "2024-04-30T14:59:00.861416Z"
    }
   },
   "cell_type": "code",
   "source": [
    "bankrupt_companies_with_17_variables_5_years_version2_split = pd.read_csv('./bankrupt_companies_with_17_variables_5_years_version2_split.csv')\n",
    "bankrupt_companies_with_17_variables_5_years_version2_split.head()"
   ],
   "id": "b7d351f22bebff80",
   "outputs": [
    {
     "data": {
      "text/plain": [
       "       cik subset ticker  label Fiscal Period  Cost of Goods Sold  \\\n",
       "0  1113232  train   ACLS  False      Dec 2016               167.0   \n",
       "1  1113232  train   ACLS  False      Dec 2017               260.0   \n",
       "2  1113232  train   ACLS  False      Dec 2018               263.0   \n",
       "3  1113232  train   ACLS  False      Dec 2019               199.0   \n",
       "4  1113232  train   ACLS  False      Dec 2020               276.0   \n",
       "\n",
       "   Depreciation, Depletion and Amortization  EBIT  EBITDA  Gross Profit  ...  \\\n",
       "0                                       4.0  16.0    20.0         100.0  ...   \n",
       "1                                       5.0  49.0    54.0         150.0  ...   \n",
       "2                                       6.0  60.0    66.0         180.0  ...   \n",
       "3                                       8.0  26.0    34.0         144.0  ...   \n",
       "4                                      10.0  61.0    71.0         199.0  ...   \n",
       "\n",
       "   Net Income  Retained Earnings  Revenue  Total Assets  Total Current Assets  \\\n",
       "0        11.0             -332.0    267.0         302.0                 241.0   \n",
       "1       127.0             -205.0    411.0         488.0                 340.0   \n",
       "2        46.0             -157.0    443.0         548.0                 397.0   \n",
       "3        17.0             -140.0    343.0         548.0                 376.0   \n",
       "4        50.0              -92.0    475.0         625.0                 471.0   \n",
       "\n",
       "   Total Current Liabilities  Total Inventories  Total Liabilities  \\\n",
       "0                       48.0              114.0              101.0   \n",
       "1                       79.0              121.0              135.0   \n",
       "2                       85.0              129.0              140.0   \n",
       "3                       69.0              140.0              129.0   \n",
       "4                       84.0              161.0              143.0   \n",
       "\n",
       "   Total Operating Expense  Total Receivables  \n",
       "0                     83.0               51.0  \n",
       "1                    102.0               75.0  \n",
       "2                    120.0               79.0  \n",
       "3                    120.0               84.0  \n",
       "4                    141.0               87.0  \n",
       "\n",
       "[5 rows x 22 columns]"
      ],
      "text/html": [
       "<div>\n",
       "<style scoped>\n",
       "    .dataframe tbody tr th:only-of-type {\n",
       "        vertical-align: middle;\n",
       "    }\n",
       "\n",
       "    .dataframe tbody tr th {\n",
       "        vertical-align: top;\n",
       "    }\n",
       "\n",
       "    .dataframe thead th {\n",
       "        text-align: right;\n",
       "    }\n",
       "</style>\n",
       "<table border=\"1\" class=\"dataframe\">\n",
       "  <thead>\n",
       "    <tr style=\"text-align: right;\">\n",
       "      <th></th>\n",
       "      <th>cik</th>\n",
       "      <th>subset</th>\n",
       "      <th>ticker</th>\n",
       "      <th>label</th>\n",
       "      <th>Fiscal Period</th>\n",
       "      <th>Cost of Goods Sold</th>\n",
       "      <th>Depreciation, Depletion and Amortization</th>\n",
       "      <th>EBIT</th>\n",
       "      <th>EBITDA</th>\n",
       "      <th>Gross Profit</th>\n",
       "      <th>...</th>\n",
       "      <th>Net Income</th>\n",
       "      <th>Retained Earnings</th>\n",
       "      <th>Revenue</th>\n",
       "      <th>Total Assets</th>\n",
       "      <th>Total Current Assets</th>\n",
       "      <th>Total Current Liabilities</th>\n",
       "      <th>Total Inventories</th>\n",
       "      <th>Total Liabilities</th>\n",
       "      <th>Total Operating Expense</th>\n",
       "      <th>Total Receivables</th>\n",
       "    </tr>\n",
       "  </thead>\n",
       "  <tbody>\n",
       "    <tr>\n",
       "      <th>0</th>\n",
       "      <td>1113232</td>\n",
       "      <td>train</td>\n",
       "      <td>ACLS</td>\n",
       "      <td>False</td>\n",
       "      <td>Dec 2016</td>\n",
       "      <td>167.0</td>\n",
       "      <td>4.0</td>\n",
       "      <td>16.0</td>\n",
       "      <td>20.0</td>\n",
       "      <td>100.0</td>\n",
       "      <td>...</td>\n",
       "      <td>11.0</td>\n",
       "      <td>-332.0</td>\n",
       "      <td>267.0</td>\n",
       "      <td>302.0</td>\n",
       "      <td>241.0</td>\n",
       "      <td>48.0</td>\n",
       "      <td>114.0</td>\n",
       "      <td>101.0</td>\n",
       "      <td>83.0</td>\n",
       "      <td>51.0</td>\n",
       "    </tr>\n",
       "    <tr>\n",
       "      <th>1</th>\n",
       "      <td>1113232</td>\n",
       "      <td>train</td>\n",
       "      <td>ACLS</td>\n",
       "      <td>False</td>\n",
       "      <td>Dec 2017</td>\n",
       "      <td>260.0</td>\n",
       "      <td>5.0</td>\n",
       "      <td>49.0</td>\n",
       "      <td>54.0</td>\n",
       "      <td>150.0</td>\n",
       "      <td>...</td>\n",
       "      <td>127.0</td>\n",
       "      <td>-205.0</td>\n",
       "      <td>411.0</td>\n",
       "      <td>488.0</td>\n",
       "      <td>340.0</td>\n",
       "      <td>79.0</td>\n",
       "      <td>121.0</td>\n",
       "      <td>135.0</td>\n",
       "      <td>102.0</td>\n",
       "      <td>75.0</td>\n",
       "    </tr>\n",
       "    <tr>\n",
       "      <th>2</th>\n",
       "      <td>1113232</td>\n",
       "      <td>train</td>\n",
       "      <td>ACLS</td>\n",
       "      <td>False</td>\n",
       "      <td>Dec 2018</td>\n",
       "      <td>263.0</td>\n",
       "      <td>6.0</td>\n",
       "      <td>60.0</td>\n",
       "      <td>66.0</td>\n",
       "      <td>180.0</td>\n",
       "      <td>...</td>\n",
       "      <td>46.0</td>\n",
       "      <td>-157.0</td>\n",
       "      <td>443.0</td>\n",
       "      <td>548.0</td>\n",
       "      <td>397.0</td>\n",
       "      <td>85.0</td>\n",
       "      <td>129.0</td>\n",
       "      <td>140.0</td>\n",
       "      <td>120.0</td>\n",
       "      <td>79.0</td>\n",
       "    </tr>\n",
       "    <tr>\n",
       "      <th>3</th>\n",
       "      <td>1113232</td>\n",
       "      <td>train</td>\n",
       "      <td>ACLS</td>\n",
       "      <td>False</td>\n",
       "      <td>Dec 2019</td>\n",
       "      <td>199.0</td>\n",
       "      <td>8.0</td>\n",
       "      <td>26.0</td>\n",
       "      <td>34.0</td>\n",
       "      <td>144.0</td>\n",
       "      <td>...</td>\n",
       "      <td>17.0</td>\n",
       "      <td>-140.0</td>\n",
       "      <td>343.0</td>\n",
       "      <td>548.0</td>\n",
       "      <td>376.0</td>\n",
       "      <td>69.0</td>\n",
       "      <td>140.0</td>\n",
       "      <td>129.0</td>\n",
       "      <td>120.0</td>\n",
       "      <td>84.0</td>\n",
       "    </tr>\n",
       "    <tr>\n",
       "      <th>4</th>\n",
       "      <td>1113232</td>\n",
       "      <td>train</td>\n",
       "      <td>ACLS</td>\n",
       "      <td>False</td>\n",
       "      <td>Dec 2020</td>\n",
       "      <td>276.0</td>\n",
       "      <td>10.0</td>\n",
       "      <td>61.0</td>\n",
       "      <td>71.0</td>\n",
       "      <td>199.0</td>\n",
       "      <td>...</td>\n",
       "      <td>50.0</td>\n",
       "      <td>-92.0</td>\n",
       "      <td>475.0</td>\n",
       "      <td>625.0</td>\n",
       "      <td>471.0</td>\n",
       "      <td>84.0</td>\n",
       "      <td>161.0</td>\n",
       "      <td>143.0</td>\n",
       "      <td>141.0</td>\n",
       "      <td>87.0</td>\n",
       "    </tr>\n",
       "  </tbody>\n",
       "</table>\n",
       "<p>5 rows × 22 columns</p>\n",
       "</div>"
      ]
     },
     "execution_count": 6,
     "metadata": {},
     "output_type": "execute_result"
    }
   ],
   "execution_count": 6
  },
  {
   "metadata": {
    "ExecuteTime": {
     "end_time": "2024-04-30T14:59:49.823836Z",
     "start_time": "2024-04-30T14:59:49.807030Z"
    }
   },
   "cell_type": "code",
   "source": [
    "bankrupt_companies_with_17_variables_5_years_version2_split_grouped = bankrupt_companies_with_17_variables_5_years_version2_split.groupby('cik').agg({'label': 'first'}).reset_index()\n",
    "len(bankrupt_companies_with_17_variables_5_years_version2_split_grouped)"
   ],
   "id": "eedda5c5a6fd8848",
   "outputs": [
    {
     "data": {
      "text/plain": [
       "3420"
      ]
     },
     "execution_count": 7,
     "metadata": {},
     "output_type": "execute_result"
    }
   ],
   "execution_count": 7
  },
  {
   "metadata": {
    "ExecuteTime": {
     "end_time": "2024-04-30T15:00:56.107366Z",
     "start_time": "2024-04-30T15:00:56.087637Z"
    }
   },
   "cell_type": "code",
   "source": "bankrupt_companies_with_17_variables_5_years_version2_split_grouped['label'].value_counts()",
   "id": "1b82297f5b4dcf67",
   "outputs": [
    {
     "data": {
      "text/plain": [
       "label\n",
       "False    3349\n",
       "True       71\n",
       "Name: count, dtype: int64"
      ]
     },
     "execution_count": 11,
     "metadata": {},
     "output_type": "execute_result"
    }
   ],
   "execution_count": 11
  },
  {
   "metadata": {
    "ExecuteTime": {
     "end_time": "2024-04-30T15:23:08.446399Z",
     "start_time": "2024-04-30T15:23:08.434559Z"
    }
   },
   "cell_type": "code",
   "source": [
    "bankrupt_companies_with_17_variables_5_years_version2_split_grouped_false = bankrupt_companies_with_17_variables_5_years_version2_split_grouped[bankrupt_companies_with_17_variables_5_years_version2_split_grouped['label'] == False][:71]\n",
    "false_len = len(bankrupt_companies_with_17_variables_5_years_version2_split_grouped_false)\n",
    "\n",
    "true_len = len(bankrupt_companies_with_17_variables_5_years_version2_split_grouped_false)\n",
    "\n",
    "train_set = bankrupt_companies_with_17_variables_5_years_version2_split_grouped_false[:int(train_ratio * false_len)]\n",
    "\n",
    "validation_set = bankrupt_companies_with_17_variables_5_years_version2_split_grouped_false[int(train_ratio * false_len):int((train_ratio + validation_ratio) * false_len)]\n",
    "\n",
    "test_set = bankrupt_companies_with_17_variables_5_years_version2_split_grouped_false[int((train_ratio + validation_ratio) * false_len):]\n",
    "\n",
    "len(train_set), len(validation_set), len(test_set)"
   ],
   "id": "163ef0a532dbf23c",
   "outputs": [
    {
     "data": {
      "text/plain": [
       "(56, 4, 11)"
      ]
     },
     "execution_count": 32,
     "metadata": {},
     "output_type": "execute_result"
    }
   ],
   "execution_count": 32
  },
  {
   "metadata": {
    "ExecuteTime": {
     "end_time": "2024-04-30T15:29:07.812001Z",
     "start_time": "2024-04-30T15:29:07.791634Z"
    }
   },
   "cell_type": "code",
   "source": [
    "train_set['subset'] = 'train'\n",
    "validation_set['subset'] = 'val'\n",
    "test_set['subset'] = 'test'\n",
    "\n",
    "subsets = pd.concat([train_set, validation_set, test_set])\n",
    "\n",
    "subsets = subsets.sample(frac=1).reset_index(drop=True)\n",
    "\n",
    "final_dataset_with_17_variables_5_years_split_false = subsets.merge(bankrupt_companies_with_17_variables_5_years_version2_split_grouped_false, on='cik', how='left')\n",
    "\n",
    "final_dataset_with_17_variables_5_years_split_false.head()"
   ],
   "id": "77b0232fd9d1efac",
   "outputs": [
    {
     "name": "stderr",
     "output_type": "stream",
     "text": [
      "C:\\Users\\grzeg\\AppData\\Local\\Temp\\ipykernel_41740\\1858762378.py:1: SettingWithCopyWarning: \n",
      "A value is trying to be set on a copy of a slice from a DataFrame.\n",
      "Try using .loc[row_indexer,col_indexer] = value instead\n",
      "\n",
      "See the caveats in the documentation: https://pandas.pydata.org/pandas-docs/stable/user_guide/indexing.html#returning-a-view-versus-a-copy\n",
      "  train_set['subset'] = 'train'\n",
      "C:\\Users\\grzeg\\AppData\\Local\\Temp\\ipykernel_41740\\1858762378.py:2: SettingWithCopyWarning: \n",
      "A value is trying to be set on a copy of a slice from a DataFrame.\n",
      "Try using .loc[row_indexer,col_indexer] = value instead\n",
      "\n",
      "See the caveats in the documentation: https://pandas.pydata.org/pandas-docs/stable/user_guide/indexing.html#returning-a-view-versus-a-copy\n",
      "  validation_set['subset'] = 'val'\n",
      "C:\\Users\\grzeg\\AppData\\Local\\Temp\\ipykernel_41740\\1858762378.py:3: SettingWithCopyWarning: \n",
      "A value is trying to be set on a copy of a slice from a DataFrame.\n",
      "Try using .loc[row_indexer,col_indexer] = value instead\n",
      "\n",
      "See the caveats in the documentation: https://pandas.pydata.org/pandas-docs/stable/user_guide/indexing.html#returning-a-view-versus-a-copy\n",
      "  test_set['subset'] = 'test'\n"
     ]
    },
    {
     "data": {
      "text/plain": [
       "     cik subset  label\n",
       "0  12927  train  False\n",
       "1   4285  train  False\n",
       "2  10795  train  False\n",
       "3  14707    val  False\n",
       "4   6281  train  False"
      ],
      "text/html": [
       "<div>\n",
       "<style scoped>\n",
       "    .dataframe tbody tr th:only-of-type {\n",
       "        vertical-align: middle;\n",
       "    }\n",
       "\n",
       "    .dataframe tbody tr th {\n",
       "        vertical-align: top;\n",
       "    }\n",
       "\n",
       "    .dataframe thead th {\n",
       "        text-align: right;\n",
       "    }\n",
       "</style>\n",
       "<table border=\"1\" class=\"dataframe\">\n",
       "  <thead>\n",
       "    <tr style=\"text-align: right;\">\n",
       "      <th></th>\n",
       "      <th>cik</th>\n",
       "      <th>subset</th>\n",
       "      <th>label</th>\n",
       "    </tr>\n",
       "  </thead>\n",
       "  <tbody>\n",
       "    <tr>\n",
       "      <th>0</th>\n",
       "      <td>12927</td>\n",
       "      <td>train</td>\n",
       "      <td>False</td>\n",
       "    </tr>\n",
       "    <tr>\n",
       "      <th>1</th>\n",
       "      <td>4285</td>\n",
       "      <td>train</td>\n",
       "      <td>False</td>\n",
       "    </tr>\n",
       "    <tr>\n",
       "      <th>2</th>\n",
       "      <td>10795</td>\n",
       "      <td>train</td>\n",
       "      <td>False</td>\n",
       "    </tr>\n",
       "    <tr>\n",
       "      <th>3</th>\n",
       "      <td>14707</td>\n",
       "      <td>val</td>\n",
       "      <td>False</td>\n",
       "    </tr>\n",
       "    <tr>\n",
       "      <th>4</th>\n",
       "      <td>6281</td>\n",
       "      <td>train</td>\n",
       "      <td>False</td>\n",
       "    </tr>\n",
       "  </tbody>\n",
       "</table>\n",
       "</div>"
      ]
     },
     "execution_count": 36,
     "metadata": {},
     "output_type": "execute_result"
    }
   ],
   "execution_count": 36
  },
  {
   "metadata": {
    "ExecuteTime": {
     "end_time": "2024-04-30T15:35:07.820836Z",
     "start_time": "2024-04-30T15:35:07.801262Z"
    }
   },
   "cell_type": "code",
   "source": [
    "reduced_balanced_set_false = bankrupt_companies_with_17_variables_5_years_version2_split[bankrupt_companies_with_17_variables_5_years_version2_split['cik'].isin(final_dataset_with_17_variables_5_years_split_false['cik'])]\n",
    "\n",
    "print(len(reduced_balanced_set_false))\n",
    "reduced_balanced_set_false.head()"
   ],
   "id": "c06f3b2aa797a72f",
   "outputs": [
    {
     "name": "stdout",
     "output_type": "stream",
     "text": [
      "355\n"
     ]
    },
    {
     "data": {
      "text/plain": [
       "     cik subset ticker  label Fiscal Period  Cost of Goods Sold  \\\n",
       "30  6571  train    AGL  False      Jan 2002               267.0   \n",
       "31  6571  train    AGL  False      Jan 2003               267.0   \n",
       "32  6571  train    AGL  False      Jan 2004               267.0   \n",
       "33  6571  train    AGL  False      Jan 2005               267.0   \n",
       "34  6571  train    AGL  False      Jan 2006               364.0   \n",
       "\n",
       "    Depreciation, Depletion and Amortization  EBIT  EBITDA  Gross Profit  ...  \\\n",
       "30                                      14.0  14.0    28.0          49.0  ...   \n",
       "31                                      14.0  14.0    28.0          49.0  ...   \n",
       "32                                      14.0  14.0    28.0          49.0  ...   \n",
       "33                                      14.0  14.0    28.0          49.0  ...   \n",
       "34                                      20.0   8.0    27.0          54.0  ...   \n",
       "\n",
       "    Net Income  Retained Earnings  Revenue  Total Assets  \\\n",
       "30         6.0              145.0    316.0         289.0   \n",
       "31         6.0              145.0    316.0         289.0   \n",
       "32         6.0              145.0    316.0         289.0   \n",
       "33         6.0              145.0    316.0         289.0   \n",
       "34         0.0              141.0    418.0         331.0   \n",
       "\n",
       "    Total Current Assets  Total Current Liabilities  Total Inventories  \\\n",
       "30                  93.0                       56.0                0.0   \n",
       "31                  93.0                       56.0                0.0   \n",
       "32                  93.0                       56.0                0.0   \n",
       "33                  93.0                       56.0                0.0   \n",
       "34                 110.0                       81.0                0.0   \n",
       "\n",
       "    Total Liabilities  Total Operating Expense  Total Receivables  \n",
       "30              138.0                     38.0               44.0  \n",
       "31              138.0                     38.0               44.0  \n",
       "32              138.0                     38.0               44.0  \n",
       "33              138.0                     38.0               44.0  \n",
       "34              182.0                     48.0               58.0  \n",
       "\n",
       "[5 rows x 22 columns]"
      ],
      "text/html": [
       "<div>\n",
       "<style scoped>\n",
       "    .dataframe tbody tr th:only-of-type {\n",
       "        vertical-align: middle;\n",
       "    }\n",
       "\n",
       "    .dataframe tbody tr th {\n",
       "        vertical-align: top;\n",
       "    }\n",
       "\n",
       "    .dataframe thead th {\n",
       "        text-align: right;\n",
       "    }\n",
       "</style>\n",
       "<table border=\"1\" class=\"dataframe\">\n",
       "  <thead>\n",
       "    <tr style=\"text-align: right;\">\n",
       "      <th></th>\n",
       "      <th>cik</th>\n",
       "      <th>subset</th>\n",
       "      <th>ticker</th>\n",
       "      <th>label</th>\n",
       "      <th>Fiscal Period</th>\n",
       "      <th>Cost of Goods Sold</th>\n",
       "      <th>Depreciation, Depletion and Amortization</th>\n",
       "      <th>EBIT</th>\n",
       "      <th>EBITDA</th>\n",
       "      <th>Gross Profit</th>\n",
       "      <th>...</th>\n",
       "      <th>Net Income</th>\n",
       "      <th>Retained Earnings</th>\n",
       "      <th>Revenue</th>\n",
       "      <th>Total Assets</th>\n",
       "      <th>Total Current Assets</th>\n",
       "      <th>Total Current Liabilities</th>\n",
       "      <th>Total Inventories</th>\n",
       "      <th>Total Liabilities</th>\n",
       "      <th>Total Operating Expense</th>\n",
       "      <th>Total Receivables</th>\n",
       "    </tr>\n",
       "  </thead>\n",
       "  <tbody>\n",
       "    <tr>\n",
       "      <th>30</th>\n",
       "      <td>6571</td>\n",
       "      <td>train</td>\n",
       "      <td>AGL</td>\n",
       "      <td>False</td>\n",
       "      <td>Jan 2002</td>\n",
       "      <td>267.0</td>\n",
       "      <td>14.0</td>\n",
       "      <td>14.0</td>\n",
       "      <td>28.0</td>\n",
       "      <td>49.0</td>\n",
       "      <td>...</td>\n",
       "      <td>6.0</td>\n",
       "      <td>145.0</td>\n",
       "      <td>316.0</td>\n",
       "      <td>289.0</td>\n",
       "      <td>93.0</td>\n",
       "      <td>56.0</td>\n",
       "      <td>0.0</td>\n",
       "      <td>138.0</td>\n",
       "      <td>38.0</td>\n",
       "      <td>44.0</td>\n",
       "    </tr>\n",
       "    <tr>\n",
       "      <th>31</th>\n",
       "      <td>6571</td>\n",
       "      <td>train</td>\n",
       "      <td>AGL</td>\n",
       "      <td>False</td>\n",
       "      <td>Jan 2003</td>\n",
       "      <td>267.0</td>\n",
       "      <td>14.0</td>\n",
       "      <td>14.0</td>\n",
       "      <td>28.0</td>\n",
       "      <td>49.0</td>\n",
       "      <td>...</td>\n",
       "      <td>6.0</td>\n",
       "      <td>145.0</td>\n",
       "      <td>316.0</td>\n",
       "      <td>289.0</td>\n",
       "      <td>93.0</td>\n",
       "      <td>56.0</td>\n",
       "      <td>0.0</td>\n",
       "      <td>138.0</td>\n",
       "      <td>38.0</td>\n",
       "      <td>44.0</td>\n",
       "    </tr>\n",
       "    <tr>\n",
       "      <th>32</th>\n",
       "      <td>6571</td>\n",
       "      <td>train</td>\n",
       "      <td>AGL</td>\n",
       "      <td>False</td>\n",
       "      <td>Jan 2004</td>\n",
       "      <td>267.0</td>\n",
       "      <td>14.0</td>\n",
       "      <td>14.0</td>\n",
       "      <td>28.0</td>\n",
       "      <td>49.0</td>\n",
       "      <td>...</td>\n",
       "      <td>6.0</td>\n",
       "      <td>145.0</td>\n",
       "      <td>316.0</td>\n",
       "      <td>289.0</td>\n",
       "      <td>93.0</td>\n",
       "      <td>56.0</td>\n",
       "      <td>0.0</td>\n",
       "      <td>138.0</td>\n",
       "      <td>38.0</td>\n",
       "      <td>44.0</td>\n",
       "    </tr>\n",
       "    <tr>\n",
       "      <th>33</th>\n",
       "      <td>6571</td>\n",
       "      <td>train</td>\n",
       "      <td>AGL</td>\n",
       "      <td>False</td>\n",
       "      <td>Jan 2005</td>\n",
       "      <td>267.0</td>\n",
       "      <td>14.0</td>\n",
       "      <td>14.0</td>\n",
       "      <td>28.0</td>\n",
       "      <td>49.0</td>\n",
       "      <td>...</td>\n",
       "      <td>6.0</td>\n",
       "      <td>145.0</td>\n",
       "      <td>316.0</td>\n",
       "      <td>289.0</td>\n",
       "      <td>93.0</td>\n",
       "      <td>56.0</td>\n",
       "      <td>0.0</td>\n",
       "      <td>138.0</td>\n",
       "      <td>38.0</td>\n",
       "      <td>44.0</td>\n",
       "    </tr>\n",
       "    <tr>\n",
       "      <th>34</th>\n",
       "      <td>6571</td>\n",
       "      <td>train</td>\n",
       "      <td>AGL</td>\n",
       "      <td>False</td>\n",
       "      <td>Jan 2006</td>\n",
       "      <td>364.0</td>\n",
       "      <td>20.0</td>\n",
       "      <td>8.0</td>\n",
       "      <td>27.0</td>\n",
       "      <td>54.0</td>\n",
       "      <td>...</td>\n",
       "      <td>0.0</td>\n",
       "      <td>141.0</td>\n",
       "      <td>418.0</td>\n",
       "      <td>331.0</td>\n",
       "      <td>110.0</td>\n",
       "      <td>81.0</td>\n",
       "      <td>0.0</td>\n",
       "      <td>182.0</td>\n",
       "      <td>48.0</td>\n",
       "      <td>58.0</td>\n",
       "    </tr>\n",
       "  </tbody>\n",
       "</table>\n",
       "<p>5 rows × 22 columns</p>\n",
       "</div>"
      ]
     },
     "execution_count": 46,
     "metadata": {},
     "output_type": "execute_result"
    }
   ],
   "execution_count": 46
  },
  {
   "metadata": {
    "ExecuteTime": {
     "end_time": "2024-04-30T15:35:11.460448Z",
     "start_time": "2024-04-30T15:35:11.452012Z"
    }
   },
   "cell_type": "code",
   "source": "reduced_balanced_set_false.drop(columns=['subset'], inplace=True)",
   "id": "96e1126b7931055",
   "outputs": [
    {
     "name": "stderr",
     "output_type": "stream",
     "text": [
      "C:\\Users\\grzeg\\AppData\\Local\\Temp\\ipykernel_41740\\431981850.py:1: SettingWithCopyWarning: \n",
      "A value is trying to be set on a copy of a slice from a DataFrame\n",
      "\n",
      "See the caveats in the documentation: https://pandas.pydata.org/pandas-docs/stable/user_guide/indexing.html#returning-a-view-versus-a-copy\n",
      "  reduced_balanced_set_false.drop(columns=['subset'], inplace=True)\n"
     ]
    }
   ],
   "execution_count": 47
  },
  {
   "metadata": {
    "ExecuteTime": {
     "end_time": "2024-04-30T15:35:14.954213Z",
     "start_time": "2024-04-30T15:35:14.939267Z"
    }
   },
   "cell_type": "code",
   "source": [
    "final_dataset_with_17_variables_5_years_split_false = subsets.merge(reduced_balanced_set_false, on='cik', how='left')\n",
    "final_dataset_with_17_variables_5_years_split_false.head()\n",
    "# final false"
   ],
   "id": "e23485a6f37fd9a7",
   "outputs": [
    {
     "data": {
      "text/plain": [
       "     cik subset ticker  label Fiscal Period  Cost of Goods Sold  \\\n",
       "0  12927  train     BA  False      Dec 2016             79026.0   \n",
       "1  12927  train     BA  False      Dec 2017             76612.0   \n",
       "2  12927  train     BA  False      Dec 2018             81490.0   \n",
       "3  12927  train     BA  False      Dec 2019             72093.0   \n",
       "4  12927  train     BA  False      Dec 2020             63843.0   \n",
       "\n",
       "   Depreciation, Depletion and Amortization     EBIT   EBITDA  Gross Profit  \\\n",
       "0                                    1889.0   6089.0   7978.0       14470.0   \n",
       "1                                    2047.0  10467.0  12514.0       17393.0   \n",
       "2                                    2114.0  12079.0  14193.0       19637.0   \n",
       "3                                    2271.0  -1537.0    734.0        4466.0   \n",
       "4                                    2246.0 -12320.0 -10074.0       -5685.0   \n",
       "\n",
       "   ...  Net Income  Retained Earnings   Revenue  Total Assets  \\\n",
       "0  ...      5034.0            40714.0   93496.0       89997.0   \n",
       "1  ...      8458.0            49618.0   94005.0      112362.0   \n",
       "2  ...     10460.0            55941.0  101127.0      117359.0   \n",
       "3  ...      -636.0            50644.0   76559.0      133625.0   \n",
       "4  ...    -11941.0            38610.0   58158.0      152136.0   \n",
       "\n",
       "   Total Current Assets  Total Current Liabilities  Total Inventories  \\\n",
       "0               62488.0                    50134.0            43199.0   \n",
       "1               85194.0                    74648.0            61388.0   \n",
       "2               87830.0                    81590.0            62567.0   \n",
       "3              102229.0                    97312.0            76622.0   \n",
       "4              121642.0                    87280.0            81715.0   \n",
       "\n",
       "   Total Liabilities  Total Operating Expense  Total Receivables  \n",
       "0            89120.0                   8239.0             9260.0  \n",
       "1           110649.0                   7274.0            11397.0  \n",
       "2           116949.0                   7836.0            14364.0  \n",
       "3           141925.0                   7128.0            12471.0  \n",
       "4           170211.0                   7293.0            10051.0  \n",
       "\n",
       "[5 rows x 22 columns]"
      ],
      "text/html": [
       "<div>\n",
       "<style scoped>\n",
       "    .dataframe tbody tr th:only-of-type {\n",
       "        vertical-align: middle;\n",
       "    }\n",
       "\n",
       "    .dataframe tbody tr th {\n",
       "        vertical-align: top;\n",
       "    }\n",
       "\n",
       "    .dataframe thead th {\n",
       "        text-align: right;\n",
       "    }\n",
       "</style>\n",
       "<table border=\"1\" class=\"dataframe\">\n",
       "  <thead>\n",
       "    <tr style=\"text-align: right;\">\n",
       "      <th></th>\n",
       "      <th>cik</th>\n",
       "      <th>subset</th>\n",
       "      <th>ticker</th>\n",
       "      <th>label</th>\n",
       "      <th>Fiscal Period</th>\n",
       "      <th>Cost of Goods Sold</th>\n",
       "      <th>Depreciation, Depletion and Amortization</th>\n",
       "      <th>EBIT</th>\n",
       "      <th>EBITDA</th>\n",
       "      <th>Gross Profit</th>\n",
       "      <th>...</th>\n",
       "      <th>Net Income</th>\n",
       "      <th>Retained Earnings</th>\n",
       "      <th>Revenue</th>\n",
       "      <th>Total Assets</th>\n",
       "      <th>Total Current Assets</th>\n",
       "      <th>Total Current Liabilities</th>\n",
       "      <th>Total Inventories</th>\n",
       "      <th>Total Liabilities</th>\n",
       "      <th>Total Operating Expense</th>\n",
       "      <th>Total Receivables</th>\n",
       "    </tr>\n",
       "  </thead>\n",
       "  <tbody>\n",
       "    <tr>\n",
       "      <th>0</th>\n",
       "      <td>12927</td>\n",
       "      <td>train</td>\n",
       "      <td>BA</td>\n",
       "      <td>False</td>\n",
       "      <td>Dec 2016</td>\n",
       "      <td>79026.0</td>\n",
       "      <td>1889.0</td>\n",
       "      <td>6089.0</td>\n",
       "      <td>7978.0</td>\n",
       "      <td>14470.0</td>\n",
       "      <td>...</td>\n",
       "      <td>5034.0</td>\n",
       "      <td>40714.0</td>\n",
       "      <td>93496.0</td>\n",
       "      <td>89997.0</td>\n",
       "      <td>62488.0</td>\n",
       "      <td>50134.0</td>\n",
       "      <td>43199.0</td>\n",
       "      <td>89120.0</td>\n",
       "      <td>8239.0</td>\n",
       "      <td>9260.0</td>\n",
       "    </tr>\n",
       "    <tr>\n",
       "      <th>1</th>\n",
       "      <td>12927</td>\n",
       "      <td>train</td>\n",
       "      <td>BA</td>\n",
       "      <td>False</td>\n",
       "      <td>Dec 2017</td>\n",
       "      <td>76612.0</td>\n",
       "      <td>2047.0</td>\n",
       "      <td>10467.0</td>\n",
       "      <td>12514.0</td>\n",
       "      <td>17393.0</td>\n",
       "      <td>...</td>\n",
       "      <td>8458.0</td>\n",
       "      <td>49618.0</td>\n",
       "      <td>94005.0</td>\n",
       "      <td>112362.0</td>\n",
       "      <td>85194.0</td>\n",
       "      <td>74648.0</td>\n",
       "      <td>61388.0</td>\n",
       "      <td>110649.0</td>\n",
       "      <td>7274.0</td>\n",
       "      <td>11397.0</td>\n",
       "    </tr>\n",
       "    <tr>\n",
       "      <th>2</th>\n",
       "      <td>12927</td>\n",
       "      <td>train</td>\n",
       "      <td>BA</td>\n",
       "      <td>False</td>\n",
       "      <td>Dec 2018</td>\n",
       "      <td>81490.0</td>\n",
       "      <td>2114.0</td>\n",
       "      <td>12079.0</td>\n",
       "      <td>14193.0</td>\n",
       "      <td>19637.0</td>\n",
       "      <td>...</td>\n",
       "      <td>10460.0</td>\n",
       "      <td>55941.0</td>\n",
       "      <td>101127.0</td>\n",
       "      <td>117359.0</td>\n",
       "      <td>87830.0</td>\n",
       "      <td>81590.0</td>\n",
       "      <td>62567.0</td>\n",
       "      <td>116949.0</td>\n",
       "      <td>7836.0</td>\n",
       "      <td>14364.0</td>\n",
       "    </tr>\n",
       "    <tr>\n",
       "      <th>3</th>\n",
       "      <td>12927</td>\n",
       "      <td>train</td>\n",
       "      <td>BA</td>\n",
       "      <td>False</td>\n",
       "      <td>Dec 2019</td>\n",
       "      <td>72093.0</td>\n",
       "      <td>2271.0</td>\n",
       "      <td>-1537.0</td>\n",
       "      <td>734.0</td>\n",
       "      <td>4466.0</td>\n",
       "      <td>...</td>\n",
       "      <td>-636.0</td>\n",
       "      <td>50644.0</td>\n",
       "      <td>76559.0</td>\n",
       "      <td>133625.0</td>\n",
       "      <td>102229.0</td>\n",
       "      <td>97312.0</td>\n",
       "      <td>76622.0</td>\n",
       "      <td>141925.0</td>\n",
       "      <td>7128.0</td>\n",
       "      <td>12471.0</td>\n",
       "    </tr>\n",
       "    <tr>\n",
       "      <th>4</th>\n",
       "      <td>12927</td>\n",
       "      <td>train</td>\n",
       "      <td>BA</td>\n",
       "      <td>False</td>\n",
       "      <td>Dec 2020</td>\n",
       "      <td>63843.0</td>\n",
       "      <td>2246.0</td>\n",
       "      <td>-12320.0</td>\n",
       "      <td>-10074.0</td>\n",
       "      <td>-5685.0</td>\n",
       "      <td>...</td>\n",
       "      <td>-11941.0</td>\n",
       "      <td>38610.0</td>\n",
       "      <td>58158.0</td>\n",
       "      <td>152136.0</td>\n",
       "      <td>121642.0</td>\n",
       "      <td>87280.0</td>\n",
       "      <td>81715.0</td>\n",
       "      <td>170211.0</td>\n",
       "      <td>7293.0</td>\n",
       "      <td>10051.0</td>\n",
       "    </tr>\n",
       "  </tbody>\n",
       "</table>\n",
       "<p>5 rows × 22 columns</p>\n",
       "</div>"
      ]
     },
     "execution_count": 48,
     "metadata": {},
     "output_type": "execute_result"
    }
   ],
   "execution_count": 48
  },
  {
   "metadata": {
    "ExecuteTime": {
     "end_time": "2024-04-30T15:33:33.001047Z",
     "start_time": "2024-04-30T15:33:32.977927Z"
    }
   },
   "cell_type": "code",
   "source": [
    "# final grouped\n",
    "bankrupt_companies_with_17_variables_5_years_version2_split_grouped_true = bankrupt_companies_with_17_variables_5_years_version2_split_grouped[bankrupt_companies_with_17_variables_5_years_version2_split_grouped['label'] == True]\n",
    "\n",
    "reduced_balanced_set_true = bankrupt_companies_with_17_variables_5_years_version2_split[bankrupt_companies_with_17_variables_5_years_version2_split['cik'].isin(bankrupt_companies_with_17_variables_5_years_version2_split_grouped_true['cik'])]\n",
    "\n",
    "reduced_balanced_set_true.head()"
   ],
   "id": "4dfd4b7919919bf8",
   "outputs": [
    {
     "data": {
      "text/plain": [
       "       cik subset ticker  label Fiscal Period  Cost of Goods Sold  \\\n",
       "50  790414  train  GOTTQ   True      Jan 2004               432.0   \n",
       "51  790414  train  GOTTQ   True      Jan 2005               432.0   \n",
       "52  790414  train  GOTTQ   True      Jan 2006               437.0   \n",
       "53  790414  train  GOTTQ   True      Jan 2007               447.0   \n",
       "54  790414  train  GOTTQ   True      Jan 2008               421.0   \n",
       "\n",
       "    Depreciation, Depletion and Amortization  EBIT  EBITDA  Gross Profit  ...  \\\n",
       "50                                      13.0  18.0    31.0         236.0  ...   \n",
       "51                                      13.0  18.0    31.0         236.0  ...   \n",
       "52                                      12.0  17.0    31.0         239.0  ...   \n",
       "53                                      14.0  15.0    30.0         241.0  ...   \n",
       "54                                      19.0 -10.0     9.0         216.0  ...   \n",
       "\n",
       "    Net Income  Retained Earnings  Revenue  Total Assets  \\\n",
       "50         5.0               40.0    669.0         316.0   \n",
       "51         5.0               40.0    669.0         316.0   \n",
       "52         5.0               45.0    677.0         335.0   \n",
       "53         3.0               48.0    687.0         350.0   \n",
       "54       -12.0               35.0    636.0         332.0   \n",
       "\n",
       "    Total Current Assets  Total Current Liabilities  Total Inventories  \\\n",
       "50                 175.0                       80.0              153.0   \n",
       "51                 175.0                       80.0              153.0   \n",
       "52                 188.0                       91.0              160.0   \n",
       "53                 202.0                       85.0              169.0   \n",
       "54                 179.0                       74.0              149.0   \n",
       "\n",
       "    Total Liabilities  Total Operating Expense  Total Receivables  \n",
       "50              203.0                    220.0                7.0  \n",
       "51              203.0                    220.0                7.0  \n",
       "52              215.0                    223.0                7.0  \n",
       "53              225.0                    227.0                8.0  \n",
       "54              220.0                    226.0                7.0  \n",
       "\n",
       "[5 rows x 22 columns]"
      ],
      "text/html": [
       "<div>\n",
       "<style scoped>\n",
       "    .dataframe tbody tr th:only-of-type {\n",
       "        vertical-align: middle;\n",
       "    }\n",
       "\n",
       "    .dataframe tbody tr th {\n",
       "        vertical-align: top;\n",
       "    }\n",
       "\n",
       "    .dataframe thead th {\n",
       "        text-align: right;\n",
       "    }\n",
       "</style>\n",
       "<table border=\"1\" class=\"dataframe\">\n",
       "  <thead>\n",
       "    <tr style=\"text-align: right;\">\n",
       "      <th></th>\n",
       "      <th>cik</th>\n",
       "      <th>subset</th>\n",
       "      <th>ticker</th>\n",
       "      <th>label</th>\n",
       "      <th>Fiscal Period</th>\n",
       "      <th>Cost of Goods Sold</th>\n",
       "      <th>Depreciation, Depletion and Amortization</th>\n",
       "      <th>EBIT</th>\n",
       "      <th>EBITDA</th>\n",
       "      <th>Gross Profit</th>\n",
       "      <th>...</th>\n",
       "      <th>Net Income</th>\n",
       "      <th>Retained Earnings</th>\n",
       "      <th>Revenue</th>\n",
       "      <th>Total Assets</th>\n",
       "      <th>Total Current Assets</th>\n",
       "      <th>Total Current Liabilities</th>\n",
       "      <th>Total Inventories</th>\n",
       "      <th>Total Liabilities</th>\n",
       "      <th>Total Operating Expense</th>\n",
       "      <th>Total Receivables</th>\n",
       "    </tr>\n",
       "  </thead>\n",
       "  <tbody>\n",
       "    <tr>\n",
       "      <th>50</th>\n",
       "      <td>790414</td>\n",
       "      <td>train</td>\n",
       "      <td>GOTTQ</td>\n",
       "      <td>True</td>\n",
       "      <td>Jan 2004</td>\n",
       "      <td>432.0</td>\n",
       "      <td>13.0</td>\n",
       "      <td>18.0</td>\n",
       "      <td>31.0</td>\n",
       "      <td>236.0</td>\n",
       "      <td>...</td>\n",
       "      <td>5.0</td>\n",
       "      <td>40.0</td>\n",
       "      <td>669.0</td>\n",
       "      <td>316.0</td>\n",
       "      <td>175.0</td>\n",
       "      <td>80.0</td>\n",
       "      <td>153.0</td>\n",
       "      <td>203.0</td>\n",
       "      <td>220.0</td>\n",
       "      <td>7.0</td>\n",
       "    </tr>\n",
       "    <tr>\n",
       "      <th>51</th>\n",
       "      <td>790414</td>\n",
       "      <td>train</td>\n",
       "      <td>GOTTQ</td>\n",
       "      <td>True</td>\n",
       "      <td>Jan 2005</td>\n",
       "      <td>432.0</td>\n",
       "      <td>13.0</td>\n",
       "      <td>18.0</td>\n",
       "      <td>31.0</td>\n",
       "      <td>236.0</td>\n",
       "      <td>...</td>\n",
       "      <td>5.0</td>\n",
       "      <td>40.0</td>\n",
       "      <td>669.0</td>\n",
       "      <td>316.0</td>\n",
       "      <td>175.0</td>\n",
       "      <td>80.0</td>\n",
       "      <td>153.0</td>\n",
       "      <td>203.0</td>\n",
       "      <td>220.0</td>\n",
       "      <td>7.0</td>\n",
       "    </tr>\n",
       "    <tr>\n",
       "      <th>52</th>\n",
       "      <td>790414</td>\n",
       "      <td>train</td>\n",
       "      <td>GOTTQ</td>\n",
       "      <td>True</td>\n",
       "      <td>Jan 2006</td>\n",
       "      <td>437.0</td>\n",
       "      <td>12.0</td>\n",
       "      <td>17.0</td>\n",
       "      <td>31.0</td>\n",
       "      <td>239.0</td>\n",
       "      <td>...</td>\n",
       "      <td>5.0</td>\n",
       "      <td>45.0</td>\n",
       "      <td>677.0</td>\n",
       "      <td>335.0</td>\n",
       "      <td>188.0</td>\n",
       "      <td>91.0</td>\n",
       "      <td>160.0</td>\n",
       "      <td>215.0</td>\n",
       "      <td>223.0</td>\n",
       "      <td>7.0</td>\n",
       "    </tr>\n",
       "    <tr>\n",
       "      <th>53</th>\n",
       "      <td>790414</td>\n",
       "      <td>train</td>\n",
       "      <td>GOTTQ</td>\n",
       "      <td>True</td>\n",
       "      <td>Jan 2007</td>\n",
       "      <td>447.0</td>\n",
       "      <td>14.0</td>\n",
       "      <td>15.0</td>\n",
       "      <td>30.0</td>\n",
       "      <td>241.0</td>\n",
       "      <td>...</td>\n",
       "      <td>3.0</td>\n",
       "      <td>48.0</td>\n",
       "      <td>687.0</td>\n",
       "      <td>350.0</td>\n",
       "      <td>202.0</td>\n",
       "      <td>85.0</td>\n",
       "      <td>169.0</td>\n",
       "      <td>225.0</td>\n",
       "      <td>227.0</td>\n",
       "      <td>8.0</td>\n",
       "    </tr>\n",
       "    <tr>\n",
       "      <th>54</th>\n",
       "      <td>790414</td>\n",
       "      <td>train</td>\n",
       "      <td>GOTTQ</td>\n",
       "      <td>True</td>\n",
       "      <td>Jan 2008</td>\n",
       "      <td>421.0</td>\n",
       "      <td>19.0</td>\n",
       "      <td>-10.0</td>\n",
       "      <td>9.0</td>\n",
       "      <td>216.0</td>\n",
       "      <td>...</td>\n",
       "      <td>-12.0</td>\n",
       "      <td>35.0</td>\n",
       "      <td>636.0</td>\n",
       "      <td>332.0</td>\n",
       "      <td>179.0</td>\n",
       "      <td>74.0</td>\n",
       "      <td>149.0</td>\n",
       "      <td>220.0</td>\n",
       "      <td>226.0</td>\n",
       "      <td>7.0</td>\n",
       "    </tr>\n",
       "  </tbody>\n",
       "</table>\n",
       "<p>5 rows × 22 columns</p>\n",
       "</div>"
      ]
     },
     "execution_count": 43,
     "metadata": {},
     "output_type": "execute_result"
    }
   ],
   "execution_count": 43
  },
  {
   "metadata": {
    "ExecuteTime": {
     "end_time": "2024-04-30T15:37:08.524151Z",
     "start_time": "2024-04-30T15:37:08.513255Z"
    }
   },
   "cell_type": "code",
   "source": [
    "final_reduced_balanced_set = pd.concat([final_dataset_with_17_variables_5_years_split_false, reduced_balanced_set_true])\n",
    "\n",
    "final_reduced_balanced_set['label'].value_counts(normalize=True)\n"
   ],
   "id": "4292167a9166b3d2",
   "outputs": [
    {
     "data": {
      "text/plain": [
       "label\n",
       "False    0.5\n",
       "True     0.5\n",
       "Name: proportion, dtype: float64"
      ]
     },
     "execution_count": 52,
     "metadata": {},
     "output_type": "execute_result"
    }
   ],
   "execution_count": 52
  },
  {
   "metadata": {
    "ExecuteTime": {
     "end_time": "2024-04-30T15:37:23.582431Z",
     "start_time": "2024-04-30T15:37:23.563167Z"
    }
   },
   "cell_type": "code",
   "source": "final_reduced_balanced_set[final_reduced_balanced_set['label'] == True]['subset'].value_counts(normalize=True)",
   "id": "e2560b37e9813480",
   "outputs": [
    {
     "data": {
      "text/plain": [
       "subset\n",
       "train    0.788732\n",
       "test     0.154930\n",
       "val      0.056338\n",
       "Name: proportion, dtype: float64"
      ]
     },
     "execution_count": 54,
     "metadata": {},
     "output_type": "execute_result"
    }
   ],
   "execution_count": 54
  },
  {
   "metadata": {
    "ExecuteTime": {
     "end_time": "2024-04-30T15:37:45.203622Z",
     "start_time": "2024-04-30T15:37:45.181715Z"
    }
   },
   "cell_type": "code",
   "source": "final_reduced_balanced_set.to_csv('reduced_balanced_set.csv', index=False)",
   "id": "c03f119391e0f87d",
   "outputs": [],
   "execution_count": 55
  },
  {
   "metadata": {
    "ExecuteTime": {
     "end_time": "2024-04-30T15:47:38.529415Z",
     "start_time": "2024-04-30T15:47:38.512718Z"
    }
   },
   "cell_type": "code",
   "source": [
    "# we need to shuffle the data\n",
    "final_reduced_balanced_set_grouped = final_reduced_balanced_set.groupby('cik').agg({'label': 'first', 'subset': 'first'}).reset_index()\n",
    "\n",
    "# shuffle the data\n",
    "final_reduced_balanced_set_grouped = final_reduced_balanced_set_grouped.sample(frac=1).reset_index(drop=True)\n",
    "\n",
    "final_reduced_balanced_set_shuffled = final_reduced_balanced_set_grouped.merge(final_reduced_balanced_set, on='cik', how='left')\n",
    "\n",
    "final_reduced_balanced_set_shuffled.drop(columns=['label_y', 'subset_y'], inplace=True)\n",
    "\n",
    "final_reduced_balanced_set_shuffled.rename(columns={'label_x': 'label', 'subset_x': 'subset'}, inplace=True)\n",
    "\n",
    "final_reduced_balanced_set_shuffled.to_csv('reduced_balanced_set_shuffled.csv', index=False)\n"
   ],
   "id": "20be343cbf8a60e8",
   "outputs": [],
   "execution_count": 57
  },
  {
   "metadata": {},
   "cell_type": "markdown",
   "source": "#### Processing II - creating set of files with 100 variables",
   "id": "90e982410029627e"
  },
  {
   "metadata": {},
   "cell_type": "code",
   "outputs": [],
   "execution_count": null,
   "source": "max_lacking_variables_threshold_most_common_variables = 12",
   "id": "8c2ac49268745db7"
  }
 ],
 "metadata": {
  "kernelspec": {
   "display_name": "Python 3",
   "language": "python",
   "name": "python3"
  },
  "language_info": {
   "codemirror_mode": {
    "name": "ipython",
    "version": 2
   },
   "file_extension": ".py",
   "mimetype": "text/x-python",
   "name": "python",
   "nbconvert_exporter": "python",
   "pygments_lexer": "ipython2",
   "version": "2.7.6"
  }
 },
 "nbformat": 4,
 "nbformat_minor": 5
}

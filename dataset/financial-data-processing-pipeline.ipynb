{
 "cells": [
  {
   "cell_type": "code",
   "id": "initial_id",
   "metadata": {
    "collapsed": true,
    "ExecuteTime": {
     "end_time": "2024-09-19T10:24:07.124019Z",
     "start_time": "2024-09-19T10:24:04.046352Z"
    }
   },
   "source": [
    "import pandas as pd\n",
    "import datetime\n",
    "from collections import Counter\n",
    "import os\n",
    "\n",
    "from spacy.cli import train_cli\n",
    "from spacy.training.loop import train\n",
    "from tqdm import tqdm\n",
    "import shutil"
   ],
   "outputs": [],
   "execution_count": 1
  },
  {
   "metadata": {
    "ExecuteTime": {
     "end_time": "2024-09-19T10:24:07.133059Z",
     "start_time": "2024-09-19T10:24:07.129320Z"
    }
   },
   "cell_type": "code",
   "source": [
    "final_financial_data_directory = 'final_financial_data'\n",
    "final_financial_data_in_date_range_directory = 'final_financial_data_in_date_range'\n",
    "final_financial_data_processed_17_variables_directory = 'final_financial_data_processed_17_variables'\n",
    "final_financial_data_processed_100_variables_directory = 'final_financial_data_processed_100_variables'\n",
    "final_financial_data_processed_17_variables_5years_directory = 'final_financial_data_processed_17_variables_5years'\n",
    "final_financial_data_processed_17_variables_5years_version2_directory = 'final_financial_data_processed_17_variables_5years_version2'\n",
    "final_financial_data_processed_17_variables_5years_version3_directory = 'final_financial_data_processed_17_variables_5years_version3'"
   ],
   "id": "8a20f36ef5cc8ac1",
   "outputs": [],
   "execution_count": 2
  },
  {
   "metadata": {
    "ExecuteTime": {
     "end_time": "2024-09-19T10:24:17.136025Z",
     "start_time": "2024-09-19T10:24:17.095357Z"
    }
   },
   "cell_type": "code",
   "source": [
    "eligible_companies = pd.read_csv('companies_eligible_to_financial_dataset_2024-04-19_14-47-55.csv')\n",
    "eligible_companies.head()"
   ],
   "id": "aef7ea523fd137fa",
   "outputs": [
    {
     "data": {
      "text/plain": [
       "   Unnamed: 0   cik                            company  label ticker  \\\n",
       "0           0  1800                ABBOTT LABORATORIES  False    ABT   \n",
       "1           1  2488         ADVANCED MICRO DEVICES INC  False    AMD   \n",
       "2           2  2491           BALLY TECHNOLOGIES, INC.  False    BYI   \n",
       "3           3  2601                       AEROFLEX INC  False   ARXX   \n",
       "4           4  2969  AIR PRODUCTS & CHEMICALS INC /DE/  False    APD   \n",
       "\n",
       "               gurufocus-company-name gurufocus-stockid filing_date  \\\n",
       "0                 Abbott Laboratories            US066X  2021-02-19   \n",
       "1          Advanced Micro Devices Inc            US022E  2021-01-29   \n",
       "2  Bally Technologies Inc  (Delisted)            US06R5  2014-08-29   \n",
       "3            Aeroflex Inc  (Delisted)            US026H  2006-09-13   \n",
       "4        Air Products & Chemicals Inc            US06DU  2021-11-18   \n",
       "\n",
       "   cik-equal-gurufocus-cik first_match  \n",
       "0                     True         NaN  \n",
       "1                     True         NaN  \n",
       "2                     True         NaN  \n",
       "3                     True         NaN  \n",
       "4                     True         NaN  "
      ],
      "text/html": [
       "<div>\n",
       "<style scoped>\n",
       "    .dataframe tbody tr th:only-of-type {\n",
       "        vertical-align: middle;\n",
       "    }\n",
       "\n",
       "    .dataframe tbody tr th {\n",
       "        vertical-align: top;\n",
       "    }\n",
       "\n",
       "    .dataframe thead th {\n",
       "        text-align: right;\n",
       "    }\n",
       "</style>\n",
       "<table border=\"1\" class=\"dataframe\">\n",
       "  <thead>\n",
       "    <tr style=\"text-align: right;\">\n",
       "      <th></th>\n",
       "      <th>Unnamed: 0</th>\n",
       "      <th>cik</th>\n",
       "      <th>company</th>\n",
       "      <th>label</th>\n",
       "      <th>ticker</th>\n",
       "      <th>gurufocus-company-name</th>\n",
       "      <th>gurufocus-stockid</th>\n",
       "      <th>filing_date</th>\n",
       "      <th>cik-equal-gurufocus-cik</th>\n",
       "      <th>first_match</th>\n",
       "    </tr>\n",
       "  </thead>\n",
       "  <tbody>\n",
       "    <tr>\n",
       "      <th>0</th>\n",
       "      <td>0</td>\n",
       "      <td>1800</td>\n",
       "      <td>ABBOTT LABORATORIES</td>\n",
       "      <td>False</td>\n",
       "      <td>ABT</td>\n",
       "      <td>Abbott Laboratories</td>\n",
       "      <td>US066X</td>\n",
       "      <td>2021-02-19</td>\n",
       "      <td>True</td>\n",
       "      <td>NaN</td>\n",
       "    </tr>\n",
       "    <tr>\n",
       "      <th>1</th>\n",
       "      <td>1</td>\n",
       "      <td>2488</td>\n",
       "      <td>ADVANCED MICRO DEVICES INC</td>\n",
       "      <td>False</td>\n",
       "      <td>AMD</td>\n",
       "      <td>Advanced Micro Devices Inc</td>\n",
       "      <td>US022E</td>\n",
       "      <td>2021-01-29</td>\n",
       "      <td>True</td>\n",
       "      <td>NaN</td>\n",
       "    </tr>\n",
       "    <tr>\n",
       "      <th>2</th>\n",
       "      <td>2</td>\n",
       "      <td>2491</td>\n",
       "      <td>BALLY TECHNOLOGIES, INC.</td>\n",
       "      <td>False</td>\n",
       "      <td>BYI</td>\n",
       "      <td>Bally Technologies Inc  (Delisted)</td>\n",
       "      <td>US06R5</td>\n",
       "      <td>2014-08-29</td>\n",
       "      <td>True</td>\n",
       "      <td>NaN</td>\n",
       "    </tr>\n",
       "    <tr>\n",
       "      <th>3</th>\n",
       "      <td>3</td>\n",
       "      <td>2601</td>\n",
       "      <td>AEROFLEX INC</td>\n",
       "      <td>False</td>\n",
       "      <td>ARXX</td>\n",
       "      <td>Aeroflex Inc  (Delisted)</td>\n",
       "      <td>US026H</td>\n",
       "      <td>2006-09-13</td>\n",
       "      <td>True</td>\n",
       "      <td>NaN</td>\n",
       "    </tr>\n",
       "    <tr>\n",
       "      <th>4</th>\n",
       "      <td>4</td>\n",
       "      <td>2969</td>\n",
       "      <td>AIR PRODUCTS &amp; CHEMICALS INC /DE/</td>\n",
       "      <td>False</td>\n",
       "      <td>APD</td>\n",
       "      <td>Air Products &amp; Chemicals Inc</td>\n",
       "      <td>US06DU</td>\n",
       "      <td>2021-11-18</td>\n",
       "      <td>True</td>\n",
       "      <td>NaN</td>\n",
       "    </tr>\n",
       "  </tbody>\n",
       "</table>\n",
       "</div>"
      ]
     },
     "execution_count": 3,
     "metadata": {},
     "output_type": "execute_result"
    }
   ],
   "execution_count": 3
  },
  {
   "metadata": {
    "ExecuteTime": {
     "end_time": "2024-09-19T10:24:26.931783Z",
     "start_time": "2024-09-19T10:24:26.928058Z"
    }
   },
   "cell_type": "code",
   "source": "len(eligible_companies)",
   "id": "37200cb3d2333fd3",
   "outputs": [
    {
     "data": {
      "text/plain": [
       "5417"
      ]
     },
     "execution_count": 4,
     "metadata": {},
     "output_type": "execute_result"
    }
   ],
   "execution_count": 4
  },
  {
   "metadata": {
    "ExecuteTime": {
     "end_time": "2024-09-04T08:35:22.074203Z",
     "start_time": "2024-09-04T08:35:22.067098Z"
    }
   },
   "cell_type": "code",
   "source": "eligible_companies['label'].value_counts()",
   "id": "c1c9b4464efedfb8",
   "outputs": [
    {
     "data": {
      "text/plain": [
       "label\n",
       "False    5291\n",
       "True      126\n",
       "Name: count, dtype: int64"
      ]
     },
     "execution_count": 4,
     "metadata": {},
     "output_type": "execute_result"
    }
   ],
   "execution_count": 4
  },
  {
   "metadata": {
    "ExecuteTime": {
     "end_time": "2024-09-04T08:35:34.935367Z",
     "start_time": "2024-09-04T08:35:34.922260Z"
    }
   },
   "cell_type": "code",
   "source": "final_eligible_companies = eligible_companies.copy()",
   "id": "65787dea7ff2aea1",
   "outputs": [],
   "execution_count": 5
  },
  {
   "metadata": {
    "ExecuteTime": {
     "end_time": "2024-09-04T08:35:38.948366Z",
     "start_time": "2024-09-04T08:35:38.935597Z"
    }
   },
   "cell_type": "code",
   "source": [
    "def drop_columns_after_ttm_or_preliminary(df):\n",
    "    try:\n",
    "        try:\n",
    "            ttm_index = df.columns.get_loc('TTM')\n",
    "            df = df.iloc[:, :ttm_index]\n",
    "            return df\n",
    "        except:\n",
    "            pass\n",
    "            \n",
    "        try:\n",
    "            ttm_preliminary_string = 'TTM  Preliminary'\n",
    "            ttm_index = df.columns.get_loc(ttm_preliminary_string)\n",
    "            df = df.iloc[:, :ttm_index]\n",
    "            return df\n",
    "        except:\n",
    "            print(f'No \\'TTM  Preliminary\\' column in {filename}')\n",
    "            \n",
    "        try:\n",
    "            preliminary_string = 'Preliminary'\n",
    "            preliminary_index = None\n",
    "            for i, s in enumerate(df.columns):\n",
    "                if preliminary_string in s:\n",
    "                    preliminary_index = i\n",
    "                    break\n",
    "                    \n",
    "            df = df.iloc[:, :preliminary_index + 1]\n",
    "            last_column_name = df.columns[-1]\n",
    "            split_date = last_column_name.split(' ')\n",
    "            updated_col_name = f'{split_date[0]} {split_date[1]}'\n",
    "            \n",
    "            df.rename(columns={last_column_name: updated_col_name}, inplace=True)\n",
    "            \n",
    "            print(f'No TTM but found Preliminary in {filename}')\n",
    "        except:\n",
    "            print(f'No Preliminary column in {filename}')\n",
    "        \n",
    "    except Exception as ex:\n",
    "        print(f'Ex: {ex}, filename: {filename}')\n",
    "    \n",
    "    return df\n",
    "\n",
    "def clean_date_index(df):\n",
    "    for index in df.index:\n",
    "        split_date = index.split(' ')\n",
    "        month, year = split_date[0], int(split_date[1])\n",
    "        \n",
    "        if 0 <= year <= 9:\n",
    "            year = f'200{year}'\n",
    "        elif 10 <= year <= 24:\n",
    "            year = f'20{year}'\n",
    "        elif year > 24:\n",
    "            year = f'19{year}'\n",
    "            \n",
    "        df.rename(index={index: f'{month} {year}'}, inplace=True)\n",
    "    return df"
   ],
   "id": "7d90984b32d9cfa7",
   "outputs": [],
   "execution_count": 6
  },
  {
   "metadata": {
    "ExecuteTime": {
     "end_time": "2024-09-04T08:35:41.873760Z",
     "start_time": "2024-09-04T08:35:41.867545Z"
    }
   },
   "cell_type": "code",
   "source": [
    "def set_date_difference(final_eligible_companies):\n",
    "\n",
    "    for index, row in final_eligible_companies.iterrows():\n",
    "        try:\n",
    "            cik = row['cik']\n",
    "            gurufocus_stockid = row['gurufocus-stockid']\n",
    "            ticker = row['ticker']\n",
    "            filing_date = row['filing_date']\n",
    "                \n",
    "            filepath = f'{final_financial_data_directory}/{cik}-{gurufocus_stockid}_{ticker}.csv'\n",
    "                \n",
    "            df = pd.read_csv(filepath)\n",
    "            \n",
    "            df = drop_columns_after_ttm_or_preliminary(df)\n",
    "            \n",
    "            last_column_name = df.columns[-1]\n",
    "            split_date = last_column_name.split(' ')\n",
    "            month, year = split_date[0], int(split_date[1])\n",
    "            \n",
    "            if 0 <= year <= 9:\n",
    "                year = f'200{year}'\n",
    "            elif 10 <= year <= 24:\n",
    "                year = f'20{year}'\n",
    "            elif year > 24:\n",
    "                year = f'19{year}'\n",
    "                \n",
    "            gurufocus_last_data_date = datetime.datetime.strptime(f'{month} {year}', '%b %Y')\n",
    "            \n",
    "            filing_date = filing_date[:7]\n",
    "            filing_date = datetime.datetime.strptime(f'{filing_date}', '%Y-%m')\n",
    "    \n",
    "            difference_in_months = int((gurufocus_last_data_date - filing_date).days / 30)\n",
    "            \n",
    "            final_eligible_companies.loc[final_eligible_companies['cik'] == cik, 'difference_in_months'] = difference_in_months\n",
    "        \n",
    "        except Exception as ex:\n",
    "            print(f'Ex: {ex}, filepath: {filepath}')\n",
    "        \n",
    "    return final_eligible_companies"
   ],
   "id": "f152a480a2e4498d",
   "outputs": [],
   "execution_count": 7
  },
  {
   "metadata": {
    "ExecuteTime": {
     "end_time": "2024-09-04T08:35:57.660337Z",
     "start_time": "2024-09-04T08:35:44.771902Z"
    }
   },
   "cell_type": "code",
   "source": "final_eligible_companies = set_date_difference(final_eligible_companies)",
   "id": "dbb6d67099d3d978",
   "outputs": [
    {
     "name": "stdout",
     "output_type": "stream",
     "text": [
      "Ex: invalid literal for int() with base 10: 'Period', filepath: final_financial_data/1766526-US26IG_TECTP.PFD.csv\n"
     ]
    }
   ],
   "execution_count": 8
  },
  {
   "metadata": {
    "ExecuteTime": {
     "end_time": "2024-09-04T08:36:29.410591Z",
     "start_time": "2024-09-04T08:36:29.402283Z"
    }
   },
   "cell_type": "code",
   "source": [
    "counts_df = final_eligible_companies['difference_in_months'].value_counts()\n",
    "# set column names\n",
    "counts_df = counts_df.reset_index()\n",
    "counts_df.columns = ['difference_in_months', 'count']\n",
    "counts_df.head()"
   ],
   "id": "3210dfa3aca668ba",
   "outputs": [
    {
     "data": {
      "text/plain": [
       "   difference_in_months  count\n",
       "0                  -3.0   1398\n",
       "1                  34.0   1190\n",
       "2                  -2.0    825\n",
       "3                  33.0    676\n",
       "4                  22.0    325"
      ],
      "text/html": [
       "<div>\n",
       "<style scoped>\n",
       "    .dataframe tbody tr th:only-of-type {\n",
       "        vertical-align: middle;\n",
       "    }\n",
       "\n",
       "    .dataframe tbody tr th {\n",
       "        vertical-align: top;\n",
       "    }\n",
       "\n",
       "    .dataframe thead th {\n",
       "        text-align: right;\n",
       "    }\n",
       "</style>\n",
       "<table border=\"1\" class=\"dataframe\">\n",
       "  <thead>\n",
       "    <tr style=\"text-align: right;\">\n",
       "      <th></th>\n",
       "      <th>difference_in_months</th>\n",
       "      <th>count</th>\n",
       "    </tr>\n",
       "  </thead>\n",
       "  <tbody>\n",
       "    <tr>\n",
       "      <th>0</th>\n",
       "      <td>-3.0</td>\n",
       "      <td>1398</td>\n",
       "    </tr>\n",
       "    <tr>\n",
       "      <th>1</th>\n",
       "      <td>34.0</td>\n",
       "      <td>1190</td>\n",
       "    </tr>\n",
       "    <tr>\n",
       "      <th>2</th>\n",
       "      <td>-2.0</td>\n",
       "      <td>825</td>\n",
       "    </tr>\n",
       "    <tr>\n",
       "      <th>3</th>\n",
       "      <td>33.0</td>\n",
       "      <td>676</td>\n",
       "    </tr>\n",
       "    <tr>\n",
       "      <th>4</th>\n",
       "      <td>22.0</td>\n",
       "      <td>325</td>\n",
       "    </tr>\n",
       "  </tbody>\n",
       "</table>\n",
       "</div>"
      ]
     },
     "execution_count": 9,
     "metadata": {},
     "output_type": "execute_result"
    }
   ],
   "execution_count": 9
  },
  {
   "metadata": {
    "ExecuteTime": {
     "end_time": "2024-09-04T08:36:34.284131Z",
     "start_time": "2024-09-04T08:36:34.269137Z"
    }
   },
   "cell_type": "code",
   "source": [
    "def get_companies_within_date_range(final_eligible_companies):\n",
    "    mask = (final_eligible_companies['difference_in_months'] > -12) & (final_eligible_companies['difference_in_months'] < 36)\n",
    "    eligible_companies_in_eligible_range = final_eligible_companies[mask]\n",
    "    eligible_companies_in_eligible_range['difference_in_months'] = eligible_companies_in_eligible_range['difference_in_months'].astype(int)\n",
    "    return eligible_companies_in_eligible_range\n",
    "\n",
    "def drop_unused_columns(final_eligible_companies):\n",
    "    final_eligible_companies.drop(columns=['cik-equal-gurufocus-cik', 'first_match'], inplace=True)\n",
    "    return final_eligible_companies"
   ],
   "id": "a928bea3c86d326e",
   "outputs": [],
   "execution_count": 10
  },
  {
   "metadata": {},
   "cell_type": "markdown",
   "source": "#### Processing I",
   "id": "1c3d22378017319e"
  },
  {
   "metadata": {
    "ExecuteTime": {
     "end_time": "2024-09-04T08:36:42.015803Z",
     "start_time": "2024-09-04T08:36:42.002395Z"
    }
   },
   "cell_type": "code",
   "source": [
    "final_eligible_companies = get_companies_within_date_range(final_eligible_companies)\n",
    "final_eligible_companies = drop_unused_columns(final_eligible_companies)\n",
    "\n",
    "print(len(final_eligible_companies))\n",
    "final_eligible_companies['label'].value_counts(normalize=True)"
   ],
   "id": "5406c2d0b275007a",
   "outputs": [
    {
     "name": "stdout",
     "output_type": "stream",
     "text": [
      "5078\n"
     ]
    },
    {
     "name": "stderr",
     "output_type": "stream",
     "text": [
      "C:\\Users\\grzeg\\AppData\\Local\\Temp\\ipykernel_5676\\3847550151.py:4: SettingWithCopyWarning: \n",
      "A value is trying to be set on a copy of a slice from a DataFrame.\n",
      "Try using .loc[row_indexer,col_indexer] = value instead\n",
      "\n",
      "See the caveats in the documentation: https://pandas.pydata.org/pandas-docs/stable/user_guide/indexing.html#returning-a-view-versus-a-copy\n",
      "  eligible_companies_in_eligible_range['difference_in_months'] = eligible_companies_in_eligible_range['difference_in_months'].astype(int)\n"
     ]
    },
    {
     "data": {
      "text/plain": [
       "label\n",
       "False    0.976959\n",
       "True     0.023041\n",
       "Name: proportion, dtype: float64"
      ]
     },
     "execution_count": 11,
     "metadata": {},
     "output_type": "execute_result"
    }
   ],
   "execution_count": 11
  },
  {
   "metadata": {
    "ExecuteTime": {
     "end_time": "2024-04-22T11:07:02.389597Z",
     "start_time": "2024-04-22T11:07:02.362029Z"
    }
   },
   "cell_type": "code",
   "source": "# final_eligible_companies.to_csv('eligible_companies_in_eligible_range.csv', index=False)",
   "id": "8337e21aeeb994c",
   "outputs": [],
   "execution_count": 45
  },
  {
   "metadata": {},
   "cell_type": "markdown",
   "source": "#### Processing II - creating set of files with 17 variables (date range is different and depends on data, we will further process it to get 5 years of data)",
   "id": "41a88331b33c9aef"
  },
  {
   "metadata": {
    "ExecuteTime": {
     "end_time": "2024-09-04T08:50:07.369431Z",
     "start_time": "2024-09-04T08:50:07.350343Z"
    }
   },
   "cell_type": "code",
   "source": [
    "final_eligible_companies = pd.read_csv('eligible_companies_in_eligible_range.csv')\n",
    "len(final_eligible_companies)"
   ],
   "id": "42a9e35d7afc81d2",
   "outputs": [
    {
     "data": {
      "text/plain": [
       "5078"
      ]
     },
     "execution_count": 21,
     "metadata": {},
     "output_type": "execute_result"
    }
   ],
   "execution_count": 21
  },
  {
   "metadata": {
    "ExecuteTime": {
     "end_time": "2024-09-04T08:50:08.627308Z",
     "start_time": "2024-09-04T08:50:08.621078Z"
    }
   },
   "cell_type": "code",
   "source": [
    "with open('chosen_variables.txt', 'r') as file:\n",
    "    chosen_variables = file.read().splitlines()\n",
    "    \n",
    "with open('most_common_variables.txt', 'r') as file:\n",
    "    most_common_variables = file.read().splitlines()"
   ],
   "id": "2221cf9e3667a1fe",
   "outputs": [],
   "execution_count": 22
  },
  {
   "metadata": {
    "ExecuteTime": {
     "end_time": "2024-09-04T08:50:09.200073Z",
     "start_time": "2024-09-04T08:50:09.185665Z"
    }
   },
   "cell_type": "code",
   "source": [
    "def delete_duplicated_rows(df):\n",
    "    df.drop(df.index[df.iloc[:, 0].duplicated(keep=False)], inplace=True)\n",
    "    return df\n",
    "\n",
    "def has_dataframe_enough_variables(df, variables, threshold):\n",
    "    csv_variable = df.iloc[:, 0].tolist()\n",
    "    lacking_variables = []\n",
    "    for variable in variables:\n",
    "        if variable not in csv_variable:\n",
    "            lacking_variables.append(variable)\n",
    "            \n",
    "    if len(lacking_variables) <= threshold:\n",
    "        return True, lacking_variables\n",
    "    else:\n",
    "        return False, lacking_variables\n",
    "    \n",
    "def enrich_filename_with_label(filename, label):\n",
    "    filename = filename.replace('.csv', '')\n",
    "    filename = f'{filename}_{label}.csv'\n",
    "    return filename"
   ],
   "id": "368182811c954da4",
   "outputs": [],
   "execution_count": 23
  },
  {
   "metadata": {
    "ExecuteTime": {
     "end_time": "2024-09-04T08:53:41.442945Z",
     "start_time": "2024-09-04T08:53:08.268677Z"
    }
   },
   "cell_type": "code",
   "source": [
    "max_lacking_variables_threshold_chosen_variables = 3\n",
    "missing_value = 0\n",
    "all_cells = 0\n",
    "\n",
    "filenames = os.listdir(final_financial_data_in_date_range_directory)\n",
    "\n",
    "for filename in tqdm(filenames):\n",
    "    try:\n",
    "        cik = int(filename.split('-')[0])\n",
    "        df = pd.read_csv(f'{final_financial_data_in_date_range_directory}/{filename}')\n",
    "        \n",
    "        df.drop(df.columns[0], axis=1, inplace=True)\n",
    "        \n",
    "        df = drop_columns_after_ttm_or_preliminary(df)\n",
    "        \n",
    "        df = delete_duplicated_rows(df)\n",
    "        \n",
    "        has_enough_variables, lacking_variables = has_dataframe_enough_variables(df, chosen_variables, max_lacking_variables_threshold_chosen_variables)\n",
    "        # if has_enough_variables is False:\n",
    "        #     final_eligible_companies.loc[final_eligible_companies['cik'] == cik, 'has_enough_variables'] = False\n",
    "        #     continue\n",
    "        \n",
    "        df.set_index(df.columns[0], inplace=True)\n",
    "        \n",
    "        df = df[df.index.isin(chosen_variables)]\n",
    "        \n",
    "        df = df.T\n",
    "        df = df.replace('-', pd.NA)\n",
    "        df = df.replace('', pd.NA)\n",
    "        # df.fillna(method='bfill', inplace=True)\n",
    "        # df.fillna(method='ffill', inplace=True)\n",
    "        # df.fillna(0, inplace=True)\n",
    "        \n",
    "        # insert missing variables as whole columns with 0\n",
    "        if len(lacking_variables) > 0:\n",
    "            for variable in lacking_variables:\n",
    "                df[variable] = pd.NA\n",
    "                \n",
    "        df = clean_date_index(df)\n",
    "        \n",
    "        df = df.reindex(sorted(df.columns), axis=1)\n",
    "        \n",
    "        label = final_eligible_companies.loc[final_eligible_companies['cik'] == cik]['label'].values[0]\n",
    "        \n",
    "        df.to_csv(f'{final_financial_data_processed_17_variables_directory}/{enrich_filename_with_label(filename, label)}', index=True, index_label='Fiscal Period')\n",
    "        \n",
    "        \n",
    "        final_eligible_companies.loc[final_eligible_companies['cik'] == cik, 'has_enough_variables'] = has_enough_variables\n",
    "        \n",
    "        all_cells += len(df) * len(chosen_variables)\n",
    "        missing_value += df.isnull().sum().sum()\n",
    "        \n",
    "    except Exception as ex:\n",
    "        print(f'Ex: {ex}, filename: {filename}')   "
   ],
   "id": "47b30f2ccbdce1c3",
   "outputs": [
    {
     "name": "stderr",
     "output_type": "stream",
     "text": [
      "100%|██████████| 5078/5078 [00:33<00:00, 153.19it/s]\n"
     ]
    }
   ],
   "execution_count": 25
  },
  {
   "metadata": {
    "ExecuteTime": {
     "end_time": "2024-09-04T08:53:44.104723Z",
     "start_time": "2024-09-04T08:53:44.090700Z"
    }
   },
   "cell_type": "code",
   "source": [
    "print(f'missing_value: {missing_value}')\n",
    "print(f'missing ratio: {missing_value/all_cells}')"
   ],
   "id": "f6d116580e534257",
   "outputs": [
    {
     "name": "stdout",
     "output_type": "stream",
     "text": [
      "missing_value: 357408\n",
      "missing ratio: 0.3362118595279217\n"
     ]
    }
   ],
   "execution_count": 26
  },
  {
   "metadata": {
    "ExecuteTime": {
     "end_time": "2024-09-04T08:54:24.492869Z",
     "start_time": "2024-09-04T08:54:24.475738Z"
    }
   },
   "cell_type": "code",
   "source": "final_eligible_companies['has_enough_variables'].value_counts()",
   "id": "9f6509aca42876ff",
   "outputs": [
    {
     "data": {
      "text/plain": [
       "has_enough_variables\n",
       "True     3777\n",
       "False    1301\n",
       "Name: count, dtype: int64"
      ]
     },
     "execution_count": 28,
     "metadata": {},
     "output_type": "execute_result"
    }
   ],
   "execution_count": 28
  },
  {
   "metadata": {},
   "cell_type": "markdown",
   "source": "#### Here we can create two version of the dataset: with less than 3 lacking variables or with, but we will stick to one with more lacking variables",
   "id": "6d91a2a0b9242f0e"
  },
  {
   "metadata": {
    "ExecuteTime": {
     "end_time": "2024-04-22T20:39:01.202379Z",
     "start_time": "2024-04-22T20:39:01.191092Z"
    }
   },
   "cell_type": "code",
   "source": "# final_eligible_companies_with_enough_variables = final_eligible_companies[final_eligible_companies['has_enough_variables'] == True]",
   "id": "ffd8fcd28632af69",
   "outputs": [],
   "execution_count": 165
  },
  {
   "metadata": {
    "ExecuteTime": {
     "end_time": "2024-09-04T08:55:46.028835Z",
     "start_time": "2024-09-04T08:55:46.015811Z"
    }
   },
   "cell_type": "code",
   "source": "final_eligible_companies.drop(columns=['has_enough_variables'], inplace=True)",
   "id": "bec285e5df774f37",
   "outputs": [],
   "execution_count": 29
  },
  {
   "metadata": {
    "ExecuteTime": {
     "end_time": "2024-09-04T08:56:06.532100Z",
     "start_time": "2024-09-04T08:56:06.509549Z"
    }
   },
   "cell_type": "code",
   "source": "final_eligible_companies.to_csv('eligible_companies_in_eligible_range_with_all_variables.csv', index=False)",
   "id": "64512e0a10177411",
   "outputs": [],
   "execution_count": 30
  },
  {
   "metadata": {
    "ExecuteTime": {
     "end_time": "2024-09-04T08:56:18.678929Z",
     "start_time": "2024-09-04T08:56:18.666951Z"
    }
   },
   "cell_type": "code",
   "source": "final_eligible_companies['label'].value_counts()",
   "id": "f40f9421ed69c7b7",
   "outputs": [
    {
     "data": {
      "text/plain": [
       "label\n",
       "False    4961\n",
       "True      117\n",
       "Name: count, dtype: int64"
      ]
     },
     "execution_count": 32,
     "metadata": {},
     "output_type": "execute_result"
    }
   ],
   "execution_count": 32
  },
  {
   "metadata": {
    "ExecuteTime": {
     "end_time": "2024-09-12T14:10:04.772010Z",
     "start_time": "2024-09-12T14:09:54.697230Z"
    }
   },
   "cell_type": "code",
   "source": [
    "csv_lengths = []\n",
    "for filename in os.listdir(final_financial_data_processed_17_variables_directory):\n",
    "    df = pd.read_csv(f'{final_financial_data_processed_17_variables_directory}/{filename}')\n",
    "    \n",
    "    # if len(df) > 17:\n",
    "    #     print(f'Error in {filename}')\n",
    "    csv_lengths.append(len(df))"
   ],
   "id": "6fb47b91c7dc852c",
   "outputs": [],
   "execution_count": 4
  },
  {
   "metadata": {
    "ExecuteTime": {
     "end_time": "2024-09-12T14:13:44.240764Z",
     "start_time": "2024-09-12T14:13:44.115854Z"
    }
   },
   "cell_type": "code",
   "source": [
    "import matplotlib.pyplot as plt\n",
    "\n",
    "plt.hist(csv_lengths, bins=30)\n",
    "plt.title('Histogram liczby lat')\n",
    "plt.xlabel('Liczba lat')\n",
    "plt.ylabel('Liczba spółek')\n",
    "plt.show()"
   ],
   "id": "108bfdd00c023f18",
   "outputs": [
    {
     "data": {
      "text/plain": [
       "<Figure size 640x480 with 1 Axes>"
      ],
      "image/png": "[encoded data removed]"
     },
     "metadata": {},
     "output_type": "display_data"
    }
   ],
   "execution_count": 6
  },
  {
   "metadata": {
    "ExecuteTime": {
     "end_time": "2024-09-04T09:36:47.647992Z",
     "start_time": "2024-09-04T09:36:47.630015Z"
    }
   },
   "cell_type": "code",
   "source": [
    "csv_lengths_counter = Counter(csv_lengths)\n",
    "csv_lengths_counter"
   ],
   "id": "8061b984b05c225",
   "outputs": [
    {
     "data": {
      "text/plain": [
       "Counter({16: 1562,\n",
       "         15: 624,\n",
       "         9: 283,\n",
       "         12: 277,\n",
       "         8: 273,\n",
       "         11: 256,\n",
       "         6: 248,\n",
       "         7: 238,\n",
       "         13: 231,\n",
       "         10: 230,\n",
       "         14: 184,\n",
       "         5: 184,\n",
       "         4: 112,\n",
       "         20: 96,\n",
       "         3: 77,\n",
       "         19: 47,\n",
       "         17: 46,\n",
       "         2: 43,\n",
       "         18: 28,\n",
       "         1: 19,\n",
       "         26: 7,\n",
       "         21: 7,\n",
       "         23: 2,\n",
       "         22: 1,\n",
       "         27: 1,\n",
       "         24: 1,\n",
       "         25: 1})"
      ]
     },
     "execution_count": 44,
     "metadata": {},
     "output_type": "execute_result"
    }
   ],
   "execution_count": 44
  },
  {
   "metadata": {
    "ExecuteTime": {
     "end_time": "2024-09-04T09:39:14.395935Z",
     "start_time": "2024-09-04T09:39:14.376666Z"
    }
   },
   "cell_type": "code",
   "source": [
    "less_than_5_count = 0\n",
    "for val, cnt in csv_lengths_counter.items():\n",
    "    if val < 5:\n",
    "        less_than_5_count += cnt\n",
    "\n",
    "less_than_5_count"
   ],
   "id": "606ed31fef33d65",
   "outputs": [
    {
     "data": {
      "text/plain": [
       "251"
      ]
     },
     "execution_count": 50,
     "metadata": {},
     "output_type": "execute_result"
    }
   ],
   "execution_count": 50
  },
  {
   "metadata": {},
   "cell_type": "markdown",
   "source": "#### csv data extra validation",
   "id": "b3793c1c8ad804cb"
  },
  {
   "metadata": {
    "ExecuteTime": {
     "end_time": "2024-09-04T09:01:23.551195Z",
     "start_time": "2024-09-04T09:01:17.826074Z"
    }
   },
   "cell_type": "code",
   "source": [
    "for filename in os.listdir(final_financial_data_processed_17_variables_directory):\n",
    "    df = pd.read_csv(f'{final_financial_data_processed_17_variables_directory}/{filename}', index_col='Fiscal Period')\n",
    "    \n",
    "    column_headers = df.columns.tolist()\n",
    "    \n",
    "    if len(column_headers) != len(chosen_variables):\n",
    "        print(f'Error in {filename}')"
   ],
   "id": "31c0d99bb8fd7ee",
   "outputs": [],
   "execution_count": 36
  },
  {
   "metadata": {},
   "cell_type": "markdown",
   "source": "#### Getting variables within x years from bankruptcy",
   "id": "6347329aa0eb5480"
  },
  {
   "metadata": {
    "ExecuteTime": {
     "end_time": "2024-09-04T10:17:26.318818Z",
     "start_time": "2024-09-04T10:17:26.124637Z"
    }
   },
   "cell_type": "code",
   "source": "ecl_dataset = pd.read_csv('ECL_with_ticker_2024-04-19_14-35-21.csv')",
   "id": "b4b0316991f42a4f",
   "outputs": [
    {
     "name": "stderr",
     "output_type": "stream",
     "text": [
      "C:\\Users\\grzeg\\AppData\\Local\\Temp\\ipykernel_5676\\1756588558.py:1: DtypeWarning: Columns (12) have mixed types. Specify dtype option on import or set low_memory=False.\n",
      "  ecl_dataset = pd.read_csv('ECL_with_ticker_2024-04-19_14-35-21.csv')\n"
     ]
    }
   ],
   "execution_count": 54
  },
  {
   "metadata": {
    "ExecuteTime": {
     "end_time": "2024-09-04T10:17:27.476015Z",
     "start_time": "2024-09-04T10:17:27.428629Z"
    }
   },
   "cell_type": "code",
   "source": [
    "ecl_dataset_grouped = ecl_dataset.groupby('cik').agg({'bankruptcy_date_1': 'first', 'bankruptcy_date_2': 'first', 'bankruptcy_date_3': 'first','ticker': 'first', 'label': 'last', 'cik-equal-gurufocus-cik': 'last', 'filing_date': 'last'}).reset_index()\n",
    "ecl_dataset_grouped['is_bankruptcy_date_filled'] = ecl_dataset_grouped['bankruptcy_date_1'].notnull()\n",
    "ecl_dataset_grouped['is_bankruptcy_date_filled'].value_counts()"
   ],
   "id": "ade225381136957",
   "outputs": [
    {
     "data": {
      "text/plain": [
       "is_bankruptcy_date_filled\n",
       "False    8252\n",
       "True      891\n",
       "Name: count, dtype: int64"
      ]
     },
     "execution_count": 55,
     "metadata": {},
     "output_type": "execute_result"
    }
   ],
   "execution_count": 55
  },
  {
   "metadata": {
    "ExecuteTime": {
     "end_time": "2024-09-04T10:17:28.899898Z",
     "start_time": "2024-09-04T10:17:28.889258Z"
    }
   },
   "cell_type": "code",
   "source": [
    "ecl_dataset_grouped_eligible = ecl_dataset_grouped[ecl_dataset_grouped['cik-equal-gurufocus-cik'] == True]\n",
    "len(ecl_dataset_grouped_eligible)"
   ],
   "id": "512fe04f0563edd4",
   "outputs": [
    {
     "data": {
      "text/plain": [
       "5417"
      ]
     },
     "execution_count": 56,
     "metadata": {},
     "output_type": "execute_result"
    }
   ],
   "execution_count": 56
  },
  {
   "metadata": {
    "ExecuteTime": {
     "end_time": "2024-09-04T10:17:30.823032Z",
     "start_time": "2024-09-04T10:17:30.805724Z"
    }
   },
   "cell_type": "code",
   "source": "ecl_dataset_grouped_eligible.head()",
   "id": "9e805ca431972e19",
   "outputs": [
    {
     "data": {
      "text/plain": [
       "     cik bankruptcy_date_1 bankruptcy_date_2 bankruptcy_date_3 ticker  label  \\\n",
       "1   1800              None              None              None    ABT  False   \n",
       "6   2488              None              None              None    AMD  False   \n",
       "7   2491              None              None              None    BYI  False   \n",
       "8   2601              None              None              None   ARXX  False   \n",
       "10  2969              None              None              None    APD  False   \n",
       "\n",
       "   cik-equal-gurufocus-cik filing_date  is_bankruptcy_date_filled  \n",
       "1                     True  2021-02-19                      False  \n",
       "6                     True  2021-01-29                      False  \n",
       "7                     True  2014-08-29                      False  \n",
       "8                     True  2006-09-13                      False  \n",
       "10                    True  2021-11-18                      False  "
      ],
      "text/html": [
       "<div>\n",
       "<style scoped>\n",
       "    .dataframe tbody tr th:only-of-type {\n",
       "        vertical-align: middle;\n",
       "    }\n",
       "\n",
       "    .dataframe tbody tr th {\n",
       "        vertical-align: top;\n",
       "    }\n",
       "\n",
       "    .dataframe thead th {\n",
       "        text-align: right;\n",
       "    }\n",
       "</style>\n",
       "<table border=\"1\" class=\"dataframe\">\n",
       "  <thead>\n",
       "    <tr style=\"text-align: right;\">\n",
       "      <th></th>\n",
       "      <th>cik</th>\n",
       "      <th>bankruptcy_date_1</th>\n",
       "      <th>bankruptcy_date_2</th>\n",
       "      <th>bankruptcy_date_3</th>\n",
       "      <th>ticker</th>\n",
       "      <th>label</th>\n",
       "      <th>cik-equal-gurufocus-cik</th>\n",
       "      <th>filing_date</th>\n",
       "      <th>is_bankruptcy_date_filled</th>\n",
       "    </tr>\n",
       "  </thead>\n",
       "  <tbody>\n",
       "    <tr>\n",
       "      <th>1</th>\n",
       "      <td>1800</td>\n",
       "      <td>None</td>\n",
       "      <td>None</td>\n",
       "      <td>None</td>\n",
       "      <td>ABT</td>\n",
       "      <td>False</td>\n",
       "      <td>True</td>\n",
       "      <td>2021-02-19</td>\n",
       "      <td>False</td>\n",
       "    </tr>\n",
       "    <tr>\n",
       "      <th>6</th>\n",
       "      <td>2488</td>\n",
       "      <td>None</td>\n",
       "      <td>None</td>\n",
       "      <td>None</td>\n",
       "      <td>AMD</td>\n",
       "      <td>False</td>\n",
       "      <td>True</td>\n",
       "      <td>2021-01-29</td>\n",
       "      <td>False</td>\n",
       "    </tr>\n",
       "    <tr>\n",
       "      <th>7</th>\n",
       "      <td>2491</td>\n",
       "      <td>None</td>\n",
       "      <td>None</td>\n",
       "      <td>None</td>\n",
       "      <td>BYI</td>\n",
       "      <td>False</td>\n",
       "      <td>True</td>\n",
       "      <td>2014-08-29</td>\n",
       "      <td>False</td>\n",
       "    </tr>\n",
       "    <tr>\n",
       "      <th>8</th>\n",
       "      <td>2601</td>\n",
       "      <td>None</td>\n",
       "      <td>None</td>\n",
       "      <td>None</td>\n",
       "      <td>ARXX</td>\n",
       "      <td>False</td>\n",
       "      <td>True</td>\n",
       "      <td>2006-09-13</td>\n",
       "      <td>False</td>\n",
       "    </tr>\n",
       "    <tr>\n",
       "      <th>10</th>\n",
       "      <td>2969</td>\n",
       "      <td>None</td>\n",
       "      <td>None</td>\n",
       "      <td>None</td>\n",
       "      <td>APD</td>\n",
       "      <td>False</td>\n",
       "      <td>True</td>\n",
       "      <td>2021-11-18</td>\n",
       "      <td>False</td>\n",
       "    </tr>\n",
       "  </tbody>\n",
       "</table>\n",
       "</div>"
      ]
     },
     "execution_count": 57,
     "metadata": {},
     "output_type": "execute_result"
    }
   ],
   "execution_count": 57
  },
  {
   "metadata": {
    "ExecuteTime": {
     "end_time": "2024-09-04T10:17:33.483495Z",
     "start_time": "2024-09-04T10:17:33.471371Z"
    }
   },
   "cell_type": "code",
   "source": [
    "def is_date_valid(value):\n",
    "  try:\n",
    "    date = pd.to_datetime(value)\n",
    "    if pd.isnull(date):\n",
    "      return False\n",
    "    return True\n",
    "  except (pd.errors.OutOfBoundsDatetime, ValueError):\n",
    "    return False"
   ],
   "id": "cd0cbbc71bbf8a1",
   "outputs": [],
   "execution_count": 58
  },
  {
   "metadata": {
    "ExecuteTime": {
     "end_time": "2024-09-04T10:18:30.811339Z",
     "start_time": "2024-09-04T10:18:14.902486Z"
    }
   },
   "cell_type": "code",
   "source": [
    "index_to_have_minimal_years_threshold = 5\n",
    "\n",
    "eligible_companies_with_minimal_years_count = 0\n",
    "no_date_found = 0\n",
    "\n",
    "for filename in os.listdir(final_financial_data_processed_17_variables_directory):\n",
    "    try:\n",
    "        df = pd.read_csv(f'{final_financial_data_processed_17_variables_directory}/{filename}', index_col='Fiscal Period')\n",
    "        \n",
    "        cik = int(filename.split('-')[0])\n",
    "        label = bool(filename.split('_')[2].split('.')[0])\n",
    "        \n",
    "        bankruptcies = ecl_dataset.loc[ecl_dataset['cik'] == cik][['bankruptcy_date_1', 'bankruptcy_date_2', 'bankruptcy_date_3']]\n",
    "    \n",
    "        if is_date_valid(bankruptcies['bankruptcy_date_3'].values[0]):\n",
    "            last_datetime = bankruptcies['bankruptcy_date_3'].values[0]\n",
    "        elif is_date_valid(bankruptcies['bankruptcy_date_2'].values[0]):\n",
    "            last_datetime = bankruptcies['bankruptcy_date_2'].values[0]\n",
    "        elif is_date_valid(bankruptcies['bankruptcy_date_1'].values[0]):\n",
    "            last_datetime = bankruptcies['bankruptcy_date_1'].values[0]\n",
    "        else:\n",
    "            last_datetime = ecl_dataset_grouped_eligible.loc[ecl_dataset_grouped_eligible['cik'] == cik]['filing_date'].values[0]\n",
    "            \n",
    "        last_datetime = last_datetime[:7]\n",
    "        last_datetime = datetime.datetime.strptime(last_datetime, '%Y-%m')\n",
    "        \n",
    "        indexes_as_datetime = [datetime.datetime.strptime(f'{index}', '%b %Y') for index in df.index]\n",
    "            \n",
    "        found = False\n",
    "        for i, date in reversed(list(enumerate(indexes_as_datetime))):\n",
    "            if date <= last_datetime:\n",
    "                corresponding_last_date = date\n",
    "                \n",
    "                if i >= index_to_have_minimal_years_threshold - 1:\n",
    "                    df = df.iloc[i-index_to_have_minimal_years_threshold+1:i + 1]\n",
    "                    eligible_companies_with_minimal_years_count += 1\n",
    "                    df.to_csv(f'{final_financial_data_processed_17_variables_5years_version3_directory}/{filename}', index=True, index_label='Fiscal Period')\n",
    "                    ecl_dataset_grouped_eligible.loc[ecl_dataset_grouped_eligible['cik'] == cik, 'has_minimal_years'] = True\n",
    "                    \n",
    "                    found = True\n",
    "                break\n",
    "\n",
    "        if found is False:\n",
    "            no_date_found += 1\n",
    "                \n",
    "    except Exception as ex:\n",
    "        print(f'Ex: {ex}, filename: {filename}')"
   ],
   "id": "d3116a99a0a55dc5",
   "outputs": [
    {
     "name": "stderr",
     "output_type": "stream",
     "text": [
      "C:\\Users\\grzeg\\AppData\\Local\\Temp\\ipykernel_5676\\362105922.py:38: SettingWithCopyWarning: \n",
      "A value is trying to be set on a copy of a slice from a DataFrame.\n",
      "Try using .loc[row_indexer,col_indexer] = value instead\n",
      "\n",
      "See the caveats in the documentation: https://pandas.pydata.org/pandas-docs/stable/user_guide/indexing.html#returning-a-view-versus-a-copy\n",
      "  ecl_dataset_grouped_eligible.loc[ecl_dataset_grouped_eligible['cik'] == cik, 'has_minimal_years'] = True\n"
     ]
    }
   ],
   "execution_count": 60
  },
  {
   "metadata": {
    "ExecuteTime": {
     "end_time": "2024-09-04T10:18:30.815681Z",
     "start_time": "2024-09-04T10:18:30.811339Z"
    }
   },
   "cell_type": "code",
   "source": "print(f'no_date_found: {no_date_found}')",
   "id": "d15bc977a76a2a54",
   "outputs": [
    {
     "name": "stdout",
     "output_type": "stream",
     "text": [
      "no_date_found: 523\n"
     ]
    }
   ],
   "execution_count": 61
  },
  {
   "metadata": {
    "ExecuteTime": {
     "end_time": "2024-09-04T10:18:33.573059Z",
     "start_time": "2024-09-04T10:18:33.568370Z"
    }
   },
   "cell_type": "code",
   "source": "eligible_companies_with_minimal_years_count",
   "id": "3827b55eb2f1aeb2",
   "outputs": [
    {
     "data": {
      "text/plain": [
       "4555"
      ]
     },
     "execution_count": 62,
     "metadata": {},
     "output_type": "execute_result"
    }
   ],
   "execution_count": 62
  },
  {
   "metadata": {
    "ExecuteTime": {
     "end_time": "2024-09-04T10:18:34.737339Z",
     "start_time": "2024-09-04T10:18:34.724063Z"
    }
   },
   "cell_type": "code",
   "source": [
    "ecl_dataset_grouped_eligible_with_minimal_years = ecl_dataset_grouped_eligible[ecl_dataset_grouped_eligible['has_minimal_years'] == True]\n",
    "\n",
    "len(ecl_dataset_grouped_eligible_with_minimal_years)"
   ],
   "id": "8e9f02e968cd4313",
   "outputs": [
    {
     "data": {
      "text/plain": [
       "4555"
      ]
     },
     "execution_count": 63,
     "metadata": {},
     "output_type": "execute_result"
    }
   ],
   "execution_count": 63
  },
  {
   "metadata": {},
   "cell_type": "markdown",
   "source": "# Dataset for 17 variables exists, with data from 5 years - could be used for training model",
   "id": "2809cb286a2fecdb"
  },
  {
   "metadata": {
    "ExecuteTime": {
     "end_time": "2024-09-04T10:19:27.565224Z",
     "start_time": "2024-09-04T10:19:27.551820Z"
    }
   },
   "cell_type": "code",
   "source": [
    "# TODO later: save with filename to report - match by bankruptcy or filing date !!!\n",
    "# TODO: plot labels distribution\n",
    "ecl_dataset_grouped_eligible_with_minimal_years.to_csv('ecl_dataset_grouped_eligible_with_minimal_years_missing_data.csv', index=False)"
   ],
   "id": "198f8dfb74e1aa72",
   "outputs": [],
   "execution_count": 64
  },
  {
   "metadata": {
    "ExecuteTime": {
     "end_time": "2024-09-04T10:29:00.582837Z",
     "start_time": "2024-09-04T10:27:49.029257Z"
    }
   },
   "cell_type": "code",
   "source": [
    "bankrupt_companies_with_17_variables_5_years = pd.DataFrame()\n",
    "\n",
    "for i, filename in enumerate(os.listdir(final_financial_data_processed_17_variables_5years_version3_directory)):\n",
    "    try:\n",
    "        df = pd.read_csv(f'{final_financial_data_processed_17_variables_5years_version3_directory}/{filename}', index_col='Fiscal Period')\n",
    "        \n",
    "        for column in df.columns:\n",
    "            df[column] = df[column].astype(str).str.replace('M', '*1e6', regex=False).str.replace('B', '*1e9', regex=False)\n",
    "        \n",
    "            df[column] = pd.to_numeric(df[column].apply(lambda x: pd.eval(x) if x.replace('.', '', 1).isdigit() else x), errors='coerce')\n",
    "        \n",
    "            df[column] = df[column].astype(float)\n",
    "        \n",
    "        filename_without_extension = filename.replace('.csv', '')\n",
    "        \n",
    "        label = filename_without_extension.split('_')[-1]\n",
    "\n",
    "        mapping = {'True': True, 'False': False}\n",
    "        label = mapping[label]\n",
    "        \n",
    "        df.reset_index(inplace=True)\n",
    "        df.insert(loc=0, column='cik', value=int(filename.split('-')[0]))\n",
    "        df.insert(loc=1, column='ticker', value=filename.split('_')[1])\n",
    "        df.insert(loc=2, column='label', value=label)\n",
    "\n",
    "        bankrupt_companies_with_17_variables_5_years = pd.concat([bankrupt_companies_with_17_variables_5_years, df])\n",
    "        \n",
    "    except Exception as ex:\n",
    "        print(f'Ex: {ex}, filename: {filename}')"
   ],
   "id": "cbf1a7b8f50feb72",
   "outputs": [],
   "execution_count": 70
  },
  {
   "metadata": {},
   "cell_type": "code",
   "outputs": [],
   "execution_count": null,
   "source": [
    "bankrupt_companies_with_17_variables_5_years.sort_values(by=['cik', 'Fiscal Period'], inplace=True)\n",
    "bankrupt_companies_with_17_variables_5_years.to_csv('bankrupt_companies_with_17_variables_5_years_version3.csv', index=False)"
   ],
   "id": "b6120805732c89c"
  },
  {
   "metadata": {
    "ExecuteTime": {
     "end_time": "2024-09-04T10:30:19.591535Z",
     "start_time": "2024-09-04T10:30:19.575417Z"
    }
   },
   "cell_type": "code",
   "source": "bankrupt_companies_with_17_variables_5_years.head()",
   "id": "66ab72e19a083937",
   "outputs": [
    {
     "data": {
      "text/plain": [
       "    cik ticker  label Fiscal Period  Cost of Goods Sold  \\\n",
       "0  1800    ABT  False      Dec 2016              9094.0   \n",
       "1  1800    ABT  False      Dec 2017             12409.0   \n",
       "2  1800    ABT  False      Dec 2018             12706.0   \n",
       "3  1800    ABT  False      Dec 2019             13231.0   \n",
       "4  1800    ABT  False      Dec 2020             15003.0   \n",
       "\n",
       "   Depreciation, Depletion and Amortization    EBIT  EBITDA  Gross Profit  \\\n",
       "0                                    1353.0  1844.0  3197.0       11759.0   \n",
       "1                                    3021.0  3135.0  6156.0       14981.0   \n",
       "2                                    3278.0  3699.0  6977.0       17872.0   \n",
       "3                                    3014.0  4747.0  7761.0       18673.0   \n",
       "4                                    3327.0  5514.0  8841.0       19605.0   \n",
       "\n",
       "   Long-Term Debt  ...  Net Income  Retained Earnings  Revenue  Total Assets  \\\n",
       "0         20681.0  ...      1400.0            25565.0  20853.0       52666.0   \n",
       "1         27210.0  ...       477.0            23978.0  27390.0       76250.0   \n",
       "2         19359.0  ...      2368.0            24560.0  30578.0       67173.0   \n",
       "3         16661.0  ...      3687.0            25847.0  31904.0       67887.0   \n",
       "4         18527.0  ...      4495.0            27627.0  34608.0       72548.0   \n",
       "\n",
       "   Total Current Assets  Total Current Liabilities  Total Inventories  \\\n",
       "0               26776.0                     6660.0             2434.0   \n",
       "1               20147.0                     8912.0             3601.0   \n",
       "2               14632.0                     9012.0             3796.0   \n",
       "3               15667.0                    10863.0             4316.0   \n",
       "4               20441.0                    11907.0             5012.0   \n",
       "\n",
       "   Total Liabilities  Total Operating Expense  Total Receivables  \n",
       "0            31949.0                   8733.0             5054.0  \n",
       "1            45152.0                  13417.0             6916.0  \n",
       "2            36451.0                  14222.0             6750.0  \n",
       "3            36586.0                  14141.0             7211.0  \n",
       "4            39545.0                  14248.0             8281.0  \n",
       "\n",
       "[5 rows x 21 columns]"
      ],
      "text/html": [
       "<div>\n",
       "<style scoped>\n",
       "    .dataframe tbody tr th:only-of-type {\n",
       "        vertical-align: middle;\n",
       "    }\n",
       "\n",
       "    .dataframe tbody tr th {\n",
       "        vertical-align: top;\n",
       "    }\n",
       "\n",
       "    .dataframe thead th {\n",
       "        text-align: right;\n",
       "    }\n",
       "</style>\n",
       "<table border=\"1\" class=\"dataframe\">\n",
       "  <thead>\n",
       "    <tr style=\"text-align: right;\">\n",
       "      <th></th>\n",
       "      <th>cik</th>\n",
       "      <th>ticker</th>\n",
       "      <th>label</th>\n",
       "      <th>Fiscal Period</th>\n",
       "      <th>Cost of Goods Sold</th>\n",
       "      <th>Depreciation, Depletion and Amortization</th>\n",
       "      <th>EBIT</th>\n",
       "      <th>EBITDA</th>\n",
       "      <th>Gross Profit</th>\n",
       "      <th>Long-Term Debt</th>\n",
       "      <th>...</th>\n",
       "      <th>Net Income</th>\n",
       "      <th>Retained Earnings</th>\n",
       "      <th>Revenue</th>\n",
       "      <th>Total Assets</th>\n",
       "      <th>Total Current Assets</th>\n",
       "      <th>Total Current Liabilities</th>\n",
       "      <th>Total Inventories</th>\n",
       "      <th>Total Liabilities</th>\n",
       "      <th>Total Operating Expense</th>\n",
       "      <th>Total Receivables</th>\n",
       "    </tr>\n",
       "  </thead>\n",
       "  <tbody>\n",
       "    <tr>\n",
       "      <th>0</th>\n",
       "      <td>1800</td>\n",
       "      <td>ABT</td>\n",
       "      <td>False</td>\n",
       "      <td>Dec 2016</td>\n",
       "      <td>9094.0</td>\n",
       "      <td>1353.0</td>\n",
       "      <td>1844.0</td>\n",
       "      <td>3197.0</td>\n",
       "      <td>11759.0</td>\n",
       "      <td>20681.0</td>\n",
       "      <td>...</td>\n",
       "      <td>1400.0</td>\n",
       "      <td>25565.0</td>\n",
       "      <td>20853.0</td>\n",
       "      <td>52666.0</td>\n",
       "      <td>26776.0</td>\n",
       "      <td>6660.0</td>\n",
       "      <td>2434.0</td>\n",
       "      <td>31949.0</td>\n",
       "      <td>8733.0</td>\n",
       "      <td>5054.0</td>\n",
       "    </tr>\n",
       "    <tr>\n",
       "      <th>1</th>\n",
       "      <td>1800</td>\n",
       "      <td>ABT</td>\n",
       "      <td>False</td>\n",
       "      <td>Dec 2017</td>\n",
       "      <td>12409.0</td>\n",
       "      <td>3021.0</td>\n",
       "      <td>3135.0</td>\n",
       "      <td>6156.0</td>\n",
       "      <td>14981.0</td>\n",
       "      <td>27210.0</td>\n",
       "      <td>...</td>\n",
       "      <td>477.0</td>\n",
       "      <td>23978.0</td>\n",
       "      <td>27390.0</td>\n",
       "      <td>76250.0</td>\n",
       "      <td>20147.0</td>\n",
       "      <td>8912.0</td>\n",
       "      <td>3601.0</td>\n",
       "      <td>45152.0</td>\n",
       "      <td>13417.0</td>\n",
       "      <td>6916.0</td>\n",
       "    </tr>\n",
       "    <tr>\n",
       "      <th>2</th>\n",
       "      <td>1800</td>\n",
       "      <td>ABT</td>\n",
       "      <td>False</td>\n",
       "      <td>Dec 2018</td>\n",
       "      <td>12706.0</td>\n",
       "      <td>3278.0</td>\n",
       "      <td>3699.0</td>\n",
       "      <td>6977.0</td>\n",
       "      <td>17872.0</td>\n",
       "      <td>19359.0</td>\n",
       "      <td>...</td>\n",
       "      <td>2368.0</td>\n",
       "      <td>24560.0</td>\n",
       "      <td>30578.0</td>\n",
       "      <td>67173.0</td>\n",
       "      <td>14632.0</td>\n",
       "      <td>9012.0</td>\n",
       "      <td>3796.0</td>\n",
       "      <td>36451.0</td>\n",
       "      <td>14222.0</td>\n",
       "      <td>6750.0</td>\n",
       "    </tr>\n",
       "    <tr>\n",
       "      <th>3</th>\n",
       "      <td>1800</td>\n",
       "      <td>ABT</td>\n",
       "      <td>False</td>\n",
       "      <td>Dec 2019</td>\n",
       "      <td>13231.0</td>\n",
       "      <td>3014.0</td>\n",
       "      <td>4747.0</td>\n",
       "      <td>7761.0</td>\n",
       "      <td>18673.0</td>\n",
       "      <td>16661.0</td>\n",
       "      <td>...</td>\n",
       "      <td>3687.0</td>\n",
       "      <td>25847.0</td>\n",
       "      <td>31904.0</td>\n",
       "      <td>67887.0</td>\n",
       "      <td>15667.0</td>\n",
       "      <td>10863.0</td>\n",
       "      <td>4316.0</td>\n",
       "      <td>36586.0</td>\n",
       "      <td>14141.0</td>\n",
       "      <td>7211.0</td>\n",
       "    </tr>\n",
       "    <tr>\n",
       "      <th>4</th>\n",
       "      <td>1800</td>\n",
       "      <td>ABT</td>\n",
       "      <td>False</td>\n",
       "      <td>Dec 2020</td>\n",
       "      <td>15003.0</td>\n",
       "      <td>3327.0</td>\n",
       "      <td>5514.0</td>\n",
       "      <td>8841.0</td>\n",
       "      <td>19605.0</td>\n",
       "      <td>18527.0</td>\n",
       "      <td>...</td>\n",
       "      <td>4495.0</td>\n",
       "      <td>27627.0</td>\n",
       "      <td>34608.0</td>\n",
       "      <td>72548.0</td>\n",
       "      <td>20441.0</td>\n",
       "      <td>11907.0</td>\n",
       "      <td>5012.0</td>\n",
       "      <td>39545.0</td>\n",
       "      <td>14248.0</td>\n",
       "      <td>8281.0</td>\n",
       "    </tr>\n",
       "  </tbody>\n",
       "</table>\n",
       "<p>5 rows × 21 columns</p>\n",
       "</div>"
      ]
     },
     "execution_count": 71,
     "metadata": {},
     "output_type": "execute_result"
    }
   ],
   "execution_count": 71
  },
  {
   "metadata": {
    "ExecuteTime": {
     "end_time": "2024-09-04T10:30:36.428461Z",
     "start_time": "2024-09-04T10:30:36.413767Z"
    }
   },
   "cell_type": "code",
   "source": [
    "# bankrupt_companies_with_17_variables_5_years = pd.read_csv('bankrupt_companies_with_17_variables_5_years.csv')\n",
    "\n",
    "bankrupt_companies_with_17_variables_5_years_grouped = bankrupt_companies_with_17_variables_5_years.groupby('cik').agg({'label': 'first'}).reset_index()\n",
    "\n",
    "bankrupt_companies_with_17_variables_5_years_grouped['label'].value_counts()"
   ],
   "id": "7436497281ff882d",
   "outputs": [
    {
     "data": {
      "text/plain": [
       "label\n",
       "False    4460\n",
       "True       95\n",
       "Name: count, dtype: int64"
      ]
     },
     "execution_count": 73,
     "metadata": {},
     "output_type": "execute_result"
    }
   ],
   "execution_count": 73
  },
  {
   "metadata": {
    "ExecuteTime": {
     "end_time": "2024-09-04T10:54:50.093873Z",
     "start_time": "2024-09-04T10:54:50.078736Z"
    }
   },
   "cell_type": "code",
   "source": "bankrupt_companies_with_17_variables_5_years_grouped.head()",
   "id": "d78e63a14f6d632c",
   "outputs": [
    {
     "data": {
      "text/plain": [
       "    cik  label\n",
       "0  1800  False\n",
       "1  2488  False\n",
       "2  2491  False\n",
       "3  2969  False\n",
       "4  3153  False"
      ],
      "text/html": [
       "<div>\n",
       "<style scoped>\n",
       "    .dataframe tbody tr th:only-of-type {\n",
       "        vertical-align: middle;\n",
       "    }\n",
       "\n",
       "    .dataframe tbody tr th {\n",
       "        vertical-align: top;\n",
       "    }\n",
       "\n",
       "    .dataframe thead th {\n",
       "        text-align: right;\n",
       "    }\n",
       "</style>\n",
       "<table border=\"1\" class=\"dataframe\">\n",
       "  <thead>\n",
       "    <tr style=\"text-align: right;\">\n",
       "      <th></th>\n",
       "      <th>cik</th>\n",
       "      <th>label</th>\n",
       "    </tr>\n",
       "  </thead>\n",
       "  <tbody>\n",
       "    <tr>\n",
       "      <th>0</th>\n",
       "      <td>1800</td>\n",
       "      <td>False</td>\n",
       "    </tr>\n",
       "    <tr>\n",
       "      <th>1</th>\n",
       "      <td>2488</td>\n",
       "      <td>False</td>\n",
       "    </tr>\n",
       "    <tr>\n",
       "      <th>2</th>\n",
       "      <td>2491</td>\n",
       "      <td>False</td>\n",
       "    </tr>\n",
       "    <tr>\n",
       "      <th>3</th>\n",
       "      <td>2969</td>\n",
       "      <td>False</td>\n",
       "    </tr>\n",
       "    <tr>\n",
       "      <th>4</th>\n",
       "      <td>3153</td>\n",
       "      <td>False</td>\n",
       "    </tr>\n",
       "  </tbody>\n",
       "</table>\n",
       "</div>"
      ]
     },
     "execution_count": 75,
     "metadata": {},
     "output_type": "execute_result"
    }
   ],
   "execution_count": 75
  },
  {
   "metadata": {
    "ExecuteTime": {
     "end_time": "2024-09-04T10:30:48.616751Z",
     "start_time": "2024-09-04T10:30:48.610588Z"
    }
   },
   "cell_type": "code",
   "source": [
    "number_of_companies = len(bankrupt_companies_with_17_variables_5_years_grouped)\n",
    "number_of_companies"
   ],
   "id": "4c4895d95d5a81d8",
   "outputs": [
    {
     "data": {
      "text/plain": [
       "4555"
      ]
     },
     "execution_count": 74,
     "metadata": {},
     "output_type": "execute_result"
    }
   ],
   "execution_count": 74
  },
  {
   "metadata": {},
   "cell_type": "markdown",
   "source": "## Official splitting data process (in 2 versions: for full dataset and for original dataset - below) ",
   "id": "2cb02d057bde058"
  },
  {
   "metadata": {
    "ExecuteTime": {
     "end_time": "2024-09-19T12:07:30.553873Z",
     "start_time": "2024-09-19T12:07:30.407273Z"
    }
   },
   "cell_type": "code",
   "source": [
    "# this is valid - good file without duplicates, but with missing values\n",
    "bankrupt_companies_with_17_variables_5_years = pd.read_csv('bankrupt_companies_with_17variables_5years_split_version5_complete.csv')\n",
    "bankrupt_companies_with_17_variables_5_years = bankrupt_companies_with_17_variables_5_years.drop('subset', axis=1)\n",
    "# remove rows that have empty ticker\n",
    "bankrupt_companies_with_17_variables_5_years = bankrupt_companies_with_17_variables_5_years[~bankrupt_companies_with_17_variables_5_years['ticker'].isna()]\n",
    "len(bankrupt_companies_with_17_variables_5_years)/5, len(bankrupt_companies_with_17_variables_5_years['cik'].unique())"
   ],
   "id": "f9cbd01f00314bda",
   "outputs": [
    {
     "data": {
      "text/plain": [
       "(4466.0, 4466)"
      ]
     },
     "execution_count": 5,
     "metadata": {},
     "output_type": "execute_result"
    }
   ],
   "execution_count": 5
  },
  {
   "metadata": {
    "ExecuteTime": {
     "end_time": "2024-09-19T12:07:33.031822Z",
     "start_time": "2024-09-19T12:07:33.007122Z"
    }
   },
   "cell_type": "code",
   "source": "bankrupt_companies_with_17_variables_5_years.head()",
   "id": "d23ba0da575c5ef1",
   "outputs": [
    {
     "data": {
      "text/plain": [
       "      cik ticker  label Fiscal Period  Cost of Goods Sold  \\\n",
       "0  737874     LI  False      Aug 2002               479.0   \n",
       "1  737874     LI  False      Aug 2003               479.0   \n",
       "2  737874     LI  False      Aug 2004               483.0   \n",
       "3  737874     LI  False      Aug 2005               579.0   \n",
       "4  737874     LI  False      Aug 2006               582.0   \n",
       "\n",
       "   Depreciation, Depletion and Amortization    EBIT  EBITDA  Gross Profit  \\\n",
       "0                                     281.0  1028.0  1310.0        4004.0   \n",
       "1                                     281.0  1028.0  1310.0        4004.0   \n",
       "2                                     284.0   224.0   507.0        4149.0   \n",
       "3                                     249.0    63.0   312.0        2447.0   \n",
       "4                                     216.0   261.0   477.0        2550.0   \n",
       "\n",
       "   Long-Term Debt  ...  Net Income  Retained Earnings  Revenue  Total Assets  \\\n",
       "0          1145.0  ...     -1223.0              -10.0   4483.0        3853.0   \n",
       "1          1145.0  ...     -1223.0              -10.0   4483.0        3853.0   \n",
       "2          1114.0  ...        62.0               52.0   4631.0        3905.0   \n",
       "3           287.0  ...       212.0              249.0   3027.0        2909.0   \n",
       "4           773.0  ...       125.0              315.0   3132.0        3039.0   \n",
       "\n",
       "   Total Current Assets  Total Current Liabilities  Total Inventories  \\\n",
       "0                 948.0                      695.0               50.0   \n",
       "1                 948.0                      695.0               50.0   \n",
       "2                1032.0                      687.0               51.0   \n",
       "3                 606.0                      448.0               33.0   \n",
       "4                 741.0                      531.0               41.0   \n",
       "\n",
       "   Total Liabilities  Total Operating Expense  Total Receivables  \n",
       "0             2562.0                   3829.0              570.0  \n",
       "1             2562.0                   3829.0              570.0  \n",
       "2             2529.0                   3928.0              588.0  \n",
       "3             1309.0                   2282.0              203.0  \n",
       "4             1831.0                   2299.0              211.0  \n",
       "\n",
       "[5 rows x 21 columns]"
      ],
      "text/html": [
       "<div>\n",
       "<style scoped>\n",
       "    .dataframe tbody tr th:only-of-type {\n",
       "        vertical-align: middle;\n",
       "    }\n",
       "\n",
       "    .dataframe tbody tr th {\n",
       "        vertical-align: top;\n",
       "    }\n",
       "\n",
       "    .dataframe thead th {\n",
       "        text-align: right;\n",
       "    }\n",
       "</style>\n",
       "<table border=\"1\" class=\"dataframe\">\n",
       "  <thead>\n",
       "    <tr style=\"text-align: right;\">\n",
       "      <th></th>\n",
       "      <th>cik</th>\n",
       "      <th>ticker</th>\n",
       "      <th>label</th>\n",
       "      <th>Fiscal Period</th>\n",
       "      <th>Cost of Goods Sold</th>\n",
       "      <th>Depreciation, Depletion and Amortization</th>\n",
       "      <th>EBIT</th>\n",
       "      <th>EBITDA</th>\n",
       "      <th>Gross Profit</th>\n",
       "      <th>Long-Term Debt</th>\n",
       "      <th>...</th>\n",
       "      <th>Net Income</th>\n",
       "      <th>Retained Earnings</th>\n",
       "      <th>Revenue</th>\n",
       "      <th>Total Assets</th>\n",
       "      <th>Total Current Assets</th>\n",
       "      <th>Total Current Liabilities</th>\n",
       "      <th>Total Inventories</th>\n",
       "      <th>Total Liabilities</th>\n",
       "      <th>Total Operating Expense</th>\n",
       "      <th>Total Receivables</th>\n",
       "    </tr>\n",
       "  </thead>\n",
       "  <tbody>\n",
       "    <tr>\n",
       "      <th>0</th>\n",
       "      <td>737874</td>\n",
       "      <td>LI</td>\n",
       "      <td>False</td>\n",
       "      <td>Aug 2002</td>\n",
       "      <td>479.0</td>\n",
       "      <td>281.0</td>\n",
       "      <td>1028.0</td>\n",
       "      <td>1310.0</td>\n",
       "      <td>4004.0</td>\n",
       "      <td>1145.0</td>\n",
       "      <td>...</td>\n",
       "      <td>-1223.0</td>\n",
       "      <td>-10.0</td>\n",
       "      <td>4483.0</td>\n",
       "      <td>3853.0</td>\n",
       "      <td>948.0</td>\n",
       "      <td>695.0</td>\n",
       "      <td>50.0</td>\n",
       "      <td>2562.0</td>\n",
       "      <td>3829.0</td>\n",
       "      <td>570.0</td>\n",
       "    </tr>\n",
       "    <tr>\n",
       "      <th>1</th>\n",
       "      <td>737874</td>\n",
       "      <td>LI</td>\n",
       "      <td>False</td>\n",
       "      <td>Aug 2003</td>\n",
       "      <td>479.0</td>\n",
       "      <td>281.0</td>\n",
       "      <td>1028.0</td>\n",
       "      <td>1310.0</td>\n",
       "      <td>4004.0</td>\n",
       "      <td>1145.0</td>\n",
       "      <td>...</td>\n",
       "      <td>-1223.0</td>\n",
       "      <td>-10.0</td>\n",
       "      <td>4483.0</td>\n",
       "      <td>3853.0</td>\n",
       "      <td>948.0</td>\n",
       "      <td>695.0</td>\n",
       "      <td>50.0</td>\n",
       "      <td>2562.0</td>\n",
       "      <td>3829.0</td>\n",
       "      <td>570.0</td>\n",
       "    </tr>\n",
       "    <tr>\n",
       "      <th>2</th>\n",
       "      <td>737874</td>\n",
       "      <td>LI</td>\n",
       "      <td>False</td>\n",
       "      <td>Aug 2004</td>\n",
       "      <td>483.0</td>\n",
       "      <td>284.0</td>\n",
       "      <td>224.0</td>\n",
       "      <td>507.0</td>\n",
       "      <td>4149.0</td>\n",
       "      <td>1114.0</td>\n",
       "      <td>...</td>\n",
       "      <td>62.0</td>\n",
       "      <td>52.0</td>\n",
       "      <td>4631.0</td>\n",
       "      <td>3905.0</td>\n",
       "      <td>1032.0</td>\n",
       "      <td>687.0</td>\n",
       "      <td>51.0</td>\n",
       "      <td>2529.0</td>\n",
       "      <td>3928.0</td>\n",
       "      <td>588.0</td>\n",
       "    </tr>\n",
       "    <tr>\n",
       "      <th>3</th>\n",
       "      <td>737874</td>\n",
       "      <td>LI</td>\n",
       "      <td>False</td>\n",
       "      <td>Aug 2005</td>\n",
       "      <td>579.0</td>\n",
       "      <td>249.0</td>\n",
       "      <td>63.0</td>\n",
       "      <td>312.0</td>\n",
       "      <td>2447.0</td>\n",
       "      <td>287.0</td>\n",
       "      <td>...</td>\n",
       "      <td>212.0</td>\n",
       "      <td>249.0</td>\n",
       "      <td>3027.0</td>\n",
       "      <td>2909.0</td>\n",
       "      <td>606.0</td>\n",
       "      <td>448.0</td>\n",
       "      <td>33.0</td>\n",
       "      <td>1309.0</td>\n",
       "      <td>2282.0</td>\n",
       "      <td>203.0</td>\n",
       "    </tr>\n",
       "    <tr>\n",
       "      <th>4</th>\n",
       "      <td>737874</td>\n",
       "      <td>LI</td>\n",
       "      <td>False</td>\n",
       "      <td>Aug 2006</td>\n",
       "      <td>582.0</td>\n",
       "      <td>216.0</td>\n",
       "      <td>261.0</td>\n",
       "      <td>477.0</td>\n",
       "      <td>2550.0</td>\n",
       "      <td>773.0</td>\n",
       "      <td>...</td>\n",
       "      <td>125.0</td>\n",
       "      <td>315.0</td>\n",
       "      <td>3132.0</td>\n",
       "      <td>3039.0</td>\n",
       "      <td>741.0</td>\n",
       "      <td>531.0</td>\n",
       "      <td>41.0</td>\n",
       "      <td>1831.0</td>\n",
       "      <td>2299.0</td>\n",
       "      <td>211.0</td>\n",
       "    </tr>\n",
       "  </tbody>\n",
       "</table>\n",
       "<p>5 rows × 21 columns</p>\n",
       "</div>"
      ]
     },
     "execution_count": 6,
     "metadata": {},
     "output_type": "execute_result"
    }
   ],
   "execution_count": 6
  },
  {
   "metadata": {
    "ExecuteTime": {
     "end_time": "2024-09-19T12:07:35.815387Z",
     "start_time": "2024-09-19T12:07:35.790354Z"
    }
   },
   "cell_type": "code",
   "source": "bankrupt_companies_with_17_variables_5_years['label'].value_counts()",
   "id": "851171bcef4c005f",
   "outputs": [
    {
     "data": {
      "text/plain": [
       "label\n",
       "False    21960\n",
       "True       370\n",
       "Name: count, dtype: int64"
      ]
     },
     "execution_count": 7,
     "metadata": {},
     "output_type": "execute_result"
    }
   ],
   "execution_count": 7
  },
  {
   "metadata": {
    "ExecuteTime": {
     "end_time": "2024-09-19T12:07:39.168430Z",
     "start_time": "2024-09-19T12:07:39.156947Z"
    }
   },
   "cell_type": "code",
   "source": [
    "def flatten_financial_dataset(financial_dataset):\n",
    "    object_length_in_rows = 5\n",
    "    metadata_columns_length = 4\n",
    "    per_object_columns = list(financial_dataset.columns[:metadata_columns_length].values)\n",
    "    \n",
    "    value_columns = financial_dataset.columns[metadata_columns_length:]\n",
    "    new_columns = per_object_columns + [f'{col}_{i+1}' for i in range(object_length_in_rows) for col in value_columns]\n",
    "    \n",
    "    dfs = []\n",
    "    \n",
    "    for i in range(0, len(financial_dataset), object_length_in_rows):\n",
    "        group = financial_dataset.iloc[i:i + object_length_in_rows]\n",
    "        if len(group) < object_length_in_rows:\n",
    "            break\n",
    "    \n",
    "        name = group['cik'].iloc[0]\n",
    "        ticker = group['ticker'].iloc[0]\n",
    "        label = group['label'].iloc[0]\n",
    "        fiscal_periods = ';'.join(group['Fiscal Period'].astype(str).values)\n",
    "    \n",
    "        values = group.drop(columns=per_object_columns).values.flatten()\n",
    "        \n",
    "        dfs.append([name, ticker, label, fiscal_periods] + values.tolist())\n",
    "    \n",
    "    final_flatten_df = pd.DataFrame(dfs, columns=new_columns)\n",
    "    final_flatten_df = final_flatten_df.reset_index(drop=True)\n",
    "    return final_flatten_df\n",
    "\n",
    "def deflatten_financial_dataset(flatten_df):\n",
    "    object_length_in_rows = 5\n",
    "    info_columns_count = 5\n",
    "\n",
    "    values_columns = flatten_df.columns[info_columns_count:]\n",
    "    unique_values_columns = sorted(set(col.split('_')[0] for col in values_columns))\n",
    "    \n",
    "    new_columns = flatten_df.columns[:info_columns_count].tolist() + unique_values_columns\n",
    "\n",
    "    deflattened_rows = []\n",
    "\n",
    "    for _, row in flatten_df.iterrows():\n",
    "        first_columns = row.values[:info_columns_count]\n",
    "        fiscal_periods = row.values[4].split(';')\n",
    "        if fiscal_periods[0] == '':\n",
    "            fiscal_periods = ['' for _ in range(object_length_in_rows)]\n",
    "        \n",
    "        reshaped_values = np.array(row.values[info_columns_count:]).reshape(object_length_in_rows, -1)\n",
    "        \n",
    "        try:\n",
    "            for i in range(object_length_in_rows):\n",
    "                new_row = np.concatenate([first_columns[:4], [fiscal_periods[i]], reshaped_values[i]])\n",
    "                deflattened_rows.append(new_row)\n",
    "                \n",
    "        except Exception as ex:\n",
    "            print(f'Ex: {ex}, row: {row[\"cik\"]}')\n",
    "\n",
    "    deflatten_df = pd.DataFrame(deflattened_rows, columns=new_columns)\n",
    "    \n",
    "    return deflatten_df.reset_index(drop=True)"
   ],
   "id": "fbf2cd93d8a5bb7d",
   "outputs": [],
   "execution_count": 8
  },
  {
   "metadata": {},
   "cell_type": "markdown",
   "source": "#### Function for splitting data into train, val and test subset that should be unseen for model and that's why will be very small",
   "id": "eb6759e27f836ca3"
  },
  {
   "metadata": {
    "ExecuteTime": {
     "end_time": "2024-09-19T12:14:33.715977Z",
     "start_time": "2024-09-19T12:14:33.697478Z"
    }
   },
   "cell_type": "code",
   "source": [
    "from imblearn.over_sampling import SMOTE\n",
    "import numpy as np\n",
    "import math\n",
    "\n",
    "def split_dataset(\n",
    "        df,\n",
    "        test_subset_samples_ratio=0.15,\n",
    "        val_subset_samples_ratio=0.05,\n",
    "        oversample_with_SMOTE=True,\n",
    "        match_with_synthetic_textual_data=False,\n",
    "        synthetic_textual_data_filepath='synthetic_textual_data.csv',\n",
    "        shuffle=False,\n",
    "        shuffle_seed=42):\n",
    "    \n",
    "    flatten_df = flatten_financial_dataset(df)\n",
    "    \n",
    "    if shuffle:\n",
    "        flatten_df = flatten_df.sample(frac=1, random_state=shuffle_seed).reset_index(drop=True)\n",
    "        \n",
    "    flatten_df.insert(loc=3, column='subset', value='train')\n",
    "    \n",
    "    df_true = flatten_df[flatten_df['label'] == True]\n",
    "    df_false = flatten_df[flatten_df['label'] == False]\n",
    "    \n",
    "    sampling_strategy = 0.0\n",
    "    synthetic_textual_data_len = 0\n",
    "    positive_count_train = math.ceil(len(df_true) * (1 - (test_subset_samples_ratio + val_subset_samples_ratio)))\n",
    "    \n",
    "    if oversample_with_SMOTE:\n",
    "        sampling_strategy = 1.0\n",
    "            \n",
    "        if match_with_synthetic_textual_data:\n",
    "            synthetic_textual_data = pd.read_csv(synthetic_textual_data_filepath)\n",
    "            synthetic_textual_data_len = len(synthetic_textual_data)\n",
    "            \n",
    "            negative_count = len(df_false)\n",
    "            \n",
    "            all_samples_after_smote_without_true_val_and_test = synthetic_textual_data_len + positive_count_train + negative_count\n",
    "            val_test_samples_false_count = int((all_samples_after_smote_without_true_val_and_test) * (test_subset_samples_ratio + val_subset_samples_ratio))\n",
    "            train_samples_count = all_samples_after_smote_without_true_val_and_test - val_test_samples_false_count\n",
    "            train_samples_count_without_smote = train_samples_count - synthetic_textual_data_len\n",
    "            \n",
    "            sampling_strategy = (synthetic_textual_data_len + positive_count_train)/(train_samples_count_without_smote - positive_count_train)\n",
    "            # ss = (text_count + pos_count) / neg_count\n",
    "            sampling_strategy = math.ceil(sampling_strategy * 10000) / 10000\n",
    "    \n",
    "            print(f\"Sampling strategy: {sampling_strategy}\")\n",
    "    \n",
    "    # true label\n",
    "    df_true_test_len = int(len(df_true) * test_subset_samples_ratio)\n",
    "    df_true_test = df_true[:df_true_test_len]\n",
    "    \n",
    "    df_true_train_and_val = df_true[df_true_test_len:]\n",
    "    \n",
    "    df_true_val_len = int(len(df_true) * val_subset_samples_ratio)\n",
    "    df_true_val = df_true_train_and_val[:df_true_val_len]\n",
    "    \n",
    "    # false label\n",
    "    df_false_test_len = int((len(df_false) + synthetic_textual_data_len + positive_count_train) * test_subset_samples_ratio)\n",
    "    df_false_test = df_false[:df_false_test_len]\n",
    "    \n",
    "    df_false_train_and_val = df_false[df_false_test_len:]\n",
    "    \n",
    "    df_false_val_len = int((len(df_false) + synthetic_textual_data_len + positive_count_train) * val_subset_samples_ratio)\n",
    "    df_false_val = df_false_train_and_val[:df_false_val_len]\n",
    "    \n",
    "    df_test = pd.concat([df_true_test, df_false_test])\n",
    "    df_test['subset'] = 'test'\n",
    "    \n",
    "    df_val = pd.concat([df_true_val, df_false_val])\n",
    "    df_val['subset'] = 'val'\n",
    "    \n",
    "    df_train = pd.concat([df_true_train_and_val[df_true_val_len:], df_false_train_and_val[df_false_val_len:]])\n",
    "    \n",
    "    if oversample_with_SMOTE:\n",
    "        df_train_X = df_train.drop(columns=['cik', 'label', 'subset', 'ticker', 'Fiscal Period'])\n",
    "        y = df_train['label'].values\n",
    "        smote = SMOTE(random_state=42, sampling_strategy=sampling_strategy)\n",
    "        X_resampled, y_resampled = smote.fit_resample(df_train_X, y)\n",
    "        \n",
    "        X_resampled_positive = X_resampled[y_resampled == True]\n",
    "        X_original_positive = df_train_X[y == True]\n",
    "        \n",
    "        df1_set = set(X_resampled_positive.to_records(index=False).tolist())\n",
    "        df2_set = set(X_original_positive.to_records(index=False).tolist())\n",
    "        \n",
    "        X_resampled_positive_generated = pd.DataFrame.from_records(list(df1_set.difference(df2_set)))\n",
    "        X_resampled_positive_generated.columns = df_train_X.columns\n",
    "        \n",
    "        for col in X_resampled_positive_generated.columns:\n",
    "            X_resampled_positive_generated[col] = X_resampled_positive_generated[col].astype(int)\n",
    "            X_resampled_positive_generated[col] = X_resampled_positive_generated[col].astype(np.float64)\n",
    "            \n",
    "        if match_with_synthetic_textual_data:\n",
    "            synthetic_ciks = synthetic_textual_data['cik'].values\n",
    "            X_resampled_positive_generated['cik'] = synthetic_ciks\n",
    "        else:  \n",
    "            X_resampled_positive_generated['cik'] = 'synthetic'\n",
    "            \n",
    "        X_resampled_positive_generated['ticker'] = ''\n",
    "        X_resampled_positive_generated['label'] = True\n",
    "        X_resampled_positive_generated['Fiscal Period'] = ''\n",
    "        X_resampled_positive_generated['subset'] = 'train'\n",
    "        \n",
    "        X_resampled_positive_generated = X_resampled_positive_generated[['cik', 'ticker', 'label', 'subset', 'Fiscal Period'] + df_train_X.columns.tolist()]\n",
    "        # X_resampled_positive_generated.to_csv(f'synthetic_financial_positive_data_version_2-{str(datetime.datetime.now())[:10]}.csv', index=False)\n",
    "        \n",
    "        df_train = pd.concat([df_train, X_resampled_positive_generated])\n",
    "    \n",
    "    print(len(df_train), len(df_val), len(df_test))\n",
    "    \n",
    "    full_df = pd.concat([df_train, df_val, df_test])\n",
    "    if shuffle:\n",
    "        full_df = full_df.sample(frac=1, random_state=shuffle_seed).reset_index(drop=True)\n",
    "        \n",
    "    full_df_deflatten = deflatten_financial_dataset(full_df)\n",
    "    \n",
    "    full_df_deflatten.to_csv(f'bankrupt_companies_with_17variables_5years_split_version5_original_{str(datetime.datetime.now())[:10]}.csv', index=False)\n",
    "    \n",
    "    return full_df_deflatten"
   ],
   "id": "8e87a230538d025",
   "outputs": [],
   "execution_count": 19
  },
  {
   "metadata": {
    "ExecuteTime": {
     "end_time": "2024-09-18T12:08:22.043082Z",
     "start_time": "2024-09-18T12:08:22.017219Z"
    }
   },
   "cell_type": "code",
   "source": [
    "# fill Nan values with backfill and forward fill and then with 0\n",
    "bankrupt_companies_with_17_variables_5_years.fillna(method='bfill', inplace=True)\n",
    "bankrupt_companies_with_17_variables_5_years.fillna(method='ffill', inplace=True)\n",
    "bankrupt_companies_with_17_variables_5_years.fillna(0, inplace=True)\n",
    "\n",
    "bankrupt_companies_with_17_variables_5_years.isnull().sum().sum()"
   ],
   "id": "40cfdd5d6c3bd54a",
   "outputs": [
    {
     "data": {
      "text/plain": [
       "0"
      ]
     },
     "execution_count": 27,
     "metadata": {},
     "output_type": "execute_result"
    }
   ],
   "execution_count": 27
  },
  {
   "metadata": {
    "ExecuteTime": {
     "end_time": "2024-09-18T12:08:24.382969Z",
     "start_time": "2024-09-18T12:08:24.367451Z"
    }
   },
   "cell_type": "code",
   "source": "bankrupt_companies_with_17_variables_5_years['label'].value_counts()",
   "id": "f53263e708f730a3",
   "outputs": [
    {
     "data": {
      "text/plain": [
       "label\n",
       "False    21960\n",
       "True       370\n",
       "Name: count, dtype: int64"
      ]
     },
     "execution_count": 28,
     "metadata": {},
     "output_type": "execute_result"
    }
   ],
   "execution_count": 28
  },
  {
   "metadata": {
    "ExecuteTime": {
     "end_time": "2024-09-18T12:06:29.748159Z",
     "start_time": "2024-09-18T12:05:42.327707Z"
    }
   },
   "cell_type": "code",
   "source": [
    "# import math\n",
    "# bankrupt_companies_with_17_variables_5_years_flatten = flatten_financial_dataset(bankrupt_companies_with_17_variables_5_years)\n",
    "# flatten_df = bankrupt_companies_with_17_variables_5_years_flatten.copy()\n",
    "# \n",
    "# test_subset_samples_ratio = 0.15\n",
    "# val_subset_samples_ratio = 0.05\n",
    "# oversample_with_SMOTE = True\n",
    "# match_with_synthetic_textual_data = True\n",
    "# synthetic_textual_data_filepath = 'synthetic_textual_data.csv'\n",
    "# shuffle = False\n",
    "# shuffle_seed = 42\n",
    "# \n",
    "# # flatten_df = flatten_financial_dataset(df)\n",
    "# \n",
    "# if shuffle:\n",
    "#     flatten_df = flatten_df.sample(frac=1, random_state=shuffle_seed).reset_index(drop=True)\n",
    "#     \n",
    "# flatten_df.insert(loc=3, column='subset', value='train')\n",
    "# \n",
    "# df_true = flatten_df[flatten_df['label'] == True]\n",
    "# df_false = flatten_df[flatten_df['label'] == False]\n",
    "# \n",
    "# sampling_strategy = 0.0\n",
    "# synthetic_textual_data_len = 0\n",
    "# \n",
    "# if oversample_with_SMOTE:\n",
    "#     sampling_strategy = 1.0\n",
    "#         \n",
    "#     if match_with_synthetic_textual_data:\n",
    "#         synthetic_textual_data = pd.read_csv(synthetic_textual_data_filepath)\n",
    "#         synthetic_textual_data_len = len(synthetic_textual_data)\n",
    "#         \n",
    "#         positive_count_train = math.ceil(len(df_true) * (1 - (test_subset_samples_ratio + val_subset_samples_ratio)))\n",
    "#         negative_count = len(df_false)\n",
    "#         \n",
    "#         all_samples_after_smote_without_true_val_and_test = synthetic_textual_data_len + positive_count_train + negative_count\n",
    "#         val_test_samples_false_count = int((all_samples_after_smote_without_true_val_and_test) * (test_subset_samples_ratio + val_subset_samples_ratio))\n",
    "#         train_samples_count = all_samples_after_smote_without_true_val_and_test - val_test_samples_false_count\n",
    "#         train_samples_count_without_smote = train_samples_count - synthetic_textual_data_len\n",
    "#         \n",
    "#         sampling_strategy = (synthetic_textual_data_len + positive_count_train)/(train_samples_count_without_smote - positive_count_train)\n",
    "#         # ss = (text_count + pos_count) / neg_count\n",
    "#         sampling_strategy = math.ceil(sampling_strategy * 10000) / 10000\n",
    "#         samples_to_be_generated_count = int(train_samples_count_without_smote * sampling_strategy)\n",
    "# \n",
    "#         print(f\"Sampling strategy: {sampling_strategy}\")\n",
    "# \n",
    "# # true label\n",
    "# df_true_test_len = int(len(df_true) * test_subset_samples_ratio)\n",
    "# df_true_test = df_true[:df_true_test_len]\n",
    "# \n",
    "# df_true_train_and_val = df_true[df_true_test_len:]\n",
    "# \n",
    "# df_true_val_len = int(len(df_true) * val_subset_samples_ratio)\n",
    "# df_true_val = df_true_train_and_val[:df_true_val_len]\n",
    "# \n",
    "# # false label\n",
    "# df_false_test_len = int((len(df_false) + synthetic_textual_data_len + positive_count_train) * test_subset_samples_ratio)\n",
    "# df_false_test = df_false[:df_false_test_len]\n",
    "# \n",
    "# df_false_train_and_val = df_false[df_false_test_len:]\n",
    "# \n",
    "# df_false_val_len = int((len(df_false) + synthetic_textual_data_len + positive_count_train) * val_subset_samples_ratio)\n",
    "# df_false_val = df_false_train_and_val[:df_false_val_len]\n",
    "# \n",
    "# df_test = pd.concat([df_true_test, df_false_test])\n",
    "# df_test['subset'] = 'test'\n",
    "# \n",
    "# df_val = pd.concat([df_true_val, df_false_val])\n",
    "# df_val['subset'] = 'val'\n",
    "# \n",
    "# df_train = pd.concat([df_true_train_and_val[df_true_val_len:], df_false_train_and_val[df_false_val_len:]])\n",
    "# \n",
    "# if oversample_with_SMOTE:\n",
    "#     df_train_X = df_train.drop(columns=['cik', 'label', 'subset', 'ticker', 'Fiscal Period'])\n",
    "#     y = df_train['label'].values\n",
    "#     smote = SMOTE(random_state=42, sampling_strategy=sampling_strategy)\n",
    "#     X_resampled, y_resampled = smote.fit_resample(df_train_X, y)\n",
    "#     \n",
    "#     X_resampled_positive = X_resampled[y_resampled == True]\n",
    "#     X_original_positive = df_train_X[y == True]\n",
    "#     \n",
    "#     df1_set = set(X_resampled_positive.to_records(index=False).tolist())\n",
    "#     df2_set = set(X_original_positive.to_records(index=False).tolist())\n",
    "#     \n",
    "#     X_resampled_positive_generated = pd.DataFrame.from_records(list(df1_set.difference(df2_set)))\n",
    "#     X_resampled_positive_generated.columns = df_train_X.columns\n",
    "#     \n",
    "#     for col in X_resampled_positive_generated.columns:\n",
    "#         X_resampled_positive_generated[col] = X_resampled_positive_generated[col].astype(int)\n",
    "#         X_resampled_positive_generated[col] = X_resampled_positive_generated[col].astype(np.float64)\n",
    "#         \n",
    "#     if match_with_synthetic_textual_data:\n",
    "#         synthetic_ciks = synthetic_textual_data['cik'].values\n",
    "#         X_resampled_positive_generated['cik'] = synthetic_ciks\n",
    "#     else:  \n",
    "#         X_resampled_positive_generated['cik'] = 'synthetic'\n",
    "#         \n",
    "#     X_resampled_positive_generated['ticker'] = ''\n",
    "#     X_resampled_positive_generated['label'] = True\n",
    "#     X_resampled_positive_generated['Fiscal Period'] = ''\n",
    "#     X_resampled_positive_generated['subset'] = 'train'\n",
    "#     \n",
    "#     X_resampled_positive_generated = X_resampled_positive_generated[['cik', 'ticker', 'label', 'subset', 'Fiscal Period'] + df_train_X.columns.tolist()]\n",
    "#     # X_resampled_positive_generated.to_csv(f'synthetic_financial_positive_data_version_2-{str(datetime.datetime.now())[:10]}.csv', index=False)\n",
    "#     \n",
    "#     df_train = pd.concat([df_train, X_resampled_positive_generated])\n",
    "# \n",
    "# print(len(df_train), len(df_val), len(df_test))\n",
    "# \n",
    "# full_df = pd.concat([df_train, df_val, df_test])\n",
    "# if shuffle:\n",
    "#     full_df = full_df.sample(frac=1, random_state=shuffle_seed).reset_index(drop=True)\n",
    "#     \n",
    "# full_df_deflatten = deflatten_financial_dataset(full_df)\n",
    "# \n",
    "# full_df_deflatten.to_csv(f'bankrupt_companies_with_17variables_5years_split_version5_{str(datetime.datetime.now())[:10]}.csv', index=False)\n",
    "# full_df_deflatten = deflatten_financial_dataset(full_df)\n",
    "# print(len(df_train), len(df_val), len(df_test))"
   ],
   "id": "c889a7201e0cfef1",
   "outputs": [
    {
     "name": "stdout",
     "output_type": "stream",
     "text": [
      "Sampling strategy: 0.9513\n",
      "5760 363 1091\n",
      "5760 363 1091\n"
     ]
    }
   ],
   "execution_count": 25
  },
  {
   "metadata": {
    "ExecuteTime": {
     "end_time": "2024-09-18T12:08:41.386889Z",
     "start_time": "2024-09-18T12:08:38.916603Z"
    }
   },
   "cell_type": "code",
   "source": [
    "full_df = split_dataset(\n",
    "    bankrupt_companies_with_17_variables_5_years,\n",
    "    test_subset_samples_ratio=0.15,\n",
    "    val_subset_samples_ratio=0.05,\n",
    "    oversample_with_SMOTE=True,\n",
    "    match_with_synthetic_textual_data=True,\n",
    "    shuffle=True,\n",
    "    shuffle_seed=42)\n",
    "\n",
    "full_df.head()"
   ],
   "id": "13748702088fbc6d",
   "outputs": [
    {
     "name": "stdout",
     "output_type": "stream",
     "text": [
      "Sampling strategy: 0.9513\n",
      "5760 363 1091\n"
     ]
    },
    {
     "data": {
      "text/plain": [
       "      cik ticker  label subset Fiscal Period  Cost of Goods Sold  \\\n",
       "0  737874     LI  False  train      Aug 2002               479.0   \n",
       "1  737874     LI  False  train      Aug 2003               479.0   \n",
       "2  737874     LI  False  train      Aug 2004               483.0   \n",
       "3  737874     LI  False  train      Aug 2005               579.0   \n",
       "4  737874     LI  False  train      Aug 2006               582.0   \n",
       "\n",
       "   Depreciation, Depletion and Amortization    EBIT  EBITDA  Gross Profit  \\\n",
       "0                                     281.0  1028.0  1310.0        4004.0   \n",
       "1                                     281.0  1028.0  1310.0        4004.0   \n",
       "2                                     284.0   224.0   507.0        4149.0   \n",
       "3                                     249.0    63.0   312.0        2447.0   \n",
       "4                                     216.0   261.0   477.0        2550.0   \n",
       "\n",
       "   ...  Net Income  Retained Earnings  Revenue  Total Assets  \\\n",
       "0  ...     -1223.0              -10.0   4483.0        3853.0   \n",
       "1  ...     -1223.0              -10.0   4483.0        3853.0   \n",
       "2  ...        62.0               52.0   4631.0        3905.0   \n",
       "3  ...       212.0              249.0   3027.0        2909.0   \n",
       "4  ...       125.0              315.0   3132.0        3039.0   \n",
       "\n",
       "   Total Current Assets  Total Current Liabilities  Total Inventories  \\\n",
       "0                 948.0                      695.0               50.0   \n",
       "1                 948.0                      695.0               50.0   \n",
       "2                1032.0                      687.0               51.0   \n",
       "3                 606.0                      448.0               33.0   \n",
       "4                 741.0                      531.0               41.0   \n",
       "\n",
       "   Total Liabilities  Total Operating Expense  Total Receivables  \n",
       "0             2562.0                   3829.0              570.0  \n",
       "1             2562.0                   3829.0              570.0  \n",
       "2             2529.0                   3928.0              588.0  \n",
       "3             1309.0                   2282.0              203.0  \n",
       "4             1831.0                   2299.0              211.0  \n",
       "\n",
       "[5 rows x 22 columns]"
      ],
      "text/html": [
       "<div>\n",
       "<style scoped>\n",
       "    .dataframe tbody tr th:only-of-type {\n",
       "        vertical-align: middle;\n",
       "    }\n",
       "\n",
       "    .dataframe tbody tr th {\n",
       "        vertical-align: top;\n",
       "    }\n",
       "\n",
       "    .dataframe thead th {\n",
       "        text-align: right;\n",
       "    }\n",
       "</style>\n",
       "<table border=\"1\" class=\"dataframe\">\n",
       "  <thead>\n",
       "    <tr style=\"text-align: right;\">\n",
       "      <th></th>\n",
       "      <th>cik</th>\n",
       "      <th>ticker</th>\n",
       "      <th>label</th>\n",
       "      <th>subset</th>\n",
       "      <th>Fiscal Period</th>\n",
       "      <th>Cost of Goods Sold</th>\n",
       "      <th>Depreciation, Depletion and Amortization</th>\n",
       "      <th>EBIT</th>\n",
       "      <th>EBITDA</th>\n",
       "      <th>Gross Profit</th>\n",
       "      <th>...</th>\n",
       "      <th>Net Income</th>\n",
       "      <th>Retained Earnings</th>\n",
       "      <th>Revenue</th>\n",
       "      <th>Total Assets</th>\n",
       "      <th>Total Current Assets</th>\n",
       "      <th>Total Current Liabilities</th>\n",
       "      <th>Total Inventories</th>\n",
       "      <th>Total Liabilities</th>\n",
       "      <th>Total Operating Expense</th>\n",
       "      <th>Total Receivables</th>\n",
       "    </tr>\n",
       "  </thead>\n",
       "  <tbody>\n",
       "    <tr>\n",
       "      <th>0</th>\n",
       "      <td>737874</td>\n",
       "      <td>LI</td>\n",
       "      <td>False</td>\n",
       "      <td>train</td>\n",
       "      <td>Aug 2002</td>\n",
       "      <td>479.0</td>\n",
       "      <td>281.0</td>\n",
       "      <td>1028.0</td>\n",
       "      <td>1310.0</td>\n",
       "      <td>4004.0</td>\n",
       "      <td>...</td>\n",
       "      <td>-1223.0</td>\n",
       "      <td>-10.0</td>\n",
       "      <td>4483.0</td>\n",
       "      <td>3853.0</td>\n",
       "      <td>948.0</td>\n",
       "      <td>695.0</td>\n",
       "      <td>50.0</td>\n",
       "      <td>2562.0</td>\n",
       "      <td>3829.0</td>\n",
       "      <td>570.0</td>\n",
       "    </tr>\n",
       "    <tr>\n",
       "      <th>1</th>\n",
       "      <td>737874</td>\n",
       "      <td>LI</td>\n",
       "      <td>False</td>\n",
       "      <td>train</td>\n",
       "      <td>Aug 2003</td>\n",
       "      <td>479.0</td>\n",
       "      <td>281.0</td>\n",
       "      <td>1028.0</td>\n",
       "      <td>1310.0</td>\n",
       "      <td>4004.0</td>\n",
       "      <td>...</td>\n",
       "      <td>-1223.0</td>\n",
       "      <td>-10.0</td>\n",
       "      <td>4483.0</td>\n",
       "      <td>3853.0</td>\n",
       "      <td>948.0</td>\n",
       "      <td>695.0</td>\n",
       "      <td>50.0</td>\n",
       "      <td>2562.0</td>\n",
       "      <td>3829.0</td>\n",
       "      <td>570.0</td>\n",
       "    </tr>\n",
       "    <tr>\n",
       "      <th>2</th>\n",
       "      <td>737874</td>\n",
       "      <td>LI</td>\n",
       "      <td>False</td>\n",
       "      <td>train</td>\n",
       "      <td>Aug 2004</td>\n",
       "      <td>483.0</td>\n",
       "      <td>284.0</td>\n",
       "      <td>224.0</td>\n",
       "      <td>507.0</td>\n",
       "      <td>4149.0</td>\n",
       "      <td>...</td>\n",
       "      <td>62.0</td>\n",
       "      <td>52.0</td>\n",
       "      <td>4631.0</td>\n",
       "      <td>3905.0</td>\n",
       "      <td>1032.0</td>\n",
       "      <td>687.0</td>\n",
       "      <td>51.0</td>\n",
       "      <td>2529.0</td>\n",
       "      <td>3928.0</td>\n",
       "      <td>588.0</td>\n",
       "    </tr>\n",
       "    <tr>\n",
       "      <th>3</th>\n",
       "      <td>737874</td>\n",
       "      <td>LI</td>\n",
       "      <td>False</td>\n",
       "      <td>train</td>\n",
       "      <td>Aug 2005</td>\n",
       "      <td>579.0</td>\n",
       "      <td>249.0</td>\n",
       "      <td>63.0</td>\n",
       "      <td>312.0</td>\n",
       "      <td>2447.0</td>\n",
       "      <td>...</td>\n",
       "      <td>212.0</td>\n",
       "      <td>249.0</td>\n",
       "      <td>3027.0</td>\n",
       "      <td>2909.0</td>\n",
       "      <td>606.0</td>\n",
       "      <td>448.0</td>\n",
       "      <td>33.0</td>\n",
       "      <td>1309.0</td>\n",
       "      <td>2282.0</td>\n",
       "      <td>203.0</td>\n",
       "    </tr>\n",
       "    <tr>\n",
       "      <th>4</th>\n",
       "      <td>737874</td>\n",
       "      <td>LI</td>\n",
       "      <td>False</td>\n",
       "      <td>train</td>\n",
       "      <td>Aug 2006</td>\n",
       "      <td>582.0</td>\n",
       "      <td>216.0</td>\n",
       "      <td>261.0</td>\n",
       "      <td>477.0</td>\n",
       "      <td>2550.0</td>\n",
       "      <td>...</td>\n",
       "      <td>125.0</td>\n",
       "      <td>315.0</td>\n",
       "      <td>3132.0</td>\n",
       "      <td>3039.0</td>\n",
       "      <td>741.0</td>\n",
       "      <td>531.0</td>\n",
       "      <td>41.0</td>\n",
       "      <td>1831.0</td>\n",
       "      <td>2299.0</td>\n",
       "      <td>211.0</td>\n",
       "    </tr>\n",
       "  </tbody>\n",
       "</table>\n",
       "<p>5 rows × 22 columns</p>\n",
       "</div>"
      ]
     },
     "execution_count": 29,
     "metadata": {},
     "output_type": "execute_result"
    }
   ],
   "execution_count": 29
  },
  {
   "metadata": {
    "ExecuteTime": {
     "end_time": "2024-09-18T12:09:21.815573Z",
     "start_time": "2024-09-18T12:09:21.797016Z"
    }
   },
   "cell_type": "code",
   "source": "full_df['subset'].value_counts(normalize=True)",
   "id": "c262d2200db3eaae",
   "outputs": [
    {
     "data": {
      "text/plain": [
       "subset\n",
       "train    0.798447\n",
       "test     0.151234\n",
       "val      0.050319\n",
       "Name: proportion, dtype: float64"
      ]
     },
     "execution_count": 32,
     "metadata": {},
     "output_type": "execute_result"
    }
   ],
   "execution_count": 32
  },
  {
   "metadata": {
    "ExecuteTime": {
     "end_time": "2024-09-18T12:11:05.442408Z",
     "start_time": "2024-09-18T12:11:05.373759Z"
    }
   },
   "cell_type": "code",
   "source": [
    "df_bankrupt_companies_complete_split = pd.read_csv('bankrupt_companies_with_17variables_5years_split_version5_2024-09-18.csv')\n",
    "len(df_bankrupt_companies_complete_split)/5, len(df_bankrupt_companies_complete_split['cik'].unique())"
   ],
   "id": "69709cb18d71a615",
   "outputs": [
    {
     "data": {
      "text/plain": [
       "(7214.0, 7214)"
      ]
     },
     "execution_count": 33,
     "metadata": {},
     "output_type": "execute_result"
    }
   ],
   "execution_count": 33
  },
  {
   "metadata": {
    "ExecuteTime": {
     "end_time": "2024-09-18T12:11:08.002433Z",
     "start_time": "2024-09-18T12:11:07.990310Z"
    }
   },
   "cell_type": "code",
   "source": "full_df['label'].value_counts()",
   "id": "b8dd8ffd578dc003",
   "outputs": [
    {
     "data": {
      "text/plain": [
       "label\n",
       "False    21960\n",
       "True     14110\n",
       "Name: count, dtype: int64"
      ]
     },
     "execution_count": 34,
     "metadata": {},
     "output_type": "execute_result"
    }
   ],
   "execution_count": 34
  },
  {
   "metadata": {
    "ExecuteTime": {
     "end_time": "2024-09-18T12:11:11.042178Z",
     "start_time": "2024-09-18T12:11:11.023498Z"
    }
   },
   "cell_type": "code",
   "source": "full_df['subset'].value_counts(normalize=True)",
   "id": "b0c836a6bcfa699",
   "outputs": [
    {
     "data": {
      "text/plain": [
       "subset\n",
       "train    0.798447\n",
       "test     0.151234\n",
       "val      0.050319\n",
       "Name: proportion, dtype: float64"
      ]
     },
     "execution_count": 35,
     "metadata": {},
     "output_type": "execute_result"
    }
   ],
   "execution_count": 35
  },
  {
   "metadata": {
    "ExecuteTime": {
     "end_time": "2024-09-18T12:11:15.955047Z",
     "start_time": "2024-09-18T12:11:15.939717Z"
    }
   },
   "cell_type": "code",
   "source": [
    "full_df_grouped = full_df.groupby('cik').agg({'label': 'first', 'subset': 'first', 'ticker': 'first'})\n",
    "full_df_grouped['label'].value_counts()"
   ],
   "id": "b9906db6c7acd592",
   "outputs": [
    {
     "data": {
      "text/plain": [
       "label\n",
       "False    4392\n",
       "True     2822\n",
       "Name: count, dtype: int64"
      ]
     },
     "execution_count": 36,
     "metadata": {},
     "output_type": "execute_result"
    }
   ],
   "execution_count": 36
  },
  {
   "metadata": {},
   "cell_type": "markdown",
   "source": "Getting number of objects with 'true' label in each subset",
   "id": "f7c73457de889d63"
  },
  {
   "metadata": {
    "ExecuteTime": {
     "end_time": "2024-09-18T12:12:27.463864Z",
     "start_time": "2024-09-18T12:12:27.451954Z"
    }
   },
   "cell_type": "code",
   "source": "df_bankrupt_companies_complete_split[(df_bankrupt_companies_complete_split['label'] == True) & ~(df_bankrupt_companies_complete_split['ticker'].isna())]['subset'].value_counts()",
   "id": "e7765fe8d2f134b3",
   "outputs": [
    {
     "data": {
      "text/plain": [
       "subset\n",
       "train    300\n",
       "test      55\n",
       "val       15\n",
       "Name: count, dtype: int64"
      ]
     },
     "execution_count": 38,
     "metadata": {},
     "output_type": "execute_result"
    }
   ],
   "execution_count": 38
  },
  {
   "metadata": {},
   "cell_type": "markdown",
   "source": "### Getting textual data for companies",
   "id": "9c909f753d23a870"
  },
  {
   "metadata": {
    "ExecuteTime": {
     "end_time": "2024-09-18T12:12:39.211547Z",
     "start_time": "2024-09-18T12:12:39.201371Z"
    }
   },
   "cell_type": "code",
   "source": [
    "unique_ciks_for_orig_companies = df_bankrupt_companies_complete_split[~df_bankrupt_companies_complete_split['ticker'].isna()]['cik'].unique()\n",
    "len(unique_ciks_for_orig_companies)"
   ],
   "id": "8880c115617c7051",
   "outputs": [
    {
     "data": {
      "text/plain": [
       "4466"
      ]
     },
     "execution_count": 39,
     "metadata": {},
     "output_type": "execute_result"
    }
   ],
   "execution_count": 39
  },
  {
   "metadata": {
    "ExecuteTime": {
     "end_time": "2024-09-18T12:12:41.833286Z",
     "start_time": "2024-09-18T12:12:41.817973Z"
    }
   },
   "cell_type": "code",
   "source": "summarized_mda_sections_for_eligible_companies_in_range_directory = 'summarized_mda_sections_for_eligible_companies_in_range'",
   "id": "227a30540b66be92",
   "outputs": [],
   "execution_count": 40
  },
  {
   "metadata": {
    "ExecuteTime": {
     "end_time": "2024-09-18T12:12:44.365080Z",
     "start_time": "2024-09-18T12:12:44.351015Z"
    }
   },
   "cell_type": "code",
   "source": [
    "filenames = os.listdir(summarized_mda_sections_for_eligible_companies_in_range_directory)\n",
    "\n",
    "textual_data_ciks = []\n",
    "\n",
    "for filename in tqdm(filenames):\n",
    "    cik = int(filename.split('-')[0])\n",
    "    textual_data_ciks.append(cik)"
   ],
   "id": "f0d3d4864014e1d8",
   "outputs": [
    {
     "name": "stderr",
     "output_type": "stream",
     "text": [
      "100%|██████████| 4947/4947 [00:00<?, ?it/s]\n"
     ]
    }
   ],
   "execution_count": 41
  },
  {
   "metadata": {
    "ExecuteTime": {
     "end_time": "2024-09-18T12:12:47.218322Z",
     "start_time": "2024-09-18T12:12:46.984116Z"
    }
   },
   "cell_type": "code",
   "source": [
    "not_present_ciks = []\n",
    "\n",
    "for cik in unique_ciks_for_orig_companies:\n",
    "    if cik not in textual_data_ciks:\n",
    "        not_present_ciks.append(cik)\n",
    "len(not_present_ciks)"
   ],
   "id": "615ebeeb954049d8",
   "outputs": [
    {
     "data": {
      "text/plain": [
       "0"
      ]
     },
     "execution_count": 42,
     "metadata": {},
     "output_type": "execute_result"
    }
   ],
   "execution_count": 42
  },
  {
   "metadata": {
    "ExecuteTime": {
     "end_time": "2024-09-18T12:12:51.040744Z",
     "start_time": "2024-09-18T12:12:51.017406Z"
    }
   },
   "cell_type": "code",
   "source": [
    "df_bankrupt_companies_complete = df_bankrupt_companies_complete_split[~df_bankrupt_companies_complete_split['cik'].isin(not_present_ciks)]\n",
    "len(df_bankrupt_companies_complete)/5"
   ],
   "id": "7b63ee7b4885ee27",
   "outputs": [
    {
     "data": {
      "text/plain": [
       "7214.0"
      ]
     },
     "execution_count": 43,
     "metadata": {},
     "output_type": "execute_result"
    }
   ],
   "execution_count": 43
  },
  {
   "metadata": {
    "ExecuteTime": {
     "end_time": "2024-09-18T12:12:59.864955Z",
     "start_time": "2024-09-18T12:12:59.616621Z"
    }
   },
   "cell_type": "code",
   "source": "df_bankrupt_companies_complete.to_csv('bankrupt_companies_with_17variables_5years_split_version5_complete.csv', index=False)",
   "id": "b06c72d360b9ed2",
   "outputs": [],
   "execution_count": 44
  },
  {
   "metadata": {},
   "cell_type": "markdown",
   "source": "### Version for original dataset",
   "id": "9e4a6ee6286c75f7"
  },
  {
   "metadata": {
    "ExecuteTime": {
     "end_time": "2024-09-19T12:14:43.385322Z",
     "start_time": "2024-09-19T12:14:43.313464Z"
    }
   },
   "cell_type": "code",
   "source": [
    "# this is valid - good file without duplicates, but with missing values\n",
    "bankrupt_companies_with_17_variables_5_years = pd.read_csv('bankrupt_companies_with_17variables_5years_split_version5_complete.csv')\n",
    "bankrupt_companies_with_17_variables_5_years = bankrupt_companies_with_17_variables_5_years.drop('subset', axis=1)\n",
    "# remove rows that have empty ticker\n",
    "bankrupt_companies_with_17_variables_5_years_original = bankrupt_companies_with_17_variables_5_years[~bankrupt_companies_with_17_variables_5_years['ticker'].isna()]\n",
    "len(bankrupt_companies_with_17_variables_5_years_original)/5, len(bankrupt_companies_with_17_variables_5_years_original['cik'].unique())"
   ],
   "id": "82ffd30ccd2e92a2",
   "outputs": [
    {
     "data": {
      "text/plain": [
       "(4466.0, 4466)"
      ]
     },
     "execution_count": 20,
     "metadata": {},
     "output_type": "execute_result"
    }
   ],
   "execution_count": 20
  },
  {
   "metadata": {
    "ExecuteTime": {
     "end_time": "2024-09-19T12:14:43.966426Z",
     "start_time": "2024-09-19T12:14:43.946817Z"
    }
   },
   "cell_type": "code",
   "source": [
    "bankrupt_companies_with_17_variables_5_years_original.fillna(method='bfill', inplace=True)\n",
    "bankrupt_companies_with_17_variables_5_years_original.fillna(method='ffill', inplace=True)\n",
    "bankrupt_companies_with_17_variables_5_years_original.fillna(0, inplace=True)\n",
    "\n",
    "bankrupt_companies_with_17_variables_5_years_original.isnull().sum().sum()"
   ],
   "id": "2b6d19924b14007",
   "outputs": [
    {
     "name": "stderr",
     "output_type": "stream",
     "text": [
      "C:\\Users\\grzeg\\AppData\\Local\\Temp\\ipykernel_6724\\1335980064.py:1: SettingWithCopyWarning: \n",
      "A value is trying to be set on a copy of a slice from a DataFrame\n",
      "\n",
      "See the caveats in the documentation: https://pandas.pydata.org/pandas-docs/stable/user_guide/indexing.html#returning-a-view-versus-a-copy\n",
      "  bankrupt_companies_with_17_variables_5_years_original.fillna(method='bfill', inplace=True)\n",
      "C:\\Users\\grzeg\\AppData\\Local\\Temp\\ipykernel_6724\\1335980064.py:2: SettingWithCopyWarning: \n",
      "A value is trying to be set on a copy of a slice from a DataFrame\n",
      "\n",
      "See the caveats in the documentation: https://pandas.pydata.org/pandas-docs/stable/user_guide/indexing.html#returning-a-view-versus-a-copy\n",
      "  bankrupt_companies_with_17_variables_5_years_original.fillna(method='ffill', inplace=True)\n",
      "C:\\Users\\grzeg\\AppData\\Local\\Temp\\ipykernel_6724\\1335980064.py:3: SettingWithCopyWarning: \n",
      "A value is trying to be set on a copy of a slice from a DataFrame\n",
      "\n",
      "See the caveats in the documentation: https://pandas.pydata.org/pandas-docs/stable/user_guide/indexing.html#returning-a-view-versus-a-copy\n",
      "  bankrupt_companies_with_17_variables_5_years_original.fillna(0, inplace=True)\n"
     ]
    },
    {
     "data": {
      "text/plain": [
       "0"
      ]
     },
     "execution_count": 21,
     "metadata": {},
     "output_type": "execute_result"
    }
   ],
   "execution_count": 21
  },
  {
   "metadata": {
    "ExecuteTime": {
     "end_time": "2024-09-19T12:14:49.191605Z",
     "start_time": "2024-09-19T12:14:46.580006Z"
    }
   },
   "cell_type": "code",
   "source": [
    "full_df_original = split_dataset(\n",
    "    bankrupt_companies_with_17_variables_5_years_original,\n",
    "    test_subset_samples_ratio=0.15,\n",
    "    val_subset_samples_ratio=0.05,\n",
    "    oversample_with_SMOTE=False,\n",
    "    match_with_synthetic_textual_data=False,\n",
    "    shuffle=True,\n",
    "    shuffle_seed=42)\n",
    "\n",
    "full_df_original.head()"
   ],
   "id": "908f539634e908af",
   "outputs": [
    {
     "name": "stdout",
     "output_type": "stream",
     "text": [
      "3563 225 678\n"
     ]
    },
    {
     "data": {
      "text/plain": [
       "      cik ticker  label subset Fiscal Period  Cost of Goods Sold  \\\n",
       "0  103096    TRR  False  train      Jun 2012               246.5   \n",
       "1  103096    TRR  False  train      Jun 2013               268.5   \n",
       "2  103096    TRR  False  train      Jun 2014               312.1   \n",
       "3  103096    TRR  False  train      Jun 2015               337.3   \n",
       "4  103096    TRR  False  train      Jun 2016               402.3   \n",
       "\n",
       "   Depreciation, Depletion and Amortization  EBIT  EBITDA  Gross Profit  ...  \\\n",
       "0                                       5.5  30.0    35.5          56.2  ...   \n",
       "1                                       6.9  18.6    25.5          56.6  ...   \n",
       "2                                       8.8  20.9    29.7          60.8  ...   \n",
       "3                                       9.3  30.7    40.0          77.4  ...   \n",
       "4                                      14.7   2.2    16.9          79.0  ...   \n",
       "\n",
       "   Net Income  Retained Earnings  Revenue  Total Assets  Total Current Assets  \\\n",
       "0        33.6             -113.7    302.7         275.1                 154.0   \n",
       "1        36.3              -77.4    325.2         307.8                 185.3   \n",
       "2        12.1              -65.4    372.9         335.6                 221.0   \n",
       "3        19.4              -45.9    414.6         362.9                 234.3   \n",
       "4         0.0              -45.9    481.3         478.5                 248.2   \n",
       "\n",
       "   Total Current Liabilities  Total Inventories  Total Liabilities  \\\n",
       "0                      117.6               77.1              207.3   \n",
       "1                      123.7               77.1              201.2   \n",
       "2                      132.2               77.1              211.1   \n",
       "3                      144.2               77.1              215.4   \n",
       "4                      178.4               77.1              325.1   \n",
       "\n",
       "   Total Operating Expense  Total Receivables  \n",
       "0                     26.2               96.2  \n",
       "1                     38.0              110.8  \n",
       "2                     39.9              160.0  \n",
       "3                     46.6              179.7  \n",
       "4                     77.7              199.3  \n",
       "\n",
       "[5 rows x 22 columns]"
      ],
      "text/html": [
       "<div>\n",
       "<style scoped>\n",
       "    .dataframe tbody tr th:only-of-type {\n",
       "        vertical-align: middle;\n",
       "    }\n",
       "\n",
       "    .dataframe tbody tr th {\n",
       "        vertical-align: top;\n",
       "    }\n",
       "\n",
       "    .dataframe thead th {\n",
       "        text-align: right;\n",
       "    }\n",
       "</style>\n",
       "<table border=\"1\" class=\"dataframe\">\n",
       "  <thead>\n",
       "    <tr style=\"text-align: right;\">\n",
       "      <th></th>\n",
       "      <th>cik</th>\n",
       "      <th>ticker</th>\n",
       "      <th>label</th>\n",
       "      <th>subset</th>\n",
       "      <th>Fiscal Period</th>\n",
       "      <th>Cost of Goods Sold</th>\n",
       "      <th>Depreciation, Depletion and Amortization</th>\n",
       "      <th>EBIT</th>\n",
       "      <th>EBITDA</th>\n",
       "      <th>Gross Profit</th>\n",
       "      <th>...</th>\n",
       "      <th>Net Income</th>\n",
       "      <th>Retained Earnings</th>\n",
       "      <th>Revenue</th>\n",
       "      <th>Total Assets</th>\n",
       "      <th>Total Current Assets</th>\n",
       "      <th>Total Current Liabilities</th>\n",
       "      <th>Total Inventories</th>\n",
       "      <th>Total Liabilities</th>\n",
       "      <th>Total Operating Expense</th>\n",
       "      <th>Total Receivables</th>\n",
       "    </tr>\n",
       "  </thead>\n",
       "  <tbody>\n",
       "    <tr>\n",
       "      <th>0</th>\n",
       "      <td>103096</td>\n",
       "      <td>TRR</td>\n",
       "      <td>False</td>\n",
       "      <td>train</td>\n",
       "      <td>Jun 2012</td>\n",
       "      <td>246.5</td>\n",
       "      <td>5.5</td>\n",
       "      <td>30.0</td>\n",
       "      <td>35.5</td>\n",
       "      <td>56.2</td>\n",
       "      <td>...</td>\n",
       "      <td>33.6</td>\n",
       "      <td>-113.7</td>\n",
       "      <td>302.7</td>\n",
       "      <td>275.1</td>\n",
       "      <td>154.0</td>\n",
       "      <td>117.6</td>\n",
       "      <td>77.1</td>\n",
       "      <td>207.3</td>\n",
       "      <td>26.2</td>\n",
       "      <td>96.2</td>\n",
       "    </tr>\n",
       "    <tr>\n",
       "      <th>1</th>\n",
       "      <td>103096</td>\n",
       "      <td>TRR</td>\n",
       "      <td>False</td>\n",
       "      <td>train</td>\n",
       "      <td>Jun 2013</td>\n",
       "      <td>268.5</td>\n",
       "      <td>6.9</td>\n",
       "      <td>18.6</td>\n",
       "      <td>25.5</td>\n",
       "      <td>56.6</td>\n",
       "      <td>...</td>\n",
       "      <td>36.3</td>\n",
       "      <td>-77.4</td>\n",
       "      <td>325.2</td>\n",
       "      <td>307.8</td>\n",
       "      <td>185.3</td>\n",
       "      <td>123.7</td>\n",
       "      <td>77.1</td>\n",
       "      <td>201.2</td>\n",
       "      <td>38.0</td>\n",
       "      <td>110.8</td>\n",
       "    </tr>\n",
       "    <tr>\n",
       "      <th>2</th>\n",
       "      <td>103096</td>\n",
       "      <td>TRR</td>\n",
       "      <td>False</td>\n",
       "      <td>train</td>\n",
       "      <td>Jun 2014</td>\n",
       "      <td>312.1</td>\n",
       "      <td>8.8</td>\n",
       "      <td>20.9</td>\n",
       "      <td>29.7</td>\n",
       "      <td>60.8</td>\n",
       "      <td>...</td>\n",
       "      <td>12.1</td>\n",
       "      <td>-65.4</td>\n",
       "      <td>372.9</td>\n",
       "      <td>335.6</td>\n",
       "      <td>221.0</td>\n",
       "      <td>132.2</td>\n",
       "      <td>77.1</td>\n",
       "      <td>211.1</td>\n",
       "      <td>39.9</td>\n",
       "      <td>160.0</td>\n",
       "    </tr>\n",
       "    <tr>\n",
       "      <th>3</th>\n",
       "      <td>103096</td>\n",
       "      <td>TRR</td>\n",
       "      <td>False</td>\n",
       "      <td>train</td>\n",
       "      <td>Jun 2015</td>\n",
       "      <td>337.3</td>\n",
       "      <td>9.3</td>\n",
       "      <td>30.7</td>\n",
       "      <td>40.0</td>\n",
       "      <td>77.4</td>\n",
       "      <td>...</td>\n",
       "      <td>19.4</td>\n",
       "      <td>-45.9</td>\n",
       "      <td>414.6</td>\n",
       "      <td>362.9</td>\n",
       "      <td>234.3</td>\n",
       "      <td>144.2</td>\n",
       "      <td>77.1</td>\n",
       "      <td>215.4</td>\n",
       "      <td>46.6</td>\n",
       "      <td>179.7</td>\n",
       "    </tr>\n",
       "    <tr>\n",
       "      <th>4</th>\n",
       "      <td>103096</td>\n",
       "      <td>TRR</td>\n",
       "      <td>False</td>\n",
       "      <td>train</td>\n",
       "      <td>Jun 2016</td>\n",
       "      <td>402.3</td>\n",
       "      <td>14.7</td>\n",
       "      <td>2.2</td>\n",
       "      <td>16.9</td>\n",
       "      <td>79.0</td>\n",
       "      <td>...</td>\n",
       "      <td>0.0</td>\n",
       "      <td>-45.9</td>\n",
       "      <td>481.3</td>\n",
       "      <td>478.5</td>\n",
       "      <td>248.2</td>\n",
       "      <td>178.4</td>\n",
       "      <td>77.1</td>\n",
       "      <td>325.1</td>\n",
       "      <td>77.7</td>\n",
       "      <td>199.3</td>\n",
       "    </tr>\n",
       "  </tbody>\n",
       "</table>\n",
       "<p>5 rows × 22 columns</p>\n",
       "</div>"
      ]
     },
     "execution_count": 22,
     "metadata": {},
     "output_type": "execute_result"
    }
   ],
   "execution_count": 22
  },
  {
   "metadata": {
    "ExecuteTime": {
     "end_time": "2024-09-19T12:14:49.223274Z",
     "start_time": "2024-09-19T12:14:49.216769Z"
    }
   },
   "cell_type": "code",
   "source": "full_df_original['subset'].value_counts(normalize=True)",
   "id": "f97d521477bbd5c8",
   "outputs": [
    {
     "data": {
      "text/plain": [
       "subset\n",
       "train    0.797806\n",
       "test     0.151814\n",
       "val      0.050381\n",
       "Name: proportion, dtype: float64"
      ]
     },
     "execution_count": 23,
     "metadata": {},
     "output_type": "execute_result"
    }
   ],
   "execution_count": 23
  },
  {
   "metadata": {
    "ExecuteTime": {
     "end_time": "2024-09-19T12:16:01.395821Z",
     "start_time": "2024-09-19T12:16:01.375534Z"
    }
   },
   "cell_type": "code",
   "source": "full_df_original.drop_duplicates(subset=['cik'])['label'].value_counts(normalize=True)",
   "id": "d97d52b922b89b82",
   "outputs": [
    {
     "data": {
      "text/plain": [
       "label\n",
       "False    0.98343\n",
       "True     0.01657\n",
       "Name: proportion, dtype: float64"
      ]
     },
     "execution_count": 26,
     "metadata": {},
     "output_type": "execute_result"
    }
   ],
   "execution_count": 26
  },
  {
   "metadata": {
    "ExecuteTime": {
     "end_time": "2024-09-19T12:16:38.255337Z",
     "start_time": "2024-09-19T12:16:38.089578Z"
    }
   },
   "cell_type": "code",
   "source": "full_df_original.to_csv('bankrupt_companies_with_17variables_5years_split_version5_original.csv', index=False)",
   "id": "1d86f8614d6339b7",
   "outputs": [],
   "execution_count": 27
  },
  {
   "metadata": {},
   "cell_type": "markdown",
   "source": "### matching with textual data (already matched with synthetic textual data)",
   "id": "8c708b4f8bd526f1"
  },
  {
   "metadata": {
    "ExecuteTime": {
     "end_time": "2024-09-18T12:13:07.308611Z",
     "start_time": "2024-09-18T12:13:07.299652Z"
    }
   },
   "cell_type": "code",
   "source": [
    "unique_ciks_from_matched_data = df_bankrupt_companies_complete[~df_bankrupt_companies_complete['ticker'].isna()]['cik'].unique()\n",
    "len(unique_ciks_from_matched_data)"
   ],
   "id": "6b730c94e877d89a",
   "outputs": [
    {
     "data": {
      "text/plain": [
       "4466"
      ]
     },
     "execution_count": 45,
     "metadata": {},
     "output_type": "execute_result"
    }
   ],
   "execution_count": 45
  },
  {
   "metadata": {
    "ExecuteTime": {
     "end_time": "2024-09-18T12:13:17.898466Z",
     "start_time": "2024-09-18T12:13:17.882322Z"
    }
   },
   "cell_type": "code",
   "source": [
    "import re\n",
    "\n",
    "def clean_markdown(text):\n",
    "    markdown_chars = [\"*\", \"_\", \"#\", \"~\", \"`\", \">\", \"=\", \"[\", \"]\"]\n",
    "    text = re.sub(f\"[{re.escape(''.join(markdown_chars))}]\", \"\", text)\n",
    "    text = re.sub(r\"\\n\", \" \", text)\n",
    "    \n",
    "    return text\n",
    "\n",
    "import string\n",
    "def preprocess_text(text):\n",
    "    text = text.lower()\n",
    "    text = text.translate(str.maketrans('', '', string.digits))\n",
    "    return text"
   ],
   "id": "f01b79a62d1addb3",
   "outputs": [],
   "execution_count": 46
  },
  {
   "metadata": {
    "ExecuteTime": {
     "end_time": "2024-09-18T12:13:32.937688Z",
     "start_time": "2024-09-18T12:13:29.415463Z"
    }
   },
   "cell_type": "code",
   "source": [
    "textual_data = pd.DataFrame(columns=['cik', 'text'])\n",
    "\n",
    "for filename in os.listdir(summarized_mda_sections_for_eligible_companies_in_range_directory):\n",
    "    cik = int(filename.split('-')[0])\n",
    "    if cik not in unique_ciks_from_matched_data:\n",
    "        continue\n",
    "        \n",
    "    with open(f'{summarized_mda_sections_for_eligible_companies_in_range_directory}/{filename}', 'r') as file:\n",
    "        text = file.read()\n",
    "        \n",
    "        text = clean_markdown(text)\n",
    "        \n",
    "        textual_data = pd.concat([textual_data, pd.DataFrame([{'cik': cik, 'text': text}])], ignore_index=True)\n",
    "        \n",
    "textual_data.to_csv(f'textual_data_original_matched_with_fin_data_version2.csv', index=False)\n",
    "print(len(textual_data))\n",
    "textual_data.head()"
   ],
   "id": "5130334ea742aac8",
   "outputs": [
    {
     "name": "stdout",
     "output_type": "stream",
     "text": [
      "4466\n"
     ]
    },
    {
     "data": {
      "text/plain": [
       "       cik                                               text\n",
       "0  1000180  The company is a global leader in NAND flash s...\n",
       "1  1000209  The company is transitioning from medallion le...\n",
       "2  1000228  The company, Henry Schein, is the world's larg...\n",
       "3  1000235  Patriot Bank Corp. went public in 1995 and has...\n",
       "4  1000694  Novavax is a clinical-stage biotechnology comp..."
      ],
      "text/html": [
       "<div>\n",
       "<style scoped>\n",
       "    .dataframe tbody tr th:only-of-type {\n",
       "        vertical-align: middle;\n",
       "    }\n",
       "\n",
       "    .dataframe tbody tr th {\n",
       "        vertical-align: top;\n",
       "    }\n",
       "\n",
       "    .dataframe thead th {\n",
       "        text-align: right;\n",
       "    }\n",
       "</style>\n",
       "<table border=\"1\" class=\"dataframe\">\n",
       "  <thead>\n",
       "    <tr style=\"text-align: right;\">\n",
       "      <th></th>\n",
       "      <th>cik</th>\n",
       "      <th>text</th>\n",
       "    </tr>\n",
       "  </thead>\n",
       "  <tbody>\n",
       "    <tr>\n",
       "      <th>0</th>\n",
       "      <td>1000180</td>\n",
       "      <td>The company is a global leader in NAND flash s...</td>\n",
       "    </tr>\n",
       "    <tr>\n",
       "      <th>1</th>\n",
       "      <td>1000209</td>\n",
       "      <td>The company is transitioning from medallion le...</td>\n",
       "    </tr>\n",
       "    <tr>\n",
       "      <th>2</th>\n",
       "      <td>1000228</td>\n",
       "      <td>The company, Henry Schein, is the world's larg...</td>\n",
       "    </tr>\n",
       "    <tr>\n",
       "      <th>3</th>\n",
       "      <td>1000235</td>\n",
       "      <td>Patriot Bank Corp. went public in 1995 and has...</td>\n",
       "    </tr>\n",
       "    <tr>\n",
       "      <th>4</th>\n",
       "      <td>1000694</td>\n",
       "      <td>Novavax is a clinical-stage biotechnology comp...</td>\n",
       "    </tr>\n",
       "  </tbody>\n",
       "</table>\n",
       "</div>"
      ]
     },
     "execution_count": 47,
     "metadata": {},
     "output_type": "execute_result"
    }
   ],
   "execution_count": 47
  },
  {
   "metadata": {
    "ExecuteTime": {
     "end_time": "2024-09-19T12:47:45.932960Z",
     "start_time": "2024-09-19T12:47:45.772658Z"
    }
   },
   "cell_type": "code",
   "source": [
    "textual_data = pd.read_csv('textual_data_version6_complete.csv')\n",
    "textual_data_original = textual_data[~textual_data['ticker'].isna()]\n",
    "synthetic_textual_data = pd.read_csv('synthetic_textual_data.csv')\n",
    "len(synthetic_textual_data), len(textual_data_original)"
   ],
   "id": "cef14808c81a12cb",
   "outputs": [
    {
     "data": {
      "text/plain": [
       "(2748, 4466)"
      ]
     },
     "execution_count": 36,
     "metadata": {},
     "output_type": "execute_result"
    }
   ],
   "execution_count": 36
  },
  {
   "metadata": {
    "ExecuteTime": {
     "end_time": "2024-09-19T12:52:34.699386Z",
     "start_time": "2024-09-19T12:52:34.687808Z"
    }
   },
   "cell_type": "code",
   "source": [
    "# all_textual_data = pd.concat([textual_data, synthetic_textual_data])\n",
    "all_textual_data = textual_data_original\n",
    "all_textual_data.drop(columns=['label', 'subset'], inplace=True)\n",
    "# len(all_textual_data)\n",
    "all_textual_data.head()"
   ],
   "id": "efa35e60f647a98e",
   "outputs": [
    {
     "name": "stderr",
     "output_type": "stream",
     "text": [
      "C:\\Users\\grzeg\\AppData\\Local\\Temp\\ipykernel_6724\\1557381661.py:3: SettingWithCopyWarning: \n",
      "A value is trying to be set on a copy of a slice from a DataFrame\n",
      "\n",
      "See the caveats in the documentation: https://pandas.pydata.org/pandas-docs/stable/user_guide/indexing.html#returning-a-view-versus-a-copy\n",
      "  all_textual_data.drop(columns=['label', 'subset'], inplace=True)\n"
     ]
    },
    {
     "data": {
      "text/plain": [
       "       cik ticker report_datetime  \\\n",
       "0   737874     LI      2005-11-14   \n",
       "1  1464343   ATLC      2020-03-30   \n",
       "3  1022368    SHF      2001-08-29   \n",
       "4   815094   ABMD      2020-05-21   \n",
       "5  1159297    MWV      2014-02-24   \n",
       "\n",
       "                                                text  \n",
       "0  Laidlaw International Inc. is a leading provid...  \n",
       "1  The company utilizes proprietary analytics and...  \n",
       "3  The company experienced net income (loss) fluc...  \n",
       "4  The company is a leading provider of temporary...  \n",
       "5  MeadWestvaco reported a 2% increase in sales a...  "
      ],
      "text/html": [
       "<div>\n",
       "<style scoped>\n",
       "    .dataframe tbody tr th:only-of-type {\n",
       "        vertical-align: middle;\n",
       "    }\n",
       "\n",
       "    .dataframe tbody tr th {\n",
       "        vertical-align: top;\n",
       "    }\n",
       "\n",
       "    .dataframe thead th {\n",
       "        text-align: right;\n",
       "    }\n",
       "</style>\n",
       "<table border=\"1\" class=\"dataframe\">\n",
       "  <thead>\n",
       "    <tr style=\"text-align: right;\">\n",
       "      <th></th>\n",
       "      <th>cik</th>\n",
       "      <th>ticker</th>\n",
       "      <th>report_datetime</th>\n",
       "      <th>text</th>\n",
       "    </tr>\n",
       "  </thead>\n",
       "  <tbody>\n",
       "    <tr>\n",
       "      <th>0</th>\n",
       "      <td>737874</td>\n",
       "      <td>LI</td>\n",
       "      <td>2005-11-14</td>\n",
       "      <td>Laidlaw International Inc. is a leading provid...</td>\n",
       "    </tr>\n",
       "    <tr>\n",
       "      <th>1</th>\n",
       "      <td>1464343</td>\n",
       "      <td>ATLC</td>\n",
       "      <td>2020-03-30</td>\n",
       "      <td>The company utilizes proprietary analytics and...</td>\n",
       "    </tr>\n",
       "    <tr>\n",
       "      <th>3</th>\n",
       "      <td>1022368</td>\n",
       "      <td>SHF</td>\n",
       "      <td>2001-08-29</td>\n",
       "      <td>The company experienced net income (loss) fluc...</td>\n",
       "    </tr>\n",
       "    <tr>\n",
       "      <th>4</th>\n",
       "      <td>815094</td>\n",
       "      <td>ABMD</td>\n",
       "      <td>2020-05-21</td>\n",
       "      <td>The company is a leading provider of temporary...</td>\n",
       "    </tr>\n",
       "    <tr>\n",
       "      <th>5</th>\n",
       "      <td>1159297</td>\n",
       "      <td>MWV</td>\n",
       "      <td>2014-02-24</td>\n",
       "      <td>MeadWestvaco reported a 2% increase in sales a...</td>\n",
       "    </tr>\n",
       "  </tbody>\n",
       "</table>\n",
       "</div>"
      ]
     },
     "execution_count": 48,
     "metadata": {},
     "output_type": "execute_result"
    }
   ],
   "execution_count": 48
  },
  {
   "metadata": {
    "ExecuteTime": {
     "end_time": "2024-09-19T12:48:03.964796Z",
     "start_time": "2024-09-19T12:48:03.921513Z"
    }
   },
   "cell_type": "code",
   "source": [
    "df_bankrupt_companies_complete = pd.read_csv('bankrupt_companies_with_17variables_5years_split_version5_original.csv')\n",
    "df_bankrupt_companies_unique = df_bankrupt_companies_complete.drop_duplicates(subset=['cik'])\n",
    "len(df_bankrupt_companies_unique)"
   ],
   "id": "80f0b31491dd790b",
   "outputs": [
    {
     "data": {
      "text/plain": [
       "4466"
      ]
     },
     "execution_count": 38,
     "metadata": {},
     "output_type": "execute_result"
    }
   ],
   "execution_count": 38
  },
  {
   "metadata": {
    "ExecuteTime": {
     "end_time": "2024-09-19T12:52:52.980666Z",
     "start_time": "2024-09-19T12:52:52.970081Z"
    }
   },
   "cell_type": "code",
   "source": "df_bankrupt_companies_complete[~df_bankrupt_companies_complete['ticker'].isna()]['label'].value_counts()",
   "id": "d8411264bb287c2b",
   "outputs": [
    {
     "data": {
      "text/plain": [
       "label\n",
       "False    21960\n",
       "True       370\n",
       "Name: count, dtype: int64"
      ]
     },
     "execution_count": 49,
     "metadata": {},
     "output_type": "execute_result"
    }
   ],
   "execution_count": 49
  },
  {
   "metadata": {
    "ExecuteTime": {
     "end_time": "2024-09-19T12:52:54.018342Z",
     "start_time": "2024-09-19T12:52:54.003552Z"
    }
   },
   "cell_type": "code",
   "source": "(21960+370)/5",
   "id": "db2680a677d19f3f",
   "outputs": [
    {
     "data": {
      "text/plain": [
       "4466.0"
      ]
     },
     "execution_count": 50,
     "metadata": {},
     "output_type": "execute_result"
    }
   ],
   "execution_count": 50
  },
  {
   "metadata": {
    "ExecuteTime": {
     "end_time": "2024-09-19T12:52:55.556483Z",
     "start_time": "2024-09-19T12:52:55.536556Z"
    }
   },
   "cell_type": "code",
   "source": [
    "df_bankrupt_companies_unique = df_bankrupt_companies_unique[['cik', 'label', 'subset']]\n",
    "df_bankrupt_companies_unique.head()"
   ],
   "id": "5f33f8653157f80b",
   "outputs": [
    {
     "data": {
      "text/plain": [
       "        cik  label subset\n",
       "0    103096  False  train\n",
       "5    752642  False  train\n",
       "10   846930  False  train\n",
       "15   354190  False  train\n",
       "20  1135017  False  train"
      ],
      "text/html": [
       "<div>\n",
       "<style scoped>\n",
       "    .dataframe tbody tr th:only-of-type {\n",
       "        vertical-align: middle;\n",
       "    }\n",
       "\n",
       "    .dataframe tbody tr th {\n",
       "        vertical-align: top;\n",
       "    }\n",
       "\n",
       "    .dataframe thead th {\n",
       "        text-align: right;\n",
       "    }\n",
       "</style>\n",
       "<table border=\"1\" class=\"dataframe\">\n",
       "  <thead>\n",
       "    <tr style=\"text-align: right;\">\n",
       "      <th></th>\n",
       "      <th>cik</th>\n",
       "      <th>label</th>\n",
       "      <th>subset</th>\n",
       "    </tr>\n",
       "  </thead>\n",
       "  <tbody>\n",
       "    <tr>\n",
       "      <th>0</th>\n",
       "      <td>103096</td>\n",
       "      <td>False</td>\n",
       "      <td>train</td>\n",
       "    </tr>\n",
       "    <tr>\n",
       "      <th>5</th>\n",
       "      <td>752642</td>\n",
       "      <td>False</td>\n",
       "      <td>train</td>\n",
       "    </tr>\n",
       "    <tr>\n",
       "      <th>10</th>\n",
       "      <td>846930</td>\n",
       "      <td>False</td>\n",
       "      <td>train</td>\n",
       "    </tr>\n",
       "    <tr>\n",
       "      <th>15</th>\n",
       "      <td>354190</td>\n",
       "      <td>False</td>\n",
       "      <td>train</td>\n",
       "    </tr>\n",
       "    <tr>\n",
       "      <th>20</th>\n",
       "      <td>1135017</td>\n",
       "      <td>False</td>\n",
       "      <td>train</td>\n",
       "    </tr>\n",
       "  </tbody>\n",
       "</table>\n",
       "</div>"
      ]
     },
     "execution_count": 51,
     "metadata": {},
     "output_type": "execute_result"
    }
   ],
   "execution_count": 51
  },
  {
   "metadata": {
    "ExecuteTime": {
     "end_time": "2024-09-19T12:53:01.138551Z",
     "start_time": "2024-09-19T12:53:01.119709Z"
    }
   },
   "cell_type": "code",
   "source": [
    "# add to the textual data the labels and subsets\n",
    "all_textual_data_enriched = pd.merge(df_bankrupt_companies_unique, all_textual_data, on='cik')\n",
    "all_textual_data_enriched = all_textual_data_enriched[['cik', 'ticker', 'label', 'subset', 'report_datetime', 'text']]\n",
    "all_textual_data_enriched.head()"
   ],
   "id": "745a8c3198237384",
   "outputs": [
    {
     "data": {
      "text/plain": [
       "       cik ticker  label subset report_datetime  \\\n",
       "0   103096    TRR  False  train      2015-09-09   \n",
       "1   752642    UMH  False  train      2020-03-05   \n",
       "2   846930    DQE  False  train      2006-03-07   \n",
       "3   354190    AJG  False  train      2020-02-07   \n",
       "4  1135017    KMR  False  train      2013-02-21   \n",
       "\n",
       "                                                text  \n",
       "0   Summary of Management Discussion and Analysis...  \n",
       "1  UMH increased rental and related income by 13%...  \n",
       "2  The company's strategy is focused on its core ...  \n",
       "3   Summary of Management's Discussion and Analys...  \n",
       "4  Kinder Morgan Management, LLC (KMR) manages an...  "
      ],
      "text/html": [
       "<div>\n",
       "<style scoped>\n",
       "    .dataframe tbody tr th:only-of-type {\n",
       "        vertical-align: middle;\n",
       "    }\n",
       "\n",
       "    .dataframe tbody tr th {\n",
       "        vertical-align: top;\n",
       "    }\n",
       "\n",
       "    .dataframe thead th {\n",
       "        text-align: right;\n",
       "    }\n",
       "</style>\n",
       "<table border=\"1\" class=\"dataframe\">\n",
       "  <thead>\n",
       "    <tr style=\"text-align: right;\">\n",
       "      <th></th>\n",
       "      <th>cik</th>\n",
       "      <th>ticker</th>\n",
       "      <th>label</th>\n",
       "      <th>subset</th>\n",
       "      <th>report_datetime</th>\n",
       "      <th>text</th>\n",
       "    </tr>\n",
       "  </thead>\n",
       "  <tbody>\n",
       "    <tr>\n",
       "      <th>0</th>\n",
       "      <td>103096</td>\n",
       "      <td>TRR</td>\n",
       "      <td>False</td>\n",
       "      <td>train</td>\n",
       "      <td>2015-09-09</td>\n",
       "      <td>Summary of Management Discussion and Analysis...</td>\n",
       "    </tr>\n",
       "    <tr>\n",
       "      <th>1</th>\n",
       "      <td>752642</td>\n",
       "      <td>UMH</td>\n",
       "      <td>False</td>\n",
       "      <td>train</td>\n",
       "      <td>2020-03-05</td>\n",
       "      <td>UMH increased rental and related income by 13%...</td>\n",
       "    </tr>\n",
       "    <tr>\n",
       "      <th>2</th>\n",
       "      <td>846930</td>\n",
       "      <td>DQE</td>\n",
       "      <td>False</td>\n",
       "      <td>train</td>\n",
       "      <td>2006-03-07</td>\n",
       "      <td>The company's strategy is focused on its core ...</td>\n",
       "    </tr>\n",
       "    <tr>\n",
       "      <th>3</th>\n",
       "      <td>354190</td>\n",
       "      <td>AJG</td>\n",
       "      <td>False</td>\n",
       "      <td>train</td>\n",
       "      <td>2020-02-07</td>\n",
       "      <td>Summary of Management's Discussion and Analys...</td>\n",
       "    </tr>\n",
       "    <tr>\n",
       "      <th>4</th>\n",
       "      <td>1135017</td>\n",
       "      <td>KMR</td>\n",
       "      <td>False</td>\n",
       "      <td>train</td>\n",
       "      <td>2013-02-21</td>\n",
       "      <td>Kinder Morgan Management, LLC (KMR) manages an...</td>\n",
       "    </tr>\n",
       "  </tbody>\n",
       "</table>\n",
       "</div>"
      ]
     },
     "execution_count": 52,
     "metadata": {},
     "output_type": "execute_result"
    }
   ],
   "execution_count": 52
  },
  {
   "metadata": {
    "ExecuteTime": {
     "end_time": "2024-09-19T12:54:48.190360Z",
     "start_time": "2024-09-19T12:54:48.080052Z"
    }
   },
   "cell_type": "code",
   "source": "all_textual_data_enriched.to_csv('textual_data_matched_split_version6_original.csv', index=False)",
   "id": "5b7afbb4c98685db",
   "outputs": [],
   "execution_count": 54
  },
  {
   "metadata": {
    "ExecuteTime": {
     "end_time": "2024-09-19T12:54:50.849580Z",
     "start_time": "2024-09-19T12:54:50.779267Z"
    }
   },
   "cell_type": "code",
   "source": [
    "all_textual_data_enriched = pd.read_csv('textual_data_matched_split_version6_original.csv')\n",
    "all_textual_data_enriched.head()"
   ],
   "id": "fee9233968c74c8c",
   "outputs": [
    {
     "data": {
      "text/plain": [
       "       cik ticker  label subset report_datetime  \\\n",
       "0   103096    TRR  False  train      2015-09-09   \n",
       "1   752642    UMH  False  train      2020-03-05   \n",
       "2   846930    DQE  False  train      2006-03-07   \n",
       "3   354190    AJG  False  train      2020-02-07   \n",
       "4  1135017    KMR  False  train      2013-02-21   \n",
       "\n",
       "                                                text  \n",
       "0   Summary of Management Discussion and Analysis...  \n",
       "1  UMH increased rental and related income by 13%...  \n",
       "2  The company's strategy is focused on its core ...  \n",
       "3   Summary of Management's Discussion and Analys...  \n",
       "4  Kinder Morgan Management, LLC (KMR) manages an...  "
      ],
      "text/html": [
       "<div>\n",
       "<style scoped>\n",
       "    .dataframe tbody tr th:only-of-type {\n",
       "        vertical-align: middle;\n",
       "    }\n",
       "\n",
       "    .dataframe tbody tr th {\n",
       "        vertical-align: top;\n",
       "    }\n",
       "\n",
       "    .dataframe thead th {\n",
       "        text-align: right;\n",
       "    }\n",
       "</style>\n",
       "<table border=\"1\" class=\"dataframe\">\n",
       "  <thead>\n",
       "    <tr style=\"text-align: right;\">\n",
       "      <th></th>\n",
       "      <th>cik</th>\n",
       "      <th>ticker</th>\n",
       "      <th>label</th>\n",
       "      <th>subset</th>\n",
       "      <th>report_datetime</th>\n",
       "      <th>text</th>\n",
       "    </tr>\n",
       "  </thead>\n",
       "  <tbody>\n",
       "    <tr>\n",
       "      <th>0</th>\n",
       "      <td>103096</td>\n",
       "      <td>TRR</td>\n",
       "      <td>False</td>\n",
       "      <td>train</td>\n",
       "      <td>2015-09-09</td>\n",
       "      <td>Summary of Management Discussion and Analysis...</td>\n",
       "    </tr>\n",
       "    <tr>\n",
       "      <th>1</th>\n",
       "      <td>752642</td>\n",
       "      <td>UMH</td>\n",
       "      <td>False</td>\n",
       "      <td>train</td>\n",
       "      <td>2020-03-05</td>\n",
       "      <td>UMH increased rental and related income by 13%...</td>\n",
       "    </tr>\n",
       "    <tr>\n",
       "      <th>2</th>\n",
       "      <td>846930</td>\n",
       "      <td>DQE</td>\n",
       "      <td>False</td>\n",
       "      <td>train</td>\n",
       "      <td>2006-03-07</td>\n",
       "      <td>The company's strategy is focused on its core ...</td>\n",
       "    </tr>\n",
       "    <tr>\n",
       "      <th>3</th>\n",
       "      <td>354190</td>\n",
       "      <td>AJG</td>\n",
       "      <td>False</td>\n",
       "      <td>train</td>\n",
       "      <td>2020-02-07</td>\n",
       "      <td>Summary of Management's Discussion and Analys...</td>\n",
       "    </tr>\n",
       "    <tr>\n",
       "      <th>4</th>\n",
       "      <td>1135017</td>\n",
       "      <td>KMR</td>\n",
       "      <td>False</td>\n",
       "      <td>train</td>\n",
       "      <td>2013-02-21</td>\n",
       "      <td>Kinder Morgan Management, LLC (KMR) manages an...</td>\n",
       "    </tr>\n",
       "  </tbody>\n",
       "</table>\n",
       "</div>"
      ]
     },
     "execution_count": 55,
     "metadata": {},
     "output_type": "execute_result"
    }
   ],
   "execution_count": 55
  },
  {
   "metadata": {
    "ExecuteTime": {
     "end_time": "2024-09-19T12:58:38.809372Z",
     "start_time": "2024-09-19T12:58:38.798390Z"
    }
   },
   "cell_type": "code",
   "source": [
    "def match_textual_data_with_financial_data(textual_dataset, financial_dataset):\n",
    "    financial_dataset_ciks = financial_dataset['cik'].unique()\n",
    "    \n",
    "    textual_dataset_copy = textual_dataset.copy()\n",
    "    textual_dataset_copy['cik'] = pd.Categorical(textual_dataset_copy['cik'], categories=financial_dataset_ciks, ordered=True)\n",
    "    textual_dataset_copy = textual_dataset_copy.sort_values('cik').reset_index(drop=True)\n",
    "    \n",
    "    assert financial_dataset_ciks.tolist() == textual_dataset_copy['cik'].tolist()\n",
    "    \n",
    "    return textual_dataset_copy"
   ],
   "id": "1498280d24512853",
   "outputs": [],
   "execution_count": 59
  },
  {
   "metadata": {
    "ExecuteTime": {
     "end_time": "2024-09-19T12:58:39.543921Z",
     "start_time": "2024-09-19T12:58:39.498349Z"
    }
   },
   "cell_type": "code",
   "source": "df_bankrupt_companies_complete = pd.read_csv('bankrupt_companies_with_17variables_5years_split_version5_original.csv')",
   "id": "b132da4334576c32",
   "outputs": [],
   "execution_count": 60
  },
  {
   "metadata": {
    "ExecuteTime": {
     "end_time": "2024-09-19T12:58:41.122738Z",
     "start_time": "2024-09-19T12:58:41.104790Z"
    }
   },
   "cell_type": "code",
   "source": [
    "all_textual_data_enriched = match_textual_data_with_financial_data(all_textual_data_enriched, df_bankrupt_companies_complete)\n",
    "all_textual_data_enriched.head()"
   ],
   "id": "c542aadeb6484135",
   "outputs": [
    {
     "data": {
      "text/plain": [
       "       cik ticker  label subset report_datetime  \\\n",
       "0   103096    TRR  False  train      2015-09-09   \n",
       "1   752642    UMH  False  train      2020-03-05   \n",
       "2   846930    DQE  False  train      2006-03-07   \n",
       "3   354190    AJG  False  train      2020-02-07   \n",
       "4  1135017    KMR  False  train      2013-02-21   \n",
       "\n",
       "                                                text  \n",
       "0   Summary of Management Discussion and Analysis...  \n",
       "1  UMH increased rental and related income by 13%...  \n",
       "2  The company's strategy is focused on its core ...  \n",
       "3   Summary of Management's Discussion and Analys...  \n",
       "4  Kinder Morgan Management, LLC (KMR) manages an...  "
      ],
      "text/html": [
       "<div>\n",
       "<style scoped>\n",
       "    .dataframe tbody tr th:only-of-type {\n",
       "        vertical-align: middle;\n",
       "    }\n",
       "\n",
       "    .dataframe tbody tr th {\n",
       "        vertical-align: top;\n",
       "    }\n",
       "\n",
       "    .dataframe thead th {\n",
       "        text-align: right;\n",
       "    }\n",
       "</style>\n",
       "<table border=\"1\" class=\"dataframe\">\n",
       "  <thead>\n",
       "    <tr style=\"text-align: right;\">\n",
       "      <th></th>\n",
       "      <th>cik</th>\n",
       "      <th>ticker</th>\n",
       "      <th>label</th>\n",
       "      <th>subset</th>\n",
       "      <th>report_datetime</th>\n",
       "      <th>text</th>\n",
       "    </tr>\n",
       "  </thead>\n",
       "  <tbody>\n",
       "    <tr>\n",
       "      <th>0</th>\n",
       "      <td>103096</td>\n",
       "      <td>TRR</td>\n",
       "      <td>False</td>\n",
       "      <td>train</td>\n",
       "      <td>2015-09-09</td>\n",
       "      <td>Summary of Management Discussion and Analysis...</td>\n",
       "    </tr>\n",
       "    <tr>\n",
       "      <th>1</th>\n",
       "      <td>752642</td>\n",
       "      <td>UMH</td>\n",
       "      <td>False</td>\n",
       "      <td>train</td>\n",
       "      <td>2020-03-05</td>\n",
       "      <td>UMH increased rental and related income by 13%...</td>\n",
       "    </tr>\n",
       "    <tr>\n",
       "      <th>2</th>\n",
       "      <td>846930</td>\n",
       "      <td>DQE</td>\n",
       "      <td>False</td>\n",
       "      <td>train</td>\n",
       "      <td>2006-03-07</td>\n",
       "      <td>The company's strategy is focused on its core ...</td>\n",
       "    </tr>\n",
       "    <tr>\n",
       "      <th>3</th>\n",
       "      <td>354190</td>\n",
       "      <td>AJG</td>\n",
       "      <td>False</td>\n",
       "      <td>train</td>\n",
       "      <td>2020-02-07</td>\n",
       "      <td>Summary of Management's Discussion and Analys...</td>\n",
       "    </tr>\n",
       "    <tr>\n",
       "      <th>4</th>\n",
       "      <td>1135017</td>\n",
       "      <td>KMR</td>\n",
       "      <td>False</td>\n",
       "      <td>train</td>\n",
       "      <td>2013-02-21</td>\n",
       "      <td>Kinder Morgan Management, LLC (KMR) manages an...</td>\n",
       "    </tr>\n",
       "  </tbody>\n",
       "</table>\n",
       "</div>"
      ]
     },
     "execution_count": 61,
     "metadata": {},
     "output_type": "execute_result"
    }
   ],
   "execution_count": 61
  },
  {
   "metadata": {
    "ExecuteTime": {
     "end_time": "2024-09-19T12:58:53.459041Z",
     "start_time": "2024-09-19T12:58:53.347495Z"
    }
   },
   "cell_type": "code",
   "source": "all_textual_data_enriched.to_csv('textual_data_matched_split_version6_original.csv', index=False)",
   "id": "bb5108ae46ccc0a5",
   "outputs": [],
   "execution_count": 62
  },
  {
   "metadata": {
    "ExecuteTime": {
     "end_time": "2024-09-19T12:58:56.357033Z",
     "start_time": "2024-09-19T12:58:56.347073Z"
    }
   },
   "cell_type": "code",
   "source": "len(all_textual_data_enriched)",
   "id": "ebbde6e60bba5b23",
   "outputs": [
    {
     "data": {
      "text/plain": [
       "4466"
      ]
     },
     "execution_count": 63,
     "metadata": {},
     "output_type": "execute_result"
    }
   ],
   "execution_count": 63
  },
  {
   "metadata": {
    "ExecuteTime": {
     "end_time": "2024-09-19T13:38:41.101268Z",
     "start_time": "2024-09-19T13:38:41.087052Z"
    }
   },
   "cell_type": "code",
   "source": "all_textual_data_enriched[all_textual_data_enriched['subset'] == 'test']['label'].value_counts(normalize=True)",
   "id": "ec8753de8f145a62",
   "outputs": [
    {
     "data": {
      "text/plain": [
       "label\n",
       "False    0.983776\n",
       "True     0.016224\n",
       "Name: proportion, dtype: float64"
      ]
     },
     "execution_count": 66,
     "metadata": {},
     "output_type": "execute_result"
    }
   ],
   "execution_count": 66
  },
  {
   "metadata": {},
   "cell_type": "code",
   "outputs": [],
   "execution_count": null,
   "source": "",
   "id": "17b3b10a99413f00"
  }
 ],
 "metadata": {
  "kernelspec": {
   "display_name": "Python 3",
   "language": "python",
   "name": "python3"
  },
  "language_info": {
   "codemirror_mode": {
    "name": "ipython",
    "version": 2
   },
   "file_extension": ".py",
   "mimetype": "text/x-python",
   "name": "python",
   "nbconvert_exporter": "python",
   "pygments_lexer": "ipython2",
   "version": "2.7.6"
  }
 },
 "nbformat": 4,
 "nbformat_minor": 5
}

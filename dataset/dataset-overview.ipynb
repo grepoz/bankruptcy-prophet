{
 "cells": [
  {
   "metadata": {},
   "cell_type": "markdown",
   "source": "# Multimodal Dataset Overview",
   "id": "77ead520d50f6c5c"
  },
  {
   "metadata": {},
   "cell_type": "markdown",
   "source": [
    "## Financial dataset part\n",
    "\n",
    "The source dataset for this dataset was 'ECL' dataset describe in https://arxiv.org/abs/2401.12652.\n",
    "The companies in 'ECL' dataset were matched with companies in morningstar service and scrapped from it. Unfortunately, less than half of the companies were matched.\n",
    "\n",
    "The dataset consists of 17 variables for each object in 5 years period.\n",
    "Dataset was extended with synthetically generated data for positive class.\n",
    "\n",
    "ECL github: https://github.com/henriarnoUG/ECL/tree/main"
   ],
   "id": "d64e323a3978c81c"
  },
  {
   "metadata": {},
   "cell_type": "markdown",
   "source": "### Overview",
   "id": "be711bc315726668"
  },
  {
   "cell_type": "code",
   "id": "initial_id",
   "metadata": {
    "collapsed": true,
    "ExecuteTime": {
     "end_time": "2024-06-06T19:35:15.558084Z",
     "start_time": "2024-06-06T19:35:15.548466Z"
    }
   },
   "source": [
    "import pandas as pd\n",
    "import numpy as np"
   ],
   "outputs": [],
   "execution_count": 111
  },
  {
   "metadata": {
    "ExecuteTime": {
     "end_time": "2024-06-06T18:06:31.331428Z",
     "start_time": "2024-06-06T18:06:31.264658Z"
    }
   },
   "cell_type": "code",
   "source": [
    "financial_dataset = pd.read_csv('bankrupt_companies-17_variables-5_years_per_object-balanced-split-matched_with_textual_data-shuffled.csv')\n",
    "print(financial_dataset.shape)\n",
    "financial_dataset.head()"
   ],
   "id": "af0a702988163eb0",
   "outputs": [
    {
     "name": "stdout",
     "output_type": "stream",
     "text": [
      "(30580, 22)\n"
     ]
    },
    {
     "data": {
      "text/plain": [
       "         cik  label subset ticker Fiscal Period  Cost of Goods Sold  \\\n",
       "0  138291101   True   test    NaN           NaN               216.0   \n",
       "1  138291101   True   test    NaN           NaN               202.0   \n",
       "2  138291101   True   test    NaN           NaN               203.0   \n",
       "3  138291101   True   test    NaN           NaN               259.0   \n",
       "4  138291101   True   test    NaN           NaN               299.0   \n",
       "\n",
       "   Depreciation, Depletion and Amortization   EBIT  EBITDA  Gross Profit  ...  \\\n",
       "0                                     143.0 -164.0   -21.0         111.0  ...   \n",
       "1                                     134.0  -97.0    37.0          98.0  ...   \n",
       "2                                     116.0 -102.0    14.0         122.0  ...   \n",
       "3                                     113.0  -66.0    47.0         191.0  ...   \n",
       "4                                     118.0 -132.0   -14.0         173.0  ...   \n",
       "\n",
       "   Net Income  Retained Earnings  Revenue  Total Assets  Total Current Assets  \\\n",
       "0      -348.0            -1548.0    327.0        1345.0                 247.0   \n",
       "1      -317.0            -1588.0    301.0        1351.0                 258.0   \n",
       "2      -104.0            -1692.0    325.0        1392.0                 388.0   \n",
       "3       -97.0            -1789.0    451.0        1465.0                 330.0   \n",
       "4      -193.0            -1984.0    472.0        1200.0                 217.0   \n",
       "\n",
       "   Total Current Liabilities  Total Inventories  Total Liabilities  \\\n",
       "0                      130.0                1.0             1719.0   \n",
       "1                      145.0                1.0             1696.0   \n",
       "2                      169.0                3.0             1656.0   \n",
       "3                      160.0                3.0             1812.0   \n",
       "4                      126.0                2.0             1726.0   \n",
       "\n",
       "   Total Operating Expense  Total Receivables  \n",
       "0                    277.0               75.0  \n",
       "1                    193.0               80.0  \n",
       "2                    231.0               88.0  \n",
       "3                    253.0              115.0  \n",
       "4                    291.0               86.0  \n",
       "\n",
       "[5 rows x 22 columns]"
      ],
      "text/html": [
       "<div>\n",
       "<style scoped>\n",
       "    .dataframe tbody tr th:only-of-type {\n",
       "        vertical-align: middle;\n",
       "    }\n",
       "\n",
       "    .dataframe tbody tr th {\n",
       "        vertical-align: top;\n",
       "    }\n",
       "\n",
       "    .dataframe thead th {\n",
       "        text-align: right;\n",
       "    }\n",
       "</style>\n",
       "<table border=\"1\" class=\"dataframe\">\n",
       "  <thead>\n",
       "    <tr style=\"text-align: right;\">\n",
       "      <th></th>\n",
       "      <th>cik</th>\n",
       "      <th>label</th>\n",
       "      <th>subset</th>\n",
       "      <th>ticker</th>\n",
       "      <th>Fiscal Period</th>\n",
       "      <th>Cost of Goods Sold</th>\n",
       "      <th>Depreciation, Depletion and Amortization</th>\n",
       "      <th>EBIT</th>\n",
       "      <th>EBITDA</th>\n",
       "      <th>Gross Profit</th>\n",
       "      <th>...</th>\n",
       "      <th>Net Income</th>\n",
       "      <th>Retained Earnings</th>\n",
       "      <th>Revenue</th>\n",
       "      <th>Total Assets</th>\n",
       "      <th>Total Current Assets</th>\n",
       "      <th>Total Current Liabilities</th>\n",
       "      <th>Total Inventories</th>\n",
       "      <th>Total Liabilities</th>\n",
       "      <th>Total Operating Expense</th>\n",
       "      <th>Total Receivables</th>\n",
       "    </tr>\n",
       "  </thead>\n",
       "  <tbody>\n",
       "    <tr>\n",
       "      <th>0</th>\n",
       "      <td>138291101</td>\n",
       "      <td>True</td>\n",
       "      <td>test</td>\n",
       "      <td>NaN</td>\n",
       "      <td>NaN</td>\n",
       "      <td>216.0</td>\n",
       "      <td>143.0</td>\n",
       "      <td>-164.0</td>\n",
       "      <td>-21.0</td>\n",
       "      <td>111.0</td>\n",
       "      <td>...</td>\n",
       "      <td>-348.0</td>\n",
       "      <td>-1548.0</td>\n",
       "      <td>327.0</td>\n",
       "      <td>1345.0</td>\n",
       "      <td>247.0</td>\n",
       "      <td>130.0</td>\n",
       "      <td>1.0</td>\n",
       "      <td>1719.0</td>\n",
       "      <td>277.0</td>\n",
       "      <td>75.0</td>\n",
       "    </tr>\n",
       "    <tr>\n",
       "      <th>1</th>\n",
       "      <td>138291101</td>\n",
       "      <td>True</td>\n",
       "      <td>test</td>\n",
       "      <td>NaN</td>\n",
       "      <td>NaN</td>\n",
       "      <td>202.0</td>\n",
       "      <td>134.0</td>\n",
       "      <td>-97.0</td>\n",
       "      <td>37.0</td>\n",
       "      <td>98.0</td>\n",
       "      <td>...</td>\n",
       "      <td>-317.0</td>\n",
       "      <td>-1588.0</td>\n",
       "      <td>301.0</td>\n",
       "      <td>1351.0</td>\n",
       "      <td>258.0</td>\n",
       "      <td>145.0</td>\n",
       "      <td>1.0</td>\n",
       "      <td>1696.0</td>\n",
       "      <td>193.0</td>\n",
       "      <td>80.0</td>\n",
       "    </tr>\n",
       "    <tr>\n",
       "      <th>2</th>\n",
       "      <td>138291101</td>\n",
       "      <td>True</td>\n",
       "      <td>test</td>\n",
       "      <td>NaN</td>\n",
       "      <td>NaN</td>\n",
       "      <td>203.0</td>\n",
       "      <td>116.0</td>\n",
       "      <td>-102.0</td>\n",
       "      <td>14.0</td>\n",
       "      <td>122.0</td>\n",
       "      <td>...</td>\n",
       "      <td>-104.0</td>\n",
       "      <td>-1692.0</td>\n",
       "      <td>325.0</td>\n",
       "      <td>1392.0</td>\n",
       "      <td>388.0</td>\n",
       "      <td>169.0</td>\n",
       "      <td>3.0</td>\n",
       "      <td>1656.0</td>\n",
       "      <td>231.0</td>\n",
       "      <td>88.0</td>\n",
       "    </tr>\n",
       "    <tr>\n",
       "      <th>3</th>\n",
       "      <td>138291101</td>\n",
       "      <td>True</td>\n",
       "      <td>test</td>\n",
       "      <td>NaN</td>\n",
       "      <td>NaN</td>\n",
       "      <td>259.0</td>\n",
       "      <td>113.0</td>\n",
       "      <td>-66.0</td>\n",
       "      <td>47.0</td>\n",
       "      <td>191.0</td>\n",
       "      <td>...</td>\n",
       "      <td>-97.0</td>\n",
       "      <td>-1789.0</td>\n",
       "      <td>451.0</td>\n",
       "      <td>1465.0</td>\n",
       "      <td>330.0</td>\n",
       "      <td>160.0</td>\n",
       "      <td>3.0</td>\n",
       "      <td>1812.0</td>\n",
       "      <td>253.0</td>\n",
       "      <td>115.0</td>\n",
       "    </tr>\n",
       "    <tr>\n",
       "      <th>4</th>\n",
       "      <td>138291101</td>\n",
       "      <td>True</td>\n",
       "      <td>test</td>\n",
       "      <td>NaN</td>\n",
       "      <td>NaN</td>\n",
       "      <td>299.0</td>\n",
       "      <td>118.0</td>\n",
       "      <td>-132.0</td>\n",
       "      <td>-14.0</td>\n",
       "      <td>173.0</td>\n",
       "      <td>...</td>\n",
       "      <td>-193.0</td>\n",
       "      <td>-1984.0</td>\n",
       "      <td>472.0</td>\n",
       "      <td>1200.0</td>\n",
       "      <td>217.0</td>\n",
       "      <td>126.0</td>\n",
       "      <td>2.0</td>\n",
       "      <td>1726.0</td>\n",
       "      <td>291.0</td>\n",
       "      <td>86.0</td>\n",
       "    </tr>\n",
       "  </tbody>\n",
       "</table>\n",
       "<p>5 rows × 22 columns</p>\n",
       "</div>"
      ]
     },
     "execution_count": 37,
     "metadata": {},
     "output_type": "execute_result"
    }
   ],
   "execution_count": 37
  },
  {
   "metadata": {},
   "cell_type": "markdown",
   "source": "Every object consist of 5 years of financial data.",
   "id": "90d13047c493475a"
  },
  {
   "metadata": {
    "ExecuteTime": {
     "end_time": "2024-06-06T17:33:48.669414Z",
     "start_time": "2024-06-06T17:33:48.657618Z"
    }
   },
   "cell_type": "code",
   "source": [
    "financial_data_grouped = financial_dataset.groupby('cik').agg({'label': 'first', 'subset': 'first', 'ticker': 'first'})\n",
    "print(financial_data_grouped.shape)"
   ],
   "id": "2e0e4828348b1a63",
   "outputs": [
    {
     "name": "stdout",
     "output_type": "stream",
     "text": [
      "(6116, 3)\n"
     ]
    }
   ],
   "execution_count": 14
  },
  {
   "metadata": {
    "ExecuteTime": {
     "end_time": "2024-06-06T17:33:49.757812Z",
     "start_time": "2024-06-06T17:33:49.748945Z"
    }
   },
   "cell_type": "code",
   "source": "financial_data_grouped['label'].value_counts()",
   "id": "9a2203cedc4f3e4c",
   "outputs": [
    {
     "data": {
      "text/plain": [
       "label\n",
       "False    3300\n",
       "True     2816\n",
       "Name: count, dtype: int64"
      ]
     },
     "execution_count": 15,
     "metadata": {},
     "output_type": "execute_result"
    }
   ],
   "execution_count": 15
  },
  {
   "metadata": {},
   "cell_type": "markdown",
   "source": "Before extending the dataset, the distribution of the labels was strongly imbalanced in ratio 49-1. Below cell represents the distribution of the labels before extending the dataset.",
   "id": "94388efeee8c1c5a"
  },
  {
   "metadata": {
    "ExecuteTime": {
     "end_time": "2024-06-06T17:34:06.374962Z",
     "start_time": "2024-06-06T17:34:06.359103Z"
    }
   },
   "cell_type": "code",
   "source": [
    "financial_data_grouped_original_dataset = financial_data_grouped[~financial_data_grouped['ticker'].isnull()]\n",
    "financial_data_grouped_original_dataset['label'].value_counts(normalize=True)"
   ],
   "id": "ed1f74a3ad85261b",
   "outputs": [
    {
     "data": {
      "text/plain": [
       "label\n",
       "False    0.97981\n",
       "True     0.02019\n",
       "Name: proportion, dtype: float64"
      ]
     },
     "execution_count": 17,
     "metadata": {},
     "output_type": "execute_result"
    }
   ],
   "execution_count": 17
  },
  {
   "metadata": {},
   "cell_type": "markdown",
   "source": [
    "Artificially generated samples hasn't got 'ticker' and 'Fiscal Period' columns filled. Also 'cik' column for artificial samples is created by concatenating original 'cik' and id (which was number from 0 to 10, because of 10 synthetic samples for each object). There are some inconsistencies in the dataset - not every original sample has 10 synthetic samples.  \n",
    "\n",
    "To oversample the minority class, the financial part of dataset was extended using SMOTE algorithm."
   ],
   "id": "1d0be791ee17de3c"
  },
  {
   "metadata": {
    "ExecuteTime": {
     "end_time": "2024-06-06T17:27:55.451348Z",
     "start_time": "2024-06-06T17:27:55.436198Z"
    }
   },
   "cell_type": "code",
   "source": "financial_data_grouped['subset'].value_counts(normalize=True)",
   "id": "1ab59a0f744c3ba1",
   "outputs": [
    {
     "data": {
      "text/plain": [
       "subset\n",
       "train    0.799706\n",
       "test     0.150262\n",
       "val      0.050033\n",
       "Name: proportion, dtype: float64"
      ]
     },
     "execution_count": 9,
     "metadata": {},
     "output_type": "execute_result"
    }
   ],
   "execution_count": 9
  },
  {
   "metadata": {},
   "cell_type": "markdown",
   "source": "### Example usage",
   "id": "59d72255d49c5aef"
  },
  {
   "metadata": {
    "ExecuteTime": {
     "end_time": "2024-06-06T18:58:40.830305Z",
     "start_time": "2024-06-06T18:58:40.812553Z"
    }
   },
   "cell_type": "code",
   "source": [
    "from sklearn.ensemble import RandomForestClassifier\n",
    "from sklearn.metrics import confusion_matrix, accuracy_score, f1_score"
   ],
   "id": "6381166d7527cba8",
   "outputs": [],
   "execution_count": 62
  },
  {
   "metadata": {
    "ExecuteTime": {
     "end_time": "2024-06-06T19:04:41.167873Z",
     "start_time": "2024-06-06T19:04:41.160044Z"
    }
   },
   "cell_type": "code",
   "source": [
    "financial_dataset_preprocessed = financial_dataset.drop(['cik', 'ticker', 'Fiscal Period'], axis=1)\n",
    "X = financial_dataset_preprocessed.drop('label', axis=1)\n",
    "y = financial_dataset_preprocessed['label']"
   ],
   "id": "a86c16f439c5c69b",
   "outputs": [],
   "execution_count": 76
  },
  {
   "metadata": {
    "ExecuteTime": {
     "end_time": "2024-06-06T19:05:15.229165Z",
     "start_time": "2024-06-06T19:05:15.224698Z"
    }
   },
   "cell_type": "code",
   "source": [
    "def get_train_val_test_split(X, y):\n",
    "    X_train = X[X['subset'] == 'train']\n",
    "    y_train = y[X['subset'] == 'train']\n",
    "    \n",
    "    X_val = X[X['subset'] == 'val']\n",
    "    y_val = y[X['subset'] == 'val']\n",
    "    \n",
    "    X_test = X[X['subset'] == 'test']\n",
    "    y_test = y[X['subset'] == 'test']\n",
    "    \n",
    "    X_train = X_train.drop('subset', axis=1)\n",
    "    X_val = X_val.drop('subset', axis=1)\n",
    "    X_test = X_test.drop('subset', axis=1)\n",
    "    \n",
    "    return X_train, y_train, X_val, y_val, X_test, y_test"
   ],
   "id": "f0ded279f99b7581",
   "outputs": [],
   "execution_count": 81
  },
  {
   "metadata": {
    "ExecuteTime": {
     "end_time": "2024-06-06T19:05:15.835425Z",
     "start_time": "2024-06-06T19:05:15.806179Z"
    }
   },
   "cell_type": "code",
   "source": [
    "X_train, y_train, X_val, y_val, X_test, y_test = get_train_val_test_split(X, y)\n",
    "len(X_train), len(X_val), len(X_test)"
   ],
   "id": "70cf0b306f07bd2f",
   "outputs": [
    {
     "data": {
      "text/plain": [
       "(24455, 1530, 4595)"
      ]
     },
     "execution_count": 82,
     "metadata": {},
     "output_type": "execute_result"
    }
   ],
   "execution_count": 82
  },
  {
   "metadata": {
    "ExecuteTime": {
     "end_time": "2024-06-06T18:55:38.456921Z",
     "start_time": "2024-06-06T18:55:32.091826Z"
    }
   },
   "cell_type": "code",
   "source": [
    "rf = RandomForestClassifier(random_state=42)\n",
    "rf.fit(X_train, y_train)\n",
    "\n",
    "y_pred = rf.predict(X_test)"
   ],
   "id": "21283e95cc1d25e4",
   "outputs": [],
   "execution_count": 58
  },
  {
   "metadata": {
    "ExecuteTime": {
     "end_time": "2024-06-06T17:49:14.993127Z",
     "start_time": "2024-06-06T17:49:14.980321Z"
    }
   },
   "cell_type": "code",
   "source": "confusion_matrix(y_test, y_pred)",
   "id": "e8445a335eb48e5d",
   "outputs": [
    {
     "data": {
      "text/plain": [
       "array([[2430,   50],\n",
       "       [  37, 2078]], dtype=int64)"
      ]
     },
     "execution_count": 32,
     "metadata": {},
     "output_type": "execute_result"
    }
   ],
   "execution_count": 32
  },
  {
   "metadata": {
    "ExecuteTime": {
     "end_time": "2024-06-06T17:52:18.681917Z",
     "start_time": "2024-06-06T17:52:18.661639Z"
    }
   },
   "cell_type": "code",
   "source": [
    "print(f'accuracy_score: {accuracy_score(y_test, y_pred)}')\n",
    "print(f'f1_score: {f1_score(y_test, y_pred)}')"
   ],
   "id": "a0aef022d4c35c36",
   "outputs": [
    {
     "name": "stdout",
     "output_type": "stream",
     "text": [
      "accuracy_score: 0.9810663764961916\n",
      "f1_score: 0.9794956398774453\n"
     ]
    }
   ],
   "execution_count": 36
  },
  {
   "metadata": {},
   "cell_type": "markdown",
   "source": [
    "### Functions for (de)flattening the dataset\n",
    "\n",
    "Function flattens 5 years (rows) to single row."
   ],
   "id": "ea5048b646bc1510"
  },
  {
   "metadata": {
    "ExecuteTime": {
     "end_time": "2024-06-06T19:40:55.256022Z",
     "start_time": "2024-06-06T19:40:55.246478Z"
    }
   },
   "cell_type": "code",
   "source": [
    "def flatten_financial_dataset(financial_dataset):\n",
    "    object_length_in_rows = 5\n",
    "    per_object_columns = list(financial_dataset.columns[:object_length_in_rows].values)\n",
    "    \n",
    "    value_columns = financial_dataset.columns[object_length_in_rows:]\n",
    "    new_columns = per_object_columns + [f'{col}_{i+1}' for i in range(object_length_in_rows) for col in value_columns]\n",
    "    \n",
    "    dfs = []\n",
    "    \n",
    "    for name, group in financial_dataset.groupby('cik'):\n",
    "        label = group['label'].iloc[0]\n",
    "        subset = group['subset'].iloc[0]\n",
    "        ticker = group['ticker'].iloc[0]\n",
    "        fiscal_periods = ';'.join(group['Fiscal Period'].astype(str).values)\n",
    "    \n",
    "        values = group.drop(columns=per_object_columns).values.flatten()\n",
    "        \n",
    "        dfs.append([name, label, subset, ticker, fiscal_periods] + values.tolist())\n",
    "    \n",
    "    final_flatten_df = pd.DataFrame(dfs, columns=new_columns)\n",
    "    final_flatten_df = final_flatten_df.reset_index(drop=True)\n",
    "    return final_flatten_df"
   ],
   "id": "f700165ae16f2aa3",
   "outputs": [],
   "execution_count": 124
  },
  {
   "metadata": {
    "ExecuteTime": {
     "end_time": "2024-06-06T19:40:58.649952Z",
     "start_time": "2024-06-06T19:40:56.339120Z"
    }
   },
   "cell_type": "code",
   "source": [
    "flatten_df = flatten_financial_dataset(financial_dataset)\n",
    "print(flatten_df.shape)\n",
    "flatten_df.head()"
   ],
   "id": "4e487d420ad21150",
   "outputs": [
    {
     "name": "stdout",
     "output_type": "stream",
     "text": [
      "(6116, 90)\n"
     ]
    },
    {
     "data": {
      "text/plain": [
       "    cik  label subset ticker                                 Fiscal Period  \\\n",
       "0  1800  False  train    ABT  Dec 2016;Dec 2017;Dec 2018;Dec 2019;Dec 2020   \n",
       "1  2034   True  train    NaN                           nan;nan;nan;nan;nan   \n",
       "2  2488  False  train    AMD  Dec 2016;Dec 2017;Dec 2018;Dec 2019;Dec 2020   \n",
       "3  2491  False  train    BYI  Jun 2010;Jun 2011;Jun 2012;Jun 2013;Jun 2014   \n",
       "4  2852   True  train    NaN                           nan;nan;nan;nan;nan   \n",
       "\n",
       "   Cost of Goods Sold_1  Depreciation, Depletion and Amortization_1  EBIT_1  \\\n",
       "0                9094.0                                      1353.0  1844.0   \n",
       "1                 391.0                                        12.0    10.0   \n",
       "2                3316.0                                       133.0  -293.0   \n",
       "3                 274.0                                        75.0   155.0   \n",
       "4                  87.0                                        36.0    38.0   \n",
       "\n",
       "   EBITDA_1  Gross Profit_1  ...  Net Income_5  Retained Earnings_5  \\\n",
       "0    3197.0         11759.0  ...        4495.0              27627.0   \n",
       "1      23.0           190.0  ...         -16.0                -60.0   \n",
       "2    -160.0          1003.0  ...        2490.0              -4605.0   \n",
       "3     230.0           484.0  ...          99.0                745.0   \n",
       "4      74.0           200.0  ...         -79.0               -288.0   \n",
       "\n",
       "   Revenue_5  Total Assets_5  Total Current Assets_5  \\\n",
       "0    34608.0         72548.0                 20441.0   \n",
       "1      734.0           309.0                   165.0   \n",
       "2     9763.0          8962.0                  6143.0   \n",
       "3     1215.0          2519.0                   593.0   \n",
       "4      292.0           427.0                    49.0   \n",
       "\n",
       "   Total Current Liabilities_5  Total Inventories_5  Total Liabilities_5  \\\n",
       "0                      11907.0               5012.0              39545.0   \n",
       "1                         84.0                112.0                155.0   \n",
       "2                       2417.0               1399.0               3125.0   \n",
       "3                        252.0                 82.0               2312.0   \n",
       "4                        569.0                  5.0                590.0   \n",
       "\n",
       "   Total Operating Expense_5  Total Receivables_5  \n",
       "0                    14248.0               8281.0  \n",
       "1                      281.0                 44.0  \n",
       "2                     2978.0               2076.0  \n",
       "3                      537.0                314.0  \n",
       "4                      169.0                 14.0  \n",
       "\n",
       "[5 rows x 90 columns]"
      ],
      "text/html": [
       "<div>\n",
       "<style scoped>\n",
       "    .dataframe tbody tr th:only-of-type {\n",
       "        vertical-align: middle;\n",
       "    }\n",
       "\n",
       "    .dataframe tbody tr th {\n",
       "        vertical-align: top;\n",
       "    }\n",
       "\n",
       "    .dataframe thead th {\n",
       "        text-align: right;\n",
       "    }\n",
       "</style>\n",
       "<table border=\"1\" class=\"dataframe\">\n",
       "  <thead>\n",
       "    <tr style=\"text-align: right;\">\n",
       "      <th></th>\n",
       "      <th>cik</th>\n",
       "      <th>label</th>\n",
       "      <th>subset</th>\n",
       "      <th>ticker</th>\n",
       "      <th>Fiscal Period</th>\n",
       "      <th>Cost of Goods Sold_1</th>\n",
       "      <th>Depreciation, Depletion and Amortization_1</th>\n",
       "      <th>EBIT_1</th>\n",
       "      <th>EBITDA_1</th>\n",
       "      <th>Gross Profit_1</th>\n",
       "      <th>...</th>\n",
       "      <th>Net Income_5</th>\n",
       "      <th>Retained Earnings_5</th>\n",
       "      <th>Revenue_5</th>\n",
       "      <th>Total Assets_5</th>\n",
       "      <th>Total Current Assets_5</th>\n",
       "      <th>Total Current Liabilities_5</th>\n",
       "      <th>Total Inventories_5</th>\n",
       "      <th>Total Liabilities_5</th>\n",
       "      <th>Total Operating Expense_5</th>\n",
       "      <th>Total Receivables_5</th>\n",
       "    </tr>\n",
       "  </thead>\n",
       "  <tbody>\n",
       "    <tr>\n",
       "      <th>0</th>\n",
       "      <td>1800</td>\n",
       "      <td>False</td>\n",
       "      <td>train</td>\n",
       "      <td>ABT</td>\n",
       "      <td>Dec 2016;Dec 2017;Dec 2018;Dec 2019;Dec 2020</td>\n",
       "      <td>9094.0</td>\n",
       "      <td>1353.0</td>\n",
       "      <td>1844.0</td>\n",
       "      <td>3197.0</td>\n",
       "      <td>11759.0</td>\n",
       "      <td>...</td>\n",
       "      <td>4495.0</td>\n",
       "      <td>27627.0</td>\n",
       "      <td>34608.0</td>\n",
       "      <td>72548.0</td>\n",
       "      <td>20441.0</td>\n",
       "      <td>11907.0</td>\n",
       "      <td>5012.0</td>\n",
       "      <td>39545.0</td>\n",
       "      <td>14248.0</td>\n",
       "      <td>8281.0</td>\n",
       "    </tr>\n",
       "    <tr>\n",
       "      <th>1</th>\n",
       "      <td>2034</td>\n",
       "      <td>True</td>\n",
       "      <td>train</td>\n",
       "      <td>NaN</td>\n",
       "      <td>nan;nan;nan;nan;nan</td>\n",
       "      <td>391.0</td>\n",
       "      <td>12.0</td>\n",
       "      <td>10.0</td>\n",
       "      <td>23.0</td>\n",
       "      <td>190.0</td>\n",
       "      <td>...</td>\n",
       "      <td>-16.0</td>\n",
       "      <td>-60.0</td>\n",
       "      <td>734.0</td>\n",
       "      <td>309.0</td>\n",
       "      <td>165.0</td>\n",
       "      <td>84.0</td>\n",
       "      <td>112.0</td>\n",
       "      <td>155.0</td>\n",
       "      <td>281.0</td>\n",
       "      <td>44.0</td>\n",
       "    </tr>\n",
       "    <tr>\n",
       "      <th>2</th>\n",
       "      <td>2488</td>\n",
       "      <td>False</td>\n",
       "      <td>train</td>\n",
       "      <td>AMD</td>\n",
       "      <td>Dec 2016;Dec 2017;Dec 2018;Dec 2019;Dec 2020</td>\n",
       "      <td>3316.0</td>\n",
       "      <td>133.0</td>\n",
       "      <td>-293.0</td>\n",
       "      <td>-160.0</td>\n",
       "      <td>1003.0</td>\n",
       "      <td>...</td>\n",
       "      <td>2490.0</td>\n",
       "      <td>-4605.0</td>\n",
       "      <td>9763.0</td>\n",
       "      <td>8962.0</td>\n",
       "      <td>6143.0</td>\n",
       "      <td>2417.0</td>\n",
       "      <td>1399.0</td>\n",
       "      <td>3125.0</td>\n",
       "      <td>2978.0</td>\n",
       "      <td>2076.0</td>\n",
       "    </tr>\n",
       "    <tr>\n",
       "      <th>3</th>\n",
       "      <td>2491</td>\n",
       "      <td>False</td>\n",
       "      <td>train</td>\n",
       "      <td>BYI</td>\n",
       "      <td>Jun 2010;Jun 2011;Jun 2012;Jun 2013;Jun 2014</td>\n",
       "      <td>274.0</td>\n",
       "      <td>75.0</td>\n",
       "      <td>155.0</td>\n",
       "      <td>230.0</td>\n",
       "      <td>484.0</td>\n",
       "      <td>...</td>\n",
       "      <td>99.0</td>\n",
       "      <td>745.0</td>\n",
       "      <td>1215.0</td>\n",
       "      <td>2519.0</td>\n",
       "      <td>593.0</td>\n",
       "      <td>252.0</td>\n",
       "      <td>82.0</td>\n",
       "      <td>2312.0</td>\n",
       "      <td>537.0</td>\n",
       "      <td>314.0</td>\n",
       "    </tr>\n",
       "    <tr>\n",
       "      <th>4</th>\n",
       "      <td>2852</td>\n",
       "      <td>True</td>\n",
       "      <td>train</td>\n",
       "      <td>NaN</td>\n",
       "      <td>nan;nan;nan;nan;nan</td>\n",
       "      <td>87.0</td>\n",
       "      <td>36.0</td>\n",
       "      <td>38.0</td>\n",
       "      <td>74.0</td>\n",
       "      <td>200.0</td>\n",
       "      <td>...</td>\n",
       "      <td>-79.0</td>\n",
       "      <td>-288.0</td>\n",
       "      <td>292.0</td>\n",
       "      <td>427.0</td>\n",
       "      <td>49.0</td>\n",
       "      <td>569.0</td>\n",
       "      <td>5.0</td>\n",
       "      <td>590.0</td>\n",
       "      <td>169.0</td>\n",
       "      <td>14.0</td>\n",
       "    </tr>\n",
       "  </tbody>\n",
       "</table>\n",
       "<p>5 rows × 90 columns</p>\n",
       "</div>"
      ]
     },
     "execution_count": 125,
     "metadata": {},
     "output_type": "execute_result"
    }
   ],
   "execution_count": 125
  },
  {
   "metadata": {
    "ExecuteTime": {
     "end_time": "2024-06-06T19:39:16.187438Z",
     "start_time": "2024-06-06T19:39:16.165008Z"
    }
   },
   "cell_type": "code",
   "source": [
    "flatten_financial_dataset_preprocessed = flatten_df.drop(['cik', 'ticker', 'Fiscal Period'], axis=1)\n",
    "X = flatten_financial_dataset_preprocessed.drop('label', axis=1)\n",
    "y = flatten_financial_dataset_preprocessed['label']\n",
    "\n",
    "X_train, y_train, X_val, y_val, X_test, y_test = get_train_val_test_split(X, y)\n",
    "len(X_train), len(X_val), len(X_test)"
   ],
   "id": "d72be163c30baa04",
   "outputs": [
    {
     "data": {
      "text/plain": [
       "(4891, 306, 919)"
      ]
     },
     "execution_count": 120,
     "metadata": {},
     "output_type": "execute_result"
    }
   ],
   "execution_count": 120
  },
  {
   "metadata": {
    "ExecuteTime": {
     "end_time": "2024-06-06T19:39:22.771467Z",
     "start_time": "2024-06-06T19:39:18.805828Z"
    }
   },
   "cell_type": "code",
   "source": [
    "rf = RandomForestClassifier(random_state=42)\n",
    "rf.fit(X_train, y_train)\n",
    "\n",
    "y_pred = rf.predict(X_test)"
   ],
   "id": "6930903a45ecc520",
   "outputs": [],
   "execution_count": 121
  },
  {
   "metadata": {
    "ExecuteTime": {
     "end_time": "2024-06-06T19:39:22.776811Z",
     "start_time": "2024-06-06T19:39:22.771467Z"
    }
   },
   "cell_type": "code",
   "source": "confusion_matrix(y_test, y_pred)",
   "id": "d53eba002ea2de14",
   "outputs": [
    {
     "data": {
      "text/plain": [
       "array([[490,   6],\n",
       "       [  1, 422]], dtype=int64)"
      ]
     },
     "execution_count": 122,
     "metadata": {},
     "output_type": "execute_result"
    }
   ],
   "execution_count": 122
  },
  {
   "metadata": {
    "ExecuteTime": {
     "end_time": "2024-06-06T19:39:22.782099Z",
     "start_time": "2024-06-06T19:39:22.776811Z"
    }
   },
   "cell_type": "code",
   "source": [
    "print(f'accuracy_score: {accuracy_score(y_test, y_pred)}')\n",
    "print(f'f1_score: {f1_score(y_test, y_pred)}')"
   ],
   "id": "d202e36ee433446e",
   "outputs": [
    {
     "name": "stdout",
     "output_type": "stream",
     "text": [
      "accuracy_score: 0.9923830250272034\n",
      "f1_score: 0.9917743830787309\n"
     ]
    }
   ],
   "execution_count": 123
  },
  {
   "metadata": {},
   "cell_type": "markdown",
   "source": "Flattening the dataset slightly improves the results by ~1%.",
   "id": "84bd7a4367931fc"
  },
  {
   "metadata": {},
   "cell_type": "markdown",
   "source": "### De-flattening the dataset",
   "id": "711aa326f54e4658"
  },
  {
   "metadata": {
    "ExecuteTime": {
     "end_time": "2024-06-06T19:10:19.051706Z",
     "start_time": "2024-06-06T19:10:19.037480Z"
    }
   },
   "cell_type": "code",
   "source": "flatten_df.head()",
   "id": "5d9344285ab4aeca",
   "outputs": [
    {
     "data": {
      "text/plain": [
       "    cik  label subset  Cost of Goods Sold_1  \\\n",
       "0  1800  False  train                9094.0   \n",
       "1  2034   True  train                 391.0   \n",
       "2  2488  False  train                3316.0   \n",
       "3  2491  False  train                 274.0   \n",
       "4  2852   True  train                  87.0   \n",
       "\n",
       "   Depreciation, Depletion and Amortization_1  EBIT_1  EBITDA_1  \\\n",
       "0                                      1353.0  1844.0    3197.0   \n",
       "1                                        12.0    10.0      23.0   \n",
       "2                                       133.0  -293.0    -160.0   \n",
       "3                                        75.0   155.0     230.0   \n",
       "4                                        36.0    38.0      74.0   \n",
       "\n",
       "   Gross Profit_1  Long-Term Debt_1  Market Cap_1  ...  Net Income_5  \\\n",
       "0         11759.0           20681.0       56573.0  ...        4495.0   \n",
       "1           190.0              16.0           0.0  ...         -16.0   \n",
       "2          1003.0            1435.0       10603.0  ...        2490.0   \n",
       "3           484.0             500.0        1806.0  ...          99.0   \n",
       "4           200.0             355.0          17.0  ...         -79.0   \n",
       "\n",
       "   Retained Earnings_5  Revenue_5  Total Assets_5  Total Current Assets_5  \\\n",
       "0              27627.0    34608.0         72548.0                 20441.0   \n",
       "1                -60.0      734.0           309.0                   165.0   \n",
       "2              -4605.0     9763.0          8962.0                  6143.0   \n",
       "3                745.0     1215.0          2519.0                   593.0   \n",
       "4               -288.0      292.0           427.0                    49.0   \n",
       "\n",
       "   Total Current Liabilities_5  Total Inventories_5  Total Liabilities_5  \\\n",
       "0                      11907.0               5012.0              39545.0   \n",
       "1                         84.0                112.0                155.0   \n",
       "2                       2417.0               1399.0               3125.0   \n",
       "3                        252.0                 82.0               2312.0   \n",
       "4                        569.0                  5.0                590.0   \n",
       "\n",
       "   Total Operating Expense_5  Total Receivables_5  \n",
       "0                    14248.0               8281.0  \n",
       "1                      281.0                 44.0  \n",
       "2                     2978.0               2076.0  \n",
       "3                      537.0                314.0  \n",
       "4                      169.0                 14.0  \n",
       "\n",
       "[5 rows x 88 columns]"
      ],
      "text/html": [
       "<div>\n",
       "<style scoped>\n",
       "    .dataframe tbody tr th:only-of-type {\n",
       "        vertical-align: middle;\n",
       "    }\n",
       "\n",
       "    .dataframe tbody tr th {\n",
       "        vertical-align: top;\n",
       "    }\n",
       "\n",
       "    .dataframe thead th {\n",
       "        text-align: right;\n",
       "    }\n",
       "</style>\n",
       "<table border=\"1\" class=\"dataframe\">\n",
       "  <thead>\n",
       "    <tr style=\"text-align: right;\">\n",
       "      <th></th>\n",
       "      <th>cik</th>\n",
       "      <th>label</th>\n",
       "      <th>subset</th>\n",
       "      <th>Cost of Goods Sold_1</th>\n",
       "      <th>Depreciation, Depletion and Amortization_1</th>\n",
       "      <th>EBIT_1</th>\n",
       "      <th>EBITDA_1</th>\n",
       "      <th>Gross Profit_1</th>\n",
       "      <th>Long-Term Debt_1</th>\n",
       "      <th>Market Cap_1</th>\n",
       "      <th>...</th>\n",
       "      <th>Net Income_5</th>\n",
       "      <th>Retained Earnings_5</th>\n",
       "      <th>Revenue_5</th>\n",
       "      <th>Total Assets_5</th>\n",
       "      <th>Total Current Assets_5</th>\n",
       "      <th>Total Current Liabilities_5</th>\n",
       "      <th>Total Inventories_5</th>\n",
       "      <th>Total Liabilities_5</th>\n",
       "      <th>Total Operating Expense_5</th>\n",
       "      <th>Total Receivables_5</th>\n",
       "    </tr>\n",
       "  </thead>\n",
       "  <tbody>\n",
       "    <tr>\n",
       "      <th>0</th>\n",
       "      <td>1800</td>\n",
       "      <td>False</td>\n",
       "      <td>train</td>\n",
       "      <td>9094.0</td>\n",
       "      <td>1353.0</td>\n",
       "      <td>1844.0</td>\n",
       "      <td>3197.0</td>\n",
       "      <td>11759.0</td>\n",
       "      <td>20681.0</td>\n",
       "      <td>56573.0</td>\n",
       "      <td>...</td>\n",
       "      <td>4495.0</td>\n",
       "      <td>27627.0</td>\n",
       "      <td>34608.0</td>\n",
       "      <td>72548.0</td>\n",
       "      <td>20441.0</td>\n",
       "      <td>11907.0</td>\n",
       "      <td>5012.0</td>\n",
       "      <td>39545.0</td>\n",
       "      <td>14248.0</td>\n",
       "      <td>8281.0</td>\n",
       "    </tr>\n",
       "    <tr>\n",
       "      <th>1</th>\n",
       "      <td>2034</td>\n",
       "      <td>True</td>\n",
       "      <td>train</td>\n",
       "      <td>391.0</td>\n",
       "      <td>12.0</td>\n",
       "      <td>10.0</td>\n",
       "      <td>23.0</td>\n",
       "      <td>190.0</td>\n",
       "      <td>16.0</td>\n",
       "      <td>0.0</td>\n",
       "      <td>...</td>\n",
       "      <td>-16.0</td>\n",
       "      <td>-60.0</td>\n",
       "      <td>734.0</td>\n",
       "      <td>309.0</td>\n",
       "      <td>165.0</td>\n",
       "      <td>84.0</td>\n",
       "      <td>112.0</td>\n",
       "      <td>155.0</td>\n",
       "      <td>281.0</td>\n",
       "      <td>44.0</td>\n",
       "    </tr>\n",
       "    <tr>\n",
       "      <th>2</th>\n",
       "      <td>2488</td>\n",
       "      <td>False</td>\n",
       "      <td>train</td>\n",
       "      <td>3316.0</td>\n",
       "      <td>133.0</td>\n",
       "      <td>-293.0</td>\n",
       "      <td>-160.0</td>\n",
       "      <td>1003.0</td>\n",
       "      <td>1435.0</td>\n",
       "      <td>10603.0</td>\n",
       "      <td>...</td>\n",
       "      <td>2490.0</td>\n",
       "      <td>-4605.0</td>\n",
       "      <td>9763.0</td>\n",
       "      <td>8962.0</td>\n",
       "      <td>6143.0</td>\n",
       "      <td>2417.0</td>\n",
       "      <td>1399.0</td>\n",
       "      <td>3125.0</td>\n",
       "      <td>2978.0</td>\n",
       "      <td>2076.0</td>\n",
       "    </tr>\n",
       "    <tr>\n",
       "      <th>3</th>\n",
       "      <td>2491</td>\n",
       "      <td>False</td>\n",
       "      <td>train</td>\n",
       "      <td>274.0</td>\n",
       "      <td>75.0</td>\n",
       "      <td>155.0</td>\n",
       "      <td>230.0</td>\n",
       "      <td>484.0</td>\n",
       "      <td>500.0</td>\n",
       "      <td>1806.0</td>\n",
       "      <td>...</td>\n",
       "      <td>99.0</td>\n",
       "      <td>745.0</td>\n",
       "      <td>1215.0</td>\n",
       "      <td>2519.0</td>\n",
       "      <td>593.0</td>\n",
       "      <td>252.0</td>\n",
       "      <td>82.0</td>\n",
       "      <td>2312.0</td>\n",
       "      <td>537.0</td>\n",
       "      <td>314.0</td>\n",
       "    </tr>\n",
       "    <tr>\n",
       "      <th>4</th>\n",
       "      <td>2852</td>\n",
       "      <td>True</td>\n",
       "      <td>train</td>\n",
       "      <td>87.0</td>\n",
       "      <td>36.0</td>\n",
       "      <td>38.0</td>\n",
       "      <td>74.0</td>\n",
       "      <td>200.0</td>\n",
       "      <td>355.0</td>\n",
       "      <td>17.0</td>\n",
       "      <td>...</td>\n",
       "      <td>-79.0</td>\n",
       "      <td>-288.0</td>\n",
       "      <td>292.0</td>\n",
       "      <td>427.0</td>\n",
       "      <td>49.0</td>\n",
       "      <td>569.0</td>\n",
       "      <td>5.0</td>\n",
       "      <td>590.0</td>\n",
       "      <td>169.0</td>\n",
       "      <td>14.0</td>\n",
       "    </tr>\n",
       "  </tbody>\n",
       "</table>\n",
       "<p>5 rows × 88 columns</p>\n",
       "</div>"
      ]
     },
     "execution_count": 88,
     "metadata": {},
     "output_type": "execute_result"
    }
   ],
   "execution_count": 88
  },
  {
   "metadata": {
    "ExecuteTime": {
     "end_time": "2024-06-06T20:06:08.264958Z",
     "start_time": "2024-06-06T20:06:08.254701Z"
    }
   },
   "cell_type": "code",
   "source": [
    "def deflatten_financial_dataset(flatten_df):\n",
    "    object_length_in_rows = 5\n",
    "    info_columns_count = 5\n",
    "\n",
    "    values_columns = flatten_df.columns[info_columns_count:]\n",
    "    unique_values_columns = sorted(set(col.split('_')[0] for col in values_columns))\n",
    "    \n",
    "    new_columns = flatten_df.columns[:info_columns_count].tolist() + unique_values_columns\n",
    "\n",
    "    deflattened_rows = []\n",
    "\n",
    "    for _, row in flatten_df.iterrows():\n",
    "        first_columns = row.values[:info_columns_count]\n",
    "        fiscal_periods = row.values[4].split(';')\n",
    "        \n",
    "        reshaped_values = np.array(row.values[info_columns_count:]).reshape(object_length_in_rows, -1)\n",
    "        \n",
    "        for i in range(object_length_in_rows):\n",
    "            new_row = np.concatenate([first_columns[:4], [fiscal_periods[i]], reshaped_values[i]])\n",
    "            deflattened_rows.append(new_row)\n",
    "\n",
    "    deflatten_df = pd.DataFrame(deflattened_rows, columns=new_columns)\n",
    "    \n",
    "    return deflatten_df.reset_index(drop=True)"
   ],
   "id": "cf33308ef1916cbf",
   "outputs": [],
   "execution_count": 147
  },
  {
   "metadata": {
    "ExecuteTime": {
     "end_time": "2024-06-06T20:06:09.890429Z",
     "start_time": "2024-06-06T20:06:09.621721Z"
    }
   },
   "cell_type": "code",
   "source": [
    "deflatten_df = deflatten_financial_dataset(flatten_df)\n",
    "deflatten_df.head()"
   ],
   "id": "4dcdbbfcc4330963",
   "outputs": [
    {
     "data": {
      "text/plain": [
       "    cik  label subset ticker Fiscal Period  Cost of Goods Sold  \\\n",
       "0  1800  False  train    ABT      Dec 2016              9094.0   \n",
       "1  1800  False  train    ABT      Dec 2017             12409.0   \n",
       "2  1800  False  train    ABT      Dec 2018             12706.0   \n",
       "3  1800  False  train    ABT      Dec 2019             13231.0   \n",
       "4  1800  False  train    ABT      Dec 2020             15003.0   \n",
       "\n",
       "   Depreciation, Depletion and Amortization    EBIT  EBITDA  Gross Profit  \\\n",
       "0                                    1353.0  1844.0  3197.0       11759.0   \n",
       "1                                    3021.0  3135.0  6156.0       14981.0   \n",
       "2                                    3278.0  3699.0  6977.0       17872.0   \n",
       "3                                    3014.0  4747.0  7761.0       18673.0   \n",
       "4                                    3327.0  5514.0  8841.0       19605.0   \n",
       "\n",
       "   ...  Net Income  Retained Earnings  Revenue  Total Assets  \\\n",
       "0  ...      1400.0            25565.0  20853.0       52666.0   \n",
       "1  ...       477.0            23978.0  27390.0       76250.0   \n",
       "2  ...      2368.0            24560.0  30578.0       67173.0   \n",
       "3  ...      3687.0            25847.0  31904.0       67887.0   \n",
       "4  ...      4495.0            27627.0  34608.0       72548.0   \n",
       "\n",
       "   Total Current Assets  Total Current Liabilities  Total Inventories  \\\n",
       "0               26776.0                     6660.0             2434.0   \n",
       "1               20147.0                     8912.0             3601.0   \n",
       "2               14632.0                     9012.0             3796.0   \n",
       "3               15667.0                    10863.0             4316.0   \n",
       "4               20441.0                    11907.0             5012.0   \n",
       "\n",
       "   Total Liabilities  Total Operating Expense  Total Receivables  \n",
       "0            31949.0                   8733.0             5054.0  \n",
       "1            45152.0                  13417.0             6916.0  \n",
       "2            36451.0                  14222.0             6750.0  \n",
       "3            36586.0                  14141.0             7211.0  \n",
       "4            39545.0                  14248.0             8281.0  \n",
       "\n",
       "[5 rows x 22 columns]"
      ],
      "text/html": [
       "<div>\n",
       "<style scoped>\n",
       "    .dataframe tbody tr th:only-of-type {\n",
       "        vertical-align: middle;\n",
       "    }\n",
       "\n",
       "    .dataframe tbody tr th {\n",
       "        vertical-align: top;\n",
       "    }\n",
       "\n",
       "    .dataframe thead th {\n",
       "        text-align: right;\n",
       "    }\n",
       "</style>\n",
       "<table border=\"1\" class=\"dataframe\">\n",
       "  <thead>\n",
       "    <tr style=\"text-align: right;\">\n",
       "      <th></th>\n",
       "      <th>cik</th>\n",
       "      <th>label</th>\n",
       "      <th>subset</th>\n",
       "      <th>ticker</th>\n",
       "      <th>Fiscal Period</th>\n",
       "      <th>Cost of Goods Sold</th>\n",
       "      <th>Depreciation, Depletion and Amortization</th>\n",
       "      <th>EBIT</th>\n",
       "      <th>EBITDA</th>\n",
       "      <th>Gross Profit</th>\n",
       "      <th>...</th>\n",
       "      <th>Net Income</th>\n",
       "      <th>Retained Earnings</th>\n",
       "      <th>Revenue</th>\n",
       "      <th>Total Assets</th>\n",
       "      <th>Total Current Assets</th>\n",
       "      <th>Total Current Liabilities</th>\n",
       "      <th>Total Inventories</th>\n",
       "      <th>Total Liabilities</th>\n",
       "      <th>Total Operating Expense</th>\n",
       "      <th>Total Receivables</th>\n",
       "    </tr>\n",
       "  </thead>\n",
       "  <tbody>\n",
       "    <tr>\n",
       "      <th>0</th>\n",
       "      <td>1800</td>\n",
       "      <td>False</td>\n",
       "      <td>train</td>\n",
       "      <td>ABT</td>\n",
       "      <td>Dec 2016</td>\n",
       "      <td>9094.0</td>\n",
       "      <td>1353.0</td>\n",
       "      <td>1844.0</td>\n",
       "      <td>3197.0</td>\n",
       "      <td>11759.0</td>\n",
       "      <td>...</td>\n",
       "      <td>1400.0</td>\n",
       "      <td>25565.0</td>\n",
       "      <td>20853.0</td>\n",
       "      <td>52666.0</td>\n",
       "      <td>26776.0</td>\n",
       "      <td>6660.0</td>\n",
       "      <td>2434.0</td>\n",
       "      <td>31949.0</td>\n",
       "      <td>8733.0</td>\n",
       "      <td>5054.0</td>\n",
       "    </tr>\n",
       "    <tr>\n",
       "      <th>1</th>\n",
       "      <td>1800</td>\n",
       "      <td>False</td>\n",
       "      <td>train</td>\n",
       "      <td>ABT</td>\n",
       "      <td>Dec 2017</td>\n",
       "      <td>12409.0</td>\n",
       "      <td>3021.0</td>\n",
       "      <td>3135.0</td>\n",
       "      <td>6156.0</td>\n",
       "      <td>14981.0</td>\n",
       "      <td>...</td>\n",
       "      <td>477.0</td>\n",
       "      <td>23978.0</td>\n",
       "      <td>27390.0</td>\n",
       "      <td>76250.0</td>\n",
       "      <td>20147.0</td>\n",
       "      <td>8912.0</td>\n",
       "      <td>3601.0</td>\n",
       "      <td>45152.0</td>\n",
       "      <td>13417.0</td>\n",
       "      <td>6916.0</td>\n",
       "    </tr>\n",
       "    <tr>\n",
       "      <th>2</th>\n",
       "      <td>1800</td>\n",
       "      <td>False</td>\n",
       "      <td>train</td>\n",
       "      <td>ABT</td>\n",
       "      <td>Dec 2018</td>\n",
       "      <td>12706.0</td>\n",
       "      <td>3278.0</td>\n",
       "      <td>3699.0</td>\n",
       "      <td>6977.0</td>\n",
       "      <td>17872.0</td>\n",
       "      <td>...</td>\n",
       "      <td>2368.0</td>\n",
       "      <td>24560.0</td>\n",
       "      <td>30578.0</td>\n",
       "      <td>67173.0</td>\n",
       "      <td>14632.0</td>\n",
       "      <td>9012.0</td>\n",
       "      <td>3796.0</td>\n",
       "      <td>36451.0</td>\n",
       "      <td>14222.0</td>\n",
       "      <td>6750.0</td>\n",
       "    </tr>\n",
       "    <tr>\n",
       "      <th>3</th>\n",
       "      <td>1800</td>\n",
       "      <td>False</td>\n",
       "      <td>train</td>\n",
       "      <td>ABT</td>\n",
       "      <td>Dec 2019</td>\n",
       "      <td>13231.0</td>\n",
       "      <td>3014.0</td>\n",
       "      <td>4747.0</td>\n",
       "      <td>7761.0</td>\n",
       "      <td>18673.0</td>\n",
       "      <td>...</td>\n",
       "      <td>3687.0</td>\n",
       "      <td>25847.0</td>\n",
       "      <td>31904.0</td>\n",
       "      <td>67887.0</td>\n",
       "      <td>15667.0</td>\n",
       "      <td>10863.0</td>\n",
       "      <td>4316.0</td>\n",
       "      <td>36586.0</td>\n",
       "      <td>14141.0</td>\n",
       "      <td>7211.0</td>\n",
       "    </tr>\n",
       "    <tr>\n",
       "      <th>4</th>\n",
       "      <td>1800</td>\n",
       "      <td>False</td>\n",
       "      <td>train</td>\n",
       "      <td>ABT</td>\n",
       "      <td>Dec 2020</td>\n",
       "      <td>15003.0</td>\n",
       "      <td>3327.0</td>\n",
       "      <td>5514.0</td>\n",
       "      <td>8841.0</td>\n",
       "      <td>19605.0</td>\n",
       "      <td>...</td>\n",
       "      <td>4495.0</td>\n",
       "      <td>27627.0</td>\n",
       "      <td>34608.0</td>\n",
       "      <td>72548.0</td>\n",
       "      <td>20441.0</td>\n",
       "      <td>11907.0</td>\n",
       "      <td>5012.0</td>\n",
       "      <td>39545.0</td>\n",
       "      <td>14248.0</td>\n",
       "      <td>8281.0</td>\n",
       "    </tr>\n",
       "  </tbody>\n",
       "</table>\n",
       "<p>5 rows × 22 columns</p>\n",
       "</div>"
      ]
     },
     "execution_count": 148,
     "metadata": {},
     "output_type": "execute_result"
    }
   ],
   "execution_count": 148
  },
  {
   "metadata": {},
   "cell_type": "markdown",
   "source": [
    "## Textual data\n",
    "\n",
    "Textual data was being prepared after the financial part. For companies that were matched with morningstar, the textual data was accessible through: https://cloud.ilabt.imec.be/index.php/s/yrQneXG74bNYxLp, as the authors of the 'ECL' dataset provided the textual data - financial reports scrapped from edgar database.\n",
    "\n",
    "The textual data was intended to be used be lightweight models like BERT. Furthermore, the crucial MD&A section form financial report has 6,810 words on average.\n",
    "That is why it was necessary to shorten the text, in this case to 512 tokens.\n",
    "\n",
    "Two models gemini-1.0-pro and gemini-1.5-pro-latest utilised through api were prompted with following text:\n",
    "```\n",
    "\"You are a financial analyst, specialized in assessing companies' financial health and communicating with clients.\n",
    "I have the management discussion and analysis from a company's 10k report, and I would like to know the elements that could indicate its financial health.\n",
    "Provide a concise summary of the most important information from the investor perspective from the included text,\n",
    "focusing on information about financial performance (e.g., revenue, profitability, liquidity and capital resources),\n",
    "risks (industry Trends, competition, market fluctuations), or future outlook (e.g., growth strategies, acquisitions).\n",
    "Do not split to paragraphs, give just list of sentence that make a summary out of the text.\n",
    "Text: {text_for_prompt}, where text is a management's discussion and analysis section from a 10-K report,\n",
    "with a maximum length of around 15000 words. Try to generate answer between 256 and 512 tokens length.\"\n",
    "```\n",
    "\n",
    "Created dataset is matched with above financial dataset and is corresponding to the same companies.\n",
    "Positive class was oversampled through process of generation synonymous texts leveraging \"https://api.ai21.com/studio/v1/paraphrase\" endpoint. Also for almost every original summary, there is a copy of it made through another call to gemini models. As a result, the dataset is almost balanced."
   ],
   "id": "24a581cd2f134a9e"
  },
  {
   "metadata": {},
   "cell_type": "markdown",
   "source": "### Overview",
   "id": "1e020944ee3a7608"
  },
  {
   "metadata": {
    "ExecuteTime": {
     "end_time": "2024-06-06T20:35:21.008293Z",
     "start_time": "2024-06-06T20:35:20.922010Z"
    }
   },
   "cell_type": "code",
   "source": [
    "textual_dataset = pd.read_csv('textual_data-matched_and_aligned_with_fin_data-split.csv')\n",
    "print(textual_dataset.shape)\n",
    "textual_dataset.head()"
   ],
   "id": "ba9db6e3ca5483e4",
   "outputs": [
    {
     "name": "stdout",
     "output_type": "stream",
     "text": [
      "(6116, 4)\n"
     ]
    },
    {
     "data": {
      "text/plain": [
       "         cik  label subset  \\\n",
       "0  138291101   True   test   \n",
       "1    1324245  False  train   \n",
       "2    1178670  False  train   \n",
       "3  117871706   True  train   \n",
       "4   94577107   True  train   \n",
       "\n",
       "                                                                                                                                                                                                                                                                                                                                                                                                                                                                                                                                                                                                                                                                                                                                                                                                                                                                                                                                                                                                                                                                                                                                                                                                                                                                                                                                                                                                                                                                                                                                                                                                                                                                                                                                                                                                                                                                                                                                                                                                      text  \n",
       "0                                                                                                                                                                                                                                                                                                                                                                                                                                                                                                                                                                                                                                                                                                                                                                                                                                                                                                                                            As a biopharmaceutical company, Contrave is focused solely on the commercialization of its weight management drug.  The company generated $33.7 million in revenue in 2016, up from $24.5 million in 2015.  Contrave's first US net sales totaled $17.3 million in 2016.  Future sales are difficult to predict at this stage in the company's commercialization process.  Due to costs associated with establishing sales and marketing capabilities, selling, general, and administrative expenses decreased slightly.  Unprofitable, the company reports a net loss and expects to continue incurring losses for several years.  Contrave's success is essential to the company's profitability, as it depends on revenue to cover costs.  To support operations, the company may issue equity, debt, or royalty-based agreements, all of which could dilution existing shareholders significantly.  In order for Contrave to be successfully commercialized, needed regulatory approvals must be obtained, as well as adequate funding must be secured.    \n",
       "1                                                                                                                                                                                                                                                                                              Solera is a global provider of software and services for the automobile claims processing industry, serving over 165,000 customers in 70 countries.  The company operates in two segments: EMEA and Americas, with the US and UK being the only countries representing more than 10% of total revenues in fiscal year 2014.  Revenues are generated from sales of software and services under negotiated contracts or pricing agreements, with the core offering being estimating and workflow software. The company has a high customer retention rate due to customer integration and long-standing relationships.  Revenue increased by 17.8% in fiscal year 2014, driven by the acquisition of SRS and organic growth in both segments, particularly in re-underwriting services and transaction-based revenues.  Operating expenses and systems development and programming costs also increased due to acquisitions and investments in product development.  The company actively pursues acquisitions as part of its growth strategy and recently acquired the Insurance and Services Division of Pittsburgh Glass Works. Solera believes its existing cash on hand and cash flow from operations are sufficient to fund working capital, debt service, acquisitions, and strategic investments for at least the next twelve months.  The company is exposed to foreign currency fluctuations, primarily the Euro, and mitigates this risk through cross-currency swaps.  Factors influencing business volume and revenue include the number of insurance claims, new and used vehicle sales, damaged vehicle repair costs, automobile usage, seasonality, and vehicle insurance penetration rates.   \n",
       "2  The company is a commercial-stage biopharmaceutical company focusing on RNAi therapeutics. They have two approved products, ONPATTRO and GIVLAARI, and six late-stage investigational programs. The company has incurred significant losses since inception and expects losses to continue due to research and development costs. Revenue comes from product sales and collaborations with Regeneron, Sanofi Genzyme, and MDCO.  Critical accounting policies include revenue recognition for product sales and collaborations, inventory capitalization, income tax accounting, stock-based compensation, and research and development accruals. Net product revenue increased in 2019 due to ONPATTRO sales and the launch of GIVLAARI. Collaboration revenue decreased in 2019 but is expected to increase in 2020 due to reimbursable activities and milestones. Operating expenses, including cost of goods sold, research and development, and selling, general and administrative expenses, increased in 2019 due to growth and commercialization activities. The company expects these expenses to continue increasing in 2020. As of December 31, 2019, the company had $1.54 billion in cash, cash equivalents, and marketable securities. They believe this is sufficient to fund operations for at least the next 12 months. However, the company may require additional funding sooner to support commercialization and development activities. Future capital requirements depend on factors such as R&D progress, collaboration agreements, regulatory approvals, and manufacturing capabilities. The company may seek additional funding through collaborations, equity offerings, or debt financing, which could result in dilution or restrictive covenants. The company also has off-balance sheet arrangements, primarily indemnification clauses in license agreements.  Contractual obligations include operating leases, license agreements, and potential milestone payments.    \n",
       "3                                                                                                                                                                                                                                                                                                                                                                                                                                                                                                                                                                                                                                                                                                                                                              This decline was largely driven by the decline in the advertising insert market and partially offset by growth in direct mail marketing, according to Vertis Inc.  Its Advertising Inserts segment faces challenges related to industry overcapacity and price pressure.  In spite of acquisitions and volume growth, Direct Mail's EBITDA declined due to a non-cash impairment charge and increased fixed costs.  In addition, their $250 million revolving credit facility will mature in December 2008, and their $130 million accounts receivable facility will mature in February 2009.  The company is exploring refinancing, restructuring, and debt exchange options to stay afloat during its upcoming maturities.  While the company has been in contact with lenders and debtholders, no agreement has been reached so far.  Furthermore, Vertis' independent auditors have qualified it as a going concern.  As part of a restructuring program already yielding results, management is taking steps to cut costs and focus on operational efficiency to improve profitability.  In the future, the company's performance may be affected by market trends, competition, paper costs, and its ability to refinance its debt.    \n",
       "4                                                                                                                                                                                                                                                                                                                                                                                                                           Losses, negative cash flows, and a working capital deficit pose substantial doubts about the company's viability.  Acquisitions and growth in communication services helped drive revenues in 2000, but price reductions and industry competition lowered revenues per minute.  Despite the company's network ownership expansion, its cost of services and sales decreased as a percentage of revenue, though gross profit is expected to drop since capacity sales no longer qualify for sales-type lease accounting.  The company's selling, general, and administrative expenses increased as a result of acquisitions, expansions, and restructuring charges, including more accounts receivable reserves.  In 2000, the company reported EBITDA losses and a significant net loss, with high depreciation and amortization costs.  It is facing a difficult economic environment and suspending interest and dividend payments that pose a major concern regarding liquidity.  Restructuring at the company focuses on corporate and Broadband/Enterprise segments, while closing consumer-oriented businesses in several countries and reducing hiring.  If creditors fail to reach an agreement, there is a significant risk of bankruptcy. Creditors are actively seeking restructuring options, including debt-to-equity conversions and exploring strategic alternatives.  Various challenges face the company, such as intense industry competition, regulatory uncertainty, dependence on third-party sales organizations, and the need for additional funding.    "
      ],
      "text/html": [
       "<div>\n",
       "<style scoped>\n",
       "    .dataframe tbody tr th:only-of-type {\n",
       "        vertical-align: middle;\n",
       "    }\n",
       "\n",
       "    .dataframe tbody tr th {\n",
       "        vertical-align: top;\n",
       "    }\n",
       "\n",
       "    .dataframe thead th {\n",
       "        text-align: right;\n",
       "    }\n",
       "</style>\n",
       "<table border=\"1\" class=\"dataframe\">\n",
       "  <thead>\n",
       "    <tr style=\"text-align: right;\">\n",
       "      <th></th>\n",
       "      <th>cik</th>\n",
       "      <th>label</th>\n",
       "      <th>subset</th>\n",
       "      <th>text</th>\n",
       "    </tr>\n",
       "  </thead>\n",
       "  <tbody>\n",
       "    <tr>\n",
       "      <th>0</th>\n",
       "      <td>138291101</td>\n",
       "      <td>True</td>\n",
       "      <td>test</td>\n",
       "      <td>As a biopharmaceutical company, Contrave is focused solely on the commercialization of its weight management drug.  The company generated $33.7 million in revenue in 2016, up from $24.5 million in 2015.  Contrave's first US net sales totaled $17.3 million in 2016.  Future sales are difficult to predict at this stage in the company's commercialization process.  Due to costs associated with establishing sales and marketing capabilities, selling, general, and administrative expenses decreased slightly.  Unprofitable, the company reports a net loss and expects to continue incurring losses for several years.  Contrave's success is essential to the company's profitability, as it depends on revenue to cover costs.  To support operations, the company may issue equity, debt, or royalty-based agreements, all of which could dilution existing shareholders significantly.  In order for Contrave to be successfully commercialized, needed regulatory approvals must be obtained, as well as adequate funding must be secured.</td>\n",
       "    </tr>\n",
       "    <tr>\n",
       "      <th>1</th>\n",
       "      <td>1324245</td>\n",
       "      <td>False</td>\n",
       "      <td>train</td>\n",
       "      <td>Solera is a global provider of software and services for the automobile claims processing industry, serving over 165,000 customers in 70 countries.  The company operates in two segments: EMEA and Americas, with the US and UK being the only countries representing more than 10% of total revenues in fiscal year 2014.  Revenues are generated from sales of software and services under negotiated contracts or pricing agreements, with the core offering being estimating and workflow software. The company has a high customer retention rate due to customer integration and long-standing relationships.  Revenue increased by 17.8% in fiscal year 2014, driven by the acquisition of SRS and organic growth in both segments, particularly in re-underwriting services and transaction-based revenues.  Operating expenses and systems development and programming costs also increased due to acquisitions and investments in product development.  The company actively pursues acquisitions as part of its growth strategy and recently acquired the Insurance and Services Division of Pittsburgh Glass Works. Solera believes its existing cash on hand and cash flow from operations are sufficient to fund working capital, debt service, acquisitions, and strategic investments for at least the next twelve months.  The company is exposed to foreign currency fluctuations, primarily the Euro, and mitigates this risk through cross-currency swaps.  Factors influencing business volume and revenue include the number of insurance claims, new and used vehicle sales, damaged vehicle repair costs, automobile usage, seasonality, and vehicle insurance penetration rates.</td>\n",
       "    </tr>\n",
       "    <tr>\n",
       "      <th>2</th>\n",
       "      <td>1178670</td>\n",
       "      <td>False</td>\n",
       "      <td>train</td>\n",
       "      <td>The company is a commercial-stage biopharmaceutical company focusing on RNAi therapeutics. They have two approved products, ONPATTRO and GIVLAARI, and six late-stage investigational programs. The company has incurred significant losses since inception and expects losses to continue due to research and development costs. Revenue comes from product sales and collaborations with Regeneron, Sanofi Genzyme, and MDCO.  Critical accounting policies include revenue recognition for product sales and collaborations, inventory capitalization, income tax accounting, stock-based compensation, and research and development accruals. Net product revenue increased in 2019 due to ONPATTRO sales and the launch of GIVLAARI. Collaboration revenue decreased in 2019 but is expected to increase in 2020 due to reimbursable activities and milestones. Operating expenses, including cost of goods sold, research and development, and selling, general and administrative expenses, increased in 2019 due to growth and commercialization activities. The company expects these expenses to continue increasing in 2020. As of December 31, 2019, the company had $1.54 billion in cash, cash equivalents, and marketable securities. They believe this is sufficient to fund operations for at least the next 12 months. However, the company may require additional funding sooner to support commercialization and development activities. Future capital requirements depend on factors such as R&amp;D progress, collaboration agreements, regulatory approvals, and manufacturing capabilities. The company may seek additional funding through collaborations, equity offerings, or debt financing, which could result in dilution or restrictive covenants. The company also has off-balance sheet arrangements, primarily indemnification clauses in license agreements.  Contractual obligations include operating leases, license agreements, and potential milestone payments.</td>\n",
       "    </tr>\n",
       "    <tr>\n",
       "      <th>3</th>\n",
       "      <td>117871706</td>\n",
       "      <td>True</td>\n",
       "      <td>train</td>\n",
       "      <td>This decline was largely driven by the decline in the advertising insert market and partially offset by growth in direct mail marketing, according to Vertis Inc.  Its Advertising Inserts segment faces challenges related to industry overcapacity and price pressure.  In spite of acquisitions and volume growth, Direct Mail's EBITDA declined due to a non-cash impairment charge and increased fixed costs.  In addition, their $250 million revolving credit facility will mature in December 2008, and their $130 million accounts receivable facility will mature in February 2009.  The company is exploring refinancing, restructuring, and debt exchange options to stay afloat during its upcoming maturities.  While the company has been in contact with lenders and debtholders, no agreement has been reached so far.  Furthermore, Vertis' independent auditors have qualified it as a going concern.  As part of a restructuring program already yielding results, management is taking steps to cut costs and focus on operational efficiency to improve profitability.  In the future, the company's performance may be affected by market trends, competition, paper costs, and its ability to refinance its debt.</td>\n",
       "    </tr>\n",
       "    <tr>\n",
       "      <th>4</th>\n",
       "      <td>94577107</td>\n",
       "      <td>True</td>\n",
       "      <td>train</td>\n",
       "      <td>Losses, negative cash flows, and a working capital deficit pose substantial doubts about the company's viability.  Acquisitions and growth in communication services helped drive revenues in 2000, but price reductions and industry competition lowered revenues per minute.  Despite the company's network ownership expansion, its cost of services and sales decreased as a percentage of revenue, though gross profit is expected to drop since capacity sales no longer qualify for sales-type lease accounting.  The company's selling, general, and administrative expenses increased as a result of acquisitions, expansions, and restructuring charges, including more accounts receivable reserves.  In 2000, the company reported EBITDA losses and a significant net loss, with high depreciation and amortization costs.  It is facing a difficult economic environment and suspending interest and dividend payments that pose a major concern regarding liquidity.  Restructuring at the company focuses on corporate and Broadband/Enterprise segments, while closing consumer-oriented businesses in several countries and reducing hiring.  If creditors fail to reach an agreement, there is a significant risk of bankruptcy. Creditors are actively seeking restructuring options, including debt-to-equity conversions and exploring strategic alternatives.  Various challenges face the company, such as intense industry competition, regulatory uncertainty, dependence on third-party sales organizations, and the need for additional funding.</td>\n",
       "    </tr>\n",
       "  </tbody>\n",
       "</table>\n",
       "</div>"
      ]
     },
     "execution_count": 157,
     "metadata": {},
     "output_type": "execute_result"
    }
   ],
   "execution_count": 157
  },
  {
   "metadata": {
    "ExecuteTime": {
     "end_time": "2024-06-06T20:32:36.680701Z",
     "start_time": "2024-06-06T20:32:36.669447Z"
    }
   },
   "cell_type": "code",
   "source": "textual_dataset['label'].value_counts()",
   "id": "3d3fe4fb2040ac37",
   "outputs": [
    {
     "data": {
      "text/plain": [
       "label\n",
       "False    3300\n",
       "True     2816\n",
       "Name: count, dtype: int64"
      ]
     },
     "execution_count": 152,
     "metadata": {},
     "output_type": "execute_result"
    }
   ],
   "execution_count": 152
  },
  {
   "metadata": {
    "ExecuteTime": {
     "end_time": "2024-06-06T20:34:29.715175Z",
     "start_time": "2024-06-06T20:34:29.627626Z"
    }
   },
   "cell_type": "code",
   "source": [
    "import matplotlib.pyplot as plt\n",
    "\n",
    "text_lengths = [len(text) for text in textual_dataset['text'].values]\n",
    "plt.hist(text_lengths, bins=30)\n",
    "plt.show()"
   ],
   "id": "f8e6cd745593a18c",
   "outputs": [
    {
     "data": {
      "text/plain": [
       "<Figure size 640x480 with 1 Axes>"
      ],
      "image/png": "[encoded data removed]"
     },
     "metadata": {},
     "output_type": "display_data"
    }
   ],
   "execution_count": 156
  },
  {
   "metadata": {},
   "cell_type": "markdown",
   "source": "### Example usage",
   "id": "736d87fcb730c9b2"
  },
  {
   "metadata": {
    "ExecuteTime": {
     "end_time": "2024-06-06T20:37:15.385028Z",
     "start_time": "2024-06-06T20:37:15.381139Z"
    }
   },
   "cell_type": "code",
   "source": [
    "import pandas as pd\n",
    "from sklearn.model_selection import train_test_split\n",
    "from sklearn.feature_extraction.text import TfidfVectorizer\n",
    "from sklearn.linear_model import LogisticRegression\n",
    "from sklearn.metrics import confusion_matrix, accuracy_score, f1_score\n",
    "\n",
    "import string"
   ],
   "id": "676d78e6a419ddb0",
   "outputs": [],
   "execution_count": 161
  },
  {
   "metadata": {
    "ExecuteTime": {
     "end_time": "2024-06-06T20:37:15.954483Z",
     "start_time": "2024-06-06T20:37:15.937069Z"
    }
   },
   "cell_type": "code",
   "source": [
    "def preprocess_text(text):\n",
    "  text = text.lower()\n",
    "  text = text.translate(str.maketrans('', '', string.punctuation))\n",
    "  return text"
   ],
   "id": "d115e69e8705a0bf",
   "outputs": [],
   "execution_count": 162
  },
  {
   "metadata": {
    "ExecuteTime": {
     "end_time": "2024-06-06T20:37:16.426349Z",
     "start_time": "2024-06-06T20:37:16.340814Z"
    }
   },
   "cell_type": "code",
   "source": [
    "X = textual_dataset['text'].apply(preprocess_text)\n",
    "y = textual_dataset['label']\n",
    "\n",
    "X_train, X_test, y_train, y_test = train_test_split(X, y, test_size=0.2, random_state=42)"
   ],
   "id": "b512b6e8771e2b8f",
   "outputs": [],
   "execution_count": 163
  },
  {
   "metadata": {
    "ExecuteTime": {
     "end_time": "2024-06-06T20:37:33.754601Z",
     "start_time": "2024-06-06T20:37:32.485349Z"
    }
   },
   "cell_type": "code",
   "source": [
    "vectorizer = TfidfVectorizer(max_features=1000)\n",
    "X_train_features = vectorizer.fit_transform(X_train)\n",
    "X_test_features = vectorizer.transform(X_test)"
   ],
   "id": "8fe24dd2cf3af7d5",
   "outputs": [],
   "execution_count": 164
  },
  {
   "metadata": {
    "ExecuteTime": {
     "end_time": "2024-06-06T20:37:52.310208Z",
     "start_time": "2024-06-06T20:37:52.268982Z"
    }
   },
   "cell_type": "code",
   "source": [
    "model = LogisticRegression(solver='liblinear')\n",
    "model.fit(X_train_features, y_train)\n",
    "\n",
    "y_pred = model.predict(X_test_features)"
   ],
   "id": "10d3427017eea399",
   "outputs": [],
   "execution_count": 165
  },
  {
   "metadata": {
    "ExecuteTime": {
     "end_time": "2024-06-06T20:38:56.130902Z",
     "start_time": "2024-06-06T20:38:56.124925Z"
    }
   },
   "cell_type": "code",
   "source": "confusion_matrix(y_test, y_pred)",
   "id": "7f4381c6f94366a",
   "outputs": [
    {
     "data": {
      "text/plain": [
       "array([[640,  20],\n",
       "       [ 35, 529]], dtype=int64)"
      ]
     },
     "execution_count": 166,
     "metadata": {},
     "output_type": "execute_result"
    }
   ],
   "execution_count": 166
  },
  {
   "metadata": {
    "ExecuteTime": {
     "end_time": "2024-06-06T20:39:13.200641Z",
     "start_time": "2024-06-06T20:39:13.193517Z"
    }
   },
   "cell_type": "code",
   "source": [
    "print(f'accuracy_score: {accuracy_score(y_test, y_pred)}')\n",
    "print(f'f1_score: {f1_score(y_test, y_pred)}')"
   ],
   "id": "4f84812210908cc7",
   "outputs": [
    {
     "name": "stdout",
     "output_type": "stream",
     "text": [
      "accuracy_score: 0.9550653594771242\n",
      "f1_score: 0.9505840071877808\n"
     ]
    }
   ],
   "execution_count": 167
  },
  {
   "metadata": {
    "ExecuteTime": {
     "end_time": "2024-06-06T20:41:58.382300Z",
     "start_time": "2024-06-06T20:41:58.367060Z"
    }
   },
   "cell_type": "code",
   "source": [
    "new_texts = [\n",
    "    \"The company is experiencing steady revenue growth and profitability.\",\n",
    "    \"The company is facing a class-action lawsuit and a potential product recall.\",\n",
    "    \"The company is struggling to meet its financial obligations and may be at risk of bankruptcy.\"\n",
    "]\n",
    "\n",
    "for text in new_texts:\n",
    "    new_text_features = vectorizer.transform([preprocess_text(text)])\n",
    "    prediction = model.predict(new_text_features)[0]\n",
    "    \n",
    "    if prediction:\n",
    "        print(f\"Text: {text}\\nPredicted: Bankruptcy\")\n",
    "    else:\n",
    "        print(f\"Text: {text}\\nPredicted: Not Bankruptcy\")"
   ],
   "id": "551319d4857cd092",
   "outputs": [
    {
     "name": "stdout",
     "output_type": "stream",
     "text": [
      "Text: The company is experiencing steady revenue growth and profitability.\n",
      "Predicted: Not Bankruptcy\n",
      "Text: The company is facing a class-action lawsuit and a potential product recall.\n",
      "Predicted: Not Bankruptcy\n",
      "Text: The company is struggling to meet its financial obligations and may be at risk of bankruptcy.\n",
      "Predicted: Bankruptcy\n"
     ]
    }
   ],
   "execution_count": 169
  }
 ],
 "metadata": {
  "kernelspec": {
   "display_name": "Python 3",
   "language": "python",
   "name": "python3"
  },
  "language_info": {
   "codemirror_mode": {
    "name": "ipython",
    "version": 2
   },
   "file_extension": ".py",
   "mimetype": "text/x-python",
   "name": "python",
   "nbconvert_exporter": "python",
   "pygments_lexer": "ipython2",
   "version": "2.7.6"
  }
 },
 "nbformat": 4,
 "nbformat_minor": 5
}

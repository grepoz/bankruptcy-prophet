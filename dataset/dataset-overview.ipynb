{
 "cells": [
  {
   "metadata": {},
   "cell_type": "markdown",
   "source": "# Multimodal Bankrupt Companies Dataset Overview",
   "id": "77ead520d50f6c5c"
  },
  {
   "metadata": {},
   "cell_type": "markdown",
   "source": [
    "Presented dataset contains information about 6116 companies regarding bankruptcy from years 1995-2021. Data for 2748 companies (45% of whole dataset) were synthetically generated.\n",
    " \n",
    "Dataset consists of two parts:\n",
    "- financial: 17 variables for each object in 5 years period\n",
    "- textual: summaries of financial reports one year before bankruptcy or last available report for health companies\n",
    "\n",
    "The source dataset for this dataset was 'ECL' dataset describe in https://arxiv.org/abs/2401.12652. Which contains three information about companies: reference to Compustat DB for financial data, reference to financial reports for each year of company activity and information about bankruptcy status. "
   ],
   "id": "36e00a2c4ad12689"
  },
  {
   "metadata": {},
   "cell_type": "markdown",
   "source": [
    "## Financial dataset part\n",
    "\n",
    "\n",
    "The companies in 'ECL' dataset were matched with companies in gurufocus service and scrapped from it. Unfortunately, less than half of the companies were successfully matched.\n",
    "\n",
    "The dataset consists of 17 variables for each object in 5 years period.\n",
    "Dataset was extended with synthetically generated data for positive class.\n",
    "\n",
    "ECL github: https://github.com/henriarnoUG/ECL/tree/main"
   ],
   "id": "d64e323a3978c81c"
  },
  {
   "metadata": {},
   "cell_type": "markdown",
   "source": "### Overview",
   "id": "be711bc315726668"
  },
  {
   "cell_type": "code",
   "id": "initial_id",
   "metadata": {
    "collapsed": true,
    "ExecuteTime": {
     "end_time": "2024-06-11T07:08:25.688025Z",
     "start_time": "2024-06-11T07:08:25.112600Z"
    }
   },
   "source": [
    "import pandas as pd\n",
    "import numpy as np"
   ],
   "outputs": [],
   "execution_count": 3
  },
  {
   "metadata": {
    "ExecuteTime": {
     "end_time": "2024-06-11T07:08:25.778785Z",
     "start_time": "2024-06-11T07:08:25.695806Z"
    }
   },
   "cell_type": "code",
   "source": [
    "financial_dataset = pd.read_csv('bankrupt_companies-17_variables-5_years_per_object-balanced-split-matched_with_textual_data-shuffled.csv')\n",
    "print(financial_dataset.shape)\n",
    "financial_dataset.head(10)"
   ],
   "id": "af0a702988163eb0",
   "outputs": [
    {
     "name": "stdout",
     "output_type": "stream",
     "text": [
      "(30580, 22)\n"
     ]
    },
    {
     "data": {
      "text/plain": [
       "         cik  label subset ticker Fiscal Period  Cost of Goods Sold  \\\n",
       "0  138291101   True   test    NaN           NaN               216.0   \n",
       "1  138291101   True   test    NaN           NaN               202.0   \n",
       "2  138291101   True   test    NaN           NaN               203.0   \n",
       "3  138291101   True   test    NaN           NaN               259.0   \n",
       "4  138291101   True   test    NaN           NaN               299.0   \n",
       "5    1324245  False  train    SLH      Jun 2011               204.0   \n",
       "6    1324245  False  train    SLH      Jun 2012               246.0   \n",
       "7    1324245  False  train    SLH      Jun 2013               261.0   \n",
       "8    1324245  False  train    SLH      Jun 2014               313.0   \n",
       "9    1324245  False  train    SLH      Jun 2015               391.0   \n",
       "\n",
       "   Depreciation, Depletion and Amortization   EBIT  EBITDA  Gross Profit  ...  \\\n",
       "0                                     143.0 -164.0   -21.0         111.0  ...   \n",
       "1                                     134.0  -97.0    37.0          98.0  ...   \n",
       "2                                     116.0 -102.0    14.0         122.0  ...   \n",
       "3                                     113.0  -66.0    47.0         191.0  ...   \n",
       "4                                     118.0 -132.0   -14.0         173.0  ...   \n",
       "5                                      83.0  186.0   269.0         481.0  ...   \n",
       "6                                     104.0  218.0   321.0         545.0  ...   \n",
       "7                                     103.0  205.0   309.0         578.0  ...   \n",
       "8                                     122.0  143.0   265.0         674.0  ...   \n",
       "9                                     162.0  244.0   406.0         750.0  ...   \n",
       "\n",
       "   Net Income  Retained Earnings  Revenue  Total Assets  Total Current Assets  \\\n",
       "0      -348.0            -1548.0    327.0        1345.0                 247.0   \n",
       "1      -317.0            -1588.0    301.0        1351.0                 258.0   \n",
       "2      -104.0            -1692.0    325.0        1392.0                 388.0   \n",
       "3       -97.0            -1789.0    451.0        1465.0                 330.0   \n",
       "4      -193.0            -1984.0    472.0        1200.0                 217.0   \n",
       "5       157.0              151.0    685.0        2169.0                 561.0   \n",
       "6       107.0              142.0    790.0        2152.0                 689.0   \n",
       "7        94.0              177.0    838.0        2258.0                 658.0   \n",
       "8        -9.0               71.0    987.0        3400.0                1058.0   \n",
       "9      -101.0             -173.0   1141.0        3753.0                 724.0   \n",
       "\n",
       "   Total Current Liabilities  Total Inventories  Total Liabilities  \\\n",
       "0                      130.0                1.0             1719.0   \n",
       "1                      145.0                1.0             1696.0   \n",
       "2                      169.0                3.0             1656.0   \n",
       "3                      160.0                3.0             1812.0   \n",
       "4                      126.0                2.0             1726.0   \n",
       "5                      214.0                0.0             1374.0   \n",
       "6                      179.0                0.0             1454.0   \n",
       "7                      217.0                0.0             1498.0   \n",
       "8                      283.0                0.0             2693.0   \n",
       "9                      336.0                0.0             3503.0   \n",
       "\n",
       "   Total Operating Expense  Total Receivables  \n",
       "0                    277.0               75.0  \n",
       "1                    193.0               80.0  \n",
       "2                    231.0               88.0  \n",
       "3                    253.0              115.0  \n",
       "4                    291.0               86.0  \n",
       "5                    288.0              155.0  \n",
       "6                    325.0              150.0  \n",
       "7                    370.0              158.0  \n",
       "8                    468.0              176.0  \n",
       "9                    540.0              178.0  \n",
       "\n",
       "[10 rows x 22 columns]"
      ],
      "text/html": [
       "<div>\n",
       "<style scoped>\n",
       "    .dataframe tbody tr th:only-of-type {\n",
       "        vertical-align: middle;\n",
       "    }\n",
       "\n",
       "    .dataframe tbody tr th {\n",
       "        vertical-align: top;\n",
       "    }\n",
       "\n",
       "    .dataframe thead th {\n",
       "        text-align: right;\n",
       "    }\n",
       "</style>\n",
       "<table border=\"1\" class=\"dataframe\">\n",
       "  <thead>\n",
       "    <tr style=\"text-align: right;\">\n",
       "      <th></th>\n",
       "      <th>cik</th>\n",
       "      <th>label</th>\n",
       "      <th>subset</th>\n",
       "      <th>ticker</th>\n",
       "      <th>Fiscal Period</th>\n",
       "      <th>Cost of Goods Sold</th>\n",
       "      <th>Depreciation, Depletion and Amortization</th>\n",
       "      <th>EBIT</th>\n",
       "      <th>EBITDA</th>\n",
       "      <th>Gross Profit</th>\n",
       "      <th>...</th>\n",
       "      <th>Net Income</th>\n",
       "      <th>Retained Earnings</th>\n",
       "      <th>Revenue</th>\n",
       "      <th>Total Assets</th>\n",
       "      <th>Total Current Assets</th>\n",
       "      <th>Total Current Liabilities</th>\n",
       "      <th>Total Inventories</th>\n",
       "      <th>Total Liabilities</th>\n",
       "      <th>Total Operating Expense</th>\n",
       "      <th>Total Receivables</th>\n",
       "    </tr>\n",
       "  </thead>\n",
       "  <tbody>\n",
       "    <tr>\n",
       "      <th>0</th>\n",
       "      <td>138291101</td>\n",
       "      <td>True</td>\n",
       "      <td>test</td>\n",
       "      <td>NaN</td>\n",
       "      <td>NaN</td>\n",
       "      <td>216.0</td>\n",
       "      <td>143.0</td>\n",
       "      <td>-164.0</td>\n",
       "      <td>-21.0</td>\n",
       "      <td>111.0</td>\n",
       "      <td>...</td>\n",
       "      <td>-348.0</td>\n",
       "      <td>-1548.0</td>\n",
       "      <td>327.0</td>\n",
       "      <td>1345.0</td>\n",
       "      <td>247.0</td>\n",
       "      <td>130.0</td>\n",
       "      <td>1.0</td>\n",
       "      <td>1719.0</td>\n",
       "      <td>277.0</td>\n",
       "      <td>75.0</td>\n",
       "    </tr>\n",
       "    <tr>\n",
       "      <th>1</th>\n",
       "      <td>138291101</td>\n",
       "      <td>True</td>\n",
       "      <td>test</td>\n",
       "      <td>NaN</td>\n",
       "      <td>NaN</td>\n",
       "      <td>202.0</td>\n",
       "      <td>134.0</td>\n",
       "      <td>-97.0</td>\n",
       "      <td>37.0</td>\n",
       "      <td>98.0</td>\n",
       "      <td>...</td>\n",
       "      <td>-317.0</td>\n",
       "      <td>-1588.0</td>\n",
       "      <td>301.0</td>\n",
       "      <td>1351.0</td>\n",
       "      <td>258.0</td>\n",
       "      <td>145.0</td>\n",
       "      <td>1.0</td>\n",
       "      <td>1696.0</td>\n",
       "      <td>193.0</td>\n",
       "      <td>80.0</td>\n",
       "    </tr>\n",
       "    <tr>\n",
       "      <th>2</th>\n",
       "      <td>138291101</td>\n",
       "      <td>True</td>\n",
       "      <td>test</td>\n",
       "      <td>NaN</td>\n",
       "      <td>NaN</td>\n",
       "      <td>203.0</td>\n",
       "      <td>116.0</td>\n",
       "      <td>-102.0</td>\n",
       "      <td>14.0</td>\n",
       "      <td>122.0</td>\n",
       "      <td>...</td>\n",
       "      <td>-104.0</td>\n",
       "      <td>-1692.0</td>\n",
       "      <td>325.0</td>\n",
       "      <td>1392.0</td>\n",
       "      <td>388.0</td>\n",
       "      <td>169.0</td>\n",
       "      <td>3.0</td>\n",
       "      <td>1656.0</td>\n",
       "      <td>231.0</td>\n",
       "      <td>88.0</td>\n",
       "    </tr>\n",
       "    <tr>\n",
       "      <th>3</th>\n",
       "      <td>138291101</td>\n",
       "      <td>True</td>\n",
       "      <td>test</td>\n",
       "      <td>NaN</td>\n",
       "      <td>NaN</td>\n",
       "      <td>259.0</td>\n",
       "      <td>113.0</td>\n",
       "      <td>-66.0</td>\n",
       "      <td>47.0</td>\n",
       "      <td>191.0</td>\n",
       "      <td>...</td>\n",
       "      <td>-97.0</td>\n",
       "      <td>-1789.0</td>\n",
       "      <td>451.0</td>\n",
       "      <td>1465.0</td>\n",
       "      <td>330.0</td>\n",
       "      <td>160.0</td>\n",
       "      <td>3.0</td>\n",
       "      <td>1812.0</td>\n",
       "      <td>253.0</td>\n",
       "      <td>115.0</td>\n",
       "    </tr>\n",
       "    <tr>\n",
       "      <th>4</th>\n",
       "      <td>138291101</td>\n",
       "      <td>True</td>\n",
       "      <td>test</td>\n",
       "      <td>NaN</td>\n",
       "      <td>NaN</td>\n",
       "      <td>299.0</td>\n",
       "      <td>118.0</td>\n",
       "      <td>-132.0</td>\n",
       "      <td>-14.0</td>\n",
       "      <td>173.0</td>\n",
       "      <td>...</td>\n",
       "      <td>-193.0</td>\n",
       "      <td>-1984.0</td>\n",
       "      <td>472.0</td>\n",
       "      <td>1200.0</td>\n",
       "      <td>217.0</td>\n",
       "      <td>126.0</td>\n",
       "      <td>2.0</td>\n",
       "      <td>1726.0</td>\n",
       "      <td>291.0</td>\n",
       "      <td>86.0</td>\n",
       "    </tr>\n",
       "    <tr>\n",
       "      <th>5</th>\n",
       "      <td>1324245</td>\n",
       "      <td>False</td>\n",
       "      <td>train</td>\n",
       "      <td>SLH</td>\n",
       "      <td>Jun 2011</td>\n",
       "      <td>204.0</td>\n",
       "      <td>83.0</td>\n",
       "      <td>186.0</td>\n",
       "      <td>269.0</td>\n",
       "      <td>481.0</td>\n",
       "      <td>...</td>\n",
       "      <td>157.0</td>\n",
       "      <td>151.0</td>\n",
       "      <td>685.0</td>\n",
       "      <td>2169.0</td>\n",
       "      <td>561.0</td>\n",
       "      <td>214.0</td>\n",
       "      <td>0.0</td>\n",
       "      <td>1374.0</td>\n",
       "      <td>288.0</td>\n",
       "      <td>155.0</td>\n",
       "    </tr>\n",
       "    <tr>\n",
       "      <th>6</th>\n",
       "      <td>1324245</td>\n",
       "      <td>False</td>\n",
       "      <td>train</td>\n",
       "      <td>SLH</td>\n",
       "      <td>Jun 2012</td>\n",
       "      <td>246.0</td>\n",
       "      <td>104.0</td>\n",
       "      <td>218.0</td>\n",
       "      <td>321.0</td>\n",
       "      <td>545.0</td>\n",
       "      <td>...</td>\n",
       "      <td>107.0</td>\n",
       "      <td>142.0</td>\n",
       "      <td>790.0</td>\n",
       "      <td>2152.0</td>\n",
       "      <td>689.0</td>\n",
       "      <td>179.0</td>\n",
       "      <td>0.0</td>\n",
       "      <td>1454.0</td>\n",
       "      <td>325.0</td>\n",
       "      <td>150.0</td>\n",
       "    </tr>\n",
       "    <tr>\n",
       "      <th>7</th>\n",
       "      <td>1324245</td>\n",
       "      <td>False</td>\n",
       "      <td>train</td>\n",
       "      <td>SLH</td>\n",
       "      <td>Jun 2013</td>\n",
       "      <td>261.0</td>\n",
       "      <td>103.0</td>\n",
       "      <td>205.0</td>\n",
       "      <td>309.0</td>\n",
       "      <td>578.0</td>\n",
       "      <td>...</td>\n",
       "      <td>94.0</td>\n",
       "      <td>177.0</td>\n",
       "      <td>838.0</td>\n",
       "      <td>2258.0</td>\n",
       "      <td>658.0</td>\n",
       "      <td>217.0</td>\n",
       "      <td>0.0</td>\n",
       "      <td>1498.0</td>\n",
       "      <td>370.0</td>\n",
       "      <td>158.0</td>\n",
       "    </tr>\n",
       "    <tr>\n",
       "      <th>8</th>\n",
       "      <td>1324245</td>\n",
       "      <td>False</td>\n",
       "      <td>train</td>\n",
       "      <td>SLH</td>\n",
       "      <td>Jun 2014</td>\n",
       "      <td>313.0</td>\n",
       "      <td>122.0</td>\n",
       "      <td>143.0</td>\n",
       "      <td>265.0</td>\n",
       "      <td>674.0</td>\n",
       "      <td>...</td>\n",
       "      <td>-9.0</td>\n",
       "      <td>71.0</td>\n",
       "      <td>987.0</td>\n",
       "      <td>3400.0</td>\n",
       "      <td>1058.0</td>\n",
       "      <td>283.0</td>\n",
       "      <td>0.0</td>\n",
       "      <td>2693.0</td>\n",
       "      <td>468.0</td>\n",
       "      <td>176.0</td>\n",
       "    </tr>\n",
       "    <tr>\n",
       "      <th>9</th>\n",
       "      <td>1324245</td>\n",
       "      <td>False</td>\n",
       "      <td>train</td>\n",
       "      <td>SLH</td>\n",
       "      <td>Jun 2015</td>\n",
       "      <td>391.0</td>\n",
       "      <td>162.0</td>\n",
       "      <td>244.0</td>\n",
       "      <td>406.0</td>\n",
       "      <td>750.0</td>\n",
       "      <td>...</td>\n",
       "      <td>-101.0</td>\n",
       "      <td>-173.0</td>\n",
       "      <td>1141.0</td>\n",
       "      <td>3753.0</td>\n",
       "      <td>724.0</td>\n",
       "      <td>336.0</td>\n",
       "      <td>0.0</td>\n",
       "      <td>3503.0</td>\n",
       "      <td>540.0</td>\n",
       "      <td>178.0</td>\n",
       "    </tr>\n",
       "  </tbody>\n",
       "</table>\n",
       "<p>10 rows × 22 columns</p>\n",
       "</div>"
      ]
     },
     "execution_count": 4,
     "metadata": {},
     "output_type": "execute_result"
    }
   ],
   "execution_count": 4
  },
  {
   "metadata": {},
   "cell_type": "markdown",
   "source": "Every object consist of 5 years of financial data.",
   "id": "90d13047c493475a"
  },
  {
   "metadata": {},
   "cell_type": "markdown",
   "source": "Missing values were filled with fbill and ffill methods. Ticker and Fiscal period are null for synthetic samples.",
   "id": "34d936c407ca4f96"
  },
  {
   "metadata": {
    "ExecuteTime": {
     "end_time": "2024-06-07T07:07:35.691423Z",
     "start_time": "2024-06-07T07:07:35.671642Z"
    }
   },
   "cell_type": "code",
   "source": "financial_dataset.isnull().sum().sort_values(ascending=False)",
   "id": "6668942ae32a9629",
   "outputs": [
    {
     "data": {
      "text/plain": [
       "ticker                                      13740\n",
       "Fiscal Period                               13740\n",
       "cik                                             0\n",
       "Net Income                                      0\n",
       "Total Operating Expense                         0\n",
       "Total Liabilities                               0\n",
       "Total Inventories                               0\n",
       "Total Current Liabilities                       0\n",
       "Total Current Assets                            0\n",
       "Total Assets                                    0\n",
       "Revenue                                         0\n",
       "Retained Earnings                               0\n",
       "Market Cap                                      0\n",
       "label                                           0\n",
       "Long-Term Debt                                  0\n",
       "Gross Profit                                    0\n",
       "EBITDA                                          0\n",
       "EBIT                                            0\n",
       "Depreciation, Depletion and Amortization        0\n",
       "Cost of Goods Sold                              0\n",
       "subset                                          0\n",
       "Total Receivables                               0\n",
       "dtype: int64"
      ]
     },
     "execution_count": 16,
     "metadata": {},
     "output_type": "execute_result"
    }
   ],
   "execution_count": 16
  },
  {
   "metadata": {},
   "cell_type": "markdown",
   "source": "If objects had missing feature, then it was inserted with zeros. ",
   "id": "c6e881e14a0bf566"
  },
  {
   "metadata": {
    "ExecuteTime": {
     "end_time": "2024-06-07T07:07:13.942103Z",
     "start_time": "2024-06-07T07:07:13.912114Z"
    }
   },
   "cell_type": "code",
   "source": "financial_dataset.iloc[:, 5:][financial_dataset == 0].count().sort_values(ascending=False)",
   "id": "d9cc54e13eb7463a",
   "outputs": [
    {
     "data": {
      "text/plain": [
       "Market Cap                                  14094\n",
       "Total Inventories                            6474\n",
       "Long-Term Debt                               1775\n",
       "Depreciation, Depletion and Amortization     1644\n",
       "Cost of Goods Sold                            968\n",
       "Retained Earnings                             592\n",
       "EBIT                                          558\n",
       "EBITDA                                        541\n",
       "Net Income                                    352\n",
       "Total Receivables                             231\n",
       "Gross Profit                                   72\n",
       "Revenue                                        40\n",
       "Total Operating Expense                        21\n",
       "Total Current Liabilities                      15\n",
       "Total Current Assets                           13\n",
       "Total Liabilities                               8\n",
       "Total Assets                                    6\n",
       "dtype: int64"
      ]
     },
     "execution_count": 15,
     "metadata": {},
     "output_type": "execute_result"
    }
   ],
   "execution_count": 15
  },
  {
   "metadata": {},
   "cell_type": "markdown",
   "source": "We need to group the dataset by 'cik' to get unique objects.",
   "id": "9289026121ff7f84"
  },
  {
   "metadata": {
    "ExecuteTime": {
     "end_time": "2024-06-07T07:08:35.876867Z",
     "start_time": "2024-06-07T07:08:35.865225Z"
    }
   },
   "cell_type": "code",
   "source": [
    "financial_data_grouped = financial_dataset.groupby('cik').agg({'label': 'first', 'subset': 'first', 'ticker': 'first'})\n",
    "print(financial_data_grouped.shape)"
   ],
   "id": "2e0e4828348b1a63",
   "outputs": [
    {
     "name": "stdout",
     "output_type": "stream",
     "text": [
      "(6116, 3)\n"
     ]
    }
   ],
   "execution_count": 18
  },
  {
   "metadata": {
    "ExecuteTime": {
     "end_time": "2024-06-07T07:08:36.447447Z",
     "start_time": "2024-06-07T07:08:36.433721Z"
    }
   },
   "cell_type": "code",
   "source": "financial_data_grouped['label'].value_counts()",
   "id": "9a2203cedc4f3e4c",
   "outputs": [
    {
     "data": {
      "text/plain": [
       "label\n",
       "False    3300\n",
       "True     2816\n",
       "Name: count, dtype: int64"
      ]
     },
     "execution_count": 19,
     "metadata": {},
     "output_type": "execute_result"
    }
   ],
   "execution_count": 19
  },
  {
   "metadata": {},
   "cell_type": "markdown",
   "source": "Before extending the dataset, the distribution of the labels was strongly imbalanced in ratio 49-1. Below cell represents the distribution of the labels before extending the dataset.",
   "id": "94388efeee8c1c5a"
  },
  {
   "metadata": {
    "ExecuteTime": {
     "end_time": "2024-06-07T07:08:38.948580Z",
     "start_time": "2024-06-07T07:08:38.928598Z"
    }
   },
   "cell_type": "code",
   "source": [
    "financial_data_grouped_original_dataset = financial_data_grouped[~financial_data_grouped['ticker'].isnull()]\n",
    "financial_data_grouped_original_dataset['label'].value_counts(normalize=True)"
   ],
   "id": "ed1f74a3ad85261b",
   "outputs": [
    {
     "data": {
      "text/plain": [
       "label\n",
       "False    0.97981\n",
       "True     0.02019\n",
       "Name: proportion, dtype: float64"
      ]
     },
     "execution_count": 20,
     "metadata": {},
     "output_type": "execute_result"
    }
   ],
   "execution_count": 20
  },
  {
   "metadata": {},
   "cell_type": "markdown",
   "source": [
    "Artificially generated samples hasn't got 'ticker' and 'Fiscal Period' columns filled. Also 'cik' column for artificial samples is created by concatenating original 'cik' and id (which was number from 0 to 10, because of 10 synthetic samples for each object). There are some inconsistencies in the dataset - not every original sample has 10 synthetic samples.  \n",
    "\n",
    "To oversample the minority class, the financial part of dataset was extended using SMOTE algorithm."
   ],
   "id": "1d0be791ee17de3c"
  },
  {
   "metadata": {
    "ExecuteTime": {
     "end_time": "2024-06-07T07:08:42.244211Z",
     "start_time": "2024-06-07T07:08:42.233827Z"
    }
   },
   "cell_type": "code",
   "source": "financial_data_grouped['subset'].value_counts(normalize=True)",
   "id": "1ab59a0f744c3ba1",
   "outputs": [
    {
     "data": {
      "text/plain": [
       "subset\n",
       "train    0.799706\n",
       "test     0.150262\n",
       "val      0.050033\n",
       "Name: proportion, dtype: float64"
      ]
     },
     "execution_count": 21,
     "metadata": {},
     "output_type": "execute_result"
    }
   ],
   "execution_count": 21
  },
  {
   "metadata": {},
   "cell_type": "markdown",
   "source": "### Example usage",
   "id": "59d72255d49c5aef"
  },
  {
   "metadata": {
    "ExecuteTime": {
     "end_time": "2024-06-08T10:37:01.283159Z",
     "start_time": "2024-06-08T10:37:00.340316Z"
    }
   },
   "cell_type": "code",
   "source": [
    "from sklearn.ensemble import RandomForestClassifier\n",
    "from sklearn.metrics import confusion_matrix, accuracy_score, f1_score"
   ],
   "id": "6381166d7527cba8",
   "outputs": [],
   "execution_count": 4
  },
  {
   "metadata": {
    "ExecuteTime": {
     "end_time": "2024-06-09T17:25:24.533245Z",
     "start_time": "2024-06-09T17:25:24.516790Z"
    }
   },
   "cell_type": "code",
   "source": [
    "financial_dataset_preprocessed = financial_dataset.drop(['cik', 'ticker', 'Fiscal Period'], axis=1)\n",
    "X = financial_dataset_preprocessed.drop('label', axis=1)\n",
    "y = financial_dataset_preprocessed['label']"
   ],
   "id": "a86c16f439c5c69b",
   "outputs": [],
   "execution_count": 70
  },
  {
   "metadata": {
    "ExecuteTime": {
     "end_time": "2024-06-09T17:25:25.221367Z",
     "start_time": "2024-06-09T17:25:25.211569Z"
    }
   },
   "cell_type": "code",
   "source": [
    "def get_train_val_test_split(X, y):\n",
    "    X_train = X[X['subset'] == 'train']\n",
    "    y_train = y[X['subset'] == 'train']\n",
    "    \n",
    "    X_val = X[X['subset'] == 'val']\n",
    "    y_val = y[X['subset'] == 'val']\n",
    "    \n",
    "    X_test = X[X['subset'] == 'test']\n",
    "    y_test = y[X['subset'] == 'test']\n",
    "    \n",
    "    X_train = X_train.drop('subset', axis=1)\n",
    "    X_val = X_val.drop('subset', axis=1)\n",
    "    X_test = X_test.drop('subset', axis=1)\n",
    "    \n",
    "    return X_train, y_train, X_val, y_val, X_test, y_test"
   ],
   "id": "f0ded279f99b7581",
   "outputs": [],
   "execution_count": 71
  },
  {
   "metadata": {
    "ExecuteTime": {
     "end_time": "2024-06-06T19:05:15.835425Z",
     "start_time": "2024-06-06T19:05:15.806179Z"
    }
   },
   "cell_type": "code",
   "source": [
    "X_train, y_train, X_val, y_val, X_test, y_test = get_train_val_test_split(X, y)\n",
    "len(X_train), len(X_val), len(X_test)"
   ],
   "id": "70cf0b306f07bd2f",
   "outputs": [
    {
     "data": {
      "text/plain": [
       "(24455, 1530, 4595)"
      ]
     },
     "execution_count": 82,
     "metadata": {},
     "output_type": "execute_result"
    }
   ],
   "execution_count": 82
  },
  {
   "metadata": {
    "ExecuteTime": {
     "end_time": "2024-06-06T18:55:38.456921Z",
     "start_time": "2024-06-06T18:55:32.091826Z"
    }
   },
   "cell_type": "code",
   "source": [
    "rf = RandomForestClassifier(random_state=42)\n",
    "rf.fit(X_train, y_train)\n",
    "\n",
    "y_pred = rf.predict(X_test)"
   ],
   "id": "21283e95cc1d25e4",
   "outputs": [],
   "execution_count": 58
  },
  {
   "metadata": {
    "ExecuteTime": {
     "end_time": "2024-06-06T17:49:14.993127Z",
     "start_time": "2024-06-06T17:49:14.980321Z"
    }
   },
   "cell_type": "code",
   "source": "confusion_matrix(y_test, y_pred)",
   "id": "e8445a335eb48e5d",
   "outputs": [
    {
     "data": {
      "text/plain": [
       "array([[2430,   50],\n",
       "       [  37, 2078]], dtype=int64)"
      ]
     },
     "execution_count": 32,
     "metadata": {},
     "output_type": "execute_result"
    }
   ],
   "execution_count": 32
  },
  {
   "metadata": {
    "ExecuteTime": {
     "end_time": "2024-06-06T17:52:18.681917Z",
     "start_time": "2024-06-06T17:52:18.661639Z"
    }
   },
   "cell_type": "code",
   "source": [
    "print(f'accuracy_score: {accuracy_score(y_test, y_pred)}')\n",
    "print(f'f1_score: {f1_score(y_test, y_pred)}')"
   ],
   "id": "a0aef022d4c35c36",
   "outputs": [
    {
     "name": "stdout",
     "output_type": "stream",
     "text": [
      "accuracy_score: 0.9810663764961916\n",
      "f1_score: 0.9794956398774453\n"
     ]
    }
   ],
   "execution_count": 36
  },
  {
   "metadata": {},
   "cell_type": "markdown",
   "source": "### Useful functions to work with the dataset",
   "id": "536de77be60e363"
  },
  {
   "metadata": {},
   "cell_type": "markdown",
   "source": [
    "#### Functions for (de)flattening the dataset\n",
    "\n",
    "Function flattens 5 years (rows) to single row."
   ],
   "id": "ea5048b646bc1510"
  },
  {
   "metadata": {
    "ExecuteTime": {
     "end_time": "2024-06-06T19:40:55.256022Z",
     "start_time": "2024-06-06T19:40:55.246478Z"
    }
   },
   "cell_type": "code",
   "source": [
    "def flatten_financial_dataset(financial_dataset):\n",
    "    object_length_in_rows = 5\n",
    "    per_object_columns = list(financial_dataset.columns[:object_length_in_rows].values)\n",
    "    \n",
    "    value_columns = financial_dataset.columns[object_length_in_rows:]\n",
    "    new_columns = per_object_columns + [f'{col}_{i+1}' for i in range(object_length_in_rows) for col in value_columns]\n",
    "    \n",
    "    dfs = []\n",
    "    \n",
    "    for name, group in financial_dataset.groupby('cik'):\n",
    "        label = group['label'].iloc[0]\n",
    "        subset = group['subset'].iloc[0]\n",
    "        ticker = group['ticker'].iloc[0]\n",
    "        fiscal_periods = ';'.join(group['Fiscal Period'].astype(str).values)\n",
    "    \n",
    "        values = group.drop(columns=per_object_columns).values.flatten()\n",
    "        \n",
    "        dfs.append([name, label, subset, ticker, fiscal_periods] + values.tolist())\n",
    "    \n",
    "    final_flatten_df = pd.DataFrame(dfs, columns=new_columns)\n",
    "    final_flatten_df = final_flatten_df.reset_index(drop=True)\n",
    "    return final_flatten_df"
   ],
   "id": "f700165ae16f2aa3",
   "outputs": [],
   "execution_count": 124
  },
  {
   "metadata": {
    "ExecuteTime": {
     "end_time": "2024-06-06T19:40:58.649952Z",
     "start_time": "2024-06-06T19:40:56.339120Z"
    }
   },
   "cell_type": "code",
   "source": [
    "flatten_df = flatten_financial_dataset(financial_dataset)\n",
    "print(flatten_df.shape)\n",
    "flatten_df.head()"
   ],
   "id": "4e487d420ad21150",
   "outputs": [
    {
     "name": "stdout",
     "output_type": "stream",
     "text": [
      "(6116, 90)\n"
     ]
    },
    {
     "data": {
      "text/plain": [
       "    cik  label subset ticker                                 Fiscal Period  \\\n",
       "0  1800  False  train    ABT  Dec 2016;Dec 2017;Dec 2018;Dec 2019;Dec 2020   \n",
       "1  2034   True  train    NaN                           nan;nan;nan;nan;nan   \n",
       "2  2488  False  train    AMD  Dec 2016;Dec 2017;Dec 2018;Dec 2019;Dec 2020   \n",
       "3  2491  False  train    BYI  Jun 2010;Jun 2011;Jun 2012;Jun 2013;Jun 2014   \n",
       "4  2852   True  train    NaN                           nan;nan;nan;nan;nan   \n",
       "\n",
       "   Cost of Goods Sold_1  Depreciation, Depletion and Amortization_1  EBIT_1  \\\n",
       "0                9094.0                                      1353.0  1844.0   \n",
       "1                 391.0                                        12.0    10.0   \n",
       "2                3316.0                                       133.0  -293.0   \n",
       "3                 274.0                                        75.0   155.0   \n",
       "4                  87.0                                        36.0    38.0   \n",
       "\n",
       "   EBITDA_1  Gross Profit_1  ...  Net Income_5  Retained Earnings_5  \\\n",
       "0    3197.0         11759.0  ...        4495.0              27627.0   \n",
       "1      23.0           190.0  ...         -16.0                -60.0   \n",
       "2    -160.0          1003.0  ...        2490.0              -4605.0   \n",
       "3     230.0           484.0  ...          99.0                745.0   \n",
       "4      74.0           200.0  ...         -79.0               -288.0   \n",
       "\n",
       "   Revenue_5  Total Assets_5  Total Current Assets_5  \\\n",
       "0    34608.0         72548.0                 20441.0   \n",
       "1      734.0           309.0                   165.0   \n",
       "2     9763.0          8962.0                  6143.0   \n",
       "3     1215.0          2519.0                   593.0   \n",
       "4      292.0           427.0                    49.0   \n",
       "\n",
       "   Total Current Liabilities_5  Total Inventories_5  Total Liabilities_5  \\\n",
       "0                      11907.0               5012.0              39545.0   \n",
       "1                         84.0                112.0                155.0   \n",
       "2                       2417.0               1399.0               3125.0   \n",
       "3                        252.0                 82.0               2312.0   \n",
       "4                        569.0                  5.0                590.0   \n",
       "\n",
       "   Total Operating Expense_5  Total Receivables_5  \n",
       "0                    14248.0               8281.0  \n",
       "1                      281.0                 44.0  \n",
       "2                     2978.0               2076.0  \n",
       "3                      537.0                314.0  \n",
       "4                      169.0                 14.0  \n",
       "\n",
       "[5 rows x 90 columns]"
      ],
      "text/html": [
       "<div>\n",
       "<style scoped>\n",
       "    .dataframe tbody tr th:only-of-type {\n",
       "        vertical-align: middle;\n",
       "    }\n",
       "\n",
       "    .dataframe tbody tr th {\n",
       "        vertical-align: top;\n",
       "    }\n",
       "\n",
       "    .dataframe thead th {\n",
       "        text-align: right;\n",
       "    }\n",
       "</style>\n",
       "<table border=\"1\" class=\"dataframe\">\n",
       "  <thead>\n",
       "    <tr style=\"text-align: right;\">\n",
       "      <th></th>\n",
       "      <th>cik</th>\n",
       "      <th>label</th>\n",
       "      <th>subset</th>\n",
       "      <th>ticker</th>\n",
       "      <th>Fiscal Period</th>\n",
       "      <th>Cost of Goods Sold_1</th>\n",
       "      <th>Depreciation, Depletion and Amortization_1</th>\n",
       "      <th>EBIT_1</th>\n",
       "      <th>EBITDA_1</th>\n",
       "      <th>Gross Profit_1</th>\n",
       "      <th>...</th>\n",
       "      <th>Net Income_5</th>\n",
       "      <th>Retained Earnings_5</th>\n",
       "      <th>Revenue_5</th>\n",
       "      <th>Total Assets_5</th>\n",
       "      <th>Total Current Assets_5</th>\n",
       "      <th>Total Current Liabilities_5</th>\n",
       "      <th>Total Inventories_5</th>\n",
       "      <th>Total Liabilities_5</th>\n",
       "      <th>Total Operating Expense_5</th>\n",
       "      <th>Total Receivables_5</th>\n",
       "    </tr>\n",
       "  </thead>\n",
       "  <tbody>\n",
       "    <tr>\n",
       "      <th>0</th>\n",
       "      <td>1800</td>\n",
       "      <td>False</td>\n",
       "      <td>train</td>\n",
       "      <td>ABT</td>\n",
       "      <td>Dec 2016;Dec 2017;Dec 2018;Dec 2019;Dec 2020</td>\n",
       "      <td>9094.0</td>\n",
       "      <td>1353.0</td>\n",
       "      <td>1844.0</td>\n",
       "      <td>3197.0</td>\n",
       "      <td>11759.0</td>\n",
       "      <td>...</td>\n",
       "      <td>4495.0</td>\n",
       "      <td>27627.0</td>\n",
       "      <td>34608.0</td>\n",
       "      <td>72548.0</td>\n",
       "      <td>20441.0</td>\n",
       "      <td>11907.0</td>\n",
       "      <td>5012.0</td>\n",
       "      <td>39545.0</td>\n",
       "      <td>14248.0</td>\n",
       "      <td>8281.0</td>\n",
       "    </tr>\n",
       "    <tr>\n",
       "      <th>1</th>\n",
       "      <td>2034</td>\n",
       "      <td>True</td>\n",
       "      <td>train</td>\n",
       "      <td>NaN</td>\n",
       "      <td>nan;nan;nan;nan;nan</td>\n",
       "      <td>391.0</td>\n",
       "      <td>12.0</td>\n",
       "      <td>10.0</td>\n",
       "      <td>23.0</td>\n",
       "      <td>190.0</td>\n",
       "      <td>...</td>\n",
       "      <td>-16.0</td>\n",
       "      <td>-60.0</td>\n",
       "      <td>734.0</td>\n",
       "      <td>309.0</td>\n",
       "      <td>165.0</td>\n",
       "      <td>84.0</td>\n",
       "      <td>112.0</td>\n",
       "      <td>155.0</td>\n",
       "      <td>281.0</td>\n",
       "      <td>44.0</td>\n",
       "    </tr>\n",
       "    <tr>\n",
       "      <th>2</th>\n",
       "      <td>2488</td>\n",
       "      <td>False</td>\n",
       "      <td>train</td>\n",
       "      <td>AMD</td>\n",
       "      <td>Dec 2016;Dec 2017;Dec 2018;Dec 2019;Dec 2020</td>\n",
       "      <td>3316.0</td>\n",
       "      <td>133.0</td>\n",
       "      <td>-293.0</td>\n",
       "      <td>-160.0</td>\n",
       "      <td>1003.0</td>\n",
       "      <td>...</td>\n",
       "      <td>2490.0</td>\n",
       "      <td>-4605.0</td>\n",
       "      <td>9763.0</td>\n",
       "      <td>8962.0</td>\n",
       "      <td>6143.0</td>\n",
       "      <td>2417.0</td>\n",
       "      <td>1399.0</td>\n",
       "      <td>3125.0</td>\n",
       "      <td>2978.0</td>\n",
       "      <td>2076.0</td>\n",
       "    </tr>\n",
       "    <tr>\n",
       "      <th>3</th>\n",
       "      <td>2491</td>\n",
       "      <td>False</td>\n",
       "      <td>train</td>\n",
       "      <td>BYI</td>\n",
       "      <td>Jun 2010;Jun 2011;Jun 2012;Jun 2013;Jun 2014</td>\n",
       "      <td>274.0</td>\n",
       "      <td>75.0</td>\n",
       "      <td>155.0</td>\n",
       "      <td>230.0</td>\n",
       "      <td>484.0</td>\n",
       "      <td>...</td>\n",
       "      <td>99.0</td>\n",
       "      <td>745.0</td>\n",
       "      <td>1215.0</td>\n",
       "      <td>2519.0</td>\n",
       "      <td>593.0</td>\n",
       "      <td>252.0</td>\n",
       "      <td>82.0</td>\n",
       "      <td>2312.0</td>\n",
       "      <td>537.0</td>\n",
       "      <td>314.0</td>\n",
       "    </tr>\n",
       "    <tr>\n",
       "      <th>4</th>\n",
       "      <td>2852</td>\n",
       "      <td>True</td>\n",
       "      <td>train</td>\n",
       "      <td>NaN</td>\n",
       "      <td>nan;nan;nan;nan;nan</td>\n",
       "      <td>87.0</td>\n",
       "      <td>36.0</td>\n",
       "      <td>38.0</td>\n",
       "      <td>74.0</td>\n",
       "      <td>200.0</td>\n",
       "      <td>...</td>\n",
       "      <td>-79.0</td>\n",
       "      <td>-288.0</td>\n",
       "      <td>292.0</td>\n",
       "      <td>427.0</td>\n",
       "      <td>49.0</td>\n",
       "      <td>569.0</td>\n",
       "      <td>5.0</td>\n",
       "      <td>590.0</td>\n",
       "      <td>169.0</td>\n",
       "      <td>14.0</td>\n",
       "    </tr>\n",
       "  </tbody>\n",
       "</table>\n",
       "<p>5 rows × 90 columns</p>\n",
       "</div>"
      ]
     },
     "execution_count": 125,
     "metadata": {},
     "output_type": "execute_result"
    }
   ],
   "execution_count": 125
  },
  {
   "metadata": {
    "ExecuteTime": {
     "end_time": "2024-06-06T19:39:16.187438Z",
     "start_time": "2024-06-06T19:39:16.165008Z"
    }
   },
   "cell_type": "code",
   "source": [
    "flatten_financial_dataset_preprocessed = flatten_df.drop(['cik', 'ticker', 'Fiscal Period'], axis=1)\n",
    "X = flatten_financial_dataset_preprocessed.drop('label', axis=1)\n",
    "y = flatten_financial_dataset_preprocessed['label']\n",
    "\n",
    "X_train, y_train, X_val, y_val, X_test, y_test = get_train_val_test_split(X, y)\n",
    "len(X_train), len(X_val), len(X_test)"
   ],
   "id": "d72be163c30baa04",
   "outputs": [
    {
     "data": {
      "text/plain": [
       "(4891, 306, 919)"
      ]
     },
     "execution_count": 120,
     "metadata": {},
     "output_type": "execute_result"
    }
   ],
   "execution_count": 120
  },
  {
   "metadata": {
    "ExecuteTime": {
     "end_time": "2024-06-06T19:39:22.771467Z",
     "start_time": "2024-06-06T19:39:18.805828Z"
    }
   },
   "cell_type": "code",
   "source": [
    "rf = RandomForestClassifier(random_state=42)\n",
    "rf.fit(X_train, y_train)\n",
    "\n",
    "y_pred = rf.predict(X_test)"
   ],
   "id": "6930903a45ecc520",
   "outputs": [],
   "execution_count": 121
  },
  {
   "metadata": {
    "ExecuteTime": {
     "end_time": "2024-06-06T19:39:22.776811Z",
     "start_time": "2024-06-06T19:39:22.771467Z"
    }
   },
   "cell_type": "code",
   "source": "confusion_matrix(y_test, y_pred)",
   "id": "d53eba002ea2de14",
   "outputs": [
    {
     "data": {
      "text/plain": [
       "array([[490,   6],\n",
       "       [  1, 422]], dtype=int64)"
      ]
     },
     "execution_count": 122,
     "metadata": {},
     "output_type": "execute_result"
    }
   ],
   "execution_count": 122
  },
  {
   "metadata": {
    "ExecuteTime": {
     "end_time": "2024-06-06T19:39:22.782099Z",
     "start_time": "2024-06-06T19:39:22.776811Z"
    }
   },
   "cell_type": "code",
   "source": [
    "print(f'accuracy_score: {accuracy_score(y_test, y_pred)}')\n",
    "print(f'f1_score: {f1_score(y_test, y_pred)}')"
   ],
   "id": "d202e36ee433446e",
   "outputs": [
    {
     "name": "stdout",
     "output_type": "stream",
     "text": [
      "accuracy_score: 0.9923830250272034\n",
      "f1_score: 0.9917743830787309\n"
     ]
    }
   ],
   "execution_count": 123
  },
  {
   "metadata": {},
   "cell_type": "markdown",
   "source": "Flattening the dataset slightly improves the results by ~1%.",
   "id": "84bd7a4367931fc"
  },
  {
   "metadata": {},
   "cell_type": "markdown",
   "source": "### De-flattening the dataset",
   "id": "711aa326f54e4658"
  },
  {
   "metadata": {
    "ExecuteTime": {
     "end_time": "2024-06-06T19:10:19.051706Z",
     "start_time": "2024-06-06T19:10:19.037480Z"
    }
   },
   "cell_type": "code",
   "source": "flatten_df.head()",
   "id": "5d9344285ab4aeca",
   "outputs": [
    {
     "data": {
      "text/plain": [
       "    cik  label subset  Cost of Goods Sold_1  \\\n",
       "0  1800  False  train                9094.0   \n",
       "1  2034   True  train                 391.0   \n",
       "2  2488  False  train                3316.0   \n",
       "3  2491  False  train                 274.0   \n",
       "4  2852   True  train                  87.0   \n",
       "\n",
       "   Depreciation, Depletion and Amortization_1  EBIT_1  EBITDA_1  \\\n",
       "0                                      1353.0  1844.0    3197.0   \n",
       "1                                        12.0    10.0      23.0   \n",
       "2                                       133.0  -293.0    -160.0   \n",
       "3                                        75.0   155.0     230.0   \n",
       "4                                        36.0    38.0      74.0   \n",
       "\n",
       "   Gross Profit_1  Long-Term Debt_1  Market Cap_1  ...  Net Income_5  \\\n",
       "0         11759.0           20681.0       56573.0  ...        4495.0   \n",
       "1           190.0              16.0           0.0  ...         -16.0   \n",
       "2          1003.0            1435.0       10603.0  ...        2490.0   \n",
       "3           484.0             500.0        1806.0  ...          99.0   \n",
       "4           200.0             355.0          17.0  ...         -79.0   \n",
       "\n",
       "   Retained Earnings_5  Revenue_5  Total Assets_5  Total Current Assets_5  \\\n",
       "0              27627.0    34608.0         72548.0                 20441.0   \n",
       "1                -60.0      734.0           309.0                   165.0   \n",
       "2              -4605.0     9763.0          8962.0                  6143.0   \n",
       "3                745.0     1215.0          2519.0                   593.0   \n",
       "4               -288.0      292.0           427.0                    49.0   \n",
       "\n",
       "   Total Current Liabilities_5  Total Inventories_5  Total Liabilities_5  \\\n",
       "0                      11907.0               5012.0              39545.0   \n",
       "1                         84.0                112.0                155.0   \n",
       "2                       2417.0               1399.0               3125.0   \n",
       "3                        252.0                 82.0               2312.0   \n",
       "4                        569.0                  5.0                590.0   \n",
       "\n",
       "   Total Operating Expense_5  Total Receivables_5  \n",
       "0                    14248.0               8281.0  \n",
       "1                      281.0                 44.0  \n",
       "2                     2978.0               2076.0  \n",
       "3                      537.0                314.0  \n",
       "4                      169.0                 14.0  \n",
       "\n",
       "[5 rows x 88 columns]"
      ],
      "text/html": [
       "<div>\n",
       "<style scoped>\n",
       "    .dataframe tbody tr th:only-of-type {\n",
       "        vertical-align: middle;\n",
       "    }\n",
       "\n",
       "    .dataframe tbody tr th {\n",
       "        vertical-align: top;\n",
       "    }\n",
       "\n",
       "    .dataframe thead th {\n",
       "        text-align: right;\n",
       "    }\n",
       "</style>\n",
       "<table border=\"1\" class=\"dataframe\">\n",
       "  <thead>\n",
       "    <tr style=\"text-align: right;\">\n",
       "      <th></th>\n",
       "      <th>cik</th>\n",
       "      <th>label</th>\n",
       "      <th>subset</th>\n",
       "      <th>Cost of Goods Sold_1</th>\n",
       "      <th>Depreciation, Depletion and Amortization_1</th>\n",
       "      <th>EBIT_1</th>\n",
       "      <th>EBITDA_1</th>\n",
       "      <th>Gross Profit_1</th>\n",
       "      <th>Long-Term Debt_1</th>\n",
       "      <th>Market Cap_1</th>\n",
       "      <th>...</th>\n",
       "      <th>Net Income_5</th>\n",
       "      <th>Retained Earnings_5</th>\n",
       "      <th>Revenue_5</th>\n",
       "      <th>Total Assets_5</th>\n",
       "      <th>Total Current Assets_5</th>\n",
       "      <th>Total Current Liabilities_5</th>\n",
       "      <th>Total Inventories_5</th>\n",
       "      <th>Total Liabilities_5</th>\n",
       "      <th>Total Operating Expense_5</th>\n",
       "      <th>Total Receivables_5</th>\n",
       "    </tr>\n",
       "  </thead>\n",
       "  <tbody>\n",
       "    <tr>\n",
       "      <th>0</th>\n",
       "      <td>1800</td>\n",
       "      <td>False</td>\n",
       "      <td>train</td>\n",
       "      <td>9094.0</td>\n",
       "      <td>1353.0</td>\n",
       "      <td>1844.0</td>\n",
       "      <td>3197.0</td>\n",
       "      <td>11759.0</td>\n",
       "      <td>20681.0</td>\n",
       "      <td>56573.0</td>\n",
       "      <td>...</td>\n",
       "      <td>4495.0</td>\n",
       "      <td>27627.0</td>\n",
       "      <td>34608.0</td>\n",
       "      <td>72548.0</td>\n",
       "      <td>20441.0</td>\n",
       "      <td>11907.0</td>\n",
       "      <td>5012.0</td>\n",
       "      <td>39545.0</td>\n",
       "      <td>14248.0</td>\n",
       "      <td>8281.0</td>\n",
       "    </tr>\n",
       "    <tr>\n",
       "      <th>1</th>\n",
       "      <td>2034</td>\n",
       "      <td>True</td>\n",
       "      <td>train</td>\n",
       "      <td>391.0</td>\n",
       "      <td>12.0</td>\n",
       "      <td>10.0</td>\n",
       "      <td>23.0</td>\n",
       "      <td>190.0</td>\n",
       "      <td>16.0</td>\n",
       "      <td>0.0</td>\n",
       "      <td>...</td>\n",
       "      <td>-16.0</td>\n",
       "      <td>-60.0</td>\n",
       "      <td>734.0</td>\n",
       "      <td>309.0</td>\n",
       "      <td>165.0</td>\n",
       "      <td>84.0</td>\n",
       "      <td>112.0</td>\n",
       "      <td>155.0</td>\n",
       "      <td>281.0</td>\n",
       "      <td>44.0</td>\n",
       "    </tr>\n",
       "    <tr>\n",
       "      <th>2</th>\n",
       "      <td>2488</td>\n",
       "      <td>False</td>\n",
       "      <td>train</td>\n",
       "      <td>3316.0</td>\n",
       "      <td>133.0</td>\n",
       "      <td>-293.0</td>\n",
       "      <td>-160.0</td>\n",
       "      <td>1003.0</td>\n",
       "      <td>1435.0</td>\n",
       "      <td>10603.0</td>\n",
       "      <td>...</td>\n",
       "      <td>2490.0</td>\n",
       "      <td>-4605.0</td>\n",
       "      <td>9763.0</td>\n",
       "      <td>8962.0</td>\n",
       "      <td>6143.0</td>\n",
       "      <td>2417.0</td>\n",
       "      <td>1399.0</td>\n",
       "      <td>3125.0</td>\n",
       "      <td>2978.0</td>\n",
       "      <td>2076.0</td>\n",
       "    </tr>\n",
       "    <tr>\n",
       "      <th>3</th>\n",
       "      <td>2491</td>\n",
       "      <td>False</td>\n",
       "      <td>train</td>\n",
       "      <td>274.0</td>\n",
       "      <td>75.0</td>\n",
       "      <td>155.0</td>\n",
       "      <td>230.0</td>\n",
       "      <td>484.0</td>\n",
       "      <td>500.0</td>\n",
       "      <td>1806.0</td>\n",
       "      <td>...</td>\n",
       "      <td>99.0</td>\n",
       "      <td>745.0</td>\n",
       "      <td>1215.0</td>\n",
       "      <td>2519.0</td>\n",
       "      <td>593.0</td>\n",
       "      <td>252.0</td>\n",
       "      <td>82.0</td>\n",
       "      <td>2312.0</td>\n",
       "      <td>537.0</td>\n",
       "      <td>314.0</td>\n",
       "    </tr>\n",
       "    <tr>\n",
       "      <th>4</th>\n",
       "      <td>2852</td>\n",
       "      <td>True</td>\n",
       "      <td>train</td>\n",
       "      <td>87.0</td>\n",
       "      <td>36.0</td>\n",
       "      <td>38.0</td>\n",
       "      <td>74.0</td>\n",
       "      <td>200.0</td>\n",
       "      <td>355.0</td>\n",
       "      <td>17.0</td>\n",
       "      <td>...</td>\n",
       "      <td>-79.0</td>\n",
       "      <td>-288.0</td>\n",
       "      <td>292.0</td>\n",
       "      <td>427.0</td>\n",
       "      <td>49.0</td>\n",
       "      <td>569.0</td>\n",
       "      <td>5.0</td>\n",
       "      <td>590.0</td>\n",
       "      <td>169.0</td>\n",
       "      <td>14.0</td>\n",
       "    </tr>\n",
       "  </tbody>\n",
       "</table>\n",
       "<p>5 rows × 88 columns</p>\n",
       "</div>"
      ]
     },
     "execution_count": 88,
     "metadata": {},
     "output_type": "execute_result"
    }
   ],
   "execution_count": 88
  },
  {
   "metadata": {
    "ExecuteTime": {
     "end_time": "2024-06-06T20:06:08.264958Z",
     "start_time": "2024-06-06T20:06:08.254701Z"
    }
   },
   "cell_type": "code",
   "source": [
    "def deflatten_financial_dataset(flatten_df):\n",
    "    object_length_in_rows = 5\n",
    "    info_columns_count = 5\n",
    "\n",
    "    values_columns = flatten_df.columns[info_columns_count:]\n",
    "    unique_values_columns = sorted(set(col.split('_')[0] for col in values_columns))\n",
    "    \n",
    "    new_columns = flatten_df.columns[:info_columns_count].tolist() + unique_values_columns\n",
    "\n",
    "    deflattened_rows = []\n",
    "\n",
    "    for _, row in flatten_df.iterrows():\n",
    "        first_columns = row.values[:info_columns_count]\n",
    "        fiscal_periods = row.values[4].split(';')\n",
    "        \n",
    "        reshaped_values = np.array(row.values[info_columns_count:]).reshape(object_length_in_rows, -1)\n",
    "        \n",
    "        for i in range(object_length_in_rows):\n",
    "            new_row = np.concatenate([first_columns[:4], [fiscal_periods[i]], reshaped_values[i]])\n",
    "            deflattened_rows.append(new_row)\n",
    "\n",
    "    deflatten_df = pd.DataFrame(deflattened_rows, columns=new_columns)\n",
    "    \n",
    "    return deflatten_df.reset_index(drop=True)"
   ],
   "id": "cf33308ef1916cbf",
   "outputs": [],
   "execution_count": 147
  },
  {
   "metadata": {
    "ExecuteTime": {
     "end_time": "2024-06-06T20:06:09.890429Z",
     "start_time": "2024-06-06T20:06:09.621721Z"
    }
   },
   "cell_type": "code",
   "source": [
    "deflatten_df = deflatten_financial_dataset(flatten_df)\n",
    "deflatten_df.head()"
   ],
   "id": "4dcdbbfcc4330963",
   "outputs": [
    {
     "data": {
      "text/plain": [
       "    cik  label subset ticker Fiscal Period  Cost of Goods Sold  \\\n",
       "0  1800  False  train    ABT      Dec 2016              9094.0   \n",
       "1  1800  False  train    ABT      Dec 2017             12409.0   \n",
       "2  1800  False  train    ABT      Dec 2018             12706.0   \n",
       "3  1800  False  train    ABT      Dec 2019             13231.0   \n",
       "4  1800  False  train    ABT      Dec 2020             15003.0   \n",
       "\n",
       "   Depreciation, Depletion and Amortization    EBIT  EBITDA  Gross Profit  \\\n",
       "0                                    1353.0  1844.0  3197.0       11759.0   \n",
       "1                                    3021.0  3135.0  6156.0       14981.0   \n",
       "2                                    3278.0  3699.0  6977.0       17872.0   \n",
       "3                                    3014.0  4747.0  7761.0       18673.0   \n",
       "4                                    3327.0  5514.0  8841.0       19605.0   \n",
       "\n",
       "   ...  Net Income  Retained Earnings  Revenue  Total Assets  \\\n",
       "0  ...      1400.0            25565.0  20853.0       52666.0   \n",
       "1  ...       477.0            23978.0  27390.0       76250.0   \n",
       "2  ...      2368.0            24560.0  30578.0       67173.0   \n",
       "3  ...      3687.0            25847.0  31904.0       67887.0   \n",
       "4  ...      4495.0            27627.0  34608.0       72548.0   \n",
       "\n",
       "   Total Current Assets  Total Current Liabilities  Total Inventories  \\\n",
       "0               26776.0                     6660.0             2434.0   \n",
       "1               20147.0                     8912.0             3601.0   \n",
       "2               14632.0                     9012.0             3796.0   \n",
       "3               15667.0                    10863.0             4316.0   \n",
       "4               20441.0                    11907.0             5012.0   \n",
       "\n",
       "   Total Liabilities  Total Operating Expense  Total Receivables  \n",
       "0            31949.0                   8733.0             5054.0  \n",
       "1            45152.0                  13417.0             6916.0  \n",
       "2            36451.0                  14222.0             6750.0  \n",
       "3            36586.0                  14141.0             7211.0  \n",
       "4            39545.0                  14248.0             8281.0  \n",
       "\n",
       "[5 rows x 22 columns]"
      ],
      "text/html": [
       "<div>\n",
       "<style scoped>\n",
       "    .dataframe tbody tr th:only-of-type {\n",
       "        vertical-align: middle;\n",
       "    }\n",
       "\n",
       "    .dataframe tbody tr th {\n",
       "        vertical-align: top;\n",
       "    }\n",
       "\n",
       "    .dataframe thead th {\n",
       "        text-align: right;\n",
       "    }\n",
       "</style>\n",
       "<table border=\"1\" class=\"dataframe\">\n",
       "  <thead>\n",
       "    <tr style=\"text-align: right;\">\n",
       "      <th></th>\n",
       "      <th>cik</th>\n",
       "      <th>label</th>\n",
       "      <th>subset</th>\n",
       "      <th>ticker</th>\n",
       "      <th>Fiscal Period</th>\n",
       "      <th>Cost of Goods Sold</th>\n",
       "      <th>Depreciation, Depletion and Amortization</th>\n",
       "      <th>EBIT</th>\n",
       "      <th>EBITDA</th>\n",
       "      <th>Gross Profit</th>\n",
       "      <th>...</th>\n",
       "      <th>Net Income</th>\n",
       "      <th>Retained Earnings</th>\n",
       "      <th>Revenue</th>\n",
       "      <th>Total Assets</th>\n",
       "      <th>Total Current Assets</th>\n",
       "      <th>Total Current Liabilities</th>\n",
       "      <th>Total Inventories</th>\n",
       "      <th>Total Liabilities</th>\n",
       "      <th>Total Operating Expense</th>\n",
       "      <th>Total Receivables</th>\n",
       "    </tr>\n",
       "  </thead>\n",
       "  <tbody>\n",
       "    <tr>\n",
       "      <th>0</th>\n",
       "      <td>1800</td>\n",
       "      <td>False</td>\n",
       "      <td>train</td>\n",
       "      <td>ABT</td>\n",
       "      <td>Dec 2016</td>\n",
       "      <td>9094.0</td>\n",
       "      <td>1353.0</td>\n",
       "      <td>1844.0</td>\n",
       "      <td>3197.0</td>\n",
       "      <td>11759.0</td>\n",
       "      <td>...</td>\n",
       "      <td>1400.0</td>\n",
       "      <td>25565.0</td>\n",
       "      <td>20853.0</td>\n",
       "      <td>52666.0</td>\n",
       "      <td>26776.0</td>\n",
       "      <td>6660.0</td>\n",
       "      <td>2434.0</td>\n",
       "      <td>31949.0</td>\n",
       "      <td>8733.0</td>\n",
       "      <td>5054.0</td>\n",
       "    </tr>\n",
       "    <tr>\n",
       "      <th>1</th>\n",
       "      <td>1800</td>\n",
       "      <td>False</td>\n",
       "      <td>train</td>\n",
       "      <td>ABT</td>\n",
       "      <td>Dec 2017</td>\n",
       "      <td>12409.0</td>\n",
       "      <td>3021.0</td>\n",
       "      <td>3135.0</td>\n",
       "      <td>6156.0</td>\n",
       "      <td>14981.0</td>\n",
       "      <td>...</td>\n",
       "      <td>477.0</td>\n",
       "      <td>23978.0</td>\n",
       "      <td>27390.0</td>\n",
       "      <td>76250.0</td>\n",
       "      <td>20147.0</td>\n",
       "      <td>8912.0</td>\n",
       "      <td>3601.0</td>\n",
       "      <td>45152.0</td>\n",
       "      <td>13417.0</td>\n",
       "      <td>6916.0</td>\n",
       "    </tr>\n",
       "    <tr>\n",
       "      <th>2</th>\n",
       "      <td>1800</td>\n",
       "      <td>False</td>\n",
       "      <td>train</td>\n",
       "      <td>ABT</td>\n",
       "      <td>Dec 2018</td>\n",
       "      <td>12706.0</td>\n",
       "      <td>3278.0</td>\n",
       "      <td>3699.0</td>\n",
       "      <td>6977.0</td>\n",
       "      <td>17872.0</td>\n",
       "      <td>...</td>\n",
       "      <td>2368.0</td>\n",
       "      <td>24560.0</td>\n",
       "      <td>30578.0</td>\n",
       "      <td>67173.0</td>\n",
       "      <td>14632.0</td>\n",
       "      <td>9012.0</td>\n",
       "      <td>3796.0</td>\n",
       "      <td>36451.0</td>\n",
       "      <td>14222.0</td>\n",
       "      <td>6750.0</td>\n",
       "    </tr>\n",
       "    <tr>\n",
       "      <th>3</th>\n",
       "      <td>1800</td>\n",
       "      <td>False</td>\n",
       "      <td>train</td>\n",
       "      <td>ABT</td>\n",
       "      <td>Dec 2019</td>\n",
       "      <td>13231.0</td>\n",
       "      <td>3014.0</td>\n",
       "      <td>4747.0</td>\n",
       "      <td>7761.0</td>\n",
       "      <td>18673.0</td>\n",
       "      <td>...</td>\n",
       "      <td>3687.0</td>\n",
       "      <td>25847.0</td>\n",
       "      <td>31904.0</td>\n",
       "      <td>67887.0</td>\n",
       "      <td>15667.0</td>\n",
       "      <td>10863.0</td>\n",
       "      <td>4316.0</td>\n",
       "      <td>36586.0</td>\n",
       "      <td>14141.0</td>\n",
       "      <td>7211.0</td>\n",
       "    </tr>\n",
       "    <tr>\n",
       "      <th>4</th>\n",
       "      <td>1800</td>\n",
       "      <td>False</td>\n",
       "      <td>train</td>\n",
       "      <td>ABT</td>\n",
       "      <td>Dec 2020</td>\n",
       "      <td>15003.0</td>\n",
       "      <td>3327.0</td>\n",
       "      <td>5514.0</td>\n",
       "      <td>8841.0</td>\n",
       "      <td>19605.0</td>\n",
       "      <td>...</td>\n",
       "      <td>4495.0</td>\n",
       "      <td>27627.0</td>\n",
       "      <td>34608.0</td>\n",
       "      <td>72548.0</td>\n",
       "      <td>20441.0</td>\n",
       "      <td>11907.0</td>\n",
       "      <td>5012.0</td>\n",
       "      <td>39545.0</td>\n",
       "      <td>14248.0</td>\n",
       "      <td>8281.0</td>\n",
       "    </tr>\n",
       "  </tbody>\n",
       "</table>\n",
       "<p>5 rows × 22 columns</p>\n",
       "</div>"
      ]
     },
     "execution_count": 148,
     "metadata": {},
     "output_type": "execute_result"
    }
   ],
   "execution_count": 148
  },
  {
   "metadata": {},
   "cell_type": "markdown",
   "source": "#### Function for shuffling the dataset",
   "id": "89fc184e27075f9f"
  },
  {
   "metadata": {
    "ExecuteTime": {
     "end_time": "2024-06-08T14:38:42.961284Z",
     "start_time": "2024-06-08T14:38:42.829111Z"
    }
   },
   "cell_type": "code",
   "source": [
    "import random\n",
    "\n",
    "def shuffle_data_by_object(df):\n",
    "\n",
    "    data = df.values.tolist()\n",
    "    shuffled_data = []\n",
    "    object_data = {}\n",
    "\n",
    "    for row in data:\n",
    "        cik = row[0]\n",
    "        if cik not in object_data:\n",
    "            object_data[cik] = []\n",
    "        object_data[cik].append(row)\n",
    "\n",
    "    shuffled_object_keys = list(object_data.keys())\n",
    "    random.shuffle(shuffled_object_keys)\n",
    "\n",
    "    for cik in shuffled_object_keys:\n",
    "        shuffled_data.extend(object_data[cik])\n",
    "\n",
    "    shuffled_df = pd.DataFrame(shuffled_data, columns=df.columns).reset_index(drop=True)\n",
    "    return shuffled_df\n",
    "\n",
    "shuffled_df = shuffle_data_by_object(financial_dataset)\n",
    "shuffled_df.head(10)"
   ],
   "id": "4e0345d7c3ed2df8",
   "outputs": [
    {
     "data": {
      "text/plain": [
       "        cik  label subset ticker Fiscal Period  Cost of Goods Sold  \\\n",
       "0  27678007   True  train    NaN           NaN                25.0   \n",
       "1  27678007   True  train    NaN           NaN                25.0   \n",
       "2  27678007   True  train    NaN           NaN                62.0   \n",
       "3  27678007   True  train    NaN           NaN               111.0   \n",
       "4  27678007   True  train    NaN           NaN               205.0   \n",
       "5  31513600   True  train    NaN           NaN               104.0   \n",
       "6  31513600   True  train    NaN           NaN               104.0   \n",
       "7  31513600   True  train    NaN           NaN               121.0   \n",
       "8  31513600   True  train    NaN           NaN                88.0   \n",
       "9  31513600   True  train    NaN           NaN                81.0   \n",
       "\n",
       "   Depreciation, Depletion and Amortization   EBIT  EBITDA  Gross Profit  ...  \\\n",
       "0                                       1.0    2.0     3.0          13.0  ...   \n",
       "1                                       1.0    2.0     3.0          13.0  ...   \n",
       "2                                       2.0    0.0     3.0          38.0  ...   \n",
       "3                                       3.0    0.0     4.0          51.0  ...   \n",
       "4                                       5.0    1.0     7.0          93.0  ...   \n",
       "5                                      18.0  102.0   121.0         151.0  ...   \n",
       "6                                      18.0  102.0   121.0         151.0  ...   \n",
       "7                                      23.0   41.0    64.0         125.0  ...   \n",
       "8                                      30.0   41.0    72.0         145.0  ...   \n",
       "9                                      29.0 -267.0  -256.0         121.0  ...   \n",
       "\n",
       "   Net Income  Retained Earnings  Revenue  Total Assets  Total Current Assets  \\\n",
       "0         3.0               -5.0     39.0          50.0                  17.0   \n",
       "1         3.0               -5.0     39.0          50.0                  17.0   \n",
       "2        10.0                5.0    101.0          90.0                  47.0   \n",
       "3         7.0               13.0    162.0         180.0                  89.0   \n",
       "4         9.0               21.0    298.0         294.0                 140.0   \n",
       "5        58.0              127.0    255.0         524.0                  37.0   \n",
       "6        58.0              127.0    255.0         524.0                  37.0   \n",
       "7        16.0              126.0    246.0         540.0                  39.0   \n",
       "8        16.0              129.0    232.0         644.0                  51.0   \n",
       "9      -285.0             -156.0    202.0         348.0                  59.0   \n",
       "\n",
       "   Total Current Liabilities  Total Inventories  Total Liabilities  \\\n",
       "0                        9.0                2.0               14.0   \n",
       "1                        9.0                2.0               14.0   \n",
       "2                       23.0               15.0               28.0   \n",
       "3                       57.0               17.0               94.0   \n",
       "4                       67.0               18.0              165.0   \n",
       "5                       84.0                0.0              244.0   \n",
       "6                       84.0                0.0              244.0   \n",
       "7                       76.0                0.0              321.0   \n",
       "8                       83.0                0.0              359.0   \n",
       "9                      128.0                0.0              347.0   \n",
       "\n",
       "   Total Operating Expense  Total Receivables  \n",
       "0                     12.0               10.0  \n",
       "1                     12.0               10.0  \n",
       "2                     37.0               26.0  \n",
       "3                     50.0               63.0  \n",
       "4                     91.0              103.0  \n",
       "5                     49.0               23.0  \n",
       "6                     49.0               23.0  \n",
       "7                     85.0               23.0  \n",
       "8                    104.0               32.0  \n",
       "9                    391.0               27.0  \n",
       "\n",
       "[10 rows x 22 columns]"
      ],
      "text/html": [
       "<div>\n",
       "<style scoped>\n",
       "    .dataframe tbody tr th:only-of-type {\n",
       "        vertical-align: middle;\n",
       "    }\n",
       "\n",
       "    .dataframe tbody tr th {\n",
       "        vertical-align: top;\n",
       "    }\n",
       "\n",
       "    .dataframe thead th {\n",
       "        text-align: right;\n",
       "    }\n",
       "</style>\n",
       "<table border=\"1\" class=\"dataframe\">\n",
       "  <thead>\n",
       "    <tr style=\"text-align: right;\">\n",
       "      <th></th>\n",
       "      <th>cik</th>\n",
       "      <th>label</th>\n",
       "      <th>subset</th>\n",
       "      <th>ticker</th>\n",
       "      <th>Fiscal Period</th>\n",
       "      <th>Cost of Goods Sold</th>\n",
       "      <th>Depreciation, Depletion and Amortization</th>\n",
       "      <th>EBIT</th>\n",
       "      <th>EBITDA</th>\n",
       "      <th>Gross Profit</th>\n",
       "      <th>...</th>\n",
       "      <th>Net Income</th>\n",
       "      <th>Retained Earnings</th>\n",
       "      <th>Revenue</th>\n",
       "      <th>Total Assets</th>\n",
       "      <th>Total Current Assets</th>\n",
       "      <th>Total Current Liabilities</th>\n",
       "      <th>Total Inventories</th>\n",
       "      <th>Total Liabilities</th>\n",
       "      <th>Total Operating Expense</th>\n",
       "      <th>Total Receivables</th>\n",
       "    </tr>\n",
       "  </thead>\n",
       "  <tbody>\n",
       "    <tr>\n",
       "      <th>0</th>\n",
       "      <td>27678007</td>\n",
       "      <td>True</td>\n",
       "      <td>train</td>\n",
       "      <td>NaN</td>\n",
       "      <td>NaN</td>\n",
       "      <td>25.0</td>\n",
       "      <td>1.0</td>\n",
       "      <td>2.0</td>\n",
       "      <td>3.0</td>\n",
       "      <td>13.0</td>\n",
       "      <td>...</td>\n",
       "      <td>3.0</td>\n",
       "      <td>-5.0</td>\n",
       "      <td>39.0</td>\n",
       "      <td>50.0</td>\n",
       "      <td>17.0</td>\n",
       "      <td>9.0</td>\n",
       "      <td>2.0</td>\n",
       "      <td>14.0</td>\n",
       "      <td>12.0</td>\n",
       "      <td>10.0</td>\n",
       "    </tr>\n",
       "    <tr>\n",
       "      <th>1</th>\n",
       "      <td>27678007</td>\n",
       "      <td>True</td>\n",
       "      <td>train</td>\n",
       "      <td>NaN</td>\n",
       "      <td>NaN</td>\n",
       "      <td>25.0</td>\n",
       "      <td>1.0</td>\n",
       "      <td>2.0</td>\n",
       "      <td>3.0</td>\n",
       "      <td>13.0</td>\n",
       "      <td>...</td>\n",
       "      <td>3.0</td>\n",
       "      <td>-5.0</td>\n",
       "      <td>39.0</td>\n",
       "      <td>50.0</td>\n",
       "      <td>17.0</td>\n",
       "      <td>9.0</td>\n",
       "      <td>2.0</td>\n",
       "      <td>14.0</td>\n",
       "      <td>12.0</td>\n",
       "      <td>10.0</td>\n",
       "    </tr>\n",
       "    <tr>\n",
       "      <th>2</th>\n",
       "      <td>27678007</td>\n",
       "      <td>True</td>\n",
       "      <td>train</td>\n",
       "      <td>NaN</td>\n",
       "      <td>NaN</td>\n",
       "      <td>62.0</td>\n",
       "      <td>2.0</td>\n",
       "      <td>0.0</td>\n",
       "      <td>3.0</td>\n",
       "      <td>38.0</td>\n",
       "      <td>...</td>\n",
       "      <td>10.0</td>\n",
       "      <td>5.0</td>\n",
       "      <td>101.0</td>\n",
       "      <td>90.0</td>\n",
       "      <td>47.0</td>\n",
       "      <td>23.0</td>\n",
       "      <td>15.0</td>\n",
       "      <td>28.0</td>\n",
       "      <td>37.0</td>\n",
       "      <td>26.0</td>\n",
       "    </tr>\n",
       "    <tr>\n",
       "      <th>3</th>\n",
       "      <td>27678007</td>\n",
       "      <td>True</td>\n",
       "      <td>train</td>\n",
       "      <td>NaN</td>\n",
       "      <td>NaN</td>\n",
       "      <td>111.0</td>\n",
       "      <td>3.0</td>\n",
       "      <td>0.0</td>\n",
       "      <td>4.0</td>\n",
       "      <td>51.0</td>\n",
       "      <td>...</td>\n",
       "      <td>7.0</td>\n",
       "      <td>13.0</td>\n",
       "      <td>162.0</td>\n",
       "      <td>180.0</td>\n",
       "      <td>89.0</td>\n",
       "      <td>57.0</td>\n",
       "      <td>17.0</td>\n",
       "      <td>94.0</td>\n",
       "      <td>50.0</td>\n",
       "      <td>63.0</td>\n",
       "    </tr>\n",
       "    <tr>\n",
       "      <th>4</th>\n",
       "      <td>27678007</td>\n",
       "      <td>True</td>\n",
       "      <td>train</td>\n",
       "      <td>NaN</td>\n",
       "      <td>NaN</td>\n",
       "      <td>205.0</td>\n",
       "      <td>5.0</td>\n",
       "      <td>1.0</td>\n",
       "      <td>7.0</td>\n",
       "      <td>93.0</td>\n",
       "      <td>...</td>\n",
       "      <td>9.0</td>\n",
       "      <td>21.0</td>\n",
       "      <td>298.0</td>\n",
       "      <td>294.0</td>\n",
       "      <td>140.0</td>\n",
       "      <td>67.0</td>\n",
       "      <td>18.0</td>\n",
       "      <td>165.0</td>\n",
       "      <td>91.0</td>\n",
       "      <td>103.0</td>\n",
       "    </tr>\n",
       "    <tr>\n",
       "      <th>5</th>\n",
       "      <td>31513600</td>\n",
       "      <td>True</td>\n",
       "      <td>train</td>\n",
       "      <td>NaN</td>\n",
       "      <td>NaN</td>\n",
       "      <td>104.0</td>\n",
       "      <td>18.0</td>\n",
       "      <td>102.0</td>\n",
       "      <td>121.0</td>\n",
       "      <td>151.0</td>\n",
       "      <td>...</td>\n",
       "      <td>58.0</td>\n",
       "      <td>127.0</td>\n",
       "      <td>255.0</td>\n",
       "      <td>524.0</td>\n",
       "      <td>37.0</td>\n",
       "      <td>84.0</td>\n",
       "      <td>0.0</td>\n",
       "      <td>244.0</td>\n",
       "      <td>49.0</td>\n",
       "      <td>23.0</td>\n",
       "    </tr>\n",
       "    <tr>\n",
       "      <th>6</th>\n",
       "      <td>31513600</td>\n",
       "      <td>True</td>\n",
       "      <td>train</td>\n",
       "      <td>NaN</td>\n",
       "      <td>NaN</td>\n",
       "      <td>104.0</td>\n",
       "      <td>18.0</td>\n",
       "      <td>102.0</td>\n",
       "      <td>121.0</td>\n",
       "      <td>151.0</td>\n",
       "      <td>...</td>\n",
       "      <td>58.0</td>\n",
       "      <td>127.0</td>\n",
       "      <td>255.0</td>\n",
       "      <td>524.0</td>\n",
       "      <td>37.0</td>\n",
       "      <td>84.0</td>\n",
       "      <td>0.0</td>\n",
       "      <td>244.0</td>\n",
       "      <td>49.0</td>\n",
       "      <td>23.0</td>\n",
       "    </tr>\n",
       "    <tr>\n",
       "      <th>7</th>\n",
       "      <td>31513600</td>\n",
       "      <td>True</td>\n",
       "      <td>train</td>\n",
       "      <td>NaN</td>\n",
       "      <td>NaN</td>\n",
       "      <td>121.0</td>\n",
       "      <td>23.0</td>\n",
       "      <td>41.0</td>\n",
       "      <td>64.0</td>\n",
       "      <td>125.0</td>\n",
       "      <td>...</td>\n",
       "      <td>16.0</td>\n",
       "      <td>126.0</td>\n",
       "      <td>246.0</td>\n",
       "      <td>540.0</td>\n",
       "      <td>39.0</td>\n",
       "      <td>76.0</td>\n",
       "      <td>0.0</td>\n",
       "      <td>321.0</td>\n",
       "      <td>85.0</td>\n",
       "      <td>23.0</td>\n",
       "    </tr>\n",
       "    <tr>\n",
       "      <th>8</th>\n",
       "      <td>31513600</td>\n",
       "      <td>True</td>\n",
       "      <td>train</td>\n",
       "      <td>NaN</td>\n",
       "      <td>NaN</td>\n",
       "      <td>88.0</td>\n",
       "      <td>30.0</td>\n",
       "      <td>41.0</td>\n",
       "      <td>72.0</td>\n",
       "      <td>145.0</td>\n",
       "      <td>...</td>\n",
       "      <td>16.0</td>\n",
       "      <td>129.0</td>\n",
       "      <td>232.0</td>\n",
       "      <td>644.0</td>\n",
       "      <td>51.0</td>\n",
       "      <td>83.0</td>\n",
       "      <td>0.0</td>\n",
       "      <td>359.0</td>\n",
       "      <td>104.0</td>\n",
       "      <td>32.0</td>\n",
       "    </tr>\n",
       "    <tr>\n",
       "      <th>9</th>\n",
       "      <td>31513600</td>\n",
       "      <td>True</td>\n",
       "      <td>train</td>\n",
       "      <td>NaN</td>\n",
       "      <td>NaN</td>\n",
       "      <td>81.0</td>\n",
       "      <td>29.0</td>\n",
       "      <td>-267.0</td>\n",
       "      <td>-256.0</td>\n",
       "      <td>121.0</td>\n",
       "      <td>...</td>\n",
       "      <td>-285.0</td>\n",
       "      <td>-156.0</td>\n",
       "      <td>202.0</td>\n",
       "      <td>348.0</td>\n",
       "      <td>59.0</td>\n",
       "      <td>128.0</td>\n",
       "      <td>0.0</td>\n",
       "      <td>347.0</td>\n",
       "      <td>391.0</td>\n",
       "      <td>27.0</td>\n",
       "    </tr>\n",
       "  </tbody>\n",
       "</table>\n",
       "<p>10 rows × 22 columns</p>\n",
       "</div>"
      ]
     },
     "execution_count": 23,
     "metadata": {},
     "output_type": "execute_result"
    }
   ],
   "execution_count": 23
  },
  {
   "metadata": {
    "ExecuteTime": {
     "end_time": "2024-06-08T10:38:12.348004Z",
     "start_time": "2024-06-08T10:38:12.338338Z"
    }
   },
   "cell_type": "code",
   "source": [
    "financial_dataset_preprocessed = shuffled_df.drop(['cik', 'ticker', 'Fiscal Period'], axis=1)\n",
    "X = financial_dataset_preprocessed.drop('label', axis=1)\n",
    "y = financial_dataset_preprocessed['label']\n",
    "\n",
    "X_train, y_train, X_val, y_val, X_test, y_test = get_train_val_test_split(X, y)\n",
    "len(X_train), len(X_val), len(X_test)"
   ],
   "id": "edb3bc56e2bc317b",
   "outputs": [],
   "execution_count": 7
  },
  {
   "metadata": {
    "ExecuteTime": {
     "end_time": "2024-06-08T10:38:21.353457Z",
     "start_time": "2024-06-08T10:38:15.241907Z"
    }
   },
   "cell_type": "code",
   "source": [
    "rf = RandomForestClassifier(random_state=42)\n",
    "rf.fit(X_train, y_train)\n",
    "\n",
    "y_pred = rf.predict(X_test)"
   ],
   "id": "7207406209d817ee",
   "outputs": [],
   "execution_count": 9
  },
  {
   "metadata": {
    "ExecuteTime": {
     "end_time": "2024-06-08T10:38:21.361128Z",
     "start_time": "2024-06-08T10:38:21.353457Z"
    }
   },
   "cell_type": "code",
   "source": "confusion_matrix(y_test, y_pred)",
   "id": "a4bf5fc95be2835",
   "outputs": [
    {
     "data": {
      "text/plain": [
       "array([[2433,   47],\n",
       "       [  32, 2083]], dtype=int64)"
      ]
     },
     "execution_count": 10,
     "metadata": {},
     "output_type": "execute_result"
    }
   ],
   "execution_count": 10
  },
  {
   "metadata": {
    "ExecuteTime": {
     "end_time": "2024-06-08T10:38:21.369807Z",
     "start_time": "2024-06-08T10:38:21.361128Z"
    }
   },
   "cell_type": "code",
   "source": [
    "print(f'accuracy_score: {accuracy_score(y_test, y_pred)}')\n",
    "print(f'f1_score: {f1_score(y_test, y_pred)}')"
   ],
   "id": "882d9ff2ee87a870",
   "outputs": [
    {
     "name": "stdout",
     "output_type": "stream",
     "text": [
      "accuracy_score: 0.9828073993471165\n",
      "f1_score: 0.9813898704358068\n"
     ]
    }
   ],
   "execution_count": 11
  },
  {
   "metadata": {},
   "cell_type": "markdown",
   "source": [
    "## Textual data\n",
    "\n",
    "Textual data was being prepared after the financial part. For companies that were matched with gurufocus, the textual data was accessible through: https://cloud.ilabt.imec.be/index.php/s/yrQneXG74bNYxLp, as the authors of the 'ECL' dataset provided the textual data - financial reports scrapped from edgar database.\n",
    "\n",
    "The textual data was intended to be used be lightweight models like BERT. Furthermore, the crucial MD&A section form financial report has 6,810 words on average.\n",
    "That is why it was necessary to shorten the text, in this case to 512 tokens.\n",
    "\n",
    "Two models gemini-1.0-pro and gemini-1.5-pro-latest utilised through api were prompted with following text:\n",
    "```\n",
    "\"You are a financial analyst, specialized in assessing companies' financial health and communicating with clients.\n",
    "I have the management discussion and analysis from a company's 10k report, and I would like to know the elements that could indicate its financial health.\n",
    "Provide a concise summary of the most important information from the investor perspective from the included text,\n",
    "focusing on information about financial performance (e.g., revenue, profitability, liquidity and capital resources),\n",
    "risks (industry Trends, competition, market fluctuations), or future outlook (e.g., growth strategies, acquisitions).\n",
    "Do not split to paragraphs, give just list of sentence that make a summary out of the text.\n",
    "Text: {text_for_prompt}, where text is a management's discussion and analysis section from a 10-K report,\n",
    "with a maximum length of around 15000 words. Try to generate answer between 256 and 512 tokens length.\"\n",
    "```\n",
    "\n",
    "Created dataset is matched with above financial dataset and is corresponding to the same companies.\n",
    "Positive class was oversampled through process of generation synonymous texts leveraging \"https://api.ai21.com/studio/v1/paraphrase\" endpoint. Also for almost every original summary, there is a copy of it made through another call to gemini models. As a result, the dataset is almost balanced."
   ],
   "id": "24a581cd2f134a9e"
  },
  {
   "metadata": {},
   "cell_type": "markdown",
   "source": "### Overview",
   "id": "1e020944ee3a7608"
  },
  {
   "metadata": {
    "ExecuteTime": {
     "end_time": "2024-06-10T12:55:33.870945Z",
     "start_time": "2024-06-10T12:55:33.545814Z"
    }
   },
   "cell_type": "code",
   "source": [
    "textual_dataset = pd.read_csv('textual_data-matched_and_aligned_with_fin_data-split.csv')\n",
    "print(textual_dataset.shape)\n",
    "textual_dataset.head()"
   ],
   "id": "ba9db6e3ca5483e4",
   "outputs": [
    {
     "name": "stdout",
     "output_type": "stream",
     "text": [
      "(6116, 4)\n"
     ]
    },
    {
     "data": {
      "text/plain": [
       "         cik  label subset  \\\n",
       "0  138291101   True   test   \n",
       "1    1324245  False  train   \n",
       "2    1178670  False  train   \n",
       "3  117871706   True  train   \n",
       "4   94577107   True  train   \n",
       "\n",
       "                                                                                                                                                                                                                                                                                                                                                                                                                                                                                                                                                                                                                                                                                                                                                                                                                                                                                                                                                                                                                                                                                                                                                                                                                                                                                                                                                                                                                                                                                                                                                                                                                                                                                                                                                                                                                                                                                                                                                                                                      text  \n",
       "0                                                                                                                                                                                                                                                                                                                                                                                                                                                                                                                                                                                                                                                                                                                                                                                                                                                                                                                                            As a biopharmaceutical company, Contrave is focused solely on the commercialization of its weight management drug.  The company generated $33.7 million in revenue in 2016, up from $24.5 million in 2015.  Contrave's first US net sales totaled $17.3 million in 2016.  Future sales are difficult to predict at this stage in the company's commercialization process.  Due to costs associated with establishing sales and marketing capabilities, selling, general, and administrative expenses decreased slightly.  Unprofitable, the company reports a net loss and expects to continue incurring losses for several years.  Contrave's success is essential to the company's profitability, as it depends on revenue to cover costs.  To support operations, the company may issue equity, debt, or royalty-based agreements, all of which could dilution existing shareholders significantly.  In order for Contrave to be successfully commercialized, needed regulatory approvals must be obtained, as well as adequate funding must be secured.    \n",
       "1                                                                                                                                                                                                                                                                                              Solera is a global provider of software and services for the automobile claims processing industry, serving over 165,000 customers in 70 countries.  The company operates in two segments: EMEA and Americas, with the US and UK being the only countries representing more than 10% of total revenues in fiscal year 2014.  Revenues are generated from sales of software and services under negotiated contracts or pricing agreements, with the core offering being estimating and workflow software. The company has a high customer retention rate due to customer integration and long-standing relationships.  Revenue increased by 17.8% in fiscal year 2014, driven by the acquisition of SRS and organic growth in both segments, particularly in re-underwriting services and transaction-based revenues.  Operating expenses and systems development and programming costs also increased due to acquisitions and investments in product development.  The company actively pursues acquisitions as part of its growth strategy and recently acquired the Insurance and Services Division of Pittsburgh Glass Works. Solera believes its existing cash on hand and cash flow from operations are sufficient to fund working capital, debt service, acquisitions, and strategic investments for at least the next twelve months.  The company is exposed to foreign currency fluctuations, primarily the Euro, and mitigates this risk through cross-currency swaps.  Factors influencing business volume and revenue include the number of insurance claims, new and used vehicle sales, damaged vehicle repair costs, automobile usage, seasonality, and vehicle insurance penetration rates.   \n",
       "2  The company is a commercial-stage biopharmaceutical company focusing on RNAi therapeutics. They have two approved products, ONPATTRO and GIVLAARI, and six late-stage investigational programs. The company has incurred significant losses since inception and expects losses to continue due to research and development costs. Revenue comes from product sales and collaborations with Regeneron, Sanofi Genzyme, and MDCO.  Critical accounting policies include revenue recognition for product sales and collaborations, inventory capitalization, income tax accounting, stock-based compensation, and research and development accruals. Net product revenue increased in 2019 due to ONPATTRO sales and the launch of GIVLAARI. Collaboration revenue decreased in 2019 but is expected to increase in 2020 due to reimbursable activities and milestones. Operating expenses, including cost of goods sold, research and development, and selling, general and administrative expenses, increased in 2019 due to growth and commercialization activities. The company expects these expenses to continue increasing in 2020. As of December 31, 2019, the company had $1.54 billion in cash, cash equivalents, and marketable securities. They believe this is sufficient to fund operations for at least the next 12 months. However, the company may require additional funding sooner to support commercialization and development activities. Future capital requirements depend on factors such as R&D progress, collaboration agreements, regulatory approvals, and manufacturing capabilities. The company may seek additional funding through collaborations, equity offerings, or debt financing, which could result in dilution or restrictive covenants. The company also has off-balance sheet arrangements, primarily indemnification clauses in license agreements.  Contractual obligations include operating leases, license agreements, and potential milestone payments.    \n",
       "3                                                                                                                                                                                                                                                                                                                                                                                                                                                                                                                                                                                                                                                                                                                                                              This decline was largely driven by the decline in the advertising insert market and partially offset by growth in direct mail marketing, according to Vertis Inc.  Its Advertising Inserts segment faces challenges related to industry overcapacity and price pressure.  In spite of acquisitions and volume growth, Direct Mail's EBITDA declined due to a non-cash impairment charge and increased fixed costs.  In addition, their $250 million revolving credit facility will mature in December 2008, and their $130 million accounts receivable facility will mature in February 2009.  The company is exploring refinancing, restructuring, and debt exchange options to stay afloat during its upcoming maturities.  While the company has been in contact with lenders and debtholders, no agreement has been reached so far.  Furthermore, Vertis' independent auditors have qualified it as a going concern.  As part of a restructuring program already yielding results, management is taking steps to cut costs and focus on operational efficiency to improve profitability.  In the future, the company's performance may be affected by market trends, competition, paper costs, and its ability to refinance its debt.    \n",
       "4                                                                                                                                                                                                                                                                                                                                                                                                                           Losses, negative cash flows, and a working capital deficit pose substantial doubts about the company's viability.  Acquisitions and growth in communication services helped drive revenues in 2000, but price reductions and industry competition lowered revenues per minute.  Despite the company's network ownership expansion, its cost of services and sales decreased as a percentage of revenue, though gross profit is expected to drop since capacity sales no longer qualify for sales-type lease accounting.  The company's selling, general, and administrative expenses increased as a result of acquisitions, expansions, and restructuring charges, including more accounts receivable reserves.  In 2000, the company reported EBITDA losses and a significant net loss, with high depreciation and amortization costs.  It is facing a difficult economic environment and suspending interest and dividend payments that pose a major concern regarding liquidity.  Restructuring at the company focuses on corporate and Broadband/Enterprise segments, while closing consumer-oriented businesses in several countries and reducing hiring.  If creditors fail to reach an agreement, there is a significant risk of bankruptcy. Creditors are actively seeking restructuring options, including debt-to-equity conversions and exploring strategic alternatives.  Various challenges face the company, such as intense industry competition, regulatory uncertainty, dependence on third-party sales organizations, and the need for additional funding.    "
      ],
      "text/html": [
       "<div>\n",
       "<style scoped>\n",
       "    .dataframe tbody tr th:only-of-type {\n",
       "        vertical-align: middle;\n",
       "    }\n",
       "\n",
       "    .dataframe tbody tr th {\n",
       "        vertical-align: top;\n",
       "    }\n",
       "\n",
       "    .dataframe thead th {\n",
       "        text-align: right;\n",
       "    }\n",
       "</style>\n",
       "<table border=\"1\" class=\"dataframe\">\n",
       "  <thead>\n",
       "    <tr style=\"text-align: right;\">\n",
       "      <th></th>\n",
       "      <th>cik</th>\n",
       "      <th>label</th>\n",
       "      <th>subset</th>\n",
       "      <th>text</th>\n",
       "    </tr>\n",
       "  </thead>\n",
       "  <tbody>\n",
       "    <tr>\n",
       "      <th>0</th>\n",
       "      <td>138291101</td>\n",
       "      <td>True</td>\n",
       "      <td>test</td>\n",
       "      <td>As a biopharmaceutical company, Contrave is focused solely on the commercialization of its weight management drug.  The company generated $33.7 million in revenue in 2016, up from $24.5 million in 2015.  Contrave's first US net sales totaled $17.3 million in 2016.  Future sales are difficult to predict at this stage in the company's commercialization process.  Due to costs associated with establishing sales and marketing capabilities, selling, general, and administrative expenses decreased slightly.  Unprofitable, the company reports a net loss and expects to continue incurring losses for several years.  Contrave's success is essential to the company's profitability, as it depends on revenue to cover costs.  To support operations, the company may issue equity, debt, or royalty-based agreements, all of which could dilution existing shareholders significantly.  In order for Contrave to be successfully commercialized, needed regulatory approvals must be obtained, as well as adequate funding must be secured.</td>\n",
       "    </tr>\n",
       "    <tr>\n",
       "      <th>1</th>\n",
       "      <td>1324245</td>\n",
       "      <td>False</td>\n",
       "      <td>train</td>\n",
       "      <td>Solera is a global provider of software and services for the automobile claims processing industry, serving over 165,000 customers in 70 countries.  The company operates in two segments: EMEA and Americas, with the US and UK being the only countries representing more than 10% of total revenues in fiscal year 2014.  Revenues are generated from sales of software and services under negotiated contracts or pricing agreements, with the core offering being estimating and workflow software. The company has a high customer retention rate due to customer integration and long-standing relationships.  Revenue increased by 17.8% in fiscal year 2014, driven by the acquisition of SRS and organic growth in both segments, particularly in re-underwriting services and transaction-based revenues.  Operating expenses and systems development and programming costs also increased due to acquisitions and investments in product development.  The company actively pursues acquisitions as part of its growth strategy and recently acquired the Insurance and Services Division of Pittsburgh Glass Works. Solera believes its existing cash on hand and cash flow from operations are sufficient to fund working capital, debt service, acquisitions, and strategic investments for at least the next twelve months.  The company is exposed to foreign currency fluctuations, primarily the Euro, and mitigates this risk through cross-currency swaps.  Factors influencing business volume and revenue include the number of insurance claims, new and used vehicle sales, damaged vehicle repair costs, automobile usage, seasonality, and vehicle insurance penetration rates.</td>\n",
       "    </tr>\n",
       "    <tr>\n",
       "      <th>2</th>\n",
       "      <td>1178670</td>\n",
       "      <td>False</td>\n",
       "      <td>train</td>\n",
       "      <td>The company is a commercial-stage biopharmaceutical company focusing on RNAi therapeutics. They have two approved products, ONPATTRO and GIVLAARI, and six late-stage investigational programs. The company has incurred significant losses since inception and expects losses to continue due to research and development costs. Revenue comes from product sales and collaborations with Regeneron, Sanofi Genzyme, and MDCO.  Critical accounting policies include revenue recognition for product sales and collaborations, inventory capitalization, income tax accounting, stock-based compensation, and research and development accruals. Net product revenue increased in 2019 due to ONPATTRO sales and the launch of GIVLAARI. Collaboration revenue decreased in 2019 but is expected to increase in 2020 due to reimbursable activities and milestones. Operating expenses, including cost of goods sold, research and development, and selling, general and administrative expenses, increased in 2019 due to growth and commercialization activities. The company expects these expenses to continue increasing in 2020. As of December 31, 2019, the company had $1.54 billion in cash, cash equivalents, and marketable securities. They believe this is sufficient to fund operations for at least the next 12 months. However, the company may require additional funding sooner to support commercialization and development activities. Future capital requirements depend on factors such as R&amp;D progress, collaboration agreements, regulatory approvals, and manufacturing capabilities. The company may seek additional funding through collaborations, equity offerings, or debt financing, which could result in dilution or restrictive covenants. The company also has off-balance sheet arrangements, primarily indemnification clauses in license agreements.  Contractual obligations include operating leases, license agreements, and potential milestone payments.</td>\n",
       "    </tr>\n",
       "    <tr>\n",
       "      <th>3</th>\n",
       "      <td>117871706</td>\n",
       "      <td>True</td>\n",
       "      <td>train</td>\n",
       "      <td>This decline was largely driven by the decline in the advertising insert market and partially offset by growth in direct mail marketing, according to Vertis Inc.  Its Advertising Inserts segment faces challenges related to industry overcapacity and price pressure.  In spite of acquisitions and volume growth, Direct Mail's EBITDA declined due to a non-cash impairment charge and increased fixed costs.  In addition, their $250 million revolving credit facility will mature in December 2008, and their $130 million accounts receivable facility will mature in February 2009.  The company is exploring refinancing, restructuring, and debt exchange options to stay afloat during its upcoming maturities.  While the company has been in contact with lenders and debtholders, no agreement has been reached so far.  Furthermore, Vertis' independent auditors have qualified it as a going concern.  As part of a restructuring program already yielding results, management is taking steps to cut costs and focus on operational efficiency to improve profitability.  In the future, the company's performance may be affected by market trends, competition, paper costs, and its ability to refinance its debt.</td>\n",
       "    </tr>\n",
       "    <tr>\n",
       "      <th>4</th>\n",
       "      <td>94577107</td>\n",
       "      <td>True</td>\n",
       "      <td>train</td>\n",
       "      <td>Losses, negative cash flows, and a working capital deficit pose substantial doubts about the company's viability.  Acquisitions and growth in communication services helped drive revenues in 2000, but price reductions and industry competition lowered revenues per minute.  Despite the company's network ownership expansion, its cost of services and sales decreased as a percentage of revenue, though gross profit is expected to drop since capacity sales no longer qualify for sales-type lease accounting.  The company's selling, general, and administrative expenses increased as a result of acquisitions, expansions, and restructuring charges, including more accounts receivable reserves.  In 2000, the company reported EBITDA losses and a significant net loss, with high depreciation and amortization costs.  It is facing a difficult economic environment and suspending interest and dividend payments that pose a major concern regarding liquidity.  Restructuring at the company focuses on corporate and Broadband/Enterprise segments, while closing consumer-oriented businesses in several countries and reducing hiring.  If creditors fail to reach an agreement, there is a significant risk of bankruptcy. Creditors are actively seeking restructuring options, including debt-to-equity conversions and exploring strategic alternatives.  Various challenges face the company, such as intense industry competition, regulatory uncertainty, dependence on third-party sales organizations, and the need for additional funding.</td>\n",
       "    </tr>\n",
       "  </tbody>\n",
       "</table>\n",
       "</div>"
      ]
     },
     "execution_count": 141,
     "metadata": {},
     "output_type": "execute_result"
    }
   ],
   "execution_count": 141
  },
  {
   "metadata": {
    "ExecuteTime": {
     "end_time": "2024-06-10T12:55:37.940609Z",
     "start_time": "2024-06-10T12:55:37.928923Z"
    }
   },
   "cell_type": "code",
   "source": "textual_dataset['label'].value_counts()",
   "id": "3d3fe4fb2040ac37",
   "outputs": [
    {
     "data": {
      "text/plain": [
       "label\n",
       "False    3300\n",
       "True     2816\n",
       "Name: count, dtype: int64"
      ]
     },
     "execution_count": 142,
     "metadata": {},
     "output_type": "execute_result"
    }
   ],
   "execution_count": 142
  },
  {
   "metadata": {
    "ExecuteTime": {
     "end_time": "2024-06-07T07:55:03.433634Z",
     "start_time": "2024-06-07T07:55:02.705942Z"
    }
   },
   "cell_type": "code",
   "source": [
    "import matplotlib.pyplot as plt\n",
    "\n",
    "text_lengths = [len(text) for text in textual_dataset['text'].values]\n",
    "plt.hist(text_lengths, bins=30)\n",
    "plt.show()"
   ],
   "id": "f8e6cd745593a18c",
   "outputs": [
    {
     "data": {
      "text/plain": [
       "<Figure size 640x480 with 1 Axes>"
      ],
      "image/png": "[encoded data removed]"
     },
     "metadata": {},
     "output_type": "display_data"
    }
   ],
   "execution_count": 24
  },
  {
   "metadata": {
    "ExecuteTime": {
     "end_time": "2024-06-10T13:19:52.549281Z",
     "start_time": "2024-06-10T13:19:52.537312Z"
    }
   },
   "cell_type": "code",
   "source": [
    "def split_text_by_sentences(text, max_char_per_chunk=500):\n",
    "\n",
    "    chunks = []\n",
    "    current_chunk = \"\"\n",
    "    start_index = 0\n",
    "    \n",
    "    for i, word in enumerate(text.split()):\n",
    "        current_chunk += word + \" \"\n",
    "    \n",
    "        if len(current_chunk) > max_char_per_chunk:\n",
    "            chunks.append(text[start_index:i])\n",
    "            start_index = i + 1\n",
    "            current_chunk = \"\"\n",
    "        elif word.endswith(\".\"):\n",
    "            chunks.append(current_chunk)\n",
    "            start_index = i + 1\n",
    "            current_chunk = \"\"\n",
    "        \n",
    "    if current_chunk:\n",
    "        chunks.append(text[start_index:])\n",
    "    \n",
    "    return chunks"
   ],
   "id": "e9b1f5d14be2eb1b",
   "outputs": [],
   "execution_count": 176
  },
  {
   "metadata": {
    "ExecuteTime": {
     "end_time": "2024-06-10T13:08:33.522429Z",
     "start_time": "2024-06-10T13:08:33.246721Z"
    }
   },
   "cell_type": "code",
   "source": "textual_dataset['text_chunks_count'] = textual_dataset['text'].apply(lambda x: len(split_text_by_sentences(x)))",
   "id": "2c39e84cdc3991d8",
   "outputs": [],
   "execution_count": 160
  },
  {
   "metadata": {
    "ExecuteTime": {
     "end_time": "2024-06-10T13:10:25.973250Z",
     "start_time": "2024-06-10T13:10:25.839558Z"
    }
   },
   "cell_type": "code",
   "source": [
    "counts = textual_dataset['text_chunks_count'].value_counts().sort_index()\n",
    "counts.plot(kind='bar')\n",
    "print(f'Texts with more than 20 sentences count: {counts[counts.index > 20].sum()}')"
   ],
   "id": "ee9c0baa0c3b32",
   "outputs": [
    {
     "name": "stdout",
     "output_type": "stream",
     "text": [
      "Texts with more than 20 sentences count: 74\n"
     ]
    },
    {
     "data": {
      "text/plain": [
       "<Figure size 640x480 with 1 Axes>"
      ],
      "image/png": "[encoded data removed]"
     },
     "metadata": {},
     "output_type": "display_data"
    }
   ],
   "execution_count": 164
  },
  {
   "metadata": {},
   "cell_type": "markdown",
   "source": "### Example usage",
   "id": "736d87fcb730c9b2"
  },
  {
   "metadata": {
    "ExecuteTime": {
     "end_time": "2024-06-07T07:55:06.720678Z",
     "start_time": "2024-06-07T07:55:05.761161Z"
    }
   },
   "cell_type": "code",
   "source": [
    "import pandas as pd\n",
    "from sklearn.model_selection import train_test_split\n",
    "from sklearn.feature_extraction.text import TfidfVectorizer\n",
    "from sklearn.linear_model import LogisticRegression\n",
    "from sklearn.metrics import confusion_matrix, accuracy_score, f1_score\n",
    "\n",
    "import string"
   ],
   "id": "676d78e6a419ddb0",
   "outputs": [],
   "execution_count": 25
  },
  {
   "metadata": {
    "ExecuteTime": {
     "end_time": "2024-06-07T07:55:28.549639Z",
     "start_time": "2024-06-07T07:55:28.546345Z"
    }
   },
   "cell_type": "code",
   "source": [
    "def preprocess_text(text):\n",
    "  text = text.lower()\n",
    "  text = text.translate(str.maketrans('', '', string.punctuation))\n",
    "  return text"
   ],
   "id": "d115e69e8705a0bf",
   "outputs": [],
   "execution_count": 28
  },
  {
   "metadata": {
    "ExecuteTime": {
     "end_time": "2024-06-07T07:55:29.048716Z",
     "start_time": "2024-06-07T07:55:28.961988Z"
    }
   },
   "cell_type": "code",
   "source": [
    "X = textual_dataset['text'].apply(preprocess_text)\n",
    "y = textual_dataset['label']\n",
    "\n",
    "X_train, X_test, y_train, y_test = train_test_split(X, y, test_size=0.2, random_state=42)"
   ],
   "id": "b512b6e8771e2b8f",
   "outputs": [],
   "execution_count": 29
  },
  {
   "metadata": {
    "ExecuteTime": {
     "end_time": "2024-06-07T07:56:11.833679Z",
     "start_time": "2024-06-07T07:55:41.212472Z"
    }
   },
   "cell_type": "code",
   "source": [
    "vectorizer = TfidfVectorizer(max_features=1000)\n",
    "X_train_features = vectorizer.fit_transform(X_train)\n",
    "X_test_features = vectorizer.transform(X_test)"
   ],
   "id": "8fe24dd2cf3af7d5",
   "outputs": [
    {
     "data": {
      "text/plain": [
       "<1x1000 sparse matrix of type '<class 'numpy.float64'>'\n",
       "\twith 100 stored elements in Compressed Sparse Row format>"
      ]
     },
     "execution_count": 31,
     "metadata": {},
     "output_type": "execute_result"
    }
   ],
   "execution_count": 31
  },
  {
   "metadata": {
    "ExecuteTime": {
     "end_time": "2024-06-06T20:37:52.310208Z",
     "start_time": "2024-06-06T20:37:52.268982Z"
    }
   },
   "cell_type": "code",
   "source": [
    "model = LogisticRegression(solver='liblinear')\n",
    "model.fit(X_train_features, y_train)\n",
    "\n",
    "y_pred = model.predict(X_test_features)"
   ],
   "id": "10d3427017eea399",
   "outputs": [],
   "execution_count": 165
  },
  {
   "metadata": {
    "ExecuteTime": {
     "end_time": "2024-06-06T20:38:56.130902Z",
     "start_time": "2024-06-06T20:38:56.124925Z"
    }
   },
   "cell_type": "code",
   "source": "confusion_matrix(y_test, y_pred)",
   "id": "7f4381c6f94366a",
   "outputs": [
    {
     "data": {
      "text/plain": [
       "array([[640,  20],\n",
       "       [ 35, 529]], dtype=int64)"
      ]
     },
     "execution_count": 166,
     "metadata": {},
     "output_type": "execute_result"
    }
   ],
   "execution_count": 166
  },
  {
   "metadata": {
    "ExecuteTime": {
     "end_time": "2024-06-06T20:39:13.200641Z",
     "start_time": "2024-06-06T20:39:13.193517Z"
    }
   },
   "cell_type": "code",
   "source": [
    "print(f'accuracy_score: {accuracy_score(y_test, y_pred)}')\n",
    "print(f'f1_score: {f1_score(y_test, y_pred)}')"
   ],
   "id": "4f84812210908cc7",
   "outputs": [
    {
     "name": "stdout",
     "output_type": "stream",
     "text": [
      "accuracy_score: 0.9550653594771242\n",
      "f1_score: 0.9505840071877808\n"
     ]
    }
   ],
   "execution_count": 167
  },
  {
   "metadata": {
    "ExecuteTime": {
     "end_time": "2024-06-06T20:41:58.382300Z",
     "start_time": "2024-06-06T20:41:58.367060Z"
    }
   },
   "cell_type": "code",
   "source": [
    "new_texts = [\n",
    "    \"The company is experiencing steady revenue growth and profitability.\",\n",
    "    \"The company is facing a class-action lawsuit and a potential product recall.\",\n",
    "    \"The company is struggling to meet its financial obligations and may be at risk of bankruptcy.\"\n",
    "]\n",
    "\n",
    "for text in new_texts:\n",
    "    new_text_features = vectorizer.transform([preprocess_text(text)])\n",
    "    prediction = model.predict(new_text_features)[0]\n",
    "    \n",
    "    if prediction:\n",
    "        print(f\"Text: {text}\\nPredicted: Bankruptcy\")\n",
    "    else:\n",
    "        print(f\"Text: {text}\\nPredicted: Not Bankruptcy\")"
   ],
   "id": "551319d4857cd092",
   "outputs": [
    {
     "name": "stdout",
     "output_type": "stream",
     "text": [
      "Text: The company is experiencing steady revenue growth and profitability.\n",
      "Predicted: Not Bankruptcy\n",
      "Text: The company is facing a class-action lawsuit and a potential product recall.\n",
      "Predicted: Not Bankruptcy\n",
      "Text: The company is struggling to meet its financial obligations and may be at risk of bankruptcy.\n",
      "Predicted: Bankruptcy\n"
     ]
    }
   ],
   "execution_count": 169
  },
  {
   "metadata": {},
   "cell_type": "markdown",
   "source": "### Useful functions to work with the dataset",
   "id": "f5df155cfeccadb"
  },
  {
   "metadata": {},
   "cell_type": "markdown",
   "source": "#### Function aligning the textual dataset with financial dataset",
   "id": "c517bde11e43d646"
  },
  {
   "metadata": {},
   "cell_type": "markdown",
   "source": "Shuffle the financial dataset and then check if the textual dataset is aligned with the financial dataset after using custom function.",
   "id": "a0d1a5442c66a1bf"
  },
  {
   "metadata": {
    "ExecuteTime": {
     "end_time": "2024-06-07T17:04:05.298165Z",
     "start_time": "2024-06-07T17:04:05.210030Z"
    }
   },
   "cell_type": "code",
   "source": [
    "financial_dataset_shuffled = shuffle_data_by_object(financial_dataset)\n",
    "financial_dataset_shuffled.head(10)"
   ],
   "id": "3cb3c9472a80efc7",
   "outputs": [
    {
     "data": {
      "text/plain": [
       "         cik  label subset ticker Fiscal Period  Cost of Goods Sold  \\\n",
       "0  121135108   True  train    NaN           NaN               395.0   \n",
       "1  121135108   True  train    NaN           NaN               395.0   \n",
       "2  121135108   True  train    NaN           NaN               414.0   \n",
       "3  121135108   True  train    NaN           NaN               422.0   \n",
       "4  121135108   True  train    NaN           NaN               391.0   \n",
       "5  105631210   True  train    NaN           NaN                28.0   \n",
       "6  105631210   True  train    NaN           NaN                28.0   \n",
       "7  105631210   True  train    NaN           NaN               227.0   \n",
       "8  105631210   True  train    NaN           NaN               504.0   \n",
       "9  105631210   True  train    NaN           NaN               629.0   \n",
       "\n",
       "   Depreciation, Depletion and Amortization   EBIT  EBITDA  Gross Profit  ...  \\\n",
       "0                                      13.0   23.0    37.0         267.0  ...   \n",
       "1                                      13.0   23.0    37.0         267.0  ...   \n",
       "2                                      14.0   19.0    34.0         280.0  ...   \n",
       "3                                      17.0    5.0    22.0         261.0  ...   \n",
       "4                                      21.0  -30.0    -9.0         219.0  ...   \n",
       "5                                       0.0  -12.0   -11.0          16.0  ...   \n",
       "6                                       0.0  -12.0   -11.0          16.0  ...   \n",
       "7                                       0.0   -8.0    -7.0         127.0  ...   \n",
       "8                                      63.0  -80.0   -17.0         319.0  ...   \n",
       "9                                     132.0 -399.0  -267.0         372.0  ...   \n",
       "\n",
       "   Net Income  Retained Earnings  Revenue  Total Assets  Total Current Assets  \\\n",
       "0         9.0               52.0    664.0         314.0                 189.0   \n",
       "1         9.0               52.0    664.0         314.0                 189.0   \n",
       "2         7.0               58.0    696.0         344.0                 206.0   \n",
       "3        -1.0               55.0    682.0         345.0                 203.0   \n",
       "4       -23.0               28.0    610.0         316.0                 167.0   \n",
       "5      -122.0             -243.0     44.0         746.0                 372.0   \n",
       "6      -122.0             -243.0     44.0         746.0                 372.0   \n",
       "7      -249.0             -526.0    354.0        2514.0                1245.0   \n",
       "8      -663.0            -1188.0    823.0        4282.0                1628.0   \n",
       "9     -1935.0            -3125.0   1001.0        2794.0                 846.0   \n",
       "\n",
       "   Total Current Liabilities  Total Inventories  Total Liabilities  \\\n",
       "0                       85.0              142.0              183.0   \n",
       "1                       85.0              142.0              183.0   \n",
       "2                      101.0              151.0              204.0   \n",
       "3                       91.0              153.0              206.0   \n",
       "4                       82.0              132.0              201.0   \n",
       "5                       97.0                0.0              666.0   \n",
       "6                       97.0                0.0              666.0   \n",
       "7                      390.0                0.0             2070.0   \n",
       "8                      677.0                0.0             3026.0   \n",
       "9                     1233.0                0.0             3271.0   \n",
       "\n",
       "   Total Operating Expense  Total Receivables  \n",
       "0                    245.0               10.0  \n",
       "1                    245.0               10.0  \n",
       "2                    262.0               11.0  \n",
       "3                    256.0               10.0  \n",
       "4                    250.0                8.0  \n",
       "5                     28.0               16.0  \n",
       "6                     28.0               16.0  \n",
       "7                    135.0              165.0  \n",
       "8                    400.0              274.0  \n",
       "9                    772.0              250.0  \n",
       "\n",
       "[10 rows x 22 columns]"
      ],
      "text/html": [
       "<div>\n",
       "<style scoped>\n",
       "    .dataframe tbody tr th:only-of-type {\n",
       "        vertical-align: middle;\n",
       "    }\n",
       "\n",
       "    .dataframe tbody tr th {\n",
       "        vertical-align: top;\n",
       "    }\n",
       "\n",
       "    .dataframe thead th {\n",
       "        text-align: right;\n",
       "    }\n",
       "</style>\n",
       "<table border=\"1\" class=\"dataframe\">\n",
       "  <thead>\n",
       "    <tr style=\"text-align: right;\">\n",
       "      <th></th>\n",
       "      <th>cik</th>\n",
       "      <th>label</th>\n",
       "      <th>subset</th>\n",
       "      <th>ticker</th>\n",
       "      <th>Fiscal Period</th>\n",
       "      <th>Cost of Goods Sold</th>\n",
       "      <th>Depreciation, Depletion and Amortization</th>\n",
       "      <th>EBIT</th>\n",
       "      <th>EBITDA</th>\n",
       "      <th>Gross Profit</th>\n",
       "      <th>...</th>\n",
       "      <th>Net Income</th>\n",
       "      <th>Retained Earnings</th>\n",
       "      <th>Revenue</th>\n",
       "      <th>Total Assets</th>\n",
       "      <th>Total Current Assets</th>\n",
       "      <th>Total Current Liabilities</th>\n",
       "      <th>Total Inventories</th>\n",
       "      <th>Total Liabilities</th>\n",
       "      <th>Total Operating Expense</th>\n",
       "      <th>Total Receivables</th>\n",
       "    </tr>\n",
       "  </thead>\n",
       "  <tbody>\n",
       "    <tr>\n",
       "      <th>0</th>\n",
       "      <td>121135108</td>\n",
       "      <td>True</td>\n",
       "      <td>train</td>\n",
       "      <td>NaN</td>\n",
       "      <td>NaN</td>\n",
       "      <td>395.0</td>\n",
       "      <td>13.0</td>\n",
       "      <td>23.0</td>\n",
       "      <td>37.0</td>\n",
       "      <td>267.0</td>\n",
       "      <td>...</td>\n",
       "      <td>9.0</td>\n",
       "      <td>52.0</td>\n",
       "      <td>664.0</td>\n",
       "      <td>314.0</td>\n",
       "      <td>189.0</td>\n",
       "      <td>85.0</td>\n",
       "      <td>142.0</td>\n",
       "      <td>183.0</td>\n",
       "      <td>245.0</td>\n",
       "      <td>10.0</td>\n",
       "    </tr>\n",
       "    <tr>\n",
       "      <th>1</th>\n",
       "      <td>121135108</td>\n",
       "      <td>True</td>\n",
       "      <td>train</td>\n",
       "      <td>NaN</td>\n",
       "      <td>NaN</td>\n",
       "      <td>395.0</td>\n",
       "      <td>13.0</td>\n",
       "      <td>23.0</td>\n",
       "      <td>37.0</td>\n",
       "      <td>267.0</td>\n",
       "      <td>...</td>\n",
       "      <td>9.0</td>\n",
       "      <td>52.0</td>\n",
       "      <td>664.0</td>\n",
       "      <td>314.0</td>\n",
       "      <td>189.0</td>\n",
       "      <td>85.0</td>\n",
       "      <td>142.0</td>\n",
       "      <td>183.0</td>\n",
       "      <td>245.0</td>\n",
       "      <td>10.0</td>\n",
       "    </tr>\n",
       "    <tr>\n",
       "      <th>2</th>\n",
       "      <td>121135108</td>\n",
       "      <td>True</td>\n",
       "      <td>train</td>\n",
       "      <td>NaN</td>\n",
       "      <td>NaN</td>\n",
       "      <td>414.0</td>\n",
       "      <td>14.0</td>\n",
       "      <td>19.0</td>\n",
       "      <td>34.0</td>\n",
       "      <td>280.0</td>\n",
       "      <td>...</td>\n",
       "      <td>7.0</td>\n",
       "      <td>58.0</td>\n",
       "      <td>696.0</td>\n",
       "      <td>344.0</td>\n",
       "      <td>206.0</td>\n",
       "      <td>101.0</td>\n",
       "      <td>151.0</td>\n",
       "      <td>204.0</td>\n",
       "      <td>262.0</td>\n",
       "      <td>11.0</td>\n",
       "    </tr>\n",
       "    <tr>\n",
       "      <th>3</th>\n",
       "      <td>121135108</td>\n",
       "      <td>True</td>\n",
       "      <td>train</td>\n",
       "      <td>NaN</td>\n",
       "      <td>NaN</td>\n",
       "      <td>422.0</td>\n",
       "      <td>17.0</td>\n",
       "      <td>5.0</td>\n",
       "      <td>22.0</td>\n",
       "      <td>261.0</td>\n",
       "      <td>...</td>\n",
       "      <td>-1.0</td>\n",
       "      <td>55.0</td>\n",
       "      <td>682.0</td>\n",
       "      <td>345.0</td>\n",
       "      <td>203.0</td>\n",
       "      <td>91.0</td>\n",
       "      <td>153.0</td>\n",
       "      <td>206.0</td>\n",
       "      <td>256.0</td>\n",
       "      <td>10.0</td>\n",
       "    </tr>\n",
       "    <tr>\n",
       "      <th>4</th>\n",
       "      <td>121135108</td>\n",
       "      <td>True</td>\n",
       "      <td>train</td>\n",
       "      <td>NaN</td>\n",
       "      <td>NaN</td>\n",
       "      <td>391.0</td>\n",
       "      <td>21.0</td>\n",
       "      <td>-30.0</td>\n",
       "      <td>-9.0</td>\n",
       "      <td>219.0</td>\n",
       "      <td>...</td>\n",
       "      <td>-23.0</td>\n",
       "      <td>28.0</td>\n",
       "      <td>610.0</td>\n",
       "      <td>316.0</td>\n",
       "      <td>167.0</td>\n",
       "      <td>82.0</td>\n",
       "      <td>132.0</td>\n",
       "      <td>201.0</td>\n",
       "      <td>250.0</td>\n",
       "      <td>8.0</td>\n",
       "    </tr>\n",
       "    <tr>\n",
       "      <th>5</th>\n",
       "      <td>105631210</td>\n",
       "      <td>True</td>\n",
       "      <td>train</td>\n",
       "      <td>NaN</td>\n",
       "      <td>NaN</td>\n",
       "      <td>28.0</td>\n",
       "      <td>0.0</td>\n",
       "      <td>-12.0</td>\n",
       "      <td>-11.0</td>\n",
       "      <td>16.0</td>\n",
       "      <td>...</td>\n",
       "      <td>-122.0</td>\n",
       "      <td>-243.0</td>\n",
       "      <td>44.0</td>\n",
       "      <td>746.0</td>\n",
       "      <td>372.0</td>\n",
       "      <td>97.0</td>\n",
       "      <td>0.0</td>\n",
       "      <td>666.0</td>\n",
       "      <td>28.0</td>\n",
       "      <td>16.0</td>\n",
       "    </tr>\n",
       "    <tr>\n",
       "      <th>6</th>\n",
       "      <td>105631210</td>\n",
       "      <td>True</td>\n",
       "      <td>train</td>\n",
       "      <td>NaN</td>\n",
       "      <td>NaN</td>\n",
       "      <td>28.0</td>\n",
       "      <td>0.0</td>\n",
       "      <td>-12.0</td>\n",
       "      <td>-11.0</td>\n",
       "      <td>16.0</td>\n",
       "      <td>...</td>\n",
       "      <td>-122.0</td>\n",
       "      <td>-243.0</td>\n",
       "      <td>44.0</td>\n",
       "      <td>746.0</td>\n",
       "      <td>372.0</td>\n",
       "      <td>97.0</td>\n",
       "      <td>0.0</td>\n",
       "      <td>666.0</td>\n",
       "      <td>28.0</td>\n",
       "      <td>16.0</td>\n",
       "    </tr>\n",
       "    <tr>\n",
       "      <th>7</th>\n",
       "      <td>105631210</td>\n",
       "      <td>True</td>\n",
       "      <td>train</td>\n",
       "      <td>NaN</td>\n",
       "      <td>NaN</td>\n",
       "      <td>227.0</td>\n",
       "      <td>0.0</td>\n",
       "      <td>-8.0</td>\n",
       "      <td>-7.0</td>\n",
       "      <td>127.0</td>\n",
       "      <td>...</td>\n",
       "      <td>-249.0</td>\n",
       "      <td>-526.0</td>\n",
       "      <td>354.0</td>\n",
       "      <td>2514.0</td>\n",
       "      <td>1245.0</td>\n",
       "      <td>390.0</td>\n",
       "      <td>0.0</td>\n",
       "      <td>2070.0</td>\n",
       "      <td>135.0</td>\n",
       "      <td>165.0</td>\n",
       "    </tr>\n",
       "    <tr>\n",
       "      <th>8</th>\n",
       "      <td>105631210</td>\n",
       "      <td>True</td>\n",
       "      <td>train</td>\n",
       "      <td>NaN</td>\n",
       "      <td>NaN</td>\n",
       "      <td>504.0</td>\n",
       "      <td>63.0</td>\n",
       "      <td>-80.0</td>\n",
       "      <td>-17.0</td>\n",
       "      <td>319.0</td>\n",
       "      <td>...</td>\n",
       "      <td>-663.0</td>\n",
       "      <td>-1188.0</td>\n",
       "      <td>823.0</td>\n",
       "      <td>4282.0</td>\n",
       "      <td>1628.0</td>\n",
       "      <td>677.0</td>\n",
       "      <td>0.0</td>\n",
       "      <td>3026.0</td>\n",
       "      <td>400.0</td>\n",
       "      <td>274.0</td>\n",
       "    </tr>\n",
       "    <tr>\n",
       "      <th>9</th>\n",
       "      <td>105631210</td>\n",
       "      <td>True</td>\n",
       "      <td>train</td>\n",
       "      <td>NaN</td>\n",
       "      <td>NaN</td>\n",
       "      <td>629.0</td>\n",
       "      <td>132.0</td>\n",
       "      <td>-399.0</td>\n",
       "      <td>-267.0</td>\n",
       "      <td>372.0</td>\n",
       "      <td>...</td>\n",
       "      <td>-1935.0</td>\n",
       "      <td>-3125.0</td>\n",
       "      <td>1001.0</td>\n",
       "      <td>2794.0</td>\n",
       "      <td>846.0</td>\n",
       "      <td>1233.0</td>\n",
       "      <td>0.0</td>\n",
       "      <td>3271.0</td>\n",
       "      <td>772.0</td>\n",
       "      <td>250.0</td>\n",
       "    </tr>\n",
       "  </tbody>\n",
       "</table>\n",
       "<p>10 rows × 22 columns</p>\n",
       "</div>"
      ]
     },
     "execution_count": 81,
     "metadata": {},
     "output_type": "execute_result"
    }
   ],
   "execution_count": 81
  },
  {
   "metadata": {
    "ExecuteTime": {
     "end_time": "2024-06-07T17:04:06.164763Z",
     "start_time": "2024-06-07T17:04:06.158615Z"
    }
   },
   "cell_type": "code",
   "source": [
    "def match_textual_data_with_financial_data(textual_dataset, financial_dataset):\n",
    "    financial_dataset_ciks = financial_dataset['cik'].unique()\n",
    "    \n",
    "    textual_dataset_copy = textual_dataset.copy()\n",
    "    textual_dataset_copy['cik'] = pd.Categorical(textual_dataset_copy['cik'], categories=financial_dataset_ciks, ordered=True)\n",
    "    textual_dataset_copy = textual_dataset_copy.sort_values('cik').reset_index(drop=True)\n",
    "    \n",
    "    assert financial_dataset_ciks.tolist() == textual_dataset_copy['cik'].tolist()\n",
    "    \n",
    "    return textual_dataset_copy"
   ],
   "id": "fe6e363f8b967578",
   "outputs": [],
   "execution_count": 82
  },
  {
   "metadata": {
    "ExecuteTime": {
     "end_time": "2024-06-07T17:04:07.676041Z",
     "start_time": "2024-06-07T17:04:07.664576Z"
    }
   },
   "cell_type": "code",
   "source": [
    "textual_dataset_copy = match_textual_data_with_financial_data(textual_dataset, financial_dataset_shuffled)\n",
    "textual_dataset_copy.head()"
   ],
   "id": "efc2df90a2b50cc0",
   "outputs": [
    {
     "data": {
      "text/plain": [
       "         cik  label subset  \\\n",
       "0  121135108   True  train   \n",
       "1  105631210   True  train   \n",
       "2    1620280  False   test   \n",
       "3  129273109   True    val   \n",
       "4   31623603   True  train   \n",
       "\n",
       "                                                                                                                                                                                                                                                                                                                                                                                                                                                                                                                                                                                                                                                                                                                                                                                                                                                                                                                                                                                                                                                                                                                                                                                                                                                                                                                                                                                                                                                                                                                                                                                                                                                                                                                                                                                                                                                                                                                                                                                                                                                                                                                            text  \n",
       "0                                                                                                                                                                                                                                                                                                                                                                                                                                                                                                                                                                                                                          Retailwinds operates 387 specialty women's stores and an eCommerce business under the New York & Company and Fashion to Figure brands.  In light of the COVID-19 pandemic, the company's revenues, results of operations, and cash flows have been negatively affected, giving rise to substantial doubts about its ability to continue operations as a going concern.  Compared to the prior year, net sales decreased by 5.4%, resulting in a net loss of $61.6 million as compared to a net income of $4.2 million from comparable store sales.  Increasing promotional activity, a drop in sales leverage, and higher shipping costs led to a decrease in gross profit margin to 28.1% for the company.  Although the company targeted customer acquisition and grow its digital and new brands, it continued to lose money, with operating losses of $61.9 million, significantly impacted by an impairment charge of $20.6 million on store assets.  In February 2020, the company's revolving credit facility had been drawn down by $40 million. This left $43.5 million available.  As a result, management believes that existing cash resources and cash flow from operations will not be sufficient to meet fiscal year 2020's working capital and capital expenditure requirements.  Investors are likely to be left with nothing following a restructuring or bankruptcy filing by RTW Retailwinds.  Precarious financial health and uncertain future prospects threaten the company.    \n",
       "1                                                                                                                                                                                                                                                                                                                                                                       Vlasic Foods International experienced a 24.1% decrease in net sales in fiscal 2000, largely due to the divestiture of the Kattus and Swift-Armour businesses. Excluding divestitures, net sales declined 6.7% due to decreased Swanson U.S. consumption, unfavorable product mix in the Vlasic pickle business, and competitive pressures in the UK. The company recorded a loss from continuing operations of $(28.6) million, significantly impacted by lower sales, reduced gross margins, increased marketing costs, and charges related to trade marketing estimates.   Vlasic Foods is facing a going concern matter due to operating losses and non-compliance with financial covenants under its senior credit facility. The company received a waiver through February 28, 2001, subject to conditions including an escrow deposit for a January 2001 interest payment and repayment of the senior credit facility.  Vlasic has hired Lazard Freres & Co. to explore strategic opportunities, including the potential sale of the company in whole or in parts, to address its financial situation.    The company's ability to operate as a going concern hinges on the successful execution of its strategic plans and the avoidance of default under its senior credit facility. Vlasic's liquidity is strained, relying heavily on borrowings and facing restrictions due to covenant violations. Future performance depends on the outcome of the strategic review, successful divestitures, and the ability to achieve cost savings and improve profitability. Investors should carefully consider the significant risks associated with Vlasic Foods International's financial health and its ability to continue as a going concern.    \n",
       "2                                                                                                                                                                                                                                                                                                                                                                                                                                                                                                                                            Uniti Group Inc. is a REIT focused on communications infrastructure, deriving substantial revenue from a long-term lease with Windstream Holdings. Windstream's bankruptcy filing in 2019 raises going concern doubts for Uniti, especially as Windstream's litigation challenges the lease's validity. Uniti and Windstream reached a settlement agreement in March 2020, subject to court approval and other conditions. The settlement includes a $400 million cash payment to Windstream, stock sale proceeds, asset transfers, and revised lease agreements, including $1.75 billion in growth capital investments over 10 years. Uniti's 2019 revenue increased to $1.03 billion, primarily due to lease and fiber infrastructure revenues. The company faced challenges, including Windstream's bankruptcy, litigation costs, and a decline in its Consumer CLEC business, which is being wound down. Uniti relies on its lease agreement with Windstream for a significant portion of its operating cash flow.  To fund operations and growth, Uniti utilizes cash on hand, operating cash flow, and debt financing. Uniti's ability to pay dividends is restricted by debt covenants, and may be further impacted by the settlement with Windstream. Uniti actively manages its capital structure through debt issuance, an at-the-market stock program (currently suspended), and its UPREIT structure. Future capital expenditures are planned for network infrastructure and are categorized as success-based, maintenance, integration, or corporate and non-network.   \n",
       "3                                                                                                                                                                                                                                                                                                                                                                                                                                                                                                                                                                                                                                                                                                                                By the end of 2006, Old Country Buffet operated 632 company-owned restaurants under the names Old Country Buffet®, HomeTown Buffet®, Ryan's® and Fire Mountain®.  In November 2006, the company completed its merger with Ryan's, which is the largest publicly traded buffet restaurant operator in the country, for $834 million, and refinanced its debt with a new $640 million credit facility and $300 million senior note.  As a result of the Ryan's acquisition, restaurant sales increased 49.4% in fiscal year 2007, but the same-store sales of both Buffets and Ryan's brands declined.  A large part of the company's increased costs in food, labor, and direct and occupancy cost can be attributed to the merger.  In addition to increased interest rates, a higher debt balance resulted in higher interest expenses.  On deferred tax assets, the company recorded a tax valuation allowance of $42 million.  This was largely due to increased interest and tax payments, and the Ryan's acquisition took up $180.6 million in cash.  It expects to invest $10-$19 million in capital improvements in 2008, largely in remodeling and improving existing restaurants, including the new Ryan's.  Based on the company's current cash flow and borrowing capacity, the company is confident that it is able to meet its financial obligations for the next twelve months.    \n",
       "4  A decline of 3.6% in revenue in Fiscal 2000 was caused by competitive activity and capital expenditures.  Easter holiday timing affected same store sales in Fiscal 2000 by 0.14%.  Since fiscal 2000, gross profit has decreased to 28.5% of sales as a result of increased stock losses and promotional activities.  - Operating Expenses: During the fiscal year 2000 and 1999, operating expenses were relatively stable in terms of sales.  Depreciation and amortization expense increased due to asset impairments and increased capital expenditures in Fiscal 2000.  The company recorded a one-time charge of $19.6 million in Fiscal 2000 due to restructuring and store closures.  - Interest Expense: Interest expense for Fiscal 2000 decreased significantly as a result of the reduction of debt burden and the decline in interest rates.  As a result of the establishment of valuation allowances against net deferred tax assets, income tax provision fluctuated.  Financed through a credit agreement that secured a $230 million term loan and a $70 million revolving credit facility.  Reported reduced availability under the Revolving Credit Facility, resulting in a downgrade from Standard & Poor's.  - Adjusted financial covenants and increased liquidity in the Credit Agreement.  The future outlook includes improving sales, margins, expenses, and assets.  Underperforming stores were sold, and separate advertising for Hot Dot and Fresh Market concepts was discontinued.  - Improved customer service through new stores and remodels.  Reduced working capital and funded capital expenditures through cash flow, asset sales, and the Credit Agreement.  Managed the execution of a business plan intended to rationalize asset allocation and marketing strategies.  Risks include: - Competitive environment and ability to maintain margins.  A concern about liquidity and compliance with the covenants of the Credit Agreement.  A successful implementation of operating initiatives and a successful strategic plan.  Climate and economic conditions in the region.    "
      ],
      "text/html": [
       "<div>\n",
       "<style scoped>\n",
       "    .dataframe tbody tr th:only-of-type {\n",
       "        vertical-align: middle;\n",
       "    }\n",
       "\n",
       "    .dataframe tbody tr th {\n",
       "        vertical-align: top;\n",
       "    }\n",
       "\n",
       "    .dataframe thead th {\n",
       "        text-align: right;\n",
       "    }\n",
       "</style>\n",
       "<table border=\"1\" class=\"dataframe\">\n",
       "  <thead>\n",
       "    <tr style=\"text-align: right;\">\n",
       "      <th></th>\n",
       "      <th>cik</th>\n",
       "      <th>label</th>\n",
       "      <th>subset</th>\n",
       "      <th>text</th>\n",
       "    </tr>\n",
       "  </thead>\n",
       "  <tbody>\n",
       "    <tr>\n",
       "      <th>0</th>\n",
       "      <td>121135108</td>\n",
       "      <td>True</td>\n",
       "      <td>train</td>\n",
       "      <td>Retailwinds operates 387 specialty women's stores and an eCommerce business under the New York &amp; Company and Fashion to Figure brands.  In light of the COVID-19 pandemic, the company's revenues, results of operations, and cash flows have been negatively affected, giving rise to substantial doubts about its ability to continue operations as a going concern.  Compared to the prior year, net sales decreased by 5.4%, resulting in a net loss of $61.6 million as compared to a net income of $4.2 million from comparable store sales.  Increasing promotional activity, a drop in sales leverage, and higher shipping costs led to a decrease in gross profit margin to 28.1% for the company.  Although the company targeted customer acquisition and grow its digital and new brands, it continued to lose money, with operating losses of $61.9 million, significantly impacted by an impairment charge of $20.6 million on store assets.  In February 2020, the company's revolving credit facility had been drawn down by $40 million. This left $43.5 million available.  As a result, management believes that existing cash resources and cash flow from operations will not be sufficient to meet fiscal year 2020's working capital and capital expenditure requirements.  Investors are likely to be left with nothing following a restructuring or bankruptcy filing by RTW Retailwinds.  Precarious financial health and uncertain future prospects threaten the company.</td>\n",
       "    </tr>\n",
       "    <tr>\n",
       "      <th>1</th>\n",
       "      <td>105631210</td>\n",
       "      <td>True</td>\n",
       "      <td>train</td>\n",
       "      <td>Vlasic Foods International experienced a 24.1% decrease in net sales in fiscal 2000, largely due to the divestiture of the Kattus and Swift-Armour businesses. Excluding divestitures, net sales declined 6.7% due to decreased Swanson U.S. consumption, unfavorable product mix in the Vlasic pickle business, and competitive pressures in the UK. The company recorded a loss from continuing operations of $(28.6) million, significantly impacted by lower sales, reduced gross margins, increased marketing costs, and charges related to trade marketing estimates.   Vlasic Foods is facing a going concern matter due to operating losses and non-compliance with financial covenants under its senior credit facility. The company received a waiver through February 28, 2001, subject to conditions including an escrow deposit for a January 2001 interest payment and repayment of the senior credit facility.  Vlasic has hired Lazard Freres &amp; Co. to explore strategic opportunities, including the potential sale of the company in whole or in parts, to address its financial situation.    The company's ability to operate as a going concern hinges on the successful execution of its strategic plans and the avoidance of default under its senior credit facility. Vlasic's liquidity is strained, relying heavily on borrowings and facing restrictions due to covenant violations. Future performance depends on the outcome of the strategic review, successful divestitures, and the ability to achieve cost savings and improve profitability. Investors should carefully consider the significant risks associated with Vlasic Foods International's financial health and its ability to continue as a going concern.</td>\n",
       "    </tr>\n",
       "    <tr>\n",
       "      <th>2</th>\n",
       "      <td>1620280</td>\n",
       "      <td>False</td>\n",
       "      <td>test</td>\n",
       "      <td>Uniti Group Inc. is a REIT focused on communications infrastructure, deriving substantial revenue from a long-term lease with Windstream Holdings. Windstream's bankruptcy filing in 2019 raises going concern doubts for Uniti, especially as Windstream's litigation challenges the lease's validity. Uniti and Windstream reached a settlement agreement in March 2020, subject to court approval and other conditions. The settlement includes a $400 million cash payment to Windstream, stock sale proceeds, asset transfers, and revised lease agreements, including $1.75 billion in growth capital investments over 10 years. Uniti's 2019 revenue increased to $1.03 billion, primarily due to lease and fiber infrastructure revenues. The company faced challenges, including Windstream's bankruptcy, litigation costs, and a decline in its Consumer CLEC business, which is being wound down. Uniti relies on its lease agreement with Windstream for a significant portion of its operating cash flow.  To fund operations and growth, Uniti utilizes cash on hand, operating cash flow, and debt financing. Uniti's ability to pay dividends is restricted by debt covenants, and may be further impacted by the settlement with Windstream. Uniti actively manages its capital structure through debt issuance, an at-the-market stock program (currently suspended), and its UPREIT structure. Future capital expenditures are planned for network infrastructure and are categorized as success-based, maintenance, integration, or corporate and non-network.</td>\n",
       "    </tr>\n",
       "    <tr>\n",
       "      <th>3</th>\n",
       "      <td>129273109</td>\n",
       "      <td>True</td>\n",
       "      <td>val</td>\n",
       "      <td>By the end of 2006, Old Country Buffet operated 632 company-owned restaurants under the names Old Country Buffet®, HomeTown Buffet®, Ryan's® and Fire Mountain®.  In November 2006, the company completed its merger with Ryan's, which is the largest publicly traded buffet restaurant operator in the country, for $834 million, and refinanced its debt with a new $640 million credit facility and $300 million senior note.  As a result of the Ryan's acquisition, restaurant sales increased 49.4% in fiscal year 2007, but the same-store sales of both Buffets and Ryan's brands declined.  A large part of the company's increased costs in food, labor, and direct and occupancy cost can be attributed to the merger.  In addition to increased interest rates, a higher debt balance resulted in higher interest expenses.  On deferred tax assets, the company recorded a tax valuation allowance of $42 million.  This was largely due to increased interest and tax payments, and the Ryan's acquisition took up $180.6 million in cash.  It expects to invest $10-$19 million in capital improvements in 2008, largely in remodeling and improving existing restaurants, including the new Ryan's.  Based on the company's current cash flow and borrowing capacity, the company is confident that it is able to meet its financial obligations for the next twelve months.</td>\n",
       "    </tr>\n",
       "    <tr>\n",
       "      <th>4</th>\n",
       "      <td>31623603</td>\n",
       "      <td>True</td>\n",
       "      <td>train</td>\n",
       "      <td>A decline of 3.6% in revenue in Fiscal 2000 was caused by competitive activity and capital expenditures.  Easter holiday timing affected same store sales in Fiscal 2000 by 0.14%.  Since fiscal 2000, gross profit has decreased to 28.5% of sales as a result of increased stock losses and promotional activities.  - Operating Expenses: During the fiscal year 2000 and 1999, operating expenses were relatively stable in terms of sales.  Depreciation and amortization expense increased due to asset impairments and increased capital expenditures in Fiscal 2000.  The company recorded a one-time charge of $19.6 million in Fiscal 2000 due to restructuring and store closures.  - Interest Expense: Interest expense for Fiscal 2000 decreased significantly as a result of the reduction of debt burden and the decline in interest rates.  As a result of the establishment of valuation allowances against net deferred tax assets, income tax provision fluctuated.  Financed through a credit agreement that secured a $230 million term loan and a $70 million revolving credit facility.  Reported reduced availability under the Revolving Credit Facility, resulting in a downgrade from Standard &amp; Poor's.  - Adjusted financial covenants and increased liquidity in the Credit Agreement.  The future outlook includes improving sales, margins, expenses, and assets.  Underperforming stores were sold, and separate advertising for Hot Dot and Fresh Market concepts was discontinued.  - Improved customer service through new stores and remodels.  Reduced working capital and funded capital expenditures through cash flow, asset sales, and the Credit Agreement.  Managed the execution of a business plan intended to rationalize asset allocation and marketing strategies.  Risks include: - Competitive environment and ability to maintain margins.  A concern about liquidity and compliance with the covenants of the Credit Agreement.  A successful implementation of operating initiatives and a successful strategic plan.  Climate and economic conditions in the region.</td>\n",
       "    </tr>\n",
       "  </tbody>\n",
       "</table>\n",
       "</div>"
      ]
     },
     "execution_count": 83,
     "metadata": {},
     "output_type": "execute_result"
    }
   ],
   "execution_count": 83
  },
  {
   "metadata": {},
   "cell_type": "markdown",
   "source": "## Experiment with financial dataset - MLP",
   "id": "7a0208fa758a824f"
  },
  {
   "metadata": {
    "ExecuteTime": {
     "end_time": "2024-06-11T07:08:16.940468Z",
     "start_time": "2024-06-11T07:08:15.546542Z"
    }
   },
   "cell_type": "code",
   "source": [
    "import torch\n",
    "import torch.nn as nn\n",
    "import torch.optim as optim"
   ],
   "id": "b822ffa0dc22b007",
   "outputs": [],
   "execution_count": 1
  },
  {
   "metadata": {
    "ExecuteTime": {
     "end_time": "2024-06-11T07:09:12.757769Z",
     "start_time": "2024-06-11T07:09:12.726290Z"
    }
   },
   "cell_type": "code",
   "source": [
    "from torch.utils.data import random_split\n",
    "from torch.utils.data import DataLoader, TensorDataset\n",
    "\n",
    "financial_dataset_preprocessed = financial_dataset.drop(['cik', 'ticker', 'Fiscal Period', 'subset'], axis=1)\n",
    "X = financial_dataset_preprocessed.drop('label', axis=1)\n",
    "y = financial_dataset_preprocessed['label']\n",
    "\n",
    "X = torch.tensor(X.values, dtype=torch.float32)\n",
    "y = torch.tensor(y.values, dtype=torch.float32).view(-1, 1) \n",
    "\n",
    "dataset = TensorDataset(X, y)"
   ],
   "id": "3870a41dcb736ac8",
   "outputs": [],
   "execution_count": 5
  },
  {
   "metadata": {
    "ExecuteTime": {
     "end_time": "2024-06-11T07:09:14.559904Z",
     "start_time": "2024-06-11T07:09:14.542740Z"
    }
   },
   "cell_type": "code",
   "source": [
    "train_dataset, test_dataset = random_split(dataset, [int(0.8 * len(dataset)), len(dataset) - int(0.8 * len(dataset))])\n",
    "train_loader = DataLoader(train_dataset, batch_size=2, shuffle=True)\n",
    "test_loader = DataLoader(test_dataset, batch_size=2, shuffle=False)"
   ],
   "id": "657cc60378a3b01e",
   "outputs": [],
   "execution_count": 6
  },
  {
   "metadata": {
    "ExecuteTime": {
     "end_time": "2024-06-10T20:28:47.663822Z",
     "start_time": "2024-06-10T20:28:47.643456Z"
    }
   },
   "cell_type": "code",
   "source": [
    "class MLPWithDropout(nn.Module):\n",
    "    def __init__(self, input_size):\n",
    "        super(MLPWithDropout, self).__init__()\n",
    "        self.linear = nn.Sequential(\n",
    "            nn.Linear(input_size, 256, bias=True),\n",
    "            nn.ReLU(),\n",
    "            nn.Dropout(p=0.1),\n",
    "            nn.Linear(256, 128, bias=True),\n",
    "            nn.ReLU(),\n",
    "            nn.Dropout(p=0.1),\n",
    "            nn.Linear(128, 16, bias=True),\n",
    "            nn.ReLU(),\n",
    "            nn.Linear(16, 1, bias=True),\n",
    "            nn.Sigmoid()\n",
    "        )\n",
    "\n",
    "    def forward(self, x):\n",
    "        return self.linear(x)\n",
    "\n",
    "input_size = 17\n",
    "learning_rate = 0.001\n",
    "num_epochs = 10\n",
    "batch_size = 5\n",
    "\n",
    "model = MLPWithDropout(input_size)\n",
    "criterion = nn.BCELoss()\n",
    "optimizer = optim.AdamW(model.parameters(), lr=learning_rate)"
   ],
   "id": "3453570526b1d2db",
   "outputs": [],
   "execution_count": 193
  },
  {
   "metadata": {
    "ExecuteTime": {
     "end_time": "2024-06-10T20:33:59.562572Z",
     "start_time": "2024-06-10T20:28:49.076656Z"
    }
   },
   "cell_type": "code",
   "source": [
    "for epoch in range(num_epochs):\n",
    "    model.train()\n",
    "    for inputs, targets in train_loader:\n",
    "        outputs = model(inputs)\n",
    "        loss = criterion(outputs, targets)\n",
    "\n",
    "        optimizer.zero_grad()\n",
    "        loss.backward()\n",
    "        optimizer.step()\n",
    "    \n",
    "    print(f'Epoch [{epoch+1}/{num_epochs}], Loss: {loss.item():.4f}')"
   ],
   "id": "565ce733951be61a",
   "outputs": [
    {
     "name": "stdout",
     "output_type": "stream",
     "text": [
      "Epoch [1/10], Loss: 0.6964\n",
      "Epoch [2/10], Loss: 0.6976\n",
      "Epoch [3/10], Loss: 0.6968\n",
      "Epoch [4/10], Loss: 0.6122\n",
      "Epoch [5/10], Loss: 0.6126\n",
      "Epoch [6/10], Loss: 0.6962\n",
      "Epoch [7/10], Loss: 0.6970\n",
      "Epoch [8/10], Loss: 0.6953\n",
      "Epoch [9/10], Loss: 0.6969\n",
      "Epoch [10/10], Loss: 0.6064\n"
     ]
    }
   ],
   "execution_count": 194
  },
  {
   "metadata": {
    "ExecuteTime": {
     "end_time": "2024-06-09T18:22:32.549580Z",
     "start_time": "2024-06-09T18:22:30.546540Z"
    }
   },
   "cell_type": "code",
   "source": [
    "model.eval()\n",
    "correct = 0\n",
    "total = 0\n",
    "\n",
    "with torch.no_grad():\n",
    "    for inputs, targets in test_loader:\n",
    "        outputs = model(inputs)\n",
    "        predicted = (outputs > 0.5).float()\n",
    "        total += targets.size(0)\n",
    "        correct += (predicted == targets).sum().item()\n",
    "\n",
    "accuracy = correct / total\n",
    "print(f'Test Accuracy: {accuracy * 100:.2f}%')"
   ],
   "id": "f767ec3b2b8501e2",
   "outputs": [
    {
     "name": "stdout",
     "output_type": "stream",
     "text": [
      "Test Accuracy: 89.83%\n"
     ]
    }
   ],
   "execution_count": 140
  }
 ],
 "metadata": {
  "kernelspec": {
   "display_name": "Python 3",
   "language": "python",
   "name": "python3"
  },
  "language_info": {
   "codemirror_mode": {
    "name": "ipython",
    "version": 2
   },
   "file_extension": ".py",
   "mimetype": "text/x-python",
   "name": "python",
   "nbconvert_exporter": "python",
   "pygments_lexer": "ipython2",
   "version": "2.7.6"
  }
 },
 "nbformat": 4,
 "nbformat_minor": 5
}

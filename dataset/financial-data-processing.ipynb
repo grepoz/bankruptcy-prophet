{
 "cells": [
  {
   "metadata": {
    "ExecuteTime": {
     "end_time": "2024-04-22T10:13:37.031965Z",
     "start_time": "2024-04-22T10:13:36.570315Z"
    }
   },
   "cell_type": "code",
   "source": "import pandas as pd",
   "id": "9325134c6b462961",
   "outputs": [],
   "execution_count": 1
  },
  {
   "cell_type": "code",
   "id": "initial_id",
   "metadata": {
    "collapsed": true,
    "ExecuteTime": {
     "end_time": "2024-04-22T10:13:37.692230Z",
     "start_time": "2024-04-22T10:13:37.665899Z"
    }
   },
   "source": [
    "eligible_companies = pd.read_csv('companies_eligible_to_financial_dataset_2024-04-19_14-47-55.csv')\n",
    "eligible_companies.head()"
   ],
   "outputs": [
    {
     "data": {
      "text/plain": [
       "   Unnamed: 0   cik                            company  label ticker  \\\n",
       "0           0  1800                ABBOTT LABORATORIES  False    ABT   \n",
       "1           1  2488         ADVANCED MICRO DEVICES INC  False    AMD   \n",
       "2           2  2491           BALLY TECHNOLOGIES, INC.  False    BYI   \n",
       "3           3  2601                       AEROFLEX INC  False   ARXX   \n",
       "4           4  2969  AIR PRODUCTS & CHEMICALS INC /DE/  False    APD   \n",
       "\n",
       "               gurufocus-company-name gurufocus-stockid filing_date  \\\n",
       "0                 Abbott Laboratories            US066X  2021-02-19   \n",
       "1          Advanced Micro Devices Inc            US022E  2021-01-29   \n",
       "2  Bally Technologies Inc  (Delisted)            US06R5  2014-08-29   \n",
       "3            Aeroflex Inc  (Delisted)            US026H  2006-09-13   \n",
       "4        Air Products & Chemicals Inc            US06DU  2021-11-18   \n",
       "\n",
       "   cik-equal-gurufocus-cik first_match  \n",
       "0                     True         NaN  \n",
       "1                     True         NaN  \n",
       "2                     True         NaN  \n",
       "3                     True         NaN  \n",
       "4                     True         NaN  "
      ],
      "text/html": [
       "<div>\n",
       "<style scoped>\n",
       "    .dataframe tbody tr th:only-of-type {\n",
       "        vertical-align: middle;\n",
       "    }\n",
       "\n",
       "    .dataframe tbody tr th {\n",
       "        vertical-align: top;\n",
       "    }\n",
       "\n",
       "    .dataframe thead th {\n",
       "        text-align: right;\n",
       "    }\n",
       "</style>\n",
       "<table border=\"1\" class=\"dataframe\">\n",
       "  <thead>\n",
       "    <tr style=\"text-align: right;\">\n",
       "      <th></th>\n",
       "      <th>Unnamed: 0</th>\n",
       "      <th>cik</th>\n",
       "      <th>company</th>\n",
       "      <th>label</th>\n",
       "      <th>ticker</th>\n",
       "      <th>gurufocus-company-name</th>\n",
       "      <th>gurufocus-stockid</th>\n",
       "      <th>filing_date</th>\n",
       "      <th>cik-equal-gurufocus-cik</th>\n",
       "      <th>first_match</th>\n",
       "    </tr>\n",
       "  </thead>\n",
       "  <tbody>\n",
       "    <tr>\n",
       "      <th>0</th>\n",
       "      <td>0</td>\n",
       "      <td>1800</td>\n",
       "      <td>ABBOTT LABORATORIES</td>\n",
       "      <td>False</td>\n",
       "      <td>ABT</td>\n",
       "      <td>Abbott Laboratories</td>\n",
       "      <td>US066X</td>\n",
       "      <td>2021-02-19</td>\n",
       "      <td>True</td>\n",
       "      <td>NaN</td>\n",
       "    </tr>\n",
       "    <tr>\n",
       "      <th>1</th>\n",
       "      <td>1</td>\n",
       "      <td>2488</td>\n",
       "      <td>ADVANCED MICRO DEVICES INC</td>\n",
       "      <td>False</td>\n",
       "      <td>AMD</td>\n",
       "      <td>Advanced Micro Devices Inc</td>\n",
       "      <td>US022E</td>\n",
       "      <td>2021-01-29</td>\n",
       "      <td>True</td>\n",
       "      <td>NaN</td>\n",
       "    </tr>\n",
       "    <tr>\n",
       "      <th>2</th>\n",
       "      <td>2</td>\n",
       "      <td>2491</td>\n",
       "      <td>BALLY TECHNOLOGIES, INC.</td>\n",
       "      <td>False</td>\n",
       "      <td>BYI</td>\n",
       "      <td>Bally Technologies Inc  (Delisted)</td>\n",
       "      <td>US06R5</td>\n",
       "      <td>2014-08-29</td>\n",
       "      <td>True</td>\n",
       "      <td>NaN</td>\n",
       "    </tr>\n",
       "    <tr>\n",
       "      <th>3</th>\n",
       "      <td>3</td>\n",
       "      <td>2601</td>\n",
       "      <td>AEROFLEX INC</td>\n",
       "      <td>False</td>\n",
       "      <td>ARXX</td>\n",
       "      <td>Aeroflex Inc  (Delisted)</td>\n",
       "      <td>US026H</td>\n",
       "      <td>2006-09-13</td>\n",
       "      <td>True</td>\n",
       "      <td>NaN</td>\n",
       "    </tr>\n",
       "    <tr>\n",
       "      <th>4</th>\n",
       "      <td>4</td>\n",
       "      <td>2969</td>\n",
       "      <td>AIR PRODUCTS &amp; CHEMICALS INC /DE/</td>\n",
       "      <td>False</td>\n",
       "      <td>APD</td>\n",
       "      <td>Air Products &amp; Chemicals Inc</td>\n",
       "      <td>US06DU</td>\n",
       "      <td>2021-11-18</td>\n",
       "      <td>True</td>\n",
       "      <td>NaN</td>\n",
       "    </tr>\n",
       "  </tbody>\n",
       "</table>\n",
       "</div>"
      ]
     },
     "execution_count": 2,
     "metadata": {},
     "output_type": "execute_result"
    }
   ],
   "execution_count": 2
  },
  {
   "metadata": {
    "ExecuteTime": {
     "end_time": "2024-04-22T10:13:40.338200Z",
     "start_time": "2024-04-22T10:13:40.331597Z"
    }
   },
   "cell_type": "code",
   "source": "eligible_companies['label'].value_counts()",
   "id": "7edb9ba8c3c3a25d",
   "outputs": [
    {
     "data": {
      "text/plain": [
       "label\n",
       "False    5291\n",
       "True      126\n",
       "Name: count, dtype: int64"
      ]
     },
     "execution_count": 3,
     "metadata": {},
     "output_type": "execute_result"
    }
   ],
   "execution_count": 3
  },
  {
   "metadata": {
    "ExecuteTime": {
     "end_time": "2024-04-19T14:57:45.411142Z",
     "start_time": "2024-04-19T14:57:45.392814Z"
    }
   },
   "cell_type": "code",
   "source": "len(eligible_companies)",
   "id": "1d0ec1e553046230",
   "outputs": [
    {
     "data": {
      "text/plain": [
       "5417"
      ]
     },
     "execution_count": 32,
     "metadata": {},
     "output_type": "execute_result"
    }
   ],
   "execution_count": 32
  },
  {
   "metadata": {
    "ExecuteTime": {
     "end_time": "2024-04-19T13:47:29.140232Z",
     "start_time": "2024-04-19T13:47:29.128156Z"
    }
   },
   "cell_type": "code",
   "source": [
    "eligible_companies_with_two_tickers = eligible_companies[eligible_companies['first_match'].notnull()]\n",
    "len(eligible_companies_with_two_tickers)"
   ],
   "id": "acac59044440a92e",
   "outputs": [
    {
     "data": {
      "text/plain": [
       "492"
      ]
     },
     "execution_count": 5,
     "metadata": {},
     "output_type": "execute_result"
    }
   ],
   "execution_count": 5
  },
  {
   "metadata": {
    "ExecuteTime": {
     "end_time": "2024-04-22T10:14:23.565496Z",
     "start_time": "2024-04-22T10:14:23.562643Z"
    }
   },
   "cell_type": "code",
   "source": [
    "one_ticker_case_financial_data_directory = 'financial_data'\n",
    "two_ticker_case_financial_data_directory = 'financial_data_two_tickers_case'\n",
    "final_financial_data_directory = 'final_financial_data'"
   ],
   "id": "8ad2150cccf5f661",
   "outputs": [],
   "execution_count": 6
  },
  {
   "metadata": {
    "ExecuteTime": {
     "end_time": "2024-04-19T14:51:31.082881Z",
     "start_time": "2024-04-19T14:51:31.041512Z"
    }
   },
   "cell_type": "code",
   "source": [
    "import os\n",
    "\n",
    "cnt = 0\n",
    "for index, row in eligible_companies_with_two_tickers.iterrows():\n",
    "    cik = row['cik']\n",
    "    gurufocus_stockid = row['gurufocus-stockid']\n",
    "    ticker = row['ticker']\n",
    "    \n",
    "    filepath = f'./{two_ticker_case_financial_data_directory}/{cik}-{gurufocus_stockid}_{ticker}.csv'\n",
    "    \n",
    "    if not os.path.exists(filepath):\n",
    "        print(f'{filepath} does not exist')\n",
    "    else:\n",
    "        cnt += 1\n",
    "print(cnt)"
   ],
   "id": "fb81b6405fc03cbe",
   "outputs": [
    {
     "name": "stdout",
     "output_type": "stream",
     "text": [
      "492\n"
     ]
    }
   ],
   "execution_count": 21
  },
  {
   "metadata": {},
   "cell_type": "markdown",
   "source": "TODO: copy files to financial_data directory",
   "id": "b4f3ff60eb9a732e"
  },
  {
   "metadata": {
    "ExecuteTime": {
     "end_time": "2024-04-19T14:55:23.424068Z",
     "start_time": "2024-04-19T14:55:22.724008Z"
    }
   },
   "cell_type": "code",
   "source": [
    "# copy files to financial_data directory\n",
    "import shutil\n",
    "for index, row in eligible_companies_with_two_tickers.iterrows():\n",
    "    cik = row['cik']\n",
    "    gurufocus_stockid = row['gurufocus-stockid']\n",
    "    ticker = row['ticker']\n",
    "    \n",
    "    filepath = f'{two_ticker_case_financial_data_directory}/{cik}-{gurufocus_stockid}_{ticker}.csv'\n",
    "    shutil.copy(filepath, f'./final_financial_data/{cik}-{gurufocus_stockid}_{ticker}.csv')\n"
   ],
   "id": "48cff841d277a069",
   "outputs": [],
   "execution_count": 26
  },
  {
   "metadata": {
    "ExecuteTime": {
     "end_time": "2024-04-19T14:56:04.476097Z",
     "start_time": "2024-04-19T14:56:04.462084Z"
    }
   },
   "cell_type": "code",
   "source": "eligible_companies_without_two_tickers = eligible_companies[eligible_companies['first_match'].isnull()]",
   "id": "eb0953287f503af8",
   "outputs": [],
   "execution_count": 27
  },
  {
   "metadata": {
    "ExecuteTime": {
     "end_time": "2024-04-19T14:57:28.501421Z",
     "start_time": "2024-04-19T14:57:22.675896Z"
    }
   },
   "cell_type": "code",
   "source": [
    "for index, row in eligible_companies_without_two_tickers.iterrows():\n",
    "    cik = row['cik']\n",
    "    gurufocus_stockid = row['gurufocus-stockid']\n",
    "    ticker = row['ticker']\n",
    "    \n",
    "    filepath = f'{one_ticker_case_financial_data_directory}/{cik}-{gurufocus_stockid}_{ticker}.csv'\n",
    "    shutil.copy(filepath, f'./final_financial_data/{cik}-{gurufocus_stockid}_{ticker}.csv')"
   ],
   "id": "fa71c428c9d0aa25",
   "outputs": [],
   "execution_count": 31
  },
  {
   "metadata": {
    "ExecuteTime": {
     "end_time": "2024-04-22T10:53:45.515430Z",
     "start_time": "2024-04-22T10:53:45.500794Z"
    }
   },
   "cell_type": "code",
   "source": "eligible_companies_copy = eligible_companies.copy()",
   "id": "5cba7c471df0e0da",
   "outputs": [],
   "execution_count": 28
  },
  {
   "metadata": {
    "ExecuteTime": {
     "end_time": "2024-04-22T10:53:46.323440Z",
     "start_time": "2024-04-22T10:53:46.301940Z"
    }
   },
   "cell_type": "code",
   "source": [
    "def drop_columns_after_ttm_or_preliminary(df):\n",
    "    try:\n",
    "        found_ttm = False\n",
    "        try:\n",
    "            ttm_index = df.columns.get_loc('TTM')\n",
    "            found_ttm = True\n",
    "            df = df.iloc[:, :ttm_index]\n",
    "        except:\n",
    "            pass\n",
    "            \n",
    "        if not found_ttm:\n",
    "            try:\n",
    "                ttm_preliminary_string = 'TTM  Preliminary'\n",
    "                ttm_index = df.columns.get_loc(ttm_preliminary_string)\n",
    "                found_ttm = True\n",
    "                df = df.iloc[:, :ttm_index]\n",
    "            except:\n",
    "                print(f'No \\'TTM  Preliminary\\' column in {filename}')\n",
    "            if not found_ttm: \n",
    "                try:\n",
    "                    \n",
    "                    preliminary_string = 'Preliminary'\n",
    "                    preliminary_index = None\n",
    "                    for i, s in enumerate(df.columns):\n",
    "                        if preliminary_string in s:\n",
    "                            preliminary_index = i\n",
    "                            break\n",
    "                            \n",
    "                    df = df.iloc[:, :preliminary_index + 1]\n",
    "                    last_column_name = df.columns[-1]\n",
    "                    split_date = last_column_name.split(' ')\n",
    "                    updated_col_name = f'{split_date[0]} {split_date[1]}'\n",
    "                    \n",
    "                    df.rename(columns={last_column_name: updated_col_name}, inplace=True)\n",
    "                    \n",
    "                    print(f'No TTM but found Preliminary in {filename}')\n",
    "                except:\n",
    "                    print(f'No Preliminary column in {filename}')\n",
    "        \n",
    "    except Exception as ex:\n",
    "        print(f'Ex: {ex}, filename: {filename}')\n",
    "    \n",
    "    return df"
   ],
   "id": "5c0426b0ee24d86a",
   "outputs": [],
   "execution_count": 29
  },
  {
   "metadata": {
    "ExecuteTime": {
     "end_time": "2024-04-22T10:54:44.324777Z",
     "start_time": "2024-04-22T10:54:31.990261Z"
    }
   },
   "cell_type": "code",
   "source": [
    "import datetime\n",
    "\n",
    "exception_during_date_comparison = []\n",
    "update_list = []\n",
    "not_found_ttm_but_found_preliminary = []\n",
    "\n",
    "for index, row in eligible_companies_copy.iterrows():\n",
    "    cik = row['cik']\n",
    "    gurufocus_stockid = row['gurufocus-stockid']\n",
    "    ticker = row['ticker']\n",
    "    filing_date = row['filing_date']\n",
    "    \n",
    "    filename = f'{cik}-{gurufocus_stockid}_{ticker}.csv'\n",
    "    filepath = f'{final_financial_data_directory}/{filename}'\n",
    "        \n",
    "    try:\n",
    "        df = pd.read_csv(filepath)\n",
    "        \n",
    "        df = drop_columns_after_ttm_or_preliminary(df)\n",
    "        \n",
    "        last_column_name = df.columns[-1]\n",
    "        split_date = last_column_name.split(' ')\n",
    "        month, year = split_date[0], int(split_date[1])\n",
    "        \n",
    "        if 0 <= year <= 9:\n",
    "            year = f'200{year}'\n",
    "        elif 10 <= year <= 24:\n",
    "            year = f'20{year}'\n",
    "        elif year > 24:\n",
    "            year = f'19{year}'\n",
    "            \n",
    "        gurufocus_last_data_date = datetime.datetime.strptime(f'{month} {year}', '%b %Y')\n",
    "        \n",
    "        filing_date = filing_date[:7]\n",
    "        filing_date = datetime.datetime.strptime(f'{filing_date}', '%Y-%m')\n",
    "\n",
    "        difference_in_months = int((gurufocus_last_data_date - filing_date).days / 30)\n",
    "        \n",
    "        eligible_companies_copy.loc[eligible_companies_copy['cik'] == cik, 'difference_in_months'] = difference_in_months\n",
    "        \n",
    "    except Exception as ex:\n",
    "        print(f'Exception: {cik}, {gurufocus_stockid}, {ticker}, {str(ex)}')\n",
    "        exception_during_date_comparison.append([cik, gurufocus_stockid, ticker, str(ex)])"
   ],
   "id": "5a2d543a20bca1ec",
   "outputs": [
    {
     "name": "stdout",
     "output_type": "stream",
     "text": [
      "Exception: 1766526, US26IG, TECTP.PFD, invalid literal for int() with base 10: 'Period'\n"
     ]
    }
   ],
   "execution_count": 31
  },
  {
   "metadata": {
    "ExecuteTime": {
     "end_time": "2024-04-22T10:16:40.181620Z",
     "start_time": "2024-04-22T10:16:40.169211Z"
    }
   },
   "cell_type": "code",
   "source": "len(exception_during_date_comparison)",
   "id": "27e8fc6331fcbc48",
   "outputs": [
    {
     "data": {
      "text/plain": [
       "1"
      ]
     },
     "execution_count": 11,
     "metadata": {},
     "output_type": "execute_result"
    }
   ],
   "execution_count": 11
  },
  {
   "metadata": {
    "ExecuteTime": {
     "end_time": "2024-04-22T10:54:49.527199Z",
     "start_time": "2024-04-22T10:54:49.512408Z"
    }
   },
   "cell_type": "code",
   "source": [
    "counts_df = eligible_companies_copy['difference_in_months'].value_counts()\n",
    "counts_df = counts_df.reset_index()\n",
    "counts_df.columns = ['difference_in_months', 'count']\n",
    "counts_df.head(10)"
   ],
   "id": "cbd4015a35efcc57",
   "outputs": [
    {
     "data": {
      "text/plain": [
       "   difference_in_months  count\n",
       "0                  -3.0   1398\n",
       "1                  34.0   1190\n",
       "2                  -2.0    825\n",
       "3                  33.0    676\n",
       "4                  22.0    325\n",
       "5                   9.0    171\n",
       "6                  21.0    145\n",
       "7                  -4.0    113\n",
       "8                  10.0     85\n",
       "9                  45.0     38"
      ],
      "text/html": [
       "<div>\n",
       "<style scoped>\n",
       "    .dataframe tbody tr th:only-of-type {\n",
       "        vertical-align: middle;\n",
       "    }\n",
       "\n",
       "    .dataframe tbody tr th {\n",
       "        vertical-align: top;\n",
       "    }\n",
       "\n",
       "    .dataframe thead th {\n",
       "        text-align: right;\n",
       "    }\n",
       "</style>\n",
       "<table border=\"1\" class=\"dataframe\">\n",
       "  <thead>\n",
       "    <tr style=\"text-align: right;\">\n",
       "      <th></th>\n",
       "      <th>difference_in_months</th>\n",
       "      <th>count</th>\n",
       "    </tr>\n",
       "  </thead>\n",
       "  <tbody>\n",
       "    <tr>\n",
       "      <th>0</th>\n",
       "      <td>-3.0</td>\n",
       "      <td>1398</td>\n",
       "    </tr>\n",
       "    <tr>\n",
       "      <th>1</th>\n",
       "      <td>34.0</td>\n",
       "      <td>1190</td>\n",
       "    </tr>\n",
       "    <tr>\n",
       "      <th>2</th>\n",
       "      <td>-2.0</td>\n",
       "      <td>825</td>\n",
       "    </tr>\n",
       "    <tr>\n",
       "      <th>3</th>\n",
       "      <td>33.0</td>\n",
       "      <td>676</td>\n",
       "    </tr>\n",
       "    <tr>\n",
       "      <th>4</th>\n",
       "      <td>22.0</td>\n",
       "      <td>325</td>\n",
       "    </tr>\n",
       "    <tr>\n",
       "      <th>5</th>\n",
       "      <td>9.0</td>\n",
       "      <td>171</td>\n",
       "    </tr>\n",
       "    <tr>\n",
       "      <th>6</th>\n",
       "      <td>21.0</td>\n",
       "      <td>145</td>\n",
       "    </tr>\n",
       "    <tr>\n",
       "      <th>7</th>\n",
       "      <td>-4.0</td>\n",
       "      <td>113</td>\n",
       "    </tr>\n",
       "    <tr>\n",
       "      <th>8</th>\n",
       "      <td>10.0</td>\n",
       "      <td>85</td>\n",
       "    </tr>\n",
       "    <tr>\n",
       "      <th>9</th>\n",
       "      <td>45.0</td>\n",
       "      <td>38</td>\n",
       "    </tr>\n",
       "  </tbody>\n",
       "</table>\n",
       "</div>"
      ]
     },
     "execution_count": 32,
     "metadata": {},
     "output_type": "execute_result"
    }
   ],
   "execution_count": 32
  },
  {
   "metadata": {
    "ExecuteTime": {
     "end_time": "2024-04-22T10:54:53.317940Z",
     "start_time": "2024-04-22T10:54:53.312220Z"
    }
   },
   "cell_type": "code",
   "source": [
    "mask = (counts_df['difference_in_months'] > -12) & (counts_df['difference_in_months'] < 36)\n",
    "below_36_and_above_minus_12 = counts_df[mask]\n",
    "below_36_and_above_minus_12['count'].sum()"
   ],
   "id": "689c51de24be8778",
   "outputs": [
    {
     "data": {
      "text/plain": [
       "5078"
      ]
     },
     "execution_count": 33,
     "metadata": {},
     "output_type": "execute_result"
    }
   ],
   "execution_count": 33
  },
  {
   "metadata": {
    "ExecuteTime": {
     "end_time": "2024-04-19T18:20:18.084123Z",
     "start_time": "2024-04-19T18:20:18.065387Z"
    }
   },
   "cell_type": "code",
   "source": [
    "counts_df = eligible_companies_copy['difference_in_months'].value_counts()\n",
    "# set column names\n",
    "counts_df = counts_df.reset_index()\n",
    "counts_df.columns = ['difference_in_months', 'count']\n",
    "counts_df.head()"
   ],
   "id": "e78646412aa4ca91",
   "outputs": [
    {
     "data": {
      "text/plain": [
       "   difference_in_months  count\n",
       "0                  34.0   1172\n",
       "1                  33.0    650\n",
       "2                   6.0    519\n",
       "3                   0.0    514\n",
       "4                   3.0    337"
      ],
      "text/html": [
       "<div>\n",
       "<style scoped>\n",
       "    .dataframe tbody tr th:only-of-type {\n",
       "        vertical-align: middle;\n",
       "    }\n",
       "\n",
       "    .dataframe tbody tr th {\n",
       "        vertical-align: top;\n",
       "    }\n",
       "\n",
       "    .dataframe thead th {\n",
       "        text-align: right;\n",
       "    }\n",
       "</style>\n",
       "<table border=\"1\" class=\"dataframe\">\n",
       "  <thead>\n",
       "    <tr style=\"text-align: right;\">\n",
       "      <th></th>\n",
       "      <th>difference_in_months</th>\n",
       "      <th>count</th>\n",
       "    </tr>\n",
       "  </thead>\n",
       "  <tbody>\n",
       "    <tr>\n",
       "      <th>0</th>\n",
       "      <td>34.0</td>\n",
       "      <td>1172</td>\n",
       "    </tr>\n",
       "    <tr>\n",
       "      <th>1</th>\n",
       "      <td>33.0</td>\n",
       "      <td>650</td>\n",
       "    </tr>\n",
       "    <tr>\n",
       "      <th>2</th>\n",
       "      <td>6.0</td>\n",
       "      <td>519</td>\n",
       "    </tr>\n",
       "    <tr>\n",
       "      <th>3</th>\n",
       "      <td>0.0</td>\n",
       "      <td>514</td>\n",
       "    </tr>\n",
       "    <tr>\n",
       "      <th>4</th>\n",
       "      <td>3.0</td>\n",
       "      <td>337</td>\n",
       "    </tr>\n",
       "  </tbody>\n",
       "</table>\n",
       "</div>"
      ]
     },
     "execution_count": 128,
     "metadata": {},
     "output_type": "execute_result"
    }
   ],
   "execution_count": 128
  },
  {
   "metadata": {
    "ExecuteTime": {
     "end_time": "2024-04-19T18:20:47.097828Z",
     "start_time": "2024-04-19T18:20:47.080260Z"
    }
   },
   "cell_type": "code",
   "source": [
    "mask = (counts_df['difference_in_months'] > -12) & (counts_df['difference_in_months'] < 36)\n",
    "below_36_and_above_minus_12 = counts_df[mask]\n",
    "below_36_and_above_minus_12['count'].sum()"
   ],
   "id": "ec9138ff7e1e69f1",
   "outputs": [
    {
     "data": {
      "text/plain": [
       "5055"
      ]
     },
     "execution_count": 130,
     "metadata": {},
     "output_type": "execute_result"
    }
   ],
   "execution_count": 130
  },
  {
   "metadata": {
    "ExecuteTime": {
     "end_time": "2024-04-22T10:49:44.208029Z",
     "start_time": "2024-04-22T10:49:43.381258Z"
    }
   },
   "cell_type": "code",
   "source": [
    "import matplotlib.pyplot as plt\n",
    "\n",
    "plt.hist(eligible_companies_copy['difference_in_months'], bins=200)"
   ],
   "id": "9f0ab66c08472137",
   "outputs": [
    {
     "data": {
      "text/plain": [
       "(array([4.000e+00, 0.000e+00, 0.000e+00, 0.000e+00, 0.000e+00, 2.000e+00,\n",
       "        2.000e+00, 0.000e+00, 0.000e+00, 0.000e+00, 0.000e+00, 4.000e+00,\n",
       "        1.100e+01, 0.000e+00, 0.000e+00, 0.000e+00, 1.000e+00, 1.000e+00,\n",
       "        2.000e+00, 0.000e+00, 0.000e+00, 0.000e+00, 0.000e+00, 0.000e+00,\n",
       "        2.000e+00, 0.000e+00, 0.000e+00, 0.000e+00, 0.000e+00, 2.000e+00,\n",
       "        1.000e+00, 1.000e+00, 0.000e+00, 0.000e+00, 0.000e+00, 6.000e+00,\n",
       "        1.000e+00, 0.000e+00, 2.000e+00, 1.000e+00, 6.000e+00, 2.500e+01,\n",
       "        1.000e+00, 5.000e+00, 5.000e+00, 1.600e+01, 1.519e+03, 8.550e+02,\n",
       "        5.000e+00, 1.000e+00, 3.000e+00, 2.000e+00, 1.890e+02, 8.500e+01,\n",
       "        1.000e+00, 0.000e+00, 0.000e+00, 1.000e+00, 1.590e+02, 3.300e+02,\n",
       "        4.000e+00, 2.000e+00, 2.000e+00, 1.900e+01, 1.866e+03, 9.000e+00,\n",
       "        1.000e+00, 1.000e+00, 1.000e+00, 3.000e+00, 5.800e+01, 0.000e+00,\n",
       "        0.000e+00, 1.000e+00, 1.000e+00, 3.000e+00, 3.600e+01, 0.000e+00,\n",
       "        0.000e+00, 0.000e+00, 0.000e+00, 6.000e+00, 2.400e+01, 0.000e+00,\n",
       "        0.000e+00, 0.000e+00, 0.000e+00, 3.000e+00, 2.200e+01, 0.000e+00,\n",
       "        1.000e+00, 0.000e+00, 0.000e+00, 1.700e+01, 6.000e+00, 0.000e+00,\n",
       "        1.000e+00, 0.000e+00, 0.000e+00, 1.100e+01, 4.000e+00, 0.000e+00,\n",
       "        0.000e+00, 0.000e+00, 0.000e+00, 1.300e+01, 1.000e+00, 1.000e+00,\n",
       "        1.000e+00, 0.000e+00, 1.000e+00, 5.000e+00, 0.000e+00, 0.000e+00,\n",
       "        0.000e+00, 1.000e+00, 0.000e+00, 3.000e+00, 1.000e+00, 0.000e+00,\n",
       "        0.000e+00, 0.000e+00, 0.000e+00, 8.000e+00, 0.000e+00, 1.000e+00,\n",
       "        1.000e+00, 0.000e+00, 2.000e+00, 1.000e+00, 0.000e+00, 0.000e+00,\n",
       "        0.000e+00, 0.000e+00, 0.000e+00, 5.000e+00, 0.000e+00, 0.000e+00,\n",
       "        0.000e+00, 0.000e+00, 7.000e+00, 0.000e+00, 0.000e+00, 0.000e+00,\n",
       "        0.000e+00, 0.000e+00, 2.000e+00, 0.000e+00, 0.000e+00, 0.000e+00,\n",
       "        0.000e+00, 0.000e+00, 0.000e+00, 1.000e+00, 0.000e+00, 0.000e+00,\n",
       "        0.000e+00, 0.000e+00, 2.000e+00, 0.000e+00, 0.000e+00, 0.000e+00,\n",
       "        0.000e+00, 0.000e+00, 0.000e+00, 0.000e+00, 0.000e+00, 0.000e+00,\n",
       "        0.000e+00, 0.000e+00, 2.000e+00, 0.000e+00, 0.000e+00, 0.000e+00,\n",
       "        0.000e+00, 0.000e+00, 1.000e+00, 0.000e+00, 0.000e+00, 0.000e+00,\n",
       "        1.000e+00, 0.000e+00, 0.000e+00, 0.000e+00, 0.000e+00, 0.000e+00,\n",
       "        0.000e+00, 0.000e+00, 1.000e+00, 0.000e+00, 0.000e+00, 0.000e+00,\n",
       "        0.000e+00, 0.000e+00, 0.000e+00, 0.000e+00, 0.000e+00, 0.000e+00,\n",
       "        0.000e+00, 1.000e+00]),\n",
       " array([-100.   ,  -97.935,  -95.87 ,  -93.805,  -91.74 ,  -89.675,\n",
       "         -87.61 ,  -85.545,  -83.48 ,  -81.415,  -79.35 ,  -77.285,\n",
       "         -75.22 ,  -73.155,  -71.09 ,  -69.025,  -66.96 ,  -64.895,\n",
       "         -62.83 ,  -60.765,  -58.7  ,  -56.635,  -54.57 ,  -52.505,\n",
       "         -50.44 ,  -48.375,  -46.31 ,  -44.245,  -42.18 ,  -40.115,\n",
       "         -38.05 ,  -35.985,  -33.92 ,  -31.855,  -29.79 ,  -27.725,\n",
       "         -25.66 ,  -23.595,  -21.53 ,  -19.465,  -17.4  ,  -15.335,\n",
       "         -13.27 ,  -11.205,   -9.14 ,   -7.075,   -5.01 ,   -2.945,\n",
       "          -0.88 ,    1.185,    3.25 ,    5.315,    7.38 ,    9.445,\n",
       "          11.51 ,   13.575,   15.64 ,   17.705,   19.77 ,   21.835,\n",
       "          23.9  ,   25.965,   28.03 ,   30.095,   32.16 ,   34.225,\n",
       "          36.29 ,   38.355,   40.42 ,   42.485,   44.55 ,   46.615,\n",
       "          48.68 ,   50.745,   52.81 ,   54.875,   56.94 ,   59.005,\n",
       "          61.07 ,   63.135,   65.2  ,   67.265,   69.33 ,   71.395,\n",
       "          73.46 ,   75.525,   77.59 ,   79.655,   81.72 ,   83.785,\n",
       "          85.85 ,   87.915,   89.98 ,   92.045,   94.11 ,   96.175,\n",
       "          98.24 ,  100.305,  102.37 ,  104.435,  106.5  ,  108.565,\n",
       "         110.63 ,  112.695,  114.76 ,  116.825,  118.89 ,  120.955,\n",
       "         123.02 ,  125.085,  127.15 ,  129.215,  131.28 ,  133.345,\n",
       "         135.41 ,  137.475,  139.54 ,  141.605,  143.67 ,  145.735,\n",
       "         147.8  ,  149.865,  151.93 ,  153.995,  156.06 ,  158.125,\n",
       "         160.19 ,  162.255,  164.32 ,  166.385,  168.45 ,  170.515,\n",
       "         172.58 ,  174.645,  176.71 ,  178.775,  180.84 ,  182.905,\n",
       "         184.97 ,  187.035,  189.1  ,  191.165,  193.23 ,  195.295,\n",
       "         197.36 ,  199.425,  201.49 ,  203.555,  205.62 ,  207.685,\n",
       "         209.75 ,  211.815,  213.88 ,  215.945,  218.01 ,  220.075,\n",
       "         222.14 ,  224.205,  226.27 ,  228.335,  230.4  ,  232.465,\n",
       "         234.53 ,  236.595,  238.66 ,  240.725,  242.79 ,  244.855,\n",
       "         246.92 ,  248.985,  251.05 ,  253.115,  255.18 ,  257.245,\n",
       "         259.31 ,  261.375,  263.44 ,  265.505,  267.57 ,  269.635,\n",
       "         271.7  ,  273.765,  275.83 ,  277.895,  279.96 ,  282.025,\n",
       "         284.09 ,  286.155,  288.22 ,  290.285,  292.35 ,  294.415,\n",
       "         296.48 ,  298.545,  300.61 ,  302.675,  304.74 ,  306.805,\n",
       "         308.87 ,  310.935,  313.   ]),\n",
       " <BarContainer object of 200 artists>)"
      ]
     },
     "execution_count": 21,
     "metadata": {},
     "output_type": "execute_result"
    },
    {
     "data": {
      "text/plain": [
       "<Figure size 640x480 with 1 Axes>"
      ],
      "image/png": "[encoded data removed]"
     },
     "metadata": {},
     "output_type": "display_data"
    }
   ],
   "execution_count": 21
  },
  {
   "metadata": {
    "ExecuteTime": {
     "end_time": "2024-04-22T10:49:49.150276Z",
     "start_time": "2024-04-22T10:49:49.052672Z"
    }
   },
   "cell_type": "code",
   "source": [
    "import matplotlib.pyplot as plt\n",
    "\n",
    "plt.hist(eligible_companies_copy['difference_in_months'], bins=50)"
   ],
   "id": "e5e76db58d62c88c",
   "outputs": [
    {
     "data": {
      "text/plain": [
       "(array([4.000e+00, 4.000e+00, 4.000e+00, 1.100e+01, 4.000e+00, 0.000e+00,\n",
       "        2.000e+00, 4.000e+00, 6.000e+00, 4.000e+00, 3.700e+01, 2.395e+03,\n",
       "        1.100e+01, 2.750e+02, 4.900e+02, 2.700e+01, 1.877e+03, 6.200e+01,\n",
       "        5.000e+00, 3.600e+01, 3.000e+01, 3.000e+00, 2.300e+01, 2.300e+01,\n",
       "        1.200e+01, 4.000e+00, 1.500e+01, 7.000e+00, 1.000e+00, 4.000e+00,\n",
       "        8.000e+00, 2.000e+00, 3.000e+00, 5.000e+00, 0.000e+00, 7.000e+00,\n",
       "        2.000e+00, 0.000e+00, 1.000e+00, 2.000e+00, 0.000e+00, 0.000e+00,\n",
       "        2.000e+00, 0.000e+00, 1.000e+00, 1.000e+00, 0.000e+00, 1.000e+00,\n",
       "        0.000e+00, 1.000e+00]),\n",
       " array([-100.  ,  -91.74,  -83.48,  -75.22,  -66.96,  -58.7 ,  -50.44,\n",
       "         -42.18,  -33.92,  -25.66,  -17.4 ,   -9.14,   -0.88,    7.38,\n",
       "          15.64,   23.9 ,   32.16,   40.42,   48.68,   56.94,   65.2 ,\n",
       "          73.46,   81.72,   89.98,   98.24,  106.5 ,  114.76,  123.02,\n",
       "         131.28,  139.54,  147.8 ,  156.06,  164.32,  172.58,  180.84,\n",
       "         189.1 ,  197.36,  205.62,  213.88,  222.14,  230.4 ,  238.66,\n",
       "         246.92,  255.18,  263.44,  271.7 ,  279.96,  288.22,  296.48,\n",
       "         304.74,  313.  ]),\n",
       " <BarContainer object of 50 artists>)"
      ]
     },
     "execution_count": 22,
     "metadata": {},
     "output_type": "execute_result"
    },
    {
     "data": {
      "text/plain": [
       "<Figure size 640x480 with 1 Axes>"
      ],
      "image/png": "[encoded data removed]"
     },
     "metadata": {},
     "output_type": "display_data"
    }
   ],
   "execution_count": 22
  },
  {
   "metadata": {},
   "cell_type": "markdown",
   "source": "Filter companies with difference_in_months between -12 and 36 to be sure that there is no mismatch between the gurufocus data and sec edgar data",
   "id": "768f22b6afef28ec"
  },
  {
   "metadata": {
    "ExecuteTime": {
     "end_time": "2024-04-22T10:50:13.127628Z",
     "start_time": "2024-04-22T10:50:13.110989Z"
    }
   },
   "cell_type": "code",
   "source": [
    "mask = (eligible_companies_copy['difference_in_months'] > -12) & (eligible_companies_copy['difference_in_months'] < 36)\n",
    "eligible_companies_in_eligible_range = eligible_companies_copy[mask]\n",
    "eligible_companies_in_eligible_range['difference_in_months'] = eligible_companies_in_eligible_range['difference_in_months'].astype(int)\n",
    "eligible_companies_in_eligible_range.drop(columns=['cik-equal-gurufocus-cik', 'first_match'], inplace=True)\n",
    "\n",
    "print(len(eligible_companies_in_eligible_range))\n",
    "eligible_companies_in_eligible_range.head()"
   ],
   "id": "66638196804b7ac8",
   "outputs": [
    {
     "name": "stdout",
     "output_type": "stream",
     "text": [
      "5078\n"
     ]
    },
    {
     "name": "stderr",
     "output_type": "stream",
     "text": [
      "C:\\Users\\grzeg\\AppData\\Local\\Temp\\ipykernel_35176\\296199527.py:3: SettingWithCopyWarning: \n",
      "A value is trying to be set on a copy of a slice from a DataFrame.\n",
      "Try using .loc[row_indexer,col_indexer] = value instead\n",
      "\n",
      "See the caveats in the documentation: https://pandas.pydata.org/pandas-docs/stable/user_guide/indexing.html#returning-a-view-versus-a-copy\n",
      "  eligible_companies_in_eligible_range['difference_in_months'] = eligible_companies_in_eligible_range['difference_in_months'].astype(int)\n",
      "C:\\Users\\grzeg\\AppData\\Local\\Temp\\ipykernel_35176\\296199527.py:4: SettingWithCopyWarning: \n",
      "A value is trying to be set on a copy of a slice from a DataFrame\n",
      "\n",
      "See the caveats in the documentation: https://pandas.pydata.org/pandas-docs/stable/user_guide/indexing.html#returning-a-view-versus-a-copy\n",
      "  eligible_companies_in_eligible_range.drop(columns=['cik-equal-gurufocus-cik', 'first_match'], inplace=True)\n"
     ]
    },
    {
     "data": {
      "text/plain": [
       "   Unnamed: 0   cik                            company  label     ticker  \\\n",
       "0           0  1800                ABBOTT LABORATORIES  False        ABT   \n",
       "1           1  2488         ADVANCED MICRO DEVICES INC  False        AMD   \n",
       "2           2  2491           BALLY TECHNOLOGIES, INC.  False        BYI   \n",
       "4           4  2969  AIR PRODUCTS & CHEMICALS INC /DE/  False        APD   \n",
       "5           5  3153                   ALABAMA POWER CO  False  ALPpQ.PFD   \n",
       "\n",
       "               gurufocus-company-name gurufocus-stockid filing_date  \\\n",
       "0                 Abbott Laboratories            US066X  2021-02-19   \n",
       "1          Advanced Micro Devices Inc            US022E  2021-01-29   \n",
       "2  Bally Technologies Inc  (Delisted)            US06R5  2014-08-29   \n",
       "4        Air Products & Chemicals Inc            US06DU  2021-11-18   \n",
       "5        Alabama Power Co  (Delisted)            US0TUZ  2021-02-18   \n",
       "\n",
       "   difference_in_months  \n",
       "0                    34  \n",
       "1                    35  \n",
       "2                    -2  \n",
       "4                    22  \n",
       "5                    10  "
      ],
      "text/html": [
       "<div>\n",
       "<style scoped>\n",
       "    .dataframe tbody tr th:only-of-type {\n",
       "        vertical-align: middle;\n",
       "    }\n",
       "\n",
       "    .dataframe tbody tr th {\n",
       "        vertical-align: top;\n",
       "    }\n",
       "\n",
       "    .dataframe thead th {\n",
       "        text-align: right;\n",
       "    }\n",
       "</style>\n",
       "<table border=\"1\" class=\"dataframe\">\n",
       "  <thead>\n",
       "    <tr style=\"text-align: right;\">\n",
       "      <th></th>\n",
       "      <th>Unnamed: 0</th>\n",
       "      <th>cik</th>\n",
       "      <th>company</th>\n",
       "      <th>label</th>\n",
       "      <th>ticker</th>\n",
       "      <th>gurufocus-company-name</th>\n",
       "      <th>gurufocus-stockid</th>\n",
       "      <th>filing_date</th>\n",
       "      <th>difference_in_months</th>\n",
       "    </tr>\n",
       "  </thead>\n",
       "  <tbody>\n",
       "    <tr>\n",
       "      <th>0</th>\n",
       "      <td>0</td>\n",
       "      <td>1800</td>\n",
       "      <td>ABBOTT LABORATORIES</td>\n",
       "      <td>False</td>\n",
       "      <td>ABT</td>\n",
       "      <td>Abbott Laboratories</td>\n",
       "      <td>US066X</td>\n",
       "      <td>2021-02-19</td>\n",
       "      <td>34</td>\n",
       "    </tr>\n",
       "    <tr>\n",
       "      <th>1</th>\n",
       "      <td>1</td>\n",
       "      <td>2488</td>\n",
       "      <td>ADVANCED MICRO DEVICES INC</td>\n",
       "      <td>False</td>\n",
       "      <td>AMD</td>\n",
       "      <td>Advanced Micro Devices Inc</td>\n",
       "      <td>US022E</td>\n",
       "      <td>2021-01-29</td>\n",
       "      <td>35</td>\n",
       "    </tr>\n",
       "    <tr>\n",
       "      <th>2</th>\n",
       "      <td>2</td>\n",
       "      <td>2491</td>\n",
       "      <td>BALLY TECHNOLOGIES, INC.</td>\n",
       "      <td>False</td>\n",
       "      <td>BYI</td>\n",
       "      <td>Bally Technologies Inc  (Delisted)</td>\n",
       "      <td>US06R5</td>\n",
       "      <td>2014-08-29</td>\n",
       "      <td>-2</td>\n",
       "    </tr>\n",
       "    <tr>\n",
       "      <th>4</th>\n",
       "      <td>4</td>\n",
       "      <td>2969</td>\n",
       "      <td>AIR PRODUCTS &amp; CHEMICALS INC /DE/</td>\n",
       "      <td>False</td>\n",
       "      <td>APD</td>\n",
       "      <td>Air Products &amp; Chemicals Inc</td>\n",
       "      <td>US06DU</td>\n",
       "      <td>2021-11-18</td>\n",
       "      <td>22</td>\n",
       "    </tr>\n",
       "    <tr>\n",
       "      <th>5</th>\n",
       "      <td>5</td>\n",
       "      <td>3153</td>\n",
       "      <td>ALABAMA POWER CO</td>\n",
       "      <td>False</td>\n",
       "      <td>ALPpQ.PFD</td>\n",
       "      <td>Alabama Power Co  (Delisted)</td>\n",
       "      <td>US0TUZ</td>\n",
       "      <td>2021-02-18</td>\n",
       "      <td>10</td>\n",
       "    </tr>\n",
       "  </tbody>\n",
       "</table>\n",
       "</div>"
      ]
     },
     "execution_count": 24,
     "metadata": {},
     "output_type": "execute_result"
    }
   ],
   "execution_count": 24
  },
  {
   "metadata": {
    "ExecuteTime": {
     "end_time": "2024-04-22T10:50:21.665695Z",
     "start_time": "2024-04-22T10:50:21.645692Z"
    }
   },
   "cell_type": "code",
   "source": "eligible_companies_in_eligible_range.to_csv('eligible_companies_in_eligible_range.csv', index=False)",
   "id": "b6ea9e1a49164e0e",
   "outputs": [],
   "execution_count": 25
  },
  {
   "metadata": {
    "ExecuteTime": {
     "end_time": "2024-04-22T10:50:23.081816Z",
     "start_time": "2024-04-22T10:50:23.074164Z"
    }
   },
   "cell_type": "code",
   "source": "eligible_companies_in_eligible_range['label'].value_counts()",
   "id": "cd5e1474c52e63a5",
   "outputs": [
    {
     "data": {
      "text/plain": [
       "label\n",
       "False    4961\n",
       "True      117\n",
       "Name: count, dtype: int64"
      ]
     },
     "execution_count": 26,
     "metadata": {},
     "output_type": "execute_result"
    }
   ],
   "execution_count": 26
  },
  {
   "metadata": {
    "ExecuteTime": {
     "end_time": "2024-04-22T10:50:27.675450Z",
     "start_time": "2024-04-22T10:50:27.669228Z"
    }
   },
   "cell_type": "code",
   "source": "eligible_companies_in_eligible_range['label'].value_counts(normalize=True)",
   "id": "7d4880c64eb76998",
   "outputs": [
    {
     "data": {
      "text/plain": [
       "label\n",
       "False    0.976959\n",
       "True     0.023041\n",
       "Name: proportion, dtype: float64"
      ]
     },
     "execution_count": 27,
     "metadata": {},
     "output_type": "execute_result"
    }
   ],
   "execution_count": 27
  },
  {
   "metadata": {},
   "cell_type": "markdown",
   "source": [
    "Percentage of the companies that are bankrupt is 0.023041 in comparison to initial percentage equal to 0.039921. Subset has shrink by one third.\n",
    "that is pretty common: https://www.kaggle.com/code/marto24/bankruptcy-detection?scriptVersionId=56676526&cellId=13\n",
    "maybe above code proposes way to handle imbalanced data? Augmentation?"
   ],
   "id": "9d11ad0f40287a7d"
  },
  {
   "metadata": {
    "ExecuteTime": {
     "end_time": "2024-04-22T11:40:03.182411Z",
     "start_time": "2024-04-22T11:39:53.100221Z"
    }
   },
   "cell_type": "code",
   "source": [
    "import os\n",
    "import matplotlib.pyplot as plt\n",
    "import pandas as pd\n",
    "\n",
    "rows_count = []\n",
    "for filename in os.listdir(final_financial_data_directory):\n",
    "    df = pd.read_csv(f'{final_financial_data_directory}/{filename}')\n",
    "    rows_count.append(len(df))\n",
    "    \n",
    "plt.hist(rows_count, bins=100)"
   ],
   "id": "23b0d3dc936c1602",
   "outputs": [
    {
     "data": {
      "text/plain": [
       "(array([  2.,   0.,   0.,   0.,   0.,   0.,   1.,   0.,   0.,   1.,   0.,\n",
       "          0.,   0.,   3.,   1.,   3.,  18.,  11.,   8.,   1.,   2.,   5.,\n",
       "          4.,  12.,   6.,   7.,  31.,  20.,  35.,  61.,  69.,  57.,  48.,\n",
       "         41.,  23.,  22.,  14.,  17.,  22.,  20.,  24.,  28.,  30.,  35.,\n",
       "         25.,  45.,  38.,  71.,  81.,  95., 168., 113.,  94.,  87.,  81.,\n",
       "         88.,  85.,  98.,  85.,  60.,  64.,  87.,  78.,  68.,  66.,  52.,\n",
       "         55.,  32.,  28.,  40.,  28.,  29.,  30.,  44.,  38.,  35.,  32.,\n",
       "         52.,  67.,  65.,  84.,  82., 104., 129., 125., 142., 162., 167.,\n",
       "        167., 202., 174., 205., 201., 142., 134.,  87.,  66.,  42.,  10.,\n",
       "          7.]),\n",
       " array([ 30.  ,  32.06,  34.12,  36.18,  38.24,  40.3 ,  42.36,  44.42,\n",
       "         46.48,  48.54,  50.6 ,  52.66,  54.72,  56.78,  58.84,  60.9 ,\n",
       "         62.96,  65.02,  67.08,  69.14,  71.2 ,  73.26,  75.32,  77.38,\n",
       "         79.44,  81.5 ,  83.56,  85.62,  87.68,  89.74,  91.8 ,  93.86,\n",
       "         95.92,  97.98, 100.04, 102.1 , 104.16, 106.22, 108.28, 110.34,\n",
       "        112.4 , 114.46, 116.52, 118.58, 120.64, 122.7 , 124.76, 126.82,\n",
       "        128.88, 130.94, 133.  , 135.06, 137.12, 139.18, 141.24, 143.3 ,\n",
       "        145.36, 147.42, 149.48, 151.54, 153.6 , 155.66, 157.72, 159.78,\n",
       "        161.84, 163.9 , 165.96, 168.02, 170.08, 172.14, 174.2 , 176.26,\n",
       "        178.32, 180.38, 182.44, 184.5 , 186.56, 188.62, 190.68, 192.74,\n",
       "        194.8 , 196.86, 198.92, 200.98, 203.04, 205.1 , 207.16, 209.22,\n",
       "        211.28, 213.34, 215.4 , 217.46, 219.52, 221.58, 223.64, 225.7 ,\n",
       "        227.76, 229.82, 231.88, 233.94, 236.  ]),\n",
       " <BarContainer object of 100 artists>)"
      ]
     },
     "execution_count": 34,
     "metadata": {},
     "output_type": "execute_result"
    },
    {
     "data": {
      "text/plain": [
       "<Figure size 640x480 with 1 Axes>"
      ],
      "image/png": "[encoded data removed]"
     },
     "metadata": {},
     "output_type": "display_data"
    }
   ],
   "execution_count": 34
  },
  {
   "metadata": {},
   "cell_type": "markdown",
   "source": "### deleting duplicated rows from financial data",
   "id": "3d994e169e88b4f3"
  },
  {
   "metadata": {
    "ExecuteTime": {
     "end_time": "2024-04-21T17:00:10.854108Z",
     "start_time": "2024-04-21T16:59:59.985574Z"
    }
   },
   "cell_type": "code",
   "source": [
    "from collections import Counter\n",
    "\n",
    "row_headers_count = []\n",
    "\n",
    "for filename in os.listdir(final_financial_data_directory):\n",
    "    \n",
    "    df = pd.read_csv(f'{final_financial_data_directory}/{filename}')\n",
    "    df.drop(df.index[df.iloc[:, 1].duplicated(keep=False)], inplace=True)\n",
    "    row_headers_count.extend(df.iloc[:, 1].tolist())\n",
    "        \n",
    "counts = Counter(row_headers_count)"
   ],
   "id": "9036713c4dd1e847",
   "outputs": [],
   "execution_count": 36
  },
  {
   "metadata": {
    "ExecuteTime": {
     "end_time": "2024-04-21T18:46:50.272227Z",
     "start_time": "2024-04-21T18:46:50.260065Z"
    }
   },
   "cell_type": "code",
   "source": [
    "most_common_x_variables = list(enumerate(counts.most_common(200)))\n",
    "most_common_x_variables "
   ],
   "id": "f9ce28a77ceb1e9a",
   "outputs": [
    {
     "data": {
      "text/plain": [
       "[(0, ('Liabilities-to-Assets', 5418)),\n",
       " (1, ('Total Assets', 5418)),\n",
       " (2, ('Total Liabilities', 5418)),\n",
       " (3, ('Total Stockholders Equity', 5418)),\n",
       " (4, ('Total Equity', 5418)),\n",
       " (5, ('Forex Rate', 5418)),\n",
       " (6, ('Scaled Net Operating Assets', 5417)),\n",
       " (7, ('ROA %', 5416)),\n",
       " (8, ('Return-on-Tangible-Asset', 5416)),\n",
       " (9, ('Net Income Including Noncontrolling Interests', 5416)),\n",
       " (10, ('Net Income (Continuing Operations)', 5416)),\n",
       " (11, ('Net Income', 5416)),\n",
       " (12, ('Net Income From Continuing Operations', 5416)),\n",
       " (13, ('Cash Flow from Operations', 5415)),\n",
       " (14, ('Net Change in Cash', 5415)),\n",
       " (15, ('Free Cash Flow', 5415)),\n",
       " (16, ('Cash Flow from Others', 5413)),\n",
       " (17, ('Cash Flow from Financing', 5413)),\n",
       " (18, ('ROE %', 5392)),\n",
       " (19, ('Ending Cash Position', 5392)),\n",
       " (20, ('Beginning Cash Position', 5389)),\n",
       " (21, ('Cash Flow from Investing', 5380)),\n",
       " (22, ('Sloan Ratio %', 5371)),\n",
       " (23, ('FCF Margin %', 5354)),\n",
       " (24, ('Revenue', 5354)),\n",
       " (25, ('Asset Turnover', 5353)),\n",
       " (26, ('Debt-to-Asset', 5344)),\n",
       " (27, ('Retained Earnings', 5317)),\n",
       " (28, ('Cash From Other Investing Activities', 5305)),\n",
       " (29, ('Other Financing', 5296)),\n",
       " (30, ('Long-Term Debt & Capital Lease Obligation', 5277)),\n",
       " (31, ('Purchase Of Property, Plant, Equipment', 5236)),\n",
       " (32, ('Common Stock', 5229)),\n",
       " (33, ('Property, Plant and Equipment', 5222)),\n",
       " (34, ('Pretax Income', 5221)),\n",
       " (35, ('Total Receivables', 5219)),\n",
       " (36, ('Capital Expenditure', 5190)),\n",
       " (37, ('Depreciation, Depletion and Amortization', 5180)),\n",
       " (38, ('Cash Flow Depreciation, Depletion and Amortization', 5180)),\n",
       " (39, ('Additional Paid-In Capital', 5176)),\n",
       " (40, ('Tax Provision', 5164)),\n",
       " (41, ('Capex-to-Revenue', 5145)),\n",
       " (42, ('Change In Other Working Capital', 5090)),\n",
       " (43, ('Return-on-Tangible-Equity', 5086)),\n",
       " (44, ('Selling, General, & Admin. Expense', 5082)),\n",
       " (45, ('Capex-to-Operating-Cash-Flow', 5079)),\n",
       " (46, ('Effective Interest Rate on Debt %', 5053)),\n",
       " (47, ('Tax Rate %', 5051)),\n",
       " (48, ('Change In Working Capital', 5037)),\n",
       " (49, ('Accounts Payable & Accrued Expense', 5014)),\n",
       " (50, ('Other Income (Expense)', 5007)),\n",
       " (51, ('Short-Term Debt & Capital Lease Obligation', 4948)),\n",
       " (52, ('Interest Expense', 4944)),\n",
       " (53, ('Change In Receivables', 4873)),\n",
       " (54, ('Change In Payables And Accrued Expense', 4775)),\n",
       " (55, ('Filing Date', 4773)),\n",
       " (56, ('Restated Filing Date', 4772)),\n",
       " (57, ('Accumulated other comprehensive income (loss)', 4771)),\n",
       " (58, ('Issuance of Stock', 4659)),\n",
       " (59, ('Intangible Assets', 4609)),\n",
       " (60, ('Repurchase of Stock', 4509)),\n",
       " (61, ('Net Issuance of Debt', 4503)),\n",
       " (62, ('Accounts Receivable', 4446)),\n",
       " (63, ('Payments of Debt', 4433)),\n",
       " (64, ('Issuance of Debt', 4407)),\n",
       " (65, ('Deferred Tax', 4400)),\n",
       " (66, ('EBIT', 4329)),\n",
       " (67, ('EBITDA', 4329)),\n",
       " (68, ('ROIC %', 4319)),\n",
       " (69, ('Other Current Receivables', 4289)),\n",
       " (70, ('Total Long-Term Assets', 4247)),\n",
       " (71, ('Total Operating Expense', 4245)),\n",
       " (72, ('Total Long-Term Liabilities', 4245)),\n",
       " (73, ('Total Current Liabilities', 4243)),\n",
       " (74, ('Other Long Term Assets', 4241)),\n",
       " (75, ('Total Current Assets', 4239)),\n",
       " (76, ('Current Ratio', 4238)),\n",
       " (77, ('Quick Ratio', 4238)),\n",
       " (78, ('Cash, Cash Equivalents, Marketable Securities', 4236)),\n",
       " (79, ('Cash Ratio', 4231)),\n",
       " (80, ('Cash and Cash Equivalents', 4230)),\n",
       " (81, ('Other Long-Term Liabilities', 4202)),\n",
       " (82, ('Gross-Profit-to-Asset %', 4187)),\n",
       " (83, ('Gross Profit', 4187)),\n",
       " (84, ('Gross Property, Plant and Equipment', 4180)),\n",
       " (85, ('Other Current Assets', 4173)),\n",
       " (86, ('Interest Income', 4154)),\n",
       " (87, ('ROCE %', 4150)),\n",
       " (88, ('Operating Income', 4143)),\n",
       " (89, ('Other Gross PPE', 4141)),\n",
       " (90, ('ROC (Joel Greenblatt) %', 4137)),\n",
       " (91, ('Cash Conversion Cycle', 4089)),\n",
       " (92, ('Sale Of Investment', 4054)),\n",
       " (93, ('Accounts Payable', 4039)),\n",
       " (94, ('Net Interest Income', 4031)),\n",
       " (95, ('Cost of Goods Sold', 4027)),\n",
       " (96, ('Accumulated Depreciation', 4026)),\n",
       " (97, ('COGS-to-Revenue', 4021)),\n",
       " (98, ('Purchase Of Investment', 4006)),\n",
       " (99, ('Other Current Liabilities', 3985)),\n",
       " (100, ('Long-Term Debt', 3984)),\n",
       " (101, ('Current Accrued Expense', 3971)),\n",
       " (102, ('Days Payable', 3866)),\n",
       " (103, ('Purchase Of Business', 3853)),\n",
       " (104, ('Short-Term Debt', 3850)),\n",
       " (105, ('Other Net Income (Loss)', 3833)),\n",
       " (106, ('Days Sales Outstanding', 3821)),\n",
       " (107, ('Receivables Turnover', 3821)),\n",
       " (108, ('Interest Coverage', 3818)),\n",
       " (109, ('Capex-to-Operating-Income', 3768)),\n",
       " (110, ('Goodwill', 3759)),\n",
       " (111, ('Earnings per Share (Diluted)', 3755)),\n",
       " (112, ('EPS without NRI', 3755)),\n",
       " (113, ('Free Cash Flow per Share', 3755)),\n",
       " (114, ('Operating Cash Flow per Share', 3755)),\n",
       " (115, ('Book Value per Share', 3755)),\n",
       " (116, ('Tangible Book per Share', 3755)),\n",
       " (117, ('EPS (Basic)', 3755)),\n",
       " (118, ('EPS (Diluted)', 3755)),\n",
       " (119, ('Shares Outstanding (Diluted Average)', 3755)),\n",
       " (120, ('Net Cash per Share', 3755)),\n",
       " (121, ('Net-Net Working Capital', 3755)),\n",
       " (122, ('Shares Outstanding (EOP)', 3755)),\n",
       " (123, ('Shares Outstanding (Basic Average)', 3754)),\n",
       " (124, ('Cash per Share', 3751)),\n",
       " (125, ('YoY EPS Growth', 3751)),\n",
       " (126, ('Cash Flow for Dividends', 3746)),\n",
       " (127, ('Shares Buyback Ratio %', 3741)),\n",
       " (128, ('PS Ratio', 3736)),\n",
       " (129, ('EV-to-Revenue', 3735)),\n",
       " (130, ('Total Debt per Share', 3725)),\n",
       " (131, ('Market Cap', 3721)),\n",
       " (132, ('Enterprise Value', 3721)),\n",
       " (133, ('FCF Yield %', 3719)),\n",
       " (134, ('Revenue per Share', 3713)),\n",
       " (135, ('YoY Rev. per Sh. Growth', 3707)),\n",
       " (136, ('NonCurrent Deferred Liabilities', 3704)),\n",
       " (137, ('PB Ratio', 3697)),\n",
       " (138, ('ROE % Adjusted to Book Value', 3695)),\n",
       " (139, ('Other Operating Expense', 3693)),\n",
       " (140, ('Piotroski F-Score', 3676)),\n",
       " (141, ('Buyback Yield %', 3660)),\n",
       " (142, ('Stock Based Compensation', 3641)),\n",
       " (143, ('Sale Of Property, Plant, Equipment', 3623)),\n",
       " (144, ('Price-to-Operating-Cash-Flow', 3619)),\n",
       " (145, ('Highest Stock Price', 3589)),\n",
       " (146, ('Lowest Stock Price', 3588)),\n",
       " (147, ('Price-to-Free-Cash-Flow', 3568)),\n",
       " (148, ('Beneish M-Score', 3556)),\n",
       " (149, ('PE Ratio', 3510)),\n",
       " (150, ('PE Ratio without NRI', 3507)),\n",
       " (151, ('Other Stockholders Equity', 3500)),\n",
       " (152, ('Beta', 3478)),\n",
       " (153, ('Price-to-Tangible-Book', 3424)),\n",
       " (154, ('WACC %', 3390)),\n",
       " (155, ('Earnings Release Date', 3355)),\n",
       " (156, ('Intrinsic Value: Projected FCF', 3321)),\n",
       " (157, ('Earnings Yield (Joel Greenblatt) %', 3319)),\n",
       " (158, ('Earnings Power Value (EPV)', 3300)),\n",
       " (159, ('Graham Number', 3230)),\n",
       " (160, ('Number of Shareholders', 3151)),\n",
       " (161, ('EV-to-EBITDA', 3114)),\n",
       " (162, ('EV-to-EBIT', 3112)),\n",
       " (163, ('Forward Rate of Return (Yacktman) %', 3099)),\n",
       " (164, ('Machinery, Furniture, Equipment', 3094)),\n",
       " (165, ('EBITDA per Share', 3087)),\n",
       " (166, ('EBIT per Share', 3087)),\n",
       " (167, ('YoY EBITDA Growth (%)', 3083)),\n",
       " (168, ('Owner Earnings per Share (TTM)', 3072)),\n",
       " (169, ('Inventory-to-Revenue', 3035)),\n",
       " (170, ('Total Inventories', 3035)),\n",
       " (171, ('Change In Prepaid Assets', 3030)),\n",
       " (172, ('Treasury Stock', 3029)),\n",
       " (173, ('Inventory Turnover', 3010)),\n",
       " (174, ('Days Inventory', 3008)),\n",
       " (175, ('Number of Employees', 2988)),\n",
       " (176, ('Net Current Asset Value', 2983)),\n",
       " (177, ('Altman Z-Score', 2967)),\n",
       " (178, ('Change In Inventory', 2832)),\n",
       " (179, ('Price-to-Owner-Earnings', 2820)),\n",
       " (180, ('Peter Lynch Fair Value', 2762)),\n",
       " (181, ('Deferred Tax And Revenue', 2718)),\n",
       " (182, ('Total Tax Payable', 2700)),\n",
       " (183, ('Shiller PE Ratio', 2696)),\n",
       " (184, ('5-Year EBITDA Growth Rate (Per Share)', 2603)),\n",
       " (185, ('PEG Ratio', 2519)),\n",
       " (186, ('Asset Impairment Charge', 2498)),\n",
       " (187, ('Long-Term Capital Lease Obligation', 2498)),\n",
       " (188, ('Marketable Securities', 2487)),\n",
       " (189, ('Minority Interest', 2443)),\n",
       " (190, ('Median PS Value', 2430)),\n",
       " (191, ('Inventories, Other', 2412)),\n",
       " (192, ('5-Year RORE %', 2392)),\n",
       " (193, ('Buildings And Improvements', 2371)),\n",
       " (194, ('Sale Of Business', 2371)),\n",
       " (195, ('Investments And Advances', 2361)),\n",
       " (196, ('Other Income (Minority Interest)', 2315)),\n",
       " (197, ('Land And Improvements', 2277)),\n",
       " (198, ('Current Deferred Revenue', 2206)),\n",
       " (199, ('Dividends per Share', 2180))]"
      ]
     },
     "execution_count": 83,
     "metadata": {},
     "output_type": "execute_result"
    }
   ],
   "execution_count": 83
  },
  {
   "metadata": {
    "ExecuteTime": {
     "end_time": "2024-04-21T20:42:55.574498Z",
     "start_time": "2024-04-21T20:42:55.564776Z"
    }
   },
   "cell_type": "code",
   "source": [
    "most_common_variables = [tup[0] for tup in counts.most_common(100)]\n",
    "\n",
    "# save most common variables\n",
    "with open('most_common_variables.txt', 'w') as f:\n",
    "    for variable in most_common_variables:\n",
    "        f.write(f'{variable}\\n')\n",
    "\n",
    "most_common_variables"
   ],
   "id": "a5e469747333ca22",
   "outputs": [
    {
     "data": {
      "text/plain": [
       "['Liabilities-to-Assets',\n",
       " 'Total Assets',\n",
       " 'Total Liabilities',\n",
       " 'Total Stockholders Equity',\n",
       " 'Total Equity',\n",
       " 'Forex Rate',\n",
       " 'Scaled Net Operating Assets',\n",
       " 'ROA %',\n",
       " 'Return-on-Tangible-Asset',\n",
       " 'Net Income Including Noncontrolling Interests',\n",
       " 'Net Income (Continuing Operations)',\n",
       " 'Net Income',\n",
       " 'Net Income From Continuing Operations',\n",
       " 'Cash Flow from Operations',\n",
       " 'Net Change in Cash',\n",
       " 'Free Cash Flow',\n",
       " 'Cash Flow from Others',\n",
       " 'Cash Flow from Financing',\n",
       " 'ROE %',\n",
       " 'Ending Cash Position',\n",
       " 'Beginning Cash Position',\n",
       " 'Cash Flow from Investing',\n",
       " 'Sloan Ratio %',\n",
       " 'FCF Margin %',\n",
       " 'Revenue',\n",
       " 'Asset Turnover',\n",
       " 'Debt-to-Asset',\n",
       " 'Retained Earnings',\n",
       " 'Cash From Other Investing Activities',\n",
       " 'Other Financing',\n",
       " 'Long-Term Debt & Capital Lease Obligation',\n",
       " 'Purchase Of Property, Plant, Equipment',\n",
       " 'Common Stock',\n",
       " 'Property, Plant and Equipment',\n",
       " 'Pretax Income',\n",
       " 'Total Receivables',\n",
       " 'Capital Expenditure',\n",
       " 'Depreciation, Depletion and Amortization',\n",
       " 'Cash Flow Depreciation, Depletion and Amortization',\n",
       " 'Additional Paid-In Capital',\n",
       " 'Tax Provision',\n",
       " 'Capex-to-Revenue',\n",
       " 'Change In Other Working Capital',\n",
       " 'Return-on-Tangible-Equity',\n",
       " 'Selling, General, & Admin. Expense',\n",
       " 'Capex-to-Operating-Cash-Flow',\n",
       " 'Effective Interest Rate on Debt %',\n",
       " 'Tax Rate %',\n",
       " 'Change In Working Capital',\n",
       " 'Accounts Payable & Accrued Expense',\n",
       " 'Other Income (Expense)',\n",
       " 'Short-Term Debt & Capital Lease Obligation',\n",
       " 'Interest Expense',\n",
       " 'Change In Receivables',\n",
       " 'Change In Payables And Accrued Expense',\n",
       " 'Filing Date',\n",
       " 'Restated Filing Date',\n",
       " 'Accumulated other comprehensive income (loss)',\n",
       " 'Issuance of Stock',\n",
       " 'Intangible Assets',\n",
       " 'Repurchase of Stock',\n",
       " 'Net Issuance of Debt',\n",
       " 'Accounts Receivable',\n",
       " 'Payments of Debt',\n",
       " 'Issuance of Debt',\n",
       " 'Deferred Tax',\n",
       " 'EBIT',\n",
       " 'EBITDA',\n",
       " 'ROIC %',\n",
       " 'Other Current Receivables',\n",
       " 'Total Long-Term Assets',\n",
       " 'Total Operating Expense',\n",
       " 'Total Long-Term Liabilities',\n",
       " 'Total Current Liabilities',\n",
       " 'Other Long Term Assets',\n",
       " 'Total Current Assets',\n",
       " 'Current Ratio',\n",
       " 'Quick Ratio',\n",
       " 'Cash, Cash Equivalents, Marketable Securities',\n",
       " 'Cash Ratio',\n",
       " 'Cash and Cash Equivalents',\n",
       " 'Other Long-Term Liabilities',\n",
       " 'Gross-Profit-to-Asset %',\n",
       " 'Gross Profit',\n",
       " 'Gross Property, Plant and Equipment',\n",
       " 'Other Current Assets',\n",
       " 'Interest Income',\n",
       " 'ROCE %',\n",
       " 'Operating Income',\n",
       " 'Other Gross PPE',\n",
       " 'ROC (Joel Greenblatt) %',\n",
       " 'Cash Conversion Cycle',\n",
       " 'Sale Of Investment',\n",
       " 'Accounts Payable',\n",
       " 'Net Interest Income',\n",
       " 'Cost of Goods Sold',\n",
       " 'Accumulated Depreciation',\n",
       " 'COGS-to-Revenue',\n",
       " 'Purchase Of Investment',\n",
       " 'Other Current Liabilities']"
      ]
     },
     "execution_count": 105,
     "metadata": {},
     "output_type": "execute_result"
    }
   ],
   "execution_count": 105
  },
  {
   "metadata": {
    "ExecuteTime": {
     "end_time": "2024-04-21T20:43:18.223677Z",
     "start_time": "2024-04-21T20:43:18.211788Z"
    }
   },
   "cell_type": "code",
   "source": "counts.most_common(100)",
   "id": "5b5069514045232f",
   "outputs": [
    {
     "data": {
      "text/plain": [
       "[('Liabilities-to-Assets', 5418),\n",
       " ('Total Assets', 5418),\n",
       " ('Total Liabilities', 5418),\n",
       " ('Total Stockholders Equity', 5418),\n",
       " ('Total Equity', 5418),\n",
       " ('Forex Rate', 5418),\n",
       " ('Scaled Net Operating Assets', 5417),\n",
       " ('ROA %', 5416),\n",
       " ('Return-on-Tangible-Asset', 5416),\n",
       " ('Net Income Including Noncontrolling Interests', 5416),\n",
       " ('Net Income (Continuing Operations)', 5416),\n",
       " ('Net Income', 5416),\n",
       " ('Net Income From Continuing Operations', 5416),\n",
       " ('Cash Flow from Operations', 5415),\n",
       " ('Net Change in Cash', 5415),\n",
       " ('Free Cash Flow', 5415),\n",
       " ('Cash Flow from Others', 5413),\n",
       " ('Cash Flow from Financing', 5413),\n",
       " ('ROE %', 5392),\n",
       " ('Ending Cash Position', 5392),\n",
       " ('Beginning Cash Position', 5389),\n",
       " ('Cash Flow from Investing', 5380),\n",
       " ('Sloan Ratio %', 5371),\n",
       " ('FCF Margin %', 5354),\n",
       " ('Revenue', 5354),\n",
       " ('Asset Turnover', 5353),\n",
       " ('Debt-to-Asset', 5344),\n",
       " ('Retained Earnings', 5317),\n",
       " ('Cash From Other Investing Activities', 5305),\n",
       " ('Other Financing', 5296),\n",
       " ('Long-Term Debt & Capital Lease Obligation', 5277),\n",
       " ('Purchase Of Property, Plant, Equipment', 5236),\n",
       " ('Common Stock', 5229),\n",
       " ('Property, Plant and Equipment', 5222),\n",
       " ('Pretax Income', 5221),\n",
       " ('Total Receivables', 5219),\n",
       " ('Capital Expenditure', 5190),\n",
       " ('Depreciation, Depletion and Amortization', 5180),\n",
       " ('Cash Flow Depreciation, Depletion and Amortization', 5180),\n",
       " ('Additional Paid-In Capital', 5176),\n",
       " ('Tax Provision', 5164),\n",
       " ('Capex-to-Revenue', 5145),\n",
       " ('Change In Other Working Capital', 5090),\n",
       " ('Return-on-Tangible-Equity', 5086),\n",
       " ('Selling, General, & Admin. Expense', 5082),\n",
       " ('Capex-to-Operating-Cash-Flow', 5079),\n",
       " ('Effective Interest Rate on Debt %', 5053),\n",
       " ('Tax Rate %', 5051),\n",
       " ('Change In Working Capital', 5037),\n",
       " ('Accounts Payable & Accrued Expense', 5014),\n",
       " ('Other Income (Expense)', 5007),\n",
       " ('Short-Term Debt & Capital Lease Obligation', 4948),\n",
       " ('Interest Expense', 4944),\n",
       " ('Change In Receivables', 4873),\n",
       " ('Change In Payables And Accrued Expense', 4775),\n",
       " ('Filing Date', 4773),\n",
       " ('Restated Filing Date', 4772),\n",
       " ('Accumulated other comprehensive income (loss)', 4771),\n",
       " ('Issuance of Stock', 4659),\n",
       " ('Intangible Assets', 4609),\n",
       " ('Repurchase of Stock', 4509),\n",
       " ('Net Issuance of Debt', 4503),\n",
       " ('Accounts Receivable', 4446),\n",
       " ('Payments of Debt', 4433),\n",
       " ('Issuance of Debt', 4407),\n",
       " ('Deferred Tax', 4400),\n",
       " ('EBIT', 4329),\n",
       " ('EBITDA', 4329),\n",
       " ('ROIC %', 4319),\n",
       " ('Other Current Receivables', 4289),\n",
       " ('Total Long-Term Assets', 4247),\n",
       " ('Total Operating Expense', 4245),\n",
       " ('Total Long-Term Liabilities', 4245),\n",
       " ('Total Current Liabilities', 4243),\n",
       " ('Other Long Term Assets', 4241),\n",
       " ('Total Current Assets', 4239),\n",
       " ('Current Ratio', 4238),\n",
       " ('Quick Ratio', 4238),\n",
       " ('Cash, Cash Equivalents, Marketable Securities', 4236),\n",
       " ('Cash Ratio', 4231),\n",
       " ('Cash and Cash Equivalents', 4230),\n",
       " ('Other Long-Term Liabilities', 4202),\n",
       " ('Gross-Profit-to-Asset %', 4187),\n",
       " ('Gross Profit', 4187),\n",
       " ('Gross Property, Plant and Equipment', 4180),\n",
       " ('Other Current Assets', 4173),\n",
       " ('Interest Income', 4154),\n",
       " ('ROCE %', 4150),\n",
       " ('Operating Income', 4143),\n",
       " ('Other Gross PPE', 4141),\n",
       " ('ROC (Joel Greenblatt) %', 4137),\n",
       " ('Cash Conversion Cycle', 4089),\n",
       " ('Sale Of Investment', 4054),\n",
       " ('Accounts Payable', 4039),\n",
       " ('Net Interest Income', 4031),\n",
       " ('Cost of Goods Sold', 4027),\n",
       " ('Accumulated Depreciation', 4026),\n",
       " ('COGS-to-Revenue', 4021),\n",
       " ('Purchase Of Investment', 4006),\n",
       " ('Other Current Liabilities', 3985)]"
      ]
     },
     "execution_count": 106,
     "metadata": {},
     "output_type": "execute_result"
    }
   ],
   "execution_count": 106
  },
  {
   "metadata": {
    "ExecuteTime": {
     "end_time": "2024-04-22T11:40:30.125833Z",
     "start_time": "2024-04-22T11:40:30.113539Z"
    }
   },
   "cell_type": "code",
   "source": [
    "# list of chosen variables based on https://www.mdpi.com/1999-5903/14/8/244 & https://raw.githubusercontent.com/sowide/bankruptcy_dataset/main/american_bankruptcy_dataset.csv\n",
    "chosen_variables = [\n",
    "    'Total Current Assets',\n",
    "    'Cost of Goods Sold',\n",
    "    'Depreciation, Depletion and Amortization',\n",
    "    'EBITDA',\n",
    "    'Total Inventories',\n",
    "    'Net Income',\n",
    "    'Total Receivables',\n",
    "    'Market Cap',\n",
    "    'Total Assets',\n",
    "    'Long-Term Debt',\n",
    "    'EBIT',\n",
    "    'Gross Profit',\n",
    "    'Total Current Liabilities',\n",
    "    'Retained Earnings',\n",
    "    'Revenue',\n",
    "    'Total Liabilities',\n",
    "    'Total Operating Expense'\n",
    "]\n",
    "\n",
    "# save chosen variables\n",
    "with open('chosen_variables.txt', 'w') as f:\n",
    "    for variable in chosen_variables:\n",
    "        f.write(f'{variable}\\n')"
   ],
   "id": "2f3058ffd437eb1",
   "outputs": [],
   "execution_count": 36
  },
  {
   "metadata": {
    "ExecuteTime": {
     "end_time": "2024-04-21T18:44:05.181251Z",
     "start_time": "2024-04-21T18:44:05.176893Z"
    }
   },
   "cell_type": "code",
   "source": "len(chosen_variables)",
   "id": "976ca1bae40470ea",
   "outputs": [
    {
     "data": {
      "text/plain": [
       "17"
      ]
     },
     "execution_count": 74,
     "metadata": {},
     "output_type": "execute_result"
    }
   ],
   "execution_count": 74
  },
  {
   "metadata": {
    "ExecuteTime": {
     "end_time": "2024-04-21T18:47:27.195657Z",
     "start_time": "2024-04-21T18:47:27.191681Z"
    }
   },
   "cell_type": "code",
   "source": [
    "# check if all chosen variables are present in the counts\n",
    "for variable in chosen_variables:\n",
    "    if variable not in most_common_variables:\n",
    "        print(f'{variable} is not present in the counts')"
   ],
   "id": "f0240be14ce57bc7",
   "outputs": [
    {
     "name": "stdout",
     "output_type": "stream",
     "text": [
      "Total Inventories is not present in the counts\n",
      "Market Cap is not present in the counts\n"
     ]
    }
   ],
   "execution_count": 87
  },
  {
   "metadata": {
    "ExecuteTime": {
     "end_time": "2024-04-22T11:43:38.059906Z",
     "start_time": "2024-04-22T11:43:38.052196Z"
    }
   },
   "cell_type": "code",
   "source": [
    "final_financial_data_processed_100_variables = 'final_financial_data_processed_100_variables'\n",
    "final_financial_data_processed_17_variables = 'final_financial_data_processed_17_variables'\n",
    "final_financial_data_in_date_range_directory = 'final_financial_data_in_date_range'"
   ],
   "id": "35010a5f2c927e10",
   "outputs": [],
   "execution_count": 45
  },
  {
   "metadata": {
    "ExecuteTime": {
     "end_time": "2024-04-22T11:44:04.979755Z",
     "start_time": "2024-04-22T11:43:50.989359Z"
    }
   },
   "cell_type": "code",
   "source": [
    "from collections import Counter\n",
    "\n",
    "files_with_not_present_variables_count = 0\n",
    "\n",
    "not_found_variables_per_file = []\n",
    "\n",
    "for filename in os.listdir(final_financial_data_in_date_range_directory):\n",
    "    df = pd.read_csv(f'{final_financial_data_in_date_range_directory}/{filename}')\n",
    "    csv_variable = df.iloc[:, 1].tolist()\n",
    "    cnt = 0\n",
    "    for chosen_variable in chosen_variables:\n",
    "        if chosen_variable not in csv_variable:\n",
    "            cnt += 1\n",
    "    \n",
    "    not_found_variables_per_file.append(cnt)\n",
    "        \n",
    "not_found_counts = Counter(not_found_variables_per_file)\n",
    "not_found_counts"
   ],
   "id": "43821b9ed17a17fd",
   "outputs": [
    {
     "data": {
      "text/plain": [
       "Counter({0: 1845,\n",
       "         1: 1422,\n",
       "         9: 566,\n",
       "         2: 394,\n",
       "         10: 352,\n",
       "         7: 128,\n",
       "         3: 116,\n",
       "         8: 75,\n",
       "         11: 66,\n",
       "         4: 59,\n",
       "         5: 41,\n",
       "         6: 12,\n",
       "         12: 2})"
      ]
     },
     "execution_count": 47,
     "metadata": {},
     "output_type": "execute_result"
    }
   ],
   "execution_count": 47
  },
  {
   "metadata": {
    "ExecuteTime": {
     "end_time": "2024-04-22T11:44:04.984725Z",
     "start_time": "2024-04-22T11:44:04.979755Z"
    }
   },
   "cell_type": "code",
   "source": [
    "not_found_counts = dict(sorted(not_found_counts.items()))\n",
    "not_found_counts"
   ],
   "id": "f9e8032e00f83feb",
   "outputs": [
    {
     "data": {
      "text/plain": [
       "{0: 1845,\n",
       " 1: 1422,\n",
       " 2: 394,\n",
       " 3: 116,\n",
       " 4: 59,\n",
       " 5: 41,\n",
       " 6: 12,\n",
       " 7: 128,\n",
       " 8: 75,\n",
       " 9: 566,\n",
       " 10: 352,\n",
       " 11: 66,\n",
       " 12: 2}"
      ]
     },
     "execution_count": 48,
     "metadata": {},
     "output_type": "execute_result"
    }
   ],
   "execution_count": 48
  },
  {
   "metadata": {
    "ExecuteTime": {
     "end_time": "2024-04-21T19:56:37.448599Z",
     "start_time": "2024-04-21T19:56:37.441081Z"
    }
   },
   "cell_type": "code",
   "source": [
    "# count of files with up to 3 missing variables\n",
    "sum([v for k, v in not_found_counts.items() if k <= 3])"
   ],
   "id": "e230d725289cc008",
   "outputs": [
    {
     "data": {
      "text/plain": [
       "4085"
      ]
     },
     "execution_count": 103,
     "metadata": {},
     "output_type": "execute_result"
    }
   ],
   "execution_count": 103
  },
  {
   "metadata": {},
   "cell_type": "markdown",
   "source": "### get files with maximum of 3 lacking variables - it is ~17% of variables that will be empty",
   "id": "7b34117228c5e87a"
  },
  {
   "metadata": {},
   "cell_type": "code",
   "outputs": [],
   "execution_count": null,
   "source": [
    "# get files with maximum of 3 lacking variables\n",
    "for filename in os.listdir(final_financial_data_directory):\n",
    "    df = pd.read_csv(f'{final_financial_data_directory}/{filename}')\n",
    "    csv_variable = df.iloc[:, 1].tolist()\n",
    "    cnt = 0\n",
    "    for chosen_variable in chosen_variables:\n",
    "        if chosen_variable not in csv_variable:\n",
    "            cnt += 1\n",
    "    \n",
    "    if cnt <= 3:\n",
    "        shutil.copy(f'{final_financial_data_directory}/{filename}', f'{final_financial_data_processed_17_variables}/{filename}')"
   ],
   "id": "ae03428ddddd5601"
  },
  {
   "metadata": {
    "ExecuteTime": {
     "end_time": "2024-04-21T19:51:16.538976Z",
     "start_time": "2024-04-21T19:51:06.162345Z"
    }
   },
   "cell_type": "code",
   "source": [
    "# most common variables\n",
    "not_found_variables_per_file_most_common_vars = []\n",
    "\n",
    "for filename in os.listdir(final_financial_data_directory):\n",
    "    df = pd.read_csv(f'{final_financial_data_directory}/{filename}')\n",
    "    csv_variable = df.iloc[:, 1].tolist()\n",
    "    cnt = 0\n",
    "    for chosen_variable in most_common_variables:\n",
    "        if chosen_variable not in csv_variable:\n",
    "            cnt += 1\n",
    "    \n",
    "    not_found_variables_per_file_most_common_vars.append(cnt)\n",
    "        \n",
    "not_found_counts_most_common_vars = Counter(not_found_variables_per_file_most_common_vars)\n",
    "print(not_found_counts_most_common_vars)"
   ],
   "id": "b3df39f27b144351",
   "outputs": [
    {
     "name": "stdout",
     "output_type": "stream",
     "text": [
      "Counter({0: 771, 1: 737, 2: 621, 3: 477, 4: 369, 5: 265, 6: 204, 31: 192, 32: 179, 33: 161, 7: 153, 34: 141, 8: 126, 35: 108, 30: 103, 36: 76, 11: 63, 9: 62, 37: 61, 10: 57, 38: 45, 39: 32, 40: 29, 12: 29, 20: 23, 14: 23, 21: 23, 18: 21, 42: 21, 13: 19, 41: 18, 27: 17, 56: 14, 19: 14, 16: 13, 29: 12, 55: 9, 49: 9, 17: 9, 22: 9, 15: 9, 28: 8, 44: 8, 23: 7, 48: 7, 24: 7, 43: 7, 46: 6, 57: 6, 45: 5, 53: 5, 52: 4, 26: 4, 51: 3, 54: 3, 50: 3, 25: 2, 47: 2, 58: 2, 60: 2, 74: 1, 76: 1, 65: 1})\n"
     ]
    }
   ],
   "execution_count": 96
  },
  {
   "metadata": {
    "ExecuteTime": {
     "end_time": "2024-04-21T19:53:56.862766Z",
     "start_time": "2024-04-21T19:53:56.848510Z"
    }
   },
   "cell_type": "code",
   "source": [
    "# sort not_found_counts_most_common_vars by key\n",
    "not_found_counts_most_common_vars = dict(sorted(not_found_counts_most_common_vars.items()))\n",
    "not_found_counts_most_common_vars"
   ],
   "id": "5a93c7b7dce9d81a",
   "outputs": [
    {
     "data": {
      "text/plain": [
       "{0: 771,\n",
       " 1: 737,\n",
       " 2: 621,\n",
       " 3: 477,\n",
       " 4: 369,\n",
       " 5: 265,\n",
       " 6: 204,\n",
       " 7: 153,\n",
       " 8: 126,\n",
       " 9: 62,\n",
       " 10: 57,\n",
       " 11: 63,\n",
       " 12: 29,\n",
       " 13: 19,\n",
       " 14: 23,\n",
       " 15: 9,\n",
       " 16: 13,\n",
       " 17: 9,\n",
       " 18: 21,\n",
       " 19: 14,\n",
       " 20: 23,\n",
       " 21: 23,\n",
       " 22: 9,\n",
       " 23: 7,\n",
       " 24: 7,\n",
       " 25: 2,\n",
       " 26: 4,\n",
       " 27: 17,\n",
       " 28: 8,\n",
       " 29: 12,\n",
       " 30: 103,\n",
       " 31: 192,\n",
       " 32: 179,\n",
       " 33: 161,\n",
       " 34: 141,\n",
       " 35: 108,\n",
       " 36: 76,\n",
       " 37: 61,\n",
       " 38: 45,\n",
       " 39: 32,\n",
       " 40: 29,\n",
       " 41: 18,\n",
       " 42: 21,\n",
       " 43: 7,\n",
       " 44: 8,\n",
       " 45: 5,\n",
       " 46: 6,\n",
       " 47: 2,\n",
       " 48: 7,\n",
       " 49: 9,\n",
       " 50: 3,\n",
       " 51: 3,\n",
       " 52: 4,\n",
       " 53: 5,\n",
       " 54: 3,\n",
       " 55: 9,\n",
       " 56: 14,\n",
       " 57: 6,\n",
       " 58: 2,\n",
       " 60: 2,\n",
       " 65: 1,\n",
       " 74: 1,\n",
       " 76: 1}"
      ]
     },
     "execution_count": 97,
     "metadata": {},
     "output_type": "execute_result"
    }
   ],
   "execution_count": 97
  },
  {
   "metadata": {
    "ExecuteTime": {
     "end_time": "2024-04-21T19:54:44.097581Z",
     "start_time": "2024-04-21T19:54:44.091389Z"
    }
   },
   "cell_type": "code",
   "source": [
    "# count of files with up to 10 missing variables\n",
    "sum([v for k, v in not_found_counts_most_common_vars.items() if k <= 10])"
   ],
   "id": "53d35d3500a297a9",
   "outputs": [
    {
     "data": {
      "text/plain": [
       "3842"
      ]
     },
     "execution_count": 98,
     "metadata": {},
     "output_type": "execute_result"
    }
   ],
   "execution_count": 98
  },
  {
   "metadata": {},
   "cell_type": "code",
   "outputs": [],
   "execution_count": null,
   "source": "",
   "id": "75535f71cfc571b4"
  }
 ],
 "metadata": {
  "kernelspec": {
   "display_name": "Python 3",
   "language": "python",
   "name": "python3"
  },
  "language_info": {
   "codemirror_mode": {
    "name": "ipython",
    "version": 2
   },
   "file_extension": ".py",
   "mimetype": "text/x-python",
   "name": "python",
   "nbconvert_exporter": "python",
   "pygments_lexer": "ipython2",
   "version": "2.7.6"
  }
 },
 "nbformat": 4,
 "nbformat_minor": 5
}

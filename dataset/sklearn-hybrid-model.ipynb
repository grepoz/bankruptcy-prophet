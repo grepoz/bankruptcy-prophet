{
 "cells": [
  {
   "cell_type": "code",
   "id": "initial_id",
   "metadata": {
    "collapsed": true,
    "ExecuteTime": {
     "end_time": "2024-09-22T18:48:40.955833Z",
     "start_time": "2024-09-22T18:48:40.788709Z"
    }
   },
   "source": [
    "from sklearn.tree import DecisionTreeClassifier\n",
    "from sklearn.neighbors import KNeighborsClassifier\n",
    "from sklearn.metrics import accuracy_score, precision_score, recall_score\n",
    "import pandas as pd\n",
    "import numpy as np\n",
    "from sklearn.feature_extraction.text import TfidfVectorizer\n",
    "from tqdm import tqdm\n",
    "\n",
    "random_state = 42"
   ],
   "outputs": [],
   "execution_count": 1
  },
  {
   "metadata": {
    "ExecuteTime": {
     "end_time": "2024-09-22T18:48:42.366319Z",
     "start_time": "2024-09-22T18:48:40.955833Z"
    }
   },
   "cell_type": "code",
   "source": [
    "from investment_system.data_utils import get_multimodal_data\n",
    "\n",
    "(X_numerical_train, y_numerical_train, X_numerical_val, y_numerical_val, X_numerical_test, y_numerical_test,\n",
    "            X_textual_train, y_textual_train, X_textual_val, y_textual_val, X_textual_test, y_textual_test) = get_multimodal_data(drop_all_columns=True)"
   ],
   "id": "780df7a93dd3ab79",
   "outputs": [],
   "execution_count": 2
  },
  {
   "metadata": {
    "ExecuteTime": {
     "end_time": "2024-09-22T18:48:42.689786Z",
     "start_time": "2024-09-22T18:48:42.501508Z"
    }
   },
   "cell_type": "code",
   "source": [
    "decisionTreeClassifier = DecisionTreeClassifier(random_state=random_state,\n",
    "                                                min_samples_split=2,\n",
    "                                                min_samples_leaf=1,\n",
    "                                                max_depth=10,\n",
    "                                                criterion='entropy',\n",
    "                                                class_weight={True: 30, False: 1})\n",
    "\n",
    "decisionTreeClassifier.fit(X_numerical_train, y_numerical_train)\n",
    "\n",
    "y_pred = decisionTreeClassifier.predict(X_numerical_test)\n",
    "\n",
    "print(f\"Test Accuracy: {accuracy_score(y_numerical_test, y_pred)}\")\n",
    "print(f\"Test Precision: {precision_score(y_numerical_test, y_pred)}\")\n",
    "print(f\"Test Recall: {recall_score(y_numerical_test, y_pred)}\")"
   ],
   "id": "6fc13be9766c01e7",
   "outputs": [
    {
     "name": "stdout",
     "output_type": "stream",
     "text": [
      "Test Accuracy: 0.9808259587020649\n",
      "Test Precision: 0.4166666666666667\n",
      "Test Recall: 0.45454545454545453\n"
     ]
    }
   ],
   "execution_count": 3
  },
  {
   "metadata": {
    "ExecuteTime": {
     "end_time": "2024-09-22T18:48:47.759658Z",
     "start_time": "2024-09-22T18:48:47.112796Z"
    }
   },
   "cell_type": "code",
   "source": [
    "tf_idf_vectorizer = TfidfVectorizer(max_features=1000)\n",
    "\n",
    "X_textual_train_features = tf_idf_vectorizer.fit_transform(X_textual_train['text'].values)\n",
    "X_textual_test_features = tf_idf_vectorizer.transform(X_textual_test['text'].values)"
   ],
   "id": "d37732e1f929e41c",
   "outputs": [],
   "execution_count": 4
  },
  {
   "metadata": {
    "ExecuteTime": {
     "end_time": "2024-09-22T18:49:22.422286Z",
     "start_time": "2024-09-22T18:49:22.243940Z"
    }
   },
   "cell_type": "code",
   "source": [
    "kNeighborsClassifier = KNeighborsClassifier(weights='uniform', p=2, n_neighbors=7, leaf_size=10, algorithm='brute')\n",
    "\n",
    "kNeighborsClassifier.fit(X_textual_train_features, y_textual_train)\n",
    "\n",
    "y_pred = kNeighborsClassifier.predict(X_textual_test_features)\n",
    "\n",
    "accuracy = accuracy_score(y_textual_test, y_pred)\n",
    "precision = precision_score(y_textual_test, y_pred)\n",
    "\n",
    "print(f\"Accuracy: {accuracy}\")\n",
    "print(f\"Precision: {precision}\")"
   ],
   "id": "d55051d9c415cd6a",
   "outputs": [
    {
     "name": "stdout",
     "output_type": "stream",
     "text": [
      "Accuracy: 0.9852507374631269\n",
      "Precision: 1.0\n"
     ]
    }
   ],
   "execution_count": 6
  },
  {
   "metadata": {},
   "cell_type": "markdown",
   "source": "### Hybrid model",
   "id": "a336628623110fc7"
  },
  {
   "metadata": {
    "ExecuteTime": {
     "end_time": "2024-09-22T18:49:30.669431Z",
     "start_time": "2024-09-22T18:49:29.177008Z"
    }
   },
   "cell_type": "code",
   "source": [
    "from investment_system.data_utils import get_multimodal_data\n",
    "\n",
    "(X_numerical_train, y_numerical_train, X_numerical_val, y_numerical_val, X_numerical_test, y_numerical_test,\n",
    "            X_textual_train, y_textual_train, X_textual_val, y_textual_val, X_textual_test, y_textual_test) = get_multimodal_data(drop_all_columns=True)"
   ],
   "id": "8e90de52ecedd750",
   "outputs": [],
   "execution_count": 7
  },
  {
   "metadata": {
    "ExecuteTime": {
     "end_time": "2024-09-22T13:52:39.106590Z",
     "start_time": "2024-09-22T13:52:39.101781Z"
    }
   },
   "cell_type": "code",
   "source": [
    "from sklearn.neighbors import KNeighborsClassifier\n",
    "from sklearn.tree import DecisionTreeClassifier\n",
    "from sklearn.feature_extraction.text import TfidfVectorizer\n",
    "from sklearn.metrics import accuracy_score\n",
    "import numpy as np\n",
    "\n",
    "def get_trained_models(X_numerical_train, y_numerical_train, X_textual_train, y_textual_train, random_state):\n",
    "    decisionTreeClassifier = DecisionTreeClassifier(\n",
    "        random_state=random_state,\n",
    "        min_samples_split=2,\n",
    "        min_samples_leaf=1,\n",
    "        max_depth=10,\n",
    "        criterion='entropy',\n",
    "        class_weight={True: 30, False: 1}\n",
    "    )\n",
    "    decisionTreeClassifier.fit(X_numerical_train, y_numerical_train)\n",
    "\n",
    "    kNeighborsClassifier = KNeighborsClassifier(weights='uniform', p=2, n_neighbors=7, leaf_size=10, algorithm='brute')\n",
    "    kNeighborsClassifier.fit(X_textual_train, y_textual_train)\n",
    "\n",
    "    return decisionTreeClassifier, kNeighborsClassifier\n",
    "\n",
    "# \n",
    "# tf_idf_vectorizer = TfidfVectorizer(max_features=1000)\n",
    "# \n",
    "# decisionTreeClassifier, kNeighborsClassifier = get_trained_models(X_numerical_train, y_numerical_train, X_textual_train, y_textual_train, tf_idf_vectorizer, random_state)\n",
    "# \n",
    "# y_pred_decisionTreeClassifier = decisionTreeClassifier.predict(X_numerical_test)\n",
    "# \n",
    "# accuracy = accuracy_score(y_numerical_test, y_pred_decisionTreeClassifier)\n",
    "# precision = precision_score(y_numerical_test, y_pred_decisionTreeClassifier)\n",
    "# \n",
    "# print(f\"DecisionTreeClassifier: Accuracy: {accuracy:.4f}, Precision: {precision:.4f}\")\n",
    "# \n",
    "# X_textual_test_features = tf_idf_vectorizer.transform(X_textual_test['text'].values)\n",
    "# y_pred_ada_boost_classifier = kNeighborsClassifier.predict(X_textual_test_features)\n",
    "# \n",
    "# accuracy = accuracy_score(y_textual_test, y_pred_ada_boost_classifier)\n",
    "# precision = precision_score(y_textual_test, y_pred_ada_boost_classifier)\n",
    "# \n",
    "# print(f\"AdaBoostClassifier: Accuracy: {accuracy:.4f}, Precision: {precision:.4f}\")"
   ],
   "id": "4b2cf6bac4244834",
   "outputs": [],
   "execution_count": 7
  },
  {
   "metadata": {
    "ExecuteTime": {
     "end_time": "2024-09-22T13:52:41.216909Z",
     "start_time": "2024-09-22T13:52:41.201662Z"
    }
   },
   "cell_type": "code",
   "source": [
    "def predict_hybrid(X_numerical, X_textual, decisionTreeClassifier, kNeighborsClassifier, decisionTreeClassifier_weight=0.2, kNeighborsClassifier_weight=0.8):\n",
    "    numerical_preds = decisionTreeClassifier.predict_proba(X_numerical)[:, 1]\n",
    "    textual_preds = kNeighborsClassifier.predict_proba(X_textual)[:, 1]\n",
    "\n",
    "    final_preds = decisionTreeClassifier_weight * numerical_preds + kNeighborsClassifier_weight * textual_preds\n",
    "    final_preds = final_preds > 0.5\n",
    "    \n",
    "    return final_preds\n",
    "\n",
    "# final_test_preds = predict_hybrid(X_numerical_test, X_textual_test_features, decisionTreeClassifier, kNeighborsClassifier)\n",
    "# accuracy = accuracy_score(y_numerical_test, final_test_preds)\n",
    "# precision = precision_score(y_numerical_test, final_test_preds)\n",
    "# print(f\"Hybrid Model Accuracy: {accuracy:.4f}\")\n",
    "# print(f\"Hybrid Model Precision: {precision:.4f}\")"
   ],
   "id": "af79a9839f50dd47",
   "outputs": [],
   "execution_count": 8
  },
  {
   "metadata": {
    "ExecuteTime": {
     "end_time": "2024-09-22T18:50:17.304616Z",
     "start_time": "2024-09-22T18:50:17.290373Z"
    }
   },
   "cell_type": "code",
   "source": [
    "decisionTreeClassifier_weights = np.linspace(0, 1, 11)\n",
    "kNeighborsClassifier_weights = 1 - decisionTreeClassifier_weights"
   ],
   "id": "8935116d92daca8a",
   "outputs": [],
   "execution_count": 8
  },
  {
   "metadata": {
    "ExecuteTime": {
     "end_time": "2024-09-22T18:50:19.559526Z",
     "start_time": "2024-09-22T18:50:19.540499Z"
    }
   },
   "cell_type": "code",
   "source": "kNeighborsClassifier_weights",
   "id": "f38b1a1ea41d5e88",
   "outputs": [
    {
     "data": {
      "text/plain": [
       "array([1. , 0.9, 0.8, 0.7, 0.6, 0.5, 0.4, 0.3, 0.2, 0.1, 0. ])"
      ]
     },
     "execution_count": 9,
     "metadata": {},
     "output_type": "execute_result"
    }
   ],
   "execution_count": 9
  },
  {
   "metadata": {
    "ExecuteTime": {
     "end_time": "2024-09-22T13:52:56.944935Z",
     "start_time": "2024-09-22T13:52:45.001386Z"
    }
   },
   "cell_type": "code",
   "source": [
    "accuracies = []\n",
    "precisions = []\n",
    "\n",
    "accuracies_meaned = []\n",
    "precisions_meaned = []\n",
    "\n",
    "tf_idf_vectorizer = TfidfVectorizer(max_features=1000)\n",
    "\n",
    "X_textual_train_features = tf_idf_vectorizer.fit_transform(X_textual_train['text'].values)\n",
    "X_textual_test_features = tf_idf_vectorizer.transform(X_textual_test['text'].values)\n",
    "\n",
    "for decisionTreeClassifier_weight, kNeighborsClassifier_weight in tqdm(zip(decisionTreeClassifier_weights, kNeighborsClassifier_weights)):\n",
    "    \n",
    "    random_state = 42\n",
    "    accuracies = []\n",
    "    precisions = []\n",
    "    \n",
    "    for i in range(3):\n",
    "        \n",
    "        decisionTreeClassifier, kNeighborsClassifier = get_trained_models(X_numerical_train, y_numerical_train,\n",
    "                                                                          X_textual_train_features, y_textual_train,\n",
    "                                                                          random_state+i)\n",
    "    \n",
    "        final_test_preds = predict_hybrid(X_numerical_test, X_textual_test_features,\n",
    "                                          decisionTreeClassifier, kNeighborsClassifier,\n",
    "                                          decisionTreeClassifier_weight, kNeighborsClassifier_weight)\n",
    "        \n",
    "        accuracy = accuracy_score(y_numerical_test, final_test_preds)\n",
    "        precision = precision_score(y_numerical_test, final_test_preds)\n",
    "        # print(f\"Hybrid Model Accuracy: {accuracy:.4f}\")\n",
    "        # print(f\"Hybrid Model Precision: {precision:.4f}\")\n",
    "        \n",
    "        accuracies.append(accuracy)\n",
    "        precisions.append(precision)\n",
    "        \n",
    "        del decisionTreeClassifier\n",
    "        del kNeighborsClassifier\n",
    "        \n",
    "    \n",
    "    accuracies_meaned.append(np.mean(accuracies))\n",
    "    precisions_meaned.append(np.mean(precisions))\n",
    "    \n",
    "print(f\"Accuracies: {accuracies_meaned}\")\n",
    "print(f\"Precisions: {precisions_meaned}\")\n",
    "\n",
    "print(f\"Mean Accuracy: {np.mean(accuracies_meaned)}\")\n",
    "print(f\"Mean Precision: {np.mean(precisions_meaned)}\")\n",
    "        \n",
    "#     final_test_preds = decisionTreeClassifier_weight * numerical_test_preds + adaBoostClassifier_weight * textual_test_preds\n",
    "# \n",
    "#     final_test_preds = final_test_preds > 0.5\n",
    "# \n",
    "#     # Evaluate accuracy\n",
    "#     accuracy = accuracy_score(y_numerical_test, final_test_preds)\n",
    "#     precision = precision_score(y_numerical_test, final_test_preds)\n",
    "#     \n",
    "#     accuracies.append(accuracy)\n",
    "#     precisions.append(precision)\n",
    "#     \n",
    "# print(f\"Mean Accuracy: {np.mean(accuracies)}\")\n",
    "# print(f\"Mean Precision: {np.mean(precisions)}\")\n",
    "\n"
   ],
   "id": "ba109d2162c4ca02",
   "outputs": [
    {
     "name": "stderr",
     "output_type": "stream",
     "text": [
      "0it [00:00, ?it/s]C:\\Users\\grzeg\\PycharmProjects\\bankruptcy-prophet-new\\bankruptcy-prophet\\.venv\\Lib\\site-packages\\sklearn\\neighbors\\_base.py:583: UserWarning: cannot use tree with sparse input: using brute force\n",
      "  warnings.warn(\"cannot use tree with sparse input: using brute force\")\n",
      "C:\\Users\\grzeg\\PycharmProjects\\bankruptcy-prophet-new\\bankruptcy-prophet\\.venv\\Lib\\site-packages\\sklearn\\neighbors\\_base.py:583: UserWarning: cannot use tree with sparse input: using brute force\n",
      "  warnings.warn(\"cannot use tree with sparse input: using brute force\")\n",
      "C:\\Users\\grzeg\\PycharmProjects\\bankruptcy-prophet-new\\bankruptcy-prophet\\.venv\\Lib\\site-packages\\sklearn\\neighbors\\_base.py:583: UserWarning: cannot use tree with sparse input: using brute force\n",
      "  warnings.warn(\"cannot use tree with sparse input: using brute force\")\n",
      "1it [00:01,  1.05s/it]C:\\Users\\grzeg\\PycharmProjects\\bankruptcy-prophet-new\\bankruptcy-prophet\\.venv\\Lib\\site-packages\\sklearn\\neighbors\\_base.py:583: UserWarning: cannot use tree with sparse input: using brute force\n",
      "  warnings.warn(\"cannot use tree with sparse input: using brute force\")\n",
      "C:\\Users\\grzeg\\PycharmProjects\\bankruptcy-prophet-new\\bankruptcy-prophet\\.venv\\Lib\\site-packages\\sklearn\\neighbors\\_base.py:583: UserWarning: cannot use tree with sparse input: using brute force\n",
      "  warnings.warn(\"cannot use tree with sparse input: using brute force\")\n",
      "C:\\Users\\grzeg\\PycharmProjects\\bankruptcy-prophet-new\\bankruptcy-prophet\\.venv\\Lib\\site-packages\\sklearn\\neighbors\\_base.py:583: UserWarning: cannot use tree with sparse input: using brute force\n",
      "  warnings.warn(\"cannot use tree with sparse input: using brute force\")\n",
      "2it [00:02,  1.04s/it]C:\\Users\\grzeg\\PycharmProjects\\bankruptcy-prophet-new\\bankruptcy-prophet\\.venv\\Lib\\site-packages\\sklearn\\neighbors\\_base.py:583: UserWarning: cannot use tree with sparse input: using brute force\n",
      "  warnings.warn(\"cannot use tree with sparse input: using brute force\")\n",
      "C:\\Users\\grzeg\\PycharmProjects\\bankruptcy-prophet-new\\bankruptcy-prophet\\.venv\\Lib\\site-packages\\sklearn\\neighbors\\_base.py:583: UserWarning: cannot use tree with sparse input: using brute force\n",
      "  warnings.warn(\"cannot use tree with sparse input: using brute force\")\n",
      "C:\\Users\\grzeg\\PycharmProjects\\bankruptcy-prophet-new\\bankruptcy-prophet\\.venv\\Lib\\site-packages\\sklearn\\neighbors\\_base.py:583: UserWarning: cannot use tree with sparse input: using brute force\n",
      "  warnings.warn(\"cannot use tree with sparse input: using brute force\")\n",
      "3it [00:03,  1.02s/it]C:\\Users\\grzeg\\PycharmProjects\\bankruptcy-prophet-new\\bankruptcy-prophet\\.venv\\Lib\\site-packages\\sklearn\\neighbors\\_base.py:583: UserWarning: cannot use tree with sparse input: using brute force\n",
      "  warnings.warn(\"cannot use tree with sparse input: using brute force\")\n",
      "C:\\Users\\grzeg\\PycharmProjects\\bankruptcy-prophet-new\\bankruptcy-prophet\\.venv\\Lib\\site-packages\\sklearn\\neighbors\\_base.py:583: UserWarning: cannot use tree with sparse input: using brute force\n",
      "  warnings.warn(\"cannot use tree with sparse input: using brute force\")\n",
      "C:\\Users\\grzeg\\PycharmProjects\\bankruptcy-prophet-new\\bankruptcy-prophet\\.venv\\Lib\\site-packages\\sklearn\\neighbors\\_base.py:583: UserWarning: cannot use tree with sparse input: using brute force\n",
      "  warnings.warn(\"cannot use tree with sparse input: using brute force\")\n",
      "4it [00:04,  1.03s/it]C:\\Users\\grzeg\\PycharmProjects\\bankruptcy-prophet-new\\bankruptcy-prophet\\.venv\\Lib\\site-packages\\sklearn\\neighbors\\_base.py:583: UserWarning: cannot use tree with sparse input: using brute force\n",
      "  warnings.warn(\"cannot use tree with sparse input: using brute force\")\n",
      "C:\\Users\\grzeg\\PycharmProjects\\bankruptcy-prophet-new\\bankruptcy-prophet\\.venv\\Lib\\site-packages\\sklearn\\neighbors\\_base.py:583: UserWarning: cannot use tree with sparse input: using brute force\n",
      "  warnings.warn(\"cannot use tree with sparse input: using brute force\")\n",
      "C:\\Users\\grzeg\\PycharmProjects\\bankruptcy-prophet-new\\bankruptcy-prophet\\.venv\\Lib\\site-packages\\sklearn\\neighbors\\_base.py:583: UserWarning: cannot use tree with sparse input: using brute force\n",
      "  warnings.warn(\"cannot use tree with sparse input: using brute force\")\n",
      "5it [00:05,  1.04s/it]C:\\Users\\grzeg\\PycharmProjects\\bankruptcy-prophet-new\\bankruptcy-prophet\\.venv\\Lib\\site-packages\\sklearn\\neighbors\\_base.py:583: UserWarning: cannot use tree with sparse input: using brute force\n",
      "  warnings.warn(\"cannot use tree with sparse input: using brute force\")\n",
      "C:\\Users\\grzeg\\PycharmProjects\\bankruptcy-prophet-new\\bankruptcy-prophet\\.venv\\Lib\\site-packages\\sklearn\\neighbors\\_base.py:583: UserWarning: cannot use tree with sparse input: using brute force\n",
      "  warnings.warn(\"cannot use tree with sparse input: using brute force\")\n",
      "C:\\Users\\grzeg\\PycharmProjects\\bankruptcy-prophet-new\\bankruptcy-prophet\\.venv\\Lib\\site-packages\\sklearn\\neighbors\\_base.py:583: UserWarning: cannot use tree with sparse input: using brute force\n",
      "  warnings.warn(\"cannot use tree with sparse input: using brute force\")\n",
      "6it [00:06,  1.04s/it]C:\\Users\\grzeg\\PycharmProjects\\bankruptcy-prophet-new\\bankruptcy-prophet\\.venv\\Lib\\site-packages\\sklearn\\neighbors\\_base.py:583: UserWarning: cannot use tree with sparse input: using brute force\n",
      "  warnings.warn(\"cannot use tree with sparse input: using brute force\")\n",
      "C:\\Users\\grzeg\\PycharmProjects\\bankruptcy-prophet-new\\bankruptcy-prophet\\.venv\\Lib\\site-packages\\sklearn\\neighbors\\_base.py:583: UserWarning: cannot use tree with sparse input: using brute force\n",
      "  warnings.warn(\"cannot use tree with sparse input: using brute force\")\n",
      "C:\\Users\\grzeg\\PycharmProjects\\bankruptcy-prophet-new\\bankruptcy-prophet\\.venv\\Lib\\site-packages\\sklearn\\neighbors\\_base.py:583: UserWarning: cannot use tree with sparse input: using brute force\n",
      "  warnings.warn(\"cannot use tree with sparse input: using brute force\")\n",
      "7it [00:07,  1.03s/it]C:\\Users\\grzeg\\PycharmProjects\\bankruptcy-prophet-new\\bankruptcy-prophet\\.venv\\Lib\\site-packages\\sklearn\\neighbors\\_base.py:583: UserWarning: cannot use tree with sparse input: using brute force\n",
      "  warnings.warn(\"cannot use tree with sparse input: using brute force\")\n",
      "C:\\Users\\grzeg\\PycharmProjects\\bankruptcy-prophet-new\\bankruptcy-prophet\\.venv\\Lib\\site-packages\\sklearn\\neighbors\\_base.py:583: UserWarning: cannot use tree with sparse input: using brute force\n",
      "  warnings.warn(\"cannot use tree with sparse input: using brute force\")\n",
      "C:\\Users\\grzeg\\PycharmProjects\\bankruptcy-prophet-new\\bankruptcy-prophet\\.venv\\Lib\\site-packages\\sklearn\\neighbors\\_base.py:583: UserWarning: cannot use tree with sparse input: using brute force\n",
      "  warnings.warn(\"cannot use tree with sparse input: using brute force\")\n",
      "8it [00:08,  1.03s/it]C:\\Users\\grzeg\\PycharmProjects\\bankruptcy-prophet-new\\bankruptcy-prophet\\.venv\\Lib\\site-packages\\sklearn\\neighbors\\_base.py:583: UserWarning: cannot use tree with sparse input: using brute force\n",
      "  warnings.warn(\"cannot use tree with sparse input: using brute force\")\n",
      "C:\\Users\\grzeg\\PycharmProjects\\bankruptcy-prophet-new\\bankruptcy-prophet\\.venv\\Lib\\site-packages\\sklearn\\neighbors\\_base.py:583: UserWarning: cannot use tree with sparse input: using brute force\n",
      "  warnings.warn(\"cannot use tree with sparse input: using brute force\")\n",
      "C:\\Users\\grzeg\\PycharmProjects\\bankruptcy-prophet-new\\bankruptcy-prophet\\.venv\\Lib\\site-packages\\sklearn\\neighbors\\_base.py:583: UserWarning: cannot use tree with sparse input: using brute force\n",
      "  warnings.warn(\"cannot use tree with sparse input: using brute force\")\n",
      "9it [00:09,  1.02s/it]C:\\Users\\grzeg\\PycharmProjects\\bankruptcy-prophet-new\\bankruptcy-prophet\\.venv\\Lib\\site-packages\\sklearn\\neighbors\\_base.py:583: UserWarning: cannot use tree with sparse input: using brute force\n",
      "  warnings.warn(\"cannot use tree with sparse input: using brute force\")\n",
      "C:\\Users\\grzeg\\PycharmProjects\\bankruptcy-prophet-new\\bankruptcy-prophet\\.venv\\Lib\\site-packages\\sklearn\\neighbors\\_base.py:583: UserWarning: cannot use tree with sparse input: using brute force\n",
      "  warnings.warn(\"cannot use tree with sparse input: using brute force\")\n",
      "C:\\Users\\grzeg\\PycharmProjects\\bankruptcy-prophet-new\\bankruptcy-prophet\\.venv\\Lib\\site-packages\\sklearn\\neighbors\\_base.py:583: UserWarning: cannot use tree with sparse input: using brute force\n",
      "  warnings.warn(\"cannot use tree with sparse input: using brute force\")\n",
      "10it [00:10,  1.02s/it]C:\\Users\\grzeg\\PycharmProjects\\bankruptcy-prophet-new\\bankruptcy-prophet\\.venv\\Lib\\site-packages\\sklearn\\neighbors\\_base.py:583: UserWarning: cannot use tree with sparse input: using brute force\n",
      "  warnings.warn(\"cannot use tree with sparse input: using brute force\")\n",
      "C:\\Users\\grzeg\\PycharmProjects\\bankruptcy-prophet-new\\bankruptcy-prophet\\.venv\\Lib\\site-packages\\sklearn\\neighbors\\_base.py:583: UserWarning: cannot use tree with sparse input: using brute force\n",
      "  warnings.warn(\"cannot use tree with sparse input: using brute force\")\n",
      "C:\\Users\\grzeg\\PycharmProjects\\bankruptcy-prophet-new\\bankruptcy-prophet\\.venv\\Lib\\site-packages\\sklearn\\neighbors\\_base.py:583: UserWarning: cannot use tree with sparse input: using brute force\n",
      "  warnings.warn(\"cannot use tree with sparse input: using brute force\")\n",
      "11it [00:11,  1.03s/it]"
     ]
    },
    {
     "name": "stdout",
     "output_type": "stream",
     "text": [
      "Accuracies: [0.9852507374631269, 0.9852507374631269, 0.9852507374631269, 0.9852507374631269, 0.9867256637168141, 0.9862340216322517, 0.9788593903638151, 0.9773844641101279, 0.9773844641101279, 0.9773844641101279, 0.9773844641101279]\n",
      "Precisions: [1.0, 1.0, 1.0, 1.0, 1.0, 0.7000000000000001, 0.3651903651903652, 0.33669108669108666, 0.33669108669108666, 0.33669108669108666, 0.33669108669108666]\n",
      "Mean Accuracy: 0.9820327165459908\n",
      "Mean Precision: 0.6738140647231555\n"
     ]
    },
    {
     "name": "stderr",
     "output_type": "stream",
     "text": [
      "\n"
     ]
    }
   ],
   "execution_count": 9
  },
  {
   "metadata": {
    "ExecuteTime": {
     "end_time": "2024-09-22T13:54:32.390349Z",
     "start_time": "2024-09-22T13:54:32.278132Z"
    }
   },
   "cell_type": "code",
   "source": [
    "import matplotlib.pyplot as plt\n",
    "\n",
    "plt.plot(decisionTreeClassifier_weights, accuracies_meaned, label='Dokładność')\n",
    "plt.plot(decisionTreeClassifier_weights, precisions_meaned, label='Precyzja')\n",
    "plt.xlabel('Waga klasyfikatora DecisionTreeClassifier')\n",
    "plt.ylabel('Wartość')\n",
    "plt.title('Wyniki modelu hybrydowego w zależności od wag klasyfikatorów')\n",
    "plt.legend()\n",
    "plt.show()"
   ],
   "id": "81cde89966738848",
   "outputs": [
    {
     "data": {
      "text/plain": [
       "<Figure size 640x480 with 1 Axes>"
      ],
      "image/png": "[encoded data removed]"
     },
     "metadata": {},
     "output_type": "display_data"
    }
   ],
   "execution_count": 10
  },
  {
   "metadata": {},
   "cell_type": "code",
   "outputs": [],
   "execution_count": null,
   "source": "",
   "id": "9e11b9a2a00b185"
  },
  {
   "metadata": {},
   "cell_type": "code",
   "outputs": [],
   "execution_count": null,
   "source": "",
   "id": "46c62e1252570742"
  }
 ],
 "metadata": {
  "kernelspec": {
   "display_name": "Python 3",
   "language": "python",
   "name": "python3"
  },
  "language_info": {
   "codemirror_mode": {
    "name": "ipython",
    "version": 2
   },
   "file_extension": ".py",
   "mimetype": "text/x-python",
   "name": "python",
   "nbconvert_exporter": "python",
   "pygments_lexer": "ipython2",
   "version": "2.7.6"
  }
 },
 "nbformat": 4,
 "nbformat_minor": 5
}

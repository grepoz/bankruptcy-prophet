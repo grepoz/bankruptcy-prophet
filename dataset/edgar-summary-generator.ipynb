{
 "cells": [
  {
   "metadata": {
    "ExecuteTime": {
     "end_time": "2024-05-12T07:36:41.516462Z",
     "start_time": "2024-05-12T07:36:39.886520Z"
    }
   },
   "cell_type": "code",
   "source": [
    "import os\n",
    "import textwrap\n",
    "import google.generativeai as genai\n",
    "from IPython.display import Markdown\n",
    "import pandas as pd\n",
    "\n",
    "import warnings\n",
    "warnings.filterwarnings('ignore')\n",
    "\n",
    "\n",
    "def to_markdown(text):\n",
    "    text = text.replace('•', '  *')\n",
    "    return Markdown(textwrap.indent(text, '> ', predicate=lambda _: True))"
   ],
   "id": "5bb2f3732f02c581",
   "outputs": [],
   "execution_count": 1
  },
  {
   "metadata": {
    "ExecuteTime": {
     "end_time": "2024-05-12T07:36:41.521446Z",
     "start_time": "2024-05-12T07:36:41.517468Z"
    }
   },
   "cell_type": "code",
   "source": [
    "GOOGLE_API_KEY = os.getenv('GOOGLE_API_KEY')\n",
    "genai.configure(api_key=GOOGLE_API_KEY)"
   ],
   "id": "63d88949ea17df10",
   "outputs": [],
   "execution_count": 2
  },
  {
   "metadata": {
    "ExecuteTime": {
     "end_time": "2024-05-12T07:37:57.434303Z",
     "start_time": "2024-05-12T07:37:57.134812Z"
    }
   },
   "cell_type": "code",
   "source": [
    "for m in genai.list_models():\n",
    "    if 'generateContent' in m.supported_generation_methods:\n",
    "        print(m.name)"
   ],
   "id": "624ad506bfaae32e",
   "outputs": [
    {
     "name": "stdout",
     "output_type": "stream",
     "text": [
      "models/gemini-1.0-pro\n",
      "models/gemini-1.0-pro-001\n",
      "models/gemini-1.0-pro-latest\n",
      "models/gemini-1.0-pro-vision-latest\n",
      "models/gemini-1.5-pro-latest\n",
      "models/gemini-pro\n",
      "models/gemini-pro-vision\n"
     ]
    }
   ],
   "execution_count": 5
  },
  {
   "metadata": {
    "ExecuteTime": {
     "end_time": "2024-05-12T07:37:58.377394Z",
     "start_time": "2024-05-12T07:37:58.369795Z"
    }
   },
   "cell_type": "code",
   "source": "model = genai.GenerativeModel('gemini-1.0-pro')",
   "id": "d75f3384778c0773",
   "outputs": [],
   "execution_count": 6
  },
  {
   "metadata": {
    "ExecuteTime": {
     "end_time": "2024-05-12T07:38:03.444679Z",
     "start_time": "2024-05-12T07:37:59.668431Z"
    }
   },
   "cell_type": "code",
   "source": "model.generate_content(\"Who is the president of the United States?\")",
   "id": "f8c56b00fc8afe61",
   "outputs": [
    {
     "data": {
      "text/plain": [
       "response:\n",
       "GenerateContentResponse(\n",
       "    done=True,\n",
       "    iterator=None,\n",
       "    result=glm.GenerateContentResponse({'candidates': [{'content': {'parts': [{'text': 'Joe Biden'}], 'role': 'model'}, 'finish_reason': 1, 'index': 0, 'safety_ratings': [{'category': 9, 'probability': 1, 'blocked': False}, {'category': 8, 'probability': 1, 'blocked': False}, {'category': 7, 'probability': 1, 'blocked': False}, {'category': 10, 'probability': 1, 'blocked': False}], 'token_count': 0, 'grounding_attributions': []}]}),\n",
       ")"
      ]
     },
     "execution_count": 7,
     "metadata": {},
     "output_type": "execute_result"
    }
   ],
   "execution_count": 7
  },
  {
   "metadata": {
    "ExecuteTime": {
     "end_time": "2024-05-12T07:39:08.491824Z",
     "start_time": "2024-05-12T07:39:08.301063Z"
    }
   },
   "cell_type": "code",
   "source": [
    "ecl_dataset = pd.read_csv('ECL_with_ticker_2024-04-19_14-35-21.csv')\n",
    "ecl_dataset.head()"
   ],
   "id": "bac1b3c7593f0be3",
   "outputs": [
    {
     "data": {
      "text/plain": [
       "   Unnamed: 0   cik   company period_of_report   gvkey    datadate  \\\n",
       "0           0  1750  AAR CORP       1994-05-31  1004.0  31/05/1994   \n",
       "1           1  1750  AAR CORP       1995-05-31  1004.0  31/05/1995   \n",
       "2           2  1750  AAR CORP       1996-05-31  1004.0  31/05/1996   \n",
       "3           3  1750  AAR CORP       1997-05-31  1004.0  31/05/1997   \n",
       "4           4  1750  AAR CORP       1998-05-31  1004.0  31/05/1998   \n",
       "\n",
       "                                        filename qualified  label  \\\n",
       "0  /1994/1750_10K_1994_0000912057-94-002818.json       Yes  False   \n",
       "1  /1995/1750_10K_1995_0000912057-95-006316.json       Yes  False   \n",
       "2  /1996/1750_10K_1996_0000912057-96-018355.json       Yes  False   \n",
       "3  /1997/1750_10K_1997_0000912057-97-028915.json       Yes  False   \n",
       "4  /1998/1750_10K_1998_0001047469-98-032283.json       Yes  False   \n",
       "\n",
       "  bankruptcy_prediction_split bankruptcy_date_1 bankruptcy_date_2  \\\n",
       "0                       train               NaN               NaN   \n",
       "1                       train               NaN               NaN   \n",
       "2                       train               NaN               NaN   \n",
       "3                       train               NaN               NaN   \n",
       "4                       train               NaN               NaN   \n",
       "\n",
       "  bankruptcy_date_3 filing_date ticker exchange gurufocus-stockid  \\\n",
       "0               NaN  1994-08-24    AIR     NYSE            US06AR   \n",
       "1               NaN  1995-08-11    AIR     NYSE            US06AR   \n",
       "2               NaN  1996-08-20    AIR     NYSE            US06AR   \n",
       "3               NaN  1997-08-22    AIR     NYSE            US06AR   \n",
       "4               NaN  1998-08-20    AIR     NYSE            US06AR   \n",
       "\n",
       "  gurufocus-company-name first_match cik-equal-gurufocus-cik  \n",
       "0               AAR Corp         NaN                     NaN  \n",
       "1               AAR Corp         NaN                     NaN  \n",
       "2               AAR Corp         NaN                     NaN  \n",
       "3               AAR Corp         NaN                     NaN  \n",
       "4               AAR Corp         NaN                     NaN  "
      ],
      "text/html": [
       "<div>\n",
       "<style scoped>\n",
       "    .dataframe tbody tr th:only-of-type {\n",
       "        vertical-align: middle;\n",
       "    }\n",
       "\n",
       "    .dataframe tbody tr th {\n",
       "        vertical-align: top;\n",
       "    }\n",
       "\n",
       "    .dataframe thead th {\n",
       "        text-align: right;\n",
       "    }\n",
       "</style>\n",
       "<table border=\"1\" class=\"dataframe\">\n",
       "  <thead>\n",
       "    <tr style=\"text-align: right;\">\n",
       "      <th></th>\n",
       "      <th>Unnamed: 0</th>\n",
       "      <th>cik</th>\n",
       "      <th>company</th>\n",
       "      <th>period_of_report</th>\n",
       "      <th>gvkey</th>\n",
       "      <th>datadate</th>\n",
       "      <th>filename</th>\n",
       "      <th>qualified</th>\n",
       "      <th>label</th>\n",
       "      <th>bankruptcy_prediction_split</th>\n",
       "      <th>bankruptcy_date_1</th>\n",
       "      <th>bankruptcy_date_2</th>\n",
       "      <th>bankruptcy_date_3</th>\n",
       "      <th>filing_date</th>\n",
       "      <th>ticker</th>\n",
       "      <th>exchange</th>\n",
       "      <th>gurufocus-stockid</th>\n",
       "      <th>gurufocus-company-name</th>\n",
       "      <th>first_match</th>\n",
       "      <th>cik-equal-gurufocus-cik</th>\n",
       "    </tr>\n",
       "  </thead>\n",
       "  <tbody>\n",
       "    <tr>\n",
       "      <th>0</th>\n",
       "      <td>0</td>\n",
       "      <td>1750</td>\n",
       "      <td>AAR CORP</td>\n",
       "      <td>1994-05-31</td>\n",
       "      <td>1004.0</td>\n",
       "      <td>31/05/1994</td>\n",
       "      <td>/1994/1750_10K_1994_0000912057-94-002818.json</td>\n",
       "      <td>Yes</td>\n",
       "      <td>False</td>\n",
       "      <td>train</td>\n",
       "      <td>NaN</td>\n",
       "      <td>NaN</td>\n",
       "      <td>NaN</td>\n",
       "      <td>1994-08-24</td>\n",
       "      <td>AIR</td>\n",
       "      <td>NYSE</td>\n",
       "      <td>US06AR</td>\n",
       "      <td>AAR Corp</td>\n",
       "      <td>NaN</td>\n",
       "      <td>NaN</td>\n",
       "    </tr>\n",
       "    <tr>\n",
       "      <th>1</th>\n",
       "      <td>1</td>\n",
       "      <td>1750</td>\n",
       "      <td>AAR CORP</td>\n",
       "      <td>1995-05-31</td>\n",
       "      <td>1004.0</td>\n",
       "      <td>31/05/1995</td>\n",
       "      <td>/1995/1750_10K_1995_0000912057-95-006316.json</td>\n",
       "      <td>Yes</td>\n",
       "      <td>False</td>\n",
       "      <td>train</td>\n",
       "      <td>NaN</td>\n",
       "      <td>NaN</td>\n",
       "      <td>NaN</td>\n",
       "      <td>1995-08-11</td>\n",
       "      <td>AIR</td>\n",
       "      <td>NYSE</td>\n",
       "      <td>US06AR</td>\n",
       "      <td>AAR Corp</td>\n",
       "      <td>NaN</td>\n",
       "      <td>NaN</td>\n",
       "    </tr>\n",
       "    <tr>\n",
       "      <th>2</th>\n",
       "      <td>2</td>\n",
       "      <td>1750</td>\n",
       "      <td>AAR CORP</td>\n",
       "      <td>1996-05-31</td>\n",
       "      <td>1004.0</td>\n",
       "      <td>31/05/1996</td>\n",
       "      <td>/1996/1750_10K_1996_0000912057-96-018355.json</td>\n",
       "      <td>Yes</td>\n",
       "      <td>False</td>\n",
       "      <td>train</td>\n",
       "      <td>NaN</td>\n",
       "      <td>NaN</td>\n",
       "      <td>NaN</td>\n",
       "      <td>1996-08-20</td>\n",
       "      <td>AIR</td>\n",
       "      <td>NYSE</td>\n",
       "      <td>US06AR</td>\n",
       "      <td>AAR Corp</td>\n",
       "      <td>NaN</td>\n",
       "      <td>NaN</td>\n",
       "    </tr>\n",
       "    <tr>\n",
       "      <th>3</th>\n",
       "      <td>3</td>\n",
       "      <td>1750</td>\n",
       "      <td>AAR CORP</td>\n",
       "      <td>1997-05-31</td>\n",
       "      <td>1004.0</td>\n",
       "      <td>31/05/1997</td>\n",
       "      <td>/1997/1750_10K_1997_0000912057-97-028915.json</td>\n",
       "      <td>Yes</td>\n",
       "      <td>False</td>\n",
       "      <td>train</td>\n",
       "      <td>NaN</td>\n",
       "      <td>NaN</td>\n",
       "      <td>NaN</td>\n",
       "      <td>1997-08-22</td>\n",
       "      <td>AIR</td>\n",
       "      <td>NYSE</td>\n",
       "      <td>US06AR</td>\n",
       "      <td>AAR Corp</td>\n",
       "      <td>NaN</td>\n",
       "      <td>NaN</td>\n",
       "    </tr>\n",
       "    <tr>\n",
       "      <th>4</th>\n",
       "      <td>4</td>\n",
       "      <td>1750</td>\n",
       "      <td>AAR CORP</td>\n",
       "      <td>1998-05-31</td>\n",
       "      <td>1004.0</td>\n",
       "      <td>31/05/1998</td>\n",
       "      <td>/1998/1750_10K_1998_0001047469-98-032283.json</td>\n",
       "      <td>Yes</td>\n",
       "      <td>False</td>\n",
       "      <td>train</td>\n",
       "      <td>NaN</td>\n",
       "      <td>NaN</td>\n",
       "      <td>NaN</td>\n",
       "      <td>1998-08-20</td>\n",
       "      <td>AIR</td>\n",
       "      <td>NYSE</td>\n",
       "      <td>US06AR</td>\n",
       "      <td>AAR Corp</td>\n",
       "      <td>NaN</td>\n",
       "      <td>NaN</td>\n",
       "    </tr>\n",
       "  </tbody>\n",
       "</table>\n",
       "</div>"
      ]
     },
     "execution_count": 8,
     "metadata": {},
     "output_type": "execute_result"
    }
   ],
   "execution_count": 8
  },
  {
   "metadata": {
    "ExecuteTime": {
     "end_time": "2024-05-12T07:39:09.299968Z",
     "start_time": "2024-05-12T07:39:09.276708Z"
    }
   },
   "cell_type": "code",
   "source": [
    "ecl_dataset_grouped = ecl_dataset.groupby('cik').agg({'bankruptcy_date_1': 'first', 'bankruptcy_date_2': 'first', 'bankruptcy_date_3': 'first','ticker': 'first', 'label': 'last', 'cik-equal-gurufocus-cik': 'last', 'filing_date': 'last'}).reset_index()\n",
    "ecl_dataset_grouped['is_bankruptcy_date_filled'] = ecl_dataset_grouped['bankruptcy_date_1'].notnull()\n",
    "ecl_dataset_grouped['is_bankruptcy_date_filled'].value_counts()"
   ],
   "id": "7e52fb46a7a9766e",
   "outputs": [
    {
     "data": {
      "text/plain": [
       "is_bankruptcy_date_filled\n",
       "False    8252\n",
       "True      891\n",
       "Name: count, dtype: int64"
      ]
     },
     "execution_count": 9,
     "metadata": {},
     "output_type": "execute_result"
    }
   ],
   "execution_count": 9
  },
  {
   "metadata": {},
   "cell_type": "markdown",
   "source": [
    "Download for each company that is eligible - it means that ticker matches, but company might be not in range & could have not enough variables or could have not enough years of data - the financial data in the date range of the bankruptcy date. \n",
    "\n",
    "If there are multiple bankruptcy dates, choose the last one. If there is no bankruptcy date, choose the last filing date."
   ],
   "id": "4bcf437e5dce8cc5"
  },
  {
   "metadata": {
    "ExecuteTime": {
     "end_time": "2024-05-12T07:39:11.870103Z",
     "start_time": "2024-05-12T07:39:11.860752Z"
    }
   },
   "cell_type": "code",
   "source": [
    "ecl_dataset_grouped_eligible = ecl_dataset_grouped[ecl_dataset_grouped['cik-equal-gurufocus-cik'] == True]\n",
    "print(len(ecl_dataset_grouped_eligible))\n",
    "ecl_dataset_grouped_eligible.head()"
   ],
   "id": "71be1df4b9e7d349",
   "outputs": [
    {
     "name": "stdout",
     "output_type": "stream",
     "text": [
      "5417\n"
     ]
    },
    {
     "data": {
      "text/plain": [
       "     cik bankruptcy_date_1 bankruptcy_date_2 bankruptcy_date_3 ticker  label  \\\n",
       "1   1800              None              None              None    ABT  False   \n",
       "6   2488              None              None              None    AMD  False   \n",
       "7   2491              None              None              None    BYI  False   \n",
       "8   2601              None              None              None   ARXX  False   \n",
       "10  2969              None              None              None    APD  False   \n",
       "\n",
       "   cik-equal-gurufocus-cik filing_date  is_bankruptcy_date_filled  \n",
       "1                     True  2021-02-19                      False  \n",
       "6                     True  2021-01-29                      False  \n",
       "7                     True  2014-08-29                      False  \n",
       "8                     True  2006-09-13                      False  \n",
       "10                    True  2021-11-18                      False  "
      ],
      "text/html": [
       "<div>\n",
       "<style scoped>\n",
       "    .dataframe tbody tr th:only-of-type {\n",
       "        vertical-align: middle;\n",
       "    }\n",
       "\n",
       "    .dataframe tbody tr th {\n",
       "        vertical-align: top;\n",
       "    }\n",
       "\n",
       "    .dataframe thead th {\n",
       "        text-align: right;\n",
       "    }\n",
       "</style>\n",
       "<table border=\"1\" class=\"dataframe\">\n",
       "  <thead>\n",
       "    <tr style=\"text-align: right;\">\n",
       "      <th></th>\n",
       "      <th>cik</th>\n",
       "      <th>bankruptcy_date_1</th>\n",
       "      <th>bankruptcy_date_2</th>\n",
       "      <th>bankruptcy_date_3</th>\n",
       "      <th>ticker</th>\n",
       "      <th>label</th>\n",
       "      <th>cik-equal-gurufocus-cik</th>\n",
       "      <th>filing_date</th>\n",
       "      <th>is_bankruptcy_date_filled</th>\n",
       "    </tr>\n",
       "  </thead>\n",
       "  <tbody>\n",
       "    <tr>\n",
       "      <th>1</th>\n",
       "      <td>1800</td>\n",
       "      <td>None</td>\n",
       "      <td>None</td>\n",
       "      <td>None</td>\n",
       "      <td>ABT</td>\n",
       "      <td>False</td>\n",
       "      <td>True</td>\n",
       "      <td>2021-02-19</td>\n",
       "      <td>False</td>\n",
       "    </tr>\n",
       "    <tr>\n",
       "      <th>6</th>\n",
       "      <td>2488</td>\n",
       "      <td>None</td>\n",
       "      <td>None</td>\n",
       "      <td>None</td>\n",
       "      <td>AMD</td>\n",
       "      <td>False</td>\n",
       "      <td>True</td>\n",
       "      <td>2021-01-29</td>\n",
       "      <td>False</td>\n",
       "    </tr>\n",
       "    <tr>\n",
       "      <th>7</th>\n",
       "      <td>2491</td>\n",
       "      <td>None</td>\n",
       "      <td>None</td>\n",
       "      <td>None</td>\n",
       "      <td>BYI</td>\n",
       "      <td>False</td>\n",
       "      <td>True</td>\n",
       "      <td>2014-08-29</td>\n",
       "      <td>False</td>\n",
       "    </tr>\n",
       "    <tr>\n",
       "      <th>8</th>\n",
       "      <td>2601</td>\n",
       "      <td>None</td>\n",
       "      <td>None</td>\n",
       "      <td>None</td>\n",
       "      <td>ARXX</td>\n",
       "      <td>False</td>\n",
       "      <td>True</td>\n",
       "      <td>2006-09-13</td>\n",
       "      <td>False</td>\n",
       "    </tr>\n",
       "    <tr>\n",
       "      <th>10</th>\n",
       "      <td>2969</td>\n",
       "      <td>None</td>\n",
       "      <td>None</td>\n",
       "      <td>None</td>\n",
       "      <td>APD</td>\n",
       "      <td>False</td>\n",
       "      <td>True</td>\n",
       "      <td>2021-11-18</td>\n",
       "      <td>False</td>\n",
       "    </tr>\n",
       "  </tbody>\n",
       "</table>\n",
       "</div>"
      ]
     },
     "execution_count": 10,
     "metadata": {},
     "output_type": "execute_result"
    }
   ],
   "execution_count": 10
  },
  {
   "metadata": {
    "ExecuteTime": {
     "end_time": "2024-05-12T07:39:12.965683Z",
     "start_time": "2024-05-12T07:39:12.941240Z"
    }
   },
   "cell_type": "code",
   "source": [
    "companies_eligible_to_financial_dataset = pd.read_csv('companies_eligible_to_financial_dataset_2024-04-19_14-47-55.csv')\n",
    "len(companies_eligible_to_financial_dataset)\n",
    "companies_eligible_to_financial_dataset.head()"
   ],
   "id": "207910c6dff89fc0",
   "outputs": [
    {
     "data": {
      "text/plain": [
       "   Unnamed: 0   cik                            company  label ticker  \\\n",
       "0           0  1800                ABBOTT LABORATORIES  False    ABT   \n",
       "1           1  2488         ADVANCED MICRO DEVICES INC  False    AMD   \n",
       "2           2  2491           BALLY TECHNOLOGIES, INC.  False    BYI   \n",
       "3           3  2601                       AEROFLEX INC  False   ARXX   \n",
       "4           4  2969  AIR PRODUCTS & CHEMICALS INC /DE/  False    APD   \n",
       "\n",
       "               gurufocus-company-name gurufocus-stockid filing_date  \\\n",
       "0                 Abbott Laboratories            US066X  2021-02-19   \n",
       "1          Advanced Micro Devices Inc            US022E  2021-01-29   \n",
       "2  Bally Technologies Inc  (Delisted)            US06R5  2014-08-29   \n",
       "3            Aeroflex Inc  (Delisted)            US026H  2006-09-13   \n",
       "4        Air Products & Chemicals Inc            US06DU  2021-11-18   \n",
       "\n",
       "   cik-equal-gurufocus-cik first_match  \n",
       "0                     True         NaN  \n",
       "1                     True         NaN  \n",
       "2                     True         NaN  \n",
       "3                     True         NaN  \n",
       "4                     True         NaN  "
      ],
      "text/html": [
       "<div>\n",
       "<style scoped>\n",
       "    .dataframe tbody tr th:only-of-type {\n",
       "        vertical-align: middle;\n",
       "    }\n",
       "\n",
       "    .dataframe tbody tr th {\n",
       "        vertical-align: top;\n",
       "    }\n",
       "\n",
       "    .dataframe thead th {\n",
       "        text-align: right;\n",
       "    }\n",
       "</style>\n",
       "<table border=\"1\" class=\"dataframe\">\n",
       "  <thead>\n",
       "    <tr style=\"text-align: right;\">\n",
       "      <th></th>\n",
       "      <th>Unnamed: 0</th>\n",
       "      <th>cik</th>\n",
       "      <th>company</th>\n",
       "      <th>label</th>\n",
       "      <th>ticker</th>\n",
       "      <th>gurufocus-company-name</th>\n",
       "      <th>gurufocus-stockid</th>\n",
       "      <th>filing_date</th>\n",
       "      <th>cik-equal-gurufocus-cik</th>\n",
       "      <th>first_match</th>\n",
       "    </tr>\n",
       "  </thead>\n",
       "  <tbody>\n",
       "    <tr>\n",
       "      <th>0</th>\n",
       "      <td>0</td>\n",
       "      <td>1800</td>\n",
       "      <td>ABBOTT LABORATORIES</td>\n",
       "      <td>False</td>\n",
       "      <td>ABT</td>\n",
       "      <td>Abbott Laboratories</td>\n",
       "      <td>US066X</td>\n",
       "      <td>2021-02-19</td>\n",
       "      <td>True</td>\n",
       "      <td>NaN</td>\n",
       "    </tr>\n",
       "    <tr>\n",
       "      <th>1</th>\n",
       "      <td>1</td>\n",
       "      <td>2488</td>\n",
       "      <td>ADVANCED MICRO DEVICES INC</td>\n",
       "      <td>False</td>\n",
       "      <td>AMD</td>\n",
       "      <td>Advanced Micro Devices Inc</td>\n",
       "      <td>US022E</td>\n",
       "      <td>2021-01-29</td>\n",
       "      <td>True</td>\n",
       "      <td>NaN</td>\n",
       "    </tr>\n",
       "    <tr>\n",
       "      <th>2</th>\n",
       "      <td>2</td>\n",
       "      <td>2491</td>\n",
       "      <td>BALLY TECHNOLOGIES, INC.</td>\n",
       "      <td>False</td>\n",
       "      <td>BYI</td>\n",
       "      <td>Bally Technologies Inc  (Delisted)</td>\n",
       "      <td>US06R5</td>\n",
       "      <td>2014-08-29</td>\n",
       "      <td>True</td>\n",
       "      <td>NaN</td>\n",
       "    </tr>\n",
       "    <tr>\n",
       "      <th>3</th>\n",
       "      <td>3</td>\n",
       "      <td>2601</td>\n",
       "      <td>AEROFLEX INC</td>\n",
       "      <td>False</td>\n",
       "      <td>ARXX</td>\n",
       "      <td>Aeroflex Inc  (Delisted)</td>\n",
       "      <td>US026H</td>\n",
       "      <td>2006-09-13</td>\n",
       "      <td>True</td>\n",
       "      <td>NaN</td>\n",
       "    </tr>\n",
       "    <tr>\n",
       "      <th>4</th>\n",
       "      <td>4</td>\n",
       "      <td>2969</td>\n",
       "      <td>AIR PRODUCTS &amp; CHEMICALS INC /DE/</td>\n",
       "      <td>False</td>\n",
       "      <td>APD</td>\n",
       "      <td>Air Products &amp; Chemicals Inc</td>\n",
       "      <td>US06DU</td>\n",
       "      <td>2021-11-18</td>\n",
       "      <td>True</td>\n",
       "      <td>NaN</td>\n",
       "    </tr>\n",
       "  </tbody>\n",
       "</table>\n",
       "</div>"
      ]
     },
     "execution_count": 11,
     "metadata": {},
     "output_type": "execute_result"
    }
   ],
   "execution_count": 11
  },
  {
   "metadata": {
    "ExecuteTime": {
     "end_time": "2024-05-12T07:39:14.299478Z",
     "start_time": "2024-05-12T07:39:14.293970Z"
    }
   },
   "cell_type": "code",
   "source": "len(companies_eligible_to_financial_dataset)",
   "id": "4bd9ac7b9f2a1cf9",
   "outputs": [
    {
     "data": {
      "text/plain": [
       "5417"
      ]
     },
     "execution_count": 12,
     "metadata": {},
     "output_type": "execute_result"
    }
   ],
   "execution_count": 12
  },
  {
   "metadata": {
    "ExecuteTime": {
     "end_time": "2024-05-12T07:39:16.168634Z",
     "start_time": "2024-05-12T07:39:16.165499Z"
    }
   },
   "cell_type": "code",
   "source": "final_financial_data_in_date_range_directory = 'final_financial_data_in_date_range'",
   "id": "d22cd4887b4e4a26",
   "outputs": [],
   "execution_count": 13
  },
  {
   "metadata": {
    "ExecuteTime": {
     "end_time": "2024-05-12T07:39:16.800578Z",
     "start_time": "2024-05-12T07:39:16.795337Z"
    }
   },
   "cell_type": "code",
   "source": [
    "def is_date_valid(value):\n",
    "  try:\n",
    "    date = pd.to_datetime(value)\n",
    "    if pd.isnull(date):\n",
    "      return False\n",
    "    return True\n",
    "  except (pd.errors.OutOfBoundsDatetime, ValueError):\n",
    "    return False"
   ],
   "id": "6b25b93f3f9a800e",
   "outputs": [],
   "execution_count": 14
  },
  {
   "metadata": {},
   "cell_type": "markdown",
   "source": "report_datetime_before_decision means the last date of the financial report that is right before bankruptcy date. If there is no bankruptcy date, it means the last date of the financial report that is right before the last filing date.",
   "id": "ee7ad2eec923b4f3"
  },
  {
   "metadata": {
    "ExecuteTime": {
     "end_time": "2024-05-12T07:39:51.809808Z",
     "start_time": "2024-05-12T07:39:31.258174Z"
    }
   },
   "cell_type": "code",
   "source": [
    "eligible_companies_with_minimal_years_count = 0\n",
    "cnt_bankruptcies = []\n",
    "cnt_no_bankruptcies = 0\n",
    "no_date_found = 0\n",
    "exceptions_count = 0\n",
    "exceptions = []\n",
    "\n",
    "for filename in os.listdir(final_financial_data_in_date_range_directory):\n",
    "    try:\n",
    "        cik = int(filename.split('-')[0])\n",
    "        df = pd.read_csv(f'{final_financial_data_in_date_range_directory}/{filename}')\n",
    "        \n",
    "        bankruptcies = ecl_dataset.loc[ecl_dataset['cik'] == cik][['bankruptcy_date_1', 'bankruptcy_date_2', 'bankruptcy_date_3']]\n",
    "    \n",
    "        if cik == 2601:\n",
    "            print('here')\n",
    "    \n",
    "        bankruptcy_date = None\n",
    "        report_datetime_before_decision = None\n",
    "        does_company_went_bankrupt = True\n",
    "        if is_date_valid(bankruptcies['bankruptcy_date_3'].values[0]):\n",
    "            bankruptcy_date = bankruptcies['bankruptcy_date_3'].values[0]\n",
    "            cnt_bankruptcies.append(3)\n",
    "            print(f'bankruptcy_date_3: {filename}')\n",
    "        elif is_date_valid(bankruptcies['bankruptcy_date_2'].values[0]):\n",
    "            bankruptcy_date = bankruptcies['bankruptcy_date_2'].values[0]\n",
    "            cnt_bankruptcies.append(2)\n",
    "        elif is_date_valid(bankruptcies['bankruptcy_date_1'].values[0]):\n",
    "            bankruptcy_date = bankruptcies['bankruptcy_date_1'].values[0]\n",
    "            cnt_bankruptcies.append(1)\n",
    "        else:\n",
    "            # if company didn't go bankrupt, then we need to find the last report before the last filing date\n",
    "            report_datetime_before_decision = ecl_dataset.loc[ecl_dataset['cik'] == cik]['filing_date'].values[-2]\n",
    "            cnt_no_bankruptcies += 1\n",
    "            does_company_went_bankrupt = False\n",
    "            \n",
    "        # if company go bankrupt, then we need to find the last report before bankruptcy date\n",
    "        if does_company_went_bankrupt:\n",
    "            filing_dates = ecl_dataset.loc[ecl_dataset['cik'] == cik]['filing_date'].values\n",
    "            report_datetime_before_decision = [date for date in filing_dates if date < bankruptcy_date][-1]\n",
    "                \n",
    "        if pd.isna(report_datetime_before_decision):\n",
    "            print(f'No date found for {filename}')\n",
    "            no_date_found += 1\n",
    "            continue\n",
    "                \n",
    "        report_filenames = ecl_dataset.loc[ecl_dataset['cik'] == cik][['filename', 'filing_date']]\n",
    "        report_filename_before_decision = report_filenames.loc[report_filenames['filing_date'] == report_datetime_before_decision]['filename'].values[0]\n",
    "        \n",
    "        if report_filename_before_decision is None:\n",
    "            print(f'No date found for {filename}')\n",
    "        \n",
    "        ecl_dataset_grouped_eligible.loc[ecl_dataset_grouped_eligible['cik'] == cik, 'report_datetime_before_decision'] = report_datetime_before_decision\n",
    "        ecl_dataset_grouped_eligible.loc[ecl_dataset_grouped_eligible['cik'] == cik, 'report_filename_before_decision'] = report_filename_before_decision\n",
    "        \n",
    "    except Exception as ex:\n",
    "        exceptions_count += 1\n",
    "        exceptions.append(ex)"
   ],
   "id": "76e864ec7662c777",
   "outputs": [
    {
     "name": "stdout",
     "output_type": "stream",
     "text": [
      "bankruptcy_date_3: 106618-US03OX_HNH.csv\n"
     ]
    }
   ],
   "execution_count": 15
  },
  {
   "metadata": {
    "ExecuteTime": {
     "end_time": "2024-05-12T07:39:51.814273Z",
     "start_time": "2024-05-12T07:39:51.809808Z"
    }
   },
   "cell_type": "code",
   "source": "print(f'No date found: {no_date_found}')",
   "id": "68fc0d4d713b6f37",
   "outputs": [
    {
     "name": "stdout",
     "output_type": "stream",
     "text": [
      "No date found: 0\n"
     ]
    }
   ],
   "execution_count": 16
  },
  {
   "metadata": {
    "ExecuteTime": {
     "end_time": "2024-05-12T07:39:51.820023Z",
     "start_time": "2024-05-12T07:39:51.814273Z"
    }
   },
   "cell_type": "code",
   "source": [
    "from collections import Counter\n",
    "cnt_bankruptcies = Counter(cnt_bankruptcies)\n",
    "cnt_bankruptcies.most_common(10)"
   ],
   "id": "c1cc6be3b1eed80d",
   "outputs": [
    {
     "data": {
      "text/plain": [
       "[(1, 310), (2, 20), (3, 1)]"
      ]
     },
     "execution_count": 17,
     "metadata": {},
     "output_type": "execute_result"
    }
   ],
   "execution_count": 17
  },
  {
   "metadata": {
    "ExecuteTime": {
     "end_time": "2024-05-12T07:39:51.824880Z",
     "start_time": "2024-05-12T07:39:51.820023Z"
    }
   },
   "cell_type": "code",
   "source": "len(ecl_dataset_grouped_eligible)",
   "id": "f8dc05900d7ba3f0",
   "outputs": [
    {
     "data": {
      "text/plain": [
       "5417"
      ]
     },
     "execution_count": 18,
     "metadata": {},
     "output_type": "execute_result"
    }
   ],
   "execution_count": 18
  },
  {
   "metadata": {
    "ExecuteTime": {
     "end_time": "2024-05-12T07:39:55.086362Z",
     "start_time": "2024-05-12T07:39:55.069358Z"
    }
   },
   "cell_type": "code",
   "source": "ecl_dataset_grouped_eligible[ecl_dataset_grouped_eligible['report_filename_before_decision'].isnull()]",
   "id": "147643b276d248b3",
   "outputs": [
    {
     "data": {
      "text/plain": [
       "          cik bankruptcy_date_1 bankruptcy_date_2 bankruptcy_date_3 ticker  \\\n",
       "8        2601              None              None              None   ARXX   \n",
       "31       3952              None              None              None   ADGI   \n",
       "32       3982        1987-06-29              None              None    ALY   \n",
       "66       6071        2001-08-20        1990-04-25              None  AMESQ   \n",
       "70       6207              None              None              None    AXR   \n",
       "...       ...               ...               ...               ...    ...   \n",
       "9137  1834376              None              None              None   INNV   \n",
       "9139  1835256              None              None              None   NAPA   \n",
       "9140  1839439              None              None              None   PYCR   \n",
       "9141  1857951              None              None              None   WEBR   \n",
       "9142  1868941              None              None              None   FLNC   \n",
       "\n",
       "      label cik-equal-gurufocus-cik filing_date  is_bankruptcy_date_filled  \\\n",
       "8     False                    True  2006-09-13                      False   \n",
       "31    False                    True  2004-03-15                      False   \n",
       "32    False                    True  2011-03-15                       True   \n",
       "66    False                    True  2002-05-03                       True   \n",
       "70    False                    True  2008-07-14                      False   \n",
       "...     ...                     ...         ...                        ...   \n",
       "9137  False                    True  2021-09-23                      False   \n",
       "9139  False                    True  2021-10-04                      False   \n",
       "9140  False                    True  2021-09-02                      False   \n",
       "9141  False                    True  2021-12-14                      False   \n",
       "9142  False                    True  2021-12-14                      False   \n",
       "\n",
       "     report_datetime_before_decision report_filename_before_decision  \n",
       "8                                NaN                             NaN  \n",
       "31                               NaN                             NaN  \n",
       "32                               NaN                             NaN  \n",
       "66                               NaN                             NaN  \n",
       "70                               NaN                             NaN  \n",
       "...                              ...                             ...  \n",
       "9137                             NaN                             NaN  \n",
       "9139                             NaN                             NaN  \n",
       "9140                             NaN                             NaN  \n",
       "9141                             NaN                             NaN  \n",
       "9142                             NaN                             NaN  \n",
       "\n",
       "[754 rows x 11 columns]"
      ],
      "text/html": [
       "<div>\n",
       "<style scoped>\n",
       "    .dataframe tbody tr th:only-of-type {\n",
       "        vertical-align: middle;\n",
       "    }\n",
       "\n",
       "    .dataframe tbody tr th {\n",
       "        vertical-align: top;\n",
       "    }\n",
       "\n",
       "    .dataframe thead th {\n",
       "        text-align: right;\n",
       "    }\n",
       "</style>\n",
       "<table border=\"1\" class=\"dataframe\">\n",
       "  <thead>\n",
       "    <tr style=\"text-align: right;\">\n",
       "      <th></th>\n",
       "      <th>cik</th>\n",
       "      <th>bankruptcy_date_1</th>\n",
       "      <th>bankruptcy_date_2</th>\n",
       "      <th>bankruptcy_date_3</th>\n",
       "      <th>ticker</th>\n",
       "      <th>label</th>\n",
       "      <th>cik-equal-gurufocus-cik</th>\n",
       "      <th>filing_date</th>\n",
       "      <th>is_bankruptcy_date_filled</th>\n",
       "      <th>report_datetime_before_decision</th>\n",
       "      <th>report_filename_before_decision</th>\n",
       "    </tr>\n",
       "  </thead>\n",
       "  <tbody>\n",
       "    <tr>\n",
       "      <th>8</th>\n",
       "      <td>2601</td>\n",
       "      <td>None</td>\n",
       "      <td>None</td>\n",
       "      <td>None</td>\n",
       "      <td>ARXX</td>\n",
       "      <td>False</td>\n",
       "      <td>True</td>\n",
       "      <td>2006-09-13</td>\n",
       "      <td>False</td>\n",
       "      <td>NaN</td>\n",
       "      <td>NaN</td>\n",
       "    </tr>\n",
       "    <tr>\n",
       "      <th>31</th>\n",
       "      <td>3952</td>\n",
       "      <td>None</td>\n",
       "      <td>None</td>\n",
       "      <td>None</td>\n",
       "      <td>ADGI</td>\n",
       "      <td>False</td>\n",
       "      <td>True</td>\n",
       "      <td>2004-03-15</td>\n",
       "      <td>False</td>\n",
       "      <td>NaN</td>\n",
       "      <td>NaN</td>\n",
       "    </tr>\n",
       "    <tr>\n",
       "      <th>32</th>\n",
       "      <td>3982</td>\n",
       "      <td>1987-06-29</td>\n",
       "      <td>None</td>\n",
       "      <td>None</td>\n",
       "      <td>ALY</td>\n",
       "      <td>False</td>\n",
       "      <td>True</td>\n",
       "      <td>2011-03-15</td>\n",
       "      <td>True</td>\n",
       "      <td>NaN</td>\n",
       "      <td>NaN</td>\n",
       "    </tr>\n",
       "    <tr>\n",
       "      <th>66</th>\n",
       "      <td>6071</td>\n",
       "      <td>2001-08-20</td>\n",
       "      <td>1990-04-25</td>\n",
       "      <td>None</td>\n",
       "      <td>AMESQ</td>\n",
       "      <td>False</td>\n",
       "      <td>True</td>\n",
       "      <td>2002-05-03</td>\n",
       "      <td>True</td>\n",
       "      <td>NaN</td>\n",
       "      <td>NaN</td>\n",
       "    </tr>\n",
       "    <tr>\n",
       "      <th>70</th>\n",
       "      <td>6207</td>\n",
       "      <td>None</td>\n",
       "      <td>None</td>\n",
       "      <td>None</td>\n",
       "      <td>AXR</td>\n",
       "      <td>False</td>\n",
       "      <td>True</td>\n",
       "      <td>2008-07-14</td>\n",
       "      <td>False</td>\n",
       "      <td>NaN</td>\n",
       "      <td>NaN</td>\n",
       "    </tr>\n",
       "    <tr>\n",
       "      <th>...</th>\n",
       "      <td>...</td>\n",
       "      <td>...</td>\n",
       "      <td>...</td>\n",
       "      <td>...</td>\n",
       "      <td>...</td>\n",
       "      <td>...</td>\n",
       "      <td>...</td>\n",
       "      <td>...</td>\n",
       "      <td>...</td>\n",
       "      <td>...</td>\n",
       "      <td>...</td>\n",
       "    </tr>\n",
       "    <tr>\n",
       "      <th>9137</th>\n",
       "      <td>1834376</td>\n",
       "      <td>None</td>\n",
       "      <td>None</td>\n",
       "      <td>None</td>\n",
       "      <td>INNV</td>\n",
       "      <td>False</td>\n",
       "      <td>True</td>\n",
       "      <td>2021-09-23</td>\n",
       "      <td>False</td>\n",
       "      <td>NaN</td>\n",
       "      <td>NaN</td>\n",
       "    </tr>\n",
       "    <tr>\n",
       "      <th>9139</th>\n",
       "      <td>1835256</td>\n",
       "      <td>None</td>\n",
       "      <td>None</td>\n",
       "      <td>None</td>\n",
       "      <td>NAPA</td>\n",
       "      <td>False</td>\n",
       "      <td>True</td>\n",
       "      <td>2021-10-04</td>\n",
       "      <td>False</td>\n",
       "      <td>NaN</td>\n",
       "      <td>NaN</td>\n",
       "    </tr>\n",
       "    <tr>\n",
       "      <th>9140</th>\n",
       "      <td>1839439</td>\n",
       "      <td>None</td>\n",
       "      <td>None</td>\n",
       "      <td>None</td>\n",
       "      <td>PYCR</td>\n",
       "      <td>False</td>\n",
       "      <td>True</td>\n",
       "      <td>2021-09-02</td>\n",
       "      <td>False</td>\n",
       "      <td>NaN</td>\n",
       "      <td>NaN</td>\n",
       "    </tr>\n",
       "    <tr>\n",
       "      <th>9141</th>\n",
       "      <td>1857951</td>\n",
       "      <td>None</td>\n",
       "      <td>None</td>\n",
       "      <td>None</td>\n",
       "      <td>WEBR</td>\n",
       "      <td>False</td>\n",
       "      <td>True</td>\n",
       "      <td>2021-12-14</td>\n",
       "      <td>False</td>\n",
       "      <td>NaN</td>\n",
       "      <td>NaN</td>\n",
       "    </tr>\n",
       "    <tr>\n",
       "      <th>9142</th>\n",
       "      <td>1868941</td>\n",
       "      <td>None</td>\n",
       "      <td>None</td>\n",
       "      <td>None</td>\n",
       "      <td>FLNC</td>\n",
       "      <td>False</td>\n",
       "      <td>True</td>\n",
       "      <td>2021-12-14</td>\n",
       "      <td>False</td>\n",
       "      <td>NaN</td>\n",
       "      <td>NaN</td>\n",
       "    </tr>\n",
       "  </tbody>\n",
       "</table>\n",
       "<p>754 rows × 11 columns</p>\n",
       "</div>"
      ]
     },
     "execution_count": 19,
     "metadata": {},
     "output_type": "execute_result"
    }
   ],
   "execution_count": 19
  },
  {
   "metadata": {
    "ExecuteTime": {
     "end_time": "2024-05-12T07:39:58.601387Z",
     "start_time": "2024-05-12T07:39:58.595355Z"
    }
   },
   "cell_type": "code",
   "source": "ecl_dataset_grouped_eligible['report_filename_before_decision'].isnull().sum()",
   "id": "794f76df34577e8d",
   "outputs": [
    {
     "data": {
      "text/plain": [
       "754"
      ]
     },
     "execution_count": 20,
     "metadata": {},
     "output_type": "execute_result"
    }
   ],
   "execution_count": 20
  },
  {
   "metadata": {
    "ExecuteTime": {
     "end_time": "2024-05-12T07:40:00.628929Z",
     "start_time": "2024-05-12T07:40:00.609744Z"
    }
   },
   "cell_type": "code",
   "source": [
    "ecl_dataset_grouped_eligible_with_reports = ecl_dataset_grouped_eligible.dropna(subset=['report_filename_before_decision'])\n",
    "print(len(ecl_dataset_grouped_eligible_with_reports))\n",
    "ecl_dataset_grouped_eligible_with_reports.head()"
   ],
   "id": "4ffe8b1314a72685",
   "outputs": [
    {
     "name": "stdout",
     "output_type": "stream",
     "text": [
      "4663\n"
     ]
    },
    {
     "data": {
      "text/plain": [
       "     cik bankruptcy_date_1 bankruptcy_date_2 bankruptcy_date_3     ticker  \\\n",
       "1   1800              None              None              None        ABT   \n",
       "6   2488              None              None              None        AMD   \n",
       "7   2491              None              None              None        BYI   \n",
       "10  2969              None              None              None        APD   \n",
       "15  3153              None              None              None  ALPpQ.PFD   \n",
       "\n",
       "    label cik-equal-gurufocus-cik filing_date  is_bankruptcy_date_filled  \\\n",
       "1   False                    True  2021-02-19                      False   \n",
       "6   False                    True  2021-01-29                      False   \n",
       "7   False                    True  2014-08-29                      False   \n",
       "10  False                    True  2021-11-18                      False   \n",
       "15  False                    True  2021-02-18                      False   \n",
       "\n",
       "   report_datetime_before_decision  \\\n",
       "1                       2020-02-21   \n",
       "6                       2020-02-04   \n",
       "7                       2013-08-28   \n",
       "10                      2020-11-19   \n",
       "15                      2020-02-20   \n",
       "\n",
       "                  report_filename_before_decision  \n",
       "1   /2019/1800_10K_2019_0001104659-20-023904.json  \n",
       "6   /2019/2488_10K_2019_0000002488-20-000008.json  \n",
       "7   /2013/2491_10K_2013_0001047469-13-008711.json  \n",
       "10  /2020/2969_10K_2020_0000002969-20-000049.json  \n",
       "15  /2019/3153_10K_2019_0000092122-20-000017.json  "
      ],
      "text/html": [
       "<div>\n",
       "<style scoped>\n",
       "    .dataframe tbody tr th:only-of-type {\n",
       "        vertical-align: middle;\n",
       "    }\n",
       "\n",
       "    .dataframe tbody tr th {\n",
       "        vertical-align: top;\n",
       "    }\n",
       "\n",
       "    .dataframe thead th {\n",
       "        text-align: right;\n",
       "    }\n",
       "</style>\n",
       "<table border=\"1\" class=\"dataframe\">\n",
       "  <thead>\n",
       "    <tr style=\"text-align: right;\">\n",
       "      <th></th>\n",
       "      <th>cik</th>\n",
       "      <th>bankruptcy_date_1</th>\n",
       "      <th>bankruptcy_date_2</th>\n",
       "      <th>bankruptcy_date_3</th>\n",
       "      <th>ticker</th>\n",
       "      <th>label</th>\n",
       "      <th>cik-equal-gurufocus-cik</th>\n",
       "      <th>filing_date</th>\n",
       "      <th>is_bankruptcy_date_filled</th>\n",
       "      <th>report_datetime_before_decision</th>\n",
       "      <th>report_filename_before_decision</th>\n",
       "    </tr>\n",
       "  </thead>\n",
       "  <tbody>\n",
       "    <tr>\n",
       "      <th>1</th>\n",
       "      <td>1800</td>\n",
       "      <td>None</td>\n",
       "      <td>None</td>\n",
       "      <td>None</td>\n",
       "      <td>ABT</td>\n",
       "      <td>False</td>\n",
       "      <td>True</td>\n",
       "      <td>2021-02-19</td>\n",
       "      <td>False</td>\n",
       "      <td>2020-02-21</td>\n",
       "      <td>/2019/1800_10K_2019_0001104659-20-023904.json</td>\n",
       "    </tr>\n",
       "    <tr>\n",
       "      <th>6</th>\n",
       "      <td>2488</td>\n",
       "      <td>None</td>\n",
       "      <td>None</td>\n",
       "      <td>None</td>\n",
       "      <td>AMD</td>\n",
       "      <td>False</td>\n",
       "      <td>True</td>\n",
       "      <td>2021-01-29</td>\n",
       "      <td>False</td>\n",
       "      <td>2020-02-04</td>\n",
       "      <td>/2019/2488_10K_2019_0000002488-20-000008.json</td>\n",
       "    </tr>\n",
       "    <tr>\n",
       "      <th>7</th>\n",
       "      <td>2491</td>\n",
       "      <td>None</td>\n",
       "      <td>None</td>\n",
       "      <td>None</td>\n",
       "      <td>BYI</td>\n",
       "      <td>False</td>\n",
       "      <td>True</td>\n",
       "      <td>2014-08-29</td>\n",
       "      <td>False</td>\n",
       "      <td>2013-08-28</td>\n",
       "      <td>/2013/2491_10K_2013_0001047469-13-008711.json</td>\n",
       "    </tr>\n",
       "    <tr>\n",
       "      <th>10</th>\n",
       "      <td>2969</td>\n",
       "      <td>None</td>\n",
       "      <td>None</td>\n",
       "      <td>None</td>\n",
       "      <td>APD</td>\n",
       "      <td>False</td>\n",
       "      <td>True</td>\n",
       "      <td>2021-11-18</td>\n",
       "      <td>False</td>\n",
       "      <td>2020-11-19</td>\n",
       "      <td>/2020/2969_10K_2020_0000002969-20-000049.json</td>\n",
       "    </tr>\n",
       "    <tr>\n",
       "      <th>15</th>\n",
       "      <td>3153</td>\n",
       "      <td>None</td>\n",
       "      <td>None</td>\n",
       "      <td>None</td>\n",
       "      <td>ALPpQ.PFD</td>\n",
       "      <td>False</td>\n",
       "      <td>True</td>\n",
       "      <td>2021-02-18</td>\n",
       "      <td>False</td>\n",
       "      <td>2020-02-20</td>\n",
       "      <td>/2019/3153_10K_2019_0000092122-20-000017.json</td>\n",
       "    </tr>\n",
       "  </tbody>\n",
       "</table>\n",
       "</div>"
      ]
     },
     "execution_count": 21,
     "metadata": {},
     "output_type": "execute_result"
    }
   ],
   "execution_count": 21
  },
  {
   "metadata": {
    "ExecuteTime": {
     "end_time": "2024-05-10T13:44:52.947641Z",
     "start_time": "2024-05-10T13:44:52.923420Z"
    }
   },
   "cell_type": "code",
   "source": [
    "import datetime\n",
    "def get_datetime_now():\n",
    "    return datetime.datetime.now().strftime(\"%Y-%m-%d_%H-%M-%S\")\n",
    "ecl_dataset_grouped_eligible_with_reports.to_csv(f'ecl_dataset_grouped_eligible_with_reports_{get_datetime_now()}.csv', index=False)"
   ],
   "id": "21b41aef79b4e3ff",
   "outputs": [],
   "execution_count": 20
  },
  {
   "metadata": {
    "ExecuteTime": {
     "end_time": "2024-05-12T07:40:23.378185Z",
     "start_time": "2024-05-12T07:40:23.184933Z"
    }
   },
   "cell_type": "code",
   "source": [
    "ecl_dataset = pd.read_csv('ECL_with_ticker_2024-04-19_14-35-21.csv')\n",
    "ecl_dataset.head()"
   ],
   "id": "e8c9dec7e7cd87bd",
   "outputs": [
    {
     "data": {
      "text/plain": [
       "   Unnamed: 0   cik   company period_of_report   gvkey    datadate  \\\n",
       "0           0  1750  AAR CORP       1994-05-31  1004.0  31/05/1994   \n",
       "1           1  1750  AAR CORP       1995-05-31  1004.0  31/05/1995   \n",
       "2           2  1750  AAR CORP       1996-05-31  1004.0  31/05/1996   \n",
       "3           3  1750  AAR CORP       1997-05-31  1004.0  31/05/1997   \n",
       "4           4  1750  AAR CORP       1998-05-31  1004.0  31/05/1998   \n",
       "\n",
       "                                        filename qualified  label  \\\n",
       "0  /1994/1750_10K_1994_0000912057-94-002818.json       Yes  False   \n",
       "1  /1995/1750_10K_1995_0000912057-95-006316.json       Yes  False   \n",
       "2  /1996/1750_10K_1996_0000912057-96-018355.json       Yes  False   \n",
       "3  /1997/1750_10K_1997_0000912057-97-028915.json       Yes  False   \n",
       "4  /1998/1750_10K_1998_0001047469-98-032283.json       Yes  False   \n",
       "\n",
       "  bankruptcy_prediction_split bankruptcy_date_1 bankruptcy_date_2  \\\n",
       "0                       train               NaN               NaN   \n",
       "1                       train               NaN               NaN   \n",
       "2                       train               NaN               NaN   \n",
       "3                       train               NaN               NaN   \n",
       "4                       train               NaN               NaN   \n",
       "\n",
       "  bankruptcy_date_3 filing_date ticker exchange gurufocus-stockid  \\\n",
       "0               NaN  1994-08-24    AIR     NYSE            US06AR   \n",
       "1               NaN  1995-08-11    AIR     NYSE            US06AR   \n",
       "2               NaN  1996-08-20    AIR     NYSE            US06AR   \n",
       "3               NaN  1997-08-22    AIR     NYSE            US06AR   \n",
       "4               NaN  1998-08-20    AIR     NYSE            US06AR   \n",
       "\n",
       "  gurufocus-company-name first_match cik-equal-gurufocus-cik  \n",
       "0               AAR Corp         NaN                     NaN  \n",
       "1               AAR Corp         NaN                     NaN  \n",
       "2               AAR Corp         NaN                     NaN  \n",
       "3               AAR Corp         NaN                     NaN  \n",
       "4               AAR Corp         NaN                     NaN  "
      ],
      "text/html": [
       "<div>\n",
       "<style scoped>\n",
       "    .dataframe tbody tr th:only-of-type {\n",
       "        vertical-align: middle;\n",
       "    }\n",
       "\n",
       "    .dataframe tbody tr th {\n",
       "        vertical-align: top;\n",
       "    }\n",
       "\n",
       "    .dataframe thead th {\n",
       "        text-align: right;\n",
       "    }\n",
       "</style>\n",
       "<table border=\"1\" class=\"dataframe\">\n",
       "  <thead>\n",
       "    <tr style=\"text-align: right;\">\n",
       "      <th></th>\n",
       "      <th>Unnamed: 0</th>\n",
       "      <th>cik</th>\n",
       "      <th>company</th>\n",
       "      <th>period_of_report</th>\n",
       "      <th>gvkey</th>\n",
       "      <th>datadate</th>\n",
       "      <th>filename</th>\n",
       "      <th>qualified</th>\n",
       "      <th>label</th>\n",
       "      <th>bankruptcy_prediction_split</th>\n",
       "      <th>bankruptcy_date_1</th>\n",
       "      <th>bankruptcy_date_2</th>\n",
       "      <th>bankruptcy_date_3</th>\n",
       "      <th>filing_date</th>\n",
       "      <th>ticker</th>\n",
       "      <th>exchange</th>\n",
       "      <th>gurufocus-stockid</th>\n",
       "      <th>gurufocus-company-name</th>\n",
       "      <th>first_match</th>\n",
       "      <th>cik-equal-gurufocus-cik</th>\n",
       "    </tr>\n",
       "  </thead>\n",
       "  <tbody>\n",
       "    <tr>\n",
       "      <th>0</th>\n",
       "      <td>0</td>\n",
       "      <td>1750</td>\n",
       "      <td>AAR CORP</td>\n",
       "      <td>1994-05-31</td>\n",
       "      <td>1004.0</td>\n",
       "      <td>31/05/1994</td>\n",
       "      <td>/1994/1750_10K_1994_0000912057-94-002818.json</td>\n",
       "      <td>Yes</td>\n",
       "      <td>False</td>\n",
       "      <td>train</td>\n",
       "      <td>NaN</td>\n",
       "      <td>NaN</td>\n",
       "      <td>NaN</td>\n",
       "      <td>1994-08-24</td>\n",
       "      <td>AIR</td>\n",
       "      <td>NYSE</td>\n",
       "      <td>US06AR</td>\n",
       "      <td>AAR Corp</td>\n",
       "      <td>NaN</td>\n",
       "      <td>NaN</td>\n",
       "    </tr>\n",
       "    <tr>\n",
       "      <th>1</th>\n",
       "      <td>1</td>\n",
       "      <td>1750</td>\n",
       "      <td>AAR CORP</td>\n",
       "      <td>1995-05-31</td>\n",
       "      <td>1004.0</td>\n",
       "      <td>31/05/1995</td>\n",
       "      <td>/1995/1750_10K_1995_0000912057-95-006316.json</td>\n",
       "      <td>Yes</td>\n",
       "      <td>False</td>\n",
       "      <td>train</td>\n",
       "      <td>NaN</td>\n",
       "      <td>NaN</td>\n",
       "      <td>NaN</td>\n",
       "      <td>1995-08-11</td>\n",
       "      <td>AIR</td>\n",
       "      <td>NYSE</td>\n",
       "      <td>US06AR</td>\n",
       "      <td>AAR Corp</td>\n",
       "      <td>NaN</td>\n",
       "      <td>NaN</td>\n",
       "    </tr>\n",
       "    <tr>\n",
       "      <th>2</th>\n",
       "      <td>2</td>\n",
       "      <td>1750</td>\n",
       "      <td>AAR CORP</td>\n",
       "      <td>1996-05-31</td>\n",
       "      <td>1004.0</td>\n",
       "      <td>31/05/1996</td>\n",
       "      <td>/1996/1750_10K_1996_0000912057-96-018355.json</td>\n",
       "      <td>Yes</td>\n",
       "      <td>False</td>\n",
       "      <td>train</td>\n",
       "      <td>NaN</td>\n",
       "      <td>NaN</td>\n",
       "      <td>NaN</td>\n",
       "      <td>1996-08-20</td>\n",
       "      <td>AIR</td>\n",
       "      <td>NYSE</td>\n",
       "      <td>US06AR</td>\n",
       "      <td>AAR Corp</td>\n",
       "      <td>NaN</td>\n",
       "      <td>NaN</td>\n",
       "    </tr>\n",
       "    <tr>\n",
       "      <th>3</th>\n",
       "      <td>3</td>\n",
       "      <td>1750</td>\n",
       "      <td>AAR CORP</td>\n",
       "      <td>1997-05-31</td>\n",
       "      <td>1004.0</td>\n",
       "      <td>31/05/1997</td>\n",
       "      <td>/1997/1750_10K_1997_0000912057-97-028915.json</td>\n",
       "      <td>Yes</td>\n",
       "      <td>False</td>\n",
       "      <td>train</td>\n",
       "      <td>NaN</td>\n",
       "      <td>NaN</td>\n",
       "      <td>NaN</td>\n",
       "      <td>1997-08-22</td>\n",
       "      <td>AIR</td>\n",
       "      <td>NYSE</td>\n",
       "      <td>US06AR</td>\n",
       "      <td>AAR Corp</td>\n",
       "      <td>NaN</td>\n",
       "      <td>NaN</td>\n",
       "    </tr>\n",
       "    <tr>\n",
       "      <th>4</th>\n",
       "      <td>4</td>\n",
       "      <td>1750</td>\n",
       "      <td>AAR CORP</td>\n",
       "      <td>1998-05-31</td>\n",
       "      <td>1004.0</td>\n",
       "      <td>31/05/1998</td>\n",
       "      <td>/1998/1750_10K_1998_0001047469-98-032283.json</td>\n",
       "      <td>Yes</td>\n",
       "      <td>False</td>\n",
       "      <td>train</td>\n",
       "      <td>NaN</td>\n",
       "      <td>NaN</td>\n",
       "      <td>NaN</td>\n",
       "      <td>1998-08-20</td>\n",
       "      <td>AIR</td>\n",
       "      <td>NYSE</td>\n",
       "      <td>US06AR</td>\n",
       "      <td>AAR Corp</td>\n",
       "      <td>NaN</td>\n",
       "      <td>NaN</td>\n",
       "    </tr>\n",
       "  </tbody>\n",
       "</table>\n",
       "</div>"
      ]
     },
     "execution_count": 22,
     "metadata": {},
     "output_type": "execute_result"
    }
   ],
   "execution_count": 22
  },
  {
   "metadata": {
    "ExecuteTime": {
     "end_time": "2024-05-12T07:40:27.176712Z",
     "start_time": "2024-05-12T07:40:27.171674Z"
    }
   },
   "cell_type": "code",
   "source": [
    "text = ''\n",
    "\n",
    "if True:\n",
    "    text = 'Discussion and Analysis of Financial Condition and Results of Operations\\nThe following discussion and analysis are meant to provide material information relevant to an assessment of the financial condition and results of operations of our company, including an evaluation of the amounts of cash flows from operations and outside resources, liquidity and certain other factors that may affect future results so as to allow investors to better view our company from management\\u2019s perspective. The following discussion and analysis of our financial condition and results of operations should be read together with our financial statements and the related notes and other financial information included elsewhere in this annual report on Form 10-K. Some of the information contained in this discussion and analysis or set forth elsewhere in this annual report on Form 10-K, including information with respect to our plans and strategy for our business and financing, includes forward-looking statements that involve risks and uncertainties. Carefully review the \\u201cForward-Looking Statements\\u201d and \\u201cRisk Factors\\u201d sections of this annual report on Form 10-K for a discussion of important factors that could cause actual results to differ materially from the results described in or implied by the forward-looking statements contained in the following discussion and analysis.\\nOverview\\nWe are a multi-national enterprise that leverages its proprietary data visualization technologies to design, develop, manufacture, distribute and service a broad range of products that acquire, store, analyze and present data in multiple formats. We organize our structure around a core set of competencies, including research and\\ndevelopment, manufacturing, service, marketing and distribution. We market and sell our products and services through the following two segments:\\n\\u2022\\nProduct Identification (\\u201cPI\\u201d) - offers color and monochromatic digital label printers, over-printers and custom OEM printers. PI also provides software to design, manage and print labeling and packaging images locally and across networked printing systems, as well as all related printing supplies such as pressure-sensitive labels, tags, inks, toners and thermal transfer ribbons used by digital printers. PI also provides on-site and remote service, spare parts and various service contracts.\\n\\u2022\\nTest and Measurement (\\u201cT&M\\u201d) - offers a suite of products and services that acquire data from local and networked data streams and sensors as well as wired and wireless networks. The T&M segment includes a line of aerospace printers used to print hard copies of data required for the safe and efficient operation of aircraft, including navigation maps, clearances, arrival and departure procedures, NOTAMS, flight itineraries, weather maps, performance data, passenger data, and various air traffic control data. Aerospace products also include aircraft networking systems for high-speed onboard data transfer. T&M also provides repairs, service and spare parts.\\nOn August 4, 2022, we completed the acquisition of Astro Machine, an Illinois-based manufacturer of printing equipment, including label printers, tabbers, conveyors, and envelope feeders, for aggregate consideration of $17.1 million. Astro Machine is reported as part of our PI segment beginning with the third quarter of fiscal 2023. Refer to Note 2, \\u201cAcquisition,\\u201d in our consolidated financial statements included elsewhere in this report for further details.\\nWe market and sell our products and services globally through a diverse distribution structure of direct sales personnel, manufacturers\\u2019 representatives and authorized dealers that deliver a full complement of branded products and services to customers in our respective markets. Our growth strategy centers on organic growth through product innovation made possible by research and development initiatives, as well as strategic acquisitions that fit into or complement existing core businesses. In fiscal 2023, 2022, and 2021, revenue from customers in various geographic areas outside the United States, primarily in Western Europe, Canada and Asia, amounted to $50.6 million, $49.3 million, and $45.1 million, respectively.\\nWe maintain an active program of product research and development. We spent approximately $6.8 million in both fiscal 2023 and 2022, and $6.2 million in fiscal 2021 on Company-sponsored product development. We are committed to continuous product development as essential to our organic growth and expect to continue our focus on research and development efforts in fiscal 2024 and beyond.'\n",
    "else:\n",
    "    pass"
   ],
   "id": "a6bc988172a1d209",
   "outputs": [],
   "execution_count": 23
  },
  {
   "metadata": {
    "ExecuteTime": {
     "end_time": "2024-05-12T07:40:30.688498Z",
     "start_time": "2024-05-12T07:40:30.684516Z"
    }
   },
   "cell_type": "code",
   "source": [
    "def generate_prompt(text_for_prompt):\n",
    "    return f\"You are a financial analyst, specialized in assessing companies' financial health and communicating with clients. I have the management discussion and analysis from a company's 10k report, and I would like to know the elements that could indicate its financial health. Provide a concise summary of the most important information from the investor perspective from the included text, focusing on information about financial performance (e.g., revenue, profitability, liquidity and capital resources), risks (industry Trends, competition, market fluctuations), or future outlook (e.g., growth strategies, acquisitions). Do not split to paragraphs, give just list of sentence that make a summary out of the text. Text: {text_for_prompt}, where text is a management's discussion and analysis section from a 10-K report, with a maximum length of around 15000 words. Try to generate answer with maximum length of 512 tokens.\""
   ],
   "id": "53c664357cbce9e",
   "outputs": [],
   "execution_count": 24
  },
  {
   "metadata": {
    "ExecuteTime": {
     "end_time": "2024-05-12T07:40:33.763386Z",
     "start_time": "2024-05-12T07:40:33.758542Z"
    }
   },
   "cell_type": "code",
   "source": "summarized_mda_sections_for_eligible_companies_in_range_directory = 'summarized_mda_sections_for_eligible_companies_in_range'",
   "id": "9c9dcf3f17e8ca25",
   "outputs": [],
   "execution_count": 25
  },
  {
   "metadata": {
    "ExecuteTime": {
     "end_time": "2024-05-12T07:40:35.723327Z",
     "start_time": "2024-05-12T07:40:35.708984Z"
    }
   },
   "cell_type": "code",
   "source": [
    "reports_filepaths = ecl_dataset_grouped_eligible_with_reports[['cik', 'report_filename_before_decision']].to_numpy()\n",
    "reports_filepaths[0]"
   ],
   "id": "ec3f4ac2bd15540b",
   "outputs": [
    {
     "data": {
      "text/plain": [
       "array([1800, '/2019/1800_10K_2019_0001104659-20-023904.json'],\n",
       "      dtype=object)"
      ]
     },
     "execution_count": 26,
     "metadata": {},
     "output_type": "execute_result"
    }
   ],
   "execution_count": 26
  },
  {
   "metadata": {
    "jupyter": {
     "is_executing": true
    },
    "ExecuteTime": {
     "start_time": "2024-05-12T07:40:50.261739Z"
    }
   },
   "cell_type": "code",
   "source": [
    "import json\n",
    "import time\n",
    "from tqdm import tqdm\n",
    "\n",
    "reports_directory = 'data'\n",
    "response_lengths = []\n",
    "\n",
    "cnt = 0\n",
    "requests_per_day_limit = 1500  # 1500\n",
    "requests_per_minute = 15\n",
    "requests_times_elapsed = []\n",
    "\n",
    "processed_files_count = 1711\n",
    "\n",
    "for row in tqdm(reports_filepaths[processed_files_count:requests_per_day_limit+processed_files_count]):\n",
    "    success = False\n",
    "    ex_counter = 0\n",
    "    while success is False:\n",
    "        try:\n",
    "            time.sleep(3.8)\n",
    "            start = time.time()\n",
    "            \n",
    "            cnt += 1\n",
    "            if cnt == 10:\n",
    "                break\n",
    "            \n",
    "            cik = row[0]\n",
    "            report_filename = row[1]\n",
    "            \n",
    "            # read reports as json file with open\n",
    "            with open(f'{reports_directory}/{report_filename}', 'r') as file:\n",
    "                report = file.read()\n",
    "                \n",
    "            parsed_report = json.loads(report)\n",
    "            item_7 = parsed_report['item_7']\n",
    "            \n",
    "            if len(item_7) == 0:\n",
    "                print(f'Empty item 7 for {cik}')\n",
    "                break\n",
    "            \n",
    "            has_content_proper_length = False\n",
    "            while has_content_proper_length is False:\n",
    "                response = model.generate_content(generate_prompt(item_7))\n",
    "                total_tokens = model.count_tokens(response.text).total_tokens\n",
    "                if total_tokens < 512:\n",
    "                    has_content_proper_length = True\n",
    "                    response_lengths.append(total_tokens)\n",
    "                    with open(f'{summarized_mda_sections_for_eligible_companies_in_range_directory}/{cik}-summarized_mda-tokens_{total_tokens}.txt', 'w') as file:\n",
    "                        file.write(response.text)\n",
    "                    \n",
    "                else:\n",
    "                    print('Content too long, trying again...')\n",
    "    \n",
    "            end = time.time()\n",
    "            requests_times_elapsed.append(round(end - start))\n",
    "                \n",
    "            success = True\n",
    "           \n",
    "        except Exception as ex:\n",
    "            print(ex)\n",
    "            success = False\n",
    "   "
   ],
   "id": "f2ec966aadba1c85",
   "outputs": [
    {
     "name": "stderr",
     "output_type": "stream",
     "text": [
      "  0%|          | 1/1500 [00:14<6:01:40, 14.48s/it]"
     ]
    },
    {
     "name": "stdout",
     "output_type": "stream",
     "text": [
      "Content too long, trying again...\n"
     ]
    },
    {
     "name": "stderr",
     "output_type": "stream",
     "text": [
      "  0%|          | 4/1500 [01:11<7:18:19, 17.58s/it]"
     ]
    },
    {
     "name": "stdout",
     "output_type": "stream",
     "text": [
      "Content too long, trying again...\n"
     ]
    }
   ],
   "execution_count": null
  },
  {
   "metadata": {},
   "cell_type": "code",
   "outputs": [],
   "execution_count": null,
   "source": [
    "import matplotlib.pyplot as plt\n",
    "tokens_counts = [int(filename.split('_')[-1].split('.')[0]) for filename in os.listdir(summarized_mda_sections_for_eligible_companies_in_range_directory)]\n",
    "\n",
    "plt.hist(tokens_counts, bins=50)"
   ],
   "id": "44f814d37400f988"
  },
  {
   "metadata": {},
   "cell_type": "code",
   "outputs": [],
   "execution_count": null,
   "source": [
    "# rerun process for too short texts\n",
    "# remove texts with empty item7\n",
    "\n",
    "too_short_texts_count = 0\n",
    "for filename in os.listdir(summarized_mda_sections_for_eligible_companies_in_range_directory):\n",
    "    success = False\n",
    "    while success is False:\n",
    "        try:\n",
    "            with open(f'{summarized_mda_sections_for_eligible_companies_in_range_directory}/{filename}', 'r') as file:\n",
    "                text = file.read()\n",
    "                \n",
    "                tokens_count = filename.split('_')[-1].split('.')[0]\n",
    "                \n",
    "                if tokens_count < 200:\n",
    "                    \n",
    "                    cik = filename.split('-')[0]\n",
    "                    too_short_texts_count += 1\n",
    "                    \n",
    "                    report_filename = ecl_dataset_grouped_eligible_with_reports.loc[ecl_dataset_grouped_eligible_with_reports['cik'] == int(cik)]['report_filename_before_decision'].values[0]\n",
    "                    \n",
    "                    parsed_report = json.loads(report)\n",
    "                    item_7 = parsed_report['item_7']\n",
    "                    \n",
    "                    if len(item_7) == 0:\n",
    "                        print(f'Empty item 7 for {cik}')\n",
    "                        break\n",
    "                    \n",
    "                    has_content_proper_length = False\n",
    "                    while has_content_proper_length is False:\n",
    "                        response = model.generate_content(generate_prompt(item_7))\n",
    "                        total_tokens = model.count_tokens(response.text).total_tokens\n",
    "                        if total_tokens < 512:\n",
    "                            has_content_proper_length = True\n",
    "                            response_lengths.append(total_tokens)\n",
    "                            with open(f'{summarized_mda_sections_for_eligible_companies_in_range_directory}/{cik}-summarized_mda-tokens_{total_tokens}.txt', 'w') as file:\n",
    "                                file.write(response.text)\n",
    "                                \n",
    "                            success = True\n",
    "                        else:\n",
    "                            print('Content too long, trying again...')\n",
    "        except Exception as ex:\n",
    "            success = False\n",
    "            print(ex)\n",
    "        "
   ],
   "id": "d9e32cdcec82b45d"
  },
  {
   "metadata": {},
   "cell_type": "code",
   "outputs": [],
   "execution_count": null,
   "source": [
    "import re\n",
    "\n",
    "def clean_markdown(text):\n",
    "  markdown_chars = [\"*\", \"_\", \"#\", \"~\", \"`\", \">\", \"=\", \"[\", \"]\"]\n",
    "  text = re.sub(f\"[{re.escape(''.join(markdown_chars))}]\", \"\", text)\n",
    "  text = re.sub(r\"\\n\", \"\", text)\n",
    "  \n",
    "  return text\n",
    "\n",
    "# Example usage\n",
    "text = \"\"\"\n",
    "*This is a **Markdown** example with* lists.\n",
    "- It has multiple paragraphs.\n",
    "\n",
    "> This is a quote.\n",
    "\n",
    "Will it work?\n",
    "Yes!\n",
    "\"\"\"\n",
    "cleaned_text = clean_markdown_and_sentences(text)\n",
    "print(cleaned_text)"
   ],
   "id": "d7c09f1bfa2bcf37"
  },
  {
   "metadata": {},
   "cell_type": "code",
   "outputs": [],
   "execution_count": null,
   "source": [
    "textual_data = pd.DataFrame(columns=['cik', 'text'])\n",
    "\n",
    "for filename in os.listdir(summarized_mda_sections_for_eligible_companies_in_range_directory):\n",
    "    with open(f'{summarized_mda_sections_for_eligible_companies_in_range_directory}/{filename}', 'r') as file:\n",
    "        text = file.read()\n",
    "        \n",
    "        text = clean_markdown(text)\n",
    "        \n",
    "        cik = int(filename.split('-')[0])\n",
    "        \n",
    "        textual_data = textual_data.append({'cik': cik, 'text': text}, ignore_index=True)\n",
    "        \n",
    "\n",
    "textual_data.to_csv(f'textual_data_{get_datetime_now()}.csv', index=False)\n",
    "textual_data.head()"
   ],
   "id": "6c126d952138e769"
  },
  {
   "metadata": {},
   "cell_type": "code",
   "outputs": [],
   "execution_count": null,
   "source": "len(textual_data)",
   "id": "e9a6d147cec257fe"
  },
  {
   "metadata": {},
   "cell_type": "code",
   "outputs": [],
   "execution_count": null,
   "source": [
    "# example result dataframes\n",
    "import pandas as pd\n",
    "\n",
    "data = {\n",
    "    'cik': range(1, 11),\n",
    "    'text': [\n",
    "        \"Company 1 is a leading tech innovator. Its recent product launch shows promise.\",\n",
    "        \"Company 2 faced supply chain disruptions.  This impacted quarterly earnings.\",\n",
    "        \"Company 3 acquired a smaller competitor, expanding market share.\",\n",
    "        \"Company 4's CEO announced retirement plans, causing stock volatility.\",\n",
    "        \"Company 5 is investing heavily in renewable energy projects.\",\n",
    "        \"Company 6 experienced a cyberattack, compromising sensitive data.\",\n",
    "        \"Company 7 reported record profits due to strong consumer demand.\",\n",
    "        \"Company 8 is facing regulatory scrutiny over environmental practices.\",\n",
    "        \"Company 9 launched a new marketing campaign to boost sales.\",\n",
    "        \"Company 10 settled a class-action lawsuit related to product safety.\"\n",
    "    ]\n",
    "}\n",
    "\n",
    "df = pd.DataFrame(data)\n",
    "print(df)\n",
    "\n",
    "df.to_csv('example_textual_data.csv', index=False)"
   ],
   "id": "4baa5a60c5e2cd4d"
  }
 ],
 "metadata": {
  "kernelspec": {
   "display_name": "Python 3",
   "language": "python",
   "name": "python3"
  },
  "language_info": {
   "codemirror_mode": {
    "name": "ipython",
    "version": 2
   },
   "file_extension": ".py",
   "mimetype": "text/x-python",
   "name": "python",
   "nbconvert_exporter": "python",
   "pygments_lexer": "ipython2",
   "version": "2.7.6"
  }
 },
 "nbformat": 4,
 "nbformat_minor": 5
}

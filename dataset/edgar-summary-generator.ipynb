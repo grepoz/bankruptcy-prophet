{
 "cells": [
  {
   "metadata": {
    "ExecuteTime": {
     "end_time": "2024-09-12T14:38:12.197937Z",
     "start_time": "2024-09-12T14:38:10.140765Z"
    }
   },
   "cell_type": "code",
   "source": [
    "import os\n",
    "import google.generativeai as genai\n",
    "import numpy as np\n",
    "import pandas as pd\n",
    "from tqdm import tqdm\n",
    "\n",
    "import warnings\n",
    "warnings.filterwarnings('ignore')"
   ],
   "id": "5bb2f3732f02c581",
   "outputs": [],
   "execution_count": 3
  },
  {
   "metadata": {
    "ExecuteTime": {
     "end_time": "2024-05-23T18:14:17.703954Z",
     "start_time": "2024-05-23T18:14:17.700571Z"
    }
   },
   "cell_type": "code",
   "source": [
    "GOOGLE_API_KEY = os.getenv('GOOGLE_API_KEY')\n",
    "genai.configure(api_key=GOOGLE_API_KEY)"
   ],
   "id": "63d88949ea17df10",
   "outputs": [],
   "execution_count": 2
  },
  {
   "metadata": {
    "ExecuteTime": {
     "end_time": "2024-05-23T18:14:18.612762Z",
     "start_time": "2024-05-23T18:14:17.704962Z"
    }
   },
   "cell_type": "code",
   "source": [
    "for m in genai.list_models():\n",
    "    if 'generateContent' in m.supported_generation_methods:\n",
    "        print(m.name)"
   ],
   "id": "624ad506bfaae32e",
   "outputs": [
    {
     "name": "stdout",
     "output_type": "stream",
     "text": [
      "models/gemini-1.0-pro\n",
      "models/gemini-1.0-pro-001\n",
      "models/gemini-1.0-pro-latest\n",
      "models/gemini-1.0-pro-vision-latest\n",
      "models/gemini-1.5-flash-001\n",
      "models/gemini-1.5-flash-latest\n",
      "models/gemini-1.5-pro-001\n",
      "models/gemini-1.5-pro-latest\n",
      "models/gemini-pro\n",
      "models/gemini-pro-vision\n"
     ]
    }
   ],
   "execution_count": 3
  },
  {
   "metadata": {
    "ExecuteTime": {
     "end_time": "2024-05-23T05:08:07.738084Z",
     "start_time": "2024-05-23T05:08:07.732349Z"
    }
   },
   "cell_type": "code",
   "source": "model = genai.GenerativeModel('gemini-1.5-pro-latest')",
   "id": "d75f3384778c0773",
   "outputs": [],
   "execution_count": 4
  },
  {
   "metadata": {
    "ExecuteTime": {
     "end_time": "2024-05-23T05:08:10.243833Z",
     "start_time": "2024-05-23T05:08:08.546650Z"
    }
   },
   "cell_type": "code",
   "source": "model.generate_content(\"Who is the president of the United States?\")",
   "id": "f8c56b00fc8afe61",
   "outputs": [
    {
     "data": {
      "text/plain": [
       "response:\n",
       "GenerateContentResponse(\n",
       "    done=True,\n",
       "    iterator=None,\n",
       "    result=glm.GenerateContentResponse({'candidates': [{'content': {'parts': [{'text': 'The current president of the United States is **Joe Biden**. \\n'}], 'role': 'model'}, 'finish_reason': 1, 'index': 0, 'safety_ratings': [{'category': 9, 'probability': 1, 'blocked': False}, {'category': 8, 'probability': 1, 'blocked': False}, {'category': 7, 'probability': 1, 'blocked': False}, {'category': 10, 'probability': 1, 'blocked': False}], 'token_count': 0, 'grounding_attributions': []}]}),\n",
       ")"
      ]
     },
     "execution_count": 5,
     "metadata": {},
     "output_type": "execute_result"
    }
   ],
   "execution_count": 5
  },
  {
   "metadata": {
    "ExecuteTime": {
     "end_time": "2024-09-04T20:35:01.885609Z",
     "start_time": "2024-09-04T20:35:01.671539Z"
    }
   },
   "cell_type": "code",
   "source": [
    "ecl_dataset = pd.read_csv('ECL_with_ticker_2024-04-19_14-35-21.csv')\n",
    "ecl_dataset.head()"
   ],
   "id": "bac1b3c7593f0be3",
   "outputs": [
    {
     "data": {
      "text/plain": [
       "   Unnamed: 0   cik   company period_of_report   gvkey    datadate  \\\n",
       "0           0  1750  AAR CORP       1994-05-31  1004.0  31/05/1994   \n",
       "1           1  1750  AAR CORP       1995-05-31  1004.0  31/05/1995   \n",
       "2           2  1750  AAR CORP       1996-05-31  1004.0  31/05/1996   \n",
       "3           3  1750  AAR CORP       1997-05-31  1004.0  31/05/1997   \n",
       "4           4  1750  AAR CORP       1998-05-31  1004.0  31/05/1998   \n",
       "\n",
       "                                        filename qualified  label  \\\n",
       "0  /1994/1750_10K_1994_0000912057-94-002818.json       Yes  False   \n",
       "1  /1995/1750_10K_1995_0000912057-95-006316.json       Yes  False   \n",
       "2  /1996/1750_10K_1996_0000912057-96-018355.json       Yes  False   \n",
       "3  /1997/1750_10K_1997_0000912057-97-028915.json       Yes  False   \n",
       "4  /1998/1750_10K_1998_0001047469-98-032283.json       Yes  False   \n",
       "\n",
       "  bankruptcy_prediction_split bankruptcy_date_1 bankruptcy_date_2  \\\n",
       "0                       train               NaN               NaN   \n",
       "1                       train               NaN               NaN   \n",
       "2                       train               NaN               NaN   \n",
       "3                       train               NaN               NaN   \n",
       "4                       train               NaN               NaN   \n",
       "\n",
       "  bankruptcy_date_3 filing_date ticker exchange gurufocus-stockid  \\\n",
       "0               NaN  1994-08-24    AIR     NYSE            US06AR   \n",
       "1               NaN  1995-08-11    AIR     NYSE            US06AR   \n",
       "2               NaN  1996-08-20    AIR     NYSE            US06AR   \n",
       "3               NaN  1997-08-22    AIR     NYSE            US06AR   \n",
       "4               NaN  1998-08-20    AIR     NYSE            US06AR   \n",
       "\n",
       "  gurufocus-company-name first_match cik-equal-gurufocus-cik  \n",
       "0               AAR Corp         NaN                     NaN  \n",
       "1               AAR Corp         NaN                     NaN  \n",
       "2               AAR Corp         NaN                     NaN  \n",
       "3               AAR Corp         NaN                     NaN  \n",
       "4               AAR Corp         NaN                     NaN  "
      ],
      "text/html": [
       "<div>\n",
       "<style scoped>\n",
       "    .dataframe tbody tr th:only-of-type {\n",
       "        vertical-align: middle;\n",
       "    }\n",
       "\n",
       "    .dataframe tbody tr th {\n",
       "        vertical-align: top;\n",
       "    }\n",
       "\n",
       "    .dataframe thead th {\n",
       "        text-align: right;\n",
       "    }\n",
       "</style>\n",
       "<table border=\"1\" class=\"dataframe\">\n",
       "  <thead>\n",
       "    <tr style=\"text-align: right;\">\n",
       "      <th></th>\n",
       "      <th>Unnamed: 0</th>\n",
       "      <th>cik</th>\n",
       "      <th>company</th>\n",
       "      <th>period_of_report</th>\n",
       "      <th>gvkey</th>\n",
       "      <th>datadate</th>\n",
       "      <th>filename</th>\n",
       "      <th>qualified</th>\n",
       "      <th>label</th>\n",
       "      <th>bankruptcy_prediction_split</th>\n",
       "      <th>bankruptcy_date_1</th>\n",
       "      <th>bankruptcy_date_2</th>\n",
       "      <th>bankruptcy_date_3</th>\n",
       "      <th>filing_date</th>\n",
       "      <th>ticker</th>\n",
       "      <th>exchange</th>\n",
       "      <th>gurufocus-stockid</th>\n",
       "      <th>gurufocus-company-name</th>\n",
       "      <th>first_match</th>\n",
       "      <th>cik-equal-gurufocus-cik</th>\n",
       "    </tr>\n",
       "  </thead>\n",
       "  <tbody>\n",
       "    <tr>\n",
       "      <th>0</th>\n",
       "      <td>0</td>\n",
       "      <td>1750</td>\n",
       "      <td>AAR CORP</td>\n",
       "      <td>1994-05-31</td>\n",
       "      <td>1004.0</td>\n",
       "      <td>31/05/1994</td>\n",
       "      <td>/1994/1750_10K_1994_0000912057-94-002818.json</td>\n",
       "      <td>Yes</td>\n",
       "      <td>False</td>\n",
       "      <td>train</td>\n",
       "      <td>NaN</td>\n",
       "      <td>NaN</td>\n",
       "      <td>NaN</td>\n",
       "      <td>1994-08-24</td>\n",
       "      <td>AIR</td>\n",
       "      <td>NYSE</td>\n",
       "      <td>US06AR</td>\n",
       "      <td>AAR Corp</td>\n",
       "      <td>NaN</td>\n",
       "      <td>NaN</td>\n",
       "    </tr>\n",
       "    <tr>\n",
       "      <th>1</th>\n",
       "      <td>1</td>\n",
       "      <td>1750</td>\n",
       "      <td>AAR CORP</td>\n",
       "      <td>1995-05-31</td>\n",
       "      <td>1004.0</td>\n",
       "      <td>31/05/1995</td>\n",
       "      <td>/1995/1750_10K_1995_0000912057-95-006316.json</td>\n",
       "      <td>Yes</td>\n",
       "      <td>False</td>\n",
       "      <td>train</td>\n",
       "      <td>NaN</td>\n",
       "      <td>NaN</td>\n",
       "      <td>NaN</td>\n",
       "      <td>1995-08-11</td>\n",
       "      <td>AIR</td>\n",
       "      <td>NYSE</td>\n",
       "      <td>US06AR</td>\n",
       "      <td>AAR Corp</td>\n",
       "      <td>NaN</td>\n",
       "      <td>NaN</td>\n",
       "    </tr>\n",
       "    <tr>\n",
       "      <th>2</th>\n",
       "      <td>2</td>\n",
       "      <td>1750</td>\n",
       "      <td>AAR CORP</td>\n",
       "      <td>1996-05-31</td>\n",
       "      <td>1004.0</td>\n",
       "      <td>31/05/1996</td>\n",
       "      <td>/1996/1750_10K_1996_0000912057-96-018355.json</td>\n",
       "      <td>Yes</td>\n",
       "      <td>False</td>\n",
       "      <td>train</td>\n",
       "      <td>NaN</td>\n",
       "      <td>NaN</td>\n",
       "      <td>NaN</td>\n",
       "      <td>1996-08-20</td>\n",
       "      <td>AIR</td>\n",
       "      <td>NYSE</td>\n",
       "      <td>US06AR</td>\n",
       "      <td>AAR Corp</td>\n",
       "      <td>NaN</td>\n",
       "      <td>NaN</td>\n",
       "    </tr>\n",
       "    <tr>\n",
       "      <th>3</th>\n",
       "      <td>3</td>\n",
       "      <td>1750</td>\n",
       "      <td>AAR CORP</td>\n",
       "      <td>1997-05-31</td>\n",
       "      <td>1004.0</td>\n",
       "      <td>31/05/1997</td>\n",
       "      <td>/1997/1750_10K_1997_0000912057-97-028915.json</td>\n",
       "      <td>Yes</td>\n",
       "      <td>False</td>\n",
       "      <td>train</td>\n",
       "      <td>NaN</td>\n",
       "      <td>NaN</td>\n",
       "      <td>NaN</td>\n",
       "      <td>1997-08-22</td>\n",
       "      <td>AIR</td>\n",
       "      <td>NYSE</td>\n",
       "      <td>US06AR</td>\n",
       "      <td>AAR Corp</td>\n",
       "      <td>NaN</td>\n",
       "      <td>NaN</td>\n",
       "    </tr>\n",
       "    <tr>\n",
       "      <th>4</th>\n",
       "      <td>4</td>\n",
       "      <td>1750</td>\n",
       "      <td>AAR CORP</td>\n",
       "      <td>1998-05-31</td>\n",
       "      <td>1004.0</td>\n",
       "      <td>31/05/1998</td>\n",
       "      <td>/1998/1750_10K_1998_0001047469-98-032283.json</td>\n",
       "      <td>Yes</td>\n",
       "      <td>False</td>\n",
       "      <td>train</td>\n",
       "      <td>NaN</td>\n",
       "      <td>NaN</td>\n",
       "      <td>NaN</td>\n",
       "      <td>1998-08-20</td>\n",
       "      <td>AIR</td>\n",
       "      <td>NYSE</td>\n",
       "      <td>US06AR</td>\n",
       "      <td>AAR Corp</td>\n",
       "      <td>NaN</td>\n",
       "      <td>NaN</td>\n",
       "    </tr>\n",
       "  </tbody>\n",
       "</table>\n",
       "</div>"
      ]
     },
     "execution_count": 3,
     "metadata": {},
     "output_type": "execute_result"
    }
   ],
   "execution_count": 3
  },
  {
   "metadata": {
    "ExecuteTime": {
     "end_time": "2024-09-04T20:35:05.281974Z",
     "start_time": "2024-09-04T20:35:05.260467Z"
    }
   },
   "cell_type": "code",
   "source": [
    "ecl_dataset_grouped = ecl_dataset.groupby('cik').agg({'bankruptcy_date_1': 'first', 'bankruptcy_date_2': 'first', 'bankruptcy_date_3': 'first','ticker': 'first', 'label': 'last', 'cik-equal-gurufocus-cik': 'last', 'filing_date': 'last'}).reset_index()\n",
    "ecl_dataset_grouped['is_bankruptcy_date_filled'] = ecl_dataset_grouped['bankruptcy_date_1'].notnull()\n",
    "ecl_dataset_grouped['is_bankruptcy_date_filled'].value_counts()"
   ],
   "id": "7e52fb46a7a9766e",
   "outputs": [
    {
     "data": {
      "text/plain": [
       "is_bankruptcy_date_filled\n",
       "False    8252\n",
       "True      891\n",
       "Name: count, dtype: int64"
      ]
     },
     "execution_count": 4,
     "metadata": {},
     "output_type": "execute_result"
    }
   ],
   "execution_count": 4
  },
  {
   "metadata": {},
   "cell_type": "markdown",
   "source": [
    "Download for each company that is eligible - it means that ticker matches, but company might be not in range & could have not enough variables or could have not enough years of data - the financial data in the date range of the bankruptcy date. \n",
    "\n",
    "If there are multiple bankruptcy dates, choose the last one. If there is no bankruptcy date, choose the last filing date."
   ],
   "id": "4bcf437e5dce8cc5"
  },
  {
   "metadata": {
    "ExecuteTime": {
     "end_time": "2024-09-04T20:35:13.211848Z",
     "start_time": "2024-09-04T20:35:13.202191Z"
    }
   },
   "cell_type": "code",
   "source": [
    "ecl_dataset_grouped_eligible = ecl_dataset_grouped[ecl_dataset_grouped['cik-equal-gurufocus-cik'] == True]\n",
    "print(len(ecl_dataset_grouped_eligible))\n",
    "ecl_dataset_grouped_eligible.head()"
   ],
   "id": "71be1df4b9e7d349",
   "outputs": [
    {
     "name": "stdout",
     "output_type": "stream",
     "text": [
      "5417\n"
     ]
    },
    {
     "data": {
      "text/plain": [
       "     cik bankruptcy_date_1 bankruptcy_date_2 bankruptcy_date_3 ticker  label  \\\n",
       "1   1800              None              None              None    ABT  False   \n",
       "6   2488              None              None              None    AMD  False   \n",
       "7   2491              None              None              None    BYI  False   \n",
       "8   2601              None              None              None   ARXX  False   \n",
       "10  2969              None              None              None    APD  False   \n",
       "\n",
       "   cik-equal-gurufocus-cik filing_date  is_bankruptcy_date_filled  \n",
       "1                     True  2021-02-19                      False  \n",
       "6                     True  2021-01-29                      False  \n",
       "7                     True  2014-08-29                      False  \n",
       "8                     True  2006-09-13                      False  \n",
       "10                    True  2021-11-18                      False  "
      ],
      "text/html": [
       "<div>\n",
       "<style scoped>\n",
       "    .dataframe tbody tr th:only-of-type {\n",
       "        vertical-align: middle;\n",
       "    }\n",
       "\n",
       "    .dataframe tbody tr th {\n",
       "        vertical-align: top;\n",
       "    }\n",
       "\n",
       "    .dataframe thead th {\n",
       "        text-align: right;\n",
       "    }\n",
       "</style>\n",
       "<table border=\"1\" class=\"dataframe\">\n",
       "  <thead>\n",
       "    <tr style=\"text-align: right;\">\n",
       "      <th></th>\n",
       "      <th>cik</th>\n",
       "      <th>bankruptcy_date_1</th>\n",
       "      <th>bankruptcy_date_2</th>\n",
       "      <th>bankruptcy_date_3</th>\n",
       "      <th>ticker</th>\n",
       "      <th>label</th>\n",
       "      <th>cik-equal-gurufocus-cik</th>\n",
       "      <th>filing_date</th>\n",
       "      <th>is_bankruptcy_date_filled</th>\n",
       "    </tr>\n",
       "  </thead>\n",
       "  <tbody>\n",
       "    <tr>\n",
       "      <th>1</th>\n",
       "      <td>1800</td>\n",
       "      <td>None</td>\n",
       "      <td>None</td>\n",
       "      <td>None</td>\n",
       "      <td>ABT</td>\n",
       "      <td>False</td>\n",
       "      <td>True</td>\n",
       "      <td>2021-02-19</td>\n",
       "      <td>False</td>\n",
       "    </tr>\n",
       "    <tr>\n",
       "      <th>6</th>\n",
       "      <td>2488</td>\n",
       "      <td>None</td>\n",
       "      <td>None</td>\n",
       "      <td>None</td>\n",
       "      <td>AMD</td>\n",
       "      <td>False</td>\n",
       "      <td>True</td>\n",
       "      <td>2021-01-29</td>\n",
       "      <td>False</td>\n",
       "    </tr>\n",
       "    <tr>\n",
       "      <th>7</th>\n",
       "      <td>2491</td>\n",
       "      <td>None</td>\n",
       "      <td>None</td>\n",
       "      <td>None</td>\n",
       "      <td>BYI</td>\n",
       "      <td>False</td>\n",
       "      <td>True</td>\n",
       "      <td>2014-08-29</td>\n",
       "      <td>False</td>\n",
       "    </tr>\n",
       "    <tr>\n",
       "      <th>8</th>\n",
       "      <td>2601</td>\n",
       "      <td>None</td>\n",
       "      <td>None</td>\n",
       "      <td>None</td>\n",
       "      <td>ARXX</td>\n",
       "      <td>False</td>\n",
       "      <td>True</td>\n",
       "      <td>2006-09-13</td>\n",
       "      <td>False</td>\n",
       "    </tr>\n",
       "    <tr>\n",
       "      <th>10</th>\n",
       "      <td>2969</td>\n",
       "      <td>None</td>\n",
       "      <td>None</td>\n",
       "      <td>None</td>\n",
       "      <td>APD</td>\n",
       "      <td>False</td>\n",
       "      <td>True</td>\n",
       "      <td>2021-11-18</td>\n",
       "      <td>False</td>\n",
       "    </tr>\n",
       "  </tbody>\n",
       "</table>\n",
       "</div>"
      ]
     },
     "execution_count": 5,
     "metadata": {},
     "output_type": "execute_result"
    }
   ],
   "execution_count": 5
  },
  {
   "metadata": {
    "ExecuteTime": {
     "end_time": "2024-09-04T20:35:23.951874Z",
     "start_time": "2024-09-04T20:35:23.930507Z"
    }
   },
   "cell_type": "code",
   "source": [
    "companies_eligible_to_financial_dataset = pd.read_csv('companies_eligible_to_financial_dataset_2024-04-19_14-47-55.csv')\n",
    "len(companies_eligible_to_financial_dataset)\n",
    "companies_eligible_to_financial_dataset.head()"
   ],
   "id": "207910c6dff89fc0",
   "outputs": [
    {
     "data": {
      "text/plain": [
       "   Unnamed: 0   cik                            company  label ticker  \\\n",
       "0           0  1800                ABBOTT LABORATORIES  False    ABT   \n",
       "1           1  2488         ADVANCED MICRO DEVICES INC  False    AMD   \n",
       "2           2  2491           BALLY TECHNOLOGIES, INC.  False    BYI   \n",
       "3           3  2601                       AEROFLEX INC  False   ARXX   \n",
       "4           4  2969  AIR PRODUCTS & CHEMICALS INC /DE/  False    APD   \n",
       "\n",
       "               gurufocus-company-name gurufocus-stockid filing_date  \\\n",
       "0                 Abbott Laboratories            US066X  2021-02-19   \n",
       "1          Advanced Micro Devices Inc            US022E  2021-01-29   \n",
       "2  Bally Technologies Inc  (Delisted)            US06R5  2014-08-29   \n",
       "3            Aeroflex Inc  (Delisted)            US026H  2006-09-13   \n",
       "4        Air Products & Chemicals Inc            US06DU  2021-11-18   \n",
       "\n",
       "   cik-equal-gurufocus-cik first_match  \n",
       "0                     True         NaN  \n",
       "1                     True         NaN  \n",
       "2                     True         NaN  \n",
       "3                     True         NaN  \n",
       "4                     True         NaN  "
      ],
      "text/html": [
       "<div>\n",
       "<style scoped>\n",
       "    .dataframe tbody tr th:only-of-type {\n",
       "        vertical-align: middle;\n",
       "    }\n",
       "\n",
       "    .dataframe tbody tr th {\n",
       "        vertical-align: top;\n",
       "    }\n",
       "\n",
       "    .dataframe thead th {\n",
       "        text-align: right;\n",
       "    }\n",
       "</style>\n",
       "<table border=\"1\" class=\"dataframe\">\n",
       "  <thead>\n",
       "    <tr style=\"text-align: right;\">\n",
       "      <th></th>\n",
       "      <th>Unnamed: 0</th>\n",
       "      <th>cik</th>\n",
       "      <th>company</th>\n",
       "      <th>label</th>\n",
       "      <th>ticker</th>\n",
       "      <th>gurufocus-company-name</th>\n",
       "      <th>gurufocus-stockid</th>\n",
       "      <th>filing_date</th>\n",
       "      <th>cik-equal-gurufocus-cik</th>\n",
       "      <th>first_match</th>\n",
       "    </tr>\n",
       "  </thead>\n",
       "  <tbody>\n",
       "    <tr>\n",
       "      <th>0</th>\n",
       "      <td>0</td>\n",
       "      <td>1800</td>\n",
       "      <td>ABBOTT LABORATORIES</td>\n",
       "      <td>False</td>\n",
       "      <td>ABT</td>\n",
       "      <td>Abbott Laboratories</td>\n",
       "      <td>US066X</td>\n",
       "      <td>2021-02-19</td>\n",
       "      <td>True</td>\n",
       "      <td>NaN</td>\n",
       "    </tr>\n",
       "    <tr>\n",
       "      <th>1</th>\n",
       "      <td>1</td>\n",
       "      <td>2488</td>\n",
       "      <td>ADVANCED MICRO DEVICES INC</td>\n",
       "      <td>False</td>\n",
       "      <td>AMD</td>\n",
       "      <td>Advanced Micro Devices Inc</td>\n",
       "      <td>US022E</td>\n",
       "      <td>2021-01-29</td>\n",
       "      <td>True</td>\n",
       "      <td>NaN</td>\n",
       "    </tr>\n",
       "    <tr>\n",
       "      <th>2</th>\n",
       "      <td>2</td>\n",
       "      <td>2491</td>\n",
       "      <td>BALLY TECHNOLOGIES, INC.</td>\n",
       "      <td>False</td>\n",
       "      <td>BYI</td>\n",
       "      <td>Bally Technologies Inc  (Delisted)</td>\n",
       "      <td>US06R5</td>\n",
       "      <td>2014-08-29</td>\n",
       "      <td>True</td>\n",
       "      <td>NaN</td>\n",
       "    </tr>\n",
       "    <tr>\n",
       "      <th>3</th>\n",
       "      <td>3</td>\n",
       "      <td>2601</td>\n",
       "      <td>AEROFLEX INC</td>\n",
       "      <td>False</td>\n",
       "      <td>ARXX</td>\n",
       "      <td>Aeroflex Inc  (Delisted)</td>\n",
       "      <td>US026H</td>\n",
       "      <td>2006-09-13</td>\n",
       "      <td>True</td>\n",
       "      <td>NaN</td>\n",
       "    </tr>\n",
       "    <tr>\n",
       "      <th>4</th>\n",
       "      <td>4</td>\n",
       "      <td>2969</td>\n",
       "      <td>AIR PRODUCTS &amp; CHEMICALS INC /DE/</td>\n",
       "      <td>False</td>\n",
       "      <td>APD</td>\n",
       "      <td>Air Products &amp; Chemicals Inc</td>\n",
       "      <td>US06DU</td>\n",
       "      <td>2021-11-18</td>\n",
       "      <td>True</td>\n",
       "      <td>NaN</td>\n",
       "    </tr>\n",
       "  </tbody>\n",
       "</table>\n",
       "</div>"
      ]
     },
     "execution_count": 6,
     "metadata": {},
     "output_type": "execute_result"
    }
   ],
   "execution_count": 6
  },
  {
   "metadata": {
    "ExecuteTime": {
     "end_time": "2024-09-04T20:35:26.729672Z",
     "start_time": "2024-09-04T20:35:26.720487Z"
    }
   },
   "cell_type": "code",
   "source": "len(companies_eligible_to_financial_dataset)",
   "id": "4bd9ac7b9f2a1cf9",
   "outputs": [
    {
     "data": {
      "text/plain": [
       "5417"
      ]
     },
     "execution_count": 7,
     "metadata": {},
     "output_type": "execute_result"
    }
   ],
   "execution_count": 7
  },
  {
   "metadata": {
    "ExecuteTime": {
     "end_time": "2024-09-04T20:35:29.343621Z",
     "start_time": "2024-09-04T20:35:29.340539Z"
    }
   },
   "cell_type": "code",
   "source": "final_financial_data_in_date_range_directory = 'final_financial_data_in_date_range'",
   "id": "d22cd4887b4e4a26",
   "outputs": [],
   "execution_count": 8
  },
  {
   "metadata": {
    "ExecuteTime": {
     "end_time": "2024-09-04T20:35:29.975325Z",
     "start_time": "2024-09-04T20:35:29.970445Z"
    }
   },
   "cell_type": "code",
   "source": [
    "def is_date_valid(value):\n",
    "  try:\n",
    "    date = pd.to_datetime(value)\n",
    "    if pd.isnull(date):\n",
    "      return False\n",
    "    return True\n",
    "  except (pd.errors.OutOfBoundsDatetime, ValueError):\n",
    "    return False"
   ],
   "id": "6b25b93f3f9a800e",
   "outputs": [],
   "execution_count": 9
  },
  {
   "metadata": {},
   "cell_type": "markdown",
   "source": "report_datetime_before_decision means the last date of the financial report that is right before bankruptcy date. If there is no bankruptcy date, it means the last date of the financial report that is right before the last filing date.",
   "id": "ee7ad2eec923b4f3"
  },
  {
   "metadata": {},
   "cell_type": "markdown",
   "source": "for companies that have single filing date, we will take the last report before that date, to have enough data.",
   "id": "23eb05fbdd079ef"
  },
  {
   "metadata": {
    "ExecuteTime": {
     "end_time": "2024-08-30T14:16:43.578336Z",
     "start_time": "2024-08-30T14:16:23.398279Z"
    }
   },
   "cell_type": "code",
   "source": [
    "eligible_companies_with_minimal_years_count = 0\n",
    "cnt_bankruptcies = []\n",
    "cnt_no_bankruptcies = 0\n",
    "no_date_found = 0\n",
    "single_filling_date_filenames = []\n",
    "not_found_date_filenames = []\n",
    "exceptions_count = 0\n",
    "exceptions = []\n",
    "\n",
    "for filename in os.listdir(final_financial_data_in_date_range_directory):\n",
    "    not_enough_years = False\n",
    "    try:\n",
    "        cik = int(filename.split('-')[0])\n",
    "        df = pd.read_csv(f'{final_financial_data_in_date_range_directory}/{filename}')\n",
    "        \n",
    "        bankruptcies = ecl_dataset.loc[ecl_dataset['cik'] == cik][['bankruptcy_date_1', 'bankruptcy_date_2', 'bankruptcy_date_3']]\n",
    "\n",
    "        bankruptcy_date = None\n",
    "        report_datetime_before_decision = None\n",
    "        does_company_went_bankrupt = True\n",
    "        if is_date_valid(bankruptcies['bankruptcy_date_3'].values[0]):\n",
    "            bankruptcy_date = bankruptcies['bankruptcy_date_3'].values[0]\n",
    "            cnt_bankruptcies.append(3)\n",
    "        elif is_date_valid(bankruptcies['bankruptcy_date_2'].values[0]):\n",
    "            bankruptcy_date = bankruptcies['bankruptcy_date_2'].values[0]\n",
    "            cnt_bankruptcies.append(2)\n",
    "        elif is_date_valid(bankruptcies['bankruptcy_date_1'].values[0]):\n",
    "            bankruptcy_date = bankruptcies['bankruptcy_date_1'].values[0]\n",
    "            cnt_bankruptcies.append(1)\n",
    "        else:\n",
    "            # if company didn't go bankrupt, then we need to find the last report before the last filing date\n",
    "            filing_dates_healthy_company = ecl_dataset.loc[ecl_dataset['cik'] == cik]['filing_date'].values\n",
    "            if 0 < len(filing_dates_healthy_company) < 2:\n",
    "                report_datetime_before_decision = filing_dates_healthy_company[-1]\n",
    "                not_enough_years = True\n",
    "            else:\n",
    "                report_datetime_before_decision = filing_dates_healthy_company[-2]\n",
    "                \n",
    "            cnt_no_bankruptcies += 1\n",
    "            does_company_went_bankrupt = False\n",
    "            \n",
    "        # if company go bankrupt, then we need to find the last report before bankruptcy date\n",
    "        if does_company_went_bankrupt:\n",
    "            filing_dates = ecl_dataset.loc[ecl_dataset['cik'] == cik]['filing_date'].values\n",
    "            report_datetimes_before_decision = [date for date in filing_dates if date < bankruptcy_date]\n",
    "            if len(report_datetimes_before_decision) == 0:\n",
    "                print(f'I No date found for {filename}')\n",
    "                no_date_found += 1\n",
    "                continue\n",
    "            else:\n",
    "                report_datetime_before_decision = filing_dates[-1]\n",
    "\n",
    "        report_filenames = ecl_dataset.loc[ecl_dataset['cik'] == cik][['filename', 'filing_date']]\n",
    "        report_filename_before_decision = report_filenames.loc[report_filenames['filing_date'] == report_datetime_before_decision]['filename'].values[0]\n",
    "\n",
    "        ecl_dataset_grouped_eligible.loc[ecl_dataset_grouped_eligible['cik'] == cik, 'report_datetime_before_decision'] = report_datetime_before_decision\n",
    "        ecl_dataset_grouped_eligible.loc[ecl_dataset_grouped_eligible['cik'] == cik, 'report_filename_before_decision'] = report_filename_before_decision\n",
    "        \n",
    "        if not_enough_years:\n",
    "            single_filling_date_filenames.append((cik, report_filename_before_decision))\n",
    "        \n",
    "    except Exception as ex:\n",
    "        exceptions_count += 1\n",
    "        exceptions.append(ex)\n",
    "        # print(ecl_dataset.loc[ecl_dataset['cik'] == cik]['filing_date'])\n",
    "        # print(filename)\n",
    "        # break"
   ],
   "id": "76e864ec7662c777",
   "outputs": [
    {
     "name": "stdout",
     "output_type": "stream",
     "text": [
      "I No date found for 1038914-US07QW_GSF.csv\n",
      "I No date found for 1040570-US03HZ_GEOY.csv\n",
      "I No date found for 1044566-US09MX_SUR.csv\n",
      "I No date found for 105634-US07BX_EME.csv\n",
      "I No date found for 109156-US0A79_ZLC.csv\n",
      "I No date found for 1109304-US0A7Y_ACKH.csv\n",
      "I No date found for 1172222-US03M7_HA.csv\n",
      "I No date found for 1224608-US06YA_CNO.csv\n",
      "I No date found for 1237941-US03MM_HAYZQ.csv\n",
      "I No date found for 1271193-US05FT_SPSX.csv\n",
      "I No date found for 1280191-US0M1U_NLEQ.csv\n",
      "I No date found for 1467858-US07OR_GM.csv\n",
      "I No date found for 1496048-US07ND_BPYU.csv\n",
      "I No date found for 1521332-US076N_APTV.csv\n",
      "I No date found for 1525221-US280H_VTOL.csv\n",
      "I No date found for 1530804-US09TL_TROX.csv\n",
      "I No date found for 1574532-US0A1Y_WCIC.csv\n",
      "I No date found for 1574815-US02DE_BMCH.csv\n",
      "I No date found for 1617667-US08NJ_NEFF.csv\n",
      "I No date found for 31978-US07AI_EE.csv\n",
      "I No date found for 3982-US06C9_ALY.csv\n",
      "I No date found for 50957-US0GS9_FBNIQ.csv\n",
      "I No date found for 52795-US06HJ_AXE.csv\n",
      "I No date found for 6071-US0BTD_AMESQ.csv\n",
      "I No date found for 701345-US0898_LCC.csv\n",
      "I No date found for 717605-US07XT_HXL.csv\n",
      "I No date found for 721083-US09HP_SII.csv\n",
      "I No date found for 757011-US09Y9_USG.csv\n",
      "I No date found for 794367-US08CG_M.csv\n",
      "I No date found for 80293-US08ZG_PDQ.csv\n",
      "I No date found for 812700-US007N_GCR.csv\n",
      "I No date found for 906163-US08TW_NVR.csv\n",
      "I No date found for 927914-US029B_AWGI.csv\n",
      "I No date found for 94673-US09LX_STK.csv\n",
      "I No date found for 97349-US09V8_TX.csv\n"
     ]
    }
   ],
   "execution_count": 12
  },
  {
   "metadata": {
    "ExecuteTime": {
     "end_time": "2024-05-23T05:09:04.419546Z",
     "start_time": "2024-05-23T05:09:04.414853Z"
    }
   },
   "cell_type": "code",
   "source": "single_filling_date_filenames[0:10]",
   "id": "6c04fce555bb1ac0",
   "outputs": [
    {
     "data": {
      "text/plain": [
       "[(1001316, '/2020/1001316_10K_2020_0001558370-21-002149.json'),\n",
       " (1001769, '/1996/1001769_10K_1996_0000950153-97-000557.json'),\n",
       " (1009379, '/2011/1009379_10K_2011_0001157523-12-001245.json'),\n",
       " (1013749, '/1998/1013749_10K_1998_0000929624-99-000852.json'),\n",
       " (101880, '/1995/101880_10K_1995_0000916641-96-000216.json'),\n",
       " (1019272, '/2014/1019272_10K_2014_0001144204-15-019729.json'),\n",
       " (1022832, '/1998/1022832_10K_1998_0000950153-99-000381.json'),\n",
       " (1024015, '/2004/1024015_10KSB_2004_0001104659-05-009083.json'),\n",
       " (1029142, '/2020/1029142_10K_2020_0001564590-21-008833.json'),\n",
       " (1029630, '/2009/1029630_10K_2009_0001065407-10-000181.json')]"
      ]
     },
     "execution_count": 14,
     "metadata": {},
     "output_type": "execute_result"
    }
   ],
   "execution_count": 14
  },
  {
   "metadata": {
    "ExecuteTime": {
     "end_time": "2024-08-30T14:16:43.581750Z",
     "start_time": "2024-08-30T14:16:43.578336Z"
    }
   },
   "cell_type": "code",
   "source": "print(f'No date found: {no_date_found}')",
   "id": "68fc0d4d713b6f37",
   "outputs": [
    {
     "name": "stdout",
     "output_type": "stream",
     "text": [
      "No date found: 35\n"
     ]
    }
   ],
   "execution_count": 13
  },
  {
   "metadata": {
    "ExecuteTime": {
     "end_time": "2024-08-30T14:16:47.210328Z",
     "start_time": "2024-08-30T14:16:47.206361Z"
    }
   },
   "cell_type": "code",
   "source": [
    "from collections import Counter\n",
    "cnt_bankruptcies = Counter(cnt_bankruptcies)\n",
    "cnt_bankruptcies.most_common(10)"
   ],
   "id": "c1cc6be3b1eed80d",
   "outputs": [
    {
     "data": {
      "text/plain": [
       "[(1, 310), (2, 20), (3, 1)]"
      ]
     },
     "execution_count": 14,
     "metadata": {},
     "output_type": "execute_result"
    }
   ],
   "execution_count": 14
  },
  {
   "metadata": {
    "ExecuteTime": {
     "end_time": "2024-08-30T14:16:59.140261Z",
     "start_time": "2024-08-30T14:16:59.120960Z"
    }
   },
   "cell_type": "code",
   "source": "len(ecl_dataset_grouped_eligible)",
   "id": "f8dc05900d7ba3f0",
   "outputs": [
    {
     "data": {
      "text/plain": [
       "5417"
      ]
     },
     "execution_count": 15,
     "metadata": {},
     "output_type": "execute_result"
    }
   ],
   "execution_count": 15
  },
  {
   "metadata": {
    "ExecuteTime": {
     "end_time": "2024-09-04T20:35:52.441092Z",
     "start_time": "2024-09-04T20:35:51.165536Z"
    }
   },
   "cell_type": "code",
   "source": "len(ecl_dataset_grouped_eligible[ecl_dataset_grouped_eligible['report_datetime_before_decision'].isnull()])",
   "id": "147643b276d248b3",
   "outputs": [
    {
     "ename": "KeyError",
     "evalue": "'report_datetime_before_decision'",
     "output_type": "error",
     "traceback": [
      "\u001B[1;31m---------------------------------------------------------------------------\u001B[0m",
      "\u001B[1;31mKeyError\u001B[0m                                  Traceback (most recent call last)",
      "File \u001B[1;32m~\\PycharmProjects\\bankruptcy-prophet\\venv\\Lib\\site-packages\\pandas\\core\\indexes\\base.py:3653\u001B[0m, in \u001B[0;36mIndex.get_loc\u001B[1;34m(self, key)\u001B[0m\n\u001B[0;32m   3652\u001B[0m \u001B[38;5;28;01mtry\u001B[39;00m:\n\u001B[1;32m-> 3653\u001B[0m     \u001B[38;5;28;01mreturn\u001B[39;00m \u001B[38;5;28;43mself\u001B[39;49m\u001B[38;5;241;43m.\u001B[39;49m\u001B[43m_engine\u001B[49m\u001B[38;5;241;43m.\u001B[39;49m\u001B[43mget_loc\u001B[49m\u001B[43m(\u001B[49m\u001B[43mcasted_key\u001B[49m\u001B[43m)\u001B[49m\n\u001B[0;32m   3654\u001B[0m \u001B[38;5;28;01mexcept\u001B[39;00m \u001B[38;5;167;01mKeyError\u001B[39;00m \u001B[38;5;28;01mas\u001B[39;00m err:\n",
      "File \u001B[1;32m~\\PycharmProjects\\bankruptcy-prophet\\venv\\Lib\\site-packages\\pandas\\_libs\\index.pyx:147\u001B[0m, in \u001B[0;36mpandas._libs.index.IndexEngine.get_loc\u001B[1;34m()\u001B[0m\n",
      "File \u001B[1;32m~\\PycharmProjects\\bankruptcy-prophet\\venv\\Lib\\site-packages\\pandas\\_libs\\index.pyx:176\u001B[0m, in \u001B[0;36mpandas._libs.index.IndexEngine.get_loc\u001B[1;34m()\u001B[0m\n",
      "File \u001B[1;32mpandas\\_libs\\hashtable_class_helper.pxi:7080\u001B[0m, in \u001B[0;36mpandas._libs.hashtable.PyObjectHashTable.get_item\u001B[1;34m()\u001B[0m\n",
      "File \u001B[1;32mpandas\\_libs\\hashtable_class_helper.pxi:7088\u001B[0m, in \u001B[0;36mpandas._libs.hashtable.PyObjectHashTable.get_item\u001B[1;34m()\u001B[0m\n",
      "\u001B[1;31mKeyError\u001B[0m: 'report_datetime_before_decision'",
      "\nThe above exception was the direct cause of the following exception:\n",
      "\u001B[1;31mKeyError\u001B[0m                                  Traceback (most recent call last)",
      "Cell \u001B[1;32mIn[10], line 1\u001B[0m\n\u001B[1;32m----> 1\u001B[0m \u001B[38;5;28mlen\u001B[39m(ecl_dataset_grouped_eligible[\u001B[43mecl_dataset_grouped_eligible\u001B[49m\u001B[43m[\u001B[49m\u001B[38;5;124;43m'\u001B[39;49m\u001B[38;5;124;43mreport_datetime_before_decision\u001B[39;49m\u001B[38;5;124;43m'\u001B[39;49m\u001B[43m]\u001B[49m\u001B[38;5;241m.\u001B[39misnull()])\n",
      "File \u001B[1;32m~\\PycharmProjects\\bankruptcy-prophet\\venv\\Lib\\site-packages\\pandas\\core\\frame.py:3761\u001B[0m, in \u001B[0;36mDataFrame.__getitem__\u001B[1;34m(self, key)\u001B[0m\n\u001B[0;32m   3759\u001B[0m \u001B[38;5;28;01mif\u001B[39;00m \u001B[38;5;28mself\u001B[39m\u001B[38;5;241m.\u001B[39mcolumns\u001B[38;5;241m.\u001B[39mnlevels \u001B[38;5;241m>\u001B[39m \u001B[38;5;241m1\u001B[39m:\n\u001B[0;32m   3760\u001B[0m     \u001B[38;5;28;01mreturn\u001B[39;00m \u001B[38;5;28mself\u001B[39m\u001B[38;5;241m.\u001B[39m_getitem_multilevel(key)\n\u001B[1;32m-> 3761\u001B[0m indexer \u001B[38;5;241m=\u001B[39m \u001B[38;5;28;43mself\u001B[39;49m\u001B[38;5;241;43m.\u001B[39;49m\u001B[43mcolumns\u001B[49m\u001B[38;5;241;43m.\u001B[39;49m\u001B[43mget_loc\u001B[49m\u001B[43m(\u001B[49m\u001B[43mkey\u001B[49m\u001B[43m)\u001B[49m\n\u001B[0;32m   3762\u001B[0m \u001B[38;5;28;01mif\u001B[39;00m is_integer(indexer):\n\u001B[0;32m   3763\u001B[0m     indexer \u001B[38;5;241m=\u001B[39m [indexer]\n",
      "File \u001B[1;32m~\\PycharmProjects\\bankruptcy-prophet\\venv\\Lib\\site-packages\\pandas\\core\\indexes\\base.py:3655\u001B[0m, in \u001B[0;36mIndex.get_loc\u001B[1;34m(self, key)\u001B[0m\n\u001B[0;32m   3653\u001B[0m     \u001B[38;5;28;01mreturn\u001B[39;00m \u001B[38;5;28mself\u001B[39m\u001B[38;5;241m.\u001B[39m_engine\u001B[38;5;241m.\u001B[39mget_loc(casted_key)\n\u001B[0;32m   3654\u001B[0m \u001B[38;5;28;01mexcept\u001B[39;00m \u001B[38;5;167;01mKeyError\u001B[39;00m \u001B[38;5;28;01mas\u001B[39;00m err:\n\u001B[1;32m-> 3655\u001B[0m     \u001B[38;5;28;01mraise\u001B[39;00m \u001B[38;5;167;01mKeyError\u001B[39;00m(key) \u001B[38;5;28;01mfrom\u001B[39;00m \u001B[38;5;21;01merr\u001B[39;00m\n\u001B[0;32m   3656\u001B[0m \u001B[38;5;28;01mexcept\u001B[39;00m \u001B[38;5;167;01mTypeError\u001B[39;00m:\n\u001B[0;32m   3657\u001B[0m     \u001B[38;5;66;03m# If we have a listlike key, _check_indexing_error will raise\u001B[39;00m\n\u001B[0;32m   3658\u001B[0m     \u001B[38;5;66;03m#  InvalidIndexError. Otherwise we fall through and re-raise\u001B[39;00m\n\u001B[0;32m   3659\u001B[0m     \u001B[38;5;66;03m#  the TypeError.\u001B[39;00m\n\u001B[0;32m   3660\u001B[0m     \u001B[38;5;28mself\u001B[39m\u001B[38;5;241m.\u001B[39m_check_indexing_error(key)\n",
      "\u001B[1;31mKeyError\u001B[0m: 'report_datetime_before_decision'"
     ]
    }
   ],
   "execution_count": 10
  },
  {
   "metadata": {
    "ExecuteTime": {
     "end_time": "2024-08-30T14:17:00.570876Z",
     "start_time": "2024-08-30T14:17:00.561557Z"
    }
   },
   "cell_type": "code",
   "source": "ecl_dataset_grouped_eligible['report_filename_before_decision'].isnull().sum()",
   "id": "794f76df34577e8d",
   "outputs": [
    {
     "data": {
      "text/plain": [
       "374"
      ]
     },
     "execution_count": 17,
     "metadata": {},
     "output_type": "execute_result"
    }
   ],
   "execution_count": 17
  },
  {
   "metadata": {
    "ExecuteTime": {
     "end_time": "2024-08-30T14:17:01.469892Z",
     "start_time": "2024-08-30T14:17:01.459302Z"
    }
   },
   "cell_type": "code",
   "source": [
    "ecl_dataset_grouped_eligible_with_reports = ecl_dataset_grouped_eligible.dropna(subset=['report_filename_before_decision'])\n",
    "print(len(ecl_dataset_grouped_eligible_with_reports))\n",
    "ecl_dataset_grouped_eligible_with_reports.head()"
   ],
   "id": "4ffe8b1314a72685",
   "outputs": [
    {
     "name": "stdout",
     "output_type": "stream",
     "text": [
      "5043\n"
     ]
    },
    {
     "data": {
      "text/plain": [
       "     cik bankruptcy_date_1 bankruptcy_date_2 bankruptcy_date_3     ticker  \\\n",
       "1   1800              None              None              None        ABT   \n",
       "6   2488              None              None              None        AMD   \n",
       "7   2491              None              None              None        BYI   \n",
       "10  2969              None              None              None        APD   \n",
       "15  3153              None              None              None  ALPpQ.PFD   \n",
       "\n",
       "    label cik-equal-gurufocus-cik filing_date  is_bankruptcy_date_filled  \\\n",
       "1   False                    True  2021-02-19                      False   \n",
       "6   False                    True  2021-01-29                      False   \n",
       "7   False                    True  2014-08-29                      False   \n",
       "10  False                    True  2021-11-18                      False   \n",
       "15  False                    True  2021-02-18                      False   \n",
       "\n",
       "   report_datetime_before_decision  \\\n",
       "1                       2020-02-21   \n",
       "6                       2020-02-04   \n",
       "7                       2013-08-28   \n",
       "10                      2020-11-19   \n",
       "15                      2020-02-20   \n",
       "\n",
       "                  report_filename_before_decision  \n",
       "1   /2019/1800_10K_2019_0001104659-20-023904.json  \n",
       "6   /2019/2488_10K_2019_0000002488-20-000008.json  \n",
       "7   /2013/2491_10K_2013_0001047469-13-008711.json  \n",
       "10  /2020/2969_10K_2020_0000002969-20-000049.json  \n",
       "15  /2019/3153_10K_2019_0000092122-20-000017.json  "
      ],
      "text/html": [
       "<div>\n",
       "<style scoped>\n",
       "    .dataframe tbody tr th:only-of-type {\n",
       "        vertical-align: middle;\n",
       "    }\n",
       "\n",
       "    .dataframe tbody tr th {\n",
       "        vertical-align: top;\n",
       "    }\n",
       "\n",
       "    .dataframe thead th {\n",
       "        text-align: right;\n",
       "    }\n",
       "</style>\n",
       "<table border=\"1\" class=\"dataframe\">\n",
       "  <thead>\n",
       "    <tr style=\"text-align: right;\">\n",
       "      <th></th>\n",
       "      <th>cik</th>\n",
       "      <th>bankruptcy_date_1</th>\n",
       "      <th>bankruptcy_date_2</th>\n",
       "      <th>bankruptcy_date_3</th>\n",
       "      <th>ticker</th>\n",
       "      <th>label</th>\n",
       "      <th>cik-equal-gurufocus-cik</th>\n",
       "      <th>filing_date</th>\n",
       "      <th>is_bankruptcy_date_filled</th>\n",
       "      <th>report_datetime_before_decision</th>\n",
       "      <th>report_filename_before_decision</th>\n",
       "    </tr>\n",
       "  </thead>\n",
       "  <tbody>\n",
       "    <tr>\n",
       "      <th>1</th>\n",
       "      <td>1800</td>\n",
       "      <td>None</td>\n",
       "      <td>None</td>\n",
       "      <td>None</td>\n",
       "      <td>ABT</td>\n",
       "      <td>False</td>\n",
       "      <td>True</td>\n",
       "      <td>2021-02-19</td>\n",
       "      <td>False</td>\n",
       "      <td>2020-02-21</td>\n",
       "      <td>/2019/1800_10K_2019_0001104659-20-023904.json</td>\n",
       "    </tr>\n",
       "    <tr>\n",
       "      <th>6</th>\n",
       "      <td>2488</td>\n",
       "      <td>None</td>\n",
       "      <td>None</td>\n",
       "      <td>None</td>\n",
       "      <td>AMD</td>\n",
       "      <td>False</td>\n",
       "      <td>True</td>\n",
       "      <td>2021-01-29</td>\n",
       "      <td>False</td>\n",
       "      <td>2020-02-04</td>\n",
       "      <td>/2019/2488_10K_2019_0000002488-20-000008.json</td>\n",
       "    </tr>\n",
       "    <tr>\n",
       "      <th>7</th>\n",
       "      <td>2491</td>\n",
       "      <td>None</td>\n",
       "      <td>None</td>\n",
       "      <td>None</td>\n",
       "      <td>BYI</td>\n",
       "      <td>False</td>\n",
       "      <td>True</td>\n",
       "      <td>2014-08-29</td>\n",
       "      <td>False</td>\n",
       "      <td>2013-08-28</td>\n",
       "      <td>/2013/2491_10K_2013_0001047469-13-008711.json</td>\n",
       "    </tr>\n",
       "    <tr>\n",
       "      <th>10</th>\n",
       "      <td>2969</td>\n",
       "      <td>None</td>\n",
       "      <td>None</td>\n",
       "      <td>None</td>\n",
       "      <td>APD</td>\n",
       "      <td>False</td>\n",
       "      <td>True</td>\n",
       "      <td>2021-11-18</td>\n",
       "      <td>False</td>\n",
       "      <td>2020-11-19</td>\n",
       "      <td>/2020/2969_10K_2020_0000002969-20-000049.json</td>\n",
       "    </tr>\n",
       "    <tr>\n",
       "      <th>15</th>\n",
       "      <td>3153</td>\n",
       "      <td>None</td>\n",
       "      <td>None</td>\n",
       "      <td>None</td>\n",
       "      <td>ALPpQ.PFD</td>\n",
       "      <td>False</td>\n",
       "      <td>True</td>\n",
       "      <td>2021-02-18</td>\n",
       "      <td>False</td>\n",
       "      <td>2020-02-20</td>\n",
       "      <td>/2019/3153_10K_2019_0000092122-20-000017.json</td>\n",
       "    </tr>\n",
       "  </tbody>\n",
       "</table>\n",
       "</div>"
      ]
     },
     "execution_count": 18,
     "metadata": {},
     "output_type": "execute_result"
    }
   ],
   "execution_count": 18
  },
  {
   "metadata": {
    "ExecuteTime": {
     "end_time": "2024-08-30T14:17:05.125164Z",
     "start_time": "2024-08-30T14:17:05.107308Z"
    }
   },
   "cell_type": "code",
   "source": [
    "import datetime\n",
    "def get_datetime_now():\n",
    "    return datetime.datetime.now().strftime(\"%Y-%m-%d_%H-%M-%S\")"
   ],
   "id": "57efc7188e34ea1",
   "outputs": [],
   "execution_count": 19
  },
  {
   "metadata": {
    "ExecuteTime": {
     "end_time": "2024-05-22T17:47:15.298236Z",
     "start_time": "2024-05-22T17:47:15.275752Z"
    }
   },
   "cell_type": "code",
   "source": "ecl_dataset_grouped_eligible_with_reports.to_csv(f'ecl_dataset_grouped_eligible_with_reports_{get_datetime_now()}.csv', index=False)",
   "id": "21b41aef79b4e3ff",
   "outputs": [],
   "execution_count": 28
  },
  {
   "metadata": {
    "ExecuteTime": {
     "end_time": "2024-05-23T05:09:04.747920Z",
     "start_time": "2024-05-23T05:09:04.547677Z"
    }
   },
   "cell_type": "code",
   "source": [
    "ecl_dataset = pd.read_csv('ECL_with_ticker_2024-04-19_14-35-21.csv')\n",
    "ecl_dataset.head()"
   ],
   "id": "e8c9dec7e7cd87bd",
   "outputs": [
    {
     "data": {
      "text/plain": [
       "   Unnamed: 0   cik   company period_of_report   gvkey    datadate  \\\n",
       "0           0  1750  AAR CORP       1994-05-31  1004.0  31/05/1994   \n",
       "1           1  1750  AAR CORP       1995-05-31  1004.0  31/05/1995   \n",
       "2           2  1750  AAR CORP       1996-05-31  1004.0  31/05/1996   \n",
       "3           3  1750  AAR CORP       1997-05-31  1004.0  31/05/1997   \n",
       "4           4  1750  AAR CORP       1998-05-31  1004.0  31/05/1998   \n",
       "\n",
       "                                        filename qualified  label  \\\n",
       "0  /1994/1750_10K_1994_0000912057-94-002818.json       Yes  False   \n",
       "1  /1995/1750_10K_1995_0000912057-95-006316.json       Yes  False   \n",
       "2  /1996/1750_10K_1996_0000912057-96-018355.json       Yes  False   \n",
       "3  /1997/1750_10K_1997_0000912057-97-028915.json       Yes  False   \n",
       "4  /1998/1750_10K_1998_0001047469-98-032283.json       Yes  False   \n",
       "\n",
       "  bankruptcy_prediction_split bankruptcy_date_1 bankruptcy_date_2  \\\n",
       "0                       train               NaN               NaN   \n",
       "1                       train               NaN               NaN   \n",
       "2                       train               NaN               NaN   \n",
       "3                       train               NaN               NaN   \n",
       "4                       train               NaN               NaN   \n",
       "\n",
       "  bankruptcy_date_3 filing_date ticker exchange gurufocus-stockid  \\\n",
       "0               NaN  1994-08-24    AIR     NYSE            US06AR   \n",
       "1               NaN  1995-08-11    AIR     NYSE            US06AR   \n",
       "2               NaN  1996-08-20    AIR     NYSE            US06AR   \n",
       "3               NaN  1997-08-22    AIR     NYSE            US06AR   \n",
       "4               NaN  1998-08-20    AIR     NYSE            US06AR   \n",
       "\n",
       "  gurufocus-company-name first_match cik-equal-gurufocus-cik  \n",
       "0               AAR Corp         NaN                     NaN  \n",
       "1               AAR Corp         NaN                     NaN  \n",
       "2               AAR Corp         NaN                     NaN  \n",
       "3               AAR Corp         NaN                     NaN  \n",
       "4               AAR Corp         NaN                     NaN  "
      ],
      "text/html": [
       "<div>\n",
       "<style scoped>\n",
       "    .dataframe tbody tr th:only-of-type {\n",
       "        vertical-align: middle;\n",
       "    }\n",
       "\n",
       "    .dataframe tbody tr th {\n",
       "        vertical-align: top;\n",
       "    }\n",
       "\n",
       "    .dataframe thead th {\n",
       "        text-align: right;\n",
       "    }\n",
       "</style>\n",
       "<table border=\"1\" class=\"dataframe\">\n",
       "  <thead>\n",
       "    <tr style=\"text-align: right;\">\n",
       "      <th></th>\n",
       "      <th>Unnamed: 0</th>\n",
       "      <th>cik</th>\n",
       "      <th>company</th>\n",
       "      <th>period_of_report</th>\n",
       "      <th>gvkey</th>\n",
       "      <th>datadate</th>\n",
       "      <th>filename</th>\n",
       "      <th>qualified</th>\n",
       "      <th>label</th>\n",
       "      <th>bankruptcy_prediction_split</th>\n",
       "      <th>bankruptcy_date_1</th>\n",
       "      <th>bankruptcy_date_2</th>\n",
       "      <th>bankruptcy_date_3</th>\n",
       "      <th>filing_date</th>\n",
       "      <th>ticker</th>\n",
       "      <th>exchange</th>\n",
       "      <th>gurufocus-stockid</th>\n",
       "      <th>gurufocus-company-name</th>\n",
       "      <th>first_match</th>\n",
       "      <th>cik-equal-gurufocus-cik</th>\n",
       "    </tr>\n",
       "  </thead>\n",
       "  <tbody>\n",
       "    <tr>\n",
       "      <th>0</th>\n",
       "      <td>0</td>\n",
       "      <td>1750</td>\n",
       "      <td>AAR CORP</td>\n",
       "      <td>1994-05-31</td>\n",
       "      <td>1004.0</td>\n",
       "      <td>31/05/1994</td>\n",
       "      <td>/1994/1750_10K_1994_0000912057-94-002818.json</td>\n",
       "      <td>Yes</td>\n",
       "      <td>False</td>\n",
       "      <td>train</td>\n",
       "      <td>NaN</td>\n",
       "      <td>NaN</td>\n",
       "      <td>NaN</td>\n",
       "      <td>1994-08-24</td>\n",
       "      <td>AIR</td>\n",
       "      <td>NYSE</td>\n",
       "      <td>US06AR</td>\n",
       "      <td>AAR Corp</td>\n",
       "      <td>NaN</td>\n",
       "      <td>NaN</td>\n",
       "    </tr>\n",
       "    <tr>\n",
       "      <th>1</th>\n",
       "      <td>1</td>\n",
       "      <td>1750</td>\n",
       "      <td>AAR CORP</td>\n",
       "      <td>1995-05-31</td>\n",
       "      <td>1004.0</td>\n",
       "      <td>31/05/1995</td>\n",
       "      <td>/1995/1750_10K_1995_0000912057-95-006316.json</td>\n",
       "      <td>Yes</td>\n",
       "      <td>False</td>\n",
       "      <td>train</td>\n",
       "      <td>NaN</td>\n",
       "      <td>NaN</td>\n",
       "      <td>NaN</td>\n",
       "      <td>1995-08-11</td>\n",
       "      <td>AIR</td>\n",
       "      <td>NYSE</td>\n",
       "      <td>US06AR</td>\n",
       "      <td>AAR Corp</td>\n",
       "      <td>NaN</td>\n",
       "      <td>NaN</td>\n",
       "    </tr>\n",
       "    <tr>\n",
       "      <th>2</th>\n",
       "      <td>2</td>\n",
       "      <td>1750</td>\n",
       "      <td>AAR CORP</td>\n",
       "      <td>1996-05-31</td>\n",
       "      <td>1004.0</td>\n",
       "      <td>31/05/1996</td>\n",
       "      <td>/1996/1750_10K_1996_0000912057-96-018355.json</td>\n",
       "      <td>Yes</td>\n",
       "      <td>False</td>\n",
       "      <td>train</td>\n",
       "      <td>NaN</td>\n",
       "      <td>NaN</td>\n",
       "      <td>NaN</td>\n",
       "      <td>1996-08-20</td>\n",
       "      <td>AIR</td>\n",
       "      <td>NYSE</td>\n",
       "      <td>US06AR</td>\n",
       "      <td>AAR Corp</td>\n",
       "      <td>NaN</td>\n",
       "      <td>NaN</td>\n",
       "    </tr>\n",
       "    <tr>\n",
       "      <th>3</th>\n",
       "      <td>3</td>\n",
       "      <td>1750</td>\n",
       "      <td>AAR CORP</td>\n",
       "      <td>1997-05-31</td>\n",
       "      <td>1004.0</td>\n",
       "      <td>31/05/1997</td>\n",
       "      <td>/1997/1750_10K_1997_0000912057-97-028915.json</td>\n",
       "      <td>Yes</td>\n",
       "      <td>False</td>\n",
       "      <td>train</td>\n",
       "      <td>NaN</td>\n",
       "      <td>NaN</td>\n",
       "      <td>NaN</td>\n",
       "      <td>1997-08-22</td>\n",
       "      <td>AIR</td>\n",
       "      <td>NYSE</td>\n",
       "      <td>US06AR</td>\n",
       "      <td>AAR Corp</td>\n",
       "      <td>NaN</td>\n",
       "      <td>NaN</td>\n",
       "    </tr>\n",
       "    <tr>\n",
       "      <th>4</th>\n",
       "      <td>4</td>\n",
       "      <td>1750</td>\n",
       "      <td>AAR CORP</td>\n",
       "      <td>1998-05-31</td>\n",
       "      <td>1004.0</td>\n",
       "      <td>31/05/1998</td>\n",
       "      <td>/1998/1750_10K_1998_0001047469-98-032283.json</td>\n",
       "      <td>Yes</td>\n",
       "      <td>False</td>\n",
       "      <td>train</td>\n",
       "      <td>NaN</td>\n",
       "      <td>NaN</td>\n",
       "      <td>NaN</td>\n",
       "      <td>1998-08-20</td>\n",
       "      <td>AIR</td>\n",
       "      <td>NYSE</td>\n",
       "      <td>US06AR</td>\n",
       "      <td>AAR Corp</td>\n",
       "      <td>NaN</td>\n",
       "      <td>NaN</td>\n",
       "    </tr>\n",
       "  </tbody>\n",
       "</table>\n",
       "</div>"
      ]
     },
     "execution_count": 21,
     "metadata": {},
     "output_type": "execute_result"
    }
   ],
   "execution_count": 21
  },
  {
   "metadata": {
    "ExecuteTime": {
     "end_time": "2024-05-23T05:09:06.885610Z",
     "start_time": "2024-05-23T05:09:06.880696Z"
    }
   },
   "cell_type": "code",
   "source": [
    "def generate_prompt(text_for_prompt):\n",
    "    return f\"You are a financial analyst, specialized in assessing companies' financial health and communicating with clients. I have the management discussion and analysis from a company's 10k report, and I would like to know the elements that could indicate its financial health. Provide a concise summary of the most important information from the investor perspective from the included text, focusing on information about financial performance (e.g., revenue, profitability, liquidity and capital resources), risks (industry Trends, competition, market fluctuations), or future outlook (e.g., growth strategies, acquisitions). Do not split to paragraphs, give just list of sentence that make a summary out of the text. Text: {text_for_prompt}, where text is a management's discussion and analysis section from a 10-K report, with a maximum length of around 15000 words. Try to generate answer between 256 and 512 tokens length.\""
   ],
   "id": "53c664357cbce9e",
   "outputs": [],
   "execution_count": 22
  },
  {
   "metadata": {
    "ExecuteTime": {
     "end_time": "2024-09-12T14:37:59.286349Z",
     "start_time": "2024-09-12T14:37:59.274782Z"
    }
   },
   "cell_type": "code",
   "source": "summarized_mda_sections_for_eligible_companies_in_range_directory = 'summarized_mda_sections_for_eligible_companies_in_range'",
   "id": "9c9dcf3f17e8ca25",
   "outputs": [],
   "execution_count": 1
  },
  {
   "metadata": {
    "ExecuteTime": {
     "end_time": "2024-08-30T14:17:10.233473Z",
     "start_time": "2024-08-30T14:17:10.224776Z"
    }
   },
   "cell_type": "code",
   "source": [
    "reports_filepaths = ecl_dataset_grouped_eligible_with_reports[['cik', 'report_filename_before_decision']].to_numpy()\n",
    "reports_filepaths[0]"
   ],
   "id": "ec3f4ac2bd15540b",
   "outputs": [
    {
     "data": {
      "text/plain": [
       "array([1800, '/2019/1800_10K_2019_0001104659-20-023904.json'],\n",
       "      dtype=object)"
      ]
     },
     "execution_count": 20,
     "metadata": {},
     "output_type": "execute_result"
    }
   ],
   "execution_count": 20
  },
  {
   "metadata": {
    "ExecuteTime": {
     "end_time": "2024-08-30T14:17:21.042905Z",
     "start_time": "2024-08-30T14:17:21.034760Z"
    }
   },
   "cell_type": "code",
   "source": "len(reports_filepaths)",
   "id": "6ac3bede437b1d8e",
   "outputs": [
    {
     "data": {
      "text/plain": [
       "5043"
      ]
     },
     "execution_count": 21,
     "metadata": {},
     "output_type": "execute_result"
    }
   ],
   "execution_count": 21
  },
  {
   "metadata": {},
   "cell_type": "markdown",
   "source": "Text dataset analysis",
   "id": "800950e27088db07"
  },
  {
   "metadata": {
    "ExecuteTime": {
     "end_time": "2024-08-30T14:53:03.653951Z",
     "start_time": "2024-08-30T14:52:55.745827Z"
    }
   },
   "cell_type": "code",
   "source": [
    "import json\n",
    "import time\n",
    "from tqdm import tqdm\n",
    "\n",
    "reports_length = []\n",
    "\n",
    "for cik, report_filename in tqdm(reports_filepaths):\n",
    "    try:\n",
    "        with open(f'data/{report_filename}', 'r') as file:\n",
    "            report = file.read()\n",
    "\n",
    "        parsed_report = json.loads(report)\n",
    "        item_7 = parsed_report['item_7']\n",
    "        \n",
    "        if len(item_7) == 0:\n",
    "            continue\n",
    "            \n",
    "        # get length of the text in the item 7 in words\n",
    "        words = item_7.split()\n",
    "        reports_length.append(len(words))\n",
    "        \n",
    "    except Exception as ex:\n",
    "        print(ex)"
   ],
   "id": "a4131e461b95a597",
   "outputs": [
    {
     "name": "stderr",
     "output_type": "stream",
     "text": [
      "100%|██████████| 5043/5043 [00:07<00:00, 638.00it/s]\n"
     ]
    }
   ],
   "execution_count": 29
  },
  {
   "metadata": {
    "ExecuteTime": {
     "end_time": "2024-08-30T14:53:03.659062Z",
     "start_time": "2024-08-30T14:53:03.653951Z"
    }
   },
   "cell_type": "code",
   "source": "reports_length[0:10]",
   "id": "a071b7fe2686fcac",
   "outputs": [
    {
     "data": {
      "text/plain": [
       "[12992, 4050, 9182, 12831, 130, 7485, 11199, 7718, 5352, 7983]"
      ]
     },
     "execution_count": 30,
     "metadata": {},
     "output_type": "execute_result"
    }
   ],
   "execution_count": 30
  },
  {
   "metadata": {
    "ExecuteTime": {
     "end_time": "2024-08-30T14:53:03.663978Z",
     "start_time": "2024-08-30T14:53:03.659062Z"
    }
   },
   "cell_type": "code",
   "source": "len(reports_length)",
   "id": "971ba1cfb8d9a281",
   "outputs": [
    {
     "data": {
      "text/plain": [
       "4996"
      ]
     },
     "execution_count": 31,
     "metadata": {},
     "output_type": "execute_result"
    }
   ],
   "execution_count": 31
  },
  {
   "metadata": {
    "ExecuteTime": {
     "end_time": "2024-08-30T14:53:03.670265Z",
     "start_time": "2024-08-30T14:53:03.663978Z"
    }
   },
   "cell_type": "code",
   "source": [
    "import numpy as np\n",
    "np.mean(reports_length)"
   ],
   "id": "cc3480ae735a0c5c",
   "outputs": [
    {
     "data": {
      "text/plain": [
       "9768.119895916734"
      ]
     },
     "execution_count": 32,
     "metadata": {},
     "output_type": "execute_result"
    }
   ],
   "execution_count": 32
  },
  {
   "metadata": {},
   "cell_type": "code",
   "source": [
    "import json\n",
    "import time\n",
    "from tqdm import tqdm\n",
    "\n",
    "reports_directory = 'data'\n",
    "response_lengths = []\n",
    "\n",
    "cnt = 0\n",
    "requests_per_day_limit = 1500\n",
    "requests_per_minute = 15\n",
    "requests_times_elapsed = []\n",
    "\n",
    "not_processed_files_after_too_many_attempts = pd.read_csv('not_processed_files_after_too_many_attempts_1.csv')\n",
    "\n",
    "processed_files_count = 201\n",
    "\n",
    "not_processed_files_after_too_many_attempts_list = not_processed_files_after_too_many_attempts.to_numpy()\n",
    "\n",
    "for row in tqdm(not_processed_files_after_too_many_attempts_list):\n",
    "    success = False\n",
    "    ex_counter = 0\n",
    "    while success is False:\n",
    "        try:\n",
    "            time.sleep(3.8)\n",
    "            \n",
    "            cnt += 1\n",
    "            if cnt == 10:\n",
    "                break\n",
    "            \n",
    "            cik = row[0]\n",
    "            report_filename = row[1]\n",
    "            file_to_read = f'{reports_directory}{report_filename}'\n",
    "            with open(file_to_read, 'r') as file:\n",
    "                report = file.read()\n",
    "                \n",
    "            parsed_report = json.loads(report)\n",
    "            item_7 = parsed_report['item_7']\n",
    "            \n",
    "            if len(item_7) == 0:\n",
    "                print(f'Empty item 7 for {cik}')\n",
    "                break\n",
    "            \n",
    "            has_content_proper_length = False\n",
    "            while has_content_proper_length is False:\n",
    "                response = model.generate_content(generate_prompt(item_7))\n",
    "                total_tokens = model.count_tokens(response.text).total_tokens\n",
    "                if 255 < total_tokens < 512:\n",
    "                    has_content_proper_length = True\n",
    "                    response_lengths.append(total_tokens)\n",
    "                    with open(f'{summarized_mda_sections_for_eligible_companies_in_range_directory}/{cik}-summarized_mda-tokens_{total_tokens}.txt', 'w') as file:\n",
    "                        file.write(response.text)\n",
    "                    \n",
    "                else:\n",
    "                    print('Content too long/short, trying again...')\n",
    "                    ex_counter += 1\n",
    "                if ex_counter == 5:\n",
    "                    print('Too many exceptions, breaking. cik: {cik}, filename: {report_filename}')\n",
    "                    \n",
    "                    not_processed_files_after_too_many_attempts = pd.concat([not_processed_files_after_too_many_attempts, pd.DataFrame([{'cik': cik, 'report_filename': report_filename}])], ignore_index=True)\n",
    "                    break\n",
    "\n",
    "            success = True\n",
    "           \n",
    "        except Exception as ex:\n",
    "            print(ex)\n",
    "            success = False\n",
    "   \n",
    "not_processed_files_after_too_many_attempts.to_csv(f'not_processed_files_after_too_many_attempts_1.csv', index=False)"
   ],
   "id": "f2ec966aadba1c85",
   "outputs": [],
   "execution_count": null
  },
  {
   "metadata": {
    "ExecuteTime": {
     "end_time": "2024-05-23T06:41:03.166001Z",
     "start_time": "2024-05-23T06:41:03.159006Z"
    }
   },
   "cell_type": "code",
   "source": "not_processed_files_after_too_many_attempts.to_csv('not_processed_files_after_too_many_attempts_1.csv', index=False)",
   "id": "9230890089cba1ec",
   "outputs": [],
   "execution_count": 28
  },
  {
   "metadata": {
    "ExecuteTime": {
     "end_time": "2024-05-23T07:20:43.150190Z",
     "start_time": "2024-05-23T07:20:43.143851Z"
    }
   },
   "cell_type": "code",
   "source": "len(not_processed_files_after_too_many_attempts['cik'].unique())",
   "id": "64df9be1645174ff",
   "outputs": [
    {
     "data": {
      "text/plain": [
       "32"
      ]
     },
     "execution_count": 32,
     "metadata": {},
     "output_type": "execute_result"
    }
   ],
   "execution_count": 32
  },
  {
   "metadata": {},
   "cell_type": "code",
   "outputs": [],
   "execution_count": null,
   "source": "# TODO get accidentally not processed files",
   "id": "4abea46b2b207dd0"
  },
  {
   "metadata": {
    "ExecuteTime": {
     "end_time": "2024-09-12T14:41:25.380034Z",
     "start_time": "2024-09-12T14:41:25.245343Z"
    }
   },
   "cell_type": "code",
   "source": [
    "import matplotlib.pyplot as plt\n",
    "tokens_counts = [int(filename.split('_')[-1].split('.')[0]) for filename in os.listdir(summarized_mda_sections_for_eligible_companies_in_range_directory)]\n",
    "\n",
    "plt.hist(tokens_counts, bins=50)\n",
    "plt.title('Histogram liczby tokenów')\n",
    "plt.xlabel('Liczba tokenów')\n",
    "plt.ylabel('Liczba streszczeń')\n",
    "plt.show()"
   ],
   "id": "44f814d37400f988",
   "outputs": [
    {
     "data": {
      "text/plain": [
       "<Figure size 640x480 with 1 Axes>"
      ],
      "image/png": "[encoded data removed]"
     },
     "metadata": {},
     "output_type": "display_data"
    }
   ],
   "execution_count": 6
  },
  {
   "metadata": {
    "ExecuteTime": {
     "end_time": "2024-05-23T18:15:26.523287Z",
     "start_time": "2024-05-23T18:15:26.245213Z"
    }
   },
   "cell_type": "code",
   "source": [
    "tokens_cnt = Counter(tokens_counts)\n",
    "# get all count below 200\n",
    "sum([v for k, v in tokens_cnt.items() if k < 256])\n"
   ],
   "id": "fbacdc26ee90b2be",
   "outputs": [
    {
     "ename": "NameError",
     "evalue": "name 'Counter' is not defined",
     "output_type": "error",
     "traceback": [
      "\u001B[1;31m---------------------------------------------------------------------------\u001B[0m",
      "\u001B[1;31mNameError\u001B[0m                                 Traceback (most recent call last)",
      "Cell \u001B[1;32mIn[6], line 1\u001B[0m\n\u001B[1;32m----> 1\u001B[0m tokens_cnt \u001B[38;5;241m=\u001B[39m \u001B[43mCounter\u001B[49m(tokens_counts)\n\u001B[0;32m      2\u001B[0m \u001B[38;5;66;03m# get all count below 200\u001B[39;00m\n\u001B[0;32m      3\u001B[0m \u001B[38;5;28msum\u001B[39m([v \u001B[38;5;28;01mfor\u001B[39;00m k, v \u001B[38;5;129;01min\u001B[39;00m tokens_cnt\u001B[38;5;241m.\u001B[39mitems() \u001B[38;5;28;01mif\u001B[39;00m k \u001B[38;5;241m<\u001B[39m \u001B[38;5;241m256\u001B[39m])\n",
      "\u001B[1;31mNameError\u001B[0m: name 'Counter' is not defined"
     ]
    }
   ],
   "execution_count": 6
  },
  {
   "metadata": {
    "ExecuteTime": {
     "end_time": "2024-05-20T20:06:47.027066Z",
     "start_time": "2024-05-20T20:06:43.077398Z"
    }
   },
   "cell_type": "code",
   "source": [
    "# rerun process for too short texts\n",
    "# remove texts with empty item7\n",
    "\n",
    "filenames = os.listdir(summarized_mda_sections_for_eligible_companies_in_range_directory)\n",
    "\n",
    "for filename in tqdm(filenames):\n",
    "    success = False\n",
    "    while success is False:\n",
    "        \n",
    "        tokens_count = filename.split('_')[-1].split('.')[0]\n",
    "        \n",
    "        if int(tokens_count) > 199:\n",
    "            break\n",
    "            \n",
    "        time.sleep(3.9)\n",
    "        \n",
    "        try:\n",
    "            with open(f'{summarized_mda_sections_for_eligible_companies_in_range_directory}/{filename}', 'r') as file:\n",
    "                text = file.read()\n",
    "                \n",
    "\n",
    "                cik = filename.split('-')[0]\n",
    "                \n",
    "                report_filename = ecl_dataset_grouped_eligible_with_reports.loc[ecl_dataset_grouped_eligible_with_reports['cik'] == int(cik)]['report_filename_before_decision'].values[0]\n",
    "                \n",
    "                parsed_report = json.loads(report)\n",
    "                item_7 = parsed_report['item_7']\n",
    "                \n",
    "                if len(item_7) == 0:\n",
    "                    print(f'Empty item 7 for {cik}')\n",
    "                    break\n",
    "                                        \n",
    "                has_content_proper_length = False\n",
    "                while has_content_proper_length is False:\n",
    "                    response = model.generate_content(generate_prompt(item_7))\n",
    "                    total_tokens = model.count_tokens(response.text).total_tokens\n",
    "                    if 512 > total_tokens > 199:\n",
    "                        has_content_proper_length = True\n",
    "                        response_lengths.append(total_tokens)\n",
    "                        with open(f'{summarized_mda_sections_for_eligible_companies_in_range_directory}/{cik}-summarized_mda-tokens_{total_tokens}.txt', 'w') as f:\n",
    "                            f.write(response.text)\n",
    "                            \n",
    "                        success = True\n",
    "                    else:\n",
    "                        print('Content too long/short, trying again...')\n",
    "        except Exception as ex:\n",
    "            success = False\n",
    "            print(ex)\n",
    "        "
   ],
   "id": "d9e32cdcec82b45d",
   "outputs": [
    {
     "name": "stderr",
     "output_type": "stream",
     "text": [
      "  0%|          | 24/4923 [00:03<13:16,  6.15it/s]\n"
     ]
    },
    {
     "ename": "KeyboardInterrupt",
     "evalue": "",
     "output_type": "error",
     "traceback": [
      "\u001B[1;31m---------------------------------------------------------------------------\u001B[0m",
      "\u001B[1;31mKeyboardInterrupt\u001B[0m                         Traceback (most recent call last)",
      "Cell \u001B[1;32mIn[55], line 15\u001B[0m\n\u001B[0;32m     12\u001B[0m \u001B[38;5;28;01mif\u001B[39;00m \u001B[38;5;28mint\u001B[39m(tokens_count) \u001B[38;5;241m>\u001B[39m \u001B[38;5;241m199\u001B[39m:\n\u001B[0;32m     13\u001B[0m     \u001B[38;5;28;01mbreak\u001B[39;00m\n\u001B[1;32m---> 15\u001B[0m time\u001B[38;5;241m.\u001B[39msleep(\u001B[38;5;241m3.9\u001B[39m)\n\u001B[0;32m     17\u001B[0m \u001B[38;5;28;01mtry\u001B[39;00m:\n\u001B[0;32m     18\u001B[0m     \u001B[38;5;28;01mwith\u001B[39;00m \u001B[38;5;28mopen\u001B[39m(\u001B[38;5;124mf\u001B[39m\u001B[38;5;124m'\u001B[39m\u001B[38;5;132;01m{\u001B[39;00msummarized_mda_sections_for_eligible_companies_in_range_directory\u001B[38;5;132;01m}\u001B[39;00m\u001B[38;5;124m/\u001B[39m\u001B[38;5;132;01m{\u001B[39;00mfilename\u001B[38;5;132;01m}\u001B[39;00m\u001B[38;5;124m'\u001B[39m, \u001B[38;5;124m'\u001B[39m\u001B[38;5;124mr\u001B[39m\u001B[38;5;124m'\u001B[39m) \u001B[38;5;28;01mas\u001B[39;00m file:\n",
      "\u001B[1;31mKeyboardInterrupt\u001B[0m: "
     ]
    }
   ],
   "execution_count": 55
  },
  {
   "metadata": {
    "ExecuteTime": {
     "end_time": "2024-05-23T19:29:55.829564Z",
     "start_time": "2024-05-23T19:29:55.782183Z"
    }
   },
   "cell_type": "code",
   "source": [
    "import pandas as pd\n",
    "\n",
    "df_bankrupt_companies = pd.read_csv('../hybrid-model/data/bankrupt_companies_with_17_variables_5_years/bankrupt_companies_with_17_variables_5_years_version2_split.csv')\n",
    "\n",
    "df_bankrupt_companies.head()"
   ],
   "id": "2e91e5d08d115426",
   "outputs": [
    {
     "data": {
      "text/plain": [
       "       cik subset ticker  label Fiscal Period  Cost of Goods Sold  \\\n",
       "0  1113232  train   ACLS  False      Dec 2016               167.0   \n",
       "1  1113232  train   ACLS  False      Dec 2017               260.0   \n",
       "2  1113232  train   ACLS  False      Dec 2018               263.0   \n",
       "3  1113232  train   ACLS  False      Dec 2019               199.0   \n",
       "4  1113232  train   ACLS  False      Dec 2020               276.0   \n",
       "\n",
       "   Depreciation, Depletion and Amortization  EBIT  EBITDA  Gross Profit  ...  \\\n",
       "0                                       4.0  16.0    20.0         100.0  ...   \n",
       "1                                       5.0  49.0    54.0         150.0  ...   \n",
       "2                                       6.0  60.0    66.0         180.0  ...   \n",
       "3                                       8.0  26.0    34.0         144.0  ...   \n",
       "4                                      10.0  61.0    71.0         199.0  ...   \n",
       "\n",
       "   Net Income  Retained Earnings  Revenue  Total Assets  Total Current Assets  \\\n",
       "0        11.0             -332.0    267.0         302.0                 241.0   \n",
       "1       127.0             -205.0    411.0         488.0                 340.0   \n",
       "2        46.0             -157.0    443.0         548.0                 397.0   \n",
       "3        17.0             -140.0    343.0         548.0                 376.0   \n",
       "4        50.0              -92.0    475.0         625.0                 471.0   \n",
       "\n",
       "   Total Current Liabilities  Total Inventories  Total Liabilities  \\\n",
       "0                       48.0              114.0              101.0   \n",
       "1                       79.0              121.0              135.0   \n",
       "2                       85.0              129.0              140.0   \n",
       "3                       69.0              140.0              129.0   \n",
       "4                       84.0              161.0              143.0   \n",
       "\n",
       "   Total Operating Expense  Total Receivables  \n",
       "0                     83.0               51.0  \n",
       "1                    102.0               75.0  \n",
       "2                    120.0               79.0  \n",
       "3                    120.0               84.0  \n",
       "4                    141.0               87.0  \n",
       "\n",
       "[5 rows x 22 columns]"
      ],
      "text/html": [
       "<div>\n",
       "<style scoped>\n",
       "    .dataframe tbody tr th:only-of-type {\n",
       "        vertical-align: middle;\n",
       "    }\n",
       "\n",
       "    .dataframe tbody tr th {\n",
       "        vertical-align: top;\n",
       "    }\n",
       "\n",
       "    .dataframe thead th {\n",
       "        text-align: right;\n",
       "    }\n",
       "</style>\n",
       "<table border=\"1\" class=\"dataframe\">\n",
       "  <thead>\n",
       "    <tr style=\"text-align: right;\">\n",
       "      <th></th>\n",
       "      <th>cik</th>\n",
       "      <th>subset</th>\n",
       "      <th>ticker</th>\n",
       "      <th>label</th>\n",
       "      <th>Fiscal Period</th>\n",
       "      <th>Cost of Goods Sold</th>\n",
       "      <th>Depreciation, Depletion and Amortization</th>\n",
       "      <th>EBIT</th>\n",
       "      <th>EBITDA</th>\n",
       "      <th>Gross Profit</th>\n",
       "      <th>...</th>\n",
       "      <th>Net Income</th>\n",
       "      <th>Retained Earnings</th>\n",
       "      <th>Revenue</th>\n",
       "      <th>Total Assets</th>\n",
       "      <th>Total Current Assets</th>\n",
       "      <th>Total Current Liabilities</th>\n",
       "      <th>Total Inventories</th>\n",
       "      <th>Total Liabilities</th>\n",
       "      <th>Total Operating Expense</th>\n",
       "      <th>Total Receivables</th>\n",
       "    </tr>\n",
       "  </thead>\n",
       "  <tbody>\n",
       "    <tr>\n",
       "      <th>0</th>\n",
       "      <td>1113232</td>\n",
       "      <td>train</td>\n",
       "      <td>ACLS</td>\n",
       "      <td>False</td>\n",
       "      <td>Dec 2016</td>\n",
       "      <td>167.0</td>\n",
       "      <td>4.0</td>\n",
       "      <td>16.0</td>\n",
       "      <td>20.0</td>\n",
       "      <td>100.0</td>\n",
       "      <td>...</td>\n",
       "      <td>11.0</td>\n",
       "      <td>-332.0</td>\n",
       "      <td>267.0</td>\n",
       "      <td>302.0</td>\n",
       "      <td>241.0</td>\n",
       "      <td>48.0</td>\n",
       "      <td>114.0</td>\n",
       "      <td>101.0</td>\n",
       "      <td>83.0</td>\n",
       "      <td>51.0</td>\n",
       "    </tr>\n",
       "    <tr>\n",
       "      <th>1</th>\n",
       "      <td>1113232</td>\n",
       "      <td>train</td>\n",
       "      <td>ACLS</td>\n",
       "      <td>False</td>\n",
       "      <td>Dec 2017</td>\n",
       "      <td>260.0</td>\n",
       "      <td>5.0</td>\n",
       "      <td>49.0</td>\n",
       "      <td>54.0</td>\n",
       "      <td>150.0</td>\n",
       "      <td>...</td>\n",
       "      <td>127.0</td>\n",
       "      <td>-205.0</td>\n",
       "      <td>411.0</td>\n",
       "      <td>488.0</td>\n",
       "      <td>340.0</td>\n",
       "      <td>79.0</td>\n",
       "      <td>121.0</td>\n",
       "      <td>135.0</td>\n",
       "      <td>102.0</td>\n",
       "      <td>75.0</td>\n",
       "    </tr>\n",
       "    <tr>\n",
       "      <th>2</th>\n",
       "      <td>1113232</td>\n",
       "      <td>train</td>\n",
       "      <td>ACLS</td>\n",
       "      <td>False</td>\n",
       "      <td>Dec 2018</td>\n",
       "      <td>263.0</td>\n",
       "      <td>6.0</td>\n",
       "      <td>60.0</td>\n",
       "      <td>66.0</td>\n",
       "      <td>180.0</td>\n",
       "      <td>...</td>\n",
       "      <td>46.0</td>\n",
       "      <td>-157.0</td>\n",
       "      <td>443.0</td>\n",
       "      <td>548.0</td>\n",
       "      <td>397.0</td>\n",
       "      <td>85.0</td>\n",
       "      <td>129.0</td>\n",
       "      <td>140.0</td>\n",
       "      <td>120.0</td>\n",
       "      <td>79.0</td>\n",
       "    </tr>\n",
       "    <tr>\n",
       "      <th>3</th>\n",
       "      <td>1113232</td>\n",
       "      <td>train</td>\n",
       "      <td>ACLS</td>\n",
       "      <td>False</td>\n",
       "      <td>Dec 2019</td>\n",
       "      <td>199.0</td>\n",
       "      <td>8.0</td>\n",
       "      <td>26.0</td>\n",
       "      <td>34.0</td>\n",
       "      <td>144.0</td>\n",
       "      <td>...</td>\n",
       "      <td>17.0</td>\n",
       "      <td>-140.0</td>\n",
       "      <td>343.0</td>\n",
       "      <td>548.0</td>\n",
       "      <td>376.0</td>\n",
       "      <td>69.0</td>\n",
       "      <td>140.0</td>\n",
       "      <td>129.0</td>\n",
       "      <td>120.0</td>\n",
       "      <td>84.0</td>\n",
       "    </tr>\n",
       "    <tr>\n",
       "      <th>4</th>\n",
       "      <td>1113232</td>\n",
       "      <td>train</td>\n",
       "      <td>ACLS</td>\n",
       "      <td>False</td>\n",
       "      <td>Dec 2020</td>\n",
       "      <td>276.0</td>\n",
       "      <td>10.0</td>\n",
       "      <td>61.0</td>\n",
       "      <td>71.0</td>\n",
       "      <td>199.0</td>\n",
       "      <td>...</td>\n",
       "      <td>50.0</td>\n",
       "      <td>-92.0</td>\n",
       "      <td>475.0</td>\n",
       "      <td>625.0</td>\n",
       "      <td>471.0</td>\n",
       "      <td>84.0</td>\n",
       "      <td>161.0</td>\n",
       "      <td>143.0</td>\n",
       "      <td>141.0</td>\n",
       "      <td>87.0</td>\n",
       "    </tr>\n",
       "  </tbody>\n",
       "</table>\n",
       "<p>5 rows × 22 columns</p>\n",
       "</div>"
      ]
     },
     "execution_count": 26,
     "metadata": {},
     "output_type": "execute_result"
    }
   ],
   "execution_count": 26
  },
  {
   "metadata": {
    "ExecuteTime": {
     "end_time": "2024-05-23T19:30:00.314112Z",
     "start_time": "2024-05-23T19:30:00.308965Z"
    }
   },
   "cell_type": "code",
   "source": [
    "# get unique ciks\n",
    "unique_ciks = df_bankrupt_companies['cik'].unique()"
   ],
   "id": "8b2b02025e85558e",
   "outputs": [],
   "execution_count": 27
  },
  {
   "metadata": {
    "ExecuteTime": {
     "end_time": "2024-05-23T19:30:01.096067Z",
     "start_time": "2024-05-23T19:30:01.084100Z"
    }
   },
   "cell_type": "code",
   "source": "len(unique_ciks)",
   "id": "9e3966eb2429ea48",
   "outputs": [
    {
     "data": {
      "text/plain": [
       "3420"
      ]
     },
     "execution_count": 28,
     "metadata": {},
     "output_type": "execute_result"
    }
   ],
   "execution_count": 28
  },
  {
   "metadata": {
    "ExecuteTime": {
     "end_time": "2024-05-23T19:30:03.994913Z",
     "start_time": "2024-05-23T19:30:03.979199Z"
    }
   },
   "cell_type": "code",
   "source": [
    "filenames = os.listdir(summarized_mda_sections_for_eligible_companies_in_range_directory)\n",
    "\n",
    "textual_data_ciks = []\n",
    "\n",
    "for filename in tqdm(filenames):\n",
    "    cik = int(filename.split('-')[0])\n",
    "    textual_data_ciks.append(cik)"
   ],
   "id": "69ad34b48ad99214",
   "outputs": [
    {
     "name": "stderr",
     "output_type": "stream",
     "text": [
      "100%|██████████| 4947/4947 [00:00<?, ?it/s]\n"
     ]
    }
   ],
   "execution_count": 29
  },
  {
   "metadata": {
    "ExecuteTime": {
     "end_time": "2024-05-23T19:30:11.756875Z",
     "start_time": "2024-05-23T19:30:11.554460Z"
    }
   },
   "cell_type": "code",
   "source": [
    "cnt = 0\n",
    "not_present_ciks = []\n",
    "\n",
    "for cik in unique_ciks:\n",
    "    if cik not in textual_data_ciks:\n",
    "        cnt += 1\n",
    "        not_present_ciks.append(cik)\n",
    "print(cnt)"
   ],
   "id": "665bc0325d4ebc96",
   "outputs": [
    {
     "name": "stdout",
     "output_type": "stream",
     "text": [
      "52\n"
     ]
    }
   ],
   "execution_count": 30
  },
  {
   "metadata": {
    "ExecuteTime": {
     "end_time": "2024-05-23T19:30:17.199120Z",
     "start_time": "2024-05-23T19:30:17.188101Z"
    }
   },
   "cell_type": "code",
   "source": "# TODO: 23.05.2024 - for 52 companies there are no reports in the textual data - delete them from the dataset ",
   "id": "cc924adb75f61e0c",
   "outputs": [],
   "execution_count": 31
  },
  {
   "metadata": {
    "ExecuteTime": {
     "end_time": "2024-05-23T19:30:17.917521Z",
     "start_time": "2024-05-23T19:30:17.899599Z"
    }
   },
   "cell_type": "code",
   "source": "len(df_bankrupt_companies)",
   "id": "a3fb2c33b58221ff",
   "outputs": [
    {
     "data": {
      "text/plain": [
       "17100"
      ]
     },
     "execution_count": 32,
     "metadata": {},
     "output_type": "execute_result"
    }
   ],
   "execution_count": 32
  },
  {
   "metadata": {
    "ExecuteTime": {
     "end_time": "2024-05-23T19:30:19.236213Z",
     "start_time": "2024-05-23T19:30:19.227523Z"
    }
   },
   "cell_type": "code",
   "source": [
    "# delete rows with ciks that are not present in textual data\n",
    "df_bankrupt_companies_complete = df_bankrupt_companies[~df_bankrupt_companies['cik'].isin(not_present_ciks)]\n",
    "\n",
    "len(df_bankrupt_companies_complete)"
   ],
   "id": "967ba054189c0ed9",
   "outputs": [
    {
     "data": {
      "text/plain": [
       "16840"
      ]
     },
     "execution_count": 33,
     "metadata": {},
     "output_type": "execute_result"
    }
   ],
   "execution_count": 33
  },
  {
   "metadata": {
    "ExecuteTime": {
     "end_time": "2024-05-23T19:30:22.694711Z",
     "start_time": "2024-05-23T19:30:22.674665Z"
    }
   },
   "cell_type": "code",
   "source": "df_bankrupt_companies_complete['label'].value_counts(normalize=True)",
   "id": "ce7672ef764ca546",
   "outputs": [
    {
     "data": {
      "text/plain": [
       "label\n",
       "False    0.97981\n",
       "True     0.02019\n",
       "Name: proportion, dtype: float64"
      ]
     },
     "execution_count": 34,
     "metadata": {},
     "output_type": "execute_result"
    }
   ],
   "execution_count": 34
  },
  {
   "metadata": {
    "ExecuteTime": {
     "end_time": "2024-05-23T19:30:24.679726Z",
     "start_time": "2024-05-23T19:30:24.671790Z"
    }
   },
   "cell_type": "code",
   "source": "df_bankrupt_companies_complete[df_bankrupt_companies_complete['subset'] == 'test']['label'].value_counts(normalize=True)",
   "id": "94652039b2ff887",
   "outputs": [
    {
     "data": {
      "text/plain": [
       "label\n",
       "False    0.980237\n",
       "True     0.019763\n",
       "Name: proportion, dtype: float64"
      ]
     },
     "execution_count": 35,
     "metadata": {},
     "output_type": "execute_result"
    }
   ],
   "execution_count": 35
  },
  {
   "metadata": {
    "ExecuteTime": {
     "end_time": "2024-05-23T19:30:34.416868Z",
     "start_time": "2024-05-23T19:30:34.295712Z"
    }
   },
   "cell_type": "code",
   "source": "df_bankrupt_companies_complete.to_csv('bankrupt_companies_with_17_variables_5_years_version2_split_matched_with_reports.csv', index=False)",
   "id": "37a132a06739be32",
   "outputs": [],
   "execution_count": 36
  },
  {
   "metadata": {
    "ExecuteTime": {
     "end_time": "2024-06-06T13:28:36.594555Z",
     "start_time": "2024-06-06T13:28:36.577503Z"
    }
   },
   "cell_type": "code",
   "source": [
    "import re\n",
    "\n",
    "def clean_markdown(text):\n",
    "    markdown_chars = [\"*\", \"_\", \"#\", \"~\", \"`\", \">\", \"=\", \"[\", \"]\"]\n",
    "    text = re.sub(f\"[{re.escape(''.join(markdown_chars))}]\", \"\", text)\n",
    "    text = re.sub(r\"\\n\", \" \", text)\n",
    "    \n",
    "    return text\n",
    "\n",
    "# Example usage\n",
    "text = \"\"\"\n",
    "*This is a **Markdown** example with* lists.\n",
    "- It has multiple paragraphs.\n",
    "\n",
    "> This is a quote.\n",
    "Will it work?\n",
    "Yes!\n",
    "\"\"\"\n",
    "cleaned_text = clean_markdown(text)\n",
    "print(cleaned_text)"
   ],
   "id": "d7c09f1bfa2bcf37",
   "outputs": [
    {
     "name": "stdout",
     "output_type": "stream",
     "text": [
      " This is a Markdown example with lists. - It has multiple paragraphs.   This is a quote. Will it work? Yes! \n"
     ]
    }
   ],
   "execution_count": 9
  },
  {
   "metadata": {
    "ExecuteTime": {
     "end_time": "2024-05-23T19:31:09.760312Z",
     "start_time": "2024-05-23T19:31:09.750993Z"
    }
   },
   "cell_type": "code",
   "source": [
    "unique_ciks_from_matched_data = df_bankrupt_companies_complete['cik'].unique()\n",
    "len(unique_ciks_from_matched_data)"
   ],
   "id": "7eaff6f82b517206",
   "outputs": [
    {
     "data": {
      "text/plain": [
       "3368"
      ]
     },
     "execution_count": 38,
     "metadata": {},
     "output_type": "execute_result"
    }
   ],
   "execution_count": 38
  },
  {
   "metadata": {
    "ExecuteTime": {
     "end_time": "2024-05-23T19:28:29.013726Z",
     "start_time": "2024-05-23T19:28:28.997066Z"
    }
   },
   "cell_type": "code",
   "source": [
    "# Code to fix duplicated reports\n",
    "#\n",
    "# from collections import Counter\n",
    "# \n",
    "# filenames = os.listdir(summarized_mda_sections_for_eligible_companies_in_range_directory)\n",
    "# ciks = [filename.split('-')[0] for filename in filenames]\n",
    "# filenames_with_ciks = list(zip(filenames, ciks))\n",
    "# duplicated_ciks = [item for item, count in Counter(ciks).items() if count > 1]\n",
    "# \n",
    "# duplicated_filenames_with_ciks = [item for item in filenames_with_ciks if item[1] in duplicated_ciks]\n",
    "# \n",
    "# for dup_cik in duplicated_ciks:\n",
    "#     \n",
    "#     filenames_for_cik = [item[0] for item in duplicated_filenames_with_ciks if item[1] == dup_cik]\n",
    "#     \n",
    "#     text_length = [[filename.split('.')[0].split('_')[-1], filename, 0] for filename in filenames_for_cik]\n",
    "#     \n",
    "#     # get the one with longer text\n",
    "#     text_length = sorted(text_length, key=lambda x: x[0], reverse=True)\n",
    "#     \n",
    "#     # get text length\n",
    "#     chosen_filename = text_length[0]\n",
    "#     for i, text_length_local in enumerate(text_length):\n",
    "#          filename_final = f'{summarized_mda_sections_for_eligible_companies_in_range_directory}/{text_length_local[1]}'\n",
    "#          with open(filename_final, 'r') as file:\n",
    "#             text = file.read()\n",
    "#             text_length[i][2] = len(text)\n",
    "#             \n",
    "#             if text_length[i][2] == 0:\n",
    "#                 if text_length_local[1] == chosen_filename[1]:\n",
    "#                     chosen_filename = text_length[i+1]\n",
    "#     rm_cnt = 0\n",
    "#     for filename in text_length:\n",
    "#         if filename != chosen_filename:\n",
    "#             os.remove(f'{summarized_mda_sections_for_eligible_companies_in_range_directory}/{filename[1]}')\n",
    "#             rm_cnt += 1\n",
    "#             \n",
    "#     if rm_cnt == len(text_length):\n",
    "#         print(f'Removed {rm_cnt} files for cik {dup_cik}')"
   ],
   "id": "941a53b022754043",
   "outputs": [],
   "execution_count": 23
  },
  {
   "metadata": {
    "ExecuteTime": {
     "end_time": "2024-06-06T13:28:19.745848Z",
     "start_time": "2024-06-06T13:28:19.603699Z"
    }
   },
   "cell_type": "code",
   "source": [
    "df_bankrupt_companies_complete = pd.read_csv('bankrupt_companies_with_17_variables_5_years_version2_split_matched_with_reports.csv')\n",
    "unique_ciks_from_matched_data = df_bankrupt_companies_complete['cik'].unique()"
   ],
   "id": "9f5825befefa4e11",
   "outputs": [],
   "execution_count": 7
  },
  {
   "metadata": {
    "ExecuteTime": {
     "end_time": "2024-06-06T13:28:43.018399Z",
     "start_time": "2024-06-06T13:28:40.050604Z"
    }
   },
   "cell_type": "code",
   "source": [
    "textual_data = pd.DataFrame(columns=['cik', 'text'])\n",
    "\n",
    "for filename in os.listdir(summarized_mda_sections_for_eligible_companies_in_range_directory):\n",
    "    cik = int(filename.split('-')[0])\n",
    "    if cik not in unique_ciks_from_matched_data:\n",
    "        continue\n",
    "        \n",
    "    with open(f'{summarized_mda_sections_for_eligible_companies_in_range_directory}/{filename}', 'r') as file:\n",
    "        text = file.read()\n",
    "        \n",
    "        text = clean_markdown(text)\n",
    "        \n",
    "        textual_data = pd.concat([textual_data, pd.DataFrame([{'cik': cik, 'text': text}])], ignore_index=True)\n",
    "        \n",
    "textual_data.to_csv(f'textual_data_matched_with_fin_data.csv', index=False)\n",
    "print(len(textual_data))\n",
    "textual_data.head()"
   ],
   "id": "6c126d952138e769",
   "outputs": [
    {
     "name": "stdout",
     "output_type": "stream",
     "text": [
      "3368\n"
     ]
    },
    {
     "data": {
      "text/plain": [
       "       cik                                               text\n",
       "0  1000180  The company is a global leader in NAND flash s...\n",
       "1  1000228  The company, Henry Schein, is the world's larg...\n",
       "2  1000694  Novavax is a clinical-stage biotechnology comp...\n",
       "3  1000697  The company's net sales decreased by 1% in 201...\n",
       "4  1000736  The company is one of the largest pharmaceutic..."
      ],
      "text/html": [
       "<div>\n",
       "<style scoped>\n",
       "    .dataframe tbody tr th:only-of-type {\n",
       "        vertical-align: middle;\n",
       "    }\n",
       "\n",
       "    .dataframe tbody tr th {\n",
       "        vertical-align: top;\n",
       "    }\n",
       "\n",
       "    .dataframe thead th {\n",
       "        text-align: right;\n",
       "    }\n",
       "</style>\n",
       "<table border=\"1\" class=\"dataframe\">\n",
       "  <thead>\n",
       "    <tr style=\"text-align: right;\">\n",
       "      <th></th>\n",
       "      <th>cik</th>\n",
       "      <th>text</th>\n",
       "    </tr>\n",
       "  </thead>\n",
       "  <tbody>\n",
       "    <tr>\n",
       "      <th>0</th>\n",
       "      <td>1000180</td>\n",
       "      <td>The company is a global leader in NAND flash s...</td>\n",
       "    </tr>\n",
       "    <tr>\n",
       "      <th>1</th>\n",
       "      <td>1000228</td>\n",
       "      <td>The company, Henry Schein, is the world's larg...</td>\n",
       "    </tr>\n",
       "    <tr>\n",
       "      <th>2</th>\n",
       "      <td>1000694</td>\n",
       "      <td>Novavax is a clinical-stage biotechnology comp...</td>\n",
       "    </tr>\n",
       "    <tr>\n",
       "      <th>3</th>\n",
       "      <td>1000697</td>\n",
       "      <td>The company's net sales decreased by 1% in 201...</td>\n",
       "    </tr>\n",
       "    <tr>\n",
       "      <th>4</th>\n",
       "      <td>1000736</td>\n",
       "      <td>The company is one of the largest pharmaceutic...</td>\n",
       "    </tr>\n",
       "  </tbody>\n",
       "</table>\n",
       "</div>"
      ]
     },
     "execution_count": 10,
     "metadata": {},
     "output_type": "execute_result"
    }
   ],
   "execution_count": 10
  },
  {
   "metadata": {},
   "cell_type": "markdown",
   "source": "### Textual data analysis",
   "id": "16c95a69f2b0558c"
  },
  {
   "metadata": {
    "ExecuteTime": {
     "end_time": "2024-09-12T15:27:33.408751Z",
     "start_time": "2024-09-12T15:27:30.122220Z"
    }
   },
   "cell_type": "code",
   "source": [
    "import pandas as pd\n",
    "from sklearn.feature_extraction.text import TfidfVectorizer\n",
    "import nltk\n",
    "\n",
    "nltk.download('punkt')\n",
    "nltk.download('stopwords')\n",
    "nltk.download('wordnet')"
   ],
   "id": "d9d687d3b6365cc2",
   "outputs": [
    {
     "name": "stderr",
     "output_type": "stream",
     "text": [
      "[nltk_data] Downloading package punkt to\n",
      "[nltk_data]     C:\\Users\\grzeg\\AppData\\Roaming\\nltk_data...\n",
      "[nltk_data]   Package punkt is already up-to-date!\n",
      "[nltk_data] Downloading package stopwords to\n",
      "[nltk_data]     C:\\Users\\grzeg\\AppData\\Roaming\\nltk_data...\n",
      "[nltk_data]   Package stopwords is already up-to-date!\n",
      "[nltk_data] Downloading package wordnet to\n",
      "[nltk_data]     C:\\Users\\grzeg\\AppData\\Roaming\\nltk_data...\n",
      "[nltk_data]   Package wordnet is already up-to-date!\n"
     ]
    },
    {
     "data": {
      "text/plain": [
       "True"
      ]
     },
     "execution_count": 24,
     "metadata": {},
     "output_type": "execute_result"
    }
   ],
   "execution_count": 24
  },
  {
   "metadata": {
    "ExecuteTime": {
     "end_time": "2024-06-06T13:29:08.715170Z",
     "start_time": "2024-06-06T13:29:08.650080Z"
    }
   },
   "cell_type": "code",
   "source": "df = pd.read_csv('textual_data_matched_with_fin_data.csv')",
   "id": "e74444f102da50b4",
   "outputs": [],
   "execution_count": 11
  },
  {
   "metadata": {
    "ExecuteTime": {
     "end_time": "2024-06-01T08:05:53.621789Z",
     "start_time": "2024-06-01T08:05:53.605657Z"
    }
   },
   "cell_type": "code",
   "source": [
    "import string\n",
    "def preprocess_text(text):\n",
    "    text = text.lower()\n",
    "    text = text.translate(str.maketrans('', '', string.digits))\n",
    "    return text"
   ],
   "id": "abef91732c90d3db",
   "outputs": [],
   "execution_count": 7
  },
  {
   "metadata": {},
   "cell_type": "code",
   "outputs": [],
   "execution_count": 8,
   "source": "df['text_preprocessed'] = df['text'].apply(preprocess_text)",
   "id": "e9a9d3d120e61341"
  },
  {
   "metadata": {
    "ExecuteTime": {
     "end_time": "2024-06-01T08:05:56.195021Z",
     "start_time": "2024-06-01T08:05:56.173551Z"
    }
   },
   "cell_type": "code",
   "source": "df[['text_preprocessed', 'text']].head()",
   "id": "29f8745955f01d1a",
   "outputs": [
    {
     "data": {
      "text/plain": [
       "                                   text_preprocessed  \\\n",
       "0  the company is a global leader in nand flash s...   \n",
       "1  the company, henry schein, is the world's larg...   \n",
       "2  novavax is a clinical-stage biotechnology comp...   \n",
       "3  the company's net sales decreased by % in , pr...   \n",
       "4  the company is one of the largest pharmaceutic...   \n",
       "\n",
       "                                                text  \n",
       "0  The company is a global leader in NAND flash s...  \n",
       "1  The company, Henry Schein, is the world's larg...  \n",
       "2  Novavax is a clinical-stage biotechnology comp...  \n",
       "3  The company's net sales decreased by 1% in 201...  \n",
       "4  The company is one of the largest pharmaceutic...  "
      ],
      "text/html": [
       "<div>\n",
       "<style scoped>\n",
       "    .dataframe tbody tr th:only-of-type {\n",
       "        vertical-align: middle;\n",
       "    }\n",
       "\n",
       "    .dataframe tbody tr th {\n",
       "        vertical-align: top;\n",
       "    }\n",
       "\n",
       "    .dataframe thead th {\n",
       "        text-align: right;\n",
       "    }\n",
       "</style>\n",
       "<table border=\"1\" class=\"dataframe\">\n",
       "  <thead>\n",
       "    <tr style=\"text-align: right;\">\n",
       "      <th></th>\n",
       "      <th>text_preprocessed</th>\n",
       "      <th>text</th>\n",
       "    </tr>\n",
       "  </thead>\n",
       "  <tbody>\n",
       "    <tr>\n",
       "      <th>0</th>\n",
       "      <td>the company is a global leader in nand flash s...</td>\n",
       "      <td>The company is a global leader in NAND flash s...</td>\n",
       "    </tr>\n",
       "    <tr>\n",
       "      <th>1</th>\n",
       "      <td>the company, henry schein, is the world's larg...</td>\n",
       "      <td>The company, Henry Schein, is the world's larg...</td>\n",
       "    </tr>\n",
       "    <tr>\n",
       "      <th>2</th>\n",
       "      <td>novavax is a clinical-stage biotechnology comp...</td>\n",
       "      <td>Novavax is a clinical-stage biotechnology comp...</td>\n",
       "    </tr>\n",
       "    <tr>\n",
       "      <th>3</th>\n",
       "      <td>the company's net sales decreased by % in , pr...</td>\n",
       "      <td>The company's net sales decreased by 1% in 201...</td>\n",
       "    </tr>\n",
       "    <tr>\n",
       "      <th>4</th>\n",
       "      <td>the company is one of the largest pharmaceutic...</td>\n",
       "      <td>The company is one of the largest pharmaceutic...</td>\n",
       "    </tr>\n",
       "  </tbody>\n",
       "</table>\n",
       "</div>"
      ]
     },
     "execution_count": 9,
     "metadata": {},
     "output_type": "execute_result"
    }
   ],
   "execution_count": 9
  },
  {
   "metadata": {},
   "cell_type": "code",
   "source": [
    "df['text'] = df['text_preprocessed']\n",
    "df = df.drop(columns=['text_preprocessed'])"
   ],
   "id": "83cf166d226acb3e",
   "outputs": [],
   "execution_count": null
  },
  {
   "metadata": {
    "ExecuteTime": {
     "end_time": "2024-06-06T13:29:43.343762Z",
     "start_time": "2024-06-06T13:29:43.335937Z"
    }
   },
   "cell_type": "code",
   "source": "df.head()",
   "id": "c9f71e3992cf44c7",
   "outputs": [
    {
     "data": {
      "text/plain": [
       "       cik                                               text\n",
       "0  1000180  The company is a global leader in NAND flash s...\n",
       "1  1000228  The company, Henry Schein, is the world's larg...\n",
       "2  1000694  Novavax is a clinical-stage biotechnology comp...\n",
       "3  1000697  The company's net sales decreased by 1% in 201...\n",
       "4  1000736  The company is one of the largest pharmaceutic..."
      ],
      "text/html": [
       "<div>\n",
       "<style scoped>\n",
       "    .dataframe tbody tr th:only-of-type {\n",
       "        vertical-align: middle;\n",
       "    }\n",
       "\n",
       "    .dataframe tbody tr th {\n",
       "        vertical-align: top;\n",
       "    }\n",
       "\n",
       "    .dataframe thead th {\n",
       "        text-align: right;\n",
       "    }\n",
       "</style>\n",
       "<table border=\"1\" class=\"dataframe\">\n",
       "  <thead>\n",
       "    <tr style=\"text-align: right;\">\n",
       "      <th></th>\n",
       "      <th>cik</th>\n",
       "      <th>text</th>\n",
       "    </tr>\n",
       "  </thead>\n",
       "  <tbody>\n",
       "    <tr>\n",
       "      <th>0</th>\n",
       "      <td>1000180</td>\n",
       "      <td>The company is a global leader in NAND flash s...</td>\n",
       "    </tr>\n",
       "    <tr>\n",
       "      <th>1</th>\n",
       "      <td>1000228</td>\n",
       "      <td>The company, Henry Schein, is the world's larg...</td>\n",
       "    </tr>\n",
       "    <tr>\n",
       "      <th>2</th>\n",
       "      <td>1000694</td>\n",
       "      <td>Novavax is a clinical-stage biotechnology comp...</td>\n",
       "    </tr>\n",
       "    <tr>\n",
       "      <th>3</th>\n",
       "      <td>1000697</td>\n",
       "      <td>The company's net sales decreased by 1% in 201...</td>\n",
       "    </tr>\n",
       "    <tr>\n",
       "      <th>4</th>\n",
       "      <td>1000736</td>\n",
       "      <td>The company is one of the largest pharmaceutic...</td>\n",
       "    </tr>\n",
       "  </tbody>\n",
       "</table>\n",
       "</div>"
      ]
     },
     "execution_count": 12,
     "metadata": {},
     "output_type": "execute_result"
    }
   ],
   "execution_count": 12
  },
  {
   "metadata": {
    "ExecuteTime": {
     "end_time": "2024-06-06T13:29:48.725382Z",
     "start_time": "2024-06-06T13:29:48.652378Z"
    }
   },
   "cell_type": "code",
   "source": "df.to_csv('textual_data_matched_with_fin_data.csv', index=False)",
   "id": "37f59aba3e273a41",
   "outputs": [],
   "execution_count": 13
  },
  {
   "metadata": {
    "ExecuteTime": {
     "end_time": "2024-05-25T07:13:45.043308Z",
     "start_time": "2024-05-25T07:13:44.800962Z"
    }
   },
   "cell_type": "code",
   "source": [
    "vectorizer = TfidfVectorizer()\n",
    "tfidf_matrix = vectorizer.fit_transform(df['text_preprocessed'])"
   ],
   "id": "709f66fe0809d84f",
   "outputs": [],
   "execution_count": 7
  },
  {
   "metadata": {
    "ExecuteTime": {
     "end_time": "2024-05-25T07:13:47.046574Z",
     "start_time": "2024-05-25T07:13:47.042508Z"
    }
   },
   "cell_type": "code",
   "source": "tfidf_matrix.shape",
   "id": "fcbf584a8f99f266",
   "outputs": [
    {
     "data": {
      "text/plain": [
       "(3368, 16258)"
      ]
     },
     "execution_count": 8,
     "metadata": {},
     "output_type": "execute_result"
    }
   ],
   "execution_count": 8
  },
  {
   "metadata": {
    "ExecuteTime": {
     "end_time": "2024-05-25T07:14:04.684940Z",
     "start_time": "2024-05-25T07:14:04.677094Z"
    }
   },
   "cell_type": "code",
   "source": "feature_names = vectorizer.get_feature_names_out()",
   "id": "ba3c1a98d6910990",
   "outputs": [],
   "execution_count": 9
  },
  {
   "metadata": {
    "ExecuteTime": {
     "end_time": "2024-05-25T07:14:22.842622Z",
     "start_time": "2024-05-25T07:14:22.827056Z"
    }
   },
   "cell_type": "code",
   "source": [
    "for i in range(5):\n",
    "    print(f\"\\nDocument {df['cik'][i]}:\")\n",
    "    row = tfidf_matrix[i].toarray()[0]\n",
    "    top_term_indices = row.argsort()[-5:][::-1]\n",
    "    for j in top_term_indices:\n",
    "        print(f\"{feature_names[j]}: {row[j]:.4f}\")"
   ],
   "id": "f61004fe0f45c9f6",
   "outputs": [
    {
     "name": "stdout",
     "output_type": "stream",
     "text": [
      "\n",
      "Document 1000180:\n",
      "nand: 0.4873\n",
      "flash: 0.3135\n",
      "bitsupply: 0.2655\n",
      "second: 0.1342\n",
      "bics: 0.1327\n",
      "\n",
      "Document 1000228:\n",
      "dental: 0.2899\n",
      "consolidation: 0.1819\n",
      "increasing: 0.1805\n",
      "practitioner: 0.1792\n",
      "schein: 0.1792\n",
      "\n",
      "Document 1000694:\n",
      "vaccine: 0.5619\n",
      "rsv: 0.4366\n",
      "phase: 0.2867\n",
      "ebola: 0.2379\n",
      "nanoflu: 0.1586\n",
      "\n",
      "Document 1000697:\n",
      "governmental: 0.2794\n",
      "macroeconomic: 0.2226\n",
      "sale: 0.2178\n",
      "andrew: 0.1876\n",
      "company: 0.1802\n",
      "\n",
      "Document 1000736:\n",
      "drug: 0.3055\n",
      "prescription: 0.2608\n",
      "pharmaceutical: 0.1965\n",
      "claim: 0.1869\n",
      "advancepcs: 0.1862\n"
     ]
    }
   ],
   "execution_count": 11
  },
  {
   "metadata": {
    "ExecuteTime": {
     "end_time": "2024-05-25T07:36:07.201145Z",
     "start_time": "2024-05-25T07:36:06.447678Z"
    }
   },
   "cell_type": "code",
   "source": [
    "from sklearn.feature_extraction.text import TfidfVectorizer\n",
    "from sklearn.ensemble import IsolationForest\n",
    "\n",
    "vectorizer = TfidfVectorizer()\n",
    "tfidf_matrix = vectorizer.fit_transform(df['text_preprocessed'])\n",
    "\n",
    "outlier_detector = IsolationForest(contamination=0.1)  # Assuming 10% outliers\n",
    "outlier_labels = outlier_detector.fit_predict(tfidf_matrix)\n",
    "\n",
    "cnt = 0\n",
    "for i, text in enumerate(df['text']):\n",
    "    is_outlier = outlier_labels[i] == -1\n",
    "    if is_outlier:\n",
    "        print(f\"Text: {text[:50]}...  Cik: {is_outlier}\")\n",
    "        cnt += 1\n",
    "        \n",
    "print(f\"Number of outliers: {cnt}\")"
   ],
   "id": "6d547ace45680961",
   "outputs": [
    {
     "name": "stdout",
     "output_type": "stream",
     "text": [
      "Text: The company, Henry Schein, is the world's largest ...  Cik: True\n",
      "Text: The company, a developer and seller of software-ba...  Cik: True\n",
      "Text: Lexmark's 2014 revenue increased 1% year-over-year...  Cik: True\n",
      "Text: The company achieved revenues of $3.10 billion in ...  Cik: True\n",
      "Text: IMPATH is a leader in providing cancer management ...  Cik: True\n",
      "Text: The company is a global leader in motion control p...  Cik: True\n",
      "Text:  UNIFI Financial Health Summary:   Strengths:     ...  Cik: True\n",
      "Text:  Summary of Management Discussion and Analysis:   ...  Cik: True\n",
      "Text: The company is a global leader in collaboration so...  Cik: True\n",
      "Text: The company operates 319 senior living communities...  Cik: True\n",
      "Text: The company is a biopharmaceutical company focused...  Cik: True\n",
      "Text: The company generated $508.8 million in operating ...  Cik: True\n",
      "Text: The company acquired several companies in 1998, 19...  Cik: True\n",
      "Text: The company is the largest wholesale technology di...  Cik: True\n",
      "Text: Net sales decreased in fiscal 2012 compared to fis...  Cik: True\n",
      "Text: The company distributes aluminum and steel product...  Cik: True\n",
      "Text: The company is a global technology leader providin...  Cik: True\n",
      "Text: The company is a leading SaaS provider of cloud co...  Cik: True\n",
      "Text: Coty Inc., a global beauty company, experienced a ...  Cik: True\n",
      "Text: Rockwell Automation is a global leader in industri...  Cik: True\n",
      "Text: Helios Technologies, Inc. is an industrial technol...  Cik: True\n",
      "Text:  Valspar Corporation: Summary of Management Discus...  Cik: True\n",
      "Text: Ralcorp Holdings Inc. experienced a 17% increase i...  Cik: True\n",
      "Text:  Veeco Instruments Inc. -  Financial Health Summar...  Cik: True\n",
      "Text: Logitech is a world leader in designing, manufactu...  Cik: True\n",
      "Text: The company owns and operates thirteen timeshare r...  Cik: True\n",
      "Text:  Quaker Fabric Corp. - Summary of Management Discu...  Cik: True\n",
      "Text: The company focuses on HR outsourcing for small an...  Cik: True\n",
      "Text: The company's principal business is delivering new...  Cik: True\n",
      "Text: The company, Micromuse Inc., develops, markets, an...  Cik: True\n",
      "Text: The company is optimistic about its future, citing...  Cik: True\n",
      "Text: The company provides data, internet, video, and vo...  Cik: True\n",
      "Text: Priority Healthcare Corporation, a national specia...  Cik: True\n",
      "Text:  Walmart Management Discussion and Analysis Summar...  Cik: True\n",
      "Text: Vignette develops and sells software for managing ...  Cik: True\n",
      "Text: The company, a provider of content management soft...  Cik: True\n",
      "Text: The company's goal is to be a leader in the develo...  Cik: True\n",
      "Text: The company's retail occupancy excluding developme...  Cik: True\n",
      "Text: The company is a healthcare services provider focu...  Cik: True\n",
      "Text: The company aims to grow by improving care quality...  Cik: True\n",
      "Text: Metalico operates in three segments: Scrap Metal R...  Cik: True\n",
      "Text:  Summary of Management Discussion and Analysis:   ...  Cik: True\n",
      "Text: The company is a national provider of IT solutions...  Cik: True\n",
      "Text: Waddell & Reed Financial, Inc. is focusing on grow...  Cik: True\n",
      "Text: Broadcom Corporation is a global semiconductor sol...  Cik: True\n",
      "Text: The company provides travel management services gl...  Cik: True\n",
      "Text: The company develops, sells, deploys, services, an...  Cik: True\n",
      "Text: The company operates through three segments: Oil &...  Cik: True\n",
      "Text:  Summary of Management's Discussion and Analysis: ...  Cik: True\n",
      "Text: Cognizant is a leading professional services compa...  Cik: True\n",
      "Text:  Summary of Management's Discussion and Analysis: ...  Cik: True\n",
      "Text: The company operates in three segments: Hospital S...  Cik: True\n",
      "Text: The company's consolidated revenues increased by 2...  Cik: True\n",
      "Text: The company's revenue increased significantly in 2...  Cik: True\n",
      "Text: The company, a leadership advisory firm, provides ...  Cik: True\n",
      "Text: Mission West Properties, a REIT, focuses on R&D pr...  Cik: True\n",
      "Text: The company is a global biocides provider operatin...  Cik: True\n",
      "Text: The company generated net income of $280 million i...  Cik: True\n",
      "Text: The company is an industry leader in service assur...  Cik: True\n",
      "Text: The company provides cross-platform systems and se...  Cik: True\n",
      "Text: The company's total revenue for fiscal year 2012 w...  Cik: True\n",
      "Text: The company is a digital consultancy focusing on l...  Cik: True\n",
      "Text: The company is the leading global provider of clou...  Cik: True\n",
      "Text: DICK'S Sporting Goods is a leading omni-channel sp...  Cik: True\n",
      "Text: Financial Performance   Revenue primarily from mon...  Cik: True\n",
      "Text: - Revenue decreased by 6.1%, primarily due to redu...  Cik: True\n",
      "Text: The company is an independent energy company focus...  Cik: True\n",
      "Text: The company is a leading global media company focu...  Cik: True\n",
      "Text: 1. Growth of total revenue in 2005, primarily driv...  Cik: True\n",
      "Text: The company offers on-demand web collaboration ser...  Cik: True\n",
      "Text: The company is a leader in medical technology solu...  Cik: True\n",
      "Text: The company, Integer Holdings Corporation, is one ...  Cik: True\n",
      "Text: The company is a leading cloud-based enterprise ev...  Cik: True\n",
      "Text: The company's revenue increased by 29.7% to $510 m...  Cik: True\n",
      "Text: The company is a provider of secure communication ...  Cik: True\n",
      "Text: The company's revenue decreased by $17.1 million i...  Cik: True\n",
      "Text: The company is a leader in the distribution of avo...  Cik: True\n",
      "Text: The company is the largest international broadband...  Cik: True\n",
      "Text: The company's net sales increased by 0.6 percent i...  Cik: True\n",
      "Text: The company is a global leader in wireless and wir...  Cik: True\n",
      "Text: ExpressJet, engaged in moving people, operates 244...  Cik: True\n",
      "Text: The company generates revenue from sales of produc...  Cik: True\n",
      "Text: The company is a fully integrated, self-administer...  Cik: True\n",
      "Text: Genesis Microchip Inc. designs and markets image-p...  Cik: True\n",
      "Text: U.S. Steel, the 26th largest steel producer global...  Cik: True\n",
      "Text: The company, Verint Systems Inc., is a global lead...  Cik: True\n",
      "Text: Pacific Energy Partners, L.P. is a publicly traded...  Cik: True\n",
      "Text: Hyster-Yale Materials Handling is a leading global...  Cik: True\n",
      "Text: The company's operating revenue increased by 8.0 p...  Cik: True\n",
      "Text: MPG Office Trust is the largest owner and operator...  Cik: True\n",
      "Text: The company, operating under the brand names Logis...  Cik: True\n",
      "Text: The company is one of the largest providers of hea...  Cik: True\n",
      "Text: The company invests in single-tenant government-le...  Cik: True\n",
      "Text: Virgin Media is a leading entertainment and commun...  Cik: True\n",
      "Text: The company is a mortgage REIT that invests in non...  Cik: True\n",
      "Text: MoneyGram is a global leader in P2P payments and m...  Cik: True\n",
      "Text: Hospira, a global provider of injectable drugs and...  Cik: True\n",
      "Text: The company's net revenues increased 54% to $1,456...  Cik: True\n",
      "Text: The company is a full-service real estate operatin...  Cik: True\n",
      "Text: Kite Realty Group Trust is a publicly-held REIT fo...  Cik: True\n",
      "Text: Medical Properties Trust, Inc. is a REIT that inve...  Cik: True\n",
      "Text: The company is a leading provider of cloud-based c...  Cik: True\n",
      "Text: The broiler industry is maturing and facing consol...  Cik: True\n",
      "Text: Financial Performance:   Revenue in 2020 increased...  Cik: True\n",
      "Text: The company Sunstone Hotel Investors is a self-man...  Cik: True\n",
      "Text: ZAGG Inc. focuses on providing creative product so...  Cik: True\n",
      "Text: Financial Performance  - Revenue rose to $225.2 mi...  Cik: True\n",
      "Text:  OfficeMax Financial Health Summary:   Declining S...  Cik: True\n",
      "Text: The company is an integrated commodity risk manage...  Cik: True\n",
      "Text: Nalco Holding Company reported a 11.1% decline in ...  Cik: True\n",
      "Text: DiamondRock Hospitality Company owns 31 premium ho...  Cik: True\n",
      "Text: Consolidated Communications Holdings, Inc. is a br...  Cik: True\n",
      "Text: The company's revenue for 2014 was $556.8 million,...  Cik: True\n",
      "Text: Celanese's net sales decreased by 12% in 2019 due ...  Cik: True\n",
      "Text: The company is a value-priced retailer of fashion ...  Cik: True\n",
      "Text: The company is an international manufacturer of hi...  Cik: True\n",
      "Text: The company provides outsourced services, analytic...  Cik: True\n",
      "Text: The company achieved total revenue of $3.4 billion...  Cik: True\n",
      "Text: The company is a leading provider of cloud marketi...  Cik: True\n",
      "Text: The company operates an online health insurance ma...  Cik: True\n",
      "Text: Morgans Hotel Group Co. is a fully integrated life...  Cik: True\n",
      "Text: The company is one of the world's leading franchis...  Cik: True\n",
      "Text: The company is a leading provider of online busine...  Cik: True\n",
      "Text: The company achieved improved operating performanc...  Cik: True\n",
      "Text: NYSE Euronext operates in three segments: Derivati...  Cik: True\n",
      "Text: The company is North America’s leading provider of...  Cik: True\n",
      "Text: The company is a specialty pharmaceutical company ...  Cik: True\n",
      "Text: The company is a biopharmaceutical company special...  Cik: True\n",
      "Text: The company is a leading SaaS provider for busines...  Cik: True\n",
      "Text: Starent Networks, a leading provider of infrastruc...  Cik: True\n",
      "Text: The company, focused on data deduplication storage...  Cik: True\n",
      "Text: PROS, an AI-driven commerce solutions provider, re...  Cik: True\n",
      "Text: The company is a leading provider of online market...  Cik: True\n",
      "Text: The company's net sales in 2019 increased by 2.2% ...  Cik: True\n",
      "Text: Travelport is a leading travel commerce platform w...  Cik: True\n",
      "Text: The company is a leading provider of mobile social...  Cik: True\n",
      "Text: The company provides a low-code automation platfor...  Cik: True\n",
      "Text: Twilio is the leader in the Cloud Communications P...  Cik: True\n",
      "Text: The company is a global leader in pediatric nutrit...  Cik: True\n",
      "Text: The company is the only independent manufacturer o...  Cik: True\n",
      "Text: The company is a home care services provider opera...  Cik: True\n",
      "Text: The company provides solar energy to residential c...  Cik: True\n",
      "Text: The company is focused on delivering innovative da...  Cik: True\n",
      "Text: The company operates a digital savings destination...  Cik: True\n",
      "Text: Teladoc Health, a global leader in virtual healthc...  Cik: True\n",
      "Text: The company achieved record operating revenue and ...  Cik: True\n",
      "Text: The company is the largest dialysis services provi...  Cik: True\n",
      "Text: The company is a clinical-stage biopharmaceutical ...  Cik: True\n",
      "Text: The company is a self-advised and self-administere...  Cik: True\n",
      "Text: Pingtan Marine Enterprise, a marine enterprise gro...  Cik: True\n",
      "Text: The Chefs' Warehouse is a specialty food distribut...  Cik: True\n",
      "Text: The company's oil production as a percent of total...  Cik: True\n",
      "Text: Sprague Resources LP is a publicly traded MLP enga...  Cik: True\n",
      "Text: The company completed its IPO in September 2020 an...  Cik: True\n",
      "Text: The company achieved net sales of $1,036.8 million...  Cik: True\n",
      "Text: The company, a provider of marketing solutions and...  Cik: True\n",
      "Text: Rapid7 is a leading cybersecurity solutions provid...  Cik: True\n",
      "Text: The company's principal business is residential ho...  Cik: True\n",
      "Text: The company is a leading North American manufactur...  Cik: True\n",
      "Text: HD Supply is one of the largest industrial distrib...  Cik: True\n",
      "Text: The company is a leading provider of physician-led...  Cik: True\n",
      "Text: Allergan plc is a global pharmaceutical company fo...  Cik: True\n",
      "Text: The company is a fee-based, growth-oriented Delawa...  Cik: True\n",
      "Text: The company, Arc Logistics, is a fee-based, growth...  Cik: True\n",
      "Text: Element Solutions Inc. completed the sale of Aryst...  Cik: True\n",
      "Text: City Office REIT, Inc. is a Maryland corporation f...  Cik: True\n",
      "Text: The company owns and operates a fleet of 24 VLGCs,...  Cik: True\n",
      "Text: The company's net sales increased by 6% in fiscal ...  Cik: True\n",
      "Text: The company is a global manufacturing solutions pr...  Cik: True\n",
      "Text: California Resources Corporation is an independent...  Cik: True\n",
      "Text: New Senior is a REIT focused on senior housing, ow...  Cik: True\n",
      "Text: CNX Midstream Partners LP is a growth-oriented mas...  Cik: True\n",
      "Text: The company adopted new lease and revenue recognit...  Cik: True\n",
      "Text: Syneos Health, Inc. is a global biopharmaceutical ...  Cik: True\n",
      "Text: Urban Edge Properties is a Maryland REIT focused o...  Cik: True\n",
      "Text: The company experienced a 4.6% decrease in net sal...  Cik: True\n",
      "Text: The company is a leading provider of integrated so...  Cik: True\n",
      "Text: The company is engaged in redeveloping and re-leas...  Cik: True\n",
      "Text: Exterran is a global systems and process company o...  Cik: True\n",
      "Text: AC Group's primary source of revenue is investment...  Cik: True\n",
      "Text: Patheon N.V. is a leading global provider of outso...  Cik: True\n",
      "Text: The company experienced a 9.9% decrease in net sal...  Cik: True\n",
      "Text: Red Rock Resorts generated $1.86 billion in net re...  Cik: True\n",
      "Text: The company is an independent oil and gas company ...  Cik: True\n",
      "Text: The company's revenue increased by 39% in 2019, re...  Cik: True\n",
      "Text:  Campbell Soup Company: Summary of Financial Healt...  Cik: True\n",
      "Text: AdvanSix is a producer of caprolactam and Nylon 6 ...  Cik: True\n",
      "Text: Cars.com Inc. is a leading digital marketplace and...  Cik: True\n",
      "Text: The company's revenue growth is driven by increasi...  Cik: True\n",
      "Text: Elanco, a global animal health company, generated ...  Cik: True\n",
      "Text: The company generated $763.5 million in revenue in...  Cik: True\n",
      "Text: The company is one of the largest and fastest-grow...  Cik: True\n",
      "Text: The company is a leading provider of drug developm...  Cik: True\n",
      "Text:  Summary of Management's Discussion and Analysis: ...  Cik: True\n",
      "Text: AIR offers a way to invest in multi-family real es...  Cik: True\n",
      "Text:  Summary of Management's Discussion and Analysis: ...  Cik: True\n",
      "Text:  Summary of Management's Discussion and Analysis: ...  Cik: True\n",
      "Text:  Grubb & Ellis Company Financial Health Summary:  ...  Cik: True\n",
      "Text:  Summary of Management's Discussion and Analysis: ...  Cik: True\n",
      "Text:  Summary of Management's Discussion and Analysis: ...  Cik: True\n",
      "Text:  Company Financial Health Summary:   Strong Revenu...  Cik: True\n",
      "Text:  Summary of Management's Discussion and Analysis: ...  Cik: True\n",
      "Text:  Summary of Management's Discussion and Analysis: ...  Cik: True\n",
      "Text:  SEMCO Energy, Inc. - Investor Summary from MD&A: ...  Cik: True\n",
      "Text:  Summary of Management's Discussion and Analysis: ...  Cik: True\n",
      "Text:  Dover Corporation's Financial Health Summary:    ...  Cik: True\n",
      "Text:  Summary of Management's Discussion and Analysis: ...  Cik: True\n",
      "Text:  Handleman Company -  Financial Health Summary:   ...  Cik: True\n",
      "Text:  Range Resources Corporation - Management Discussi...  Cik: True\n",
      "Text:  Tellabs Financial Health Summary:   Negative Perf...  Cik: True\n",
      "Text:  Summary of Management's Discussion and Analysis: ...  Cik: True\n",
      "Text:  Management's Discussion and Analysis Summary: Key...  Cik: True\n",
      "Text:  Summary of Management's Discussion and Analysis: ...  Cik: True\n",
      "Text:  Summary of Management Discussion and Analysis:   ...  Cik: True\n",
      "Text:  C-COR Financial Health Summary:   Revenue Growth:...  Cik: True\n",
      "Text:  Biomet, Inc. Financial Health Summary:   Revenue ...  Cik: True\n",
      "Text: The company owns and operates 354 inpatient facili...  Cik: True\n",
      "Text:  Omnicare Financial Health Summary:   Market Leade...  Cik: True\n",
      "Text:  Summary of Management's Discussion and Analysis: ...  Cik: True\n",
      "Text:  Summary of Management's Discussion and Analysis: ...  Cik: True\n",
      "Text:  Summary of Management's Discussion and Analysis: ...  Cik: True\n",
      "Text:  Gray Television, Inc. - Investor Summary:   Stron...  Cik: True\n",
      "Text:  Green Mountain Power Corporation: Investor Summar...  Cik: True\n",
      "Text:  Summary of Management's Discussion and Analysis: ...  Cik: True\n",
      "Text:  Company Financial Health Summary:   Strong Revenu...  Cik: True\n",
      "Text:  Summary of Management's Discussion and Analysis: ...  Cik: True\n",
      "Text:  Summary of Management's Discussion and Analysis: ...  Cik: True\n",
      "Text:  Kelly Services Management Discussion and Analysis...  Cik: True\n",
      "Text:  Summary of Management's Discussion and Analysis: ...  Cik: True\n",
      "Text:  Company Financial Health Summary:   Declining Rev...  Cik: True\n",
      "Text:  Summary of Management's Discussion and Analysis: ...  Cik: True\n",
      "Text:  Meredith Corporation: Investor Summary from MD&A ...  Cik: True\n",
      "Text:  Summary of Management's Discussion and Analysis: ...  Cik: True\n",
      "Text:  Millipore Corporation - Investor Summary:     Str...  Cik: True\n",
      "Text:  Moore Corporation Limited - Investor Summary:   C...  Cik: True\n",
      "Text:  NDCHealth Financial Health Summary:   Strong Mark...  Cik: True\n",
      "Text:  Summary of Management's Discussion and Analysis: ...  Cik: True\n",
      "Text:  Company Overview and Financial Performance:   Glo...  Cik: True\n",
      "Text:  National Steel Corporation: Financial Health Summ...  Cik: True\n",
      "Text:  Noble Energy Financial Health Summary:   Industry...  Cik: True\n",
      "Text:  Summary of Management Discussion & Analysis:   Co...  Cik: True\n",
      "Text: - The company provides medical professional liabil...  Cik: True\n",
      "Text: Healthpeak Properties Inc. entered into a series o...  Cik: True\n",
      "Text: Net sales increased by 1.6% to $5,323.2 million in...  Cik: True\n",
      "Text:  Summary of Management's Discussion and Analysis: ...  Cik: True\n",
      "Text: The company experienced significant adverse condit...  Cik: True\n",
      "Text: Beam Inc. is a leading premium spirits company wit...  Cik: True\n",
      "Text: The company reported strong financial performance ...  Cik: True\n",
      "Text: The company operates in two segments, TTS (trucklo...  Cik: True\n",
      "Text: Toll Brothers reported $6.94 billion in home sales...  Cik: True\n",
      "Text: The company is a leading supplier of fluid and ene...  Cik: True\n",
      "Text: Raytech Corporation, manufacturing engineered prod...  Cik: True\n",
      "Text: The company derives most of its revenue from truck...  Cik: True\n",
      "Text: Harman International Industries believes it is a l...  Cik: True\n",
      "Text: SGI is a leader in high-performance computing and ...  Cik: True\n",
      "Text: The company owns and leases residential land, prim...  Cik: True\n",
      "Text: Airgas, Inc. reported net sales of $5.3 billion in...  Cik: True\n",
      "Text: The company adopted ASC 842 in fiscal 2020, result...  Cik: True\n",
      "Text: The company's revenue increased by 10.7% in FY20, ...  Cik: True\n",
      "Text: The company focuses on enabling customers to devel...  Cik: True\n",
      "Text: Icahn Enterprises is a diversified holding company...  Cik: True\n",
      "Text: The company reported income from operations of $9....  Cik: True\n",
      "Text:  Raven Industries Financial Health Summary:   Dive...  Cik: True\n",
      "Text: The company operates in the fragrance business thr...  Cik: True\n",
      "Text: The company experienced a decrease in net sales in...  Cik: True\n",
      "Text: Weingarten Realty Investors is a REIT focused on o...  Cik: True\n",
      "Text: The company experienced a 3.6% revenue decrease in...  Cik: True\n",
      "Text: Johnson Controls experienced a 7% decrease in net ...  Cik: True\n",
      "Text: The company's net sales decreased by 10.3% in fisc...  Cik: True\n",
      "Text: RPT Realty owns and operates a national portfolio ...  Cik: True\n",
      "Text: InFocus returned to profitability in 2004, with a ...  Cik: True\n",
      "Text: The company is a global leader in automotive inter...  Cik: True\n",
      "Text:  Rohm and Haas Company -  Investor Summary of Mana...  Cik: True\n",
      "Text: GTSI experienced a 3.6% decrease in sales from 200...  Cik: True\n",
      "Text: Lattice Semiconductor Corporation designs and sell...  Cik: True\n",
      "Text: The company's business strategy focuses on maximiz...  Cik: True\n",
      "Text: Annual Recurring Revenue (ARR) reached $1,270 mill...  Cik: True\n",
      "Text:  Summary of Management's Discussion and Analysis: ...  Cik: True\n",
      "Text: The Company operates in three main segments: Ocean...  Cik: True\n",
      "Text: The company's net revenues increased by 4.4% and 3...  Cik: True\n",
      "Text: The company's 2019 sales were $2.3 billion, a 12% ...  Cik: True\n",
      "Text: THQ's fiscal 2012 net sales were driven by Saints ...  Cik: True\n",
      "Text: Flex experienced an 8% decrease in net sales in fi...  Cik: True\n",
      "Text: The company is the leading retailer and distributo...  Cik: True\n",
      "Text: The company is a leading supplier of replacement a...  Cik: True\n",
      "Text: - The company achieved record financial and operat...  Cik: True\n",
      "Text: The company experienced strong market conditions i...  Cik: True\n",
      "Text: The company reports revenue and operating profit d...  Cik: True\n",
      "Text: The company is a leader in RNA-targeted therapeuti...  Cik: True\n",
      "Text: ANN INC. achieved record diluted earnings per shar...  Cik: True\n",
      "Text: The company reported significant earnings improvem...  Cik: True\n",
      "Text: Enbridge, the ultimate parent company, is undergoi...  Cik: True\n",
      "Text: USF faced a challenging 2003 with economic softnes...  Cik: True\n",
      "Text: Gilead Sciences reported total revenue of $22.4 bi...  Cik: True\n",
      "Text: The company is a global fashion accessories design...  Cik: True\n",
      "Text: USA Truck operates in two segments, Trucking and U...  Cik: True\n",
      "Text: The company generated $8,601 million in revenue in...  Cik: True\n",
      "Text: General Cable Corporation is a global leader in wi...  Cik: True\n",
      "Text: The company ended fiscal year 2010 with $62.3 mill...  Cik: True\n",
      "Text: The company provides outsourced financial technolo...  Cik: True\n",
      "Text:  Summary of Management's Discussion and Analysis: ...  Cik: True\n",
      "Text: Taubman Centers, Inc. (TCO) operates as a REIT, pr...  Cik: True\n",
      "Text: The company reported a 20% increase in net revenue...  Cik: True\n",
      "Text: The company generated $1.27 billion in net sales i...  Cik: True\n",
      "Text: The company is a global provider of integrated man...  Cik: True\n",
      "Text: The company reported a net loss of $15.8 million i...  Cik: True\n",
      "Text: The company owns, operates, and develops self-stor...  Cik: True\n",
      "Text: The company is a leading designer and developer of...  Cik: True\n",
      "Text: The company is a leading provider of supply chain ...  Cik: True\n",
      "Text: The company is a self-managed equity REIT owning i...  Cik: True\n",
      "Text: - Revenue: Total revenues decreased by approximate...  Cik: True\n",
      "Text: Revenue  The company experienced a 6.8% growth in ...  Cik: True\n",
      "Text: - The Company experienced revenue growth of 10%, d...  Cik: True\n",
      "Text:  Revenue increased 4.3% to $704.8 million, primari...  Cik: True\n",
      "Text: Financial Performance  Net sales experienced margi...  Cik: True\n",
      "Text: Financial Performance:   Revenue growth of 3.1% in...  Cik: True\n",
      "Text: The Company is a global developer and producer of ...  Cik: True\n",
      "Text: The company designs and supplies high-performance ...  Cik: True\n",
      "Text: The company achieved net sales growth of 10% in 20...  Cik: True\n",
      "Text: The company achieved record revenues of $4.308 bil...  Cik: True\n",
      "Text: Astex Pharmaceuticals, Inc., formerly SuperGen, In...  Cik: True\n",
      "Text: The company's strategic plan focuses on owning hig...  Cik: True\n",
      "Text: The company incurred net losses from continuing op...  Cik: True\n",
      "Text: Same-store hotel ADR grew 5.3% in 2015, while occu...  Cik: True\n",
      "Text: The company generated $2.5 billion and $2.3 billio...  Cik: True\n",
      "Text: The company is a leading provider of medication ma...  Cik: True\n",
      "Text: The company's revenue increased in 2002 and 2001 d...  Cik: True\n",
      "Text: Kforce's revenue for 2019 increased by 3.3% to $1....  Cik: True\n",
      "Text: The company is a leading manufacturer of graphite ...  Cik: True\n",
      "Text:  Company Financial Health Summary:   Discontinued ...  Cik: True\n",
      "Text:  Management Discussion and Analysis Summary: Key P...  Cik: True\n",
      "Text: The company has been profitable every year since 1...  Cik: True\n",
      "Text: SITEL Corporation is a leading global provider of ...  Cik: True\n",
      "Text: The company believes it is the fifth largest opera...  Cik: True\n",
      "Text:  Levi Strauss & Co. - Financial Health Summary:   ...  Cik: True\n",
      "Text:  Summary of Management's Discussion and Analysis: ...  Cik: True\n",
      "Text:  Barnes Group Inc. - Investor Summary:   Sales: Ov...  Cik: True\n",
      "Number of outliers: 337\n"
     ]
    }
   ],
   "execution_count": 17
  },
  {
   "metadata": {
    "ExecuteTime": {
     "end_time": "2024-09-12T15:07:07.698324Z",
     "start_time": "2024-09-12T15:07:07.682014Z"
    }
   },
   "cell_type": "code",
   "source": [
    "financial_keywords = [\n",
    "    'revenue', 'profit', 'loss', 'net income', 'earnings', 'sales', 'turnover',\n",
    "    'assets', 'liabilities', 'equity', 'shareholders equity', 'capital', 'balance sheet',\n",
    "    'debt', 'loan', 'borrowing', 'credit', 'leverage', 'mortgage', 'bond',\n",
    "    'investment', 'capital expenditure', 'capex', 'portfolio', 'securities', 'hedge',\n",
    "    'cash flow', 'operating cash flow', 'free cash flow', 'liquidity', 'solvency',\n",
    "    'financial statements', 'income statement', 'cash flow statement', 'statement of changes in equity',\n",
    "    'accounting', 'audit', 'GAAP', 'IFRS', 'financial reporting', 'disclosure',\n",
    "    'stock', 'share', 'market', 'trading', 'volatility', 'share price', 'IPO',\n",
    "    'interest rate', 'yield', 'coupon', 'discount rate', 'prime rate', 'LIBOR',\n",
    "    'dividend', 'payout', 'yield', 'share repurchase', 'buyback',\n",
    "    'valuation', 'fair value', 'impairment', 'goodwill', 'intangible assets',\n",
    "    'risk', 'risk management', 'credit risk', 'market risk', 'operational risk', 'hedging',\n",
    "    'regulation', 'compliance', 'SEC', 'financial authority', 'regulatory capital',\n",
    "    'banking', 'lending', 'deposit', 'interest income', 'net interest margin',\n",
    "    'insurance', 'premium', 'claim', 'underwriting', 'reinsurance',\n",
    "    'tax', 'tax expense', 'deferred tax', 'tax rate', 'tax haven',\n",
    "    'budget', 'forecast', 'projection', 'financial planning', 'analysis',\n",
    "    'merger', 'acquisition', 'divestiture', 'spin-off', 'restructuring',\n",
    "    'bankruptcy', 'insolvency', 'default', 'liquidation', 'reorganization'\n",
    "]"
   ],
   "id": "ad34bcc7b93bef5b",
   "outputs": [],
   "execution_count": 8
  },
  {
   "metadata": {
    "ExecuteTime": {
     "end_time": "2024-09-12T15:07:52.208630Z",
     "start_time": "2024-09-12T15:07:52.095810Z"
    }
   },
   "cell_type": "code",
   "source": [
    "# addition 12.09 \n",
    "from tqdm import tqdm\n",
    "textual_dataset = pd.read_csv('textual_data_matched_split_version3.csv')\n",
    "print(textual_dataset.shape)\n",
    "textual_dataset.head()"
   ],
   "id": "ddfa30300f406d47",
   "outputs": [
    {
     "name": "stdout",
     "output_type": "stream",
     "text": [
      "(7214, 4)\n"
     ]
    },
    {
     "data": {
      "text/plain": [
       "        cik  label subset                                               text\n",
       "0   1476045  False  train  Chatham Lodging Trust is a REIT that invests i...\n",
       "1  92352903   True  train  A cooperative bankshares corporation.  The com...\n",
       "2    833829  False  train  Wind River, a global leader in Device Software...\n",
       "3    914789  False  train  - Reported a 20% increase in revenue, driven b...\n",
       "4    853816  False  train  Landstar System, Inc. is an asset-light provid..."
      ],
      "text/html": [
       "<div>\n",
       "<style scoped>\n",
       "    .dataframe tbody tr th:only-of-type {\n",
       "        vertical-align: middle;\n",
       "    }\n",
       "\n",
       "    .dataframe tbody tr th {\n",
       "        vertical-align: top;\n",
       "    }\n",
       "\n",
       "    .dataframe thead th {\n",
       "        text-align: right;\n",
       "    }\n",
       "</style>\n",
       "<table border=\"1\" class=\"dataframe\">\n",
       "  <thead>\n",
       "    <tr style=\"text-align: right;\">\n",
       "      <th></th>\n",
       "      <th>cik</th>\n",
       "      <th>label</th>\n",
       "      <th>subset</th>\n",
       "      <th>text</th>\n",
       "    </tr>\n",
       "  </thead>\n",
       "  <tbody>\n",
       "    <tr>\n",
       "      <th>0</th>\n",
       "      <td>1476045</td>\n",
       "      <td>False</td>\n",
       "      <td>train</td>\n",
       "      <td>Chatham Lodging Trust is a REIT that invests i...</td>\n",
       "    </tr>\n",
       "    <tr>\n",
       "      <th>1</th>\n",
       "      <td>92352903</td>\n",
       "      <td>True</td>\n",
       "      <td>train</td>\n",
       "      <td>A cooperative bankshares corporation.  The com...</td>\n",
       "    </tr>\n",
       "    <tr>\n",
       "      <th>2</th>\n",
       "      <td>833829</td>\n",
       "      <td>False</td>\n",
       "      <td>train</td>\n",
       "      <td>Wind River, a global leader in Device Software...</td>\n",
       "    </tr>\n",
       "    <tr>\n",
       "      <th>3</th>\n",
       "      <td>914789</td>\n",
       "      <td>False</td>\n",
       "      <td>train</td>\n",
       "      <td>- Reported a 20% increase in revenue, driven b...</td>\n",
       "    </tr>\n",
       "    <tr>\n",
       "      <th>4</th>\n",
       "      <td>853816</td>\n",
       "      <td>False</td>\n",
       "      <td>train</td>\n",
       "      <td>Landstar System, Inc. is an asset-light provid...</td>\n",
       "    </tr>\n",
       "  </tbody>\n",
       "</table>\n",
       "</div>"
      ]
     },
     "execution_count": 9,
     "metadata": {},
     "output_type": "execute_result"
    }
   ],
   "execution_count": 9
  },
  {
   "metadata": {
    "ExecuteTime": {
     "end_time": "2024-09-12T15:17:07.771398Z",
     "start_time": "2024-09-12T15:17:07.186186Z"
    }
   },
   "cell_type": "code",
   "source": [
    "# we taking only negative example, because in original dataset only 74 examples were positive\n",
    "textual_dataset_negative = textual_dataset[textual_dataset['label'] == False]\n",
    "\n",
    "all_texts_total_keywords = []\n",
    "for text, cik in tqdm(zip(textual_dataset_negative['text'].values, textual_dataset_negative['cik'].values)):\n",
    "    keyword_counts = {keyword: text.count(keyword) for keyword in financial_keywords}\n",
    "    total_keywords = sum(keyword_counts.values())\n",
    "    # print(f\"Text: {text[:50]}... Total Financial Keywords: {total_keywords}\")\n",
    "    all_texts_total_keywords.append({cik: total_keywords})\n",
    "    \n",
    "all_texts_total_keywords_counts = [list(item.values())[0] for item in all_texts_total_keywords]"
   ],
   "id": "e5ea74aa3e87d7de",
   "outputs": [
    {
     "name": "stderr",
     "output_type": "stream",
     "text": [
      "4392it [00:00, 7750.85it/s]\n"
     ]
    }
   ],
   "execution_count": 14
  },
  {
   "metadata": {
    "ExecuteTime": {
     "end_time": "2024-09-12T15:17:36.767726Z",
     "start_time": "2024-09-12T15:17:36.759249Z"
    }
   },
   "cell_type": "code",
   "source": [
    "# get the number of texts with 5 or less financial keywords\n",
    "[item for item in all_texts_total_keywords if list(item.values())[0] <= 5]"
   ],
   "id": "bd8b692b04705bf3",
   "outputs": [
    {
     "data": {
      "text/plain": [
       "[{858655: 4},\n",
       " {921183: 5},\n",
       " {1397187: 5},\n",
       " {1351288: 5},\n",
       " {1552451: 5},\n",
       " {1293971: 5},\n",
       " {1679082: 3},\n",
       " {882796: 5},\n",
       " {1389170: 5},\n",
       " {1571498: 4},\n",
       " {19353: 4},\n",
       " {756502: 3},\n",
       " {1576263: 3},\n",
       " {1326732: 4},\n",
       " {840264: 5},\n",
       " {1597264: 3},\n",
       " {1129446: 5},\n",
       " {1011835: 5},\n",
       " {1426332: 2},\n",
       " {887637: 3},\n",
       " {914735: 5}]"
      ]
     },
     "execution_count": 16,
     "metadata": {},
     "output_type": "execute_result"
    }
   ],
   "execution_count": 16
  },
  {
   "metadata": {
    "ExecuteTime": {
     "end_time": "2024-09-12T15:26:07.019849Z",
     "start_time": "2024-09-12T15:26:07.011941Z"
    }
   },
   "cell_type": "code",
   "source": "textual_dataset[textual_dataset['cik'] == 1426332]['text'].values",
   "id": "6abbdf37c2da1f56",
   "outputs": [
    {
     "data": {
      "text/plain": [
       "array([\"The company is a clinical-stage biopharmaceutical company with no products approved for sale and has incurred net losses since inception. The company's most advanced product candidate, aldafermin, is in Phase 2b development for NASH treatment. The company collaborates with Merck, which has provided significant funding and holds a 19.9% ownership stake. Revenue is primarily generated from collaboration agreements, mainly with Merck, and fluctuates based on the timing of research and development activities and license fees. Research and development expenses are increasing due to clinical trials for aldafermin, NGM395, and other programs, while general and administrative expenses are rising because of increased headcount, public company costs, and potential commercialization activities. The company relies heavily on external funding and believes current cash, along with the Merck collaboration, will suffice for the next 12 months. Key risks include dependence on Merck, successful product development, securing additional funding, and managing increasing operating expenses.  \"],\n",
       "      dtype=object)"
      ]
     },
     "execution_count": 23,
     "metadata": {},
     "output_type": "execute_result"
    }
   ],
   "execution_count": 23
  },
  {
   "metadata": {
    "ExecuteTime": {
     "end_time": "2024-09-12T15:22:47.664278Z",
     "start_time": "2024-09-12T15:22:47.523232Z"
    }
   },
   "cell_type": "code",
   "source": [
    "import matplotlib.pyplot as plt\n",
    "\n",
    "plt.hist(all_texts_total_keywords_counts, bins=40)\n",
    "plt.title('Histogram liczby finansowych słów kluczowych')\n",
    "plt.xlabel('Liczba słów kluczowych')\n",
    "plt.ylabel('Liczba tekstów')\n",
    "plt.show()"
   ],
   "id": "daf96ed18bff0151",
   "outputs": [
    {
     "data": {
      "text/plain": [
       "<Figure size 640x480 with 1 Axes>"
      ],
      "image/png": "[encoded data removed]"
     },
     "metadata": {},
     "output_type": "display_data"
    }
   ],
   "execution_count": 20
  },
  {
   "metadata": {
    "ExecuteTime": {
     "end_time": "2024-09-12T15:29:36.397348Z",
     "start_time": "2024-09-12T15:29:33.597639Z"
    }
   },
   "cell_type": "code",
   "source": [
    "from collections import Counter\n",
    "\n",
    "all_words = []\n",
    "for text in textual_dataset_negative['text']:\n",
    "    words = [word for word in text.split()]\n",
    "    all_words.extend(words)\n",
    "    \n",
    "stopwords = nltk.corpus.stopwords.words('english')\n",
    "all_words = [w for w in all_words if w not in stopwords and len(w) >3]\n",
    "word_counts = Counter(all_words)\n",
    "word_counts.most_common(10)"
   ],
   "id": "be590e97de634ec0",
   "outputs": [
    {
     "data": {
      "text/plain": [
       "[('company', 17543),\n",
       " ('million', 8175),\n",
       " ('increased', 7254),\n",
       " ('cash', 5918),\n",
       " ('revenue', 5371),\n",
       " ('growth', 4913),\n",
       " ('income', 4835),\n",
       " (\"company's\", 4661),\n",
       " ('operating', 4299),\n",
       " ('capital', 4218)]"
      ]
     },
     "execution_count": 26,
     "metadata": {},
     "output_type": "execute_result"
    }
   ],
   "execution_count": 26
  },
  {
   "metadata": {
    "ExecuteTime": {
     "end_time": "2024-09-12T15:31:30.055831Z",
     "start_time": "2024-09-12T15:31:29.807194Z"
    }
   },
   "cell_type": "code",
   "source": [
    "# present 20 most common words on the plot\n",
    "most_common_words = word_counts.most_common(20)\n",
    "words = [item[0] for item in most_common_words]\n",
    "counts = [item[1] for item in most_common_words]\n",
    "\n",
    "plt.bar(words, counts)\n",
    "# set width and height of plot\n",
    "fig = plt.gcf()\n",
    "fig.set_size_inches(18.5, 10.5)\n",
    "plt.xticks(rotation=45)\n",
    "plt.title('20 najczęściej występujących słów')\n",
    "plt.xlabel('Słowo')\n",
    "plt.ylabel('Liczba wystąpień')\n",
    "plt.show()"
   ],
   "id": "1187ddab2f7fa5e0",
   "outputs": [
    {
     "data": {
      "text/plain": [
       "<Figure size 1850x1050 with 1 Axes>"
      ],
      "image/png": "[encoded data removed]"
     },
     "metadata": {},
     "output_type": "display_data"
    }
   ],
   "execution_count": 28
  },
  {
   "metadata": {
    "ExecuteTime": {
     "end_time": "2024-09-05T17:14:29.175061Z",
     "start_time": "2024-09-05T17:14:29.034939Z"
    }
   },
   "cell_type": "code",
   "source": [
    "df_bankrupt_companies = pd.read_csv('bankrupt_companies_with_17_variables_5_years_version2_split_matched_with_reports.csv')\n",
    "\n",
    "df_bankrupt_companies.head()"
   ],
   "id": "f695788e915896d9",
   "outputs": [
    {
     "data": {
      "text/plain": [
       "       cik subset ticker  label Fiscal Period  Cost of Goods Sold  \\\n",
       "0  1113232  train   ACLS  False      Dec 2016               167.0   \n",
       "1  1113232  train   ACLS  False      Dec 2017               260.0   \n",
       "2  1113232  train   ACLS  False      Dec 2018               263.0   \n",
       "3  1113232  train   ACLS  False      Dec 2019               199.0   \n",
       "4  1113232  train   ACLS  False      Dec 2020               276.0   \n",
       "\n",
       "   Depreciation, Depletion and Amortization  EBIT  EBITDA  Gross Profit  ...  \\\n",
       "0                                       4.0  16.0    20.0         100.0  ...   \n",
       "1                                       5.0  49.0    54.0         150.0  ...   \n",
       "2                                       6.0  60.0    66.0         180.0  ...   \n",
       "3                                       8.0  26.0    34.0         144.0  ...   \n",
       "4                                      10.0  61.0    71.0         199.0  ...   \n",
       "\n",
       "   Net Income  Retained Earnings  Revenue  Total Assets  Total Current Assets  \\\n",
       "0        11.0             -332.0    267.0         302.0                 241.0   \n",
       "1       127.0             -205.0    411.0         488.0                 340.0   \n",
       "2        46.0             -157.0    443.0         548.0                 397.0   \n",
       "3        17.0             -140.0    343.0         548.0                 376.0   \n",
       "4        50.0              -92.0    475.0         625.0                 471.0   \n",
       "\n",
       "   Total Current Liabilities  Total Inventories  Total Liabilities  \\\n",
       "0                       48.0              114.0              101.0   \n",
       "1                       79.0              121.0              135.0   \n",
       "2                       85.0              129.0              140.0   \n",
       "3                       69.0              140.0              129.0   \n",
       "4                       84.0              161.0              143.0   \n",
       "\n",
       "   Total Operating Expense  Total Receivables  \n",
       "0                     83.0               51.0  \n",
       "1                    102.0               75.0  \n",
       "2                    120.0               79.0  \n",
       "3                    120.0               84.0  \n",
       "4                    141.0               87.0  \n",
       "\n",
       "[5 rows x 22 columns]"
      ],
      "text/html": [
       "<div>\n",
       "<style scoped>\n",
       "    .dataframe tbody tr th:only-of-type {\n",
       "        vertical-align: middle;\n",
       "    }\n",
       "\n",
       "    .dataframe tbody tr th {\n",
       "        vertical-align: top;\n",
       "    }\n",
       "\n",
       "    .dataframe thead th {\n",
       "        text-align: right;\n",
       "    }\n",
       "</style>\n",
       "<table border=\"1\" class=\"dataframe\">\n",
       "  <thead>\n",
       "    <tr style=\"text-align: right;\">\n",
       "      <th></th>\n",
       "      <th>cik</th>\n",
       "      <th>subset</th>\n",
       "      <th>ticker</th>\n",
       "      <th>label</th>\n",
       "      <th>Fiscal Period</th>\n",
       "      <th>Cost of Goods Sold</th>\n",
       "      <th>Depreciation, Depletion and Amortization</th>\n",
       "      <th>EBIT</th>\n",
       "      <th>EBITDA</th>\n",
       "      <th>Gross Profit</th>\n",
       "      <th>...</th>\n",
       "      <th>Net Income</th>\n",
       "      <th>Retained Earnings</th>\n",
       "      <th>Revenue</th>\n",
       "      <th>Total Assets</th>\n",
       "      <th>Total Current Assets</th>\n",
       "      <th>Total Current Liabilities</th>\n",
       "      <th>Total Inventories</th>\n",
       "      <th>Total Liabilities</th>\n",
       "      <th>Total Operating Expense</th>\n",
       "      <th>Total Receivables</th>\n",
       "    </tr>\n",
       "  </thead>\n",
       "  <tbody>\n",
       "    <tr>\n",
       "      <th>0</th>\n",
       "      <td>1113232</td>\n",
       "      <td>train</td>\n",
       "      <td>ACLS</td>\n",
       "      <td>False</td>\n",
       "      <td>Dec 2016</td>\n",
       "      <td>167.0</td>\n",
       "      <td>4.0</td>\n",
       "      <td>16.0</td>\n",
       "      <td>20.0</td>\n",
       "      <td>100.0</td>\n",
       "      <td>...</td>\n",
       "      <td>11.0</td>\n",
       "      <td>-332.0</td>\n",
       "      <td>267.0</td>\n",
       "      <td>302.0</td>\n",
       "      <td>241.0</td>\n",
       "      <td>48.0</td>\n",
       "      <td>114.0</td>\n",
       "      <td>101.0</td>\n",
       "      <td>83.0</td>\n",
       "      <td>51.0</td>\n",
       "    </tr>\n",
       "    <tr>\n",
       "      <th>1</th>\n",
       "      <td>1113232</td>\n",
       "      <td>train</td>\n",
       "      <td>ACLS</td>\n",
       "      <td>False</td>\n",
       "      <td>Dec 2017</td>\n",
       "      <td>260.0</td>\n",
       "      <td>5.0</td>\n",
       "      <td>49.0</td>\n",
       "      <td>54.0</td>\n",
       "      <td>150.0</td>\n",
       "      <td>...</td>\n",
       "      <td>127.0</td>\n",
       "      <td>-205.0</td>\n",
       "      <td>411.0</td>\n",
       "      <td>488.0</td>\n",
       "      <td>340.0</td>\n",
       "      <td>79.0</td>\n",
       "      <td>121.0</td>\n",
       "      <td>135.0</td>\n",
       "      <td>102.0</td>\n",
       "      <td>75.0</td>\n",
       "    </tr>\n",
       "    <tr>\n",
       "      <th>2</th>\n",
       "      <td>1113232</td>\n",
       "      <td>train</td>\n",
       "      <td>ACLS</td>\n",
       "      <td>False</td>\n",
       "      <td>Dec 2018</td>\n",
       "      <td>263.0</td>\n",
       "      <td>6.0</td>\n",
       "      <td>60.0</td>\n",
       "      <td>66.0</td>\n",
       "      <td>180.0</td>\n",
       "      <td>...</td>\n",
       "      <td>46.0</td>\n",
       "      <td>-157.0</td>\n",
       "      <td>443.0</td>\n",
       "      <td>548.0</td>\n",
       "      <td>397.0</td>\n",
       "      <td>85.0</td>\n",
       "      <td>129.0</td>\n",
       "      <td>140.0</td>\n",
       "      <td>120.0</td>\n",
       "      <td>79.0</td>\n",
       "    </tr>\n",
       "    <tr>\n",
       "      <th>3</th>\n",
       "      <td>1113232</td>\n",
       "      <td>train</td>\n",
       "      <td>ACLS</td>\n",
       "      <td>False</td>\n",
       "      <td>Dec 2019</td>\n",
       "      <td>199.0</td>\n",
       "      <td>8.0</td>\n",
       "      <td>26.0</td>\n",
       "      <td>34.0</td>\n",
       "      <td>144.0</td>\n",
       "      <td>...</td>\n",
       "      <td>17.0</td>\n",
       "      <td>-140.0</td>\n",
       "      <td>343.0</td>\n",
       "      <td>548.0</td>\n",
       "      <td>376.0</td>\n",
       "      <td>69.0</td>\n",
       "      <td>140.0</td>\n",
       "      <td>129.0</td>\n",
       "      <td>120.0</td>\n",
       "      <td>84.0</td>\n",
       "    </tr>\n",
       "    <tr>\n",
       "      <th>4</th>\n",
       "      <td>1113232</td>\n",
       "      <td>train</td>\n",
       "      <td>ACLS</td>\n",
       "      <td>False</td>\n",
       "      <td>Dec 2020</td>\n",
       "      <td>276.0</td>\n",
       "      <td>10.0</td>\n",
       "      <td>61.0</td>\n",
       "      <td>71.0</td>\n",
       "      <td>199.0</td>\n",
       "      <td>...</td>\n",
       "      <td>50.0</td>\n",
       "      <td>-92.0</td>\n",
       "      <td>475.0</td>\n",
       "      <td>625.0</td>\n",
       "      <td>471.0</td>\n",
       "      <td>84.0</td>\n",
       "      <td>161.0</td>\n",
       "      <td>143.0</td>\n",
       "      <td>141.0</td>\n",
       "      <td>87.0</td>\n",
       "    </tr>\n",
       "  </tbody>\n",
       "</table>\n",
       "<p>5 rows × 22 columns</p>\n",
       "</div>"
      ]
     },
     "execution_count": 11,
     "metadata": {},
     "output_type": "execute_result"
    }
   ],
   "execution_count": 11
  },
  {
   "metadata": {
    "ExecuteTime": {
     "end_time": "2024-09-05T17:14:39.468443Z",
     "start_time": "2024-09-05T17:14:39.447033Z"
    }
   },
   "cell_type": "code",
   "source": "len(df_bankrupt_companies)",
   "id": "a14b5ced27b48f97",
   "outputs": [
    {
     "data": {
      "text/plain": [
       "16840"
      ]
     },
     "execution_count": 12,
     "metadata": {},
     "output_type": "execute_result"
    }
   ],
   "execution_count": 12
  },
  {
   "metadata": {
    "ExecuteTime": {
     "end_time": "2024-06-06T13:31:06.091878Z",
     "start_time": "2024-06-06T13:31:06.082003Z"
    }
   },
   "cell_type": "code",
   "source": [
    "df_bankrupt_companies_unique = df_bankrupt_companies.drop_duplicates(subset=['cik'])\n",
    "len(df_bankrupt_companies_unique)"
   ],
   "id": "3a3856853ce68ee",
   "outputs": [
    {
     "data": {
      "text/plain": [
       "3368"
      ]
     },
     "execution_count": 16,
     "metadata": {},
     "output_type": "execute_result"
    }
   ],
   "execution_count": 16
  },
  {
   "metadata": {
    "ExecuteTime": {
     "end_time": "2024-06-06T13:31:10.144610Z",
     "start_time": "2024-06-06T13:31:10.130411Z"
    }
   },
   "cell_type": "code",
   "source": [
    "# get three columns: ciks, labels, subset\n",
    "df_bankrupt_companies_unique = df_bankrupt_companies_unique[['cik', 'label', 'subset']]\n",
    "df_bankrupt_companies_unique.head()"
   ],
   "id": "8b3dc395b6cd1e5c",
   "outputs": [
    {
     "data": {
      "text/plain": [
       "        cik  label subset\n",
       "0   1113232  False  train\n",
       "5   1066605  False  train\n",
       "10  1037975  False  train\n",
       "15  1210697  False  train\n",
       "20   866787  False  train"
      ],
      "text/html": [
       "<div>\n",
       "<style scoped>\n",
       "    .dataframe tbody tr th:only-of-type {\n",
       "        vertical-align: middle;\n",
       "    }\n",
       "\n",
       "    .dataframe tbody tr th {\n",
       "        vertical-align: top;\n",
       "    }\n",
       "\n",
       "    .dataframe thead th {\n",
       "        text-align: right;\n",
       "    }\n",
       "</style>\n",
       "<table border=\"1\" class=\"dataframe\">\n",
       "  <thead>\n",
       "    <tr style=\"text-align: right;\">\n",
       "      <th></th>\n",
       "      <th>cik</th>\n",
       "      <th>label</th>\n",
       "      <th>subset</th>\n",
       "    </tr>\n",
       "  </thead>\n",
       "  <tbody>\n",
       "    <tr>\n",
       "      <th>0</th>\n",
       "      <td>1113232</td>\n",
       "      <td>False</td>\n",
       "      <td>train</td>\n",
       "    </tr>\n",
       "    <tr>\n",
       "      <th>5</th>\n",
       "      <td>1066605</td>\n",
       "      <td>False</td>\n",
       "      <td>train</td>\n",
       "    </tr>\n",
       "    <tr>\n",
       "      <th>10</th>\n",
       "      <td>1037975</td>\n",
       "      <td>False</td>\n",
       "      <td>train</td>\n",
       "    </tr>\n",
       "    <tr>\n",
       "      <th>15</th>\n",
       "      <td>1210697</td>\n",
       "      <td>False</td>\n",
       "      <td>train</td>\n",
       "    </tr>\n",
       "    <tr>\n",
       "      <th>20</th>\n",
       "      <td>866787</td>\n",
       "      <td>False</td>\n",
       "      <td>train</td>\n",
       "    </tr>\n",
       "  </tbody>\n",
       "</table>\n",
       "</div>"
      ]
     },
     "execution_count": 17,
     "metadata": {},
     "output_type": "execute_result"
    }
   ],
   "execution_count": 17
  },
  {
   "metadata": {
    "ExecuteTime": {
     "end_time": "2024-06-06T13:31:18.653420Z",
     "start_time": "2024-06-06T13:31:18.631135Z"
    }
   },
   "cell_type": "code",
   "source": [
    "# add to the textual data the labels and subsets\n",
    "df = pd.merge(df, df_bankrupt_companies_unique, on='cik', how='left')\n",
    "df.head()"
   ],
   "id": "afadc7dcacbc6add",
   "outputs": [
    {
     "data": {
      "text/plain": [
       "       cik                                               text  label subset\n",
       "0  1000180  The company is a global leader in NAND flash s...  False  train\n",
       "1  1000228  The company, Henry Schein, is the world's larg...  False  train\n",
       "2  1000694  Novavax is a clinical-stage biotechnology comp...  False  train\n",
       "3  1000697  The company's net sales decreased by 1% in 201...  False  train\n",
       "4  1000736  The company is one of the largest pharmaceutic...  False  train"
      ],
      "text/html": [
       "<div>\n",
       "<style scoped>\n",
       "    .dataframe tbody tr th:only-of-type {\n",
       "        vertical-align: middle;\n",
       "    }\n",
       "\n",
       "    .dataframe tbody tr th {\n",
       "        vertical-align: top;\n",
       "    }\n",
       "\n",
       "    .dataframe thead th {\n",
       "        text-align: right;\n",
       "    }\n",
       "</style>\n",
       "<table border=\"1\" class=\"dataframe\">\n",
       "  <thead>\n",
       "    <tr style=\"text-align: right;\">\n",
       "      <th></th>\n",
       "      <th>cik</th>\n",
       "      <th>text</th>\n",
       "      <th>label</th>\n",
       "      <th>subset</th>\n",
       "    </tr>\n",
       "  </thead>\n",
       "  <tbody>\n",
       "    <tr>\n",
       "      <th>0</th>\n",
       "      <td>1000180</td>\n",
       "      <td>The company is a global leader in NAND flash s...</td>\n",
       "      <td>False</td>\n",
       "      <td>train</td>\n",
       "    </tr>\n",
       "    <tr>\n",
       "      <th>1</th>\n",
       "      <td>1000228</td>\n",
       "      <td>The company, Henry Schein, is the world's larg...</td>\n",
       "      <td>False</td>\n",
       "      <td>train</td>\n",
       "    </tr>\n",
       "    <tr>\n",
       "      <th>2</th>\n",
       "      <td>1000694</td>\n",
       "      <td>Novavax is a clinical-stage biotechnology comp...</td>\n",
       "      <td>False</td>\n",
       "      <td>train</td>\n",
       "    </tr>\n",
       "    <tr>\n",
       "      <th>3</th>\n",
       "      <td>1000697</td>\n",
       "      <td>The company's net sales decreased by 1% in 201...</td>\n",
       "      <td>False</td>\n",
       "      <td>train</td>\n",
       "    </tr>\n",
       "    <tr>\n",
       "      <th>4</th>\n",
       "      <td>1000736</td>\n",
       "      <td>The company is one of the largest pharmaceutic...</td>\n",
       "      <td>False</td>\n",
       "      <td>train</td>\n",
       "    </tr>\n",
       "  </tbody>\n",
       "</table>\n",
       "</div>"
      ]
     },
     "execution_count": 18,
     "metadata": {},
     "output_type": "execute_result"
    }
   ],
   "execution_count": 18
  },
  {
   "metadata": {
    "ExecuteTime": {
     "end_time": "2024-06-06T13:31:25.416030Z",
     "start_time": "2024-06-06T13:31:25.410894Z"
    }
   },
   "cell_type": "code",
   "source": [
    "# rearrange the columns\n",
    "df = df[['cik', 'label', 'subset', 'text']]"
   ],
   "id": "cbc35e993da71923",
   "outputs": [],
   "execution_count": 19
  },
  {
   "metadata": {
    "ExecuteTime": {
     "end_time": "2024-06-06T13:31:36.629626Z",
     "start_time": "2024-06-06T13:31:36.553954Z"
    }
   },
   "cell_type": "code",
   "source": "df.to_csv('textual_data_matched_with_fin_data_with_labels_split.csv', index=False)",
   "id": "ccaa9d23dacb3078",
   "outputs": [],
   "execution_count": 20
  },
  {
   "metadata": {
    "ExecuteTime": {
     "end_time": "2024-06-06T13:32:17.998129Z",
     "start_time": "2024-06-06T13:32:17.983250Z"
    }
   },
   "cell_type": "code",
   "source": "df.value_counts('label', normalize=True)",
   "id": "1b606995047b028",
   "outputs": [
    {
     "data": {
      "text/plain": [
       "label\n",
       "False    0.97981\n",
       "True     0.02019\n",
       "Name: proportion, dtype: float64"
      ]
     },
     "execution_count": 21,
     "metadata": {},
     "output_type": "execute_result"
    }
   ],
   "execution_count": 21
  },
  {
   "metadata": {
    "ExecuteTime": {
     "end_time": "2024-06-01T09:34:57.091156Z",
     "start_time": "2024-06-01T09:34:57.075810Z"
    }
   },
   "cell_type": "code",
   "source": "df_numerical = df_bankrupt_companies[df_bankrupt_companies['cik'].isin(df['cik'])]",
   "id": "eca0a19af6a5adec",
   "outputs": [],
   "execution_count": 23
  },
  {
   "metadata": {
    "ExecuteTime": {
     "end_time": "2024-06-01T09:35:00.206344Z",
     "start_time": "2024-06-01T09:35:00.182488Z"
    }
   },
   "cell_type": "code",
   "source": "df_numerical.head()",
   "id": "cf9206336897e1fd",
   "outputs": [
    {
     "data": {
      "text/plain": [
       "       cik subset ticker  label Fiscal Period  Cost of Goods Sold  \\\n",
       "0  1113232  train   ACLS  False      Dec 2016               167.0   \n",
       "1  1113232  train   ACLS  False      Dec 2017               260.0   \n",
       "2  1113232  train   ACLS  False      Dec 2018               263.0   \n",
       "3  1113232  train   ACLS  False      Dec 2019               199.0   \n",
       "4  1113232  train   ACLS  False      Dec 2020               276.0   \n",
       "\n",
       "   Depreciation, Depletion and Amortization  EBIT  EBITDA  Gross Profit  ...  \\\n",
       "0                                       4.0  16.0    20.0         100.0  ...   \n",
       "1                                       5.0  49.0    54.0         150.0  ...   \n",
       "2                                       6.0  60.0    66.0         180.0  ...   \n",
       "3                                       8.0  26.0    34.0         144.0  ...   \n",
       "4                                      10.0  61.0    71.0         199.0  ...   \n",
       "\n",
       "   Net Income  Retained Earnings  Revenue  Total Assets  Total Current Assets  \\\n",
       "0        11.0             -332.0    267.0         302.0                 241.0   \n",
       "1       127.0             -205.0    411.0         488.0                 340.0   \n",
       "2        46.0             -157.0    443.0         548.0                 397.0   \n",
       "3        17.0             -140.0    343.0         548.0                 376.0   \n",
       "4        50.0              -92.0    475.0         625.0                 471.0   \n",
       "\n",
       "   Total Current Liabilities  Total Inventories  Total Liabilities  \\\n",
       "0                       48.0              114.0              101.0   \n",
       "1                       79.0              121.0              135.0   \n",
       "2                       85.0              129.0              140.0   \n",
       "3                       69.0              140.0              129.0   \n",
       "4                       84.0              161.0              143.0   \n",
       "\n",
       "   Total Operating Expense  Total Receivables  \n",
       "0                     83.0               51.0  \n",
       "1                    102.0               75.0  \n",
       "2                    120.0               79.0  \n",
       "3                    120.0               84.0  \n",
       "4                    141.0               87.0  \n",
       "\n",
       "[5 rows x 22 columns]"
      ],
      "text/html": [
       "<div>\n",
       "<style scoped>\n",
       "    .dataframe tbody tr th:only-of-type {\n",
       "        vertical-align: middle;\n",
       "    }\n",
       "\n",
       "    .dataframe tbody tr th {\n",
       "        vertical-align: top;\n",
       "    }\n",
       "\n",
       "    .dataframe thead th {\n",
       "        text-align: right;\n",
       "    }\n",
       "</style>\n",
       "<table border=\"1\" class=\"dataframe\">\n",
       "  <thead>\n",
       "    <tr style=\"text-align: right;\">\n",
       "      <th></th>\n",
       "      <th>cik</th>\n",
       "      <th>subset</th>\n",
       "      <th>ticker</th>\n",
       "      <th>label</th>\n",
       "      <th>Fiscal Period</th>\n",
       "      <th>Cost of Goods Sold</th>\n",
       "      <th>Depreciation, Depletion and Amortization</th>\n",
       "      <th>EBIT</th>\n",
       "      <th>EBITDA</th>\n",
       "      <th>Gross Profit</th>\n",
       "      <th>...</th>\n",
       "      <th>Net Income</th>\n",
       "      <th>Retained Earnings</th>\n",
       "      <th>Revenue</th>\n",
       "      <th>Total Assets</th>\n",
       "      <th>Total Current Assets</th>\n",
       "      <th>Total Current Liabilities</th>\n",
       "      <th>Total Inventories</th>\n",
       "      <th>Total Liabilities</th>\n",
       "      <th>Total Operating Expense</th>\n",
       "      <th>Total Receivables</th>\n",
       "    </tr>\n",
       "  </thead>\n",
       "  <tbody>\n",
       "    <tr>\n",
       "      <th>0</th>\n",
       "      <td>1113232</td>\n",
       "      <td>train</td>\n",
       "      <td>ACLS</td>\n",
       "      <td>False</td>\n",
       "      <td>Dec 2016</td>\n",
       "      <td>167.0</td>\n",
       "      <td>4.0</td>\n",
       "      <td>16.0</td>\n",
       "      <td>20.0</td>\n",
       "      <td>100.0</td>\n",
       "      <td>...</td>\n",
       "      <td>11.0</td>\n",
       "      <td>-332.0</td>\n",
       "      <td>267.0</td>\n",
       "      <td>302.0</td>\n",
       "      <td>241.0</td>\n",
       "      <td>48.0</td>\n",
       "      <td>114.0</td>\n",
       "      <td>101.0</td>\n",
       "      <td>83.0</td>\n",
       "      <td>51.0</td>\n",
       "    </tr>\n",
       "    <tr>\n",
       "      <th>1</th>\n",
       "      <td>1113232</td>\n",
       "      <td>train</td>\n",
       "      <td>ACLS</td>\n",
       "      <td>False</td>\n",
       "      <td>Dec 2017</td>\n",
       "      <td>260.0</td>\n",
       "      <td>5.0</td>\n",
       "      <td>49.0</td>\n",
       "      <td>54.0</td>\n",
       "      <td>150.0</td>\n",
       "      <td>...</td>\n",
       "      <td>127.0</td>\n",
       "      <td>-205.0</td>\n",
       "      <td>411.0</td>\n",
       "      <td>488.0</td>\n",
       "      <td>340.0</td>\n",
       "      <td>79.0</td>\n",
       "      <td>121.0</td>\n",
       "      <td>135.0</td>\n",
       "      <td>102.0</td>\n",
       "      <td>75.0</td>\n",
       "    </tr>\n",
       "    <tr>\n",
       "      <th>2</th>\n",
       "      <td>1113232</td>\n",
       "      <td>train</td>\n",
       "      <td>ACLS</td>\n",
       "      <td>False</td>\n",
       "      <td>Dec 2018</td>\n",
       "      <td>263.0</td>\n",
       "      <td>6.0</td>\n",
       "      <td>60.0</td>\n",
       "      <td>66.0</td>\n",
       "      <td>180.0</td>\n",
       "      <td>...</td>\n",
       "      <td>46.0</td>\n",
       "      <td>-157.0</td>\n",
       "      <td>443.0</td>\n",
       "      <td>548.0</td>\n",
       "      <td>397.0</td>\n",
       "      <td>85.0</td>\n",
       "      <td>129.0</td>\n",
       "      <td>140.0</td>\n",
       "      <td>120.0</td>\n",
       "      <td>79.0</td>\n",
       "    </tr>\n",
       "    <tr>\n",
       "      <th>3</th>\n",
       "      <td>1113232</td>\n",
       "      <td>train</td>\n",
       "      <td>ACLS</td>\n",
       "      <td>False</td>\n",
       "      <td>Dec 2019</td>\n",
       "      <td>199.0</td>\n",
       "      <td>8.0</td>\n",
       "      <td>26.0</td>\n",
       "      <td>34.0</td>\n",
       "      <td>144.0</td>\n",
       "      <td>...</td>\n",
       "      <td>17.0</td>\n",
       "      <td>-140.0</td>\n",
       "      <td>343.0</td>\n",
       "      <td>548.0</td>\n",
       "      <td>376.0</td>\n",
       "      <td>69.0</td>\n",
       "      <td>140.0</td>\n",
       "      <td>129.0</td>\n",
       "      <td>120.0</td>\n",
       "      <td>84.0</td>\n",
       "    </tr>\n",
       "    <tr>\n",
       "      <th>4</th>\n",
       "      <td>1113232</td>\n",
       "      <td>train</td>\n",
       "      <td>ACLS</td>\n",
       "      <td>False</td>\n",
       "      <td>Dec 2020</td>\n",
       "      <td>276.0</td>\n",
       "      <td>10.0</td>\n",
       "      <td>61.0</td>\n",
       "      <td>71.0</td>\n",
       "      <td>199.0</td>\n",
       "      <td>...</td>\n",
       "      <td>50.0</td>\n",
       "      <td>-92.0</td>\n",
       "      <td>475.0</td>\n",
       "      <td>625.0</td>\n",
       "      <td>471.0</td>\n",
       "      <td>84.0</td>\n",
       "      <td>161.0</td>\n",
       "      <td>143.0</td>\n",
       "      <td>141.0</td>\n",
       "      <td>87.0</td>\n",
       "    </tr>\n",
       "  </tbody>\n",
       "</table>\n",
       "<p>5 rows × 22 columns</p>\n",
       "</div>"
      ]
     },
     "execution_count": 24,
     "metadata": {},
     "output_type": "execute_result"
    }
   ],
   "execution_count": 24
  },
  {
   "metadata": {
    "ExecuteTime": {
     "end_time": "2024-08-30T16:48:53.617012Z",
     "start_time": "2024-08-30T16:48:53.516963Z"
    }
   },
   "cell_type": "code",
   "source": "textual_data_matched_with_fin_data_with_labels_split = pd.read_csv('textual_data_matched_with_fin_data_with_labels_split.csv')",
   "id": "a99b7d96c8e449a7",
   "outputs": [],
   "execution_count": 36
  },
  {
   "metadata": {
    "ExecuteTime": {
     "end_time": "2024-08-30T16:49:03.487605Z",
     "start_time": "2024-08-30T16:49:03.466667Z"
    }
   },
   "cell_type": "code",
   "source": "len(textual_data_matched_with_fin_data_with_labels_split)",
   "id": "4ad4ab5ddd4b6e62",
   "outputs": [
    {
     "data": {
      "text/plain": [
       "3368"
      ]
     },
     "execution_count": 37,
     "metadata": {},
     "output_type": "execute_result"
    }
   ],
   "execution_count": 37
  },
  {
   "metadata": {},
   "cell_type": "code",
   "outputs": [],
   "execution_count": null,
   "source": "",
   "id": "465f740fd28b252d"
  }
 ],
 "metadata": {
  "kernelspec": {
   "display_name": "Python 3",
   "language": "python",
   "name": "python3"
  },
  "language_info": {
   "codemirror_mode": {
    "name": "ipython",
    "version": 2
   },
   "file_extension": ".py",
   "mimetype": "text/x-python",
   "name": "python",
   "nbconvert_exporter": "python",
   "pygments_lexer": "ipython2",
   "version": "2.7.6"
  }
 },
 "nbformat": 4,
 "nbformat_minor": 5
}

{
 "cells": [
  {
   "cell_type": "code",
   "execution_count": null,
   "metadata": {
    "collapsed": true
   },
   "outputs": [],
   "source": [
    "\n",
    "# todo: not working\n",
    "\n",
    "from yahoofinancials import YahooFinancials\n",
    "\n",
    "def get_quarter_data(financial_data, company, quarter_date):\n",
    "    company_data = financial_data[company]\n",
    "    for quarter in company_data:\n",
    "        if quarter_date in quarter:\n",
    "            return quarter[quarter_date]\n",
    "    return {}\n",
    "\n",
    "def calculate_piotroski_fscore(company, quarter_date):\n",
    "    yahoo_financials = YahooFinancials(company)\n",
    "\n",
    "    balance_sheet_data_qt = yahoo_financials.get_financial_stmts('quarterly', 'balance')\n",
    "    income_statement_data_qt = yahoo_financials.get_financial_stmts('quarterly', 'income')\n",
    "    cash_statement_data_qt = yahoo_financials.get_financial_stmts('quarterly', 'cash')\n",
    "\n",
    "    try:\n",
    "        balance_sheet_quarter_data = get_quarter_data(balance_sheet_data_qt['balanceSheetHistoryQuarterly'], company, quarter_date)\n",
    "        income_statement_quarter_data = get_quarter_data(income_statement_data_qt['incomeStatementHistoryQuarterly'], company, quarter_date)\n",
    "        cash_statement_quarter_data = get_quarter_data(cash_statement_data_qt['cashflowStatementHistoryQuarterly'], company, quarter_date)\n",
    "\n",
    "        # Profitability\n",
    "        roa = income_statement_quarter_data['netIncome'] / balance_sheet_quarter_data['totalAssets']  # Return on Assets\n",
    "        cfo = cash_statement_quarter_data['cashFlowFromContinuingOperatingActivities'] / balance_sheet_quarter_data['totalAssets']  # Cash Flow Return\n",
    "        delta_roa = roa - cash_statement_quarter_data['netIncome'] / balance_sheet_quarter_data['totalAssets']  # Change in Return of Assets\n",
    "        accrual = roa - cfo  # Quality of earnings\n",
    "\n",
    "        # Leverage, Liquidity and Source of Funds\n",
    "        delta_lever = (balance_sheet_quarter_data['shortLongTermDebtTotal'] + balance_sheet_quarter_data['longTermDebtTotal']) / balance_sheet_quarter_data['totalAssets'] # Change in Leverage\n",
    "        delta_liquid = balance_sheet_quarter_data['currentRatio']  # Change in Liquidity\n",
    "        eq_offer = income_statement_quarter_data['commonStockIssuance']\n",
    "\n",
    "        # Operating Efficiency\n",
    "        delta_margin = income_statement_quarter_data['grossProfit'] / income_statement_quarter_data['totalRevenue']  # Change in Gross Margin\n",
    "        delta_turn = income_statement_quarter_data['totalRevenue'] / balance_sheet_quarter_data['totalAssets']  # Change in Asset Turnover ratio\n",
    "\n",
    "        # Piotroski f score calculation\n",
    "        f_score = (roa > 0).astype(int) + (cfo > 0).astype(int) + (delta_roa > 0).astype(int) + (accrual < 0).astype(int) \\\n",
    "                  + (delta_lever < 0).astype(int) + (delta_liquid > 0).astype(int) + (eq_offer <= 0).astype(int) \\\n",
    "                  + (delta_margin > 0).astype(int) + (delta_turn > 0).astype(int)\n",
    "\n",
    "        return f_score\n",
    "\n",
    "    except KeyError as e:\n",
    "        print(f\"KeyError occurred: {e}\")\n",
    "        return None\n",
    "\n",
    "company = 'AAPL'\n",
    "quarter_date = '2023-03-31'\n",
    "\n",
    "f_score = calculate_piotroski_fscore(company, quarter_date)\n",
    "\n",
    "if f_score is not None:\n",
    "    print(f\"Piotroski f-score for {company} on {quarter_date} is {f_score}\")\n"
   ]
  }
 ],
 "metadata": {
  "kernelspec": {
   "display_name": "Python 3",
   "language": "python",
   "name": "python3"
  },
  "language_info": {
   "codemirror_mode": {
    "name": "ipython",
    "version": 2
   },
   "file_extension": ".py",
   "mimetype": "text/x-python",
   "name": "python",
   "nbconvert_exporter": "python",
   "pygments_lexer": "ipython2",
   "version": "2.7.6"
  }
 },
 "nbformat": 4,
 "nbformat_minor": 0
}
